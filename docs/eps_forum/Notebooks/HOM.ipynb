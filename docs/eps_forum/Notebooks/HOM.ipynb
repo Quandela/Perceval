{
 "cells": [
  {
   "cell_type": "markdown",
   "id": "b1724d78",
   "metadata": {
    "pycharm": {
     "name": "#%% md\n"
    }
   },
   "source": [
    "# HOM notebook"
   ]
  },
  {
   "cell_type": "markdown",
   "id": "4d7f17fb",
   "metadata": {
    "pycharm": {
     "name": "#%% md\n"
    }
   },
   "source": [
    "The objective of the notebook is to test the indistinguishability of photons. We want if two photons are sent, will they necessarily arrive on the same side? Are they indistinguishable like you can see on this animation:"
   ]
  },
  {
   "cell_type": "markdown",
   "id": "0150acb3",
   "metadata": {
    "pycharm": {
     "name": "#%% md\n"
    }
   },
   "source": [
    "![Hong-Ou-Mandel effect](./HOM2.gif)"
   ]
  },
  {
   "cell_type": "markdown",
   "id": "16148d77",
   "metadata": {
    "pycharm": {
     "name": "#%% md\n"
    }
   },
   "source": [
    "In the first place, we need to import all the libraries we will use in this notebook:"
   ]
  },
  {
   "cell_type": "code",
   "execution_count": 1,
   "id": "3437b2cd",
   "metadata": {
    "pycharm": {
     "name": "#%%\n"
    }
   },
   "outputs": [],
   "source": [
    "import numpy as np\n",
    "import matplotlib.pyplot as plt\n",
    "\n",
    "import perceval as pcvl\n",
    "import perceval.lib.phys as phys"
   ]
  },
  {
   "cell_type": "markdown",
   "id": "74fdbf7e",
   "metadata": {
    "pycharm": {
     "name": "#%% md\n"
    }
   },
   "source": [
    "### Introduction"
   ]
  },
  {
   "cell_type": "markdown",
   "id": "1f70e064",
   "metadata": {
    "pycharm": {
     "name": "#%% md\n"
    }
   },
   "source": [
    "We are going to use a backend to simulate the behaviour of our optical device.\n",
    "In Perceval, four backends are implemented. We are going to use one of those : The `Naive` backend.\n",
    "\n",
    "This back-end implements direct permanent calculation and is therefore suited for single output probability computation with small memory cost. We use `CircuitAnalyser` to analyse the performance of the gate."
   ]
  },
  {
   "cell_type": "markdown",
   "id": "5dab0cbe",
   "metadata": {
    "pycharm": {
     "name": "#%% md\n"
    }
   },
   "source": [
    "The next cell allows us to call this `Naive` backend:"
   ]
  },
  {
   "cell_type": "code",
   "execution_count": 12,
   "id": "469be058",
   "metadata": {
    "pycharm": {
     "name": "#%%\n"
    }
   },
   "outputs": [],
   "source": [
    "simulator_backend = pcvl.BackendFactory().get_backend('Naive')"
   ]
  },
  {
   "cell_type": "markdown",
   "id": "4701efd2",
   "metadata": {
    "pycharm": {
     "name": "#%% md\n"
    }
   },
   "source": [
    "We will call the input `input_state` and create a `BasicState` from the Perceval library with one photon on the first branch and the another photon on the second branch of the circuit."
   ]
  },
  {
   "cell_type": "code",
   "execution_count": 17,
   "id": "c0803444",
   "metadata": {
    "pycharm": {
     "name": "#%%\n"
    }
   },
   "outputs": [],
   "source": [
    "input_state=pcvl.BasicState(\"|1,1>\")"
   ]
  },
  {
   "cell_type": "markdown",
   "id": "34d35a0e",
   "metadata": {
    "pycharm": {
     "name": "#%% md\n"
    }
   },
   "source": [
    "We will start by displaying one of the main components of the circuit that interests us: the beam-splitter alias BS"
   ]
  },
  {
   "cell_type": "markdown",
   "id": "00fd348f",
   "metadata": {
    "pycharm": {
     "name": "#%% md\n"
    }
   },
   "source": [
    "To display any components, we use `pdisplay`:\n",
    "\n",
    "Here is an example for the BS: "
   ]
  },
  {
   "cell_type": "code",
   "execution_count": 2,
   "id": "97f841c0",
   "metadata": {
    "pycharm": {
     "name": "#%%\n"
    }
   },
   "outputs": [
    {
     "data": {
      "text/html": [
       "<svg width='156.000000' height='150.000000' viewBox='-3.000000 0.000000 153.000000 150.000000'><path d=\"M 10 25 L 25 25\" fill=\"none\" stroke=\"darkred\" stroke-width=\"3.000000\" stroke-linejoin=\"miter\"/>\n",
       "<text x=\"0.000000\" y=\"25.000000\" font-size=\"6.000000\" text-anchor=\"start\">0</text>\n",
       "<path d=\"M 10 75 L 25 75\" fill=\"none\" stroke=\"darkred\" stroke-width=\"3.000000\" stroke-linejoin=\"miter\"/>\n",
       "<text x=\"0.000000\" y=\"75.000000\" font-size=\"6.000000\" text-anchor=\"start\">1</text>\n",
       "<polyline points=\"25 25 53 25 72 44\" fill=\"transparent\"stroke=\"darkred\" stroke-width=\"3.000000\" stroke-linejoin=\"round\" />\n",
       "<polyline points=\"78 44 97 25 125 25\" fill=\"transparent\"stroke=\"darkred\" stroke-width=\"3.000000\" stroke-linejoin=\"round\" />\n",
       "<polyline points=\"25 75 53 75 72 56\" fill=\"transparent\"stroke=\"darkred\" stroke-width=\"3.000000\" stroke-linejoin=\"round\" />\n",
       "<polyline points=\"78 56 97 75 125 75\" fill=\"transparent\"stroke=\"darkred\" stroke-width=\"3.000000\" stroke-linejoin=\"round\" />\n",
       "<polyline points=\"50 43 100 43 100 57 50 57 50 43\" fill=\"black\" stroke=\"black\" stroke-width=\"1.000000\" stroke_linejoin=\"miter\" />\n",
       "<text x=\"75.000000\" y=\"86.000000\" font-size=\"7.000000\" text-anchor=\"middle\"></text>\n",
       "<text x=\"75.000000\" y=\"26.000000\" font-size=\"7.000000\" text-anchor=\"middle\"></text>\n",
       "<polyline points=\"50 43 100 43 100 47 50 47 50 43\" fill=\"lightgray\" stroke=\"black\" stroke-width=\"1.000000\" stroke_linejoin=\"miter\" />\n",
       "<path d=\"M 125 25 L 140 25\" fill=\"none\" stroke=\"darkred\" stroke-width=\"3.000000\" stroke-linejoin=\"miter\"/>\n",
       "<text x=\"150.000000\" y=\"25.000000\" font-size=\"6.000000\" text-anchor=\"end\">0</text>\n",
       "<path d=\"M 125 75 L 140 75\" fill=\"none\" stroke=\"darkred\" stroke-width=\"3.000000\" stroke-linejoin=\"miter\"/>\n",
       "<text x=\"150.000000\" y=\"75.000000\" font-size=\"6.000000\" text-anchor=\"end\">1</text></svg>"
      ],
      "text/plain": [
       "<IPython.core.display.HTML object>"
      ]
     },
     "metadata": {},
     "output_type": "display_data"
    }
   ],
   "source": [
    "pcvl.pdisplay(phys.BS())"
   ]
  },
  {
   "cell_type": "code",
   "execution_count": 7,
   "id": "781cfad1",
   "metadata": {
    "pycharm": {
     "name": "#%%\n"
    }
   },
   "outputs": [
    {
     "data": {
      "text/latex": [
       "$\\displaystyle \\left[\\begin{matrix}\\frac{\\sqrt{2}}{2} & \\frac{\\sqrt{2}}{2}\\\\\\frac{\\sqrt{2}}{2} & - \\frac{\\sqrt{2}}{2}\\end{matrix}\\right]$"
      ],
      "text/plain": [
       "Matrix([\n",
       "[sqrt(2)/2,  sqrt(2)/2],\n",
       "[sqrt(2)/2, -sqrt(2)/2]])"
      ]
     },
     "execution_count": 7,
     "metadata": {},
     "output_type": "execute_result"
    }
   ],
   "source": [
    "phys.BS().U"
   ]
  },
  {
   "cell_type": "markdown",
   "id": "f954db6e",
   "metadata": {
    "pycharm": {
     "name": "#%% md\n"
    }
   },
   "source": [
    "A beam-splitter can take in argument a coefficient of reflectivity R. This coefficient changes the unitary matrix of the circuit :"
   ]
  },
  {
   "cell_type": "code",
   "execution_count": null,
   "id": "7a01b61f",
   "metadata": {
    "pycharm": {
     "name": "#%%\n"
    }
   },
   "outputs": [],
   "source": [
    "phys.BS(R=3/2).U"
   ]
  },
  {
   "cell_type": "markdown",
   "id": "c008b5ee",
   "metadata": {
    "pycharm": {
     "name": "#%% md\n"
    }
   },
   "source": [
    "The second main component of our circuit is the phase shifter alias PS. We have to specify the phase of the PS as argument."
   ]
  },
  {
   "cell_type": "code",
   "execution_count": 10,
   "id": "b67757fb",
   "metadata": {
    "pycharm": {
     "name": "#%%\n"
    }
   },
   "outputs": [
    {
     "data": {
      "text/html": [
       "<svg width='106.000000' height='100.000000' viewBox='-3.000000 0.000000 103.000000 100.000000'><path d=\"M 10 25 L 25 25\" fill=\"none\" stroke=\"darkred\" stroke-width=\"3.000000\" stroke-linejoin=\"miter\"/>\n",
       "<text x=\"0.000000\" y=\"25.000000\" font-size=\"6.000000\" text-anchor=\"start\">0</text>\n",
       "<polyline points=\"25 25 75 25\" fill=\"transparent\"stroke=\"darkred\" stroke-width=\"3.000000\" stroke-linejoin=\"miter\" />\n",
       "<polyline points=\"30 40 39 40 53 10 44 10 30 40 39 40 30 40\" fill=\"gray\" stroke=\"black\" stroke-width=\"1.000000\" stroke_linejoin=\"miter\" />\n",
       "<text x=\"47.000000\" y=\"38.000000\" font-size=\"7.000000\" text-anchor=\"start\">φ=2/5</text>\n",
       "<path d=\"M 75 25 L 90 25\" fill=\"none\" stroke=\"darkred\" stroke-width=\"3.000000\" stroke-linejoin=\"miter\"/>\n",
       "<text x=\"100.000000\" y=\"25.000000\" font-size=\"6.000000\" text-anchor=\"end\">0</text></svg>"
      ],
      "text/plain": [
       "<IPython.core.display.HTML object>"
      ]
     },
     "metadata": {},
     "output_type": "display_data"
    }
   ],
   "source": [
    "pcvl.pdisplay(phys.PS(phi=.4))"
   ]
  },
  {
   "cell_type": "markdown",
   "id": "8e29efd7",
   "metadata": {
    "pycharm": {
     "name": "#%% md\n"
    }
   },
   "source": [
    "Now, let's simulate the distribution obtained when we input a single photon in a beam-splitter with our `Naive` backend.\n",
    "\n",
    "We are going to use the `simulator_backend` defined at the beginning. We want to use the class `Circuit Analyser` which has three arguments:\n",
    "\n",
    "- The first one is the transfer matrix of the circuit with simulator_backend??\n",
    "- The second one is the input state (we will use `input_state`).\n",
    "- The third one is the desired output states (detail why we put a star, cf below).\n",
    "\n",
    "Then, it is possible to display the result of `Circuit Analyser` via `pdisplay`."
   ]
  },
  {
   "cell_type": "code",
   "execution_count": 19,
   "id": "87a14701",
   "metadata": {
    "pycharm": {
     "name": "#%%\n"
    },
    "scrolled": true
   },
   "outputs": [
    {
     "data": {
      "text/html": [
       "<table>\n",
       "<thead>\n",
       "<tr><th>     </th><th>|2,0&gt;  </th><th style=\"text-align: right;\">  |1,1&gt;</th><th>|0,2&gt;  </th></tr>\n",
       "</thead>\n",
       "<tbody>\n",
       "<tr><td>|1,1&gt;</td><td>1/2    </td><td style=\"text-align: right;\">      0</td><td>1/2    </td></tr>\n",
       "</tbody>\n",
       "</table>"
      ],
      "text/plain": [
       "<IPython.core.display.HTML object>"
      ]
     },
     "metadata": {},
     "output_type": "display_data"
    }
   ],
   "source": [
    "sim = simulator_backend(phys.BS().U)\n",
    "ca = pcvl.CircuitAnalyser(sim,\n",
    "                          [input_state],\n",
    "                          \"*\")\n",
    "pcvl.pdisplay(ca)"
   ]
  },
  {
   "cell_type": "markdown",
   "id": "30cbe007",
   "metadata": {
    "pycharm": {
     "name": "#%% md\n"
    }
   },
   "source": [
    "With the probabilities we get, what can we deduce?"
   ]
  },
  {
   "cell_type": "markdown",
   "id": "bcce22bc",
   "metadata": {
    "pycharm": {
     "name": "#%% md\n"
    }
   },
   "source": [
    "\"something about the distinguishability of the photons\""
   ]
  },
  {
   "cell_type": "markdown",
   "id": "c13de0fe",
   "metadata": {
    "pycharm": {
     "name": "#%% md\n"
    }
   },
   "source": [
    "If you want to analyse only few outputs, you should not use ' * ': It's called the post-selection.\n",
    "Try to do it only for |2,0> and |0,2> : Replace ' * ' by `[pcvl.BasicState(\"|2,0>\"), pcvl.BasicState(\"|0,2>\")]`"
   ]
  },
  {
   "cell_type": "code",
   "execution_count": null,
   "id": "4ca8c627",
   "metadata": {
    "pycharm": {
     "name": "#%%\n"
    }
   },
   "outputs": [],
   "source": [
    "\"\"\"sim = simulator_backend(a.U)\n",
    "ca2 = pcvl.CircuitAnalyser(sim,\n",
    "                              [pcvl.AnnotatedBasicState(input_state)],\n",
    "                              [pcvl.BasicState(\"|2,0>\"), pcvl.BasicState(\"|0,2>\")])\n",
    "pcvl.pdisplay(ca2)\"\"\""
   ]
  },
  {
   "cell_type": "markdown",
   "id": "f579fd7d",
   "metadata": {
    "pycharm": {
     "name": "#%% md\n"
    }
   },
   "source": [
    "In Perceval, `CircuitAnalyser` is a class that has methods. You can print all the states you analyse in output with :"
   ]
  },
  {
   "cell_type": "code",
   "execution_count": 20,
   "id": "034c6c1f",
   "metadata": {
    "pycharm": {
     "name": "#%%\n"
    }
   },
   "outputs": [
    {
     "name": "stdout",
     "output_type": "stream",
     "text": [
      "['|2,0>', '|1,1>', '|0,2>']\n"
     ]
    }
   ],
   "source": [
    "print([str(state) for state in ca.output_states_list])"
   ]
  },
  {
   "cell_type": "markdown",
   "id": "93930e77",
   "metadata": {
    "pycharm": {
     "name": "#%% md\n"
    }
   },
   "source": [
    "You also can print the each probability of those states using :"
   ]
  },
  {
   "cell_type": "code",
   "execution_count": 21,
   "id": "3244a07f",
   "metadata": {
    "pycharm": {
     "name": "#%%\n"
    }
   },
   "outputs": [
    {
     "name": "stdout",
     "output_type": "stream",
     "text": [
      "[[0.5 0.  0.5]]\n"
     ]
    }
   ],
   "source": [
    "print(ca.distribution)"
   ]
  },
  {
   "cell_type": "markdown",
   "id": "82ba45d3",
   "metadata": {
    "pycharm": {
     "name": "#%% md\n"
    }
   },
   "source": [
    "### MZI circuit"
   ]
  },
  {
   "cell_type": "markdown",
   "id": "17d9863e",
   "metadata": {
    "pycharm": {
     "name": "#%% md\n"
    }
   },
   "source": [
    "In this second part, we want to display the Mach-Zendher Interferometer circuit composed of two blocks of a phase-shifter and a beam-splitter each:"
   ]
  },
  {
   "attachments": {
    "MZI.png": {
     "image/png": "[encoded data removed]"
    }
   },
   "cell_type": "markdown",
   "id": "70da9aa2",
   "metadata": {
    "pycharm": {
     "name": "#%% md\n"
    }
   },
   "source": [
    "![MZI.png](attachment:MZI.png)"
   ]
  },
  {
   "cell_type": "markdown",
   "id": "877f0092",
   "metadata": {
    "pycharm": {
     "name": "#%% md\n"
    }
   },
   "source": [
    "Start by defining the number of modes (2) and the name of your circuit ('mzi'). Then, add phases parameters for the PS, you can call them $\\phi$1 et $\\phi$2."
   ]
  },
  {
   "cell_type": "markdown",
   "id": "0b7522f2",
   "metadata": {
    "pycharm": {
     "name": "#%% md\n"
    }
   },
   "source": [
    "Before doing the MZI circuit all by yourself, we will show you an example on a smaller circuit."
   ]
  },
  {
   "cell_type": "code",
   "execution_count": 7,
   "id": "f6e049bb",
   "metadata": {
    "pycharm": {
     "name": "#%%\n"
    }
   },
   "outputs": [
    {
     "data": {
      "text/html": [
       "<svg width='206.000000' height='150.000000' viewBox='-3.000000 0.000000 203.000000 150.000000'><path d=\"M 10 25 L 25 25\" fill=\"none\" stroke=\"darkred\" stroke-width=\"3.000000\" stroke-linejoin=\"miter\"/>\n",
       "<text x=\"0.000000\" y=\"25.000000\" font-size=\"6.000000\" text-anchor=\"start\">0</text>\n",
       "<path d=\"M 10 75 L 25 75\" fill=\"none\" stroke=\"darkred\" stroke-width=\"3.000000\" stroke-linejoin=\"miter\"/>\n",
       "<text x=\"0.000000\" y=\"75.000000\" font-size=\"6.000000\" text-anchor=\"start\">1</text>\n",
       "<polyline points=\"25 25 53 25 72 44\" fill=\"transparent\"stroke=\"darkred\" stroke-width=\"3.000000\" stroke-linejoin=\"round\" />\n",
       "<polyline points=\"78 44 97 25 125 25\" fill=\"transparent\"stroke=\"darkred\" stroke-width=\"3.000000\" stroke-linejoin=\"round\" />\n",
       "<polyline points=\"25 75 53 75 72 56\" fill=\"transparent\"stroke=\"darkred\" stroke-width=\"3.000000\" stroke-linejoin=\"round\" />\n",
       "<polyline points=\"78 56 97 75 125 75\" fill=\"transparent\"stroke=\"darkred\" stroke-width=\"3.000000\" stroke-linejoin=\"round\" />\n",
       "<polyline points=\"50 43 100 43 100 57 50 57 50 43\" fill=\"black\" stroke=\"black\" stroke-width=\"1.000000\" stroke_linejoin=\"miter\" />\n",
       "<text x=\"75.000000\" y=\"86.000000\" font-size=\"7.000000\" text-anchor=\"middle\"></text>\n",
       "<text x=\"75.000000\" y=\"26.000000\" font-size=\"7.000000\" text-anchor=\"middle\"></text>\n",
       "<polyline points=\"50 43 100 43 100 47 50 47 50 43\" fill=\"lightgray\" stroke=\"black\" stroke-width=\"1.000000\" stroke_linejoin=\"miter\" />\n",
       "<polyline points=\"125 25 175 25\" fill=\"transparent\"stroke=\"darkred\" stroke-width=\"3.000000\" stroke-linejoin=\"miter\" />\n",
       "<polyline points=\"130 40 139 40 153 10 144 10 130 40 139 40 130 40\" fill=\"gray\" stroke=\"black\" stroke-width=\"1.000000\" stroke_linejoin=\"miter\" />\n",
       "<text x=\"147.000000\" y=\"38.000000\" font-size=\"7.000000\" text-anchor=\"start\">φ=phi</text>\n",
       "<polyline points=\"125 75 175 75\" fill=\"transparent\"stroke=\"darkred\" stroke-width=\"3.000000\" stroke-linejoin=\"miter\" />\n",
       "<path d=\"M 175 25 L 190 25\" fill=\"none\" stroke=\"darkred\" stroke-width=\"3.000000\" stroke-linejoin=\"miter\"/>\n",
       "<text x=\"200.000000\" y=\"25.000000\" font-size=\"6.000000\" text-anchor=\"end\">0</text>\n",
       "<path d=\"M 175 75 L 190 75\" fill=\"none\" stroke=\"darkred\" stroke-width=\"3.000000\" stroke-linejoin=\"miter\"/>\n",
       "<text x=\"200.000000\" y=\"75.000000\" font-size=\"6.000000\" text-anchor=\"end\">1</text></svg>"
      ],
      "text/plain": [
       "<IPython.core.display.HTML object>"
      ]
     },
     "metadata": {},
     "output_type": "display_data"
    }
   ],
   "source": [
    "circuit = pcvl.Circuit(2,name='example')\n",
    "\n",
    "phase = pcvl.Parameter(\"phi\")\n",
    "circuit.add((0,1), phys.BS()).add(0, phys.PS(phase))\n",
    "\n",
    "pcvl.pdisplay(circuit)\n",
    "circuit.U"
   ]
  },
  {
   "cell_type": "markdown",
   "id": "250569e2",
   "metadata": {
    "pycharm": {
     "name": "#%% md\n"
    }
   },
   "source": [
    "We can also add a specific value to the phi parameter using `set_value`."
   ]
  },
  {
   "cell_type": "code",
   "execution_count": null,
   "id": "00f4abba",
   "metadata": {
    "pycharm": {
     "name": "#%%\n"
    }
   },
   "outputs": [],
   "source": [
    "phase.set_value(np.pi/4)"
   ]
  },
  {
   "cell_type": "markdown",
   "id": "3daecf79",
   "metadata": {
    "pycharm": {
     "name": "#%% md\n"
    }
   },
   "source": [
    "We can print the unitary matrix associated to this circuit and see the changes:"
   ]
  },
  {
   "cell_type": "code",
   "execution_count": null,
   "id": "c493d48b",
   "metadata": {
    "pycharm": {
     "name": "#%%\n"
    }
   },
   "outputs": [],
   "source": [
    "circuit.U"
   ]
  },
  {
   "cell_type": "markdown",
   "id": "796528fb",
   "metadata": {
    "pycharm": {
     "name": "#%% md\n"
    }
   },
   "source": [
    "Its' your turn to play ! Create the MZI interferometer as `pcvl.Circuit` object and display it. It should look like the picture above."
   ]
  },
  {
   "cell_type": "code",
   "execution_count": 10,
   "id": "e7fd2d8c",
   "metadata": {
    "pycharm": {
     "name": "#%%\n"
    }
   },
   "outputs": [
    {
     "data": {
      "text/html": [
       "<svg width='356.000000' height='150.000000' viewBox='-3.000000 0.000000 353.000000 150.000000'><path d=\"M 10 25 L 25 25\" fill=\"none\" stroke=\"darkred\" stroke-width=\"3.000000\" stroke-linejoin=\"miter\"/>\n",
       "<text x=\"0.000000\" y=\"25.000000\" font-size=\"6.000000\" text-anchor=\"start\">0</text>\n",
       "<path d=\"M 10 75 L 25 75\" fill=\"none\" stroke=\"darkred\" stroke-width=\"3.000000\" stroke-linejoin=\"miter\"/>\n",
       "<text x=\"0.000000\" y=\"75.000000\" font-size=\"6.000000\" text-anchor=\"start\">1</text>\n",
       "<polyline points=\"25 25 75 25\" fill=\"transparent\"stroke=\"darkred\" stroke-width=\"3.000000\" stroke-linejoin=\"miter\" />\n",
       "<polyline points=\"30 40 39 40 53 10 44 10 30 40 39 40 30 40\" fill=\"gray\" stroke=\"black\" stroke-width=\"1.000000\" stroke_linejoin=\"miter\" />\n",
       "<text x=\"47.000000\" y=\"38.000000\" font-size=\"7.000000\" text-anchor=\"start\">φ=phi1</text>\n",
       "<polyline points=\"25 75 75 75\" fill=\"transparent\"stroke=\"darkred\" stroke-width=\"3.000000\" stroke-linejoin=\"miter\" />\n",
       "<polyline points=\"75 25 103 25 122 44\" fill=\"transparent\"stroke=\"darkred\" stroke-width=\"3.000000\" stroke-linejoin=\"round\" />\n",
       "<polyline points=\"128 44 147 25 175 25\" fill=\"transparent\"stroke=\"darkred\" stroke-width=\"3.000000\" stroke-linejoin=\"round\" />\n",
       "<polyline points=\"75 75 103 75 122 56\" fill=\"transparent\"stroke=\"darkred\" stroke-width=\"3.000000\" stroke-linejoin=\"round\" />\n",
       "<polyline points=\"128 56 147 75 175 75\" fill=\"transparent\"stroke=\"darkred\" stroke-width=\"3.000000\" stroke-linejoin=\"round\" />\n",
       "<polyline points=\"100 43 150 43 150 57 100 57 100 43\" fill=\"black\" stroke=\"black\" stroke-width=\"1.000000\" stroke_linejoin=\"miter\" />\n",
       "<text x=\"125.000000\" y=\"86.000000\" font-size=\"7.000000\" text-anchor=\"middle\"></text>\n",
       "<text x=\"125.000000\" y=\"26.000000\" font-size=\"7.000000\" text-anchor=\"middle\"></text>\n",
       "<polyline points=\"100 43 150 43 150 47 100 47 100 43\" fill=\"lightgray\" stroke=\"black\" stroke-width=\"1.000000\" stroke_linejoin=\"miter\" />\n",
       "<polyline points=\"175 25 225 25\" fill=\"transparent\"stroke=\"darkred\" stroke-width=\"3.000000\" stroke-linejoin=\"miter\" />\n",
       "<polyline points=\"180 40 189 40 203 10 194 10 180 40 189 40 180 40\" fill=\"gray\" stroke=\"black\" stroke-width=\"1.000000\" stroke_linejoin=\"miter\" />\n",
       "<text x=\"197.000000\" y=\"38.000000\" font-size=\"7.000000\" text-anchor=\"start\">φ=phi2</text>\n",
       "<polyline points=\"175 75 225 75\" fill=\"transparent\"stroke=\"darkred\" stroke-width=\"3.000000\" stroke-linejoin=\"miter\" />\n",
       "<polyline points=\"225 25 253 25 272 44\" fill=\"transparent\"stroke=\"darkred\" stroke-width=\"3.000000\" stroke-linejoin=\"round\" />\n",
       "<polyline points=\"278 44 297 25 325 25\" fill=\"transparent\"stroke=\"darkred\" stroke-width=\"3.000000\" stroke-linejoin=\"round\" />\n",
       "<polyline points=\"225 75 253 75 272 56\" fill=\"transparent\"stroke=\"darkred\" stroke-width=\"3.000000\" stroke-linejoin=\"round\" />\n",
       "<polyline points=\"278 56 297 75 325 75\" fill=\"transparent\"stroke=\"darkred\" stroke-width=\"3.000000\" stroke-linejoin=\"round\" />\n",
       "<polyline points=\"250 43 300 43 300 57 250 57 250 43\" fill=\"black\" stroke=\"black\" stroke-width=\"1.000000\" stroke_linejoin=\"miter\" />\n",
       "<text x=\"275.000000\" y=\"86.000000\" font-size=\"7.000000\" text-anchor=\"middle\"></text>\n",
       "<text x=\"275.000000\" y=\"26.000000\" font-size=\"7.000000\" text-anchor=\"middle\"></text>\n",
       "<polyline points=\"250 43 300 43 300 47 250 47 250 43\" fill=\"lightgray\" stroke=\"black\" stroke-width=\"1.000000\" stroke_linejoin=\"miter\" />\n",
       "<path d=\"M 325 25 L 340 25\" fill=\"none\" stroke=\"darkred\" stroke-width=\"3.000000\" stroke-linejoin=\"miter\"/>\n",
       "<text x=\"350.000000\" y=\"25.000000\" font-size=\"6.000000\" text-anchor=\"end\">0</text>\n",
       "<path d=\"M 325 75 L 340 75\" fill=\"none\" stroke=\"darkred\" stroke-width=\"3.000000\" stroke-linejoin=\"miter\"/>\n",
       "<text x=\"350.000000\" y=\"75.000000\" font-size=\"6.000000\" text-anchor=\"end\">1</text></svg>"
      ],
      "text/plain": [
       "<IPython.core.display.HTML object>"
      ]
     },
     "metadata": {},
     "output_type": "display_data"
    }
   ],
   "source": [
    "mzi_chip = pcvl.Circuit()\n",
    "\"\"\"Fill in the gap (don't forget to fill the gap in pcvl.Circuit() above too)\"\"\"\n",
    "pcvl.pdisplay(mzi_chip)"
   ]
  },
  {
   "cell_type": "markdown",
   "id": "f010bfc2",
   "metadata": {
    "pycharm": {
     "name": "#%% md\n"
    }
   },
   "source": [
    "Then, print the associated unitary matrix using `pdisplay` (remember that we can get the unitary matrix associated with a `pcvl.Circuit()` with the method `.U`):"
   ]
  },
  {
   "cell_type": "code",
   "execution_count": 6,
   "id": "f416b1ef",
   "metadata": {
    "pycharm": {
     "name": "#%%\n"
    }
   },
   "outputs": [
    {
     "data": {
      "text/html": [
       "$\\left[\\begin{matrix}\\frac{e^{i \\phi_{1}}}{2} + \\frac{e^{i \\left(\\phi_{1} + \\phi_{2}\\right)}}{2} & \\frac{e^{i \\phi_{2}}}{2} - \\frac{1}{2}\\\\- \\frac{e^{i \\phi_{1}}}{2} + \\frac{e^{i \\left(\\phi_{1} + \\phi_{2}\\right)}}{2} & \\frac{e^{i \\phi_{2}}}{2} + \\frac{1}{2}\\end{matrix}\\right]$"
      ],
      "text/plain": [
       "<IPython.core.display.HTML object>"
      ]
     },
     "metadata": {},
     "output_type": "display_data"
    }
   ],
   "source": [
    "\"pcvl.pdisplay(mzi_chip.U)\""
   ]
  },
  {
   "cell_type": "markdown",
   "id": "2445a69a",
   "metadata": {
    "pycharm": {
     "name": "#%% md\n"
    }
   },
   "source": [
    "Now, we are going to do the exact same simulation that we did for the BS but this time for our MZI circuit.\n",
    "\n",
    "Let's attribute values to the phases using `set_value`. The first phase will be zero and the second one will be $\\frac{\\pi}{2}$"
   ]
  },
  {
   "cell_type": "code",
   "execution_count": 11,
   "id": "437357ec",
   "metadata": {
    "pycharm": {
     "name": "#%%\n"
    }
   },
   "outputs": [],
   "source": [
    "\"\"\"phases[0].set_value(0)\n",
    "phases[1].set_value(np.pi/2)\"\"\""
   ]
  },
  {
   "cell_type": "markdown",
   "id": "30fecde4",
   "metadata": {
    "pycharm": {
     "name": "#%% md\n"
    }
   },
   "source": [
    "The input_state is still one photon on the first branch and one photon on the second branch. The output states are also still ' * '"
   ]
  },
  {
   "cell_type": "code",
   "execution_count": 15,
   "id": "b13ac94e",
   "metadata": {
    "pycharm": {
     "name": "#%%\n"
    }
   },
   "outputs": [
    {
     "data": {
      "text/plain": [
       "'sim = simulator_backend(mzi_chip.U)\\n\\nca = pcvl.CircuitAnalyser(sim,\\n                              [pcvl.AnnotatedBasicState(input_state)],\\n                              \"*\")\\nca.compute()\\nnb_of_outputs = len(ca.output_states_list)\\n\\npcvl.pdisplay(ca)'"
      ]
     },
     "execution_count": 15,
     "metadata": {},
     "output_type": "execute_result"
    }
   ],
   "source": [
    "\"\"\"sim = simulator_backend(mzi_chip.U)\n",
    "\n",
    "ca = pcvl.CircuitAnalyser(sim,\n",
    "                              [pcvl.AnnotatedBasicState(input_state)],\n",
    "                              \"*\")\n",
    "\n",
    "pcvl.pdisplay(ca)\n",
    "\"\"\""
   ]
  },
  {
   "cell_type": "markdown",
   "id": "adf14440",
   "metadata": {
    "pycharm": {
     "name": "#%% md\n"
    }
   },
   "source": [
    "### Graph of the probability in function of the phase "
   ]
  },
  {
   "attachments": {
    "graph%20prob%28phase%29.png": {
     "image/png": "[encoded data removed]"
    }
   },
   "cell_type": "markdown",
   "id": "480f20a2",
   "metadata": {
    "pycharm": {
     "name": "#%% md\n"
    }
   },
   "source": [
    "In this last part, we want to obtain this graph : \n",
    "\n",
    "\n",
    "![graph%20prob%28phase%29.png](attachment:graph%20prob%28phase%29.png)"
   ]
  },
  {
   "cell_type": "markdown",
   "id": "92291ebe",
   "metadata": {
    "pycharm": {
     "name": "#%% md\n"
    }
   },
   "source": [
    "### Collecting data"
   ]
  },
  {
   "cell_type": "markdown",
   "id": "d5d94ea4",
   "metadata": {
    "pycharm": {
     "name": "#%% md\n"
    }
   },
   "source": [
    "The phases of the PS should vary between 0 and $\\pi$ with a step of 0.1."
   ]
  },
  {
   "cell_type": "code",
   "execution_count": null,
   "id": "86314e5e",
   "metadata": {
    "pycharm": {
     "name": "#%%\n"
    }
   },
   "outputs": [],
   "source": [
    "scan_range = \"fill in the gap\""
   ]
  },
  {
   "cell_type": "markdown",
   "id": "24050e3c",
   "metadata": {
    "pycharm": {
     "name": "#%% md\n"
    }
   },
   "source": [
    "This gives you the number of outputs `CircuitAnalyser` will calculate : "
   ]
  },
  {
   "cell_type": "code",
   "execution_count": null,
   "id": "ebf0c4c7",
   "metadata": {
    "pycharm": {
     "name": "#%%\n"
    }
   },
   "outputs": [],
   "source": [
    "nb_of_outputs = len(ca.output_states_list)"
   ]
  },
  {
   "cell_type": "markdown",
   "id": "6761ff7e",
   "metadata": {
    "pycharm": {
     "name": "#%% md\n"
    }
   },
   "source": [
    "For your graph, you need to create a liste to store the each output probability as a function of the phase. "
   ]
  },
  {
   "cell_type": "code",
   "execution_count": null,
   "id": "bdd786d5",
   "metadata": {
    "pycharm": {
     "name": "#%%\n"
    }
   },
   "outputs": [],
   "source": [
    "output = \"\"\"fill in the gap\"\"\""
   ]
  },
  {
   "cell_type": "markdown",
   "id": "42f28f61",
   "metadata": {
    "pycharm": {
     "name": "#%% md\n"
    }
   },
   "source": [
    "Then, you can do a for loop that explores the phi in their interval defined above:\n",
    "\n",
    "- First, set the phase of the MZI with `set_value`\n",
    "- Then, run the `CircuitAnalyser` for your MZI \n",
    "- And finally, append the result to the output to plot"
   ]
  },
  {
   "cell_type": "code",
   "execution_count": 18,
   "id": "6103c241",
   "metadata": {
    "pycharm": {
     "name": "#%%\n"
    }
   },
   "outputs": [
    {
     "ename": "NameError",
     "evalue": "name 'ca' is not defined",
     "output_type": "error",
     "traceback": [
      "\u001B[0;31m---------------------------------------------------------------------------\u001B[0m",
      "\u001B[0;31mNameError\u001B[0m                                 Traceback (most recent call last)",
      "\u001B[0;32m/tmp/ipykernel_3078137/2596658611.py\u001B[0m in \u001B[0;36m<module>\u001B[0;34m\u001B[0m\n\u001B[1;32m      1\u001B[0m \u001B[0;31m# We initialise a list to store the each output probability as a function of the phase phi2\u001B[0m\u001B[0;34m\u001B[0m\u001B[0;34m\u001B[0m\u001B[0m\n\u001B[0;32m----> 2\u001B[0;31m \u001B[0mnb_of_outputs\u001B[0m \u001B[0;34m=\u001B[0m \u001B[0mlen\u001B[0m\u001B[0;34m(\u001B[0m\u001B[0mca\u001B[0m\u001B[0;34m.\u001B[0m\u001B[0moutput_states_list\u001B[0m\u001B[0;34m)\u001B[0m\u001B[0;34m\u001B[0m\u001B[0;34m\u001B[0m\u001B[0m\n\u001B[0m\u001B[1;32m      3\u001B[0m \u001B[0;34m\u001B[0m\u001B[0m\n\u001B[1;32m      4\u001B[0m \u001B[0moutput\u001B[0m \u001B[0;34m=\u001B[0m \u001B[0;34m[\u001B[0m\u001B[0;34m[\u001B[0m\u001B[0;34m]\u001B[0m \u001B[0;32mfor\u001B[0m \u001B[0mi\u001B[0m \u001B[0;32min\u001B[0m \u001B[0mrange\u001B[0m\u001B[0;34m(\u001B[0m\u001B[0mnb_of_outputs\u001B[0m\u001B[0;34m)\u001B[0m\u001B[0;34m]\u001B[0m\u001B[0;34m\u001B[0m\u001B[0;34m\u001B[0m\u001B[0m\n\u001B[1;32m      5\u001B[0m \u001B[0;34m\u001B[0m\u001B[0m\n",
      "\u001B[0;31mNameError\u001B[0m: name 'ca' is not defined"
     ]
    }
   ],
   "source": [
    "\"\"\"for phi in scan_range:\n",
    "\n",
    "    # Set the phase of the MZI\n",
    "    phases[1].set_value(phi)\n",
    "\n",
    "    # Run the analyser\n",
    "    sim = simulator_backend(mzi_chip.U)\n",
    "    ca = pcvl.CircuitAnalyser(sim,\n",
    "                              [pcvl.AnnotatedBasicState(input_state)],\n",
    "                              \"*\")\n",
    "    \"\"\"\n",
    "    # Append the result to the ouput to plot\n",
    "    for i in range(len(output)):\n",
    "        output[i].append(ca.distribution[0][i])\n"
   ]
  },
  {
   "cell_type": "markdown",
   "id": "8c39cae3",
   "metadata": {
    "pycharm": {
     "name": "#%% md\n"
    }
   },
   "source": [
    "### Plot"
   ]
  },
  {
   "cell_type": "markdown",
   "id": "698ac0fa",
   "metadata": {
    "pycharm": {
     "name": "#%% md\n"
    }
   },
   "source": [
    "Here is the plot of probability as a function of the phase for each output.\n",
    "The x-axis should be the variation of the phi phases between 0 and $\\pi$ with a 0.1 step.\n",
    "The y-axis should be each value of this output list."
   ]
  },
  {
   "cell_type": "code",
   "execution_count": 2,
   "id": "9527d570",
   "metadata": {
    "pycharm": {
     "name": "#%%\n"
    }
   },
   "outputs": [
    {
     "data": {
      "text/plain": [
       "\"plt.figure()\\nfor i, out in enumerate(output):\\n    plt.plot(scan_range, out, '-o', label=ca.output_states_list[i])\\nplt.xlabel('Phase [rad]', fontsize=20)\\nplt.ylabel('Probability', fontsize=20)\\nplt.grid()\\nplt.legend()\""
      ]
     },
     "execution_count": 2,
     "metadata": {},
     "output_type": "execute_result"
    }
   ],
   "source": [
    "plt.figure()\n",
    "for i, out in enumerate(output):\n",
    "    plt.plot(scan_range, out, '-o', label=ca.output_states_list[i])\n",
    "plt.xlabel('Phase [rad]', fontsize=20)\n",
    "plt.ylabel('Probability', fontsize=20)\n",
    "plt.grid()\n",
    "plt.legend()"
   ]
  },
  {
   "cell_type": "code",
   "execution_count": null,
   "id": "207afac8",
   "metadata": {
    "pycharm": {
     "name": "#%%\n"
    }
   },
   "outputs": [],
   "source": []
  }
 ],
 "metadata": {
  "kernelspec": {
   "display_name": "Python 3 (ipykernel)",
   "language": "python",
   "name": "python3"
  },
  "language_info": {
   "codemirror_mode": {
    "name": "ipython",
    "version": 3
   },
   "file_extension": ".py",
   "mimetype": "text/x-python",
   "name": "python",
   "nbconvert_exporter": "python",
   "pygments_lexer": "ipython3",
   "version": "3.9.7"
  }
 },
 "nbformat": 4,
 "nbformat_minor": 5
}
