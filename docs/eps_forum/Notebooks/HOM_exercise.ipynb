{
 "cells": [
  {
   "cell_type": "markdown",
   "id": "b1724d78",
   "metadata": {
    "pycharm": {
     "name": "#%% md\n"
    }
   },
   "source": [
    "# HOM notebook"
   ]
  },
  {
   "cell_type": "markdown",
   "id": "4d7f17fb",
   "metadata": {
    "pycharm": {
     "name": "#%% md\n"
    }
   },
   "source": [
    "The objective of the notebook is to implemet the Hong-Ou-Mandel effect: a 2-photon interference that test for the indistinguishability of photons. When two indistinguishable photons enter a beam-splitter, they __bunch__ that is they exit the beam-splitter in the same output spatial mode."
   ]
  },
  {
   "cell_type": "markdown",
   "id": "0150acb3",
   "metadata": {
    "pycharm": {
     "name": "#%% md\n"
    }
   },
   "source": [
    "<img src=\"HOM2.gif\" width=\"750\" align=\"center\">"
   ]
  },
  {
   "cell_type": "markdown",
   "id": "a02c8685",
   "metadata": {},
   "source": [
    "We want to model this with __Perceval__."
   ]
  },
  {
   "cell_type": "markdown",
   "id": "16148d77",
   "metadata": {
    "pycharm": {
     "name": "#%% md\n"
    }
   },
   "source": [
    "In the first place, we need to import all the libraries we will use in this notebook:"
   ]
  },
  {
   "cell_type": "code",
   "execution_count": null,
   "id": "3437b2cd",
   "metadata": {
    "pycharm": {
     "name": "#%%\n"
    }
   },
   "outputs": [],
   "source": [
    "import numpy as np                # the standard numpy library\n",
    "import sympy as sp                # for symbolic computation\n",
    "import matplotlib.pyplot as plt   # to plot nice graphs\n",
    "\n",
    "import perceval as pcvl           # this is actually where we import the mighty Perceval\n",
    "import perceval.lib.phys as phys  # here we load all physical components like beam-splitters and phase-shifters"
   ]
  },
  {
   "cell_type": "markdown",
   "id": "74fdbf7e",
   "metadata": {
    "pycharm": {
     "name": "#%% md\n"
    }
   },
   "source": [
    "## Introduction"
   ]
  },
  {
   "cell_type": "markdown",
   "id": "1f70e064",
   "metadata": {
    "pycharm": {
     "name": "#%% md\n"
    }
   },
   "source": [
    "We are going to use a backend to simulate the behaviour of our optical device.\n",
    "In Perceval, four backends are implemented (cf [documentation](https://perceval.quandela.net/docs/backends.html)). We are going to use one of those : The `Naive` backend.\n",
    "\n",
    "This back-end implements direct permanent calculation and is therefore suited for single output probability computation with small memory cost. We use `CircuitAnalyser` to analyse the circuit and compute the associated output probabilities."
   ]
  },
  {
   "cell_type": "markdown",
   "id": "5dab0cbe",
   "metadata": {
    "pycharm": {
     "name": "#%% md\n"
    }
   },
   "source": [
    "In the next cell, we call the `Naive` backend that we store in `simulator_backend`:"
   ]
  },
  {
   "cell_type": "code",
   "execution_count": null,
   "id": "469be058",
   "metadata": {
    "pycharm": {
     "name": "#%%\n"
    }
   },
   "outputs": [],
   "source": [
    "simulator_backend = pcvl.BackendFactory().get_backend('Naive')"
   ]
  },
  {
   "cell_type": "markdown",
   "id": "4701efd2",
   "metadata": {
    "pycharm": {
     "name": "#%% md\n"
    }
   },
   "source": [
    "We will now create an input state that will enter our optical scheme later on. We store it in `input_state` and use `BasicState` from the Perceval library. For the Hong-Ou-Mandel effect, we just need circuit with 2 modes (i.e. 2 wires). We put one photon on the first wire and the one other photon on the second wire of the circuit."
   ]
  },
  {
   "cell_type": "code",
   "execution_count": null,
   "id": "c02b4149",
   "metadata": {
    "pycharm": {
     "name": "#%%\n"
    }
   },
   "outputs": [],
   "source": [
    "input_state = pcvl.BasicState(\"|1,1>\")"
   ]
  },
  {
   "cell_type": "markdown",
   "id": "e55997ed",
   "metadata": {},
   "source": [
    "### Beam-splitters"
   ]
  },
  {
   "cell_type": "markdown",
   "id": "34d35a0e",
   "metadata": {
    "pycharm": {
     "name": "#%% md\n"
    }
   },
   "source": [
    "The main component of our circuit will be beamsplitters that we can call using `phys.BS()`. This is parametrisable by specifying the value of the unknown angle $\\theta$: `phys.BS(theta=value)`. \n",
    "\n",
    "We use `pdisplay` to print the Perceval objects. Printing a Perceval circuit object will result in a graphical representation of the circuit."
   ]
  },
  {
   "cell_type": "code",
   "execution_count": null,
   "id": "97f841c0",
   "metadata": {
    "pycharm": {
     "name": "#%%\n"
    }
   },
   "outputs": [],
   "source": [
    "pcvl.pdisplay(phys.BS()) # Display of a BS"
   ]
  },
  {
   "cell_type": "markdown",
   "id": "01a38098",
   "metadata": {},
   "source": [
    "We can also output the unitary matrix associated to the circuit with the method `.U`:"
   ]
  },
  {
   "cell_type": "code",
   "execution_count": null,
   "id": "781cfad1",
   "metadata": {
    "pycharm": {
     "name": "#%%\n"
    }
   },
   "outputs": [],
   "source": [
    "phys.BS().U # Display of the unitary matrix associated to a BS"
   ]
  },
  {
   "cell_type": "markdown",
   "id": "f954db6e",
   "metadata": {
    "pycharm": {
     "name": "#%% md\n"
    }
   },
   "source": [
    "As specified above, a beam-splitter can take as argument an angle $\\theta$ to modify the reflectivity:"
   ]
  },
  {
   "cell_type": "code",
   "execution_count": null,
   "id": "7a01b61f",
   "metadata": {
    "pycharm": {
     "name": "#%%\n"
    }
   },
   "outputs": [],
   "source": [
    "phys.BS(theta=sp.pi).U # a purely transmissive beam-splitter"
   ]
  },
  {
   "cell_type": "markdown",
   "id": "e50770d0",
   "metadata": {},
   "source": [
    "### Phase-shifters"
   ]
  },
  {
   "cell_type": "markdown",
   "id": "c008b5ee",
   "metadata": {
    "pycharm": {
     "name": "#%% md\n"
    }
   },
   "source": [
    "The second main component of our circuit is the phase shifter alias PS. We have to specify the phase $\\phi$ of the PS as an argument."
   ]
  },
  {
   "cell_type": "code",
   "execution_count": null,
   "id": "b67757fb",
   "metadata": {
    "pycharm": {
     "name": "#%%\n"
    }
   },
   "outputs": [],
   "source": [
    "pcvl.pdisplay(phys.PS(phi=sp.pi/8))"
   ]
  },
  {
   "cell_type": "code",
   "execution_count": null,
   "id": "0c5ee29e",
   "metadata": {},
   "outputs": [],
   "source": [
    "phys.PS(phi=sp.pi/8).U"
   ]
  },
  {
   "cell_type": "markdown",
   "id": "6ddab0b1",
   "metadata": {},
   "source": [
    "### A first simulation of the HOM effect"
   ]
  },
  {
   "cell_type": "markdown",
   "id": "8e29efd7",
   "metadata": {
    "pycharm": {
     "name": "#%% md\n"
    }
   },
   "source": [
    "Now, let's simulate the distribution obtained when we input two photons in a beam-splitter. We will use the `Naive` backend already stored in `simulator_backend`.\n",
    "\n",
    "We will simulate the behaviour of the circuit using the class `Circuit Analyser` which has three arguments:\n",
    "\n",
    "- The first one is an instance of the simulator applied to the transfer matrix of the circuit.\n",
    "- The second one is the input state (we will use `input_state`).\n",
    "- The third one is the desired output states. To compute all possible output states, one just input `\"*\"`.\n",
    "\n",
    "Then, we display the result of `Circuit Analyser` via `pdisplay`."
   ]
  },
  {
   "cell_type": "code",
   "execution_count": null,
   "id": "87a14701",
   "metadata": {
    "pycharm": {
     "name": "#%%\n"
    },
    "scrolled": true
   },
   "outputs": [],
   "source": [
    "sim = simulator_backend(phys.BS().U)        # create an instance of the simulator applied to the transfer matrix of the circuit\n",
    "\n",
    "ca = pcvl.CircuitAnalyser(sim,\n",
    "                          [input_state],\n",
    "                          \"*\")              # create an instance of circuit analyser\n",
    "\n",
    "ca.compute()                                # run the computation\n",
    "\n",
    "pcvl.pdisplay(ca)"
   ]
  },
  {
   "cell_type": "markdown",
   "id": "30cbe007",
   "metadata": {
    "pycharm": {
     "name": "#%% md\n"
    }
   },
   "source": [
    "From this probability, what can we deduce? *something about indistinguishability*"
   ]
  },
  {
   "cell_type": "markdown",
   "id": "c13de0fe",
   "metadata": {
    "pycharm": {
     "name": "#%% md\n"
    }
   },
   "source": [
    "Instead of analysing all possible outputs with `\"*\"`, we can __post-select__ on specific output states. This is called the post-selection. Try to do it for the output states |2,0> and |0,2>. You only have to replace '*' by `[pcvl.BasicState(\"|2,0>\"), pcvl.BasicState(\"|0,2>\")]`."
   ]
  },
  {
   "cell_type": "code",
   "execution_count": null,
   "id": "4ca8c627",
   "metadata": {
    "pycharm": {
     "name": "#%%\n"
    }
   },
   "outputs": [],
   "source": [
    "sim = simulator_backend(phys.BS().U)        # create an instance of the simulator applied to the transfer matrix of the circuit\n",
    "\n",
    "ca = pcvl.CircuitAnalyser(sim,\n",
    "                          [input_state],\n",
    "                          [pcvl.BasicState(\"|2,0>\"), pcvl.BasicState(\"|0,2>\")])\n",
    "\n",
    "pcvl.pdisplay(ca)"
   ]
  },
  {
   "cell_type": "markdown",
   "id": "f579fd7d",
   "metadata": {
    "pycharm": {
     "name": "#%% md\n"
    }
   },
   "source": [
    "In Perceval, the class `CircuitAnalyser` has methods. For instance, all the states analysed in the output via the method `.output_states_list`:"
   ]
  },
  {
   "cell_type": "code",
   "execution_count": null,
   "id": "034c6c1f",
   "metadata": {
    "pycharm": {
     "name": "#%%\n"
    }
   },
   "outputs": [],
   "source": [
    "print([str(state) for state in ca.output_states_list])"
   ]
  },
  {
   "cell_type": "markdown",
   "id": "93930e77",
   "metadata": {
    "pycharm": {
     "name": "#%% md\n"
    }
   },
   "source": [
    "You can also print the probability of these states with:"
   ]
  },
  {
   "cell_type": "code",
   "execution_count": null,
   "id": "3244a07f",
   "metadata": {
    "pycharm": {
     "name": "#%%\n"
    }
   },
   "outputs": [],
   "source": [
    "print(ca.distribution)"
   ]
  },
  {
   "cell_type": "markdown",
   "id": "82ba45d3",
   "metadata": {
    "pycharm": {
     "name": "#%% md\n"
    }
   },
   "source": [
    "### MZI circuit"
   ]
  },
  {
   "cell_type": "markdown",
   "id": "17d9863e",
   "metadata": {
    "pycharm": {
     "name": "#%% md\n"
    }
   },
   "source": [
    "In this part, we want to display the Mach-Zendher Interferometer circuit composed of two blocks with a phase-shifter and a beam-splitter each:"
   ]
  },
  {
   "cell_type": "markdown",
   "id": "bc3c2fc5",
   "metadata": {},
   "source": [
    "<img src=\"images/MZI.png\" width=\"750\" align=\"center\">"
   ]
  },
  {
   "cell_type": "markdown",
   "id": "0b7522f2",
   "metadata": {
    "pycharm": {
     "name": "#%% md\n"
    }
   },
   "source": [
    "Before doing the MZI circuit all by yourself, we will show you an example on a smaller circuit composed of one block: a beam-splitter followed by a phase-shifter on the upper wire:"
   ]
  },
  {
   "cell_type": "code",
   "execution_count": null,
   "id": "f6e049bb",
   "metadata": {
    "pycharm": {
     "name": "#%%\n"
    }
   },
   "outputs": [],
   "source": [
    "circuit = pcvl.Circuit(2,name='example') # create the circuit with 2 modes (or 2 wires)\n",
    "\n",
    "phase = pcvl.Parameter(\"phi\")            # create a modifiable unknown parameter for the phase-shifter\n",
    "circuit.add((0,1), phys.BS())            # add a beam-splitter to the circuit between modes 0 and 1\n",
    "circuit.add(0, phys.PS(phase))           # add a phase-shifter with angle phi to mode 0\n",
    "\n",
    "pcvl.pdisplay(circuit)                   # display the circuit\n",
    "circuit.U                                # output the corresponding unitary matrix"
   ]
  },
  {
   "cell_type": "markdown",
   "id": "250569e2",
   "metadata": {
    "pycharm": {
     "name": "#%% md\n"
    }
   },
   "source": [
    "We can also specify the value of phi parameter using the method `set_value`."
   ]
  },
  {
   "cell_type": "code",
   "execution_count": null,
   "id": "00f4abba",
   "metadata": {
    "pycharm": {
     "name": "#%%\n"
    }
   },
   "outputs": [],
   "source": [
    "phase.set_value(sp.pi/2)"
   ]
  },
  {
   "cell_type": "markdown",
   "id": "3daecf79",
   "metadata": {
    "pycharm": {
     "name": "#%% md\n"
    }
   },
   "source": [
    "We can now print the unitary matrix associated to this circuit with the angle specified:"
   ]
  },
  {
   "cell_type": "code",
   "execution_count": null,
   "id": "c493d48b",
   "metadata": {
    "pycharm": {
     "name": "#%%\n"
    }
   },
   "outputs": [],
   "source": [
    "circuit.U"
   ]
  },
  {
   "cell_type": "markdown",
   "id": "796528fb",
   "metadata": {
    "pycharm": {
     "name": "#%% md\n"
    }
   },
   "source": [
    "Its' your turn to play ! Create the MZI interferometer as `pcvl.Circuit` object called `mzi_chip` and display it. It should look like the picture above. This is a circuit composed of 2 modes with a tunable phase-shifter on mode 0, followed by a 50:50 beam-splitter, followed by a tunable phase-shifter on mode 0 and finally followed by another beam-splitter."
   ]
  },
  {
   "cell_type": "code",
   "execution_count": null,
   "id": "e7fd2d8c",
   "metadata": {
    "pycharm": {
     "name": "#%%\n"
    }
   },
   "outputs": [],
   "source": [
    "mzi_chip = pcvl.Circuit(2,name='mzi')\n",
    "phase = pcvl.Parameter(\"phi1\")\n",
    "\"\"\"Fill in the gap\"\"\"\n",
    "\n",
    "pcvl.pdisplay(mzi_chip)"
   ]
  },
  {
   "cell_type": "markdown",
   "id": "f010bfc2",
   "metadata": {
    "pycharm": {
     "name": "#%% md\n"
    }
   },
   "source": [
    "Then, print the associated unitary matrix using `pdisplay` (remember that we can get the unitary matrix associated with a `pcvl.Circuit` object with the method `.U`):"
   ]
  },
  {
   "cell_type": "code",
   "execution_count": null,
   "id": "f416b1ef",
   "metadata": {
    "pycharm": {
     "name": "#%%\n"
    }
   },
   "outputs": [],
   "source": []
  },
  {
   "cell_type": "markdown",
   "id": "2445a69a",
   "metadata": {
    "pycharm": {
     "name": "#%% md\n"
    }
   },
   "source": [
    "Now, we are going to do the exact same simulation that we did for the single beam-splitter but this time for our complete MZI circuit.\n",
    "\n",
    "Let's first attribute values to the phases using `set_value`. The phase $\\phi$ will be $\\frac{\\pi}{2}$."
   ]
  },
  {
   "cell_type": "code",
   "execution_count": null,
   "id": "437357ec",
   "metadata": {
    "pycharm": {
     "name": "#%%\n"
    }
   },
   "outputs": [],
   "source": []
  },
  {
   "cell_type": "markdown",
   "id": "30fecde4",
   "metadata": {
    "pycharm": {
     "name": "#%% md\n"
    }
   },
   "source": [
    "The input state is still one photon on the first branch and one photon on the second branch. We will analyse all output states so the third argument of `pcvl.CircuitAnalyser` is still `\"*\"`. We will store the ouput of circuit analyser in `ca`. "
   ]
  },
  {
   "cell_type": "code",
   "execution_count": null,
   "id": "b13ac94e",
   "metadata": {
    "pycharm": {
     "name": "#%%\n"
    }
   },
   "outputs": [],
   "source": []
  },
  {
   "cell_type": "markdown",
   "id": "adf14440",
   "metadata": {
    "pycharm": {
     "name": "#%% md\n"
    }
   },
   "source": [
    "### Graph of the probability in function of the phase "
   ]
  },
  {
   "attachments": {
    "graph%20prob%28phase%29.png": {
     "image/png": "[encoded data removed]"
    }
   },
   "cell_type": "markdown",
   "id": "480f20a2",
   "metadata": {
    "pycharm": {
     "name": "#%% md\n"
    }
   },
   "source": [
    "In this last part, we want to obtain the following graph: \n",
    "\n",
    "\n",
    "![graph%20prob%28phase%29.png](attachment:graph%20prob%28phase%29.png)\n",
    "\n",
    "This shows the Hong-Ou-Mandel effect as we see that the probability of obtaining the state $\\vert 1,1 \\rangle$ increases with the photons become distinguishable (i.e. when they have a maximal relative phase). "
   ]
  },
  {
   "cell_type": "markdown",
   "id": "92291ebe",
   "metadata": {
    "pycharm": {
     "name": "#%% md\n"
    }
   },
   "source": [
    "### Collecting data"
   ]
  },
  {
   "cell_type": "markdown",
   "id": "d5d94ea4",
   "metadata": {
    "pycharm": {
     "name": "#%% md\n"
    }
   },
   "source": [
    "The phases of the phase-shifter should vary between 0 and $\\pi$ with a step of 0.1."
   ]
  },
  {
   "cell_type": "code",
   "execution_count": null,
   "id": "86314e5e",
   "metadata": {
    "pycharm": {
     "name": "#%%\n"
    }
   },
   "outputs": [],
   "source": [
    "scan_range = np.arange(0,np.pi,0.1)"
   ]
  },
  {
   "cell_type": "markdown",
   "id": "24050e3c",
   "metadata": {
    "pycharm": {
     "name": "#%% md\n"
    }
   },
   "source": [
    "We store the number of possible outputs that `CircuitAnalyser` will analyse: "
   ]
  },
  {
   "cell_type": "code",
   "execution_count": null,
   "id": "ebf0c4c7",
   "metadata": {
    "pycharm": {
     "name": "#%%\n"
    }
   },
   "outputs": [],
   "source": [
    "nb_of_outputs = len(ca.output_states_list)"
   ]
  },
  {
   "cell_type": "markdown",
   "id": "6761ff7e",
   "metadata": {
    "pycharm": {
     "name": "#%% md\n"
    }
   },
   "source": [
    "For the graph, we need to create a list to store the probability of each output together with the associated phase. "
   ]
  },
  {
   "cell_type": "code",
   "execution_count": null,
   "id": "bdd786d5",
   "metadata": {
    "pycharm": {
     "name": "#%%\n"
    }
   },
   "outputs": [],
   "source": [
    "output = [[] for i in range(nb_of_outputs)]"
   ]
  },
  {
   "cell_type": "markdown",
   "id": "42f28f61",
   "metadata": {
    "pycharm": {
     "name": "#%% md\n"
    }
   },
   "source": [
    "Then, you can do a for loop that runs the simulation for values of $\\phi$ in their interval defined above with `scan_range`:\n",
    "\n",
    "- First, set the phase of the MZI with `set_value`\n",
    "- Then, run the `CircuitAnalyser` for your MZI to a given phi  \n",
    "- Add ca.compute() which will calculate the probability of a single output\n",
    "- And finally, append the result to `output` to plot your graph by doing a for loop on `len(output)`. You can then use : `output[i].append(ca.distribution[0][i])`"
   ]
  },
  {
   "cell_type": "code",
   "execution_count": null,
   "id": "6103c241",
   "metadata": {
    "pycharm": {
     "name": "#%%\n"
    }
   },
   "outputs": [],
   "source": []
  },
  {
   "cell_type": "markdown",
   "id": "8c39cae3",
   "metadata": {
    "pycharm": {
     "name": "#%% md\n"
    }
   },
   "source": [
    "### Plot"
   ]
  },
  {
   "cell_type": "markdown",
   "id": "698ac0fa",
   "metadata": {
    "pycharm": {
     "name": "#%% md\n"
    }
   },
   "source": [
    "Here is the plot of probability as a function of the phase for each output.\n",
    "The x-axis should be the variation of the phi phases between 0 and $\\pi$ with a 0.1 step.\n",
    "The y-axis should be each value of this output list."
   ]
  },
  {
   "cell_type": "code",
   "execution_count": null,
   "id": "9527d570",
   "metadata": {
    "pycharm": {
     "name": "#%%\n"
    }
   },
   "outputs": [],
   "source": [
    "plt.figure()\n",
    "for i, out in enumerate(output):\n",
    "    plt.plot(scan_range, out, '-o', label=ca.output_states_list[i])\n",
    "plt.xlabel('Phase [rad]', fontsize=20)\n",
    "plt.ylabel('Probability', fontsize=20)\n",
    "plt.grid()\n",
    "plt.legend()"
   ]
  },
  {
   "cell_type": "code",
   "execution_count": null,
   "id": "db915dee",
   "metadata": {},
   "outputs": [],
   "source": []
  }
 ],
 "metadata": {
  "kernelspec": {
   "display_name": "Python 3 (ipykernel)",
   "language": "python",
   "name": "python3"
  },
  "language_info": {
   "codemirror_mode": {
    "name": "ipython",
    "version": 3
   },
   "file_extension": ".py",
   "mimetype": "text/x-python",
   "name": "python",
   "nbconvert_exporter": "python",
   "pygments_lexer": "ipython3",
   "version": "3.9.7"
  }
 },
 "nbformat": 4,
 "nbformat_minor": 5
}
