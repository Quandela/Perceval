{
 "cells": [
  {
   "cell_type": "markdown",
   "id": "39710952",
   "metadata": {
    "pycharm": {
     "name": "#%% md\n"
    }
   },
   "source": [
    "# Variational Quantum Eigensolver"
   ]
  },
  {
   "cell_type": "markdown",
   "id": "5e2598a1",
   "metadata": {
    "pycharm": {
     "name": "#%% md\n"
    }
   },
   "source": [
    "We provide a Perceval implementation  of original photonic Variational Quantum Eigensolver (VQE) from  Peruzzo, A. et al. in [1].\n",
    "\n",
    "This notebook provides computations of ground-state molecular energies for the Hamiltonian given by the following papers:\n",
    "\n",
    "$\\bullet$ A variational eigenvalue solver on a photonic quantum processor [1].\n",
    " \n",
    "$\\bullet$ Scalable Quantum Simulation of Molecular Energies [2] .\n",
    " \n",
    "$\\bullet$ Computation of Molecular Spectra on a Quantum Processor with an Error-Resilient Algorithm [3]"
   ]
  },
  {
   "cell_type": "markdown",
   "id": "14d8d0b4",
   "metadata": {
    "pycharm": {
     "name": "#%% md\n"
    }
   },
   "source": [
    "Importing the necessary packages for the computations:"
   ]
  },
  {
   "cell_type": "code",
   "execution_count": 2,
   "id": "1e59ecca",
   "metadata": {
    "pycharm": {
     "name": "#%%\n"
    }
   },
   "outputs": [
    {
     "name": "stdout",
     "output_type": "stream",
     "text": [
      "Perceval version: 0.4.2.post6+2022.5.24\n"
     ]
    }
   ],
   "source": [
    "from IPython import display\n",
    "from collections import Counter\n",
    "from tabulate import tabulate\n",
    "from tqdm.auto import tqdm\n",
    "\n",
    "import perceval as pcvl\n",
    "import quandelibc as qc\n",
    "import perceval.lib.phys as phys\n",
    "import perceval.lib.symb as symb\n",
    "\n",
    "import math as math\n",
    "import numpy.polynomial.polynomial as nppol\n",
    "import sympy as sp\n",
    "import numpy as np\n",
    "from scipy.optimize import minimize\n",
    "import random\n",
    "import matplotlib.pyplot as plt\n",
    "print(\"Perceval version:\", pcvl.__version__)\n",
    "simulator_backend = pcvl.BackendFactory().get_backend(\"Naive\")"
   ]
  },
  {
   "cell_type": "markdown",
   "id": "111f0914",
   "metadata": {
    "pycharm": {
     "name": "#%% md\n"
    }
   },
   "source": [
    "## Implementation in Perceval\n",
    "\n",
    "Here we reproduce on Perceval the 2-qubit circuit used in  [1] for VQE.\n",
    "\n",
    "We use path encoded qubits.\n",
    "\n",
    "Modes 0 and 5 are auxillary. 1$^\\text{st}$ qubit is path encoded in modes 1 and 2. 2$^\\text{nd}$ qubit in modes 3 and 4."
   ]
  },
  {
   "cell_type": "code",
   "execution_count": 2,
   "id": "22786406",
   "metadata": {
    "pycharm": {
     "name": "#%%\n"
    }
   },
   "outputs": [
    {
     "name": "stdout",
     "output_type": "stream",
     "text": [
      "The circuit is :\n"
     ]
    },
    {
     "data": {
      "text/plain": "<IPython.core.display.HTML object>",
      "text/html": "<svg width='1156.000000' height='350.000000' viewBox='-3.000000 0.000000 1153.000000 350.000000'><path d=\"M 10 25 L 25 25\" fill=\"none\" stroke=\"darkred\" stroke-width=\"3.000000\" stroke-linejoin=\"miter\"/>\n<text x=\"0.000000\" y=\"25.000000\" font-size=\"6.000000\" text-anchor=\"start\">0</text>\n<path d=\"M 10 75 L 25 75\" fill=\"none\" stroke=\"darkred\" stroke-width=\"3.000000\" stroke-linejoin=\"miter\"/>\n<text x=\"0.000000\" y=\"75.000000\" font-size=\"6.000000\" text-anchor=\"start\">1</text>\n<path d=\"M 10 125 L 25 125\" fill=\"none\" stroke=\"darkred\" stroke-width=\"3.000000\" stroke-linejoin=\"miter\"/>\n<text x=\"0.000000\" y=\"125.000000\" font-size=\"6.000000\" text-anchor=\"start\">2</text>\n<path d=\"M 10 175 L 25 175\" fill=\"none\" stroke=\"darkred\" stroke-width=\"3.000000\" stroke-linejoin=\"miter\"/>\n<text x=\"0.000000\" y=\"175.000000\" font-size=\"6.000000\" text-anchor=\"start\">3</text>\n<path d=\"M 10 225 L 25 225\" fill=\"none\" stroke=\"darkred\" stroke-width=\"3.000000\" stroke-linejoin=\"miter\"/>\n<text x=\"0.000000\" y=\"225.000000\" font-size=\"6.000000\" text-anchor=\"start\">4</text>\n<path d=\"M 10 275 L 25 275\" fill=\"none\" stroke=\"darkred\" stroke-width=\"3.000000\" stroke-linejoin=\"miter\"/>\n<text x=\"0.000000\" y=\"275.000000\" font-size=\"6.000000\" text-anchor=\"start\">5</text>\n<polyline points=\"25 75 53 75 72 94\" fill=\"transparent\"stroke=\"darkred\" stroke-width=\"3.000000\" stroke-linejoin=\"round\" />\n<polyline points=\"78 94 97 75 125 75\" fill=\"transparent\"stroke=\"darkred\" stroke-width=\"3.000000\" stroke-linejoin=\"round\" />\n<polyline points=\"25 125 53 125 72 106\" fill=\"transparent\"stroke=\"darkred\" stroke-width=\"3.000000\" stroke-linejoin=\"round\" />\n<polyline points=\"78 106 97 125 125 125\" fill=\"transparent\"stroke=\"darkred\" stroke-width=\"3.000000\" stroke-linejoin=\"round\" />\n<polyline points=\"50 93 100 93 100 107 50 107 50 93\" fill=\"black\" stroke=\"black\" stroke-width=\"1.000000\" stroke_linejoin=\"miter\" />\n<text x=\"75.000000\" y=\"136.000000\" font-size=\"7.000000\" text-anchor=\"middle\"></text>\n<text x=\"75.000000\" y=\"76.000000\" font-size=\"7.000000\" text-anchor=\"middle\"></text>\n<polyline points=\"50 93 100 93 100 97 50 97 50 93\" fill=\"lightgray\" stroke=\"black\" stroke-width=\"1.000000\" stroke_linejoin=\"miter\" />\n<polyline points=\"25 175 53 175 72 194\" fill=\"transparent\"stroke=\"darkred\" stroke-width=\"3.000000\" stroke-linejoin=\"round\" />\n<polyline points=\"78 194 97 175 125 175\" fill=\"transparent\"stroke=\"darkred\" stroke-width=\"3.000000\" stroke-linejoin=\"round\" />\n<polyline points=\"25 225 53 225 72 206\" fill=\"transparent\"stroke=\"darkred\" stroke-width=\"3.000000\" stroke-linejoin=\"round\" />\n<polyline points=\"78 206 97 225 125 225\" fill=\"transparent\"stroke=\"darkred\" stroke-width=\"3.000000\" stroke-linejoin=\"round\" />\n<polyline points=\"50 193 100 193 100 207 50 207 50 193\" fill=\"black\" stroke=\"black\" stroke-width=\"1.000000\" stroke_linejoin=\"miter\" />\n<text x=\"75.000000\" y=\"236.000000\" font-size=\"7.000000\" text-anchor=\"middle\"></text>\n<text x=\"75.000000\" y=\"176.000000\" font-size=\"7.000000\" text-anchor=\"middle\"></text>\n<polyline points=\"50 193 100 193 100 197 50 197 50 193\" fill=\"lightgray\" stroke=\"black\" stroke-width=\"1.000000\" stroke_linejoin=\"miter\" />\n<polyline points=\"125 125 175 125\" fill=\"transparent\"stroke=\"darkred\" stroke-width=\"3.000000\" stroke-linejoin=\"miter\" />\n<polyline points=\"130 140 139 140 153 110 144 110 130 140 139 140 130 140\" fill=\"gray\" stroke=\"black\" stroke-width=\"1.000000\" stroke_linejoin=\"miter\" />\n<text x=\"147.000000\" y=\"138.000000\" font-size=\"7.000000\" text-anchor=\"start\">φ=φ1</text>\n<polyline points=\"125 225 175 225\" fill=\"transparent\"stroke=\"darkred\" stroke-width=\"3.000000\" stroke-linejoin=\"miter\" />\n<polyline points=\"130 240 139 240 153 210 144 210 130 240 139 240 130 240\" fill=\"gray\" stroke=\"black\" stroke-width=\"1.000000\" stroke_linejoin=\"miter\" />\n<text x=\"147.000000\" y=\"238.000000\" font-size=\"7.000000\" text-anchor=\"start\">φ=φ3</text>\n<polyline points=\"125 75 175 75\" fill=\"transparent\"stroke=\"darkred\" stroke-width=\"3.000000\" stroke-linejoin=\"miter\" />\n<polyline points=\"175 75 203 75 222 94\" fill=\"transparent\"stroke=\"darkred\" stroke-width=\"3.000000\" stroke-linejoin=\"round\" />\n<polyline points=\"228 94 247 75 275 75\" fill=\"transparent\"stroke=\"darkred\" stroke-width=\"3.000000\" stroke-linejoin=\"round\" />\n<polyline points=\"175 125 203 125 222 106\" fill=\"transparent\"stroke=\"darkred\" stroke-width=\"3.000000\" stroke-linejoin=\"round\" />\n<polyline points=\"228 106 247 125 275 125\" fill=\"transparent\"stroke=\"darkred\" stroke-width=\"3.000000\" stroke-linejoin=\"round\" />\n<polyline points=\"200 93 250 93 250 107 200 107 200 93\" fill=\"black\" stroke=\"black\" stroke-width=\"1.000000\" stroke_linejoin=\"miter\" />\n<text x=\"225.000000\" y=\"136.000000\" font-size=\"7.000000\" text-anchor=\"middle\"></text>\n<text x=\"225.000000\" y=\"76.000000\" font-size=\"7.000000\" text-anchor=\"middle\"></text>\n<polyline points=\"200 93 250 93 250 97 200 97 200 93\" fill=\"lightgray\" stroke=\"black\" stroke-width=\"1.000000\" stroke_linejoin=\"miter\" />\n<polyline points=\"125 175 175 175\" fill=\"transparent\"stroke=\"darkred\" stroke-width=\"3.000000\" stroke-linejoin=\"miter\" />\n<polyline points=\"175 175 203 175 222 194\" fill=\"transparent\"stroke=\"darkred\" stroke-width=\"3.000000\" stroke-linejoin=\"round\" />\n<polyline points=\"228 194 247 175 275 175\" fill=\"transparent\"stroke=\"darkred\" stroke-width=\"3.000000\" stroke-linejoin=\"round\" />\n<polyline points=\"175 225 203 225 222 206\" fill=\"transparent\"stroke=\"darkred\" stroke-width=\"3.000000\" stroke-linejoin=\"round\" />\n<polyline points=\"228 206 247 225 275 225\" fill=\"transparent\"stroke=\"darkred\" stroke-width=\"3.000000\" stroke-linejoin=\"round\" />\n<polyline points=\"200 193 250 193 250 207 200 207 200 193\" fill=\"black\" stroke=\"black\" stroke-width=\"1.000000\" stroke_linejoin=\"miter\" />\n<text x=\"225.000000\" y=\"236.000000\" font-size=\"7.000000\" text-anchor=\"middle\"></text>\n<text x=\"225.000000\" y=\"176.000000\" font-size=\"7.000000\" text-anchor=\"middle\"></text>\n<polyline points=\"200 193 250 193 250 197 200 197 200 193\" fill=\"lightgray\" stroke=\"black\" stroke-width=\"1.000000\" stroke_linejoin=\"miter\" />\n<polyline points=\"275 125 325 125\" fill=\"transparent\"stroke=\"darkred\" stroke-width=\"3.000000\" stroke-linejoin=\"miter\" />\n<polyline points=\"280 140 289 140 303 110 294 110 280 140 289 140 280 140\" fill=\"gray\" stroke=\"black\" stroke-width=\"1.000000\" stroke_linejoin=\"miter\" />\n<text x=\"297.000000\" y=\"138.000000\" font-size=\"7.000000\" text-anchor=\"start\">φ=φ2</text>\n<polyline points=\"275 225 325 225\" fill=\"transparent\"stroke=\"darkred\" stroke-width=\"3.000000\" stroke-linejoin=\"miter\" />\n<polyline points=\"280 240 289 240 303 210 294 210 280 240 289 240 280 240\" fill=\"gray\" stroke=\"black\" stroke-width=\"1.000000\" stroke_linejoin=\"miter\" />\n<text x=\"297.000000\" y=\"238.000000\" font-size=\"7.000000\" text-anchor=\"start\">φ=φ4</text>\n<polyline points=\"25 25 325 25\" fill=\"transparent\"stroke=\"darkred\" stroke-width=\"3.000000\" stroke-linejoin=\"miter\" />\n<polyline points=\"275 75 325 75\" fill=\"transparent\"stroke=\"darkred\" stroke-width=\"3.000000\" stroke-linejoin=\"miter\" />\n<polyline points=\"275 175 325 175\" fill=\"transparent\"stroke=\"darkred\" stroke-width=\"3.000000\" stroke-linejoin=\"miter\" />\n<polyline points=\"25 275 325 275\" fill=\"transparent\"stroke=\"darkred\" stroke-width=\"3.000000\" stroke-linejoin=\"miter\" />\n<polyline points=\"328 25 372 25\" fill=\"transparent\"stroke=\"white\" stroke-width=\"6.000000\" stroke-linejoin=\"miter\" />\n<polyline points=\"325 25 328 25 372 25 375 25\" fill=\"transparent\"stroke=\"darkred\" stroke-width=\"3.000000\" stroke-linejoin=\"miter\" />\n<polyline points=\"328 75 372 75\" fill=\"transparent\"stroke=\"white\" stroke-width=\"6.000000\" stroke-linejoin=\"miter\" />\n<polyline points=\"325 75 328 75 372 75 375 75\" fill=\"transparent\"stroke=\"darkred\" stroke-width=\"3.000000\" stroke-linejoin=\"miter\" />\n<polyline points=\"328 125 372 125\" fill=\"transparent\"stroke=\"white\" stroke-width=\"6.000000\" stroke-linejoin=\"miter\" />\n<polyline points=\"325 125 328 125 372 125 375 125\" fill=\"transparent\"stroke=\"darkred\" stroke-width=\"3.000000\" stroke-linejoin=\"miter\" />\n<polyline points=\"328 175 372 175\" fill=\"transparent\"stroke=\"white\" stroke-width=\"6.000000\" stroke-linejoin=\"miter\" />\n<polyline points=\"325 175 328 175 372 175 375 175\" fill=\"transparent\"stroke=\"darkred\" stroke-width=\"3.000000\" stroke-linejoin=\"miter\" />\n<polyline points=\"328 225 372 225\" fill=\"transparent\"stroke=\"white\" stroke-width=\"6.000000\" stroke-linejoin=\"miter\" />\n<polyline points=\"325 225 328 225 372 225 375 225\" fill=\"transparent\"stroke=\"darkred\" stroke-width=\"3.000000\" stroke-linejoin=\"miter\" />\n<polyline points=\"328 275 372 275\" fill=\"transparent\"stroke=\"white\" stroke-width=\"6.000000\" stroke-linejoin=\"miter\" />\n<polyline points=\"325 275 328 275 372 275 375 275\" fill=\"transparent\"stroke=\"darkred\" stroke-width=\"3.000000\" stroke-linejoin=\"miter\" />\n<polyline points=\"375 175 403 175 422 194\" fill=\"transparent\"stroke=\"darkred\" stroke-width=\"3.000000\" stroke-linejoin=\"round\" />\n<polyline points=\"428 194 447 175 475 175\" fill=\"transparent\"stroke=\"darkred\" stroke-width=\"3.000000\" stroke-linejoin=\"round\" />\n<polyline points=\"375 225 403 225 422 206\" fill=\"transparent\"stroke=\"darkred\" stroke-width=\"3.000000\" stroke-linejoin=\"round\" />\n<polyline points=\"428 206 447 225 475 225\" fill=\"transparent\"stroke=\"darkred\" stroke-width=\"3.000000\" stroke-linejoin=\"round\" />\n<polyline points=\"400 193 450 193 450 207 400 207 400 193\" fill=\"black\" stroke=\"black\" stroke-width=\"1.000000\" stroke_linejoin=\"miter\" />\n<text x=\"425.000000\" y=\"236.000000\" font-size=\"7.000000\" text-anchor=\"middle\"></text>\n<text x=\"425.000000\" y=\"176.000000\" font-size=\"7.000000\" text-anchor=\"middle\"></text>\n<polyline points=\"400 193 450 193 450 197 400 197 400 193\" fill=\"lightgray\" stroke=\"black\" stroke-width=\"1.000000\" stroke_linejoin=\"miter\" />\n<polyline points=\"375 25 475 25\" fill=\"transparent\"stroke=\"darkred\" stroke-width=\"3.000000\" stroke-linejoin=\"miter\" />\n<polyline points=\"375 75 475 75\" fill=\"transparent\"stroke=\"darkred\" stroke-width=\"3.000000\" stroke-linejoin=\"miter\" />\n<polyline points=\"375 125 475 125\" fill=\"transparent\"stroke=\"darkred\" stroke-width=\"3.000000\" stroke-linejoin=\"miter\" />\n<polyline points=\"375 275 475 275\" fill=\"transparent\"stroke=\"darkred\" stroke-width=\"3.000000\" stroke-linejoin=\"miter\" />\n<polyline points=\"478 25 522 25\" fill=\"transparent\"stroke=\"white\" stroke-width=\"6.000000\" stroke-linejoin=\"miter\" />\n<polyline points=\"475 25 478 25 522 25 525 25\" fill=\"transparent\"stroke=\"darkred\" stroke-width=\"3.000000\" stroke-linejoin=\"miter\" />\n<polyline points=\"478 75 522 75\" fill=\"transparent\"stroke=\"white\" stroke-width=\"6.000000\" stroke-linejoin=\"miter\" />\n<polyline points=\"475 75 478 75 522 75 525 75\" fill=\"transparent\"stroke=\"darkred\" stroke-width=\"3.000000\" stroke-linejoin=\"miter\" />\n<polyline points=\"478 125 522 125\" fill=\"transparent\"stroke=\"white\" stroke-width=\"6.000000\" stroke-linejoin=\"miter\" />\n<polyline points=\"475 125 478 125 522 125 525 125\" fill=\"transparent\"stroke=\"darkred\" stroke-width=\"3.000000\" stroke-linejoin=\"miter\" />\n<polyline points=\"478 175 522 175\" fill=\"transparent\"stroke=\"white\" stroke-width=\"6.000000\" stroke-linejoin=\"miter\" />\n<polyline points=\"475 175 478 175 522 175 525 175\" fill=\"transparent\"stroke=\"darkred\" stroke-width=\"3.000000\" stroke-linejoin=\"miter\" />\n<polyline points=\"478 225 522 225\" fill=\"transparent\"stroke=\"white\" stroke-width=\"6.000000\" stroke-linejoin=\"miter\" />\n<polyline points=\"475 225 478 225 522 225 525 225\" fill=\"transparent\"stroke=\"darkred\" stroke-width=\"3.000000\" stroke-linejoin=\"miter\" />\n<polyline points=\"478 275 522 275\" fill=\"transparent\"stroke=\"white\" stroke-width=\"6.000000\" stroke-linejoin=\"miter\" />\n<polyline points=\"475 275 478 275 522 275 525 275\" fill=\"transparent\"stroke=\"darkred\" stroke-width=\"3.000000\" stroke-linejoin=\"miter\" />\n<polyline points=\"525 25 553 25 572 44\" fill=\"transparent\"stroke=\"darkred\" stroke-width=\"3.000000\" stroke-linejoin=\"round\" />\n<polyline points=\"578 44 597 25 625 25\" fill=\"transparent\"stroke=\"darkred\" stroke-width=\"3.000000\" stroke-linejoin=\"round\" />\n<polyline points=\"525 75 553 75 572 56\" fill=\"transparent\"stroke=\"darkred\" stroke-width=\"3.000000\" stroke-linejoin=\"round\" />\n<polyline points=\"578 56 597 75 625 75\" fill=\"transparent\"stroke=\"darkred\" stroke-width=\"3.000000\" stroke-linejoin=\"round\" />\n<polyline points=\"550 43 600 43 600 57 550 57 550 43\" fill=\"black\" stroke=\"black\" stroke-width=\"1.000000\" stroke_linejoin=\"miter\" />\n<text x=\"575.000000\" y=\"86.000000\" font-size=\"7.000000\" text-anchor=\"middle\"></text>\n<text x=\"575.000000\" y=\"26.000000\" font-size=\"7.000000\" text-anchor=\"middle\">R=1/3</text>\n<polyline points=\"550 43 600 43 600 47 550 47 550 43\" fill=\"lightgray\" stroke=\"black\" stroke-width=\"1.000000\" stroke_linejoin=\"miter\" />\n<polyline points=\"525 125 553 125 572 144\" fill=\"transparent\"stroke=\"darkred\" stroke-width=\"3.000000\" stroke-linejoin=\"round\" />\n<polyline points=\"578 144 597 125 625 125\" fill=\"transparent\"stroke=\"darkred\" stroke-width=\"3.000000\" stroke-linejoin=\"round\" />\n<polyline points=\"525 175 553 175 572 156\" fill=\"transparent\"stroke=\"darkred\" stroke-width=\"3.000000\" stroke-linejoin=\"round\" />\n<polyline points=\"578 156 597 175 625 175\" fill=\"transparent\"stroke=\"darkred\" stroke-width=\"3.000000\" stroke-linejoin=\"round\" />\n<polyline points=\"550 143 600 143 600 157 550 157 550 143\" fill=\"black\" stroke=\"black\" stroke-width=\"1.000000\" stroke_linejoin=\"miter\" />\n<text x=\"575.000000\" y=\"186.000000\" font-size=\"7.000000\" text-anchor=\"middle\"></text>\n<text x=\"575.000000\" y=\"126.000000\" font-size=\"7.000000\" text-anchor=\"middle\">R=1/3</text>\n<polyline points=\"550 143 600 143 600 147 550 147 550 143\" fill=\"lightgray\" stroke=\"black\" stroke-width=\"1.000000\" stroke_linejoin=\"miter\" />\n<polyline points=\"525 225 553 225 572 244\" fill=\"transparent\"stroke=\"darkred\" stroke-width=\"3.000000\" stroke-linejoin=\"round\" />\n<polyline points=\"578 244 597 225 625 225\" fill=\"transparent\"stroke=\"darkred\" stroke-width=\"3.000000\" stroke-linejoin=\"round\" />\n<polyline points=\"525 275 553 275 572 256\" fill=\"transparent\"stroke=\"darkred\" stroke-width=\"3.000000\" stroke-linejoin=\"round\" />\n<polyline points=\"578 256 597 275 625 275\" fill=\"transparent\"stroke=\"darkred\" stroke-width=\"3.000000\" stroke-linejoin=\"round\" />\n<polyline points=\"550 243 600 243 600 257 550 257 550 243\" fill=\"black\" stroke=\"black\" stroke-width=\"1.000000\" stroke_linejoin=\"miter\" />\n<text x=\"575.000000\" y=\"286.000000\" font-size=\"7.000000\" text-anchor=\"middle\"></text>\n<text x=\"575.000000\" y=\"226.000000\" font-size=\"7.000000\" text-anchor=\"middle\">R=1/3</text>\n<polyline points=\"550 243 600 243 600 247 550 247 550 243\" fill=\"lightgray\" stroke=\"black\" stroke-width=\"1.000000\" stroke_linejoin=\"miter\" />\n<polyline points=\"628 25 672 25\" fill=\"transparent\"stroke=\"white\" stroke-width=\"6.000000\" stroke-linejoin=\"miter\" />\n<polyline points=\"625 25 628 25 672 25 675 25\" fill=\"transparent\"stroke=\"darkred\" stroke-width=\"3.000000\" stroke-linejoin=\"miter\" />\n<polyline points=\"628 75 672 75\" fill=\"transparent\"stroke=\"white\" stroke-width=\"6.000000\" stroke-linejoin=\"miter\" />\n<polyline points=\"625 75 628 75 672 75 675 75\" fill=\"transparent\"stroke=\"darkred\" stroke-width=\"3.000000\" stroke-linejoin=\"miter\" />\n<polyline points=\"628 125 672 125\" fill=\"transparent\"stroke=\"white\" stroke-width=\"6.000000\" stroke-linejoin=\"miter\" />\n<polyline points=\"625 125 628 125 672 125 675 125\" fill=\"transparent\"stroke=\"darkred\" stroke-width=\"3.000000\" stroke-linejoin=\"miter\" />\n<polyline points=\"628 175 672 175\" fill=\"transparent\"stroke=\"white\" stroke-width=\"6.000000\" stroke-linejoin=\"miter\" />\n<polyline points=\"625 175 628 175 672 175 675 175\" fill=\"transparent\"stroke=\"darkred\" stroke-width=\"3.000000\" stroke-linejoin=\"miter\" />\n<polyline points=\"628 225 672 225\" fill=\"transparent\"stroke=\"white\" stroke-width=\"6.000000\" stroke-linejoin=\"miter\" />\n<polyline points=\"625 225 628 225 672 225 675 225\" fill=\"transparent\"stroke=\"darkred\" stroke-width=\"3.000000\" stroke-linejoin=\"miter\" />\n<polyline points=\"628 275 672 275\" fill=\"transparent\"stroke=\"white\" stroke-width=\"6.000000\" stroke-linejoin=\"miter\" />\n<polyline points=\"625 275 628 275 672 275 675 275\" fill=\"transparent\"stroke=\"darkred\" stroke-width=\"3.000000\" stroke-linejoin=\"miter\" />\n<polyline points=\"675 175 703 175 722 194\" fill=\"transparent\"stroke=\"darkred\" stroke-width=\"3.000000\" stroke-linejoin=\"round\" />\n<polyline points=\"728 194 747 175 775 175\" fill=\"transparent\"stroke=\"darkred\" stroke-width=\"3.000000\" stroke-linejoin=\"round\" />\n<polyline points=\"675 225 703 225 722 206\" fill=\"transparent\"stroke=\"darkred\" stroke-width=\"3.000000\" stroke-linejoin=\"round\" />\n<polyline points=\"728 206 747 225 775 225\" fill=\"transparent\"stroke=\"darkred\" stroke-width=\"3.000000\" stroke-linejoin=\"round\" />\n<polyline points=\"700 193 750 193 750 207 700 207 700 193\" fill=\"black\" stroke=\"black\" stroke-width=\"1.000000\" stroke_linejoin=\"miter\" />\n<text x=\"725.000000\" y=\"236.000000\" font-size=\"7.000000\" text-anchor=\"middle\"></text>\n<text x=\"725.000000\" y=\"176.000000\" font-size=\"7.000000\" text-anchor=\"middle\"></text>\n<polyline points=\"700 193 750 193 750 197 700 197 700 193\" fill=\"lightgray\" stroke=\"black\" stroke-width=\"1.000000\" stroke_linejoin=\"miter\" />\n<polyline points=\"675 25 775 25\" fill=\"transparent\"stroke=\"darkred\" stroke-width=\"3.000000\" stroke-linejoin=\"miter\" />\n<polyline points=\"675 75 775 75\" fill=\"transparent\"stroke=\"darkred\" stroke-width=\"3.000000\" stroke-linejoin=\"miter\" />\n<polyline points=\"675 125 775 125\" fill=\"transparent\"stroke=\"darkred\" stroke-width=\"3.000000\" stroke-linejoin=\"miter\" />\n<polyline points=\"675 275 775 275\" fill=\"transparent\"stroke=\"darkred\" stroke-width=\"3.000000\" stroke-linejoin=\"miter\" />\n<polyline points=\"778 25 822 25\" fill=\"transparent\"stroke=\"white\" stroke-width=\"6.000000\" stroke-linejoin=\"miter\" />\n<polyline points=\"775 25 778 25 822 25 825 25\" fill=\"transparent\"stroke=\"darkred\" stroke-width=\"3.000000\" stroke-linejoin=\"miter\" />\n<polyline points=\"778 75 822 75\" fill=\"transparent\"stroke=\"white\" stroke-width=\"6.000000\" stroke-linejoin=\"miter\" />\n<polyline points=\"775 75 778 75 822 75 825 75\" fill=\"transparent\"stroke=\"darkred\" stroke-width=\"3.000000\" stroke-linejoin=\"miter\" />\n<polyline points=\"778 125 822 125\" fill=\"transparent\"stroke=\"white\" stroke-width=\"6.000000\" stroke-linejoin=\"miter\" />\n<polyline points=\"775 125 778 125 822 125 825 125\" fill=\"transparent\"stroke=\"darkred\" stroke-width=\"3.000000\" stroke-linejoin=\"miter\" />\n<polyline points=\"778 175 822 175\" fill=\"transparent\"stroke=\"white\" stroke-width=\"6.000000\" stroke-linejoin=\"miter\" />\n<polyline points=\"775 175 778 175 822 175 825 175\" fill=\"transparent\"stroke=\"darkred\" stroke-width=\"3.000000\" stroke-linejoin=\"miter\" />\n<polyline points=\"778 225 822 225\" fill=\"transparent\"stroke=\"white\" stroke-width=\"6.000000\" stroke-linejoin=\"miter\" />\n<polyline points=\"775 225 778 225 822 225 825 225\" fill=\"transparent\"stroke=\"darkred\" stroke-width=\"3.000000\" stroke-linejoin=\"miter\" />\n<polyline points=\"778 275 822 275\" fill=\"transparent\"stroke=\"white\" stroke-width=\"6.000000\" stroke-linejoin=\"miter\" />\n<polyline points=\"775 275 778 275 822 275 825 275\" fill=\"transparent\"stroke=\"darkred\" stroke-width=\"3.000000\" stroke-linejoin=\"miter\" />\n<polyline points=\"825 125 875 125\" fill=\"transparent\"stroke=\"darkred\" stroke-width=\"3.000000\" stroke-linejoin=\"miter\" />\n<polyline points=\"830 140 839 140 853 110 844 110 830 140 839 140 830 140\" fill=\"gray\" stroke=\"black\" stroke-width=\"1.000000\" stroke_linejoin=\"miter\" />\n<text x=\"847.000000\" y=\"138.000000\" font-size=\"7.000000\" text-anchor=\"start\">φ=φ5</text>\n<polyline points=\"825 225 875 225\" fill=\"transparent\"stroke=\"darkred\" stroke-width=\"3.000000\" stroke-linejoin=\"miter\" />\n<polyline points=\"830 240 839 240 853 210 844 210 830 240 839 240 830 240\" fill=\"gray\" stroke=\"black\" stroke-width=\"1.000000\" stroke_linejoin=\"miter\" />\n<text x=\"847.000000\" y=\"238.000000\" font-size=\"7.000000\" text-anchor=\"start\">φ=φ7</text>\n<polyline points=\"825 75 875 75\" fill=\"transparent\"stroke=\"darkred\" stroke-width=\"3.000000\" stroke-linejoin=\"miter\" />\n<polyline points=\"875 75 903 75 922 94\" fill=\"transparent\"stroke=\"darkred\" stroke-width=\"3.000000\" stroke-linejoin=\"round\" />\n<polyline points=\"928 94 947 75 975 75\" fill=\"transparent\"stroke=\"darkred\" stroke-width=\"3.000000\" stroke-linejoin=\"round\" />\n<polyline points=\"875 125 903 125 922 106\" fill=\"transparent\"stroke=\"darkred\" stroke-width=\"3.000000\" stroke-linejoin=\"round\" />\n<polyline points=\"928 106 947 125 975 125\" fill=\"transparent\"stroke=\"darkred\" stroke-width=\"3.000000\" stroke-linejoin=\"round\" />\n<polyline points=\"900 93 950 93 950 107 900 107 900 93\" fill=\"black\" stroke=\"black\" stroke-width=\"1.000000\" stroke_linejoin=\"miter\" />\n<text x=\"925.000000\" y=\"136.000000\" font-size=\"7.000000\" text-anchor=\"middle\"></text>\n<text x=\"925.000000\" y=\"76.000000\" font-size=\"7.000000\" text-anchor=\"middle\"></text>\n<polyline points=\"900 93 950 93 950 97 900 97 900 93\" fill=\"lightgray\" stroke=\"black\" stroke-width=\"1.000000\" stroke_linejoin=\"miter\" />\n<polyline points=\"825 175 875 175\" fill=\"transparent\"stroke=\"darkred\" stroke-width=\"3.000000\" stroke-linejoin=\"miter\" />\n<polyline points=\"875 175 903 175 922 194\" fill=\"transparent\"stroke=\"darkred\" stroke-width=\"3.000000\" stroke-linejoin=\"round\" />\n<polyline points=\"928 194 947 175 975 175\" fill=\"transparent\"stroke=\"darkred\" stroke-width=\"3.000000\" stroke-linejoin=\"round\" />\n<polyline points=\"875 225 903 225 922 206\" fill=\"transparent\"stroke=\"darkred\" stroke-width=\"3.000000\" stroke-linejoin=\"round\" />\n<polyline points=\"928 206 947 225 975 225\" fill=\"transparent\"stroke=\"darkred\" stroke-width=\"3.000000\" stroke-linejoin=\"round\" />\n<polyline points=\"900 193 950 193 950 207 900 207 900 193\" fill=\"black\" stroke=\"black\" stroke-width=\"1.000000\" stroke_linejoin=\"miter\" />\n<text x=\"925.000000\" y=\"236.000000\" font-size=\"7.000000\" text-anchor=\"middle\"></text>\n<text x=\"925.000000\" y=\"176.000000\" font-size=\"7.000000\" text-anchor=\"middle\"></text>\n<polyline points=\"900 193 950 193 950 197 900 197 900 193\" fill=\"lightgray\" stroke=\"black\" stroke-width=\"1.000000\" stroke_linejoin=\"miter\" />\n<polyline points=\"975 125 1025 125\" fill=\"transparent\"stroke=\"darkred\" stroke-width=\"3.000000\" stroke-linejoin=\"miter\" />\n<polyline points=\"980 140 989 140 1003 110 994 110 980 140 989 140 980 140\" fill=\"gray\" stroke=\"black\" stroke-width=\"1.000000\" stroke_linejoin=\"miter\" />\n<text x=\"997.000000\" y=\"138.000000\" font-size=\"7.000000\" text-anchor=\"start\">φ=φ6</text>\n<polyline points=\"975 225 1025 225\" fill=\"transparent\"stroke=\"darkred\" stroke-width=\"3.000000\" stroke-linejoin=\"miter\" />\n<polyline points=\"980 240 989 240 1003 210 994 210 980 240 989 240 980 240\" fill=\"gray\" stroke=\"black\" stroke-width=\"1.000000\" stroke_linejoin=\"miter\" />\n<text x=\"997.000000\" y=\"238.000000\" font-size=\"7.000000\" text-anchor=\"start\">φ=φ8</text>\n<polyline points=\"975 75 1025 75\" fill=\"transparent\"stroke=\"darkred\" stroke-width=\"3.000000\" stroke-linejoin=\"miter\" />\n<polyline points=\"1025 75 1053 75 1072 94\" fill=\"transparent\"stroke=\"darkred\" stroke-width=\"3.000000\" stroke-linejoin=\"round\" />\n<polyline points=\"1078 94 1097 75 1125 75\" fill=\"transparent\"stroke=\"darkred\" stroke-width=\"3.000000\" stroke-linejoin=\"round\" />\n<polyline points=\"1025 125 1053 125 1072 106\" fill=\"transparent\"stroke=\"darkred\" stroke-width=\"3.000000\" stroke-linejoin=\"round\" />\n<polyline points=\"1078 106 1097 125 1125 125\" fill=\"transparent\"stroke=\"darkred\" stroke-width=\"3.000000\" stroke-linejoin=\"round\" />\n<polyline points=\"1050 93 1100 93 1100 107 1050 107 1050 93\" fill=\"black\" stroke=\"black\" stroke-width=\"1.000000\" stroke_linejoin=\"miter\" />\n<text x=\"1075.000000\" y=\"136.000000\" font-size=\"7.000000\" text-anchor=\"middle\"></text>\n<text x=\"1075.000000\" y=\"76.000000\" font-size=\"7.000000\" text-anchor=\"middle\"></text>\n<polyline points=\"1050 93 1100 93 1100 97 1050 97 1050 93\" fill=\"lightgray\" stroke=\"black\" stroke-width=\"1.000000\" stroke_linejoin=\"miter\" />\n<polyline points=\"975 175 1025 175\" fill=\"transparent\"stroke=\"darkred\" stroke-width=\"3.000000\" stroke-linejoin=\"miter\" />\n<polyline points=\"1025 175 1053 175 1072 194\" fill=\"transparent\"stroke=\"darkred\" stroke-width=\"3.000000\" stroke-linejoin=\"round\" />\n<polyline points=\"1078 194 1097 175 1125 175\" fill=\"transparent\"stroke=\"darkred\" stroke-width=\"3.000000\" stroke-linejoin=\"round\" />\n<polyline points=\"1025 225 1053 225 1072 206\" fill=\"transparent\"stroke=\"darkred\" stroke-width=\"3.000000\" stroke-linejoin=\"round\" />\n<polyline points=\"1078 206 1097 225 1125 225\" fill=\"transparent\"stroke=\"darkred\" stroke-width=\"3.000000\" stroke-linejoin=\"round\" />\n<polyline points=\"1050 193 1100 193 1100 207 1050 207 1050 193\" fill=\"black\" stroke=\"black\" stroke-width=\"1.000000\" stroke_linejoin=\"miter\" />\n<text x=\"1075.000000\" y=\"236.000000\" font-size=\"7.000000\" text-anchor=\"middle\"></text>\n<text x=\"1075.000000\" y=\"176.000000\" font-size=\"7.000000\" text-anchor=\"middle\"></text>\n<polyline points=\"1050 193 1100 193 1100 197 1050 197 1050 193\" fill=\"lightgray\" stroke=\"black\" stroke-width=\"1.000000\" stroke_linejoin=\"miter\" />\n<polyline points=\"825 25 1125 25\" fill=\"transparent\"stroke=\"darkred\" stroke-width=\"3.000000\" stroke-linejoin=\"miter\" />\n<polyline points=\"825 275 1125 275\" fill=\"transparent\"stroke=\"darkred\" stroke-width=\"3.000000\" stroke-linejoin=\"miter\" />\n<path d=\"M 1125 25 L 1140 25\" fill=\"none\" stroke=\"darkred\" stroke-width=\"3.000000\" stroke-linejoin=\"miter\"/>\n<text x=\"1150.000000\" y=\"25.000000\" font-size=\"6.000000\" text-anchor=\"end\">0</text>\n<path d=\"M 1125 75 L 1140 75\" fill=\"none\" stroke=\"darkred\" stroke-width=\"3.000000\" stroke-linejoin=\"miter\"/>\n<text x=\"1150.000000\" y=\"75.000000\" font-size=\"6.000000\" text-anchor=\"end\">1</text>\n<path d=\"M 1125 125 L 1140 125\" fill=\"none\" stroke=\"darkred\" stroke-width=\"3.000000\" stroke-linejoin=\"miter\"/>\n<text x=\"1150.000000\" y=\"125.000000\" font-size=\"6.000000\" text-anchor=\"end\">2</text>\n<path d=\"M 1125 175 L 1140 175\" fill=\"none\" stroke=\"darkred\" stroke-width=\"3.000000\" stroke-linejoin=\"miter\"/>\n<text x=\"1150.000000\" y=\"175.000000\" font-size=\"6.000000\" text-anchor=\"end\">3</text>\n<path d=\"M 1125 225 L 1140 225\" fill=\"none\" stroke=\"darkred\" stroke-width=\"3.000000\" stroke-linejoin=\"miter\"/>\n<text x=\"1150.000000\" y=\"225.000000\" font-size=\"6.000000\" text-anchor=\"end\">4</text>\n<path d=\"M 1125 275 L 1140 275\" fill=\"none\" stroke=\"darkred\" stroke-width=\"3.000000\" stroke-linejoin=\"miter\"/>\n<text x=\"1150.000000\" y=\"275.000000\" font-size=\"6.000000\" text-anchor=\"end\">5</text></svg>"
     },
     "metadata": {},
     "output_type": "display_data"
    }
   ],
   "source": [
    "#List of the parameters φ1,φ2,...,φ8\n",
    "List_Parameters=[]\n",
    "\n",
    "# VQE is a 6 optical mode circuit\n",
    "VQE=pcvl.Circuit(6)\n",
    "\n",
    "VQE.add((1,2), phys.BS(R=1/2))\n",
    "VQE.add((3,4), phys.BS(R=1/2))\n",
    "List_Parameters.append(pcvl.Parameter(\"φ1\"))\n",
    "VQE.add((2,),phys.PS(phi=List_Parameters[-1]))\n",
    "List_Parameters.append(pcvl.Parameter(\"φ3\"))\n",
    "VQE.add((4,),phys.PS(phi=List_Parameters[-1]))\n",
    "VQE.add((1,2), phys.BS(R=1/2))\n",
    "VQE.add((3,4), phys.BS(R=1/2))\n",
    "List_Parameters.append(pcvl.Parameter(\"φ2\"))\n",
    "VQE.add((2,),phys.PS(phi=List_Parameters[-1]))\n",
    "List_Parameters.append(pcvl.Parameter(\"φ4\"))\n",
    "VQE.add((4,),phys.PS(phi=List_Parameters[-1]))\n",
    "\n",
    "\n",
    "# CNOT ( Post-selected with a success probability of 1/9) \n",
    "VQE.add([0,1,2,3,4,5], phys.PERM([0,1,2,3,4,5]))#Identity PERM (permutation) for the purpose of drawing a nice circuit\n",
    "VQE.add((3,4), phys.BS(R=1/2))\n",
    "VQE.add([0,1,2,3,4,5], phys.PERM([0,1,2,3,4,5]))#Identity PERM (permutation) for the same purpose\n",
    "VQE.add((0,1), phys.BS(R=1/3))\n",
    "VQE.add((2,3), phys.BS(R=1/3))\n",
    "VQE.add((4,5), phys.BS(R=1/3))\n",
    "VQE.add([0,1,2,3,4,5], phys.PERM([0,1,2,3,4,5]))#Identity PERM (permutation) for the same purpose\n",
    "VQE.add((3,4), phys.BS(R=1/2))\n",
    "VQE.add([0,1,2,3,4,5], phys.PERM([0,1,2,3,4,5]))#Identity PERM (permutation) for the same purpose\n",
    "\n",
    "List_Parameters.append(pcvl.Parameter(\"φ5\"))\n",
    "VQE.add((2,),phys.PS(phi=List_Parameters[-1]))\n",
    "List_Parameters.append(pcvl.Parameter(\"φ7\"))\n",
    "VQE.add((4,),phys.PS(phi=List_Parameters[-1]))\n",
    "VQE.add((1,2), phys.BS(R=1/2))\n",
    "VQE.add((3,4), phys.BS(R=1/2))\n",
    "List_Parameters.append(pcvl.Parameter(\"φ6\"))\n",
    "VQE.add((2,),phys.PS(phi=List_Parameters[-1]))\n",
    "List_Parameters.append(pcvl.Parameter(\"φ8\"))\n",
    "VQE.add((4,),phys.PS(phi=List_Parameters[-1]))\n",
    "VQE.add((1,2), phys.BS(R=1/2))\n",
    "VQE.add((3,4), phys.BS(R=1/2))\n",
    "\n",
    "# Mode 0 and 5 are auxillary.\n",
    "#1st qubit is path encoded in modes 1 & 2\n",
    "#2nd qubit in 3 & 4\n",
    "\n",
    "print(\"The circuit is :\")\n",
    "pcvl.pdisplay(VQE)"
   ]
  },
  {
   "cell_type": "markdown",
   "id": "91a1daa5",
   "metadata": {
    "pycharm": {
     "name": "#%% md\n"
    }
   },
   "source": [
    "## Logical input and output states\n",
    "\n",
    "Logical states are path encoded on the Fock States."
   ]
  },
  {
   "cell_type": "code",
   "execution_count": 3,
   "id": "09dba52d",
   "metadata": {
    "pycharm": {
     "name": "#%%\n"
    }
   },
   "outputs": [],
   "source": [
    "#Input states of the photonic circuit\n",
    "input_states = {\n",
    "    pcvl.BasicState([0,1,0,1,0,0]):\"|00>\"}\n",
    "\n",
    "#Outputs in the computational basis\n",
    "output_states = {\n",
    "    pcvl.BasicState([0,1,0,1,0,0]):\"|00>\",\n",
    "    pcvl.BasicState([0,1,0,0,1,0]):\"|01>\",\n",
    "    pcvl.BasicState([0,0,1,1,0,0]):\"|10>\",\n",
    "    pcvl.BasicState([0,0,1,0,1,0]):\"|11>\"}"
   ]
  },
  {
   "cell_type": "markdown",
   "id": "d2d1cf4f",
   "metadata": {
    "pycharm": {
     "name": "#%% md\n"
    }
   },
   "source": [
    "## Loss function for the variational algorithm\n",
    "\n",
    "For a given state $|\\psi \\rangle$ the Rayleigh-Ritz quotient is given by:\n",
    "$$ \\frac{\\langle \\psi | \\mathcal{H} | \\psi \\rangle}{\\langle \\psi |\\psi \\rangle},$$\n",
    "This is computed in Perceval by explicitly computing $|\\psi \\rangle$ ( which is the output of the simulated photonic circuit).\n",
    "Determining the smallest/ground state eigenvalue is done through a variational approach with Rayleigh-Ritz quotient as the loss function.\n",
    "\n",
    "Using a classical optimisation algorithm, and the simulations given by Perceval we find the eigenvector which minimises the Rayleigh-Ritz quotient together with its associated eigenvalue ( the ground state eigenvalue), which reprensents the solution of the VQE.\n",
    "\n",
    "\n"
   ]
  },
  {
   "cell_type": "code",
   "execution_count": 4,
   "id": "db3c68e5",
   "metadata": {
    "pycharm": {
     "name": "#%%\n"
    }
   },
   "outputs": [],
   "source": [
    "\n",
    "def minimize_loss(lp=None): \n",
    "    # Updating the parameters on the chip\n",
    "    for idx, p in enumerate(lp):                    \n",
    "        List_Parameters[idx].set_value(p)\n",
    "    \n",
    "    #Simulation, Quantum processing part of the VQE\n",
    "    s_VQE = simulator_backend(VQE.compute_unitary(use_symbolic = False)) \n",
    "    \n",
    "    # Collecting the output state of the circuit    \n",
    "    psi = [] \n",
    "    for input_state in input_states:\n",
    "        for output_state in output_states: #|00>,|01>,|10>,|11>\n",
    "            psi.append(s_VQE.probampli(input_state,output_state))\n",
    "            \n",
    "        #Evaluating the mean value of the Hamiltonian.  # The Hamiltonians H is defined in the following block\n",
    "    psi_prime=np.dot(H[R][1],psi)\n",
    "    loss = np.real(sum(sum(np.conjugate(psi)*np.array(psi_prime[0]))))/(sum([i*np.conjugate(i) for i in psi]))\n",
    "    loss=np.real(loss)\n",
    "    \n",
    "    tq.set_description('%g / %g  loss function=%g' % (R, len(H), loss))\n",
    "    return(loss)\n"
   ]
  },
  {
   "cell_type": "markdown",
   "id": "0f7d26a2",
   "metadata": {
    "pycharm": {
     "name": "#%% md\n"
    }
   },
   "source": [
    "## Hamiltonians for VQE\n",
    "\n",
    "In this section we define the 3 Hamiltonians given by the 3  papers [1-3]\n",
    "\n",
    "Perceval can compute the state vector, which is the output of the photonic quantum circuit, explicitly.\n",
    "This eliminates the need for using algorithms to estimate the expectation value.\n",
    "\n",
    "A Hamiltonian can be written as :\n",
    "$$ \\mathcal{H}= \\sum_{\\sigma }h_{\\sigma}\\sigma$$\n",
    "where $h_{\\sigma} \\in \\mathbb{R} $ and $\\sigma$ are pauli operators."
   ]
  },
  {
   "cell_type": "markdown",
   "id": "97e78feb",
   "metadata": {
    "pycharm": {
     "name": "#%% md\n"
    }
   },
   "source": [
    "### Hamiltonian n°1 [\\[1\\]](https://www.nature.com/articles/ncomms5213)\n",
    "\n",
    "Hamiltonian coefficents on the [supplementary paper](https://static-content.springer.com/esm/art%3A10.1038%2Fncomms5213/MediaObjects/41467_2014_BFncomms5213_MOESM1050_ESM.pdf):\n"
   ]
  },
  {
   "cell_type": "code",
   "execution_count": 5,
   "id": "b3f89652",
   "metadata": {
    "pycharm": {
     "name": "#%%\n"
    }
   },
   "outputs": [],
   "source": [
    "Hamiltonian_elem = np.array([[[0,0,0,0],[0,0,0,0],[0,0,0,0],[0,0,0,0]],    #00\n",
    "                             [[1,0,0,0],[0,1,0,0],[0,0,1,0],[0,0,0,1]],    #II\n",
    "                             [[0,1,0,0],[1,0,0,0],[0,0,0,1],[0,0,1,0]],    #IX\n",
    "                             [[1,0,0,0],[0,-1,0,0],[0,0,1,0],[0,0,0,-1]],  #IZ\n",
    "                             [[0,0,1,0],[0,0,0,1],[1,0,0,0],[0,1,0,0]],    #XI\n",
    "                             [[0,0,0,1],[0,0,1,0],[0,1,0,0],[1,0,0,0]],    #XX\n",
    "                             [[0,0,1,0],[0,0,0,-1],[1,0,0,0],[0,-1,0,0]],  #XZ\n",
    "                             [[1,0,0,0],[0,1,0,0],[0,0,-1,0],[0,0,0,-1]],  #ZI\n",
    "                             [[0,1,0,0],[1,0,0,0],[0,0,0,-1],[0,0,-1,0]],  #ZX\n",
    "                             [[1,0,0,0],[0,-1,0,0],[0,0,-1,0],[0,0,0,1]]]) #ZZ\n",
    "\n",
    "\n",
    "Hamiltonian_coef = np.matrix(\n",
    "# [R,II,IX,IZ,XI,XZ,XX,ZI,ZX,ZZ]   \n",
    "[[0.05,33.9557,-0.1515,-2.4784,-0.1515,0.1412,0.1515,-2.4784,0.1515,0.2746],\n",
    "[0.1,13.3605,-0.1626,-2.4368,-0.1626,0.2097,0.1626,-2.4368,0.1626,0.2081],\n",
    "[0.15,6.8232,-0.1537,-2.3801,-0.1537,0.2680,0.1537,-2.3801,0.1537,0.1512],\n",
    "[0.2,3.6330,-0.1405,-2.2899,-0.1405,0.3027,0.1405,-2.2899,0.1405,0.1176],\n",
    "[0.25,1.7012,-0.1324,-2.1683,-0.1324,0.3211,0.1324,-2.1683,0.1324,0.1010],\n",
    "[0.3,0.3821,-0.1306,-2.0305,-0.1306,0.3303,0.1306,-2.0305,0.1306,0.0943],\n",
    "[0.35,-0.5810,-0.1335,-1.8905,-0.1335,0.3344,0.1335,-1.8905,0.1335,0.0936],\n",
    "[0.4,-1.3119,-0.1396,-1.7568,-0.1396,0.3352,0.1396,-1.7568,0.1396,0.0969],\n",
    "[0.45,-1.8796,-0.1477,-1.6339,-0.1477,0.3339,0.1477,-1.6339,0.1477,0.1030],\n",
    "[0.5,-2.3275,-0.1570,-1.5236,-0.1570,0.3309,0.1570,-1.5236,0.1570,0.1115],\n",
    "[0.55,-2.6844,-0.1669,-1.4264,-0.1669,0.3264,0.1669,-1.4264,0.1669,0.1218],\n",
    "[0.6,-2.9708,-0.1770,-1.3418,-0.1770,0.3206,0.1770,-1.3418,0.1770,0.1339],\n",
    "[0.65,-3.2020,-0.1871,-1.2691,-0.1871,0.3135,0.1871,-1.2691,0.1871,0.1475],\n",
    "[0.7,-3.3893,-0.1968,-1.2073,-0.1968,0.3052,0.1968,-1.2073,0.1968,0.1626],\n",
    "[0.75,-3.5417,-0.2060,-1.1552,-0.2060,0.2958,0.2060,-1.1552,0.2060,0.1791],\n",
    "[0.8,-3.6660,-0.2145,-1.1117,-0.2145,0.2853,0.2145,-1.1117,0.2145,0.1968],\n",
    "[0.85,-3.7675,-0.2222,-1.0758,-0.2222,0.2738,0.2222,-1.0758,0.2222,0.2157],\n",
    "[0.9,-3.8505,-0.2288,-1.0466,-0.2288,0.2613,0.2288,-1.0466,0.2288,0.2356],\n",
    "[0.95,-3.9183,-0.2343,-1.0233,-0.2343,0.2481,0.2343,-1.0233,0.2343,0.2564],\n",
    "[1,-3.9734,-0.2385,-1.0052,-0.2385,0.2343,0.2385,-1.0052,0.2385,0.2779],\n",
    "[1.05,-4.0180,-0.2414,-0.9916,-0.2414,0.2199,0.2414,-0.9916,0.2414,0.3000],\n",
    "[1.1,-4.0539,-0.2430,-0.9820,-0.2430,0.2053,0.2430,-0.9820,0.2430,0.3225],\n",
    "[1.15,-4.0825,-0.2431,-0.9758,-0.2431,0.1904,0.2431,-0.9758,0.2431,0.3451],\n",
    "[1.2,-4.1050,-0.2418,-0.9725,-0.2418,0.1756,0.2418,-0.9725,0.2418,0.3678],\n",
    "[1.25,-4.1224,-0.2392,-0.9716,-0.2392,0.1610,0.2392,-0.9716,0.2392,0.3902],\n",
    "[1.3,-4.1356,-0.2353,-0.9728,-0.2353,0.1466,0.2353,-0.9728,0.2353,0.4123],\n",
    "[1.35,-4.1454,-0.2301,-0.9757,-0.2301,0.1327,0.2301,-0.9757,0.2301,0.4339],\n",
    "[1.4,-4.1523,-0.2239,-0.9798,-0.2239,0.1194,0.2239,-0.9798,0.2239,0.4549],\n",
    "[1.45,-4.1568,-0.2167,-0.9850,-0.2167,0.1068,0.2167,-0.9850,0.2167,0.4751],\n",
    "[1.5,-4.1594,-0.2086,-0.9910,-0.2086,0.0948,0.2086,-0.9910,0.2086,0.4945],\n",
    "[1.55,-4.1605,-0.1998,-0.9975,-0.1998,0.0837,0.1998,-0.9975,0.1998,0.5129],\n",
    "[1.6,-4.1602,-0.1905,-1.0045,-0.1905,0.0734,0.1905,-1.0045,0.1905,0.5304],\n",
    "[1.65,-4.1589,-0.1807,-1.0116,-0.1807,0.0640,0.1807,-1.0116,0.1807,0.5468],\n",
    "[1.7,-4.1568,-0.1707,-1.0189,-0.1707,0.0555,0.1707,-1.0189,0.1707,0.5622],\n",
    "[1.75,-4.1540,-0.1605,-1.0262,-0.1605,0.0479,0.1605,-1.0262,0.1605,0.5766],\n",
    "[1.8,-4.1508,-0.1503,-1.0334,-0.1503,0.0410,0.1503,-1.0334,0.1503,0.5899],\n",
    "[1.85,-4.1471,-0.1403,-1.0404,-0.1403,0.0350,0.1403,-1.0404,0.1403,0.6023],\n",
    "[1.9,-4.1431,-0.1305,-1.0473,-0.1305,0.0297,0.1305,-1.0473,0.1305,0.6138],\n",
    "[1.95,-4.1390,-0.1210,-1.0540,-0.1210,0.0251,0.1210,-1.0540,0.1210,0.6244],\n",
    "[2,-4.1347,-0.1119,-1.0605,-0.1119,0.0212,0.1119,-1.0605,0.1119,0.6342],\n",
    "[2.05,-4.1303,-0.1031,-1.0667,-0.1031,0.0178,0.1031,-1.0667,0.1031,0.6432],\n",
    "[2.1,-4.1258,-0.0949,-1.0727,-0.0949,0.0148,0.0949,-1.0727,0.0949,0.6516],\n",
    "[2.15,-4.1214,-0.0871,-1.0785,-0.0871,0.0124,0.0871,-1.0785,0.0871,0.6594],\n",
    "[2.2,-4.1169,-0.0797,-1.0840,-0.0797,0.0103,0.0797,-1.0840,0.0797,0.6666],\n",
    "[2.25,-4.1125,-0.0729,-1.0893,-0.0729,0.0085,0.0729,-1.0893,0.0729,0.6733],\n",
    "[2.3,-4.1082,-0.0665,-1.0944,-0.0665,0.0070,0.0665,-1.0944,0.0665,0.6796],\n",
    "[2.35,-4.1040,-0.0606,-1.0993,-0.0606,0.0058,0.0606,-1.0993,0.0606,0.6854],\n",
    "[2.4,-4.0998,-0.0551,-1.1040,-0.0551,0.0047,0.0551,-1.1040,0.0551,0.6909],\n",
    "[2.45,-4.0957,-0.0500,-1.1085,-0.0500,0.0039,0.0500,-1.1085,0.0500,0.6961],\n",
    "[2.5,-4.0918,-0.0454,-1.1128,-0.0454,0.0032,0.0454,-1.1128,0.0454,0.7010],\n",
    "[2.55,-4.0879,-0.0411,-1.1170,-0.0411,0.0026,0.0411,-1.1170,0.0411,0.7056],\n",
    "[2.6,-4.0841,-0.0371,-1.1210,-0.0371,0.0021,0.0371,-1.1210,0.0371,0.7099],\n",
    "[2.65,-4.0805,-0.0335,-1.1248,-0.0335,0.0017,0.0335,-1.1248,0.0335,0.7141],\n",
    "[2.7,-4.0769,-0.0303,-1.1285,-0.0303,0.0014,0.0303,-1.1285,0.0303,0.7181],\n",
    "[2.75,-4.0735,-0.0273,-1.1321,-0.0273,0.0011,0.0273,-1.1321,0.0273,0.7218],\n",
    "[2.8,-4.0701,-0.0245,-1.1356,-0.0245,0.0009,0.0245,-1.1356,0.0245,0.7254],\n",
    "[2.85,-4.0669,-0.0221,-1.1389,-0.0221,0.0007,0.0221,-1.1389,0.0221,0.7289],\n",
    "[2.9,-4.0638,-0.0198,-1.1421,-0.0198,0.0006,0.0198,-1.1421,0.0198,0.7322],\n",
    "[2.95,-4.0607,-0.0178,-1.1452,-0.0178,0.0005,0.0178,-1.1452,0.0178,0.7354],\n",
    "[3,-4.0578,-0.0159,-1.1482,-0.0159,0.0004,0.0159,-1.1482,0.0159,0.7385],\n",
    "[3.05,-4.0549,-0.0142,-1.1511,-0.0142,0.0003,0.0142,-1.1511,0.0142,0.7414],\n",
    "[3.1,-4.0521,-0.0127,-1.1539,-0.0127,0.0002,0.0127,-1.1539,0.0127,0.7443],\n",
    "[3.15,-4.0494,-0.0114,-1.1566,-0.0114,0.0002,0.0114,-1.1566,0.0114,0.7470],\n",
    "[3.2,-4.0468,-0.0101,-1.1592,-0.0101,0.0001,0.0101,-1.1592,0.0101,0.7497],\n",
    "[3.25,-4.0443,-0.0090,-1.1618,-0.0090,0.0001,0.0090,-1.1618,0.0090,0.7522],\n",
    "[3.3,-4.0418,-0.0081,-1.1643,-0.0081,0.0001,0.0081,-1.1643,0.0081,0.7547],\n",
    "[3.35,-4.0394,-0.0072,-1.1666,-0.0072,0.0001,0.0072,-1.1666,0.0072,0.7571],\n",
    "[3.4,-4.0371,-0.0064,-1.1690,-0.0064,0.0001,0.0064,-1.1690,0.0064,0.7595],\n",
    "[3.45,-4.0349,-0.0056,-1.1712,-0.0056,0.0000,0.0056,-1.1712,0.0056,0.7617],\n",
    "[3.5,-4.0327,-0.0050,-1.1734,-0.0050,0.0000,0.0050,-1.1734,0.0050,0.7639],\n",
    "[3.55,-4.0306,-0.0044,-1.1756,-0.0044,0.0000,0.0044,-1.1756,0.0044,0.7661],\n",
    "[3.6,-4.0285,-0.0039,-1.1776,-0.0039,0.0000,0.0039,-1.1776,0.0039,0.7681],\n",
    "[3.65,-4.0265,-0.0035,-1.1796,-0.0035,0.0000,0.0035,-1.1796,0.0035,0.7702],\n",
    "[3.7,-4.0245,-0.0030,-1.1816,-0.0030,0.0000,0.0030,-1.1816,0.0030,0.7721],\n",
    "[3.75,-4.0226,-0.0027,-1.1835,-0.0027,0.0000,0.0027,-1.1835,0.0027,0.7740],\n",
    "[3.8,-4.0208,-0.0024,-1.1854,-0.0024,0.0000,0.0024,-1.1854,0.0024,0.7759],\n",
    "[3.85,-4.0190,-0.0021,-1.1872,-0.0021,0.0000,0.0021,-1.1872,0.0021,0.7777],\n",
    "[3.9,-4.0172,-0.0018,-1.1889,-0.0018,0.0000,0.0018,-1.1889,0.0018,0.7795],\n",
    "[3.95,-4.0155,-0.0016,-1.1906,-0.0016,0.0000,0.0016,-1.1906,0.0016,0.7812]]\n",
    ")\n",
    "\n",
    "\n",
    "#Building the Hamiltonian H[0]= Radius, H[1]=H(Radius)\n",
    "H1=[]\n",
    "(n,m)=Hamiltonian_coef.shape\n",
    "for i in range(n): #i = Radius\n",
    "    h_0=1.0*np.matrix(Hamiltonian_elem[0])\n",
    "    for j in range(1,m):\n",
    "        h_0+= Hamiltonian_coef[i,j]*np.matrix(Hamiltonian_elem[j])\n",
    "    H1.append([Hamiltonian_coef[i,0],h_0])"
   ]
  },
  {
   "cell_type": "markdown",
   "id": "913d4aea",
   "metadata": {
    "pycharm": {
     "name": "#%% md\n"
    }
   },
   "source": [
    "### Hamiltonian n°2 [\\[2\\]](https://journals.aps.org/prl/abstract/10.1103/PhysRevLett.73.58)\n"
   ]
  },
  {
   "cell_type": "code",
   "execution_count": 6,
   "id": "87f168f2",
   "metadata": {
    "pycharm": {
     "name": "#%%\n"
    }
   },
   "outputs": [],
   "source": [
    "Hamiltonian_elem = np.array([[[0,0,0,0],[0,0,0,0],[0,0,0,0],[0,0,0,0]],       #00\n",
    "                             [[1,0,0,0],[0,1,0,0],[0,0,1,0],[0,0,0,1]],       #II\n",
    "                             [[1,0,0,0],[0,1,0,0],[0,0,-1,0],[0,0,0,-1]],     #ZI\n",
    "                             [[1,0,0,0],[0,-1,0,0],[0,0,1,0],[0,0,0,-1]],     #IZ\n",
    "                             [[1,0,0,0],[0,-1,0,0],[0,0,-1,0],[0,0,0,1]],     #ZZ\n",
    "                             [[0,0,0,1],[0,0,1,0],[0,1,0,0],[1,0,0,0]],       #XX\n",
    "                             [[0,0,0,-1],[0,0,1,0],[0,1,0,0],[-1,0,0,0]]])    #YY\n",
    "                             \n",
    "\n",
    "Hamiltonian_coef = np.matrix(\n",
    "# [R,II,ZI,IZ,ZZ,XX,YY]   \n",
    "[[0.20,2.8489,0.5678,-1.4508,0.6799,0.0791,0.0791],\n",
    "[0.25,2.1868,0.5449,-1.2870,0.6719,0.0798,0.0798],\n",
    "[0.30,1.7252,0.5215,-1.1458,0.6631,0.0806,0.0806],\n",
    "[0.35,1.3827,0.4982,-1.0226,0.6537,0.0815,0.0815],\n",
    "[0.40,1.1182,0.4754,-0.9145,0.6438,0.0825,0.0825],\n",
    "[0.45,0.9083,0.4534,-0.8194,0.6336,0.0835,0.0835],\n",
    "[0.50,0.7381,0.4325,-0.7355,0.6233,0.0846,0.0846],\n",
    "[0.55,0.5979,0.4125,-0.6612,0.6129,0.0858,0.0858],\n",
    "[0.60,0.4808,0.3937,-0.5950,0.6025,0.0870,0.0870],\n",
    "[0.65,0.3819,0.3760,-0.5358,0.5921,0.0883,0.0883],\n",
    "[0.70,0.2976,0.3593,-0.4826,0.5818,0.0896,0.0896],\n",
    "[0.75,0.2252,0.3435,-0.4347,0.5716,0.0910,0.0910],\n",
    "[0.80,0.1626,0.3288,-0.3915,0.5616,0.0925,0.0925],\n",
    "[0.85,0.1083,0.3149,-0.3523,0.5518,0.0939,0.0939],\n",
    "[0.90,0.0609,0.3018,-0.3168,0.5421,0.0954,0.0954],\n",
    "[0.95,0.0193,0.2895,-0.2845,0.5327,0.0970,0.0970],\n",
    "[1.00,-0.0172,0.2779,-0.2550,0.5235,0.0986,0.0986],\n",
    "[1.05,-0.0493,0.2669,-0.2282,0.5146,0.1002,0.1002],\n",
    "[1.10,-0.0778,0.2565,-0.2036,0.5059,0.1018,0.1018],\n",
    "[1.15,-0.1029,0.2467,-0.1810,0.4974,0.1034,0.1034],\n",
    "[1.20,-0.1253,0.2374,-0.1603,0.4892,0.1050,0.1050],\n",
    "[1.25,-0.1452,0.2286,-0.1413,0.4812,0.1067,0.1067],\n",
    "[1.30,-0.1629,0.2203,-0.1238,0.4735,0.1083,0.1083],\n",
    "[1.35,-0.1786,0.2123,-0.1077,0.4660,0.1100,0.1100],\n",
    "[1.40,-0.1927,0.2048,-0.0929,0.4588,0.1116,0.1116],\n",
    "[1.45,-0.2053,0.1976,-0.0792,0.4518,0.1133,0.1133],\n",
    "[1.50,-0.2165,0.1908,-0.0666,0.4451,0.1149,0.1149],\n",
    "[1.55,-0.2265,0.1843,-0.0549,0.4386,0.1165,0.1165],\n",
    "[1.60,-0.2355,0.1782,-0.0442,0.4323,0.1181,0.1181],\n",
    "[1.65,-0.2436,0.1723,-0.0342,0.4262,0.1196,0.1196],\n",
    "[1.70,-0.2508,0.1667,-0.0251,0.4204,0.1211,0.1211],\n",
    "[1.75,-0.2573,0.1615,-0.0166,0.4148,0.1226,0.1226],\n",
    "[1.80,-0.2632,0.1565,-0.0088,0.4094,0.1241,0.1241],\n",
    "[1.85,-0.2684,0.1517,-0.0015,0.4042,0.1256,0.1256],\n",
    "[1.90,-0.2731,0.1472,0.0052,0.3992,0.1270,0.1270],\n",
    "[1.95,-0.2774,0.1430,0.0114,0.3944,0.1284,0.1284],\n",
    "[2.00,-0.2812,0.1390,0.0171,0.3898,0.1297,0.1297],\n",
    "[2.05,-0.2847,0.1352,0.0223,0.3853,0.1310,0.1310],\n",
    "[2.10,-0.2879,0.1316,0.0272,0.3811,0.1323,0.1323],\n",
    "[2.15,-0.2908,0.1282,0.0317,0.3769,0.1335,0.1335],\n",
    "[2.20,-0.2934,0.1251,0.0359,0.3730,0.1347,0.1347],\n",
    "[2.25,-0.2958,0.1221,0.0397,0.3692,0.1359,0.1359],\n",
    "[2.30,-0.2980,0.1193,0.0432,0.3655,0.1370,0.1370],\n",
    "[2.35,-0.3000,0.1167,0.0465,0.3620,0.1381,0.1381],\n",
    "[2.40,-0.3018,0.1142,0.0495,0.3586,0.1392,0.1392],\n",
    "[2.45,-0.3035,0.1119,0.0523,0.3553,0.1402,0.1402],\n",
    "[2.50,-0.3051,0.1098,0.0549,0.3521,0.1412,0.1412],\n",
    "[2.55,-0.3066,0.1078,0.0572,0.3491,0.1422,0.1422],\n",
    "[2.60,-0.3079,0.1059,0.0594,0.3461,0.1432,0.1432],\n",
    "[2.65,-0.3092,0.1042,0.0614,0.3433,0.1441,0.1441],\n",
    "[2.70,-0.3104,0.1026,0.0632,0.3406,0.1450,0.1450],\n",
    "[2.75,-0.3115,0.1011,0.0649,0.3379,0.1458,0.1458],\n",
    "[2.80,-0.3125,0.0997,0.0665,0.3354,0.1467,0.1467],\n",
    "[2.85,-0.3135,0.0984,0.0679,0.3329,0.1475,0.1475]]\n",
    "\n",
    ")\n",
    "\n",
    "\n",
    "#Building the Hamiltonian H[0]= Radius, H[1]=H(Radius)\n",
    "H2=[]\n",
    "(n,m)=Hamiltonian_coef.shape\n",
    "for i in range(n): #i = Radius\n",
    "    h_0=1.0*np.matrix(Hamiltonian_elem[0])\n",
    "    for j in range(1,m):\n",
    "        h_0+= Hamiltonian_coef[i,j]*np.matrix(Hamiltonian_elem[j])\n",
    "    H2.append([Hamiltonian_coef[i,0],h_0])"
   ]
  },
  {
   "cell_type": "markdown",
   "id": "920b16b4",
   "metadata": {
    "pycharm": {
     "name": "#%% md\n"
    }
   },
   "source": [
    "### Hamiltonian n°3 [\\[3\\]](https://journals.aps.org/prx/abstract/10.1103/PhysRevX.8.011021)\n",
    "\n",
    "Hamiltonian coefficents on the [supplementary material](https://journals.aps.org/prx/supplemental/10.1103/PhysRevX.8.011021/Supplementary.pdf)."
   ]
  },
  {
   "cell_type": "code",
   "execution_count": 7,
   "id": "1a6576f0",
   "metadata": {
    "pycharm": {
     "name": "#%%\n"
    }
   },
   "outputs": [],
   "source": [
    "Hamiltonian_elem = np.array([[[0,0,0,0],[0,0,0,0],[0,0,0,0],[0,0,0,0]],      #00\n",
    "                             [[1,0,0,0],[0,1,0,0],[0,0,1,0],[0,0,0,1]],      #II\n",
    "                             [[1,0,0,0],[0,1,0,0],[0,0,-1,0],[0,0,0,-1]],    #ZI\n",
    "                             [[0,0,0,1],[0,0,1,0],[0,1,0,0],[1,0,0,0]],      #XX\n",
    "                             [[1,0,0,0],[0,-1,0,0],[0,0,1,0],[0,0,0,-1]],    #IZ\n",
    "                             [[1,0,0,0],[0,-1,0,0],[0,0,-1,0],[0,0,0,1]]])   #ZZ\n",
    "\n",
    "                             \n",
    "Hamiltonian_coef = np.matrix(\n",
    "# [R,II ZI XX IZ ZZ],\n",
    "[[0.05, 1.00777E+01 ,-1.05533E+00 ,1.55708*10**(-1) ,-1.05533E+00 ,1.39333*10**(-2)],\n",
    "[0.10, 4.75665E+00 ,-1.02731E+00 ,1.56170*10**(-1) ,-1.02731E+00 ,1.38667*10**(-2)],\n",
    "[0.15, 2.94817E+00 ,-9.84234*10**(-1) ,1.56930*10**(-1) ,-9.84234*10**(-1) ,1.37610*10**(-2)],\n",
    "[0.20, 2.01153E+00 ,-9.30489*10**(-1) ,1.57973*10**(-1) ,-9.30489*10**(-1) ,1.36238*10**(-2)],\n",
    "[0.25, 1.42283E+00 ,-8.70646*10**(-1) ,1.59277*10**(-1) ,-8.70646*10**(-1) ,1.34635*10**(-2)],\n",
    "[0.30, 1.01018E+00 ,-8.08649*10**(-1) ,1.60818*10**(-1) ,-8.08649*10**(-1) ,1.32880*10**(-2)],\n",
    "[0.35, 7.01273*10**(-1) ,-7.47416*10**(-1) ,1.62573*10**(-1) ,-7.47416*10**(-1) ,1.31036*10**(-2)],\n",
    "[0.40, 4.60364*10**(-1) ,-6.88819*10**(-1) ,1.64515*10**(-1) ,-6.88819*10**(-1) ,1.29140*10**(-2)],\n",
    "[0.45, 2.67547*10**(-1) ,-6.33890*10**(-1) ,1.66621*10**(-1) ,-6.33890*10**(-1) ,1.27192*10**(-2)],\n",
    "[0.50, 1.10647*10**(-1) ,-5.83080*10**(-1) ,1.68870*10**(-1) ,-5.83080*10**(-1) ,1.25165*10**(-2)],\n",
    "[0.55, -1.83734*10**(-2), -5.36489*10**(-1), 1.71244*10**(-1), -5.36489*10**(-1), 1.23003*10**(-2)],\n",
    "[0.65, -2.13932*10**(-1), -4.55433*10**(-1), 1.76318*10**(-1), -4.55433*10**(-1), 1.18019*10**(-2)],\n",
    "[0.75, -3.49833*10**(-1), -3.88748*10**(-1), 1.81771*10**(-1), -3.88748*10**(-1), 1.11772*10**(-2)],\n",
    "[0.85, -4.45424*10**(-1), -3.33747*10**(-1), 1.87562*10**(-1), -3.33747*10**(-1), 1.04061*10**(-2)],\n",
    "[0.95, -5.13548*10**(-1), -2.87796*10**(-1), 1.93650*10**(-1), -2.87796*10**(-1), 9.50345*10**(-3)],\n",
    "[1.05, -5.62600*10**(-1), -2.48783*10**(-1), 1.99984*10**(-1), -2.48783*10**(-1), 8.50998*10**(-3)],\n",
    "[1.15, -5.97973*10**(-1), -2.15234*10**(-1), 2.06495*10**(-1), -2.15234*10**(-1), 7.47722*10**(-3)],\n",
    "[1.25, -6.23223*10**(-1), -1.86173*10**(-1), 2.13102*10**(-1), -1.86173*10**(-1), 6.45563*10**(-3)],\n",
    "[1.35, -6.40837*10**(-1), -1.60926*10**(-1), 2.19727*10**(-1), -1.60926*10**(-1), 5.48623*10**(-3)],\n",
    "[1.45, -6.52661*10**(-1), -1.38977*10**(-1), 2.26294*10**(-1), -1.38977*10**(-1), 4.59760*10**(-3)],\n",
    "[1.55, -6.60117*10**(-1), -1.19894*10**(-1), 2.32740*10**(-1), -1.19894*10**(-1), 3.80558*10**(-3)],\n",
    "[1.65, -6.64309*10**(-1), -1.03305*10**(-1), 2.39014*10**(-1), -1.03305*10**(-1), 3.11545*10**(-3)],\n",
    "[1.75, -6.66092*10**(-1), -8.88906*10**(-2), 2.45075*10**(-1), -8.88906*10**(-2), 2.52480*10**(-3)],\n",
    "[1.85, -6.66126*10**(-1), -7.63712*10**(-2), 2.50896*10**(-1), -7.63712*10**(-2), 2.02647*10**(-3)],\n",
    "[1.95, -6.64916*10**(-1), -6.55065*10**(-2), 2.56458*10**(-1), -6.55065*10**(-2), 1.61100*10**(-3)],\n",
    "[2.05, -6.62844*10**(-1), -5.60866*10**(-2), 2.61750*10**(-1), -5.60866*10**(-2), 1.26812*10**(-3)],\n",
    "[2.15, -6.60199*10**(-1), -4.79275*10**(-2), 2.66768*10**(-1), -4.79275*10**(-2), 9.88000*10**(-4)],\n",
    "[2.25, -6.57196*10**(-1), -4.08672*10**(-2), 2.71512*10**(-1), -4.08672*10**(-2), 7.61425*10**(-4)],\n",
    "[2.35, -6.53992*10**(-1), -3.47636*10**(-2), 2.75986*10**(-1), -3.47636*10**(-2), 5.80225*10**(-4)],\n",
    "[2.45, -6.50702*10**(-1), -2.94924*10**(-2), 2.80199*10**(-1), -2.94924*10**(-2), 4.36875*10**(-4)],\n",
    "[2.55, -6.47408*10**(-1), -2.49459*10**(-2), 2.84160*10**(-1), -2.49459*10**(-2), 3.25025*10**(-4)],\n",
    "[2.65, -6.44165*10**(-1), -2.10309*10**(-2), 2.87881*10**(-1), -2.10309*10**(-2), 2.38800*10**(-4)],\n",
    "[2.75, -6.41011*10**(-1), -1.76672*10**(-2), 2.91376*10**(-1), -1.76672*10**(-2), 1.73300*10**(-4)],\n",
    "[2.85, -6.37971*10**(-1), -1.47853*10**(-2), 2.94658*10**(-1), -1.47853*10**(-2), 1.24200*10**(-4)],\n",
    "[2.95, -6.35058*10**(-1), -1.23246*10**(-2), 2.97741*10**(-1), -1.23246*10**(-2), 8.78750*10**(-5)],\n",
    "[3.05, -6.32279*10**(-1), -1.02318*10**(-2), 3.00638*10**(-1), -1.02317*10**(-2), 6.14500*10**(-5)],\n",
    "[3.15, -6.29635*10**(-1), -8.45958*10**(-3), 3.03362*10**(-1), -8.45958*10**(-3), 4.24250*10**(-5)],\n",
    "[3.25, -6.27126*10**(-1), -6.96585*10**(-3), 3.05927*10**(-1), -6.96585*10**(-3), 2.89500*10**(-5)],\n",
    "[3.35, -6.24746*10**(-1), -5.71280*10**(-3), 3.08344*10**(-1), -5.71280*10**(-3), 1.95500*10**(-5)],\n",
    "[3.45, -6.22491*10**(-1), -4.66670*10**(-3), 3.10625*10**(-1), -4.66670*10**(-3), 1.30500*10**(-5)],\n",
    "[3.55, -6.20353*10**(-1), -3.79743*10**(-3), 3.12780*10**(-1), -3.79743*10**(-3), 8.57500*10**(-6)],\n",
    "[3.65, -6.18325*10**(-1), -3.07840*10**(-3), 3.14819*10**(-1), -3.07840*10**(-3), 5.60000*10**(-6)],\n",
    "[3.75, -6.16401*10**(-1), -2.48625*10**(-3), 3.16750*10**(-1), -2.48625*10**(-3), 3.60000*10**(-6)],\n",
    "[3.85, -6.14575*10**(-1), -2.00063*10**(-3), 3.18581*10**(-1), -2.00062*10**(-3), 2.27500*10**(-6)],\n",
    "[3.95, -6.12839*10**(-1), -1.60393*10**(-3), 3.20320*10**(-1), -1.60392*10**(-3), 1.42500*10**(-6)]] )\n",
    "     \n",
    "#Building the Hamiltonian H[0]= Radius, H[1]=H(Radius)\n",
    "H3=[]\n",
    "(n,m)=Hamiltonian_coef.shape\n",
    "for i in range(n): #i = Radius\n",
    "    h_0=1.0*np.matrix(Hamiltonian_elem[0])\n",
    "    for j in range(1,m):\n",
    "        h_0+= Hamiltonian_coef[i,j]*np.matrix(Hamiltonian_elem[j])\n",
    "    H3.append([Hamiltonian_coef[i,0],h_0])"
   ]
  },
  {
   "cell_type": "markdown",
   "id": "b95733d2",
   "metadata": {
    "pycharm": {
     "name": "#%% md\n"
    }
   },
   "source": [
    "## Varational quantum eigenvalue solver simulation\n",
    "\n",
    "We use the Nelder-Mead minimisation algorithm [4] from the `scipy.optimize` package.\n",
    "\n"
   ]
  },
  {
   "cell_type": "markdown",
   "id": "c8096d2c",
   "metadata": {
    "pycharm": {
     "name": "#%% md\n"
    }
   },
   "source": [
    "### Simulation n°1 "
   ]
  },
  {
   "cell_type": "code",
   "execution_count": null,
   "id": "29c10704",
   "metadata": {
    "pycharm": {
     "name": "#%%\n",
     "is_executing": true
    }
   },
   "outputs": [],
   "source": [
    "tq = tqdm(desc='Minimizing...') #Displaying progress bar\n",
    "radius1=[]\n",
    "E1=[]\n",
    "init_param=[]\n",
    "\n",
    "H=H1\n",
    "\n",
    "for R in range(len(H)):            #We try to find the ground state eigenvalue for each radius R\n",
    "    radius1.append(H[R][0])\n",
    "    if (init_param==[]):           #\n",
    "            init_param = [2*(np.pi)*random.random() for _ in List_Parameters]\n",
    "    else:\n",
    "        for i in range(len(init_param)):\n",
    "            init_param[i]=VQE.get_parameters()[i]._value\n",
    "            \n",
    "    # Finding the ground state eigen value for each H(R)\n",
    "    result=minimize(minimize_loss,init_param,method='Nelder-Mead')\n",
    "    \n",
    "    E1.append(result.get('fun'))\n",
    "    tq.set_description('Finished' )\n",
    "    "
   ]
  },
  {
   "cell_type": "markdown",
   "id": "29c9e0f2",
   "metadata": {
    "pycharm": {
     "name": "#%% md\n"
    }
   },
   "source": [
    "#### Simulation 1: computing the theoretical eigenvalues of H\n",
    "\n",
    " We use the numpy linalg package."
   ]
  },
  {
   "cell_type": "code",
   "execution_count": 9,
   "id": "5c5bba77",
   "metadata": {
    "pycharm": {
     "name": "#%%\n"
    }
   },
   "outputs": [],
   "source": [
    "E1_th=[]\n",
    "for h in H:\n",
    "    l0=np.linalg.eigvals(h[1])\n",
    "    l0.sort()\n",
    "    E1_th.append(min(l0))"
   ]
  },
  {
   "cell_type": "markdown",
   "id": "dad5309a",
   "metadata": {
    "pycharm": {
     "name": "#%% md\n"
    }
   },
   "source": [
    "#### Simulation 1: plotting the results\n",
    "\n",
    "The minimum eigenvalues of H are plotted in orange.\n",
    "\n",
    "The eigenvalues found with Perceval are the crosses"
   ]
  },
  {
   "cell_type": "code",
   "execution_count": 10,
   "id": "6134240e",
   "metadata": {
    "pycharm": {
     "name": "#%%\n"
    }
   },
   "outputs": [
    {
     "data": {
      "text/plain": "<Figure size 432x288 with 1 Axes>",
      "image/png": "[encoded data removed]"
     },
     "metadata": {
      "needs_background": "light"
     },
     "output_type": "display_data"
    },
    {
     "data": {
      "text/plain": "<Figure size 432x288 with 1 Axes>",
      "image/png": "[encoded data removed]"
     },
     "metadata": {
      "needs_background": "light"
     },
     "output_type": "display_data"
    },
    {
     "name": "stdout",
     "output_type": "stream",
     "text": [
      "The minimum energy is E_g(0.9)=-5.725241528026301 MJ/mol and is attained for R_min =0.9 pm\n"
     ]
    }
   ],
   "source": [
    "\n",
    "plt.plot(100*np.array(radius1),E1_th,'orange')\n",
    "plt.plot(100*np.array(radius1),E1,'x')\n",
    "plt.ylabel('Energy (MJ/mol)')\n",
    "plt.xlabel('Atomic separation R (pm)')\n",
    "plt.legend(['Theoretical eigenvalues', 'Eigenvalues computed with Perceval'])\n",
    "plt.show()\n",
    "\n",
    "\n",
    "\n",
    "plt.plot(100*np.array(radius1),E1_th,'orange')\n",
    "plt.plot(100*np.array(radius1),E1,'x')\n",
    "plt.axis([50,250,-5.8,-5.5])\n",
    "plt.ylabel('Energy (MJ/mol)')\n",
    "plt.xlabel('Atomic separation R (pm)')\n",
    "\n",
    "plt.legend(['Theoretical eigenvalues', 'Eigenvalues computed with Perceval'])\n",
    "\n",
    "plt.show()\n",
    "\n",
    "min_value=min(E1)\n",
    "min_index = E1.index(min_value)\n",
    "print('The minimum energy is E_g('+str(radius1[min_index])+')='+str(E1[min_index])+' MJ/mol and is attained for R_min ='+str(radius1[min_index])+' pm')\n",
    "\n"
   ]
  },
  {
   "cell_type": "markdown",
   "id": "c5eeb76b",
   "metadata": {
    "pycharm": {
     "name": "#%% md\n"
    }
   },
   "source": [
    "### Simulation n°2"
   ]
  },
  {
   "cell_type": "code",
   "execution_count": null,
   "id": "f872bf8a",
   "metadata": {
    "pycharm": {
     "name": "#%%\n",
     "is_executing": true
    }
   },
   "outputs": [],
   "source": [
    "tq = tqdm(desc='Minimizing...') #New progress bar\n",
    "radius2=[]\n",
    "E2=[]\n",
    "init_param=[]\n",
    "\n",
    "H=H2\n",
    "\n",
    "for R in range(len(H)):            #We try to find the ground state eigenvalue for each radius R\n",
    "    radius2.append(H[R][0])\n",
    "    if (init_param==[]):           #\n",
    "            init_param = [2*(np.pi)*random.random() for _ in List_Parameters]\n",
    "    else:\n",
    "        for i in range(len(init_param)):\n",
    "            init_param[i]=VQE.get_parameters()[i]._value\n",
    "            \n",
    "    # Finding the ground state eigen value for each H(R)\n",
    "    result=minimize(minimize_loss,init_param,method='Nelder-Mead')\n",
    "    \n",
    "    E2.append(result.get('fun'))\n",
    "    tq.set_description('Finished' )\n"
   ]
  },
  {
   "cell_type": "markdown",
   "source": [
    "#### Simulation 2: computing the theoretical eigenvalues of H\n",
    "\n",
    " We use the numpy linalg package."
   ],
   "metadata": {
    "collapsed": false,
    "pycharm": {
     "name": "#%% md\n"
    }
   }
  },
  {
   "cell_type": "code",
   "execution_count": 12,
   "id": "44b8aae9",
   "metadata": {
    "pycharm": {
     "name": "#%%\n"
    }
   },
   "outputs": [],
   "source": [
    "E2_th=[]\n",
    "for h in H:\n",
    "    l0=np.linalg.eigvals(h[1])\n",
    "    l0.sort()\n",
    "    E2_th.append(min(l0))"
   ]
  },
  {
   "cell_type": "markdown",
   "id": "008925dc",
   "metadata": {
    "pycharm": {
     "name": "#%% md\n"
    }
   },
   "source": [
    "#### Simulation 2: plotting the results\n",
    "\n",
    "The minimum eigenvalues of H are plotted in orange.\n",
    "\n",
    "The eigenvalues found with Perceval are the crosses"
   ]
  },
  {
   "cell_type": "code",
   "execution_count": 13,
   "id": "ea56c529",
   "metadata": {
    "pycharm": {
     "name": "#%%\n"
    }
   },
   "outputs": [
    {
     "data": {
      "text/plain": "<Figure size 432x288 with 1 Axes>",
      "image/png": "[encoded data removed]"
     },
     "metadata": {
      "needs_background": "light"
     },
     "output_type": "display_data"
    },
    {
     "data": {
      "text/plain": "<Figure size 432x288 with 1 Axes>",
      "image/png": "[encoded data removed]"
     },
     "metadata": {
      "needs_background": "light"
     },
     "output_type": "display_data"
    },
    {
     "name": "stdout",
     "output_type": "stream",
     "text": [
      "The minimum energy is E_g(0.75)=-1.1455991240771584 MJ/mol and is attained for R_min =0.6 Å\n"
     ]
    }
   ],
   "source": [
    "\n",
    "plt.plot(np.array(radius2),E2_th,'orange')\n",
    "plt.plot(np.array(radius2),E2,'x')\n",
    "plt.ylabel('Energy (MJ/mol)')\n",
    "plt.xlabel('Atomic separation R (Å)')\n",
    "plt.legend(['Theoretical eigenvalues', 'Eigenvalues computed with Perceval'])\n",
    "plt.show()\n",
    "\n",
    "\n",
    "\n",
    "plt.plot(np.array(radius2),E2_th,'orange')\n",
    "plt.plot(np.array(radius2),E2,'x')\n",
    "plt.axis([0.3,2,-1.2,-0.6])\n",
    "plt.ylabel('Energy (MJ/mol)')\n",
    "plt.xlabel('Atomic separation R (Å)')\n",
    "plt.legend(['Theoretical eigenvalues', 'Eigenvalues computed with Perceval'])\n",
    "plt.show()\n",
    "\n",
    "min_value=min(E2)\n",
    "min_index = E2.index(min_value)\n",
    "print('The minimum energy is E_g('+str(radius2[min_index])+')='+str(E2[min_index])+' MJ/mol and is attained for R_min ='+str(radius1[min_index])+' Å')\n",
    "\n"
   ]
  },
  {
   "cell_type": "markdown",
   "id": "5cc56c1e",
   "metadata": {
    "pycharm": {
     "name": "#%% md\n"
    }
   },
   "source": [
    "### Simulation n°3"
   ]
  },
  {
   "cell_type": "code",
   "execution_count": null,
   "id": "75e1e21b",
   "metadata": {
    "pycharm": {
     "name": "#%%\n",
     "is_executing": true
    }
   },
   "outputs": [],
   "source": [
    "tq = tqdm(desc='Minimizing...') #New progress bar\n",
    "radius3=[]\n",
    "E3=[]\n",
    "init_param=[]\n",
    "\n",
    "H=H3\n",
    "\n",
    "for R in range(len(H)):            #We try to find the ground state eigenvalue for each radius R\n",
    "    radius3.append(H[R][0])\n",
    "    if (init_param==[]):           #\n",
    "            init_param = [2*(np.pi)*random.random() for _ in List_Parameters]\n",
    "    else:\n",
    "        for i in range(len(init_param)):\n",
    "            init_param[i]=VQE.get_parameters()[i]._value\n",
    "            \n",
    "    # Finding the ground state eigen value for each H(R)\n",
    "    result=minimize(minimize_loss,init_param,method='Nelder-Mead')\n",
    "    \n",
    "    E3.append(result.get('fun'))\n",
    "    tq.set_description('Finished' )\n",
    "    "
   ]
  },
  {
   "cell_type": "markdown",
   "id": "9a5bbc69",
   "metadata": {
    "pycharm": {
     "name": "#%% md\n"
    }
   },
   "source": [
    "#### Simulation 3: computing the theoretical eigenvalues of H\n",
    "\n",
    " We use the numpy linalg package."
   ]
  },
  {
   "cell_type": "code",
   "execution_count": 16,
   "id": "d50017fd",
   "metadata": {
    "pycharm": {
     "name": "#%%\n"
    }
   },
   "outputs": [],
   "source": [
    "E3_th=[]\n",
    "for h in H:\n",
    "    l0=np.linalg.eigvals(h[1])\n",
    "    l0.sort()\n",
    "    E3_th.append(min(l0))"
   ]
  },
  {
   "cell_type": "markdown",
   "id": "cbbe1d0e",
   "metadata": {
    "pycharm": {
     "name": "#%% md\n"
    }
   },
   "source": [
    "#### Simulation 3: plotting the results\n",
    "\n",
    "The minimum eigenvalue of H is plotted in orange. \n",
    "\n",
    "The eigenvalues found with Perceval are the crosses"
   ]
  },
  {
   "cell_type": "code",
   "execution_count": null,
   "id": "6e91159d",
   "metadata": {
    "pycharm": {
     "name": "#%%\n",
     "is_executing": true
    }
   },
   "outputs": [],
   "source": [
    "plt.plot(np.array(radius3),E3_th,'orange')\n",
    "plt.plot(np.array(radius3),E3,'x')\n",
    "plt.ylabel('Energy (Hartree)')\n",
    "plt.xlabel('Atomic separation R (Å)')\n",
    "plt.legend(['Theoretical eigenvalues', 'Eigenvalues computed with Perceval'])\n",
    "plt.show()\n",
    "\n",
    "\n",
    "\n",
    "plt.plot(np.array(radius3),E3_th,'orange')\n",
    "plt.plot(np.array(radius3),E3,'x')\n",
    "plt.axis([0,2.5,-1.2,-0.6])\n",
    "plt.ylabel('Energy (Hartree)')\n",
    "plt.xlabel('Atomic separation R (Å)')\n",
    "plt.legend(['Theoretical eigenvalues', 'Eigenvalues computed with Perceval'])\n",
    "plt.show()\n",
    "\n",
    "min_value=min(E3)\n",
    "min_index = E3.index(min_value)\n",
    "print('The minimum energy is E_g('+str(radius3[min_index])+')='+str(E3[min_index])+' Hartree and is attained for R_min ='+str(radius3[min_index])+' Å')"
   ]
  },
  {
   "cell_type": "markdown",
   "source": [
    "## References\n",
    "\n",
    "[1] A. Peruzzo, J. McClean, P. Shadbolt, M.-H. Yung, X.-Q. Zhou, P. J. Love,A. Aspuru-Guzik, and J. L. O’Brien, “A variational eigenvalue solver on a photonicquantum processor”, [Nature Communications](https://www.nature.com/articles/ncomms5213) 5, 4213 (2014).\n",
    "\n",
    "[2] P.J.J. O’Malley et al., \"Scalable Quantum Simulation of Molecular Energies\", [Phys. Rev. X](https://journals.aps.org/prl/abstract/10.1103/PhysRevLett.73.58) 6, 031007 (2016)\n",
    "\n",
    "[3] J.I. Colless, et al., \"Computation of Molecular Spectra on a Quantum Processor with an Error-Resilient Algorithm\", [Phys. Rev. X](https://journals.aps.org/prx/abstract/10.1103/PhysRevX.8.011021) 8, 011021 (2018)\n",
    "\n",
    "[4] J. A. Nelder and R. Mead, “A simplex method for function minimization”, [The computer journal](https://people.duke.edu/~hpgavin/cee201/Nelder+Mead-ComputerJournal-1965.pdf) 7, 308–313 (1965)."
   ],
   "metadata": {
    "collapsed": false,
    "pycharm": {
     "name": "#%% md\n"
    }
   }
  }
 ],
 "metadata": {
  "kernelspec": {
   "display_name": "Python 3 (ipykernel)",
   "language": "python",
   "name": "python3"
  },
  "language_info": {
   "codemirror_mode": {
    "name": "ipython",
    "version": 3
   },
   "file_extension": ".py",
   "mimetype": "text/x-python",
   "name": "python",
   "nbconvert_exporter": "python",
   "pygments_lexer": "ipython3",
   "version": "3.9.7"
  }
 },
 "nbformat": 4,
 "nbformat_minor": 5
}