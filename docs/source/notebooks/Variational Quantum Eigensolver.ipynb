{
 "cells": [
  {
   "cell_type": "markdown",
   "id": "39710952",
   "metadata": {},
   "source": [
    "# Variational Quantum Eigensolver"
   ]
  },
  {
   "cell_type": "markdown",
   "id": "5e2598a1",
   "metadata": {},
   "source": [
    "##### We provide a Perceval implementation  of original photonic Variational Quantum Eigensolver (VQE) from  Peruzzo, A. et al. in [1].\n",
    "\n",
    "##### This notebook provide computations of ground-state molecular energies for the Hamiltonian given by the following papers:\n",
    "\n",
    "   _A variational eigenvalue solver on a photonic quantum processor [1].\n",
    " \n",
    " _Scalable Quantum Simulation of Molecular Energies [2] .\n",
    " \n",
    " _Computation of Molecular Spectra on a Quantum Processor with an Error-Resilient Algorithm [3]"
   ]
  },
  {
   "cell_type": "markdown",
   "id": "14d8d0b4",
   "metadata": {},
   "source": [
    "Importing the necessary packages for the computations:"
   ]
  },
  {
   "cell_type": "code",
   "execution_count": 1,
   "id": "1e59ecca",
   "metadata": {},
   "outputs": [
    {
     "name": "stdout",
     "output_type": "stream",
     "text": [
      "Perceval version: 0.3.0a2\n"
     ]
    }
   ],
   "source": [
    "from IPython import display\n",
    "from collections import Counter\n",
    "from tabulate import tabulate\n",
    "from tqdm.auto import tqdm\n",
    "\n",
    "import perceval as pcvl\n",
    "import quandelibc as qc\n",
    "import perceval.lib.phys as phys\n",
    "import perceval.lib.symb as symb\n",
    "\n",
    "import math as math\n",
    "import numpy.polynomial.polynomial as nppol\n",
    "import sympy as sp\n",
    "import numpy as np\n",
    "from scipy.optimize import minimize\n",
    "import random\n",
    "import matplotlib.pyplot as plt\n",
    "print(\"Perceval version:\", pcvl.__version__)\n",
    "simulator_backend = pcvl.BackendFactory().get_backend(\"Naive\")"
   ]
  },
  {
   "cell_type": "markdown",
   "id": "111f0914",
   "metadata": {},
   "source": [
    "## Creation of the photonic quantum processor\n",
    "\n",
    "Here we reproduce on Perceval the 2-qubit circuit used in  [1] for VQE.\n",
    "\n",
    "We use path encoded qubits.\n",
    "\n",
    "Modes 0 and 5 are auxillary. 1st qubit is path encoded in modes 1 & 2. 2nd qubit in modes 3 & 4."
   ]
  },
  {
   "cell_type": "code",
   "execution_count": 2,
   "id": "22786406",
   "metadata": {},
   "outputs": [
    {
     "name": "stdout",
     "output_type": "stream",
     "text": [
      "The circuit is :\n"
     ]
    },
    {
     "data": {
      "text/html": [
       "<svg width='1100.000000' height='300.000000' viewBox='0.000000 0.000000 1100.000000 300.000000'><polyline points=\"0 75 28 75 47 94\" fill=\"transparent\"stroke=\"darkred\" stroke-width=\"3.000000\" stroke-linejoin=\"round\" />\n",
       "<polyline points=\"53 94 72 75 100 75\" fill=\"transparent\"stroke=\"darkred\" stroke-width=\"3.000000\" stroke-linejoin=\"round\" />\n",
       "<polyline points=\"0 125 28 125 47 106\" fill=\"transparent\"stroke=\"darkred\" stroke-width=\"3.000000\" stroke-linejoin=\"round\" />\n",
       "<polyline points=\"53 106 72 125 100 125\" fill=\"transparent\"stroke=\"darkred\" stroke-width=\"3.000000\" stroke-linejoin=\"round\" />\n",
       "<polyline points=\"25 93 75 93 75 107 25 107 25 93\" fill=\"black\" stroke=\"black\" stroke-width=\"1.000000\" stroke_linejoin=\"miter\" />\n",
       "<text x=\"50.000000\" y=\"136.000000\" font-size=\"7.000000\" text-anchor=\"middle\"></text>\n",
       "<text x=\"50.000000\" y=\"76.000000\" font-size=\"7.000000\" text-anchor=\"middle\"></text>\n",
       "<polyline points=\"25 93 75 93 75 97 25 97 25 93\" fill=\"lightgray\" stroke=\"black\" stroke-width=\"1.000000\" stroke_linejoin=\"miter\" />\n",
       "<polyline points=\"0 175 28 175 47 194\" fill=\"transparent\"stroke=\"darkred\" stroke-width=\"3.000000\" stroke-linejoin=\"round\" />\n",
       "<polyline points=\"53 194 72 175 100 175\" fill=\"transparent\"stroke=\"darkred\" stroke-width=\"3.000000\" stroke-linejoin=\"round\" />\n",
       "<polyline points=\"0 225 28 225 47 206\" fill=\"transparent\"stroke=\"darkred\" stroke-width=\"3.000000\" stroke-linejoin=\"round\" />\n",
       "<polyline points=\"53 206 72 225 100 225\" fill=\"transparent\"stroke=\"darkred\" stroke-width=\"3.000000\" stroke-linejoin=\"round\" />\n",
       "<polyline points=\"25 193 75 193 75 207 25 207 25 193\" fill=\"black\" stroke=\"black\" stroke-width=\"1.000000\" stroke_linejoin=\"miter\" />\n",
       "<text x=\"50.000000\" y=\"236.000000\" font-size=\"7.000000\" text-anchor=\"middle\"></text>\n",
       "<text x=\"50.000000\" y=\"176.000000\" font-size=\"7.000000\" text-anchor=\"middle\"></text>\n",
       "<polyline points=\"25 193 75 193 75 197 25 197 25 193\" fill=\"lightgray\" stroke=\"black\" stroke-width=\"1.000000\" stroke_linejoin=\"miter\" />\n",
       "<polyline points=\"100 125 150 125\" fill=\"transparent\"stroke=\"darkred\" stroke-width=\"3.000000\" stroke-linejoin=\"miter\" />\n",
       "<polyline points=\"105 140 114 140 128 110 119 110 105 140 114 140 105 140\" fill=\"gray\" stroke=\"black\" stroke-width=\"1.000000\" stroke_linejoin=\"miter\" />\n",
       "<text x=\"122.000000\" y=\"138.000000\" font-size=\"7.000000\" text-anchor=\"left\">φ=φ1</text>\n",
       "<polyline points=\"100 225 150 225\" fill=\"transparent\"stroke=\"darkred\" stroke-width=\"3.000000\" stroke-linejoin=\"miter\" />\n",
       "<polyline points=\"105 240 114 240 128 210 119 210 105 240 114 240 105 240\" fill=\"gray\" stroke=\"black\" stroke-width=\"1.000000\" stroke_linejoin=\"miter\" />\n",
       "<text x=\"122.000000\" y=\"238.000000\" font-size=\"7.000000\" text-anchor=\"left\">φ=φ3</text>\n",
       "<polyline points=\"100 75 150 75\" fill=\"transparent\"stroke=\"darkred\" stroke-width=\"3.000000\" stroke-linejoin=\"miter\" />\n",
       "<polyline points=\"150 75 178 75 197 94\" fill=\"transparent\"stroke=\"darkred\" stroke-width=\"3.000000\" stroke-linejoin=\"round\" />\n",
       "<polyline points=\"203 94 222 75 250 75\" fill=\"transparent\"stroke=\"darkred\" stroke-width=\"3.000000\" stroke-linejoin=\"round\" />\n",
       "<polyline points=\"150 125 178 125 197 106\" fill=\"transparent\"stroke=\"darkred\" stroke-width=\"3.000000\" stroke-linejoin=\"round\" />\n",
       "<polyline points=\"203 106 222 125 250 125\" fill=\"transparent\"stroke=\"darkred\" stroke-width=\"3.000000\" stroke-linejoin=\"round\" />\n",
       "<polyline points=\"175 93 225 93 225 107 175 107 175 93\" fill=\"black\" stroke=\"black\" stroke-width=\"1.000000\" stroke_linejoin=\"miter\" />\n",
       "<text x=\"200.000000\" y=\"136.000000\" font-size=\"7.000000\" text-anchor=\"middle\"></text>\n",
       "<text x=\"200.000000\" y=\"76.000000\" font-size=\"7.000000\" text-anchor=\"middle\"></text>\n",
       "<polyline points=\"175 93 225 93 225 97 175 97 175 93\" fill=\"lightgray\" stroke=\"black\" stroke-width=\"1.000000\" stroke_linejoin=\"miter\" />\n",
       "<polyline points=\"100 175 150 175\" fill=\"transparent\"stroke=\"darkred\" stroke-width=\"3.000000\" stroke-linejoin=\"miter\" />\n",
       "<polyline points=\"150 175 178 175 197 194\" fill=\"transparent\"stroke=\"darkred\" stroke-width=\"3.000000\" stroke-linejoin=\"round\" />\n",
       "<polyline points=\"203 194 222 175 250 175\" fill=\"transparent\"stroke=\"darkred\" stroke-width=\"3.000000\" stroke-linejoin=\"round\" />\n",
       "<polyline points=\"150 225 178 225 197 206\" fill=\"transparent\"stroke=\"darkred\" stroke-width=\"3.000000\" stroke-linejoin=\"round\" />\n",
       "<polyline points=\"203 206 222 225 250 225\" fill=\"transparent\"stroke=\"darkred\" stroke-width=\"3.000000\" stroke-linejoin=\"round\" />\n",
       "<polyline points=\"175 193 225 193 225 207 175 207 175 193\" fill=\"black\" stroke=\"black\" stroke-width=\"1.000000\" stroke_linejoin=\"miter\" />\n",
       "<text x=\"200.000000\" y=\"236.000000\" font-size=\"7.000000\" text-anchor=\"middle\"></text>\n",
       "<text x=\"200.000000\" y=\"176.000000\" font-size=\"7.000000\" text-anchor=\"middle\"></text>\n",
       "<polyline points=\"175 193 225 193 225 197 175 197 175 193\" fill=\"lightgray\" stroke=\"black\" stroke-width=\"1.000000\" stroke_linejoin=\"miter\" />\n",
       "<polyline points=\"250 125 300 125\" fill=\"transparent\"stroke=\"darkred\" stroke-width=\"3.000000\" stroke-linejoin=\"miter\" />\n",
       "<polyline points=\"255 140 264 140 278 110 269 110 255 140 264 140 255 140\" fill=\"gray\" stroke=\"black\" stroke-width=\"1.000000\" stroke_linejoin=\"miter\" />\n",
       "<text x=\"272.000000\" y=\"138.000000\" font-size=\"7.000000\" text-anchor=\"left\">φ=φ2</text>\n",
       "<polyline points=\"250 225 300 225\" fill=\"transparent\"stroke=\"darkred\" stroke-width=\"3.000000\" stroke-linejoin=\"miter\" />\n",
       "<polyline points=\"255 240 264 240 278 210 269 210 255 240 264 240 255 240\" fill=\"gray\" stroke=\"black\" stroke-width=\"1.000000\" stroke_linejoin=\"miter\" />\n",
       "<text x=\"272.000000\" y=\"238.000000\" font-size=\"7.000000\" text-anchor=\"left\">φ=φ4</text>\n",
       "<polyline points=\"0 25 300 25\" fill=\"transparent\"stroke=\"darkred\" stroke-width=\"3.000000\" stroke-linejoin=\"miter\" />\n",
       "<polyline points=\"250 75 300 75\" fill=\"transparent\"stroke=\"darkred\" stroke-width=\"3.000000\" stroke-linejoin=\"miter\" />\n",
       "<polyline points=\"250 175 300 175\" fill=\"transparent\"stroke=\"darkred\" stroke-width=\"3.000000\" stroke-linejoin=\"miter\" />\n",
       "<polyline points=\"0 275 300 275\" fill=\"transparent\"stroke=\"darkred\" stroke-width=\"3.000000\" stroke-linejoin=\"miter\" />\n",
       "<polyline points=\"303 25 347 25\" fill=\"transparent\"stroke=\"white\" stroke-width=\"6.000000\" stroke-linejoin=\"miter\" />\n",
       "<polyline points=\"300 25 303 25 347 25 350 25\" fill=\"transparent\"stroke=\"darkred\" stroke-width=\"3.000000\" stroke-linejoin=\"miter\" />\n",
       "<polyline points=\"303 75 347 75\" fill=\"transparent\"stroke=\"white\" stroke-width=\"6.000000\" stroke-linejoin=\"miter\" />\n",
       "<polyline points=\"300 75 303 75 347 75 350 75\" fill=\"transparent\"stroke=\"darkred\" stroke-width=\"3.000000\" stroke-linejoin=\"miter\" />\n",
       "<polyline points=\"303 125 347 125\" fill=\"transparent\"stroke=\"white\" stroke-width=\"6.000000\" stroke-linejoin=\"miter\" />\n",
       "<polyline points=\"300 125 303 125 347 125 350 125\" fill=\"transparent\"stroke=\"darkred\" stroke-width=\"3.000000\" stroke-linejoin=\"miter\" />\n",
       "<polyline points=\"303 175 347 175\" fill=\"transparent\"stroke=\"white\" stroke-width=\"6.000000\" stroke-linejoin=\"miter\" />\n",
       "<polyline points=\"300 175 303 175 347 175 350 175\" fill=\"transparent\"stroke=\"darkred\" stroke-width=\"3.000000\" stroke-linejoin=\"miter\" />\n",
       "<polyline points=\"303 225 347 225\" fill=\"transparent\"stroke=\"white\" stroke-width=\"6.000000\" stroke-linejoin=\"miter\" />\n",
       "<polyline points=\"300 225 303 225 347 225 350 225\" fill=\"transparent\"stroke=\"darkred\" stroke-width=\"3.000000\" stroke-linejoin=\"miter\" />\n",
       "<polyline points=\"303 275 347 275\" fill=\"transparent\"stroke=\"white\" stroke-width=\"6.000000\" stroke-linejoin=\"miter\" />\n",
       "<polyline points=\"300 275 303 275 347 275 350 275\" fill=\"transparent\"stroke=\"darkred\" stroke-width=\"3.000000\" stroke-linejoin=\"miter\" />\n",
       "<polyline points=\"350 175 378 175 397 194\" fill=\"transparent\"stroke=\"darkred\" stroke-width=\"3.000000\" stroke-linejoin=\"round\" />\n",
       "<polyline points=\"403 194 422 175 450 175\" fill=\"transparent\"stroke=\"darkred\" stroke-width=\"3.000000\" stroke-linejoin=\"round\" />\n",
       "<polyline points=\"350 225 378 225 397 206\" fill=\"transparent\"stroke=\"darkred\" stroke-width=\"3.000000\" stroke-linejoin=\"round\" />\n",
       "<polyline points=\"403 206 422 225 450 225\" fill=\"transparent\"stroke=\"darkred\" stroke-width=\"3.000000\" stroke-linejoin=\"round\" />\n",
       "<polyline points=\"375 193 425 193 425 207 375 207 375 193\" fill=\"black\" stroke=\"black\" stroke-width=\"1.000000\" stroke_linejoin=\"miter\" />\n",
       "<text x=\"400.000000\" y=\"236.000000\" font-size=\"7.000000\" text-anchor=\"middle\"></text>\n",
       "<text x=\"400.000000\" y=\"176.000000\" font-size=\"7.000000\" text-anchor=\"middle\"></text>\n",
       "<polyline points=\"375 193 425 193 425 197 375 197 375 193\" fill=\"lightgray\" stroke=\"black\" stroke-width=\"1.000000\" stroke_linejoin=\"miter\" />\n",
       "<polyline points=\"350 25 450 25\" fill=\"transparent\"stroke=\"darkred\" stroke-width=\"3.000000\" stroke-linejoin=\"miter\" />\n",
       "<polyline points=\"350 75 450 75\" fill=\"transparent\"stroke=\"darkred\" stroke-width=\"3.000000\" stroke-linejoin=\"miter\" />\n",
       "<polyline points=\"350 125 450 125\" fill=\"transparent\"stroke=\"darkred\" stroke-width=\"3.000000\" stroke-linejoin=\"miter\" />\n",
       "<polyline points=\"350 275 450 275\" fill=\"transparent\"stroke=\"darkred\" stroke-width=\"3.000000\" stroke-linejoin=\"miter\" />\n",
       "<polyline points=\"453 25 497 25\" fill=\"transparent\"stroke=\"white\" stroke-width=\"6.000000\" stroke-linejoin=\"miter\" />\n",
       "<polyline points=\"450 25 453 25 497 25 500 25\" fill=\"transparent\"stroke=\"darkred\" stroke-width=\"3.000000\" stroke-linejoin=\"miter\" />\n",
       "<polyline points=\"453 75 497 75\" fill=\"transparent\"stroke=\"white\" stroke-width=\"6.000000\" stroke-linejoin=\"miter\" />\n",
       "<polyline points=\"450 75 453 75 497 75 500 75\" fill=\"transparent\"stroke=\"darkred\" stroke-width=\"3.000000\" stroke-linejoin=\"miter\" />\n",
       "<polyline points=\"453 125 497 125\" fill=\"transparent\"stroke=\"white\" stroke-width=\"6.000000\" stroke-linejoin=\"miter\" />\n",
       "<polyline points=\"450 125 453 125 497 125 500 125\" fill=\"transparent\"stroke=\"darkred\" stroke-width=\"3.000000\" stroke-linejoin=\"miter\" />\n",
       "<polyline points=\"453 175 497 175\" fill=\"transparent\"stroke=\"white\" stroke-width=\"6.000000\" stroke-linejoin=\"miter\" />\n",
       "<polyline points=\"450 175 453 175 497 175 500 175\" fill=\"transparent\"stroke=\"darkred\" stroke-width=\"3.000000\" stroke-linejoin=\"miter\" />\n",
       "<polyline points=\"453 225 497 225\" fill=\"transparent\"stroke=\"white\" stroke-width=\"6.000000\" stroke-linejoin=\"miter\" />\n",
       "<polyline points=\"450 225 453 225 497 225 500 225\" fill=\"transparent\"stroke=\"darkred\" stroke-width=\"3.000000\" stroke-linejoin=\"miter\" />\n",
       "<polyline points=\"453 275 497 275\" fill=\"transparent\"stroke=\"white\" stroke-width=\"6.000000\" stroke-linejoin=\"miter\" />\n",
       "<polyline points=\"450 275 453 275 497 275 500 275\" fill=\"transparent\"stroke=\"darkred\" stroke-width=\"3.000000\" stroke-linejoin=\"miter\" />\n",
       "<polyline points=\"500 25 528 25 547 44\" fill=\"transparent\"stroke=\"darkred\" stroke-width=\"3.000000\" stroke-linejoin=\"round\" />\n",
       "<polyline points=\"553 44 572 25 600 25\" fill=\"transparent\"stroke=\"darkred\" stroke-width=\"3.000000\" stroke-linejoin=\"round\" />\n",
       "<polyline points=\"500 75 528 75 547 56\" fill=\"transparent\"stroke=\"darkred\" stroke-width=\"3.000000\" stroke-linejoin=\"round\" />\n",
       "<polyline points=\"553 56 572 75 600 75\" fill=\"transparent\"stroke=\"darkred\" stroke-width=\"3.000000\" stroke-linejoin=\"round\" />\n",
       "<polyline points=\"525 43 575 43 575 57 525 57 525 43\" fill=\"black\" stroke=\"black\" stroke-width=\"1.000000\" stroke_linejoin=\"miter\" />\n",
       "<text x=\"550.000000\" y=\"86.000000\" font-size=\"7.000000\" text-anchor=\"middle\"></text>\n",
       "<text x=\"550.000000\" y=\"26.000000\" font-size=\"7.000000\" text-anchor=\"middle\">R=1/3</text>\n",
       "<polyline points=\"525 43 575 43 575 47 525 47 525 43\" fill=\"lightgray\" stroke=\"black\" stroke-width=\"1.000000\" stroke_linejoin=\"miter\" />\n",
       "<polyline points=\"500 125 528 125 547 144\" fill=\"transparent\"stroke=\"darkred\" stroke-width=\"3.000000\" stroke-linejoin=\"round\" />\n",
       "<polyline points=\"553 144 572 125 600 125\" fill=\"transparent\"stroke=\"darkred\" stroke-width=\"3.000000\" stroke-linejoin=\"round\" />\n",
       "<polyline points=\"500 175 528 175 547 156\" fill=\"transparent\"stroke=\"darkred\" stroke-width=\"3.000000\" stroke-linejoin=\"round\" />\n",
       "<polyline points=\"553 156 572 175 600 175\" fill=\"transparent\"stroke=\"darkred\" stroke-width=\"3.000000\" stroke-linejoin=\"round\" />\n",
       "<polyline points=\"525 143 575 143 575 157 525 157 525 143\" fill=\"black\" stroke=\"black\" stroke-width=\"1.000000\" stroke_linejoin=\"miter\" />\n",
       "<text x=\"550.000000\" y=\"186.000000\" font-size=\"7.000000\" text-anchor=\"middle\"></text>\n",
       "<text x=\"550.000000\" y=\"126.000000\" font-size=\"7.000000\" text-anchor=\"middle\">R=1/3</text>\n",
       "<polyline points=\"525 143 575 143 575 147 525 147 525 143\" fill=\"lightgray\" stroke=\"black\" stroke-width=\"1.000000\" stroke_linejoin=\"miter\" />\n",
       "<polyline points=\"500 225 528 225 547 244\" fill=\"transparent\"stroke=\"darkred\" stroke-width=\"3.000000\" stroke-linejoin=\"round\" />\n",
       "<polyline points=\"553 244 572 225 600 225\" fill=\"transparent\"stroke=\"darkred\" stroke-width=\"3.000000\" stroke-linejoin=\"round\" />\n",
       "<polyline points=\"500 275 528 275 547 256\" fill=\"transparent\"stroke=\"darkred\" stroke-width=\"3.000000\" stroke-linejoin=\"round\" />\n",
       "<polyline points=\"553 256 572 275 600 275\" fill=\"transparent\"stroke=\"darkred\" stroke-width=\"3.000000\" stroke-linejoin=\"round\" />\n",
       "<polyline points=\"525 243 575 243 575 257 525 257 525 243\" fill=\"black\" stroke=\"black\" stroke-width=\"1.000000\" stroke_linejoin=\"miter\" />\n",
       "<text x=\"550.000000\" y=\"286.000000\" font-size=\"7.000000\" text-anchor=\"middle\"></text>\n",
       "<text x=\"550.000000\" y=\"226.000000\" font-size=\"7.000000\" text-anchor=\"middle\">R=1/3</text>\n",
       "<polyline points=\"525 243 575 243 575 247 525 247 525 243\" fill=\"lightgray\" stroke=\"black\" stroke-width=\"1.000000\" stroke_linejoin=\"miter\" />\n",
       "<polyline points=\"603 25 647 25\" fill=\"transparent\"stroke=\"white\" stroke-width=\"6.000000\" stroke-linejoin=\"miter\" />\n",
       "<polyline points=\"600 25 603 25 647 25 650 25\" fill=\"transparent\"stroke=\"darkred\" stroke-width=\"3.000000\" stroke-linejoin=\"miter\" />\n",
       "<polyline points=\"603 75 647 75\" fill=\"transparent\"stroke=\"white\" stroke-width=\"6.000000\" stroke-linejoin=\"miter\" />\n",
       "<polyline points=\"600 75 603 75 647 75 650 75\" fill=\"transparent\"stroke=\"darkred\" stroke-width=\"3.000000\" stroke-linejoin=\"miter\" />\n",
       "<polyline points=\"603 125 647 125\" fill=\"transparent\"stroke=\"white\" stroke-width=\"6.000000\" stroke-linejoin=\"miter\" />\n",
       "<polyline points=\"600 125 603 125 647 125 650 125\" fill=\"transparent\"stroke=\"darkred\" stroke-width=\"3.000000\" stroke-linejoin=\"miter\" />\n",
       "<polyline points=\"603 175 647 175\" fill=\"transparent\"stroke=\"white\" stroke-width=\"6.000000\" stroke-linejoin=\"miter\" />\n",
       "<polyline points=\"600 175 603 175 647 175 650 175\" fill=\"transparent\"stroke=\"darkred\" stroke-width=\"3.000000\" stroke-linejoin=\"miter\" />\n",
       "<polyline points=\"603 225 647 225\" fill=\"transparent\"stroke=\"white\" stroke-width=\"6.000000\" stroke-linejoin=\"miter\" />\n",
       "<polyline points=\"600 225 603 225 647 225 650 225\" fill=\"transparent\"stroke=\"darkred\" stroke-width=\"3.000000\" stroke-linejoin=\"miter\" />\n",
       "<polyline points=\"603 275 647 275\" fill=\"transparent\"stroke=\"white\" stroke-width=\"6.000000\" stroke-linejoin=\"miter\" />\n",
       "<polyline points=\"600 275 603 275 647 275 650 275\" fill=\"transparent\"stroke=\"darkred\" stroke-width=\"3.000000\" stroke-linejoin=\"miter\" />\n",
       "<polyline points=\"650 175 678 175 697 194\" fill=\"transparent\"stroke=\"darkred\" stroke-width=\"3.000000\" stroke-linejoin=\"round\" />\n",
       "<polyline points=\"703 194 722 175 750 175\" fill=\"transparent\"stroke=\"darkred\" stroke-width=\"3.000000\" stroke-linejoin=\"round\" />\n",
       "<polyline points=\"650 225 678 225 697 206\" fill=\"transparent\"stroke=\"darkred\" stroke-width=\"3.000000\" stroke-linejoin=\"round\" />\n",
       "<polyline points=\"703 206 722 225 750 225\" fill=\"transparent\"stroke=\"darkred\" stroke-width=\"3.000000\" stroke-linejoin=\"round\" />\n",
       "<polyline points=\"675 193 725 193 725 207 675 207 675 193\" fill=\"black\" stroke=\"black\" stroke-width=\"1.000000\" stroke_linejoin=\"miter\" />\n",
       "<text x=\"700.000000\" y=\"236.000000\" font-size=\"7.000000\" text-anchor=\"middle\"></text>\n",
       "<text x=\"700.000000\" y=\"176.000000\" font-size=\"7.000000\" text-anchor=\"middle\"></text>\n",
       "<polyline points=\"675 193 725 193 725 197 675 197 675 193\" fill=\"lightgray\" stroke=\"black\" stroke-width=\"1.000000\" stroke_linejoin=\"miter\" />\n",
       "<polyline points=\"650 25 750 25\" fill=\"transparent\"stroke=\"darkred\" stroke-width=\"3.000000\" stroke-linejoin=\"miter\" />\n",
       "<polyline points=\"650 75 750 75\" fill=\"transparent\"stroke=\"darkred\" stroke-width=\"3.000000\" stroke-linejoin=\"miter\" />\n",
       "<polyline points=\"650 125 750 125\" fill=\"transparent\"stroke=\"darkred\" stroke-width=\"3.000000\" stroke-linejoin=\"miter\" />\n",
       "<polyline points=\"650 275 750 275\" fill=\"transparent\"stroke=\"darkred\" stroke-width=\"3.000000\" stroke-linejoin=\"miter\" />\n",
       "<polyline points=\"753 25 797 25\" fill=\"transparent\"stroke=\"white\" stroke-width=\"6.000000\" stroke-linejoin=\"miter\" />\n",
       "<polyline points=\"750 25 753 25 797 25 800 25\" fill=\"transparent\"stroke=\"darkred\" stroke-width=\"3.000000\" stroke-linejoin=\"miter\" />\n",
       "<polyline points=\"753 75 797 75\" fill=\"transparent\"stroke=\"white\" stroke-width=\"6.000000\" stroke-linejoin=\"miter\" />\n",
       "<polyline points=\"750 75 753 75 797 75 800 75\" fill=\"transparent\"stroke=\"darkred\" stroke-width=\"3.000000\" stroke-linejoin=\"miter\" />\n",
       "<polyline points=\"753 125 797 125\" fill=\"transparent\"stroke=\"white\" stroke-width=\"6.000000\" stroke-linejoin=\"miter\" />\n",
       "<polyline points=\"750 125 753 125 797 125 800 125\" fill=\"transparent\"stroke=\"darkred\" stroke-width=\"3.000000\" stroke-linejoin=\"miter\" />\n",
       "<polyline points=\"753 175 797 175\" fill=\"transparent\"stroke=\"white\" stroke-width=\"6.000000\" stroke-linejoin=\"miter\" />\n",
       "<polyline points=\"750 175 753 175 797 175 800 175\" fill=\"transparent\"stroke=\"darkred\" stroke-width=\"3.000000\" stroke-linejoin=\"miter\" />\n",
       "<polyline points=\"753 225 797 225\" fill=\"transparent\"stroke=\"white\" stroke-width=\"6.000000\" stroke-linejoin=\"miter\" />\n",
       "<polyline points=\"750 225 753 225 797 225 800 225\" fill=\"transparent\"stroke=\"darkred\" stroke-width=\"3.000000\" stroke-linejoin=\"miter\" />\n",
       "<polyline points=\"753 275 797 275\" fill=\"transparent\"stroke=\"white\" stroke-width=\"6.000000\" stroke-linejoin=\"miter\" />\n",
       "<polyline points=\"750 275 753 275 797 275 800 275\" fill=\"transparent\"stroke=\"darkred\" stroke-width=\"3.000000\" stroke-linejoin=\"miter\" />\n",
       "<polyline points=\"800 125 850 125\" fill=\"transparent\"stroke=\"darkred\" stroke-width=\"3.000000\" stroke-linejoin=\"miter\" />\n",
       "<polyline points=\"805 140 814 140 828 110 819 110 805 140 814 140 805 140\" fill=\"gray\" stroke=\"black\" stroke-width=\"1.000000\" stroke_linejoin=\"miter\" />\n",
       "<text x=\"822.000000\" y=\"138.000000\" font-size=\"7.000000\" text-anchor=\"left\">φ=φ5</text>\n",
       "<polyline points=\"800 225 850 225\" fill=\"transparent\"stroke=\"darkred\" stroke-width=\"3.000000\" stroke-linejoin=\"miter\" />\n",
       "<polyline points=\"805 240 814 240 828 210 819 210 805 240 814 240 805 240\" fill=\"gray\" stroke=\"black\" stroke-width=\"1.000000\" stroke_linejoin=\"miter\" />\n",
       "<text x=\"822.000000\" y=\"238.000000\" font-size=\"7.000000\" text-anchor=\"left\">φ=φ7</text>\n",
       "<polyline points=\"800 75 850 75\" fill=\"transparent\"stroke=\"darkred\" stroke-width=\"3.000000\" stroke-linejoin=\"miter\" />\n",
       "<polyline points=\"850 75 878 75 897 94\" fill=\"transparent\"stroke=\"darkred\" stroke-width=\"3.000000\" stroke-linejoin=\"round\" />\n",
       "<polyline points=\"903 94 922 75 950 75\" fill=\"transparent\"stroke=\"darkred\" stroke-width=\"3.000000\" stroke-linejoin=\"round\" />\n",
       "<polyline points=\"850 125 878 125 897 106\" fill=\"transparent\"stroke=\"darkred\" stroke-width=\"3.000000\" stroke-linejoin=\"round\" />\n",
       "<polyline points=\"903 106 922 125 950 125\" fill=\"transparent\"stroke=\"darkred\" stroke-width=\"3.000000\" stroke-linejoin=\"round\" />\n",
       "<polyline points=\"875 93 925 93 925 107 875 107 875 93\" fill=\"black\" stroke=\"black\" stroke-width=\"1.000000\" stroke_linejoin=\"miter\" />\n",
       "<text x=\"900.000000\" y=\"136.000000\" font-size=\"7.000000\" text-anchor=\"middle\"></text>\n",
       "<text x=\"900.000000\" y=\"76.000000\" font-size=\"7.000000\" text-anchor=\"middle\"></text>\n",
       "<polyline points=\"875 93 925 93 925 97 875 97 875 93\" fill=\"lightgray\" stroke=\"black\" stroke-width=\"1.000000\" stroke_linejoin=\"miter\" />\n",
       "<polyline points=\"800 175 850 175\" fill=\"transparent\"stroke=\"darkred\" stroke-width=\"3.000000\" stroke-linejoin=\"miter\" />\n",
       "<polyline points=\"850 175 878 175 897 194\" fill=\"transparent\"stroke=\"darkred\" stroke-width=\"3.000000\" stroke-linejoin=\"round\" />\n",
       "<polyline points=\"903 194 922 175 950 175\" fill=\"transparent\"stroke=\"darkred\" stroke-width=\"3.000000\" stroke-linejoin=\"round\" />\n",
       "<polyline points=\"850 225 878 225 897 206\" fill=\"transparent\"stroke=\"darkred\" stroke-width=\"3.000000\" stroke-linejoin=\"round\" />\n",
       "<polyline points=\"903 206 922 225 950 225\" fill=\"transparent\"stroke=\"darkred\" stroke-width=\"3.000000\" stroke-linejoin=\"round\" />\n",
       "<polyline points=\"875 193 925 193 925 207 875 207 875 193\" fill=\"black\" stroke=\"black\" stroke-width=\"1.000000\" stroke_linejoin=\"miter\" />\n",
       "<text x=\"900.000000\" y=\"236.000000\" font-size=\"7.000000\" text-anchor=\"middle\"></text>\n",
       "<text x=\"900.000000\" y=\"176.000000\" font-size=\"7.000000\" text-anchor=\"middle\"></text>\n",
       "<polyline points=\"875 193 925 193 925 197 875 197 875 193\" fill=\"lightgray\" stroke=\"black\" stroke-width=\"1.000000\" stroke_linejoin=\"miter\" />\n",
       "<polyline points=\"950 125 1000 125\" fill=\"transparent\"stroke=\"darkred\" stroke-width=\"3.000000\" stroke-linejoin=\"miter\" />\n",
       "<polyline points=\"955 140 964 140 978 110 969 110 955 140 964 140 955 140\" fill=\"gray\" stroke=\"black\" stroke-width=\"1.000000\" stroke_linejoin=\"miter\" />\n",
       "<text x=\"972.000000\" y=\"138.000000\" font-size=\"7.000000\" text-anchor=\"left\">φ=φ6</text>\n",
       "<polyline points=\"950 225 1000 225\" fill=\"transparent\"stroke=\"darkred\" stroke-width=\"3.000000\" stroke-linejoin=\"miter\" />\n",
       "<polyline points=\"955 240 964 240 978 210 969 210 955 240 964 240 955 240\" fill=\"gray\" stroke=\"black\" stroke-width=\"1.000000\" stroke_linejoin=\"miter\" />\n",
       "<text x=\"972.000000\" y=\"238.000000\" font-size=\"7.000000\" text-anchor=\"left\">φ=φ8</text>\n",
       "<polyline points=\"950 75 1000 75\" fill=\"transparent\"stroke=\"darkred\" stroke-width=\"3.000000\" stroke-linejoin=\"miter\" />\n",
       "<polyline points=\"1000 75 1028 75 1047 94\" fill=\"transparent\"stroke=\"darkred\" stroke-width=\"3.000000\" stroke-linejoin=\"round\" />\n",
       "<polyline points=\"1053 94 1072 75 1100 75\" fill=\"transparent\"stroke=\"darkred\" stroke-width=\"3.000000\" stroke-linejoin=\"round\" />\n",
       "<polyline points=\"1000 125 1028 125 1047 106\" fill=\"transparent\"stroke=\"darkred\" stroke-width=\"3.000000\" stroke-linejoin=\"round\" />\n",
       "<polyline points=\"1053 106 1072 125 1100 125\" fill=\"transparent\"stroke=\"darkred\" stroke-width=\"3.000000\" stroke-linejoin=\"round\" />\n",
       "<polyline points=\"1025 93 1075 93 1075 107 1025 107 1025 93\" fill=\"black\" stroke=\"black\" stroke-width=\"1.000000\" stroke_linejoin=\"miter\" />\n",
       "<text x=\"1050.000000\" y=\"136.000000\" font-size=\"7.000000\" text-anchor=\"middle\"></text>\n",
       "<text x=\"1050.000000\" y=\"76.000000\" font-size=\"7.000000\" text-anchor=\"middle\"></text>\n",
       "<polyline points=\"1025 93 1075 93 1075 97 1025 97 1025 93\" fill=\"lightgray\" stroke=\"black\" stroke-width=\"1.000000\" stroke_linejoin=\"miter\" />\n",
       "<polyline points=\"950 175 1000 175\" fill=\"transparent\"stroke=\"darkred\" stroke-width=\"3.000000\" stroke-linejoin=\"miter\" />\n",
       "<polyline points=\"1000 175 1028 175 1047 194\" fill=\"transparent\"stroke=\"darkred\" stroke-width=\"3.000000\" stroke-linejoin=\"round\" />\n",
       "<polyline points=\"1053 194 1072 175 1100 175\" fill=\"transparent\"stroke=\"darkred\" stroke-width=\"3.000000\" stroke-linejoin=\"round\" />\n",
       "<polyline points=\"1000 225 1028 225 1047 206\" fill=\"transparent\"stroke=\"darkred\" stroke-width=\"3.000000\" stroke-linejoin=\"round\" />\n",
       "<polyline points=\"1053 206 1072 225 1100 225\" fill=\"transparent\"stroke=\"darkred\" stroke-width=\"3.000000\" stroke-linejoin=\"round\" />\n",
       "<polyline points=\"1025 193 1075 193 1075 207 1025 207 1025 193\" fill=\"black\" stroke=\"black\" stroke-width=\"1.000000\" stroke_linejoin=\"miter\" />\n",
       "<text x=\"1050.000000\" y=\"236.000000\" font-size=\"7.000000\" text-anchor=\"middle\"></text>\n",
       "<text x=\"1050.000000\" y=\"176.000000\" font-size=\"7.000000\" text-anchor=\"middle\"></text>\n",
       "<polyline points=\"1025 193 1075 193 1075 197 1025 197 1025 193\" fill=\"lightgray\" stroke=\"black\" stroke-width=\"1.000000\" stroke_linejoin=\"miter\" />\n",
       "<polyline points=\"800 25 1100 25\" fill=\"transparent\"stroke=\"darkred\" stroke-width=\"3.000000\" stroke-linejoin=\"miter\" />\n",
       "<polyline points=\"800 275 1100 275\" fill=\"transparent\"stroke=\"darkred\" stroke-width=\"3.000000\" stroke-linejoin=\"miter\" /></svg>"
      ],
      "text/plain": [
       "<IPython.core.display.HTML object>"
      ]
     },
     "metadata": {},
     "output_type": "display_data"
    }
   ],
   "source": [
    "#List of the parameters φ1,φ2,...,φ8\n",
    "List_Parameters=[]\n",
    "\n",
    "# VQE is a 6 optical mode circuit\n",
    "VQE=pcvl.Circuit(6)\n",
    "\n",
    "VQE.add((1,2), phys.BS(R=1/2))\n",
    "VQE.add((3,4), phys.BS(R=1/2))\n",
    "List_Parameters.append(pcvl.Parameter(\"φ1\"))\n",
    "VQE.add((2,),phys.PS(phi=List_Parameters[-1]))\n",
    "List_Parameters.append(pcvl.Parameter(\"φ3\"))\n",
    "VQE.add((4,),phys.PS(phi=List_Parameters[-1]))\n",
    "VQE.add((1,2), phys.BS(R=1/2))\n",
    "VQE.add((3,4), phys.BS(R=1/2))\n",
    "List_Parameters.append(pcvl.Parameter(\"φ2\"))\n",
    "VQE.add((2,),phys.PS(phi=List_Parameters[-1]))\n",
    "List_Parameters.append(pcvl.Parameter(\"φ4\"))\n",
    "VQE.add((4,),phys.PS(phi=List_Parameters[-1]))\n",
    "\n",
    "\n",
    "# CNOT ( Post-selected with a success probability of 1/9) \n",
    "VQE.add([0,1,2,3,4,5], phys.PERM([0,1,2,3,4,5]))#Identity PERM (permutation) for the purpose of drawing a nice circuit\n",
    "VQE.add((3,4), phys.BS(R=1/2))\n",
    "VQE.add([0,1,2,3,4,5], phys.PERM([0,1,2,3,4,5]))#Identity PERM (permutation) for the same purpose\n",
    "VQE.add((0,1), phys.BS(R=1/3))\n",
    "VQE.add((2,3), phys.BS(R=1/3))\n",
    "VQE.add((4,5), phys.BS(R=1/3))\n",
    "VQE.add([0,1,2,3,4,5], phys.PERM([0,1,2,3,4,5]))#Identity PERM (permutation) for the same purpose\n",
    "VQE.add((3,4), phys.BS(R=1/2))\n",
    "VQE.add([0,1,2,3,4,5], phys.PERM([0,1,2,3,4,5]))#Identity PERM (permutation) for the same purpose\n",
    "\n",
    "List_Parameters.append(pcvl.Parameter(\"φ5\"))\n",
    "VQE.add((2,),phys.PS(phi=List_Parameters[-1]))\n",
    "List_Parameters.append(pcvl.Parameter(\"φ7\"))\n",
    "VQE.add((4,),phys.PS(phi=List_Parameters[-1]))\n",
    "VQE.add((1,2), phys.BS(R=1/2))\n",
    "VQE.add((3,4), phys.BS(R=1/2))\n",
    "List_Parameters.append(pcvl.Parameter(\"φ6\"))\n",
    "VQE.add((2,),phys.PS(phi=List_Parameters[-1]))\n",
    "List_Parameters.append(pcvl.Parameter(\"φ8\"))\n",
    "VQE.add((4,),phys.PS(phi=List_Parameters[-1]))\n",
    "VQE.add((1,2), phys.BS(R=1/2))\n",
    "VQE.add((3,4), phys.BS(R=1/2))\n",
    "\n",
    "# Mode 0 and 5 are auxillary.\n",
    "#1st qubit is path encoded in modes 1 & 2\n",
    "#2nd qubit in 3 & 4\n",
    "\n",
    "print(\"The circuit is :\")\n",
    "pcvl.pdisplay(VQE)"
   ]
  },
  {
   "cell_type": "markdown",
   "id": "91a1daa5",
   "metadata": {},
   "source": [
    "## Logical input and output states\n",
    "\n",
    "Logical states are path encoded on the Fock States."
   ]
  },
  {
   "cell_type": "code",
   "execution_count": 3,
   "id": "09dba52d",
   "metadata": {},
   "outputs": [],
   "source": [
    "#Input states of the photonic circuit\n",
    "input_states = {\n",
    "    pcvl.BasicState([0,1,0,1,0,0]):\"|00>\"}\n",
    "\n",
    "#Outputs in the computational basis\n",
    "output_states = {\n",
    "    pcvl.BasicState([0,1,0,1,0,0]):\"|00>\",\n",
    "    pcvl.BasicState([0,1,0,0,1,0]):\"|01>\",\n",
    "    pcvl.BasicState([0,0,1,1,0,0]):\"|10>\",\n",
    "    pcvl.BasicState([0,0,1,0,1,0]):\"|11>\"}"
   ]
  },
  {
   "cell_type": "markdown",
   "id": "d2d1cf4f",
   "metadata": {},
   "source": [
    "## The loss function for the variational algorithm\n",
    "\n",
    "For a given state $|\\psi \\rangle$ the Rayleigh-Ritz quotient is given by:\n",
    "$$ \\frac{\\langle \\psi | \\mathcal{H} | \\psi \\rangle}{\\langle \\psi |\\psi \\rangle},$$\n",
    "This is computed in Perceval by explicitly computing $|\\psi \\rangle$ ( which is the output of the simulated photonic circuit).\n",
    "Determining the smallest/ground state eigenvalue is done through a variational approach with Rayleigh-Ritz quotient as the loss function.\n",
    "\n",
    "Using a classical optimisation algorithm, and the simulations given by Perceval we find the eigenvector which minimises the Rayleigh-Ritz quotient together with its associated eigenvalue ( the ground state eigenvalue), which reprensents the solution of the VQE.\n",
    "\n",
    "\n"
   ]
  },
  {
   "cell_type": "code",
   "execution_count": 4,
   "id": "db3c68e5",
   "metadata": {},
   "outputs": [],
   "source": [
    "\n",
    "def minimize_loss(lp=None): \n",
    "    # Updating the parameters on the chip\n",
    "    for idx, p in enumerate(lp):                    \n",
    "        List_Parameters[idx].set_value(p)\n",
    "    \n",
    "    #Simulation, Quantum processing part of the VQE\n",
    "    s_VQE = simulator_backend(VQE.compute_unitary(use_symbolic = False)) \n",
    "    \n",
    "    # Collecting the output state of the circuit    \n",
    "    psi = [] \n",
    "    for input_state in input_states:\n",
    "        for output_state in output_states: #|00>,|01>,|10>,|11>\n",
    "            psi.append(s_VQE.probampli(input_state,output_state))\n",
    "            \n",
    "        #Evaluating the mean value of the Hamiltonian.  # The Hamiltonians H is defined in the following block\n",
    "    psi_prime=np.dot(H[R][1],psi)\n",
    "    loss = np.real(sum(sum(np.conjugate(psi)*np.array(psi_prime[0]))))/(sum([i*np.conjugate(i) for i in psi]))\n",
    "    loss=np.real(loss)\n",
    "    \n",
    "    tq.set_description('%g / %g  loss function=%g' % (R, len(H), loss))\n",
    "    return(loss)\n"
   ]
  },
  {
   "cell_type": "markdown",
   "id": "0f7d26a2",
   "metadata": {},
   "source": [
    "## Hamiltonians for VQE\n",
    "\n",
    "In this section we define the 3 Hamiltonians given by the 3  papers [1-3]\n",
    "\n",
    "Perceval can compute the state vector, which is the output of the photonic quantum circuit, explicitly.\n",
    "This eliminates the need for using algorithms to estimate the expectation value.\n",
    "\n",
    "A Hamiltonian can be written as :\n",
    "$$ \\mathcal{H}= \\sum_{\\sigma }h_{\\sigma}\\sigma$$\n",
    "where $h_{\\sigma} \\in \\mathbb{R} $ and $\\sigma$ are pauli operators."
   ]
  },
  {
   "cell_type": "markdown",
   "id": "97e78feb",
   "metadata": {},
   "source": [
    "### Hamiltonian n°1 [1]\n",
    "\n",
    "Hamiltonian coefficents on the supplementary paper:\n",
    "https://static-content.springer.com/esm/art%3A10.1038%2Fncomms5213/MediaObjects/41467_2014_BFncomms5213_MOESM1050_ESM.pdf"
   ]
  },
  {
   "cell_type": "code",
   "execution_count": 5,
   "id": "b3f89652",
   "metadata": {},
   "outputs": [],
   "source": [
    "Hamiltonian_elem = np.array([[[0,0,0,0],[0,0,0,0],[0,0,0,0],[0,0,0,0]],    #00\n",
    "                             [[1,0,0,0],[0,1,0,0],[0,0,1,0],[0,0,0,1]],    #II\n",
    "                             [[0,1,0,0],[1,0,0,0],[0,0,0,1],[0,0,1,0]],    #IX\n",
    "                             [[1,0,0,0],[0,-1,0,0],[0,0,1,0],[0,0,0,-1]],  #IZ\n",
    "                             [[0,0,1,0],[0,0,0,1],[1,0,0,0],[0,1,0,0]],    #XI\n",
    "                             [[0,0,0,1],[0,0,1,0],[0,1,0,0],[1,0,0,0]],    #XX\n",
    "                             [[0,0,1,0],[0,0,0,-1],[1,0,0,0],[0,-1,0,0]],  #XZ\n",
    "                             [[1,0,0,0],[0,1,0,0],[0,0,-1,0],[0,0,0,-1]],  #ZI\n",
    "                             [[0,1,0,0],[1,0,0,0],[0,0,0,-1],[0,0,-1,0]],  #ZX\n",
    "                             [[1,0,0,0],[0,-1,0,0],[0,0,-1,0],[0,0,0,1]]]) #ZZ\n",
    "\n",
    "\n",
    "Hamiltonian_coef = np.matrix(\n",
    "# [R,II,IX,IZ,XI,XZ,XX,ZI,ZX,ZZ]   \n",
    "[[0.05,33.9557,-0.1515,-2.4784,-0.1515,0.1412,0.1515,-2.4784,0.1515,0.2746],\n",
    "[0.1,13.3605,-0.1626,-2.4368,-0.1626,0.2097,0.1626,-2.4368,0.1626,0.2081],\n",
    "[0.15,6.8232,-0.1537,-2.3801,-0.1537,0.2680,0.1537,-2.3801,0.1537,0.1512],\n",
    "[0.2,3.6330,-0.1405,-2.2899,-0.1405,0.3027,0.1405,-2.2899,0.1405,0.1176],\n",
    "[0.25,1.7012,-0.1324,-2.1683,-0.1324,0.3211,0.1324,-2.1683,0.1324,0.1010],\n",
    "[0.3,0.3821,-0.1306,-2.0305,-0.1306,0.3303,0.1306,-2.0305,0.1306,0.0943],\n",
    "[0.35,-0.5810,-0.1335,-1.8905,-0.1335,0.3344,0.1335,-1.8905,0.1335,0.0936],\n",
    "[0.4,-1.3119,-0.1396,-1.7568,-0.1396,0.3352,0.1396,-1.7568,0.1396,0.0969],\n",
    "[0.45,-1.8796,-0.1477,-1.6339,-0.1477,0.3339,0.1477,-1.6339,0.1477,0.1030],\n",
    "[0.5,-2.3275,-0.1570,-1.5236,-0.1570,0.3309,0.1570,-1.5236,0.1570,0.1115],\n",
    "[0.55,-2.6844,-0.1669,-1.4264,-0.1669,0.3264,0.1669,-1.4264,0.1669,0.1218],\n",
    "[0.6,-2.9708,-0.1770,-1.3418,-0.1770,0.3206,0.1770,-1.3418,0.1770,0.1339],\n",
    "[0.65,-3.2020,-0.1871,-1.2691,-0.1871,0.3135,0.1871,-1.2691,0.1871,0.1475],\n",
    "[0.7,-3.3893,-0.1968,-1.2073,-0.1968,0.3052,0.1968,-1.2073,0.1968,0.1626],\n",
    "[0.75,-3.5417,-0.2060,-1.1552,-0.2060,0.2958,0.2060,-1.1552,0.2060,0.1791],\n",
    "[0.8,-3.6660,-0.2145,-1.1117,-0.2145,0.2853,0.2145,-1.1117,0.2145,0.1968],\n",
    "[0.85,-3.7675,-0.2222,-1.0758,-0.2222,0.2738,0.2222,-1.0758,0.2222,0.2157],\n",
    "[0.9,-3.8505,-0.2288,-1.0466,-0.2288,0.2613,0.2288,-1.0466,0.2288,0.2356],\n",
    "[0.95,-3.9183,-0.2343,-1.0233,-0.2343,0.2481,0.2343,-1.0233,0.2343,0.2564],\n",
    "[1,-3.9734,-0.2385,-1.0052,-0.2385,0.2343,0.2385,-1.0052,0.2385,0.2779],\n",
    "[1.05,-4.0180,-0.2414,-0.9916,-0.2414,0.2199,0.2414,-0.9916,0.2414,0.3000],\n",
    "[1.1,-4.0539,-0.2430,-0.9820,-0.2430,0.2053,0.2430,-0.9820,0.2430,0.3225],\n",
    "[1.15,-4.0825,-0.2431,-0.9758,-0.2431,0.1904,0.2431,-0.9758,0.2431,0.3451],\n",
    "[1.2,-4.1050,-0.2418,-0.9725,-0.2418,0.1756,0.2418,-0.9725,0.2418,0.3678],\n",
    "[1.25,-4.1224,-0.2392,-0.9716,-0.2392,0.1610,0.2392,-0.9716,0.2392,0.3902],\n",
    "[1.3,-4.1356,-0.2353,-0.9728,-0.2353,0.1466,0.2353,-0.9728,0.2353,0.4123],\n",
    "[1.35,-4.1454,-0.2301,-0.9757,-0.2301,0.1327,0.2301,-0.9757,0.2301,0.4339],\n",
    "[1.4,-4.1523,-0.2239,-0.9798,-0.2239,0.1194,0.2239,-0.9798,0.2239,0.4549],\n",
    "[1.45,-4.1568,-0.2167,-0.9850,-0.2167,0.1068,0.2167,-0.9850,0.2167,0.4751],\n",
    "[1.5,-4.1594,-0.2086,-0.9910,-0.2086,0.0948,0.2086,-0.9910,0.2086,0.4945],\n",
    "[1.55,-4.1605,-0.1998,-0.9975,-0.1998,0.0837,0.1998,-0.9975,0.1998,0.5129],\n",
    "[1.6,-4.1602,-0.1905,-1.0045,-0.1905,0.0734,0.1905,-1.0045,0.1905,0.5304],\n",
    "[1.65,-4.1589,-0.1807,-1.0116,-0.1807,0.0640,0.1807,-1.0116,0.1807,0.5468],\n",
    "[1.7,-4.1568,-0.1707,-1.0189,-0.1707,0.0555,0.1707,-1.0189,0.1707,0.5622],\n",
    "[1.75,-4.1540,-0.1605,-1.0262,-0.1605,0.0479,0.1605,-1.0262,0.1605,0.5766],\n",
    "[1.8,-4.1508,-0.1503,-1.0334,-0.1503,0.0410,0.1503,-1.0334,0.1503,0.5899],\n",
    "[1.85,-4.1471,-0.1403,-1.0404,-0.1403,0.0350,0.1403,-1.0404,0.1403,0.6023],\n",
    "[1.9,-4.1431,-0.1305,-1.0473,-0.1305,0.0297,0.1305,-1.0473,0.1305,0.6138],\n",
    "[1.95,-4.1390,-0.1210,-1.0540,-0.1210,0.0251,0.1210,-1.0540,0.1210,0.6244],\n",
    "[2,-4.1347,-0.1119,-1.0605,-0.1119,0.0212,0.1119,-1.0605,0.1119,0.6342],\n",
    "[2.05,-4.1303,-0.1031,-1.0667,-0.1031,0.0178,0.1031,-1.0667,0.1031,0.6432],\n",
    "[2.1,-4.1258,-0.0949,-1.0727,-0.0949,0.0148,0.0949,-1.0727,0.0949,0.6516],\n",
    "[2.15,-4.1214,-0.0871,-1.0785,-0.0871,0.0124,0.0871,-1.0785,0.0871,0.6594],\n",
    "[2.2,-4.1169,-0.0797,-1.0840,-0.0797,0.0103,0.0797,-1.0840,0.0797,0.6666],\n",
    "[2.25,-4.1125,-0.0729,-1.0893,-0.0729,0.0085,0.0729,-1.0893,0.0729,0.6733],\n",
    "[2.3,-4.1082,-0.0665,-1.0944,-0.0665,0.0070,0.0665,-1.0944,0.0665,0.6796],\n",
    "[2.35,-4.1040,-0.0606,-1.0993,-0.0606,0.0058,0.0606,-1.0993,0.0606,0.6854],\n",
    "[2.4,-4.0998,-0.0551,-1.1040,-0.0551,0.0047,0.0551,-1.1040,0.0551,0.6909],\n",
    "[2.45,-4.0957,-0.0500,-1.1085,-0.0500,0.0039,0.0500,-1.1085,0.0500,0.6961],\n",
    "[2.5,-4.0918,-0.0454,-1.1128,-0.0454,0.0032,0.0454,-1.1128,0.0454,0.7010],\n",
    "[2.55,-4.0879,-0.0411,-1.1170,-0.0411,0.0026,0.0411,-1.1170,0.0411,0.7056],\n",
    "[2.6,-4.0841,-0.0371,-1.1210,-0.0371,0.0021,0.0371,-1.1210,0.0371,0.7099],\n",
    "[2.65,-4.0805,-0.0335,-1.1248,-0.0335,0.0017,0.0335,-1.1248,0.0335,0.7141],\n",
    "[2.7,-4.0769,-0.0303,-1.1285,-0.0303,0.0014,0.0303,-1.1285,0.0303,0.7181],\n",
    "[2.75,-4.0735,-0.0273,-1.1321,-0.0273,0.0011,0.0273,-1.1321,0.0273,0.7218],\n",
    "[2.8,-4.0701,-0.0245,-1.1356,-0.0245,0.0009,0.0245,-1.1356,0.0245,0.7254],\n",
    "[2.85,-4.0669,-0.0221,-1.1389,-0.0221,0.0007,0.0221,-1.1389,0.0221,0.7289],\n",
    "[2.9,-4.0638,-0.0198,-1.1421,-0.0198,0.0006,0.0198,-1.1421,0.0198,0.7322],\n",
    "[2.95,-4.0607,-0.0178,-1.1452,-0.0178,0.0005,0.0178,-1.1452,0.0178,0.7354],\n",
    "[3,-4.0578,-0.0159,-1.1482,-0.0159,0.0004,0.0159,-1.1482,0.0159,0.7385],\n",
    "[3.05,-4.0549,-0.0142,-1.1511,-0.0142,0.0003,0.0142,-1.1511,0.0142,0.7414],\n",
    "[3.1,-4.0521,-0.0127,-1.1539,-0.0127,0.0002,0.0127,-1.1539,0.0127,0.7443],\n",
    "[3.15,-4.0494,-0.0114,-1.1566,-0.0114,0.0002,0.0114,-1.1566,0.0114,0.7470],\n",
    "[3.2,-4.0468,-0.0101,-1.1592,-0.0101,0.0001,0.0101,-1.1592,0.0101,0.7497],\n",
    "[3.25,-4.0443,-0.0090,-1.1618,-0.0090,0.0001,0.0090,-1.1618,0.0090,0.7522],\n",
    "[3.3,-4.0418,-0.0081,-1.1643,-0.0081,0.0001,0.0081,-1.1643,0.0081,0.7547],\n",
    "[3.35,-4.0394,-0.0072,-1.1666,-0.0072,0.0001,0.0072,-1.1666,0.0072,0.7571],\n",
    "[3.4,-4.0371,-0.0064,-1.1690,-0.0064,0.0001,0.0064,-1.1690,0.0064,0.7595],\n",
    "[3.45,-4.0349,-0.0056,-1.1712,-0.0056,0.0000,0.0056,-1.1712,0.0056,0.7617],\n",
    "[3.5,-4.0327,-0.0050,-1.1734,-0.0050,0.0000,0.0050,-1.1734,0.0050,0.7639],\n",
    "[3.55,-4.0306,-0.0044,-1.1756,-0.0044,0.0000,0.0044,-1.1756,0.0044,0.7661],\n",
    "[3.6,-4.0285,-0.0039,-1.1776,-0.0039,0.0000,0.0039,-1.1776,0.0039,0.7681],\n",
    "[3.65,-4.0265,-0.0035,-1.1796,-0.0035,0.0000,0.0035,-1.1796,0.0035,0.7702],\n",
    "[3.7,-4.0245,-0.0030,-1.1816,-0.0030,0.0000,0.0030,-1.1816,0.0030,0.7721],\n",
    "[3.75,-4.0226,-0.0027,-1.1835,-0.0027,0.0000,0.0027,-1.1835,0.0027,0.7740],\n",
    "[3.8,-4.0208,-0.0024,-1.1854,-0.0024,0.0000,0.0024,-1.1854,0.0024,0.7759],\n",
    "[3.85,-4.0190,-0.0021,-1.1872,-0.0021,0.0000,0.0021,-1.1872,0.0021,0.7777],\n",
    "[3.9,-4.0172,-0.0018,-1.1889,-0.0018,0.0000,0.0018,-1.1889,0.0018,0.7795],\n",
    "[3.95,-4.0155,-0.0016,-1.1906,-0.0016,0.0000,0.0016,-1.1906,0.0016,0.7812]]\n",
    ")\n",
    "\n",
    "\n",
    "#Building the Hamiltonian H[0]= Radius, H[1]=H(Radius)\n",
    "H1=[]\n",
    "(n,m)=Hamiltonian_coef.shape\n",
    "for i in range(n): #i = Radius\n",
    "    h_0=1.0*np.matrix(Hamiltonian_elem[0])\n",
    "    for j in range(1,m):\n",
    "        h_0+= Hamiltonian_coef[i,j]*np.matrix(Hamiltonian_elem[j])\n",
    "    H1.append([Hamiltonian_coef[i,0],h_0])"
   ]
  },
  {
   "cell_type": "markdown",
   "id": "913d4aea",
   "metadata": {},
   "source": [
    "### Hamiltonian n°2 [2]\n"
   ]
  },
  {
   "cell_type": "code",
   "execution_count": 6,
   "id": "87f168f2",
   "metadata": {},
   "outputs": [],
   "source": [
    "Hamiltonian_elem = np.array([[[0,0,0,0],[0,0,0,0],[0,0,0,0],[0,0,0,0]],       #00\n",
    "                             [[1,0,0,0],[0,1,0,0],[0,0,1,0],[0,0,0,1]],       #II\n",
    "                             [[1,0,0,0],[0,1,0,0],[0,0,-1,0],[0,0,0,-1]],     #ZI\n",
    "                             [[1,0,0,0],[0,-1,0,0],[0,0,1,0],[0,0,0,-1]],     #IZ\n",
    "                             [[1,0,0,0],[0,-1,0,0],[0,0,-1,0],[0,0,0,1]],     #ZZ\n",
    "                             [[0,0,0,1],[0,0,1,0],[0,1,0,0],[1,0,0,0]],       #XX\n",
    "                             [[0,0,0,-1],[0,0,1,0],[0,1,0,0],[-1,0,0,0]]])    #YY\n",
    "                             \n",
    "\n",
    "Hamiltonian_coef = np.matrix(\n",
    "# [R,II,ZI,IZ,ZZ,XX,YY]   \n",
    "[[0.20,2.8489,0.5678,-1.4508,0.6799,0.0791,0.0791],\n",
    "[0.25,2.1868,0.5449,-1.2870,0.6719,0.0798,0.0798],\n",
    "[0.30,1.7252,0.5215,-1.1458,0.6631,0.0806,0.0806],\n",
    "[0.35,1.3827,0.4982,-1.0226,0.6537,0.0815,0.0815],\n",
    "[0.40,1.1182,0.4754,-0.9145,0.6438,0.0825,0.0825],\n",
    "[0.45,0.9083,0.4534,-0.8194,0.6336,0.0835,0.0835],\n",
    "[0.50,0.7381,0.4325,-0.7355,0.6233,0.0846,0.0846],\n",
    "[0.55,0.5979,0.4125,-0.6612,0.6129,0.0858,0.0858],\n",
    "[0.60,0.4808,0.3937,-0.5950,0.6025,0.0870,0.0870],\n",
    "[0.65,0.3819,0.3760,-0.5358,0.5921,0.0883,0.0883],\n",
    "[0.70,0.2976,0.3593,-0.4826,0.5818,0.0896,0.0896],\n",
    "[0.75,0.2252,0.3435,-0.4347,0.5716,0.0910,0.0910],\n",
    "[0.80,0.1626,0.3288,-0.3915,0.5616,0.0925,0.0925],\n",
    "[0.85,0.1083,0.3149,-0.3523,0.5518,0.0939,0.0939],\n",
    "[0.90,0.0609,0.3018,-0.3168,0.5421,0.0954,0.0954],\n",
    "[0.95,0.0193,0.2895,-0.2845,0.5327,0.0970,0.0970],\n",
    "[1.00,-0.0172,0.2779,-0.2550,0.5235,0.0986,0.0986],\n",
    "[1.05,-0.0493,0.2669,-0.2282,0.5146,0.1002,0.1002],\n",
    "[1.10,-0.0778,0.2565,-0.2036,0.5059,0.1018,0.1018],\n",
    "[1.15,-0.1029,0.2467,-0.1810,0.4974,0.1034,0.1034],\n",
    "[1.20,-0.1253,0.2374,-0.1603,0.4892,0.1050,0.1050],\n",
    "[1.25,-0.1452,0.2286,-0.1413,0.4812,0.1067,0.1067],\n",
    "[1.30,-0.1629,0.2203,-0.1238,0.4735,0.1083,0.1083],\n",
    "[1.35,-0.1786,0.2123,-0.1077,0.4660,0.1100,0.1100],\n",
    "[1.40,-0.1927,0.2048,-0.0929,0.4588,0.1116,0.1116],\n",
    "[1.45,-0.2053,0.1976,-0.0792,0.4518,0.1133,0.1133],\n",
    "[1.50,-0.2165,0.1908,-0.0666,0.4451,0.1149,0.1149],\n",
    "[1.55,-0.2265,0.1843,-0.0549,0.4386,0.1165,0.1165],\n",
    "[1.60,-0.2355,0.1782,-0.0442,0.4323,0.1181,0.1181],\n",
    "[1.65,-0.2436,0.1723,-0.0342,0.4262,0.1196,0.1196],\n",
    "[1.70,-0.2508,0.1667,-0.0251,0.4204,0.1211,0.1211],\n",
    "[1.75,-0.2573,0.1615,-0.0166,0.4148,0.1226,0.1226],\n",
    "[1.80,-0.2632,0.1565,-0.0088,0.4094,0.1241,0.1241],\n",
    "[1.85,-0.2684,0.1517,-0.0015,0.4042,0.1256,0.1256],\n",
    "[1.90,-0.2731,0.1472,0.0052,0.3992,0.1270,0.1270],\n",
    "[1.95,-0.2774,0.1430,0.0114,0.3944,0.1284,0.1284],\n",
    "[2.00,-0.2812,0.1390,0.0171,0.3898,0.1297,0.1297],\n",
    "[2.05,-0.2847,0.1352,0.0223,0.3853,0.1310,0.1310],\n",
    "[2.10,-0.2879,0.1316,0.0272,0.3811,0.1323,0.1323],\n",
    "[2.15,-0.2908,0.1282,0.0317,0.3769,0.1335,0.1335],\n",
    "[2.20,-0.2934,0.1251,0.0359,0.3730,0.1347,0.1347],\n",
    "[2.25,-0.2958,0.1221,0.0397,0.3692,0.1359,0.1359],\n",
    "[2.30,-0.2980,0.1193,0.0432,0.3655,0.1370,0.1370],\n",
    "[2.35,-0.3000,0.1167,0.0465,0.3620,0.1381,0.1381],\n",
    "[2.40,-0.3018,0.1142,0.0495,0.3586,0.1392,0.1392],\n",
    "[2.45,-0.3035,0.1119,0.0523,0.3553,0.1402,0.1402],\n",
    "[2.50,-0.3051,0.1098,0.0549,0.3521,0.1412,0.1412],\n",
    "[2.55,-0.3066,0.1078,0.0572,0.3491,0.1422,0.1422],\n",
    "[2.60,-0.3079,0.1059,0.0594,0.3461,0.1432,0.1432],\n",
    "[2.65,-0.3092,0.1042,0.0614,0.3433,0.1441,0.1441],\n",
    "[2.70,-0.3104,0.1026,0.0632,0.3406,0.1450,0.1450],\n",
    "[2.75,-0.3115,0.1011,0.0649,0.3379,0.1458,0.1458],\n",
    "[2.80,-0.3125,0.0997,0.0665,0.3354,0.1467,0.1467],\n",
    "[2.85,-0.3135,0.0984,0.0679,0.3329,0.1475,0.1475]]\n",
    "\n",
    ")\n",
    "\n",
    "\n",
    "#Building the Hamiltonian H[0]= Radius, H[1]=H(Radius)\n",
    "H2=[]\n",
    "(n,m)=Hamiltonian_coef.shape\n",
    "for i in range(n): #i = Radius\n",
    "    h_0=1.0*np.matrix(Hamiltonian_elem[0])\n",
    "    for j in range(1,m):\n",
    "        h_0+= Hamiltonian_coef[i,j]*np.matrix(Hamiltonian_elem[j])\n",
    "    H2.append([Hamiltonian_coef[i,0],h_0])"
   ]
  },
  {
   "cell_type": "markdown",
   "id": "920b16b4",
   "metadata": {},
   "source": [
    "### Hamiltonian n°3 [3]\n",
    "\n",
    "Hamiltonian coefficents on the supplementary: paperhttps://journals.aps.org/prx/supplemental/10.1103/PhysRevX.8.011021/Supplementary.pdf  "
   ]
  },
  {
   "cell_type": "code",
   "execution_count": 7,
   "id": "1a6576f0",
   "metadata": {},
   "outputs": [],
   "source": [
    "Hamiltonian_elem = np.array([[[0,0,0,0],[0,0,0,0],[0,0,0,0],[0,0,0,0]],      #00\n",
    "                             [[1,0,0,0],[0,1,0,0],[0,0,1,0],[0,0,0,1]],      #II\n",
    "                             [[1,0,0,0],[0,1,0,0],[0,0,-1,0],[0,0,0,-1]],    #ZI\n",
    "                             [[0,0,0,1],[0,0,1,0],[0,1,0,0],[1,0,0,0]],      #XX\n",
    "                             [[1,0,0,0],[0,-1,0,0],[0,0,1,0],[0,0,0,-1]],    #IZ\n",
    "                             [[1,0,0,0],[0,-1,0,0],[0,0,-1,0],[0,0,0,1]]])   #ZZ\n",
    "\n",
    "                             \n",
    "Hamiltonian_coef = np.matrix(\n",
    "# [R,II ZI XX IZ ZZ],\n",
    "[[0.05, 1.00777E+01 ,-1.05533E+00 ,1.55708*10**(-1) ,-1.05533E+00 ,1.39333*10**(-2)],\n",
    "[0.10, 4.75665E+00 ,-1.02731E+00 ,1.56170*10**(-1) ,-1.02731E+00 ,1.38667*10**(-2)],\n",
    "[0.15, 2.94817E+00 ,-9.84234*10**(-1) ,1.56930*10**(-1) ,-9.84234*10**(-1) ,1.37610*10**(-2)],\n",
    "[0.20, 2.01153E+00 ,-9.30489*10**(-1) ,1.57973*10**(-1) ,-9.30489*10**(-1) ,1.36238*10**(-2)],\n",
    "[0.25, 1.42283E+00 ,-8.70646*10**(-1) ,1.59277*10**(-1) ,-8.70646*10**(-1) ,1.34635*10**(-2)],\n",
    "[0.30, 1.01018E+00 ,-8.08649*10**(-1) ,1.60818*10**(-1) ,-8.08649*10**(-1) ,1.32880*10**(-2)],\n",
    "[0.35, 7.01273*10**(-1) ,-7.47416*10**(-1) ,1.62573*10**(-1) ,-7.47416*10**(-1) ,1.31036*10**(-2)],\n",
    "[0.40, 4.60364*10**(-1) ,-6.88819*10**(-1) ,1.64515*10**(-1) ,-6.88819*10**(-1) ,1.29140*10**(-2)],\n",
    "[0.45, 2.67547*10**(-1) ,-6.33890*10**(-1) ,1.66621*10**(-1) ,-6.33890*10**(-1) ,1.27192*10**(-2)],\n",
    "[0.50, 1.10647*10**(-1) ,-5.83080*10**(-1) ,1.68870*10**(-1) ,-5.83080*10**(-1) ,1.25165*10**(-2)],\n",
    "[0.55, -1.83734*10**(-2), -5.36489*10**(-1), 1.71244*10**(-1), -5.36489*10**(-1), 1.23003*10**(-2)],\n",
    "[0.65, -2.13932*10**(-1), -4.55433*10**(-1), 1.76318*10**(-1), -4.55433*10**(-1), 1.18019*10**(-2)],\n",
    "[0.75, -3.49833*10**(-1), -3.88748*10**(-1), 1.81771*10**(-1), -3.88748*10**(-1), 1.11772*10**(-2)],\n",
    "[0.85, -4.45424*10**(-1), -3.33747*10**(-1), 1.87562*10**(-1), -3.33747*10**(-1), 1.04061*10**(-2)],\n",
    "[0.95, -5.13548*10**(-1), -2.87796*10**(-1), 1.93650*10**(-1), -2.87796*10**(-1), 9.50345*10**(-3)],\n",
    "[1.05, -5.62600*10**(-1), -2.48783*10**(-1), 1.99984*10**(-1), -2.48783*10**(-1), 8.50998*10**(-3)],\n",
    "[1.15, -5.97973*10**(-1), -2.15234*10**(-1), 2.06495*10**(-1), -2.15234*10**(-1), 7.47722*10**(-3)],\n",
    "[1.25, -6.23223*10**(-1), -1.86173*10**(-1), 2.13102*10**(-1), -1.86173*10**(-1), 6.45563*10**(-3)],\n",
    "[1.35, -6.40837*10**(-1), -1.60926*10**(-1), 2.19727*10**(-1), -1.60926*10**(-1), 5.48623*10**(-3)],\n",
    "[1.45, -6.52661*10**(-1), -1.38977*10**(-1), 2.26294*10**(-1), -1.38977*10**(-1), 4.59760*10**(-3)],\n",
    "[1.55, -6.60117*10**(-1), -1.19894*10**(-1), 2.32740*10**(-1), -1.19894*10**(-1), 3.80558*10**(-3)],\n",
    "[1.65, -6.64309*10**(-1), -1.03305*10**(-1), 2.39014*10**(-1), -1.03305*10**(-1), 3.11545*10**(-3)],\n",
    "[1.75, -6.66092*10**(-1), -8.88906*10**(-2), 2.45075*10**(-1), -8.88906*10**(-2), 2.52480*10**(-3)],\n",
    "[1.85, -6.66126*10**(-1), -7.63712*10**(-2), 2.50896*10**(-1), -7.63712*10**(-2), 2.02647*10**(-3)],\n",
    "[1.95, -6.64916*10**(-1), -6.55065*10**(-2), 2.56458*10**(-1), -6.55065*10**(-2), 1.61100*10**(-3)],\n",
    "[2.05, -6.62844*10**(-1), -5.60866*10**(-2), 2.61750*10**(-1), -5.60866*10**(-2), 1.26812*10**(-3)],\n",
    "[2.15, -6.60199*10**(-1), -4.79275*10**(-2), 2.66768*10**(-1), -4.79275*10**(-2), 9.88000*10**(-4)],\n",
    "[2.25, -6.57196*10**(-1), -4.08672*10**(-2), 2.71512*10**(-1), -4.08672*10**(-2), 7.61425*10**(-4)],\n",
    "[2.35, -6.53992*10**(-1), -3.47636*10**(-2), 2.75986*10**(-1), -3.47636*10**(-2), 5.80225*10**(-4)],\n",
    "[2.45, -6.50702*10**(-1), -2.94924*10**(-2), 2.80199*10**(-1), -2.94924*10**(-2), 4.36875*10**(-4)],\n",
    "[2.55, -6.47408*10**(-1), -2.49459*10**(-2), 2.84160*10**(-1), -2.49459*10**(-2), 3.25025*10**(-4)],\n",
    "[2.65, -6.44165*10**(-1), -2.10309*10**(-2), 2.87881*10**(-1), -2.10309*10**(-2), 2.38800*10**(-4)],\n",
    "[2.75, -6.41011*10**(-1), -1.76672*10**(-2), 2.91376*10**(-1), -1.76672*10**(-2), 1.73300*10**(-4)],\n",
    "[2.85, -6.37971*10**(-1), -1.47853*10**(-2), 2.94658*10**(-1), -1.47853*10**(-2), 1.24200*10**(-4)],\n",
    "[2.95, -6.35058*10**(-1), -1.23246*10**(-2), 2.97741*10**(-1), -1.23246*10**(-2), 8.78750*10**(-5)],\n",
    "[3.05, -6.32279*10**(-1), -1.02318*10**(-2), 3.00638*10**(-1), -1.02317*10**(-2), 6.14500*10**(-5)],\n",
    "[3.15, -6.29635*10**(-1), -8.45958*10**(-3), 3.03362*10**(-1), -8.45958*10**(-3), 4.24250*10**(-5)],\n",
    "[3.25, -6.27126*10**(-1), -6.96585*10**(-3), 3.05927*10**(-1), -6.96585*10**(-3), 2.89500*10**(-5)],\n",
    "[3.35, -6.24746*10**(-1), -5.71280*10**(-3), 3.08344*10**(-1), -5.71280*10**(-3), 1.95500*10**(-5)],\n",
    "[3.45, -6.22491*10**(-1), -4.66670*10**(-3), 3.10625*10**(-1), -4.66670*10**(-3), 1.30500*10**(-5)],\n",
    "[3.55, -6.20353*10**(-1), -3.79743*10**(-3), 3.12780*10**(-1), -3.79743*10**(-3), 8.57500*10**(-6)],\n",
    "[3.65, -6.18325*10**(-1), -3.07840*10**(-3), 3.14819*10**(-1), -3.07840*10**(-3), 5.60000*10**(-6)],\n",
    "[3.75, -6.16401*10**(-1), -2.48625*10**(-3), 3.16750*10**(-1), -2.48625*10**(-3), 3.60000*10**(-6)],\n",
    "[3.85, -6.14575*10**(-1), -2.00063*10**(-3), 3.18581*10**(-1), -2.00062*10**(-3), 2.27500*10**(-6)],\n",
    "[3.95, -6.12839*10**(-1), -1.60393*10**(-3), 3.20320*10**(-1), -1.60392*10**(-3), 1.42500*10**(-6)]] )\n",
    "     \n",
    "#Building the Hamiltonian H[0]= Radius, H[1]=H(Radius)\n",
    "H3=[]\n",
    "(n,m)=Hamiltonian_coef.shape\n",
    "for i in range(n): #i = Radius\n",
    "    h_0=1.0*np.matrix(Hamiltonian_elem[0])\n",
    "    for j in range(1,m):\n",
    "        h_0+= Hamiltonian_coef[i,j]*np.matrix(Hamiltonian_elem[j])\n",
    "    H3.append([Hamiltonian_coef[i,0],h_0])"
   ]
  },
  {
   "cell_type": "markdown",
   "id": "b95733d2",
   "metadata": {},
   "source": [
    "## Varational quantum eigenvalue solver simulation\n",
    "\n",
    "Classical processing of the VQE: optimisation algorithm \n",
    "\n",
    "We use the Nelder-Mead minimisation algorithm [4] from the scipy.optimize package.\n",
    "\n"
   ]
  },
  {
   "cell_type": "markdown",
   "id": "c8096d2c",
   "metadata": {},
   "source": [
    "### Simulation n°1 "
   ]
  },
  {
   "cell_type": "code",
   "execution_count": 8,
   "id": "29c10704",
   "metadata": {},
   "outputs": [],
   "source": [
    "tq = tqdm(desc='Minimizing...') #Displaying progress bar\n",
    "radius1=[]\n",
    "E1=[]\n",
    "init_param=[]\n",
    "\n",
    "H=H1\n",
    "\n",
    "for R in range(len(H)):            #We try to find the ground state eigenvalue for each radius R\n",
    "    radius1.append(H[R][0])\n",
    "    if (init_param==[]):           #\n",
    "            init_param = [random.random() for _ in range(len(List_Parameters))]\n",
    "    else:\n",
    "        for i in range(len(init_param)):\n",
    "            init_param[i]=VQE.get_parameters()[i]._value\n",
    "            \n",
    "    # Finding the ground state eigen value for each H(R)\n",
    "    result=minimize(minimize_loss,init_param,method='Nelder-Mead')\n",
    "    \n",
    "    E1.append(result.get('fun'))\n",
    "    tq.set_description('Finished' )\n",
    "    "
   ]
  },
  {
   "cell_type": "markdown",
   "id": "29c9e0f2",
   "metadata": {},
   "source": [
    "#### Simulation 1: Computing the theoretical eigenvalues of H\n",
    "\n",
    " We use the numpy linalg package."
   ]
  },
  {
   "cell_type": "code",
   "execution_count": 9,
   "id": "5c5bba77",
   "metadata": {},
   "outputs": [],
   "source": [
    "E1_th=[]\n",
    "for h in H:\n",
    "    l0=np.linalg.eigvals(h[1])\n",
    "    l0.sort()\n",
    "    E1_th.append(min(l0))"
   ]
  },
  {
   "cell_type": "markdown",
   "id": "dad5309a",
   "metadata": {},
   "source": [
    "#### Simulation 1: Plotting the results \n",
    "\n",
    "The minimum eigenvalue of H is plotted in orange. \n",
    "\n",
    "The eigenvalues found with Perceval are the crosses"
   ]
  },
  {
   "cell_type": "code",
   "execution_count": 26,
   "id": "6134240e",
   "metadata": {},
   "outputs": [
    {
     "data": {
      "image/png": "[encoded data removed]",
      "text/plain": [
       "<Figure size 432x288 with 1 Axes>"
      ]
     },
     "metadata": {
      "needs_background": "light"
     },
     "output_type": "display_data"
    },
    {
     "data": {
      "image/png": "[encoded data removed]",
      "text/plain": [
       "<Figure size 432x288 with 1 Axes>"
      ]
     },
     "metadata": {
      "needs_background": "light"
     },
     "output_type": "display_data"
    },
    {
     "name": "stdout",
     "output_type": "stream",
     "text": [
      "The minimum energy is E_g(0.9)=-5.7252415276523365 MJ/mol and is attained for R_min =0.9 pm\n"
     ]
    }
   ],
   "source": [
    "\n",
    "plt.plot(100*np.array(radius1),E1_th,'orange')\n",
    "plt.plot(100*np.array(radius1),E1,'x')\n",
    "plt.ylabel('Energy (MJ/mol)')\n",
    "plt.xlabel('Atomic separation R (pm)')\n",
    "plt.legend(['Theoretical eigenvalues', 'Eigenvalues computed with Perceval'])\n",
    "plt.show()\n",
    "\n",
    "\n",
    "\n",
    "plt.plot(100*np.array(radius1),E1_th,'orange')\n",
    "plt.plot(100*np.array(radius1),E1,'x')\n",
    "plt.axis([50,250,-5.8,-5.5])\n",
    "plt.ylabel('Energy (MJ/mol)')\n",
    "plt.xlabel('Atomic separation R (pm)')\n",
    "\n",
    "plt.legend(['Theoretical eigenvalues', 'Eigenvalues computed with Perceval'])\n",
    "\n",
    "plt.show()\n",
    "\n",
    "min_value=min(E1)\n",
    "min_index = E1.index(min_value)\n",
    "print('The minimum energy is E_g('+str(radius1[min_index])+')='+str(E1[min_index])+' MJ/mol and is attained for R_min ='+str(radius1[min_index])+' pm')\n",
    "\n"
   ]
  },
  {
   "cell_type": "markdown",
   "id": "c5eeb76b",
   "metadata": {},
   "source": [
    "### Simulation n°2"
   ]
  },
  {
   "cell_type": "code",
   "execution_count": 21,
   "id": "f872bf8a",
   "metadata": {},
   "outputs": [],
   "source": [
    "tq = tqdm(desc='Minimizing...') #New progress bar\n",
    "radius2=[]\n",
    "E2=[]\n",
    "init_param=[]\n",
    "\n",
    "H=H2\n",
    "\n",
    "for R in range(len(H)):            #We try to find the ground state eigenvalue for each radius R\n",
    "    radius2.append(H[R][0])\n",
    "    if (init_param==[]):           #\n",
    "            init_param = [random.random() for _ in range(len(List_Parameters))]\n",
    "    else:\n",
    "        for i in range(len(init_param)):\n",
    "            init_param[i]=VQE.get_parameters()[i]._value\n",
    "            \n",
    "    # Finding the ground state eigen value for each H(R)\n",
    "    result=minimize(minimize_loss,init_param,method='Nelder-Mead')\n",
    "    \n",
    "    E2.append(result.get('fun'))\n",
    "    tq.set_description('Finished' )\n",
    "    "
   ]
  },
  {
   "cell_type": "markdown",
   "id": "f9b1a8e5",
   "metadata": {},
   "source": [
    "#### Simulation 2 :Computing the theoretical eigenvalues of H\n",
    "\n",
    " We use the numpy linalg package."
   ]
  },
  {
   "cell_type": "code",
   "execution_count": 12,
   "id": "44b8aae9",
   "metadata": {},
   "outputs": [],
   "source": [
    "E2_th=[]\n",
    "for h in H:\n",
    "    l0=np.linalg.eigvals(h[1])\n",
    "    l0.sort()\n",
    "    E2_th.append(min(l0))"
   ]
  },
  {
   "cell_type": "markdown",
   "id": "008925dc",
   "metadata": {},
   "source": [
    "#### Simulation 2: Plotting the results \n",
    "\n",
    "The minimum eigenvalue of H is plotted in orange. \n",
    "\n",
    "The eigenvalues found with Perceval are the crosses"
   ]
  },
  {
   "cell_type": "code",
   "execution_count": 27,
   "id": "ea56c529",
   "metadata": {},
   "outputs": [
    {
     "data": {
      "image/png": "[encoded data removed]",
      "text/plain": [
       "<Figure size 432x288 with 1 Axes>"
      ]
     },
     "metadata": {
      "needs_background": "light"
     },
     "output_type": "display_data"
    },
    {
     "data": {
      "image/png": "[encoded data removed]",
      "text/plain": [
       "<Figure size 432x288 with 1 Axes>"
      ]
     },
     "metadata": {
      "needs_background": "light"
     },
     "output_type": "display_data"
    },
    {
     "name": "stdout",
     "output_type": "stream",
     "text": [
      "The minimum energy is E_g(0.75)=-1.1455991241235943 MJ/mol and is attained for R_min =0.6 Å\n"
     ]
    }
   ],
   "source": [
    "\n",
    "plt.plot(np.array(radius2),E2_th,'orange')\n",
    "plt.plot(np.array(radius2),E2,'x')\n",
    "plt.ylabel('Energy (MJ/mol)')\n",
    "plt.xlabel('Atomic separation R (Å)')\n",
    "plt.legend(['Theoretical eigenvalues', 'Eigenvalues computed with Perceval'])\n",
    "plt.show()\n",
    "\n",
    "\n",
    "\n",
    "plt.plot(np.array(radius2),E2_th,'orange')\n",
    "plt.plot(np.array(radius2),E2,'x')\n",
    "plt.axis([0.3,2,-1.2,-0.6])\n",
    "plt.ylabel('Energy (MJ/mol)')\n",
    "plt.xlabel('Atomic separation R (Å)')\n",
    "plt.legend(['Theoretical eigenvalues', 'Eigenvalues computed with Perceval'])\n",
    "plt.show()\n",
    "\n",
    "min_value=min(E2)\n",
    "min_index = E2.index(min_value)\n",
    "print('The minimum energy is E_g('+str(radius2[min_index])+')='+str(E2[min_index])+' MJ/mol and is attained for R_min ='+str(radius1[min_index])+' Å')\n",
    "\n"
   ]
  },
  {
   "cell_type": "markdown",
   "id": "5cc56c1e",
   "metadata": {},
   "source": [
    "### Simulation n°3"
   ]
  },
  {
   "cell_type": "code",
   "execution_count": 14,
   "id": "75e1e21b",
   "metadata": {},
   "outputs": [],
   "source": [
    "tq = tqdm(desc='Minimizing...') #New progress bar\n",
    "radius3=[]\n",
    "E3=[]\n",
    "init_param=[]\n",
    "\n",
    "H=H3\n",
    "\n",
    "for R in range(len(H)):            #We try to find the ground state eigenvalue for each radius R\n",
    "    radius3.append(H[R][0])\n",
    "    if (init_param==[]):           #\n",
    "            init_param = [random.random() for _ in range(len(List_Parameters))]\n",
    "    else:\n",
    "        for i in range(len(init_param)):\n",
    "            init_param[i]=VQE.get_parameters()[i]._value\n",
    "            \n",
    "    # Finding the ground state eigen value for each H(R)\n",
    "    result=minimize(minimize_loss,init_param,method='Nelder-Mead')\n",
    "    \n",
    "    E3.append(result.get('fun'))\n",
    "    tq.set_description('Finished' )\n",
    "    "
   ]
  },
  {
   "cell_type": "markdown",
   "id": "9a5bbc69",
   "metadata": {},
   "source": [
    "#### Simulation 3: Computing the theoretical eigenvalues of H \n",
    "\n",
    " We use the numpy linalg package."
   ]
  },
  {
   "cell_type": "code",
   "execution_count": 15,
   "id": "d50017fd",
   "metadata": {},
   "outputs": [],
   "source": [
    "E3_th=[]\n",
    "for h in H:\n",
    "    l0=np.linalg.eigvals(h[1])\n",
    "    l0.sort()\n",
    "    E3_th.append(min(l0))"
   ]
  },
  {
   "cell_type": "markdown",
   "id": "cbbe1d0e",
   "metadata": {},
   "source": [
    "#### Simulation 3: Plotting the results\n",
    "\n",
    "The minimum eigenvalue of H is plotted in orange. \n",
    "\n",
    "The eigenvalues found with Perceval are the crosses"
   ]
  },
  {
   "cell_type": "code",
   "execution_count": 25,
   "id": "6e91159d",
   "metadata": {},
   "outputs": [
    {
     "data": {
      "image/png": "[encoded data removed]",
      "text/plain": [
       "<Figure size 432x288 with 1 Axes>"
      ]
     },
     "metadata": {
      "needs_background": "light"
     },
     "output_type": "display_data"
    },
    {
     "data": {
      "image/png": "[encoded data removed]",
      "text/plain": [
       "<Figure size 432x288 with 1 Axes>"
      ]
     },
     "metadata": {
      "needs_background": "light"
     },
     "output_type": "display_data"
    },
    {
     "name": "stdout",
     "output_type": "stream",
     "text": [
      "The minimum energy is E_g(0.75)=-1.1371172745991553 Hartree and is attained for R_min =0.75 Å\n"
     ]
    }
   ],
   "source": [
    "\n",
    "plt.plot(np.array(radius3),E3_th,'orange')\n",
    "plt.plot(np.array(radius3),E3,'x')\n",
    "plt.ylabel('Energy (Hartree)')\n",
    "plt.xlabel('Atomic separation R (Å)')\n",
    "plt.legend(['Theoretical eigenvalues', 'Eigenvalues computed with Perceval'])\n",
    "plt.show()\n",
    "\n",
    "\n",
    "\n",
    "plt.plot(np.array(radius3),E3_th,'orange')\n",
    "plt.plot(np.array(radius3),E3,'x')\n",
    "plt.axis([0,2.5,-1.2,-0.6])\n",
    "plt.ylabel('Energy (Hartree)')\n",
    "plt.xlabel('Atomic separation R (Å)')\n",
    "plt.legend(['Theoretical eigenvalues', 'Eigenvalues computed with Perceval'])\n",
    "plt.show()\n",
    "\n",
    "min_value=min(E3)\n",
    "min_index = E3.index(min_value)\n",
    "print('The minimum energy is E_g('+str(radius3[min_index])+')='+str(E3[min_index])+' Hartree and is attained for R_min ='+str(radius3[min_index])+' Å')\n"
   ]
  },
  {
   "cell_type": "markdown",
   "id": "5d80ae64",
   "metadata": {},
   "source": [
    "## References\n",
    "\n",
    "[1] A. Peruzzo, J. McClean, P. Shadbolt, M.-H. Yung, X.-Q. Zhou, P. J. Love,A. Aspuru-Guzik, and J. L. O’Brien, “A variational eigenvalue solver on a photonicquantum processor,”Nature Communications5, 4213 (2014).https://www.nature.com/articles/ncomms5213.\n",
    "\n",
    "[2] P. J. J. O’Malley et al., \"Scalable Quantum Simulation of Molecular Energies\", Phys. Rev. X 6, 031007 (2016)\n",
    "\n",
    "[3] J. I. Colless, V. V. Ramasesh, D. Dahlen, M. S. Blok, M. E. Kimchi-Schwartz, J. R. McClean, J. Carter, W. A. de Jong, and I. Siddiqi, \"Computation of Molecular Spectra on a Quantum Processor with an Error-Resilient Algorithm\", Phys. Rev. X 8, 011021 (2018)\n",
    "\n",
    "[4] J. A. Nelder and R. Mead, “A simplex method for function minimization,”Thecomputer journal7, 308–313 (1965)."
   ]
  }
 ],
 "metadata": {
  "kernelspec": {
   "display_name": "Python 3 (ipykernel)",
   "language": "python",
   "name": "python3"
  },
  "language_info": {
   "codemirror_mode": {
    "name": "ipython",
    "version": 3
   },
   "file_extension": ".py",
   "mimetype": "text/x-python",
   "name": "python",
   "nbconvert_exporter": "python",
   "pygments_lexer": "ipython3",
   "version": "3.9.7"
  }
 },
 "nbformat": 4,
 "nbformat_minor": 5
}
