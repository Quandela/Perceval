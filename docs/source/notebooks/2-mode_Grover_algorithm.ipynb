{
 "cells": [
  {
   "attachments": {},
   "cell_type": "markdown",
   "id": "3a271506",
   "metadata": {},
   "source": [
    "# 2-mode Grover's search algorithm"
   ]
  },
  {
   "attachments": {},
   "cell_type": "markdown",
   "id": "34fa32af",
   "metadata": {},
   "source": [
    "We implement in this notebook a 2-mode optical realization of Grover's search algorithm, based on Kwiat et al. (2000). Grover’s search algorithm: An optical approach. [Journal of Modern Optics](https://doi.org/10.1080/09500340008244040), 47(2–3), 257–266."
   ]
  },
  {
   "attachments": {},
   "cell_type": "markdown",
   "id": "e22c5dde",
   "metadata": {},
   "source": [
    "## Introduction"
   ]
  },
  {
   "attachments": {},
   "cell_type": "markdown",
   "id": "c04c528f",
   "metadata": {},
   "source": [
    "### Motivation\n",
    "\n",
    "Searching for a specific item (called the marked item) in an unstructured list of $N$ items requires $O(N)$ accesses to the list classically. Grover showed in 1996 that is possible for a quantum computer to achieve this using only $O\\left(\\sqrt{N}\\right)$ iterations."
   ]
  },
  {
   "attachments": {},
   "cell_type": "markdown",
   "id": "08145e4a",
   "metadata": {},
   "source": [
    "### Algorithm summary\n",
    "\n",
    "For a list of size $N$, Grover's algorithm requires $\\log (N)$ qubits. The algorithm starts by setting each qubit in the superposition state $\\frac{1}{\\sqrt{2}}\\left(|0\\rangle+|1\\rangle\\right)$. Then it applies $O\\left(\\sqrt{N}\\right)$ iterations of a subroutine called inversion-about-mean, whose goal is to skew this initial uniform superposition state towards the desired marked state such the probability of measuring the marked state is amplified. This subroutine requires the application of an oracle unitary, which applies a relative $\\pi$ phase shift only to the quantum state encoding the item we are looking for in the database."
   ]
  },
  {
   "attachments": {},
   "cell_type": "markdown",
   "id": "5690fa9d",
   "metadata": {},
   "source": [
    "### Kwiat et al. implementation details\n",
    "\n",
    "The optical implementation of Kwiat et al. uses the polarization and path degree of freedom of a single beam to achieve a 2-qubit optical implementation of Grover's search algorithm. Although $N=4$ here, calculations show that only a single application of the inversion-about-mean subroutine is required.\n",
    "\n",
    "In an effort to reduce the number of optical components used in the experimental setup, the authors work with a compiled version of the circuit, which we will reproduce here using Perceval."
   ]
  },
  {
   "attachments": {},
   "cell_type": "markdown",
   "id": "7bc2f8dc",
   "metadata": {},
   "source": [
    "## Perceval implementation"
   ]
  },
  {
   "attachments": {},
   "cell_type": "markdown",
   "id": "904f535e",
   "metadata": {},
   "source": [
    "### Initialisation"
   ]
  },
  {
   "cell_type": "code",
   "execution_count": 1,
   "id": "4d4c8ff1",
   "metadata": {},
   "outputs": [],
   "source": [
    "import math\n",
    "\n",
    "from tabulate import tabulate\n",
    "import numpy as np\n",
    "import matplotlib.pyplot as plt\n",
    "\n",
    "import perceval as pcvl"
   ]
  },
  {
   "attachments": {},
   "cell_type": "markdown",
   "id": "09fa856a",
   "metadata": {},
   "source": [
    "We create in Perceval a circuit with two spatial modes, $a$ and $b$ denoting resapectively the lower and upper spatial modes. For clarity, the different equivalent encodings for each of the four basis states are given below in order:\n",
    "- marked item encoding: $\\left|\"00\"\\right\\rangle$, $\\left|\"01\"\\right\\rangle$, $\\left|\"10\"\\right\\rangle$, $\\left|\"11\"\\right\\rangle$\n",
    "- Kwiat et al. path and polarization encoding: $\\left|aH\\right\\rangle$, $\\left|aV\\right\\rangle$, $\\left|bH\\right\\rangle$, $\\left|bV\\right\\rangle$\n",
    "- Perceval path and polarization encoding: $\\left|0, 1:H\\right\\rangle$, $\\left|0, 1:V\\right\\rangle$, $\\left|1:H, 0\\right\\rangle$, $\\left|1:V, 0\\right\\rangle$\n",
    "\n",
    "We first define these states and their mode equivalent in Perceval:"
   ]
  },
  {
   "cell_type": "code",
   "execution_count": 2,
   "id": "b8084f08",
   "metadata": {},
   "outputs": [],
   "source": [
    "states = [pcvl.BasicState(\"|0,{P:H}>\"),\n",
    "          pcvl.BasicState(\"|0,{P:V}>\"),\n",
    "          pcvl.BasicState(\"|{P:H},0>\"),\n",
    "          pcvl.BasicState(\"|{P:V},0>\"),\n",
    "         ]\n",
    "\n",
    "states_modes = [\n",
    "    pcvl.BasicState([0, 0, 0, 1]),\n",
    "    pcvl.BasicState([0, 0, 1, 0]),\n",
    "    pcvl.BasicState([0, 1, 0, 0]),\n",
    "    pcvl.BasicState([1, 0, 0, 0])\n",
    "]"
   ]
  },
  {
   "attachments": {},
   "cell_type": "markdown",
   "id": "fab191db",
   "metadata": {},
   "source": [
    "We use the following unitary matrix to represent the beamsplitters:"
   ]
  },
  {
   "cell_type": "code",
   "execution_count": 3,
   "id": "a3560b8f",
   "metadata": {},
   "outputs": [
    {
     "data": {
      "text/latex": [
       "$\\displaystyle \\left[\\begin{matrix}\\frac{\\sqrt{2}}{2} & - \\frac{\\sqrt{2}}{2}\\\\\\frac{\\sqrt{2}}{2} & \\frac{\\sqrt{2}}{2}\\end{matrix}\\right]$"
      ],
      "text/plain": [
       "<IPython.core.display.Math object>"
      ]
     },
     "metadata": {},
     "output_type": "display_data"
    }
   ],
   "source": [
    "BS = pcvl.BS.Ry()\n",
    "pcvl.pdisplay(BS.U)"
   ]
  },
  {
   "attachments": {},
   "cell_type": "markdown",
   "id": "54638f8d",
   "metadata": {},
   "source": [
    "The half-wave plates are defined in the article as:"
   ]
  },
  {
   "cell_type": "code",
   "execution_count": 4,
   "id": "54d17968",
   "metadata": {},
   "outputs": [
    {
     "data": {
      "image/svg+xml": [
       "<?xml version=\"1.0\" encoding=\"UTF-8\"?>\n",
       "<svg xmlns=\"http://www.w3.org/2000/svg\" xmlns:xlink=\"http://www.w3.org/1999/xlink\"\n",
       "     width=\"257.5\" height=\"93.75\" viewBox=\"-28.0 0 206.0 75.0\">\n",
       "<defs>\n",
       "</defs>\n",
       "<path d=\"M10,25.0 L25,25.0\" stroke-width=\"3\" stroke=\"darkred\" stroke-linejoin=\"miter\" fill=\"none\" />\n",
       "<path d=\"M25,25 L75,25\" stroke=\"darkred\" stroke-width=\"3\" fill=\"none\" />\n",
       "<path d=\"M38,7 L52,7 L52,43 L38,43 Z\" stroke=\"black\" fill=\"gray\" stroke-linejoin=\"miter\" />\n",
       "<path d=\"M45,7 L45,43\" stroke=\"black\" stroke-width=\"1\" fill=\"none\" />\n",
       "<text x=\"53.5\" y=\"36\" font-size=\"7\" text-anchor=\"start\">ξ=pi/2</text>\n",
       "<text x=\"53.5\" y=\"45\" font-size=\"7\" text-anchor=\"start\">δ=pi/2</text>\n",
       "<path d=\"M75,25 L125,25\" stroke=\"darkred\" stroke-width=\"3\" fill=\"none\" />\n",
       "<path d=\"M80,40 L89,40 L103,10 L94,10 L80,40 L89,40 Z\" stroke=\"black\" fill=\"gray\" stroke-linejoin=\"miter\" />\n",
       "<text x=\"97\" y=\"38\" font-size=\"7\" text-anchor=\"start\">Φ=3*pi/2</text>\n",
       "<path d=\"M125,25.0 L140,25.0\" stroke-width=\"3\" stroke=\"darkred\" stroke-linejoin=\"miter\" fill=\"none\" />\n",
       "<text x=\"150\" y=\"28.0\" font-size=\"6\" text-anchor=\"end\">0</text>\n",
       "<text x=\"0\" y=\"28.0\" font-size=\"6\" text-anchor=\"start\">0</text>\n",
       "</svg>"
      ],
      "text/plain": [
       "<drawsvg.drawing.Drawing at 0x7f86d207c610>"
      ]
     },
     "execution_count": 4,
     "metadata": {},
     "output_type": "execute_result"
    }
   ],
   "source": [
    "def HWP(xsi):\n",
    "    hwp = pcvl.Circuit(m=1)\n",
    "    hwp.add(0, pcvl.HWP(xsi)).add(0, pcvl.PS(-math.pi/2))\n",
    "    return hwp\n",
    "\n",
    "pcvl.pdisplay(HWP(math.pi/2))"
   ]
  },
  {
   "attachments": {},
   "cell_type": "markdown",
   "id": "3d3c98ab",
   "metadata": {},
   "source": [
    "### Circuit Construction"
   ]
  },
  {
   "attachments": {},
   "cell_type": "markdown",
   "id": "b2c267cb",
   "metadata": {},
   "source": [
    "We divide the compiled circuit of Kwiat et al. in three parts: [state initialization](#state-initialization-circuit), [oracle](#oracle) and [inversion about mean](#inversion-about-mean). However, due to the compilation, each individual part does not act exactly as described in the introduction."
   ]
  },
  {
   "attachments": {},
   "cell_type": "markdown",
   "id": "14ee9683",
   "metadata": {},
   "source": [
    "\n",
    "#### State initialization circuit"
   ]
  },
  {
   "cell_type": "code",
   "execution_count": 5,
   "id": "f6718866",
   "metadata": {},
   "outputs": [
    {
     "data": {
      "image/svg+xml": [
       "<?xml version=\"1.0\" encoding=\"UTF-8\"?>\n",
       "<svg xmlns=\"http://www.w3.org/2000/svg\" xmlns:xlink=\"http://www.w3.org/1999/xlink\"\n",
       "     width=\"445.0\" height=\"156.25\" viewBox=\"-28.0 0 356.0 125.0\">\n",
       "<defs>\n",
       "</defs>\n",
       "<path d=\"M10,25.0 L25,25.0\" stroke-width=\"3\" stroke=\"darkred\" stroke-linejoin=\"miter\" fill=\"none\" />\n",
       "<path d=\"M10,75.0 L25,75.0\" stroke-width=\"3\" stroke=\"darkred\" stroke-linejoin=\"miter\" fill=\"none\" />\n",
       "<path d=\"M25,25 L75,25\" stroke=\"darkred\" stroke-width=\"3\" fill=\"none\" />\n",
       "<path d=\"M38,7 L52,7 L52,43 L38,43 Z\" stroke=\"black\" fill=\"gray\" stroke-linejoin=\"miter\" />\n",
       "<path d=\"M45,7 L45,43\" stroke=\"black\" stroke-width=\"1\" fill=\"none\" />\n",
       "<text x=\"53.5\" y=\"36\" font-size=\"7\" text-anchor=\"start\">ξ=pi/8</text>\n",
       "<text x=\"53.5\" y=\"45\" font-size=\"7\" text-anchor=\"start\">δ=pi/2</text>\n",
       "<path d=\"M75,25 L125,25\" stroke=\"darkred\" stroke-width=\"3\" fill=\"none\" />\n",
       "<path d=\"M80,40 L89,40 L103,10 L94,10 L80,40 L89,40 Z\" stroke=\"black\" fill=\"gray\" stroke-linejoin=\"miter\" />\n",
       "<text x=\"97\" y=\"38\" font-size=\"7\" text-anchor=\"start\">Φ=3*pi/2</text>\n",
       "<path d=\"M25,75.0 L125,75.0\" stroke=\"darkred\" stroke-width=\"3\" fill=\"none\" />\n",
       "<path d=\"M125,25 L153,25 L172,44\" stroke=\"darkred\" stroke-width=\"3\" fill=\"none\" />\n",
       "<path d=\"M178,44 L197,25 L225,25\" stroke=\"darkred\" stroke-width=\"3\" fill=\"none\" />\n",
       "<path d=\"M125,75 L153,75 L172,56\" stroke=\"darkred\" stroke-width=\"3\" fill=\"none\" />\n",
       "<path d=\"M178,56 L197,75 L225,75\" stroke=\"darkred\" stroke-width=\"3\" fill=\"none\" />\n",
       "<path d=\"M150,43 L200,43 L200,57 L150,57 Z\" stroke=\"black\" fill=\"black\" stroke-linejoin=\"miter\" />\n",
       "<text x=\"175\" y=\"85\" font-size=\"7\" text-anchor=\"middle\"></text>\n",
       "<text x=\"175\" y=\"26\" font-size=\"7\" text-anchor=\"middle\"></text>\n",
       "<path d=\"M150,43 L200,43 L200,47 L150,47 Z\" stroke=\"black\" fill=\"lightgray\" stroke-linejoin=\"miter\" />\n",
       "<path d=\"M193,50 L203,50 L203,60 L193,60 Z\" stroke=\"black\" fill=\"lightsalmon\" stroke-linejoin=\"miter\" />\n",
       "<text x=\"198\" y=\"57\" font-size=\"6\" text-anchor=\"middle\">Ry</text>\n",
       "<path d=\"M225,25 L275,25\" stroke=\"darkred\" stroke-width=\"3\" fill=\"none\" />\n",
       "<path d=\"M230,40 L239,40 L253,10 L244,10 L230,40 L239,40 Z\" stroke=\"black\" fill=\"gray\" stroke-linejoin=\"miter\" />\n",
       "<text x=\"247\" y=\"38\" font-size=\"7\" text-anchor=\"start\">Φ=pi</text>\n",
       "<path d=\"M225,75.0 L275,75.0\" stroke=\"darkred\" stroke-width=\"3\" fill=\"none\" />\n",
       "<path d=\"M275,25.0 L290,25.0\" stroke-width=\"3\" stroke=\"darkred\" stroke-linejoin=\"miter\" fill=\"none\" />\n",
       "<path d=\"M275,75.0 L290,75.0\" stroke-width=\"3\" stroke=\"darkred\" stroke-linejoin=\"miter\" fill=\"none\" />\n",
       "<text x=\"300\" y=\"28.0\" font-size=\"6\" text-anchor=\"end\">0</text>\n",
       "<text x=\"300\" y=\"78.0\" font-size=\"6\" text-anchor=\"end\">1</text>\n",
       "<text x=\"0\" y=\"28.0\" font-size=\"6\" text-anchor=\"start\">0</text>\n",
       "<text x=\"0\" y=\"78.0\" font-size=\"6\" text-anchor=\"start\">1</text>\n",
       "</svg>"
      ],
      "text/plain": [
       "<drawsvg.drawing.Drawing at 0x7f86d207ebf0>"
      ]
     },
     "execution_count": 5,
     "metadata": {},
     "output_type": "execute_result"
    }
   ],
   "source": [
    "init_circuit = (pcvl.Circuit(m=2, name=\"Initialization\")\n",
    "                // HWP(math.pi / 8)\n",
    "                // BS\n",
    "                // pcvl.PS(-math.pi))\n",
    "\n",
    "pcvl.pdisplay(init_circuit)"
   ]
  },
  {
   "attachments": {},
   "cell_type": "markdown",
   "id": "e8278f70",
   "metadata": {},
   "source": [
    "#### Oracle\n",
    "\n",
    "The oracle circuit can be initialised so that any one of the four list elements are marked. This is controlled via the integer parameter $mark \\in [0, 3]$."
   ]
  },
  {
   "cell_type": "code",
   "execution_count": 6,
   "id": "96aba62a",
   "metadata": {},
   "outputs": [
    {
     "data": {
      "image/svg+xml": [
       "<?xml version=\"1.0\" encoding=\"UTF-8\"?>\n",
       "<svg xmlns=\"http://www.w3.org/2000/svg\" xmlns:xlink=\"http://www.w3.org/1999/xlink\"\n",
       "     width=\"320.0\" height=\"156.25\" viewBox=\"-28.0 0 256.0 125.0\">\n",
       "<defs>\n",
       "</defs>\n",
       "<path d=\"M10,25.0 L25,25.0\" stroke-width=\"3\" stroke=\"darkred\" stroke-linejoin=\"miter\" fill=\"none\" />\n",
       "<path d=\"M10,75.0 L25,75.0\" stroke-width=\"3\" stroke=\"darkred\" stroke-linejoin=\"miter\" fill=\"none\" />\n",
       "<path d=\"M25,25 L75,25\" stroke=\"darkred\" stroke-width=\"3\" fill=\"none\" />\n",
       "<path d=\"M38,7 L52,7 L52,43 L38,43 Z\" stroke=\"black\" fill=\"gray\" stroke-linejoin=\"miter\" />\n",
       "<path d=\"M45,7 L45,43\" stroke=\"black\" stroke-width=\"1\" fill=\"none\" />\n",
       "<text x=\"53.5\" y=\"36\" font-size=\"7\" text-anchor=\"start\">ξ=0</text>\n",
       "<text x=\"53.5\" y=\"45\" font-size=\"7\" text-anchor=\"start\">δ=pi/2</text>\n",
       "<path d=\"M75,25 L125,25\" stroke=\"darkred\" stroke-width=\"3\" fill=\"none\" />\n",
       "<path d=\"M80,40 L89,40 L103,10 L94,10 L80,40 L89,40 Z\" stroke=\"black\" fill=\"gray\" stroke-linejoin=\"miter\" />\n",
       "<text x=\"97\" y=\"38\" font-size=\"7\" text-anchor=\"start\">Φ=3*pi/2</text>\n",
       "<path d=\"M125,25 L140,25\" stroke=\"darkred\" stroke-width=\"3\" fill=\"none\" />\n",
       "<path d=\"M160,25 L175,25\" stroke=\"darkred\" stroke-width=\"3\" fill=\"none\" />\n",
       "<path d=\"M139,14 L161,14 L161,36 L139,36 Z\" stroke=\"black\" fill=\"lightgray\" stroke-linejoin=\"miter\" />\n",
       "<path d=\"M143,27 C143.107,27.131,143.28,27.131,143.387,27 L145.692,24.179 C145.799,24.048,145.749,23.942,145.58,23.942 L144.36,23.942 C144.191,23.942,144.07600000000002,23.807,144.113,23.642 C144.742,20.776,147.3,18.624,150.353,18.624 C153.877,18.624,156.743,21.491,156.743,25.0142 C156.743,28.5372,153.877,31.4042,150.353,31.4042 C149.931,31.4042,149.58800000000002,31.746199999999998,149.58800000000002,32.1692 S149.93,32.9342,150.353,32.9342 C154.72,32.9342,158.27300000000002,29.382199999999997,158.27300000000002,25.014199999999995 C158.27300000000002,20.647199999999994,154.72100000000003,17.094199999999994,150.353,17.094199999999994 C146.455,17.094199999999994,143.207,19.926199999999994,142.554,23.640199999999993 C142.525,23.806199999999993,142.37,23.942199999999993,142.201,23.942199999999993 L141.0,23.942199999999993 C140.831,23.942199999999993,140.781,24.048199999999994,140.888,24.17919999999999 L143,27\" stroke-width=\"1\" stroke=\"black\" stroke-linejoin=\"miter\" fill=\"black\" />\n",
       "<text x=\"150\" y=\"45\" font-size=\"7\" text-anchor=\"middle\">δ=pi/2</text>\n",
       "<path d=\"M25,75 L75,75\" stroke=\"darkred\" stroke-width=\"3\" fill=\"none\" />\n",
       "<path d=\"M38,57 L52,57 L52,93 L38,93 Z\" stroke=\"black\" fill=\"gray\" stroke-linejoin=\"miter\" />\n",
       "<path d=\"M45,57 L45,93\" stroke=\"black\" stroke-width=\"1\" fill=\"none\" />\n",
       "<text x=\"53.5\" y=\"86\" font-size=\"7\" text-anchor=\"start\">ξ=0</text>\n",
       "<text x=\"53.5\" y=\"95\" font-size=\"7\" text-anchor=\"start\">δ=pi/2</text>\n",
       "<path d=\"M75,75 L125,75\" stroke=\"darkred\" stroke-width=\"3\" fill=\"none\" />\n",
       "<path d=\"M80,90 L89,90 L103,60 L94,60 L80,90 L89,90 Z\" stroke=\"black\" fill=\"gray\" stroke-linejoin=\"miter\" />\n",
       "<text x=\"97\" y=\"88\" font-size=\"7\" text-anchor=\"start\">Φ=3*pi/2</text>\n",
       "<path d=\"M125,75.0 L175,75.0\" stroke=\"darkred\" stroke-width=\"3\" fill=\"none\" />\n",
       "<path d=\"M175,25.0 L190,25.0\" stroke-width=\"3\" stroke=\"darkred\" stroke-linejoin=\"miter\" fill=\"none\" />\n",
       "<path d=\"M175,75.0 L190,75.0\" stroke-width=\"3\" stroke=\"darkred\" stroke-linejoin=\"miter\" fill=\"none\" />\n",
       "<text x=\"200\" y=\"28.0\" font-size=\"6\" text-anchor=\"end\">0</text>\n",
       "<text x=\"200\" y=\"78.0\" font-size=\"6\" text-anchor=\"end\">1</text>\n",
       "<text x=\"0\" y=\"28.0\" font-size=\"6\" text-anchor=\"start\">0</text>\n",
       "<text x=\"0\" y=\"78.0\" font-size=\"6\" text-anchor=\"start\">1</text>\n",
       "</svg>"
      ],
      "text/plain": [
       "<drawsvg.drawing.Drawing at 0x7f86d20d90c0>"
      ]
     },
     "execution_count": 6,
     "metadata": {},
     "output_type": "execute_result"
    }
   ],
   "source": [
    "def oracle(mark):\n",
    "    \"\"\"Values 0, 1, 2 and 3 for parameter 'mark' respectively mark the elements \"00\", \"01\", \"10\" and \"11\" of the list.\"\"\"\n",
    "    oracle_circuit = pcvl.Circuit(m=2, name='Oracle')\n",
    "    # The following dictionnary translates n into the corresponding component settings\n",
    "    oracle_dict = {0: (1, 0), 1: (0, 1), 2: (1, 1), 3: (0, 0)}\n",
    "    PC_state, LC_state = oracle_dict[mark]\n",
    "    # Mode b\n",
    "    if PC_state == 1:\n",
    "        oracle_circuit //= HWP(0)\n",
    "    oracle_circuit.add(0, pcvl.PR(math.pi/2))\n",
    "    if LC_state == 1:\n",
    "        oracle_circuit //= HWP(0)\n",
    "    # Mode a\n",
    "    if LC_state == 1:\n",
    "        oracle_circuit //= (1, HWP(0))\n",
    "    if PC_state == 1:\n",
    "        oracle_circuit //= (1, HWP(0))\n",
    "    return oracle_circuit\n",
    "\n",
    "pcvl.pdisplay(oracle(0))"
   ]
  },
  {
   "attachments": {},
   "cell_type": "markdown",
   "id": "50596a16",
   "metadata": {},
   "source": [
    "#### Inversion about mean"
   ]
  },
  {
   "cell_type": "code",
   "execution_count": 7,
   "id": "ef839994",
   "metadata": {},
   "outputs": [
    {
     "data": {
      "image/svg+xml": [
       "<?xml version=\"1.0\" encoding=\"UTF-8\"?>\n",
       "<svg xmlns=\"http://www.w3.org/2000/svg\" xmlns:xlink=\"http://www.w3.org/1999/xlink\"\n",
       "     width=\"507.5\" height=\"156.25\" viewBox=\"-28.0 0 406.0 125.0\">\n",
       "<defs>\n",
       "</defs>\n",
       "<path d=\"M10,25.0 L25,25.0\" stroke-width=\"3\" stroke=\"darkred\" stroke-linejoin=\"miter\" fill=\"none\" />\n",
       "<path d=\"M10,75.0 L25,75.0\" stroke-width=\"3\" stroke=\"darkred\" stroke-linejoin=\"miter\" fill=\"none\" />\n",
       "<path d=\"M25,25 L53,25 L72,44\" stroke=\"darkred\" stroke-width=\"3\" fill=\"none\" />\n",
       "<path d=\"M78,44 L97,25 L125,25\" stroke=\"darkred\" stroke-width=\"3\" fill=\"none\" />\n",
       "<path d=\"M25,75 L53,75 L72,56\" stroke=\"darkred\" stroke-width=\"3\" fill=\"none\" />\n",
       "<path d=\"M78,56 L97,75 L125,75\" stroke=\"darkred\" stroke-width=\"3\" fill=\"none\" />\n",
       "<path d=\"M50,43 L100,43 L100,57 L50,57 Z\" stroke=\"black\" fill=\"black\" stroke-linejoin=\"miter\" />\n",
       "<text x=\"75\" y=\"85\" font-size=\"7\" text-anchor=\"middle\"></text>\n",
       "<text x=\"75\" y=\"26\" font-size=\"7\" text-anchor=\"middle\"></text>\n",
       "<path d=\"M50,43 L100,43 L100,47 L50,47 Z\" stroke=\"black\" fill=\"lightgray\" stroke-linejoin=\"miter\" />\n",
       "<path d=\"M93,50 L103,50 L103,60 L93,60 Z\" stroke=\"black\" fill=\"lightsalmon\" stroke-linejoin=\"miter\" />\n",
       "<text x=\"98\" y=\"57\" font-size=\"6\" text-anchor=\"middle\">Ry</text>\n",
       "<path d=\"M125,25 L175,25\" stroke=\"darkred\" stroke-width=\"3\" fill=\"none\" />\n",
       "<path d=\"M138,7 L152,7 L152,43 L138,43 Z\" stroke=\"black\" fill=\"gray\" stroke-linejoin=\"miter\" />\n",
       "<path d=\"M145,7 L145,43\" stroke=\"black\" stroke-width=\"1\" fill=\"none\" />\n",
       "<text x=\"153.5\" y=\"36\" font-size=\"7\" text-anchor=\"start\">ξ=pi/4</text>\n",
       "<text x=\"153.5\" y=\"45\" font-size=\"7\" text-anchor=\"start\">δ=pi/2</text>\n",
       "<path d=\"M175,25 L225,25\" stroke=\"darkred\" stroke-width=\"3\" fill=\"none\" />\n",
       "<path d=\"M180,40 L189,40 L203,10 L194,10 L180,40 L189,40 Z\" stroke=\"black\" fill=\"gray\" stroke-linejoin=\"miter\" />\n",
       "<text x=\"197\" y=\"38\" font-size=\"7\" text-anchor=\"start\">Φ=3*pi/2</text>\n",
       "<path d=\"M125,75.0 L225,75.0\" stroke=\"darkred\" stroke-width=\"3\" fill=\"none\" />\n",
       "<path d=\"M225,25 L253,25 L272,44\" stroke=\"darkred\" stroke-width=\"3\" fill=\"none\" />\n",
       "<path d=\"M278,44 L297,25 L325,25\" stroke=\"darkred\" stroke-width=\"3\" fill=\"none\" />\n",
       "<path d=\"M225,75 L253,75 L272,56\" stroke=\"darkred\" stroke-width=\"3\" fill=\"none\" />\n",
       "<path d=\"M278,56 L297,75 L325,75\" stroke=\"darkred\" stroke-width=\"3\" fill=\"none\" />\n",
       "<path d=\"M250,43 L300,43 L300,57 L250,57 Z\" stroke=\"black\" fill=\"black\" stroke-linejoin=\"miter\" />\n",
       "<text x=\"275\" y=\"85\" font-size=\"7\" text-anchor=\"middle\"></text>\n",
       "<text x=\"275\" y=\"26\" font-size=\"7\" text-anchor=\"middle\"></text>\n",
       "<path d=\"M250,43 L300,43 L300,47 L250,47 Z\" stroke=\"black\" fill=\"lightgray\" stroke-linejoin=\"miter\" />\n",
       "<path d=\"M293,50 L303,50 L303,60 L293,60 Z\" stroke=\"black\" fill=\"lightsalmon\" stroke-linejoin=\"miter\" />\n",
       "<text x=\"298\" y=\"57\" font-size=\"6\" text-anchor=\"middle\">Ry</text>\n",
       "<path d=\"M325,25.0 L340,25.0\" stroke-width=\"3\" stroke=\"darkred\" stroke-linejoin=\"miter\" fill=\"none\" />\n",
       "<path d=\"M325,75.0 L340,75.0\" stroke-width=\"3\" stroke=\"darkred\" stroke-linejoin=\"miter\" fill=\"none\" />\n",
       "<text x=\"350\" y=\"28.0\" font-size=\"6\" text-anchor=\"end\">0</text>\n",
       "<text x=\"350\" y=\"78.0\" font-size=\"6\" text-anchor=\"end\">1</text>\n",
       "<text x=\"0\" y=\"28.0\" font-size=\"6\" text-anchor=\"start\">0</text>\n",
       "<text x=\"0\" y=\"78.0\" font-size=\"6\" text-anchor=\"start\">1</text>\n",
       "</svg>"
      ],
      "text/plain": [
       "<drawsvg.drawing.Drawing at 0x7f86d20d9db0>"
      ]
     },
     "execution_count": 7,
     "metadata": {},
     "output_type": "execute_result"
    }
   ],
   "source": [
    "inversion_circuit = (pcvl.Circuit(m=2, name='Inversion')\n",
    "                     // BS\n",
    "                     // HWP(math.pi / 4)\n",
    "                     // BS)\n",
    "\n",
    "pcvl.pdisplay(inversion_circuit)"
   ]
  },
  {
   "attachments": {},
   "cell_type": "markdown",
   "id": "4daf70f2",
   "metadata": {},
   "source": [
    "#### Detection\n",
    "\n",
    "The article also uses a detection circuit of the form:"
   ]
  },
  {
   "cell_type": "code",
   "execution_count": 8,
   "id": "31ad50c7",
   "metadata": {},
   "outputs": [
    {
     "data": {
      "image/svg+xml": [
       "<?xml version=\"1.0\" encoding=\"UTF-8\"?>\n",
       "<svg xmlns=\"http://www.w3.org/2000/svg\" xmlns:xlink=\"http://www.w3.org/1999/xlink\"\n",
       "     width=\"257.5\" height=\"281.25\" viewBox=\"-28.0 0 206.0 225.0\">\n",
       "<defs>\n",
       "</defs>\n",
       "<path d=\"M10,25.0 L25,25.0\" stroke-width=\"3\" stroke=\"darkred\" stroke-linejoin=\"miter\" fill=\"none\" />\n",
       "<path d=\"M10,75.0 L25,75.0\" stroke-width=\"3\" stroke=\"darkred\" stroke-linejoin=\"miter\" fill=\"none\" />\n",
       "<path d=\"M10,125.0 L25,125.0\" stroke-width=\"3\" stroke=\"darkred\" stroke-linejoin=\"miter\" fill=\"none\" />\n",
       "<path d=\"M10,175.0 L25,175.0\" stroke-width=\"3\" stroke=\"darkred\" stroke-linejoin=\"miter\" fill=\"none\" />\n",
       "<path d=\"M25,25 L53,25 L62.5,37.5\" stroke=\"darkred\" stroke-width=\"3\" fill=\"none\" />\n",
       "<path d=\"M87.5,37.5 L97,25 L125,25\" stroke=\"darkred\" stroke-width=\"3\" fill=\"none\" />\n",
       "<path d=\"M25,75 L53,75 L62.5,62.5\" stroke=\"darkred\" stroke-width=\"3\" fill=\"none\" />\n",
       "<path d=\"M87.5,62.5 L97,75 L125,75\" stroke=\"darkred\" stroke-width=\"3\" fill=\"none\" />\n",
       "<path d=\"M87.5,62.5 L97,75 L125,75\" stroke=\"darkred\" stroke-width=\"3\" fill=\"none\" />\n",
       "<path d=\"M50,50 L75,24 L100,50 L75,76 L50,50 Z\" stroke=\"black\" fill=\"gray\" stroke-linejoin=\"miter\" />\n",
       "<path d=\"M50,50 L100,50\" stroke=\"black\" stroke-width=\"1\" fill=\"none\" />\n",
       "<text x=\"75\" y=\"86\" font-size=\"7\" text-anchor=\"middle\"></text>\n",
       "<path d=\"M25,125 L53,125 L62.5,137.5\" stroke=\"darkred\" stroke-width=\"3\" fill=\"none\" />\n",
       "<path d=\"M87.5,137.5 L97,125 L125,125\" stroke=\"darkred\" stroke-width=\"3\" fill=\"none\" />\n",
       "<path d=\"M25,175 L53,175 L62.5,162.5\" stroke=\"darkred\" stroke-width=\"3\" fill=\"none\" />\n",
       "<path d=\"M87.5,162.5 L97,175 L125,175\" stroke=\"darkred\" stroke-width=\"3\" fill=\"none\" />\n",
       "<path d=\"M87.5,162.5 L97,175 L125,175\" stroke=\"darkred\" stroke-width=\"3\" fill=\"none\" />\n",
       "<path d=\"M50,150 L75,124 L100,150 L75,176 L50,150 Z\" stroke=\"black\" fill=\"gray\" stroke-linejoin=\"miter\" />\n",
       "<path d=\"M50,150 L100,150\" stroke=\"black\" stroke-width=\"1\" fill=\"none\" />\n",
       "<text x=\"75\" y=\"186\" font-size=\"7\" text-anchor=\"middle\"></text>\n",
       "<path d=\"M125,25.0 L140,25.0\" stroke-width=\"3\" stroke=\"darkred\" stroke-linejoin=\"miter\" fill=\"none\" />\n",
       "<path d=\"M125,75.0 L140,75.0\" stroke-width=\"3\" stroke=\"darkred\" stroke-linejoin=\"miter\" fill=\"none\" />\n",
       "<path d=\"M125,125.0 L140,125.0\" stroke-width=\"3\" stroke=\"darkred\" stroke-linejoin=\"miter\" fill=\"none\" />\n",
       "<path d=\"M125,175.0 L140,175.0\" stroke-width=\"3\" stroke=\"darkred\" stroke-linejoin=\"miter\" fill=\"none\" />\n",
       "<text x=\"150\" y=\"28.0\" font-size=\"6\" text-anchor=\"end\">0</text>\n",
       "<text x=\"150\" y=\"78.0\" font-size=\"6\" text-anchor=\"end\">1</text>\n",
       "<text x=\"150\" y=\"128.0\" font-size=\"6\" text-anchor=\"end\">2</text>\n",
       "<text x=\"150\" y=\"178.0\" font-size=\"6\" text-anchor=\"end\">3</text>\n",
       "<text x=\"0\" y=\"28.0\" font-size=\"6\" text-anchor=\"start\">0</text>\n",
       "<text x=\"0\" y=\"78.0\" font-size=\"6\" text-anchor=\"start\">1</text>\n",
       "<text x=\"0\" y=\"128.0\" font-size=\"6\" text-anchor=\"start\">2</text>\n",
       "<text x=\"0\" y=\"178.0\" font-size=\"6\" text-anchor=\"start\">3</text>\n",
       "</svg>"
      ],
      "text/plain": [
       "<drawsvg.drawing.Drawing at 0x7f86d20db460>"
      ]
     },
     "execution_count": 8,
     "metadata": {},
     "output_type": "execute_result"
    }
   ],
   "source": [
    "detection_circuit = pcvl.Circuit(m=4, name='Detection')\n",
    "detection_circuit.add((0, 1), pcvl.PBS())\n",
    "detection_circuit.add((2, 3), pcvl.PBS())\n",
    "\n",
    "pcvl.pdisplay(detection_circuit)"
   ]
  },
  {
   "attachments": {},
   "cell_type": "markdown",
   "id": "76acc62f",
   "metadata": {},
   "source": [
    "However, Perceval allows us to filter out the photon's polarization state, meaning that there is no need to expand the circuit to four output spatial modes.\n",
    "\n",
    "For now, we will need this particular circuit."
   ]
  },
  {
   "attachments": {},
   "cell_type": "markdown",
   "id": "2326568e",
   "metadata": {},
   "source": [
    "#### Final circuit setup \n",
    "\n",
    "As above, the value of parameter 'mark' indicates which element of the list needs to be found."
   ]
  },
  {
   "cell_type": "code",
   "execution_count": 9,
   "id": "1b0bffde",
   "metadata": {},
   "outputs": [
    {
     "name": "stdout",
     "output_type": "stream",
     "text": [
      "Grover optical circuit for searching database element \"00\":\n"
     ]
    },
    {
     "data": {
      "image/svg+xml": [
       "<?xml version=\"1.0\" encoding=\"UTF-8\"?>\n",
       "<svg xmlns=\"http://www.w3.org/2000/svg\" xmlns:xlink=\"http://www.w3.org/1999/xlink\"\n",
       "     width=\"1225.0\" height=\"281.25\" viewBox=\"-52.0 0 980.0 225.0\">\n",
       "<defs>\n",
       "</defs>\n",
       "<path d=\"M10,25.0 L25,25.0\" stroke-width=\"3\" stroke=\"darkred\" stroke-linejoin=\"miter\" fill=\"none\" />\n",
       "<path d=\"M10,75.0 L25,75.0\" stroke-width=\"3\" stroke=\"darkred\" stroke-linejoin=\"miter\" fill=\"none\" />\n",
       "<path d=\"M10,125.0 L25,125.0\" stroke-width=\"3\" stroke=\"darkred\" stroke-linejoin=\"miter\" fill=\"none\" />\n",
       "<path d=\"M10,175.0 L25,175.0\" stroke-width=\"3\" stroke=\"darkred\" stroke-linejoin=\"miter\" fill=\"none\" />\n",
       "<path d=\"M27,2 L273,2 L273,98 L27,98 Z\" stroke=\"black\" fill=\"lightblue\" stroke-dasharray=\"1,2\" stroke-linejoin=\"miter\" />\n",
       "<text x=\"29\" y=\"105\" font-size=\"8\" text-anchor=\"start\">INITIALIZATION</text>\n",
       "<path d=\"M25,25 L75,25\" stroke=\"darkred\" stroke-width=\"3\" fill=\"none\" />\n",
       "<path d=\"M38,7 L52,7 L52,43 L38,43 Z\" stroke=\"black\" fill=\"gray\" stroke-linejoin=\"miter\" />\n",
       "<path d=\"M45,7 L45,43\" stroke=\"black\" stroke-width=\"1\" fill=\"none\" />\n",
       "<text x=\"53.5\" y=\"36\" font-size=\"7\" text-anchor=\"start\">ξ=pi/8</text>\n",
       "<text x=\"53.5\" y=\"45\" font-size=\"7\" text-anchor=\"start\">δ=pi/2</text>\n",
       "<path d=\"M75,25 L125,25\" stroke=\"darkred\" stroke-width=\"3\" fill=\"none\" />\n",
       "<path d=\"M80,40 L89,40 L103,10 L94,10 L80,40 L89,40 Z\" stroke=\"black\" fill=\"gray\" stroke-linejoin=\"miter\" />\n",
       "<text x=\"97\" y=\"38\" font-size=\"7\" text-anchor=\"start\">Φ=3*pi/2</text>\n",
       "<path d=\"M25,75.0 L125,75.0\" stroke=\"darkred\" stroke-width=\"3\" fill=\"none\" />\n",
       "<path d=\"M125,25 L153,25 L172,44\" stroke=\"darkred\" stroke-width=\"3\" fill=\"none\" />\n",
       "<path d=\"M178,44 L197,25 L225,25\" stroke=\"darkred\" stroke-width=\"3\" fill=\"none\" />\n",
       "<path d=\"M125,75 L153,75 L172,56\" stroke=\"darkred\" stroke-width=\"3\" fill=\"none\" />\n",
       "<path d=\"M178,56 L197,75 L225,75\" stroke=\"darkred\" stroke-width=\"3\" fill=\"none\" />\n",
       "<path d=\"M150,43 L200,43 L200,57 L150,57 Z\" stroke=\"black\" fill=\"black\" stroke-linejoin=\"miter\" />\n",
       "<text x=\"175\" y=\"85\" font-size=\"7\" text-anchor=\"middle\"></text>\n",
       "<text x=\"175\" y=\"26\" font-size=\"7\" text-anchor=\"middle\"></text>\n",
       "<path d=\"M150,43 L200,43 L200,47 L150,47 Z\" stroke=\"black\" fill=\"lightgray\" stroke-linejoin=\"miter\" />\n",
       "<path d=\"M193,50 L203,50 L203,60 L193,60 Z\" stroke=\"black\" fill=\"lightsalmon\" stroke-linejoin=\"miter\" />\n",
       "<text x=\"198\" y=\"57\" font-size=\"6\" text-anchor=\"middle\">Ry</text>\n",
       "<path d=\"M225,25 L275,25\" stroke=\"darkred\" stroke-width=\"3\" fill=\"none\" />\n",
       "<path d=\"M230,40 L239,40 L253,10 L244,10 L230,40 L239,40 Z\" stroke=\"black\" fill=\"gray\" stroke-linejoin=\"miter\" />\n",
       "<text x=\"247\" y=\"38\" font-size=\"7\" text-anchor=\"start\">Φ=pi</text>\n",
       "<path d=\"M225,75.0 L275,75.0\" stroke=\"darkred\" stroke-width=\"3\" fill=\"none\" />\n",
       "<path d=\"M277,2 L423,2 L423,98 L277,98 Z\" stroke=\"black\" fill=\"lightblue\" stroke-dasharray=\"1,2\" stroke-linejoin=\"miter\" />\n",
       "<text x=\"279\" y=\"105\" font-size=\"8\" text-anchor=\"start\">ORACLE</text>\n",
       "<path d=\"M275,25 L325,25\" stroke=\"darkred\" stroke-width=\"3\" fill=\"none\" />\n",
       "<path d=\"M288,7 L302,7 L302,43 L288,43 Z\" stroke=\"black\" fill=\"gray\" stroke-linejoin=\"miter\" />\n",
       "<path d=\"M295,7 L295,43\" stroke=\"black\" stroke-width=\"1\" fill=\"none\" />\n",
       "<text x=\"303.5\" y=\"36\" font-size=\"7\" text-anchor=\"start\">ξ=0</text>\n",
       "<text x=\"303.5\" y=\"45\" font-size=\"7\" text-anchor=\"start\">δ=pi/2</text>\n",
       "<path d=\"M325,25 L375,25\" stroke=\"darkred\" stroke-width=\"3\" fill=\"none\" />\n",
       "<path d=\"M330,40 L339,40 L353,10 L344,10 L330,40 L339,40 Z\" stroke=\"black\" fill=\"gray\" stroke-linejoin=\"miter\" />\n",
       "<text x=\"347\" y=\"38\" font-size=\"7\" text-anchor=\"start\">Φ=3*pi/2</text>\n",
       "<path d=\"M375,25 L390,25\" stroke=\"darkred\" stroke-width=\"3\" fill=\"none\" />\n",
       "<path d=\"M410,25 L425,25\" stroke=\"darkred\" stroke-width=\"3\" fill=\"none\" />\n",
       "<path d=\"M389,14 L411,14 L411,36 L389,36 Z\" stroke=\"black\" fill=\"lightgray\" stroke-linejoin=\"miter\" />\n",
       "<path d=\"M393,27 C393.10699999999997,27.131,393.28,27.131,393.387,27 L395.692,24.179 C395.799,24.048,395.749,23.942,395.58,23.942 L394.36,23.942 C394.19100000000003,23.942,394.076,23.807,394.113,23.642 C394.742,20.776,397.3,18.624,400.353,18.624 C403.877,18.624,406.743,21.491,406.743,25.0142 C406.743,28.5372,403.877,31.4042,400.353,31.4042 C399.931,31.4042,399.588,31.746199999999998,399.588,32.1692 S399.93,32.9342,400.353,32.9342 C404.72,32.9342,408.273,29.382199999999997,408.273,25.014199999999995 C408.273,20.647199999999994,404.721,17.094199999999994,400.353,17.094199999999994 C396.455,17.094199999999994,393.207,19.926199999999994,392.55400000000003,23.640199999999993 C392.52500000000003,23.806199999999993,392.37,23.942199999999993,392.201,23.942199999999993 L391.0,23.942199999999993 C390.831,23.942199999999993,390.781,24.048199999999994,390.888,24.17919999999999 L393,27\" stroke-width=\"1\" stroke=\"black\" stroke-linejoin=\"miter\" fill=\"black\" />\n",
       "<text x=\"400\" y=\"45\" font-size=\"7\" text-anchor=\"middle\">δ=pi/2</text>\n",
       "<path d=\"M275,75 L325,75\" stroke=\"darkred\" stroke-width=\"3\" fill=\"none\" />\n",
       "<path d=\"M288,57 L302,57 L302,93 L288,93 Z\" stroke=\"black\" fill=\"gray\" stroke-linejoin=\"miter\" />\n",
       "<path d=\"M295,57 L295,93\" stroke=\"black\" stroke-width=\"1\" fill=\"none\" />\n",
       "<text x=\"303.5\" y=\"86\" font-size=\"7\" text-anchor=\"start\">ξ=0</text>\n",
       "<text x=\"303.5\" y=\"95\" font-size=\"7\" text-anchor=\"start\">δ=pi/2</text>\n",
       "<path d=\"M325,75 L375,75\" stroke=\"darkred\" stroke-width=\"3\" fill=\"none\" />\n",
       "<path d=\"M330,90 L339,90 L353,60 L344,60 L330,90 L339,90 Z\" stroke=\"black\" fill=\"gray\" stroke-linejoin=\"miter\" />\n",
       "<text x=\"347\" y=\"88\" font-size=\"7\" text-anchor=\"start\">Φ=3*pi/2</text>\n",
       "<path d=\"M375,75.0 L425,75.0\" stroke=\"darkred\" stroke-width=\"3\" fill=\"none\" />\n",
       "<path d=\"M427,2 L723,2 L723,98 L427,98 Z\" stroke=\"black\" fill=\"lightblue\" stroke-dasharray=\"1,2\" stroke-linejoin=\"miter\" />\n",
       "<text x=\"429\" y=\"105\" font-size=\"8\" text-anchor=\"start\">INVERSION</text>\n",
       "<path d=\"M425,25 L453,25 L472,44\" stroke=\"darkred\" stroke-width=\"3\" fill=\"none\" />\n",
       "<path d=\"M478,44 L497,25 L525,25\" stroke=\"darkred\" stroke-width=\"3\" fill=\"none\" />\n",
       "<path d=\"M425,75 L453,75 L472,56\" stroke=\"darkred\" stroke-width=\"3\" fill=\"none\" />\n",
       "<path d=\"M478,56 L497,75 L525,75\" stroke=\"darkred\" stroke-width=\"3\" fill=\"none\" />\n",
       "<path d=\"M450,43 L500,43 L500,57 L450,57 Z\" stroke=\"black\" fill=\"black\" stroke-linejoin=\"miter\" />\n",
       "<text x=\"475\" y=\"85\" font-size=\"7\" text-anchor=\"middle\"></text>\n",
       "<text x=\"475\" y=\"26\" font-size=\"7\" text-anchor=\"middle\"></text>\n",
       "<path d=\"M450,43 L500,43 L500,47 L450,47 Z\" stroke=\"black\" fill=\"lightgray\" stroke-linejoin=\"miter\" />\n",
       "<path d=\"M493,50 L503,50 L503,60 L493,60 Z\" stroke=\"black\" fill=\"lightsalmon\" stroke-linejoin=\"miter\" />\n",
       "<text x=\"498\" y=\"57\" font-size=\"6\" text-anchor=\"middle\">Ry</text>\n",
       "<path d=\"M525,25 L575,25\" stroke=\"darkred\" stroke-width=\"3\" fill=\"none\" />\n",
       "<path d=\"M538,7 L552,7 L552,43 L538,43 Z\" stroke=\"black\" fill=\"gray\" stroke-linejoin=\"miter\" />\n",
       "<path d=\"M545,7 L545,43\" stroke=\"black\" stroke-width=\"1\" fill=\"none\" />\n",
       "<text x=\"553.5\" y=\"36\" font-size=\"7\" text-anchor=\"start\">ξ=pi/4</text>\n",
       "<text x=\"553.5\" y=\"45\" font-size=\"7\" text-anchor=\"start\">δ=pi/2</text>\n",
       "<path d=\"M575,25 L625,25\" stroke=\"darkred\" stroke-width=\"3\" fill=\"none\" />\n",
       "<path d=\"M580,40 L589,40 L603,10 L594,10 L580,40 L589,40 Z\" stroke=\"black\" fill=\"gray\" stroke-linejoin=\"miter\" />\n",
       "<text x=\"597\" y=\"38\" font-size=\"7\" text-anchor=\"start\">Φ=3*pi/2</text>\n",
       "<path d=\"M525,75.0 L625,75.0\" stroke=\"darkred\" stroke-width=\"3\" fill=\"none\" />\n",
       "<path d=\"M625,25 L653,25 L672,44\" stroke=\"darkred\" stroke-width=\"3\" fill=\"none\" />\n",
       "<path d=\"M678,44 L697,25 L725,25\" stroke=\"darkred\" stroke-width=\"3\" fill=\"none\" />\n",
       "<path d=\"M625,75 L653,75 L672,56\" stroke=\"darkred\" stroke-width=\"3\" fill=\"none\" />\n",
       "<path d=\"M678,56 L697,75 L725,75\" stroke=\"darkred\" stroke-width=\"3\" fill=\"none\" />\n",
       "<path d=\"M650,43 L700,43 L700,57 L650,57 Z\" stroke=\"black\" fill=\"black\" stroke-linejoin=\"miter\" />\n",
       "<text x=\"675\" y=\"85\" font-size=\"7\" text-anchor=\"middle\"></text>\n",
       "<text x=\"675\" y=\"26\" font-size=\"7\" text-anchor=\"middle\"></text>\n",
       "<path d=\"M650,43 L700,43 L700,47 L650,47 Z\" stroke=\"black\" fill=\"lightgray\" stroke-linejoin=\"miter\" />\n",
       "<path d=\"M693,50 L703,50 L703,60 L693,60 Z\" stroke=\"black\" fill=\"lightsalmon\" stroke-linejoin=\"miter\" />\n",
       "<text x=\"698\" y=\"57\" font-size=\"6\" text-anchor=\"middle\">Ry</text>\n",
       "<path d=\"M25,125.0 L725,125.0\" stroke=\"darkred\" stroke-width=\"3\" fill=\"none\" />\n",
       "<path d=\"M728,75 L772,125\" stroke=\"white\" stroke-width=\"6\" fill=\"none\" />\n",
       "<path d=\"M725,75 L728,75 L772,125 L775,125\" stroke=\"darkred\" stroke-width=\"3\" fill=\"none\" />\n",
       "<path d=\"M728,125 L772,75\" stroke=\"white\" stroke-width=\"6\" fill=\"none\" />\n",
       "<path d=\"M725,125 L728,125 L772,75 L775,75\" stroke=\"darkred\" stroke-width=\"3\" fill=\"none\" />\n",
       "<path d=\"M777,2 L873,2 L873,198 L777,198 Z\" stroke=\"black\" fill=\"lightblue\" stroke-dasharray=\"1,2\" stroke-linejoin=\"miter\" />\n",
       "<text x=\"779\" y=\"205\" font-size=\"8\" text-anchor=\"start\">DETECTION</text>\n",
       "<path d=\"M725,25.0 L775,25.0\" stroke=\"darkred\" stroke-width=\"3\" fill=\"none\" />\n",
       "<path d=\"M775,25 L803,25 L812.5,37.5\" stroke=\"darkred\" stroke-width=\"3\" fill=\"none\" />\n",
       "<path d=\"M837.5,37.5 L847,25 L875,25\" stroke=\"darkred\" stroke-width=\"3\" fill=\"none\" />\n",
       "<path d=\"M775,75 L803,75 L812.5,62.5\" stroke=\"darkred\" stroke-width=\"3\" fill=\"none\" />\n",
       "<path d=\"M837.5,62.5 L847,75 L875,75\" stroke=\"darkred\" stroke-width=\"3\" fill=\"none\" />\n",
       "<path d=\"M837.5,62.5 L847,75 L875,75\" stroke=\"darkred\" stroke-width=\"3\" fill=\"none\" />\n",
       "<path d=\"M800,50 L825,24 L850,50 L825,76 L800,50 Z\" stroke=\"black\" fill=\"gray\" stroke-linejoin=\"miter\" />\n",
       "<path d=\"M800,50 L850,50\" stroke=\"black\" stroke-width=\"1\" fill=\"none\" />\n",
       "<text x=\"825\" y=\"86\" font-size=\"7\" text-anchor=\"middle\"></text>\n",
       "<path d=\"M25,175.0 L775,175.0\" stroke=\"darkred\" stroke-width=\"3\" fill=\"none\" />\n",
       "<path d=\"M775,125 L803,125 L812.5,137.5\" stroke=\"darkred\" stroke-width=\"3\" fill=\"none\" />\n",
       "<path d=\"M837.5,137.5 L847,125 L875,125\" stroke=\"darkred\" stroke-width=\"3\" fill=\"none\" />\n",
       "<path d=\"M775,175 L803,175 L812.5,162.5\" stroke=\"darkred\" stroke-width=\"3\" fill=\"none\" />\n",
       "<path d=\"M837.5,162.5 L847,175 L875,175\" stroke=\"darkred\" stroke-width=\"3\" fill=\"none\" />\n",
       "<path d=\"M837.5,162.5 L847,175 L875,175\" stroke=\"darkred\" stroke-width=\"3\" fill=\"none\" />\n",
       "<path d=\"M800,150 L825,124 L850,150 L825,176 L800,150 Z\" stroke=\"black\" fill=\"gray\" stroke-linejoin=\"miter\" />\n",
       "<path d=\"M800,150 L850,150\" stroke=\"black\" stroke-width=\"1\" fill=\"none\" />\n",
       "<text x=\"825\" y=\"186\" font-size=\"7\" text-anchor=\"middle\"></text>\n",
       "<path d=\"M875,25.0 L890,25.0\" stroke-width=\"3\" stroke=\"darkred\" stroke-linejoin=\"miter\" fill=\"none\" />\n",
       "<path d=\"M875,75.0 L890,75.0\" stroke-width=\"3\" stroke=\"darkred\" stroke-linejoin=\"miter\" fill=\"none\" />\n",
       "<path d=\"M875,125.0 L890,125.0\" stroke-width=\"3\" stroke=\"darkred\" stroke-linejoin=\"miter\" fill=\"none\" />\n",
       "<path d=\"M875,175.0 L890,175.0\" stroke-width=\"3\" stroke=\"darkred\" stroke-linejoin=\"miter\" fill=\"none\" />\n",
       "<text x=\"900\" y=\"28.0\" font-size=\"6\" text-anchor=\"end\">0</text>\n",
       "<text x=\"900\" y=\"78.0\" font-size=\"6\" text-anchor=\"end\">1</text>\n",
       "<text x=\"900\" y=\"128.0\" font-size=\"6\" text-anchor=\"end\">2</text>\n",
       "<text x=\"900\" y=\"178.0\" font-size=\"6\" text-anchor=\"end\">3</text>\n",
       "<text x=\"0\" y=\"28.0\" font-size=\"6\" text-anchor=\"start\">0</text>\n",
       "<text x=\"0\" y=\"78.0\" font-size=\"6\" text-anchor=\"start\">1</text>\n",
       "<text x=\"0\" y=\"128.0\" font-size=\"6\" text-anchor=\"start\">2</text>\n",
       "<text x=\"0\" y=\"178.0\" font-size=\"6\" text-anchor=\"start\">3</text>\n",
       "</svg>"
      ],
      "text/plain": [
       "<drawsvg.drawing.Drawing at 0x7f86d211c040>"
      ]
     },
     "execution_count": 9,
     "metadata": {},
     "output_type": "execute_result"
    }
   ],
   "source": [
    "def grover_circuit(mark):\n",
    "    grover_circuit = pcvl.Circuit(m=4, name='Grover')\n",
    "    grover_circuit.add(0, init_circuit).add(0, oracle(mark)).add(0, inversion_circuit)\n",
    "    grover_circuit.add(1, pcvl.PERM([1, 0])).add(0, detection_circuit)\n",
    "    return grover_circuit\n",
    "\n",
    "print('Grover optical circuit for searching database element \"00\":')\n",
    "pcvl.pdisplay(grover_circuit(0), recursive=True)"
   ]
  },
  {
   "attachments": {},
   "cell_type": "markdown",
   "id": "922a8f12",
   "metadata": {},
   "source": [
    "## Grover algorithm execution\n",
    "\n",
    "We can finally simulate Grover's algorithm for marked database elements \"00\", \"01\", \"10\" and \"11\"."
   ]
  },
  {
   "cell_type": "code",
   "execution_count": 15,
   "id": "0f000dac",
   "metadata": {},
   "outputs": [
    {
     "data": {
      "image/png": "[encoded data removed]",
      "text/plain": [
       "<Figure size 960x720 with 1 Axes>"
      ]
     },
     "metadata": {},
     "output_type": "display_data"
    }
   ],
   "source": [
    "# Circuit simulation\n",
    "input_state = pcvl.BasicState(\"|{P:H},0, 0, 0>\")\n",
    "results_list = []  # probability amplitudes storage\n",
    "\n",
    "for mark in range(4):\n",
    "    sim = pcvl.Processor(\"SLOS\", grover_circuit(mark))\n",
    "    ca = pcvl.algorithm.Analyzer(sim,\n",
    "                              input_states=[input_state],\n",
    "                              output_states=states_modes,\n",
    "                             )\n",
    "    results_list.append(ca.distribution[0])\n",
    "\n",
    "# Plot data\n",
    "labels = ['\"00\"', '\"01\"', '\"10\"', '\"11\"']\n",
    "x = np.arange(4)  # label locations\n",
    "width = 0.1  # the width of the bars\n",
    "    \n",
    "fig, ax = plt.subplots(dpi=150)\n",
    "for i in range(4):\n",
    "    ax.bar(x - 3*width/2, results_list[i].real, width, label=str(states[i]))\n",
    "\n",
    "ax.set_xlabel('Marked database element')\n",
    "ax.set_ylabel('Detection probability')    \n",
    "ax.set_xticks(x, labels)\n",
    "ax.legend()\n",
    "ax.grid(True, axis='x')\n",
    "plt.show()"
   ]
  },
  {
   "attachments": {},
   "cell_type": "markdown",
   "id": "659482dd",
   "metadata": {},
   "source": [
    "As demonstrated by the graph above, Grover's algorithm indeed finds the marked database element!"
   ]
  },
  {
   "attachments": {},
   "cell_type": "markdown",
   "id": "d32d028f",
   "metadata": {},
   "source": [
    "## Reference\n",
    "\n",
    "> Kwiat et al. Grover’s search algorithm: An optical approach. [Journal of Modern Optics](https://doi.org/10.1080/09500340008244040), 47(2–3), 257–266 (2000).\n"
   ]
  }
 ],
 "metadata": {
  "language_info": {
   "name": "python"
  }
 },
 "nbformat": 4,
 "nbformat_minor": 5
}
