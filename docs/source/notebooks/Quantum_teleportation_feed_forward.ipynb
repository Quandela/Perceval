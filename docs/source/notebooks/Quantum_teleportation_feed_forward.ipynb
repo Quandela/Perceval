{
 "cells": [
  {
   "cell_type": "markdown",
   "id": "7d428b7117a2a2fe",
   "metadata": {},
   "source": [
    "# Quantum teleportation using feed-forward"
   ]
  },
  {
   "cell_type": "markdown",
   "id": "61dad5341013c224",
   "metadata": {},
   "source": [
    "The goal of this notebook is to use perceval's feed-forward ability to demonstrate the quantum teleportation algorithm \\[1\\] on a photonic simulated circuit using dual rail encoding."
   ]
  },
  {
   "cell_type": "markdown",
   "id": "1916284b04197f03",
   "metadata": {},
   "source": [
    "## Definition of the problem"
   ]
  },
  {
   "cell_type": "markdown",
   "id": "60118172",
   "metadata": {},
   "source": [
    "The idea of the protocol is the following:\n",
    "\n",
    "Say that Alice has a generic qubit of the form\n",
    "\n",
    "$$|\\psi\\rangle = \\alpha |0\\rangle + \\beta |1\\rangle \\;$$\n",
    "\n",
    "that they want to send to a distant receiver called Bob. Since Bob is distant, we want to avoid transporting physical systems from Alice to Bob (only classical light will do).\n",
    "\n",
    "Before the start of the algorithm, Alice and Bob need to share a maximally entangled Bell state. For this example, we choose\n",
    "\n",
    "$$|\\phi^+\\rangle = \\frac{1}{\\sqrt{2}} (|0_A 0_B\\rangle + |1_A 1_B\\rangle) \\;$$\n",
    "\n",
    "The first qubit is accessible to Alice and the second to Bob. We now drop the subscript $A$ and $B$ for clarity. \n",
    "\n",
    "The composite system is then\n",
    "\n",
    "$$|\\psi\\rangle \\otimes |\\phi^+\\rangle = (\\alpha |0\\rangle + \\beta |1\\rangle) \\otimes \\frac{1}{\\sqrt{2}} (|00\\rangle + |11\\rangle)$$\n",
    "\n",
    "The algorithm is the following:\n",
    "\n",
    "Alice performs a CNOT using the first qubit as control and the second as target, then applies a Hadamard gate to the first qubit.\n",
    "\n",
    "![quantum_teleportation_circuit.jpg](quantum_teleportation_circuit.jpg)\n",
    "\n",
    "At the end, the composite system can be written as\n",
    "\n",
    "\\begin{align}\n",
    "& \\frac{1}{2}|00\\rangle \\otimes (\\alpha |0\\rangle + \\beta |1\\rangle) \\\\\n",
    "+& \\frac{1}{2}|01\\rangle \\otimes (\\beta |0\\rangle + \\alpha |1\\rangle) \\\\\n",
    "+& \\frac{1}{2}|10\\rangle \\otimes (\\alpha |0\\rangle - \\beta |1\\rangle) \\\\\n",
    "+& \\frac{1}{2}|11\\rangle \\otimes (- \\beta |0\\rangle + \\alpha |1\\rangle)\n",
    "\\end{align}\n",
    "\n",
    "Then Alice measures their two qubits and send the results to Bob using a classical channel.\n",
    "Firstly, if the second qubit is measured to be 1, Bob needs to apply a X gate to their qubit.\n",
    "Then, if the first qubit is measured to be 1, Bob needs to apply a Z gate to their qubit.\n",
    "\n",
    "After these corrections, Bob's qubit is guaranteed to be the original qubit of Alice $|\\psi\\rangle$."
   ]
  },
  {
   "cell_type": "markdown",
   "id": "f39f9330",
   "metadata": {},
   "source": [
    "\n",
    "At the end, the composite system can be written as\n",
    "\n",
    "\\begin{align}\n",
    "& \\frac{1}{2}|00\\rangle \\otimes (\\alpha |0\\rangle + \\beta |1\\rangle) \\\\\n",
    "+& \\frac{1}{2}|01\\rangle \\otimes (\\beta |0\\rangle + \\alpha |1\\rangle) \\\\\n",
    "+& \\frac{1}{2}|10\\rangle \\otimes (\\alpha |0\\rangle - \\beta |1\\rangle) \\\\\n",
    "+& \\frac{1}{2}|11\\rangle \\otimes (- \\beta |0\\rangle + \\alpha |1\\rangle)\n",
    "\\end{align}\n",
    "\n",
    "Then Alice measures their two qubits and send the results to Bob using a classical channel.\n",
    "Firstly, if the second qubit is measured to be 1, Bob needs to apply a X gate to their qubit.\n",
    "Then, if the first qubit is measured to be 1, Bob needs to apply a Z gate to their qubit.\n",
    "\n",
    "After these corrections, Bob's qubit is guaranteed to be the original qubit of Alice $|\\psi\\rangle$."
   ]
  },
  {
   "cell_type": "markdown",
   "id": "57318a20fc7eeb69",
   "metadata": {},
   "source": [
    "## Translation to Perceval"
   ]
  },
  {
   "cell_type": "code",
   "execution_count": 1,
   "id": "4ec2a415e1cb1f04",
   "metadata": {},
   "outputs": [],
   "source": [
    "import numpy as np\n",
    "\n",
    "import perceval as pcvl\n",
    "from perceval import catalog"
   ]
  },
  {
   "cell_type": "markdown",
   "id": "7208ddca25dafd45",
   "metadata": {},
   "source": [
    "### Starting state"
   ]
  },
  {
   "cell_type": "markdown",
   "id": "17b862dbe9a08975",
   "metadata": {},
   "source": [
    "First, we need to create the input state $|\\psi\\rangle \\otimes |\\phi^+\\rangle$ for this algorithm. For demonstration purpose, we choose $\\alpha$ and $\\beta$ randomly."
   ]
  },
  {
   "cell_type": "code",
   "execution_count": 2,
   "id": "initial_id",
   "metadata": {},
   "outputs": [
    {
     "name": "stdout",
     "output_type": "stream",
     "text": [
      "0.72*|1,0>+(-0.386+0.577I)*|0,1>\n"
     ]
    }
   ],
   "source": [
    "# Creation of the qubit to transmit\n",
    "\n",
    "alpha = np.random.random()\n",
    "beta = np.random.random() * np.exp(2 * np.pi * 1j * np.random.random())\n",
    "# alpha |0> + beta |1> in dual rail encoding\n",
    "to_transmit = pcvl.BasicState([1, 0]) * alpha + pcvl.BasicState([0, 1]) * beta\n",
    "to_transmit.normalize()\n",
    "\n",
    "alpha = to_transmit[pcvl.BasicState([1, 0])]  # Normalized\n",
    "beta = to_transmit[pcvl.BasicState([0, 1])]\n",
    "\n",
    "print(to_transmit)"
   ]
  },
  {
   "cell_type": "code",
   "execution_count": 3,
   "id": "b480ea69ffc07543",
   "metadata": {},
   "outputs": [
    {
     "name": "stdout",
     "output_type": "stream",
     "text": [
      "0.707*|1,0,1,0>+0.707*|0,1,0,1>\n"
     ]
    }
   ],
   "source": [
    "# Creation of the quantum channel\n",
    "sg = pcvl.StateGenerator(pcvl.Encoding.DUAL_RAIL)\n",
    "bell_state = sg.bell_state(\"phi+\")\n",
    "print(bell_state)"
   ]
  },
  {
   "cell_type": "code",
   "execution_count": 4,
   "id": "41cbc6dac613658f",
   "metadata": {},
   "outputs": [],
   "source": [
    "input_state = to_transmit * bell_state"
   ]
  },
  {
   "cell_type": "markdown",
   "id": "884bebccd4e671b9",
   "metadata": {},
   "source": [
    "### Tomography"
   ]
  },
  {
   "cell_type": "markdown",
   "id": "6a78aa77d2475c6b",
   "metadata": {},
   "source": [
    "Since we will only return probabilities and not quantum amplitudes, we will not have access to the relative phase between $|0\\rangle$ and $|1\\rangle$. However, we saw in the paragraph that, we need correction to teleport the state. Because we want to see the correctness of the teleportation, we code below a state tomography for 1 qubit to be able to make we have teleported the correct state.\n",
    "\n",
    "Since a qubit is defined up to a global rotation, we consider that $\\alpha$ is a real non-negative number."
   ]
  },
  {
   "cell_type": "code",
   "execution_count": 5,
   "id": "5bcf056c9f390892",
   "metadata": {},
   "outputs": [],
   "source": [
    "# Needed if the number of modes is bigger than 2\n",
    "def squash_results(res: pcvl.BSDistribution, first_mode: int) -> pcvl.BSDistribution:\n",
    "    \"\"\"Sum the output probabilities to keep only the mode of interest and the following\"\"\"\n",
    "    bsd = pcvl.BSDistribution()\n",
    "    for state, prob in res.items():\n",
    "        bsd[state[first_mode:first_mode+2]] += prob\n",
    "\n",
    "    return bsd\n",
    "\n",
    "def tomography(processor: pcvl.Processor, first_mode: int = 0) -> pcvl.StateVector:\n",
    "    # First using identity, we get alpha ** 2 and |beta| ** 2\n",
    "    res = processor.probs()[\"results\"]\n",
    "    res = squash_results(res, first_mode)\n",
    "\n",
    "    alpha = res[pcvl.BasicState([1, 0])] ** .5\n",
    "    if alpha == 0:\n",
    "        return pcvl.StateVector(pcvl.BasicState([0, 1]))\n",
    "\n",
    "    processor = processor.copy()\n",
    "    # We do the same, but we add a H gate at the end for the qubit we are interested in\n",
    "    processor.add(first_mode, pcvl.BS.H())\n",
    "    res = processor.probs()[\"results\"]\n",
    "    res = squash_results(res, first_mode)\n",
    "\n",
    "    p0 = res[pcvl.BasicState([1, 0])]  # 1/2 |alpha + beta| ** 2\n",
    "    p1 = res[pcvl.BasicState([0, 1])]  # 1/2 |alpha - beta| ** 2\n",
    "\n",
    "    # By writing beta = x + i y, we get\n",
    "    x = (p0 - p1) / (2 * alpha)\n",
    "\n",
    "    processor = processor.copy()\n",
    "    # We do the same, but we multiply by i the amplitudes of qubit |1> before applying the H gate\n",
    "    processor.add(first_mode + 1, pcvl.PS(np.pi / 2))\n",
    "    processor.add(first_mode, pcvl.BS.H())\n",
    "    res = processor.probs()[\"results\"]\n",
    "    res = squash_results(res, first_mode)\n",
    "\n",
    "    p0 = res[pcvl.BasicState([1, 0])]  # 1/2 |alpha + i beta| ** 2\n",
    "    p1 = res[pcvl.BasicState([0, 1])]  # 1/2 |alpha - i beta| ** 2\n",
    "\n",
    "    y = (p0 - p1) / (2 * alpha)\n",
    "    beta = x + 1j * y\n",
    "\n",
    "    return alpha * pcvl.BasicState([1, 0]) + beta * pcvl.BasicState([0, 1])"
   ]
  },
  {
   "cell_type": "markdown",
   "id": "44ad7639024e5118",
   "metadata": {},
   "source": [
    "We can now test this algorithm on our original qubit using an identity circuit."
   ]
  },
  {
   "cell_type": "code",
   "execution_count": 6,
   "id": "937d6da2124fc11c",
   "metadata": {},
   "outputs": [
    {
     "data": {
      "text/plain": [
       "0.72*|1,0>+(-0.386+0.577I)*|0,1>"
      ]
     },
     "execution_count": 6,
     "metadata": {},
     "output_type": "execute_result"
    }
   ],
   "source": [
    "p = pcvl.Processor(\"SLOS\", 2)\n",
    "\n",
    "p.min_detected_photons_filter(1)\n",
    "p.with_input(to_transmit)\n",
    "\n",
    "tomography(p)"
   ]
  },
  {
   "cell_type": "markdown",
   "id": "3597044aedd3249c",
   "metadata": {},
   "source": [
    "We get the same state so the tomography process works."
   ]
  },
  {
   "cell_type": "markdown",
   "id": "13cf7a685228ff18",
   "metadata": {},
   "source": [
    "### Circuit"
   ]
  },
  {
   "cell_type": "markdown",
   "id": "f18e201949542957",
   "metadata": {},
   "source": [
    "Now we need to define the circuit on which the operations will take place. Since we need to use quantum gates and feed-forward operations, we need to use a `Processor` object.\n",
    "\n",
    "First, we define the photonic circuit that applies on the qubits. We have 3 qubits hence we need a processor with 6 modes.\n",
    "\n",
    "Since the qubits on which the CNOT is applied will only perform 1-qubit gates *in the quantum circuit*, we can use a postprocessed CNOT instead of a heralded CNOT."
   ]
  },
  {
   "cell_type": "code",
   "execution_count": 7,
   "id": "46c1994bcba8184f",
   "metadata": {},
   "outputs": [],
   "source": [
    "p = pcvl.Processor(\"SLOS\", 6)\n",
    "p.add(0, catalog[\"postprocessed cnot\"].build_processor())\n",
    "p.add(0, pcvl.BS.H());"
   ]
  },
  {
   "cell_type": "markdown",
   "id": "2a6e8e7857d28509",
   "metadata": {},
   "source": [
    "Now we need to add the feed-forwarded components. For this purpose, Perceval uses two configurators that link measures to circuits or processors.\n",
    "\n",
    "Both of them need to be defined by the number of modes they measure, the number of empty modes between the measured modes and the circuit they configure (this is an integer called `offset`), and a default configuration that is used whenever a measure does not befall into one of the cases that were defined when creating the object.\n",
    "\n",
    "The measured modes need to be classical modes. Thus, we need to add detectors before adding the configurators.\n",
    "\n",
    "The X gate corresponds to a permutation for a dual rail encoding if we measure $|1\\rangle$, or an empty circuit if we measure $|0\\rangle$. Thus, we are going to use a `FFCircuitProvider` as it links a measured state to a circuit or a processor."
   ]
  },
  {
   "cell_type": "code",
   "execution_count": 8,
   "id": "84ab63365eb0278f",
   "metadata": {},
   "outputs": [],
   "source": [
    "# 2 measured modes\n",
    "# offset = 0 means that there is 0 empty modes between the measured modes and the circuit\n",
    "# the default circuit is an empty circuit\n",
    "ff_X = pcvl.FFCircuitProvider(2, 0, pcvl.Circuit(2))\n",
    "\n",
    "# Now if we measure a logical state |1>, we need to perform a permutation of the modes\n",
    "ff_X.add_configuration([0, 1], pcvl.PERM([1, 0]))\n",
    "\n",
    "# Add perfect detectors to the modes that will be measured\n",
    "p.add(2, pcvl.Detector.pnr())\n",
    "p.add(3, pcvl.Detector.pnr())\n",
    "p.add(2, ff_X);"
   ]
  },
  {
   "cell_type": "markdown",
   "id": "4ab9a62af4dff3cc",
   "metadata": {},
   "source": [
    "The Z gate corresponds to a $\\pi$ shift on the second mode. Thus, we are going to use a `FFConfigurator` that uses a parametrized circuit and links the measured states to a mapping of values for these parameters."
   ]
  },
  {
   "cell_type": "code",
   "execution_count": 9,
   "id": "34c780e885758455",
   "metadata": {},
   "outputs": [],
   "source": [
    "phi = pcvl.P(\"phi\")\n",
    "# Like Circuits and Processors, we can chain the `add` methods\n",
    "ff_Z = pcvl.FFConfigurator(2, 3, pcvl.PS(phi), {\"phi\": 0}).add_configuration([0, 1], {\"phi\": np.pi})\n",
    "\n",
    "p.add(0, pcvl.Detector.pnr())\n",
    "p.add(1, pcvl.Detector.pnr())\n",
    "p.add(0, ff_Z);"
   ]
  },
  {
   "cell_type": "markdown",
   "id": "88f450e84ce7f9a2",
   "metadata": {},
   "source": [
    "We can check that we defined correctly our processor. Note that using the `recursive=True` flag, we can expose the inner circuit of the `FFConfigurator`."
   ]
  },
  {
   "cell_type": "code",
   "execution_count": 10,
   "id": "cd64eca26d10b8cd",
   "metadata": {},
   "outputs": [
    {
     "data": {
      "image/svg+xml": [
       "<?xml version=\"1.0\" encoding=\"UTF-8\"?>\n",
       "<svg xmlns=\"http://www.w3.org/2000/svg\" xmlns:xlink=\"http://www.w3.org/1999/xlink\"\n",
       "     width=\"1280.625\" height=\"531.25\" viewBox=\"-29.5 0 1024.5 425.0\">\n",
       "<defs>\n",
       "</defs>\n",
       "<path d=\"M10,25.0 L25,25.0\" stroke-width=\"3\" stroke=\"darkred\" stroke-linejoin=\"miter\" fill=\"none\" />\n",
       "<path d=\"M10,75.0 L25,75.0\" stroke-width=\"3\" stroke=\"darkred\" stroke-linejoin=\"miter\" fill=\"none\" />\n",
       "<path d=\"M10,125.0 L25,125.0\" stroke-width=\"3\" stroke=\"darkred\" stroke-linejoin=\"miter\" fill=\"none\" />\n",
       "<path d=\"M10,175.0 L25,175.0\" stroke-width=\"3\" stroke=\"darkred\" stroke-linejoin=\"miter\" fill=\"none\" />\n",
       "<path d=\"M10,225.0 L25,225.0\" stroke-width=\"3\" stroke=\"darkred\" stroke-linejoin=\"miter\" fill=\"none\" />\n",
       "<path d=\"M10,275.0 L25,275.0\" stroke-width=\"3\" stroke=\"darkred\" stroke-linejoin=\"miter\" fill=\"none\" />\n",
       "<path d=\"M28,225 L72,325\" stroke=\"white\" stroke-width=\"6\" fill=\"none\" />\n",
       "<path d=\"M25,225 L28,225 L72,325 L75,325\" stroke=\"darkred\" stroke-width=\"3\" fill=\"none\" />\n",
       "<path d=\"M28,275 L72,375\" stroke=\"white\" stroke-width=\"6\" fill=\"none\" />\n",
       "<path d=\"M25,275 L28,275 L72,375 L75,375\" stroke=\"darkred\" stroke-width=\"3\" fill=\"none\" />\n",
       "<path d=\"M77,2 L573,2 L573,298 L77,298 Z\" stroke=\"black\" fill=\"lightblue\" stroke-dasharray=\"1,2\" stroke-linejoin=\"miter\" />\n",
       "<text x=\"79\" y=\"305\" font-size=\"8\" text-anchor=\"start\">POSTPROCESSED CNOT</text>\n",
       "<path d=\"M25,25.0 L75,25.0\" stroke=\"darkred\" stroke-width=\"3\" fill=\"none\" />\n",
       "<path d=\"M25,75.0 L75,75.0\" stroke=\"darkred\" stroke-width=\"3\" fill=\"none\" />\n",
       "<path d=\"M25,125.0 L75,125.0\" stroke=\"darkred\" stroke-width=\"3\" fill=\"none\" />\n",
       "<path d=\"M25,175.0 L75,175.0\" stroke=\"darkred\" stroke-width=\"3\" fill=\"none\" />\n",
       "<path d=\"M78,25 L122,25\" stroke=\"white\" stroke-width=\"6\" fill=\"none\" />\n",
       "<path d=\"M75,25 L78,25 L122,25 L125,25\" stroke=\"darkred\" stroke-width=\"3\" fill=\"none\" />\n",
       "<path d=\"M78,75 L122,125\" stroke=\"white\" stroke-width=\"6\" fill=\"none\" />\n",
       "<path d=\"M75,75 L78,75 L122,125 L125,125\" stroke=\"darkred\" stroke-width=\"3\" fill=\"none\" />\n",
       "<path d=\"M78,125 L122,175\" stroke=\"white\" stroke-width=\"6\" fill=\"none\" />\n",
       "<path d=\"M75,125 L78,125 L122,175 L125,175\" stroke=\"darkred\" stroke-width=\"3\" fill=\"none\" />\n",
       "<path d=\"M78,175 L122,225\" stroke=\"white\" stroke-width=\"6\" fill=\"none\" />\n",
       "<path d=\"M75,175 L78,175 L122,225 L125,225\" stroke=\"darkred\" stroke-width=\"3\" fill=\"none\" />\n",
       "<path d=\"M125,175 L153,175 L172,194\" stroke=\"darkred\" stroke-width=\"3\" fill=\"none\" />\n",
       "<path d=\"M178,194 L197,175 L225,175\" stroke=\"darkred\" stroke-width=\"3\" fill=\"none\" />\n",
       "<path d=\"M125,225 L153,225 L172,206\" stroke=\"darkred\" stroke-width=\"3\" fill=\"none\" />\n",
       "<path d=\"M178,206 L197,225 L225,225\" stroke=\"darkred\" stroke-width=\"3\" fill=\"none\" />\n",
       "<path d=\"M150,193 L200,193 L200,207 L150,207 Z\" stroke=\"black\" fill=\"black\" stroke-linejoin=\"miter\" />\n",
       "<text x=\"175\" y=\"235\" font-size=\"7\" text-anchor=\"middle\"></text>\n",
       "<text x=\"175\" y=\"176\" font-size=\"7\" text-anchor=\"middle\"></text>\n",
       "<path d=\"M150,193 L200,193 L200,197 L150,197 Z\" stroke=\"black\" fill=\"lightgray\" stroke-linejoin=\"miter\" />\n",
       "<path d=\"M193,200 L203,200 L203,210 L193,210 Z\" stroke=\"black\" fill=\"aquamarine\" stroke-linejoin=\"miter\" />\n",
       "<text x=\"198\" y=\"207\" font-size=\"6\" text-anchor=\"middle\">H</text>\n",
       "<path d=\"M125,125.0 L225,125.0\" stroke=\"darkred\" stroke-width=\"3\" fill=\"none\" />\n",
       "<path d=\"M228,125 L272,175\" stroke=\"white\" stroke-width=\"6\" fill=\"none\" />\n",
       "<path d=\"M225,125 L228,125 L272,175 L275,175\" stroke=\"darkred\" stroke-width=\"3\" fill=\"none\" />\n",
       "<path d=\"M228,175 L272,125\" stroke=\"white\" stroke-width=\"6\" fill=\"none\" />\n",
       "<path d=\"M225,175 L228,175 L272,125 L275,125\" stroke=\"darkred\" stroke-width=\"3\" fill=\"none\" />\n",
       "<path d=\"M125,25.0 L275,25.0\" stroke=\"darkred\" stroke-width=\"3\" fill=\"none\" />\n",
       "<path d=\"M225,225.0 L275,225.0\" stroke=\"darkred\" stroke-width=\"3\" fill=\"none\" />\n",
       "<path d=\"M275,25 L303,25 L322,44\" stroke=\"darkred\" stroke-width=\"3\" fill=\"none\" />\n",
       "<path d=\"M328,44 L347,25 L375,25\" stroke=\"darkred\" stroke-width=\"3\" fill=\"none\" />\n",
       "<path d=\"M275,75 L303,75 L322,56\" stroke=\"darkred\" stroke-width=\"3\" fill=\"none\" />\n",
       "<path d=\"M328,56 L347,75 L375,75\" stroke=\"darkred\" stroke-width=\"3\" fill=\"none\" />\n",
       "<path d=\"M300,43 L350,43 L350,57 L300,57 Z\" stroke=\"black\" fill=\"black\" stroke-linejoin=\"miter\" />\n",
       "<text x=\"325\" y=\"80\" font-size=\"7\" text-anchor=\"middle\"></text>\n",
       "<text x=\"325\" y=\"26\" font-size=\"7\" text-anchor=\"middle\">Θ=1.910633</text>\n",
       "<path d=\"M300,43 L350,43 L350,47 L300,47 Z\" stroke=\"black\" fill=\"lightgray\" stroke-linejoin=\"miter\" />\n",
       "<path d=\"M343,50 L353,50 L353,60 L343,60 Z\" stroke=\"black\" fill=\"aquamarine\" stroke-linejoin=\"miter\" />\n",
       "<text x=\"348\" y=\"57\" font-size=\"6\" text-anchor=\"middle\">H</text>\n",
       "<path d=\"M275,125 L303,125 L322,144\" stroke=\"darkred\" stroke-width=\"3\" fill=\"none\" />\n",
       "<path d=\"M328,144 L347,125 L375,125\" stroke=\"darkred\" stroke-width=\"3\" fill=\"none\" />\n",
       "<path d=\"M275,175 L303,175 L322,156\" stroke=\"darkred\" stroke-width=\"3\" fill=\"none\" />\n",
       "<path d=\"M328,156 L347,175 L375,175\" stroke=\"darkred\" stroke-width=\"3\" fill=\"none\" />\n",
       "<path d=\"M300,143 L350,143 L350,157 L300,157 Z\" stroke=\"black\" fill=\"black\" stroke-linejoin=\"miter\" />\n",
       "<text x=\"325\" y=\"180\" font-size=\"7\" text-anchor=\"middle\"></text>\n",
       "<text x=\"325\" y=\"126\" font-size=\"7\" text-anchor=\"middle\">Θ=1.910633</text>\n",
       "<path d=\"M300,143 L350,143 L350,147 L300,147 Z\" stroke=\"black\" fill=\"lightgray\" stroke-linejoin=\"miter\" />\n",
       "<path d=\"M343,150 L353,150 L353,160 L343,160 Z\" stroke=\"black\" fill=\"aquamarine\" stroke-linejoin=\"miter\" />\n",
       "<text x=\"348\" y=\"157\" font-size=\"6\" text-anchor=\"middle\">H</text>\n",
       "<path d=\"M275,225 L303,225 L322,244\" stroke=\"darkred\" stroke-width=\"3\" fill=\"none\" />\n",
       "<path d=\"M328,244 L347,225 L375,225\" stroke=\"darkred\" stroke-width=\"3\" fill=\"none\" />\n",
       "<path d=\"M275,275 L303,275 L322,256\" stroke=\"darkred\" stroke-width=\"3\" fill=\"none\" />\n",
       "<path d=\"M328,256 L347,275 L375,275\" stroke=\"darkred\" stroke-width=\"3\" fill=\"none\" />\n",
       "<path d=\"M300,243 L350,243 L350,257 L300,257 Z\" stroke=\"black\" fill=\"black\" stroke-linejoin=\"miter\" />\n",
       "<text x=\"325\" y=\"280\" font-size=\"7\" text-anchor=\"middle\"></text>\n",
       "<text x=\"325\" y=\"226\" font-size=\"7\" text-anchor=\"middle\">Θ=1.910633</text>\n",
       "<path d=\"M300,243 L350,243 L350,247 L300,247 Z\" stroke=\"black\" fill=\"lightgray\" stroke-linejoin=\"miter\" />\n",
       "<path d=\"M343,250 L353,250 L353,260 L343,260 Z\" stroke=\"black\" fill=\"aquamarine\" stroke-linejoin=\"miter\" />\n",
       "<text x=\"348\" y=\"257\" font-size=\"6\" text-anchor=\"middle\">H</text>\n",
       "<path d=\"M378,125 L422,175\" stroke=\"white\" stroke-width=\"6\" fill=\"none\" />\n",
       "<path d=\"M375,125 L378,125 L422,175 L425,175\" stroke=\"darkred\" stroke-width=\"3\" fill=\"none\" />\n",
       "<path d=\"M378,175 L422,125\" stroke=\"white\" stroke-width=\"6\" fill=\"none\" />\n",
       "<path d=\"M375,175 L378,175 L422,125 L425,125\" stroke=\"darkred\" stroke-width=\"3\" fill=\"none\" />\n",
       "<path d=\"M375,225.0 L425,225.0\" stroke=\"darkred\" stroke-width=\"3\" fill=\"none\" />\n",
       "<path d=\"M425,175 L453,175 L472,194\" stroke=\"darkred\" stroke-width=\"3\" fill=\"none\" />\n",
       "<path d=\"M478,194 L497,175 L525,175\" stroke=\"darkred\" stroke-width=\"3\" fill=\"none\" />\n",
       "<path d=\"M425,225 L453,225 L472,206\" stroke=\"darkred\" stroke-width=\"3\" fill=\"none\" />\n",
       "<path d=\"M478,206 L497,225 L525,225\" stroke=\"darkred\" stroke-width=\"3\" fill=\"none\" />\n",
       "<path d=\"M450,193 L500,193 L500,207 L450,207 Z\" stroke=\"black\" fill=\"black\" stroke-linejoin=\"miter\" />\n",
       "<text x=\"475\" y=\"235\" font-size=\"7\" text-anchor=\"middle\"></text>\n",
       "<text x=\"475\" y=\"176\" font-size=\"7\" text-anchor=\"middle\"></text>\n",
       "<path d=\"M450,193 L500,193 L500,197 L450,197 Z\" stroke=\"black\" fill=\"lightgray\" stroke-linejoin=\"miter\" />\n",
       "<path d=\"M493,200 L503,200 L503,210 L493,210 Z\" stroke=\"black\" fill=\"aquamarine\" stroke-linejoin=\"miter\" />\n",
       "<text x=\"498\" y=\"207\" font-size=\"6\" text-anchor=\"middle\">H</text>\n",
       "<path d=\"M425,125.0 L525,125.0\" stroke=\"darkred\" stroke-width=\"3\" fill=\"none\" />\n",
       "<path d=\"M528,125 L572,75\" stroke=\"white\" stroke-width=\"6\" fill=\"none\" />\n",
       "<path d=\"M525,125 L528,125 L572,75 L575,75\" stroke=\"darkred\" stroke-width=\"3\" fill=\"none\" />\n",
       "<path d=\"M528,175 L572,125\" stroke=\"white\" stroke-width=\"6\" fill=\"none\" />\n",
       "<path d=\"M525,175 L528,175 L572,125 L575,125\" stroke=\"darkred\" stroke-width=\"3\" fill=\"none\" />\n",
       "<path d=\"M528,225 L572,175\" stroke=\"white\" stroke-width=\"6\" fill=\"none\" />\n",
       "<path d=\"M525,225 L528,225 L572,175 L575,175\" stroke=\"darkred\" stroke-width=\"3\" fill=\"none\" />\n",
       "<path d=\"M375,25.0 L575,25.0\" stroke=\"darkred\" stroke-width=\"3\" fill=\"none\" />\n",
       "<path d=\"M75,325.0 L575,325.0\" stroke=\"darkred\" stroke-width=\"3\" fill=\"none\" />\n",
       "<path d=\"M75,375.0 L575,375.0\" stroke=\"darkred\" stroke-width=\"3\" fill=\"none\" />\n",
       "<path d=\"M578,325 L622,225\" stroke=\"white\" stroke-width=\"6\" fill=\"none\" />\n",
       "<path d=\"M575,325 L578,325 L622,225 L625,225\" stroke=\"darkred\" stroke-width=\"3\" fill=\"none\" />\n",
       "<path d=\"M578,375 L622,275\" stroke=\"white\" stroke-width=\"6\" fill=\"none\" />\n",
       "<path d=\"M575,375 L578,375 L622,275 L625,275\" stroke=\"darkred\" stroke-width=\"3\" fill=\"none\" />\n",
       "<path d=\"M575,25 L603,25 L622,44\" stroke=\"darkred\" stroke-width=\"3\" fill=\"none\" />\n",
       "<path d=\"M628,44 L647,25 L675,25\" stroke=\"darkred\" stroke-width=\"3\" fill=\"none\" />\n",
       "<path d=\"M575,75 L603,75 L622,56\" stroke=\"darkred\" stroke-width=\"3\" fill=\"none\" />\n",
       "<path d=\"M628,56 L647,75 L675,75\" stroke=\"darkred\" stroke-width=\"3\" fill=\"none\" />\n",
       "<path d=\"M600,43 L650,43 L650,57 L600,57 Z\" stroke=\"black\" fill=\"black\" stroke-linejoin=\"miter\" />\n",
       "<text x=\"625\" y=\"85\" font-size=\"7\" text-anchor=\"middle\"></text>\n",
       "<text x=\"625\" y=\"26\" font-size=\"7\" text-anchor=\"middle\"></text>\n",
       "<path d=\"M600,43 L650,43 L650,47 L600,47 Z\" stroke=\"black\" fill=\"lightgray\" stroke-linejoin=\"miter\" />\n",
       "<path d=\"M643,50 L653,50 L653,60 L643,60 Z\" stroke=\"black\" fill=\"aquamarine\" stroke-linejoin=\"miter\" />\n",
       "<text x=\"648\" y=\"57\" font-size=\"6\" text-anchor=\"middle\">H</text>\n",
       "<path d=\"M575,125.0 L675,125.0\" stroke=\"darkred\" stroke-width=\"3\" fill=\"none\" />\n",
       "<path d=\"M575,175.0 L675,175.0\" stroke=\"darkred\" stroke-width=\"3\" fill=\"none\" />\n",
       "<path d=\"M625,225.0 L675,225.0\" stroke=\"darkred\" stroke-width=\"3\" fill=\"none\" />\n",
       "<path d=\"M625,275.0 L675,275.0\" stroke=\"darkred\" stroke-width=\"3\" fill=\"none\" />\n",
       "<path d=\"M675,25 L725,25\" stroke-width=\"3\" stroke=\"darkred\" stroke-linejoin=\"miter\" fill=\"none\" />\n",
       "<path d=\"M675,75 L725,75\" stroke-width=\"3\" stroke=\"darkred\" stroke-linejoin=\"miter\" fill=\"none\" />\n",
       "<path d=\"M699,10 L701,10 L701,90 L699,90 Z\" stroke=\"dimgrey\" fill=\"dimgrey\" stroke-linejoin=\"miter\" />\n",
       "<path d=\"M675,125 L700,125\" stroke-width=\"3\" stroke=\"darkred\" stroke-linejoin=\"miter\" fill=\"none\" />\n",
       "<path d=\"M700,125 L725,125\" stroke-width=\"3\" stroke=\"orange\" stroke-linejoin=\"miter\" fill=\"none\" />\n",
       "<path d=\"M695,135 L687,135 L687,115 L695,115 C695,115,705,115,705,125 C705,135,695,135,695,135 L695,135\" stroke-width=\"1\" stroke=\"black\" stroke-linejoin=\"miter\" fill=\"lightgray\" />\n",
       "<text x=\"687\" y=\"112\" font-size=\"5\" text-anchor=\"start\" font-style=\"italic\">PNR</text>\n",
       "<path d=\"M675,175 L700,175\" stroke-width=\"3\" stroke=\"darkred\" stroke-linejoin=\"miter\" fill=\"none\" />\n",
       "<path d=\"M700,175 L725,175\" stroke-width=\"3\" stroke=\"orange\" stroke-linejoin=\"miter\" fill=\"none\" />\n",
       "<path d=\"M695,185 L687,185 L687,165 L695,165 C695,165,705,165,705,175 C705,185,695,185,695,185 L695,185\" stroke-width=\"1\" stroke=\"black\" stroke-linejoin=\"miter\" fill=\"lightgray\" />\n",
       "<text x=\"687\" y=\"162\" font-size=\"5\" text-anchor=\"start\" font-style=\"italic\">PNR</text>\n",
       "<path d=\"M675,225 L725,225\" stroke-width=\"3\" stroke=\"darkred\" stroke-linejoin=\"miter\" fill=\"none\" />\n",
       "<path d=\"M675,275 L725,275\" stroke-width=\"3\" stroke=\"darkred\" stroke-linejoin=\"miter\" fill=\"none\" />\n",
       "<path d=\"M699,210 L701,210 L701,290 L699,290 Z\" stroke=\"dimgrey\" fill=\"dimgrey\" stroke-linejoin=\"miter\" />\n",
       "<path d=\"M725,125 L825,125\" stroke-width=\"3\" stroke=\"orange\" stroke-linejoin=\"miter\" fill=\"none\" />\n",
       "<path d=\"M725,175 L825,175\" stroke-width=\"3\" stroke=\"orange\" stroke-linejoin=\"miter\" fill=\"none\" />\n",
       "<path d=\"M775,190.0 L775,205.0\" stroke=\"white\" stroke-width=\"5\" fill=\"none\" />\n",
       "<path d=\"M775,190.0 L775,205.0\" stroke=\"orange\" stroke-width=\"3\" fill=\"none\" stroke-dasharray=\"4,4\" />\n",
       "<path d=\"M775,198.0 L772,195.0\" stroke=\"orange\" stroke-width=\"3\" fill=\"none\" />\n",
       "<path d=\"M775,198.0 L778,195.0\" stroke=\"orange\" stroke-width=\"3\" fill=\"none\" />\n",
       "<path d=\"M730,110 L820,110 L820,190 L730,190 Z\" stroke=\"black\" fill=\"lightgreen\" stroke-linejoin=\"miter\" />\n",
       "<text x=\"775\" y=\"155.0\" font-size=\"10\" text-anchor=\"middle\">FFC</text>\n",
       "<path d=\"M725,225 L825,225\" stroke-width=\"3\" stroke=\"darkred\" stroke-linejoin=\"miter\" fill=\"none\" />\n",
       "<path d=\"M725,275 L825,275\" stroke-width=\"3\" stroke=\"darkred\" stroke-linejoin=\"miter\" fill=\"none\" />\n",
       "<path d=\"M730,205 L820,205 L820,295 L730,295 Z\" stroke=\"black\" fill=\"lightyellow\" stroke-linejoin=\"miter\" />\n",
       "<text x=\"775\" y=\"250\" font-size=\"10\" text-anchor=\"middle\">U(FFC)</text>\n",
       "<path d=\"M725,25.0 L825,25.0\" stroke=\"darkred\" stroke-width=\"3\" fill=\"none\" />\n",
       "<path d=\"M725,75.0 L825,75.0\" stroke=\"darkred\" stroke-width=\"3\" fill=\"none\" />\n",
       "<path d=\"M825,25 L850,25\" stroke-width=\"3\" stroke=\"darkred\" stroke-linejoin=\"miter\" fill=\"none\" />\n",
       "<path d=\"M850,25 L875,25\" stroke-width=\"3\" stroke=\"orange\" stroke-linejoin=\"miter\" fill=\"none\" />\n",
       "<path d=\"M845,35 L837,35 L837,15 L845,15 C845,15,855,15,855,25 C855,35,845,35,845,35 L845,35\" stroke-width=\"1\" stroke=\"black\" stroke-linejoin=\"miter\" fill=\"lightgray\" />\n",
       "<text x=\"837\" y=\"12\" font-size=\"5\" text-anchor=\"start\" font-style=\"italic\">PNR</text>\n",
       "<path d=\"M825,75 L850,75\" stroke-width=\"3\" stroke=\"darkred\" stroke-linejoin=\"miter\" fill=\"none\" />\n",
       "<path d=\"M850,75 L875,75\" stroke-width=\"3\" stroke=\"orange\" stroke-linejoin=\"miter\" fill=\"none\" />\n",
       "<path d=\"M845,85 L837,85 L837,65 L845,65 C845,65,855,65,855,75 C855,85,845,85,845,85 L845,85\" stroke-width=\"1\" stroke=\"black\" stroke-linejoin=\"miter\" fill=\"lightgray\" />\n",
       "<text x=\"837\" y=\"62\" font-size=\"5\" text-anchor=\"start\" font-style=\"italic\">PNR</text>\n",
       "<path d=\"M825,125 L875,125\" stroke-width=\"3\" stroke=\"orange\" stroke-linejoin=\"miter\" fill=\"none\" />\n",
       "<path d=\"M825,175 L875,175\" stroke-width=\"3\" stroke=\"orange\" stroke-linejoin=\"miter\" fill=\"none\" />\n",
       "<path d=\"M825,225 L875,225\" stroke-width=\"3\" stroke=\"darkred\" stroke-linejoin=\"miter\" fill=\"none\" />\n",
       "<path d=\"M825,275 L875,275\" stroke-width=\"3\" stroke=\"darkred\" stroke-linejoin=\"miter\" fill=\"none\" />\n",
       "<path d=\"M849,110 L851,110 L851,290 L849,290 Z\" stroke=\"dimgrey\" fill=\"dimgrey\" stroke-linejoin=\"miter\" />\n",
       "<path d=\"M875,25 L925,25\" stroke-width=\"3\" stroke=\"orange\" stroke-linejoin=\"miter\" fill=\"none\" />\n",
       "<path d=\"M875,75 L925,75\" stroke-width=\"3\" stroke=\"orange\" stroke-linejoin=\"miter\" fill=\"none\" />\n",
       "<path d=\"M900,90.0 L900,255.0\" stroke=\"white\" stroke-width=\"5\" fill=\"none\" />\n",
       "<path d=\"M900,90.0 L900,255.0\" stroke=\"orange\" stroke-width=\"3\" fill=\"none\" stroke-dasharray=\"4,4\" />\n",
       "<path d=\"M900,98.0 L897,95.0\" stroke=\"orange\" stroke-width=\"3\" fill=\"none\" />\n",
       "<path d=\"M900,98.0 L903,95.0\" stroke=\"orange\" stroke-width=\"3\" fill=\"none\" />\n",
       "<path d=\"M880,10 L920,10 L920,90 L880,90 Z\" stroke=\"black\" fill=\"lightgreen\" stroke-linejoin=\"miter\" />\n",
       "<text x=\"900\" y=\"55.0\" font-size=\"10\" text-anchor=\"middle\">FFC</text>\n",
       "<path d=\"M875,275 L925,275\" stroke=\"darkred\" stroke-width=\"3\" fill=\"none\" />\n",
       "<path d=\"M880,290 L889,290 L903,260 L894,260 L880,290 L889,290 Z\" stroke=\"black\" fill=\"gray\" stroke-linejoin=\"miter\" />\n",
       "<text x=\"897\" y=\"288\" font-size=\"7\" text-anchor=\"start\">Φ=phi</text>\n",
       "<path d=\"M875,125.0 L925,125.0\" stroke=\"orange\" stroke-width=\"3\" fill=\"none\" />\n",
       "<path d=\"M875,175.0 L925,175.0\" stroke=\"orange\" stroke-width=\"3\" fill=\"none\" />\n",
       "<path d=\"M875,225.0 L925,225.0\" stroke=\"darkred\" stroke-width=\"3\" fill=\"none\" />\n",
       "<path d=\"M925,25.0 L940,25.0\" stroke-width=\"3\" stroke=\"orange\" stroke-linejoin=\"miter\" fill=\"none\" />\n",
       "<path d=\"M925,75.0 L940,75.0\" stroke-width=\"3\" stroke=\"orange\" stroke-linejoin=\"miter\" fill=\"none\" />\n",
       "<path d=\"M925,125.0 L940,125.0\" stroke-width=\"3\" stroke=\"orange\" stroke-linejoin=\"miter\" fill=\"none\" />\n",
       "<path d=\"M925,175.0 L940,175.0\" stroke-width=\"3\" stroke=\"orange\" stroke-linejoin=\"miter\" fill=\"none\" />\n",
       "<path d=\"M925,225.0 L940,225.0\" stroke-width=\"3\" stroke=\"darkred\" stroke-linejoin=\"miter\" fill=\"none\" />\n",
       "<path d=\"M925,275.0 L940,275.0\" stroke-width=\"3\" stroke=\"darkred\" stroke-linejoin=\"miter\" fill=\"none\" />\n",
       "<path d=\"M257,75 C257,75,257,65,267,65 L275,65 L275,85 L267,85 C257,85,257,75,257,75 L257,75\" stroke-width=\"1\" stroke=\"black\" stroke-linejoin=\"miter\" fill=\"white\" />\n",
       "<text x=\"263\" y=\"91\" font-size=\"6\" text-anchor=\"middle\" font-style=\"italic\">[herald0]</text>\n",
       "<text x=\"267\" y=\"78\" font-size=\"7\" text-anchor=\"middle\">0</text>\n",
       "<path d=\"M257,275 C257,275,257,265,267,265 L275,265 L275,285 L267,285 C257,285,257,275,257,275 L257,275\" stroke-width=\"1\" stroke=\"black\" stroke-linejoin=\"miter\" fill=\"white\" />\n",
       "<text x=\"263\" y=\"291\" font-size=\"6\" text-anchor=\"middle\" font-style=\"italic\">[herald1]</text>\n",
       "<text x=\"267\" y=\"278\" font-size=\"7\" text-anchor=\"middle\">0</text>\n",
       "<path d=\"M940,15 L952,15 L952,85 L940,85 Z\" stroke=\"black\" fill=\"lightgray\" stroke-linejoin=\"miter\" />\n",
       "<text x=\"952\" y=\"91\" font-size=\"6\" text-anchor=\"end\" font-style=\"italic\">[ctrl]</text>\n",
       "<path d=\"M940,115 L952,115 L952,185 L940,185 Z\" stroke=\"black\" fill=\"lightgray\" stroke-linejoin=\"miter\" />\n",
       "<text x=\"952\" y=\"191\" font-size=\"6\" text-anchor=\"end\" font-style=\"italic\">[data]</text>\n",
       "<path d=\"M383,85 L375,85 L375,65 L383,65 C383,65,393,65,393,75 C393,85,383,85,383,85 L383,85\" stroke-width=\"1\" stroke=\"black\" stroke-linejoin=\"miter\" fill=\"white\" />\n",
       "<text x=\"388\" y=\"61\" font-size=\"6\" text-anchor=\"middle\" font-style=\"italic\">[herald0]</text>\n",
       "<text x=\"383\" y=\"78\" font-size=\"7\" text-anchor=\"middle\">0</text>\n",
       "<path d=\"M383,285 L375,285 L375,265 L383,265 C383,265,393,265,393,275 C393,285,383,285,383,285 L383,285\" stroke-width=\"1\" stroke=\"black\" stroke-linejoin=\"miter\" fill=\"white\" />\n",
       "<text x=\"388\" y=\"261\" font-size=\"6\" text-anchor=\"middle\" font-style=\"italic\">[herald1]</text>\n",
       "<text x=\"383\" y=\"278\" font-size=\"7\" text-anchor=\"middle\">0</text>\n",
       "<text x=\"950\" y=\"28.0\" font-size=\"9\" text-anchor=\"end\">0</text>\n",
       "<text x=\"950\" y=\"78.0\" font-size=\"9\" text-anchor=\"end\">1</text>\n",
       "<text x=\"950\" y=\"128.0\" font-size=\"9\" text-anchor=\"end\">2</text>\n",
       "<text x=\"950\" y=\"178.0\" font-size=\"9\" text-anchor=\"end\">3</text>\n",
       "<text x=\"950\" y=\"228.0\" font-size=\"9\" text-anchor=\"end\">4</text>\n",
       "<text x=\"950\" y=\"278.0\" font-size=\"9\" text-anchor=\"end\">5</text>\n",
       "<text x=\"0\" y=\"28.0\" font-size=\"9\" text-anchor=\"start\">0</text>\n",
       "<text x=\"0\" y=\"78.0\" font-size=\"9\" text-anchor=\"start\">1</text>\n",
       "<text x=\"0\" y=\"128.0\" font-size=\"9\" text-anchor=\"start\">2</text>\n",
       "<text x=\"0\" y=\"178.0\" font-size=\"9\" text-anchor=\"start\">3</text>\n",
       "<text x=\"0\" y=\"228.0\" font-size=\"9\" text-anchor=\"start\">4</text>\n",
       "<text x=\"0\" y=\"278.0\" font-size=\"9\" text-anchor=\"start\">5</text>\n",
       "</svg>"
      ],
      "text/plain": [
       "<drawsvg.drawing.Drawing at 0x2dd82f59760>"
      ]
     },
     "execution_count": 10,
     "metadata": {},
     "output_type": "execute_result"
    }
   ],
   "source": [
    "pcvl.pdisplay(p, recursive=True)"
   ]
  },
  {
   "cell_type": "markdown",
   "id": "be92f0ddd80ad218",
   "metadata": {},
   "source": [
    "### Simulation"
   ]
  },
  {
   "cell_type": "markdown",
   "id": "5324d67209a5f0ed",
   "metadata": {},
   "source": [
    "Now that we have both the input state and the processor, we can run the algorithm and check that it works."
   ]
  },
  {
   "cell_type": "code",
   "execution_count": 11,
   "id": "a438b878ced2cfe8",
   "metadata": {},
   "outputs": [
    {
     "name": "stdout",
     "output_type": "stream",
     "text": [
      "{'results': BSDistribution(<class 'float'>, {|0,1,1,0,0,1>: 0.12051205396201539, |0,1,1,0,1,0>: 0.12948794603798414, |1,0,0,1,1,0>: 0.12948794603798439, |1,0,0,1,0,1>: 0.12051205396201563, |1,0,1,0,0,1>: 0.12051205396201599, |1,0,1,0,1,0>: 0.12948794603798477, |0,1,0,1,1,0>: 0.12948794603798425, |0,1,0,1,0,1>: 0.1205120539620155}), 'global_perf': 0.11111111111111047}\n"
     ]
    }
   ],
   "source": [
    "p.min_detected_photons_filter(3)\n",
    "\n",
    "# Since we use a \"custom\" (understand not a BasicState) input state,\n",
    "# we have to add the heralds from the post-processed cnot manually\n",
    "input_state *= pcvl.BasicState([0, 0])\n",
    "\n",
    "p.with_input(input_state)\n",
    "\n",
    "res = p.probs()\n",
    "print(res)"
   ]
  },
  {
   "cell_type": "markdown",
   "id": "78778a2ac0806cd1",
   "metadata": {},
   "source": [
    "Notice that when using feed-forward, the performance indicators are replaced by a single indicator \"global_perf\", which represents the probability that an output state checks all requirements. In our case, this corresponds to the CNOT gate performance: $1 / 9 \\approx 0.111$.\n",
    "\n",
    "For the results, we don't need to know what was measured by Alice, so we need to squash the resulting probabilities to keep only the two last modes."
   ]
  },
  {
   "cell_type": "code",
   "execution_count": 12,
   "id": "3e6a8afe9b080f15",
   "metadata": {},
   "outputs": [
    {
     "name": "stdout",
     "output_type": "stream",
     "text": [
      "{\n",
      "  |0,1>: 0.48204821584806246\n",
      "  |1,0>: 0.5179517841519374\n",
      "}\n"
     ]
    }
   ],
   "source": [
    "print(squash_results(res[\"results\"], 4))"
   ]
  },
  {
   "cell_type": "markdown",
   "id": "e656019381c106b2",
   "metadata": {},
   "source": [
    "We can now apply our tomography process to check that Bob's qubit is now the initial qubit that Alice wanted to transmit."
   ]
  },
  {
   "cell_type": "code",
   "execution_count": 13,
   "id": "beea8ac653d00512",
   "metadata": {},
   "outputs": [
    {
     "name": "stdout",
     "output_type": "stream",
     "text": [
      "0.72*|1,0>+(-0.386+0.577I)*|0,1>\n"
     ]
    }
   ],
   "source": [
    "print(tomography(p, 4))"
   ]
  },
  {
   "cell_type": "markdown",
   "id": "6ca68df83bec38d0",
   "metadata": {},
   "source": [
    "Tadaaaa! We get the state that we wanted to transmit. Pretty to cool to teleport state in photonics right?"
   ]
  },
  {
   "cell_type": "markdown",
   "id": "71027fa0c349b9d1",
   "metadata": {},
   "source": [
    "## References\n",
    "\n",
    "> [1] C. H. Bennett, G. Brassard, C. Crépeau, R. Jozsa, A. Peres and W. K. Wootters, “Teleporting an unknown quantum state via dual classical and Einstein-Podolsky-Rosen channels”, [Phys. Rev. Lett.](https://journals.aps.org/prl/abstract/10.1103/PhysRevLett.70.1895) **70**, 1895 (1993)."
   ]
  }
 ],
 "metadata": {
  "language_info": {
   "name": "python"
  }
 },
 "nbformat": 4,
 "nbformat_minor": 5
}
