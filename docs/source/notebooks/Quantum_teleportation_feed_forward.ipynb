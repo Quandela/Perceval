{
 "cells": [
  {
   "cell_type": "markdown",
   "id": "7d428b7117a2a2fe",
   "metadata": {},
   "source": [
    "# Quantum teleportation using feed-forward"
   ]
  },
  {
   "cell_type": "markdown",
   "id": "61dad5341013c224",
   "metadata": {},
   "source": [
    "The goal of this notebook is to use perceval's feed-forward ability to demonstrate the quantum teleportation algorithm \\[1\\] on a photonic simulated circuit using dual rail encoding."
   ]
  },
  {
   "cell_type": "markdown",
   "id": "1916284b04197f03",
   "metadata": {},
   "source": [
    "## I. Definition of the problem"
   ]
  },
  {
   "cell_type": "markdown",
   "id": "60118172",
   "metadata": {},
   "source": [
    "The idea of the protocol is the following:\n",
    "\n",
    "Say that Alice has a generic qubit of the form\n",
    "\n",
    "$$|\\psi\\rangle = \\alpha |0\\rangle + \\beta |1\\rangle \\;$$\n",
    "\n",
    "that they want to send to a distant receiver called Bob. Since Bob is distant, we want to avoid transporting physical systems from Alice to Bob (only classical light will do).\n",
    "\n",
    "Before the start of the algorithm, Alice and Bob need to share a maximally entangled Bell state. For this example, we choose\n",
    "\n",
    "$$|\\phi^+\\rangle = \\frac{1}{\\sqrt{2}} (|0_A 0_B\\rangle + |1_A 1_B\\rangle) \\;$$\n",
    "\n",
    "The first qubit is accessible to Alice and the second to Bob. We now drop the subscript $A$ and $B$ for clarity. \n",
    "\n",
    "The composite system is then\n",
    "\n",
    "$$|\\psi\\rangle \\otimes |\\phi^+\\rangle = (\\alpha |0\\rangle + \\beta |1\\rangle) \\otimes \\frac{1}{\\sqrt{2}} (|00\\rangle + |11\\rangle)$$\n",
    "\n",
    "The algorithm is the following:\n",
    "\n",
    "Alice performs a CNOT using the first qubit as control and the second as target, then applies a Hadamard gate to the first qubit.\n",
    "\n",
    "![quantum_teleportation_circuit](../_static/img/quantum_teleportation_circuit.jpg)\n",
    "\n",
    "At the end, the composite system can be written as\n",
    "\n",
    "\\begin{align}\n",
    "& \\frac{1}{2}|00\\rangle \\otimes (\\alpha |0\\rangle + \\beta |1\\rangle) \\\\\n",
    "+& \\frac{1}{2}|01\\rangle \\otimes (\\beta |0\\rangle + \\alpha |1\\rangle) \\\\\n",
    "+& \\frac{1}{2}|10\\rangle \\otimes (\\alpha |0\\rangle - \\beta |1\\rangle) \\\\\n",
    "+& \\frac{1}{2}|11\\rangle \\otimes (- \\beta |0\\rangle + \\alpha |1\\rangle)\n",
    "\\end{align}\n",
    "\n",
    "Then Alice measures their two qubits and send the results to Bob using a classical channel.\n",
    "Firstly, if the second qubit is measured to be 1, Bob needs to apply a X gate to their qubit.\n",
    "Then, if the first qubit is measured to be 1, Bob needs to apply a Z gate to their qubit.\n",
    "\n",
    "After these corrections, Bob's qubit is guaranteed to be the original qubit of Alice $|\\psi\\rangle$."
   ]
  },
  {
   "cell_type": "markdown",
   "id": "57318a20fc7eeb69",
   "metadata": {},
   "source": [
    "## II. Translation to Perceval"
   ]
  },
  {
   "cell_type": "code",
   "execution_count": 1,
   "id": "4ec2a415e1cb1f04",
   "metadata": {},
   "outputs": [],
   "source": [
    "import numpy as np\n",
    "\n",
    "import perceval as pcvl\n",
    "from perceval import catalog"
   ]
  },
  {
   "cell_type": "markdown",
   "id": "7208ddca25dafd45",
   "metadata": {},
   "source": [
    "### Starting state"
   ]
  },
  {
   "cell_type": "markdown",
   "id": "17b862dbe9a08975",
   "metadata": {},
   "source": [
    "First, we need to create the input state $|\\psi\\rangle \\otimes |\\phi^+\\rangle$ for this algorithm. For demonstration purpose, we choose $\\alpha$ and $\\beta$ randomly."
   ]
  },
  {
   "cell_type": "code",
   "execution_count": 2,
   "id": "initial_id",
   "metadata": {},
   "outputs": [
    {
     "name": "stdout",
     "output_type": "stream",
     "text": [
      "0.974*|1,0>+(-0.087+0.207I)*|0,1>\n"
     ]
    }
   ],
   "source": [
    "# Creation of the qubit to transmit\n",
    "alpha = np.random.random()\n",
    "beta = np.random.random() * np.exp(2 * np.pi * 1j * np.random.random())\n",
    "# alpha |0> + beta |1> in dual rail encoding\n",
    "to_transmit = pcvl.BasicState([1, 0]) * alpha + pcvl.BasicState([0, 1]) * beta\n",
    "to_transmit.normalize()\n",
    "\n",
    "alpha = to_transmit[pcvl.BasicState([1, 0])]  # Normalized\n",
    "beta = to_transmit[pcvl.BasicState([0, 1])]\n",
    "\n",
    "print(to_transmit)"
   ]
  },
  {
   "cell_type": "code",
   "execution_count": 3,
   "id": "b480ea69ffc07543",
   "metadata": {},
   "outputs": [
    {
     "name": "stdout",
     "output_type": "stream",
     "text": [
      "0.707*|1,0,1,0>+0.707*|0,1,0,1>\n"
     ]
    }
   ],
   "source": [
    "# Creation of the quantum channel\n",
    "sg = pcvl.StateGenerator(pcvl.Encoding.DUAL_RAIL)\n",
    "bell_state = sg.bell_state(\"phi+\")\n",
    "print(bell_state)"
   ]
  },
  {
   "cell_type": "code",
   "execution_count": 4,
   "id": "41cbc6dac613658f",
   "metadata": {},
   "outputs": [],
   "source": [
    "input_state = to_transmit * bell_state"
   ]
  },
  {
   "cell_type": "markdown",
   "id": "884bebccd4e671b9",
   "metadata": {},
   "source": [
    "### Tomography"
   ]
  },
  {
   "cell_type": "markdown",
   "id": "6a78aa77d2475c6b",
   "metadata": {},
   "source": [
    "Since we will only return probabilities and not quantum amplitudes, we will not have access to the relative phase between $|0\\rangle$ and $|1\\rangle$. However, we saw in the paragraph that, we need correction to teleport the state. Because we want to see the correctness of the teleportation, we code below a state tomography for 1 qubit to be able to make we have teleported the correct state.\n",
    "\n",
    "Since a qubit is defined up to a global rotation, we consider that $\\alpha$ is a real non-negative number."
   ]
  },
  {
   "cell_type": "code",
   "execution_count": 5,
   "id": "5bcf056c9f390892",
   "metadata": {},
   "outputs": [],
   "source": [
    "# Needed if the number of modes is bigger than 2\n",
    "def squash_results(res: pcvl.BSDistribution, first_mode: int) -> pcvl.BSDistribution:\n",
    "    \"\"\"Sum the output probabilities to keep only the mode of interest and the following\"\"\"\n",
    "    bsd = pcvl.BSDistribution()\n",
    "    for state, prob in res.items():\n",
    "        bsd[state[first_mode:first_mode+2]] += prob\n",
    "\n",
    "    return bsd\n",
    "\n",
    "def tomography(processor: pcvl.Processor, first_mode: int = 0) -> pcvl.StateVector:\n",
    "    # First using identity, we get alpha ** 2 and |beta| ** 2\n",
    "    res = processor.probs()[\"results\"]\n",
    "    res = squash_results(res, first_mode)\n",
    "\n",
    "    alpha = res[pcvl.BasicState([1, 0])] ** .5\n",
    "    if alpha == 0:\n",
    "        return pcvl.StateVector(pcvl.BasicState([0, 1]))\n",
    "\n",
    "    processor = processor.copy()\n",
    "    # We do the same, but we add a H gate at the end for the qubit we are interested in\n",
    "    processor.add(first_mode, pcvl.BS.H())\n",
    "    res = processor.probs()[\"results\"]\n",
    "    res = squash_results(res, first_mode)\n",
    "\n",
    "    p0 = res[pcvl.BasicState([1, 0])]  # 1/2 |alpha + beta| ** 2\n",
    "    p1 = res[pcvl.BasicState([0, 1])]  # 1/2 |alpha - beta| ** 2\n",
    "\n",
    "    # By writing beta = x + i y, we get\n",
    "    x = (p0 - p1) / (2 * alpha)\n",
    "\n",
    "    processor = processor.copy()\n",
    "    # We do the same, but we multiply by i the amplitudes of qubit |1> before applying the H gate\n",
    "    processor.add(first_mode + 1, pcvl.PS(np.pi / 2))\n",
    "    processor.add(first_mode, pcvl.BS.H())\n",
    "    res = processor.probs()[\"results\"]\n",
    "    res = squash_results(res, first_mode)\n",
    "\n",
    "    p0 = res[pcvl.BasicState([1, 0])]  # 1/2 |alpha + i beta| ** 2\n",
    "    p1 = res[pcvl.BasicState([0, 1])]  # 1/2 |alpha - i beta| ** 2\n",
    "\n",
    "    y = (p0 - p1) / (2 * alpha)\n",
    "    beta = x + 1j * y\n",
    "\n",
    "    return alpha * pcvl.BasicState([1, 0]) + beta * pcvl.BasicState([0, 1])"
   ]
  },
  {
   "cell_type": "markdown",
   "id": "44ad7639024e5118",
   "metadata": {},
   "source": [
    "We can now test this algorithm on our original qubit using an identity circuit."
   ]
  },
  {
   "cell_type": "code",
   "execution_count": 6,
   "id": "937d6da2124fc11c",
   "metadata": {},
   "outputs": [
    {
     "data": {
      "text/plain": [
       "0.974*|1,0>+(-0.087+0.207I)*|0,1>"
      ]
     },
     "execution_count": 6,
     "metadata": {},
     "output_type": "execute_result"
    }
   ],
   "source": [
    "p = pcvl.Processor(\"SLOS\", 2)\n",
    "\n",
    "p.min_detected_photons_filter(1)\n",
    "p.with_input(to_transmit)\n",
    "\n",
    "tomography(p)"
   ]
  },
  {
   "cell_type": "markdown",
   "id": "3597044aedd3249c",
   "metadata": {},
   "source": [
    "We get the same state so the tomography process works."
   ]
  },
  {
   "cell_type": "markdown",
   "id": "13cf7a685228ff18",
   "metadata": {},
   "source": [
    "### Circuit"
   ]
  },
  {
   "cell_type": "markdown",
   "id": "f18e201949542957",
   "metadata": {},
   "source": [
    "Now we need to define the circuit on which the operations will take place. Since we need to use quantum gates and feed-forward operations, we need to use a `Processor` object.\n",
    "\n",
    "First, we define the photonic circuit that applies on the qubits. We have 3 qubits hence we need a processor with 6 modes.\n",
    "\n",
    "Since the qubits on which the CNOT is applied will only perform 1-qubit gates *in the quantum circuit*, we can use a postprocessed CNOT instead of a heralded CNOT."
   ]
  },
  {
   "cell_type": "code",
   "execution_count": 7,
   "id": "46c1994bcba8184f",
   "metadata": {},
   "outputs": [],
   "source": [
    "p = pcvl.Processor(\"SLOS\", 6)\n",
    "p.add(0, catalog[\"postprocessed cnot\"].build_processor())\n",
    "p.add(0, pcvl.BS.H());"
   ]
  },
  {
   "cell_type": "markdown",
   "id": "2a6e8e7857d28509",
   "metadata": {},
   "source": [
    "Now we need to add the feed-forwarded components. For this purpose, Perceval uses two configurators that link measures to circuits or processors.\n",
    "\n",
    "Both of them need to be defined by the number of modes they measure, the number of empty modes between the measured modes and the circuit they configure (this is an integer called `offset`), and a default configuration that is used whenever a measure does not befall into one of the cases that were defined when creating the object.\n",
    "\n",
    "The measured modes need to be classical modes. Thus, we need to add detectors before adding the configurators.\n",
    "\n",
    "The X gate corresponds to a permutation for a dual rail encoding if we measure $|1\\rangle$, or an empty circuit if we measure $|0\\rangle$. Thus, we are going to use a `FFCircuitProvider` as it links a measured state to a circuit or a processor."
   ]
  },
  {
   "cell_type": "code",
   "execution_count": 8,
   "id": "84ab63365eb0278f",
   "metadata": {},
   "outputs": [],
   "source": [
    "# 2 measured modes\n",
    "# offset = 0 means that there is 0 empty modes between the measured modes and the circuit\n",
    "# the default circuit is an empty circuit\n",
    "ff_X = pcvl.FFCircuitProvider(2, 0, pcvl.Circuit(2))\n",
    "\n",
    "# Now if we measure a logical state |1>, we need to perform a permutation of the modes\n",
    "ff_X.add_configuration([0, 1], pcvl.PERM([1, 0]))\n",
    "\n",
    "# Add perfect detectors to the modes that will be measured\n",
    "p.add(2, pcvl.Detector.pnr())\n",
    "p.add(3, pcvl.Detector.pnr())\n",
    "p.add(2, ff_X);"
   ]
  },
  {
   "cell_type": "markdown",
   "id": "4ab9a62af4dff3cc",
   "metadata": {},
   "source": [
    "The Z gate corresponds to a $\\pi$ shift on the second mode. Thus, we are going to use a `FFConfigurator` that uses a parametrized circuit and links the measured states to a mapping of values for these parameters."
   ]
  },
  {
   "cell_type": "code",
   "execution_count": 9,
   "id": "34c780e885758455",
   "metadata": {},
   "outputs": [],
   "source": [
    "phi = pcvl.P(\"phi\")\n",
    "# Like Circuits and Processors, we can chain the `add` methods\n",
    "ff_Z = pcvl.FFConfigurator(2, 3, pcvl.PS(phi), {\"phi\": 0}).add_configuration([0, 1], {\"phi\": np.pi})\n",
    "\n",
    "p.add(0, pcvl.Detector.pnr())\n",
    "p.add(1, pcvl.Detector.pnr())\n",
    "p.add(0, ff_Z);"
   ]
  },
  {
   "cell_type": "markdown",
   "id": "88f450e84ce7f9a2",
   "metadata": {},
   "source": [
    "We can check that we defined correctly our processor. Note that using the `recursive=True` flag, we can expose the inner circuit of the `FFConfigurator`."
   ]
  },
  {
   "cell_type": "code",
   "execution_count": 10,
   "id": "cd64eca26d10b8cd",
   "metadata": {},
   "outputs": [
    {
     "data": {
      "image/svg+xml": [
       "<?xml version=\"1.0\" encoding=\"UTF-8\"?>\n",
       "<svg xmlns=\"http://www.w3.org/2000/svg\" xmlns:xlink=\"http://www.w3.org/1999/xlink\"\n",
       "     width=\"1050.0\" height=\"531.25\" viewBox=\"-45.0 0 840.0 425.0\">\n",
       "<defs>\n",
       "</defs>\n",
       "<path d=\"M10,25.0 L25,25.0\" stroke-width=\"3\" stroke=\"darkred\" stroke-linejoin=\"miter\" fill=\"none\" />\n",
       "<path d=\"M10,75.0 L25,75.0\" stroke-width=\"3\" stroke=\"darkred\" stroke-linejoin=\"miter\" fill=\"none\" />\n",
       "<path d=\"M10,125.0 L25,125.0\" stroke-width=\"3\" stroke=\"darkred\" stroke-linejoin=\"miter\" fill=\"none\" />\n",
       "<path d=\"M10,175.0 L25,175.0\" stroke-width=\"3\" stroke=\"darkred\" stroke-linejoin=\"miter\" fill=\"none\" />\n",
       "<path d=\"M10,225.0 L25,225.0\" stroke-width=\"3\" stroke=\"darkred\" stroke-linejoin=\"miter\" fill=\"none\" />\n",
       "<path d=\"M10,275.0 L25,275.0\" stroke-width=\"3\" stroke=\"darkred\" stroke-linejoin=\"miter\" fill=\"none\" />\n",
       "<path d=\"M28,225 L72,325\" stroke=\"white\" stroke-width=\"6\" fill=\"none\" />\n",
       "<path d=\"M25,225 L28,225 L72,325 L75,325\" stroke=\"darkred\" stroke-width=\"3\" fill=\"none\" />\n",
       "<path d=\"M28,275 L72,375\" stroke=\"white\" stroke-width=\"6\" fill=\"none\" />\n",
       "<path d=\"M25,275 L28,275 L72,375 L75,375\" stroke=\"darkred\" stroke-width=\"3\" fill=\"none\" />\n",
       "<path d=\"M77,2 L373,2 L373,298 L77,298 Z\" stroke=\"black\" fill=\"lightblue\" stroke-dasharray=\"1,2\" stroke-linejoin=\"miter\" />\n",
       "<text x=\"79\" y=\"305\" font-size=\"8\" text-anchor=\"start\">POSTPROCESSED CNOT</text>\n",
       "<path d=\"M25,125 L53,125 L72,144\" stroke=\"darkred\" stroke-width=\"3\" fill=\"none\" />\n",
       "<path d=\"M78,144 L97,125 L125,125\" stroke=\"darkred\" stroke-width=\"3\" fill=\"none\" />\n",
       "<path d=\"M25,175 L53,175 L72,156\" stroke=\"darkred\" stroke-width=\"3\" fill=\"none\" />\n",
       "<path d=\"M78,156 L97,175 L125,175\" stroke=\"darkred\" stroke-width=\"3\" fill=\"none\" />\n",
       "<path d=\"M50,143 L100,143 L100,157 L50,157 Z\" stroke=\"black\" fill=\"black\" stroke-linejoin=\"miter\" />\n",
       "<text x=\"75\" y=\"185\" font-size=\"7\" text-anchor=\"middle\"></text>\n",
       "<text x=\"75\" y=\"126\" font-size=\"7\" text-anchor=\"middle\"></text>\n",
       "<path d=\"M50,143 L100,143 L100,147 L50,147 Z\" stroke=\"black\" fill=\"lightgray\" stroke-linejoin=\"miter\" />\n",
       "<path d=\"M93,150 L103,150 L103,160 L93,160 Z\" stroke=\"black\" fill=\"aquamarine\" stroke-linejoin=\"miter\" />\n",
       "<text x=\"98\" y=\"157\" font-size=\"6\" text-anchor=\"middle\">H</text>\n",
       "<path d=\"M25,75.0 L125,75.0\" stroke=\"darkred\" stroke-width=\"3\" fill=\"none\" />\n",
       "<path d=\"M128,75 L172,175\" stroke=\"white\" stroke-width=\"6\" fill=\"none\" />\n",
       "<path d=\"M125,75 L128,75 L172,175 L175,175\" stroke=\"darkred\" stroke-width=\"3\" fill=\"none\" />\n",
       "<path d=\"M128,125 L172,125\" stroke=\"white\" stroke-width=\"6\" fill=\"none\" />\n",
       "<path d=\"M125,125 L128,125 L172,125 L175,125\" stroke=\"darkred\" stroke-width=\"3\" fill=\"none\" />\n",
       "<path d=\"M128,175 L172,225\" stroke=\"white\" stroke-width=\"6\" fill=\"none\" />\n",
       "<path d=\"M125,175 L128,175 L172,225 L175,225\" stroke=\"darkred\" stroke-width=\"3\" fill=\"none\" />\n",
       "<path d=\"M25,25.0 L175,25.0\" stroke=\"darkred\" stroke-width=\"3\" fill=\"none\" />\n",
       "<path d=\"M178,125 L222,125\" stroke=\"white\" stroke-width=\"6\" fill=\"none\" />\n",
       "<path d=\"M175,125 L178,125 L222,125 L225,125\" stroke=\"darkred\" stroke-width=\"3\" fill=\"none\" />\n",
       "<path d=\"M178,175 L222,75\" stroke=\"white\" stroke-width=\"6\" fill=\"none\" />\n",
       "<path d=\"M175,175 L178,175 L222,75 L225,75\" stroke=\"darkred\" stroke-width=\"3\" fill=\"none\" />\n",
       "<path d=\"M178,225 L222,175\" stroke=\"white\" stroke-width=\"6\" fill=\"none\" />\n",
       "<path d=\"M175,225 L178,225 L222,175 L225,175\" stroke=\"darkred\" stroke-width=\"3\" fill=\"none\" />\n",
       "<path d=\"M225,125 L253,125 L272,144\" stroke=\"darkred\" stroke-width=\"3\" fill=\"none\" />\n",
       "<path d=\"M278,144 L297,125 L325,125\" stroke=\"darkred\" stroke-width=\"3\" fill=\"none\" />\n",
       "<path d=\"M225,175 L253,175 L272,156\" stroke=\"darkred\" stroke-width=\"3\" fill=\"none\" />\n",
       "<path d=\"M278,156 L297,175 L325,175\" stroke=\"darkred\" stroke-width=\"3\" fill=\"none\" />\n",
       "<path d=\"M250,143 L300,143 L300,157 L250,157 Z\" stroke=\"black\" fill=\"black\" stroke-linejoin=\"miter\" />\n",
       "<text x=\"275\" y=\"185\" font-size=\"7\" text-anchor=\"middle\"></text>\n",
       "<text x=\"275\" y=\"126\" font-size=\"7\" text-anchor=\"middle\"></text>\n",
       "<path d=\"M250,143 L300,143 L300,147 L250,147 Z\" stroke=\"black\" fill=\"lightgray\" stroke-linejoin=\"miter\" />\n",
       "<path d=\"M293,150 L303,150 L303,160 L293,160 Z\" stroke=\"black\" fill=\"aquamarine\" stroke-linejoin=\"miter\" />\n",
       "<text x=\"298\" y=\"157\" font-size=\"6\" text-anchor=\"middle\">H</text>\n",
       "<path d=\"M175,25.0 L325,25.0\" stroke=\"darkred\" stroke-width=\"3\" fill=\"none\" />\n",
       "<path d=\"M225,75.0 L325,75.0\" stroke=\"darkred\" stroke-width=\"3\" fill=\"none\" />\n",
       "<path d=\"M75,325.0 L325,325.0\" stroke=\"darkred\" stroke-width=\"3\" fill=\"none\" />\n",
       "<path d=\"M75,375.0 L325,375.0\" stroke=\"darkred\" stroke-width=\"3\" fill=\"none\" />\n",
       "<path d=\"M328,325 L372,225\" stroke=\"white\" stroke-width=\"6\" fill=\"none\" />\n",
       "<path d=\"M325,325 L328,325 L372,225 L375,225\" stroke=\"darkred\" stroke-width=\"3\" fill=\"none\" />\n",
       "<path d=\"M328,375 L372,275\" stroke=\"white\" stroke-width=\"6\" fill=\"none\" />\n",
       "<path d=\"M325,375 L328,375 L372,275 L375,275\" stroke=\"darkred\" stroke-width=\"3\" fill=\"none\" />\n",
       "<path d=\"M325,25 L353,25 L372,44\" stroke=\"darkred\" stroke-width=\"3\" fill=\"none\" />\n",
       "<path d=\"M378,44 L397,25 L425,25\" stroke=\"darkred\" stroke-width=\"3\" fill=\"none\" />\n",
       "<path d=\"M325,75 L353,75 L372,56\" stroke=\"darkred\" stroke-width=\"3\" fill=\"none\" />\n",
       "<path d=\"M378,56 L397,75 L425,75\" stroke=\"darkred\" stroke-width=\"3\" fill=\"none\" />\n",
       "<path d=\"M350,43 L400,43 L400,57 L350,57 Z\" stroke=\"black\" fill=\"black\" stroke-linejoin=\"miter\" />\n",
       "<text x=\"375\" y=\"85\" font-size=\"7\" text-anchor=\"middle\"></text>\n",
       "<text x=\"375\" y=\"26\" font-size=\"7\" text-anchor=\"middle\"></text>\n",
       "<path d=\"M350,43 L400,43 L400,47 L350,47 Z\" stroke=\"black\" fill=\"lightgray\" stroke-linejoin=\"miter\" />\n",
       "<path d=\"M393,50 L403,50 L403,60 L393,60 Z\" stroke=\"black\" fill=\"aquamarine\" stroke-linejoin=\"miter\" />\n",
       "<text x=\"398\" y=\"57\" font-size=\"6\" text-anchor=\"middle\">H</text>\n",
       "<path d=\"M325,125.0 L425,125.0\" stroke=\"darkred\" stroke-width=\"3\" fill=\"none\" />\n",
       "<path d=\"M325,175.0 L425,175.0\" stroke=\"darkred\" stroke-width=\"3\" fill=\"none\" />\n",
       "<path d=\"M375,225.0 L425,225.0\" stroke=\"darkred\" stroke-width=\"3\" fill=\"none\" />\n",
       "<path d=\"M375,275.0 L425,275.0\" stroke=\"darkred\" stroke-width=\"3\" fill=\"none\" />\n",
       "<path d=\"M425,25 L475,25\" stroke-width=\"3\" stroke=\"darkred\" stroke-linejoin=\"miter\" fill=\"none\" />\n",
       "<path d=\"M425,75 L475,75\" stroke-width=\"3\" stroke=\"darkred\" stroke-linejoin=\"miter\" fill=\"none\" />\n",
       "<path d=\"M449,10 L451,10 L451,90 L449,90 Z\" stroke=\"dimgrey\" fill=\"dimgrey\" stroke-linejoin=\"miter\" />\n",
       "<path d=\"M425,225 L475,225\" stroke-width=\"3\" stroke=\"darkred\" stroke-linejoin=\"miter\" fill=\"none\" />\n",
       "<path d=\"M425,275 L475,275\" stroke-width=\"3\" stroke=\"darkred\" stroke-linejoin=\"miter\" fill=\"none\" />\n",
       "<path d=\"M449,210 L451,210 L451,290 L449,290 Z\" stroke=\"dimgrey\" fill=\"dimgrey\" stroke-linejoin=\"miter\" />\n",
       "<path d=\"M425,125 L450,125\" stroke-width=\"3\" stroke=\"darkred\" stroke-linejoin=\"miter\" fill=\"none\" />\n",
       "<path d=\"M450,125 L475,125\" stroke-width=\"3\" stroke=\"orange\" stroke-linejoin=\"miter\" fill=\"none\" />\n",
       "<path d=\"M445,135 L437,135 L437,115 L445,115 C445,115,455,115,455,125 C455,135,445,135,445,135 L445,135\" stroke-width=\"1\" stroke=\"black\" stroke-linejoin=\"miter\" fill=\"lightgray\" />\n",
       "<text x=\"437\" y=\"112\" font-size=\"5\" text-anchor=\"start\" font-style=\"italic\">PNR</text>\n",
       "<path d=\"M425,175 L450,175\" stroke-width=\"3\" stroke=\"darkred\" stroke-linejoin=\"miter\" fill=\"none\" />\n",
       "<path d=\"M450,175 L475,175\" stroke-width=\"3\" stroke=\"orange\" stroke-linejoin=\"miter\" fill=\"none\" />\n",
       "<path d=\"M445,185 L437,185 L437,165 L445,165 C445,165,455,165,455,175 C455,185,445,185,445,185 L445,185\" stroke-width=\"1\" stroke=\"black\" stroke-linejoin=\"miter\" fill=\"lightgray\" />\n",
       "<text x=\"437\" y=\"162\" font-size=\"5\" text-anchor=\"start\" font-style=\"italic\">PNR</text>\n",
       "<path d=\"M475,125 L575,125\" stroke-width=\"3\" stroke=\"orange\" stroke-linejoin=\"miter\" fill=\"none\" />\n",
       "<path d=\"M475,175 L575,175\" stroke-width=\"3\" stroke=\"orange\" stroke-linejoin=\"miter\" fill=\"none\" />\n",
       "<path d=\"M525,190.0 L525,205.0\" stroke=\"white\" stroke-width=\"5\" fill=\"none\" />\n",
       "<path d=\"M525,190.0 L525,205.0\" stroke=\"orange\" stroke-width=\"3\" fill=\"none\" stroke-dasharray=\"4,4\" />\n",
       "<path d=\"M525,198.0 L522,195.0\" stroke=\"orange\" stroke-width=\"3\" fill=\"none\" />\n",
       "<path d=\"M525,198.0 L528,195.0\" stroke=\"orange\" stroke-width=\"3\" fill=\"none\" />\n",
       "<path d=\"M480,110 L570,110 L570,190 L480,190 Z\" stroke=\"black\" fill=\"lightgreen\" stroke-linejoin=\"miter\" />\n",
       "<text x=\"525\" y=\"155.0\" font-size=\"10\" text-anchor=\"middle\">FFC</text>\n",
       "<path d=\"M475,225 L575,225\" stroke-width=\"3\" stroke=\"darkred\" stroke-linejoin=\"miter\" fill=\"none\" />\n",
       "<path d=\"M475,275 L575,275\" stroke-width=\"3\" stroke=\"darkred\" stroke-linejoin=\"miter\" fill=\"none\" />\n",
       "<path d=\"M480,205 L570,205 L570,295 L480,295 Z\" stroke=\"black\" fill=\"lightyellow\" stroke-linejoin=\"miter\" />\n",
       "<text x=\"525\" y=\"250\" font-size=\"10\" text-anchor=\"middle\">U(FFC)</text>\n",
       "<path d=\"M475,25.0 L575,25.0\" stroke=\"darkred\" stroke-width=\"3\" fill=\"none\" />\n",
       "<path d=\"M475,75.0 L575,75.0\" stroke=\"darkred\" stroke-width=\"3\" fill=\"none\" />\n",
       "<path d=\"M575,125 L625,125\" stroke-width=\"3\" stroke=\"orange\" stroke-linejoin=\"miter\" fill=\"none\" />\n",
       "<path d=\"M575,175 L625,175\" stroke-width=\"3\" stroke=\"orange\" stroke-linejoin=\"miter\" fill=\"none\" />\n",
       "<path d=\"M575,225 L625,225\" stroke-width=\"3\" stroke=\"darkred\" stroke-linejoin=\"miter\" fill=\"none\" />\n",
       "<path d=\"M575,275 L625,275\" stroke-width=\"3\" stroke=\"darkred\" stroke-linejoin=\"miter\" fill=\"none\" />\n",
       "<path d=\"M599,110 L601,110 L601,290 L599,290 Z\" stroke=\"dimgrey\" fill=\"dimgrey\" stroke-linejoin=\"miter\" />\n",
       "<path d=\"M575,25.0 L625,25.0\" stroke=\"darkred\" stroke-width=\"3\" fill=\"none\" />\n",
       "<path d=\"M575,75.0 L625,75.0\" stroke=\"darkred\" stroke-width=\"3\" fill=\"none\" />\n",
       "<path d=\"M625,25 L650,25\" stroke-width=\"3\" stroke=\"darkred\" stroke-linejoin=\"miter\" fill=\"none\" />\n",
       "<path d=\"M650,25 L675,25\" stroke-width=\"3\" stroke=\"orange\" stroke-linejoin=\"miter\" fill=\"none\" />\n",
       "<path d=\"M645,35 L637,35 L637,15 L645,15 C645,15,655,15,655,25 C655,35,645,35,645,35 L645,35\" stroke-width=\"1\" stroke=\"black\" stroke-linejoin=\"miter\" fill=\"lightgray\" />\n",
       "<text x=\"637\" y=\"12\" font-size=\"5\" text-anchor=\"start\" font-style=\"italic\">PNR</text>\n",
       "<path d=\"M625,75 L650,75\" stroke-width=\"3\" stroke=\"darkred\" stroke-linejoin=\"miter\" fill=\"none\" />\n",
       "<path d=\"M650,75 L675,75\" stroke-width=\"3\" stroke=\"orange\" stroke-linejoin=\"miter\" fill=\"none\" />\n",
       "<path d=\"M645,85 L637,85 L637,65 L645,65 C645,65,655,65,655,75 C655,85,645,85,645,85 L645,85\" stroke-width=\"1\" stroke=\"black\" stroke-linejoin=\"miter\" fill=\"lightgray\" />\n",
       "<text x=\"637\" y=\"62\" font-size=\"5\" text-anchor=\"start\" font-style=\"italic\">PNR</text>\n",
       "<path d=\"M675,25 L725,25\" stroke-width=\"3\" stroke=\"orange\" stroke-linejoin=\"miter\" fill=\"none\" />\n",
       "<path d=\"M675,75 L725,75\" stroke-width=\"3\" stroke=\"orange\" stroke-linejoin=\"miter\" fill=\"none\" />\n",
       "<path d=\"M700,90.0 L700,255.0\" stroke=\"white\" stroke-width=\"5\" fill=\"none\" />\n",
       "<path d=\"M700,90.0 L700,255.0\" stroke=\"orange\" stroke-width=\"3\" fill=\"none\" stroke-dasharray=\"4,4\" />\n",
       "<path d=\"M700,98.0 L697,95.0\" stroke=\"orange\" stroke-width=\"3\" fill=\"none\" />\n",
       "<path d=\"M700,98.0 L703,95.0\" stroke=\"orange\" stroke-width=\"3\" fill=\"none\" />\n",
       "<path d=\"M680,10 L720,10 L720,90 L680,90 Z\" stroke=\"black\" fill=\"lightgreen\" stroke-linejoin=\"miter\" />\n",
       "<text x=\"700\" y=\"55.0\" font-size=\"10\" text-anchor=\"middle\">FFC</text>\n",
       "<path d=\"M625,275 L675,275\" stroke=\"darkred\" stroke-width=\"3\" fill=\"none\" />\n",
       "<path d=\"M630,290 L639,290 L653,260 L644,260 L630,290 L639,290 Z\" stroke=\"black\" fill=\"gray\" stroke-linejoin=\"miter\" />\n",
       "<text x=\"647\" y=\"288\" font-size=\"7\" text-anchor=\"start\">Φ=phi</text>\n",
       "<path d=\"M625,125.0 L725,125.0\" stroke=\"orange\" stroke-width=\"3\" fill=\"none\" />\n",
       "<path d=\"M625,175.0 L725,175.0\" stroke=\"orange\" stroke-width=\"3\" fill=\"none\" />\n",
       "<path d=\"M625,225.0 L725,225.0\" stroke=\"darkred\" stroke-width=\"3\" fill=\"none\" />\n",
       "<path d=\"M675,275.0 L725,275.0\" stroke=\"darkred\" stroke-width=\"3\" fill=\"none\" />\n",
       "<path d=\"M725,25.0 L740,25.0\" stroke-width=\"3\" stroke=\"orange\" stroke-linejoin=\"miter\" fill=\"none\" />\n",
       "<path d=\"M725,75.0 L740,75.0\" stroke-width=\"3\" stroke=\"orange\" stroke-linejoin=\"miter\" fill=\"none\" />\n",
       "<path d=\"M725,125.0 L740,125.0\" stroke-width=\"3\" stroke=\"orange\" stroke-linejoin=\"miter\" fill=\"none\" />\n",
       "<path d=\"M725,175.0 L740,175.0\" stroke-width=\"3\" stroke=\"orange\" stroke-linejoin=\"miter\" fill=\"none\" />\n",
       "<path d=\"M725,225.0 L740,225.0\" stroke-width=\"3\" stroke=\"darkred\" stroke-linejoin=\"miter\" fill=\"none\" />\n",
       "<path d=\"M725,275.0 L740,275.0\" stroke-width=\"3\" stroke=\"darkred\" stroke-linejoin=\"miter\" fill=\"none\" />\n",
       "<path d=\"M-2,15 L10,15 L10,85 L-2,85 Z\" stroke=\"black\" fill=\"lightgray\" stroke-linejoin=\"miter\" />\n",
       "<text x=\"-2\" y=\"91\" font-size=\"6\" text-anchor=\"start\" font-style=\"italic\">[ctrl]</text>\n",
       "<path d=\"M-2,115 L10,115 L10,185 L-2,185 Z\" stroke=\"black\" fill=\"lightgray\" stroke-linejoin=\"miter\" />\n",
       "<text x=\"-2\" y=\"191\" font-size=\"6\" text-anchor=\"start\" font-style=\"italic\">[data]</text>\n",
       "<path d=\"M7,325 C7,325,7,315,17,315 L25,315 L25,335 L17,335 C7,335,7,325,7,325 L7,325\" stroke-width=\"1\" stroke=\"black\" stroke-linejoin=\"miter\" fill=\"white\" />\n",
       "<text x=\"13\" y=\"341\" font-size=\"6\" text-anchor=\"middle\" font-style=\"italic\">[herald2]</text>\n",
       "<text x=\"17\" y=\"328\" font-size=\"7\" text-anchor=\"middle\">0</text>\n",
       "<path d=\"M7,375 C7,375,7,365,17,365 L25,365 L25,385 L17,385 C7,385,7,375,7,375 L7,375\" stroke-width=\"1\" stroke=\"black\" stroke-linejoin=\"miter\" fill=\"white\" />\n",
       "<text x=\"13\" y=\"391\" font-size=\"6\" text-anchor=\"middle\" font-style=\"italic\">[herald3]</text>\n",
       "<text x=\"17\" y=\"378\" font-size=\"7\" text-anchor=\"middle\">0</text>\n",
       "<path d=\"M740,15 L752,15 L752,85 L740,85 Z\" stroke=\"black\" fill=\"lightgray\" stroke-linejoin=\"miter\" />\n",
       "<text x=\"752\" y=\"91\" font-size=\"6\" text-anchor=\"end\" font-style=\"italic\">[ctrl]</text>\n",
       "<path d=\"M740,115 L752,115 L752,185 L740,185 Z\" stroke=\"black\" fill=\"lightgray\" stroke-linejoin=\"miter\" />\n",
       "<text x=\"752\" y=\"191\" font-size=\"6\" text-anchor=\"end\" font-style=\"italic\">[data]</text>\n",
       "<path d=\"M733,335 L725,335 L725,315 L733,315 C733,315,743,315,743,325 C743,335,733,335,733,335 L733,335\" stroke-width=\"1\" stroke=\"black\" stroke-linejoin=\"miter\" fill=\"white\" />\n",
       "<text x=\"738\" y=\"311\" font-size=\"6\" text-anchor=\"middle\" font-style=\"italic\">[herald0]</text>\n",
       "<text x=\"733\" y=\"328\" font-size=\"7\" text-anchor=\"middle\">0</text>\n",
       "<path d=\"M733,385 L725,385 L725,365 L733,365 C733,365,743,365,743,375 C743,385,733,385,733,385 L733,385\" stroke-width=\"1\" stroke=\"black\" stroke-linejoin=\"miter\" fill=\"white\" />\n",
       "<text x=\"738\" y=\"361\" font-size=\"6\" text-anchor=\"middle\" font-style=\"italic\">[herald1]</text>\n",
       "<text x=\"733\" y=\"378\" font-size=\"7\" text-anchor=\"middle\">0</text>\n",
       "<text x=\"750\" y=\"28.0\" font-size=\"9\" text-anchor=\"end\">0</text>\n",
       "<text x=\"750\" y=\"78.0\" font-size=\"9\" text-anchor=\"end\">1</text>\n",
       "<text x=\"750\" y=\"128.0\" font-size=\"9\" text-anchor=\"end\">2</text>\n",
       "<text x=\"750\" y=\"178.0\" font-size=\"9\" text-anchor=\"end\">3</text>\n",
       "<text x=\"750\" y=\"228.0\" font-size=\"9\" text-anchor=\"end\">4</text>\n",
       "<text x=\"750\" y=\"278.0\" font-size=\"9\" text-anchor=\"end\">5</text>\n",
       "<text x=\"0\" y=\"28.0\" font-size=\"9\" text-anchor=\"start\">0</text>\n",
       "<text x=\"0\" y=\"78.0\" font-size=\"9\" text-anchor=\"start\">1</text>\n",
       "<text x=\"0\" y=\"128.0\" font-size=\"9\" text-anchor=\"start\">2</text>\n",
       "<text x=\"0\" y=\"178.0\" font-size=\"9\" text-anchor=\"start\">3</text>\n",
       "<text x=\"0\" y=\"228.0\" font-size=\"9\" text-anchor=\"start\">4</text>\n",
       "<text x=\"0\" y=\"278.0\" font-size=\"9\" text-anchor=\"start\">5</text>\n",
       "</svg>"
      ],
      "text/plain": [
       "<drawsvg.drawing.Drawing at 0x224abdadb10>"
      ]
     },
     "execution_count": 10,
     "metadata": {},
     "output_type": "execute_result"
    }
   ],
   "source": [
    "pcvl.pdisplay(p, recursive=True)"
   ]
  },
  {
   "cell_type": "markdown",
   "id": "be92f0ddd80ad218",
   "metadata": {},
   "source": [
    "## III. Simulation"
   ]
  },
  {
   "cell_type": "markdown",
   "id": "5324d67209a5f0ed",
   "metadata": {},
   "source": [
    "Now that we have both the input state and the processor, we can run the algorithm and check that it works."
   ]
  },
  {
   "cell_type": "code",
   "execution_count": 11,
   "id": "a438b878ced2cfe8",
   "metadata": {},
   "outputs": [
    {
     "name": "stdout",
     "output_type": "stream",
     "text": [
      "{'results': {\n",
      "\t|1,0,0,1,1,0>: 0.207498095837542\n",
      "\t|1,0,1,0,1,0>: 0.20749809583754203\n",
      "\t|0,1,0,1,1,0>: 0.29250190416245797\n",
      "\t|0,1,1,0,1,0>: 0.29250190416245797\n",
      "}, 'global_perf': 1.0000000000000002}\n"
     ]
    }
   ],
   "source": [
    "p.min_detected_photons_filter(3)\n",
    "\n",
    "# Since we use a \"custom\" (understand not a BasicState) input state,\n",
    "# we have to add the heralds from the post-processed cnot manually\n",
    "input_state *= pcvl.BasicState([0, 0])\n",
    "\n",
    "p.with_input(input_state)\n",
    "\n",
    "res = p.probs()\n",
    "print(res)"
   ]
  },
  {
   "cell_type": "markdown",
   "id": "78778a2ac0806cd1",
   "metadata": {},
   "source": [
    "Notice that when using feed-forward, the performance indicators are replaced by a single indicator \"global_perf\", which represents the probability that an output state checks all requirements. In our case, this corresponds to the CNOT gate performance: $1 / 9 \\approx 0.111$.\n",
    "\n",
    "For the results, we don't need to know what was measured by Alice, so we need to squash the resulting probabilities to keep only the two last modes."
   ]
  },
  {
   "cell_type": "code",
   "execution_count": 12,
   "id": "3e6a8afe9b080f15",
   "metadata": {},
   "outputs": [
    {
     "name": "stdout",
     "output_type": "stream",
     "text": [
      "{\n",
      "\t|1,0>: 1\n",
      "}\n"
     ]
    }
   ],
   "source": [
    "print(squash_results(res[\"results\"], 4))"
   ]
  },
  {
   "cell_type": "markdown",
   "id": "e656019381c106b2",
   "metadata": {},
   "source": [
    "We can now apply our tomography process to check that Bob's qubit is now the initial qubit that Alice wanted to transmit."
   ]
  },
  {
   "cell_type": "code",
   "execution_count": 13,
   "id": "beea8ac653d00512",
   "metadata": {},
   "outputs": [
    {
     "name": "stdout",
     "output_type": "stream",
     "text": [
      "|1,0>\n"
     ]
    }
   ],
   "source": [
    "print(tomography(p, 4))"
   ]
  },
  {
   "cell_type": "markdown",
   "id": "6ca68df83bec38d0",
   "metadata": {},
   "source": [
    "Tadaaaa! We get the state that we wanted to transmit. Pretty to cool to teleport state in photonics right?"
   ]
  },
  {
   "cell_type": "markdown",
   "id": "71027fa0c349b9d1",
   "metadata": {},
   "source": [
    "## References\n",
    "\n",
    "> [1] C. H. Bennett, G. Brassard, C. Crépeau, R. Jozsa, A. Peres and W. K. Wootters, “Teleporting an unknown quantum state via dual classical and Einstein-Podolsky-Rosen channels”, [Phys. Rev. Lett.](https://journals.aps.org/prl/abstract/10.1103/PhysRevLett.70.1895) **70**, 1895 (1993)."
   ]
  }
 ],
 "metadata": {
  "language_info": {
   "name": "python"
  }
 },
 "nbformat": 4,
 "nbformat_minor": 5
}
