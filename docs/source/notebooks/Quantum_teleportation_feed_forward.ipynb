{
 "cells": [
  {
   "cell_type": "markdown",
   "id": "7d428b7117a2a2fe",
   "metadata": {},
   "source": [
    "# Quantum teleportation using feed-forward"
   ]
  },
  {
   "cell_type": "markdown",
   "id": "61dad5341013c224",
   "metadata": {},
   "source": [
    "The goal of this notebook is to use perceval's feed-forward ability to demonstrate the Quantum teleportation algorithm \\[1\\] on a photonic simulated circuit using dual rail encoding."
   ]
  },
  {
   "cell_type": "markdown",
   "id": "1916284b04197f03",
   "metadata": {},
   "source": [
    "## Definition of the problem"
   ]
  },
  {
   "cell_type": "markdown",
   "id": "cb257cc4d0cddb70",
   "metadata": {},
   "source": [
    "The idea of the algorithm is the following:\n",
    "\n",
    "Say that Alice has a generic qubit of the form\n",
    "\n",
    "$$|\\psi\\rangle = \\alpha |0\\rangle + \\beta |1> $$\n",
    "\n",
    "that she wants to send to a distant receiver called Bob. Since Bob is distant, we want to avoid transporting physical systems from Alice to Bob.\n",
    "\n",
    "Before the start of the algorithm, Alice and Bob need to share a maximally entangled Bell state. For this example, we will use the form\n",
    "\n",
    "$$|\\Psi\\rangle = \\frac{1}{\\sqrt{2}} (|00\\rangle + |11\\rangle)$$\n",
    "\n",
    "The first qubit is accessible to Alice and the second to Bob.\n",
    "\n",
    "The total state is then\n",
    "\n",
    "$$|\\psi\\rangle \\otimes \\Psi\\rangle = (\\alpha |0\\rangle + \\beta |1\\rangle) \\otimes \\frac{1}{\\sqrt{2}} (|00\\rangle + |11\\rangle)$$\n",
    "\n",
    "The algorithm is the following:\n",
    "Alice performs a CNOT operation using the first qubit as control and the second as target, then applies a H gate to the first qubit.\n",
    "\n",
    "![quantum_teleportation_circuit.jpg](../_static/img/quantum_teleportation_circuit.jpg)\n",
    "\n",
    "At the end, the total state can be written as\n",
    "\n",
    "\\begin{align}\n",
    "    |final\\rangle &= \\frac{1}{2}|00\\rangle \\otimes (\\alpha |0\\rangle + \\beta |1>) \\\\\n",
    "                  &+ \\frac{1}{2}|01\\rangle \\otimes (\\beta |0\\rangle + \\alpha |1>) \\\\\n",
    "                  &+ \\frac{1}{2}|10\\rangle \\otimes (\\alpha |0\\rangle - \\beta |1>) \\\\\n",
    "                  &+ \\frac{1}{2}|11\\rangle \\otimes (- \\beta |0\\rangle + \\alpha |1>)\n",
    "\\end{align}\n",
    "\n",
    "Then Alice needs to measure her two qubits and send the results to Bob using a classical channel.\n",
    "\n",
    "If the second qubit is measured as 1, Bob must apply a NOT gate to his qubit.\n",
    "\n",
    "If the first qubit is measured to be 1, Bob must then apply a Z gate to his qubit.\n",
    "\n",
    "After these operations, Bob's qubit is guaranteed to be the original qubit of Alice $|\\psi\\rangle$."
   ]
  },
  {
   "cell_type": "markdown",
   "id": "57318a20fc7eeb69",
   "metadata": {},
   "source": [
    "## Translation to Perceval"
   ]
  },
  {
   "cell_type": "code",
   "execution_count": 1,
   "id": "4ec2a415e1cb1f04",
   "metadata": {},
   "outputs": [],
   "source": [
    "import numpy as np\n",
    "\n",
    "import perceval as pcvl\n",
    "from perceval import catalog"
   ]
  },
  {
   "cell_type": "markdown",
   "id": "7208ddca25dafd45",
   "metadata": {},
   "source": [
    "### Starting state"
   ]
  },
  {
   "cell_type": "markdown",
   "id": "17b862dbe9a08975",
   "metadata": {},
   "source": [
    "First, we need to create the input state $|\\psi\\rangle \\otimes |\\Psi\\rangle$ for this algorithm. We choose $\\alpha$ and $\\beta$ arbitrarily."
   ]
  },
  {
   "cell_type": "code",
   "execution_count": 2,
   "id": "initial_id",
   "metadata": {},
   "outputs": [
    {
     "name": "stdout",
     "output_type": "stream",
     "text": [
      "0.535*|1,0>+(0.267+0.802I)*|0,1>\n"
     ]
    }
   ],
   "source": [
    "# Creation of the qubit to transmit\n",
    "\n",
    "alpha = .2  # Arbitrarily chosen\n",
    "beta = .1 + .3j\n",
    "# alpha |0> + beta |1> in dual rail encoding\n",
    "to_transmit = alpha * pcvl.BasicState([1, 0]) + beta * pcvl.BasicState([0, 1])\n",
    "to_transmit.normalize()\n",
    "\n",
    "print(to_transmit)"
   ]
  },
  {
   "cell_type": "code",
   "execution_count": 3,
   "id": "b480ea69ffc07543",
   "metadata": {},
   "outputs": [
    {
     "name": "stdout",
     "output_type": "stream",
     "text": [
      "0.707*|1,0,1,0>+0.707*|0,1,0,1>\n"
     ]
    }
   ],
   "source": [
    "# Creation of the quantum channel\n",
    "sg = pcvl.StateGenerator(pcvl.Encoding.DUAL_RAIL)\n",
    "bell_state = sg.bell_state(\"phi+\")\n",
    "print(bell_state)"
   ]
  },
  {
   "cell_type": "code",
   "execution_count": 4,
   "id": "41cbc6dac613658f",
   "metadata": {},
   "outputs": [],
   "source": [
    "input_state = to_transmit * bell_state"
   ]
  },
  {
   "cell_type": "markdown",
   "id": "884bebccd4e671b9",
   "metadata": {},
   "source": [
    "### Tomography"
   ]
  },
  {
   "cell_type": "markdown",
   "id": "6a78aa77d2475c6b",
   "metadata": {},
   "source": [
    "Since we could end up with both $\\alpha |0\\rangle + \\beta |1\\rangle$ and $\\alpha |0\\rangle - \\beta |1\\rangle$ states, we want to be able to distinguish them to prove that the algorithm effectively works. For this, as their resulting probability from a direct measurement would be the same, we use state tomography.\n",
    "\n",
    "Since a qubit is defined up to a global rotation, we consider that $\\alpha$ is a real non-negative number. In our simple case, we don't need to use all Pauli gates."
   ]
  },
  {
   "cell_type": "code",
   "execution_count": 5,
   "id": "5bcf056c9f390892",
   "metadata": {},
   "outputs": [],
   "source": [
    "# Needed if the number of modes is bigger than 2\n",
    "def squash_results(res, first_mode: int):\n",
    "    \"\"\"Sum the output probabilities to keep only the qubit of interest indexed by its first mode\"\"\"\n",
    "    bsd = pcvl.BSDistribution()\n",
    "    for state, prob in res.items():\n",
    "        bsd[state[first_mode:first_mode+2]] += prob\n",
    "\n",
    "    return bsd\n",
    "\n",
    "def tomography(processor: pcvl.Processor, first_mode: int = 0) -> pcvl.StateVector:\n",
    "    # First using identity, we get alpha ** 2 and |beta| ** 2\n",
    "    res = processor.probs()[\"results\"]\n",
    "    res = squash_results(res, first_mode)\n",
    "\n",
    "    alpha = res[pcvl.BasicState([1, 0])] ** .5\n",
    "    if alpha == 0:\n",
    "        return pcvl.StateVector(pcvl.BasicState([0, 1]))\n",
    "\n",
    "    processor = processor.copy()\n",
    "    # We do the same, but we add a H gate at the end for the qubit we are interested in\n",
    "    processor.add(first_mode, pcvl.BS.H())\n",
    "    res = processor.probs()[\"results\"]\n",
    "    res = squash_results(res, first_mode)\n",
    "\n",
    "    p0 = res[pcvl.BasicState([1, 0])]  # 1/2 |alpha + beta| ** 2\n",
    "    p1 = res[pcvl.BasicState([0, 1])]  # 1/2 |alpha - beta| ** 2\n",
    "\n",
    "    # By writing beta = x + i y, we get\n",
    "    x = (p0 - p1) / (2 * alpha)\n",
    "\n",
    "    processor = processor.copy()\n",
    "    # We do the same, but we multiply by i the amplitudes of qubit |1> before applying the H gate\n",
    "    processor.add(first_mode + 1, pcvl.PS(np.pi / 2))\n",
    "    processor.add(first_mode, pcvl.BS.H())\n",
    "    res = processor.probs()[\"results\"]\n",
    "    res = squash_results(res, first_mode)\n",
    "\n",
    "    p0 = res[pcvl.BasicState([1, 0])]  # 1/2 |alpha + i beta| ** 2\n",
    "    p1 = res[pcvl.BasicState([0, 1])]  # 1/2 |alpha - i beta| ** 2\n",
    "\n",
    "    y = (p0 - p1) / (2 * alpha)\n",
    "    beta = x + 1j * y\n",
    "\n",
    "    return alpha * pcvl.BasicState([1, 0]) + beta * pcvl.BasicState([0, 1])"
   ]
  },
  {
   "cell_type": "markdown",
   "id": "44ad7639024e5118",
   "metadata": {},
   "source": [
    "We can now test this algorithm on our original qubit using an identity circuit."
   ]
  },
  {
   "cell_type": "code",
   "execution_count": 6,
   "id": "937d6da2124fc11c",
   "metadata": {},
   "outputs": [
    {
     "data": {
      "text/plain": [
       "0.535*|1,0>+(0.267+0.802I)*|0,1>"
      ]
     },
     "execution_count": 6,
     "metadata": {},
     "output_type": "execute_result"
    }
   ],
   "source": [
    "p = pcvl.Processor(\"SLOS\", 2)\n",
    "\n",
    "p.min_detected_photons_filter(1)\n",
    "p.with_input(to_transmit)\n",
    "\n",
    "tomography(p)"
   ]
  },
  {
   "cell_type": "markdown",
   "id": "3597044aedd3249c",
   "metadata": {},
   "source": [
    "We get the same state so the tomography process works."
   ]
  },
  {
   "cell_type": "markdown",
   "id": "13cf7a685228ff18",
   "metadata": {},
   "source": [
    "### Circuit"
   ]
  },
  {
   "cell_type": "markdown",
   "id": "f18e201949542957",
   "metadata": {},
   "source": [
    "Now we need to define the circuit on which the operations will take place. Since we need to use gates and feed-forward components, we need to use a `Processor` object.\n",
    "\n",
    "First, we define the photonic circuit that applies on the qubits."
   ]
  },
  {
   "cell_type": "code",
   "execution_count": 7,
   "id": "46c1994bcba8184f",
   "metadata": {},
   "outputs": [],
   "source": [
    "p = pcvl.Processor(\"SLOS\", 6)\n",
    "p.add(0, catalog[\"heralded cnot\"].build_processor())\n",
    "p.add(0, pcvl.BS.H());"
   ]
  },
  {
   "cell_type": "markdown",
   "id": "2a6e8e7857d28509",
   "metadata": {},
   "source": [
    "Now we need to add the feed-forwarded components. For this purpose, Perceval uses two configurators that link measurements to circuits or processors.\n",
    "\n",
    "Both of them need to be defined by the number of modes they measure, the distance between the measured modes and the circuit they configure (this is an integer called `offset`), and a default configuration that is used whenever a measure does not befall into one of the defined cases.\n",
    "\n",
    "The measured modes need to be classical modes. Thus, we need to add detectors before adding the configurators.\n",
    "\n",
    "For the NOT gate, this gate corresponds to a permutation for a dual rail encoding if we measure $|1\\rangle$, or an empty circuit if we measure $|0\\rangle$. Thus, we are going to use a `FFCircuitProvider` as it links a measured state to a circuit or a processor."
   ]
  },
  {
   "cell_type": "code",
   "execution_count": 8,
   "id": "84ab63365eb0278f",
   "metadata": {},
   "outputs": [],
   "source": [
    "# 2 measured modes\n",
    "# offset = 0 means that there is 0 empty modes between the measured modes and the circuit\n",
    "# the default circuit is an empty circuit\n",
    "ff_not = pcvl.FFCircuitProvider(2, 0, pcvl.Circuit(2))\n",
    "\n",
    "# Now if we measure a logical state |1>, we need to perform a permutation of the modes\n",
    "ff_not.add_configuration([0, 1], pcvl.PERM([1, 0]))\n",
    "\n",
    "# Add perfect detectors to the modes that will be measured\n",
    "p.add(2, pcvl.Detector.pnr())\n",
    "p.add(3, pcvl.Detector.pnr())\n",
    "p.add(2, ff_not);"
   ]
  },
  {
   "cell_type": "markdown",
   "id": "4ab9a62af4dff3cc",
   "metadata": {},
   "source": [
    "The Z gate corresponds to a $\\pi$ shift on the second mode. Thus, we are going to use a `FFConfigurator` that uses a parametrized circuit and links the measured states to a mapping of values for these parameters."
   ]
  },
  {
   "cell_type": "code",
   "execution_count": 9,
   "id": "34c780e885758455",
   "metadata": {},
   "outputs": [],
   "source": [
    "phi = pcvl.P(\"phi\")\n",
    "# Like Circuits and Processors, we can chain the `add` methods\n",
    "ff_z = pcvl.FFConfigurator(2, 3, pcvl.PS(phi), {\"phi\": 0}).add_configuration([0, 1], {\"phi\": np.pi})\n",
    "\n",
    "p.add(0, pcvl.Detector.pnr())\n",
    "p.add(1, pcvl.Detector.pnr())\n",
    "p.add(0, ff_z);"
   ]
  },
  {
   "cell_type": "markdown",
   "id": "88f450e84ce7f9a2",
   "metadata": {},
   "source": [
    "We can check that we defined correctly our processor. Note that using the `recursive=True` flag, we can expose the inner circuit of the `FFConfigurator`."
   ]
  },
  {
   "cell_type": "code",
   "execution_count": 10,
   "id": "cd64eca26d10b8cd",
   "metadata": {},
   "outputs": [
    {
     "data": {
      "image/svg+xml": [
       "<?xml version=\"1.0\" encoding=\"UTF-8\"?>\n",
       "<svg xmlns=\"http://www.w3.org/2000/svg\" xmlns:xlink=\"http://www.w3.org/1999/xlink\"\n",
       "     width=\"1468.125\" height=\"531.25\" viewBox=\"-29.5 0 1174.5 425.0\">\n",
       "<defs>\n",
       "</defs>\n",
       "<path d=\"M10,25.0 L25,25.0\" stroke-width=\"3\" stroke=\"darkred\" stroke-linejoin=\"miter\" fill=\"none\" />\n",
       "<path d=\"M10,75.0 L25,75.0\" stroke-width=\"3\" stroke=\"darkred\" stroke-linejoin=\"miter\" fill=\"none\" />\n",
       "<path d=\"M10,125.0 L25,125.0\" stroke-width=\"3\" stroke=\"darkred\" stroke-linejoin=\"miter\" fill=\"none\" />\n",
       "<path d=\"M10,175.0 L25,175.0\" stroke-width=\"3\" stroke=\"darkred\" stroke-linejoin=\"miter\" fill=\"none\" />\n",
       "<path d=\"M10,225.0 L25,225.0\" stroke-width=\"3\" stroke=\"darkred\" stroke-linejoin=\"miter\" fill=\"none\" />\n",
       "<path d=\"M10,275.0 L25,275.0\" stroke-width=\"3\" stroke=\"darkred\" stroke-linejoin=\"miter\" fill=\"none\" />\n",
       "<path d=\"M28,225 L72,325\" stroke=\"white\" stroke-width=\"6\" fill=\"none\" />\n",
       "<path d=\"M25,225 L28,225 L72,325 L75,325\" stroke=\"darkred\" stroke-width=\"3\" fill=\"none\" />\n",
       "<path d=\"M28,275 L72,375\" stroke=\"white\" stroke-width=\"6\" fill=\"none\" />\n",
       "<path d=\"M25,275 L28,275 L72,375 L75,375\" stroke=\"darkred\" stroke-width=\"3\" fill=\"none\" />\n",
       "<path d=\"M77,2 L723,2 L723,298 L77,298 Z\" stroke=\"black\" fill=\"lightblue\" stroke-dasharray=\"1,2\" stroke-linejoin=\"miter\" />\n",
       "<text x=\"79\" y=\"305\" font-size=\"8\" text-anchor=\"start\">HERALDED CNOT</text>\n",
       "<path d=\"M25,25.0 L125,25.0\" stroke=\"darkred\" stroke-width=\"3\" fill=\"none\" />\n",
       "<path d=\"M25,75.0 L125,75.0\" stroke=\"darkred\" stroke-width=\"3\" fill=\"none\" />\n",
       "<path d=\"M25,125.0 L125,125.0\" stroke=\"darkred\" stroke-width=\"3\" fill=\"none\" />\n",
       "<path d=\"M25,175.0 L125,175.0\" stroke=\"darkred\" stroke-width=\"3\" fill=\"none\" />\n",
       "<path d=\"M125,125 L153,125 L172,144\" stroke=\"darkred\" stroke-width=\"3\" fill=\"none\" />\n",
       "<path d=\"M178,144 L197,125 L225,125\" stroke=\"darkred\" stroke-width=\"3\" fill=\"none\" />\n",
       "<path d=\"M125,175 L153,175 L172,156\" stroke=\"darkred\" stroke-width=\"3\" fill=\"none\" />\n",
       "<path d=\"M178,156 L197,175 L225,175\" stroke=\"darkred\" stroke-width=\"3\" fill=\"none\" />\n",
       "<path d=\"M150,143 L200,143 L200,157 L150,157 Z\" stroke=\"black\" fill=\"black\" stroke-linejoin=\"miter\" />\n",
       "<text x=\"175\" y=\"185\" font-size=\"7\" text-anchor=\"middle\"></text>\n",
       "<text x=\"175\" y=\"126\" font-size=\"7\" text-anchor=\"middle\"></text>\n",
       "<path d=\"M150,143 L200,143 L200,147 L150,147 Z\" stroke=\"black\" fill=\"lightgray\" stroke-linejoin=\"miter\" />\n",
       "<path d=\"M193,150 L203,150 L203,160 L193,160 Z\" stroke=\"black\" fill=\"aquamarine\" stroke-linejoin=\"miter\" />\n",
       "<text x=\"198\" y=\"157\" font-size=\"6\" text-anchor=\"middle\">H</text>\n",
       "<path d=\"M125,75.0 L225,75.0\" stroke=\"darkred\" stroke-width=\"3\" fill=\"none\" />\n",
       "<path d=\"M228,75 L272,125\" stroke=\"white\" stroke-width=\"6\" fill=\"none\" />\n",
       "<path d=\"M225,75 L228,75 L272,125 L275,125\" stroke=\"darkred\" stroke-width=\"3\" fill=\"none\" />\n",
       "<path d=\"M228,125 L272,75\" stroke=\"white\" stroke-width=\"6\" fill=\"none\" />\n",
       "<path d=\"M225,125 L228,125 L272,75 L275,75\" stroke=\"darkred\" stroke-width=\"3\" fill=\"none\" />\n",
       "<path d=\"M228,175 L272,225\" stroke=\"white\" stroke-width=\"6\" fill=\"none\" />\n",
       "<path d=\"M225,175 L228,175 L272,225 L275,225\" stroke=\"darkred\" stroke-width=\"3\" fill=\"none\" />\n",
       "<path d=\"M275,125 L325,125\" stroke=\"darkred\" stroke-width=\"3\" fill=\"none\" />\n",
       "<path d=\"M280,140 L289,140 L303,110 L294,110 L280,140 L289,140 Z\" stroke=\"black\" fill=\"gray\" stroke-linejoin=\"miter\" />\n",
       "<text x=\"297\" y=\"138\" font-size=\"7\" text-anchor=\"start\">Φ=pi</text>\n",
       "<path d=\"M275,275 L325,275\" stroke=\"darkred\" stroke-width=\"3\" fill=\"none\" />\n",
       "<path d=\"M280,290 L289,290 L303,260 L294,260 L280,290 L289,290 Z\" stroke=\"black\" fill=\"gray\" stroke-linejoin=\"miter\" />\n",
       "<text x=\"297\" y=\"288\" font-size=\"7\" text-anchor=\"start\">Φ=pi</text>\n",
       "<path d=\"M275,225.0 L325,225.0\" stroke=\"darkred\" stroke-width=\"3\" fill=\"none\" />\n",
       "<path d=\"M325,125 L353,125 L372,144\" stroke=\"darkred\" stroke-width=\"3\" fill=\"none\" />\n",
       "<path d=\"M378,144 L397,125 L425,125\" stroke=\"darkred\" stroke-width=\"3\" fill=\"none\" />\n",
       "<path d=\"M325,175 L353,175 L372,156\" stroke=\"darkred\" stroke-width=\"3\" fill=\"none\" />\n",
       "<path d=\"M378,156 L397,175 L425,175\" stroke=\"darkred\" stroke-width=\"3\" fill=\"none\" />\n",
       "<path d=\"M350,143 L400,143 L400,157 L350,157 Z\" stroke=\"black\" fill=\"black\" stroke-linejoin=\"miter\" />\n",
       "<text x=\"375\" y=\"180\" font-size=\"7\" text-anchor=\"middle\"></text>\n",
       "<text x=\"375\" y=\"126\" font-size=\"7\" text-anchor=\"middle\">Θ=1.910633</text>\n",
       "<path d=\"M350,143 L400,143 L400,147 L350,147 Z\" stroke=\"black\" fill=\"lightgray\" stroke-linejoin=\"miter\" />\n",
       "<path d=\"M393,150 L403,150 L403,160 L393,160 Z\" stroke=\"black\" fill=\"aquamarine\" stroke-linejoin=\"miter\" />\n",
       "<text x=\"398\" y=\"157\" font-size=\"6\" text-anchor=\"middle\">H</text>\n",
       "<path d=\"M325,225 L353,225 L372,244\" stroke=\"darkred\" stroke-width=\"3\" fill=\"none\" />\n",
       "<path d=\"M378,244 L397,225 L425,225\" stroke=\"darkred\" stroke-width=\"3\" fill=\"none\" />\n",
       "<path d=\"M325,275 L353,275 L372,256\" stroke=\"darkred\" stroke-width=\"3\" fill=\"none\" />\n",
       "<path d=\"M378,256 L397,275 L425,275\" stroke=\"darkred\" stroke-width=\"3\" fill=\"none\" />\n",
       "<path d=\"M350,243 L400,243 L400,257 L350,257 Z\" stroke=\"black\" fill=\"black\" stroke-linejoin=\"miter\" />\n",
       "<text x=\"375\" y=\"280\" font-size=\"7\" text-anchor=\"middle\"></text>\n",
       "<text x=\"375\" y=\"226\" font-size=\"7\" text-anchor=\"middle\">Θ=1.910633</text>\n",
       "<path d=\"M350,243 L400,243 L400,247 L350,247 Z\" stroke=\"black\" fill=\"lightgray\" stroke-linejoin=\"miter\" />\n",
       "<path d=\"M393,250 L403,250 L403,260 L393,260 Z\" stroke=\"black\" fill=\"aquamarine\" stroke-linejoin=\"miter\" />\n",
       "<text x=\"398\" y=\"257\" font-size=\"6\" text-anchor=\"middle\">H</text>\n",
       "<path d=\"M428,175 L472,225\" stroke=\"white\" stroke-width=\"6\" fill=\"none\" />\n",
       "<path d=\"M425,175 L428,175 L472,225 L475,225\" stroke=\"darkred\" stroke-width=\"3\" fill=\"none\" />\n",
       "<path d=\"M428,225 L472,175\" stroke=\"white\" stroke-width=\"6\" fill=\"none\" />\n",
       "<path d=\"M425,225 L428,225 L472,175 L475,175\" stroke=\"darkred\" stroke-width=\"3\" fill=\"none\" />\n",
       "<path d=\"M425,125.0 L475,125.0\" stroke=\"darkred\" stroke-width=\"3\" fill=\"none\" />\n",
       "<path d=\"M475,125 L503,125 L522,144\" stroke=\"darkred\" stroke-width=\"3\" fill=\"none\" />\n",
       "<path d=\"M528,144 L547,125 L575,125\" stroke=\"darkred\" stroke-width=\"3\" fill=\"none\" />\n",
       "<path d=\"M475,175 L503,175 L522,156\" stroke=\"darkred\" stroke-width=\"3\" fill=\"none\" />\n",
       "<path d=\"M528,156 L547,175 L575,175\" stroke=\"darkred\" stroke-width=\"3\" fill=\"none\" />\n",
       "<path d=\"M500,143 L550,143 L550,157 L500,157 Z\" stroke=\"black\" fill=\"black\" stroke-linejoin=\"miter\" />\n",
       "<text x=\"525\" y=\"180\" font-size=\"7\" text-anchor=\"middle\"></text>\n",
       "<text x=\"525\" y=\"126\" font-size=\"7\" text-anchor=\"middle\">Θ=10.655737</text>\n",
       "<path d=\"M500,143 L550,143 L550,147 L500,147 Z\" stroke=\"black\" fill=\"lightgray\" stroke-linejoin=\"miter\" />\n",
       "<path d=\"M543,150 L553,150 L553,160 L543,160 Z\" stroke=\"black\" fill=\"aquamarine\" stroke-linejoin=\"miter\" />\n",
       "<text x=\"548\" y=\"157\" font-size=\"6\" text-anchor=\"middle\">H</text>\n",
       "<path d=\"M425,275.0 L475,275.0\" stroke=\"darkred\" stroke-width=\"3\" fill=\"none\" />\n",
       "<path d=\"M475,225 L503,225 L522,244\" stroke=\"darkred\" stroke-width=\"3\" fill=\"none\" />\n",
       "<path d=\"M528,244 L547,225 L575,225\" stroke=\"darkred\" stroke-width=\"3\" fill=\"none\" />\n",
       "<path d=\"M475,275 L503,275 L522,256\" stroke=\"darkred\" stroke-width=\"3\" fill=\"none\" />\n",
       "<path d=\"M528,256 L547,275 L575,275\" stroke=\"darkred\" stroke-width=\"3\" fill=\"none\" />\n",
       "<path d=\"M500,243 L550,243 L550,257 L500,257 Z\" stroke=\"black\" fill=\"black\" stroke-linejoin=\"miter\" />\n",
       "<text x=\"525\" y=\"280\" font-size=\"7\" text-anchor=\"middle\"></text>\n",
       "<text x=\"525\" y=\"226\" font-size=\"7\" text-anchor=\"middle\">Θ=0.61548</text>\n",
       "<path d=\"M500,243 L550,243 L550,247 L500,247 Z\" stroke=\"black\" fill=\"lightgray\" stroke-linejoin=\"miter\" />\n",
       "<path d=\"M543,250 L553,250 L553,260 L543,260 Z\" stroke=\"black\" fill=\"aquamarine\" stroke-linejoin=\"miter\" />\n",
       "<text x=\"548\" y=\"257\" font-size=\"6\" text-anchor=\"middle\">H</text>\n",
       "<path d=\"M275,75.0 L575,75.0\" stroke=\"darkred\" stroke-width=\"3\" fill=\"none\" />\n",
       "<path d=\"M578,75 L622,125\" stroke=\"white\" stroke-width=\"6\" fill=\"none\" />\n",
       "<path d=\"M575,75 L578,75 L622,125 L625,125\" stroke=\"darkred\" stroke-width=\"3\" fill=\"none\" />\n",
       "<path d=\"M578,125 L622,75\" stroke=\"white\" stroke-width=\"6\" fill=\"none\" />\n",
       "<path d=\"M575,125 L578,125 L622,75 L625,75\" stroke=\"darkred\" stroke-width=\"3\" fill=\"none\" />\n",
       "<path d=\"M575,175.0 L625,175.0\" stroke=\"darkred\" stroke-width=\"3\" fill=\"none\" />\n",
       "<path d=\"M625,125 L653,125 L672,144\" stroke=\"darkred\" stroke-width=\"3\" fill=\"none\" />\n",
       "<path d=\"M678,144 L697,125 L725,125\" stroke=\"darkred\" stroke-width=\"3\" fill=\"none\" />\n",
       "<path d=\"M625,175 L653,175 L672,156\" stroke=\"darkred\" stroke-width=\"3\" fill=\"none\" />\n",
       "<path d=\"M678,156 L697,175 L725,175\" stroke=\"darkred\" stroke-width=\"3\" fill=\"none\" />\n",
       "<path d=\"M650,143 L700,143 L700,157 L650,157 Z\" stroke=\"black\" fill=\"black\" stroke-linejoin=\"miter\" />\n",
       "<text x=\"675\" y=\"185\" font-size=\"7\" text-anchor=\"middle\"></text>\n",
       "<text x=\"675\" y=\"126\" font-size=\"7\" text-anchor=\"middle\"></text>\n",
       "<path d=\"M650,143 L700,143 L700,147 L650,147 Z\" stroke=\"black\" fill=\"lightgray\" stroke-linejoin=\"miter\" />\n",
       "<path d=\"M693,150 L703,150 L703,160 L693,160 Z\" stroke=\"black\" fill=\"aquamarine\" stroke-linejoin=\"miter\" />\n",
       "<text x=\"698\" y=\"157\" font-size=\"6\" text-anchor=\"middle\">H</text>\n",
       "<path d=\"M125,25.0 L725,25.0\" stroke=\"darkred\" stroke-width=\"3\" fill=\"none\" />\n",
       "<path d=\"M625,75.0 L725,75.0\" stroke=\"darkred\" stroke-width=\"3\" fill=\"none\" />\n",
       "<path d=\"M75,325.0 L725,325.0\" stroke=\"darkred\" stroke-width=\"3\" fill=\"none\" />\n",
       "<path d=\"M75,375.0 L725,375.0\" stroke=\"darkred\" stroke-width=\"3\" fill=\"none\" />\n",
       "<path d=\"M728,325 L772,225\" stroke=\"white\" stroke-width=\"6\" fill=\"none\" />\n",
       "<path d=\"M725,325 L728,325 L772,225 L775,225\" stroke=\"darkred\" stroke-width=\"3\" fill=\"none\" />\n",
       "<path d=\"M728,375 L772,275\" stroke=\"white\" stroke-width=\"6\" fill=\"none\" />\n",
       "<path d=\"M725,375 L728,375 L772,275 L775,275\" stroke=\"darkred\" stroke-width=\"3\" fill=\"none\" />\n",
       "<path d=\"M725,25 L753,25 L772,44\" stroke=\"darkred\" stroke-width=\"3\" fill=\"none\" />\n",
       "<path d=\"M778,44 L797,25 L825,25\" stroke=\"darkred\" stroke-width=\"3\" fill=\"none\" />\n",
       "<path d=\"M725,75 L753,75 L772,56\" stroke=\"darkred\" stroke-width=\"3\" fill=\"none\" />\n",
       "<path d=\"M778,56 L797,75 L825,75\" stroke=\"darkred\" stroke-width=\"3\" fill=\"none\" />\n",
       "<path d=\"M750,43 L800,43 L800,57 L750,57 Z\" stroke=\"black\" fill=\"black\" stroke-linejoin=\"miter\" />\n",
       "<text x=\"775\" y=\"85\" font-size=\"7\" text-anchor=\"middle\"></text>\n",
       "<text x=\"775\" y=\"26\" font-size=\"7\" text-anchor=\"middle\"></text>\n",
       "<path d=\"M750,43 L800,43 L800,47 L750,47 Z\" stroke=\"black\" fill=\"lightgray\" stroke-linejoin=\"miter\" />\n",
       "<path d=\"M793,50 L803,50 L803,60 L793,60 Z\" stroke=\"black\" fill=\"aquamarine\" stroke-linejoin=\"miter\" />\n",
       "<text x=\"798\" y=\"57\" font-size=\"6\" text-anchor=\"middle\">H</text>\n",
       "<path d=\"M725,125.0 L825,125.0\" stroke=\"darkred\" stroke-width=\"3\" fill=\"none\" />\n",
       "<path d=\"M725,175.0 L825,175.0\" stroke=\"darkred\" stroke-width=\"3\" fill=\"none\" />\n",
       "<path d=\"M775,225.0 L825,225.0\" stroke=\"darkred\" stroke-width=\"3\" fill=\"none\" />\n",
       "<path d=\"M775,275.0 L825,275.0\" stroke=\"darkred\" stroke-width=\"3\" fill=\"none\" />\n",
       "<path d=\"M825,25 L875,25\" stroke-width=\"3\" stroke=\"darkred\" stroke-linejoin=\"miter\" fill=\"none\" />\n",
       "<path d=\"M825,75 L875,75\" stroke-width=\"3\" stroke=\"darkred\" stroke-linejoin=\"miter\" fill=\"none\" />\n",
       "<path d=\"M849,10 L851,10 L851,90 L849,90 Z\" stroke=\"dimgrey\" fill=\"dimgrey\" stroke-linejoin=\"miter\" />\n",
       "<path d=\"M825,125 L850,125\" stroke-width=\"3\" stroke=\"darkred\" stroke-linejoin=\"miter\" fill=\"none\" />\n",
       "<path d=\"M850,125 L875,125\" stroke-width=\"3\" stroke=\"orange\" stroke-linejoin=\"miter\" fill=\"none\" />\n",
       "<path d=\"M845,135 L837,135 L837,115 L845,115 C845,115,855,115,855,125 C855,135,845,135,845,135 L845,135\" stroke-width=\"1\" stroke=\"black\" stroke-linejoin=\"miter\" fill=\"lightgray\" />\n",
       "<text x=\"837\" y=\"112\" font-size=\"5\" text-anchor=\"start\" font-style=\"italic\">PNR</text>\n",
       "<path d=\"M825,175 L850,175\" stroke-width=\"3\" stroke=\"darkred\" stroke-linejoin=\"miter\" fill=\"none\" />\n",
       "<path d=\"M850,175 L875,175\" stroke-width=\"3\" stroke=\"orange\" stroke-linejoin=\"miter\" fill=\"none\" />\n",
       "<path d=\"M845,185 L837,185 L837,165 L845,165 C845,165,855,165,855,175 C855,185,845,185,845,185 L845,185\" stroke-width=\"1\" stroke=\"black\" stroke-linejoin=\"miter\" fill=\"lightgray\" />\n",
       "<text x=\"837\" y=\"162\" font-size=\"5\" text-anchor=\"start\" font-style=\"italic\">PNR</text>\n",
       "<path d=\"M825,225 L875,225\" stroke-width=\"3\" stroke=\"darkred\" stroke-linejoin=\"miter\" fill=\"none\" />\n",
       "<path d=\"M825,275 L875,275\" stroke-width=\"3\" stroke=\"darkred\" stroke-linejoin=\"miter\" fill=\"none\" />\n",
       "<path d=\"M849,210 L851,210 L851,290 L849,290 Z\" stroke=\"dimgrey\" fill=\"dimgrey\" stroke-linejoin=\"miter\" />\n",
       "<path d=\"M875,125 L975,125\" stroke-width=\"3\" stroke=\"orange\" stroke-linejoin=\"miter\" fill=\"none\" />\n",
       "<path d=\"M875,175 L975,175\" stroke-width=\"3\" stroke=\"orange\" stroke-linejoin=\"miter\" fill=\"none\" />\n",
       "<path d=\"M925,190.0 L925,205.0\" stroke=\"white\" stroke-width=\"5\" fill=\"none\" />\n",
       "<path d=\"M925,190.0 L925,205.0\" stroke=\"orange\" stroke-width=\"3\" fill=\"none\" stroke-dasharray=\"4,4\" />\n",
       "<path d=\"M925,198.0 L922,195.0\" stroke=\"orange\" stroke-width=\"3\" fill=\"none\" />\n",
       "<path d=\"M925,198.0 L928,195.0\" stroke=\"orange\" stroke-width=\"3\" fill=\"none\" />\n",
       "<path d=\"M880,110 L970,110 L970,190 L880,190 Z\" stroke=\"black\" fill=\"lightgreen\" stroke-linejoin=\"miter\" />\n",
       "<text x=\"925\" y=\"155.0\" font-size=\"10\" text-anchor=\"middle\">FFC</text>\n",
       "<path d=\"M875,225 L975,225\" stroke-width=\"3\" stroke=\"darkred\" stroke-linejoin=\"miter\" fill=\"none\" />\n",
       "<path d=\"M875,275 L975,275\" stroke-width=\"3\" stroke=\"darkred\" stroke-linejoin=\"miter\" fill=\"none\" />\n",
       "<path d=\"M880,205 L970,205 L970,295 L880,295 Z\" stroke=\"black\" fill=\"lightyellow\" stroke-linejoin=\"miter\" />\n",
       "<text x=\"925\" y=\"250\" font-size=\"10\" text-anchor=\"middle\">U(FFC)</text>\n",
       "<path d=\"M875,25.0 L975,25.0\" stroke=\"darkred\" stroke-width=\"3\" fill=\"none\" />\n",
       "<path d=\"M875,75.0 L975,75.0\" stroke=\"darkred\" stroke-width=\"3\" fill=\"none\" />\n",
       "<path d=\"M975,25 L1000,25\" stroke-width=\"3\" stroke=\"darkred\" stroke-linejoin=\"miter\" fill=\"none\" />\n",
       "<path d=\"M1000,25 L1025,25\" stroke-width=\"3\" stroke=\"orange\" stroke-linejoin=\"miter\" fill=\"none\" />\n",
       "<path d=\"M995,35 L987,35 L987,15 L995,15 C995,15,1005,15,1005,25 C1005,35,995,35,995,35 L995,35\" stroke-width=\"1\" stroke=\"black\" stroke-linejoin=\"miter\" fill=\"lightgray\" />\n",
       "<text x=\"987\" y=\"12\" font-size=\"5\" text-anchor=\"start\" font-style=\"italic\">PNR</text>\n",
       "<path d=\"M975,75 L1000,75\" stroke-width=\"3\" stroke=\"darkred\" stroke-linejoin=\"miter\" fill=\"none\" />\n",
       "<path d=\"M1000,75 L1025,75\" stroke-width=\"3\" stroke=\"orange\" stroke-linejoin=\"miter\" fill=\"none\" />\n",
       "<path d=\"M995,85 L987,85 L987,65 L995,65 C995,65,1005,65,1005,75 C1005,85,995,85,995,85 L995,85\" stroke-width=\"1\" stroke=\"black\" stroke-linejoin=\"miter\" fill=\"lightgray\" />\n",
       "<text x=\"987\" y=\"62\" font-size=\"5\" text-anchor=\"start\" font-style=\"italic\">PNR</text>\n",
       "<path d=\"M975,125 L1025,125\" stroke-width=\"3\" stroke=\"orange\" stroke-linejoin=\"miter\" fill=\"none\" />\n",
       "<path d=\"M975,175 L1025,175\" stroke-width=\"3\" stroke=\"orange\" stroke-linejoin=\"miter\" fill=\"none\" />\n",
       "<path d=\"M975,225 L1025,225\" stroke-width=\"3\" stroke=\"darkred\" stroke-linejoin=\"miter\" fill=\"none\" />\n",
       "<path d=\"M975,275 L1025,275\" stroke-width=\"3\" stroke=\"darkred\" stroke-linejoin=\"miter\" fill=\"none\" />\n",
       "<path d=\"M999,110 L1001,110 L1001,290 L999,290 Z\" stroke=\"dimgrey\" fill=\"dimgrey\" stroke-linejoin=\"miter\" />\n",
       "<path d=\"M1025,25 L1075,25\" stroke-width=\"3\" stroke=\"orange\" stroke-linejoin=\"miter\" fill=\"none\" />\n",
       "<path d=\"M1025,75 L1075,75\" stroke-width=\"3\" stroke=\"orange\" stroke-linejoin=\"miter\" fill=\"none\" />\n",
       "<path d=\"M1050,90.0 L1050,255.0\" stroke=\"white\" stroke-width=\"5\" fill=\"none\" />\n",
       "<path d=\"M1050,90.0 L1050,255.0\" stroke=\"orange\" stroke-width=\"3\" fill=\"none\" stroke-dasharray=\"4,4\" />\n",
       "<path d=\"M1050,98.0 L1047,95.0\" stroke=\"orange\" stroke-width=\"3\" fill=\"none\" />\n",
       "<path d=\"M1050,98.0 L1053,95.0\" stroke=\"orange\" stroke-width=\"3\" fill=\"none\" />\n",
       "<path d=\"M1030,10 L1070,10 L1070,90 L1030,90 Z\" stroke=\"black\" fill=\"lightgreen\" stroke-linejoin=\"miter\" />\n",
       "<text x=\"1050\" y=\"55.0\" font-size=\"10\" text-anchor=\"middle\">FFC</text>\n",
       "<path d=\"M1025,275 L1075,275\" stroke=\"darkred\" stroke-width=\"3\" fill=\"none\" />\n",
       "<path d=\"M1030,290 L1039,290 L1053,260 L1044,260 L1030,290 L1039,290 Z\" stroke=\"black\" fill=\"gray\" stroke-linejoin=\"miter\" />\n",
       "<text x=\"1047\" y=\"288\" font-size=\"7\" text-anchor=\"start\">Φ=phi</text>\n",
       "<path d=\"M1025,125.0 L1075,125.0\" stroke=\"orange\" stroke-width=\"3\" fill=\"none\" />\n",
       "<path d=\"M1025,175.0 L1075,175.0\" stroke=\"orange\" stroke-width=\"3\" fill=\"none\" />\n",
       "<path d=\"M1025,225.0 L1075,225.0\" stroke=\"darkred\" stroke-width=\"3\" fill=\"none\" />\n",
       "<path d=\"M1075,25.0 L1090,25.0\" stroke-width=\"3\" stroke=\"orange\" stroke-linejoin=\"miter\" fill=\"none\" />\n",
       "<path d=\"M1075,75.0 L1090,75.0\" stroke-width=\"3\" stroke=\"orange\" stroke-linejoin=\"miter\" fill=\"none\" />\n",
       "<path d=\"M1075,125.0 L1090,125.0\" stroke-width=\"3\" stroke=\"orange\" stroke-linejoin=\"miter\" fill=\"none\" />\n",
       "<path d=\"M1075,175.0 L1090,175.0\" stroke-width=\"3\" stroke=\"orange\" stroke-linejoin=\"miter\" fill=\"none\" />\n",
       "<path d=\"M1075,225.0 L1090,225.0\" stroke-width=\"3\" stroke=\"darkred\" stroke-linejoin=\"miter\" fill=\"none\" />\n",
       "<path d=\"M1075,275.0 L1090,275.0\" stroke-width=\"3\" stroke=\"darkred\" stroke-linejoin=\"miter\" fill=\"none\" />\n",
       "<path d=\"M307,175 C307,175,307,165,317,165 L325,165 L325,185 L317,185 C307,185,307,175,307,175 L307,175\" stroke-width=\"1\" stroke=\"black\" stroke-linejoin=\"miter\" fill=\"white\" />\n",
       "<text x=\"313\" y=\"191\" font-size=\"6\" text-anchor=\"middle\" font-style=\"italic\">[herald0]</text>\n",
       "<text x=\"317\" y=\"178\" font-size=\"7\" text-anchor=\"middle\">1</text>\n",
       "<path d=\"M257,275 C257,275,257,265,267,265 L275,265 L275,285 L267,285 C257,285,257,275,257,275 L257,275\" stroke-width=\"1\" stroke=\"black\" stroke-linejoin=\"miter\" fill=\"white\" />\n",
       "<text x=\"263\" y=\"291\" font-size=\"6\" text-anchor=\"middle\" font-style=\"italic\">[herald1]</text>\n",
       "<text x=\"267\" y=\"278\" font-size=\"7\" text-anchor=\"middle\">1</text>\n",
       "<path d=\"M1090,15 L1102,15 L1102,85 L1090,85 Z\" stroke=\"black\" fill=\"lightgray\" stroke-linejoin=\"miter\" />\n",
       "<text x=\"1102\" y=\"91\" font-size=\"6\" text-anchor=\"end\" font-style=\"italic\">[ctrl]</text>\n",
       "<path d=\"M1090,115 L1102,115 L1102,185 L1090,185 Z\" stroke=\"black\" fill=\"lightgray\" stroke-linejoin=\"miter\" />\n",
       "<text x=\"1102\" y=\"191\" font-size=\"6\" text-anchor=\"end\" font-style=\"italic\">[data]</text>\n",
       "<path d=\"M583,235 L575,235 L575,215 L583,215 C583,215,593,215,593,225 C593,235,583,235,583,235 L583,235\" stroke-width=\"1\" stroke=\"black\" stroke-linejoin=\"miter\" fill=\"white\" />\n",
       "<text x=\"588\" y=\"211\" font-size=\"6\" text-anchor=\"middle\" font-style=\"italic\">[herald0]</text>\n",
       "<text x=\"583\" y=\"228\" font-size=\"7\" text-anchor=\"middle\">1</text>\n",
       "<path d=\"M583,285 L575,285 L575,265 L583,265 C583,265,593,265,593,275 C593,285,583,285,583,285 L583,285\" stroke-width=\"1\" stroke=\"black\" stroke-linejoin=\"miter\" fill=\"white\" />\n",
       "<text x=\"588\" y=\"261\" font-size=\"6\" text-anchor=\"middle\" font-style=\"italic\">[herald1]</text>\n",
       "<text x=\"583\" y=\"278\" font-size=\"7\" text-anchor=\"middle\">1</text>\n",
       "<text x=\"1100\" y=\"28.0\" font-size=\"9\" text-anchor=\"end\">0</text>\n",
       "<text x=\"1100\" y=\"78.0\" font-size=\"9\" text-anchor=\"end\">1</text>\n",
       "<text x=\"1100\" y=\"128.0\" font-size=\"9\" text-anchor=\"end\">2</text>\n",
       "<text x=\"1100\" y=\"178.0\" font-size=\"9\" text-anchor=\"end\">3</text>\n",
       "<text x=\"1100\" y=\"228.0\" font-size=\"9\" text-anchor=\"end\">4</text>\n",
       "<text x=\"1100\" y=\"278.0\" font-size=\"9\" text-anchor=\"end\">5</text>\n",
       "<text x=\"0\" y=\"28.0\" font-size=\"9\" text-anchor=\"start\">0</text>\n",
       "<text x=\"0\" y=\"78.0\" font-size=\"9\" text-anchor=\"start\">1</text>\n",
       "<text x=\"0\" y=\"128.0\" font-size=\"9\" text-anchor=\"start\">2</text>\n",
       "<text x=\"0\" y=\"178.0\" font-size=\"9\" text-anchor=\"start\">3</text>\n",
       "<text x=\"0\" y=\"228.0\" font-size=\"9\" text-anchor=\"start\">4</text>\n",
       "<text x=\"0\" y=\"278.0\" font-size=\"9\" text-anchor=\"start\">5</text>\n",
       "</svg>"
      ],
      "text/plain": [
       "<drawsvg.drawing.Drawing at 0x278971ddfd0>"
      ]
     },
     "execution_count": 10,
     "metadata": {},
     "output_type": "execute_result"
    }
   ],
   "source": [
    "pcvl.pdisplay(p, recursive=True)"
   ]
  },
  {
   "cell_type": "markdown",
   "id": "be92f0ddd80ad218",
   "metadata": {},
   "source": [
    "### Simulation"
   ]
  },
  {
   "cell_type": "markdown",
   "id": "5324d67209a5f0ed",
   "metadata": {},
   "source": [
    "Now that we have both the input state and the processor, we can run the algorithm and check that it works."
   ]
  },
  {
   "cell_type": "code",
   "execution_count": 11,
   "id": "a438b878ced2cfe8",
   "metadata": {},
   "outputs": [
    {
     "name": "stdout",
     "output_type": "stream",
     "text": [
      "{'results': BSDistribution(<class 'float'>, {|0,1,0,1,1,0>: 0.07142857142857213, |0,1,0,1,0,1>: 0.1785714285714302, |0,1,1,0,0,1>: 0.17857142857142813, |0,1,1,0,1,0>: 0.07142857142857124, |1,0,1,0,1,0>: 0.07142857142856994, |1,0,1,0,0,1>: 0.17857142857142483, |1,0,0,1,1,0>: 0.07142857142857247, |1,0,0,1,0,1>: 0.17857142857143113}), 'global_perf': 0.07407407407408272}\n"
     ]
    }
   ],
   "source": [
    "p.min_detected_photons_filter(3)\n",
    "\n",
    "# Since we use a \"custom\" (understand not a BasicState) input state,\n",
    "# we have to add the heralds from the heralded cnot manually\n",
    "input_state *= pcvl.BasicState([1, 1])\n",
    "\n",
    "p.with_input(input_state)\n",
    "\n",
    "res = p.probs()\n",
    "print(res)"
   ]
  },
  {
   "cell_type": "markdown",
   "id": "78778a2ac0806cd1",
   "metadata": {},
   "source": [
    "Notice that when using feed-forward, the performance indicators are replaced by a single indicator \"global_perf\", which represents the probability that an output state checks all requirements. In our case, this corresponds to the CNOT gate performance: $2 / 27 \\approx 0.074$.\n",
    "\n",
    "For the results, we don't need to know what was measured by Alice, so we need to squash the resulting probabilities to keep only the two last modes."
   ]
  },
  {
   "cell_type": "code",
   "execution_count": 12,
   "id": "3e6a8afe9b080f15",
   "metadata": {},
   "outputs": [
    {
     "name": "stdout",
     "output_type": "stream",
     "text": [
      "{\n",
      "  |1,0>: 0.28571428571428575\n",
      "  |0,1>: 0.7142857142857143\n",
      "}\n"
     ]
    }
   ],
   "source": [
    "print(squash_results(res[\"results\"], 4))"
   ]
  },
  {
   "cell_type": "markdown",
   "id": "e656019381c106b2",
   "metadata": {},
   "source": [
    "We can now apply our tomography process to check that Bob's qubit is now the initial qubit that Alice wanted to transmit."
   ]
  },
  {
   "cell_type": "code",
   "execution_count": 13,
   "id": "beea8ac653d00512",
   "metadata": {},
   "outputs": [
    {
     "name": "stdout",
     "output_type": "stream",
     "text": [
      "0.535*|1,0>+(0.267+0.802I)*|0,1>\n"
     ]
    }
   ],
   "source": [
    "print(tomography(p, 4))"
   ]
  },
  {
   "cell_type": "markdown",
   "id": "6ca68df83bec38d0",
   "metadata": {},
   "source": [
    "We get the state that we wanted to transmit, meaning that the algorithm works well with perceval's feed-forward feature."
   ]
  },
  {
   "cell_type": "markdown",
   "id": "71027fa0c349b9d1",
   "metadata": {},
   "source": [
    "## References\n",
    "\n",
    "> [1] C. H. Bennett, G. Brassard, C. Crépeau, R. Jozsa, A. Peres and W. K. Wootters, “Teleporting an unknown quantum state via dual classical and Einstein-Podolsky-Rosen channels”, [Phys. Rev. Lett.](https://journals.aps.org/prl/abstract/10.1103/PhysRevLett.70.1895) **70**, 1895 (1993)."
   ]
  }
 ],
 "metadata": {
  "language_info": {
   "name": "python"
  }
 },
 "nbformat": 4,
 "nbformat_minor": 5
}
