{
 "cells": [
  {
   "cell_type": "markdown",
   "id": "1e8f0581",
   "metadata": {},
   "source": [
    "# Simple Variational Quantum Algorithm"
   ]
  },
  {
   "cell_type": "markdown",
   "id": "25a047bb",
   "metadata": {},
   "source": [
    "In variational algorithms, the samples from a quantum circuit allow us to approximate an expectation value, which is then used to determine the value of a loss function. This loss function is chosen such that minimising it yields a solution to a given problem. By changing the values of the parameters in our quantum circuit, we can search for this minimum.\n",
    "\n",
    "We won't go into the details of variational algorithms. However, it may be useful to see how to perform such an optimisation with Perceval.\n",
    "\n",
    "We will use the library [scipy.optimise](https://docs.scipy.org/doc/scipy/reference/generated/scipy.optimize.minimize.html#scipy.optimize.minimize).\n",
    "\n",
    "The following code solves the problem of finding a LO-Circuit which, given a Fock State $|1,1,1,1\\rangle$, maximises the probability of outputting $|4,0,0,0\\rangle$.\n",
    "The solution below works for an arbitrary $n$."
   ]
  },
  {
   "cell_type": "code",
   "execution_count": null,
   "id": "3e383966",
   "metadata": {},
   "outputs": [],
   "source": [
    "# Required imports\n",
    "import numpy as np\n",
    "from perceval import BasicState, BS, GenericInterferometer, SLOSBackend, Parameter, PS, Unitary, Matrix, pdisplay\n",
    "from random import random\n",
    "from scipy import optimize"
   ]
  },
  {
   "cell_type": "code",
   "execution_count": null,
   "id": "a8e4fe4a",
   "metadata": {},
   "outputs": [],
   "source": [
    "# Data\n",
    "n = 4\n",
    "input_state = BasicState([1]*n)\n",
    "output_to_max = BasicState([n]+[0]*(n-1))\n",
    "backend = SLOSBackend()\n",
    "\n",
    "# We create a generic interferometer (variable parameters make it universal - i.e. it can implement any unitary transformation)\n",
    "circuit = GenericInterferometer(n,\n",
    "    lambda i: BS(theta=Parameter(f\"theta{i}\"), phi_tr=Parameter(f\"phi_tr{i}\")),\n",
    "    phase_shifter_fun_gen=lambda i: PS(phi=Parameter(f\"phi{i}\")))\n",
    "param_circuit = circuit.get_parameters()\n",
    "params_init = [random()*np.pi for _ in param_circuit]\n",
    "\n",
    "pdisplay(circuit)"
   ]
  },
  {
   "cell_type": "code",
   "execution_count": null,
   "id": "9d4968e6",
   "metadata": {},
   "outputs": [],
   "source": [
    "# Define a loss function...\n",
    "def loss_function(params):\n",
    "    for i, value in enumerate(params):\n",
    "        param_circuit[i].set_value(value)\n",
    "    backend.set_circuit(circuit)\n",
    "    backend.set_input_state(input_state)\n",
    "    return - backend.probability(output_to_max)  # we want to maximise the prob, so we want to minimise the -prob\n",
    "\n",
    "# ... and run the optimisation\n",
    "o = optimize.minimize(loss_function, params_init, method=\"Powell\")\n",
    "\n",
    "# For n = 4, it is known that the probability should be 3/32 = 0.09375\n",
    "print(f\"The maximum probability is {-loss_function(o.x)}\")"
   ]
  },
  {
   "cell_type": "code",
   "execution_count": null,
   "id": "3aa08fb1",
   "metadata": {},
   "outputs": [],
   "source": [
    "# The maximum can also be obtained with the Hadamard matrix :\n",
    "H4 = (1/2) * np.array([[1, 1, 1, 1], [1, -1, 1, -1], [1, 1, -1, -1], [1, -1, -1, 1]])\n",
    "backend.set_circuit(Unitary(Matrix(H4)))\n",
    "backend.set_input_state(input_state)\n",
    "print(f\"Using the Hadamard matrix gives {backend.probability(output_to_max)}\")"
   ]
  }
 ],
 "metadata": {
  "language_info": {
   "name": "python"
  }
 },
 "nbformat": 4,
 "nbformat_minor": 5
}
