{
 "cells": [
  {
   "cell_type": "markdown",
   "id": "357ebaaf",
   "metadata": {},
   "source": [
    "# Gedik's algorithm with qudit encoding"
   ]
  },
  {
   "cell_type": "markdown",
   "id": "4a6f1669",
   "metadata": {},
   "source": [
    "In this notebook we implement Gedik's Algorithm (a quantum algorithm that provides computational speedup and solves a black-box problem), inspired by the following papers:\n",
    "\n",
    "[1] Gedik, Zafer, et al. “Computational speed-up with a single qudit.” Scientific reports 5.1 (2015): 14671.\n",
    "\n",
    "[2] Zhan, Xiang, et al. “Linear optical demonstration of quantum speed-up with a single qudit.” Optics Express 23.14 (2015): 18422-18427. "
   ]
  },
  {
   "cell_type": "markdown",
   "id": "3a21ee99fb46bf5b",
   "metadata": {
    "collapsed": false
   },
   "source": [
    "## Introduction"
   ]
  },
  {
   "cell_type": "markdown",
   "id": "51f897b6",
   "metadata": {},
   "source": [
    "This notebook is about implementing Gedik's Algorithm using Perceval. The specific algorithm is considered a Quantum Algorithm which tries to solve a problem by taking advantage of the attributes of a Quantum Computer. Gedik's algorithm is used to solve a black-box problem. The main task of the algorithm is to determine whether a specific permutation is clockwise or counterclockwise. This translates as a problem of finding the parity of the permutation. In order to implement the code efficiently, we used one qudit with 4 dimensions (ququart). \n",
    "\n",
    "Gedik's algorithm provides an example of a quantum algorithm that provides a speed-up compared to its classical implementation. This happens because in the classical case at least two function evaluations are required to find the parity of the permutation. For the quantum case only one function evaluation is enough to determine the parity of the permutation."
   ]
  },
  {
   "cell_type": "code",
   "execution_count": 13,
   "id": "fd9fbb7a",
   "metadata": {},
   "outputs": [],
   "source": [
    "from time import sleep\n",
    "import numpy as np\n",
    "import matplotlib.pyplot as plt\n",
    "import perceval as pcvl\n",
    "import perceval.components as comp\n",
    "from perceval.algorithm import Sampler"
   ]
  },
  {
   "cell_type": "markdown",
   "id": "40ed29c2",
   "metadata": {},
   "source": [
    "The algorithm can be broken down in three parts. The Quantum Fourier Transform (QFT), the permutation operation and the inverse Quantum Fourier Transform."
   ]
  },
  {
   "cell_type": "markdown",
   "id": "b551c9f4",
   "metadata": {},
   "source": [
    "## Permutation Operation"
   ]
  },
  {
   "cell_type": "markdown",
   "id": "709d4e3a",
   "metadata": {},
   "source": [
    "This part contains all the code that is necessary to implement all the different permutation types. We have eight different permutation operators that can be implemented in various ways using Perceval. The gates that we need to implement are the CNOT and the PAULI X."
   ]
  },
  {
   "cell_type": "code",
   "execution_count": 14,
   "id": "d4be6a95",
   "metadata": {},
   "outputs": [],
   "source": [
    "# Because we used qudit encoding the CNOT gates can be implemented as unitaries. \n",
    "# We can also use Perceval's PERM function for the implementation.\n",
    "# The following is the unitary of a CNOT gate.\n",
    "cnot_m_01 = pcvl.Matrix([[1,0,0,0],\n",
    "                         [0,1,0,0],\n",
    "                         [0,0,0,1],\n",
    "                         [0,0,1,0]])\n",
    "\n",
    "# This is a CNOT gate with different control and target qubits.\n",
    "cnot_m_10 = pcvl.Matrix([[1, 0, 0, 0],\n",
    "                         [0, 0, 0, 1],\n",
    "                         [0, 0, 1, 0],\n",
    "                         [0, 1, 0, 0]])\n",
    "\n",
    "cnot_01 = comp.Unitary(U = cnot_m_01)\n",
    "cnot_10 = comp.Unitary(U = cnot_m_10)"
   ]
  },
  {
   "cell_type": "code",
   "execution_count": 15,
   "id": "63056235",
   "metadata": {},
   "outputs": [],
   "source": [
    "# We can do the same with the X gates. We can implement them based on unitaries \n",
    "# Because of the qudit encoding XI or IX or XX must be implemented.\n",
    "# We can also use PERM for the implementation as well.\n",
    "X = np.array([[0,1],\n",
    "              [1,0]])\n",
    "\n",
    "XI_m = np.kron(X, np.eye(2))\n",
    "XI_mp = pcvl.Matrix(XI_m)\n",
    "\n",
    "IX_m = np.kron(np.eye(2), X)\n",
    "IX_mp = pcvl.Matrix(IX_m)\n",
    "\n",
    "XX_m = np.kron(X, X)\n",
    "XX_mp = pcvl.Matrix(XX_m)\n",
    "\n",
    "XI = comp.Unitary(U = XI_mp)\n",
    "IX = comp.Unitary(U = IX_mp)\n",
    "XX = comp.Unitary(U = XX_mp)"
   ]
  },
  {
   "cell_type": "code",
   "execution_count": 16,
   "id": "43ab128d",
   "metadata": {},
   "outputs": [],
   "source": [
    "def perm(number, cnot, process):\n",
    "    \"\"\"\n",
    "    Function that creates all the permutations in a Perceval's process encoding.\n",
    "    Inputs:\n",
    "        number (int): the number of the permutation.\n",
    "        cnot (unitary): the type of CNOT to be used in the experiment.\n",
    "        process (process): the process on which the permutations will be added.\n",
    "    Outputs:\n",
    "        process (process): the process that will contain all the permutations\n",
    "    \"\"\"\n",
    "    \n",
    "    if number == 1:\n",
    "        process.add(0, cnot)\n",
    "        process.add(0, IX)\n",
    "    \n",
    "    elif number == 2:\n",
    "        process.add(0, XI)\n",
    "    \n",
    "    elif number == 3:\n",
    "        process.add(0, cnot)\n",
    "        process.add(0, XX)\n",
    "        \n",
    "    elif number == 4:\n",
    "        process.add(0, cnot)\n",
    "    \n",
    "    elif number == 5:\n",
    "        process.add(0, IX)\n",
    "    \n",
    "    elif number == 6:\n",
    "        process.add(0, cnot)\n",
    "        process.add(0, XI)\n",
    "    \n",
    "    elif number == 7:\n",
    "        process.add(0, XX)\n",
    "        \n",
    "    print(f'Permutation {number}: Completed')\n",
    "        \n",
    "    return process"
   ]
  },
  {
   "cell_type": "markdown",
   "id": "5a7d88b5",
   "metadata": {},
   "source": [
    "## Quantum Fourier Transform (QFT)"
   ]
  },
  {
   "cell_type": "markdown",
   "id": "90937564",
   "metadata": {},
   "source": [
    "There are a lot of different ways to implement the QFT in Perceval. One of them is to decompose the QFT circuit to one-qubit gates and CNOTs in order to make it easier to apply. However, using the qudit encoding we can also implement the QFT using its unitary matrix."
   ]
  },
  {
   "cell_type": "code",
   "execution_count": 17,
   "id": "66a3599e",
   "metadata": {},
   "outputs": [],
   "source": [
    "# Implementation of QFT by using its unitary matrix.\n",
    "# This works because we use qudit encoding.\n",
    "qft = pcvl.Matrix([[1/2, 1/2, 1/2, 1/2],\n",
    "                   [1/2, 1j/2, -1/2, -1j/2],\n",
    "                   [1/2, -1/2, 1/2, -1/2],\n",
    "                   [1/2, -1j/2, -1/2, 1j/2]])\n",
    "\n",
    "qft_unit = comp.Unitary(U = qft)"
   ]
  },
  {
   "cell_type": "markdown",
   "id": "8099dde0",
   "metadata": {},
   "source": [
    "## Inverse Quantum Fourier Transform (Inverse QFT)"
   ]
  },
  {
   "cell_type": "markdown",
   "id": "aec976d9",
   "metadata": {},
   "source": [
    "The same holds for the Inverse QFT. It is not easy to be implemented in Perceval. However, using the qudit encoding it becomes much easier to make it work."
   ]
  },
  {
   "cell_type": "code",
   "execution_count": 18,
   "id": "7c82f552",
   "metadata": {},
   "outputs": [],
   "source": [
    "# Implementation of inverse QFT by using its unitary matrix.\n",
    "inv_qft = qft.inv()\n",
    "\n",
    "inv_qft_unit = comp.Unitary(U = inv_qft)"
   ]
  },
  {
   "cell_type": "markdown",
   "id": "2346197d",
   "metadata": {},
   "source": [
    "## Implementation of the process using Perceval"
   ]
  },
  {
   "cell_type": "markdown",
   "id": "0b5d399c",
   "metadata": {},
   "source": [
    "Creation of a process in Perceval in order to implement the Quantum Circuit needed for Gedik's Algorithm. All the necessary gates will be added to the specific process."
   ]
  },
  {
   "cell_type": "markdown",
   "id": "9bc8f374",
   "metadata": {},
   "source": [
    "We have to define the input state that will be used in the process. \n",
    "With the qudit encoding the input state will be different from the regular qubit encoding.\n",
    "The mapping will be as follows.\n",
    "\n",
    "$|00\\rangle$: $|1,0,0,0\\rangle$ \n",
    "\n",
    "$|01\\rangle$: $|0,1,0,0\\rangle$ \n",
    "\n",
    "$|10\\rangle$: $|0,0,1,0\\rangle$ \n",
    "\n",
    "$|11\\rangle$: $|0,0,0,1\\rangle$ \n",
    "\n",
    "For Gedik's Algorithm the input state must be the $|01\\rangle$ state. "
   ]
  },
  {
   "cell_type": "code",
   "execution_count": 19,
   "id": "d73e4fb0",
   "metadata": {},
   "outputs": [],
   "source": [
    "def algo_proc(perm_no, qft_ver, inv_qft_ver):\n",
    "    \"\"\"\n",
    "    Function that implements Gedik's algorithm in a non-noisy simulator.\n",
    "    Gives us the theoretical results. Useful because we will compare them with experimental.\n",
    "    Inputs: \n",
    "        perm_no (int): the number of the permutation that we want to test.\n",
    "        qft (unitary): the type of the QFT to be used.\n",
    "        inv_qft (unitary): the type of the inverse QFT to be used.\n",
    "    Outputs: \n",
    "        res (dict): the result of the sim process with probs.\n",
    "    \"\"\" \n",
    "    assert perm_no in range(8), 'perm_no can take values from 0 to 7.'\n",
    "    \n",
    "    pr = pcvl.Processor(\"SLOS\", 4)\n",
    "    \n",
    "    # Add the QFT procedure in the process.\n",
    "    pr.add(0, qft_ver)\n",
    "    \n",
    "    # Add the permutation operator that has to be checked, by choosing a number between 0 and 7.\n",
    "    # The first four correspond to plus permutations and (theoretically) we expect them to return |01> \n",
    "    # while the other four correspond to minus permutations and (theoretically) we expect them to return |11>.\n",
    "    perm(perm_no, cnot_10, pr)\n",
    "    \n",
    "    # The final part of Gedik's algorithm is to insert the inverse QFT procedure.\n",
    "    pr.add(0, inv_qft_ver)\n",
    "    \n",
    "    input_state = pcvl.BasicState([0,1,0,0])\n",
    "    \n",
    "    pr.with_input(input_state)\n",
    "    \n",
    "    res = pr.probs()['results']\n",
    "    \n",
    "    return res"
   ]
  },
  {
   "cell_type": "code",
   "execution_count": 20,
   "id": "c0d84243",
   "metadata": {},
   "outputs": [
    {
     "name": "stdout",
     "output_type": "stream",
     "text": [
      "Permutation 0: Completed\n",
      "{\n",
      "  |0,1,0,0>: 1.0\n",
      "}\n",
      "Permutation 1: Completed\n",
      "{\n",
      "  |0,1,0,0>: 1.0\n",
      "}\n",
      "Permutation 2: Completed\n",
      "{\n",
      "  |0,1,0,0>: 1.0\n",
      "}\n",
      "Permutation 3: Completed\n",
      "{\n",
      "  |0,1,0,0>: 1.0\n",
      "}\n",
      "Permutation 4: Completed\n",
      "{\n",
      "  |0,0,0,1>: 1.0\n",
      "}\n",
      "Permutation 5: Completed\n",
      "{\n",
      "  |0,0,0,1>: 1.0\n",
      "}\n",
      "Permutation 6: Completed\n",
      "{\n",
      "  |0,0,0,1>: 1.0\n",
      "}\n",
      "Permutation 7: Completed\n",
      "{\n",
      "  |0,0,0,1>: 1.0\n",
      "}\n"
     ]
    }
   ],
   "source": [
    "# Run the circuit using as the initial state the one that was defined above.\n",
    "for i in range(8):\n",
    "    print(algo_proc(i, qft_unit, inv_qft_unit))"
   ]
  },
  {
   "cell_type": "markdown",
   "id": "2c1fb45e",
   "metadata": {},
   "source": [
    "## Try the implementation of the algorithm in a noisy simulator"
   ]
  },
  {
   "cell_type": "markdown",
   "id": "a5fc6d5f",
   "metadata": {},
   "source": [
    "We will use Quandela's remote processor in order to let Gedik's algorithm run in a noisy simulator. \n",
    "This will help us have a better look regarding the efficiency of the implementation. In this section we will use a simulator of the QPU that is provided via \"sim:ascella\"."
   ]
  },
  {
   "cell_type": "code",
   "execution_count": 21,
   "id": "fd28f794",
   "metadata": {},
   "outputs": [],
   "source": [
    "# Save your token into Perceval persistent data, you only need to do it once.\n",
    "pcvl.save_token(\"MY_TOKEN\")\n",
    "\n",
    "remote_pr = pcvl.RemoteProcessor(\"sim:ascella\")"
   ]
  },
  {
   "cell_type": "code",
   "execution_count": 22,
   "id": "45a99207",
   "metadata": {},
   "outputs": [
    {
     "name": "stdout",
     "output_type": "stream",
     "text": [
      "Permutation 3: Completed\n"
     ]
    },
    {
     "data": {
      "text/plain": [
       "<perceval.runtime.remote_processor.RemoteProcessor at 0x7f4b7df3ed40>"
      ]
     },
     "execution_count": 22,
     "metadata": {},
     "output_type": "execute_result"
    }
   ],
   "source": [
    "# Define the physical parameters that we need.\n",
    "remote_pr.noise = pcvl.NoiseModel(indistinguishability=.95, transmittance=.1, g2=.01)\n",
    "remote_pr.min_detected_photons_filter(1)\n",
    "\n",
    "# Add all the necessary components to the processor.\n",
    "# We can try different permutations by modifying the number variable of the perm function.\n",
    "# The numbers that are valid are from 0 to 7.\n",
    "remote_pr.add(0, qft_unit)\n",
    "perm(3, cnot_10, remote_pr)\n",
    "remote_pr.add(0, inv_qft_unit)"
   ]
  },
  {
   "cell_type": "code",
   "execution_count": 23,
   "id": "4f8fc28c",
   "metadata": {},
   "outputs": [],
   "source": [
    "# Define and run the processor with the predefined input state\n",
    "input_state = pcvl.BasicState([0,1,0,0])\n",
    "\n",
    "remote_pr.with_input(input_state)"
   ]
  },
  {
   "cell_type": "code",
   "execution_count": 24,
   "id": "653a2620",
   "metadata": {},
   "outputs": [],
   "source": [
    "# We can use the sampler module in order to get the results of the algorithm.\n",
    "sampler = Sampler(remote_pr, max_shots_per_call=10000000)\n",
    "sampler.default_job_name = \"Gediks_Algo\"\n",
    "\n",
    "nsample = 100000\n",
    "remote_job = sampler.sample_count.execute_async(nsample)"
   ]
  },
  {
   "cell_type": "code",
   "execution_count": 26,
   "id": "933c5974",
   "metadata": {},
   "outputs": [
    {
     "name": "stdout",
     "output_type": "stream",
     "text": [
      "{\n",
      "  |0,1,0,0>: 100000\n",
      "}\n"
     ]
    }
   ],
   "source": [
    "# Get the results once they are available after the completion of sampling.\n",
    "while not remote_job.status.completed:\n",
    "    sleep(1)\n",
    "results = remote_job.get_results()\n",
    "print(results['results'])"
   ]
  },
  {
   "cell_type": "markdown",
   "id": "92cdcb25",
   "metadata": {},
   "source": [
    "We will use Quandela's remote processor in order to let Gedik's algorithm run in a noisy simulator. This will help us have a better look regarding the efficiency of the implementation. In this section we will use the actual QPU that is provided via \"qpu:ascella\"."
   ]
  },
  {
   "cell_type": "code",
   "execution_count": 28,
   "id": "c2f41bad",
   "metadata": {},
   "outputs": [],
   "source": [
    "remote_qpu = pcvl.RemoteProcessor(\"qpu:ascella\")\n",
    "\n",
    "def algo_qpu(perm_no, qft_ver, inv_qft_ver):\n",
    "    \"\"\"\n",
    "    Function that implements Gedik's algorithm with a format that will be run on the QPU.\n",
    "    Inputs: \n",
    "        perm_no (int): the number of the permutation to be added.\n",
    "        qft (unitary): the unitary that will implement the QFT procedure.\n",
    "        inv_qft (unitary): the unitary that will implement the inverse QFT procedure.\n",
    "        token (str): the token to implement the experiment in the QPU.\n",
    "    Outputs:\n",
    "        remote_job_qpu: creates a remote job object that will be used to run the \n",
    "            experiments on the QPU\n",
    "    \"\"\"\n",
    "    remote_qpu.clear_input_and_circuit()\n",
    "    remote_qpu.add(0, qft_ver)\n",
    "    perm(perm_no, cnot_10, remote_qpu)\n",
    "    remote_qpu.add(0, inv_qft_ver)\n",
    "    \n",
    "    input_state = pcvl.BasicState([0,1,0,0])\n",
    "\n",
    "    remote_qpu.with_input(input_state)\n",
    "    \n",
    "    sampler_on_qpu = Sampler(remote_qpu, max_shots_per_call=10000000)\n",
    "\n",
    "    nsample = 200000\n",
    "    remote_job_qpu = sampler_on_qpu.sample_count  \n",
    "    remote_job_qpu.name = \"Gediks_Algo_QPU\"\n",
    "    remote_job_qpu.execute_async(nsample)\n",
    "    \n",
    "    return remote_job_qpu"
   ]
  },
  {
   "cell_type": "code",
   "execution_count": 39,
   "id": "ad6655b8",
   "metadata": {},
   "outputs": [
    {
     "name": "stdout",
     "output_type": "stream",
     "text": [
      "Permutation 0: Completed\n",
      "Permutation 1: Completed\n",
      "Permutation 2: Completed\n",
      "Permutation 3: Completed\n",
      "Permutation 4: Completed\n",
      "Permutation 5: Completed\n",
      "Permutation 6: Completed\n",
      "Permutation 7: Completed\n"
     ]
    }
   ],
   "source": [
    "# Run the algorithm on the QPU for all the permutations\n",
    "jobs = []\n",
    "for i in range(8):\n",
    "    jobs.append(algo_qpu(i, qft_unit, inv_qft_unit))"
   ]
  },
  {
   "cell_type": "code",
   "execution_count": 41,
   "id": "9df02c29",
   "metadata": {},
   "outputs": [],
   "source": [
    "# Get the results once they are available\n",
    "data_qpu = []\n",
    "for i in range(8):\n",
    "    while not jobs[i].status.completed:\n",
    "        sleep(1)\n",
    "    data_qpu.append(jobs[i].get_results()['results'])"
   ]
  },
  {
   "cell_type": "code",
   "execution_count": null,
   "id": "54bf8cc3",
   "metadata": {},
   "outputs": [],
   "source": [
    "# Transform the results returned from Ascella to percentages to add them to \n",
    "# plots and compare them with the non-noisy results.\n",
    "data_qpu_prob = []\n",
    "for res_qpu in data_qpu:\n",
    "    total = sum(res_qpu.values())\n",
    "    res_qpu_dict = {k: v / total for k, v in res_qpu.items()}\n",
    "    data_qpu_prob.append(res_qpu_dict)"
   ]
  },
  {
   "cell_type": "markdown",
   "id": "684c8e13",
   "metadata": {},
   "source": [
    "## Create Plots"
   ]
  },
  {
   "cell_type": "markdown",
   "id": "697a7aae",
   "metadata": {},
   "source": [
    "Modify the data from the results in order to plot it properly."
   ]
  },
  {
   "cell_type": "code",
   "execution_count": null,
   "id": "53c67163",
   "metadata": {},
   "outputs": [
    {
     "name": "stdout",
     "output_type": "stream",
     "text": [
      "Permutation 0: Completed\n",
      "Permutation 1: Completed\n",
      "Permutation 2: Completed\n",
      "Permutation 3: Completed\n",
      "Permutation 4: Completed\n",
      "Permutation 5: Completed\n",
      "Permutation 6: Completed\n",
      "Permutation 7: Completed\n"
     ]
    }
   ],
   "source": [
    "# Create a state map that maps the results that from Perceval using the qudit encoding \n",
    "# with the states in the qubit encoding.\n",
    "state_map = {\n",
    "        '|1,0,0,0>': '00',\n",
    "        '|0,1,0,0>': '01',\n",
    "        '|0,0,1,0>': '10',\n",
    "        '|0,0,0,1>': '11'\n",
    "        }\n",
    "\n",
    "# Run the algorithm with all the permutations and store the results.\n",
    "data_n = []\n",
    "for i in range(8):\n",
    "    data_n.append(algo_proc(i, qft_unit, inv_qft_unit))"
   ]
  },
  {
   "cell_type": "code",
   "execution_count": null,
   "id": "2a01f130",
   "metadata": {},
   "outputs": [],
   "source": [
    "def cr_data(res_map, st_map):\n",
    "    \"\"\"\n",
    "    Function that is used to map the states with qudit encoding to the ones with qubit encoding\n",
    "    and also add the probabilities of each state after the completion of the algorithm.\n",
    "    Inputs: \n",
    "        res_map (dict): dictionary that contains all the data from the experiments.\n",
    "        state_map (dict): a dictionary that contains a mapping between Fock space states (in qudit encoding)\n",
    "            and Hilbert space states in qubit encoding. \n",
    "    Outputs:\n",
    "        dict_f (dict): a dictionary containing all possible states in qubit encoding and their respective\n",
    "            probabilities of occurrence.\n",
    "    \"\"\"\n",
    "    dict_f = {'00': 0,\n",
    "              '01': 0,\n",
    "              '10': 0,\n",
    "              '11': 0}\n",
    "\n",
    "    for k,v in res_map.items():\n",
    "        for state in st_map.keys():\n",
    "            if str(k) == state:\n",
    "                dict_f[state_map[str(k)]] += v\n",
    "\n",
    "    return dict_f"
   ]
  },
  {
   "cell_type": "code",
   "execution_count": null,
   "id": "2aec5807",
   "metadata": {},
   "outputs": [],
   "source": [
    "# Use of cr_data function in order to modify the data for all the permutations in order to make it ready for plotting.\n",
    "data_plt = []\n",
    "for i in range(8):\n",
    "    data_plt.append(cr_data(data_n[i], state_map))\n",
    "    \n",
    "data_plt_qpu = []\n",
    "for i in range(8):\n",
    "    data_plt_qpu.append(cr_data(data_qpu_prob[i], state_map))"
   ]
  },
  {
   "cell_type": "code",
   "execution_count": null,
   "id": "c5cf2fc1",
   "metadata": {},
   "outputs": [
    {
     "data": {
      "text/plain": [
       "<matplotlib.legend.Legend at 0x2830d8250>"
      ]
     },
     "execution_count": 100,
     "metadata": {},
     "output_type": "execute_result"
    },
    {
     "data": {
      "image/png": "[encoded data removed]",
      "text/plain": [
       "<Figure size 640x480 with 8 Axes>"
      ]
     },
     "metadata": {},
     "output_type": "display_data"
    }
   ],
   "source": [
    "# Create subplots for the results of all the permutations after applying Gedik's algorithm.\n",
    "# The results are identical to those from the paper.\n",
    "width = 0.4\n",
    "r = np.arange(len(data_plt[0].keys()))\n",
    "\n",
    "fig, axs = plt.subplots(2, 4)\n",
    "for i in range(8):\n",
    "    a = i // 4\n",
    "    b = i - 4 * a\n",
    "    l1 = axs[a, b].bar(r - 0.2, data_plt[i].values(), width=width)\n",
    "    l2 = axs[a, b].bar(r + 0.2, data_plt_qpu[i].values(), width=width)\n",
    "    axs[a, b].set_title(f'Perm {i}+')\n",
    "\n",
    "fig.tight_layout()\n",
    "\n",
    "plt.setp(axs, xticks=r, xticklabels=data_plt[0].keys())\n",
    "\n",
    "axs[0,0].set(ylabel='Probability')\n",
    "axs[1,0].set(ylabel='Probability')\n",
    "\n",
    "fig.legend(('Sim without noise', 'Ascella (QPU)'), bbox_to_anchor=(1.24, 1))"
   ]
  },
  {
   "cell_type": "markdown",
   "id": "36264c0262d96153",
   "metadata": {
    "collapsed": false
   },
   "source": [
    "## References"
   ]
  },
  {
   "cell_type": "markdown",
   "id": "5521e245bcb7700e",
   "metadata": {
    "collapsed": false
   },
   "source": [
    "[1] Gedik, Zafer, et al. \"Computational speed-up with a single qudit.\" Scientific reports 5.1 (2015): 14671.\n",
    "\n",
    "[2] Zhan, Xiang, et al. \"Linear optical demonstration of quantum speed-up with a single qudit.\" Optics Express 23.14 (2015): 18422-18427."
   ]
  }
 ],
 "metadata": {
  "language_info": {
   "name": "python"
  }
 },
 "nbformat": 4,
 "nbformat_minor": 5
}
