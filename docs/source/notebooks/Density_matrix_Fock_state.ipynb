{
 "cells": [
  {
   "cell_type": "markdown",
   "metadata": {
    "collapsed": false
   },
   "source": [
    "# Density matrices in Fock space"
   ]
  },
  {
   "cell_type": "markdown",
   "metadata": {
    "collapsed": false
   },
   "source": [
    "In this notebook we introduce our new feature: __density matrices__ in __fock space__ - and explore their application. Fock space is a mathematical framework to describe the quantum states of a system with variable number of particles, __photons__ in our case. Note that this space is much larger than the computational/logical space. Fock space is native to _Perceval_ and hence these matrices can be indispensable for linear optic computation.\n",
    "\n",
    "The difference in the basis is demonstrated in the following example of 1-qubit X gate flipping the state of 1 input photon. In logical space, the basic states of the system will be $|0\\rangle$, and $|1\\rangle$. The linear optical circuit implementation for this gate involves a 2 mode circuit with basic states $|00\\rangle$, $|10\\rangle$, $|01\\rangle$, and, $|11\\rangle$.\n",
    "\n",
    "We will use a simple _Bell state_ generation and measurements to present the features of our density matrices.\n"
   ]
  },
  {
   "cell_type": "code",
   "execution_count": 99,
   "metadata": {},
   "outputs": [],
   "source": [
    "import perceval as pcvl\n",
    "from perceval.components import BS, Source, PS, Circuit, catalog, PERM\n",
    "import numpy as np\n",
    "from perceval.utils import BasicState, DensityMatrix, StateGenerator, Encoding\n",
    "from perceval import Simulator\n",
    "from perceval.backends import SLOSBackend\n"
   ]
  },
  {
   "cell_type": "markdown",
   "metadata": {
    "collapsed": false
   },
   "source": [
    "Let's first look at a simple 2 mode beam splitter for functional use of density matrices"
   ]
  },
  {
   "cell_type": "code",
   "execution_count": 162,
   "metadata": {},
   "outputs": [
    {
     "name": "stdout",
     "output_type": "stream",
     "text": [
      "sqrt(2)/2*|2,0>-sqrt(2)/2*|0,2>\n"
     ]
    }
   ],
   "source": [
    "circuit = BS.H()\n",
    "\n",
    "sim = Simulator(SLOSBackend())\n",
    "sim.set_circuit(circuit)\n",
    "\n",
    "output_state = sim.evolve(BasicState([1, 1]))\n",
    "print(output_state)"
   ]
  },
  {
   "cell_type": "markdown",
   "metadata": {
    "collapsed": false
   },
   "source": [
    "Any svd can be converted to a Density matrix"
   ]
  },
  {
   "cell_type": "code",
   "execution_count": 163,
   "metadata": {},
   "outputs": [
    {
     "name": "stdout",
     "output_type": "stream",
     "text": [
      "0.50+0.00j*|2,0><2,0|+-0.50+0.00j*|0,2><2,0|+-0.50+0.00j*|2,0><0,2|+0.50+0.00j*|0,2><0,2|\n"
     ]
    },
    {
     "data": {
      "image/png": "[encoded data removed]",
      "text/plain": [
       "<Figure size 640x480 with 1 Axes>"
      ]
     },
     "metadata": {},
     "output_type": "display_data"
    }
   ],
   "source": [
    "output_density_matrix = DensityMatrix.from_svd(output_state)\n",
    "print(output_density_matrix)\n",
    "pcvl.pdisplay(output_density_matrix)"
   ]
  },
  {
   "cell_type": "markdown",
   "metadata": {
    "collapsed": false
   },
   "source": [
    "However, we could begin with a Density matrix and evolve it instead of evolving the statevector distribution to get identical results"
   ]
  },
  {
   "cell_type": "code",
   "execution_count": 172,
   "metadata": {},
   "outputs": [
    {
     "data": {
      "image/png": "[encoded data removed]",
      "text/plain": [
       "<Figure size 640x480 with 1 Axes>"
      ]
     },
     "metadata": {},
     "output_type": "display_data"
    }
   ],
   "source": [
    "source = Source()\n",
    "input_density_matrix = DensityMatrix.from_svd(source.generate_distribution(BasicState([1, 1])))\n",
    "\n",
    "output_density_matrix = sim.evolve_density_matrix(input_density_matrix)\n",
    "pcvl.pdisplay(output_density_matrix)"
   ]
  },
  {
   "cell_type": "markdown",
   "metadata": {
    "collapsed": false
   },
   "source": [
    "Our density matrices also support adding loss of photons.\n",
    "\n",
    "The example here shows a source with emission probability of 0.6 or a loss of a photon from each mode of the perfect density matrix with a probability of 0.4"
   ]
  },
  {
   "cell_type": "code",
   "execution_count": 173,
   "metadata": {},
   "outputs": [
    {
     "data": {
      "image/png": "[encoded data removed]",
      "text/plain": [
       "<Figure size 640x480 with 1 Axes>"
      ]
     },
     "metadata": {},
     "output_type": "display_data"
    }
   ],
   "source": [
    "input_density_matrix.apply_loss([0, 1], 0.4)\n",
    "output_density_matrix = sim.evolve_density_matrix(input_density_matrix)\n",
    "pcvl.pdisplay(output_density_matrix)"
   ]
  },
  {
   "cell_type": "markdown",
   "metadata": {
    "collapsed": false
   },
   "source": [
    "# todo : add expectation value code"
   ]
  },
  {
   "cell_type": "markdown",
   "metadata": {
    "collapsed": false
   },
   "source": [
    "## Bell State generation and measurements"
   ]
  },
  {
   "cell_type": "code",
   "execution_count": 108,
   "metadata": {},
   "outputs": [],
   "source": [
    "sg = StateGenerator(encoding=Encoding.DUAL_RAIL)"
   ]
  },
  {
   "cell_type": "code",
   "execution_count": 109,
   "metadata": {},
   "outputs": [
    {
     "name": "stdout",
     "output_type": "stream",
     "text": [
      "sqrt(2)/2*|0,1,0,1>+sqrt(2)/2*|1,0,1,0>\n"
     ]
    }
   ],
   "source": [
    "bell_state = sg.bell_state('phi+')\n",
    "print(bell_state)"
   ]
  },
  {
   "cell_type": "code",
   "execution_count": 139,
   "metadata": {},
   "outputs": [
    {
     "data": {
      "image/svg+xml": [
       "<?xml version=\"1.0\" encoding=\"UTF-8\"?>\n",
       "<svg xmlns=\"http://www.w3.org/2000/svg\" xmlns:xlink=\"http://www.w3.org/1999/xlink\"\n",
       "     width=\"400.0\" height=\"406.25\" viewBox=\"-25 0 320.0 325.0\">\n",
       "<defs>\n",
       "</defs>\n",
       "<path d=\"M10,25 L25,25\" stroke-width=\"3\" stroke=\"darkred\" stroke-linejoin=\"miter\" fill=\"none\" />\n",
       "<path d=\"M10,75 L25,75\" stroke-width=\"3\" stroke=\"darkred\" stroke-linejoin=\"miter\" fill=\"none\" />\n",
       "<path d=\"M10,125 L25,125\" stroke-width=\"3\" stroke=\"darkred\" stroke-linejoin=\"miter\" fill=\"none\" />\n",
       "<path d=\"M10,175 L25,175\" stroke-width=\"3\" stroke=\"darkred\" stroke-linejoin=\"miter\" fill=\"none\" />\n",
       "<path d=\"M25,25 L53,25 L72,44\" stroke=\"darkred\" stroke-width=\"3\" fill=\"none\" />\n",
       "<path d=\"M78,44 L97,25 L125,25\" stroke=\"darkred\" stroke-width=\"3\" fill=\"none\" />\n",
       "<path d=\"M25,75 L53,75 L72,56\" stroke=\"darkred\" stroke-width=\"3\" fill=\"none\" />\n",
       "<path d=\"M78,56 L97,75 L125,75\" stroke=\"darkred\" stroke-width=\"3\" fill=\"none\" />\n",
       "<path d=\"M50,43 L100,43 L100,57 L50,57 Z\" stroke=\"black\" fill=\"black\" stroke-linejoin=\"miter\" />\n",
       "<text x=\"75\" y=\"85\" font-size=\"7\" text-anchor=\"middle\"></text>\n",
       "<text x=\"75\" y=\"26\" font-size=\"7\" text-anchor=\"middle\"></text>\n",
       "<path d=\"M50,43 L100,43 L100,47 L50,47 Z\" stroke=\"black\" fill=\"lightgray\" stroke-linejoin=\"miter\" />\n",
       "<path d=\"M93,50 L103,50 L103,60 L93,60 Z\" stroke=\"black\" fill=\"aquamarine\" stroke-linejoin=\"miter\" />\n",
       "<text x=\"98\" y=\"57\" font-size=\"6\" text-anchor=\"middle\">H</text>\n",
       "<path d=\"M25,125 L125,125\" stroke=\"darkred\" stroke-width=\"3\" fill=\"none\" />\n",
       "<path d=\"M25,175 L125,175\" stroke=\"darkred\" stroke-width=\"3\" fill=\"none\" />\n",
       "<path d=\"M125,25 L225,25\" stroke=\"darkred\" stroke-width=\"3\" fill=\"none\" />\n",
       "<path d=\"M125,75 L225,75\" stroke=\"darkred\" stroke-width=\"3\" fill=\"none\" />\n",
       "<path d=\"M125,125 L225,125\" stroke=\"darkred\" stroke-width=\"3\" fill=\"none\" />\n",
       "<path d=\"M125,175 L225,175\" stroke=\"darkred\" stroke-width=\"3\" fill=\"none\" />\n",
       "<path d=\"M125,225 L225,225\" stroke=\"darkred\" stroke-width=\"3\" fill=\"none\" />\n",
       "<path d=\"M125,275 L225,275\" stroke=\"darkred\" stroke-width=\"3\" fill=\"none\" />\n",
       "<path d=\"M127.5,2.5 L222.5,2.5 L222.5,297.5 L127.5,297.5 Z\" stroke=\"darkred\" fill=\"lightpink\" stroke-linejoin=\"miter\" />\n",
       "<text x=\"135\" y=\"24\" font-size=\"8\" text-anchor=\"start\" font-weight=\"bold\"><tspan x=\"135\" dy=\"0em\">POSTPROCESSED</tspan><tspan x=\"135\" dy=\"1em\">CNOT</tspan></text>\n",
       "<path d=\"M225,25 L240,25\" stroke-width=\"3\" stroke=\"darkred\" stroke-linejoin=\"miter\" fill=\"none\" />\n",
       "<path d=\"M225,75 L240,75\" stroke-width=\"3\" stroke=\"darkred\" stroke-linejoin=\"miter\" fill=\"none\" />\n",
       "<path d=\"M225,125 L240,125\" stroke-width=\"3\" stroke=\"darkred\" stroke-linejoin=\"miter\" fill=\"none\" />\n",
       "<path d=\"M225,175 L240,175\" stroke-width=\"3\" stroke=\"darkred\" stroke-linejoin=\"miter\" fill=\"none\" />\n",
       "<path d=\"M107,225 C107,225,107,215,117,215 L125,215 L125,235 L117,235 C107,235,107,225,107,225 L107,225\" stroke-width=\"1\" stroke=\"black\" stroke-linejoin=\"miter\" fill=\"white\" />\n",
       "<text x=\"113\" y=\"241\" font-size=\"6\" text-anchor=\"middle\" font-style=\"italic\">[herald0]</text>\n",
       "<text x=\"117\" y=\"228\" font-size=\"7\" text-anchor=\"middle\">0</text>\n",
       "<path d=\"M107,275 C107,275,107,265,117,265 L125,265 L125,285 L117,285 C107,285,107,275,107,275 L107,275\" stroke-width=\"1\" stroke=\"black\" stroke-linejoin=\"miter\" fill=\"white\" />\n",
       "<text x=\"113\" y=\"291\" font-size=\"6\" text-anchor=\"middle\" font-style=\"italic\">[herald1]</text>\n",
       "<text x=\"117\" y=\"278\" font-size=\"7\" text-anchor=\"middle\">0</text>\n",
       "<path d=\"M240,15 L252,15 L252,85 L240,85 Z\" stroke=\"black\" fill=\"lightgray\" stroke-linejoin=\"miter\" />\n",
       "<text x=\"246\" y=\"27\" font-size=\"7\" text-anchor=\"middle\">0</text>\n",
       "<text x=\"246\" y=\"77\" font-size=\"7\" text-anchor=\"middle\">1</text>\n",
       "<text x=\"252\" y=\"91\" font-size=\"6\" text-anchor=\"end\" font-style=\"italic\">[ctrl]</text>\n",
       "<path d=\"M240,115 L252,115 L252,185 L240,185 Z\" stroke=\"black\" fill=\"lightgray\" stroke-linejoin=\"miter\" />\n",
       "<text x=\"246\" y=\"127\" font-size=\"7\" text-anchor=\"middle\">2</text>\n",
       "<text x=\"246\" y=\"177\" font-size=\"7\" text-anchor=\"middle\">3</text>\n",
       "<text x=\"252\" y=\"191\" font-size=\"6\" text-anchor=\"end\" font-style=\"italic\">[data]</text>\n",
       "<path d=\"M233,235 L225,235 L225,215 L233,215 C233,215,243,215,243,225 C243,235,233,235,233,235 L233,235\" stroke-width=\"1\" stroke=\"black\" stroke-linejoin=\"miter\" fill=\"white\" />\n",
       "<text x=\"238\" y=\"241\" font-size=\"6\" text-anchor=\"middle\" font-style=\"italic\">[herald0]</text>\n",
       "<text x=\"233\" y=\"228\" font-size=\"7\" text-anchor=\"middle\">0</text>\n",
       "<path d=\"M233,285 L225,285 L225,265 L233,265 C233,265,243,265,243,275 C243,285,233,285,233,285 L233,285\" stroke-width=\"1\" stroke=\"black\" stroke-linejoin=\"miter\" fill=\"white\" />\n",
       "<text x=\"238\" y=\"291\" font-size=\"6\" text-anchor=\"middle\" font-style=\"italic\">[herald1]</text>\n",
       "<text x=\"233\" y=\"278\" font-size=\"7\" text-anchor=\"middle\">0</text>\n",
       "</svg>"
      ],
      "text/plain": [
       "<drawsvg.drawing.Drawing at 0x7f6626ff9510>"
      ]
     },
     "execution_count": 139,
     "metadata": {},
     "output_type": "execute_result"
    }
   ],
   "source": [
    "cnot = catalog['postprocessed cnot'].build_processor()\n",
    "bell_p = cnot.copy()\n",
    "bell_p.clear_input_and_circuit(cnot.m)  # Clear processor content but keep its size\n",
    "bell_p.add(0, BS.H())\n",
    "bell_p.add(0, cnot)\n",
    "pcvl.pdisplay(bell_p)"
   ]
  },
  {
   "cell_type": "code",
   "execution_count": 155,
   "metadata": {},
   "outputs": [],
   "source": [
    "input_state = BasicState([1, 0, 1, 0])\n",
    "bell_p.with_input(input_state)"
   ]
  },
  {
   "cell_type": "code",
   "execution_count": 158,
   "metadata": {},
   "outputs": [
    {
     "name": "stdout",
     "output_type": "stream",
     "text": [
      "{\n",
      "  |1,0,1,0>: 0.5\n",
      "  |0,1,0,1>: 0.5\n",
      "}\n"
     ]
    }
   ],
   "source": [
    "from perceval.algorithm import Sampler\n",
    "sampler = Sampler(bell_p)\n",
    "probs = sampler.probs()\n",
    "output_distribution = probs[\"results\"]\n",
    "print(output_distribution)"
   ]
  },
  {
   "cell_type": "markdown",
   "metadata": {
    "collapsed": false
   },
   "source": [
    "# cnot circ to simulator - to use in density matrix evolve"
   ]
  },
  {
   "cell_type": "code",
   "execution_count": 159,
   "metadata": {},
   "outputs": [
    {
     "name": "stdout",
     "output_type": "stream",
     "text": [
      "sqrt(2)/2*|1,0,1,0,0,0>+sqrt(2)/2*|0,1,0,1,0,0>\n"
     ]
    }
   ],
   "source": [
    "cnot_circ = catalog['postprocessed cnot'].build_circuit()\n",
    "\n",
    "bell_circ = Circuit(m=6)\n",
    "bell_circ.add(0, BS.H())\n",
    "bell_circ.add(0, cnot_circ)\n",
    "\n",
    "bell_sim = Simulator(SLOSBackend())\n",
    "bell_sim.set_circuit(bell_circ)\n",
    "bell_sim.set_selection(heralds=cnot.heralds, postselect=cnot.post_select_fn)\n",
    "output_state = bell_sim.evolve(BasicState([1,0,1,0,0,0]))\n",
    "print(output_state)"
   ]
  },
  {
   "cell_type": "code",
   "execution_count": 160,
   "metadata": {},
   "outputs": [
    {
     "data": {
      "image/png": "[encoded data removed]",
      "text/plain": [
       "<Figure size 640x480 with 1 Axes>"
      ]
     },
     "metadata": {},
     "output_type": "display_data"
    },
    {
     "data": {
      "image/png": "[encoded data removed]",
      "text/plain": [
       "<Figure size 640x480 with 1 Axes>"
      ]
     },
     "metadata": {},
     "output_type": "display_data"
    }
   ],
   "source": [
    "bell_out_dm = bell_sim.evolve_density_matrix(DensityMatrix.from_svd(BasicState([1,0,1,0,0,0])))\n",
    "pcvl.pdisplay(bell_out_dm)\n",
    "\n",
    "pcvl.pdisplay(DensityMatrix.from_svd(output_state))"
   ]
  },
  {
   "cell_type": "code",
   "execution_count": 161,
   "metadata": {},
   "outputs": [
    {
     "name": "stdout",
     "output_type": "stream",
     "text": [
      "0.06+0.00j*|1,1,0,0,0,0><1,1,0,0,0,0|+0.06+0.00j*|1,0,1,0,0,0><1,1,0,0,0,0|+0.06+0.00j*|1,0,0,0,0,1><1,1,0,0,0,0|+-0.08+0.00j*|0,2,0,0,0,0><1,1,0,0,0,0|+0.06+0.00j*|0,1,0,1,0,0><1,1,0,0,0,0|+0.08+0.00j*|0,1,0,0,1,0><1,1,0,0,0,0|+-0.06+0.00j*|0,1,0,0,0,1><1,1,0,0,0,0|+0.08+0.00j*|0,0,2,0,0,0><1,1,0,0,0,0|+0.06+0.00j*|0,0,1,1,0,0><1,1,0,0,0,0|+0.08+0.00j*|0,0,1,0,1,0><1,1,0,0,0,0|+0.06+0.00j*|0,0,1,0,0,1><1,1,0,0,0,0|+0.06+0.00j*|0,0,0,1,0,1><1,1,0,0,0,0|+0.08+0.00j*|0,0,0,0,1,1><1,1,0,0,0,0|+0.06+0.00j*|1,1,0,0,0,0><1,0,1,0,0,0|+0.06+0.00j*|1,0,1,0,0,0><1,0,1,0,0,0|+0.06+0.00j*|1,0,0,0,0,1><1,0,1,0,0,0|+-0.08+0.00j*|0,2,0,0,0,0><1,0,1,0,0,0|+0.06+0.00j*|0,1,0,1,0,0><1,0,1,0,0,0|+0.08+0.00j*|0,1,0,0,1,0><1,0,1,0,0,0|+-0.06+0.00j*|0,1,0,0,0,1><1,0,1,0,0,0|+0.08+0.00j*|0,0,2,0,0,0><1,0,1,0,0,0|+0.06+0.00j*|0,0,1,1,0,0><1,0,1,0,0,0|+0.08+0.00j*|0,0,1,0,1,0><1,0,1,0,0,0|+0.06+0.00j*|0,0,1,0,0,1><1,0,1,0,0,0|+0.06+0.00j*|0,0,0,1,0,1><1,0,1,0,0,0|+0.08+0.00j*|0,0,0,0,1,1><1,0,1,0,0,0|+0.06+0.00j*|1,1,0,0,0,0><1,0,0,0,0,1|+0.06+0.00j*|1,0,1,0,0,0><1,0,0,0,0,1|+0.06+0.00j*|1,0,0,0,0,1><1,0,0,0,0,1|+-0.08+0.00j*|0,2,0,0,0,0><1,0,0,0,0,1|+0.06+0.00j*|0,1,0,1,0,0><1,0,0,0,0,1|+0.08+0.00j*|0,1,0,0,1,0><1,0,0,0,0,1|+-0.06+0.00j*|0,1,0,0,0,1><1,0,0,0,0,1|+0.08+0.00j*|0,0,2,0,0,0><1,0,0,0,0,1|+0.06+0.00j*|0,0,1,1,0,0><1,0,0,0,0,1|+0.08+0.00j*|0,0,1,0,1,0><1,0,0,0,0,1|+0.06+0.00j*|0,0,1,0,0,1><1,0,0,0,0,1|+0.06+0.00j*|0,0,0,1,0,1><1,0,0,0,0,1|+0.08+0.00j*|0,0,0,0,1,1><1,0,0,0,0,1|+-0.08+0.00j*|1,1,0,0,0,0><0,2,0,0,0,0|+-0.08+0.00j*|1,0,1,0,0,0><0,2,0,0,0,0|+-0.08+0.00j*|1,0,0,0,0,1><0,2,0,0,0,0|+0.11+0.00j*|0,2,0,0,0,0><0,2,0,0,0,0|+-0.08+0.00j*|0,1,0,1,0,0><0,2,0,0,0,0|+-0.11+0.00j*|0,1,0,0,1,0><0,2,0,0,0,0|+0.08+0.00j*|0,1,0,0,0,1><0,2,0,0,0,0|+-0.11+0.00j*|0,0,2,0,0,0><0,2,0,0,0,0|+-0.08+0.00j*|0,0,1,1,0,0><0,2,0,0,0,0|+-0.11+0.00j*|0,0,1,0,1,0><0,2,0,0,0,0|+-0.08+0.00j*|0,0,1,0,0,1><0,2,0,0,0,0|+-0.08+0.00j*|0,0,0,1,0,1><0,2,0,0,0,0|+-0.11+0.00j*|0,0,0,0,1,1><0,2,0,0,0,0|+0.06+0.00j*|1,1,0,0,0,0><0,1,0,1,0,0|+0.06+0.00j*|1,0,1,0,0,0><0,1,0,1,0,0|+0.06+0.00j*|1,0,0,0,0,1><0,1,0,1,0,0|+-0.08+0.00j*|0,2,0,0,0,0><0,1,0,1,0,0|+0.06+0.00j*|0,1,0,1,0,0><0,1,0,1,0,0|+0.08+0.00j*|0,1,0,0,1,0><0,1,0,1,0,0|+-0.06+0.00j*|0,1,0,0,0,1><0,1,0,1,0,0|+0.08+0.00j*|0,0,2,0,0,0><0,1,0,1,0,0|+0.06+0.00j*|0,0,1,1,0,0><0,1,0,1,0,0|+0.08+0.00j*|0,0,1,0,1,0><0,1,0,1,0,0|+0.06+0.00j*|0,0,1,0,0,1><0,1,0,1,0,0|+0.06+0.00j*|0,0,0,1,0,1><0,1,0,1,0,0|+0.08+0.00j*|0,0,0,0,1,1><0,1,0,1,0,0|+0.08+0.00j*|1,1,0,0,0,0><0,1,0,0,1,0|+0.08+0.00j*|1,0,1,0,0,0><0,1,0,0,1,0|+0.08+0.00j*|1,0,0,0,0,1><0,1,0,0,1,0|+-0.11+0.00j*|0,2,0,0,0,0><0,1,0,0,1,0|+0.08+0.00j*|0,1,0,1,0,0><0,1,0,0,1,0|+0.11+0.00j*|0,1,0,0,1,0><0,1,0,0,1,0|+-0.08+0.00j*|0,1,0,0,0,1><0,1,0,0,1,0|+0.11+0.00j*|0,0,2,0,0,0><0,1,0,0,1,0|+0.08+0.00j*|0,0,1,1,0,0><0,1,0,0,1,0|+0.11+0.00j*|0,0,1,0,1,0><0,1,0,0,1,0|+0.08+0.00j*|0,0,1,0,0,1><0,1,0,0,1,0|+0.08+0.00j*|0,0,0,1,0,1><0,1,0,0,1,0|+0.11+0.00j*|0,0,0,0,1,1><0,1,0,0,1,0|+-0.06+0.00j*|1,1,0,0,0,0><0,1,0,0,0,1|+-0.06+0.00j*|1,0,1,0,0,0><0,1,0,0,0,1|+-0.06+0.00j*|1,0,0,0,0,1><0,1,0,0,0,1|+0.08+0.00j*|0,2,0,0,0,0><0,1,0,0,0,1|+-0.06+0.00j*|0,1,0,1,0,0><0,1,0,0,0,1|+-0.08+0.00j*|0,1,0,0,1,0><0,1,0,0,0,1|+0.06+0.00j*|0,1,0,0,0,1><0,1,0,0,0,1|+-0.08+0.00j*|0,0,2,0,0,0><0,1,0,0,0,1|+-0.06+0.00j*|0,0,1,1,0,0><0,1,0,0,0,1|+-0.08+0.00j*|0,0,1,0,1,0><0,1,0,0,0,1|+-0.06+0.00j*|0,0,1,0,0,1><0,1,0,0,0,1|+-0.06+0.00j*|0,0,0,1,0,1><0,1,0,0,0,1|+-0.08+0.00j*|0,0,0,0,1,1><0,1,0,0,0,1|+0.08+0.00j*|1,1,0,0,0,0><0,0,2,0,0,0|+0.08+0.00j*|1,0,1,0,0,0><0,0,2,0,0,0|+0.08+0.00j*|1,0,0,0,0,1><0,0,2,0,0,0|+-0.11+0.00j*|0,2,0,0,0,0><0,0,2,0,0,0|+0.08+0.00j*|0,1,0,1,0,0><0,0,2,0,0,0|+0.11+0.00j*|0,1,0,0,1,0><0,0,2,0,0,0|+-0.08+0.00j*|0,1,0,0,0,1><0,0,2,0,0,0|+0.11+0.00j*|0,0,2,0,0,0><0,0,2,0,0,0|+0.08+0.00j*|0,0,1,1,0,0><0,0,2,0,0,0|+0.11+0.00j*|0,0,1,0,1,0><0,0,2,0,0,0|+0.08+0.00j*|0,0,1,0,0,1><0,0,2,0,0,0|+0.08+0.00j*|0,0,0,1,0,1><0,0,2,0,0,0|+0.11+0.00j*|0,0,0,0,1,1><0,0,2,0,0,0|+0.06+0.00j*|1,1,0,0,0,0><0,0,1,1,0,0|+0.06+0.00j*|1,0,1,0,0,0><0,0,1,1,0,0|+0.06+0.00j*|1,0,0,0,0,1><0,0,1,1,0,0|+-0.08+0.00j*|0,2,0,0,0,0><0,0,1,1,0,0|+0.06+0.00j*|0,1,0,1,0,0><0,0,1,1,0,0|+0.08+0.00j*|0,1,0,0,1,0><0,0,1,1,0,0|+-0.06+0.00j*|0,1,0,0,0,1><0,0,1,1,0,0|+0.08+0.00j*|0,0,2,0,0,0><0,0,1,1,0,0|+0.06+0.00j*|0,0,1,1,0,0><0,0,1,1,0,0|+0.08+0.00j*|0,0,1,0,1,0><0,0,1,1,0,0|+0.06+0.00j*|0,0,1,0,0,1><0,0,1,1,0,0|+0.06+0.00j*|0,0,0,1,0,1><0,0,1,1,0,0|+0.08+0.00j*|0,0,0,0,1,1><0,0,1,1,0,0|+0.08+0.00j*|1,1,0,0,0,0><0,0,1,0,1,0|+0.08+0.00j*|1,0,1,0,0,0><0,0,1,0,1,0|+0.08+0.00j*|1,0,0,0,0,1><0,0,1,0,1,0|+-0.11+0.00j*|0,2,0,0,0,0><0,0,1,0,1,0|+0.08+0.00j*|0,1,0,1,0,0><0,0,1,0,1,0|+0.11+0.00j*|0,1,0,0,1,0><0,0,1,0,1,0|+-0.08+0.00j*|0,1,0,0,0,1><0,0,1,0,1,0|+0.11+0.00j*|0,0,2,0,0,0><0,0,1,0,1,0|+0.08+0.00j*|0,0,1,1,0,0><0,0,1,0,1,0|+0.11+0.00j*|0,0,1,0,1,0><0,0,1,0,1,0|+0.08+0.00j*|0,0,1,0,0,1><0,0,1,0,1,0|+0.08+0.00j*|0,0,0,1,0,1><0,0,1,0,1,0|+0.11+0.00j*|0,0,0,0,1,1><0,0,1,0,1,0|+0.06+0.00j*|1,1,0,0,0,0><0,0,1,0,0,1|+0.06+0.00j*|1,0,1,0,0,0><0,0,1,0,0,1|+0.06+0.00j*|1,0,0,0,0,1><0,0,1,0,0,1|+-0.08+0.00j*|0,2,0,0,0,0><0,0,1,0,0,1|+0.06+0.00j*|0,1,0,1,0,0><0,0,1,0,0,1|+0.08+0.00j*|0,1,0,0,1,0><0,0,1,0,0,1|+-0.06+0.00j*|0,1,0,0,0,1><0,0,1,0,0,1|+0.08+0.00j*|0,0,2,0,0,0><0,0,1,0,0,1|+0.06+0.00j*|0,0,1,1,0,0><0,0,1,0,0,1|+0.08+0.00j*|0,0,1,0,1,0><0,0,1,0,0,1|+0.06+0.00j*|0,0,1,0,0,1><0,0,1,0,0,1|+0.06+0.00j*|0,0,0,1,0,1><0,0,1,0,0,1|+0.08+0.00j*|0,0,0,0,1,1><0,0,1,0,0,1|+0.06+0.00j*|1,1,0,0,0,0><0,0,0,1,0,1|+0.06+0.00j*|1,0,1,0,0,0><0,0,0,1,0,1|+0.06+0.00j*|1,0,0,0,0,1><0,0,0,1,0,1|+-0.08+0.00j*|0,2,0,0,0,0><0,0,0,1,0,1|+0.06+0.00j*|0,1,0,1,0,0><0,0,0,1,0,1|+0.08+0.00j*|0,1,0,0,1,0><0,0,0,1,0,1|+-0.06+0.00j*|0,1,0,0,0,1><0,0,0,1,0,1|+0.08+0.00j*|0,0,2,0,0,0><0,0,0,1,0,1|+0.06+0.00j*|0,0,1,1,0,0><0,0,0,1,0,1|+0.08+0.00j*|0,0,1,0,1,0><0,0,0,1,0,1|+0.06+0.00j*|0,0,1,0,0,1><0,0,0,1,0,1|+0.06+0.00j*|0,0,0,1,0,1><0,0,0,1,0,1|+0.08+0.00j*|0,0,0,0,1,1><0,0,0,1,0,1|+0.08+0.00j*|1,1,0,0,0,0><0,0,0,0,1,1|+0.08+0.00j*|1,0,1,0,0,0><0,0,0,0,1,1|+0.08+0.00j*|1,0,0,0,0,1><0,0,0,0,1,1|+-0.11+0.00j*|0,2,0,0,0,0><0,0,0,0,1,1|+0.08+0.00j*|0,1,0,1,0,0><0,0,0,0,1,1|+0.11+0.00j*|0,1,0,0,1,0><0,0,0,0,1,1|+-0.08+0.00j*|0,1,0,0,0,1><0,0,0,0,1,1|+0.11+0.00j*|0,0,2,0,0,0><0,0,0,0,1,1|+0.08+0.00j*|0,0,1,1,0,0><0,0,0,0,1,1|+0.11+0.00j*|0,0,1,0,1,0><0,0,0,0,1,1|+0.08+0.00j*|0,0,1,0,0,1><0,0,0,0,1,1|+0.08+0.00j*|0,0,0,1,0,1><0,0,0,0,1,1|+0.11+0.00j*|0,0,0,0,1,1><0,0,0,0,1,1|\n"
     ]
    }
   ],
   "source": [
    "print(bell_out_dm)"
   ]
  },
  {
   "cell_type": "code",
   "execution_count": null,
   "metadata": {},
   "outputs": [],
   "source": []
  }
 ],
 "metadata": {
  "language_info": {
   "name": "python"
  }
 },
 "nbformat": 4,
 "nbformat_minor": 0
}
