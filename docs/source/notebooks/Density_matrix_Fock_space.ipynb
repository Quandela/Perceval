{
 "cells": [
  {
   "cell_type": "markdown",
   "metadata": {
    "collapsed": false
   },
   "source": [
    "# Density matrices in Fock space"
   ]
  },
  {
   "cell_type": "markdown",
   "metadata": {
    "collapsed": false
   },
   "source": [
    "In this notebook we introduce our new feature: __density matrices__ in __fock space__. This space is a mathematical framework to describe the quantum states of a system with variable number of particles, __photons__ in our case. Note that this space is much larger than the computational/logical space. Fock space is native to _Perceval_ and hence these matrices can be indispensable for linear optic computations.\n",
    "\n",
    "The difference in the basis is demonstrated in the following example of 1-qubit X gate. In logical space, the basic states of the system will be $|0\\rangle$, and $|1\\rangle$. The linear optical circuit implementation for this gate consists of a 2 mode circuit with the followig basic states in the fock space - $|00\\rangle$, $|10\\rangle$, $|01\\rangle$, and, $|11\\rangle$.\n",
    "\n",
    "We will demonstrate how to create density matrices in _Perceval_ and the different methods can be applied on them for computation using @ simple examples - Bell State generation and Hong-Ou_Mandel effect.\n"
   ]
  },
  {
   "cell_type": "code",
   "execution_count": 1,
   "metadata": {},
   "outputs": [],
   "source": [
    "import perceval as pcvl\n",
    "import numpy as np\n",
    "from perceval.components import BS, Source, Circuit, catalog\n",
    "from perceval.utils import BasicState, DensityMatrix\n",
    "from perceval import Simulator\n",
    "from perceval.backends import SLOSBackend"
   ]
  },
  {
   "cell_type": "markdown",
   "metadata": {
    "collapsed": false
   },
   "source": [
    "## Generating and Evolving a Bell State density matrix"
   ]
  },
  {
   "cell_type": "markdown",
   "metadata": {
    "collapsed": false
   },
   "source": [
    " In _Perceval_, a density matrix is created by simply converting from the corresponding BasicState or StateVector Distribution."
   ]
  },
  {
   "cell_type": "code",
   "execution_count": 2,
   "metadata": {},
   "outputs": [
    {
     "data": {
      "image/png": "[encoded data removed]",
      "text/plain": [
       "<Figure size 640x480 with 1 Axes>"
      ]
     },
     "metadata": {},
     "output_type": "display_data"
    }
   ],
   "source": [
    "input_dm = DensityMatrix.from_svd(BasicState([1,0,1,0,0,0]))\n",
    "pcvl.pdisplay(input_dm)"
   ]
  },
  {
   "cell_type": "markdown",
   "metadata": {
    "collapsed": false
   },
   "source": [
    "The next step in applying the evolution operator is to define the LO circuit corresponding to the operation. Here, it is demonstrated by a Linear Optical circuit consisting of a Hadamard gate and a post-processed CNOT gate used for Bell State generation."
   ]
  },
  {
   "cell_type": "code",
   "execution_count": 4,
   "metadata": {},
   "outputs": [
    {
     "data": {
      "image/svg+xml": [
       "<?xml version=\"1.0\" encoding=\"UTF-8\"?>\n",
       "<svg xmlns=\"http://www.w3.org/2000/svg\" xmlns:xlink=\"http://www.w3.org/1999/xlink\"\n",
       "     width=\"883.75\" height=\"406.25\" viewBox=\"-28.5 0 707.0 325.0\">\n",
       "<defs>\n",
       "</defs>\n",
       "<path d=\"M10,25 L25,25\" stroke-width=\"3\" stroke=\"darkred\" stroke-linejoin=\"miter\" fill=\"none\" />\n",
       "<path d=\"M10,75 L25,75\" stroke-width=\"3\" stroke=\"darkred\" stroke-linejoin=\"miter\" fill=\"none\" />\n",
       "<path d=\"M10,125 L25,125\" stroke-width=\"3\" stroke=\"darkred\" stroke-linejoin=\"miter\" fill=\"none\" />\n",
       "<path d=\"M10,175 L25,175\" stroke-width=\"3\" stroke=\"darkred\" stroke-linejoin=\"miter\" fill=\"none\" />\n",
       "<path d=\"M10,225 L25,225\" stroke-width=\"3\" stroke=\"darkred\" stroke-linejoin=\"miter\" fill=\"none\" />\n",
       "<path d=\"M10,275 L25,275\" stroke-width=\"3\" stroke=\"darkred\" stroke-linejoin=\"miter\" fill=\"none\" />\n",
       "<path d=\"M25,25 L53,25 L72,44\" stroke=\"darkred\" stroke-width=\"3\" fill=\"none\" />\n",
       "<path d=\"M78,44 L97,25 L125,25\" stroke=\"darkred\" stroke-width=\"3\" fill=\"none\" />\n",
       "<path d=\"M25,75 L53,75 L72,56\" stroke=\"darkred\" stroke-width=\"3\" fill=\"none\" />\n",
       "<path d=\"M78,56 L97,75 L125,75\" stroke=\"darkred\" stroke-width=\"3\" fill=\"none\" />\n",
       "<path d=\"M50,43 L100,43 L100,57 L50,57 Z\" stroke=\"black\" fill=\"black\" stroke-linejoin=\"miter\" />\n",
       "<text x=\"75\" y=\"85\" font-size=\"7\" text-anchor=\"middle\"></text>\n",
       "<text x=\"75\" y=\"26\" font-size=\"7\" text-anchor=\"middle\"></text>\n",
       "<path d=\"M50,43 L100,43 L100,47 L50,47 Z\" stroke=\"black\" fill=\"lightgray\" stroke-linejoin=\"miter\" />\n",
       "<path d=\"M93,50 L103,50 L103,60 L93,60 Z\" stroke=\"black\" fill=\"aquamarine\" stroke-linejoin=\"miter\" />\n",
       "<text x=\"98\" y=\"57\" font-size=\"6\" text-anchor=\"middle\">H</text>\n",
       "<path d=\"M25,125 L125,125\" stroke=\"darkred\" stroke-width=\"3\" fill=\"none\" />\n",
       "<path d=\"M25,175 L125,175\" stroke=\"darkred\" stroke-width=\"3\" fill=\"none\" />\n",
       "<path d=\"M25,225 L125,225\" stroke=\"darkred\" stroke-width=\"3\" fill=\"none\" />\n",
       "<path d=\"M128,25 L172,25\" stroke=\"white\" stroke-width=\"6\" fill=\"none\" />\n",
       "<path d=\"M125,25 L128,25 L172,25 L175,25\" stroke=\"darkred\" stroke-width=\"3\" fill=\"none\" />\n",
       "<path d=\"M128,75 L172,125\" stroke=\"white\" stroke-width=\"6\" fill=\"none\" />\n",
       "<path d=\"M125,75 L128,75 L172,125 L175,125\" stroke=\"darkred\" stroke-width=\"3\" fill=\"none\" />\n",
       "<path d=\"M128,125 L172,175\" stroke=\"white\" stroke-width=\"6\" fill=\"none\" />\n",
       "<path d=\"M125,125 L128,125 L172,175 L175,175\" stroke=\"darkred\" stroke-width=\"3\" fill=\"none\" />\n",
       "<path d=\"M128,175 L172,225\" stroke=\"white\" stroke-width=\"6\" fill=\"none\" />\n",
       "<path d=\"M125,175 L128,175 L172,225 L175,225\" stroke=\"darkred\" stroke-width=\"3\" fill=\"none\" />\n",
       "<path d=\"M128,225 L172,75\" stroke=\"white\" stroke-width=\"6\" fill=\"none\" />\n",
       "<path d=\"M125,225 L128,225 L172,75 L175,75\" stroke=\"darkred\" stroke-width=\"3\" fill=\"none\" />\n",
       "<path d=\"M175,175 L203,175 L222,194\" stroke=\"darkred\" stroke-width=\"3\" fill=\"none\" />\n",
       "<path d=\"M228,194 L247,175 L275,175\" stroke=\"darkred\" stroke-width=\"3\" fill=\"none\" />\n",
       "<path d=\"M175,225 L203,225 L222,206\" stroke=\"darkred\" stroke-width=\"3\" fill=\"none\" />\n",
       "<path d=\"M228,206 L247,225 L275,225\" stroke=\"darkred\" stroke-width=\"3\" fill=\"none\" />\n",
       "<path d=\"M200,193 L250,193 L250,207 L200,207 Z\" stroke=\"black\" fill=\"black\" stroke-linejoin=\"miter\" />\n",
       "<text x=\"225\" y=\"235\" font-size=\"7\" text-anchor=\"middle\"></text>\n",
       "<text x=\"225\" y=\"176\" font-size=\"7\" text-anchor=\"middle\"></text>\n",
       "<path d=\"M200,193 L250,193 L250,197 L200,197 Z\" stroke=\"black\" fill=\"lightgray\" stroke-linejoin=\"miter\" />\n",
       "<path d=\"M243,200 L253,200 L253,210 L243,210 Z\" stroke=\"black\" fill=\"aquamarine\" stroke-linejoin=\"miter\" />\n",
       "<text x=\"248\" y=\"207\" font-size=\"6\" text-anchor=\"middle\">H</text>\n",
       "<path d=\"M175,125 L275,125\" stroke=\"darkred\" stroke-width=\"3\" fill=\"none\" />\n",
       "<path d=\"M278,125 L322,175\" stroke=\"white\" stroke-width=\"6\" fill=\"none\" />\n",
       "<path d=\"M275,125 L278,125 L322,175 L325,175\" stroke=\"darkred\" stroke-width=\"3\" fill=\"none\" />\n",
       "<path d=\"M278,175 L322,125\" stroke=\"white\" stroke-width=\"6\" fill=\"none\" />\n",
       "<path d=\"M275,175 L278,175 L322,125 L325,125\" stroke=\"darkred\" stroke-width=\"3\" fill=\"none\" />\n",
       "<path d=\"M175,25 L325,25\" stroke=\"darkred\" stroke-width=\"3\" fill=\"none\" />\n",
       "<path d=\"M175,75 L325,75\" stroke=\"darkred\" stroke-width=\"3\" fill=\"none\" />\n",
       "<path d=\"M325,25 L353,25 L372,44\" stroke=\"darkred\" stroke-width=\"3\" fill=\"none\" />\n",
       "<path d=\"M378,44 L397,25 L425,25\" stroke=\"darkred\" stroke-width=\"3\" fill=\"none\" />\n",
       "<path d=\"M325,75 L353,75 L372,56\" stroke=\"darkred\" stroke-width=\"3\" fill=\"none\" />\n",
       "<path d=\"M378,56 L397,75 L425,75\" stroke=\"darkred\" stroke-width=\"3\" fill=\"none\" />\n",
       "<path d=\"M350,43 L400,43 L400,57 L350,57 Z\" stroke=\"black\" fill=\"black\" stroke-linejoin=\"miter\" />\n",
       "<text x=\"375\" y=\"80\" font-size=\"7\" text-anchor=\"middle\"></text>\n",
       "<text x=\"375\" y=\"26\" font-size=\"7\" text-anchor=\"middle\">Θ=1.910633</text>\n",
       "<path d=\"M350,43 L400,43 L400,47 L350,47 Z\" stroke=\"black\" fill=\"lightgray\" stroke-linejoin=\"miter\" />\n",
       "<path d=\"M393,50 L403,50 L403,60 L393,60 Z\" stroke=\"black\" fill=\"aquamarine\" stroke-linejoin=\"miter\" />\n",
       "<text x=\"398\" y=\"57\" font-size=\"6\" text-anchor=\"middle\">H</text>\n",
       "<path d=\"M325,125 L353,125 L372,144\" stroke=\"darkred\" stroke-width=\"3\" fill=\"none\" />\n",
       "<path d=\"M378,144 L397,125 L425,125\" stroke=\"darkred\" stroke-width=\"3\" fill=\"none\" />\n",
       "<path d=\"M325,175 L353,175 L372,156\" stroke=\"darkred\" stroke-width=\"3\" fill=\"none\" />\n",
       "<path d=\"M378,156 L397,175 L425,175\" stroke=\"darkred\" stroke-width=\"3\" fill=\"none\" />\n",
       "<path d=\"M350,143 L400,143 L400,157 L350,157 Z\" stroke=\"black\" fill=\"black\" stroke-linejoin=\"miter\" />\n",
       "<text x=\"375\" y=\"180\" font-size=\"7\" text-anchor=\"middle\"></text>\n",
       "<text x=\"375\" y=\"126\" font-size=\"7\" text-anchor=\"middle\">Θ=1.910633</text>\n",
       "<path d=\"M350,143 L400,143 L400,147 L350,147 Z\" stroke=\"black\" fill=\"lightgray\" stroke-linejoin=\"miter\" />\n",
       "<path d=\"M393,150 L403,150 L403,160 L393,160 Z\" stroke=\"black\" fill=\"aquamarine\" stroke-linejoin=\"miter\" />\n",
       "<text x=\"398\" y=\"157\" font-size=\"6\" text-anchor=\"middle\">H</text>\n",
       "<path d=\"M275,225 L325,225\" stroke=\"darkred\" stroke-width=\"3\" fill=\"none\" />\n",
       "<path d=\"M25,275 L325,275\" stroke=\"darkred\" stroke-width=\"3\" fill=\"none\" />\n",
       "<path d=\"M325,225 L353,225 L372,244\" stroke=\"darkred\" stroke-width=\"3\" fill=\"none\" />\n",
       "<path d=\"M378,244 L397,225 L425,225\" stroke=\"darkred\" stroke-width=\"3\" fill=\"none\" />\n",
       "<path d=\"M325,275 L353,275 L372,256\" stroke=\"darkred\" stroke-width=\"3\" fill=\"none\" />\n",
       "<path d=\"M378,256 L397,275 L425,275\" stroke=\"darkred\" stroke-width=\"3\" fill=\"none\" />\n",
       "<path d=\"M350,243 L400,243 L400,257 L350,257 Z\" stroke=\"black\" fill=\"black\" stroke-linejoin=\"miter\" />\n",
       "<text x=\"375\" y=\"280\" font-size=\"7\" text-anchor=\"middle\"></text>\n",
       "<text x=\"375\" y=\"226\" font-size=\"7\" text-anchor=\"middle\">Θ=1.910633</text>\n",
       "<path d=\"M350,243 L400,243 L400,247 L350,247 Z\" stroke=\"black\" fill=\"lightgray\" stroke-linejoin=\"miter\" />\n",
       "<path d=\"M393,250 L403,250 L403,260 L393,260 Z\" stroke=\"black\" fill=\"aquamarine\" stroke-linejoin=\"miter\" />\n",
       "<text x=\"398\" y=\"257\" font-size=\"6\" text-anchor=\"middle\">H</text>\n",
       "<path d=\"M428,125 L472,175\" stroke=\"white\" stroke-width=\"6\" fill=\"none\" />\n",
       "<path d=\"M425,125 L428,125 L472,175 L475,175\" stroke=\"darkred\" stroke-width=\"3\" fill=\"none\" />\n",
       "<path d=\"M428,175 L472,125\" stroke=\"white\" stroke-width=\"6\" fill=\"none\" />\n",
       "<path d=\"M425,175 L428,175 L472,125 L475,125\" stroke=\"darkred\" stroke-width=\"3\" fill=\"none\" />\n",
       "<path d=\"M425,225 L475,225\" stroke=\"darkred\" stroke-width=\"3\" fill=\"none\" />\n",
       "<path d=\"M475,175 L503,175 L522,194\" stroke=\"darkred\" stroke-width=\"3\" fill=\"none\" />\n",
       "<path d=\"M528,194 L547,175 L575,175\" stroke=\"darkred\" stroke-width=\"3\" fill=\"none\" />\n",
       "<path d=\"M475,225 L503,225 L522,206\" stroke=\"darkred\" stroke-width=\"3\" fill=\"none\" />\n",
       "<path d=\"M528,206 L547,225 L575,225\" stroke=\"darkred\" stroke-width=\"3\" fill=\"none\" />\n",
       "<path d=\"M500,193 L550,193 L550,207 L500,207 Z\" stroke=\"black\" fill=\"black\" stroke-linejoin=\"miter\" />\n",
       "<text x=\"525\" y=\"235\" font-size=\"7\" text-anchor=\"middle\"></text>\n",
       "<text x=\"525\" y=\"176\" font-size=\"7\" text-anchor=\"middle\"></text>\n",
       "<path d=\"M500,193 L550,193 L550,197 L500,197 Z\" stroke=\"black\" fill=\"lightgray\" stroke-linejoin=\"miter\" />\n",
       "<path d=\"M543,200 L553,200 L553,210 L543,210 Z\" stroke=\"black\" fill=\"aquamarine\" stroke-linejoin=\"miter\" />\n",
       "<text x=\"548\" y=\"207\" font-size=\"6\" text-anchor=\"middle\">H</text>\n",
       "<path d=\"M425,75 L575,75\" stroke=\"darkred\" stroke-width=\"3\" fill=\"none\" />\n",
       "<path d=\"M475,125 L575,125\" stroke=\"darkred\" stroke-width=\"3\" fill=\"none\" />\n",
       "<path d=\"M578,75 L622,225\" stroke=\"white\" stroke-width=\"6\" fill=\"none\" />\n",
       "<path d=\"M575,75 L578,75 L622,225 L625,225\" stroke=\"darkred\" stroke-width=\"3\" fill=\"none\" />\n",
       "<path d=\"M578,125 L622,75\" stroke=\"white\" stroke-width=\"6\" fill=\"none\" />\n",
       "<path d=\"M575,125 L578,125 L622,75 L625,75\" stroke=\"darkred\" stroke-width=\"3\" fill=\"none\" />\n",
       "<path d=\"M578,175 L622,125\" stroke=\"white\" stroke-width=\"6\" fill=\"none\" />\n",
       "<path d=\"M575,175 L578,175 L622,125 L625,125\" stroke=\"darkred\" stroke-width=\"3\" fill=\"none\" />\n",
       "<path d=\"M578,225 L622,175\" stroke=\"white\" stroke-width=\"6\" fill=\"none\" />\n",
       "<path d=\"M575,225 L578,225 L622,175 L625,175\" stroke=\"darkred\" stroke-width=\"3\" fill=\"none\" />\n",
       "<path d=\"M425,25 L625,25\" stroke=\"darkred\" stroke-width=\"3\" fill=\"none\" />\n",
       "<path d=\"M425,275 L625,275\" stroke=\"darkred\" stroke-width=\"3\" fill=\"none\" />\n",
       "<path d=\"M625,25 L640,25\" stroke-width=\"3\" stroke=\"darkred\" stroke-linejoin=\"miter\" fill=\"none\" />\n",
       "<path d=\"M625,75 L640,75\" stroke-width=\"3\" stroke=\"darkred\" stroke-linejoin=\"miter\" fill=\"none\" />\n",
       "<path d=\"M625,125 L640,125\" stroke-width=\"3\" stroke=\"darkred\" stroke-linejoin=\"miter\" fill=\"none\" />\n",
       "<path d=\"M625,175 L640,175\" stroke-width=\"3\" stroke=\"darkred\" stroke-linejoin=\"miter\" fill=\"none\" />\n",
       "<path d=\"M625,225 L640,225\" stroke-width=\"3\" stroke=\"darkred\" stroke-linejoin=\"miter\" fill=\"none\" />\n",
       "<path d=\"M625,275 L640,275\" stroke-width=\"3\" stroke=\"darkred\" stroke-linejoin=\"miter\" fill=\"none\" />\n",
       "<text x=\"650\" y=\"28\" font-size=\"7\" text-anchor=\"end\">0</text>\n",
       "<text x=\"650\" y=\"78\" font-size=\"7\" text-anchor=\"end\">1</text>\n",
       "<text x=\"650\" y=\"128\" font-size=\"7\" text-anchor=\"end\">2</text>\n",
       "<text x=\"650\" y=\"178\" font-size=\"7\" text-anchor=\"end\">3</text>\n",
       "<text x=\"650\" y=\"228\" font-size=\"7\" text-anchor=\"end\">4</text>\n",
       "<text x=\"650\" y=\"278\" font-size=\"7\" text-anchor=\"end\">5</text>\n",
       "<text x=\"0\" y=\"28\" font-size=\"7\" text-anchor=\"start\">0</text>\n",
       "<text x=\"0\" y=\"78\" font-size=\"7\" text-anchor=\"start\">1</text>\n",
       "<text x=\"0\" y=\"128\" font-size=\"7\" text-anchor=\"start\">2</text>\n",
       "<text x=\"0\" y=\"178\" font-size=\"7\" text-anchor=\"start\">3</text>\n",
       "<text x=\"0\" y=\"228\" font-size=\"7\" text-anchor=\"start\">4</text>\n",
       "<text x=\"0\" y=\"278\" font-size=\"7\" text-anchor=\"start\">5</text>\n",
       "</svg>"
      ],
      "text/plain": [
       "<drawsvg.drawing.Drawing at 0x7fd19a5a5110>"
      ]
     },
     "execution_count": 4,
     "metadata": {},
     "output_type": "execute_result"
    }
   ],
   "source": [
    "bell_circ = Circuit(m=6)\n",
    "\n",
    "bell_circ.add(0, BS.H())\n",
    "bell_circ.add(0, catalog['postprocessed cnot'].build_circuit(), merge=True)\n",
    "pcvl.pdisplay(bell_circ)"
   ]
  },
  {
   "cell_type": "markdown",
   "metadata": {
    "collapsed": false
   },
   "source": [
    "To perform the computation on the input density matrix, a simulator is constructed with the circuit  and the necessary post-selection function."
   ]
  },
  {
   "cell_type": "code",
   "execution_count": 4,
   "metadata": {},
   "outputs": [
    {
     "name": "stdout",
     "output_type": "stream",
     "text": [
      "Output Density matrix - Bell State\n"
     ]
    },
    {
     "data": {
      "image/png": "[encoded data removed]",
      "text/plain": [
       "<Figure size 640x480 with 1 Axes>"
      ]
     },
     "metadata": {},
     "output_type": "display_data"
    }
   ],
   "source": [
    "cnot = catalog['postprocessed cnot'].build_processor()  # creating a postprocessed cnot from catalog for the heralding and the post-selection function\n",
    "\n",
    "bell_simulator = Simulator(SLOSBackend())\n",
    "bell_simulator.set_circuit(bell_circ)\n",
    "bell_simulator.set_selection(heralds=cnot.heralds, postselect=cnot.post_select_fn)\n",
    "\n",
    "# Applying the evolution\n",
    "bell_out_dm = bell_simulator.evolve_density_matrix(input_dm)  # apply evolution on the density matrix\n",
    "print('Output Density matrix - Bell State')\n",
    "pcvl.pdisplay(bell_out_dm)"
   ]
  },
  {
   "cell_type": "markdown",
   "metadata": {
    "collapsed": false
   },
   "source": [
    "This output density matrix corresponds identically to evolving a statevector through the circuit and then converting the output SVD into a density matrix."
   ]
  },
  {
   "cell_type": "code",
   "execution_count": 5,
   "metadata": {},
   "outputs": [
    {
     "name": "stdout",
     "output_type": "stream",
     "text": [
      "The output statevector distribution: sqrt(2)/2*|1,0,1,0,0,0>+sqrt(2)/2*|0,1,0,1,0,0>\n",
      "The density matrix converted from the output SVD\n"
     ]
    },
    {
     "data": {
      "image/png": "[encoded data removed]",
      "text/plain": [
       "<Figure size 640x480 with 1 Axes>"
      ]
     },
     "metadata": {},
     "output_type": "display_data"
    }
   ],
   "source": [
    "output_svd = bell_simulator.evolve(BasicState([1,0,1,0,0,0]))\n",
    "print('The output statevector distribution:', output_svd)\n",
    "\n",
    "print('The density matrix converted from the output SVD')\n",
    "pcvl.pdisplay(DensityMatrix.from_svd(output_svd))"
   ]
  },
  {
   "cell_type": "markdown",
   "metadata": {
    "collapsed": false
   },
   "source": [
    "## Investigating the Hong-Ou-Mandel effect using Density Matrix"
   ]
  },
  {
   "cell_type": "markdown",
   "metadata": {
    "collapsed": false
   },
   "source": [
    "For this we create a simulator with a 2 mode circuit consisting of a beam splitter. The output density matrix demonstrates quantum coherence through the non-zero off-diagonal coefficients."
   ]
  },
  {
   "cell_type": "code",
   "execution_count": 6,
   "metadata": {},
   "outputs": [
    {
     "name": "stdout",
     "output_type": "stream",
     "text": [
      "output density matrix without any loss\n"
     ]
    },
    {
     "data": {
      "image/png": "[encoded data removed]",
      "text/plain": [
       "<Figure size 640x480 with 1 Axes>"
      ]
     },
     "metadata": {},
     "output_type": "display_data"
    }
   ],
   "source": [
    "sim = Simulator(SLOSBackend())\n",
    "sim.set_circuit(BS.H())\n",
    "\n",
    "# generate input density matrix\n",
    "source = Source()  # perfect source\n",
    "input_density_matrix = DensityMatrix.from_svd(source.generate_distribution(BasicState([1, 1])))\n",
    "\n",
    "# evolution of density matrix\n",
    "output_density_matrix = sim.evolve_density_matrix(input_density_matrix)\n",
    "print('output density matrix without any loss')\n",
    "pcvl.pdisplay(output_density_matrix)"
   ]
  },
  {
   "cell_type": "markdown",
   "metadata": {
    "collapsed": false
   },
   "source": [
    "### Apply a Loss operator on density matrix\n",
    "\n",
    "The density matrices allow for application of a loss operator by defining the modes on which photons are lost and the probability of loss. The application of the loss operator and its effect are illustrated below using a simple 2 mode LO circuit with a beam splitter and a noisy source with emission probability of 0.6. Computationally, this is equivalent to a perfect source with a probaility of 0.4 for loosing a photon at each input mode before the circuit.\n"
   ]
  },
  {
   "cell_type": "code",
   "execution_count": 7,
   "metadata": {},
   "outputs": [
    {
     "name": "stdout",
     "output_type": "stream",
     "text": [
      "output density matrix with loss\n"
     ]
    },
    {
     "data": {
      "image/png": "[encoded data removed]",
      "text/plain": [
       "<Figure size 640x480 with 1 Axes>"
      ]
     },
     "metadata": {},
     "output_type": "display_data"
    }
   ],
   "source": [
    "input_density_matrix.apply_loss([0, 1], 0.4)  # this loss operator is equivalent to 0.6 emission probability from source\n",
    "\n",
    "lossy_output_density_matrix = sim.evolve_density_matrix(input_density_matrix)  # evolving this lossy density matrix\n",
    "print('output density matrix with loss')\n",
    "pcvl.pdisplay(lossy_output_density_matrix)"
   ]
  },
  {
   "cell_type": "markdown",
   "metadata": {
    "collapsed": false
   },
   "source": [
    "### Computating the expectation value of an operator"
   ]
  },
  {
   "cell_type": "markdown",
   "metadata": {
    "collapsed": false
   },
   "source": [
    "The expectation value of an operator $\\hat{O}$ over a quantum system represented by a density matrix $\\rho$ is given by the nice formula :\n",
    "\n",
    "$$ \\langle\\hat{O}\\rangle = Tr (\\hat{O}\\rho) $$\n",
    "\n",
    "In the next cell, we evaluate the expectation value of the number operator $\\hat{N}$ using the previous lossy density matrix generated by evolving through the beamsplitter."
   ]
  },
  {
   "cell_type": "code",
   "execution_count": 8,
   "metadata": {},
   "outputs": [
    {
     "name": "stdout",
     "output_type": "stream",
     "text": [
      "The expectation value obtained (expected, there is a 60% chance of photons passing through the circuit): (1.2000000000000004+0j)\n"
     ]
    }
   ],
   "source": [
    "dm_shape = lossy_output_density_matrix.shape\n",
    "\n",
    "# Constructing the number operator\n",
    "number_operator = np.zeros(dm_shape)\n",
    "for state, index in lossy_output_density_matrix.index.items():\n",
    "    number_operator[index, index] = state.n\n",
    "\n",
    "expectation_value = (number_operator @ lossy_output_density_matrix.mat).trace()\n",
    "print('The expectation value obtained (expected, there is a 60% chance of photons passing through the circuit):', expectation_value)\n"
   ]
  },
  {
   "cell_type": "markdown",
   "metadata": {
    "collapsed": false
   },
   "source": [
    "## Performing measurements on density matrix"
   ]
  },
  {
   "cell_type": "markdown",
   "metadata": {
    "collapsed": false
   },
   "source": [
    "A measurement on density matrix in _Perceval_ is performed by defining the modes to be measured. The process returns a dictionary with the measured states as keys with values - probability of measuring the corresponding state and remaining density matrix. In T=the following cell, measurements on the output density matrix after the beam splitter (above) is demonstrated."
   ]
  },
  {
   "cell_type": "code",
   "execution_count": 9,
   "metadata": {},
   "outputs": [
    {
     "name": "stdout",
     "output_type": "stream",
     "text": [
      "The output density matrix 0.50+0.00j*|2,0><2,0|+-0.50+0.00j*|0,2><2,0|+-0.50+0.00j*|2,0><0,2|+0.50+0.00j*|0,2><0,2|\n",
      "state measured: |0> with probability 0.5000000000000001 and the remaining density matrix 1.00+0.00j*|2><2|\n",
      "state measured: |2> with probability 0.5000000000000001 and the remaining density matrix 1.00+0.00j*|0><0|\n"
     ]
    }
   ],
   "source": [
    "print('The output density matrix', output_density_matrix)\n",
    "\n",
    "res = output_density_matrix.measure([0])  # performing measurements define the modes to measure\n",
    "for keys, values in res.items():\n",
    "    measured_state = keys\n",
    "    prob_meas = values[0]\n",
    "    remaining_dm = values[1]\n",
    "    print('state measured:', measured_state, 'with probability', prob_meas, 'and the remaining density matrix', remaining_dm)"
   ]
  },
  {
   "cell_type": "markdown",
   "metadata": {
    "collapsed": false
   },
   "source": [
    "Let's see the difference if this measurement was performed on the lossy case"
   ]
  },
  {
   "cell_type": "code",
   "execution_count": 10,
   "metadata": {},
   "outputs": [
    {
     "name": "stdout",
     "output_type": "stream",
     "text": [
      "The lossy output density matrix 0.16+0.00j*|0,0><0,0|+0.24+0.00j*|1,0><1,0|+0.00+0.00j*|0,1><1,0|+0.00+0.00j*|1,0><0,1|+0.24+0.00j*|0,1><0,1|+0.18+0.00j*|2,0><2,0|+-0.18+0.00j*|0,2><2,0|+-0.18+0.00j*|2,0><0,2|+0.18+0.00j*|0,2><0,2|\n",
      "state measured: |0> with probability 0.5800000000000002\n",
      "state measured: |1> with probability 0.24000000000000005\n",
      "state measured: |2> with probability 0.18000000000000008\n"
     ]
    }
   ],
   "source": [
    "print('The lossy output density matrix', lossy_output_density_matrix)\n",
    "\n",
    "lossy_res = lossy_output_density_matrix.measure([0])  # choose modes to measure\n",
    "for keys, values in lossy_res.items():\n",
    "    print('state measured:', keys, 'with probability', values[0])  # key: measured basic state, values[0]: probability of measuring the state"
   ]
  },
  {
   "cell_type": "code",
   "execution_count": null,
   "metadata": {},
   "outputs": [],
   "source": []
  }
 ],
 "metadata": {
  "language_info": {
   "name": "python"
  }
 },
 "nbformat": 4,
 "nbformat_minor": 0
}
