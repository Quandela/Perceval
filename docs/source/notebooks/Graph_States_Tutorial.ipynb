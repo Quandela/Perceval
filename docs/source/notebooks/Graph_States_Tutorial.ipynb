{
 "cells": [
  {
   "attachments": {},
   "cell_type": "markdown",
   "id": "cc7d159c",
   "metadata": {},
   "source": [
    "# Graph States"
   ]
  },
  {
   "attachments": {},
   "cell_type": "markdown",
   "id": "a404cf6a",
   "metadata": {},
   "source": [
    "## I. Some definitions and properties of graph states"
   ]
  },
  {
   "attachments": {},
   "cell_type": "markdown",
   "id": "81150d0f",
   "metadata": {},
   "source": [
    "Graph states are specific entangled states that are represented by a graph. They have interesting properties in many fields of quantum computing [[1]](#References), therefore they are points of interest."
   ]
  },
  {
   "attachments": {},
   "cell_type": "markdown",
   "id": "ba744e0b",
   "metadata": {},
   "source": [
    "### Definition"
   ]
  },
  {
   "attachments": {},
   "cell_type": "markdown",
   "id": "3673c194",
   "metadata": {},
   "source": [
    "Two definitions of a graph state exist. Since they are equivalent, we will only consider the following:\n",
    "\n",
    "Given a graph $G=(V,E)$, with the set of vertices $V$ and the set of edges $E$, the corresponding graph state is defined as:\n",
    "<p style=\"text-align: center;\">\n",
    "$\\left|G\\right\\rangle = \\prod_{(a,b)\\in E} CZ^{\\{a,b\\}} \\left|+\\right\\rangle^{\\otimes V}$\n",
    "</p>\n",
    "\n",
    "where $|+\\rangle = \\frac{|0\\rangle + |1\\rangle}{\\sqrt2}$ and $CZ^{\\{a,b\\}}$  is the controlled-Z interaction between the two vertices (corresponding to two qubits) $a$ and $b$. The operators order in the product doesn't matter since CZ gates commute between themselves. We can write the CZ gate with the following matrix :\n",
    "<p style=\"text-align: center;\">\n",
    "$CZ = \\begin{bmatrix}\n",
    "1 & 0 & 0 & 0 \\\\\n",
    "0 & 1 & 0 & 0 \\\\\n",
    "0 & 0 & 1 & 0 \\\\\n",
    "0 & 0 & 0 & -1 \\\\\n",
    "\\end{bmatrix}$\n",
    "</p>\n",
    "\n",
    "<br/>\n",
    "\n",
    "Therefore, we can write the action of a CZ gate as: $CZ^{\\{1,2\\}}|0\\rangle_1 |\\pm\\rangle_2 = |0\\rangle_1 |\\pm\\rangle_2$     and     $CZ^{\\{1,2\\}}|1\\rangle_1 |\\pm\\rangle_2 = |1\\rangle_1 |\\mp\\rangle_2$.\n",
    "\n",
    "Let’s illustrate this with an example. The associated graph of: $|\\Psi_{graph}\\rangle = CZ^{\\{0,1\\}}\\, CZ^{\\{1,2\\}}\\, CZ^{\\{0,2\\}}\\, CZ^{\\{3,2\\}}|+\\rangle_0 |+\\rangle_1 |+\\rangle_2 |+\\rangle_3$ is the following. The graph is generated as an output later in this notebook. We will now see several ways to create and display these states."
   ]
  },
  {
   "attachments": {},
   "cell_type": "markdown",
   "id": "ebe8e04c",
   "metadata": {},
   "source": [
    "## II. Generating entangled states with a circuit"
   ]
  },
  {
   "attachments": {},
   "cell_type": "markdown",
   "id": "91ceb745",
   "metadata": {},
   "source": [
    "We will first use a 3-qubits circuit. We need to implement two CZ gates on it to generate the 3-qubits linear graph state.\n",
    "\n",
    "These gates are post-selected CZ gates which have a probability of success of $\\frac{1}{9}$."
   ]
  },
  {
   "cell_type": "code",
   "execution_count": 1,
   "id": "7a1cbb98",
   "metadata": {},
   "outputs": [],
   "source": [
    "import math\n",
    "import perceval as pcvl\n",
    "import networkx as nx\n",
    "from perceval.utils import StateGenerator, Encoding"
   ]
  },
  {
   "attachments": {},
   "cell_type": "markdown",
   "id": "922551ad",
   "metadata": {},
   "source": [
    "### Implementation in Perceval"
   ]
  },
  {
   "attachments": {},
   "cell_type": "markdown",
   "id": "f21b829c",
   "metadata": {},
   "source": [
    "For this circuit, we use path encoded qubits with 3 photons as input."
   ]
  },
  {
   "cell_type": "code",
   "execution_count": 2,
   "id": "db028030",
   "metadata": {},
   "outputs": [],
   "source": [
    "# Modes number of the circuit\n",
    "m = 10"
   ]
  },
  {
   "cell_type": "code",
   "execution_count": 3,
   "id": "f2465169",
   "metadata": {},
   "outputs": [
    {
     "data": {
      "image/svg+xml": [
       "<?xml version=\"1.0\" encoding=\"UTF-8\"?>\n",
       "<svg xmlns=\"http://www.w3.org/2000/svg\" xmlns:xlink=\"http://www.w3.org/1999/xlink\"\n",
       "     width=\"570.0\" height=\"393.75\" viewBox=\"-30.0 0 760.0 525.0\">\n",
       "<defs>\n",
       "</defs>\n",
       "<path d=\"M10,25.0 L25,25.0\" stroke-width=\"3\" stroke=\"darkred\" stroke-linejoin=\"miter\" fill=\"none\" />\n",
       "<path d=\"M10,75.0 L25,75.0\" stroke-width=\"3\" stroke=\"darkred\" stroke-linejoin=\"miter\" fill=\"none\" />\n",
       "<path d=\"M10,125.0 L25,125.0\" stroke-width=\"3\" stroke=\"darkred\" stroke-linejoin=\"miter\" fill=\"none\" />\n",
       "<path d=\"M10,175.0 L25,175.0\" stroke-width=\"3\" stroke=\"darkred\" stroke-linejoin=\"miter\" fill=\"none\" />\n",
       "<path d=\"M10,225.0 L25,225.0\" stroke-width=\"3\" stroke=\"darkred\" stroke-linejoin=\"miter\" fill=\"none\" />\n",
       "<path d=\"M10,275.0 L25,275.0\" stroke-width=\"3\" stroke=\"darkred\" stroke-linejoin=\"miter\" fill=\"none\" />\n",
       "<path d=\"M10,325.0 L25,325.0\" stroke-width=\"3\" stroke=\"darkred\" stroke-linejoin=\"miter\" fill=\"none\" />\n",
       "<path d=\"M10,375.0 L25,375.0\" stroke-width=\"3\" stroke=\"darkred\" stroke-linejoin=\"miter\" fill=\"none\" />\n",
       "<path d=\"M10,425.0 L25,425.0\" stroke-width=\"3\" stroke=\"darkred\" stroke-linejoin=\"miter\" fill=\"none\" />\n",
       "<path d=\"M10,475.0 L25,475.0\" stroke-width=\"3\" stroke=\"darkred\" stroke-linejoin=\"miter\" fill=\"none\" />\n",
       "<path d=\"M25,75 L53,75 L72,94\" stroke=\"darkred\" stroke-width=\"3\" fill=\"none\" />\n",
       "<path d=\"M78,94 L97,75 L125,75\" stroke=\"darkred\" stroke-width=\"3\" fill=\"none\" />\n",
       "<path d=\"M25,125 L53,125 L72,106\" stroke=\"darkred\" stroke-width=\"3\" fill=\"none\" />\n",
       "<path d=\"M78,106 L97,125 L125,125\" stroke=\"darkred\" stroke-width=\"3\" fill=\"none\" />\n",
       "<path d=\"M50,93 L100,93 L100,107 L50,107 Z\" stroke=\"black\" fill=\"black\" stroke-linejoin=\"miter\" />\n",
       "<text x=\"75\" y=\"135\" font-size=\"7\" text-anchor=\"middle\"></text>\n",
       "<text x=\"75\" y=\"76\" font-size=\"7\" text-anchor=\"middle\"></text>\n",
       "<path d=\"M50,93 L100,93 L100,97 L50,97 Z\" stroke=\"black\" fill=\"lightgray\" stroke-linejoin=\"miter\" />\n",
       "<path d=\"M93,100 L103,100 L103,110 L93,110 Z\" stroke=\"black\" fill=\"thistle\" stroke-linejoin=\"miter\" />\n",
       "<text x=\"98\" y=\"107\" font-size=\"6\" text-anchor=\"middle\">Rx</text>\n",
       "<path d=\"M125,75 L175,75\" stroke=\"darkred\" stroke-width=\"3\" fill=\"none\" />\n",
       "<path d=\"M130,90 L139,90 L153,60 L144,60 L130,90 L139,90 Z\" stroke=\"black\" fill=\"gray\" stroke-linejoin=\"miter\" />\n",
       "<text x=\"147\" y=\"88\" font-size=\"7\" text-anchor=\"start\">Φ=pi/2</text>\n",
       "<path d=\"M25,175 L53,175 L72,194\" stroke=\"darkred\" stroke-width=\"3\" fill=\"none\" />\n",
       "<path d=\"M78,194 L97,175 L125,175\" stroke=\"darkred\" stroke-width=\"3\" fill=\"none\" />\n",
       "<path d=\"M25,225 L53,225 L72,206\" stroke=\"darkred\" stroke-width=\"3\" fill=\"none\" />\n",
       "<path d=\"M78,206 L97,225 L125,225\" stroke=\"darkred\" stroke-width=\"3\" fill=\"none\" />\n",
       "<path d=\"M50,193 L100,193 L100,207 L50,207 Z\" stroke=\"black\" fill=\"black\" stroke-linejoin=\"miter\" />\n",
       "<text x=\"75\" y=\"235\" font-size=\"7\" text-anchor=\"middle\"></text>\n",
       "<text x=\"75\" y=\"176\" font-size=\"7\" text-anchor=\"middle\"></text>\n",
       "<path d=\"M50,193 L100,193 L100,197 L50,197 Z\" stroke=\"black\" fill=\"lightgray\" stroke-linejoin=\"miter\" />\n",
       "<path d=\"M93,200 L103,200 L103,210 L93,210 Z\" stroke=\"black\" fill=\"thistle\" stroke-linejoin=\"miter\" />\n",
       "<text x=\"98\" y=\"207\" font-size=\"6\" text-anchor=\"middle\">Rx</text>\n",
       "<path d=\"M125,175 L175,175\" stroke=\"darkred\" stroke-width=\"3\" fill=\"none\" />\n",
       "<path d=\"M130,190 L139,190 L153,160 L144,160 L130,190 L139,190 Z\" stroke=\"black\" fill=\"gray\" stroke-linejoin=\"miter\" />\n",
       "<text x=\"147\" y=\"188\" font-size=\"7\" text-anchor=\"start\">Φ=pi/2</text>\n",
       "<path d=\"M25,375 L53,375 L72,394\" stroke=\"darkred\" stroke-width=\"3\" fill=\"none\" />\n",
       "<path d=\"M78,394 L97,375 L125,375\" stroke=\"darkred\" stroke-width=\"3\" fill=\"none\" />\n",
       "<path d=\"M25,425 L53,425 L72,406\" stroke=\"darkred\" stroke-width=\"3\" fill=\"none\" />\n",
       "<path d=\"M78,406 L97,425 L125,425\" stroke=\"darkred\" stroke-width=\"3\" fill=\"none\" />\n",
       "<path d=\"M50,393 L100,393 L100,407 L50,407 Z\" stroke=\"black\" fill=\"black\" stroke-linejoin=\"miter\" />\n",
       "<text x=\"75\" y=\"435\" font-size=\"7\" text-anchor=\"middle\"></text>\n",
       "<text x=\"75\" y=\"376\" font-size=\"7\" text-anchor=\"middle\"></text>\n",
       "<path d=\"M50,393 L100,393 L100,397 L50,397 Z\" stroke=\"black\" fill=\"lightgray\" stroke-linejoin=\"miter\" />\n",
       "<path d=\"M93,400 L103,400 L103,410 L93,410 Z\" stroke=\"black\" fill=\"thistle\" stroke-linejoin=\"miter\" />\n",
       "<text x=\"98\" y=\"407\" font-size=\"6\" text-anchor=\"middle\">Rx</text>\n",
       "<path d=\"M125,375 L175,375\" stroke=\"darkred\" stroke-width=\"3\" fill=\"none\" />\n",
       "<path d=\"M130,390 L139,390 L153,360 L144,360 L130,390 L139,390 Z\" stroke=\"black\" fill=\"gray\" stroke-linejoin=\"miter\" />\n",
       "<text x=\"147\" y=\"388\" font-size=\"7\" text-anchor=\"start\">Φ=pi/2</text>\n",
       "<path d=\"M177,2 L373,2 L373,298 L177,298 Z\" stroke=\"black\" fill=\"lightblue\" stroke-dasharray=\"1,2\" stroke-linejoin=\"miter\" />\n",
       "<text x=\"179\" y=\"305\" font-size=\"8\" text-anchor=\"start\">POSTPROCESSED CZ</text>\n",
       "<path d=\"M125,125.0 L175,125.0\" stroke=\"darkred\" stroke-width=\"3\" fill=\"none\" />\n",
       "<path d=\"M125,225.0 L175,225.0\" stroke=\"darkred\" stroke-width=\"3\" fill=\"none\" />\n",
       "<path d=\"M178,75 L222,175\" stroke=\"white\" stroke-width=\"6\" fill=\"none\" />\n",
       "<path d=\"M175,75 L178,75 L222,175 L225,175\" stroke=\"darkred\" stroke-width=\"3\" fill=\"none\" />\n",
       "<path d=\"M178,125 L222,125\" stroke=\"white\" stroke-width=\"6\" fill=\"none\" />\n",
       "<path d=\"M175,125 L178,125 L222,125 L225,125\" stroke=\"darkred\" stroke-width=\"3\" fill=\"none\" />\n",
       "<path d=\"M178,175 L222,225\" stroke=\"white\" stroke-width=\"6\" fill=\"none\" />\n",
       "<path d=\"M175,175 L178,175 L222,225 L225,225\" stroke=\"darkred\" stroke-width=\"3\" fill=\"none\" />\n",
       "<path d=\"M178,225 L222,75\" stroke=\"white\" stroke-width=\"6\" fill=\"none\" />\n",
       "<path d=\"M175,225 L178,225 L222,75 L225,75\" stroke=\"darkred\" stroke-width=\"3\" fill=\"none\" />\n",
       "<path d=\"M25,25.0 L225,25.0\" stroke=\"darkred\" stroke-width=\"3\" fill=\"none\" />\n",
       "<path d=\"M25,275.0 L225,275.0\" stroke=\"darkred\" stroke-width=\"3\" fill=\"none\" />\n",
       "<path d=\"M225,25 L253,25 L272,44\" stroke=\"darkred\" stroke-width=\"3\" fill=\"none\" />\n",
       "<path d=\"M278,44 L297,25 L325,25\" stroke=\"darkred\" stroke-width=\"3\" fill=\"none\" />\n",
       "<path d=\"M225,75 L253,75 L272,56\" stroke=\"darkred\" stroke-width=\"3\" fill=\"none\" />\n",
       "<path d=\"M278,56 L297,75 L325,75\" stroke=\"darkred\" stroke-width=\"3\" fill=\"none\" />\n",
       "<path d=\"M250,43 L300,43 L300,57 L250,57 Z\" stroke=\"black\" fill=\"black\" stroke-linejoin=\"miter\" />\n",
       "<text x=\"275\" y=\"80\" font-size=\"7\" text-anchor=\"middle\"></text>\n",
       "<text x=\"275\" y=\"26\" font-size=\"7\" text-anchor=\"middle\">Θ=1.910633</text>\n",
       "<path d=\"M250,43 L300,43 L300,47 L250,47 Z\" stroke=\"black\" fill=\"lightgray\" stroke-linejoin=\"miter\" />\n",
       "<path d=\"M293,50 L303,50 L303,60 L293,60 Z\" stroke=\"black\" fill=\"aquamarine\" stroke-linejoin=\"miter\" />\n",
       "<text x=\"298\" y=\"57\" font-size=\"6\" text-anchor=\"middle\">H</text>\n",
       "<path d=\"M225,125 L253,125 L272,144\" stroke=\"darkred\" stroke-width=\"3\" fill=\"none\" />\n",
       "<path d=\"M278,144 L297,125 L325,125\" stroke=\"darkred\" stroke-width=\"3\" fill=\"none\" />\n",
       "<path d=\"M225,175 L253,175 L272,156\" stroke=\"darkred\" stroke-width=\"3\" fill=\"none\" />\n",
       "<path d=\"M278,156 L297,175 L325,175\" stroke=\"darkred\" stroke-width=\"3\" fill=\"none\" />\n",
       "<path d=\"M250,143 L300,143 L300,157 L250,157 Z\" stroke=\"black\" fill=\"black\" stroke-linejoin=\"miter\" />\n",
       "<text x=\"275\" y=\"180\" font-size=\"7\" text-anchor=\"middle\"></text>\n",
       "<text x=\"275\" y=\"126\" font-size=\"7\" text-anchor=\"middle\">Θ=1.910633</text>\n",
       "<path d=\"M250,143 L300,143 L300,147 L250,147 Z\" stroke=\"black\" fill=\"lightgray\" stroke-linejoin=\"miter\" />\n",
       "<path d=\"M293,150 L303,150 L303,160 L293,160 Z\" stroke=\"black\" fill=\"aquamarine\" stroke-linejoin=\"miter\" />\n",
       "<text x=\"298\" y=\"157\" font-size=\"6\" text-anchor=\"middle\">H</text>\n",
       "<path d=\"M225,225 L253,225 L272,244\" stroke=\"darkred\" stroke-width=\"3\" fill=\"none\" />\n",
       "<path d=\"M278,244 L297,225 L325,225\" stroke=\"darkred\" stroke-width=\"3\" fill=\"none\" />\n",
       "<path d=\"M225,275 L253,275 L272,256\" stroke=\"darkred\" stroke-width=\"3\" fill=\"none\" />\n",
       "<path d=\"M278,256 L297,275 L325,275\" stroke=\"darkred\" stroke-width=\"3\" fill=\"none\" />\n",
       "<path d=\"M250,243 L300,243 L300,257 L250,257 Z\" stroke=\"black\" fill=\"black\" stroke-linejoin=\"miter\" />\n",
       "<text x=\"275\" y=\"280\" font-size=\"7\" text-anchor=\"middle\"></text>\n",
       "<text x=\"275\" y=\"226\" font-size=\"7\" text-anchor=\"middle\">Θ=1.910633</text>\n",
       "<path d=\"M250,243 L300,243 L300,247 L250,247 Z\" stroke=\"black\" fill=\"lightgray\" stroke-linejoin=\"miter\" />\n",
       "<path d=\"M293,250 L303,250 L303,260 L293,260 Z\" stroke=\"black\" fill=\"aquamarine\" stroke-linejoin=\"miter\" />\n",
       "<text x=\"298\" y=\"257\" font-size=\"6\" text-anchor=\"middle\">H</text>\n",
       "<path d=\"M328,75 L372,225\" stroke=\"white\" stroke-width=\"6\" fill=\"none\" />\n",
       "<path d=\"M325,75 L328,75 L372,225 L375,225\" stroke=\"darkred\" stroke-width=\"3\" fill=\"none\" />\n",
       "<path d=\"M328,125 L372,125\" stroke=\"white\" stroke-width=\"6\" fill=\"none\" />\n",
       "<path d=\"M325,125 L328,125 L372,125 L375,125\" stroke=\"darkred\" stroke-width=\"3\" fill=\"none\" />\n",
       "<path d=\"M328,175 L372,75\" stroke=\"white\" stroke-width=\"6\" fill=\"none\" />\n",
       "<path d=\"M325,175 L328,175 L372,75 L375,75\" stroke=\"darkred\" stroke-width=\"3\" fill=\"none\" />\n",
       "<path d=\"M328,225 L372,175\" stroke=\"white\" stroke-width=\"6\" fill=\"none\" />\n",
       "<path d=\"M325,225 L328,225 L372,175 L375,175\" stroke=\"darkred\" stroke-width=\"3\" fill=\"none\" />\n",
       "<path d=\"M325,25.0 L375,25.0\" stroke=\"darkred\" stroke-width=\"3\" fill=\"none\" />\n",
       "<path d=\"M325,275.0 L375,275.0\" stroke=\"darkred\" stroke-width=\"3\" fill=\"none\" />\n",
       "<path d=\"M25,325.0 L375,325.0\" stroke=\"darkred\" stroke-width=\"3\" fill=\"none\" />\n",
       "<path d=\"M378,175 L422,275\" stroke=\"white\" stroke-width=\"6\" fill=\"none\" />\n",
       "<path d=\"M375,175 L378,175 L422,275 L425,275\" stroke=\"darkred\" stroke-width=\"3\" fill=\"none\" />\n",
       "<path d=\"M378,225 L422,325\" stroke=\"white\" stroke-width=\"6\" fill=\"none\" />\n",
       "<path d=\"M375,225 L378,225 L422,325 L425,325\" stroke=\"darkred\" stroke-width=\"3\" fill=\"none\" />\n",
       "<path d=\"M378,275 L422,175\" stroke=\"white\" stroke-width=\"6\" fill=\"none\" />\n",
       "<path d=\"M375,275 L378,275 L422,175 L425,175\" stroke=\"darkred\" stroke-width=\"3\" fill=\"none\" />\n",
       "<path d=\"M378,325 L422,225\" stroke=\"white\" stroke-width=\"6\" fill=\"none\" />\n",
       "<path d=\"M375,325 L378,325 L422,225 L425,225\" stroke=\"darkred\" stroke-width=\"3\" fill=\"none\" />\n",
       "<path d=\"M427,202 L623,202 L623,498 L427,498 Z\" stroke=\"black\" fill=\"lightblue\" stroke-dasharray=\"1,2\" stroke-linejoin=\"miter\" />\n",
       "<text x=\"429\" y=\"505\" font-size=\"8\" text-anchor=\"start\">POSTPROCESSED CZ</text>\n",
       "<path d=\"M175,375.0 L425,375.0\" stroke=\"darkred\" stroke-width=\"3\" fill=\"none\" />\n",
       "<path d=\"M125,425.0 L425,425.0\" stroke=\"darkred\" stroke-width=\"3\" fill=\"none\" />\n",
       "<path d=\"M428,275 L472,375\" stroke=\"white\" stroke-width=\"6\" fill=\"none\" />\n",
       "<path d=\"M425,275 L428,275 L472,375 L475,375\" stroke=\"darkred\" stroke-width=\"3\" fill=\"none\" />\n",
       "<path d=\"M428,325 L472,325\" stroke=\"white\" stroke-width=\"6\" fill=\"none\" />\n",
       "<path d=\"M425,325 L428,325 L472,325 L475,325\" stroke=\"darkred\" stroke-width=\"3\" fill=\"none\" />\n",
       "<path d=\"M428,375 L472,425\" stroke=\"white\" stroke-width=\"6\" fill=\"none\" />\n",
       "<path d=\"M425,375 L428,375 L472,425 L475,425\" stroke=\"darkred\" stroke-width=\"3\" fill=\"none\" />\n",
       "<path d=\"M428,425 L472,275\" stroke=\"white\" stroke-width=\"6\" fill=\"none\" />\n",
       "<path d=\"M425,425 L428,425 L472,275 L475,275\" stroke=\"darkred\" stroke-width=\"3\" fill=\"none\" />\n",
       "<path d=\"M425,225.0 L475,225.0\" stroke=\"darkred\" stroke-width=\"3\" fill=\"none\" />\n",
       "<path d=\"M25,475.0 L475,475.0\" stroke=\"darkred\" stroke-width=\"3\" fill=\"none\" />\n",
       "<path d=\"M475,225 L503,225 L522,244\" stroke=\"darkred\" stroke-width=\"3\" fill=\"none\" />\n",
       "<path d=\"M528,244 L547,225 L575,225\" stroke=\"darkred\" stroke-width=\"3\" fill=\"none\" />\n",
       "<path d=\"M475,275 L503,275 L522,256\" stroke=\"darkred\" stroke-width=\"3\" fill=\"none\" />\n",
       "<path d=\"M528,256 L547,275 L575,275\" stroke=\"darkred\" stroke-width=\"3\" fill=\"none\" />\n",
       "<path d=\"M500,243 L550,243 L550,257 L500,257 Z\" stroke=\"black\" fill=\"black\" stroke-linejoin=\"miter\" />\n",
       "<text x=\"525\" y=\"280\" font-size=\"7\" text-anchor=\"middle\"></text>\n",
       "<text x=\"525\" y=\"226\" font-size=\"7\" text-anchor=\"middle\">Θ=1.910633</text>\n",
       "<path d=\"M500,243 L550,243 L550,247 L500,247 Z\" stroke=\"black\" fill=\"lightgray\" stroke-linejoin=\"miter\" />\n",
       "<path d=\"M543,250 L553,250 L553,260 L543,260 Z\" stroke=\"black\" fill=\"aquamarine\" stroke-linejoin=\"miter\" />\n",
       "<text x=\"548\" y=\"257\" font-size=\"6\" text-anchor=\"middle\">H</text>\n",
       "<path d=\"M475,325 L503,325 L522,344\" stroke=\"darkred\" stroke-width=\"3\" fill=\"none\" />\n",
       "<path d=\"M528,344 L547,325 L575,325\" stroke=\"darkred\" stroke-width=\"3\" fill=\"none\" />\n",
       "<path d=\"M475,375 L503,375 L522,356\" stroke=\"darkred\" stroke-width=\"3\" fill=\"none\" />\n",
       "<path d=\"M528,356 L547,375 L575,375\" stroke=\"darkred\" stroke-width=\"3\" fill=\"none\" />\n",
       "<path d=\"M500,343 L550,343 L550,357 L500,357 Z\" stroke=\"black\" fill=\"black\" stroke-linejoin=\"miter\" />\n",
       "<text x=\"525\" y=\"380\" font-size=\"7\" text-anchor=\"middle\"></text>\n",
       "<text x=\"525\" y=\"326\" font-size=\"7\" text-anchor=\"middle\">Θ=1.910633</text>\n",
       "<path d=\"M500,343 L550,343 L550,347 L500,347 Z\" stroke=\"black\" fill=\"lightgray\" stroke-linejoin=\"miter\" />\n",
       "<path d=\"M543,350 L553,350 L553,360 L543,360 Z\" stroke=\"black\" fill=\"aquamarine\" stroke-linejoin=\"miter\" />\n",
       "<text x=\"548\" y=\"357\" font-size=\"6\" text-anchor=\"middle\">H</text>\n",
       "<path d=\"M475,425 L503,425 L522,444\" stroke=\"darkred\" stroke-width=\"3\" fill=\"none\" />\n",
       "<path d=\"M528,444 L547,425 L575,425\" stroke=\"darkred\" stroke-width=\"3\" fill=\"none\" />\n",
       "<path d=\"M475,475 L503,475 L522,456\" stroke=\"darkred\" stroke-width=\"3\" fill=\"none\" />\n",
       "<path d=\"M528,456 L547,475 L575,475\" stroke=\"darkred\" stroke-width=\"3\" fill=\"none\" />\n",
       "<path d=\"M500,443 L550,443 L550,457 L500,457 Z\" stroke=\"black\" fill=\"black\" stroke-linejoin=\"miter\" />\n",
       "<text x=\"525\" y=\"480\" font-size=\"7\" text-anchor=\"middle\"></text>\n",
       "<text x=\"525\" y=\"426\" font-size=\"7\" text-anchor=\"middle\">Θ=1.910633</text>\n",
       "<path d=\"M500,443 L550,443 L550,447 L500,447 Z\" stroke=\"black\" fill=\"lightgray\" stroke-linejoin=\"miter\" />\n",
       "<path d=\"M543,450 L553,450 L553,460 L543,460 Z\" stroke=\"black\" fill=\"aquamarine\" stroke-linejoin=\"miter\" />\n",
       "<text x=\"548\" y=\"457\" font-size=\"6\" text-anchor=\"middle\">H</text>\n",
       "<path d=\"M578,275 L622,425\" stroke=\"white\" stroke-width=\"6\" fill=\"none\" />\n",
       "<path d=\"M575,275 L578,275 L622,425 L625,425\" stroke=\"darkred\" stroke-width=\"3\" fill=\"none\" />\n",
       "<path d=\"M578,325 L622,325\" stroke=\"white\" stroke-width=\"6\" fill=\"none\" />\n",
       "<path d=\"M575,325 L578,325 L622,325 L625,325\" stroke=\"darkred\" stroke-width=\"3\" fill=\"none\" />\n",
       "<path d=\"M578,375 L622,275\" stroke=\"white\" stroke-width=\"6\" fill=\"none\" />\n",
       "<path d=\"M575,375 L578,375 L622,275 L625,275\" stroke=\"darkred\" stroke-width=\"3\" fill=\"none\" />\n",
       "<path d=\"M578,425 L622,375\" stroke=\"white\" stroke-width=\"6\" fill=\"none\" />\n",
       "<path d=\"M575,425 L578,425 L622,375 L625,375\" stroke=\"darkred\" stroke-width=\"3\" fill=\"none\" />\n",
       "<path d=\"M375,25.0 L625,25.0\" stroke=\"darkred\" stroke-width=\"3\" fill=\"none\" />\n",
       "<path d=\"M375,75.0 L625,75.0\" stroke=\"darkred\" stroke-width=\"3\" fill=\"none\" />\n",
       "<path d=\"M375,125.0 L625,125.0\" stroke=\"darkred\" stroke-width=\"3\" fill=\"none\" />\n",
       "<path d=\"M425,175.0 L625,175.0\" stroke=\"darkred\" stroke-width=\"3\" fill=\"none\" />\n",
       "<path d=\"M575,225.0 L625,225.0\" stroke=\"darkred\" stroke-width=\"3\" fill=\"none\" />\n",
       "<path d=\"M575,475.0 L625,475.0\" stroke=\"darkred\" stroke-width=\"3\" fill=\"none\" />\n",
       "<path d=\"M625,425 L675,425\" stroke=\"darkred\" stroke-width=\"3\" fill=\"none\" />\n",
       "<path d=\"M630,440 L639,440 L653,410 L644,410 L630,440 L639,440 Z\" stroke=\"black\" fill=\"gray\" stroke-linejoin=\"miter\" />\n",
       "<text x=\"647\" y=\"438\" font-size=\"7\" text-anchor=\"start\">Φ=pi/2</text>\n",
       "<path d=\"M625,375 L675,375\" stroke=\"darkred\" stroke-width=\"3\" fill=\"none\" />\n",
       "<path d=\"M630,390 L639,390 L653,360 L644,360 L630,390 L639,390 Z\" stroke=\"black\" fill=\"gray\" stroke-linejoin=\"miter\" />\n",
       "<text x=\"647\" y=\"388\" font-size=\"7\" text-anchor=\"start\">Φ=pi/2</text>\n",
       "<path d=\"M628,175 L672,275\" stroke=\"white\" stroke-width=\"6\" fill=\"none\" />\n",
       "<path d=\"M625,175 L628,175 L672,275 L675,275\" stroke=\"darkred\" stroke-width=\"3\" fill=\"none\" />\n",
       "<path d=\"M628,225 L672,325\" stroke=\"white\" stroke-width=\"6\" fill=\"none\" />\n",
       "<path d=\"M625,225 L628,225 L672,325 L675,325\" stroke=\"darkred\" stroke-width=\"3\" fill=\"none\" />\n",
       "<path d=\"M628,275 L672,175\" stroke=\"white\" stroke-width=\"6\" fill=\"none\" />\n",
       "<path d=\"M625,275 L628,275 L672,175 L675,175\" stroke=\"darkred\" stroke-width=\"3\" fill=\"none\" />\n",
       "<path d=\"M628,325 L672,225\" stroke=\"white\" stroke-width=\"6\" fill=\"none\" />\n",
       "<path d=\"M625,325 L628,325 L672,225 L675,225\" stroke=\"darkred\" stroke-width=\"3\" fill=\"none\" />\n",
       "<path d=\"M625,25.0 L675,25.0\" stroke=\"darkred\" stroke-width=\"3\" fill=\"none\" />\n",
       "<path d=\"M625,75.0 L675,75.0\" stroke=\"darkred\" stroke-width=\"3\" fill=\"none\" />\n",
       "<path d=\"M625,125.0 L675,125.0\" stroke=\"darkred\" stroke-width=\"3\" fill=\"none\" />\n",
       "<path d=\"M625,475.0 L675,475.0\" stroke=\"darkred\" stroke-width=\"3\" fill=\"none\" />\n",
       "<path d=\"M675,25.0 L690,25.0\" stroke-width=\"3\" stroke=\"darkred\" stroke-linejoin=\"miter\" fill=\"none\" />\n",
       "<path d=\"M675,75.0 L690,75.0\" stroke-width=\"3\" stroke=\"darkred\" stroke-linejoin=\"miter\" fill=\"none\" />\n",
       "<path d=\"M675,125.0 L690,125.0\" stroke-width=\"3\" stroke=\"darkred\" stroke-linejoin=\"miter\" fill=\"none\" />\n",
       "<path d=\"M675,175.0 L690,175.0\" stroke-width=\"3\" stroke=\"darkred\" stroke-linejoin=\"miter\" fill=\"none\" />\n",
       "<path d=\"M675,225.0 L690,225.0\" stroke-width=\"3\" stroke=\"darkred\" stroke-linejoin=\"miter\" fill=\"none\" />\n",
       "<path d=\"M675,275.0 L690,275.0\" stroke-width=\"3\" stroke=\"darkred\" stroke-linejoin=\"miter\" fill=\"none\" />\n",
       "<path d=\"M675,325.0 L690,325.0\" stroke-width=\"3\" stroke=\"darkred\" stroke-linejoin=\"miter\" fill=\"none\" />\n",
       "<path d=\"M675,375.0 L690,375.0\" stroke-width=\"3\" stroke=\"darkred\" stroke-linejoin=\"miter\" fill=\"none\" />\n",
       "<path d=\"M675,425.0 L690,425.0\" stroke-width=\"3\" stroke=\"darkred\" stroke-linejoin=\"miter\" fill=\"none\" />\n",
       "<path d=\"M675,475.0 L690,475.0\" stroke-width=\"3\" stroke=\"darkred\" stroke-linejoin=\"miter\" fill=\"none\" />\n",
       "<text x=\"700\" y=\"28.0\" font-size=\"10\" text-anchor=\"end\">0</text>\n",
       "<text x=\"700\" y=\"78.0\" font-size=\"10\" text-anchor=\"end\">1</text>\n",
       "<text x=\"700\" y=\"128.0\" font-size=\"10\" text-anchor=\"end\">2</text>\n",
       "<text x=\"700\" y=\"178.0\" font-size=\"10\" text-anchor=\"end\">3</text>\n",
       "<text x=\"700\" y=\"228.0\" font-size=\"10\" text-anchor=\"end\">4</text>\n",
       "<text x=\"700\" y=\"278.0\" font-size=\"10\" text-anchor=\"end\">5</text>\n",
       "<text x=\"700\" y=\"328.0\" font-size=\"10\" text-anchor=\"end\">6</text>\n",
       "<text x=\"700\" y=\"378.0\" font-size=\"10\" text-anchor=\"end\">7</text>\n",
       "<text x=\"700\" y=\"428.0\" font-size=\"10\" text-anchor=\"end\">8</text>\n",
       "<text x=\"700\" y=\"478.0\" font-size=\"10\" text-anchor=\"end\">9</text>\n",
       "<text x=\"0\" y=\"28.0\" font-size=\"10\" text-anchor=\"start\">0</text>\n",
       "<text x=\"0\" y=\"78.0\" font-size=\"10\" text-anchor=\"start\">1</text>\n",
       "<text x=\"0\" y=\"128.0\" font-size=\"10\" text-anchor=\"start\">2</text>\n",
       "<text x=\"0\" y=\"178.0\" font-size=\"10\" text-anchor=\"start\">3</text>\n",
       "<text x=\"0\" y=\"228.0\" font-size=\"10\" text-anchor=\"start\">4</text>\n",
       "<text x=\"0\" y=\"278.0\" font-size=\"10\" text-anchor=\"start\">5</text>\n",
       "<text x=\"0\" y=\"328.0\" font-size=\"10\" text-anchor=\"start\">6</text>\n",
       "<text x=\"0\" y=\"378.0\" font-size=\"10\" text-anchor=\"start\">7</text>\n",
       "<text x=\"0\" y=\"428.0\" font-size=\"10\" text-anchor=\"start\">8</text>\n",
       "<text x=\"0\" y=\"478.0\" font-size=\"10\" text-anchor=\"start\">9</text>\n",
       "</svg>"
      ],
      "text/plain": [
       "<drawsvg.drawing.Drawing at 0x2226021e110>"
      ]
     },
     "execution_count": 3,
     "metadata": {},
     "output_type": "execute_result"
    }
   ],
   "source": [
    "# Creation of the full circuit\n",
    "cz = pcvl.catalog[\"postprocessed cz\"].build_circuit()\n",
    "\n",
    "c_graph_lin = pcvl.Circuit(10, name=\"C_Graph\")\\\n",
    "    .add((1, 2), pcvl.BS()).add(1, pcvl.PS(math.pi/2))\\\n",
    "    .add((3, 4), pcvl.BS()).add(3, pcvl.PS(math.pi/2))\\\n",
    "    .add((7, 8), pcvl.BS()).add(7, pcvl.PS(math.pi/2))\\\n",
    "    .add(0, cz, merge=False)\\\n",
    "    .add((3,4,5,6), pcvl.PERM([2, 3, 0, 1]))\\\n",
    "    .add(4, cz, merge=False)\\\n",
    "    .add(8, pcvl.PS(math.pi/2)).add(7, pcvl.PS(math.pi/2))\\\n",
    "    .add((3,4,5,6), pcvl.PERM([2, 3, 0, 1]))\n",
    "\n",
    "pcvl.pdisplay(c_graph_lin, recursive=True, render_size=0.6)"
   ]
  },
  {
   "attachments": {},
   "cell_type": "markdown",
   "id": "e5ea1345",
   "metadata": {},
   "source": [
    "#### Logical states"
   ]
  },
  {
   "attachments": {},
   "cell_type": "markdown",
   "id": "4c9781d0",
   "metadata": {},
   "source": [
    "Logical states are path encoded on the Fock States.\n",
    "\n",
    "Due to post-selection, only few states of the full Fock space are relevant.\n",
    "\n",
    "- Mode 0,5,6,9 are auxiliary.\n",
    "- 1st qubit is path encoded in modes 1 & 2\n",
    "- 2nd qubit in 3 & 4\n",
    "- 3rd qubit in 7 & 8"
   ]
  },
  {
   "cell_type": "code",
   "execution_count": 4,
   "id": "68a7ae69",
   "metadata": {},
   "outputs": [],
   "source": [
    "# Basis for three qubits\n",
    "states = [\n",
    "    pcvl.BasicState([0,1,0,1,0,0,0,1,0,0]),  #|000>\n",
    "    pcvl.BasicState([0,1,0,1,0,0,0,0,1,0]),  #|001>\n",
    "    pcvl.BasicState([0,1,0,0,1,0,0,1,0,0]),  #|010>\n",
    "    pcvl.BasicState([0,1,0,0,1,0,0,0,1,0]),  #|011>\n",
    "    pcvl.BasicState([0,0,1,1,0,0,0,1,0,0]),  #|100>\n",
    "    pcvl.BasicState([0,0,1,1,0,0,0,0,1,0]),  #|101>\n",
    "    pcvl.BasicState([0,0,1,0,1,0,0,1,0,0]),  #|110>\n",
    "    pcvl.BasicState([0,0,1,0,1,0,0,0,1,0])   #|111>\n",
    "]"
   ]
  },
  {
   "attachments": {},
   "cell_type": "markdown",
   "id": "10dc4d3e",
   "metadata": {},
   "source": [
    "### Computation of the output state"
   ]
  },
  {
   "attachments": {},
   "cell_type": "markdown",
   "id": "06fba24d",
   "metadata": {},
   "source": [
    "We will then simulate this circuit using the `SLOS` backend and compute the amplitudes for the output state."
   ]
  },
  {
   "cell_type": "code",
   "execution_count": 5,
   "id": "96ffbb6e",
   "metadata": {},
   "outputs": [],
   "source": [
    "# Simulator\n",
    "backend = pcvl.BackendFactory.get_backend(\"SLOS\")\n",
    "backend.set_circuit(c_graph_lin)"
   ]
  },
  {
   "attachments": {},
   "cell_type": "markdown",
   "id": "edbb6115",
   "metadata": {},
   "source": [
    "We use the state $|000\\rangle$ as input state."
   ]
  },
  {
   "cell_type": "code",
   "execution_count": 6,
   "id": "21e83796",
   "metadata": {},
   "outputs": [
    {
     "name": "stdout",
     "output_type": "stream",
     "text": [
      "The output state is : 0.02*|0,1,0,0,1,0,0,1,0,0>-0.118*|0,1,0,1,0,0,0,1,0,0>+0.118*|0,1,0,1,0,0,0,0,1,0>-0.02*|0,1,0,0,1,0,0,0,1,0>-0.687*|0,0,1,1,0,0,0,1,0,0>-0.118*|0,0,1,0,1,0,0,0,1,0>+0.687*|0,0,1,1,0,0,0,0,1,0>+0.118*|0,0,1,0,1,0,0,1,0,0>\n"
     ]
    }
   ],
   "source": [
    "# Input state\n",
    "input_state = pcvl.BasicState([0, 1, 0, 1, 0, 0, 0, 1, 0, 0])\n",
    "backend.set_input_state(input_state)\n",
    "\n",
    "# Output state\n",
    "output_state = pcvl.StateVector()\n",
    "for state in states:\n",
    "    ampli = backend.prob_amplitude(state)\n",
    "    output_state += ampli*pcvl.StateVector(state)\n",
    "\n",
    "print(\"The output state is :\", output_state)"
   ]
  },
  {
   "attachments": {},
   "cell_type": "markdown",
   "id": "4861c742",
   "metadata": {},
   "source": [
    "As wanted, we obtain the linear graph states for three qubits which is : $\\frac{1}{\\sqrt 8} (|000\\rangle + |001\\rangle + |010\\rangle - |011\\rangle + |100\\rangle + |101\\rangle - |110\\rangle + |111\\rangle )$.\n",
    "\n",
    "This state is also locally equivalent to a $GHZ$ state and we can therefore obtain it by performing local unitary single qubit transformations. To visualize this state using `plot_state_qsphere` from *Qiskit* [[2]](#References) or `plot_schmidt` from *qutip* [[3]](#References), follow the `StatevectorConverter` example from *perceval-interop* [[4]](#References)."
   ]
  },
  {
   "attachments": {},
   "cell_type": "markdown",
   "id": "d79d56af",
   "metadata": {},
   "source": [
    "## III. Generate a state from a graph"
   ]
  },
  {
   "attachments": {},
   "cell_type": "markdown",
   "id": "880a6f36",
   "metadata": {},
   "source": [
    "We also developed a tool which takes as input a graph from networkx and provides the associated graph state."
   ]
  },
  {
   "cell_type": "code",
   "execution_count": 7,
   "id": "ce985ada",
   "metadata": {},
   "outputs": [
    {
     "data": {
      "image/png": "[encoded data removed]",
      "text/plain": [
       "<Figure size 640x480 with 1 Axes>"
      ]
     },
     "metadata": {},
     "output_type": "display_data"
    }
   ],
   "source": [
    "# Create the graph with networkx\n",
    "G = nx.Graph()\n",
    "G.add_nodes_from([2,1,0,3])\n",
    "\n",
    "G.add_edge(0,1)\n",
    "G.add_edge(1,2)\n",
    "G.add_edge(2,0)\n",
    "G.add_edge(2,3)\n",
    "\n",
    "nx.draw_networkx(G, with_labels=True)"
   ]
  },
  {
   "attachments": {},
   "cell_type": "markdown",
   "id": "7a0fcf0e",
   "metadata": {},
   "source": [
    "We choose the encoding type we want."
   ]
  },
  {
   "cell_type": "code",
   "execution_count": 8,
   "id": "53c0bf45",
   "metadata": {},
   "outputs": [],
   "source": [
    "# Set the generator with the dual rail encoding\n",
    "generator = StateGenerator(Encoding.DUAL_RAIL)"
   ]
  },
  {
   "attachments": {},
   "cell_type": "markdown",
   "id": "9b9148b8",
   "metadata": {},
   "source": [
    "Then we use the generator to create the graph state:"
   ]
  },
  {
   "cell_type": "code",
   "execution_count": 9,
   "id": "6cc34dd9",
   "metadata": {},
   "outputs": [
    {
     "name": "stdout",
     "output_type": "stream",
     "text": [
      "0.25*|0,1,1,0,1,0,1,0>+0.25*|1,0,1,0,1,0,1,0>+0.25*|1,0,1,0,0,1,1,0>-0.25*|0,1,0,1,1,0,1,0>+0.25*|1,0,0,1,1,0,1,0>-0.25*|0,1,1,0,0,1,1,0>-0.25*|0,1,0,1,0,1,1,0>+0.25*|0,1,1,0,1,0,0,1>-0.25*|1,0,0,1,0,1,1,0>+0.25*|1,0,1,0,1,0,0,1>-0.25*|0,1,0,1,1,0,0,1>+0.25*|1,0,0,1,1,0,0,1>+0.25*|0,1,1,0,0,1,0,1>+0.25*|1,0,0,1,0,1,0,1>-0.25*|1,0,1,0,0,1,0,1>+0.25*|0,1,0,1,0,1,0,1>\n"
     ]
    }
   ],
   "source": [
    "graph_state = generator.graph_state(G)\n",
    "print(graph_state)"
   ]
  },
  {
   "cell_type": "markdown",
   "id": "73f10fa51cd8de2d",
   "metadata": {},
   "source": [
    "You can use the generated state as an input state in any noiseless simulation"
   ]
  },
  {
   "cell_type": "code",
   "execution_count": 10,
   "id": "2872df70be78a416",
   "metadata": {},
   "outputs": [
    {
     "data": {
      "text/html": [
       "<table>\n",
       "<thead>\n",
       "<tr><th>state            </th><th style=\"text-align: right;\">  probability</th></tr>\n",
       "</thead>\n",
       "<tbody>\n",
       "<tr><td>|0,2,0,0,0,0,0,2&gt;</td><td style=\"text-align: right;\">     0.018826</td></tr>\n",
       "<tr><td>|0,0,0,2,0,0,2,0&gt;</td><td style=\"text-align: right;\">     0.015113</td></tr>\n",
       "<tr><td>|1,2,0,0,0,0,1,0&gt;</td><td style=\"text-align: right;\">     0.013662</td></tr>\n",
       "<tr><td>|1,0,1,0,0,1,1,0&gt;</td><td style=\"text-align: right;\">     0.013323</td></tr>\n",
       "<tr><td>|1,2,1,0,0,0,0,0&gt;</td><td style=\"text-align: right;\">     0.013002</td></tr>\n",
       "<tr><td>|1,0,1,0,1,0,0,1&gt;</td><td style=\"text-align: right;\">     0.011407</td></tr>\n",
       "<tr><td>|0,0,0,1,0,0,1,2&gt;</td><td style=\"text-align: right;\">     0.011021</td></tr>\n",
       "<tr><td>|2,0,0,0,0,2,0,0&gt;</td><td style=\"text-align: right;\">     0.010885</td></tr>\n",
       "<tr><td>|1,0,0,1,0,0,2,0&gt;</td><td style=\"text-align: right;\">     0.010856</td></tr>\n",
       "<tr><td>|0,0,2,0,2,0,0,0&gt;</td><td style=\"text-align: right;\">     0.010616</td></tr>\n",
       "</tbody>\n",
       "</table>"
      ],
      "text/plain": [
       "<IPython.core.display.HTML object>"
      ]
     },
     "metadata": {},
     "output_type": "display_data"
    }
   ],
   "source": [
    "p = pcvl.Processor(\"SLOS\", pcvl.Unitary(pcvl.Matrix.random_unitary(8)))  # Use a 8x8 random unitary matrix as a circuit\n",
    "p.min_detected_photons_filter(4)\n",
    "p.with_input(graph_state)\n",
    "sampler = pcvl.algorithm.Sampler(p)\n",
    "pcvl.pdisplay(sampler.probs()['results'], max_v=10)"
   ]
  },
  {
   "attachments": {},
   "cell_type": "markdown",
   "id": "96b76153",
   "metadata": {},
   "source": [
    "## References"
   ]
  },
  {
   "attachments": {},
   "cell_type": "markdown",
   "id": "44ca8b6a",
   "metadata": {},
   "source": [
    "<a id=\"1\">[1]</a>\n",
    "Marc Hein et al. “Entanglement in graph states and its applications”. In: *arXiv preprint\n",
    "quant-ph/0602096* (2006). https://arxiv.org/abs/quant-ph/0602096\n",
    "\n",
    "<a id=\"2\">[2]</a>\n",
    "https://qiskit.org/documentation/stubs/qiskit.visualization.plot_state_qsphere.html\n",
    "\n",
    "<a id=\"3\">[3]</a>\n",
    "https://nbviewer.org/urls/qutip.org/qutip-tutorials/tutorials-v4/visualization/qubism-and-schmidt-plots.ipynb\n",
    "\n",
    "\n",
    "<a id=\"4\">[4]</a>\n",
    "https://perceval.quandela.net/interopdocs/\n",
    "\n"
   ]
  }
 ],
 "metadata": {
  "language_info": {
   "name": "python"
  }
 },
 "nbformat": 4,
 "nbformat_minor": 5
}
