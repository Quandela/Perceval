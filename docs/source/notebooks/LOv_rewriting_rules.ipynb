{
 "cells": [
  {
   "cell_type": "markdown",
   "id": "dd3d8d19",
   "metadata": {},
   "source": [
    "# LOv rewriting rules\n",
    "\n",
    "The aim of this notebook is to rewrite a circuit using rewriting rules based on the article: *LOv-Calculus: A Graphical Language for Linear Optical Quantum Circuits*.\n",
    "\n",
    "We show how to use these rewriting rules to generate unique triangular normal forms."
   ]
  },
  {
   "cell_type": "code",
   "execution_count": 1,
   "id": "96bdb88a",
   "metadata": {},
   "outputs": [],
   "source": [
    "import perceval as pcvl\n",
    "from perceval.utils.algorithms.optimize import optimize\n",
    "from perceval.utils.algorithms.norm import frobenius\n",
    "import random\n",
    "\n",
    "from perceval.rendering import DisplayConfig, SymbSkin\n",
    "DisplayConfig.select_skin(SymbSkin)"
   ]
  },
  {
   "cell_type": "markdown",
   "id": "ba837e96",
   "metadata": {},
   "source": [
    "This is the first rewrite rule used in this noteobok. It is the rule 37 in the article."
   ]
  },
  {
   "cell_type": "markdown",
   "id": "09923a89",
   "metadata": {},
   "source": [
    "![rewrite37](../_static/img/rewrite37.png)"
   ]
  },
  {
   "cell_type": "code",
   "execution_count": 2,
   "id": "ede320ce",
   "metadata": {},
   "outputs": [
    {
     "data": {
      "image/svg+xml": [
       "<?xml version=\"1.0\" encoding=\"UTF-8\"?>\n",
       "<svg xmlns=\"http://www.w3.org/2000/svg\" xmlns:xlink=\"http://www.w3.org/1999/xlink\"\n",
       "     width=\"632.5\" height=\"218.75\" viewBox=\"-28.0 0 506.0 175.0\">\n",
       "<defs>\n",
       "</defs>\n",
       "<path d=\"M10,25.0 L25,25.0\" stroke-width=\"1\" stroke=\"black\" stroke-linejoin=\"miter\" fill=\"none\" />\n",
       "<path d=\"M10,75.0 L25,75.0\" stroke-width=\"1\" stroke=\"black\" stroke-linejoin=\"miter\" fill=\"none\" />\n",
       "<path d=\"M10,125.0 L25,125.0\" stroke-width=\"1\" stroke=\"black\" stroke-linejoin=\"miter\" fill=\"none\" />\n",
       "<path d=\"M27,2 L423,2 L423,148 L27,148 Z\" stroke=\"black\" fill=\"lightgreen\" stroke-dasharray=\"1,2\" stroke-linejoin=\"miter\" />\n",
       "<text x=\"29\" y=\"155\" font-size=\"8\" text-anchor=\"start\">PATTERN1</text>\n",
       "<path d=\"M25,25 L45,25 M55,25 L75,25\" stroke-width=\"1\" stroke=\"black\" stroke-linejoin=\"miter\" fill=\"none\" />\n",
       "<path d=\"M40,15 L60,15 L60,35 L40,35 Z\" stroke=\"black\" fill=\"lightgray\" stroke-linejoin=\"miter\" />\n",
       "<text x=\"50\" y=\"44\" font-size=\"7\" text-anchor=\"middle\">Φ=phi0</text>\n",
       "<path d=\"M25,75.0 L75,75.0\" stroke=\"black\" stroke-width=\"1\" fill=\"none\" />\n",
       "<path d=\"M87.9442,25 C101.65379999999999,25,101.5924,50,115.3042,50 M115.306,50 C101.5944,50,101.656,75,87.946,75 M115.306,50 L137.1906,50 M137.1906,50 C150.9022,50,150.8406,25,164.55059999999997,25 M137.19079999999997,50 C150.90239999999997,50,150.84079999999997,75,164.55079999999998,75 M75.00259999999999,25 L88.00259999999999,25 M88.00439999999999,75 L75.00259999999999,75 M162.64799999999997,75 L175.00259999999997,75 M162.19699999999997,25 L175.00259999999997,25\" stroke-width=\"1\" stroke=\"black\" stroke-linejoin=\"miter\" fill=\"none\" />\n",
       "<text x=\"125\" y=\"38\" font-size=\"7\" text-anchor=\"middle\">Θ=theta1</text>\n",
       "<path d=\"M147,53 L157,53 L157,63 L147,63 Z\" stroke=\"black\" fill=\"thistle\" stroke-linejoin=\"miter\" />\n",
       "<text x=\"152\" y=\"60\" font-size=\"6\" text-anchor=\"middle\">Rx</text>\n",
       "<path d=\"M175,25 L195,25 M205,25 L225,25\" stroke-width=\"1\" stroke=\"black\" stroke-linejoin=\"miter\" fill=\"none\" />\n",
       "<path d=\"M190,15 L210,15 L210,35 L190,35 Z\" stroke=\"black\" fill=\"lightgray\" stroke-linejoin=\"miter\" />\n",
       "<text x=\"200\" y=\"44\" font-size=\"7\" text-anchor=\"middle\">Φ=phi2</text>\n",
       "<path d=\"M175,75 L195,75 M205,75 L225,75\" stroke-width=\"1\" stroke=\"black\" stroke-linejoin=\"miter\" fill=\"none\" />\n",
       "<path d=\"M190,65 L210,65 L210,85 L190,85 Z\" stroke=\"black\" fill=\"lightgray\" stroke-linejoin=\"miter\" />\n",
       "<text x=\"200\" y=\"94\" font-size=\"7\" text-anchor=\"middle\">Φ=phi1</text>\n",
       "<path d=\"M25,125.0 L225,125.0\" stroke=\"black\" stroke-width=\"1\" fill=\"none\" />\n",
       "<path d=\"M237.9442,75 C251.6538,75,251.5924,100,265.3042,100 M265.306,100 C251.59439999999998,100,251.65599999999998,125,237.94599999999997,125 M265.306,100 L287.19059999999996,100 M287.19059999999996,100 C300.9022,100,300.8406,75,314.5506,75 M287.19079999999997,100 C300.90239999999994,100,300.84079999999994,125,314.5508,125 M225.00259999999997,75 L238.00259999999997,75 M238.00439999999998,125 L225.00259999999997,125 M312.64799999999997,125 L325.0026,125 M312.197,75 L325.00260000000003,75\" stroke-width=\"1\" stroke=\"black\" stroke-linejoin=\"miter\" fill=\"none\" />\n",
       "<text x=\"275\" y=\"88\" font-size=\"7\" text-anchor=\"middle\">Θ=theta2</text>\n",
       "<path d=\"M297,103 L307,103 L307,113 L297,113 Z\" stroke=\"black\" fill=\"thistle\" stroke-linejoin=\"miter\" />\n",
       "<text x=\"302\" y=\"110\" font-size=\"6\" text-anchor=\"middle\">Rx</text>\n",
       "<path d=\"M225,25.0 L325,25.0\" stroke=\"black\" stroke-width=\"1\" fill=\"none\" />\n",
       "<path d=\"M337.9442,25 C351.65380000000005,25,351.5924,50,365.30420000000004,50 M365.30600000000004,50 C351.59440000000006,50,351.65600000000006,75,337.946,75 M365.30600000000004,50 L387.1906,50 M387.1906,50 C400.9022,50,400.8406,25,414.55060000000003,25 M387.1908,50 C400.90240000000006,50,400.84080000000006,75,414.55080000000004,75 M325.00260000000003,25 L338.00260000000003,25 M338.00440000000003,75 L325.00260000000003,75 M412.648,75 L425.00260000000003,75 M412.197,25 L425.00260000000003,25\" stroke-width=\"1\" stroke=\"black\" stroke-linejoin=\"miter\" fill=\"none\" />\n",
       "<text x=\"375\" y=\"38\" font-size=\"7\" text-anchor=\"middle\">Θ=theta3</text>\n",
       "<path d=\"M397,53 L407,53 L407,63 L397,63 Z\" stroke=\"black\" fill=\"thistle\" stroke-linejoin=\"miter\" />\n",
       "<text x=\"402\" y=\"60\" font-size=\"6\" text-anchor=\"middle\">Rx</text>\n",
       "<path d=\"M325,125.0 L425,125.0\" stroke=\"black\" stroke-width=\"1\" fill=\"none\" />\n",
       "<path d=\"M425,25.0 L440,25.0\" stroke-width=\"1\" stroke=\"black\" stroke-linejoin=\"miter\" fill=\"none\" />\n",
       "<path d=\"M425,75.0 L440,75.0\" stroke-width=\"1\" stroke=\"black\" stroke-linejoin=\"miter\" fill=\"none\" />\n",
       "<path d=\"M425,125.0 L440,125.0\" stroke-width=\"1\" stroke=\"black\" stroke-linejoin=\"miter\" fill=\"none\" />\n",
       "<text x=\"450\" y=\"28.0\" font-size=\"6\" text-anchor=\"end\">0</text>\n",
       "<text x=\"450\" y=\"78.0\" font-size=\"6\" text-anchor=\"end\">1</text>\n",
       "<text x=\"450\" y=\"128.0\" font-size=\"6\" text-anchor=\"end\">2</text>\n",
       "<text x=\"0\" y=\"28.0\" font-size=\"6\" text-anchor=\"start\">0</text>\n",
       "<text x=\"0\" y=\"78.0\" font-size=\"6\" text-anchor=\"start\">1</text>\n",
       "<text x=\"0\" y=\"128.0\" font-size=\"6\" text-anchor=\"start\">2</text>\n",
       "</svg>"
      ],
      "text/plain": [
       "<drawsvg.drawing.Drawing at 0x13232bca0d0>"
      ]
     },
     "execution_count": 2,
     "metadata": {},
     "output_type": "execute_result"
    }
   ],
   "source": [
    "pattern1=pcvl.Circuit(3, name=\"pattern1\")//(0,pcvl.PS(pcvl.P(\"phi0\")))//(0,pcvl.BS(theta=pcvl.P(\"theta1\")))//(0,pcvl.PS(pcvl.P(\"phi2\")))//(1,pcvl.PS(pcvl.P(\"phi1\")))//(1,pcvl.BS(theta=pcvl.P(\"theta2\")))//(0,pcvl.BS(theta=pcvl.P(\"theta3\")))\n",
    "pattern1._color = \"lightgreen\"\n",
    "pcvl.pdisplay(pcvl.Circuit(3).add(0,pattern1,False), recursive=True)"
   ]
  },
  {
   "cell_type": "code",
   "execution_count": 3,
   "id": "1e1ee73a",
   "metadata": {},
   "outputs": [
    {
     "data": {
      "image/svg+xml": [
       "<?xml version=\"1.0\" encoding=\"UTF-8\"?>\n",
       "<svg xmlns=\"http://www.w3.org/2000/svg\" xmlns:xlink=\"http://www.w3.org/1999/xlink\"\n",
       "     width=\"695.0\" height=\"218.75\" viewBox=\"-28.0 0 556.0 175.0\">\n",
       "<defs>\n",
       "</defs>\n",
       "<path d=\"M10,25.0 L25,25.0\" stroke-width=\"1\" stroke=\"black\" stroke-linejoin=\"miter\" fill=\"none\" />\n",
       "<path d=\"M10,75.0 L25,75.0\" stroke-width=\"1\" stroke=\"black\" stroke-linejoin=\"miter\" fill=\"none\" />\n",
       "<path d=\"M10,125.0 L25,125.0\" stroke-width=\"1\" stroke=\"black\" stroke-linejoin=\"miter\" fill=\"none\" />\n",
       "<path d=\"M27,2 L473,2 L473,148 L27,148 Z\" stroke=\"black\" fill=\"lightgreen\" stroke-dasharray=\"1,2\" stroke-linejoin=\"miter\" />\n",
       "<text x=\"29\" y=\"155\" font-size=\"8\" text-anchor=\"start\">REWRITE</text>\n",
       "<path d=\"M25,25 L45,25 M55,25 L75,25\" stroke-width=\"1\" stroke=\"black\" stroke-linejoin=\"miter\" fill=\"none\" />\n",
       "<path d=\"M40,15 L60,15 L60,35 L40,35 Z\" stroke=\"black\" fill=\"lightgray\" stroke-linejoin=\"miter\" />\n",
       "<text x=\"50\" y=\"44\" font-size=\"7\" text-anchor=\"middle\">Φ=beta2</text>\n",
       "<path d=\"M25,75 L45,75 M55,75 L75,75\" stroke-width=\"1\" stroke=\"black\" stroke-linejoin=\"miter\" fill=\"none\" />\n",
       "<path d=\"M40,65 L60,65 L60,85 L40,85 Z\" stroke=\"black\" fill=\"lightgray\" stroke-linejoin=\"miter\" />\n",
       "<text x=\"50\" y=\"94\" font-size=\"7\" text-anchor=\"middle\">Φ=beta1</text>\n",
       "<path d=\"M25,125.0 L75,125.0\" stroke=\"black\" stroke-width=\"1\" fill=\"none\" />\n",
       "<path d=\"M87.9442,75 C101.65379999999999,75,101.5924,100,115.3042,100 M115.306,100 C101.5944,100,101.656,125,87.946,125 M115.306,100 L137.1906,100 M137.1906,100 C150.9022,100,150.8406,75,164.55059999999997,75 M137.19079999999997,100 C150.90239999999997,100,150.84079999999997,125,164.55079999999998,125 M75.00259999999999,75 L88.00259999999999,75 M88.00439999999999,125 L75.00259999999999,125 M162.64799999999997,125 L175.00259999999997,125 M162.19699999999997,75 L175.00259999999997,75\" stroke-width=\"1\" stroke=\"black\" stroke-linejoin=\"miter\" fill=\"none\" />\n",
       "<text x=\"125\" y=\"88\" font-size=\"7\" text-anchor=\"middle\">Θ=alpha1</text>\n",
       "<path d=\"M147,103 L157,103 L157,113 L147,113 Z\" stroke=\"black\" fill=\"thistle\" stroke-linejoin=\"miter\" />\n",
       "<text x=\"152\" y=\"110\" font-size=\"6\" text-anchor=\"middle\">Rx</text>\n",
       "<path d=\"M75,25.0 L175,25.0\" stroke=\"black\" stroke-width=\"1\" fill=\"none\" />\n",
       "<path d=\"M187.9442,25 C201.6538,25,201.5924,50,215.30419999999998,50 M215.30599999999998,50 C201.59439999999998,50,201.65599999999998,75,187.94599999999997,75 M215.30599999999998,50 L237.1906,50 M237.1906,50 C250.9022,50,250.8406,25,264.5506,25 M237.19079999999997,50 C250.90239999999997,50,250.84079999999997,75,264.5508,75 M175.00259999999997,25 L188.00259999999997,25 M188.00439999999998,75 L175.00259999999997,75 M262.64799999999997,75 L275.0026,75 M262.197,25 L275.00260000000003,25\" stroke-width=\"1\" stroke=\"black\" stroke-linejoin=\"miter\" fill=\"none\" />\n",
       "<text x=\"225\" y=\"38\" font-size=\"7\" text-anchor=\"middle\">Θ=alpha2</text>\n",
       "<path d=\"M247,53 L257,53 L257,63 L247,63 Z\" stroke=\"black\" fill=\"thistle\" stroke-linejoin=\"miter\" />\n",
       "<text x=\"252\" y=\"60\" font-size=\"6\" text-anchor=\"middle\">Rx</text>\n",
       "<path d=\"M275,75 L295,75 M305,75 L325,75\" stroke-width=\"1\" stroke=\"black\" stroke-linejoin=\"miter\" fill=\"none\" />\n",
       "<path d=\"M290,65 L310,65 L310,85 L290,85 Z\" stroke=\"black\" fill=\"lightgray\" stroke-linejoin=\"miter\" />\n",
       "<text x=\"300\" y=\"94\" font-size=\"7\" text-anchor=\"middle\">Φ=beta3</text>\n",
       "<path d=\"M175,125.0 L325,125.0\" stroke=\"black\" stroke-width=\"1\" fill=\"none\" />\n",
       "<path d=\"M337.9442,75 C351.65380000000005,75,351.5924,100,365.30420000000004,100 M365.30600000000004,100 C351.59440000000006,100,351.65600000000006,125,337.946,125 M365.30600000000004,100 L387.1906,100 M387.1906,100 C400.9022,100,400.8406,75,414.55060000000003,75 M387.1908,100 C400.90240000000006,100,400.84080000000006,125,414.55080000000004,125 M325.00260000000003,75 L338.00260000000003,75 M338.00440000000003,125 L325.00260000000003,125 M412.648,125 L425.00260000000003,125 M412.197,75 L425.00260000000003,75\" stroke-width=\"1\" stroke=\"black\" stroke-linejoin=\"miter\" fill=\"none\" />\n",
       "<text x=\"375\" y=\"88\" font-size=\"7\" text-anchor=\"middle\">Θ=alpha3</text>\n",
       "<path d=\"M397,103 L407,103 L407,113 L397,113 Z\" stroke=\"black\" fill=\"thistle\" stroke-linejoin=\"miter\" />\n",
       "<text x=\"402\" y=\"110\" font-size=\"6\" text-anchor=\"middle\">Rx</text>\n",
       "<path d=\"M275,25 L295,25 M305,25 L325,25\" stroke-width=\"1\" stroke=\"black\" stroke-linejoin=\"miter\" fill=\"none\" />\n",
       "<path d=\"M290,15 L310,15 L310,35 L290,35 Z\" stroke=\"black\" fill=\"lightgray\" stroke-linejoin=\"miter\" />\n",
       "<text x=\"300\" y=\"44\" font-size=\"7\" text-anchor=\"middle\">Φ=beta4</text>\n",
       "<path d=\"M425,75 L445,75 M455,75 L475,75\" stroke-width=\"1\" stroke=\"black\" stroke-linejoin=\"miter\" fill=\"none\" />\n",
       "<path d=\"M440,65 L460,65 L460,85 L440,85 Z\" stroke=\"black\" fill=\"lightgray\" stroke-linejoin=\"miter\" />\n",
       "<text x=\"450\" y=\"94\" font-size=\"7\" text-anchor=\"middle\">Φ=beta5</text>\n",
       "<path d=\"M425,125 L445,125 M455,125 L475,125\" stroke-width=\"1\" stroke=\"black\" stroke-linejoin=\"miter\" fill=\"none\" />\n",
       "<path d=\"M440,115 L460,115 L460,135 L440,135 Z\" stroke=\"black\" fill=\"lightgray\" stroke-linejoin=\"miter\" />\n",
       "<text x=\"450\" y=\"144\" font-size=\"7\" text-anchor=\"middle\">Φ=beta6</text>\n",
       "<path d=\"M325,25.0 L475,25.0\" stroke=\"black\" stroke-width=\"1\" fill=\"none\" />\n",
       "<path d=\"M475,25.0 L490,25.0\" stroke-width=\"1\" stroke=\"black\" stroke-linejoin=\"miter\" fill=\"none\" />\n",
       "<path d=\"M475,75.0 L490,75.0\" stroke-width=\"1\" stroke=\"black\" stroke-linejoin=\"miter\" fill=\"none\" />\n",
       "<path d=\"M475,125.0 L490,125.0\" stroke-width=\"1\" stroke=\"black\" stroke-linejoin=\"miter\" fill=\"none\" />\n",
       "<text x=\"500\" y=\"28.0\" font-size=\"6\" text-anchor=\"end\">0</text>\n",
       "<text x=\"500\" y=\"78.0\" font-size=\"6\" text-anchor=\"end\">1</text>\n",
       "<text x=\"500\" y=\"128.0\" font-size=\"6\" text-anchor=\"end\">2</text>\n",
       "<text x=\"0\" y=\"28.0\" font-size=\"6\" text-anchor=\"start\">0</text>\n",
       "<text x=\"0\" y=\"78.0\" font-size=\"6\" text-anchor=\"start\">1</text>\n",
       "<text x=\"0\" y=\"128.0\" font-size=\"6\" text-anchor=\"start\">2</text>\n",
       "</svg>"
      ],
      "text/plain": [
       "<drawsvg.drawing.Drawing at 0x13232dba590>"
      ]
     },
     "execution_count": 3,
     "metadata": {},
     "output_type": "execute_result"
    }
   ],
   "source": [
    "rewrite1=pcvl.Circuit(3, name=\"rewrite\")//(0,pcvl.PS(pcvl.P(\"beta2\")))//(1,pcvl.PS(pcvl.P(\"beta1\")))//(1,pcvl.BS(theta=pcvl.P(\"alpha1\")))//(0,pcvl.BS(theta=pcvl.P(\"alpha2\")))//(1,pcvl.PS(pcvl.P(\"beta3\")))//(1,pcvl.BS(theta=pcvl.P(\"alpha3\")))//(0,pcvl.PS(pcvl.P(\"beta4\")))//(1,pcvl.PS(pcvl.P(\"beta5\")))//(2,pcvl.PS(pcvl.P(\"beta6\")))\n",
    "rewrite1._color = \"lightgreen\"\n",
    "pcvl.pdisplay(pcvl.Circuit(3).add(0,rewrite1,False), recursive=True)"
   ]
  },
  {
   "cell_type": "markdown",
   "id": "d4197839",
   "metadata": {},
   "source": [
    "Let us implement now the rule number 1."
   ]
  },
  {
   "cell_type": "markdown",
   "id": "171cff3a",
   "metadata": {},
   "source": [
    "![rewrite1](../_static/img/rewrite1.png)"
   ]
  },
  {
   "cell_type": "code",
   "execution_count": 4,
   "id": "5468fdb9",
   "metadata": {},
   "outputs": [],
   "source": [
    "pattern2=pcvl.Circuit(1, name=\"pattern2\")//pcvl.PS(pcvl.P(\"phi1\"))//pcvl.PS(pcvl.P(\"phi2\"))\n",
    "rewrite2=pcvl.Circuit(1, name=\"rewrite2\")//pcvl.PS(pcvl.P(\"phi\"))"
   ]
  },
  {
   "cell_type": "code",
   "execution_count": 5,
   "id": "e428775f",
   "metadata": {},
   "outputs": [
    {
     "data": {
      "image/svg+xml": [
       "<?xml version=\"1.0\" encoding=\"UTF-8\"?>\n",
       "<svg xmlns=\"http://www.w3.org/2000/svg\" xmlns:xlink=\"http://www.w3.org/1999/xlink\"\n",
       "     width=\"257.5\" height=\"93.75\" viewBox=\"-28.0 0 206.0 75.0\">\n",
       "<defs>\n",
       "</defs>\n",
       "<path d=\"M10,25.0 L25,25.0\" stroke-width=\"1\" stroke=\"black\" stroke-linejoin=\"miter\" fill=\"none\" />\n",
       "<path d=\"M27,2 L123,2 L123,48 L27,48 Z\" stroke=\"black\" fill=\"lightblue\" stroke-dasharray=\"1,2\" stroke-linejoin=\"miter\" />\n",
       "<text x=\"29\" y=\"55\" font-size=\"8\" text-anchor=\"start\">PATTERN2</text>\n",
       "<path d=\"M25,25 L45,25 M55,25 L75,25\" stroke-width=\"1\" stroke=\"black\" stroke-linejoin=\"miter\" fill=\"none\" />\n",
       "<path d=\"M40,15 L60,15 L60,35 L40,35 Z\" stroke=\"black\" fill=\"lightgray\" stroke-linejoin=\"miter\" />\n",
       "<text x=\"50\" y=\"44\" font-size=\"7\" text-anchor=\"middle\">Φ=phi1</text>\n",
       "<path d=\"M75,25 L95,25 M105,25 L125,25\" stroke-width=\"1\" stroke=\"black\" stroke-linejoin=\"miter\" fill=\"none\" />\n",
       "<path d=\"M90,15 L110,15 L110,35 L90,35 Z\" stroke=\"black\" fill=\"lightgray\" stroke-linejoin=\"miter\" />\n",
       "<text x=\"100\" y=\"44\" font-size=\"7\" text-anchor=\"middle\">Φ=phi2</text>\n",
       "<path d=\"M125,25.0 L140,25.0\" stroke-width=\"1\" stroke=\"black\" stroke-linejoin=\"miter\" fill=\"none\" />\n",
       "<text x=\"150\" y=\"28.0\" font-size=\"6\" text-anchor=\"end\">0</text>\n",
       "<text x=\"0\" y=\"28.0\" font-size=\"6\" text-anchor=\"start\">0</text>\n",
       "</svg>"
      ],
      "text/plain": [
       "<drawsvg.drawing.Drawing at 0x13232bcbb10>"
      ]
     },
     "execution_count": 5,
     "metadata": {},
     "output_type": "execute_result"
    }
   ],
   "source": [
    "pcvl.pdisplay(pcvl.Circuit(1).add(0,pattern2,False), recursive=True)"
   ]
  },
  {
   "cell_type": "code",
   "execution_count": 6,
   "id": "e2bdd9f4",
   "metadata": {},
   "outputs": [
    {
     "data": {
      "image/svg+xml": [
       "<?xml version=\"1.0\" encoding=\"UTF-8\"?>\n",
       "<svg xmlns=\"http://www.w3.org/2000/svg\" xmlns:xlink=\"http://www.w3.org/1999/xlink\"\n",
       "     width=\"195.0\" height=\"93.75\" viewBox=\"-28.0 0 156.0 75.0\">\n",
       "<defs>\n",
       "</defs>\n",
       "<path d=\"M10,25.0 L25,25.0\" stroke-width=\"1\" stroke=\"black\" stroke-linejoin=\"miter\" fill=\"none\" />\n",
       "<path d=\"M27,2 L73,2 L73,48 L27,48 Z\" stroke=\"black\" fill=\"lightblue\" stroke-dasharray=\"1,2\" stroke-linejoin=\"miter\" />\n",
       "<text x=\"29\" y=\"55\" font-size=\"8\" text-anchor=\"start\">REWRITE2</text>\n",
       "<path d=\"M25,25 L45,25 M55,25 L75,25\" stroke-width=\"1\" stroke=\"black\" stroke-linejoin=\"miter\" fill=\"none\" />\n",
       "<path d=\"M40,15 L60,15 L60,35 L40,35 Z\" stroke=\"black\" fill=\"lightgray\" stroke-linejoin=\"miter\" />\n",
       "<text x=\"50\" y=\"44\" font-size=\"7\" text-anchor=\"middle\">Φ=phi</text>\n",
       "<path d=\"M75,25.0 L90,25.0\" stroke-width=\"1\" stroke=\"black\" stroke-linejoin=\"miter\" fill=\"none\" />\n",
       "<text x=\"100\" y=\"28.0\" font-size=\"6\" text-anchor=\"end\">0</text>\n",
       "<text x=\"0\" y=\"28.0\" font-size=\"6\" text-anchor=\"start\">0</text>\n",
       "</svg>"
      ],
      "text/plain": [
       "<drawsvg.drawing.Drawing at 0x13232de29d0>"
      ]
     },
     "execution_count": 6,
     "metadata": {},
     "output_type": "execute_result"
    }
   ],
   "source": [
    "pcvl.pdisplay(pcvl.Circuit(1).add(0,rewrite2,False), recursive=True)"
   ]
  },
  {
   "cell_type": "markdown",
   "id": "7d547376",
   "metadata": {},
   "source": [
    "In fact, this rule has been directly implemented in Perceval, with the call of `simplify`."
   ]
  },
  {
   "cell_type": "code",
   "execution_count": 7,
   "id": "49074c57",
   "metadata": {},
   "outputs": [],
   "source": [
    "from perceval.utils.algorithms.simplification import simplify"
   ]
  },
  {
   "cell_type": "markdown",
   "id": "6ceae57c",
   "metadata": {},
   "source": [
    "The third rule used in this notebook is the following one:"
   ]
  },
  {
   "cell_type": "markdown",
   "id": "246fc6ce",
   "metadata": {},
   "source": [
    "![rewrite33](../_static/img/rewrite33.png)"
   ]
  },
  {
   "cell_type": "code",
   "execution_count": 8,
   "id": "d056ab6c",
   "metadata": {},
   "outputs": [
    {
     "data": {
      "image/svg+xml": [
       "<?xml version=\"1.0\" encoding=\"UTF-8\"?>\n",
       "<svg xmlns=\"http://www.w3.org/2000/svg\" xmlns:xlink=\"http://www.w3.org/1999/xlink\"\n",
       "     width=\"320.0\" height=\"156.25\" viewBox=\"-28.0 0 256.0 125.0\">\n",
       "<defs>\n",
       "</defs>\n",
       "<path d=\"M10,25.0 L25,25.0\" stroke-width=\"1\" stroke=\"black\" stroke-linejoin=\"miter\" fill=\"none\" />\n",
       "<path d=\"M10,75.0 L25,75.0\" stroke-width=\"1\" stroke=\"black\" stroke-linejoin=\"miter\" fill=\"none\" />\n",
       "<path d=\"M27,2 L173,2 L173,98 L27,98 Z\" stroke=\"black\" fill=\"pink\" stroke-dasharray=\"1,2\" stroke-linejoin=\"miter\" />\n",
       "<text x=\"29\" y=\"105\" font-size=\"8\" text-anchor=\"start\">PATTERN3</text>\n",
       "<path d=\"M25,75 L45,75 M55,75 L75,75\" stroke-width=\"1\" stroke=\"black\" stroke-linejoin=\"miter\" fill=\"none\" />\n",
       "<path d=\"M40,65 L60,65 L60,85 L40,85 Z\" stroke=\"black\" fill=\"lightgray\" stroke-linejoin=\"miter\" />\n",
       "<text x=\"50\" y=\"94\" font-size=\"7\" text-anchor=\"middle\">Φ=phip</text>\n",
       "<path d=\"M25,25.0 L75,25.0\" stroke=\"black\" stroke-width=\"1\" fill=\"none\" />\n",
       "<path d=\"M87.9442,25 C101.65379999999999,25,101.5924,50,115.3042,50 M115.306,50 C101.5944,50,101.656,75,87.946,75 M115.306,50 L137.1906,50 M137.1906,50 C150.9022,50,150.8406,25,164.55059999999997,25 M137.19079999999997,50 C150.90239999999997,50,150.84079999999997,75,164.55079999999998,75 M75.00259999999999,25 L88.00259999999999,25 M88.00439999999999,75 L75.00259999999999,75 M162.64799999999997,75 L175.00259999999997,75 M162.19699999999997,25 L175.00259999999997,25\" stroke-width=\"1\" stroke=\"black\" stroke-linejoin=\"miter\" fill=\"none\" />\n",
       "<text x=\"125\" y=\"38\" font-size=\"7\" text-anchor=\"middle\">Θ=theta</text>\n",
       "<path d=\"M147,53 L157,53 L157,63 L147,63 Z\" stroke=\"black\" fill=\"thistle\" stroke-linejoin=\"miter\" />\n",
       "<text x=\"152\" y=\"60\" font-size=\"6\" text-anchor=\"middle\">Rx</text>\n",
       "<path d=\"M175,25.0 L190,25.0\" stroke-width=\"1\" stroke=\"black\" stroke-linejoin=\"miter\" fill=\"none\" />\n",
       "<path d=\"M175,75.0 L190,75.0\" stroke-width=\"1\" stroke=\"black\" stroke-linejoin=\"miter\" fill=\"none\" />\n",
       "<text x=\"200\" y=\"28.0\" font-size=\"6\" text-anchor=\"end\">0</text>\n",
       "<text x=\"200\" y=\"78.0\" font-size=\"6\" text-anchor=\"end\">1</text>\n",
       "<text x=\"0\" y=\"28.0\" font-size=\"6\" text-anchor=\"start\">0</text>\n",
       "<text x=\"0\" y=\"78.0\" font-size=\"6\" text-anchor=\"start\">1</text>\n",
       "</svg>"
      ],
      "text/plain": [
       "<drawsvg.drawing.Drawing at 0x13232de3b10>"
      ]
     },
     "execution_count": 8,
     "metadata": {},
     "output_type": "execute_result"
    }
   ],
   "source": [
    "pattern3=pcvl.Circuit(2, name=\"pattern3\")//(1,pcvl.PS(pcvl.P(\"phip\")))//(0,pcvl.BS(theta=pcvl.P(\"theta\")))\n",
    "pattern3._color = \"pink\"\n",
    "pcvl.pdisplay(pcvl.Circuit(2).add(0,pattern3,False), recursive=True)"
   ]
  },
  {
   "cell_type": "code",
   "execution_count": 9,
   "id": "6ef8057d",
   "metadata": {},
   "outputs": [
    {
     "data": {
      "image/svg+xml": [
       "<?xml version=\"1.0\" encoding=\"UTF-8\"?>\n",
       "<svg xmlns=\"http://www.w3.org/2000/svg\" xmlns:xlink=\"http://www.w3.org/1999/xlink\"\n",
       "     width=\"382.5\" height=\"156.25\" viewBox=\"-28.0 0 306.0 125.0\">\n",
       "<defs>\n",
       "</defs>\n",
       "<path d=\"M10,25.0 L25,25.0\" stroke-width=\"1\" stroke=\"black\" stroke-linejoin=\"miter\" fill=\"none\" />\n",
       "<path d=\"M10,75.0 L25,75.0\" stroke-width=\"1\" stroke=\"black\" stroke-linejoin=\"miter\" fill=\"none\" />\n",
       "<path d=\"M27,2 L223,2 L223,98 L27,98 Z\" stroke=\"black\" fill=\"pink\" stroke-dasharray=\"1,2\" stroke-linejoin=\"miter\" />\n",
       "<text x=\"29\" y=\"105\" font-size=\"8\" text-anchor=\"start\">REWRITE3</text>\n",
       "<path d=\"M25,25 L45,25 M55,25 L75,25\" stroke-width=\"1\" stroke=\"black\" stroke-linejoin=\"miter\" fill=\"none\" />\n",
       "<path d=\"M40,15 L60,15 L60,35 L40,35 Z\" stroke=\"black\" fill=\"lightgray\" stroke-linejoin=\"miter\" />\n",
       "<text x=\"50\" y=\"44\" font-size=\"7\" text-anchor=\"middle\">Φ=phi1</text>\n",
       "<path d=\"M25,75.0 L75,75.0\" stroke=\"black\" stroke-width=\"1\" fill=\"none\" />\n",
       "<path d=\"M87.9442,25 C101.65379999999999,25,101.5924,50,115.3042,50 M115.306,50 C101.5944,50,101.656,75,87.946,75 M115.306,50 L137.1906,50 M137.1906,50 C150.9022,50,150.8406,25,164.55059999999997,25 M137.19079999999997,50 C150.90239999999997,50,150.84079999999997,75,164.55079999999998,75 M75.00259999999999,25 L88.00259999999999,25 M88.00439999999999,75 L75.00259999999999,75 M162.64799999999997,75 L175.00259999999997,75 M162.19699999999997,25 L175.00259999999997,25\" stroke-width=\"1\" stroke=\"black\" stroke-linejoin=\"miter\" fill=\"none\" />\n",
       "<text x=\"125\" y=\"38\" font-size=\"7\" text-anchor=\"middle\">Θ=theta</text>\n",
       "<path d=\"M147,53 L157,53 L157,63 L147,63 Z\" stroke=\"black\" fill=\"thistle\" stroke-linejoin=\"miter\" />\n",
       "<text x=\"152\" y=\"60\" font-size=\"6\" text-anchor=\"middle\">Rx</text>\n",
       "<path d=\"M175,25 L195,25 M205,25 L225,25\" stroke-width=\"1\" stroke=\"black\" stroke-linejoin=\"miter\" fill=\"none\" />\n",
       "<path d=\"M190,15 L210,15 L210,35 L190,35 Z\" stroke=\"black\" fill=\"lightgray\" stroke-linejoin=\"miter\" />\n",
       "<text x=\"200\" y=\"44\" font-size=\"7\" text-anchor=\"middle\">Φ=phi2</text>\n",
       "<path d=\"M175,75 L195,75 M205,75 L225,75\" stroke-width=\"1\" stroke=\"black\" stroke-linejoin=\"miter\" fill=\"none\" />\n",
       "<path d=\"M190,65 L210,65 L210,85 L190,85 Z\" stroke=\"black\" fill=\"lightgray\" stroke-linejoin=\"miter\" />\n",
       "<text x=\"200\" y=\"94\" font-size=\"7\" text-anchor=\"middle\">Φ=phi3</text>\n",
       "<path d=\"M225,25.0 L240,25.0\" stroke-width=\"1\" stroke=\"black\" stroke-linejoin=\"miter\" fill=\"none\" />\n",
       "<path d=\"M225,75.0 L240,75.0\" stroke-width=\"1\" stroke=\"black\" stroke-linejoin=\"miter\" fill=\"none\" />\n",
       "<text x=\"250\" y=\"28.0\" font-size=\"6\" text-anchor=\"end\">0</text>\n",
       "<text x=\"250\" y=\"78.0\" font-size=\"6\" text-anchor=\"end\">1</text>\n",
       "<text x=\"0\" y=\"28.0\" font-size=\"6\" text-anchor=\"start\">0</text>\n",
       "<text x=\"0\" y=\"78.0\" font-size=\"6\" text-anchor=\"start\">1</text>\n",
       "</svg>"
      ],
      "text/plain": [
       "<drawsvg.drawing.Drawing at 0x13232dd3b10>"
      ]
     },
     "execution_count": 9,
     "metadata": {},
     "output_type": "execute_result"
    }
   ],
   "source": [
    "rewrite3=pcvl.Circuit(2, name=\"rewrite3\")//(0,pcvl.PS(pcvl.P(\"phi1\")))//(0,pcvl.BS(theta=pcvl.P(\"theta\")))//(0,pcvl.PS(pcvl.P(\"phi2\")))//(1,pcvl.PS(pcvl.P(\"phi3\")))\n",
    "rewrite3._color = \"pink\"\n",
    "pcvl.pdisplay(pcvl.Circuit(2).add(0,rewrite3,False), recursive=True)"
   ]
  },
  {
   "cell_type": "markdown",
   "id": "6c7efe31",
   "metadata": {},
   "source": [
    "And the fourth rule is the rule 38 in the article."
   ]
  },
  {
   "cell_type": "markdown",
   "id": "4cae9637",
   "metadata": {},
   "source": [
    "![rewrite38](../_static/img/rewrite38.png)"
   ]
  },
  {
   "cell_type": "code",
   "execution_count": 10,
   "id": "597bc933",
   "metadata": {},
   "outputs": [
    {
     "data": {
      "image/svg+xml": [
       "<?xml version=\"1.0\" encoding=\"UTF-8\"?>\n",
       "<svg xmlns=\"http://www.w3.org/2000/svg\" xmlns:xlink=\"http://www.w3.org/1999/xlink\"\n",
       "     width=\"445.0\" height=\"156.25\" viewBox=\"-28.0 0 356.0 125.0\">\n",
       "<defs>\n",
       "</defs>\n",
       "<path d=\"M10,25.0 L25,25.0\" stroke-width=\"1\" stroke=\"black\" stroke-linejoin=\"miter\" fill=\"none\" />\n",
       "<path d=\"M10,75.0 L25,75.0\" stroke-width=\"1\" stroke=\"black\" stroke-linejoin=\"miter\" fill=\"none\" />\n",
       "<path d=\"M27,2 L273,2 L273,98 L27,98 Z\" stroke=\"black\" fill=\"orange\" stroke-dasharray=\"1,2\" stroke-linejoin=\"miter\" />\n",
       "<text x=\"29\" y=\"105\" font-size=\"8\" text-anchor=\"start\">PATTERN4</text>\n",
       "<path d=\"M37.9442,25 C51.653800000000004,25,51.5924,50,65.30420000000001,50 M65.30600000000001,50 C51.59440000000001,50,51.65600000000001,75,37.94600000000001,75 M65.30600000000001,50 L87.19060000000002,50 M87.19060000000002,50 C100.90220000000002,50,100.84060000000002,25,114.55060000000002,25 M87.19080000000002,50 C100.90240000000003,50,100.84080000000003,75,114.55080000000002,75 M25.00260000000003,25 L38.00260000000003,25 M38.00440000000003,75 L25.002600000000033,75 M112.64800000000002,75 L125.00260000000003,75 M112.19700000000003,25 L125.00260000000003,25\" stroke-width=\"1\" stroke=\"black\" stroke-linejoin=\"miter\" fill=\"none\" />\n",
       "<text x=\"75\" y=\"38\" font-size=\"7\" text-anchor=\"middle\">Θ=theta1</text>\n",
       "<path d=\"M97,53 L107,53 L107,63 L97,63 Z\" stroke=\"black\" fill=\"thistle\" stroke-linejoin=\"miter\" />\n",
       "<text x=\"102\" y=\"60\" font-size=\"6\" text-anchor=\"middle\">Rx</text>\n",
       "<path d=\"M125,25 L145,25 M155,25 L175,25\" stroke-width=\"1\" stroke=\"black\" stroke-linejoin=\"miter\" fill=\"none\" />\n",
       "<path d=\"M140,15 L160,15 L160,35 L140,35 Z\" stroke=\"black\" fill=\"lightgray\" stroke-linejoin=\"miter\" />\n",
       "<text x=\"150\" y=\"44\" font-size=\"7\" text-anchor=\"middle\">Φ=phi1</text>\n",
       "<path d=\"M125,75.0 L175,75.0\" stroke=\"black\" stroke-width=\"1\" fill=\"none\" />\n",
       "<path d=\"M187.9442,25 C201.6538,25,201.5924,50,215.30419999999998,50 M215.30599999999998,50 C201.59439999999998,50,201.65599999999998,75,187.94599999999997,75 M215.30599999999998,50 L237.1906,50 M237.1906,50 C250.9022,50,250.8406,25,264.5506,25 M237.19079999999997,50 C250.90239999999997,50,250.84079999999997,75,264.5508,75 M175.00259999999997,25 L188.00259999999997,25 M188.00439999999998,75 L175.00259999999997,75 M262.64799999999997,75 L275.0026,75 M262.197,25 L275.00260000000003,25\" stroke-width=\"1\" stroke=\"black\" stroke-linejoin=\"miter\" fill=\"none\" />\n",
       "<text x=\"225\" y=\"38\" font-size=\"7\" text-anchor=\"middle\">Θ=theta2</text>\n",
       "<path d=\"M247,53 L257,53 L257,63 L247,63 Z\" stroke=\"black\" fill=\"thistle\" stroke-linejoin=\"miter\" />\n",
       "<text x=\"252\" y=\"60\" font-size=\"6\" text-anchor=\"middle\">Rx</text>\n",
       "<path d=\"M275,25.0 L290,25.0\" stroke-width=\"1\" stroke=\"black\" stroke-linejoin=\"miter\" fill=\"none\" />\n",
       "<path d=\"M275,75.0 L290,75.0\" stroke-width=\"1\" stroke=\"black\" stroke-linejoin=\"miter\" fill=\"none\" />\n",
       "<text x=\"300\" y=\"28.0\" font-size=\"6\" text-anchor=\"end\">0</text>\n",
       "<text x=\"300\" y=\"78.0\" font-size=\"6\" text-anchor=\"end\">1</text>\n",
       "<text x=\"0\" y=\"28.0\" font-size=\"6\" text-anchor=\"start\">0</text>\n",
       "<text x=\"0\" y=\"78.0\" font-size=\"6\" text-anchor=\"start\">1</text>\n",
       "</svg>"
      ],
      "text/plain": [
       "<drawsvg.drawing.Drawing at 0x13232dc1a10>"
      ]
     },
     "execution_count": 10,
     "metadata": {},
     "output_type": "execute_result"
    }
   ],
   "source": [
    "pattern4=pcvl.Circuit(2, name=\"pattern4\")//(0,pcvl.BS(theta=pcvl.P(\"theta1\")))//(0,pcvl.PS(pcvl.P(\"phi1\")))//(0,pcvl.BS(theta=pcvl.P(\"theta2\")))\n",
    "pattern4._color = \"orange\"\n",
    "pcvl.pdisplay(pcvl.Circuit(2).add(0,pattern4,False), recursive=True)"
   ]
  },
  {
   "cell_type": "code",
   "execution_count": 11,
   "id": "1866e2c5",
   "metadata": {},
   "outputs": [
    {
     "data": {
      "image/svg+xml": [
       "<?xml version=\"1.0\" encoding=\"UTF-8\"?>\n",
       "<svg xmlns=\"http://www.w3.org/2000/svg\" xmlns:xlink=\"http://www.w3.org/1999/xlink\"\n",
       "     width=\"382.5\" height=\"156.25\" viewBox=\"-28.0 0 306.0 125.0\">\n",
       "<defs>\n",
       "</defs>\n",
       "<path d=\"M10,25.0 L25,25.0\" stroke-width=\"1\" stroke=\"black\" stroke-linejoin=\"miter\" fill=\"none\" />\n",
       "<path d=\"M10,75.0 L25,75.0\" stroke-width=\"1\" stroke=\"black\" stroke-linejoin=\"miter\" fill=\"none\" />\n",
       "<path d=\"M27,2 L223,2 L223,98 L27,98 Z\" stroke=\"black\" fill=\"orange\" stroke-dasharray=\"1,2\" stroke-linejoin=\"miter\" />\n",
       "<text x=\"29\" y=\"105\" font-size=\"8\" text-anchor=\"start\">REWRITE4</text>\n",
       "<path d=\"M25,25 L45,25 M55,25 L75,25\" stroke-width=\"1\" stroke=\"black\" stroke-linejoin=\"miter\" fill=\"none\" />\n",
       "<path d=\"M40,15 L60,15 L60,35 L40,35 Z\" stroke=\"black\" fill=\"lightgray\" stroke-linejoin=\"miter\" />\n",
       "<text x=\"50\" y=\"44\" font-size=\"7\" text-anchor=\"middle\">Φ=beta1</text>\n",
       "<path d=\"M25,75.0 L75,75.0\" stroke=\"black\" stroke-width=\"1\" fill=\"none\" />\n",
       "<path d=\"M87.9442,25 C101.65379999999999,25,101.5924,50,115.3042,50 M115.306,50 C101.5944,50,101.656,75,87.946,75 M115.306,50 L137.1906,50 M137.1906,50 C150.9022,50,150.8406,25,164.55059999999997,25 M137.19079999999997,50 C150.90239999999997,50,150.84079999999997,75,164.55079999999998,75 M75.00259999999999,25 L88.00259999999999,25 M88.00439999999999,75 L75.00259999999999,75 M162.64799999999997,75 L175.00259999999997,75 M162.19699999999997,25 L175.00259999999997,25\" stroke-width=\"1\" stroke=\"black\" stroke-linejoin=\"miter\" fill=\"none\" />\n",
       "<text x=\"125\" y=\"38\" font-size=\"7\" text-anchor=\"middle\">Θ=alpha1</text>\n",
       "<path d=\"M147,53 L157,53 L157,63 L147,63 Z\" stroke=\"black\" fill=\"thistle\" stroke-linejoin=\"miter\" />\n",
       "<text x=\"152\" y=\"60\" font-size=\"6\" text-anchor=\"middle\">Rx</text>\n",
       "<path d=\"M175,25 L195,25 M205,25 L225,25\" stroke-width=\"1\" stroke=\"black\" stroke-linejoin=\"miter\" fill=\"none\" />\n",
       "<path d=\"M190,15 L210,15 L210,35 L190,35 Z\" stroke=\"black\" fill=\"lightgray\" stroke-linejoin=\"miter\" />\n",
       "<text x=\"200\" y=\"44\" font-size=\"7\" text-anchor=\"middle\">Φ=beta2</text>\n",
       "<path d=\"M175,75 L195,75 M205,75 L225,75\" stroke-width=\"1\" stroke=\"black\" stroke-linejoin=\"miter\" fill=\"none\" />\n",
       "<path d=\"M190,65 L210,65 L210,85 L190,85 Z\" stroke=\"black\" fill=\"lightgray\" stroke-linejoin=\"miter\" />\n",
       "<text x=\"200\" y=\"94\" font-size=\"7\" text-anchor=\"middle\">Φ=beta3</text>\n",
       "<path d=\"M225,25.0 L240,25.0\" stroke-width=\"1\" stroke=\"black\" stroke-linejoin=\"miter\" fill=\"none\" />\n",
       "<path d=\"M225,75.0 L240,75.0\" stroke-width=\"1\" stroke=\"black\" stroke-linejoin=\"miter\" fill=\"none\" />\n",
       "<text x=\"250\" y=\"28.0\" font-size=\"6\" text-anchor=\"end\">0</text>\n",
       "<text x=\"250\" y=\"78.0\" font-size=\"6\" text-anchor=\"end\">1</text>\n",
       "<text x=\"0\" y=\"28.0\" font-size=\"6\" text-anchor=\"start\">0</text>\n",
       "<text x=\"0\" y=\"78.0\" font-size=\"6\" text-anchor=\"start\">1</text>\n",
       "</svg>"
      ],
      "text/plain": [
       "<drawsvg.drawing.Drawing at 0x13232dbd390>"
      ]
     },
     "execution_count": 11,
     "metadata": {},
     "output_type": "execute_result"
    }
   ],
   "source": [
    "rewrite4=pcvl.Circuit(2, name=\"rewrite4\")//(0,pcvl.PS(pcvl.P(\"beta1\")))//(0,pcvl.BS(theta=pcvl.P(\"alpha1\")))//(0,pcvl.PS(pcvl.P(\"beta2\")))//(1,pcvl.PS(pcvl.P(\"beta3\")))\n",
    "rewrite4._color = \"orange\"\n",
    "pcvl.pdisplay(pcvl.Circuit(2).add(0,rewrite4,False), recursive=True)"
   ]
  },
  {
   "cell_type": "code",
   "execution_count": 12,
   "id": "deafebff",
   "metadata": {},
   "outputs": [
    {
     "data": {
      "image/svg+xml": [
       "<?xml version=\"1.0\" encoding=\"UTF-8\"?>\n",
       "<svg xmlns=\"http://www.w3.org/2000/svg\" xmlns:xlink=\"http://www.w3.org/1999/xlink\"\n",
       "     width=\"1142.75\" height=\"196.875\" viewBox=\"-28.0 0 1306.0 225.0\">\n",
       "<defs>\n",
       "</defs>\n",
       "<path d=\"M10,25.0 L25,25.0\" stroke-width=\"1\" stroke=\"black\" stroke-linejoin=\"miter\" fill=\"none\" />\n",
       "<path d=\"M10,75.0 L25,75.0\" stroke-width=\"1\" stroke=\"black\" stroke-linejoin=\"miter\" fill=\"none\" />\n",
       "<path d=\"M10,125.0 L25,125.0\" stroke-width=\"1\" stroke=\"black\" stroke-linejoin=\"miter\" fill=\"none\" />\n",
       "<path d=\"M10,175.0 L25,175.0\" stroke-width=\"1\" stroke=\"black\" stroke-linejoin=\"miter\" fill=\"none\" />\n",
       "<path d=\"M25,25 L45,25 M55,25 L75,25\" stroke-width=\"1\" stroke=\"black\" stroke-linejoin=\"miter\" fill=\"none\" />\n",
       "<path d=\"M40,15 L60,15 L60,35 L40,35 Z\" stroke=\"black\" fill=\"lightgray\" stroke-linejoin=\"miter\" />\n",
       "<text x=\"50\" y=\"44\" font-size=\"7\" text-anchor=\"middle\">Φ=0.653802</text>\n",
       "<path d=\"M25,75.0 L75,75.0\" stroke=\"black\" stroke-width=\"1\" fill=\"none\" />\n",
       "<path d=\"M87.9442,25 C101.65379999999999,25,101.5924,50,115.3042,50 M115.306,50 C101.5944,50,101.656,75,87.946,75 M115.306,50 L137.1906,50 M137.1906,50 C150.9022,50,150.8406,25,164.55059999999997,25 M137.19079999999997,50 C150.90239999999997,50,150.84079999999997,75,164.55079999999998,75 M75.00259999999999,25 L88.00259999999999,25 M88.00439999999999,75 L75.00259999999999,75 M162.64799999999997,75 L175.00259999999997,75 M162.19699999999997,25 L175.00259999999997,25\" stroke-width=\"1\" stroke=\"black\" stroke-linejoin=\"miter\" fill=\"none\" />\n",
       "<text x=\"125\" y=\"38\" font-size=\"7\" text-anchor=\"middle\">Θ=0.22869</text>\n",
       "<path d=\"M147,53 L157,53 L157,63 L147,63 Z\" stroke=\"black\" fill=\"thistle\" stroke-linejoin=\"miter\" />\n",
       "<text x=\"152\" y=\"60\" font-size=\"6\" text-anchor=\"middle\">Rx</text>\n",
       "<path d=\"M25,125 L45,125 M55,125 L75,125\" stroke-width=\"1\" stroke=\"black\" stroke-linejoin=\"miter\" fill=\"none\" />\n",
       "<path d=\"M40,115 L60,115 L60,135 L40,135 Z\" stroke=\"black\" fill=\"lightgray\" stroke-linejoin=\"miter\" />\n",
       "<text x=\"50\" y=\"144\" font-size=\"7\" text-anchor=\"middle\">Φ=0.611759</text>\n",
       "<path d=\"M25,175.0 L75,175.0\" stroke=\"black\" stroke-width=\"1\" fill=\"none\" />\n",
       "<path d=\"M87.9442,125 C101.65379999999999,125,101.5924,150,115.3042,150 M115.306,150 C101.5944,150,101.656,175,87.946,175 M115.306,150 L137.1906,150 M137.1906,150 C150.9022,150,150.8406,125,164.55059999999997,125 M137.19079999999997,150 C150.90239999999997,150,150.84079999999997,175,164.55079999999998,175 M75.00259999999999,125 L88.00259999999999,125 M88.00439999999999,175 L75.00259999999999,175 M162.64799999999997,175 L175.00259999999997,175 M162.19699999999997,125 L175.00259999999997,125\" stroke-width=\"1\" stroke=\"black\" stroke-linejoin=\"miter\" fill=\"none\" />\n",
       "<text x=\"125\" y=\"138\" font-size=\"7\" text-anchor=\"middle\">Θ=0.016361</text>\n",
       "<path d=\"M147,153 L157,153 L157,163 L147,163 Z\" stroke=\"black\" fill=\"thistle\" stroke-linejoin=\"miter\" />\n",
       "<text x=\"152\" y=\"160\" font-size=\"6\" text-anchor=\"middle\">Rx</text>\n",
       "<path d=\"M175,75 L195,75 M205,75 L225,75\" stroke-width=\"1\" stroke=\"black\" stroke-linejoin=\"miter\" fill=\"none\" />\n",
       "<path d=\"M190,65 L210,65 L210,85 L190,85 Z\" stroke=\"black\" fill=\"lightgray\" stroke-linejoin=\"miter\" />\n",
       "<text x=\"200\" y=\"94\" font-size=\"7\" text-anchor=\"middle\">Φ=0.802929</text>\n",
       "<path d=\"M175,125.0 L225,125.0\" stroke=\"black\" stroke-width=\"1\" fill=\"none\" />\n",
       "<path d=\"M237.9442,75 C251.6538,75,251.5924,100,265.3042,100 M265.306,100 C251.59439999999998,100,251.65599999999998,125,237.94599999999997,125 M265.306,100 L287.19059999999996,100 M287.19059999999996,100 C300.9022,100,300.8406,75,314.5506,75 M287.19079999999997,100 C300.90239999999994,100,300.84079999999994,125,314.5508,125 M225.00259999999997,75 L238.00259999999997,75 M238.00439999999998,125 L225.00259999999997,125 M312.64799999999997,125 L325.0026,125 M312.197,75 L325.00260000000003,75\" stroke-width=\"1\" stroke=\"black\" stroke-linejoin=\"miter\" fill=\"none\" />\n",
       "<text x=\"275\" y=\"88\" font-size=\"7\" text-anchor=\"middle\">Θ=0.351657</text>\n",
       "<path d=\"M297,103 L307,103 L307,113 L297,113 Z\" stroke=\"black\" fill=\"thistle\" stroke-linejoin=\"miter\" />\n",
       "<text x=\"302\" y=\"110\" font-size=\"6\" text-anchor=\"middle\">Rx</text>\n",
       "<path d=\"M175,25.0 L325,25.0\" stroke=\"black\" stroke-width=\"1\" fill=\"none\" />\n",
       "<path d=\"M175,175.0 L325,175.0\" stroke=\"black\" stroke-width=\"1\" fill=\"none\" />\n",
       "<path d=\"M325,25 L345,25 M355,25 L375,25\" stroke-width=\"1\" stroke=\"black\" stroke-linejoin=\"miter\" fill=\"none\" />\n",
       "<path d=\"M340,15 L360,15 L360,35 L340,35 Z\" stroke=\"black\" fill=\"lightgray\" stroke-linejoin=\"miter\" />\n",
       "<text x=\"350\" y=\"44\" font-size=\"7\" text-anchor=\"middle\">Φ=0.710922</text>\n",
       "<path d=\"M325,75.0 L375,75.0\" stroke=\"black\" stroke-width=\"1\" fill=\"none\" />\n",
       "<path d=\"M387.9442,25 C401.65380000000005,25,401.5924,50,415.30420000000004,50 M415.30600000000004,50 C401.59440000000006,50,401.65600000000006,75,387.946,75 M415.30600000000004,50 L437.1906,50 M437.1906,50 C450.9022,50,450.8406,25,464.55060000000003,25 M437.1908,50 C450.90240000000006,50,450.84080000000006,75,464.55080000000004,75 M375.00260000000003,25 L388.00260000000003,25 M388.00440000000003,75 L375.00260000000003,75 M462.648,75 L475.00260000000003,75 M462.197,25 L475.00260000000003,25\" stroke-width=\"1\" stroke=\"black\" stroke-linejoin=\"miter\" fill=\"none\" />\n",
       "<text x=\"425\" y=\"38\" font-size=\"7\" text-anchor=\"middle\">Θ=0.426874</text>\n",
       "<path d=\"M447,53 L457,53 L457,63 L447,63 Z\" stroke=\"black\" fill=\"thistle\" stroke-linejoin=\"miter\" />\n",
       "<text x=\"452\" y=\"60\" font-size=\"6\" text-anchor=\"middle\">Rx</text>\n",
       "<path d=\"M325,125 L345,125 M355,125 L375,125\" stroke-width=\"1\" stroke=\"black\" stroke-linejoin=\"miter\" fill=\"none\" />\n",
       "<path d=\"M340,115 L360,115 L360,135 L340,135 Z\" stroke=\"black\" fill=\"lightgray\" stroke-linejoin=\"miter\" />\n",
       "<text x=\"350\" y=\"144\" font-size=\"7\" text-anchor=\"middle\">Φ=0.737868</text>\n",
       "<path d=\"M325,175.0 L375,175.0\" stroke=\"black\" stroke-width=\"1\" fill=\"none\" />\n",
       "<path d=\"M387.9442,125 C401.65380000000005,125,401.5924,150,415.30420000000004,150 M415.30600000000004,150 C401.59440000000006,150,401.65600000000006,175,387.946,175 M415.30600000000004,150 L437.1906,150 M437.1906,150 C450.9022,150,450.8406,125,464.55060000000003,125 M437.1908,150 C450.90240000000006,150,450.84080000000006,175,464.55080000000004,175 M375.00260000000003,125 L388.00260000000003,125 M388.00440000000003,175 L375.00260000000003,175 M462.648,175 L475.00260000000003,175 M462.197,125 L475.00260000000003,125\" stroke-width=\"1\" stroke=\"black\" stroke-linejoin=\"miter\" fill=\"none\" />\n",
       "<text x=\"425\" y=\"138\" font-size=\"7\" text-anchor=\"middle\">Θ=0.706458</text>\n",
       "<path d=\"M447,153 L457,153 L457,163 L447,163 Z\" stroke=\"black\" fill=\"thistle\" stroke-linejoin=\"miter\" />\n",
       "<text x=\"452\" y=\"160\" font-size=\"6\" text-anchor=\"middle\">Rx</text>\n",
       "<path d=\"M475,75 L495,75 M505,75 L525,75\" stroke-width=\"1\" stroke=\"black\" stroke-linejoin=\"miter\" fill=\"none\" />\n",
       "<path d=\"M490,65 L510,65 L510,85 L490,85 Z\" stroke=\"black\" fill=\"lightgray\" stroke-linejoin=\"miter\" />\n",
       "<text x=\"500\" y=\"94\" font-size=\"7\" text-anchor=\"middle\">Φ=0.807163</text>\n",
       "<path d=\"M475,125.0 L525,125.0\" stroke=\"black\" stroke-width=\"1\" fill=\"none\" />\n",
       "<path d=\"M537.9442,75 C551.6538,75,551.5924,100,565.3042,100 M565.306,100 C551.5944000000001,100,551.6560000000001,125,537.946,125 M565.306,100 L587.1906,100 M587.1906,100 C600.9022,100,600.8406,75,614.5506,75 M587.1908000000001,100 C600.9024000000001,100,600.8408000000001,125,614.5508000000001,125 M525.0026000000001,75 L538.0026000000001,75 M538.0044000000001,125 L525.0026000000001,125 M612.6480000000001,125 L625.0026000000001,125 M612.1970000000001,75 L625.0026000000001,75\" stroke-width=\"1\" stroke=\"black\" stroke-linejoin=\"miter\" fill=\"none\" />\n",
       "<text x=\"575\" y=\"88\" font-size=\"7\" text-anchor=\"middle\">Θ=0.343121</text>\n",
       "<path d=\"M597,103 L607,103 L607,113 L597,113 Z\" stroke=\"black\" fill=\"thistle\" stroke-linejoin=\"miter\" />\n",
       "<text x=\"602\" y=\"110\" font-size=\"6\" text-anchor=\"middle\">Rx</text>\n",
       "<path d=\"M475,25.0 L625,25.0\" stroke=\"black\" stroke-width=\"1\" fill=\"none\" />\n",
       "<path d=\"M475,175.0 L625,175.0\" stroke=\"black\" stroke-width=\"1\" fill=\"none\" />\n",
       "<path d=\"M625,25 L645,25 M655,25 L675,25\" stroke-width=\"1\" stroke=\"black\" stroke-linejoin=\"miter\" fill=\"none\" />\n",
       "<path d=\"M640,15 L660,15 L660,35 L640,35 Z\" stroke=\"black\" fill=\"lightgray\" stroke-linejoin=\"miter\" />\n",
       "<text x=\"650\" y=\"44\" font-size=\"7\" text-anchor=\"middle\">Φ=0.185588</text>\n",
       "<path d=\"M625,75.0 L675,75.0\" stroke=\"black\" stroke-width=\"1\" fill=\"none\" />\n",
       "<path d=\"M687.9442,25 C701.6538,25,701.5924,50,715.3042,50 M715.306,50 C701.5944000000001,50,701.6560000000001,75,687.946,75 M715.306,50 L737.1906,50 M737.1906,50 C750.9022,50,750.8406,25,764.5506,25 M737.1908000000001,50 C750.9024000000001,50,750.8408000000001,75,764.5508000000001,75 M675.0026000000001,25 L688.0026000000001,25 M688.0044000000001,75 L675.0026000000001,75 M762.6480000000001,75 L775.0026000000001,75 M762.1970000000001,25 L775.0026000000001,25\" stroke-width=\"1\" stroke=\"black\" stroke-linejoin=\"miter\" fill=\"none\" />\n",
       "<text x=\"725\" y=\"38\" font-size=\"7\" text-anchor=\"middle\">Θ=0.271088</text>\n",
       "<path d=\"M747,53 L757,53 L757,63 L747,63 Z\" stroke=\"black\" fill=\"thistle\" stroke-linejoin=\"miter\" />\n",
       "<text x=\"752\" y=\"60\" font-size=\"6\" text-anchor=\"middle\">Rx</text>\n",
       "<path d=\"M625,125 L645,125 M655,125 L675,125\" stroke-width=\"1\" stroke=\"black\" stroke-linejoin=\"miter\" fill=\"none\" />\n",
       "<path d=\"M640,115 L660,115 L660,135 L640,135 Z\" stroke=\"black\" fill=\"lightgray\" stroke-linejoin=\"miter\" />\n",
       "<text x=\"650\" y=\"144\" font-size=\"7\" text-anchor=\"middle\">Φ=0.637267</text>\n",
       "<path d=\"M625,175.0 L675,175.0\" stroke=\"black\" stroke-width=\"1\" fill=\"none\" />\n",
       "<path d=\"M687.9442,125 C701.6538,125,701.5924,150,715.3042,150 M715.306,150 C701.5944000000001,150,701.6560000000001,175,687.946,175 M715.306,150 L737.1906,150 M737.1906,150 C750.9022,150,750.8406,125,764.5506,125 M737.1908000000001,150 C750.9024000000001,150,750.8408000000001,175,764.5508000000001,175 M675.0026000000001,125 L688.0026000000001,125 M688.0044000000001,175 L675.0026000000001,175 M762.6480000000001,175 L775.0026000000001,175 M762.1970000000001,125 L775.0026000000001,125\" stroke-width=\"1\" stroke=\"black\" stroke-linejoin=\"miter\" fill=\"none\" />\n",
       "<text x=\"725\" y=\"138\" font-size=\"7\" text-anchor=\"middle\">Θ=0.138729</text>\n",
       "<path d=\"M747,153 L757,153 L757,163 L747,163 Z\" stroke=\"black\" fill=\"thistle\" stroke-linejoin=\"miter\" />\n",
       "<text x=\"752\" y=\"160\" font-size=\"6\" text-anchor=\"middle\">Rx</text>\n",
       "<path d=\"M775,75 L795,75 M805,75 L825,75\" stroke-width=\"1\" stroke=\"black\" stroke-linejoin=\"miter\" fill=\"none\" />\n",
       "<path d=\"M790,65 L810,65 L810,85 L790,85 Z\" stroke=\"black\" fill=\"lightgray\" stroke-linejoin=\"miter\" />\n",
       "<text x=\"800\" y=\"94\" font-size=\"7\" text-anchor=\"middle\">Φ=0.00255</text>\n",
       "<path d=\"M775,125.0 L825,125.0\" stroke=\"black\" stroke-width=\"1\" fill=\"none\" />\n",
       "<path d=\"M837.9442,75 C851.6538,75,851.5924,100,865.3042,100 M865.306,100 C851.5944000000001,100,851.6560000000001,125,837.946,125 M865.306,100 L887.1906,100 M887.1906,100 C900.9022,100,900.8406,75,914.5506,75 M887.1908000000001,100 C900.9024000000001,100,900.8408000000001,125,914.5508000000001,125 M825.0026000000001,75 L838.0026000000001,75 M838.0044000000001,125 L825.0026000000001,125 M912.6480000000001,125 L925.0026000000001,125 M912.1970000000001,75 L925.0026000000001,75\" stroke-width=\"1\" stroke=\"black\" stroke-linejoin=\"miter\" fill=\"none\" />\n",
       "<text x=\"875\" y=\"88\" font-size=\"7\" text-anchor=\"middle\">Θ=0.967883</text>\n",
       "<path d=\"M897,103 L907,103 L907,113 L897,113 Z\" stroke=\"black\" fill=\"thistle\" stroke-linejoin=\"miter\" />\n",
       "<text x=\"902\" y=\"110\" font-size=\"6\" text-anchor=\"middle\">Rx</text>\n",
       "<path d=\"M775,25.0 L925,25.0\" stroke=\"black\" stroke-width=\"1\" fill=\"none\" />\n",
       "<path d=\"M775,175.0 L925,175.0\" stroke=\"black\" stroke-width=\"1\" fill=\"none\" />\n",
       "<path d=\"M925,25 L945,25 M955,25 L975,25\" stroke-width=\"1\" stroke=\"black\" stroke-linejoin=\"miter\" fill=\"none\" />\n",
       "<path d=\"M940,15 L960,15 L960,35 L940,35 Z\" stroke=\"black\" fill=\"lightgray\" stroke-linejoin=\"miter\" />\n",
       "<text x=\"950\" y=\"44\" font-size=\"7\" text-anchor=\"middle\">Φ=0.816955</text>\n",
       "<path d=\"M925,75.0 L975,75.0\" stroke=\"black\" stroke-width=\"1\" fill=\"none\" />\n",
       "<path d=\"M987.9442,25 C1001.6538,25,1001.5924,50,1015.3042,50 M1015.306,50 C1001.5944000000001,50,1001.6560000000001,75,987.946,75 M1015.306,50 L1037.1906000000001,50 M1037.1906000000001,50 C1050.9022000000002,50,1050.8406000000002,25,1064.5506,25 M1037.1908,50 C1050.9024000000002,50,1050.8408000000002,75,1064.5508,75 M975.0026,25 L988.0026,25 M988.0044,75 L975.0026,75 M1062.6480000000001,75 L1075.0026000000003,75 M1062.1970000000003,25 L1075.0026000000003,25\" stroke-width=\"1\" stroke=\"black\" stroke-linejoin=\"miter\" fill=\"none\" />\n",
       "<text x=\"1025\" y=\"38\" font-size=\"7\" text-anchor=\"middle\">Θ=0.227205</text>\n",
       "<path d=\"M1047,53 L1057,53 L1057,63 L1047,63 Z\" stroke=\"black\" fill=\"thistle\" stroke-linejoin=\"miter\" />\n",
       "<text x=\"1052\" y=\"60\" font-size=\"6\" text-anchor=\"middle\">Rx</text>\n",
       "<path d=\"M925,125 L945,125 M955,125 L975,125\" stroke-width=\"1\" stroke=\"black\" stroke-linejoin=\"miter\" fill=\"none\" />\n",
       "<path d=\"M940,115 L960,115 L960,135 L940,135 Z\" stroke=\"black\" fill=\"lightgray\" stroke-linejoin=\"miter\" />\n",
       "<text x=\"950\" y=\"144\" font-size=\"7\" text-anchor=\"middle\">Φ=0.83099</text>\n",
       "<path d=\"M925,175.0 L975,175.0\" stroke=\"black\" stroke-width=\"1\" fill=\"none\" />\n",
       "<path d=\"M987.9442,125 C1001.6538,125,1001.5924,150,1015.3042,150 M1015.306,150 C1001.5944000000001,150,1001.6560000000001,175,987.946,175 M1015.306,150 L1037.1906000000001,150 M1037.1906000000001,150 C1050.9022000000002,150,1050.8406000000002,125,1064.5506,125 M1037.1908,150 C1050.9024000000002,150,1050.8408000000002,175,1064.5508,175 M975.0026,125 L988.0026,125 M988.0044,175 L975.0026,175 M1062.6480000000001,175 L1075.0026000000003,175 M1062.1970000000003,125 L1075.0026000000003,125\" stroke-width=\"1\" stroke=\"black\" stroke-linejoin=\"miter\" fill=\"none\" />\n",
       "<text x=\"1025\" y=\"138\" font-size=\"7\" text-anchor=\"middle\">Θ=0.486183</text>\n",
       "<path d=\"M1047,153 L1057,153 L1057,163 L1047,163 Z\" stroke=\"black\" fill=\"thistle\" stroke-linejoin=\"miter\" />\n",
       "<text x=\"1052\" y=\"160\" font-size=\"6\" text-anchor=\"middle\">Rx</text>\n",
       "<path d=\"M1075,75 L1095,75 M1105,75 L1125,75\" stroke-width=\"1\" stroke=\"black\" stroke-linejoin=\"miter\" fill=\"none\" />\n",
       "<path d=\"M1090,65 L1110,65 L1110,85 L1090,85 Z\" stroke=\"black\" fill=\"lightgray\" stroke-linejoin=\"miter\" />\n",
       "<text x=\"1100\" y=\"94\" font-size=\"7\" text-anchor=\"middle\">Φ=0.619083</text>\n",
       "<path d=\"M1075,125.0 L1125,125.0\" stroke=\"black\" stroke-width=\"1\" fill=\"none\" />\n",
       "<path d=\"M1137.9442,75 C1151.6537999999998,75,1151.5924,100,1165.3041999999998,100 M1165.3059999999998,100 C1151.5943999999997,100,1151.6559999999997,125,1137.946,125 M1165.3059999999998,100 L1187.1906,100 M1187.1906,100 C1200.9022,100,1200.8406,75,1214.5505999999998,75 M1187.1907999999999,100 C1200.9024,100,1200.8408,125,1214.5507999999998,125 M1125.0025999999998,75 L1138.0025999999998,75 M1138.0043999999998,125 L1125.0025999999998,125 M1212.6479999999997,125 L1225.0025999999998,125 M1212.197,75 L1225.0025999999998,75\" stroke-width=\"1\" stroke=\"black\" stroke-linejoin=\"miter\" fill=\"none\" />\n",
       "<text x=\"1175\" y=\"88\" font-size=\"7\" text-anchor=\"middle\">Θ=0.324947</text>\n",
       "<path d=\"M1197,103 L1207,103 L1207,113 L1197,113 Z\" stroke=\"black\" fill=\"thistle\" stroke-linejoin=\"miter\" />\n",
       "<text x=\"1202\" y=\"110\" font-size=\"6\" text-anchor=\"middle\">Rx</text>\n",
       "<path d=\"M1075,25.0 L1225,25.0\" stroke=\"black\" stroke-width=\"1\" fill=\"none\" />\n",
       "<path d=\"M1075,175.0 L1225,175.0\" stroke=\"black\" stroke-width=\"1\" fill=\"none\" />\n",
       "<path d=\"M1225,25.0 L1240,25.0\" stroke-width=\"1\" stroke=\"black\" stroke-linejoin=\"miter\" fill=\"none\" />\n",
       "<path d=\"M1225,75.0 L1240,75.0\" stroke-width=\"1\" stroke=\"black\" stroke-linejoin=\"miter\" fill=\"none\" />\n",
       "<path d=\"M1225,125.0 L1240,125.0\" stroke-width=\"1\" stroke=\"black\" stroke-linejoin=\"miter\" fill=\"none\" />\n",
       "<path d=\"M1225,175.0 L1240,175.0\" stroke-width=\"1\" stroke=\"black\" stroke-linejoin=\"miter\" fill=\"none\" />\n",
       "<text x=\"1250\" y=\"28.0\" font-size=\"6\" text-anchor=\"end\">0</text>\n",
       "<text x=\"1250\" y=\"78.0\" font-size=\"6\" text-anchor=\"end\">1</text>\n",
       "<text x=\"1250\" y=\"128.0\" font-size=\"6\" text-anchor=\"end\">2</text>\n",
       "<text x=\"1250\" y=\"178.0\" font-size=\"6\" text-anchor=\"end\">3</text>\n",
       "<text x=\"0\" y=\"28.0\" font-size=\"6\" text-anchor=\"start\">0</text>\n",
       "<text x=\"0\" y=\"78.0\" font-size=\"6\" text-anchor=\"start\">1</text>\n",
       "<text x=\"0\" y=\"128.0\" font-size=\"6\" text-anchor=\"start\">2</text>\n",
       "<text x=\"0\" y=\"178.0\" font-size=\"6\" text-anchor=\"start\">3</text>\n",
       "</svg>"
      ],
      "text/plain": [
       "<drawsvg.drawing.Drawing at 0x13233f50a90>"
      ]
     },
     "execution_count": 12,
     "metadata": {},
     "output_type": "execute_result"
    }
   ],
   "source": [
    "a=pcvl.GenericInterferometer(4, lambda idx:pcvl.Circuit(2)//pcvl.PS(phi=random.random())//pcvl.BS(theta=random.random()), depth=8, shape=pcvl.InterferometerShape.RECTANGLE)\n",
    "pcvl.pdisplay(a, recursive=True, render_size=0.7)"
   ]
  },
  {
   "cell_type": "markdown",
   "id": "f13dd7d7",
   "metadata": {},
   "source": [
    "## Normalizing Circuit"
   ]
  },
  {
   "cell_type": "code",
   "execution_count": 13,
   "id": "0f5ee748",
   "metadata": {},
   "outputs": [],
   "source": [
    "import drawsvg as draw"
   ]
  },
  {
   "cell_type": "code",
   "execution_count": 14,
   "id": "df109c0f",
   "metadata": {},
   "outputs": [
    {
     "name": "stdout",
     "output_type": "stream",
     "text": [
      "matching pattern pattern1\n",
      "matching pattern pattern3\n",
      "matching pattern pattern4\n"
     ]
    }
   ],
   "source": [
    "reverse = []\n",
    "direct=[]\n",
    "def draw_frame(a):\n",
    "    if isinstance(a, pcvl.Circuit):\n",
    "        d = pcvl.pdisplay(a, recursive=True, render_size=0.6)\n",
    "        reverse.insert(0, d)\n",
    "        direct.append(d)\n",
    "        return d\n",
    "    return a\n",
    "\n",
    "rules = [(pattern1, rewrite1, \"lightgreen\"), # (pattern2, rewrite2, \"lightblue\"),\n",
    "         (pattern3, rewrite3, \"pink\"), (pattern4, rewrite4, \"orange\")]\n",
    "\n",
    "with draw.frame_animate_jupyter(draw_frame, delay=0.1) as anim:\n",
    "    anim.draw_frame(a)\n",
    "    while True:\n",
    "        found = False\n",
    "        for pattern, rewrite, color in rules:\n",
    "            start_pos = 0\n",
    "            while True:\n",
    "                print(\"matching pattern\", pattern.name)\n",
    "                matched = a.match(pattern, browse=True, pos=start_pos)\n",
    "                if matched is None:\n",
    "                    break\n",
    "                print(\"matching ok\", matched.v_map)\n",
    "                idx = a.isolate(list(matched.pos_map.keys()), color=color)\n",
    "                anim.draw_frame(a)\n",
    "                for k, v in matched.v_map.items():\n",
    "                    pattern.param(k).set_value(v)\n",
    "                v = pattern.compute_unitary(False)\n",
    "                print(\"optimizing rewrite\",rewrite.name)\n",
    "                res = optimize(rewrite, v, frobenius, sign=-1)\n",
    "                print(\"found params with distance\", res.fun)\n",
    "                subc = rewrite.copy()\n",
    "                found = True\n",
    "                a.replace(idx, subc, merge=False)\n",
    "                anim.draw_frame(a)\n",
    "                a.replace(idx, subc, merge=True)\n",
    "                pattern.reset_parameters()\n",
    "                rewrite.reset_parameters()\n",
    "                a = simplify(a)\n",
    "                anim.draw_frame(a)\n",
    "                start_pos = idx\n",
    "        if not found:\n",
    "            break"
   ]
  },
  {
   "cell_type": "markdown",
   "id": "954dfac2",
   "metadata": {},
   "source": [
    "This representation is exactly the normal form that we wanted to obtain !"
   ]
  },
  {
   "cell_type": "markdown",
   "id": "c174aa4c",
   "metadata": {},
   "source": [
    "## Reference\n",
    "\n",
    "> A. Clément, N. Heurtel, S. Mansfield, S. Perdrix, B. Valiron. LOv-Calculus: A Graphical Language for Linear Optical Quantum Circuits, 47th International Symposium on Mathematical Foundations of Computer Science [MFCS](https://doi.org/10.4230/LIPIcs.MFCS.2022.35), 35:1--35:16 (2022)."
   ]
  }
 ],
 "metadata": {
  "language_info": {
   "name": "python"
  }
 },
 "nbformat": 4,
 "nbformat_minor": 5
}
