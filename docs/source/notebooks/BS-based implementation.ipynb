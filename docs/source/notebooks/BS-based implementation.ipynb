{
 "cells": [
  {
   "cell_type": "markdown",
   "id": "3d4fc10a",
   "metadata": {},
   "source": [
    "# Error-tolerant BS-based circuit"
   ]
  },
  {
   "cell_type": "markdown",
   "id": "8cdc5601",
   "metadata": {},
   "source": [
    "In this notebook, we aim to present the BS-based circuit which is an alternative to Mach-Zehnder interferometers usually exploited because it is capable of implementing arbitrary transfer matrices. BS-based circuit seems to be tolerant of manufacturing errors and losses due to its design according to Fldzhyan et al (2020) Optimal design of error-tolerant reprogrammable multiport interferometers. Optics Letters, 45(9):2632–2635"
   ]
  },
  {
   "cell_type": "markdown",
   "id": "561b1415",
   "metadata": {},
   "source": [
    "## Introduction "
   ]
  },
  {
   "cell_type": "markdown",
   "id": "94227072",
   "metadata": {},
   "source": [
    "### Parameters"
   ]
  },
  {
   "cell_type": "markdown",
   "id": "897a99d7",
   "metadata": {},
   "source": [
    "The variable phase shifts $\\phi$ are used to reconfigure the interferometer and have required ranges from 0 to 2π. The variation of the $\\phi$ parameter allows us to obtain different transfer matrices U each time. These matrices will then be compared to the unitary matrix U0 of the BS-based with the calculation of the fidelity. "
   ]
  },
  {
   "cell_type": "markdown",
   "id": "5dc5e36f",
   "metadata": {},
   "source": [
    "Parameters $\\alpha$ describe errors caused by the imbalances of the static BSs due to non-ideal realization. To analyze the error tolerance of the BS, we vary the $\\alpha$ values to explore the different values of associated infidelity. "
   ]
  },
  {
   "cell_type": "markdown",
   "id": "7a221e9e",
   "metadata": {},
   "source": [
    "We are not looking for fidelity value because for this cricuit, no analytical solution is known to derive phase shifts that maximize the fidelity. [1]\n",
    "Consequently, the aim of this program is to minimize the infidelity."
   ]
  },
  {
   "cell_type": "markdown",
   "id": "aaea0275",
   "metadata": {},
   "source": [
    "## Perceval implementation"
   ]
  },
  {
   "cell_type": "markdown",
   "id": "5f57bc2b",
   "metadata": {},
   "source": [
    "### Initialisation"
   ]
  },
  {
   "cell_type": "code",
   "execution_count": 1,
   "id": "190e653d",
   "metadata": {},
   "outputs": [],
   "source": [
    "from multiprocessing import Pool, TimeoutError\n",
    "import logging\n",
    "import datetime\n",
    "import time\n",
    "import numpy as np\n",
    "from scipy.optimize import basinhopping\n",
    "import random\n",
    "import perceval as pcvl\n",
    "import perceval.lib.phys as phys\n",
    "import os\n",
    "import argparse\n",
    "import math\n",
    "from tqdm import tqdm"
   ]
  },
  {
   "cell_type": "markdown",
   "id": "bcd40037",
   "metadata": {},
   "source": [
    "We define all parameters used in this program :"
   ]
  },
  {
   "cell_type": "code",
   "execution_count": 2,
   "id": "bae040fe",
   "metadata": {},
   "outputs": [],
   "source": [
    "N=5\n",
    "n_try=3\n",
    "n_iter=1\n",
    "n_process=8\n",
    "angle_min=-15\n",
    "angle_max=30\n",
    "angle_step=30\n",
    "n_unitary=2\n",
    "logfilebs='bsbased-opt'\n",
    "logfilemzi='mzibased-opt'"
   ]
  },
  {
   "cell_type": "markdown",
   "id": "98d2cc35",
   "metadata": {},
   "source": [
    "# 1- BS-based"
   ]
  },
  {
   "cell_type": "markdown",
   "id": "c6a73b9d",
   "metadata": {},
   "source": [
    "### Circuit construction :  BS-based "
   ]
  },
  {
   "cell_type": "markdown",
   "id": "e6c9c678",
   "metadata": {},
   "source": [
    "We start by describing the circuit as defined by the paper above [1]. The circuit is built with a single static beam-splitter and a variable phase shift. There is also a phase at the beginning of each mode to (to add)."
   ]
  },
  {
   "cell_type": "code",
   "execution_count": 3,
   "id": "0081f2c8",
   "metadata": {},
   "outputs": [
    {
     "data": {
      "text/html": [
       "<svg width='1406.000000' height='300.000000' viewBox='-3.000000 0.000000 1403.000000 300.000000'><path d=\"M 10 25 L 25 25\" fill=\"none\" stroke=\"darkred\" stroke-width=\"3.000000\" stroke-linejoin=\"miter\"/>\n",
       "<text x=\"0.000000\" y=\"25.000000\" font-size=\"6.000000\" text-anchor=\"start\">0</text>\n",
       "<path d=\"M 10 75 L 25 75\" fill=\"none\" stroke=\"darkred\" stroke-width=\"3.000000\" stroke-linejoin=\"miter\"/>\n",
       "<text x=\"0.000000\" y=\"75.000000\" font-size=\"6.000000\" text-anchor=\"start\">1</text>\n",
       "<path d=\"M 10 125 L 25 125\" fill=\"none\" stroke=\"darkred\" stroke-width=\"3.000000\" stroke-linejoin=\"miter\"/>\n",
       "<text x=\"0.000000\" y=\"125.000000\" font-size=\"6.000000\" text-anchor=\"start\">2</text>\n",
       "<path d=\"M 10 175 L 25 175\" fill=\"none\" stroke=\"darkred\" stroke-width=\"3.000000\" stroke-linejoin=\"miter\"/>\n",
       "<text x=\"0.000000\" y=\"175.000000\" font-size=\"6.000000\" text-anchor=\"start\">3</text>\n",
       "<path d=\"M 10 225 L 25 225\" fill=\"none\" stroke=\"darkred\" stroke-width=\"3.000000\" stroke-linejoin=\"miter\"/>\n",
       "<text x=\"0.000000\" y=\"225.000000\" font-size=\"6.000000\" text-anchor=\"start\">4</text>\n",
       "<polyline points=\"25 25 75 25\" fill=\"transparent\"stroke=\"darkred\" stroke-width=\"3.000000\" stroke-linejoin=\"miter\" />\n",
       "<polyline points=\"30 40 39 40 53 10 44 10 30 40 39 40 30 40\" fill=\"gray\" stroke=\"black\" stroke-width=\"1.000000\" stroke_linejoin=\"miter\" />\n",
       "<text x=\"47.000000\" y=\"38.000000\" font-size=\"7.000000\" text-anchor=\"start\">φ=1.967242</text>\n",
       "<polyline points=\"25 75 75 75\" fill=\"transparent\"stroke=\"darkred\" stroke-width=\"3.000000\" stroke-linejoin=\"miter\" />\n",
       "<polyline points=\"30 90 39 90 53 60 44 60 30 90 39 90 30 90\" fill=\"gray\" stroke=\"black\" stroke-width=\"1.000000\" stroke_linejoin=\"miter\" />\n",
       "<text x=\"47.000000\" y=\"88.000000\" font-size=\"7.000000\" text-anchor=\"start\">φ=4.756805</text>\n",
       "<polyline points=\"25 125 75 125\" fill=\"transparent\"stroke=\"darkred\" stroke-width=\"3.000000\" stroke-linejoin=\"miter\" />\n",
       "<polyline points=\"30 140 39 140 53 110 44 110 30 140 39 140 30 140\" fill=\"gray\" stroke=\"black\" stroke-width=\"1.000000\" stroke_linejoin=\"miter\" />\n",
       "<text x=\"47.000000\" y=\"138.000000\" font-size=\"7.000000\" text-anchor=\"start\">φ=0.817886</text>\n",
       "<polyline points=\"25 175 75 175\" fill=\"transparent\"stroke=\"darkred\" stroke-width=\"3.000000\" stroke-linejoin=\"miter\" />\n",
       "<polyline points=\"30 190 39 190 53 160 44 160 30 190 39 190 30 190\" fill=\"gray\" stroke=\"black\" stroke-width=\"1.000000\" stroke_linejoin=\"miter\" />\n",
       "<text x=\"47.000000\" y=\"188.000000\" font-size=\"7.000000\" text-anchor=\"start\">φ=0.23513</text>\n",
       "<polyline points=\"25 225 75 225\" fill=\"transparent\"stroke=\"darkred\" stroke-width=\"3.000000\" stroke-linejoin=\"miter\" />\n",
       "<polyline points=\"30 240 39 240 53 210 44 210 30 240 39 240 30 240\" fill=\"gray\" stroke=\"black\" stroke-width=\"1.000000\" stroke_linejoin=\"miter\" />\n",
       "<text x=\"47.000000\" y=\"238.000000\" font-size=\"7.000000\" text-anchor=\"start\">φ=3.35455</text>\n",
       "<polyline points=\"75 25 103 25 122 44\" fill=\"transparent\"stroke=\"darkred\" stroke-width=\"3.000000\" stroke-linejoin=\"round\" />\n",
       "<polyline points=\"128 44 147 25 175 25\" fill=\"transparent\"stroke=\"darkred\" stroke-width=\"3.000000\" stroke-linejoin=\"round\" />\n",
       "<polyline points=\"75 75 103 75 122 56\" fill=\"transparent\"stroke=\"darkred\" stroke-width=\"3.000000\" stroke-linejoin=\"round\" />\n",
       "<polyline points=\"128 56 147 75 175 75\" fill=\"transparent\"stroke=\"darkred\" stroke-width=\"3.000000\" stroke-linejoin=\"round\" />\n",
       "<polyline points=\"100 43 150 43 150 57 100 57 100 43\" fill=\"black\" stroke=\"black\" stroke-width=\"1.000000\" stroke_linejoin=\"miter\" />\n",
       "<text x=\"125.000000\" y=\"86.000000\" font-size=\"7.000000\" text-anchor=\"middle\"></text>\n",
       "<text x=\"125.000000\" y=\"26.000000\" font-size=\"7.000000\" text-anchor=\"middle\">theta=theta_0</text>\n",
       "<polyline points=\"100 43 150 43 150 47 100 47 100 43\" fill=\"lightgray\" stroke=\"black\" stroke-width=\"1.000000\" stroke_linejoin=\"miter\" />\n",
       "<polyline points=\"175 25 225 25\" fill=\"transparent\"stroke=\"darkred\" stroke-width=\"3.000000\" stroke-linejoin=\"miter\" />\n",
       "<polyline points=\"180 40 189 40 203 10 194 10 180 40 189 40 180 40\" fill=\"gray\" stroke=\"black\" stroke-width=\"1.000000\" stroke_linejoin=\"miter\" />\n",
       "<text x=\"197.000000\" y=\"38.000000\" font-size=\"7.000000\" text-anchor=\"start\">φ=5.118265</text>\n",
       "<polyline points=\"75 125 103 125 122 144\" fill=\"transparent\"stroke=\"darkred\" stroke-width=\"3.000000\" stroke-linejoin=\"round\" />\n",
       "<polyline points=\"128 144 147 125 175 125\" fill=\"transparent\"stroke=\"darkred\" stroke-width=\"3.000000\" stroke-linejoin=\"round\" />\n",
       "<polyline points=\"75 175 103 175 122 156\" fill=\"transparent\"stroke=\"darkred\" stroke-width=\"3.000000\" stroke-linejoin=\"round\" />\n",
       "<polyline points=\"128 156 147 175 175 175\" fill=\"transparent\"stroke=\"darkred\" stroke-width=\"3.000000\" stroke-linejoin=\"round\" />\n",
       "<polyline points=\"100 143 150 143 150 157 100 157 100 143\" fill=\"black\" stroke=\"black\" stroke-width=\"1.000000\" stroke_linejoin=\"miter\" />\n",
       "<text x=\"125.000000\" y=\"186.000000\" font-size=\"7.000000\" text-anchor=\"middle\"></text>\n",
       "<text x=\"125.000000\" y=\"126.000000\" font-size=\"7.000000\" text-anchor=\"middle\">theta=theta_1</text>\n",
       "<polyline points=\"100 143 150 143 150 147 100 147 100 143\" fill=\"lightgray\" stroke=\"black\" stroke-width=\"1.000000\" stroke_linejoin=\"miter\" />\n",
       "<polyline points=\"175 125 225 125\" fill=\"transparent\"stroke=\"darkred\" stroke-width=\"3.000000\" stroke-linejoin=\"miter\" />\n",
       "<polyline points=\"180 140 189 140 203 110 194 110 180 140 189 140 180 140\" fill=\"gray\" stroke=\"black\" stroke-width=\"1.000000\" stroke_linejoin=\"miter\" />\n",
       "<text x=\"197.000000\" y=\"138.000000\" font-size=\"7.000000\" text-anchor=\"start\">φ=5.393136</text>\n",
       "<polyline points=\"175 75 225 75\" fill=\"transparent\"stroke=\"darkred\" stroke-width=\"3.000000\" stroke-linejoin=\"miter\" />\n",
       "<polyline points=\"225 75 253 75 272 94\" fill=\"transparent\"stroke=\"darkred\" stroke-width=\"3.000000\" stroke-linejoin=\"round\" />\n",
       "<polyline points=\"278 94 297 75 325 75\" fill=\"transparent\"stroke=\"darkred\" stroke-width=\"3.000000\" stroke-linejoin=\"round\" />\n",
       "<polyline points=\"225 125 253 125 272 106\" fill=\"transparent\"stroke=\"darkred\" stroke-width=\"3.000000\" stroke-linejoin=\"round\" />\n",
       "<polyline points=\"278 106 297 125 325 125\" fill=\"transparent\"stroke=\"darkred\" stroke-width=\"3.000000\" stroke-linejoin=\"round\" />\n",
       "<polyline points=\"250 93 300 93 300 107 250 107 250 93\" fill=\"black\" stroke=\"black\" stroke-width=\"1.000000\" stroke_linejoin=\"miter\" />\n",
       "<text x=\"275.000000\" y=\"136.000000\" font-size=\"7.000000\" text-anchor=\"middle\"></text>\n",
       "<text x=\"275.000000\" y=\"76.000000\" font-size=\"7.000000\" text-anchor=\"middle\">theta=theta_2</text>\n",
       "<polyline points=\"250 93 300 93 300 97 250 97 250 93\" fill=\"lightgray\" stroke=\"black\" stroke-width=\"1.000000\" stroke_linejoin=\"miter\" />\n",
       "<polyline points=\"325 75 375 75\" fill=\"transparent\"stroke=\"darkred\" stroke-width=\"3.000000\" stroke-linejoin=\"miter\" />\n",
       "<polyline points=\"330 90 339 90 353 60 344 60 330 90 339 90 330 90\" fill=\"gray\" stroke=\"black\" stroke-width=\"1.000000\" stroke_linejoin=\"miter\" />\n",
       "<text x=\"347.000000\" y=\"88.000000\" font-size=\"7.000000\" text-anchor=\"start\">φ=2.102085</text>\n",
       "<polyline points=\"75 225 175 225\" fill=\"transparent\"stroke=\"darkred\" stroke-width=\"3.000000\" stroke-linejoin=\"miter\" />\n",
       "<polyline points=\"175 175 203 175 222 194\" fill=\"transparent\"stroke=\"darkred\" stroke-width=\"3.000000\" stroke-linejoin=\"round\" />\n",
       "<polyline points=\"228 194 247 175 275 175\" fill=\"transparent\"stroke=\"darkred\" stroke-width=\"3.000000\" stroke-linejoin=\"round\" />\n",
       "<polyline points=\"175 225 203 225 222 206\" fill=\"transparent\"stroke=\"darkred\" stroke-width=\"3.000000\" stroke-linejoin=\"round\" />\n",
       "<polyline points=\"228 206 247 225 275 225\" fill=\"transparent\"stroke=\"darkred\" stroke-width=\"3.000000\" stroke-linejoin=\"round\" />\n",
       "<polyline points=\"200 193 250 193 250 207 200 207 200 193\" fill=\"black\" stroke=\"black\" stroke-width=\"1.000000\" stroke_linejoin=\"miter\" />\n",
       "<text x=\"225.000000\" y=\"236.000000\" font-size=\"7.000000\" text-anchor=\"middle\"></text>\n",
       "<text x=\"225.000000\" y=\"176.000000\" font-size=\"7.000000\" text-anchor=\"middle\">theta=theta_3</text>\n",
       "<polyline points=\"200 193 250 193 250 197 200 197 200 193\" fill=\"lightgray\" stroke=\"black\" stroke-width=\"1.000000\" stroke_linejoin=\"miter\" />\n",
       "<polyline points=\"275 175 325 175\" fill=\"transparent\"stroke=\"darkred\" stroke-width=\"3.000000\" stroke-linejoin=\"miter\" />\n",
       "<polyline points=\"280 190 289 190 303 160 294 160 280 190 289 190 280 190\" fill=\"gray\" stroke=\"black\" stroke-width=\"1.000000\" stroke_linejoin=\"miter\" />\n",
       "<text x=\"297.000000\" y=\"188.000000\" font-size=\"7.000000\" text-anchor=\"start\">φ=0.457005</text>\n",
       "<polyline points=\"225 25 375 25\" fill=\"transparent\"stroke=\"darkred\" stroke-width=\"3.000000\" stroke-linejoin=\"miter\" />\n",
       "<polyline points=\"375 25 403 25 422 44\" fill=\"transparent\"stroke=\"darkred\" stroke-width=\"3.000000\" stroke-linejoin=\"round\" />\n",
       "<polyline points=\"428 44 447 25 475 25\" fill=\"transparent\"stroke=\"darkred\" stroke-width=\"3.000000\" stroke-linejoin=\"round\" />\n",
       "<polyline points=\"375 75 403 75 422 56\" fill=\"transparent\"stroke=\"darkred\" stroke-width=\"3.000000\" stroke-linejoin=\"round\" />\n",
       "<polyline points=\"428 56 447 75 475 75\" fill=\"transparent\"stroke=\"darkred\" stroke-width=\"3.000000\" stroke-linejoin=\"round\" />\n",
       "<polyline points=\"400 43 450 43 450 57 400 57 400 43\" fill=\"black\" stroke=\"black\" stroke-width=\"1.000000\" stroke_linejoin=\"miter\" />\n",
       "<text x=\"425.000000\" y=\"86.000000\" font-size=\"7.000000\" text-anchor=\"middle\"></text>\n",
       "<text x=\"425.000000\" y=\"26.000000\" font-size=\"7.000000\" text-anchor=\"middle\">theta=theta_4</text>\n",
       "<polyline points=\"400 43 450 43 450 47 400 47 400 43\" fill=\"lightgray\" stroke=\"black\" stroke-width=\"1.000000\" stroke_linejoin=\"miter\" />\n",
       "<polyline points=\"475 25 525 25\" fill=\"transparent\"stroke=\"darkred\" stroke-width=\"3.000000\" stroke-linejoin=\"miter\" />\n",
       "<polyline points=\"480 40 489 40 503 10 494 10 480 40 489 40 480 40\" fill=\"gray\" stroke=\"black\" stroke-width=\"1.000000\" stroke_linejoin=\"miter\" />\n",
       "<text x=\"497.000000\" y=\"38.000000\" font-size=\"7.000000\" text-anchor=\"start\">φ=3.064199</text>\n",
       "<polyline points=\"325 125 353 125 372 144\" fill=\"transparent\"stroke=\"darkred\" stroke-width=\"3.000000\" stroke-linejoin=\"round\" />\n",
       "<polyline points=\"378 144 397 125 425 125\" fill=\"transparent\"stroke=\"darkred\" stroke-width=\"3.000000\" stroke-linejoin=\"round\" />\n",
       "<polyline points=\"325 175 353 175 372 156\" fill=\"transparent\"stroke=\"darkred\" stroke-width=\"3.000000\" stroke-linejoin=\"round\" />\n",
       "<polyline points=\"378 156 397 175 425 175\" fill=\"transparent\"stroke=\"darkred\" stroke-width=\"3.000000\" stroke-linejoin=\"round\" />\n",
       "<polyline points=\"350 143 400 143 400 157 350 157 350 143\" fill=\"black\" stroke=\"black\" stroke-width=\"1.000000\" stroke_linejoin=\"miter\" />\n",
       "<text x=\"375.000000\" y=\"186.000000\" font-size=\"7.000000\" text-anchor=\"middle\"></text>\n",
       "<text x=\"375.000000\" y=\"126.000000\" font-size=\"7.000000\" text-anchor=\"middle\">theta=theta_5</text>\n",
       "<polyline points=\"350 143 400 143 400 147 350 147 350 143\" fill=\"lightgray\" stroke=\"black\" stroke-width=\"1.000000\" stroke_linejoin=\"miter\" />\n",
       "<polyline points=\"425 125 475 125\" fill=\"transparent\"stroke=\"darkred\" stroke-width=\"3.000000\" stroke-linejoin=\"miter\" />\n",
       "<polyline points=\"430 140 439 140 453 110 444 110 430 140 439 140 430 140\" fill=\"gray\" stroke=\"black\" stroke-width=\"1.000000\" stroke_linejoin=\"miter\" />\n",
       "<text x=\"447.000000\" y=\"138.000000\" font-size=\"7.000000\" text-anchor=\"start\">φ=2.030188</text>\n",
       "<polyline points=\"475 75 503 75 522 94\" fill=\"transparent\"stroke=\"darkred\" stroke-width=\"3.000000\" stroke-linejoin=\"round\" />\n",
       "<polyline points=\"528 94 547 75 575 75\" fill=\"transparent\"stroke=\"darkred\" stroke-width=\"3.000000\" stroke-linejoin=\"round\" />\n",
       "<polyline points=\"475 125 503 125 522 106\" fill=\"transparent\"stroke=\"darkred\" stroke-width=\"3.000000\" stroke-linejoin=\"round\" />\n",
       "<polyline points=\"528 106 547 125 575 125\" fill=\"transparent\"stroke=\"darkred\" stroke-width=\"3.000000\" stroke-linejoin=\"round\" />\n",
       "<polyline points=\"500 93 550 93 550 107 500 107 500 93\" fill=\"black\" stroke=\"black\" stroke-width=\"1.000000\" stroke_linejoin=\"miter\" />\n",
       "<text x=\"525.000000\" y=\"136.000000\" font-size=\"7.000000\" text-anchor=\"middle\"></text>\n",
       "<text x=\"525.000000\" y=\"76.000000\" font-size=\"7.000000\" text-anchor=\"middle\">theta=theta_6</text>\n",
       "<polyline points=\"500 93 550 93 550 97 500 97 500 93\" fill=\"lightgray\" stroke=\"black\" stroke-width=\"1.000000\" stroke_linejoin=\"miter\" />\n",
       "<polyline points=\"575 75 625 75\" fill=\"transparent\"stroke=\"darkred\" stroke-width=\"3.000000\" stroke-linejoin=\"miter\" />\n",
       "<polyline points=\"580 90 589 90 603 60 594 60 580 90 589 90 580 90\" fill=\"gray\" stroke=\"black\" stroke-width=\"1.000000\" stroke_linejoin=\"miter\" />\n",
       "<text x=\"597.000000\" y=\"88.000000\" font-size=\"7.000000\" text-anchor=\"start\">φ=4.766071</text>\n",
       "<polyline points=\"275 225 425 225\" fill=\"transparent\"stroke=\"darkred\" stroke-width=\"3.000000\" stroke-linejoin=\"miter\" />\n",
       "<polyline points=\"425 175 453 175 472 194\" fill=\"transparent\"stroke=\"darkred\" stroke-width=\"3.000000\" stroke-linejoin=\"round\" />\n",
       "<polyline points=\"478 194 497 175 525 175\" fill=\"transparent\"stroke=\"darkred\" stroke-width=\"3.000000\" stroke-linejoin=\"round\" />\n",
       "<polyline points=\"425 225 453 225 472 206\" fill=\"transparent\"stroke=\"darkred\" stroke-width=\"3.000000\" stroke-linejoin=\"round\" />\n",
       "<polyline points=\"478 206 497 225 525 225\" fill=\"transparent\"stroke=\"darkred\" stroke-width=\"3.000000\" stroke-linejoin=\"round\" />\n",
       "<polyline points=\"450 193 500 193 500 207 450 207 450 193\" fill=\"black\" stroke=\"black\" stroke-width=\"1.000000\" stroke_linejoin=\"miter\" />\n",
       "<text x=\"475.000000\" y=\"236.000000\" font-size=\"7.000000\" text-anchor=\"middle\"></text>\n",
       "<text x=\"475.000000\" y=\"176.000000\" font-size=\"7.000000\" text-anchor=\"middle\">theta=theta_7</text>\n",
       "<polyline points=\"450 193 500 193 500 197 450 197 450 193\" fill=\"lightgray\" stroke=\"black\" stroke-width=\"1.000000\" stroke_linejoin=\"miter\" />\n",
       "<polyline points=\"525 175 575 175\" fill=\"transparent\"stroke=\"darkred\" stroke-width=\"3.000000\" stroke-linejoin=\"miter\" />\n",
       "<polyline points=\"530 190 539 190 553 160 544 160 530 190 539 190 530 190\" fill=\"gray\" stroke=\"black\" stroke-width=\"1.000000\" stroke_linejoin=\"miter\" />\n",
       "<text x=\"547.000000\" y=\"188.000000\" font-size=\"7.000000\" text-anchor=\"start\">φ=3.649224</text>\n",
       "<polyline points=\"525 25 625 25\" fill=\"transparent\"stroke=\"darkred\" stroke-width=\"3.000000\" stroke-linejoin=\"miter\" />\n",
       "<polyline points=\"625 25 653 25 672 44\" fill=\"transparent\"stroke=\"darkred\" stroke-width=\"3.000000\" stroke-linejoin=\"round\" />\n",
       "<polyline points=\"678 44 697 25 725 25\" fill=\"transparent\"stroke=\"darkred\" stroke-width=\"3.000000\" stroke-linejoin=\"round\" />\n",
       "<polyline points=\"625 75 653 75 672 56\" fill=\"transparent\"stroke=\"darkred\" stroke-width=\"3.000000\" stroke-linejoin=\"round\" />\n",
       "<polyline points=\"678 56 697 75 725 75\" fill=\"transparent\"stroke=\"darkred\" stroke-width=\"3.000000\" stroke-linejoin=\"round\" />\n",
       "<polyline points=\"650 43 700 43 700 57 650 57 650 43\" fill=\"black\" stroke=\"black\" stroke-width=\"1.000000\" stroke_linejoin=\"miter\" />\n",
       "<text x=\"675.000000\" y=\"86.000000\" font-size=\"7.000000\" text-anchor=\"middle\"></text>\n",
       "<text x=\"675.000000\" y=\"26.000000\" font-size=\"7.000000\" text-anchor=\"middle\">theta=theta_8</text>\n",
       "<polyline points=\"650 43 700 43 700 47 650 47 650 43\" fill=\"lightgray\" stroke=\"black\" stroke-width=\"1.000000\" stroke_linejoin=\"miter\" />\n",
       "<polyline points=\"725 25 775 25\" fill=\"transparent\"stroke=\"darkred\" stroke-width=\"3.000000\" stroke-linejoin=\"miter\" />\n",
       "<polyline points=\"730 40 739 40 753 10 744 10 730 40 739 40 730 40\" fill=\"gray\" stroke=\"black\" stroke-width=\"1.000000\" stroke_linejoin=\"miter\" />\n",
       "<text x=\"747.000000\" y=\"38.000000\" font-size=\"7.000000\" text-anchor=\"start\">φ=1.825766</text>\n",
       "<polyline points=\"575 125 603 125 622 144\" fill=\"transparent\"stroke=\"darkred\" stroke-width=\"3.000000\" stroke-linejoin=\"round\" />\n",
       "<polyline points=\"628 144 647 125 675 125\" fill=\"transparent\"stroke=\"darkred\" stroke-width=\"3.000000\" stroke-linejoin=\"round\" />\n",
       "<polyline points=\"575 175 603 175 622 156\" fill=\"transparent\"stroke=\"darkred\" stroke-width=\"3.000000\" stroke-linejoin=\"round\" />\n",
       "<polyline points=\"628 156 647 175 675 175\" fill=\"transparent\"stroke=\"darkred\" stroke-width=\"3.000000\" stroke-linejoin=\"round\" />\n",
       "<polyline points=\"600 143 650 143 650 157 600 157 600 143\" fill=\"black\" stroke=\"black\" stroke-width=\"1.000000\" stroke_linejoin=\"miter\" />\n",
       "<text x=\"625.000000\" y=\"186.000000\" font-size=\"7.000000\" text-anchor=\"middle\"></text>\n",
       "<text x=\"625.000000\" y=\"126.000000\" font-size=\"7.000000\" text-anchor=\"middle\">theta=theta_9</text>\n",
       "<polyline points=\"600 143 650 143 650 147 600 147 600 143\" fill=\"lightgray\" stroke=\"black\" stroke-width=\"1.000000\" stroke_linejoin=\"miter\" />\n",
       "<polyline points=\"675 125 725 125\" fill=\"transparent\"stroke=\"darkred\" stroke-width=\"3.000000\" stroke-linejoin=\"miter\" />\n",
       "<polyline points=\"680 140 689 140 703 110 694 110 680 140 689 140 680 140\" fill=\"gray\" stroke=\"black\" stroke-width=\"1.000000\" stroke_linejoin=\"miter\" />\n",
       "<text x=\"697.000000\" y=\"138.000000\" font-size=\"7.000000\" text-anchor=\"start\">φ=0.212454</text>\n",
       "<polyline points=\"725 75 753 75 772 94\" fill=\"transparent\"stroke=\"darkred\" stroke-width=\"3.000000\" stroke-linejoin=\"round\" />\n",
       "<polyline points=\"778 94 797 75 825 75\" fill=\"transparent\"stroke=\"darkred\" stroke-width=\"3.000000\" stroke-linejoin=\"round\" />\n",
       "<polyline points=\"725 125 753 125 772 106\" fill=\"transparent\"stroke=\"darkred\" stroke-width=\"3.000000\" stroke-linejoin=\"round\" />\n",
       "<polyline points=\"778 106 797 125 825 125\" fill=\"transparent\"stroke=\"darkred\" stroke-width=\"3.000000\" stroke-linejoin=\"round\" />\n",
       "<polyline points=\"750 93 800 93 800 107 750 107 750 93\" fill=\"black\" stroke=\"black\" stroke-width=\"1.000000\" stroke_linejoin=\"miter\" />\n",
       "<text x=\"775.000000\" y=\"136.000000\" font-size=\"7.000000\" text-anchor=\"middle\"></text>\n",
       "<text x=\"775.000000\" y=\"76.000000\" font-size=\"7.000000\" text-anchor=\"middle\">theta=theta_10</text>\n",
       "<polyline points=\"750 93 800 93 800 97 750 97 750 93\" fill=\"lightgray\" stroke=\"black\" stroke-width=\"1.000000\" stroke_linejoin=\"miter\" />\n",
       "<polyline points=\"825 75 875 75\" fill=\"transparent\"stroke=\"darkred\" stroke-width=\"3.000000\" stroke-linejoin=\"miter\" />\n",
       "<polyline points=\"830 90 839 90 853 60 844 60 830 90 839 90 830 90\" fill=\"gray\" stroke=\"black\" stroke-width=\"1.000000\" stroke_linejoin=\"miter\" />\n",
       "<text x=\"847.000000\" y=\"88.000000\" font-size=\"7.000000\" text-anchor=\"start\">φ=1.075863</text>\n",
       "<polyline points=\"525 225 675 225\" fill=\"transparent\"stroke=\"darkred\" stroke-width=\"3.000000\" stroke-linejoin=\"miter\" />\n",
       "<polyline points=\"675 175 703 175 722 194\" fill=\"transparent\"stroke=\"darkred\" stroke-width=\"3.000000\" stroke-linejoin=\"round\" />\n",
       "<polyline points=\"728 194 747 175 775 175\" fill=\"transparent\"stroke=\"darkred\" stroke-width=\"3.000000\" stroke-linejoin=\"round\" />\n",
       "<polyline points=\"675 225 703 225 722 206\" fill=\"transparent\"stroke=\"darkred\" stroke-width=\"3.000000\" stroke-linejoin=\"round\" />\n",
       "<polyline points=\"728 206 747 225 775 225\" fill=\"transparent\"stroke=\"darkred\" stroke-width=\"3.000000\" stroke-linejoin=\"round\" />\n",
       "<polyline points=\"700 193 750 193 750 207 700 207 700 193\" fill=\"black\" stroke=\"black\" stroke-width=\"1.000000\" stroke_linejoin=\"miter\" />\n",
       "<text x=\"725.000000\" y=\"236.000000\" font-size=\"7.000000\" text-anchor=\"middle\"></text>\n",
       "<text x=\"725.000000\" y=\"176.000000\" font-size=\"7.000000\" text-anchor=\"middle\">theta=theta_11</text>\n",
       "<polyline points=\"700 193 750 193 750 197 700 197 700 193\" fill=\"lightgray\" stroke=\"black\" stroke-width=\"1.000000\" stroke_linejoin=\"miter\" />\n",
       "<polyline points=\"775 175 825 175\" fill=\"transparent\"stroke=\"darkred\" stroke-width=\"3.000000\" stroke-linejoin=\"miter\" />\n",
       "<polyline points=\"780 190 789 190 803 160 794 160 780 190 789 190 780 190\" fill=\"gray\" stroke=\"black\" stroke-width=\"1.000000\" stroke_linejoin=\"miter\" />\n",
       "<text x=\"797.000000\" y=\"188.000000\" font-size=\"7.000000\" text-anchor=\"start\">φ=0.0841</text>\n",
       "<polyline points=\"775 25 875 25\" fill=\"transparent\"stroke=\"darkred\" stroke-width=\"3.000000\" stroke-linejoin=\"miter\" />\n",
       "<polyline points=\"875 25 903 25 922 44\" fill=\"transparent\"stroke=\"darkred\" stroke-width=\"3.000000\" stroke-linejoin=\"round\" />\n",
       "<polyline points=\"928 44 947 25 975 25\" fill=\"transparent\"stroke=\"darkred\" stroke-width=\"3.000000\" stroke-linejoin=\"round\" />\n",
       "<polyline points=\"875 75 903 75 922 56\" fill=\"transparent\"stroke=\"darkred\" stroke-width=\"3.000000\" stroke-linejoin=\"round\" />\n",
       "<polyline points=\"928 56 947 75 975 75\" fill=\"transparent\"stroke=\"darkred\" stroke-width=\"3.000000\" stroke-linejoin=\"round\" />\n",
       "<polyline points=\"900 43 950 43 950 57 900 57 900 43\" fill=\"black\" stroke=\"black\" stroke-width=\"1.000000\" stroke_linejoin=\"miter\" />\n",
       "<text x=\"925.000000\" y=\"86.000000\" font-size=\"7.000000\" text-anchor=\"middle\"></text>\n",
       "<text x=\"925.000000\" y=\"26.000000\" font-size=\"7.000000\" text-anchor=\"middle\">theta=theta_12</text>\n",
       "<polyline points=\"900 43 950 43 950 47 900 47 900 43\" fill=\"lightgray\" stroke=\"black\" stroke-width=\"1.000000\" stroke_linejoin=\"miter\" />\n",
       "<polyline points=\"975 25 1025 25\" fill=\"transparent\"stroke=\"darkred\" stroke-width=\"3.000000\" stroke-linejoin=\"miter\" />\n",
       "<polyline points=\"980 40 989 40 1003 10 994 10 980 40 989 40 980 40\" fill=\"gray\" stroke=\"black\" stroke-width=\"1.000000\" stroke_linejoin=\"miter\" />\n",
       "<text x=\"997.000000\" y=\"38.000000\" font-size=\"7.000000\" text-anchor=\"start\">φ=3.169751</text>\n",
       "<polyline points=\"825 125 853 125 872 144\" fill=\"transparent\"stroke=\"darkred\" stroke-width=\"3.000000\" stroke-linejoin=\"round\" />\n",
       "<polyline points=\"878 144 897 125 925 125\" fill=\"transparent\"stroke=\"darkred\" stroke-width=\"3.000000\" stroke-linejoin=\"round\" />\n",
       "<polyline points=\"825 175 853 175 872 156\" fill=\"transparent\"stroke=\"darkred\" stroke-width=\"3.000000\" stroke-linejoin=\"round\" />\n",
       "<polyline points=\"878 156 897 175 925 175\" fill=\"transparent\"stroke=\"darkred\" stroke-width=\"3.000000\" stroke-linejoin=\"round\" />\n",
       "<polyline points=\"850 143 900 143 900 157 850 157 850 143\" fill=\"black\" stroke=\"black\" stroke-width=\"1.000000\" stroke_linejoin=\"miter\" />\n",
       "<text x=\"875.000000\" y=\"186.000000\" font-size=\"7.000000\" text-anchor=\"middle\"></text>\n",
       "<text x=\"875.000000\" y=\"126.000000\" font-size=\"7.000000\" text-anchor=\"middle\">theta=theta_13</text>\n",
       "<polyline points=\"850 143 900 143 900 147 850 147 850 143\" fill=\"lightgray\" stroke=\"black\" stroke-width=\"1.000000\" stroke_linejoin=\"miter\" />\n",
       "<polyline points=\"925 125 975 125\" fill=\"transparent\"stroke=\"darkred\" stroke-width=\"3.000000\" stroke-linejoin=\"miter\" />\n",
       "<polyline points=\"930 140 939 140 953 110 944 110 930 140 939 140 930 140\" fill=\"gray\" stroke=\"black\" stroke-width=\"1.000000\" stroke_linejoin=\"miter\" />\n",
       "<text x=\"947.000000\" y=\"138.000000\" font-size=\"7.000000\" text-anchor=\"start\">φ=5.802226</text>\n",
       "<polyline points=\"975 75 1003 75 1022 94\" fill=\"transparent\"stroke=\"darkred\" stroke-width=\"3.000000\" stroke-linejoin=\"round\" />\n",
       "<polyline points=\"1028 94 1047 75 1075 75\" fill=\"transparent\"stroke=\"darkred\" stroke-width=\"3.000000\" stroke-linejoin=\"round\" />\n",
       "<polyline points=\"975 125 1003 125 1022 106\" fill=\"transparent\"stroke=\"darkred\" stroke-width=\"3.000000\" stroke-linejoin=\"round\" />\n",
       "<polyline points=\"1028 106 1047 125 1075 125\" fill=\"transparent\"stroke=\"darkred\" stroke-width=\"3.000000\" stroke-linejoin=\"round\" />\n",
       "<polyline points=\"1000 93 1050 93 1050 107 1000 107 1000 93\" fill=\"black\" stroke=\"black\" stroke-width=\"1.000000\" stroke_linejoin=\"miter\" />\n",
       "<text x=\"1025.000000\" y=\"136.000000\" font-size=\"7.000000\" text-anchor=\"middle\"></text>\n",
       "<text x=\"1025.000000\" y=\"76.000000\" font-size=\"7.000000\" text-anchor=\"middle\">theta=theta_14</text>\n",
       "<polyline points=\"1000 93 1050 93 1050 97 1000 97 1000 93\" fill=\"lightgray\" stroke=\"black\" stroke-width=\"1.000000\" stroke_linejoin=\"miter\" />\n",
       "<polyline points=\"1075 75 1125 75\" fill=\"transparent\"stroke=\"darkred\" stroke-width=\"3.000000\" stroke-linejoin=\"miter\" />\n",
       "<polyline points=\"1080 90 1089 90 1103 60 1094 60 1080 90 1089 90 1080 90\" fill=\"gray\" stroke=\"black\" stroke-width=\"1.000000\" stroke_linejoin=\"miter\" />\n",
       "<text x=\"1097.000000\" y=\"88.000000\" font-size=\"7.000000\" text-anchor=\"start\">φ=1.181686</text>\n",
       "<polyline points=\"775 225 925 225\" fill=\"transparent\"stroke=\"darkred\" stroke-width=\"3.000000\" stroke-linejoin=\"miter\" />\n",
       "<polyline points=\"925 175 953 175 972 194\" fill=\"transparent\"stroke=\"darkred\" stroke-width=\"3.000000\" stroke-linejoin=\"round\" />\n",
       "<polyline points=\"978 194 997 175 1025 175\" fill=\"transparent\"stroke=\"darkred\" stroke-width=\"3.000000\" stroke-linejoin=\"round\" />\n",
       "<polyline points=\"925 225 953 225 972 206\" fill=\"transparent\"stroke=\"darkred\" stroke-width=\"3.000000\" stroke-linejoin=\"round\" />\n",
       "<polyline points=\"978 206 997 225 1025 225\" fill=\"transparent\"stroke=\"darkred\" stroke-width=\"3.000000\" stroke-linejoin=\"round\" />\n",
       "<polyline points=\"950 193 1000 193 1000 207 950 207 950 193\" fill=\"black\" stroke=\"black\" stroke-width=\"1.000000\" stroke_linejoin=\"miter\" />\n",
       "<text x=\"975.000000\" y=\"236.000000\" font-size=\"7.000000\" text-anchor=\"middle\"></text>\n",
       "<text x=\"975.000000\" y=\"176.000000\" font-size=\"7.000000\" text-anchor=\"middle\">theta=theta_15</text>\n",
       "<polyline points=\"950 193 1000 193 1000 197 950 197 950 193\" fill=\"lightgray\" stroke=\"black\" stroke-width=\"1.000000\" stroke_linejoin=\"miter\" />\n",
       "<polyline points=\"1025 175 1075 175\" fill=\"transparent\"stroke=\"darkred\" stroke-width=\"3.000000\" stroke-linejoin=\"miter\" />\n",
       "<polyline points=\"1030 190 1039 190 1053 160 1044 160 1030 190 1039 190 1030 190\" fill=\"gray\" stroke=\"black\" stroke-width=\"1.000000\" stroke_linejoin=\"miter\" />\n",
       "<text x=\"1047.000000\" y=\"188.000000\" font-size=\"7.000000\" text-anchor=\"start\">φ=5.709137</text>\n",
       "<polyline points=\"1025 25 1125 25\" fill=\"transparent\"stroke=\"darkred\" stroke-width=\"3.000000\" stroke-linejoin=\"miter\" />\n",
       "<polyline points=\"1125 25 1153 25 1172 44\" fill=\"transparent\"stroke=\"darkred\" stroke-width=\"3.000000\" stroke-linejoin=\"round\" />\n",
       "<polyline points=\"1178 44 1197 25 1225 25\" fill=\"transparent\"stroke=\"darkred\" stroke-width=\"3.000000\" stroke-linejoin=\"round\" />\n",
       "<polyline points=\"1125 75 1153 75 1172 56\" fill=\"transparent\"stroke=\"darkred\" stroke-width=\"3.000000\" stroke-linejoin=\"round\" />\n",
       "<polyline points=\"1178 56 1197 75 1225 75\" fill=\"transparent\"stroke=\"darkred\" stroke-width=\"3.000000\" stroke-linejoin=\"round\" />\n",
       "<polyline points=\"1150 43 1200 43 1200 57 1150 57 1150 43\" fill=\"black\" stroke=\"black\" stroke-width=\"1.000000\" stroke_linejoin=\"miter\" />\n",
       "<text x=\"1175.000000\" y=\"86.000000\" font-size=\"7.000000\" text-anchor=\"middle\"></text>\n",
       "<text x=\"1175.000000\" y=\"26.000000\" font-size=\"7.000000\" text-anchor=\"middle\">theta=theta_16</text>\n",
       "<polyline points=\"1150 43 1200 43 1200 47 1150 47 1150 43\" fill=\"lightgray\" stroke=\"black\" stroke-width=\"1.000000\" stroke_linejoin=\"miter\" />\n",
       "<polyline points=\"1225 25 1275 25\" fill=\"transparent\"stroke=\"darkred\" stroke-width=\"3.000000\" stroke-linejoin=\"miter\" />\n",
       "<polyline points=\"1230 40 1239 40 1253 10 1244 10 1230 40 1239 40 1230 40\" fill=\"gray\" stroke=\"black\" stroke-width=\"1.000000\" stroke_linejoin=\"miter\" />\n",
       "<text x=\"1247.000000\" y=\"38.000000\" font-size=\"7.000000\" text-anchor=\"start\">φ=0.659562</text>\n",
       "<polyline points=\"1075 125 1103 125 1122 144\" fill=\"transparent\"stroke=\"darkred\" stroke-width=\"3.000000\" stroke-linejoin=\"round\" />\n",
       "<polyline points=\"1128 144 1147 125 1175 125\" fill=\"transparent\"stroke=\"darkred\" stroke-width=\"3.000000\" stroke-linejoin=\"round\" />\n",
       "<polyline points=\"1075 175 1103 175 1122 156\" fill=\"transparent\"stroke=\"darkred\" stroke-width=\"3.000000\" stroke-linejoin=\"round\" />\n",
       "<polyline points=\"1128 156 1147 175 1175 175\" fill=\"transparent\"stroke=\"darkred\" stroke-width=\"3.000000\" stroke-linejoin=\"round\" />\n",
       "<polyline points=\"1100 143 1150 143 1150 157 1100 157 1100 143\" fill=\"black\" stroke=\"black\" stroke-width=\"1.000000\" stroke_linejoin=\"miter\" />\n",
       "<text x=\"1125.000000\" y=\"186.000000\" font-size=\"7.000000\" text-anchor=\"middle\"></text>\n",
       "<text x=\"1125.000000\" y=\"126.000000\" font-size=\"7.000000\" text-anchor=\"middle\">theta=theta_17</text>\n",
       "<polyline points=\"1100 143 1150 143 1150 147 1100 147 1100 143\" fill=\"lightgray\" stroke=\"black\" stroke-width=\"1.000000\" stroke_linejoin=\"miter\" />\n",
       "<polyline points=\"1175 125 1225 125\" fill=\"transparent\"stroke=\"darkred\" stroke-width=\"3.000000\" stroke-linejoin=\"miter\" />\n",
       "<polyline points=\"1180 140 1189 140 1203 110 1194 110 1180 140 1189 140 1180 140\" fill=\"gray\" stroke=\"black\" stroke-width=\"1.000000\" stroke_linejoin=\"miter\" />\n",
       "<text x=\"1197.000000\" y=\"138.000000\" font-size=\"7.000000\" text-anchor=\"start\">φ=0.343813</text>\n",
       "<polyline points=\"1225 75 1253 75 1272 94\" fill=\"transparent\"stroke=\"darkred\" stroke-width=\"3.000000\" stroke-linejoin=\"round\" />\n",
       "<polyline points=\"1278 94 1297 75 1325 75\" fill=\"transparent\"stroke=\"darkred\" stroke-width=\"3.000000\" stroke-linejoin=\"round\" />\n",
       "<polyline points=\"1225 125 1253 125 1272 106\" fill=\"transparent\"stroke=\"darkred\" stroke-width=\"3.000000\" stroke-linejoin=\"round\" />\n",
       "<polyline points=\"1278 106 1297 125 1325 125\" fill=\"transparent\"stroke=\"darkred\" stroke-width=\"3.000000\" stroke-linejoin=\"round\" />\n",
       "<polyline points=\"1250 93 1300 93 1300 107 1250 107 1250 93\" fill=\"black\" stroke=\"black\" stroke-width=\"1.000000\" stroke_linejoin=\"miter\" />\n",
       "<text x=\"1275.000000\" y=\"136.000000\" font-size=\"7.000000\" text-anchor=\"middle\"></text>\n",
       "<text x=\"1275.000000\" y=\"76.000000\" font-size=\"7.000000\" text-anchor=\"middle\">theta=theta_18</text>\n",
       "<polyline points=\"1250 93 1300 93 1300 97 1250 97 1250 93\" fill=\"lightgray\" stroke=\"black\" stroke-width=\"1.000000\" stroke_linejoin=\"miter\" />\n",
       "<polyline points=\"1325 75 1375 75\" fill=\"transparent\"stroke=\"darkred\" stroke-width=\"3.000000\" stroke-linejoin=\"miter\" />\n",
       "<polyline points=\"1330 90 1339 90 1353 60 1344 60 1330 90 1339 90 1330 90\" fill=\"gray\" stroke=\"black\" stroke-width=\"1.000000\" stroke_linejoin=\"miter\" />\n",
       "<text x=\"1347.000000\" y=\"88.000000\" font-size=\"7.000000\" text-anchor=\"start\">φ=4.953129</text>\n",
       "<polyline points=\"1025 225 1175 225\" fill=\"transparent\"stroke=\"darkred\" stroke-width=\"3.000000\" stroke-linejoin=\"miter\" />\n",
       "<polyline points=\"1175 175 1203 175 1222 194\" fill=\"transparent\"stroke=\"darkred\" stroke-width=\"3.000000\" stroke-linejoin=\"round\" />\n",
       "<polyline points=\"1228 194 1247 175 1275 175\" fill=\"transparent\"stroke=\"darkred\" stroke-width=\"3.000000\" stroke-linejoin=\"round\" />\n",
       "<polyline points=\"1175 225 1203 225 1222 206\" fill=\"transparent\"stroke=\"darkred\" stroke-width=\"3.000000\" stroke-linejoin=\"round\" />\n",
       "<polyline points=\"1228 206 1247 225 1275 225\" fill=\"transparent\"stroke=\"darkred\" stroke-width=\"3.000000\" stroke-linejoin=\"round\" />\n",
       "<polyline points=\"1200 193 1250 193 1250 207 1200 207 1200 193\" fill=\"black\" stroke=\"black\" stroke-width=\"1.000000\" stroke_linejoin=\"miter\" />\n",
       "<text x=\"1225.000000\" y=\"236.000000\" font-size=\"7.000000\" text-anchor=\"middle\"></text>\n",
       "<text x=\"1225.000000\" y=\"176.000000\" font-size=\"7.000000\" text-anchor=\"middle\">theta=theta_19</text>\n",
       "<polyline points=\"1200 193 1250 193 1250 197 1200 197 1200 193\" fill=\"lightgray\" stroke=\"black\" stroke-width=\"1.000000\" stroke_linejoin=\"miter\" />\n",
       "<polyline points=\"1275 175 1325 175\" fill=\"transparent\"stroke=\"darkred\" stroke-width=\"3.000000\" stroke-linejoin=\"miter\" />\n",
       "<polyline points=\"1280 190 1289 190 1303 160 1294 160 1280 190 1289 190 1280 190\" fill=\"gray\" stroke=\"black\" stroke-width=\"1.000000\" stroke_linejoin=\"miter\" />\n",
       "<text x=\"1297.000000\" y=\"188.000000\" font-size=\"7.000000\" text-anchor=\"start\">φ=2.796658</text>\n",
       "<polyline points=\"1275 25 1375 25\" fill=\"transparent\"stroke=\"darkred\" stroke-width=\"3.000000\" stroke-linejoin=\"miter\" />\n",
       "<polyline points=\"1325 125 1375 125\" fill=\"transparent\"stroke=\"darkred\" stroke-width=\"3.000000\" stroke-linejoin=\"miter\" />\n",
       "<polyline points=\"1325 175 1375 175\" fill=\"transparent\"stroke=\"darkred\" stroke-width=\"3.000000\" stroke-linejoin=\"miter\" />\n",
       "<polyline points=\"1275 225 1375 225\" fill=\"transparent\"stroke=\"darkred\" stroke-width=\"3.000000\" stroke-linejoin=\"miter\" />\n",
       "<path d=\"M 1375 25 L 1390 25\" fill=\"none\" stroke=\"darkred\" stroke-width=\"3.000000\" stroke-linejoin=\"miter\"/>\n",
       "<text x=\"1400.000000\" y=\"25.000000\" font-size=\"6.000000\" text-anchor=\"end\">0</text>\n",
       "<path d=\"M 1375 75 L 1390 75\" fill=\"none\" stroke=\"darkred\" stroke-width=\"3.000000\" stroke-linejoin=\"miter\"/>\n",
       "<text x=\"1400.000000\" y=\"75.000000\" font-size=\"6.000000\" text-anchor=\"end\">1</text>\n",
       "<path d=\"M 1375 125 L 1390 125\" fill=\"none\" stroke=\"darkred\" stroke-width=\"3.000000\" stroke-linejoin=\"miter\"/>\n",
       "<text x=\"1400.000000\" y=\"125.000000\" font-size=\"6.000000\" text-anchor=\"end\">2</text>\n",
       "<path d=\"M 1375 175 L 1390 175\" fill=\"none\" stroke=\"darkred\" stroke-width=\"3.000000\" stroke-linejoin=\"miter\"/>\n",
       "<text x=\"1400.000000\" y=\"175.000000\" font-size=\"6.000000\" text-anchor=\"end\">3</text>\n",
       "<path d=\"M 1375 225 L 1390 225\" fill=\"none\" stroke=\"darkred\" stroke-width=\"3.000000\" stroke-linejoin=\"miter\"/>\n",
       "<text x=\"1400.000000\" y=\"225.000000\" font-size=\"6.000000\" text-anchor=\"end\">4</text></svg>"
      ],
      "text/plain": [
       "<IPython.core.display.HTML object>"
      ]
     },
     "metadata": {},
     "output_type": "display_data"
    }
   ],
   "source": [
    "bs = pcvl.Circuit.generic_interferometer(N,\n",
    "                                         lambda idx : phys.BS(theta=pcvl.P(\"theta_%d\"%idx))//(0, phys.PS(phi=np.pi*2*random.random())),\n",
    "                                         shape=\"rectangle\",\n",
    "                                         depth = 2*N,\n",
    "                                         phase_shifter_fun_gen=lambda idx: phys.PS(phi=np.pi*2*random.random()))\n",
    "pcvl.pdisplay(bs, recursive = True)\n"
   ]
  },
  {
   "cell_type": "markdown",
   "id": "6059f2d3",
   "metadata": {},
   "source": [
    "# Minimizing infidelity"
   ]
  },
  {
   "cell_type": "markdown",
   "id": "8bb792d0",
   "metadata": {},
   "source": [
    "We start by defining a function which calculate the infidelity from the fidelity. The fidelity evaluate the performance of multiport interferometers $F=\\frac{\\lvert \\mathrm{Tr} ({U}^{\\dagger} U0) \\rvert²}{N\\mathrm{Tr}({U}^{\\dagger} U)}$. it compares the target unitary matrix U0 and the actual transfer matrix U realized by the interferometer, where N is the size of the matrices."
   ]
  },
  {
   "cell_type": "code",
   "execution_count": 4,
   "id": "2faecde6",
   "metadata": {},
   "outputs": [],
   "source": [
    "def infidelity(c, U0, params, params_value):\n",
    "    for idx, p in enumerate(params_value):\n",
    "        params[idx].set_value(p)\n",
    "    U = c.compute_unitary(False)\n",
    "    U_dag = np.transpose(np.conjugate(U))\n",
    "    f = abs(np.trace(U_dag @ U0)) ** 2 / (c.m * np.trace(U_dag @ U))\n",
    "    return 1 - abs(f)"
   ]
  },
  {
   "cell_type": "markdown",
   "id": "81adaa92",
   "metadata": {},
   "source": [
    "### Basinhopping algorithm"
   ]
  },
  {
   "cell_type": "markdown",
   "id": "fa4c270f",
   "metadata": {},
   "source": [
    "Then, we want to find phis $\\phi$ matching U0 by minimizing the infidelity. To do so, we used a numerical optimization algorithm based on the basinhopping algorithm to minimize infidelity 1-F. The algorithm was searching for a global minimum of infidelity 1 − F over the space of phase-shifts. [1]"
   ]
  },
  {
   "cell_type": "code",
   "execution_count": 5,
   "id": "49aecaa7",
   "metadata": {},
   "outputs": [],
   "source": [
    "def calculate_angle(index_unitary,U0,alpha):\n",
    "    start = time.time()\n",
    "    c = pcvl.Circuit.generic_interferometer(N,\n",
    "                                            lambda idx: (phys.BS(theta=(45+alpha)/180*np.pi)\n",
    "                                                            // (0, phys.PS(phi=pcvl.P(\"phi_m%d\" % idx)))),\n",
    "                                            depth=2*N,\n",
    "                                            phase_shifter_fun_gen=lambda idx: phys.PS(phi=pcvl.P(\"phi_r%d\" % idx))\n",
    "                                            )\n",
    "    params = c.get_parameters()\n",
    "\n",
    "    # goal is to find phis matching U0 - by minimizing fidelity\n",
    "    infidelities = []\n",
    "\n",
    "    for _ in range(n_try):\n",
    "        init_params = np.random.randn(len(params))\n",
    "        res = basinhopping(lambda x: infidelity(c, U0, params, x), init_params, stepsize=0.1, niter=n_iter)\n",
    "        infidelities.append(res.fun)\n",
    "    return min(infidelities)"
   ]
  },
  {
   "cell_type": "markdown",
   "id": "5fddbcf5",
   "metadata": {},
   "source": [
    "Based on the calculate_angle() function, we get the minimal infidelity value for each angle. Higher n_iter is, more the basinhopping algorithm explores the infidelity values."
   ]
  },
  {
   "cell_type": "markdown",
   "id": "a2b378aa",
   "metadata": {},
   "source": [
    "Now, we have an infidelity value for each angle and a list of those infidelities for each unitarian matrix U0 compared to the random transfer matrix U from BS-based circuit."
   ]
  },
  {
   "cell_type": "code",
   "execution_count": 6,
   "id": "f12a5609",
   "metadata": {},
   "outputs": [
    {
     "data": {
      "application/vnd.jupyter.widget-view+json": {
       "model_id": "482c5830c7b244cd90e9fb4c655be82e",
       "version_major": 2,
       "version_minor": 0
      },
      "text/plain": [
       "Unitary progress bar:   0%|          | 0/2 [00:00<?, ?it/s]"
      ]
     },
     "metadata": {},
     "output_type": "display_data"
    },
    {
     "data": {
      "application/vnd.jupyter.widget-view+json": {
       "model_id": "",
       "version_major": 2,
       "version_minor": 0
      },
      "text/plain": [
       "Angle progress bar unitary 1:   0%|          | 0/3 [00:00<?, ?it/s]"
      ]
     },
     "metadata": {},
     "output_type": "display_data"
    },
    {
     "data": {
      "application/vnd.jupyter.widget-view+json": {
       "model_id": "",
       "version_major": 2,
       "version_minor": 0
      },
      "text/plain": [
       "Angle progress bar unitary 2:   0%|          | 0/3 [00:00<?, ?it/s]"
      ]
     },
     "metadata": {},
     "output_type": "display_data"
    }
   ],
   "source": [
    "from tqdm.notebook import tqdm_notebook\n",
    "\n",
    "n_angles = (abs(angle_min)+abs(angle_max))/angle_step\n",
    "\n",
    "def discovery_unitary(index_unitary):\n",
    "    np.random.seed(int(10000*time.time()+os.getpid()) & 0xffffffff)\n",
    "    U0 = pcvl.Matrix.random_unitary(N)\n",
    "    l_infidelities = []\n",
    "    M=angle_min + math.ceil((angle_max-angle_min)/angle_step)*angle_step + 1\n",
    "\n",
    "    for alpha in tqdm_notebook(range(angle_min,M,angle_step), desc = \"Angle progress bar unitary {}\".format(index_unitary+1), leave=False):\n",
    "        l_infidelities.append(calculate_angle(index_unitary, U0, alpha))\n",
    "    return l_infidelities\n",
    "\n",
    "try:\n",
    "    os.remove(\"%s-%d.log\" % (logfilebs,N))\n",
    "except OSError:\n",
    "    pass\n",
    "\n",
    "for index_unitary in tqdm_notebook(range(n_unitary), desc = \"Unitary progress bar\"):\n",
    "    result = discovery_unitary(index_unitary)\n",
    "    e = datetime.datetime.now()\n",
    "    with open(\"%s-%d.log\" % (logfilebs,N), \"a\") as f:\n",
    "        f.write(e.strftime(\"%Y-%m-%d %H:%M:%S\")+\"\\t\")                \n",
    "        f.write(\"\\t\".join([\"%g\"%inf for inf in result]))\n",
    "        f.write(\"\\n\")"
   ]
  },
  {
   "cell_type": "markdown",
   "id": "c42f7fe3",
   "metadata": {},
   "source": [
    "# Data process"
   ]
  },
  {
   "cell_type": "markdown",
   "id": "a3f506da",
   "metadata": {},
   "source": [
    "In this section, we treat the previously collected infidelity values as a function of alpha. What could be better than a graph to illustrate our results?  "
   ]
  },
  {
   "cell_type": "markdown",
   "id": "9c4f8e3f",
   "metadata": {},
   "source": [
    "This is the data collected : \n",
    "Each lign starts with date and hour of collect and then, we have each minimal infidelity per alpha.\n",
    "A lign is a unitarian matrix."
   ]
  },
  {
   "cell_type": "code",
   "execution_count": 18,
   "id": "1fd3af77",
   "metadata": {},
   "outputs": [
    {
     "name": "stdout",
     "output_type": "stream",
     "text": [
      "2022-05-20 08:22:21\t0.119608\t7.03826e-10\t0.802393\n",
      "\n",
      "2022-05-20 08:25:49\t0.00692732\t1.32985e-09\t0.788542\n",
      "\n"
     ]
    }
   ],
   "source": [
    "with open(\"bsbased-opt-5.log\", \"r\") as filin:\n",
    "...     for ligne in filin:\n",
    "...         print(ligne)"
   ]
  },
  {
   "cell_type": "markdown",
   "id": "7a16480e",
   "metadata": {},
   "source": [
    "### Graph of the infidelity according to alpha in degree : BS-based"
   ]
  },
  {
   "cell_type": "markdown",
   "id": "25232b73",
   "metadata": {},
   "source": [
    "We want to plot the infidelity graph as a function of the alpha angle values. To do this, we compute the average of the infidelities by unit matrix U0. We put this average in a list."
   ]
  },
  {
   "cell_type": "code",
   "execution_count": 19,
   "id": "b8168095",
   "metadata": {},
   "outputs": [],
   "source": [
    "file = open(\"%s-%d.log\" % (logfilebs,N)).readlines()\n",
    "for i in range (len (file)):\n",
    "    file[i] = file[i].split(\"\\t\")\n",
    "\n",
    "for x in range (len(file)):\n",
    "    for i in range(1):\n",
    "        file[x].pop(0) \n",
    "\n",
    "final_file = [ ]\n",
    "summ = 0\n",
    "avrg = []\n",
    "\n",
    "for y in range (len(file[0])):\n",
    "    L = [ ]\n",
    "    summ = 0.0\n",
    "    for x in range(len(file)):\n",
    "        L.append(float(file[x][y].replace(\"\\n\",\"\")))\n",
    "        \n",
    "    for x in L:\n",
    "        summ+=float(x)\n",
    "    avrg.append(summ/len(L))\n",
    "    final_file.append(L)"
   ]
  },
  {
   "cell_type": "code",
   "execution_count": 20,
   "id": "4ce9d2d6",
   "metadata": {},
   "outputs": [
    {
     "data": {
      "text/plain": [
       "Text(0, 0.5, 'infidelity 1-F')"
      ]
     },
     "execution_count": 20,
     "metadata": {},
     "output_type": "execute_result"
    },
    {
     "data": {
      "image/png": "[encoded data removed]",
      "text/plain": [
       "<Figure size 432x288 with 1 Axes>"
      ]
     },
     "metadata": {
      "needs_background": "light"
     },
     "output_type": "display_data"
    }
   ],
   "source": [
    "import numpy as np\n",
    "import matplotlib.pyplot as plt\n",
    "\n",
    "#data\n",
    "x = np.linspace(-15, 35, len(avrg))\n",
    "Lmin=[min(l) for l in final_file]\n",
    "Lmax=[max(l) for l in final_file]\n",
    "\n",
    "#plot\n",
    "\"\"\"\n",
    "plt.plot(x,moy,'r')\n",
    "plt.plot(x,Lmin,'b--')\n",
    "plt.plot(x,Lmax,'y--')\n",
    "\"\"\"\n",
    "fig, ax = plt.subplots()\n",
    "\n",
    "ax.fill_between(x, Lmin, Lmax,alpha=.5,linewidth=0)\n",
    "ax.plot(x,avrg,linewidth=2)\n",
    "\n",
    "ax.set(xlim=(-15, 35),\n",
    "       ylim=(min(Lmin), max(Lmax)))\n",
    "ax.set_yscale('log')\n",
    "\n",
    "\n",
    "plt.plot(x,avrg,'r')\n",
    "plt.title(\"Infidelity(alpha) : BS\")\n",
    "plt.xlabel('alpha (degree)')\n",
    "plt.ylabel('infidelity 1-F')\n"
   ]
  },
  {
   "cell_type": "markdown",
   "id": "e35027ee",
   "metadata": {},
   "source": [
    "# 2- MZI-based"
   ]
  },
  {
   "cell_type": "markdown",
   "id": "4c7c0e4c",
   "metadata": {},
   "source": [
    "### Circuit construction : MZI-based"
   ]
  },
  {
   "cell_type": "markdown",
   "id": "d3586f39",
   "metadata": {},
   "source": [
    "Now, let's do the same for MZI-based. This circuit is built with composition of beam-splitters and phase-shifters"
   ]
  },
  {
   "cell_type": "code",
   "execution_count": 10,
   "id": "1d6abe25",
   "metadata": {},
   "outputs": [],
   "source": [
    "def mzi(P1,P2):\n",
    "    mz= (pcvl.Circuit(2, name=\"mzi\")\n",
    "       .add((0, 1), phys.BS(theta=(45)/180*np.pi))\n",
    "       .add(0, phys.PS(P1))\n",
    "       .add((0, 1), phys.BS(theta=(45)/180*np.pi))\n",
    "       .add(0, phys.PS(P2)))\n",
    "    return mz"
   ]
  },
  {
   "cell_type": "code",
   "execution_count": 11,
   "id": "e7fd4aa8",
   "metadata": {},
   "outputs": [
    {
     "data": {
      "text/html": [
       "<svg width='1556.000000' height='300.000000' viewBox='-3.000000 0.000000 1553.000000 300.000000'><path d=\"M 10 25 L 25 25\" fill=\"none\" stroke=\"darkred\" stroke-width=\"3.000000\" stroke-linejoin=\"miter\"/>\n",
       "<text x=\"0.000000\" y=\"25.000000\" font-size=\"6.000000\" text-anchor=\"start\">0</text>\n",
       "<path d=\"M 10 75 L 25 75\" fill=\"none\" stroke=\"darkred\" stroke-width=\"3.000000\" stroke-linejoin=\"miter\"/>\n",
       "<text x=\"0.000000\" y=\"75.000000\" font-size=\"6.000000\" text-anchor=\"start\">1</text>\n",
       "<path d=\"M 10 125 L 25 125\" fill=\"none\" stroke=\"darkred\" stroke-width=\"3.000000\" stroke-linejoin=\"miter\"/>\n",
       "<text x=\"0.000000\" y=\"125.000000\" font-size=\"6.000000\" text-anchor=\"start\">2</text>\n",
       "<path d=\"M 10 175 L 25 175\" fill=\"none\" stroke=\"darkred\" stroke-width=\"3.000000\" stroke-linejoin=\"miter\"/>\n",
       "<text x=\"0.000000\" y=\"175.000000\" font-size=\"6.000000\" text-anchor=\"start\">3</text>\n",
       "<path d=\"M 10 225 L 25 225\" fill=\"none\" stroke=\"darkred\" stroke-width=\"3.000000\" stroke-linejoin=\"miter\"/>\n",
       "<text x=\"0.000000\" y=\"225.000000\" font-size=\"6.000000\" text-anchor=\"start\">4</text>\n",
       "<polyline points=\"25 25 75 25\" fill=\"transparent\"stroke=\"darkred\" stroke-width=\"3.000000\" stroke-linejoin=\"miter\" />\n",
       "<polyline points=\"30 40 39 40 53 10 44 10 30 40 39 40 30 40\" fill=\"gray\" stroke=\"black\" stroke-width=\"1.000000\" stroke_linejoin=\"miter\" />\n",
       "<text x=\"47.000000\" y=\"38.000000\" font-size=\"7.000000\" text-anchor=\"start\">φ=phi_r0</text>\n",
       "<polyline points=\"25 75 75 75\" fill=\"transparent\"stroke=\"darkred\" stroke-width=\"3.000000\" stroke-linejoin=\"miter\" />\n",
       "<polyline points=\"30 90 39 90 53 60 44 60 30 90 39 90 30 90\" fill=\"gray\" stroke=\"black\" stroke-width=\"1.000000\" stroke_linejoin=\"miter\" />\n",
       "<text x=\"47.000000\" y=\"88.000000\" font-size=\"7.000000\" text-anchor=\"start\">φ=phi_r1</text>\n",
       "<polyline points=\"25 125 75 125\" fill=\"transparent\"stroke=\"darkred\" stroke-width=\"3.000000\" stroke-linejoin=\"miter\" />\n",
       "<polyline points=\"30 140 39 140 53 110 44 110 30 140 39 140 30 140\" fill=\"gray\" stroke=\"black\" stroke-width=\"1.000000\" stroke_linejoin=\"miter\" />\n",
       "<text x=\"47.000000\" y=\"138.000000\" font-size=\"7.000000\" text-anchor=\"start\">φ=phi_r2</text>\n",
       "<polyline points=\"25 175 75 175\" fill=\"transparent\"stroke=\"darkred\" stroke-width=\"3.000000\" stroke-linejoin=\"miter\" />\n",
       "<polyline points=\"30 190 39 190 53 160 44 160 30 190 39 190 30 190\" fill=\"gray\" stroke=\"black\" stroke-width=\"1.000000\" stroke_linejoin=\"miter\" />\n",
       "<text x=\"47.000000\" y=\"188.000000\" font-size=\"7.000000\" text-anchor=\"start\">φ=phi_r3</text>\n",
       "<polyline points=\"25 225 75 225\" fill=\"transparent\"stroke=\"darkred\" stroke-width=\"3.000000\" stroke-linejoin=\"miter\" />\n",
       "<polyline points=\"30 240 39 240 53 210 44 210 30 240 39 240 30 240\" fill=\"gray\" stroke=\"black\" stroke-width=\"1.000000\" stroke_linejoin=\"miter\" />\n",
       "<text x=\"47.000000\" y=\"238.000000\" font-size=\"7.000000\" text-anchor=\"start\">φ=phi_r4</text>\n",
       "<polyline points=\"75 25 103 25 122 44\" fill=\"transparent\"stroke=\"darkred\" stroke-width=\"3.000000\" stroke-linejoin=\"round\" />\n",
       "<polyline points=\"128 44 147 25 175 25\" fill=\"transparent\"stroke=\"darkred\" stroke-width=\"3.000000\" stroke-linejoin=\"round\" />\n",
       "<polyline points=\"75 75 103 75 122 56\" fill=\"transparent\"stroke=\"darkred\" stroke-width=\"3.000000\" stroke-linejoin=\"round\" />\n",
       "<polyline points=\"128 56 147 75 175 75\" fill=\"transparent\"stroke=\"darkred\" stroke-width=\"3.000000\" stroke-linejoin=\"round\" />\n",
       "<polyline points=\"100 43 150 43 150 57 100 57 100 43\" fill=\"black\" stroke=\"black\" stroke-width=\"1.000000\" stroke_linejoin=\"miter\" />\n",
       "<text x=\"125.000000\" y=\"86.000000\" font-size=\"7.000000\" text-anchor=\"middle\"></text>\n",
       "<text x=\"125.000000\" y=\"26.000000\" font-size=\"7.000000\" text-anchor=\"middle\">theta=pi/4</text>\n",
       "<polyline points=\"100 43 150 43 150 47 100 47 100 43\" fill=\"lightgray\" stroke=\"black\" stroke-width=\"1.000000\" stroke_linejoin=\"miter\" />\n",
       "<polyline points=\"175 25 225 25\" fill=\"transparent\"stroke=\"darkred\" stroke-width=\"3.000000\" stroke-linejoin=\"miter\" />\n",
       "<polyline points=\"180 40 189 40 203 10 194 10 180 40 189 40 180 40\" fill=\"gray\" stroke=\"black\" stroke-width=\"1.000000\" stroke_linejoin=\"miter\" />\n",
       "<text x=\"197.000000\" y=\"38.000000\" font-size=\"7.000000\" text-anchor=\"start\">φ=phi_m0</text>\n",
       "<polyline points=\"175 75 225 75\" fill=\"transparent\"stroke=\"darkred\" stroke-width=\"3.000000\" stroke-linejoin=\"miter\" />\n",
       "<polyline points=\"225 25 253 25 272 44\" fill=\"transparent\"stroke=\"darkred\" stroke-width=\"3.000000\" stroke-linejoin=\"round\" />\n",
       "<polyline points=\"278 44 297 25 325 25\" fill=\"transparent\"stroke=\"darkred\" stroke-width=\"3.000000\" stroke-linejoin=\"round\" />\n",
       "<polyline points=\"225 75 253 75 272 56\" fill=\"transparent\"stroke=\"darkred\" stroke-width=\"3.000000\" stroke-linejoin=\"round\" />\n",
       "<polyline points=\"278 56 297 75 325 75\" fill=\"transparent\"stroke=\"darkred\" stroke-width=\"3.000000\" stroke-linejoin=\"round\" />\n",
       "<polyline points=\"250 43 300 43 300 57 250 57 250 43\" fill=\"black\" stroke=\"black\" stroke-width=\"1.000000\" stroke_linejoin=\"miter\" />\n",
       "<text x=\"275.000000\" y=\"86.000000\" font-size=\"7.000000\" text-anchor=\"middle\"></text>\n",
       "<text x=\"275.000000\" y=\"26.000000\" font-size=\"7.000000\" text-anchor=\"middle\">theta=pi/4</text>\n",
       "<polyline points=\"250 43 300 43 300 47 250 47 250 43\" fill=\"lightgray\" stroke=\"black\" stroke-width=\"1.000000\" stroke_linejoin=\"miter\" />\n",
       "<polyline points=\"325 25 375 25\" fill=\"transparent\"stroke=\"darkred\" stroke-width=\"3.000000\" stroke-linejoin=\"miter\" />\n",
       "<polyline points=\"330 40 339 40 353 10 344 10 330 40 339 40 330 40\" fill=\"gray\" stroke=\"black\" stroke-width=\"1.000000\" stroke_linejoin=\"miter\" />\n",
       "<text x=\"347.000000\" y=\"38.000000\" font-size=\"7.000000\" text-anchor=\"start\">φ=phi_n0</text>\n",
       "<polyline points=\"75 125 103 125 122 144\" fill=\"transparent\"stroke=\"darkred\" stroke-width=\"3.000000\" stroke-linejoin=\"round\" />\n",
       "<polyline points=\"128 144 147 125 175 125\" fill=\"transparent\"stroke=\"darkred\" stroke-width=\"3.000000\" stroke-linejoin=\"round\" />\n",
       "<polyline points=\"75 175 103 175 122 156\" fill=\"transparent\"stroke=\"darkred\" stroke-width=\"3.000000\" stroke-linejoin=\"round\" />\n",
       "<polyline points=\"128 156 147 175 175 175\" fill=\"transparent\"stroke=\"darkred\" stroke-width=\"3.000000\" stroke-linejoin=\"round\" />\n",
       "<polyline points=\"100 143 150 143 150 157 100 157 100 143\" fill=\"black\" stroke=\"black\" stroke-width=\"1.000000\" stroke_linejoin=\"miter\" />\n",
       "<text x=\"125.000000\" y=\"186.000000\" font-size=\"7.000000\" text-anchor=\"middle\"></text>\n",
       "<text x=\"125.000000\" y=\"126.000000\" font-size=\"7.000000\" text-anchor=\"middle\">theta=pi/4</text>\n",
       "<polyline points=\"100 143 150 143 150 147 100 147 100 143\" fill=\"lightgray\" stroke=\"black\" stroke-width=\"1.000000\" stroke_linejoin=\"miter\" />\n",
       "<polyline points=\"175 125 225 125\" fill=\"transparent\"stroke=\"darkred\" stroke-width=\"3.000000\" stroke-linejoin=\"miter\" />\n",
       "<polyline points=\"180 140 189 140 203 110 194 110 180 140 189 140 180 140\" fill=\"gray\" stroke=\"black\" stroke-width=\"1.000000\" stroke_linejoin=\"miter\" />\n",
       "<text x=\"197.000000\" y=\"138.000000\" font-size=\"7.000000\" text-anchor=\"start\">φ=phi_m1</text>\n",
       "<polyline points=\"175 175 225 175\" fill=\"transparent\"stroke=\"darkred\" stroke-width=\"3.000000\" stroke-linejoin=\"miter\" />\n",
       "<polyline points=\"225 125 253 125 272 144\" fill=\"transparent\"stroke=\"darkred\" stroke-width=\"3.000000\" stroke-linejoin=\"round\" />\n",
       "<polyline points=\"278 144 297 125 325 125\" fill=\"transparent\"stroke=\"darkred\" stroke-width=\"3.000000\" stroke-linejoin=\"round\" />\n",
       "<polyline points=\"225 175 253 175 272 156\" fill=\"transparent\"stroke=\"darkred\" stroke-width=\"3.000000\" stroke-linejoin=\"round\" />\n",
       "<polyline points=\"278 156 297 175 325 175\" fill=\"transparent\"stroke=\"darkred\" stroke-width=\"3.000000\" stroke-linejoin=\"round\" />\n",
       "<polyline points=\"250 143 300 143 300 157 250 157 250 143\" fill=\"black\" stroke=\"black\" stroke-width=\"1.000000\" stroke_linejoin=\"miter\" />\n",
       "<text x=\"275.000000\" y=\"186.000000\" font-size=\"7.000000\" text-anchor=\"middle\"></text>\n",
       "<text x=\"275.000000\" y=\"126.000000\" font-size=\"7.000000\" text-anchor=\"middle\">theta=pi/4</text>\n",
       "<polyline points=\"250 143 300 143 300 147 250 147 250 143\" fill=\"lightgray\" stroke=\"black\" stroke-width=\"1.000000\" stroke_linejoin=\"miter\" />\n",
       "<polyline points=\"325 125 375 125\" fill=\"transparent\"stroke=\"darkred\" stroke-width=\"3.000000\" stroke-linejoin=\"miter\" />\n",
       "<polyline points=\"330 140 339 140 353 110 344 110 330 140 339 140 330 140\" fill=\"gray\" stroke=\"black\" stroke-width=\"1.000000\" stroke_linejoin=\"miter\" />\n",
       "<text x=\"347.000000\" y=\"138.000000\" font-size=\"7.000000\" text-anchor=\"start\">φ=phi_n1</text>\n",
       "<polyline points=\"325 75 375 75\" fill=\"transparent\"stroke=\"darkred\" stroke-width=\"3.000000\" stroke-linejoin=\"miter\" />\n",
       "<polyline points=\"375 75 403 75 422 94\" fill=\"transparent\"stroke=\"darkred\" stroke-width=\"3.000000\" stroke-linejoin=\"round\" />\n",
       "<polyline points=\"428 94 447 75 475 75\" fill=\"transparent\"stroke=\"darkred\" stroke-width=\"3.000000\" stroke-linejoin=\"round\" />\n",
       "<polyline points=\"375 125 403 125 422 106\" fill=\"transparent\"stroke=\"darkred\" stroke-width=\"3.000000\" stroke-linejoin=\"round\" />\n",
       "<polyline points=\"428 106 447 125 475 125\" fill=\"transparent\"stroke=\"darkred\" stroke-width=\"3.000000\" stroke-linejoin=\"round\" />\n",
       "<polyline points=\"400 93 450 93 450 107 400 107 400 93\" fill=\"black\" stroke=\"black\" stroke-width=\"1.000000\" stroke_linejoin=\"miter\" />\n",
       "<text x=\"425.000000\" y=\"136.000000\" font-size=\"7.000000\" text-anchor=\"middle\"></text>\n",
       "<text x=\"425.000000\" y=\"76.000000\" font-size=\"7.000000\" text-anchor=\"middle\">theta=pi/4</text>\n",
       "<polyline points=\"400 93 450 93 450 97 400 97 400 93\" fill=\"lightgray\" stroke=\"black\" stroke-width=\"1.000000\" stroke_linejoin=\"miter\" />\n",
       "<polyline points=\"475 75 525 75\" fill=\"transparent\"stroke=\"darkred\" stroke-width=\"3.000000\" stroke-linejoin=\"miter\" />\n",
       "<polyline points=\"480 90 489 90 503 60 494 60 480 90 489 90 480 90\" fill=\"gray\" stroke=\"black\" stroke-width=\"1.000000\" stroke_linejoin=\"miter\" />\n",
       "<text x=\"497.000000\" y=\"88.000000\" font-size=\"7.000000\" text-anchor=\"start\">φ=phi_m2</text>\n",
       "<polyline points=\"475 125 525 125\" fill=\"transparent\"stroke=\"darkred\" stroke-width=\"3.000000\" stroke-linejoin=\"miter\" />\n",
       "<polyline points=\"525 75 553 75 572 94\" fill=\"transparent\"stroke=\"darkred\" stroke-width=\"3.000000\" stroke-linejoin=\"round\" />\n",
       "<polyline points=\"578 94 597 75 625 75\" fill=\"transparent\"stroke=\"darkred\" stroke-width=\"3.000000\" stroke-linejoin=\"round\" />\n",
       "<polyline points=\"525 125 553 125 572 106\" fill=\"transparent\"stroke=\"darkred\" stroke-width=\"3.000000\" stroke-linejoin=\"round\" />\n",
       "<polyline points=\"578 106 597 125 625 125\" fill=\"transparent\"stroke=\"darkred\" stroke-width=\"3.000000\" stroke-linejoin=\"round\" />\n",
       "<polyline points=\"550 93 600 93 600 107 550 107 550 93\" fill=\"black\" stroke=\"black\" stroke-width=\"1.000000\" stroke_linejoin=\"miter\" />\n",
       "<text x=\"575.000000\" y=\"136.000000\" font-size=\"7.000000\" text-anchor=\"middle\"></text>\n",
       "<text x=\"575.000000\" y=\"76.000000\" font-size=\"7.000000\" text-anchor=\"middle\">theta=pi/4</text>\n",
       "<polyline points=\"550 93 600 93 600 97 550 97 550 93\" fill=\"lightgray\" stroke=\"black\" stroke-width=\"1.000000\" stroke_linejoin=\"miter\" />\n",
       "<polyline points=\"625 75 675 75\" fill=\"transparent\"stroke=\"darkred\" stroke-width=\"3.000000\" stroke-linejoin=\"miter\" />\n",
       "<polyline points=\"630 90 639 90 653 60 644 60 630 90 639 90 630 90\" fill=\"gray\" stroke=\"black\" stroke-width=\"1.000000\" stroke_linejoin=\"miter\" />\n",
       "<text x=\"647.000000\" y=\"88.000000\" font-size=\"7.000000\" text-anchor=\"start\">φ=phi_n2</text>\n",
       "<polyline points=\"75 225 325 225\" fill=\"transparent\"stroke=\"darkred\" stroke-width=\"3.000000\" stroke-linejoin=\"miter\" />\n",
       "<polyline points=\"325 175 353 175 372 194\" fill=\"transparent\"stroke=\"darkred\" stroke-width=\"3.000000\" stroke-linejoin=\"round\" />\n",
       "<polyline points=\"378 194 397 175 425 175\" fill=\"transparent\"stroke=\"darkred\" stroke-width=\"3.000000\" stroke-linejoin=\"round\" />\n",
       "<polyline points=\"325 225 353 225 372 206\" fill=\"transparent\"stroke=\"darkred\" stroke-width=\"3.000000\" stroke-linejoin=\"round\" />\n",
       "<polyline points=\"378 206 397 225 425 225\" fill=\"transparent\"stroke=\"darkred\" stroke-width=\"3.000000\" stroke-linejoin=\"round\" />\n",
       "<polyline points=\"350 193 400 193 400 207 350 207 350 193\" fill=\"black\" stroke=\"black\" stroke-width=\"1.000000\" stroke_linejoin=\"miter\" />\n",
       "<text x=\"375.000000\" y=\"236.000000\" font-size=\"7.000000\" text-anchor=\"middle\"></text>\n",
       "<text x=\"375.000000\" y=\"176.000000\" font-size=\"7.000000\" text-anchor=\"middle\">theta=pi/4</text>\n",
       "<polyline points=\"350 193 400 193 400 197 350 197 350 193\" fill=\"lightgray\" stroke=\"black\" stroke-width=\"1.000000\" stroke_linejoin=\"miter\" />\n",
       "<polyline points=\"425 175 475 175\" fill=\"transparent\"stroke=\"darkred\" stroke-width=\"3.000000\" stroke-linejoin=\"miter\" />\n",
       "<polyline points=\"430 190 439 190 453 160 444 160 430 190 439 190 430 190\" fill=\"gray\" stroke=\"black\" stroke-width=\"1.000000\" stroke_linejoin=\"miter\" />\n",
       "<text x=\"447.000000\" y=\"188.000000\" font-size=\"7.000000\" text-anchor=\"start\">φ=phi_m3</text>\n",
       "<polyline points=\"425 225 475 225\" fill=\"transparent\"stroke=\"darkred\" stroke-width=\"3.000000\" stroke-linejoin=\"miter\" />\n",
       "<polyline points=\"475 175 503 175 522 194\" fill=\"transparent\"stroke=\"darkred\" stroke-width=\"3.000000\" stroke-linejoin=\"round\" />\n",
       "<polyline points=\"528 194 547 175 575 175\" fill=\"transparent\"stroke=\"darkred\" stroke-width=\"3.000000\" stroke-linejoin=\"round\" />\n",
       "<polyline points=\"475 225 503 225 522 206\" fill=\"transparent\"stroke=\"darkred\" stroke-width=\"3.000000\" stroke-linejoin=\"round\" />\n",
       "<polyline points=\"528 206 547 225 575 225\" fill=\"transparent\"stroke=\"darkred\" stroke-width=\"3.000000\" stroke-linejoin=\"round\" />\n",
       "<polyline points=\"500 193 550 193 550 207 500 207 500 193\" fill=\"black\" stroke=\"black\" stroke-width=\"1.000000\" stroke_linejoin=\"miter\" />\n",
       "<text x=\"525.000000\" y=\"236.000000\" font-size=\"7.000000\" text-anchor=\"middle\"></text>\n",
       "<text x=\"525.000000\" y=\"176.000000\" font-size=\"7.000000\" text-anchor=\"middle\">theta=pi/4</text>\n",
       "<polyline points=\"500 193 550 193 550 197 500 197 500 193\" fill=\"lightgray\" stroke=\"black\" stroke-width=\"1.000000\" stroke_linejoin=\"miter\" />\n",
       "<polyline points=\"575 175 625 175\" fill=\"transparent\"stroke=\"darkred\" stroke-width=\"3.000000\" stroke-linejoin=\"miter\" />\n",
       "<polyline points=\"580 190 589 190 603 160 594 160 580 190 589 190 580 190\" fill=\"gray\" stroke=\"black\" stroke-width=\"1.000000\" stroke_linejoin=\"miter\" />\n",
       "<text x=\"597.000000\" y=\"188.000000\" font-size=\"7.000000\" text-anchor=\"start\">φ=phi_n3</text>\n",
       "<polyline points=\"375 25 675 25\" fill=\"transparent\"stroke=\"darkred\" stroke-width=\"3.000000\" stroke-linejoin=\"miter\" />\n",
       "<polyline points=\"675 25 703 25 722 44\" fill=\"transparent\"stroke=\"darkred\" stroke-width=\"3.000000\" stroke-linejoin=\"round\" />\n",
       "<polyline points=\"728 44 747 25 775 25\" fill=\"transparent\"stroke=\"darkred\" stroke-width=\"3.000000\" stroke-linejoin=\"round\" />\n",
       "<polyline points=\"675 75 703 75 722 56\" fill=\"transparent\"stroke=\"darkred\" stroke-width=\"3.000000\" stroke-linejoin=\"round\" />\n",
       "<polyline points=\"728 56 747 75 775 75\" fill=\"transparent\"stroke=\"darkred\" stroke-width=\"3.000000\" stroke-linejoin=\"round\" />\n",
       "<polyline points=\"700 43 750 43 750 57 700 57 700 43\" fill=\"black\" stroke=\"black\" stroke-width=\"1.000000\" stroke_linejoin=\"miter\" />\n",
       "<text x=\"725.000000\" y=\"86.000000\" font-size=\"7.000000\" text-anchor=\"middle\"></text>\n",
       "<text x=\"725.000000\" y=\"26.000000\" font-size=\"7.000000\" text-anchor=\"middle\">theta=pi/4</text>\n",
       "<polyline points=\"700 43 750 43 750 47 700 47 700 43\" fill=\"lightgray\" stroke=\"black\" stroke-width=\"1.000000\" stroke_linejoin=\"miter\" />\n",
       "<polyline points=\"775 25 825 25\" fill=\"transparent\"stroke=\"darkred\" stroke-width=\"3.000000\" stroke-linejoin=\"miter\" />\n",
       "<polyline points=\"780 40 789 40 803 10 794 10 780 40 789 40 780 40\" fill=\"gray\" stroke=\"black\" stroke-width=\"1.000000\" stroke_linejoin=\"miter\" />\n",
       "<text x=\"797.000000\" y=\"38.000000\" font-size=\"7.000000\" text-anchor=\"start\">φ=phi_m4</text>\n",
       "<polyline points=\"775 75 825 75\" fill=\"transparent\"stroke=\"darkred\" stroke-width=\"3.000000\" stroke-linejoin=\"miter\" />\n",
       "<polyline points=\"825 25 853 25 872 44\" fill=\"transparent\"stroke=\"darkred\" stroke-width=\"3.000000\" stroke-linejoin=\"round\" />\n",
       "<polyline points=\"878 44 897 25 925 25\" fill=\"transparent\"stroke=\"darkred\" stroke-width=\"3.000000\" stroke-linejoin=\"round\" />\n",
       "<polyline points=\"825 75 853 75 872 56\" fill=\"transparent\"stroke=\"darkred\" stroke-width=\"3.000000\" stroke-linejoin=\"round\" />\n",
       "<polyline points=\"878 56 897 75 925 75\" fill=\"transparent\"stroke=\"darkred\" stroke-width=\"3.000000\" stroke-linejoin=\"round\" />\n",
       "<polyline points=\"850 43 900 43 900 57 850 57 850 43\" fill=\"black\" stroke=\"black\" stroke-width=\"1.000000\" stroke_linejoin=\"miter\" />\n",
       "<text x=\"875.000000\" y=\"86.000000\" font-size=\"7.000000\" text-anchor=\"middle\"></text>\n",
       "<text x=\"875.000000\" y=\"26.000000\" font-size=\"7.000000\" text-anchor=\"middle\">theta=pi/4</text>\n",
       "<polyline points=\"850 43 900 43 900 47 850 47 850 43\" fill=\"lightgray\" stroke=\"black\" stroke-width=\"1.000000\" stroke_linejoin=\"miter\" />\n",
       "<polyline points=\"925 25 975 25\" fill=\"transparent\"stroke=\"darkred\" stroke-width=\"3.000000\" stroke-linejoin=\"miter\" />\n",
       "<polyline points=\"930 40 939 40 953 10 944 10 930 40 939 40 930 40\" fill=\"gray\" stroke=\"black\" stroke-width=\"1.000000\" stroke_linejoin=\"miter\" />\n",
       "<text x=\"947.000000\" y=\"38.000000\" font-size=\"7.000000\" text-anchor=\"start\">φ=phi_n4</text>\n",
       "<polyline points=\"625 125 653 125 672 144\" fill=\"transparent\"stroke=\"darkred\" stroke-width=\"3.000000\" stroke-linejoin=\"round\" />\n",
       "<polyline points=\"678 144 697 125 725 125\" fill=\"transparent\"stroke=\"darkred\" stroke-width=\"3.000000\" stroke-linejoin=\"round\" />\n",
       "<polyline points=\"625 175 653 175 672 156\" fill=\"transparent\"stroke=\"darkred\" stroke-width=\"3.000000\" stroke-linejoin=\"round\" />\n",
       "<polyline points=\"678 156 697 175 725 175\" fill=\"transparent\"stroke=\"darkred\" stroke-width=\"3.000000\" stroke-linejoin=\"round\" />\n",
       "<polyline points=\"650 143 700 143 700 157 650 157 650 143\" fill=\"black\" stroke=\"black\" stroke-width=\"1.000000\" stroke_linejoin=\"miter\" />\n",
       "<text x=\"675.000000\" y=\"186.000000\" font-size=\"7.000000\" text-anchor=\"middle\"></text>\n",
       "<text x=\"675.000000\" y=\"126.000000\" font-size=\"7.000000\" text-anchor=\"middle\">theta=pi/4</text>\n",
       "<polyline points=\"650 143 700 143 700 147 650 147 650 143\" fill=\"lightgray\" stroke=\"black\" stroke-width=\"1.000000\" stroke_linejoin=\"miter\" />\n",
       "<polyline points=\"725 125 775 125\" fill=\"transparent\"stroke=\"darkred\" stroke-width=\"3.000000\" stroke-linejoin=\"miter\" />\n",
       "<polyline points=\"730 140 739 140 753 110 744 110 730 140 739 140 730 140\" fill=\"gray\" stroke=\"black\" stroke-width=\"1.000000\" stroke_linejoin=\"miter\" />\n",
       "<text x=\"747.000000\" y=\"138.000000\" font-size=\"7.000000\" text-anchor=\"start\">φ=phi_m5</text>\n",
       "<polyline points=\"725 175 775 175\" fill=\"transparent\"stroke=\"darkred\" stroke-width=\"3.000000\" stroke-linejoin=\"miter\" />\n",
       "<polyline points=\"775 125 803 125 822 144\" fill=\"transparent\"stroke=\"darkred\" stroke-width=\"3.000000\" stroke-linejoin=\"round\" />\n",
       "<polyline points=\"828 144 847 125 875 125\" fill=\"transparent\"stroke=\"darkred\" stroke-width=\"3.000000\" stroke-linejoin=\"round\" />\n",
       "<polyline points=\"775 175 803 175 822 156\" fill=\"transparent\"stroke=\"darkred\" stroke-width=\"3.000000\" stroke-linejoin=\"round\" />\n",
       "<polyline points=\"828 156 847 175 875 175\" fill=\"transparent\"stroke=\"darkred\" stroke-width=\"3.000000\" stroke-linejoin=\"round\" />\n",
       "<polyline points=\"800 143 850 143 850 157 800 157 800 143\" fill=\"black\" stroke=\"black\" stroke-width=\"1.000000\" stroke_linejoin=\"miter\" />\n",
       "<text x=\"825.000000\" y=\"186.000000\" font-size=\"7.000000\" text-anchor=\"middle\"></text>\n",
       "<text x=\"825.000000\" y=\"126.000000\" font-size=\"7.000000\" text-anchor=\"middle\">theta=pi/4</text>\n",
       "<polyline points=\"800 143 850 143 850 147 800 147 800 143\" fill=\"lightgray\" stroke=\"black\" stroke-width=\"1.000000\" stroke_linejoin=\"miter\" />\n",
       "<polyline points=\"875 125 925 125\" fill=\"transparent\"stroke=\"darkred\" stroke-width=\"3.000000\" stroke-linejoin=\"miter\" />\n",
       "<polyline points=\"880 140 889 140 903 110 894 110 880 140 889 140 880 140\" fill=\"gray\" stroke=\"black\" stroke-width=\"1.000000\" stroke_linejoin=\"miter\" />\n",
       "<text x=\"897.000000\" y=\"138.000000\" font-size=\"7.000000\" text-anchor=\"start\">φ=phi_n5</text>\n",
       "<polyline points=\"925 75 953 75 972 94\" fill=\"transparent\"stroke=\"darkred\" stroke-width=\"3.000000\" stroke-linejoin=\"round\" />\n",
       "<polyline points=\"978 94 997 75 1025 75\" fill=\"transparent\"stroke=\"darkred\" stroke-width=\"3.000000\" stroke-linejoin=\"round\" />\n",
       "<polyline points=\"925 125 953 125 972 106\" fill=\"transparent\"stroke=\"darkred\" stroke-width=\"3.000000\" stroke-linejoin=\"round\" />\n",
       "<polyline points=\"978 106 997 125 1025 125\" fill=\"transparent\"stroke=\"darkred\" stroke-width=\"3.000000\" stroke-linejoin=\"round\" />\n",
       "<polyline points=\"950 93 1000 93 1000 107 950 107 950 93\" fill=\"black\" stroke=\"black\" stroke-width=\"1.000000\" stroke_linejoin=\"miter\" />\n",
       "<text x=\"975.000000\" y=\"136.000000\" font-size=\"7.000000\" text-anchor=\"middle\"></text>\n",
       "<text x=\"975.000000\" y=\"76.000000\" font-size=\"7.000000\" text-anchor=\"middle\">theta=pi/4</text>\n",
       "<polyline points=\"950 93 1000 93 1000 97 950 97 950 93\" fill=\"lightgray\" stroke=\"black\" stroke-width=\"1.000000\" stroke_linejoin=\"miter\" />\n",
       "<polyline points=\"1025 75 1075 75\" fill=\"transparent\"stroke=\"darkred\" stroke-width=\"3.000000\" stroke-linejoin=\"miter\" />\n",
       "<polyline points=\"1030 90 1039 90 1053 60 1044 60 1030 90 1039 90 1030 90\" fill=\"gray\" stroke=\"black\" stroke-width=\"1.000000\" stroke_linejoin=\"miter\" />\n",
       "<text x=\"1047.000000\" y=\"88.000000\" font-size=\"7.000000\" text-anchor=\"start\">φ=phi_m6</text>\n",
       "<polyline points=\"1025 125 1075 125\" fill=\"transparent\"stroke=\"darkred\" stroke-width=\"3.000000\" stroke-linejoin=\"miter\" />\n",
       "<polyline points=\"1075 75 1103 75 1122 94\" fill=\"transparent\"stroke=\"darkred\" stroke-width=\"3.000000\" stroke-linejoin=\"round\" />\n",
       "<polyline points=\"1128 94 1147 75 1175 75\" fill=\"transparent\"stroke=\"darkred\" stroke-width=\"3.000000\" stroke-linejoin=\"round\" />\n",
       "<polyline points=\"1075 125 1103 125 1122 106\" fill=\"transparent\"stroke=\"darkred\" stroke-width=\"3.000000\" stroke-linejoin=\"round\" />\n",
       "<polyline points=\"1128 106 1147 125 1175 125\" fill=\"transparent\"stroke=\"darkred\" stroke-width=\"3.000000\" stroke-linejoin=\"round\" />\n",
       "<polyline points=\"1100 93 1150 93 1150 107 1100 107 1100 93\" fill=\"black\" stroke=\"black\" stroke-width=\"1.000000\" stroke_linejoin=\"miter\" />\n",
       "<text x=\"1125.000000\" y=\"136.000000\" font-size=\"7.000000\" text-anchor=\"middle\"></text>\n",
       "<text x=\"1125.000000\" y=\"76.000000\" font-size=\"7.000000\" text-anchor=\"middle\">theta=pi/4</text>\n",
       "<polyline points=\"1100 93 1150 93 1150 97 1100 97 1100 93\" fill=\"lightgray\" stroke=\"black\" stroke-width=\"1.000000\" stroke_linejoin=\"miter\" />\n",
       "<polyline points=\"1175 75 1225 75\" fill=\"transparent\"stroke=\"darkred\" stroke-width=\"3.000000\" stroke-linejoin=\"miter\" />\n",
       "<polyline points=\"1180 90 1189 90 1203 60 1194 60 1180 90 1189 90 1180 90\" fill=\"gray\" stroke=\"black\" stroke-width=\"1.000000\" stroke_linejoin=\"miter\" />\n",
       "<text x=\"1197.000000\" y=\"88.000000\" font-size=\"7.000000\" text-anchor=\"start\">φ=phi_n6</text>\n",
       "<polyline points=\"575 225 875 225\" fill=\"transparent\"stroke=\"darkred\" stroke-width=\"3.000000\" stroke-linejoin=\"miter\" />\n",
       "<polyline points=\"875 175 903 175 922 194\" fill=\"transparent\"stroke=\"darkred\" stroke-width=\"3.000000\" stroke-linejoin=\"round\" />\n",
       "<polyline points=\"928 194 947 175 975 175\" fill=\"transparent\"stroke=\"darkred\" stroke-width=\"3.000000\" stroke-linejoin=\"round\" />\n",
       "<polyline points=\"875 225 903 225 922 206\" fill=\"transparent\"stroke=\"darkred\" stroke-width=\"3.000000\" stroke-linejoin=\"round\" />\n",
       "<polyline points=\"928 206 947 225 975 225\" fill=\"transparent\"stroke=\"darkred\" stroke-width=\"3.000000\" stroke-linejoin=\"round\" />\n",
       "<polyline points=\"900 193 950 193 950 207 900 207 900 193\" fill=\"black\" stroke=\"black\" stroke-width=\"1.000000\" stroke_linejoin=\"miter\" />\n",
       "<text x=\"925.000000\" y=\"236.000000\" font-size=\"7.000000\" text-anchor=\"middle\"></text>\n",
       "<text x=\"925.000000\" y=\"176.000000\" font-size=\"7.000000\" text-anchor=\"middle\">theta=pi/4</text>\n",
       "<polyline points=\"900 193 950 193 950 197 900 197 900 193\" fill=\"lightgray\" stroke=\"black\" stroke-width=\"1.000000\" stroke_linejoin=\"miter\" />\n",
       "<polyline points=\"975 175 1025 175\" fill=\"transparent\"stroke=\"darkred\" stroke-width=\"3.000000\" stroke-linejoin=\"miter\" />\n",
       "<polyline points=\"980 190 989 190 1003 160 994 160 980 190 989 190 980 190\" fill=\"gray\" stroke=\"black\" stroke-width=\"1.000000\" stroke_linejoin=\"miter\" />\n",
       "<text x=\"997.000000\" y=\"188.000000\" font-size=\"7.000000\" text-anchor=\"start\">φ=phi_m7</text>\n",
       "<polyline points=\"975 225 1025 225\" fill=\"transparent\"stroke=\"darkred\" stroke-width=\"3.000000\" stroke-linejoin=\"miter\" />\n",
       "<polyline points=\"1025 175 1053 175 1072 194\" fill=\"transparent\"stroke=\"darkred\" stroke-width=\"3.000000\" stroke-linejoin=\"round\" />\n",
       "<polyline points=\"1078 194 1097 175 1125 175\" fill=\"transparent\"stroke=\"darkred\" stroke-width=\"3.000000\" stroke-linejoin=\"round\" />\n",
       "<polyline points=\"1025 225 1053 225 1072 206\" fill=\"transparent\"stroke=\"darkred\" stroke-width=\"3.000000\" stroke-linejoin=\"round\" />\n",
       "<polyline points=\"1078 206 1097 225 1125 225\" fill=\"transparent\"stroke=\"darkred\" stroke-width=\"3.000000\" stroke-linejoin=\"round\" />\n",
       "<polyline points=\"1050 193 1100 193 1100 207 1050 207 1050 193\" fill=\"black\" stroke=\"black\" stroke-width=\"1.000000\" stroke_linejoin=\"miter\" />\n",
       "<text x=\"1075.000000\" y=\"236.000000\" font-size=\"7.000000\" text-anchor=\"middle\"></text>\n",
       "<text x=\"1075.000000\" y=\"176.000000\" font-size=\"7.000000\" text-anchor=\"middle\">theta=pi/4</text>\n",
       "<polyline points=\"1050 193 1100 193 1100 197 1050 197 1050 193\" fill=\"lightgray\" stroke=\"black\" stroke-width=\"1.000000\" stroke_linejoin=\"miter\" />\n",
       "<polyline points=\"1125 175 1175 175\" fill=\"transparent\"stroke=\"darkred\" stroke-width=\"3.000000\" stroke-linejoin=\"miter\" />\n",
       "<polyline points=\"1130 190 1139 190 1153 160 1144 160 1130 190 1139 190 1130 190\" fill=\"gray\" stroke=\"black\" stroke-width=\"1.000000\" stroke_linejoin=\"miter\" />\n",
       "<text x=\"1147.000000\" y=\"188.000000\" font-size=\"7.000000\" text-anchor=\"start\">φ=phi_n7</text>\n",
       "<polyline points=\"975 25 1225 25\" fill=\"transparent\"stroke=\"darkred\" stroke-width=\"3.000000\" stroke-linejoin=\"miter\" />\n",
       "<polyline points=\"1225 25 1253 25 1272 44\" fill=\"transparent\"stroke=\"darkred\" stroke-width=\"3.000000\" stroke-linejoin=\"round\" />\n",
       "<polyline points=\"1278 44 1297 25 1325 25\" fill=\"transparent\"stroke=\"darkred\" stroke-width=\"3.000000\" stroke-linejoin=\"round\" />\n",
       "<polyline points=\"1225 75 1253 75 1272 56\" fill=\"transparent\"stroke=\"darkred\" stroke-width=\"3.000000\" stroke-linejoin=\"round\" />\n",
       "<polyline points=\"1278 56 1297 75 1325 75\" fill=\"transparent\"stroke=\"darkred\" stroke-width=\"3.000000\" stroke-linejoin=\"round\" />\n",
       "<polyline points=\"1250 43 1300 43 1300 57 1250 57 1250 43\" fill=\"black\" stroke=\"black\" stroke-width=\"1.000000\" stroke_linejoin=\"miter\" />\n",
       "<text x=\"1275.000000\" y=\"86.000000\" font-size=\"7.000000\" text-anchor=\"middle\"></text>\n",
       "<text x=\"1275.000000\" y=\"26.000000\" font-size=\"7.000000\" text-anchor=\"middle\">theta=pi/4</text>\n",
       "<polyline points=\"1250 43 1300 43 1300 47 1250 47 1250 43\" fill=\"lightgray\" stroke=\"black\" stroke-width=\"1.000000\" stroke_linejoin=\"miter\" />\n",
       "<polyline points=\"1325 25 1375 25\" fill=\"transparent\"stroke=\"darkred\" stroke-width=\"3.000000\" stroke-linejoin=\"miter\" />\n",
       "<polyline points=\"1330 40 1339 40 1353 10 1344 10 1330 40 1339 40 1330 40\" fill=\"gray\" stroke=\"black\" stroke-width=\"1.000000\" stroke_linejoin=\"miter\" />\n",
       "<text x=\"1347.000000\" y=\"38.000000\" font-size=\"7.000000\" text-anchor=\"start\">φ=phi_m8</text>\n",
       "<polyline points=\"1325 75 1375 75\" fill=\"transparent\"stroke=\"darkred\" stroke-width=\"3.000000\" stroke-linejoin=\"miter\" />\n",
       "<polyline points=\"1375 25 1403 25 1422 44\" fill=\"transparent\"stroke=\"darkred\" stroke-width=\"3.000000\" stroke-linejoin=\"round\" />\n",
       "<polyline points=\"1428 44 1447 25 1475 25\" fill=\"transparent\"stroke=\"darkred\" stroke-width=\"3.000000\" stroke-linejoin=\"round\" />\n",
       "<polyline points=\"1375 75 1403 75 1422 56\" fill=\"transparent\"stroke=\"darkred\" stroke-width=\"3.000000\" stroke-linejoin=\"round\" />\n",
       "<polyline points=\"1428 56 1447 75 1475 75\" fill=\"transparent\"stroke=\"darkred\" stroke-width=\"3.000000\" stroke-linejoin=\"round\" />\n",
       "<polyline points=\"1400 43 1450 43 1450 57 1400 57 1400 43\" fill=\"black\" stroke=\"black\" stroke-width=\"1.000000\" stroke_linejoin=\"miter\" />\n",
       "<text x=\"1425.000000\" y=\"86.000000\" font-size=\"7.000000\" text-anchor=\"middle\"></text>\n",
       "<text x=\"1425.000000\" y=\"26.000000\" font-size=\"7.000000\" text-anchor=\"middle\">theta=pi/4</text>\n",
       "<polyline points=\"1400 43 1450 43 1450 47 1400 47 1400 43\" fill=\"lightgray\" stroke=\"black\" stroke-width=\"1.000000\" stroke_linejoin=\"miter\" />\n",
       "<polyline points=\"1475 25 1525 25\" fill=\"transparent\"stroke=\"darkred\" stroke-width=\"3.000000\" stroke-linejoin=\"miter\" />\n",
       "<polyline points=\"1480 40 1489 40 1503 10 1494 10 1480 40 1489 40 1480 40\" fill=\"gray\" stroke=\"black\" stroke-width=\"1.000000\" stroke_linejoin=\"miter\" />\n",
       "<text x=\"1497.000000\" y=\"38.000000\" font-size=\"7.000000\" text-anchor=\"start\">φ=phi_n8</text>\n",
       "<polyline points=\"1175 125 1203 125 1222 144\" fill=\"transparent\"stroke=\"darkred\" stroke-width=\"3.000000\" stroke-linejoin=\"round\" />\n",
       "<polyline points=\"1228 144 1247 125 1275 125\" fill=\"transparent\"stroke=\"darkred\" stroke-width=\"3.000000\" stroke-linejoin=\"round\" />\n",
       "<polyline points=\"1175 175 1203 175 1222 156\" fill=\"transparent\"stroke=\"darkred\" stroke-width=\"3.000000\" stroke-linejoin=\"round\" />\n",
       "<polyline points=\"1228 156 1247 175 1275 175\" fill=\"transparent\"stroke=\"darkred\" stroke-width=\"3.000000\" stroke-linejoin=\"round\" />\n",
       "<polyline points=\"1200 143 1250 143 1250 157 1200 157 1200 143\" fill=\"black\" stroke=\"black\" stroke-width=\"1.000000\" stroke_linejoin=\"miter\" />\n",
       "<text x=\"1225.000000\" y=\"186.000000\" font-size=\"7.000000\" text-anchor=\"middle\"></text>\n",
       "<text x=\"1225.000000\" y=\"126.000000\" font-size=\"7.000000\" text-anchor=\"middle\">theta=pi/4</text>\n",
       "<polyline points=\"1200 143 1250 143 1250 147 1200 147 1200 143\" fill=\"lightgray\" stroke=\"black\" stroke-width=\"1.000000\" stroke_linejoin=\"miter\" />\n",
       "<polyline points=\"1275 125 1325 125\" fill=\"transparent\"stroke=\"darkred\" stroke-width=\"3.000000\" stroke-linejoin=\"miter\" />\n",
       "<polyline points=\"1280 140 1289 140 1303 110 1294 110 1280 140 1289 140 1280 140\" fill=\"gray\" stroke=\"black\" stroke-width=\"1.000000\" stroke_linejoin=\"miter\" />\n",
       "<text x=\"1297.000000\" y=\"138.000000\" font-size=\"7.000000\" text-anchor=\"start\">φ=phi_m9</text>\n",
       "<polyline points=\"1275 175 1325 175\" fill=\"transparent\"stroke=\"darkred\" stroke-width=\"3.000000\" stroke-linejoin=\"miter\" />\n",
       "<polyline points=\"1325 125 1353 125 1372 144\" fill=\"transparent\"stroke=\"darkred\" stroke-width=\"3.000000\" stroke-linejoin=\"round\" />\n",
       "<polyline points=\"1378 144 1397 125 1425 125\" fill=\"transparent\"stroke=\"darkred\" stroke-width=\"3.000000\" stroke-linejoin=\"round\" />\n",
       "<polyline points=\"1325 175 1353 175 1372 156\" fill=\"transparent\"stroke=\"darkred\" stroke-width=\"3.000000\" stroke-linejoin=\"round\" />\n",
       "<polyline points=\"1378 156 1397 175 1425 175\" fill=\"transparent\"stroke=\"darkred\" stroke-width=\"3.000000\" stroke-linejoin=\"round\" />\n",
       "<polyline points=\"1350 143 1400 143 1400 157 1350 157 1350 143\" fill=\"black\" stroke=\"black\" stroke-width=\"1.000000\" stroke_linejoin=\"miter\" />\n",
       "<text x=\"1375.000000\" y=\"186.000000\" font-size=\"7.000000\" text-anchor=\"middle\"></text>\n",
       "<text x=\"1375.000000\" y=\"126.000000\" font-size=\"7.000000\" text-anchor=\"middle\">theta=pi/4</text>\n",
       "<polyline points=\"1350 143 1400 143 1400 147 1350 147 1350 143\" fill=\"lightgray\" stroke=\"black\" stroke-width=\"1.000000\" stroke_linejoin=\"miter\" />\n",
       "<polyline points=\"1425 125 1475 125\" fill=\"transparent\"stroke=\"darkred\" stroke-width=\"3.000000\" stroke-linejoin=\"miter\" />\n",
       "<polyline points=\"1430 140 1439 140 1453 110 1444 110 1430 140 1439 140 1430 140\" fill=\"gray\" stroke=\"black\" stroke-width=\"1.000000\" stroke_linejoin=\"miter\" />\n",
       "<text x=\"1447.000000\" y=\"138.000000\" font-size=\"7.000000\" text-anchor=\"start\">φ=phi_n9</text>\n",
       "<polyline points=\"1475 75 1525 75\" fill=\"transparent\"stroke=\"darkred\" stroke-width=\"3.000000\" stroke-linejoin=\"miter\" />\n",
       "<polyline points=\"1475 125 1525 125\" fill=\"transparent\"stroke=\"darkred\" stroke-width=\"3.000000\" stroke-linejoin=\"miter\" />\n",
       "<polyline points=\"1425 175 1525 175\" fill=\"transparent\"stroke=\"darkred\" stroke-width=\"3.000000\" stroke-linejoin=\"miter\" />\n",
       "<polyline points=\"1125 225 1525 225\" fill=\"transparent\"stroke=\"darkred\" stroke-width=\"3.000000\" stroke-linejoin=\"miter\" />\n",
       "<path d=\"M 1525 25 L 1540 25\" fill=\"none\" stroke=\"darkred\" stroke-width=\"3.000000\" stroke-linejoin=\"miter\"/>\n",
       "<text x=\"1550.000000\" y=\"25.000000\" font-size=\"6.000000\" text-anchor=\"end\">0</text>\n",
       "<path d=\"M 1525 75 L 1540 75\" fill=\"none\" stroke=\"darkred\" stroke-width=\"3.000000\" stroke-linejoin=\"miter\"/>\n",
       "<text x=\"1550.000000\" y=\"75.000000\" font-size=\"6.000000\" text-anchor=\"end\">1</text>\n",
       "<path d=\"M 1525 125 L 1540 125\" fill=\"none\" stroke=\"darkred\" stroke-width=\"3.000000\" stroke-linejoin=\"miter\"/>\n",
       "<text x=\"1550.000000\" y=\"125.000000\" font-size=\"6.000000\" text-anchor=\"end\">2</text>\n",
       "<path d=\"M 1525 175 L 1540 175\" fill=\"none\" stroke=\"darkred\" stroke-width=\"3.000000\" stroke-linejoin=\"miter\"/>\n",
       "<text x=\"1550.000000\" y=\"175.000000\" font-size=\"6.000000\" text-anchor=\"end\">3</text>\n",
       "<path d=\"M 1525 225 L 1540 225\" fill=\"none\" stroke=\"darkred\" stroke-width=\"3.000000\" stroke-linejoin=\"miter\"/>\n",
       "<text x=\"1550.000000\" y=\"225.000000\" font-size=\"6.000000\" text-anchor=\"end\">4</text></svg>"
      ],
      "text/plain": [
       "<IPython.core.display.HTML object>"
      ]
     },
     "metadata": {},
     "output_type": "display_data"
    }
   ],
   "source": [
    "c = pcvl.Circuit.generic_interferometer(N,\n",
    "                                        fun_gen=lambda idx: mzi(pcvl.P(\"phi_m%d\" % idx),pcvl.P(\"phi_n%d\" % idx)),\n",
    "                                        shape=\"rectangle\",\n",
    "                                        depth=N,\n",
    "                                        phase_shifter_fun_gen=lambda idx: phys.PS(phi=pcvl.P(\"phi_r%d\" % idx)))\n",
    "pcvl.pdisplay(c)"
   ]
  },
  {
   "cell_type": "markdown",
   "id": "f1cc8b39",
   "metadata": {},
   "source": [
    "## Minimizing infidelity"
   ]
  },
  {
   "cell_type": "markdown",
   "id": "f08b44d5",
   "metadata": {},
   "source": [
    "### Basinhopping algorithm"
   ]
  },
  {
   "cell_type": "code",
   "execution_count": 12,
   "id": "ff2dc28f",
   "metadata": {},
   "outputs": [],
   "source": [
    "def calculate_angle(index_unitary, U0, alpha):\n",
    "    start = time.time()\n",
    "    c = pcvl.Circuit.generic_interferometer(N,\n",
    "                                        fun_gen=lambda idx: mzi(pcvl.P(\"phi_m%d\" % idx),pcvl.P(\"phi_n%d\" % idx)),\n",
    "                                        shape=\"rectangle\",\n",
    "                                        depth=N,\n",
    "                                        phase_shifter_fun_gen=lambda idx: phys.PS(phi=pcvl.P(\"phi_r%d\" % idx)))\n",
    "    params = c.get_parameters()\n",
    "\n",
    "    # goal is to find phis matching U0 - by minimizing fidelity\n",
    "    infidelities = []\n",
    "\n",
    "    for _ in range(n_try):\n",
    "        init_params = np.random.randn(len(params))\n",
    "        res = basinhopping(lambda x: infidelity(c, U0, params, x), init_params, stepsize=0.1, niter=n_iter)\n",
    "        infidelities.append(res.fun)\n",
    "    \n",
    "    return min(infidelities)"
   ]
  },
  {
   "cell_type": "code",
   "execution_count": 13,
   "id": "0f75ba07",
   "metadata": {},
   "outputs": [
    {
     "data": {
      "application/vnd.jupyter.widget-view+json": {
       "model_id": "a0de30240a2f40ecbe7a9c287b16cf1f",
       "version_major": 2,
       "version_minor": 0
      },
      "text/plain": [
       "Unitary progress bar:   0%|          | 0/2 [00:00<?, ?it/s]"
      ]
     },
     "metadata": {},
     "output_type": "display_data"
    },
    {
     "data": {
      "application/vnd.jupyter.widget-view+json": {
       "model_id": "8b9c255f0abd4831bc3fc41b4914072f",
       "version_major": 2,
       "version_minor": 0
      },
      "text/plain": [
       "Angle progress bar unitary 1:   0%|          | 0/3 [00:00<?, ?it/s]"
      ]
     },
     "metadata": {},
     "output_type": "display_data"
    },
    {
     "data": {
      "application/vnd.jupyter.widget-view+json": {
       "model_id": "adc55ada0c13419681e95b82f26339d8",
       "version_major": 2,
       "version_minor": 0
      },
      "text/plain": [
       "Angle progress bar unitary 2:   0%|          | 0/3 [00:00<?, ?it/s]"
      ]
     },
     "metadata": {},
     "output_type": "display_data"
    }
   ],
   "source": [
    "n_angles = (abs(angle_min)+abs(angle_max))/angle_step\n",
    "\n",
    "def discovery_unitary(index_unitary):\n",
    "    np.random.seed(int(10000*time.time()+os.getpid()) & 0xffffffff)\n",
    "    U0 = pcvl.Matrix.random_unitary(N)\n",
    "    l_infidelities = []\n",
    "    M=angle_min + math.ceil((angle_max-angle_min)/angle_step)*angle_step + 1\n",
    "    for alpha in tqdm_notebook(range(angle_min,M,angle_step), desc = \"Angle progress bar unitary {}\".format(index_unitary+1)):\n",
    "        l_infidelities.append(calculate_angle(index_unitary, U0, alpha))\n",
    "    return l_infidelities\n",
    "\n",
    "try:\n",
    "    os.remove(\"%s-%d.log\" % (logfilemzi,N))\n",
    "except OSError:\n",
    "    pass\n",
    "\n",
    "for index_unitary in tqdm_notebook(range(n_unitary), desc = \"Unitary progress bar\"):\n",
    "    result = discovery_unitary(index_unitary)\n",
    "    e = datetime.datetime.now()\n",
    "    with open(\"%s-%d.log\" % (logfilemzi,N), \"a\") as f:\n",
    "        f.write(e.strftime(\"%Y-%m-%d %H:%M:%S\")+\"\\t\")                \n",
    "        f.write(\"\\t\".join([\"%g\"%inf for inf in result]))\n",
    "        f.write(\"\\n\")"
   ]
  },
  {
   "cell_type": "markdown",
   "id": "0a40d8ba",
   "metadata": {},
   "source": [
    "# Data process"
   ]
  },
  {
   "cell_type": "code",
   "execution_count": 24,
   "id": "38fa883b",
   "metadata": {},
   "outputs": [
    {
     "name": "stdout",
     "output_type": "stream",
     "text": [
      "2022-05-20 08:29:49\t4.0174e-10\t1.87204e-10\t1.219e-10\n",
      "\n",
      "2022-05-20 08:34:36\t3.10296e-10\t1.2232e-10\t3.68158e-10\n",
      "\n"
     ]
    }
   ],
   "source": [
    "with open(\"mzibased-opt-5.log\", \"r\") as filin:\n",
    "...     for ligne in filin:\n",
    "...         print(ligne)"
   ]
  },
  {
   "cell_type": "code",
   "execution_count": 22,
   "id": "d5926a3c",
   "metadata": {},
   "outputs": [],
   "source": [
    "file = open(\"mzibased-opt-5.log\").readlines()\n",
    "for i in range (len (file)):\n",
    "    file[i] = file[i].split(\"\\t\")\n",
    "\n",
    "for x in range (len(file)):\n",
    "    for i in range(1):\n",
    "        file[x].pop(0) \n",
    "\n",
    "final_file = [ ]\n",
    "summ = 0\n",
    "avrg = []\n",
    "\n",
    "for y in range (len(file[0])):\n",
    "    L = [ ]\n",
    "    somme = 0.0\n",
    "    for x in range(len(file)):\n",
    "        L.append(float(file[x][y].replace(\"\\n\",\"\")))\n",
    "        \n",
    "    for x in L:\n",
    "        summ+=float(x)\n",
    "    avrg.append(summ/len(L))\n",
    "    final_file.append(L)"
   ]
  },
  {
   "cell_type": "markdown",
   "id": "c8c6dd9c",
   "metadata": {},
   "source": [
    "### Graph of the infidelity according to alpha in degree : MZI-based"
   ]
  },
  {
   "cell_type": "code",
   "execution_count": 23,
   "id": "d4502f9e",
   "metadata": {},
   "outputs": [
    {
     "data": {
      "text/plain": [
       "Text(0, 0.5, 'infidelity 1-F')"
      ]
     },
     "execution_count": 23,
     "metadata": {},
     "output_type": "execute_result"
    },
    {
     "data": {
      "image/png": "[encoded data removed]",
      "text/plain": [
       "<Figure size 432x288 with 1 Axes>"
      ]
     },
     "metadata": {
      "needs_background": "light"
     },
     "output_type": "display_data"
    }
   ],
   "source": [
    "import numpy as np\n",
    "import matplotlib.pyplot as plt\n",
    "\n",
    "#data\n",
    "x = np.linspace(-15, 35, len(avrg))\n",
    "Lmin=[min(l) for l in final_file]\n",
    "Lmax=[max(l) for l in final_file]\n",
    "\n",
    "#plot\n",
    "\"\"\"\n",
    "plt.plot(x,moy,'r')\n",
    "plt.plot(x,Lmin,'b--')\n",
    "plt.plot(x,Lmax,'y--')\n",
    "\"\"\"\n",
    "fig, ax = plt.subplots()\n",
    "\n",
    "ax.fill_between(x, Lmin, Lmax,alpha=.5,linewidth=0)\n",
    "ax.plot(x,avrg,linewidth=2)\n",
    "\n",
    "ax.set(xlim=(-15, 35),\n",
    "       ylim=(min(Lmin), max(Lmax)))\n",
    "ax.set_yscale('log')\n",
    "\n",
    "\n",
    "plt.plot(x,avrg,'r')\n",
    "plt.title(\"Infidelity(alpha) : MZI\")\n",
    "plt.xlabel('alpha (degree)')\n",
    "plt.ylabel('infidelity 1-F')\n"
   ]
  },
  {
   "cell_type": "markdown",
   "id": "90dd9c90",
   "metadata": {},
   "source": [
    "# Our results"
   ]
  },
  {
   "cell_type": "markdown",
   "id": "2457fba0",
   "metadata": {},
   "source": [
    "The MZI-based interferometers are equally sensitive to both positive and negative values of α with the acceptable range of errors is of the order of several degrees. For the BS-based interferometers, infidelity behaves radically different: while at α < 0 the performance of the two are comparable, at α > 0 the BS-based interferometers provide perfect fidelity for α as\n",
    "large as ∼ 20 degrees — several times larger than for the MZI-based interferometers."
   ]
  },
  {
   "cell_type": "markdown",
   "id": "e5c68c31",
   "metadata": {},
   "source": [
    "[graphes que nous obtenons avec N=12 et N=5]"
   ]
  },
  {
   "cell_type": "markdown",
   "id": "24cfa410",
   "metadata": {},
   "source": [
    "[1] Suren A Fldzhyan, M Yu Saygin, and Sergei P Kulik. Optimal design of error-tolerant reprogrammable multiport interferometers. Optics Letters, 45(9):2632–2635, 2020."
   ]
  }
 ],
 "metadata": {
  "kernelspec": {
   "display_name": "Python 3 (ipykernel)",
   "language": "python",
   "name": "python3"
  },
  "language_info": {
   "codemirror_mode": {
    "name": "ipython",
    "version": 3
   },
   "file_extension": ".py",
   "mimetype": "text/x-python",
   "name": "python",
   "nbconvert_exporter": "python",
   "pygments_lexer": "ipython3",
   "version": "3.9.7"
  }
 },
 "nbformat": 4,
 "nbformat_minor": 5
}
