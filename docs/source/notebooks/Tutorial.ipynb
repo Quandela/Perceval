{
 "cells": [
  {
   "cell_type": "markdown",
   "id": "22288a41cee90aba",
   "metadata": {},
   "source": [
    "# Detailed walkthrough\n",
    "\n",
    "In this tutorial, we will try to cover any basic code to get our hands on Perceval.\n"
   ]
  },
  {
   "cell_type": "markdown",
   "id": "646c2dd2a0425ffe",
   "metadata": {},
   "source": [
    "## I. Introduction <a class=\"anchor\" id=\"introduction\"></a>\n",
    "\n",
    "### 1. Perceval installation <a name=\"installation\"></a>"
   ]
  },
  {
   "cell_type": "code",
   "execution_count": null,
   "id": "7d5658cabfa161db",
   "metadata": {},
   "outputs": [],
   "source": [
    "import perceval as pcvl\n",
    "import numpy as np\n",
    "\n",
    "## Use the symbolic skin for display\n",
    "from perceval.rendering import DisplayConfig, SymbSkin\n",
    "DisplayConfig.select_skin(SymbSkin)"
   ]
  },
  {
   "cell_type": "markdown",
   "id": "e084702084ceef60",
   "metadata": {},
   "source": [
    "### 2. BasicStates <a name=\"basicstates\"></a>\n",
    "\n",
    "In Linear Optical Circuits, photons can have many discrete degrees of freedom, called modes.\n",
    "It can be the frequency, the polarisation, the position, or all of them.\n",
    "\n",
    "We represent these degrees of freedom with Fock states. If we have $n$ photons over $m$ modes, the Fock state $|s_1,s_2,...,s_m\\rangle$ means we have $s_i$ photons in the $i^{th}$ mode. Note that $\\sum_{i=1}^m s_i =n$.\n",
    "\n",
    "In Perceval, we will use the module `pcvl.BasicState`"
   ]
  },
  {
   "cell_type": "code",
   "execution_count": null,
   "id": "1fb14abf0301598d",
   "metadata": {},
   "outputs": [],
   "source": [
    "## Syntax of different BasicState (list, string, etc)\n",
    "bs1 = pcvl.BasicState('|0,2,0,1>')\n",
    "bs2 = pcvl.BasicState([0, 2, 0, 1])\n",
    "\n",
    "if bs1==bs2:\n",
    "    print(\"Those are the same states\")\n",
    "\n",
    "## You can iterate on modes\n",
    "for i, photon_count in enumerate(bs2):\n",
    "    print(f\"There is {photon_count} photon in mode {i}\")"
   ]
  },
  {
   "cell_type": "markdown",
   "id": "4f1f47efeb02b7a7",
   "metadata": {},
   "source": [
    "### 3. LO-Components <a name=\"components\"></a>\n",
    "\n",
    "The linear optical components are the elementary blocks which will act on our Fock states.\n",
    "\n",
    "It's important to know all the possible components that can be found in Perceval and understand their effects.\n",
    "\n"
   ]
  },
  {
   "cell_type": "code",
   "execution_count": null,
   "id": "d44720c449b5be30",
   "metadata": {},
   "outputs": [],
   "source": [
    "from perceval.components import PS, BS, PERM\n",
    "\n",
    "## Permutation\n",
    "perm = PERM([2, 0, 1])\n",
    "\n",
    "print(perm.name)\n",
    "print(perm.describe())\n",
    "pcvl.pdisplay(perm.definition())\n",
    "pcvl.pdisplay(perm)"
   ]
  },
  {
   "cell_type": "code",
   "execution_count": null,
   "id": "34b0f21b01c87cc0",
   "metadata": {},
   "outputs": [],
   "source": [
    "## Phase shifter\n",
    "ps = PS(phi=np.pi)\n",
    "\n",
    "print(ps.name)\n",
    "print(ps.describe())\n",
    "pcvl.pdisplay(ps.definition())\n",
    "pcvl.pdisplay(ps)  # A pdisplay call on a circuit/processor needs to be the last line of a cell"
   ]
  },
  {
   "cell_type": "code",
   "execution_count": null,
   "id": "c3d49527d14141eb",
   "metadata": {},
   "outputs": [],
   "source": [
    "## Beam splitters\n",
    "bs_rx = BS.Rx()  # By default, a beam splitter follows the Rx gate convention, so bs=BS() has the same matrix\n",
    "\n",
    "# But other conventions exist too:\n",
    "bs_h = BS.H()\n",
    "bs_ry = BS.Ry()\n",
    "\n",
    "## Check the difference in the unitary definition:\n",
    "print(\"BS.Rx() unitary matrix\")\n",
    "pcvl.pdisplay(bs_rx.definition())\n",
    "print(\"BS.H() unitary matrix\")\n",
    "pcvl.pdisplay(bs_h.definition())\n",
    "print(\"BS.Ry() unitary matrix\")\n",
    "pcvl.pdisplay(bs_ry.definition())\n",
    "print(\"BS displays its convention as a small label\")\n",
    "pcvl.pdisplay(bs_ry)"
   ]
  },
  {
   "cell_type": "code",
   "execution_count": null,
   "id": "678e24de5416d704",
   "metadata": {},
   "outputs": [],
   "source": [
    "# You can ask for the symbolic matrix value of your component with the attribute U\n",
    "my_ps = PS(phi=np.pi/8)\n",
    "pcvl.pdisplay(my_ps.U)\n",
    "# And for the numerical value with the method compute_unitary\n",
    "pcvl.pdisplay(my_ps.compute_unitary())\n",
    "\n",
    "#  - by using the syntax pcvl.P to create a symbolic variable\n",
    "#    (note that you cannot compute the numerical value of your component anymore)\n",
    "print(\"A Phase Shifter with a symbolic value for phi:\")\n",
    "ps = PS(phi=pcvl.P('\\psi'))\n",
    "pcvl.pdisplay(ps.U)"
   ]
  },
  {
   "cell_type": "code",
   "execution_count": null,
   "id": "10fe5c3552252ea1",
   "metadata": {},
   "outputs": [],
   "source": [
    "# If you do it for a Beam-Splitter, you can see that by default theta=pi/2, and the phi's are 0\n",
    "print(\"A default beam-splitter:\")\n",
    "pcvl.pdisplay(BS().compute_unitary())  # this is a balanced Beamsplitter\n",
    "print(\"\")\n",
    "\n",
    "# To control the value of the parameters of a component, several choices are possible:\n",
    "#  - by setting a numerical value during the creation of the component\n",
    "print(\"A Beam-Splitter with a numerical value for theta:\")\n",
    "bs_rx = BS.Rx(theta=10)\n",
    "pcvl.pdisplay(bs_rx.U)\n",
    "pcvl.pdisplay(bs_rx.compute_unitary())\n",
    "print(\"\")\n",
    "\n",
    "#  - by using the syntax pcvl.P to create a symbolic variable\n",
    "#    (note that you cannot compute the numerical value of your component anymore)\n",
    "print(\"A Phase Shifter with a symbolic value for phi:\")\n",
    "ps = PS(phi=pcvl.P('\\psi'))\n",
    "pcvl.pdisplay(ps.U)\n",
    "print(\"\")\n",
    "\n",
    "#  - you can still modify the value of a symbolic variable after its creation\n",
    "#    This is not true for a numerical variable!\n",
    "print(\"A beam-splitter with a symbolic variable...\")\n",
    "bs_rx = BS(theta=pcvl.P('toto'))\n",
    "pcvl.pdisplay(bs_rx.U)\n",
    "bs_rx.assign({'toto':5})\n",
    "bs_rx.assign({'toto':10})\n",
    "print(\"... set to a numerical value\")\n",
    "pcvl.pdisplay(bs_rx.compute_unitary())"
   ]
  },
  {
   "cell_type": "code",
   "execution_count": null,
   "id": "484ab32e7e69d30e",
   "metadata": {},
   "outputs": [],
   "source": [
    "## to understand the conventions, you can note that a BS.Rx with the 4 phases phi (top left/right and bottom left/right) can be represented like that\n",
    "\n",
    "bs_rx_circuit=pcvl.Circuit(2) // (0, PS(phi=pcvl.P(\"phi_tl\"))) // (1, PS(phi=pcvl.P(\"phi_bl\"))) // BS(theta=pcvl.P('theta')) // (0, PS(phi=pcvl.P(\"phi_tr\"))) // (1, PS(phi=pcvl.P(\"phi_br\")))\n",
    "\n",
    "pcvl.pdisplay(bs_rx_circuit.U)\n",
    "\n",
    "# we can check it's the same as bs_rx.definition()\n",
    "pcvl.pdisplay(bs_rx_circuit)\n",
    "\n",
    "## For this cell, we needed the syntax to builds circuits... Good transition !"
   ]
  },
  {
   "cell_type": "markdown",
   "id": "54402086dc7fb65f",
   "metadata": {},
   "source": [
    "## II. LO-Circuits <a class=\"anchor\" id=\"circuits\"></a>\n",
    "\n",
    "From the LO-components, we can build a LO-circuit, i.e. a sequence of those components acting on our different modes.\n",
    "\n",
    "### 1. Syntax"
   ]
  },
  {
   "cell_type": "code",
   "execution_count": null,
   "id": "96331528c99d09e4",
   "metadata": {},
   "outputs": [],
   "source": [
    "circuit = pcvl.Circuit(3)  # Create an empty 3 mode circuit\n",
    "\n",
    "circuit.add(0, BS())  # The beam splitter is added to the circuit on mode 0 and 1\n",
    "                      # even though only the first mode is required in `add` method\n",
    "circuit.add(0, PS(phi=np.pi/2)).add(1, PS(phi=pcvl.P('phi'))).add(1, BS())\n",
    "\n",
    "# Equivalent syntax:\n",
    "# circuit // BS() // PS(phi=np.pi/2) // (1, PS(phi=pcvl.P('phi'))) // (1, BS())\n",
    "\n",
    "pcvl.pdisplay(circuit.U)\n",
    "pcvl.pdisplay(circuit)"
   ]
  },
  {
   "cell_type": "markdown",
   "id": "1eccd0c77292a209",
   "metadata": {},
   "source": [
    "The syntax ``pcvl.P('phi')`` allows you to use parameters in the circuit, where you can assign a value or not. The behavior of the parameters of a circuit is similar to the case of the components.\n",
    "\n",
    "For instance, you can use :"
   ]
  },
  {
   "cell_type": "code",
   "execution_count": null,
   "id": "ef8e0d07b8125e11",
   "metadata": {},
   "outputs": [],
   "source": [
    "params=circuit.get_parameters()\n",
    "print(params) # list of the parameters\n",
    "\n",
    "# the value is not set, but we can change that with:\n",
    "params[0].set_value(np.pi)\n",
    "pcvl.pdisplay(circuit)"
   ]
  },
  {
   "cell_type": "markdown",
   "id": "77f2161e5a72e3bb",
   "metadata": {},
   "source": [
    "The syntax ``pcvl.P('phi')`` allows you to use parameters in the circuit, where you can assign a value or not. The behavior of the parameters of a circuit is similar to the case of the components.\n",
    "\n",
    "For instance, you can use :"
   ]
  },
  {
   "cell_type": "code",
   "execution_count": null,
   "id": "7b92f212fe6a5051",
   "metadata": {},
   "outputs": [],
   "source": [
    "params=circuit.get_parameters()\n",
    "print(params) #list of the parameters\n",
    "\n",
    "# the value is None, but we can change that with :\n",
    "params[0].set_value(np.pi)\n",
    "\n",
    "pcvl.pdisplay(circuit)"
   ]
  },
  {
   "cell_type": "markdown",
   "id": "45d9831810d2caf2",
   "metadata": {},
   "source": [
    "\n",
    "### 2. Mach-Zehnder Interferometers\n",
    "\n",
    "The beamsplitter's angle $\\theta$ can also be defined as a parameter.\n",
    "\n",
    "However, as the reflexivity depends on the mirror, it's hard to have adaptibility on the angle.\n",
    "Therefore, in practice, we use a [Mach-Zehnder Interferometer](https://en.wikipedia.org/wiki/Mach%E2%80%93Zehnder_interferometer).\n",
    "\n",
    "The beamsplitter with a parameterised $\\theta$ is therefore implemented with a parameterised phase shifter $\\phi$ between two fixed beamsplitters.\n",
    "\n",
    "\n"
   ]
  },
  {
   "cell_type": "code",
   "execution_count": null,
   "id": "c91f9af5e183769",
   "metadata": {},
   "outputs": [],
   "source": [
    "## Exercise: build a circuit implementing the mzi\n",
    "\n",
    "## Solution:\n",
    "mzi = pcvl.Circuit(2) // BS() // (1,PS(phi=pcvl.P(\"phi\"))) // BS()\n",
    "pcvl.pdisplay(mzi)\n",
    "\n",
    "## Exercise: Check that the parameterised phase allows you to change the reflexivity of your MZI\n",
    "\n",
    "\n",
    "## Solution:\n",
    "import matplotlib.pyplot as plt\n",
    "\n",
    "X = np.linspace(0, 2*np.pi, 1000)  # We create a list of all different values for theta\n",
    "Y = []\n",
    "for theta in X:\n",
    "    phase = mzi.get_parameters()[0]\n",
    "    phase.set_value(theta)\n",
    "    Y.append(abs(mzi.compute_unitary()[0,0])**2)  #compute_unitary is numerical, so far faster that mzi.U, which uses symbolic expressions.\n",
    "\n",
    "plt.plot(X, Y)\n",
    "plt.xlabel(\"phi\")\n",
    "plt.ylabel(\"R\")\n",
    "plt.show()\n",
    "\n",
    "## Note: If you need to create a BS directly from the reflexivity value, please use:\n",
    "## BS(BS.r_to_theta(reflectivity_value))\n",
    "## However, be aware that only theta value is stored inside the BS object"
   ]
  },
  {
   "cell_type": "markdown",
   "id": "e3296dc90a5850de",
   "metadata": {},
   "source": [
    "### 3. Universal Circuits\n",
    "\n",
    "An operation on the modes of our circuit can also be expressed as a unitary.\n",
    "\n",
    "For three modes, the unitary $U=\\begin{pmatrix}\n",
    "a_{1,1} & a_{1,2} & a_{1,3}\\\\\n",
    "a_{2,1} & a_{2,2} & a_{2,3} \\\\\n",
    "a_{3,1} & a_{3,2} & a_{3,3}\n",
    "\\end{pmatrix}$ performs the following operation on the Fock state basis:\n",
    "\n",
    "$$\\begin{array}{rcl}\n",
    "|1,0,0\\rangle &  \\mapsto&  a_{1,1}|1,0,0\\rangle + a_{1,2}|0,1,0\\rangle + a_{1,3}|0,0,1\\rangle\\\\\n",
    "|0,1,0\\rangle &  \\mapsto&  a_{2,1}|1,0,0\\rangle + a_{2,2}|0,1,0\\rangle + a_{2,3}|0,0,1\\rangle\\\\\n",
    "|0,0,1\\rangle &  \\mapsto&  a_{3,1}|1,0,0\\rangle + a_{3,2}|0,1,0\\rangle + a_{3,3}|0,0,1\\rangle\n",
    "\\end{array}$$"
   ]
  },
  {
   "cell_type": "markdown",
   "id": "a6e3ba2af505acb5",
   "metadata": {},
   "source": [
    "Since 1994, we know that any $U$ on the modes can be implemented as an LO-circuit [Reck's et al](https://journals.aps.org/prl/abstract/10.1103/PhysRevLett.73.58).\n",
    "\n",
    "This decomposition can be done easily in Perceval using beamsplitters and phase-shifters as follows."
   ]
  },
  {
   "cell_type": "code",
   "execution_count": null,
   "id": "771aebc2d149e6e4",
   "metadata": {},
   "outputs": [],
   "source": [
    "## From any unitary\n",
    "n = 4\n",
    "U = pcvl.Matrix.random_unitary(n)\n",
    "\n",
    "decomposed_circuit = pcvl.Circuit.decomposition(U, BS(theta=pcvl.P('theta'), phi_tr=pcvl.P('phi')), phase_shifter_fn=PS)\n",
    "pcvl.pdisplay(decomposed_circuit)"
   ]
  },
  {
   "cell_type": "code",
   "execution_count": null,
   "id": "9815c6563b6f82e4",
   "metadata": {},
   "outputs": [],
   "source": [
    "print(\"The error between the two unitaries is\", np.linalg.norm(U - decomposed_circuit.compute_unitary()))"
   ]
  },
  {
   "cell_type": "code",
   "execution_count": null,
   "id": "51f87403d1e89597",
   "metadata": {},
   "outputs": [],
   "source": [
    "## Exercise: decompose your unitary with only phase shifters and balanced beamsplitters.\n",
    "\n",
    "## Solution:\n",
    "mzi = pcvl.Circuit(2) // BS() // PS(pcvl.P(\"phi1\")) //  BS()  //  PS(pcvl.P(\"phi2\"))\n",
    "\n",
    "circuit_u = pcvl.Circuit.decomposition(U,mzi,phase_shifter_fn=PS)\n",
    "\n",
    "## Note: you can use a MZI. Be careful to put the phase on the right, as the full layer of phase_shifter_fn is on the left of the circuit"
   ]
  },
  {
   "cell_type": "code",
   "execution_count": null,
   "id": "ca01a83116a0f458",
   "metadata": {},
   "outputs": [],
   "source": [
    "## Exercise: check the norm of the difference to be sure it has worked well\n",
    "\n",
    "## Solution:\n",
    "print(\"The error between the two unitaries is\", np.linalg.norm(U - circuit_u.compute_unitary()))"
   ]
  },
  {
   "cell_type": "markdown",
   "id": "a2b14d22cd2d5c23",
   "metadata": {},
   "source": [
    "### 4. Black Box\n",
    "\n",
    "To improve readability, the circuit can be constructed in multiple steps which are then combined as black boxes. This will also help when we'll need generic operations.\n"
   ]
  },
  {
   "cell_type": "code",
   "execution_count": null,
   "id": "cf709468443d6fa4",
   "metadata": {},
   "outputs": [],
   "source": [
    "pre_MZI = (pcvl.Circuit(4, name=\"Bell State Prepar.\")\n",
    "           .add(0, BS())\n",
    "           .add(2, BS())\n",
    "           .add(1, PERM([1, 0])))\n",
    "\n",
    "upper_MZI = (pcvl.Circuit(2, name=\"upper MZI\")\n",
    "             .add(0, PS(phi=pcvl.P('phi_0')))\n",
    "             .add(0, BS())\n",
    "             .add(0, PS(phi=pcvl.P('phi_2')))\n",
    "             .add(0, BS()))\n",
    "\n",
    "lower_MZI = (pcvl.Circuit(2, name=\"lower MZI\")\n",
    "             .add(0, PS(phi=pcvl.P('phi_1')))\n",
    "             .add(0, BS())\n",
    "             .add(0, PS(phi=pcvl.P('phi_3')))\n",
    "             .add(0, BS()))\n",
    "\n",
    "chip = (pcvl.Circuit(4)\n",
    "              .add(0, pre_MZI)\n",
    "              .add(0, upper_MZI, merge=False)\n",
    "              .add(2, lower_MZI, merge=False))\n",
    "\n",
    "pcvl.pdisplay(chip)"
   ]
  },
  {
   "cell_type": "code",
   "execution_count": null,
   "id": "abe53e206472fe27",
   "metadata": {},
   "outputs": [],
   "source": [
    "## You can still display the inside of black boxes with:\n",
    "pcvl.pdisplay(chip, recursive=True)"
   ]
  },
  {
   "cell_type": "markdown",
   "id": "7eee213ec96f13ef",
   "metadata": {},
   "source": [
    "## III. Simulation <a name=\"simulation\"></a>\n",
    "\n",
    "Up to this point, we have focused on creating circuits.\n",
    "It's time to learn how to sample from them or describe their output distribution, on many different inputs.\n",
    "\n"
   ]
  },
  {
   "cell_type": "markdown",
   "id": "193c7679220a112",
   "metadata": {},
   "source": [
    "### 1. Computing probabilities\n",
    "\n",
    "For this part, we will take the [Hong-Ou-Mandel](https://en.wikipedia.org/wiki/Hong%E2%80%93Ou%E2%80%93Mandel_effect) experience as an example.\n",
    "\n",
    "It's one of the simplest experiments and yet it is very useful.\n",
    "\n",
    "Making two indistinguishable photons, one in each mode, enter one balanced beamsplitter $BS=\\frac{1}{\\sqrt{2}} \\left[\\begin{matrix}1 & 1\\\\1& -1\\end{matrix}\\right]$, we expect the outcome to be:\n",
    "\n",
    "$$|1,1\\rangle \\mapsto \\frac{|2,0\\rangle - |0,2\\rangle}{\\sqrt{2}}  $$\n",
    "\n",
    "We will show how to verify this in the next steps using the Naive backend to recover the full probability distribution."
   ]
  },
  {
   "cell_type": "code",
   "execution_count": null,
   "id": "4e243081e7014bb",
   "metadata": {},
   "outputs": [],
   "source": [
    "## Exercise: build the circuit using the convention above\n",
    "\n",
    "## Solution:\n",
    "circuit = pcvl.Circuit(2) // BS.H()"
   ]
  },
  {
   "cell_type": "code",
   "execution_count": null,
   "id": "1cb2c4e4d75d3781",
   "metadata": {},
   "outputs": [],
   "source": [
    "# Syntax to compute the amplitudes\n",
    "backend = pcvl.BackendFactory.get_backend(\"SLOS\")\n",
    "backend.set_circuit(circuit)\n",
    "backend.set_input_state(pcvl.BasicState([1, 1]))\n",
    "print(backend.prob_amplitude(pcvl.BasicState([2, 0])))  # note that it's the amplitude !\n",
    "print(backend.prob_amplitude(pcvl.BasicState([0, 2])))\n",
    "print(backend.probability(pcvl.BasicState([0, 2])))\n",
    "\n",
    "\n",
    "## We can also use the Analyser module to compute a table of probabilities\n",
    "## The Analyser uses a Processor to work with. A Processor aims at simulating a photonic source plugged into a circuit\n",
    "## with a given backend.\n",
    "## The main syntax is :\n",
    "## >>> p = pcvl.Processor(backend_name, circuit, noise=NoiseModel)\n",
    "from perceval.algorithm import Analyzer\n",
    "\n",
    "p = pcvl.Processor(\"SLOS\", BS())\n",
    "analyzer = Analyzer(p, [pcvl.BasicState([1, 1])], '*')  # '*' means all possible output states\n",
    "pcvl.pdisplay(analyzer)"
   ]
  },
  {
   "cell_type": "code",
   "execution_count": null,
   "id": "ccde80d07beaae2f",
   "metadata": {},
   "outputs": [],
   "source": [
    "## Exercise:  Choose a random unitary 3x3 U, and output the table probabilities when the input |1,1,0> passes through the LO-Circuit of unitary U.\n",
    "\n",
    "## Solution:\n",
    "randU = pcvl.Unitary(pcvl.Matrix.random_unitary(3))\n",
    "input = pcvl.BasicState([1, 1, 0])\n",
    "\n",
    "p = pcvl.Processor(\"SLOS\", randU)  #We can put in the processor a pcvl.Unitary instead of a circuit ! We don't need to use pcvl.decomposition\n",
    "analyzer = pcvl.algorithm.Analyzer(p, [input], '*')\n",
    "pcvl.pdisplay(analyzer)"
   ]
  },
  {
   "cell_type": "markdown",
   "id": "fcb164be71b82f87",
   "metadata": {},
   "source": [
    "### 2. Sampling\n",
    "\n",
    "Although it's crucial to compute the output distribution, it's not what we can expect from a photonic chip. Indeed, realistically, we only can obtain a single sample from the distribution each time we run the circuit. This can be done using the backend SLOS.\n",
    "\n"
   ]
  },
  {
   "cell_type": "code",
   "execution_count": null,
   "id": "d23f91396596909f",
   "metadata": {},
   "outputs": [],
   "source": [
    "from perceval.algorithm import Sampler  # import the Sampler class\n",
    "\n",
    "p = pcvl.Processor(\"SLOS\", BS())\n",
    "p.min_detected_photons_filter(0)  # Do not filter out any output state\n",
    "p.with_input(pcvl.BasicState([1,1]))\n",
    "\n",
    "# The sampler holds 'probs', 'sample_count' and 'samples' calls. You can use the one that fits your needs!\n",
    "sampler = Sampler(p)\n",
    "\n",
    "# A sampler call will return a Python dictionary containing sampling results, and two performance scores\n",
    "# sample_count = sampler.sample_count(1000)\n",
    "# sample_count contains {'results': <actual count>, 'physical_perf': float [0.0 - 1.0], 'logical_perf': float [0.0 - 1.0]}\n",
    "sample_count = sampler.sample_count(1000)\n",
    "print(sample_count['results'])"
   ]
  },
  {
   "cell_type": "code",
   "execution_count": null,
   "id": "1c3f32c68453b193",
   "metadata": {},
   "outputs": [],
   "source": [
    "## Exercise: Implement the code to sample from the 3x3 Unitary of earlier\n",
    "\n",
    "#Solution:\n",
    "p = pcvl.Processor(\"CliffordClifford2017\", randU)\n",
    "p.min_detected_photons_filter(0)  # Do not filter out any output state\n",
    "p.with_input(pcvl.BasicState([1, 1, 0]))\n",
    "\n",
    "sampler = pcvl.algorithm.Sampler(p)\n",
    "sample_count = sampler.sample_count(1000)\n",
    "print(sample_count['results'])\n",
    "\n",
    "## Question: How many states do we have for 3 modes and 2 photons?\n",
    "## Answer: There are 6 different states\n",
    "\n",
    "\n",
    "## Question: How many states do we have for m modes and n photons?\n",
    "## Answer: There are m+n-1 choose n different states (cf Bar and Star problems)."
   ]
  },
  {
   "cell_type": "markdown",
   "id": "9d1b9ac284c9a74f",
   "metadata": {},
   "source": [
    "Note : to approximate with decent precision a distribution over $M$ different states, we would need $M^2$ samples. This can be shown by [Hoeffding's inequality](https://en.wikipedia.org/wiki/Hoeffding%27s_inequality)."
   ]
  },
  {
   "cell_type": "markdown",
   "id": "8a95fd9afb880490",
   "metadata": {},
   "source": [
    "### 3. Performance and output state filtering\n",
    "\n",
    "Perceval Processors have a built-in way of computing performance scores.\n",
    "\n",
    "There are two different performance scores:\n",
    "* Physical performance\n",
    "* Logical performance\n",
    "\n",
    "These performance scores help measure the real duration of a data acquisition on a real QPU.\n",
    "\n",
    "The global performance, which is the product of both physical and logical performances, is always returned.\n",
    "The physical and logical performances can be returned by setting:\n",
    "> proc.compute_physical_logical_perf(True)\n",
    "\n",
    "#### a. Physical performance\n",
    "\n",
    "This score is related to the number of detections (on a QPU: number of clicks). It drops output states where photons have been lost, or finish in the same mode.\n",
    "\n",
    "For instance, an imperfect source makes this score drop.\n",
    "\n",
    "However, you can choose not to filter any output state by lowering the expected clicks with:\n",
    "> proc.min_detected_photons_filter(0)\n",
    "\n",
    "##### Processor.min_detected_photons_filter method\n",
    "\n",
    "Perceval aims at being an interface for the QPU and as such, proc.min_detected_photons_filter(int k) post selects on having at least k photons detected (for threshold detection: photons on at least k different modes). By default, this value is set to n where n is the expected number of input photons. This is useful for retrieving a logical interpretation, making sure that no photon has been lost due to noise and coherent with the use of threshold detectors. However, for various applications (for instance machine learning where we use the full Fock space and resolve the number of photons, you will have to set it to 0 (and you may introduce you own post selection scheme if needed)."
   ]
  },
  {
   "cell_type": "code",
   "execution_count": null,
   "id": "9b761881298edb33",
   "metadata": {},
   "outputs": [],
   "source": [
    "# Create an empty circuit (each input mode is directly connected to a detector without interacting with any other)\n",
    "empty_circuit = pcvl.Circuit(4)\n",
    "\n",
    "perfect_proc = pcvl.Processor(\"SLOS\", empty_circuit)\n",
    "imperfect_proc = pcvl.Processor(\"SLOS\", empty_circuit, noise=pcvl.NoiseModel(brightness=0.3))\n",
    "\n",
    "# We need to specify how many photons we want\n",
    "perfect_proc.min_detected_photons_filter(2)\n",
    "imperfect_proc.min_detected_photons_filter(2)\n",
    "\n",
    "# Set the same input in both processors\n",
    "input_state = pcvl.BasicState([1, 0, 1, 0])\n",
    "perfect_proc.with_input(input_state)\n",
    "imperfect_proc.with_input(input_state)\n",
    "\n",
    "# Enable the computation of physical performance\n",
    "perfect_proc.compute_physical_logical_perf(True)\n",
    "imperfect_proc.compute_physical_logical_perf(True)\n",
    "\n",
    "perfect_sampler = pcvl.algorithm.Sampler(perfect_proc)\n",
    "perfect_probs = perfect_sampler.probs()\n",
    "imperfect_sampler = pcvl.algorithm.Sampler(imperfect_proc)\n",
    "imperfect_probs = imperfect_sampler.probs()\n",
    "\n",
    "print('Physical perf of perfect processor =', perfect_probs['physical_perf'])\n",
    "print('Physical perf of imperfect processor =', imperfect_probs['physical_perf'])  # source emission probability**2\n",
    "\n",
    "# You can still disable output state filtering\n",
    "imperfect_proc.min_detected_photons_filter(0)\n",
    "imperfect_probs = imperfect_sampler.probs()\n",
    "print('Physical perf of imperfect processor (without selection) =', imperfect_probs['physical_perf'])"
   ]
  },
  {
   "cell_type": "markdown",
   "id": "5ca337fb78d19177",
   "metadata": {},
   "source": [
    "#### b. Logical performance\n",
    "\n",
    "This performance computation is set up by heralded modes and/or post-selection function set in a processor.\n",
    "\n",
    "Depending on the circuit used, on the post-selection function, you may observe that physical and logical performance score interact. So, if you're interested on a theoretical gate performance, you should disable physical post-selection with:\n",
    "> proc.min_detected_photons_filter(- sum(proc.heralds.values()))\n",
    "\n",
    "or by computing the global performance as\n",
    "> global_perf = res[\"physical_perf\"] * res[\"logical_perf\"]\n",
    "\n",
    "Here is a quick example of the heralding / post-selection syntax in Perceval. You will see the result later on in this notebook."
   ]
  },
  {
   "cell_type": "code",
   "execution_count": null,
   "id": "1f566acab9bc2ddc",
   "metadata": {},
   "outputs": [],
   "source": [
    "circuit = pcvl.Circuit(3) // BS() // (1, BS()) // BS()\n",
    "p = pcvl.Processor(\"SLOS\", circuit)\n",
    "p.add_herald(2, 0)  # Third mode is heralded (0 photon in, 0 photon expected out)\n",
    "\n",
    "p.min_detected_photons_filter(1)  # Only non-heralded modes must be taken into account in this filter\n",
    "\n",
    "# Enable the computation of logical performance\n",
    "p.compute_physical_logical_perf(True)\n",
    "\n",
    "# After a mode is heralded, you must not take it into account when setting an input to the processor\n",
    "p.with_input(pcvl.BasicState([1, 0]))\n",
    "sampler = pcvl.algorithm.Sampler(p)\n",
    "probs = sampler.probs()\n",
    "print(\"With herald only\")\n",
    "print(\"Logical perf =\", probs['logical_perf'])\n",
    "print(probs['results'])\n",
    "\n",
    "# A post-selection function can be created like this:\n",
    "postselect_func = pcvl.PostSelect(\"[1] == 1\")  # meaning we required 1 photon detection in mode #1\n",
    "\n",
    "p.set_postselection(postselect_func)  # Add post-selection\n",
    "probs = sampler.probs()\n",
    "print(\"With herald + post-selection function\")\n",
    "print(\"Logical perf =\", probs['logical_perf'])\n",
    "print(probs['results'])"
   ]
  },
  {
   "cell_type": "markdown",
   "id": "64acbc8671fd0848",
   "metadata": {},
   "source": [
    "### 4. Variational algorithm\n",
    "\n",
    "In variational algorithms, the samples from a quantum circuit allow us to approximate an expectation value, which is then used to determine the value of a loss function. This loss function is chosen such that minimising it yields a solution to a given problem. By changing the values of the parameters in our quantum circuit, we can search for this minimum.\n",
    "\n",
    "We won't go into the details of variational algorithms. However, it may be useful to see how to perform an optimisation with Perceval.\n",
    "\n",
    "We will use the library [scipy.optimise](https://docs.scipy.org/doc/scipy/reference/generated/scipy.optimize.minimize.html#scipy.optimize.minimize).\n",
    "\n",
    "The following code solves the problem of finding an LO-Circuit which, given a Fock State $|1,1,1,1\\rangle$, maximises the probability of outputting $|4,0,0,0\\rangle$.\n",
    "The solution below works for an arbitrary $n$."
   ]
  },
  {
   "cell_type": "code",
   "execution_count": null,
   "id": "3aecdf5ca591c8bd",
   "metadata": {},
   "outputs": [],
   "source": [
    "import random\n",
    "from scipy import optimize\n",
    "\n",
    "# Data\n",
    "n = 4\n",
    "input = pcvl.BasicState([1]*n)\n",
    "output_to_max = pcvl.BasicState([n]+[0]*(n-1))\n",
    "backend = pcvl.SLOSBackend()\n",
    "\n",
    "# TO-DO: implement a generic circuit of size n with parameters. Code the loss function to maximise the good output. Launch the optimisation procedure. Output the probability and circuit obtained\n",
    "\n",
    "# We take a universal circuit\n",
    "circuit = pcvl.GenericInterferometer(n,\n",
    "    lambda i: BS(theta=pcvl.P(f\"theta{i}\"), phi_tr=pcvl.P(f\"phi_tr{i}\")),\n",
    "    phase_shifter_fun_gen=lambda i: PS(phi=pcvl.P(f\"phi{i}\")))\n",
    "param_circuit = circuit.get_parameters()\n",
    "params_init = [random.random()*np.pi for _ in param_circuit]\n",
    "\n",
    "\n",
    "def loss_function(params):\n",
    "    for i, value in enumerate(params):\n",
    "        param_circuit[i].set_value(value)\n",
    "    backend.set_circuit(circuit)\n",
    "    backend.set_input_state(input)\n",
    "    return -backend.probability(output_to_max)  # we want to maximise the prob, so we want to minimise the -prob\n",
    "\n",
    "\n",
    "# Run the optimisation\n",
    "o = optimize.minimize(loss_function, params_init, method=\"Powell\")\n",
    "\n",
    "print(f\"The maximum probability is {-loss_function(o.x)}\")\n",
    "\n",
    "# For n=4, the probability should be 3/32\n",
    "# The maximum can also be obtained with the Hadamard matrix :\n",
    "\n",
    "H4 = (1/2)*np.array([[1,1,1,1], [1,-1,1,-1], [1,1,-1,-1], [1,-1,-1,1]])\n",
    "backend.set_circuit(pcvl.Unitary(pcvl.Matrix(H4)))\n",
    "backend.set_input_state(input)\n",
    "backend.probability(output_to_max)"
   ]
  },
  {
   "cell_type": "markdown",
   "id": "d38566dd4edc51cb",
   "metadata": {},
   "source": [
    "### 5. To go further : connect to a chip\n",
    "\n",
    "Perceval is also connected to real/physical chips.\n",
    "Here's the syntax to sample directly from them !\n",
    "\n",
    "See: [Remote computing](https://perceval.quandela.net/docs/notebooks/Remote_computing.html)"
   ]
  },
  {
   "cell_type": "markdown",
   "id": "4389c7454c9df6ed",
   "metadata": {},
   "source": [
    "## IV. Encoding Qubits <a name=\"encoding\"></a>"
   ]
  },
  {
   "cell_type": "markdown",
   "id": "1466c1c1e3f9dcfc",
   "metadata": {},
   "source": [
    "### 1. Path encoding\n",
    "\n",
    "To perform quantum computations using photons, we need an encoding: a mapping between our Fock states and our qubit states.\n",
    "\n",
    "We therefore want to associate each qubit state with one of our Fock states.\n",
    "\n",
    "One natural way to encode qubits is the path encoding.\n",
    "A qubit is a two-level quantum state, so we will use two spatial modes to encode it: this is the dual-rail or path encoding.\n",
    "\n",
    "The logical qubit state $|0\\rangle_L$ will correspond to a photon in the upper mode, as in the Fock state $|1,0\\rangle$, while $|1\\rangle_L$ will be encoded as $|0,1\\rangle$.\n",
    "\n",
    "\n",
    "We can extend this to multiple qubits by having twice as many modes as there are qubits. For example the $3$-qubit state $\\frac{1}{\\sqrt{2}}(|000\\rangle_L+|111\\rangle_L)$ can be encoded with $3$ photons and $3\\times 2=6$ modes :\n",
    "$\\frac{1}{\\sqrt{2}}(|1,0,1,0,1,0\\rangle+|0,1,0,1,0,1\\rangle)$"
   ]
  },
  {
   "cell_type": "markdown",
   "id": "29a178f67ba2014b",
   "metadata": {},
   "source": [
    "### 2. Single-qubit gates\n",
    "\n",
    "Using the dual-rail encoding, single-qubit gates only deal with one photon and are straightforward. Can you give the LO-circuits for the gates below?"
   ]
  },
  {
   "cell_type": "markdown",
   "id": "f2b377f3cf2ba798",
   "metadata": {},
   "source": [
    "$$X=\\left[\\begin{matrix}0 & 1\\\\1& 0\\end{matrix}\\right]$$\n",
    "$$Y=\\left[\\begin{matrix}0 & -i\\\\i& 0\\end{matrix}\\right]$$\n",
    "$$Z=\\left[\\begin{matrix}1 & 0\\\\0& -1\\end{matrix}\\right]$$\n",
    "$$H=\\frac{1}{\\sqrt{2}} \\left[\\begin{matrix}1 & 1\\\\1& -1\\end{matrix}\\right]$$\n",
    "\n",
    "$$R_X=\\left[\\begin{matrix}\\cos{\\left(\\frac{\\theta}{2} \\right)} & -i \\sin{\\left(\\frac{\\theta}{2} \\right)}\\\\-i \\sin{\\left(\\frac{\\theta}{2} \\right)} & \\cos{\\left(\\frac{\\theta}{2} \\right)}\\end{matrix}\\right]$$\n",
    "\n",
    "$$R_Y=\\left[\\begin{matrix}\\cos{\\left(\\frac{\\theta}{2} \\right)} & - \\sin{\\left(\\frac{\\theta}{2} \\right)}\\\\ \\sin{\\left(\\frac{\\theta}{2} \\right)} & \\cos{\\left(\\frac{\\theta}{2} \\right)}\\end{matrix}\\right]$$\n",
    "\n",
    "$$R_Z=\\left[\\begin{matrix}e^{-i\\frac{\\theta}{2}} & 0 \\\\ 0 & e^{i\\frac{\\theta}{2}}\\end{matrix}\\right]$$"
   ]
  },
  {
   "cell_type": "code",
   "execution_count": null,
   "id": "6454ec6a7c9dc54c",
   "metadata": {},
   "outputs": [],
   "source": [
    "## Exercise: find the LO-circuits for each gate\n",
    "\n",
    "## Solution:\n",
    "circuit_x = PERM([1, 0])  # it's not the only way\n",
    "circuit_y = PERM([1, 0]) // (0, PS(-np.pi/2)) // (1, PS(np.pi/2))\n",
    "circuit_z = pcvl.Circuit(2) // (1, PS(np.pi))\n",
    "circuit_h = BS.H()\n",
    "\n",
    "circuit_rx = pcvl.Circuit(2) // (0, PS(np.pi)) // BS.Rx(theta=pcvl.P(\"theta\")) // (0, PS(np.pi))\n",
    "circuit_ry = BS.Ry(theta=pcvl.P(\"theta\"))\n",
    "circuit_rz = BS.H() // circuit_rx // BS.H()  # Indeed, Rz = H Rx H"
   ]
  },
  {
   "cell_type": "markdown",
   "id": "25211c74b118d858",
   "metadata": {},
   "source": [
    "### 3. Two-qubit gates\n",
    "\n",
    "On the other hand, in dual-rail encoding, it can be shown that two-qubit gates can't be deterministic, and have a probability to fail.\n",
    "\n",
    "There are two ways to detect that failure:\n",
    "\n",
    "- We can use additional photons called ancillas, which we can measure independently from the main circuit photons. Depending on the state obtained on the ancilla, we know whether the gate has succeeded or not on the main qubits. Those gates will be called heralded.\n",
    "- We can also directly measure the main circuit qubits, and depending on the result, assess whether the gate has succeeded or not. Those gates will be called postselected.\n",
    "\n",
    "The CNOT gate acts on two qubits, a control and a target, and flips the value of the target if the control qubit is in state $|1\\rangle_L$. In the following two exercises, we will see the two types of CNOT gates:\n",
    "- the postselected CNOT of [Ralph et al.](https://arxiv.org/abs/quant-ph/0112088)\n",
    "- the heralded CNOT of [Knill](https://arxiv.org/abs/quant-ph/0110144)"
   ]
  },
  {
   "cell_type": "code",
   "execution_count": null,
   "id": "e52f8f097232578f",
   "metadata": {},
   "outputs": [],
   "source": [
    "## We introduce the component catalog. It contains both CNOT gates.\n",
    "from perceval.components import catalog\n",
    "print(catalog.list())"
   ]
  },
  {
   "cell_type": "code",
   "execution_count": null,
   "id": "2863f407fa86d21a",
   "metadata": {},
   "outputs": [],
   "source": [
    "## Ralph's et al. CNot\n",
    "\n",
    "print(catalog['postprocessed cnot'].doc)\n",
    "ralph_cnot = catalog['postprocessed cnot'].build_processor()\n",
    "ralph_cnot.min_detected_photons_filter(0)\n",
    "## You can set its input state with a LogicalState\n",
    "ralph_cnot.with_input(pcvl.LogicalState([1, 0]))\n",
    "\n",
    "pcvl.pdisplay(ralph_cnot, recursive=True, render_size=1.25)"
   ]
  },
  {
   "cell_type": "code",
   "execution_count": null,
   "id": "75f39778a95371ac",
   "metadata": {},
   "outputs": [],
   "source": [
    "## Exercise: Check/convince yourself that the circuit above is performing a CNOT in the dual rail encoding"
   ]
  },
  {
   "cell_type": "code",
   "execution_count": null,
   "id": "7f6ba363a53ebc2",
   "metadata": {},
   "outputs": [],
   "source": [
    "## You can sample some output states\n",
    "cnot_sampler = pcvl.algorithm.Sampler(ralph_cnot)\n",
    "samples = cnot_sampler.probs()\n",
    "print(samples['results'])\n",
    "print(\"Some output states were not selected because of heralds and post-processing => you can check the global performance\")\n",
    "print(\"Global performance = \", samples['global_perf'])"
   ]
  },
  {
   "cell_type": "code",
   "execution_count": null,
   "id": "120631e0b6d14e2a",
   "metadata": {},
   "outputs": [],
   "source": [
    "## Exercise: Check it performs a CNOT, and explicit the difference between the two types of CNOT"
   ]
  },
  {
   "cell_type": "markdown",
   "id": "8884adf719305ed",
   "metadata": {},
   "source": [
    "### Exercise\n",
    "\n",
    "The next circuit comes from the following [paper](https://quantum-journal.org/papers/q-2021-03-29-422/)."
   ]
  },
  {
   "cell_type": "markdown",
   "id": "4bdcabd0c24f9c5f",
   "metadata": {},
   "source": [
    "![](../_static/img/tuto_circuit_to_reproduce.png)"
   ]
  },
  {
   "cell_type": "code",
   "execution_count": null,
   "id": "f7b7dce3a26c533b",
   "metadata": {},
   "outputs": [],
   "source": [
    "## Exercise: reproduce it in the encoding seen above\n",
    "\n",
    "## Solution:\n",
    "# Let's try to implement that circuit properly.\n",
    "# First, the quantum gates, as coded above :\n",
    "\n",
    "Rx = lambda i: pcvl.Circuit(2) // (0,PS(np.pi)) // BS.Rx(theta=pcvl.P(f\"theta{i}\")) // (0,PS(np.pi)) #Be careful for the minus ! We use a convention\n",
    "Ry = lambda i: pcvl.Circuit(2,name=f\"Ry{i}\") // BS.Ry(theta=pcvl.P(f\"theta{i}\"))\n",
    "Rz = lambda i: pcvl.Circuit(2,name=f\"Rz{i}\") // BS.H() // circuit_rx // BS.H()\n",
    "cnot = catalog['heralded cnot'].build_processor()\n",
    "\n",
    "# Our qubits in the dual rail encoding\n",
    "q1, q2, q3 = [0,1], [2,3], [4,5]\n",
    "\n",
    "p = pcvl.Processor(\"SLOS\",6)\n",
    "\n",
    "for i in range(3):\n",
    "    p.add(2*i,Ry(i+1)).add(2*i,Rz(i+4))\n",
    "p.add(q1+q2, cnot)\n",
    "p.add(q1+q3, cnot)\n",
    "p.add(q2+q3, cnot)\n",
    "\n",
    "for i in range(3):\n",
    "    p.add(2*i, Ry(i+7)).add(2*i, Rz(i+10))\n",
    "\n",
    "pcvl.pdisplay(p,recursive=False)"
   ]
  },
  {
   "cell_type": "markdown",
   "id": "c08b20a39f0e4ebb",
   "metadata": {},
   "source": [
    "### Graph states\n",
    "\n",
    "Graph states can be generated from a `networkx` graph with the `StateGenerator` class from Perceval."
   ]
  },
  {
   "cell_type": "code",
   "execution_count": null,
   "id": "77f00a7d0adda4e",
   "metadata": {},
   "outputs": [],
   "source": [
    "import networkx as nx\n",
    "\n",
    "g = nx.Graph()\n",
    "g.add_nodes_from([0, 1, 2])\n",
    "g.add_edge(0, 1)\n",
    "g.add_edge(1, 2)\n",
    "\n",
    "nx.draw_networkx(g, with_labels=True)"
   ]
  },
  {
   "cell_type": "code",
   "execution_count": null,
   "id": "e57d5c99d9c40281",
   "metadata": {},
   "outputs": [],
   "source": [
    "# Set the generator with the dual rail encoding\n",
    "generator = pcvl.StateGenerator(pcvl.Encoding.DUAL_RAIL)\n",
    "graph_state = generator.graph_state(g)\n",
    "print(graph_state)"
   ]
  },
  {
   "cell_type": "code",
   "execution_count": null,
   "id": "81a7c90c659b6014",
   "metadata": {},
   "outputs": [],
   "source": [
    "## You can sample some output states\n",
    "h_cnot = catalog['heralded cnot'].build_processor()\n",
    "cnot_sampler = pcvl.algorithm.Sampler(h_cnot)\n",
    "h_cnot.with_input(pcvl.LogicalState([0, 0]))\n",
    "\n",
    "samples = cnot_sampler.samples(10)\n",
    "print(samples['results'])\n",
    "print(\"Some output states were not selected because of heralds and post-processing => you can check the global performance\")\n",
    "print(\"Global performance = \", samples['global_perf'])"
   ]
  },
  {
   "cell_type": "markdown",
   "id": "65580f58d328b7d7",
   "metadata": {},
   "source": [
    "This graph state is a Perceval `StateVector`. It can be used as an input in any local computation, using `Processor.with_input()`. When a StateVector is input in a processor, it overrides any noisy source you might have set and is treated as a perfect input.\n",
    "\n",
    "Also, a state vector cannot be input in any remote simulator or QPU."
   ]
  },
  {
   "cell_type": "code",
   "execution_count": null,
   "id": "fa9c173ee9ec6e24",
   "metadata": {},
   "outputs": [],
   "source": [
    "p = pcvl.Processor(\"SLOS\", pcvl.Unitary(pcvl.Matrix.random_unitary(6)))  # Use a 6x6 random unitary matrix as a circuit\n",
    "p.min_detected_photons_filter(3)\n",
    "p.with_input(graph_state)\n",
    "sampler = Sampler(p)\n",
    "print(sampler.probs()['results'])"
   ]
  }
 ],
 "metadata": {
  "language_info": {
   "name": "python"
  }
 },
 "nbformat": 4,
 "nbformat_minor": 5
}
