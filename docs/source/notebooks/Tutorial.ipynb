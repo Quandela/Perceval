{
 "cells": [
  {
   "cell_type": "markdown",
   "id": "0a97c59f",
   "metadata": {},
   "source": [
    "# Detailed walkthrough\n",
    "\n",
    "In this tutorial, we will try to cover any basic code to get our hands on Perceval.\n"
   ]
  },
  {
   "cell_type": "markdown",
   "id": "4ad79fd5",
   "metadata": {},
   "source": [
    "## I. Introduction <a class=\"anchor\" id=\"introduction\"></a>\n",
    "\n",
    "### 1. Perceval installation <a name=\"installation\"></a>"
   ]
  },
  {
   "cell_type": "code",
   "execution_count": 1,
   "id": "7537273d",
   "metadata": {},
   "outputs": [
    {
     "data": {
      "text/plain": "'0.8.0'"
     },
     "execution_count": 1,
     "metadata": {},
     "output_type": "execute_result"
    }
   ],
   "source": [
    "import perceval as pcvl\n",
    "pcvl.__version__"
   ]
  },
  {
   "cell_type": "code",
   "execution_count": 2,
   "id": "28abc3e4",
   "metadata": {},
   "outputs": [],
   "source": [
    "from perceval.components.unitary_components import PS, BS, PERM \n",
    "import numpy as np\n",
    "\n",
    "## Use the symbolic skin for display\n",
    "from perceval.rendering.circuit import DisplayConfig, SymbSkin\n",
    "DisplayConfig.select_skin(SymbSkin)"
   ]
  },
  {
   "cell_type": "markdown",
   "id": "8817daed",
   "metadata": {
    "tags": []
   },
   "source": [
    "### 2. BasicStates <a name=\"basicstates\"></a>\n",
    "\n",
    "In Linear Optical Circuits, photons can have many discrete degrees of freedom, called modes. \n",
    "It can be the frequency, the polarisation, the position, or all of them.\n",
    "\n",
    "We represent these degrees of freedom with Fock states. If we have $n$ photons over $m$ modes, the Fock state $|s_1,s_2,...,s_m\\rangle$ means we have $s_i$ photons in the $i^{th}$ mode. Note that $\\sum_{i=1}^m s_i =n$.\n",
    "\n",
    "In Perceval, we will use the module `pcvl.BasicState`"
   ]
  },
  {
   "cell_type": "code",
   "execution_count": 3,
   "id": "435b102b",
   "metadata": {},
   "outputs": [
    {
     "name": "stdout",
     "output_type": "stream",
     "text": [
      "Those are the same states\n",
      "There is 0 photon in mode 0\n",
      "There is 2 photon in mode 1\n",
      "There is 0 photon in mode 2\n",
      "There is 1 photon in mode 3\n"
     ]
    }
   ],
   "source": [
    "## Syntax of different BasicState (list, string, etc)\n",
    "bs1 = pcvl.BasicState('|0,2,0,1>')\n",
    "bs2 = pcvl.BasicState([0, 2, 0, 1])\n",
    "\n",
    "if bs1==bs2:print(\"Those are the same states\")\n",
    "\n",
    "## You can iterate on modes\n",
    "for i, photon_count in enumerate(bs2):\n",
    "    print(f\"There is {photon_count} photon in mode {i}\")\n",
    "\n"
   ]
  },
  {
   "cell_type": "markdown",
   "id": "5fe29a50",
   "metadata": {},
   "source": [
    "### 3. LO-Components <a name=\"components\"></a>\n",
    "\n",
    "The linear optical components are the elementary blocks which will act on our Fock states.\n",
    "\n",
    "It's important to know all the possible components that can be found in Perceval and understand their effects.\n",
    "\n"
   ]
  },
  {
   "cell_type": "code",
   "execution_count": 4,
   "id": "f3dad8b0",
   "metadata": {},
   "outputs": [
    {
     "name": "stdout",
     "output_type": "stream",
     "text": [
      "PERM\n",
      "PERM([2, 0, 1])\n"
     ]
    },
    {
     "data": {
      "text/plain": "<IPython.core.display.HTML object>",
      "text/html": "$\\left[\\begin{matrix}0 & 1 & 0\\\\0 & 0 & 1\\\\1 & 0 & 0\\end{matrix}\\right]$"
     },
     "metadata": {},
     "output_type": "display_data"
    },
    {
     "data": {
      "text/plain": "<drawSvg.drawing.Drawing at 0x24ce39bfee0>",
      "image/svg+xml": "<?xml version=\"1.0\" encoding=\"UTF-8\"?>\n<svg xmlns=\"http://www.w3.org/2000/svg\" xmlns:xlink=\"http://www.w3.org/1999/xlink\"\n     width=\"250.0\" height=\"250.0\" viewBox=\"-28.0 0 200 200\">\n<defs>\n</defs>\n<path d=\"M10,25 L25,25\" stroke-width=\"1\" stroke=\"black\" stroke-linejoin=\"miter\" fill=\"none\" />\n<path d=\"M10,75 L25,75\" stroke-width=\"1\" stroke=\"black\" stroke-linejoin=\"miter\" fill=\"none\" />\n<path d=\"M10,125 L25,125\" stroke-width=\"1\" stroke=\"black\" stroke-linejoin=\"miter\" fill=\"none\" />\n<path d=\"M25,24.8 C45,25,55,125,75,125\" stroke-width=\"2\" stroke=\"white\" stroke-linejoin=\"miter\" fill=\"none\" />\n<path d=\"M25,25 C45,25,55,125,75,125\" stroke-width=\"1\" stroke=\"black\" stroke-linejoin=\"miter\" fill=\"none\" />\n<path d=\"M25,74.8 C45,75,55,25,75,25\" stroke-width=\"2\" stroke=\"white\" stroke-linejoin=\"miter\" fill=\"none\" />\n<path d=\"M25,75 C45,75,55,25,75,25\" stroke-width=\"1\" stroke=\"black\" stroke-linejoin=\"miter\" fill=\"none\" />\n<path d=\"M25,124.8 C45,125,55,75,75,75\" stroke-width=\"2\" stroke=\"white\" stroke-linejoin=\"miter\" fill=\"none\" />\n<path d=\"M25,125 C45,125,55,75,75,75\" stroke-width=\"1\" stroke=\"black\" stroke-linejoin=\"miter\" fill=\"none\" />\n<path d=\"M75,25 L90,25\" stroke-width=\"1\" stroke=\"black\" stroke-linejoin=\"miter\" fill=\"none\" />\n<path d=\"M75,75 L90,75\" stroke-width=\"1\" stroke=\"black\" stroke-linejoin=\"miter\" fill=\"none\" />\n<path d=\"M75,125 L90,125\" stroke-width=\"1\" stroke=\"black\" stroke-linejoin=\"miter\" fill=\"none\" />\n<text x=\"100\" y=\"28\" font-size=\"6\" text-anchor=\"end\" dy=\"0em\">0</text>\n<text x=\"100\" y=\"78\" font-size=\"6\" text-anchor=\"end\" dy=\"0em\">1</text>\n<text x=\"100\" y=\"128\" font-size=\"6\" text-anchor=\"end\" dy=\"0em\">2</text>\n<text x=\"0\" y=\"28\" font-size=\"6\" text-anchor=\"start\" dy=\"0em\">0</text>\n<text x=\"0\" y=\"78\" font-size=\"6\" text-anchor=\"start\" dy=\"0em\">1</text>\n<text x=\"0\" y=\"128\" font-size=\"6\" text-anchor=\"start\" dy=\"0em\">2</text>\n</svg>"
     },
     "execution_count": 4,
     "metadata": {},
     "output_type": "execute_result"
    }
   ],
   "source": [
    "## Permutation\n",
    "\n",
    "perm=PERM([2,0,1])\n",
    "\n",
    "print(perm.name)\n",
    "print(perm.describe())\n",
    "pcvl.pdisplay(perm.definition())\n",
    "pcvl.pdisplay(perm)"
   ]
  },
  {
   "cell_type": "code",
   "execution_count": 5,
   "id": "1d0cf3b2",
   "metadata": {},
   "outputs": [
    {
     "name": "stdout",
     "output_type": "stream",
     "text": [
      "PS\n",
      "PS(phi=pi)\n"
     ]
    },
    {
     "data": {
      "text/plain": "<IPython.core.display.HTML object>",
      "text/html": "$\\left[\\begin{matrix}e^{i \\phi}\\end{matrix}\\right]$"
     },
     "metadata": {},
     "output_type": "display_data"
    },
    {
     "data": {
      "text/plain": "<drawSvg.drawing.Drawing at 0x24ce3a25f90>",
      "image/svg+xml": "<?xml version=\"1.0\" encoding=\"UTF-8\"?>\n<svg xmlns=\"http://www.w3.org/2000/svg\" xmlns:xlink=\"http://www.w3.org/1999/xlink\"\n     width=\"250.0\" height=\"125.0\" viewBox=\"-28.0 0 200 100\">\n<defs>\n</defs>\n<path d=\"M10,25 L25,25\" stroke-width=\"1\" stroke=\"black\" stroke-linejoin=\"miter\" fill=\"none\" />\n<path d=\"M25,25 L45,25 M55,25 L75,25\" stroke-width=\"1\" stroke=\"black\" stroke-linejoin=\"miter\" fill=\"none\" />\n<path d=\"M40,35 L60,35 L60,15 L40,15 L40,35\" stroke-width=\"1\" stroke=\"black\" stroke-linejoin=\"miter\" fill=\"lightgray\" />\n<text x=\"50\" y=\"44\" font-size=\"7\" text-anchor=\"middle\" dy=\"0em\">Φ=pi</text>\n<path d=\"M75,25 L90,25\" stroke-width=\"1\" stroke=\"black\" stroke-linejoin=\"miter\" fill=\"none\" />\n<text x=\"100\" y=\"28\" font-size=\"6\" text-anchor=\"end\" dy=\"0em\">0</text>\n<text x=\"0\" y=\"28\" font-size=\"6\" text-anchor=\"start\" dy=\"0em\">0</text>\n</svg>"
     },
     "execution_count": 5,
     "metadata": {},
     "output_type": "execute_result"
    }
   ],
   "source": [
    "## Phase shifter\n",
    "ps = PS(phi=np.pi)\n",
    "\n",
    "print(ps.name)\n",
    "print(ps.describe())  \n",
    "pcvl.pdisplay(ps.definition()) \n",
    "pcvl.pdisplay(ps)  # A pdisplay call on a circuit/processor needs to be the last line of a cell\n"
   ]
  },
  {
   "cell_type": "code",
   "execution_count": 6,
   "id": "d71c153b",
   "metadata": {},
   "outputs": [
    {
     "name": "stdout",
     "output_type": "stream",
     "text": [
      "BS.Rx() unitary matrix\n"
     ]
    },
    {
     "data": {
      "text/plain": "<IPython.core.display.HTML object>",
      "text/html": "$\\left[\\begin{matrix}e^{i \\left(\\phi_{tl} + \\phi_{tr}\\right)} \\cos{\\left(\\frac{\\theta}{2} \\right)} & i e^{i \\left(\\phi_{bl} + \\phi_{tr}\\right)} \\sin{\\left(\\frac{\\theta}{2} \\right)}\\\\i e^{i \\left(\\phi_{br} + \\phi_{tl}\\right)} \\sin{\\left(\\frac{\\theta}{2} \\right)} & e^{i \\left(\\phi_{bl} + \\phi_{br}\\right)} \\cos{\\left(\\frac{\\theta}{2} \\right)}\\end{matrix}\\right]$"
     },
     "metadata": {},
     "output_type": "display_data"
    },
    {
     "name": "stdout",
     "output_type": "stream",
     "text": [
      "BS.H() unitary matrix\n"
     ]
    },
    {
     "data": {
      "text/plain": "<IPython.core.display.HTML object>",
      "text/html": "$\\left[\\begin{matrix}e^{i \\left(\\phi_{tl} + \\phi_{tr}\\right)} \\cos{\\left(\\frac{\\theta}{2} \\right)} & e^{i \\left(\\phi_{bl} + \\phi_{tr}\\right)} \\sin{\\left(\\frac{\\theta}{2} \\right)}\\\\e^{i \\left(\\phi_{br} + \\phi_{tl}\\right)} \\sin{\\left(\\frac{\\theta}{2} \\right)} & - e^{i \\left(\\phi_{bl} + \\phi_{br}\\right)} \\cos{\\left(\\frac{\\theta}{2} \\right)}\\end{matrix}\\right]$"
     },
     "metadata": {},
     "output_type": "display_data"
    },
    {
     "name": "stdout",
     "output_type": "stream",
     "text": [
      "BS.Ry() unitary matrix\n"
     ]
    },
    {
     "data": {
      "text/plain": "<IPython.core.display.HTML object>",
      "text/html": "$\\left[\\begin{matrix}e^{i \\left(\\phi_{tl} + \\phi_{tr}\\right)} \\cos{\\left(\\frac{\\theta}{2} \\right)} & - e^{i \\left(\\phi_{bl} + \\phi_{tr}\\right)} \\sin{\\left(\\frac{\\theta}{2} \\right)}\\\\e^{i \\left(\\phi_{br} + \\phi_{tl}\\right)} \\sin{\\left(\\frac{\\theta}{2} \\right)} & e^{i \\left(\\phi_{bl} + \\phi_{br}\\right)} \\cos{\\left(\\frac{\\theta}{2} \\right)}\\end{matrix}\\right]$"
     },
     "metadata": {},
     "output_type": "display_data"
    },
    {
     "name": "stdout",
     "output_type": "stream",
     "text": [
      "BS displays its convention as a small label\n"
     ]
    },
    {
     "data": {
      "text/plain": "<drawSvg.drawing.Drawing at 0x24ce5de8be0>",
      "image/svg+xml": "<?xml version=\"1.0\" encoding=\"UTF-8\"?>\n<svg xmlns=\"http://www.w3.org/2000/svg\" xmlns:xlink=\"http://www.w3.org/1999/xlink\"\n     width=\"312.5\" height=\"187.5\" viewBox=\"-28.0 0 250 150\">\n<defs>\n</defs>\n<path d=\"M10,25 L25,25\" stroke-width=\"1\" stroke=\"black\" stroke-linejoin=\"miter\" fill=\"none\" />\n<path d=\"M10,75 L25,75\" stroke-width=\"1\" stroke=\"black\" stroke-linejoin=\"miter\" fill=\"none\" />\n<path d=\"M37.9442,25.0002 C51.653800000000004,25.0002,51.5923,50.0,65.3019,50.0 M65.3038,50.0 C51.59219999999999,50.0,51.6538,74.9998,37.94409999999999,74.9998 M65.3038,49.99999999999999 L87.1884,49.99999999999999 M87.1884,49.99999999999999 C100.9,49.99999999999999,100.83840000000001,25.000199999999992,114.5481,25.000199999999992 M87.1884,49.99999999999999 C100.9,49.99999999999999,100.83840000000001,74.9998,114.5481,74.9998 M25.0,24.999999999999993 L38.0,24.999999999999993 M38.0019,74.9998 L25.0,74.9998 M112.6453,74.9998 L125.0,74.9998 M112.1944,24.999799999999993 L125.0,24.999799999999993\" stroke-width=\"1\" stroke=\"black\" stroke-linejoin=\"miter\" fill=\"none\" />\n<text x=\"75\" y=\"38\" font-size=\"7\" text-anchor=\"middle\" dy=\"0em\"></text>\n<path d=\"M97,53 L107,53 L107,63 L97,63 Z\" stroke=\"black\" fill=\"lightsalmon\" stroke-linejoin=\"miter\" />\n<text x=\"102\" y=\"60\" font-size=\"6\" text-anchor=\"middle\" dy=\"0em\">Ry</text>\n<path d=\"M125,25 L140,25\" stroke-width=\"1\" stroke=\"black\" stroke-linejoin=\"miter\" fill=\"none\" />\n<path d=\"M125,75 L140,75\" stroke-width=\"1\" stroke=\"black\" stroke-linejoin=\"miter\" fill=\"none\" />\n<text x=\"150\" y=\"28\" font-size=\"6\" text-anchor=\"end\" dy=\"0em\">0</text>\n<text x=\"150\" y=\"78\" font-size=\"6\" text-anchor=\"end\" dy=\"0em\">1</text>\n<text x=\"0\" y=\"28\" font-size=\"6\" text-anchor=\"start\" dy=\"0em\">0</text>\n<text x=\"0\" y=\"78\" font-size=\"6\" text-anchor=\"start\" dy=\"0em\">1</text>\n</svg>"
     },
     "execution_count": 6,
     "metadata": {},
     "output_type": "execute_result"
    }
   ],
   "source": [
    "## Beam splitters\n",
    "\n",
    "bs_rx = BS.Rx()  # By default a beam splitter follows the Rx gate convention, so bs=BS() has the same matrix\n",
    "\n",
    "# But other conventions exist too:\n",
    "bs_h = BS.H() \n",
    "bs_ry = BS.Ry()\n",
    "\n",
    "## Check the difference in the unitary definition:\n",
    "print(\"BS.Rx() unitary matrix\")\n",
    "pcvl.pdisplay(bs_rx.definition())\n",
    "print(\"BS.H() unitary matrix\")\n",
    "pcvl.pdisplay(bs_h.definition())\n",
    "print(\"BS.Ry() unitary matrix\")\n",
    "pcvl.pdisplay(bs_ry.definition())\n",
    "print(\"BS displays its convention as a small label\")\n",
    "pcvl.pdisplay(bs_ry)"
   ]
  },
  {
   "cell_type": "code",
   "execution_count": 7,
   "id": "cd1e84bb",
   "metadata": {},
   "outputs": [
    {
     "data": {
      "text/plain": "<IPython.core.display.HTML object>",
      "text/html": "$\\left[\\begin{matrix}e^{0.392699081698724 i}\\end{matrix}\\right]$"
     },
     "metadata": {},
     "output_type": "display_data"
    },
    {
     "data": {
      "text/plain": "<IPython.core.display.HTML object>",
      "text/html": "$\\left[\\begin{matrix}0.92388 + 0.382683 i\\end{matrix}\\right]$"
     },
     "metadata": {},
     "output_type": "display_data"
    },
    {
     "name": "stdout",
     "output_type": "stream",
     "text": [
      "\n",
      "A default beam-splitter:\n"
     ]
    },
    {
     "data": {
      "text/plain": "<IPython.core.display.HTML object>",
      "text/html": "$\\left[\\begin{matrix}\\frac{\\sqrt{2}}{2} & \\frac{\\sqrt{2} i}{2}\\\\\\frac{\\sqrt{2} i}{2} & \\frac{\\sqrt{2}}{2}\\end{matrix}\\right]$"
     },
     "metadata": {},
     "output_type": "display_data"
    },
    {
     "name": "stdout",
     "output_type": "stream",
     "text": [
      "\n",
      "A Beam-Splitter with a numerical value for theta:\n"
     ]
    },
    {
     "data": {
      "text/plain": "<IPython.core.display.HTML object>",
      "text/html": "$\\left[\\begin{matrix}\\cos{\\left(5 \\right)} & i \\sin{\\left(5 \\right)}\\\\i \\sin{\\left(5 \\right)} & \\cos{\\left(5 \\right)}\\end{matrix}\\right]$"
     },
     "metadata": {},
     "output_type": "display_data"
    },
    {
     "data": {
      "text/plain": "<IPython.core.display.HTML object>",
      "text/html": "$\\left[\\begin{matrix}0.283662 & - 0.958924 i\\\\- 0.958924 i & 0.283662\\end{matrix}\\right]$"
     },
     "metadata": {},
     "output_type": "display_data"
    },
    {
     "name": "stdout",
     "output_type": "stream",
     "text": [
      "\n",
      "A Phase Shifter with a symbolic value for phi:\n"
     ]
    },
    {
     "data": {
      "text/plain": "<IPython.core.display.HTML object>",
      "text/html": "$\\left[\\begin{matrix}e^{i \\psi}\\end{matrix}\\right]$"
     },
     "metadata": {},
     "output_type": "display_data"
    },
    {
     "name": "stdout",
     "output_type": "stream",
     "text": [
      "\n",
      "A beam-splitter with a symbolic variable...\n"
     ]
    },
    {
     "data": {
      "text/plain": "<IPython.core.display.HTML object>",
      "text/html": "$\\left[\\begin{matrix}\\cos{\\left(\\frac{toto}{2} \\right)} & i \\sin{\\left(\\frac{toto}{2} \\right)}\\\\i \\sin{\\left(\\frac{toto}{2} \\right)} & \\cos{\\left(\\frac{toto}{2} \\right)}\\end{matrix}\\right]$"
     },
     "metadata": {},
     "output_type": "display_data"
    },
    {
     "name": "stdout",
     "output_type": "stream",
     "text": [
      "... set to a numerical value\n"
     ]
    },
    {
     "data": {
      "text/plain": "<IPython.core.display.HTML object>",
      "text/html": "$\\left[\\begin{matrix}0.283662 & - 0.958924 i\\\\- 0.958924 i & 0.283662\\end{matrix}\\right]$"
     },
     "metadata": {},
     "output_type": "display_data"
    },
    {
     "name": "stdout",
     "output_type": "stream",
     "text": [
      "\n",
      "Modified parameters...\n",
      "     Parameter(name='toto', value=3.141592653589793, min_v=0.0, max_v=12.566370614359172)\n",
      "     Parameter(name='tata', value=None, min_v=0.0, max_v=6.283185307179586)\n",
      "... and successfully modified Beam-Splitter:\n"
     ]
    },
    {
     "data": {
      "text/plain": "<IPython.core.display.HTML object>",
      "text/html": "$\\left[\\begin{matrix}6.12323399573677 \\cdot 10^{-17} e^{i \\left(tata + 5.28318530717959\\right)} & 1.0 i e^{5.28318530717959 i}\\\\1.0 i e^{i tata} & 6.12323399573677 \\cdot 10^{-17}\\end{matrix}\\right]$"
     },
     "metadata": {},
     "output_type": "display_data"
    }
   ],
   "source": [
    "# You can ask for the symbolic matrix value of your component with the attribute U\n",
    "my_ps = PS(phi=np.pi/8)\n",
    "pcvl.pdisplay(my_ps.U)\n",
    "# And for the numerical value with the method compute_unitary\n",
    "pcvl.pdisplay(my_ps.compute_unitary())\n",
    "print(\"\")\n",
    "\n",
    "# If you do it for a Beam-Splitter, you can see that by default theta=pi/2, and the phi's are 0\n",
    "print(\"A default beam-splitter:\")\n",
    "pcvl.pdisplay(BS().compute_unitary())  #this is a balanced Beamsplitter\n",
    "print(\"\")\n",
    "\n",
    "# To control the value of the parameters of a component, several choices are possible: \n",
    "#  - by setting a numerical value during the creation of the component\n",
    "print(\"A Beam-Splitter with a numerical value for theta:\")\n",
    "bs_rx = BS.Rx(theta=10)\n",
    "pcvl.pdisplay(bs_rx.U)\n",
    "pcvl.pdisplay(bs_rx.compute_unitary())\n",
    "print(\"\")\n",
    "\n",
    "#  - by using the syntax pcvl.P to create a symbolic variable \n",
    "#    (note that you cannot compute the numerical value of your component anymore)\n",
    "print(\"A Phase Shifter with a symbolic value for phi:\")\n",
    "ps = PS(phi=pcvl.P('\\psi'))\n",
    "pcvl.pdisplay(ps.U)\n",
    "print(\"\")\n",
    "\n",
    "#  - you can still modify the value of a symbolic variable after its creation\n",
    "#    This is not true for a numerical variable!\n",
    "print(\"A beam-splitter with a symbolic variable...\")\n",
    "bs_rx = BS(theta=pcvl.P('toto'))\n",
    "pcvl.pdisplay(bs_rx.U)\n",
    "bs_rx.assign({'toto':5})\n",
    "bs_rx.assign({'toto':10})\n",
    "print(\"... set to a numerical value\")\n",
    "pcvl.pdisplay(bs_rx.compute_unitary())\n",
    "print(\"\")\n",
    "\n",
    "# To check which parameters can be modified, you can call the method get_parameters\n",
    "# You can also directly change the output of get_parameters to change the values of the parameters\n",
    "bs_rx = BS(theta=pcvl.P('toto'), phi_tl = pcvl.P('tata'), phi_tr = -1)\n",
    "parameters = bs_rx.get_parameters()\n",
    "parameters[0].set_value(np.pi)\n",
    "print(\"Modified parameters...\")\n",
    "for param in parameters:\n",
    "    print(\"    \", param)\n",
    "print(\"... and successfully modified Beam-Splitter:\")\n",
    "pcvl.pdisplay(bs_rx.U)"
   ]
  },
  {
   "cell_type": "code",
   "execution_count": 8,
   "id": "b04b1194",
   "metadata": {},
   "outputs": [
    {
     "data": {
      "text/plain": "<IPython.core.display.HTML object>",
      "text/html": "$\\left[\\begin{matrix}e^{i \\left(\\phi_{tl} + \\phi_{tr}\\right)} \\cos{\\left(\\frac{\\theta}{2} \\right)} & i e^{i \\left(\\phi_{bl} + \\phi_{tr}\\right)} \\sin{\\left(\\frac{\\theta}{2} \\right)}\\\\i e^{i \\left(\\phi_{br} + \\phi_{tl}\\right)} \\sin{\\left(\\frac{\\theta}{2} \\right)} & e^{i \\left(\\phi_{bl} + \\phi_{br}\\right)} \\cos{\\left(\\frac{\\theta}{2} \\right)}\\end{matrix}\\right]$"
     },
     "metadata": {},
     "output_type": "display_data"
    },
    {
     "data": {
      "text/plain": "<drawSvg.drawing.Drawing at 0x24ce5edded0>",
      "image/svg+xml": "<?xml version=\"1.0\" encoding=\"UTF-8\"?>\n<svg xmlns=\"http://www.w3.org/2000/svg\" xmlns:xlink=\"http://www.w3.org/1999/xlink\"\n     width=\"437.5\" height=\"187.5\" viewBox=\"-28.0 0 350 150\">\n<defs>\n</defs>\n<path d=\"M10,25 L25,25\" stroke-width=\"1\" stroke=\"black\" stroke-linejoin=\"miter\" fill=\"none\" />\n<path d=\"M10,75 L25,75\" stroke-width=\"1\" stroke=\"black\" stroke-linejoin=\"miter\" fill=\"none\" />\n<path d=\"M25,25 L45,25 M55,25 L75,25\" stroke-width=\"1\" stroke=\"black\" stroke-linejoin=\"miter\" fill=\"none\" />\n<path d=\"M40,35 L60,35 L60,15 L40,15 L40,35\" stroke-width=\"1\" stroke=\"black\" stroke-linejoin=\"miter\" fill=\"lightgray\" />\n<text x=\"50\" y=\"44\" font-size=\"7\" text-anchor=\"middle\" dy=\"0em\">Φ=phi_tl</text>\n<path d=\"M25,75 L45,75 M55,75 L75,75\" stroke-width=\"1\" stroke=\"black\" stroke-linejoin=\"miter\" fill=\"none\" />\n<path d=\"M40,85 L60,85 L60,65 L40,65 L40,85\" stroke-width=\"1\" stroke=\"black\" stroke-linejoin=\"miter\" fill=\"lightgray\" />\n<text x=\"50\" y=\"94\" font-size=\"7\" text-anchor=\"middle\" dy=\"0em\">Φ=phi_bl</text>\n<path d=\"M87.9442,25.0002 C101.65379999999999,25.0002,101.5923,50.0,115.30189999999999,50.0 M115.3038,50.0 C101.59219999999999,50.0,101.65379999999999,74.9998,87.94409999999999,74.9998 M115.3038,49.99999999999999 L137.1884,49.99999999999999 M137.1884,49.99999999999999 C150.9,49.99999999999999,150.8384,25.000199999999992,164.5481,25.000199999999992 M137.1884,49.99999999999999 C150.9,49.99999999999999,150.8384,74.9998,164.5481,74.9998 M75.0,24.999999999999993 L88.0,24.999999999999993 M88.0019,74.9998 L75.0,74.9998 M162.64530000000002,74.9998 L175.0,74.9998 M162.1944,24.999799999999993 L175.0,24.999799999999993\" stroke-width=\"1\" stroke=\"black\" stroke-linejoin=\"miter\" fill=\"none\" />\n<text x=\"125\" y=\"38\" font-size=\"7\" text-anchor=\"middle\" dy=\"0em\">Θ=theta</text>\n<path d=\"M147,53 L157,53 L157,63 L147,63 Z\" stroke=\"black\" fill=\"thistle\" stroke-linejoin=\"miter\" />\n<text x=\"152\" y=\"60\" font-size=\"6\" text-anchor=\"middle\" dy=\"0em\">Rx</text>\n<path d=\"M175,25 L195,25 M205,25 L225,25\" stroke-width=\"1\" stroke=\"black\" stroke-linejoin=\"miter\" fill=\"none\" />\n<path d=\"M190,35 L210,35 L210,15 L190,15 L190,35\" stroke-width=\"1\" stroke=\"black\" stroke-linejoin=\"miter\" fill=\"lightgray\" />\n<text x=\"200\" y=\"44\" font-size=\"7\" text-anchor=\"middle\" dy=\"0em\">Φ=phi_tr</text>\n<path d=\"M175,75 L195,75 M205,75 L225,75\" stroke-width=\"1\" stroke=\"black\" stroke-linejoin=\"miter\" fill=\"none\" />\n<path d=\"M190,85 L210,85 L210,65 L190,65 L190,85\" stroke-width=\"1\" stroke=\"black\" stroke-linejoin=\"miter\" fill=\"lightgray\" />\n<text x=\"200\" y=\"94\" font-size=\"7\" text-anchor=\"middle\" dy=\"0em\">Φ=phi_br</text>\n<path d=\"M225,25 L240,25\" stroke-width=\"1\" stroke=\"black\" stroke-linejoin=\"miter\" fill=\"none\" />\n<path d=\"M225,75 L240,75\" stroke-width=\"1\" stroke=\"black\" stroke-linejoin=\"miter\" fill=\"none\" />\n<text x=\"250\" y=\"28\" font-size=\"6\" text-anchor=\"end\" dy=\"0em\">0</text>\n<text x=\"250\" y=\"78\" font-size=\"6\" text-anchor=\"end\" dy=\"0em\">1</text>\n<text x=\"0\" y=\"28\" font-size=\"6\" text-anchor=\"start\" dy=\"0em\">0</text>\n<text x=\"0\" y=\"78\" font-size=\"6\" text-anchor=\"start\" dy=\"0em\">1</text>\n</svg>"
     },
     "execution_count": 8,
     "metadata": {},
     "output_type": "execute_result"
    }
   ],
   "source": [
    "## to understand the conventions, you can note that a BS.Rx with the 4 phases phi (top left/right and bottom left/right) can be represented like that \n",
    "\n",
    "bs_rx_circuit=pcvl.Circuit(2) // (0,PS(phi=pcvl.P(\"phi_tl\"))) // (1,PS(phi=pcvl.P(\"phi_bl\"))) // BS(theta=pcvl.P('theta')) // (0,PS(phi=pcvl.P(\"phi_tr\"))) // (1,PS(phi=pcvl.P(\"phi_br\")))\n",
    "\n",
    "\n",
    "pcvl.pdisplay(bs_rx_circuit.U)\n",
    "\n",
    "# we can check it's the same as bs_rx.definition()\n",
    "pcvl.pdisplay(bs_rx_circuit)\n",
    "\n",
    "## For this cell, we needed the syntax to builds circuits... Good transition !"
   ]
  },
  {
   "cell_type": "markdown",
   "id": "bb4cd4d2",
   "metadata": {},
   "source": [
    "## II. LO-Circuits <a class=\"anchor\" id=\"circuits\"></a>\n",
    "\n",
    "From the LO-components, we can build a LO-circuit, i.e. a sequence of those components acting on our different modes.\n",
    "\n",
    "### 1. Syntax"
   ]
  },
  {
   "cell_type": "code",
   "execution_count": 9,
   "id": "2ab8b90e",
   "metadata": {},
   "outputs": [
    {
     "data": {
      "text/plain": "<IPython.core.display.HTML object>",
      "text/html": "$\\left[\\begin{matrix}\\frac{\\sqrt{2} e^{1.5707963267949 i}}{2} & \\frac{\\sqrt{2} i e^{1.5707963267949 i}}{2} & 0\\\\\\frac{i e^{i \\phi}}{2} & \\frac{e^{i \\phi}}{2} & \\frac{\\sqrt{2} i}{2}\\\\- \\frac{e^{i \\phi}}{2} & \\frac{i e^{i \\phi}}{2} & \\frac{\\sqrt{2}}{2}\\end{matrix}\\right]$"
     },
     "metadata": {},
     "output_type": "display_data"
    },
    {
     "data": {
      "text/plain": "<drawSvg.drawing.Drawing at 0x24ce5d3c280>",
      "image/svg+xml": "<?xml version=\"1.0\" encoding=\"UTF-8\"?>\n<svg xmlns=\"http://www.w3.org/2000/svg\" xmlns:xlink=\"http://www.w3.org/1999/xlink\"\n     width=\"500.0\" height=\"250.0\" viewBox=\"-28.0 0 400 200\">\n<defs>\n</defs>\n<path d=\"M10,25 L25,25\" stroke-width=\"1\" stroke=\"black\" stroke-linejoin=\"miter\" fill=\"none\" />\n<path d=\"M10,75 L25,75\" stroke-width=\"1\" stroke=\"black\" stroke-linejoin=\"miter\" fill=\"none\" />\n<path d=\"M10,125 L25,125\" stroke-width=\"1\" stroke=\"black\" stroke-linejoin=\"miter\" fill=\"none\" />\n<path d=\"M37.9442,25.0002 C51.653800000000004,25.0002,51.5923,50.0,65.3019,50.0 M65.3038,50.0 C51.59219999999999,50.0,51.6538,74.9998,37.94409999999999,74.9998 M65.3038,49.99999999999999 L87.1884,49.99999999999999 M87.1884,49.99999999999999 C100.9,49.99999999999999,100.83840000000001,25.000199999999992,114.5481,25.000199999999992 M87.1884,49.99999999999999 C100.9,49.99999999999999,100.83840000000001,74.9998,114.5481,74.9998 M25.0,24.999999999999993 L38.0,24.999999999999993 M38.0019,74.9998 L25.0,74.9998 M112.6453,74.9998 L125.0,74.9998 M112.1944,24.999799999999993 L125.0,24.999799999999993\" stroke-width=\"1\" stroke=\"black\" stroke-linejoin=\"miter\" fill=\"none\" />\n<text x=\"75\" y=\"38\" font-size=\"7\" text-anchor=\"middle\" dy=\"0em\"></text>\n<path d=\"M97,53 L107,53 L107,63 L97,63 Z\" stroke=\"black\" fill=\"thistle\" stroke-linejoin=\"miter\" />\n<text x=\"102\" y=\"60\" font-size=\"6\" text-anchor=\"middle\" dy=\"0em\">Rx</text>\n<path d=\"M125,25 L145,25 M155,25 L175,25\" stroke-width=\"1\" stroke=\"black\" stroke-linejoin=\"miter\" fill=\"none\" />\n<path d=\"M140,35 L160,35 L160,15 L140,15 L140,35\" stroke-width=\"1\" stroke=\"black\" stroke-linejoin=\"miter\" fill=\"lightgray\" />\n<text x=\"150\" y=\"44\" font-size=\"7\" text-anchor=\"middle\" dy=\"0em\">Φ=pi/2</text>\n<path d=\"M125,75 L145,75 M155,75 L175,75\" stroke-width=\"1\" stroke=\"black\" stroke-linejoin=\"miter\" fill=\"none\" />\n<path d=\"M140,85 L160,85 L160,65 L140,65 L140,85\" stroke-width=\"1\" stroke=\"black\" stroke-linejoin=\"miter\" fill=\"lightgray\" />\n<text x=\"150\" y=\"94\" font-size=\"7\" text-anchor=\"middle\" dy=\"0em\">Φ=phi</text>\n<path d=\"M25,125 L175,125\" stroke=\"black\" stroke-width=\"1\" fill=\"none\" />\n<path d=\"M187.9442,75.0002 C201.6538,75.0002,201.5923,100.0,215.3019,100.0 M215.3038,100.0 C201.5922,100.0,201.6538,124.9998,187.9441,124.9998 M215.3038,100.0 L237.1884,100.0 M237.1884,100.0 C250.9,100.0,250.8384,75.0002,264.5481,75.0002 M237.18839999999997,100.0 C250.89999999999998,100.0,250.83839999999998,124.9998,264.5481,124.9998 M174.99999999999997,75.0 L187.99999999999997,75.0 M188.00189999999998,124.9998 L174.99999999999997,124.9998 M262.64529999999996,124.9998 L274.99999999999994,124.9998 M262.1944,74.9998 L275.0,74.9998\" stroke-width=\"1\" stroke=\"black\" stroke-linejoin=\"miter\" fill=\"none\" />\n<text x=\"225\" y=\"88\" font-size=\"7\" text-anchor=\"middle\" dy=\"0em\"></text>\n<path d=\"M247,103 L257,103 L257,113 L247,113 Z\" stroke=\"black\" fill=\"thistle\" stroke-linejoin=\"miter\" />\n<text x=\"252\" y=\"110\" font-size=\"6\" text-anchor=\"middle\" dy=\"0em\">Rx</text>\n<path d=\"M175,25 L275,25\" stroke=\"black\" stroke-width=\"1\" fill=\"none\" />\n<path d=\"M275,25 L290,25\" stroke-width=\"1\" stroke=\"black\" stroke-linejoin=\"miter\" fill=\"none\" />\n<path d=\"M275,75 L290,75\" stroke-width=\"1\" stroke=\"black\" stroke-linejoin=\"miter\" fill=\"none\" />\n<path d=\"M275,125 L290,125\" stroke-width=\"1\" stroke=\"black\" stroke-linejoin=\"miter\" fill=\"none\" />\n<text x=\"300\" y=\"28\" font-size=\"6\" text-anchor=\"end\" dy=\"0em\">0</text>\n<text x=\"300\" y=\"78\" font-size=\"6\" text-anchor=\"end\" dy=\"0em\">1</text>\n<text x=\"300\" y=\"128\" font-size=\"6\" text-anchor=\"end\" dy=\"0em\">2</text>\n<text x=\"0\" y=\"28\" font-size=\"6\" text-anchor=\"start\" dy=\"0em\">0</text>\n<text x=\"0\" y=\"78\" font-size=\"6\" text-anchor=\"start\" dy=\"0em\">1</text>\n<text x=\"0\" y=\"128\" font-size=\"6\" text-anchor=\"start\" dy=\"0em\">2</text>\n</svg>"
     },
     "execution_count": 9,
     "metadata": {},
     "output_type": "execute_result"
    }
   ],
   "source": [
    "circuit = pcvl.Circuit(3)  # Create a 3 mode circuit\n",
    "\n",
    "\n",
    "circuit.add(0, BS())\n",
    "circuit.add(0, PS(phi=np.pi/2)).add(1, PS(phi=pcvl.P('phi'))).add(1, BS())\n",
    "\n",
    "# Equivalent syntax:\n",
    "# circuit // BS() // PS(phi=np.pi/2) // (1, PS(phi=pcvl.P('phi'))) // (1, BS())\n",
    "\n",
    " \n",
    "pcvl.pdisplay(circuit.U)\n",
    "pcvl.pdisplay(circuit)"
   ]
  },
  {
   "cell_type": "markdown",
   "id": "0efeef18",
   "metadata": {},
   "source": [
    "The syntax ``pcvl.P('phi')`` allows you to use parameters in the circuit, where you can assign a value or not. The behavior of the parameters of a circuit is similar to the case of the components.\n",
    "\n",
    "For instance, you can use :"
   ]
  },
  {
   "cell_type": "code",
   "execution_count": 10,
   "id": "1230c948",
   "metadata": {},
   "outputs": [
    {
     "name": "stdout",
     "output_type": "stream",
     "text": [
      "[Parameter(name='phi', value=None, min_v=0.0, max_v=6.283185307179586)]\n"
     ]
    },
    {
     "data": {
      "text/plain": "<drawSvg.drawing.Drawing at 0x24ce5e10970>",
      "image/svg+xml": "<?xml version=\"1.0\" encoding=\"UTF-8\"?>\n<svg xmlns=\"http://www.w3.org/2000/svg\" xmlns:xlink=\"http://www.w3.org/1999/xlink\"\n     width=\"500.0\" height=\"250.0\" viewBox=\"-28.0 0 400 200\">\n<defs>\n</defs>\n<path d=\"M10,25 L25,25\" stroke-width=\"1\" stroke=\"black\" stroke-linejoin=\"miter\" fill=\"none\" />\n<path d=\"M10,75 L25,75\" stroke-width=\"1\" stroke=\"black\" stroke-linejoin=\"miter\" fill=\"none\" />\n<path d=\"M10,125 L25,125\" stroke-width=\"1\" stroke=\"black\" stroke-linejoin=\"miter\" fill=\"none\" />\n<path d=\"M37.9442,25.0002 C51.653800000000004,25.0002,51.5923,50.0,65.3019,50.0 M65.3038,50.0 C51.59219999999999,50.0,51.6538,74.9998,37.94409999999999,74.9998 M65.3038,49.99999999999999 L87.1884,49.99999999999999 M87.1884,49.99999999999999 C100.9,49.99999999999999,100.83840000000001,25.000199999999992,114.5481,25.000199999999992 M87.1884,49.99999999999999 C100.9,49.99999999999999,100.83840000000001,74.9998,114.5481,74.9998 M25.0,24.999999999999993 L38.0,24.999999999999993 M38.0019,74.9998 L25.0,74.9998 M112.6453,74.9998 L125.0,74.9998 M112.1944,24.999799999999993 L125.0,24.999799999999993\" stroke-width=\"1\" stroke=\"black\" stroke-linejoin=\"miter\" fill=\"none\" />\n<text x=\"75\" y=\"38\" font-size=\"7\" text-anchor=\"middle\" dy=\"0em\"></text>\n<path d=\"M97,53 L107,53 L107,63 L97,63 Z\" stroke=\"black\" fill=\"thistle\" stroke-linejoin=\"miter\" />\n<text x=\"102\" y=\"60\" font-size=\"6\" text-anchor=\"middle\" dy=\"0em\">Rx</text>\n<path d=\"M125,25 L145,25 M155,25 L175,25\" stroke-width=\"1\" stroke=\"black\" stroke-linejoin=\"miter\" fill=\"none\" />\n<path d=\"M140,35 L160,35 L160,15 L140,15 L140,35\" stroke-width=\"1\" stroke=\"black\" stroke-linejoin=\"miter\" fill=\"lightgray\" />\n<text x=\"150\" y=\"44\" font-size=\"7\" text-anchor=\"middle\" dy=\"0em\">Φ=pi/2</text>\n<path d=\"M125,75 L145,75 M155,75 L175,75\" stroke-width=\"1\" stroke=\"black\" stroke-linejoin=\"miter\" fill=\"none\" />\n<path d=\"M140,85 L160,85 L160,65 L140,65 L140,85\" stroke-width=\"1\" stroke=\"black\" stroke-linejoin=\"miter\" fill=\"lightgray\" />\n<text x=\"150\" y=\"94\" font-size=\"7\" text-anchor=\"middle\" dy=\"0em\">Φ=pi</text>\n<path d=\"M25,125 L175,125\" stroke=\"black\" stroke-width=\"1\" fill=\"none\" />\n<path d=\"M187.9442,75.0002 C201.6538,75.0002,201.5923,100.0,215.3019,100.0 M215.3038,100.0 C201.5922,100.0,201.6538,124.9998,187.9441,124.9998 M215.3038,100.0 L237.1884,100.0 M237.1884,100.0 C250.9,100.0,250.8384,75.0002,264.5481,75.0002 M237.18839999999997,100.0 C250.89999999999998,100.0,250.83839999999998,124.9998,264.5481,124.9998 M174.99999999999997,75.0 L187.99999999999997,75.0 M188.00189999999998,124.9998 L174.99999999999997,124.9998 M262.64529999999996,124.9998 L274.99999999999994,124.9998 M262.1944,74.9998 L275.0,74.9998\" stroke-width=\"1\" stroke=\"black\" stroke-linejoin=\"miter\" fill=\"none\" />\n<text x=\"225\" y=\"88\" font-size=\"7\" text-anchor=\"middle\" dy=\"0em\"></text>\n<path d=\"M247,103 L257,103 L257,113 L247,113 Z\" stroke=\"black\" fill=\"thistle\" stroke-linejoin=\"miter\" />\n<text x=\"252\" y=\"110\" font-size=\"6\" text-anchor=\"middle\" dy=\"0em\">Rx</text>\n<path d=\"M175,25 L275,25\" stroke=\"black\" stroke-width=\"1\" fill=\"none\" />\n<path d=\"M275,25 L290,25\" stroke-width=\"1\" stroke=\"black\" stroke-linejoin=\"miter\" fill=\"none\" />\n<path d=\"M275,75 L290,75\" stroke-width=\"1\" stroke=\"black\" stroke-linejoin=\"miter\" fill=\"none\" />\n<path d=\"M275,125 L290,125\" stroke-width=\"1\" stroke=\"black\" stroke-linejoin=\"miter\" fill=\"none\" />\n<text x=\"300\" y=\"28\" font-size=\"6\" text-anchor=\"end\" dy=\"0em\">0</text>\n<text x=\"300\" y=\"78\" font-size=\"6\" text-anchor=\"end\" dy=\"0em\">1</text>\n<text x=\"300\" y=\"128\" font-size=\"6\" text-anchor=\"end\" dy=\"0em\">2</text>\n<text x=\"0\" y=\"28\" font-size=\"6\" text-anchor=\"start\" dy=\"0em\">0</text>\n<text x=\"0\" y=\"78\" font-size=\"6\" text-anchor=\"start\" dy=\"0em\">1</text>\n<text x=\"0\" y=\"128\" font-size=\"6\" text-anchor=\"start\" dy=\"0em\">2</text>\n</svg>"
     },
     "execution_count": 10,
     "metadata": {},
     "output_type": "execute_result"
    }
   ],
   "source": [
    "params=circuit.get_parameters()\n",
    "print(params) #list of the parameters\n",
    "\n",
    "# the value is None, but we can change that with :\n",
    "\n",
    "params[0].set_value(np.pi)\n",
    "pcvl.pdisplay(circuit)\n"
   ]
  },
  {
   "cell_type": "markdown",
   "id": "75e4440d",
   "metadata": {},
   "source": [
    "### 2. Mach-Zehnder Interferometers\n",
    "\n",
    "The beamsplitter's angle $\\theta$ can also be defined as a parameter.\n",
    "\n",
    "However, as the reflexivity depends on the mirror, it's hard to have adaptibility on the angle. \n",
    "Therefore, in practice, we use a [Mach-Zehnder Interferometer](https://en.wikipedia.org/wiki/Mach%E2%80%93Zehnder_interferometer). \n",
    "\n",
    "The beamsplitter with a parameterised $\\theta$ is therefore implemented with a parameterised phase shifter $\\phi$ between two fixed beamsplitters.\n",
    "\n",
    "\n"
   ]
  },
  {
   "cell_type": "code",
   "execution_count": 11,
   "id": "8598d2e3",
   "metadata": {},
   "outputs": [
    {
     "data": {
      "text/plain": "<Figure size 432x288 with 1 Axes>",
      "image/png": "[encoded data removed]"
     },
     "metadata": {
      "needs_background": "light"
     },
     "output_type": "display_data"
    },
    {
     "data": {
      "text/plain": "<drawSvg.drawing.Drawing at 0x24ce5fad360>",
      "image/svg+xml": "<?xml version=\"1.0\" encoding=\"UTF-8\"?>\n<svg xmlns=\"http://www.w3.org/2000/svg\" xmlns:xlink=\"http://www.w3.org/1999/xlink\"\n     width=\"500.0\" height=\"187.5\" viewBox=\"-28.0 0 400 150\">\n<defs>\n</defs>\n<path d=\"M10,25 L25,25\" stroke-width=\"1\" stroke=\"black\" stroke-linejoin=\"miter\" fill=\"none\" />\n<path d=\"M10,75 L25,75\" stroke-width=\"1\" stroke=\"black\" stroke-linejoin=\"miter\" fill=\"none\" />\n<path d=\"M37.9442,25.0002 C51.653800000000004,25.0002,51.5923,50.0,65.3019,50.0 M65.3038,50.0 C51.59219999999999,50.0,51.6538,74.9998,37.94409999999999,74.9998 M65.3038,49.99999999999999 L87.1884,49.99999999999999 M87.1884,49.99999999999999 C100.9,49.99999999999999,100.83840000000001,25.000199999999992,114.5481,25.000199999999992 M87.1884,49.99999999999999 C100.9,49.99999999999999,100.83840000000001,74.9998,114.5481,74.9998 M25.0,24.999999999999993 L38.0,24.999999999999993 M38.0019,74.9998 L25.0,74.9998 M112.6453,74.9998 L125.0,74.9998 M112.1944,24.999799999999993 L125.0,24.999799999999993\" stroke-width=\"1\" stroke=\"black\" stroke-linejoin=\"miter\" fill=\"none\" />\n<text x=\"75\" y=\"38\" font-size=\"7\" text-anchor=\"middle\" dy=\"0em\"></text>\n<path d=\"M97,53 L107,53 L107,63 L97,63 Z\" stroke=\"black\" fill=\"thistle\" stroke-linejoin=\"miter\" />\n<text x=\"102\" y=\"60\" font-size=\"6\" text-anchor=\"middle\" dy=\"0em\">Rx</text>\n<path d=\"M125,75 L145,75 M155,75 L175,75\" stroke-width=\"1\" stroke=\"black\" stroke-linejoin=\"miter\" fill=\"none\" />\n<path d=\"M140,85 L160,85 L160,65 L140,65 L140,85\" stroke-width=\"1\" stroke=\"black\" stroke-linejoin=\"miter\" fill=\"lightgray\" />\n<text x=\"150\" y=\"94\" font-size=\"7\" text-anchor=\"middle\" dy=\"0em\">Φ=2*pi</text>\n<path d=\"M125,25 L175,25\" stroke=\"black\" stroke-width=\"1\" fill=\"none\" />\n<path d=\"M187.9442,25.0002 C201.6538,25.0002,201.5923,50.0,215.3019,50.0 M215.3038,50.0 C201.5922,50.0,201.6538,74.9998,187.9441,74.9998 M215.3038,49.99999999999999 L237.1884,49.99999999999999 M237.1884,49.99999999999999 C250.9,49.99999999999999,250.8384,25.000199999999992,264.5481,25.000199999999992 M237.18839999999997,49.99999999999999 C250.89999999999998,49.99999999999999,250.83839999999998,74.9998,264.5481,74.9998 M174.99999999999997,24.999999999999993 L187.99999999999997,24.999999999999993 M188.00189999999998,74.9998 L174.99999999999997,74.9998 M262.64529999999996,74.9998 L274.99999999999994,74.9998 M262.1944,24.999799999999993 L275.0,24.999799999999993\" stroke-width=\"1\" stroke=\"black\" stroke-linejoin=\"miter\" fill=\"none\" />\n<text x=\"225\" y=\"38\" font-size=\"7\" text-anchor=\"middle\" dy=\"0em\"></text>\n<path d=\"M247,53 L257,53 L257,63 L247,63 Z\" stroke=\"black\" fill=\"thistle\" stroke-linejoin=\"miter\" />\n<text x=\"252\" y=\"60\" font-size=\"6\" text-anchor=\"middle\" dy=\"0em\">Rx</text>\n<path d=\"M275,25 L290,25\" stroke-width=\"1\" stroke=\"black\" stroke-linejoin=\"miter\" fill=\"none\" />\n<path d=\"M275,75 L290,75\" stroke-width=\"1\" stroke=\"black\" stroke-linejoin=\"miter\" fill=\"none\" />\n<text x=\"300\" y=\"28\" font-size=\"6\" text-anchor=\"end\" dy=\"0em\">0</text>\n<text x=\"300\" y=\"78\" font-size=\"6\" text-anchor=\"end\" dy=\"0em\">1</text>\n<text x=\"0\" y=\"28\" font-size=\"6\" text-anchor=\"start\" dy=\"0em\">0</text>\n<text x=\"0\" y=\"78\" font-size=\"6\" text-anchor=\"start\" dy=\"0em\">1</text>\n</svg>"
     },
     "execution_count": 11,
     "metadata": {},
     "output_type": "execute_result"
    }
   ],
   "source": [
    "## TO-DO: build a circuit implementing the mzi\n",
    "\n",
    "mzi=pcvl.Circuit(2) // BS() // (1,PS(phi=pcvl.P(\"phi\"))) // BS()\n",
    "\n",
    "\n",
    "## TO-DO: Check that the parameterised phase allows you to change the reflexivity of your MZI\n",
    "\n",
    "import matplotlib.pyplot as plt\n",
    "\n",
    "## We create a list of all different values for theta\n",
    "X=np.linspace(0,2*np.pi,1000)\n",
    "Y=[]\n",
    "for theta in X:\n",
    "    phase=mzi.get_parameters()[0]\n",
    "    phase.set_value(theta)\n",
    "    Y.append(abs(mzi.compute_unitary()[0,0])**2)  #compute_unitary is numerical, so far faster that mzi.U, which uses symbolic expressions.\n",
    "   \n",
    "plt.plot(X,Y)\n",
    "plt.xlabel(\"phi\")\n",
    "plt.ylabel(\"R\")\n",
    "plt.show()\n",
    "\n",
    "pcvl.pdisplay(mzi)\n",
    "## Note: If you need to create a BS directly from the reflexivity value, please use:\n",
    "## BS(BS.r_to_theta(reflectivity_value))\n",
    "## However, be aware that only theta value is stored inside the BS object"
   ]
  },
  {
   "cell_type": "markdown",
   "id": "9d8e718b",
   "metadata": {},
   "source": [
    "### 3. Universal Circuits\n",
    "\n",
    "An operation on the modes of our circuit can also be expressed as a unitary.\n",
    "\n",
    "For three modes, the unitary $U=\\begin{pmatrix}\n",
    "a_{1,1} & a_{1,2} & a_{1,3}\\\\\n",
    "a_{2,1} & a_{2,2} & a_{2,3} \\\\ \n",
    "a_{3,1} & a_{3,2} & a_{3,3}\n",
    "\\end{pmatrix}$ performs the following operation on the Fock state basis:\n",
    "\n",
    "$$\\begin{array}{rcl}\n",
    "|1,0,0\\rangle &  \\mapsto&  a_{1,1}|1,0,0\\rangle + a_{1,2}|0,1,0\\rangle + a_{1,3}|0,0,1\\rangle\\\\\n",
    "|0,1,0\\rangle &  \\mapsto&  a_{2,1}|1,0,0\\rangle + a_{2,2}|0,1,0\\rangle + a_{2,3}|0,0,1\\rangle\\\\\n",
    "|0,0,1\\rangle &  \\mapsto&  a_{3,1}|1,0,0\\rangle + a_{3,2}|0,1,0\\rangle + a_{3,3}|0,0,1\\rangle\n",
    "\\end{array}$$"
   ]
  },
  {
   "cell_type": "markdown",
   "id": "78150c03",
   "metadata": {},
   "source": [
    "Since 1994, we know that any $U$ on the modes can be implemented as an LO-circuit [Reck's et al](https://journals.aps.org/prl/abstract/10.1103/PhysRevLett.73.58).\n",
    "\n",
    "This decomposition can be done easily in Perceval using beamsplitters and phase-shifters as follows. "
   ]
  },
  {
   "cell_type": "code",
   "execution_count": 12,
   "id": "a043bb05",
   "metadata": {},
   "outputs": [
    {
     "data": {
      "text/plain": "<drawSvg.drawing.Drawing at 0x24ce60b0c10>",
      "image/svg+xml": "<?xml version=\"1.0\" encoding=\"UTF-8\"?>\n<svg xmlns=\"http://www.w3.org/2000/svg\" xmlns:xlink=\"http://www.w3.org/1999/xlink\"\n     width=\"625.0\" height=\"250.0\" viewBox=\"-28.0 0 500 200\">\n<defs>\n</defs>\n<path d=\"M10,25 L25,25\" stroke-width=\"1\" stroke=\"black\" stroke-linejoin=\"miter\" fill=\"none\" />\n<path d=\"M10,75 L25,75\" stroke-width=\"1\" stroke=\"black\" stroke-linejoin=\"miter\" fill=\"none\" />\n<path d=\"M10,125 L25,125\" stroke-width=\"1\" stroke=\"black\" stroke-linejoin=\"miter\" fill=\"none\" />\n<path d=\"M25,125 L45,125 M55,125 L75,125\" stroke-width=\"1\" stroke=\"black\" stroke-linejoin=\"miter\" fill=\"none\" />\n<path d=\"M40,135 L60,135 L60,115 L40,115 L40,135\" stroke-width=\"1\" stroke=\"black\" stroke-linejoin=\"miter\" fill=\"lightgray\" />\n<text x=\"50\" y=\"144\" font-size=\"7\" text-anchor=\"middle\" dy=\"0em\">Φ=0.067448</text>\n<path d=\"M25,75 L45,75 M55,75 L75,75\" stroke-width=\"1\" stroke=\"black\" stroke-linejoin=\"miter\" fill=\"none\" />\n<path d=\"M40,85 L60,85 L60,65 L40,65 L40,85\" stroke-width=\"1\" stroke=\"black\" stroke-linejoin=\"miter\" fill=\"lightgray\" />\n<text x=\"50\" y=\"94\" font-size=\"7\" text-anchor=\"middle\" dy=\"0em\">Φ=6.263635</text>\n<path d=\"M25,25 L45,25 M55,25 L75,25\" stroke-width=\"1\" stroke=\"black\" stroke-linejoin=\"miter\" fill=\"none\" />\n<path d=\"M40,35 L60,35 L60,15 L40,15 L40,35\" stroke-width=\"1\" stroke=\"black\" stroke-linejoin=\"miter\" fill=\"lightgray\" />\n<text x=\"50\" y=\"44\" font-size=\"7\" text-anchor=\"middle\" dy=\"0em\">Φ=3.513359</text>\n<path d=\"M87.9442,25.0002 C101.65379999999999,25.0002,101.5923,50.0,115.30189999999999,50.0 M115.3038,50.0 C101.59219999999999,50.0,101.65379999999999,74.9998,87.94409999999999,74.9998 M115.3038,49.99999999999999 L137.1884,49.99999999999999 M137.1884,49.99999999999999 C150.9,49.99999999999999,150.8384,25.000199999999992,164.5481,25.000199999999992 M137.1884,49.99999999999999 C150.9,49.99999999999999,150.8384,74.9998,164.5481,74.9998 M75.0,24.999999999999993 L88.0,24.999999999999993 M88.0019,74.9998 L75.0,74.9998 M162.64530000000002,74.9998 L175.0,74.9998 M162.1944,24.999799999999993 L175.0,24.999799999999993\" stroke-width=\"1\" stroke=\"black\" stroke-linejoin=\"miter\" fill=\"none\" />\n<text x=\"125\" y=\"38\" font-size=\"7\" text-anchor=\"middle\"><tspan x=\"125\" dy=\"0em\">Θ=6.888168</tspan><tspan x=\"125\" dy=\"1em\">Φ_tr=3.00252</tspan></text>\n<path d=\"M147,53 L157,53 L157,63 L147,63 Z\" stroke=\"black\" fill=\"thistle\" stroke-linejoin=\"miter\" />\n<text x=\"152\" y=\"60\" font-size=\"6\" text-anchor=\"middle\" dy=\"0em\">Rx</text>\n<path d=\"M75,125 L175,125\" stroke=\"black\" stroke-width=\"1\" fill=\"none\" />\n<path d=\"M187.9442,75.0002 C201.6538,75.0002,201.5923,100.0,215.3019,100.0 M215.3038,100.0 C201.5922,100.0,201.6538,124.9998,187.9441,124.9998 M215.3038,100.0 L237.1884,100.0 M237.1884,100.0 C250.9,100.0,250.8384,75.0002,264.5481,75.0002 M237.18839999999997,100.0 C250.89999999999998,100.0,250.83839999999998,124.9998,264.5481,124.9998 M174.99999999999997,75.0 L187.99999999999997,75.0 M188.00189999999998,124.9998 L174.99999999999997,124.9998 M262.64529999999996,124.9998 L274.99999999999994,124.9998 M262.1944,74.9998 L275.0,74.9998\" stroke-width=\"1\" stroke=\"black\" stroke-linejoin=\"miter\" fill=\"none\" />\n<text x=\"225\" y=\"88\" font-size=\"7\" text-anchor=\"middle\"><tspan x=\"225\" dy=\"0em\">Θ=4.268014</tspan><tspan x=\"225\" dy=\"1em\">Φ_tr=4.887006</tspan></text>\n<path d=\"M247,103 L257,103 L257,113 L247,113 Z\" stroke=\"black\" fill=\"thistle\" stroke-linejoin=\"miter\" />\n<text x=\"252\" y=\"110\" font-size=\"6\" text-anchor=\"middle\" dy=\"0em\">Rx</text>\n<path d=\"M175,25 L275,25\" stroke=\"black\" stroke-width=\"1\" fill=\"none\" />\n<path d=\"M287.9442,25.0002 C301.65380000000005,25.0002,301.5923,50.0,315.30190000000005,50.0 M315.3038,50.0 C301.59220000000005,50.0,301.65380000000005,74.9998,287.94410000000005,74.9998 M315.3038,49.99999999999999 L337.1884,49.99999999999999 M337.1884,49.99999999999999 C350.9,49.99999999999999,350.8384,25.000199999999992,364.5481,25.000199999999992 M337.1884,49.99999999999999 C350.9,49.99999999999999,350.8384,74.9998,364.5481,74.9998 M275.0,24.999999999999993 L288.0,24.999999999999993 M288.0019,74.9998 L275.0,74.9998 M362.6453,74.9998 L375.0,74.9998 M362.1944,24.999799999999993 L375.0,24.999799999999993\" stroke-width=\"1\" stroke=\"black\" stroke-linejoin=\"miter\" fill=\"none\" />\n<text x=\"325\" y=\"38\" font-size=\"7\" text-anchor=\"middle\"><tspan x=\"325\" dy=\"0em\">Θ=0.042061</tspan><tspan x=\"325\" dy=\"1em\">Φ_tr=5.107491</tspan></text>\n<path d=\"M347,53 L357,53 L357,63 L347,63 Z\" stroke=\"black\" fill=\"thistle\" stroke-linejoin=\"miter\" />\n<text x=\"352\" y=\"60\" font-size=\"6\" text-anchor=\"middle\" dy=\"0em\">Rx</text>\n<path d=\"M275,125 L375,125\" stroke=\"black\" stroke-width=\"1\" fill=\"none\" />\n<path d=\"M375,25 L390,25\" stroke-width=\"1\" stroke=\"black\" stroke-linejoin=\"miter\" fill=\"none\" />\n<path d=\"M375,75 L390,75\" stroke-width=\"1\" stroke=\"black\" stroke-linejoin=\"miter\" fill=\"none\" />\n<path d=\"M375,125 L390,125\" stroke-width=\"1\" stroke=\"black\" stroke-linejoin=\"miter\" fill=\"none\" />\n<text x=\"400\" y=\"28\" font-size=\"6\" text-anchor=\"end\" dy=\"0em\">0</text>\n<text x=\"400\" y=\"78\" font-size=\"6\" text-anchor=\"end\" dy=\"0em\">1</text>\n<text x=\"400\" y=\"128\" font-size=\"6\" text-anchor=\"end\" dy=\"0em\">2</text>\n<text x=\"0\" y=\"28\" font-size=\"6\" text-anchor=\"start\" dy=\"0em\">0</text>\n<text x=\"0\" y=\"78\" font-size=\"6\" text-anchor=\"start\" dy=\"0em\">1</text>\n<text x=\"0\" y=\"128\" font-size=\"6\" text-anchor=\"start\" dy=\"0em\">2</text>\n</svg>"
     },
     "execution_count": 12,
     "metadata": {},
     "output_type": "execute_result"
    }
   ],
   "source": [
    "## From any unitary\n",
    "n=3\n",
    "U=pcvl.Matrix.random_unitary(n)\n",
    "\n",
    "circuit_u=pcvl.Circuit.decomposition(U,BS(theta=pcvl.P('theta'),phi_tr=pcvl.P('phi')),phase_shifter_fn=PS)\n",
    "\n",
    "pcvl.pdisplay(circuit_u)\n",
    "\n",
    "\n"
   ]
  },
  {
   "cell_type": "code",
   "execution_count": 13,
   "id": "a5e7c453",
   "metadata": {},
   "outputs": [
    {
     "name": "stdout",
     "output_type": "stream",
     "text": [
      "The error between the two unitaries is 5.345718023951113e-09\n"
     ]
    }
   ],
   "source": [
    "print(\"The error between the two unitaries is\",np.linalg.norm(U-circuit_u.compute_unitary()))"
   ]
  },
  {
   "cell_type": "code",
   "execution_count": 14,
   "id": "20b31e3f",
   "metadata": {},
   "outputs": [],
   "source": [
    "## TO-DO: decompose your unitary with only phase shifters and balanced beamsplitters.\n",
    "mzi=pcvl.Circuit(2) // BS() // PS(pcvl.P(\"phi1\")) //  BS()  //  PS(pcvl.P(\"phi2\"))\n",
    "\n",
    "circuit_u=pcvl.Circuit.decomposition(U,mzi,phase_shifter_fn=PS)\n",
    "\n",
    "## Note: you can use a MZI. Be careful to put the phase on the right, as the full layer of phase_shifter_fn is on the left of the circuit\n"
   ]
  },
  {
   "cell_type": "code",
   "execution_count": 15,
   "id": "d77fa5a7",
   "metadata": {},
   "outputs": [
    {
     "name": "stdout",
     "output_type": "stream",
     "text": [
      "The error between the two unitaries is 7.252000693146301e-09\n"
     ]
    }
   ],
   "source": [
    "## TO-DO: check the norm of the difference to be sure it has worked well \n",
    "print(\"The error between the two unitaries is\",np.linalg.norm(U-circuit_u.compute_unitary()))"
   ]
  },
  {
   "cell_type": "markdown",
   "id": "b6990985",
   "metadata": {},
   "source": [
    "### 4. Black Box\n",
    "\n",
    "To improve readibility, the circuit can be constructed in multiple steps which are then combined as black boxes. This will also help when we'll need generic operations.\n"
   ]
  },
  {
   "cell_type": "code",
   "execution_count": 16,
   "id": "cf442c25",
   "metadata": {},
   "outputs": [
    {
     "data": {
      "text/plain": "<drawSvg.drawing.Drawing at 0x24ce61d9c90>",
      "image/svg+xml": "<?xml version=\"1.0\" encoding=\"UTF-8\"?>\n<svg xmlns=\"http://www.w3.org/2000/svg\" xmlns:xlink=\"http://www.w3.org/1999/xlink\"\n     width=\"437.5\" height=\"312.5\" viewBox=\"-62.0 0 350 250\">\n<defs>\n</defs>\n<path d=\"M10,25 L25,25\" stroke-width=\"1\" stroke=\"black\" stroke-linejoin=\"miter\" fill=\"none\" />\n<path d=\"M10,75 L25,75\" stroke-width=\"1\" stroke=\"black\" stroke-linejoin=\"miter\" fill=\"none\" />\n<path d=\"M10,125 L25,125\" stroke-width=\"1\" stroke=\"black\" stroke-linejoin=\"miter\" fill=\"none\" />\n<path d=\"M10,175 L25,175\" stroke-width=\"1\" stroke=\"black\" stroke-linejoin=\"miter\" fill=\"none\" />\n<path d=\"M25,25 L75,25\" stroke=\"black\" stroke-width=\"1\" fill=\"none\" />\n<path d=\"M25,75 L75,75\" stroke=\"black\" stroke-width=\"1\" fill=\"none\" />\n<path d=\"M25,125 L75,125\" stroke=\"black\" stroke-width=\"1\" fill=\"none\" />\n<path d=\"M25,175 L75,175\" stroke=\"black\" stroke-width=\"1\" fill=\"none\" />\n<path d=\"M27.5,2.5 L72.5,2.5 L72.5,197.5 L27.5,197.5 Z\" stroke=\"black\" fill=\"white\" stroke-linejoin=\"miter\" />\n<text x=\"35\" y=\"32\" font-size=\"8\" text-anchor=\"start\" font-weight=\"bold\"><tspan x=\"35\" dy=\"0em\">BELL</tspan><tspan x=\"35\" dy=\"1em\">STATE</tspan><tspan x=\"35\" dy=\"1em\">PREPAR.</tspan></text>\n<path d=\"M75,25 L125,25\" stroke=\"black\" stroke-width=\"1\" fill=\"none\" />\n<path d=\"M75,75 L125,75\" stroke=\"black\" stroke-width=\"1\" fill=\"none\" />\n<path d=\"M77.5,2.5 L122.5,2.5 L122.5,97.5 L77.5,97.5 Z\" stroke=\"black\" fill=\"white\" stroke-linejoin=\"miter\" />\n<text x=\"85\" y=\"24\" font-size=\"8\" text-anchor=\"start\" font-weight=\"bold\"><tspan x=\"85\" dy=\"0em\">UPPER</tspan><tspan x=\"85\" dy=\"1em\">MZI</tspan></text>\n<path d=\"M75,125 L125,125\" stroke=\"black\" stroke-width=\"1\" fill=\"none\" />\n<path d=\"M75,175 L125,175\" stroke=\"black\" stroke-width=\"1\" fill=\"none\" />\n<path d=\"M77.5,102.5 L122.5,102.5 L122.5,197.5 L77.5,197.5 Z\" stroke=\"black\" fill=\"white\" stroke-linejoin=\"miter\" />\n<text x=\"85\" y=\"124\" font-size=\"8\" text-anchor=\"start\" font-weight=\"bold\"><tspan x=\"85\" dy=\"0em\">LOWER</tspan><tspan x=\"85\" dy=\"1em\">MZI</tspan></text>\n<path d=\"M125,25 L140,25\" stroke-width=\"1\" stroke=\"black\" stroke-linejoin=\"miter\" fill=\"none\" />\n<path d=\"M125,75 L140,75\" stroke-width=\"1\" stroke=\"black\" stroke-linejoin=\"miter\" fill=\"none\" />\n<path d=\"M125,125 L140,125\" stroke-width=\"1\" stroke=\"black\" stroke-linejoin=\"miter\" fill=\"none\" />\n<path d=\"M125,175 L140,175\" stroke-width=\"1\" stroke=\"black\" stroke-linejoin=\"miter\" fill=\"none\" />\n<text x=\"150\" y=\"28\" font-size=\"6\" text-anchor=\"end\" dy=\"0em\">0</text>\n<text x=\"150\" y=\"78\" font-size=\"6\" text-anchor=\"end\" dy=\"0em\">1</text>\n<text x=\"150\" y=\"128\" font-size=\"6\" text-anchor=\"end\" dy=\"0em\">2</text>\n<text x=\"150\" y=\"178\" font-size=\"6\" text-anchor=\"end\" dy=\"0em\">3</text>\n<text x=\"0\" y=\"28\" font-size=\"6\" text-anchor=\"start\" dy=\"0em\">0</text>\n<text x=\"0\" y=\"78\" font-size=\"6\" text-anchor=\"start\" dy=\"0em\">1</text>\n<text x=\"0\" y=\"128\" font-size=\"6\" text-anchor=\"start\" dy=\"0em\">2</text>\n<text x=\"0\" y=\"178\" font-size=\"6\" text-anchor=\"start\" dy=\"0em\">3</text>\n</svg>"
     },
     "execution_count": 16,
     "metadata": {},
     "output_type": "execute_result"
    }
   ],
   "source": [
    "pre_MZI = (pcvl.Circuit(4, name=\"Bell State Prepar.\")\n",
    "           .add(0, BS())\n",
    "           .add(2, BS())\n",
    "           .add(1, PERM([1, 0])))\n",
    "\n",
    "upper_MZI = (pcvl.Circuit(2, name=\"upper MZI\")\n",
    "             .add(0, PS(phi=pcvl.P('phi_0')))\n",
    "             .add(0, BS())\n",
    "             .add(0, PS(phi=pcvl.P('phi_2')))\n",
    "             .add(0, BS()))\n",
    "\n",
    "lower_MZI = (pcvl.Circuit(2, name=\"lower MZI\")\n",
    "             .add(0, PS(phi=pcvl.P('phi_1')))\n",
    "             .add(0, BS())\n",
    "             .add(0, PS(phi=pcvl.P('phi_3')))\n",
    "             .add(0, BS()))\n",
    "\n",
    "chip = (pcvl.Circuit(4)\n",
    "              .add(0, pre_MZI)\n",
    "              .add(0, upper_MZI, merge=False)\n",
    "              .add(2, lower_MZI, merge=False))\n",
    "\n",
    "pcvl.pdisplay(chip)"
   ]
  },
  {
   "cell_type": "code",
   "execution_count": 17,
   "id": "74c28a38",
   "metadata": {
    "scrolled": true
   },
   "outputs": [
    {
     "data": {
      "text/plain": "<drawSvg.drawing.Drawing at 0x24ce61dad40>",
      "image/svg+xml": "<?xml version=\"1.0\" encoding=\"UTF-8\"?>\n<svg xmlns=\"http://www.w3.org/2000/svg\" xmlns:xlink=\"http://www.w3.org/1999/xlink\"\n     width=\"750.0\" height=\"312.5\" viewBox=\"-68.0 0 600 250\">\n<defs>\n</defs>\n<path d=\"M10,25 L25,25\" stroke-width=\"1\" stroke=\"black\" stroke-linejoin=\"miter\" fill=\"none\" />\n<path d=\"M10,75 L25,75\" stroke-width=\"1\" stroke=\"black\" stroke-linejoin=\"miter\" fill=\"none\" />\n<path d=\"M10,125 L25,125\" stroke-width=\"1\" stroke=\"black\" stroke-linejoin=\"miter\" fill=\"none\" />\n<path d=\"M10,175 L25,175\" stroke-width=\"1\" stroke=\"black\" stroke-linejoin=\"miter\" fill=\"none\" />\n<path d=\"M27,2 L173,2 L173,198 L27,198 Z\" stroke=\"black\" fill=\"lightblue\" stroke-dasharray=\"1,2\" stroke-linejoin=\"miter\" />\n<text x=\"29\" y=\"205\" font-size=\"8\" text-anchor=\"start\" dy=\"0em\">BELL STATE PREPAR.</text>\n<path d=\"M37.9442,25.0002 C51.653800000000004,25.0002,51.5923,50.0,65.3019,50.0 M65.3038,50.0 C51.59219999999999,50.0,51.6538,74.9998,37.94409999999999,74.9998 M65.3038,49.99999999999999 L87.1884,49.99999999999999 M87.1884,49.99999999999999 C100.9,49.99999999999999,100.83840000000001,25.000199999999992,114.5481,25.000199999999992 M87.1884,49.99999999999999 C100.9,49.99999999999999,100.83840000000001,74.9998,114.5481,74.9998 M25.0,24.999999999999993 L38.0,24.999999999999993 M38.0019,74.9998 L25.0,74.9998 M112.6453,74.9998 L125.0,74.9998 M112.1944,24.999799999999993 L125.0,24.999799999999993\" stroke-width=\"1\" stroke=\"black\" stroke-linejoin=\"miter\" fill=\"none\" />\n<text x=\"75\" y=\"38\" font-size=\"7\" text-anchor=\"middle\" dy=\"0em\"></text>\n<path d=\"M97,53 L107,53 L107,63 L97,63 Z\" stroke=\"black\" fill=\"thistle\" stroke-linejoin=\"miter\" />\n<text x=\"102\" y=\"60\" font-size=\"6\" text-anchor=\"middle\" dy=\"0em\">Rx</text>\n<path d=\"M37.9442,125.0002 C51.653800000000004,125.0002,51.5923,150.0,65.3019,150.0 M65.3038,150.0 C51.59219999999999,150.0,51.6538,174.9998,37.94409999999999,174.9998 M65.3038,150.0 L87.1884,150.0 M87.1884,150.0 C100.9,150.0,100.83840000000001,125.0002,114.5481,125.0002 M87.1884,150.0 C100.9,150.0,100.83840000000001,174.9998,114.5481,174.9998 M25.0,125.0 L38.0,125.0 M38.0019,174.9998 L25.0,174.9998 M112.6453,174.9998 L125.0,174.9998 M112.1944,124.9998 L125.0,124.9998\" stroke-width=\"1\" stroke=\"black\" stroke-linejoin=\"miter\" fill=\"none\" />\n<text x=\"75\" y=\"138\" font-size=\"7\" text-anchor=\"middle\" dy=\"0em\"></text>\n<path d=\"M97,153 L107,153 L107,163 L97,163 Z\" stroke=\"black\" fill=\"thistle\" stroke-linejoin=\"miter\" />\n<text x=\"102\" y=\"160\" font-size=\"6\" text-anchor=\"middle\" dy=\"0em\">Rx</text>\n<path d=\"M125,74.8 C145,75,155,125,175,125\" stroke-width=\"2\" stroke=\"white\" stroke-linejoin=\"miter\" fill=\"none\" />\n<path d=\"M125,75 C145,75,155,125,175,125\" stroke-width=\"1\" stroke=\"black\" stroke-linejoin=\"miter\" fill=\"none\" />\n<path d=\"M125,124.8 C145,125,155,75,175,75\" stroke-width=\"2\" stroke=\"white\" stroke-linejoin=\"miter\" fill=\"none\" />\n<path d=\"M125,125 C145,125,155,75,175,75\" stroke-width=\"1\" stroke=\"black\" stroke-linejoin=\"miter\" fill=\"none\" />\n<path d=\"M125,25 L175,25\" stroke=\"black\" stroke-width=\"1\" fill=\"none\" />\n<path d=\"M125,175 L175,175\" stroke=\"black\" stroke-width=\"1\" fill=\"none\" />\n<path d=\"M177,2 L473,2 L473,98 L177,98 Z\" stroke=\"black\" fill=\"lightblue\" stroke-dasharray=\"1,2\" stroke-linejoin=\"miter\" />\n<text x=\"179\" y=\"105\" font-size=\"8\" text-anchor=\"start\" dy=\"0em\">UPPER MZI</text>\n<path d=\"M175,25 L195,25 M205,25 L225,25\" stroke-width=\"1\" stroke=\"black\" stroke-linejoin=\"miter\" fill=\"none\" />\n<path d=\"M190,35 L210,35 L210,15 L190,15 L190,35\" stroke-width=\"1\" stroke=\"black\" stroke-linejoin=\"miter\" fill=\"lightgray\" />\n<text x=\"200\" y=\"44\" font-size=\"7\" text-anchor=\"middle\" dy=\"0em\">Φ=phi_0</text>\n<path d=\"M175,75 L225,75\" stroke=\"black\" stroke-width=\"1\" fill=\"none\" />\n<path d=\"M237.9442,25.0002 C251.6538,25.0002,251.5923,50.0,265.3019,50.0 M265.30379999999997,50.0 C251.59219999999996,50.0,251.65379999999996,74.9998,237.94409999999996,74.9998 M265.30379999999997,49.99999999999999 L287.18839999999994,49.99999999999999 M287.18839999999994,49.99999999999999 C300.9,49.99999999999999,300.8384,25.000199999999992,314.5481,25.000199999999992 M287.1884,49.99999999999999 C300.9,49.99999999999999,300.8384,74.9998,314.5481,74.9998 M224.99999999999997,24.999999999999993 L237.99999999999997,24.999999999999993 M238.00189999999998,74.9998 L224.99999999999997,74.9998 M312.64529999999996,74.9998 L324.99999999999994,74.9998 M312.1944,24.999799999999993 L325.0,24.999799999999993\" stroke-width=\"1\" stroke=\"black\" stroke-linejoin=\"miter\" fill=\"none\" />\n<text x=\"275\" y=\"38\" font-size=\"7\" text-anchor=\"middle\" dy=\"0em\"></text>\n<path d=\"M297,53 L307,53 L307,63 L297,63 Z\" stroke=\"black\" fill=\"thistle\" stroke-linejoin=\"miter\" />\n<text x=\"302\" y=\"60\" font-size=\"6\" text-anchor=\"middle\" dy=\"0em\">Rx</text>\n<path d=\"M325,25 L345,25 M355,25 L375,25\" stroke-width=\"1\" stroke=\"black\" stroke-linejoin=\"miter\" fill=\"none\" />\n<path d=\"M340,35 L360,35 L360,15 L340,15 L340,35\" stroke-width=\"1\" stroke=\"black\" stroke-linejoin=\"miter\" fill=\"lightgray\" />\n<text x=\"350\" y=\"44\" font-size=\"7\" text-anchor=\"middle\" dy=\"0em\">Φ=phi_2</text>\n<path d=\"M325,75 L375,75\" stroke=\"black\" stroke-width=\"1\" fill=\"none\" />\n<path d=\"M387.9442,25.0002 C401.65380000000005,25.0002,401.5923,50.0,415.30190000000005,50.0 M415.3038,50.0 C401.59220000000005,50.0,401.65380000000005,74.9998,387.94410000000005,74.9998 M415.3038,49.99999999999999 L437.1884,49.99999999999999 M437.1884,49.99999999999999 C450.9,49.99999999999999,450.8384,25.000199999999992,464.5481,25.000199999999992 M437.1884,49.99999999999999 C450.9,49.99999999999999,450.8384,74.9998,464.5481,74.9998 M375.0,24.999999999999993 L388.0,24.999999999999993 M388.0019,74.9998 L375.0,74.9998 M462.6453,74.9998 L475.0,74.9998 M462.1944,24.999799999999993 L475.0,24.999799999999993\" stroke-width=\"1\" stroke=\"black\" stroke-linejoin=\"miter\" fill=\"none\" />\n<text x=\"425\" y=\"38\" font-size=\"7\" text-anchor=\"middle\" dy=\"0em\"></text>\n<path d=\"M447,53 L457,53 L457,63 L447,63 Z\" stroke=\"black\" fill=\"thistle\" stroke-linejoin=\"miter\" />\n<text x=\"452\" y=\"60\" font-size=\"6\" text-anchor=\"middle\" dy=\"0em\">Rx</text>\n<path d=\"M177,102 L473,102 L473,198 L177,198 Z\" stroke=\"black\" fill=\"lightblue\" stroke-dasharray=\"1,2\" stroke-linejoin=\"miter\" />\n<text x=\"179\" y=\"205\" font-size=\"8\" text-anchor=\"start\" dy=\"0em\">LOWER MZI</text>\n<path d=\"M175,125 L195,125 M205,125 L225,125\" stroke-width=\"1\" stroke=\"black\" stroke-linejoin=\"miter\" fill=\"none\" />\n<path d=\"M190,135 L210,135 L210,115 L190,115 L190,135\" stroke-width=\"1\" stroke=\"black\" stroke-linejoin=\"miter\" fill=\"lightgray\" />\n<text x=\"200\" y=\"144\" font-size=\"7\" text-anchor=\"middle\" dy=\"0em\">Φ=phi_1</text>\n<path d=\"M175,175 L225,175\" stroke=\"black\" stroke-width=\"1\" fill=\"none\" />\n<path d=\"M237.9442,125.0002 C251.6538,125.0002,251.5923,150.0,265.3019,150.0 M265.30379999999997,150.0 C251.59219999999996,150.0,251.65379999999996,174.9998,237.94409999999996,174.9998 M265.30379999999997,150.0 L287.18839999999994,150.0 M287.18839999999994,150.0 C300.9,150.0,300.8384,125.0002,314.5481,125.0002 M287.1884,150.0 C300.9,150.0,300.8384,174.9998,314.5481,174.9998 M224.99999999999997,125.0 L237.99999999999997,125.0 M238.00189999999998,174.9998 L224.99999999999997,174.9998 M312.64529999999996,174.9998 L324.99999999999994,174.9998 M312.1944,124.9998 L325.0,124.9998\" stroke-width=\"1\" stroke=\"black\" stroke-linejoin=\"miter\" fill=\"none\" />\n<text x=\"275\" y=\"138\" font-size=\"7\" text-anchor=\"middle\" dy=\"0em\"></text>\n<path d=\"M297,153 L307,153 L307,163 L297,163 Z\" stroke=\"black\" fill=\"thistle\" stroke-linejoin=\"miter\" />\n<text x=\"302\" y=\"160\" font-size=\"6\" text-anchor=\"middle\" dy=\"0em\">Rx</text>\n<path d=\"M325,125 L345,125 M355,125 L375,125\" stroke-width=\"1\" stroke=\"black\" stroke-linejoin=\"miter\" fill=\"none\" />\n<path d=\"M340,135 L360,135 L360,115 L340,115 L340,135\" stroke-width=\"1\" stroke=\"black\" stroke-linejoin=\"miter\" fill=\"lightgray\" />\n<text x=\"350\" y=\"144\" font-size=\"7\" text-anchor=\"middle\" dy=\"0em\">Φ=phi_3</text>\n<path d=\"M325,175 L375,175\" stroke=\"black\" stroke-width=\"1\" fill=\"none\" />\n<path d=\"M387.9442,125.0002 C401.65380000000005,125.0002,401.5923,150.0,415.30190000000005,150.0 M415.3038,150.0 C401.59220000000005,150.0,401.65380000000005,174.9998,387.94410000000005,174.9998 M415.3038,150.0 L437.1884,150.0 M437.1884,150.0 C450.9,150.0,450.8384,125.0002,464.5481,125.0002 M437.1884,150.0 C450.9,150.0,450.8384,174.9998,464.5481,174.9998 M375.0,125.0 L388.0,125.0 M388.0019,174.9998 L375.0,174.9998 M462.6453,174.9998 L475.0,174.9998 M462.1944,124.9998 L475.0,124.9998\" stroke-width=\"1\" stroke=\"black\" stroke-linejoin=\"miter\" fill=\"none\" />\n<text x=\"425\" y=\"138\" font-size=\"7\" text-anchor=\"middle\" dy=\"0em\"></text>\n<path d=\"M447,153 L457,153 L457,163 L447,163 Z\" stroke=\"black\" fill=\"thistle\" stroke-linejoin=\"miter\" />\n<text x=\"452\" y=\"160\" font-size=\"6\" text-anchor=\"middle\" dy=\"0em\">Rx</text>\n<path d=\"M475,25 L490,25\" stroke-width=\"1\" stroke=\"black\" stroke-linejoin=\"miter\" fill=\"none\" />\n<path d=\"M475,75 L490,75\" stroke-width=\"1\" stroke=\"black\" stroke-linejoin=\"miter\" fill=\"none\" />\n<path d=\"M475,125 L490,125\" stroke-width=\"1\" stroke=\"black\" stroke-linejoin=\"miter\" fill=\"none\" />\n<path d=\"M475,175 L490,175\" stroke-width=\"1\" stroke=\"black\" stroke-linejoin=\"miter\" fill=\"none\" />\n<text x=\"500\" y=\"28\" font-size=\"6\" text-anchor=\"end\" dy=\"0em\">0</text>\n<text x=\"500\" y=\"78\" font-size=\"6\" text-anchor=\"end\" dy=\"0em\">1</text>\n<text x=\"500\" y=\"128\" font-size=\"6\" text-anchor=\"end\" dy=\"0em\">2</text>\n<text x=\"500\" y=\"178\" font-size=\"6\" text-anchor=\"end\" dy=\"0em\">3</text>\n<text x=\"0\" y=\"28\" font-size=\"6\" text-anchor=\"start\" dy=\"0em\">0</text>\n<text x=\"0\" y=\"78\" font-size=\"6\" text-anchor=\"start\" dy=\"0em\">1</text>\n<text x=\"0\" y=\"128\" font-size=\"6\" text-anchor=\"start\" dy=\"0em\">2</text>\n<text x=\"0\" y=\"178\" font-size=\"6\" text-anchor=\"start\" dy=\"0em\">3</text>\n</svg>"
     },
     "execution_count": 17,
     "metadata": {},
     "output_type": "execute_result"
    }
   ],
   "source": [
    "## You can still display the inside of black boxes with:\n",
    "pcvl.pdisplay(chip, recursive=True)"
   ]
  },
  {
   "cell_type": "markdown",
   "id": "1bd8e2f0",
   "metadata": {},
   "source": [
    "## III. Simulation <a name=\"simulation\"></a>\n",
    "\n",
    "Up to this point, we have focused on creating circuits.\n",
    "It's time to learn how to sample from them or describe their output distribution, on many different inputs.\n",
    "\n"
   ]
  },
  {
   "cell_type": "markdown",
   "id": "190ae9ac",
   "metadata": {
    "jp-MarkdownHeadingCollapsed": true,
    "tags": []
   },
   "source": [
    "### 1. Computing probabilities\n",
    "\n",
    "For this part, we will take the [Hong-Ou-Mandel](https://en.wikipedia.org/wiki/Hong%E2%80%93Ou%E2%80%93Mandel_effect) experience as an example.\n",
    "\n",
    "It's one of the simplest experiments and yet it is very useful.\n",
    "\n",
    "Making two indistinguishable photons, one in each mode, enter one balanced beamsplitter $BS=\\frac{1}{\\sqrt{2}} \\left[\\begin{matrix}1 & 1\\\\1& -1\\end{matrix}\\right]$, we expect the outcome to be:\n",
    "\n",
    "$$|1,1\\rangle \\mapsto \\frac{|2,0\\rangle - |0,2\\rangle}{\\sqrt{2}}  $$\n",
    "\n",
    "We will show how to verify this in the next steps using the Naive backend to recover the full probability distribution."
   ]
  },
  {
   "cell_type": "code",
   "execution_count": 18,
   "id": "73e9230b",
   "metadata": {},
   "outputs": [],
   "source": [
    "## TO-DO: build the circuit with the convention above\n",
    "\n",
    "\n",
    "circuit = pcvl.Circuit(2) // BS.H()\n",
    "\n",
    "\n"
   ]
  },
  {
   "cell_type": "code",
   "execution_count": 19,
   "id": "2818570a",
   "metadata": {
    "scrolled": true
   },
   "outputs": [
    {
     "name": "stdout",
     "output_type": "stream",
     "text": [
      "(0.7071067811865477+0j)\n",
      "(-0.7071067811865477+0j)\n",
      "0.5000000000000002\n",
      "in Analyzer : probs.execute_sync() 0.0\n"
     ]
    },
    {
     "data": {
      "text/plain": "<IPython.core.display.HTML object>",
      "text/html": "<table>\n<thead>\n<tr><th>     </th><th style=\"text-align: right;\">  |1,1&gt;</th><th>|2,0&gt;  </th><th>|0,2&gt;  </th></tr>\n</thead>\n<tbody>\n<tr><td>|1,1&gt;</td><td style=\"text-align: right;\">      0</td><td>1/2    </td><td>1/2    </td></tr>\n</tbody>\n</table>"
     },
     "metadata": {},
     "output_type": "display_data"
    }
   ],
   "source": [
    "# Syntax to compute the amplitudes\n",
    "backend = pcvl.BackendFactory.get_backend(\"Naive\") \n",
    "\n",
    "simulator = backend(circuit)\n",
    "print(simulator.probampli(pcvl.BasicState([1,1]), pcvl.BasicState([2,0])))  #note that it's the amplitude ! \n",
    "print(simulator.probampli(pcvl.BasicState([1,1]), pcvl.BasicState([0,2])))\n",
    "print(simulator.prob(pcvl.BasicState([1,1]), pcvl.BasicState([0,2])))\n",
    "\n",
    "\n",
    "## We can also use the Analyser module to compute a table of probabilities\n",
    "## The Analyser uses a Processor to work with. A Processor aims at simulating a photonic source plugged into a circuit\n",
    "## with a given backend.\n",
    "## The main syntax is :\n",
    "## >>> p = pcvl.Processor(backend_name, circuit, source)\n",
    "p = pcvl.Processor(\"Naive\", BS())\n",
    "analyzer = pcvl.algorithm.Analyzer(p, [pcvl.BasicState([1,1])], '*')\n",
    "pcvl.pdisplay(analyzer)\n"
   ]
  },
  {
   "cell_type": "code",
   "execution_count": 20,
   "id": "fcf74970",
   "metadata": {},
   "outputs": [
    {
     "name": "stdout",
     "output_type": "stream",
     "text": [
      "in Analyzer : probs.execute_sync() 0.0\n"
     ]
    },
    {
     "data": {
      "text/plain": "<IPython.core.display.HTML object>",
      "text/html": "<table>\n<thead>\n<tr><th>       </th><th style=\"text-align: right;\">  |2,0,0&gt;</th><th style=\"text-align: right;\">  |0,1,1&gt;</th><th style=\"text-align: right;\">  |1,0,1&gt;</th><th style=\"text-align: right;\">  |1,1,0&gt;</th><th style=\"text-align: right;\">  |0,2,0&gt;</th><th style=\"text-align: right;\">  |0,0,2&gt;</th></tr>\n</thead>\n<tbody>\n<tr><td>|1,1,0&gt;</td><td style=\"text-align: right;\"> 0.072901</td><td style=\"text-align: right;\"> 0.481238</td><td style=\"text-align: right;\">  0.37026</td><td style=\"text-align: right;\"> 0.024827</td><td style=\"text-align: right;\"> 0.008585</td><td style=\"text-align: right;\"> 0.042188</td></tr>\n</tbody>\n</table>"
     },
     "metadata": {},
     "output_type": "display_data"
    }
   ],
   "source": [
    "## TO-DO:  Choose a random unitary 3x3 U, and output the table probablities when the input |1,1,0> passes through the LO-Circuit of unitary U.\n",
    "\n",
    "randU=pcvl.Unitary(pcvl.Matrix.random_unitary(3))   \n",
    "input=pcvl.BasicState([1,1,0])\n",
    "\n",
    "p=pcvl.Processor(\"SLOS\",randU)  #We can put in the processor a pcvl.Unitary instead of a circuit ! We don't need to use pcvl.decomposition\n",
    "analyzer= pcvl.algorithm.Analyzer(p,[input],'*')\n",
    "pcvl.pdisplay(analyzer)"
   ]
  },
  {
   "cell_type": "markdown",
   "id": "cd69cf36",
   "metadata": {},
   "source": [
    "### 2. Sampling\n",
    "\n",
    "Although it's crucial to compute the output distribution, it's not what we can expect from a photonic chip. Indeed, realistically, we only can obtain a single sample from the distribution each time we run the circuit. This can be done using the backend SLOS.\n",
    "\n"
   ]
  },
  {
   "cell_type": "code",
   "execution_count": 21,
   "id": "ab11d846",
   "metadata": {},
   "outputs": [
    {
     "name": "stdout",
     "output_type": "stream",
     "text": [
      "{\n",
      "  |2,0>: 500\n",
      "  |0,2>: 500\n",
      "}\n"
     ]
    }
   ],
   "source": [
    "p = pcvl.Processor(\"SLOS\", BS())\n",
    "p.with_input(pcvl.BasicState([1,1]))\n",
    "\n",
    "# The sampler holds 'probs', 'sample_count' and 'samples' calls. You can use the one that fits your needs!\n",
    "sampler = pcvl.algorithm.Sampler(p)  \n",
    "\n",
    "# A sampler call will return a Python dictionary containing sampling results, and two performance scores\n",
    "# sample_count = sampler.sample_count(1000)\n",
    "# sample_count contains {'results': <actual count>, 'physical_perf': float [0.0 - 1.0], 'logical_perf': float [0.0 - 1.0]}\n",
    "sample_count = sampler.sample_count(1000)\n",
    "print(sample_count['results'])\n"
   ]
  },
  {
   "cell_type": "code",
   "execution_count": 22,
   "id": "ecbaaa5f",
   "metadata": {},
   "outputs": [
    {
     "name": "stdout",
     "output_type": "stream",
     "text": [
      "{\n",
      "  |0,1,1>: 489\n",
      "  |1,0,1>: 361\n",
      "  |0,0,2>: 44\n",
      "  |2,0,0>: 66\n",
      "  |1,1,0>: 30\n",
      "  |0,2,0>: 10\n",
      "}\n"
     ]
    }
   ],
   "source": [
    "## TO-DO: implement the code to sample from the 3x3 Unitary of earlier\n",
    "\n",
    "p=pcvl.Processor(\"CliffordClifford2017\",randU)\n",
    "p.with_input(pcvl.BasicState([1,1,0]))\n",
    "p.min_detected_photons_filter(0)  # Do not filter out any output state\n",
    "\n",
    "sampler = pcvl.algorithm.Sampler(p)  \n",
    "sample_count = sampler.sample_count(1000)\n",
    "print(sample_count['results'])\n",
    "\n",
    "## Question: how many states do we have for 3 modes and 2 photons?\n",
    "## There are 6 different states\n",
    "\n",
    "\n",
    "## Question : how many states do we have for m modes and n photons? \n",
    "## There are m+n-1 choose n different states. Cf Bar and Star problems."
   ]
  },
  {
   "cell_type": "markdown",
   "id": "a2ec95a5",
   "metadata": {},
   "source": [
    "Note : to approximate with decent precision a distribution over $M$ different states, we would need $M^2$ samples. This can be shown by [Hoeffding's inequality](https://en.wikipedia.org/wiki/Hoeffding%27s_inequality). "
   ]
  },
  {
   "cell_type": "markdown",
   "id": "e07db4a7",
   "metadata": {},
   "source": [
    "### 3. Performance and output state filtering\n",
    "\n",
    "Perceval Processors have a built-in way of computing performance scores.\n",
    "\n",
    "There are two different performance scores:\n",
    "* Physical performance\n",
    "* Logical performance\n",
    "\n",
    "These performance scores help measure the real duration of a data acquisition on a real QPU.\n",
    "\n",
    "#### a. Physical performance\n",
    "\n",
    "This score is related to the number of detections (on a QPU: number of clicks). It drops output states where photons have been lost, or finish in the same mode.\n",
    "\n",
    "For instance, an imperfect source makes this score drop.\n",
    "\n",
    "However, you can choose not to filter any output state by lowering the expected clicks with:\n",
    "> proc.min_detected_photons_filter(0)\n",
    "\n",
    "##### Processor.min_detected_photons_filter method\n",
    "\n",
    "Perceval aims at being an interface for the QPU and as such, proc.min_detected_photons_filter(int k) post selects on having at least k photons detected (for threshold detection: photons on at least k different modes). By default, this value is set to n where n is the expected number of input photons. This is useful for retrieving a logical interpretation, making sure that no photon has been lost due to noise and coherent with the use of threshold detectors. However, for various applications (for instance machine learning where we use the full Fock space and resolve the number of photons, you will have to set it to 0 (and you may introduce you own post selection scheme if needed)."
   ]
  },
  {
   "cell_type": "code",
   "execution_count": 23,
   "id": "4f53cd46",
   "metadata": {},
   "outputs": [
    {
     "name": "stdout",
     "output_type": "stream",
     "text": [
      "Physical perf of perfect processor = 1\n",
      "Physical perf of imperfect processor = 0.09000000000000005\n",
      "Physical perf of imperfect processor (without selection) = 1\n"
     ]
    }
   ],
   "source": [
    "# Create an empty circuit (each input mode is directly connected to a detector without interacting with any other)\n",
    "empty_circuit = pcvl.Circuit(4)\n",
    "\n",
    "perfect_proc = pcvl.Processor(\"Naive\", empty_circuit)\n",
    "imperfect_proc = pcvl.Processor(\"Naive\", empty_circuit, pcvl.Source(emission_probability=0.3))\n",
    "\n",
    "# Set the same input in both processors\n",
    "input_state = pcvl.BasicState([1,0,1,0])\n",
    "perfect_proc.with_input(input_state)\n",
    "imperfect_proc.with_input(input_state)\n",
    "\n",
    "perfect_sampler = pcvl.algorithm.Sampler(perfect_proc)\n",
    "perfect_probs = perfect_sampler.probs()\n",
    "imperfect_sampler = pcvl.algorithm.Sampler(imperfect_proc)\n",
    "imperfect_probs = imperfect_sampler.probs()\n",
    "\n",
    "print('Physical perf of perfect processor =', perfect_probs['physical_perf'])\n",
    "print('Physical perf of imperfect processor =', imperfect_probs['physical_perf'])  # source emission probability**2\n",
    "      \n",
    "# You can still disable output state filtering\n",
    "imperfect_proc.min_detected_photons_filter(0)\n",
    "imperfect_probs = imperfect_sampler.probs()\n",
    "print('Physical perf of imperfect processor (without selection) =', imperfect_probs['physical_perf'])"
   ]
  },
  {
   "cell_type": "markdown",
   "id": "2e2915c3",
   "metadata": {},
   "source": [
    "#### b. Logical performance\n",
    "\n",
    "This performance computation is set up by heralded modes and/or post-selection function set in a processor.\n",
    "\n",
    "Depending on the circuit used, on the post-selection function, you may observe that physical and logical performance score interact. So, if you're interested on a theoretical gate performance, you should disable physical post-selection with:\n",
    "> proc.min_detected_photons_filter(0)\n",
    "\n",
    "Here is a quick example of the heralding / post-selection syntax in Perceval. You will see the result later on in this notebook."
   ]
  },
  {
   "cell_type": "code",
   "execution_count": 24,
   "id": "e874af1d",
   "metadata": {},
   "outputs": [
    {
     "name": "stdout",
     "output_type": "stream",
     "text": [
      "With herald only\n",
      "Logical perf = 0.75\n",
      "{\n",
      "  |1,0>: 0.028595\n",
      "  |0,1>: 0.971405\n",
      "}\n",
      "With herald + post-selection function\n",
      "Logical perf = 0.7285533905932737\n",
      "{\n",
      "  |0,1>: 1\n",
      "}\n"
     ]
    }
   ],
   "source": [
    "circuit = pcvl.Circuit(3) // BS() // (1, BS()) // BS()\n",
    "p = pcvl.Processor(\"Naive\", circuit)\n",
    "p.add_herald(2,0)  # Third mode is heralded (0 photon in, 0 photon expected out)\n",
    "\n",
    "# After a mode is heralded, you must not take it into account when setting an input to the processor\n",
    "p.with_input(pcvl.BasicState([1, 0]))\n",
    "sampler = pcvl.algorithm.Sampler(p)\n",
    "probs = sampler.probs()\n",
    "print(\"With herald only\")\n",
    "print(\"Logical perf =\", probs['logical_perf'])\n",
    "print(probs['results'])\n",
    "\n",
    "# A post-selection function must have the following signature:\n",
    "def postselect_func(s: pcvl.BasicState) -> bool:\n",
    "    return s[1] == 1\n",
    "\n",
    "p.set_postprocess(postselect_func)  # Add post-selection\n",
    "probs = sampler.probs()\n",
    "print(\"With herald + post-selection function\")\n",
    "print(\"Logical perf =\", probs['logical_perf'])\n",
    "print(probs['results'])"
   ]
  },
  {
   "cell_type": "markdown",
   "id": "58b02992",
   "metadata": {},
   "source": [
    "### 4. Variational algorithm\n",
    "\n",
    "In variational algorithms, the samples from a quantum circuit allow us to approximate an expectation value, which is then used to determine the value of a loss function. This loss function is chosen such that minimising it yields a solution to a given problem. By changing the values of the parameters in our quantum circuit, we can search for this minimum.\n",
    "\n",
    "We won't go into the details of variational algorithms. However, it may be useful to see how to perform an optimisation with Perceval.\n",
    "\n",
    "We will use the library [scipy.optimise](https://docs.scipy.org/doc/scipy/reference/generated/scipy.optimize.minimize.html#scipy.optimize.minimize).\n",
    "\n",
    "The following code solves the problem of finding an LO-Circuit which, given a Fock State $|1,1,1,1\\rangle$, maximises the probability of outputting $|4,0,0,0\\rangle$.\n",
    "The solution below works for an arbitrary $n$."
   ]
  },
  {
   "cell_type": "code",
   "execution_count": 25,
   "id": "eaa4cab5",
   "metadata": {},
   "outputs": [
    {
     "name": "stdout",
     "output_type": "stream",
     "text": [
      "The maximum probability is 0.09374999431903965\n"
     ]
    },
    {
     "data": {
      "text/plain": "0.09375000000000001"
     },
     "execution_count": 25,
     "metadata": {},
     "output_type": "execute_result"
    }
   ],
   "source": [
    "from scipy import optimize\n",
    "\n",
    "\n",
    "## Data\n",
    "\n",
    "n=4\n",
    "input=pcvl.BasicState([1]*n)\n",
    "output_to_max=pcvl.BasicState([n]+[0]*(n-1))\n",
    "backend = pcvl.BackendFactory.get_backend(\"Naive\") \n",
    "\n",
    "\n",
    "## TO-DO: implement a generic circuit of size n with parameters. Code the loss function to maximise the good output. Launch the optimisation procedure. Output the probability and circuit obtained\n",
    "\n",
    "# We take a universal circuit\n",
    "circuit=pcvl.Circuit.generic_interferometer(n,lambda i : BS(theta=pcvl.P(f\"theta{i}\"),phi_tr=pcvl.P(f\"phi_tr{i}\")),phase_shifter_fun_gen=lambda i:PS(phi=pcvl.P(f\"phi{i}\")))\n",
    "param_circuit=circuit.get_parameters()\n",
    "params_init=[0]*len(param_circuit) \n",
    "\n",
    "def loss_function(params):\n",
    "    for i,value in enumerate(params):\n",
    "        param_circuit[i].set_value(value)\n",
    "    simulator = backend(circuit)\n",
    "    return -simulator.prob(input, output_to_max)   #we want to maximise the prob, so we want to minimise the -prob\n",
    "\n",
    "\n",
    "# We run the otpimisation\n",
    "o=optimize.minimize(loss_function,params_init,method=\"Powell\")\n",
    "\n",
    "print(f\"The maximum probability is {-loss_function(o.x)}\") \n",
    "\n",
    "# For n=4, the probability should be 3/32 \n",
    "# The maximum can also be obtained with the Hadamard matrix :\n",
    "\n",
    "H4=(1/2)*np.array([[1,1,1,1],[1,-1,1,-1],[1,1,-1,-1],[1,-1,-1,1]])\n",
    "simulator = backend(pcvl.Unitary(pcvl.Matrix(H4)))\n",
    "simulator.prob(input, output_to_max)\n"
   ]
  },
  {
   "cell_type": "markdown",
   "id": "3a78cc87",
   "metadata": {},
   "source": [
    "### 5. To go further : connect to a chip\n",
    "\n",
    "Perceval is also connected to real/physical chips.\n",
    "Here's the syntax to sample directly from them ! \n",
    "\n",
    "[doc to connect to a chip](https://perceval.quandela.net/docs/notebooks/Remote%20computing.html)"
   ]
  },
  {
   "cell_type": "markdown",
   "id": "c7ada850",
   "metadata": {},
   "source": [
    "## IV. Encoding Qubits <a name=\"encoding\"></a>"
   ]
  },
  {
   "cell_type": "markdown",
   "id": "e84fc736",
   "metadata": {},
   "source": [
    "### 1. Path encoding\n",
    "\n",
    "To perform quantum computations using photons, we need an encoding: a correspondance between our Fock states and our qubit states.\n",
    "\n",
    "We therefore want to associate each qubit state with one of our Fock states.\n",
    "\n",
    "One natural way to encode qubits is the path encoding.\n",
    "A qubit is a two-level quantum state, so we will use two spatial modes to encode it: this is the dual-rail or path encoding.\n",
    "\n",
    "The logical qubit state $|0\\rangle_L$ will correspond to a photon in the upper mode, as in the Fock state $|1,0\\rangle$, while $|1\\rangle_L$ will be encoded as $|0,1\\rangle$.\n",
    "\n",
    "\n",
    "We can extend this to multiple qubits by having twice as many modes as there are qubits. For example the $3$-qubit state $\\frac{1}{\\sqrt{2}}(|000\\rangle_L+|111\\rangle_L)$ can be encoded with $3$ photons and $3\\times 2=6$ modes :\n",
    "$\\frac{1}{\\sqrt{2}}(|1,0,1,0,1,0\\rangle+|0,1,0,1,0,1\\rangle)$"
   ]
  },
  {
   "cell_type": "markdown",
   "id": "4fbd0d6a",
   "metadata": {},
   "source": [
    "### 2. Single-qubit gates\n",
    "\n",
    "Using the dual-rail enconding, single-qubit gates only deal with one photon and are straightforward. Can you give the LO-circuits for the gates below?"
   ]
  },
  {
   "cell_type": "markdown",
   "id": "9f1900e8",
   "metadata": {},
   "source": [
    "$$X=\\left[\\begin{matrix}0 & 1\\\\1& 0\\end{matrix}\\right]$$\n",
    "$$Y=\\left[\\begin{matrix}0 & -i\\\\i& 0\\end{matrix}\\right]$$\n",
    "$$Z=\\left[\\begin{matrix}1 & 0\\\\0& -1\\end{matrix}\\right]$$\n",
    "$$H=\\frac{1}{\\sqrt{2}} \\left[\\begin{matrix}1 & 1\\\\1& -1\\end{matrix}\\right]$$\n",
    "\n",
    "$$R_X=\\left[\\begin{matrix}\\cos{\\left(\\frac{\\theta}{2} \\right)} & -i \\sin{\\left(\\frac{\\theta}{2} \\right)}\\\\-i \\sin{\\left(\\frac{\\theta}{2} \\right)} & \\cos{\\left(\\frac{\\theta}{2} \\right)}\\end{matrix}\\right]$$\n",
    "\n",
    "$$R_Y=\\left[\\begin{matrix}\\cos{\\left(\\frac{\\theta}{2} \\right)} & - \\sin{\\left(\\frac{\\theta}{2} \\right)}\\\\ \\sin{\\left(\\frac{\\theta}{2} \\right)} & \\cos{\\left(\\frac{\\theta}{2} \\right)}\\end{matrix}\\right]$$\n",
    "\n",
    "$$R_Z=\\left[\\begin{matrix}e^{-i\\frac{\\theta}{2}} & 0 \\\\ 0 & e^{i\\frac{\\theta}{2}}\\end{matrix}\\right]$$"
   ]
  },
  {
   "cell_type": "code",
   "execution_count": 26,
   "id": "626771f0",
   "metadata": {},
   "outputs": [],
   "source": [
    "## TO-DO: find the LO-circuits for each gate\n",
    "\n",
    "circuit_x=PERM([1,0])  #it's not the only way\n",
    "circuit_y=PERM([1,0]) // (0,PS(-np.pi/2)) // (1,PS(np.pi/2))\n",
    "circuit_z=pcvl.Circuit(2) // (1,PS(np.pi))\n",
    "circuit_h=BS.H()\n",
    "\n",
    "circuit_rx=pcvl.Circuit(2) // (0,PS(np.pi)) // BS.Rx(theta=pcvl.P(\"theta\")) // (0,PS(np.pi)) #Be careful for the minus ! We use a convention\n",
    "circuit_ry=BS.Ry(theta=pcvl.P(\"theta\"))\n",
    "circuit_rz=BS.H() // circuit_rx // BS.H()   # Indeed, Rz= H Rx H .  Of course we would like to be able to have many parameters with the same name. It will come soon :)\n",
    "\n"
   ]
  },
  {
   "cell_type": "markdown",
   "id": "26b5af58",
   "metadata": {},
   "source": [
    "### 3. Two-qubit gates\n",
    "\n",
    "On the other hand, in dual-rail encoding, it can be shown that two-qubit gates can't be deterministic, and have a probability to fail.\n",
    "\n",
    "There are two ways to detect that failure:\n",
    "\n",
    "- We can use additional photons called ancillas, which we can measure independently from the main circuit photons. Depending on the state obtained on the ancilla, we know whether the gate has succeeded or not on the main qubits. Those gates will be called heralded.\n",
    "- We can also directly measure the main circuit qubits, and depending on the result, assess whether the gate has succeeded or not. Those gates will be called postselected.\n",
    "\n",
    "The CNOT gate acts on two qubits, a control and a target, and flips the value of the target if the control qubit is in state $|1\\rangle_L$. In the following two exercices, we will see the two types of CNOT gates: \n",
    "- the postselected CNOT of [Ralph et al.](https://arxiv.org/abs/quant-ph/0112088)\n",
    "- the heralded CNOT of the [KLM protocol](https://arxiv.org/abs/quant-ph/0006088)"
   ]
  },
  {
   "cell_type": "code",
   "execution_count": 27,
   "id": "4b308e53",
   "metadata": {},
   "outputs": [
    {
     "name": "stdout",
     "output_type": "stream",
     "text": [
      "['heralded cnot', 'postprocessed cnot', 'generic 2 mode circuit']\n"
     ]
    }
   ],
   "source": [
    "## We introduce the component catalog. It contains both CNOT gates.\n",
    "from perceval.components import catalog\n",
    "print(catalog.list())\n"
   ]
  },
  {
   "cell_type": "code",
   "execution_count": 28,
   "id": "09d7d85f",
   "metadata": {},
   "outputs": [
    {
     "name": "stdout",
     "output_type": "stream",
     "text": [
      "POSTPROCESSED CNOT DOCUMENTATION\n",
      "---------------------------------\n",
      "\n",
      "CNOT gate with 2 heralded modes and a post-processing function\n",
      "\n",
      "Scientific article reference: https://journals.aps.org/pra/abstract/10.1103/PhysRevA.65.062324\n",
      "\n",
      "Schema:\n",
      "                      ╭─────╮\n",
      "ctrl (dual rail) ─────┤     ├───── ctrl (dual rail)\n",
      "                 ─────┤     ├─────\n",
      "                      │     │\n",
      "data (dual rail) ─────┤     ├───── data (dual rail)\n",
      "                 ─────┤     ├─────\n",
      "                      ╰─────╯\n",
      "\n"
     ]
    },
    {
     "data": {
      "text/plain": "<drawSvg.drawing.Drawing at 0x24ce62aec80>",
      "image/svg+xml": "<?xml version=\"1.0\" encoding=\"UTF-8\"?>\n<svg xmlns=\"http://www.w3.org/2000/svg\" xmlns:xlink=\"http://www.w3.org/1999/xlink\"\n     width=\"703.125\" height=\"546.875\" viewBox=\"-90.0 0 450 350\">\n<defs>\n</defs>\n<path d=\"M10,75 L25,75\" stroke-width=\"1\" stroke=\"black\" stroke-linejoin=\"miter\" fill=\"none\" />\n<path d=\"M10,125 L25,125\" stroke-width=\"1\" stroke=\"black\" stroke-linejoin=\"miter\" fill=\"none\" />\n<path d=\"M10,175 L25,175\" stroke-width=\"1\" stroke=\"black\" stroke-linejoin=\"miter\" fill=\"none\" />\n<path d=\"M10,225 L25,225\" stroke-width=\"1\" stroke=\"black\" stroke-linejoin=\"miter\" fill=\"none\" />\n<path d=\"M27,2 L323,2 L323,298 L27,298 Z\" stroke=\"black\" fill=\"lightblue\" stroke-dasharray=\"1,2\" stroke-linejoin=\"miter\" />\n<text x=\"29\" y=\"305\" font-size=\"8\" text-anchor=\"start\" dy=\"0em\">POSTPROCESSED CNOT</text>\n<path d=\"M37.9442,25.0002 C51.653800000000004,25.0002,51.5923,50.0,65.3019,50.0 M65.3038,50.0 C51.59219999999999,50.0,51.6538,74.9998,37.94409999999999,74.9998 M65.3038,49.99999999999999 L87.1884,49.99999999999999 M87.1884,49.99999999999999 C100.9,49.99999999999999,100.83840000000001,25.000199999999992,114.5481,25.000199999999992 M87.1884,49.99999999999999 C100.9,49.99999999999999,100.83840000000001,74.9998,114.5481,74.9998 M25.0,24.999999999999993 L38.0,24.999999999999993 M38.0019,74.9998 L25.0,74.9998 M112.6453,74.9998 L125.0,74.9998 M112.1944,24.999799999999993 L125.0,24.999799999999993\" stroke-width=\"1\" stroke=\"black\" stroke-linejoin=\"miter\" fill=\"none\" />\n<text x=\"75\" y=\"38\" font-size=\"7\" text-anchor=\"middle\"><tspan x=\"75\" dy=\"0em\">Θ=1.910633</tspan><tspan x=\"75\" dy=\"1em\">Φ_tl=3*pi/2</tspan><tspan x=\"75\" dy=\"1em\">Φ_bl=pi</tspan><tspan x=\"75\" dy=\"1em\">Φ_tr=pi/2</tspan></text>\n<path d=\"M97,53 L107,53 L107,63 L97,63 Z\" stroke=\"black\" fill=\"aquamarine\" stroke-linejoin=\"miter\" />\n<text x=\"102\" y=\"60\" font-size=\"6\" text-anchor=\"middle\" dy=\"0em\">H</text>\n<path d=\"M37.9442,175.0002 C51.653800000000004,175.0002,51.5923,200.0,65.3019,200.0 M65.3038,200.0 C51.59219999999999,200.0,51.6538,224.9998,37.94409999999999,224.9998 M65.3038,200.0 L87.1884,200.0 M87.1884,200.0 C100.9,200.0,100.83840000000001,175.0002,114.5481,175.0002 M87.1884,200.0 C100.9,200.0,100.83840000000001,224.9998,114.5481,224.9998 M25.0,175.0 L38.0,175.0 M38.0019,224.9998 L25.0,224.9998 M112.6453,224.9998 L125.0,224.9998 M112.1944,174.9998 L125.0,174.9998\" stroke-width=\"1\" stroke=\"black\" stroke-linejoin=\"miter\" fill=\"none\" />\n<text x=\"75\" y=\"188\" font-size=\"7\" text-anchor=\"middle\" dy=\"0em\"></text>\n<path d=\"M97,203 L107,203 L107,213 L97,213 Z\" stroke=\"black\" fill=\"aquamarine\" stroke-linejoin=\"miter\" />\n<text x=\"102\" y=\"210\" font-size=\"6\" text-anchor=\"middle\" dy=\"0em\">H</text>\n<path d=\"M25,125 L125,125\" stroke=\"black\" stroke-width=\"1\" fill=\"none\" />\n<path d=\"M137.9442,125.0002 C151.6538,125.0002,151.5923,150.0,165.3019,150.0 M165.3038,150.0 C151.5922,150.0,151.6538,174.9998,137.9441,174.9998 M165.3038,150.0 L187.1884,150.0 M187.1884,150.0 C200.9,150.0,200.8384,125.0002,214.5481,125.0002 M187.1884,150.0 C200.9,150.0,200.8384,174.9998,214.5481,174.9998 M125.0,125.0 L138.0,125.0 M138.0019,174.9998 L125.0,174.9998 M212.64530000000002,174.9998 L225.0,174.9998 M212.1944,124.9998 L225.0,124.9998\" stroke-width=\"1\" stroke=\"black\" stroke-linejoin=\"miter\" fill=\"none\" />\n<text x=\"175\" y=\"138\" font-size=\"7\" text-anchor=\"middle\"><tspan x=\"175\" dy=\"0em\">Θ=1.910633</tspan><tspan x=\"175\" dy=\"1em\">Φ_tl=3*pi/2</tspan><tspan x=\"175\" dy=\"1em\">Φ_bl=pi</tspan><tspan x=\"175\" dy=\"1em\">Φ_tr=pi/2</tspan></text>\n<path d=\"M197,153 L207,153 L207,163 L197,163 Z\" stroke=\"black\" fill=\"aquamarine\" stroke-linejoin=\"miter\" />\n<text x=\"202\" y=\"160\" font-size=\"6\" text-anchor=\"middle\" dy=\"0em\">H</text>\n<path d=\"M137.9442,225.0002 C151.6538,225.0002,151.5923,250.0,165.3019,250.0 M165.3038,250.0 C151.5922,250.0,151.6538,274.9998,137.9441,274.9998 M165.3038,250.0 L187.1884,250.0 M187.1884,250.0 C200.9,250.0,200.8384,225.0002,214.5481,225.0002 M187.1884,250.0 C200.9,250.0,200.8384,274.9998,214.5481,274.9998 M125.0,225.0 L138.0,225.0 M138.0019,274.9998 L125.0,274.9998 M212.64530000000002,274.9998 L225.0,274.9998 M212.1944,224.9998 L225.0,224.9998\" stroke-width=\"1\" stroke=\"black\" stroke-linejoin=\"miter\" fill=\"none\" />\n<text x=\"175\" y=\"238\" font-size=\"7\" text-anchor=\"middle\" dy=\"0em\">Θ=1.910633</text>\n<path d=\"M197,253 L207,253 L207,263 L197,263 Z\" stroke=\"black\" fill=\"aquamarine\" stroke-linejoin=\"miter\" />\n<text x=\"202\" y=\"260\" font-size=\"6\" text-anchor=\"middle\" dy=\"0em\">H</text>\n<path d=\"M237.9442,175.0002 C251.6538,175.0002,251.5923,200.0,265.3019,200.0 M265.30379999999997,200.0 C251.59219999999996,200.0,251.65379999999996,224.9998,237.94409999999996,224.9998 M265.30379999999997,200.0 L287.18839999999994,200.0 M287.18839999999994,200.0 C300.9,200.0,300.8384,175.0002,314.5481,175.0002 M287.1884,200.0 C300.9,200.0,300.8384,224.9998,314.5481,224.9998 M224.99999999999997,175.0 L237.99999999999997,175.0 M238.00189999999998,224.9998 L224.99999999999997,224.9998 M312.64529999999996,224.9998 L324.99999999999994,224.9998 M312.1944,174.9998 L325.0,174.9998\" stroke-width=\"1\" stroke=\"black\" stroke-linejoin=\"miter\" fill=\"none\" />\n<text x=\"275\" y=\"188\" font-size=\"7\" text-anchor=\"middle\" dy=\"0em\"></text>\n<path d=\"M297,203 L307,203 L307,213 L297,213 Z\" stroke=\"black\" fill=\"aquamarine\" stroke-linejoin=\"miter\" />\n<text x=\"302\" y=\"210\" font-size=\"6\" text-anchor=\"middle\" dy=\"0em\">H</text>\n<path d=\"M125,75 L325,75\" stroke=\"black\" stroke-width=\"1\" fill=\"none\" />\n<path d=\"M225,125 L325,125\" stroke=\"black\" stroke-width=\"1\" fill=\"none\" />\n<path d=\"M325,75 L340,75\" stroke-width=\"1\" stroke=\"black\" stroke-linejoin=\"miter\" fill=\"none\" />\n<path d=\"M325,125 L340,125\" stroke-width=\"1\" stroke=\"black\" stroke-linejoin=\"miter\" fill=\"none\" />\n<path d=\"M325,175 L340,175\" stroke-width=\"1\" stroke=\"black\" stroke-linejoin=\"miter\" fill=\"none\" />\n<path d=\"M325,225 L340,225\" stroke-width=\"1\" stroke=\"black\" stroke-linejoin=\"miter\" fill=\"none\" />\n<path d=\"M7,25 C7,25,7,15,17,15 L25,15 L25,35 L17,35 C7,35,7,25,7,25 L7,25\" stroke-width=\"1\" stroke=\"black\" stroke-linejoin=\"miter\" fill=\"white\" />\n<text x=\"13\" y=\"41\" font-size=\"6\" text-anchor=\"middle\" font-style=\"italic\" dy=\"0em\">[herald0]</text>\n<text x=\"17\" y=\"28\" font-size=\"7\" text-anchor=\"middle\" dy=\"0em\">0</text>\n<path d=\"M-2,65 L10,65 L10,135 L-2,135 Z\" stroke=\"black\" fill=\"white\" stroke-linejoin=\"miter\" />\n<text x=\"4\" y=\"77\" font-size=\"7\" text-anchor=\"middle\" dy=\"0em\">1</text>\n<text x=\"4\" y=\"127\" font-size=\"7\" text-anchor=\"middle\" dy=\"0em\">2</text>\n<text x=\"-2\" y=\"141\" font-size=\"6\" text-anchor=\"start\" font-style=\"italic\" dy=\"0em\">[ctrl]</text>\n<path d=\"M-2,165 L10,165 L10,235 L-2,235 Z\" stroke=\"black\" fill=\"white\" stroke-linejoin=\"miter\" />\n<text x=\"4\" y=\"177\" font-size=\"7\" text-anchor=\"middle\" dy=\"0em\">3</text>\n<text x=\"4\" y=\"227\" font-size=\"7\" text-anchor=\"middle\" dy=\"0em\">4</text>\n<text x=\"-2\" y=\"241\" font-size=\"6\" text-anchor=\"start\" font-style=\"italic\" dy=\"0em\">[data]</text>\n<path d=\"M107,275 C107,275,107,265,117,265 L125,265 L125,285 L117,285 C107,285,107,275,107,275 L107,275\" stroke-width=\"1\" stroke=\"black\" stroke-linejoin=\"miter\" fill=\"white\" />\n<text x=\"113\" y=\"291\" font-size=\"6\" text-anchor=\"middle\" font-style=\"italic\" dy=\"0em\">[herald1]</text>\n<text x=\"117\" y=\"278\" font-size=\"7\" text-anchor=\"middle\" dy=\"0em\">0</text>\n<path d=\"M133,35 L125,35 L125,15 L133,15 C133,15,143,15,143,25 C143,35,133,35,133,35 L133,35\" stroke-width=\"1\" stroke=\"black\" stroke-linejoin=\"miter\" fill=\"white\" />\n<text x=\"138\" y=\"41\" font-size=\"6\" text-anchor=\"middle\" font-style=\"italic\" dy=\"0em\">[herald0]</text>\n<text x=\"133\" y=\"28\" font-size=\"7\" text-anchor=\"middle\" dy=\"0em\">0</text>\n<path d=\"M340,65 L352,65 L352,135 L340,135 Z\" stroke=\"black\" fill=\"white\" stroke-linejoin=\"miter\" />\n<text x=\"346\" y=\"77\" font-size=\"7\" text-anchor=\"middle\" dy=\"0em\">1</text>\n<text x=\"346\" y=\"127\" font-size=\"7\" text-anchor=\"middle\" dy=\"0em\">2</text>\n<text x=\"352\" y=\"141\" font-size=\"6\" text-anchor=\"end\" font-style=\"italic\" dy=\"0em\">[ctrl]</text>\n<path d=\"M340,165 L352,165 L352,235 L340,235 Z\" stroke=\"black\" fill=\"white\" stroke-linejoin=\"miter\" />\n<text x=\"346\" y=\"177\" font-size=\"7\" text-anchor=\"middle\" dy=\"0em\">3</text>\n<text x=\"346\" y=\"227\" font-size=\"7\" text-anchor=\"middle\" dy=\"0em\">4</text>\n<text x=\"352\" y=\"241\" font-size=\"6\" text-anchor=\"end\" font-style=\"italic\" dy=\"0em\">[data]</text>\n<path d=\"M233,285 L225,285 L225,265 L233,265 C233,265,243,265,243,275 C243,285,233,285,233,285 L233,285\" stroke-width=\"1\" stroke=\"black\" stroke-linejoin=\"miter\" fill=\"white\" />\n<text x=\"238\" y=\"291\" font-size=\"6\" text-anchor=\"middle\" font-style=\"italic\" dy=\"0em\">[herald1]</text>\n<text x=\"233\" y=\"278\" font-size=\"7\" text-anchor=\"middle\" dy=\"0em\">0</text>\n</svg>"
     },
     "execution_count": 28,
     "metadata": {},
     "output_type": "execute_result"
    }
   ],
   "source": [
    "## Ralph's et al. CNot\n",
    "\n",
    "print(catalog['postprocessed cnot'].doc)\n",
    "ralph_cnot = catalog['postprocessed cnot'].as_processor().build()\n",
    "## You can set its input state with a LogicalState\n",
    "ralph_cnot.with_input(pcvl.BasicState([0, 1, 1, 0]))\n",
    "\n",
    "pcvl.pdisplay(ralph_cnot, recursive=True, render_size=1.25)"
   ]
  },
  {
   "cell_type": "code",
   "execution_count": 29,
   "id": "1e407529",
   "metadata": {},
   "outputs": [],
   "source": [
    "## TO-DO: Check/Convince yourself that the circuit above is performing a CNOT in the dual rail encoding"
   ]
  },
  {
   "cell_type": "code",
   "execution_count": 30,
   "outputs": [
    {
     "name": "stdout",
     "output_type": "stream",
     "text": [
      "{\n",
      "  |0,1,0,1>: 1\n",
      "}\n",
      "Some output states were not selected because of heralds and post-processing => you can check the logical performance\n",
      "Logical performance =  0.11111111111111127\n"
     ]
    }
   ],
   "source": [
    "## You can sample some output states\n",
    "ralph_cnot.min_detected_photons_filter(0)\n",
    "cnot_sampler = pcvl.algorithm.Sampler(ralph_cnot)\n",
    "samples = cnot_sampler.probs()\n",
    "print(samples['results'])\n",
    "print(\"Some output states were not selected because of heralds and post-processing => you can check the logical performance\")\n",
    "print(\"Logical performance = \", samples['logical_perf'])"
   ],
   "metadata": {
    "collapsed": false
   }
  },
  {
   "cell_type": "code",
   "execution_count": 32,
   "id": "88579684",
   "metadata": {},
   "outputs": [
    {
     "name": "stdout",
     "output_type": "stream",
     "text": [
      "[|1,0,1,0>, |1,0,1,0>, |1,0,1,0>, |1,0,1,0>, |1,0,1,0>, |1,0,1,0>, |1,0,1,0>, |1,0,1,0>, |1,0,1,0>, |1,0,1,0>]\n",
      "Some output states were not selected because of heralds and post-processing => you can check the logical performance\n",
      "Logical performance =  0.051564421632000146\n"
     ]
    }
   ],
   "source": [
    "## You can sample some output states\n",
    "h_cnot = catalog['heralded cnot'].as_processor().build()\n",
    "cnot_sampler = pcvl.algorithm.Sampler(h_cnot)\n",
    "h_cnot.with_input(pcvl.LogicalState([0, 0]))\n",
    "\n",
    "samples = cnot_sampler.samples(10)\n",
    "print(samples['results'])\n",
    "print(\"Some output states were not selected because of heralds and post-processing => you can check the logical performance\")\n",
    "print(\"Logical performance = \", samples['logical_perf'])"
   ]
  },
  {
   "cell_type": "code",
   "execution_count": 33,
   "id": "6648043a",
   "metadata": {},
   "outputs": [],
   "source": [
    "## TO-DO: Check it perfoms a CNOT, and explicit the difference between the two types of CNOT"
   ]
  },
  {
   "cell_type": "markdown",
   "id": "bda1dc03",
   "metadata": {},
   "source": [
    "### Exercise\n",
    "\n",
    "The next circuit comes from the following [paper](https://quantum-journal.org/papers/q-2021-03-29-422/)."
   ]
  },
  {
   "cell_type": "markdown",
   "id": "76bcc78f",
   "metadata": {},
   "source": [
    "![](../_static/img/tuto_circuit_to_reproduce.png)"
   ]
  },
  {
   "cell_type": "code",
   "execution_count": 34,
   "outputs": [
    {
     "name": "stdout",
     "output_type": "stream",
     "text": [
      "HERALDED CNOT DOCUMENTATION\n",
      "----------------------------\n",
      "\n",
      "CNOT gate with 4 heralded modes\n",
      "\n",
      "Scientific article reference: https://doi.org/10.1073/pnas.1018839108\n",
      "\n",
      "Schema:\n",
      "                      ╭─────╮\n",
      "ctrl (dual rail) ─────┤     ├───── ctrl (dual rail)\n",
      "                 ─────┤     ├─────\n",
      "                      │     │\n",
      "data (dual rail) ─────┤     ├───── data (dual rail)\n",
      "                 ─────┤     ├─────\n",
      "                      ╰─────╯\n",
      "\n"
     ]
    },
    {
     "data": {
      "text/plain": "<drawSvg.drawing.Drawing at 0x24ce6feb430>",
      "image/svg+xml": "<?xml version=\"1.0\" encoding=\"UTF-8\"?>\n<svg xmlns=\"http://www.w3.org/2000/svg\" xmlns:xlink=\"http://www.w3.org/1999/xlink\"\n     width=\"1062.5\" height=\"562.5\" viewBox=\"-48.0 0 850 450\">\n<defs>\n</defs>\n<path d=\"M10,125 L25,125\" stroke-width=\"1\" stroke=\"black\" stroke-linejoin=\"miter\" fill=\"none\" />\n<path d=\"M10,175 L25,175\" stroke-width=\"1\" stroke=\"black\" stroke-linejoin=\"miter\" fill=\"none\" />\n<path d=\"M10,225 L25,225\" stroke-width=\"1\" stroke=\"black\" stroke-linejoin=\"miter\" fill=\"none\" />\n<path d=\"M10,275 L25,275\" stroke-width=\"1\" stroke=\"black\" stroke-linejoin=\"miter\" fill=\"none\" />\n<path d=\"M27,2 L723,2 L723,398 L27,398 Z\" stroke=\"black\" fill=\"lightblue\" stroke-dasharray=\"1,2\" stroke-linejoin=\"miter\" />\n<text x=\"29\" y=\"405\" font-size=\"8\" text-anchor=\"start\" dy=\"0em\">HERALDED CNOT</text>\n<path d=\"M25,124.8 C45,125,55,25,75,25\" stroke-width=\"2\" stroke=\"white\" stroke-linejoin=\"miter\" fill=\"none\" />\n<path d=\"M25,125 C45,125,55,25,75,25\" stroke-width=\"1\" stroke=\"black\" stroke-linejoin=\"miter\" fill=\"none\" />\n<path d=\"M37.9442,225.0002 C51.653800000000004,225.0002,51.5923,250.0,65.3019,250.0 M65.3038,250.0 C51.59219999999999,250.0,51.6538,274.9998,37.94409999999999,274.9998 M65.3038,250.0 L87.1884,250.0 M87.1884,250.0 C100.9,250.0,100.83840000000001,225.0002,114.5481,225.0002 M87.1884,250.0 C100.9,250.0,100.83840000000001,274.9998,114.5481,274.9998 M25.0,225.0 L38.0,225.0 M38.0019,274.9998 L25.0,274.9998 M112.6453,274.9998 L125.0,274.9998 M112.1944,224.9998 L125.0,224.9998\" stroke-width=\"1\" stroke=\"black\" stroke-linejoin=\"miter\" fill=\"none\" />\n<text x=\"75\" y=\"238\" font-size=\"7\" text-anchor=\"middle\" dy=\"0em\"></text>\n<path d=\"M97,253 L107,253 L107,263 L97,263 Z\" stroke=\"black\" fill=\"aquamarine\" stroke-linejoin=\"miter\" />\n<text x=\"102\" y=\"260\" font-size=\"6\" text-anchor=\"middle\" dy=\"0em\">H</text>\n<path d=\"M125,274.8 C145,275,155,325,175,325\" stroke-width=\"2\" stroke=\"white\" stroke-linejoin=\"miter\" fill=\"none\" />\n<path d=\"M125,275 C145,275,155,325,175,325\" stroke-width=\"1\" stroke=\"black\" stroke-linejoin=\"miter\" fill=\"none\" />\n<path d=\"M25,175 L125,175\" stroke=\"black\" stroke-width=\"1\" fill=\"none\" />\n<path d=\"M137.9442,175.0002 C151.6538,175.0002,151.5923,200.0,165.3019,200.0 M165.3038,200.0 C151.5922,200.0,151.6538,224.9998,137.9441,224.9998 M165.3038,200.0 L187.1884,200.0 M187.1884,200.0 C200.9,200.0,200.8384,175.0002,214.5481,175.0002 M187.1884,200.0 C200.9,200.0,200.8384,224.9998,214.5481,224.9998 M125.0,175.0 L138.0,175.0 M138.0019,224.9998 L125.0,224.9998 M212.64530000000002,224.9998 L225.0,224.9998 M212.1944,174.9998 L225.0,174.9998\" stroke-width=\"1\" stroke=\"black\" stroke-linejoin=\"miter\" fill=\"none\" />\n<text x=\"175\" y=\"188\" font-size=\"7\" text-anchor=\"middle\" dy=\"0em\"></text>\n<path d=\"M197,203 L207,203 L207,213 L197,213 Z\" stroke=\"black\" fill=\"aquamarine\" stroke-linejoin=\"miter\" />\n<text x=\"202\" y=\"210\" font-size=\"6\" text-anchor=\"middle\" dy=\"0em\">H</text>\n<path d=\"M237.9442,125.0002 C251.6538,125.0002,251.5923,150.0,265.3019,150.0 M265.30379999999997,150.0 C251.59219999999996,150.0,251.65379999999996,174.9998,237.94409999999996,174.9998 M265.30379999999997,150.0 L287.18839999999994,150.0 M287.18839999999994,150.0 C300.9,150.0,300.8384,125.0002,314.5481,125.0002 M287.1884,150.0 C300.9,150.0,300.8384,174.9998,314.5481,174.9998 M224.99999999999997,125.0 L237.99999999999997,125.0 M238.00189999999998,174.9998 L224.99999999999997,174.9998 M312.64529999999996,174.9998 L324.99999999999994,174.9998 M312.1944,124.9998 L325.0,124.9998\" stroke-width=\"1\" stroke=\"black\" stroke-linejoin=\"miter\" fill=\"none\" />\n<text x=\"275\" y=\"138\" font-size=\"7\" text-anchor=\"middle\"><tspan x=\"275\" dy=\"0em\">Θ=2.145993</tspan><tspan x=\"275\" dy=\"1em\">Φ_tl=3*pi/2</tspan><tspan x=\"275\" dy=\"1em\">Φ_bl=pi</tspan><tspan x=\"275\" dy=\"1em\">Φ_tr=pi/2</tspan></text>\n<path d=\"M297,153 L307,153 L307,163 L297,163 Z\" stroke=\"black\" fill=\"aquamarine\" stroke-linejoin=\"miter\" />\n<text x=\"302\" y=\"160\" font-size=\"6\" text-anchor=\"middle\" dy=\"0em\">H</text>\n<path d=\"M237.9442,225.0002 C251.6538,225.0002,251.5923,250.0,265.3019,250.0 M265.30379999999997,250.0 C251.59219999999996,250.0,251.65379999999996,274.9998,237.94409999999996,274.9998 M265.30379999999997,250.0 L287.18839999999994,250.0 M287.18839999999994,250.0 C300.9,250.0,300.8384,225.0002,314.5481,225.0002 M287.1884,250.0 C300.9,250.0,300.8384,274.9998,314.5481,274.9998 M224.99999999999997,225.0 L237.99999999999997,225.0 M238.00189999999998,274.9998 L224.99999999999997,274.9998 M312.64529999999996,274.9998 L324.99999999999994,274.9998 M312.1944,224.9998 L325.0,224.9998\" stroke-width=\"1\" stroke=\"black\" stroke-linejoin=\"miter\" fill=\"none\" />\n<text x=\"275\" y=\"238\" font-size=\"7\" text-anchor=\"middle\" dy=\"0em\">Θ=2.145993</text>\n<path d=\"M297,253 L307,253 L307,263 L297,263 Z\" stroke=\"black\" fill=\"aquamarine\" stroke-linejoin=\"miter\" />\n<text x=\"302\" y=\"260\" font-size=\"6\" text-anchor=\"middle\" dy=\"0em\">H</text>\n<path d=\"M337.9442,175.0002 C351.65380000000005,175.0002,351.5923,200.0,365.30190000000005,200.0 M365.3038,200.0 C351.59220000000005,200.0,351.65380000000005,224.9998,337.94410000000005,224.9998 M365.3038,200.0 L387.1884,200.0 M387.1884,200.0 C400.9,200.0,400.8384,175.0002,414.5481,175.0002 M387.1884,200.0 C400.9,200.0,400.8384,224.9998,414.5481,224.9998 M325.0,175.0 L338.0,175.0 M338.0019,224.9998 L325.0,224.9998 M412.6453,224.9998 L425.0,224.9998 M412.1944,174.9998 L425.0,174.9998\" stroke-width=\"1\" stroke=\"black\" stroke-linejoin=\"miter\" fill=\"none\" />\n<text x=\"375\" y=\"188\" font-size=\"7\" text-anchor=\"middle\" dy=\"0em\"></text>\n<path d=\"M397,203 L407,203 L407,213 L397,213 Z\" stroke=\"black\" fill=\"aquamarine\" stroke-linejoin=\"miter\" />\n<text x=\"402\" y=\"210\" font-size=\"6\" text-anchor=\"middle\" dy=\"0em\">H</text>\n<path d=\"M175,325 L325,325\" stroke=\"black\" stroke-width=\"1\" fill=\"none\" />\n<path d=\"M325,324.8 C345,325,355,325,375,325\" stroke-width=\"2\" stroke=\"white\" stroke-linejoin=\"miter\" fill=\"none\" />\n<path d=\"M325,325 C345,325,355,325,375,325\" stroke-width=\"1\" stroke=\"black\" stroke-linejoin=\"miter\" fill=\"none\" />\n<path d=\"M437.9442,125.0002 C451.65380000000005,125.0002,451.5923,150.0,465.30190000000005,150.0 M465.3038,150.0 C451.59220000000005,150.0,451.65380000000005,174.9998,437.94410000000005,174.9998 M465.3038,150.0 L487.1884,150.0 M487.1884,150.0 C500.9,150.0,500.8384,125.0002,514.5481,125.0002 M487.1884,150.0 C500.9,150.0,500.8384,174.9998,514.5481,174.9998 M425.0,125.0 L438.0,125.0 M438.0019,174.9998 L425.0,174.9998 M512.6453,174.9998 L525.0,174.9998 M512.1944,124.9998 L525.0,124.9998\" stroke-width=\"1\" stroke=\"black\" stroke-linejoin=\"miter\" fill=\"none\" />\n<text x=\"475\" y=\"138\" font-size=\"7\" text-anchor=\"middle\" dy=\"0em\">Θ=1.028622</text>\n<path d=\"M497,153 L507,153 L507,163 L497,163 Z\" stroke=\"black\" fill=\"aquamarine\" stroke-linejoin=\"miter\" />\n<text x=\"502\" y=\"160\" font-size=\"6\" text-anchor=\"middle\" dy=\"0em\">H</text>\n<path d=\"M437.9442,225.0002 C451.65380000000005,225.0002,451.5923,250.0,465.30190000000005,250.0 M465.3038,250.0 C451.59220000000005,250.0,451.65380000000005,274.9998,437.94410000000005,274.9998 M465.3038,250.0 L487.1884,250.0 M487.1884,250.0 C500.9,250.0,500.8384,225.0002,514.5481,225.0002 M487.1884,250.0 C500.9,250.0,500.8384,274.9998,514.5481,274.9998 M425.0,225.0 L438.0,225.0 M438.0019,274.9998 L425.0,274.9998 M512.6453,274.9998 L525.0,274.9998 M512.1944,224.9998 L525.0,224.9998\" stroke-width=\"1\" stroke=\"black\" stroke-linejoin=\"miter\" fill=\"none\" />\n<text x=\"475\" y=\"238\" font-size=\"7\" text-anchor=\"middle\"><tspan x=\"475\" dy=\"0em\">Θ=1.028622</tspan><tspan x=\"475\" dy=\"1em\">Φ_tl=3*pi/2</tspan><tspan x=\"475\" dy=\"1em\">Φ_bl=pi</tspan><tspan x=\"475\" dy=\"1em\">Φ_tr=pi/2</tspan></text>\n<path d=\"M497,253 L507,253 L507,263 L497,263 Z\" stroke=\"black\" fill=\"aquamarine\" stroke-linejoin=\"miter\" />\n<text x=\"502\" y=\"260\" font-size=\"6\" text-anchor=\"middle\" dy=\"0em\">H</text>\n<path d=\"M375,325 L525,325\" stroke=\"black\" stroke-width=\"1\" fill=\"none\" />\n<path d=\"M525,324.8 C545,325,555,275,575,275\" stroke-width=\"2\" stroke=\"white\" stroke-linejoin=\"miter\" fill=\"none\" />\n<path d=\"M525,325 C545,325,555,275,575,275\" stroke-width=\"1\" stroke=\"black\" stroke-linejoin=\"miter\" fill=\"none\" />\n<path d=\"M525,225 L575,225\" stroke=\"black\" stroke-width=\"1\" fill=\"none\" />\n<path d=\"M587.9442,225.0002 C601.6538,225.0002,601.5923,250.0,615.3019,250.0 M615.3038,250.0 C601.5922,250.0,601.6538,274.9998,587.9441,274.9998 M615.3038,250.0 L637.1884,250.0 M637.1884,250.0 C650.9,250.0,650.8384,225.0002,664.5481,225.0002 M637.1884,250.0 C650.9,250.0,650.8384,274.9998,664.5481,274.9998 M575.0,225.0 L588.0,225.0 M588.0019,274.9998 L575.0,274.9998 M662.6453,274.9998 L675.0,274.9998 M662.1944,224.9998 L675.0,224.9998\" stroke-width=\"1\" stroke=\"black\" stroke-linejoin=\"miter\" fill=\"none\" />\n<text x=\"625\" y=\"238\" font-size=\"7\" text-anchor=\"middle\" dy=\"0em\"></text>\n<path d=\"M647,253 L657,253 L657,263 L647,263 Z\" stroke=\"black\" fill=\"aquamarine\" stroke-linejoin=\"miter\" />\n<text x=\"652\" y=\"260\" font-size=\"6\" text-anchor=\"middle\" dy=\"0em\">H</text>\n<path d=\"M675,224.8 C695,225,705,275,725,275\" stroke-width=\"2\" stroke=\"white\" stroke-linejoin=\"miter\" fill=\"none\" />\n<path d=\"M675,225 C695,225,705,275,725,275\" stroke-width=\"1\" stroke=\"black\" stroke-linejoin=\"miter\" fill=\"none\" />\n<path d=\"M675,274.8 C695,275,705,225,725,225\" stroke-width=\"2\" stroke=\"white\" stroke-linejoin=\"miter\" fill=\"none\" />\n<path d=\"M675,275 C695,275,705,225,725,225\" stroke-width=\"1\" stroke=\"black\" stroke-linejoin=\"miter\" fill=\"none\" />\n<path d=\"M75,25 L525,25\" stroke=\"black\" stroke-width=\"1\" fill=\"none\" />\n<path d=\"M525,24.8 C545,25,555,125,575,125\" stroke-width=\"2\" stroke=\"white\" stroke-linejoin=\"miter\" fill=\"none\" />\n<path d=\"M525,25 C545,25,555,125,575,125\" stroke-width=\"1\" stroke=\"black\" stroke-linejoin=\"miter\" fill=\"none\" />\n<path d=\"M575,125 L725,125\" stroke=\"black\" stroke-width=\"1\" fill=\"none\" />\n<path d=\"M525,175 L725,175\" stroke=\"black\" stroke-width=\"1\" fill=\"none\" />\n<path d=\"M725,125 L740,125\" stroke-width=\"1\" stroke=\"black\" stroke-linejoin=\"miter\" fill=\"none\" />\n<path d=\"M725,175 L740,175\" stroke-width=\"1\" stroke=\"black\" stroke-linejoin=\"miter\" fill=\"none\" />\n<path d=\"M725,225 L740,225\" stroke-width=\"1\" stroke=\"black\" stroke-linejoin=\"miter\" fill=\"none\" />\n<path d=\"M725,275 L740,275\" stroke-width=\"1\" stroke=\"black\" stroke-linejoin=\"miter\" fill=\"none\" />\n<path d=\"M407,125 C407,125,407,115,417,115 L425,115 L425,135 L417,135 C407,135,407,125,407,125 L407,125\" stroke-width=\"1\" stroke=\"black\" stroke-linejoin=\"miter\" fill=\"white\" />\n<text x=\"413\" y=\"141\" font-size=\"6\" text-anchor=\"middle\" font-style=\"italic\" dy=\"0em\">[herald0]</text>\n<text x=\"417\" y=\"128\" font-size=\"7\" text-anchor=\"middle\" dy=\"0em\">0</text>\n<path d=\"M207,125 C207,125,207,115,217,115 L225,115 L225,135 L217,135 C207,135,207,125,207,125 L207,125\" stroke-width=\"1\" stroke=\"black\" stroke-linejoin=\"miter\" fill=\"white\" />\n<text x=\"213\" y=\"141\" font-size=\"6\" text-anchor=\"middle\" font-style=\"italic\" dy=\"0em\">[herald1]</text>\n<text x=\"217\" y=\"128\" font-size=\"7\" text-anchor=\"middle\" dy=\"0em\">1</text>\n<path d=\"M-2,115 L10,115 L10,185 L-2,185 Z\" stroke=\"black\" fill=\"white\" stroke-linejoin=\"miter\" />\n<text x=\"4\" y=\"127\" font-size=\"7\" text-anchor=\"middle\" dy=\"0em\">2</text>\n<text x=\"4\" y=\"177\" font-size=\"7\" text-anchor=\"middle\" dy=\"0em\">3</text>\n<text x=\"-2\" y=\"191\" font-size=\"6\" text-anchor=\"start\" font-style=\"italic\" dy=\"0em\">[ctrl]</text>\n<path d=\"M-2,215 L10,215 L10,285 L-2,285 Z\" stroke=\"black\" fill=\"white\" stroke-linejoin=\"miter\" />\n<text x=\"4\" y=\"227\" font-size=\"7\" text-anchor=\"middle\" dy=\"0em\">4</text>\n<text x=\"4\" y=\"277\" font-size=\"7\" text-anchor=\"middle\" dy=\"0em\">5</text>\n<text x=\"-2\" y=\"291\" font-size=\"6\" text-anchor=\"start\" font-style=\"italic\" dy=\"0em\">[data]</text>\n<path d=\"M407,275 C407,275,407,265,417,265 L425,265 L425,285 L417,285 C407,285,407,275,407,275 L407,275\" stroke-width=\"1\" stroke=\"black\" stroke-linejoin=\"miter\" fill=\"white\" />\n<text x=\"413\" y=\"291\" font-size=\"6\" text-anchor=\"middle\" font-style=\"italic\" dy=\"0em\">[herald2]</text>\n<text x=\"417\" y=\"278\" font-size=\"7\" text-anchor=\"middle\" dy=\"0em\">0</text>\n<path d=\"M207,275 C207,275,207,265,217,265 L225,265 L225,285 L217,285 C207,285,207,275,207,275 L207,275\" stroke-width=\"1\" stroke=\"black\" stroke-linejoin=\"miter\" fill=\"white\" />\n<text x=\"213\" y=\"291\" font-size=\"6\" text-anchor=\"middle\" font-style=\"italic\" dy=\"0em\">[herald3]</text>\n<text x=\"217\" y=\"278\" font-size=\"7\" text-anchor=\"middle\" dy=\"0em\">1</text>\n<path d=\"M533,135 L525,135 L525,115 L533,115 C533,115,543,115,543,125 C543,135,533,135,533,135 L533,135\" stroke-width=\"1\" stroke=\"black\" stroke-linejoin=\"miter\" fill=\"white\" />\n<text x=\"538\" y=\"141\" font-size=\"6\" text-anchor=\"middle\" font-style=\"italic\" dy=\"0em\">[herald0]</text>\n<text x=\"533\" y=\"128\" font-size=\"7\" text-anchor=\"middle\" dy=\"0em\">0</text>\n<path d=\"M333,135 L325,135 L325,115 L333,115 C333,115,343,115,343,125 C343,135,333,135,333,135 L333,135\" stroke-width=\"1\" stroke=\"black\" stroke-linejoin=\"miter\" fill=\"white\" />\n<text x=\"338\" y=\"141\" font-size=\"6\" text-anchor=\"middle\" font-style=\"italic\" dy=\"0em\">[herald1]</text>\n<text x=\"333\" y=\"128\" font-size=\"7\" text-anchor=\"middle\" dy=\"0em\">1</text>\n<path d=\"M740,115 L752,115 L752,185 L740,185 Z\" stroke=\"black\" fill=\"white\" stroke-linejoin=\"miter\" />\n<text x=\"746\" y=\"127\" font-size=\"7\" text-anchor=\"middle\" dy=\"0em\">2</text>\n<text x=\"746\" y=\"177\" font-size=\"7\" text-anchor=\"middle\" dy=\"0em\">3</text>\n<text x=\"752\" y=\"191\" font-size=\"6\" text-anchor=\"end\" font-style=\"italic\" dy=\"0em\">[ctrl]</text>\n<path d=\"M740,215 L752,215 L752,285 L740,285 Z\" stroke=\"black\" fill=\"white\" stroke-linejoin=\"miter\" />\n<text x=\"746\" y=\"227\" font-size=\"7\" text-anchor=\"middle\" dy=\"0em\">4</text>\n<text x=\"746\" y=\"277\" font-size=\"7\" text-anchor=\"middle\" dy=\"0em\">5</text>\n<text x=\"752\" y=\"291\" font-size=\"6\" text-anchor=\"end\" font-style=\"italic\" dy=\"0em\">[data]</text>\n<path d=\"M533,285 L525,285 L525,265 L533,265 C533,265,543,265,543,275 C543,285,533,285,533,285 L533,285\" stroke-width=\"1\" stroke=\"black\" stroke-linejoin=\"miter\" fill=\"white\" />\n<text x=\"538\" y=\"291\" font-size=\"6\" text-anchor=\"middle\" font-style=\"italic\" dy=\"0em\">[herald2]</text>\n<text x=\"533\" y=\"278\" font-size=\"7\" text-anchor=\"middle\" dy=\"0em\">0</text>\n<path d=\"M333,285 L325,285 L325,265 L333,265 C333,265,343,265,343,275 C343,285,333,285,333,285 L333,285\" stroke-width=\"1\" stroke=\"black\" stroke-linejoin=\"miter\" fill=\"white\" />\n<text x=\"338\" y=\"291\" font-size=\"6\" text-anchor=\"middle\" font-style=\"italic\" dy=\"0em\">[herald3]</text>\n<text x=\"333\" y=\"278\" font-size=\"7\" text-anchor=\"middle\" dy=\"0em\">1</text>\n</svg>"
     },
     "execution_count": 34,
     "metadata": {},
     "output_type": "execute_result"
    }
   ],
   "source": [
    "## KLM's CNOT\n",
    "\n",
    "print(catalog['heralded cnot'].doc)\n",
    "knill_cnot = catalog['heralded cnot'].as_processor().build()\n",
    "\n",
    "pcvl.pdisplay(knill_cnot, recursive=True)\n"
   ],
   "metadata": {
    "collapsed": false
   }
  },
  {
   "cell_type": "code",
   "execution_count": 35,
   "id": "7039fcdc",
   "metadata": {},
   "outputs": [
    {
     "data": {
      "text/plain": "<drawSvg.drawing.Drawing at 0x24ce7af4940>",
      "image/svg+xml": "<?xml version=\"1.0\" encoding=\"UTF-8\"?>\n<svg xmlns=\"http://www.w3.org/2000/svg\" xmlns:xlink=\"http://www.w3.org/1999/xlink\"\n     width=\"1312.5\" height=\"1187.5\" viewBox=\"-25 0 1050 950\">\n<defs>\n</defs>\n<path d=\"M10,25 L25,25\" stroke-width=\"1\" stroke=\"black\" stroke-linejoin=\"miter\" fill=\"none\" />\n<path d=\"M10,75 L25,75\" stroke-width=\"1\" stroke=\"black\" stroke-linejoin=\"miter\" fill=\"none\" />\n<path d=\"M10,125 L25,125\" stroke-width=\"1\" stroke=\"black\" stroke-linejoin=\"miter\" fill=\"none\" />\n<path d=\"M10,175 L25,175\" stroke-width=\"1\" stroke=\"black\" stroke-linejoin=\"miter\" fill=\"none\" />\n<path d=\"M10,225 L25,225\" stroke-width=\"1\" stroke=\"black\" stroke-linejoin=\"miter\" fill=\"none\" />\n<path d=\"M10,275 L25,275\" stroke-width=\"1\" stroke=\"black\" stroke-linejoin=\"miter\" fill=\"none\" />\n<path d=\"M25,25 L75,25\" stroke=\"black\" stroke-width=\"1\" fill=\"none\" />\n<path d=\"M25,75 L75,75\" stroke=\"black\" stroke-width=\"1\" fill=\"none\" />\n<path d=\"M27.5,2.5 L72.5,2.5 L72.5,97.5 L27.5,97.5 Z\" stroke=\"black\" fill=\"white\" stroke-linejoin=\"miter\" />\n<text x=\"35\" y=\"16\" font-size=\"8\" text-anchor=\"start\" font-weight=\"bold\" dy=\"0em\">RY1</text>\n<path d=\"M75,25 L125,25\" stroke=\"black\" stroke-width=\"1\" fill=\"none\" />\n<path d=\"M75,75 L125,75\" stroke=\"black\" stroke-width=\"1\" fill=\"none\" />\n<path d=\"M77.5,2.5 L122.5,2.5 L122.5,97.5 L77.5,97.5 Z\" stroke=\"black\" fill=\"white\" stroke-linejoin=\"miter\" />\n<text x=\"85\" y=\"16\" font-size=\"8\" text-anchor=\"start\" font-weight=\"bold\" dy=\"0em\">RZ4</text>\n<path d=\"M25,125 L75,125\" stroke=\"black\" stroke-width=\"1\" fill=\"none\" />\n<path d=\"M25,175 L75,175\" stroke=\"black\" stroke-width=\"1\" fill=\"none\" />\n<path d=\"M27.5,102.5 L72.5,102.5 L72.5,197.5 L27.5,197.5 Z\" stroke=\"black\" fill=\"white\" stroke-linejoin=\"miter\" />\n<text x=\"35\" y=\"116\" font-size=\"8\" text-anchor=\"start\" font-weight=\"bold\" dy=\"0em\">RY2</text>\n<path d=\"M75,125 L125,125\" stroke=\"black\" stroke-width=\"1\" fill=\"none\" />\n<path d=\"M75,175 L125,175\" stroke=\"black\" stroke-width=\"1\" fill=\"none\" />\n<path d=\"M77.5,102.5 L122.5,102.5 L122.5,197.5 L77.5,197.5 Z\" stroke=\"black\" fill=\"white\" stroke-linejoin=\"miter\" />\n<text x=\"85\" y=\"116\" font-size=\"8\" text-anchor=\"start\" font-weight=\"bold\" dy=\"0em\">RZ5</text>\n<path d=\"M25,225 L75,225\" stroke=\"black\" stroke-width=\"1\" fill=\"none\" />\n<path d=\"M25,275 L75,275\" stroke=\"black\" stroke-width=\"1\" fill=\"none\" />\n<path d=\"M27.5,202.5 L72.5,202.5 L72.5,297.5 L27.5,297.5 Z\" stroke=\"black\" fill=\"white\" stroke-linejoin=\"miter\" />\n<text x=\"35\" y=\"216\" font-size=\"8\" text-anchor=\"start\" font-weight=\"bold\" dy=\"0em\">RY3</text>\n<path d=\"M75,225 L125,225\" stroke=\"black\" stroke-width=\"1\" fill=\"none\" />\n<path d=\"M75,275 L125,275\" stroke=\"black\" stroke-width=\"1\" fill=\"none\" />\n<path d=\"M77.5,202.5 L122.5,202.5 L122.5,297.5 L77.5,297.5 Z\" stroke=\"black\" fill=\"white\" stroke-linejoin=\"miter\" />\n<text x=\"85\" y=\"216\" font-size=\"8\" text-anchor=\"start\" font-weight=\"bold\" dy=\"0em\">RZ6</text>\n<path d=\"M125,24.8 C145,25,155,125,175,125\" stroke-width=\"2\" stroke=\"white\" stroke-linejoin=\"miter\" fill=\"none\" />\n<path d=\"M125,25 C145,25,155,125,175,125\" stroke-width=\"1\" stroke=\"black\" stroke-linejoin=\"miter\" fill=\"none\" />\n<path d=\"M125,74.8 C145,75,155,175,175,175\" stroke-width=\"2\" stroke=\"white\" stroke-linejoin=\"miter\" fill=\"none\" />\n<path d=\"M125,75 C145,75,155,175,175,175\" stroke-width=\"1\" stroke=\"black\" stroke-linejoin=\"miter\" fill=\"none\" />\n<path d=\"M125,124.8 C145,125,155,225,175,225\" stroke-width=\"2\" stroke=\"white\" stroke-linejoin=\"miter\" fill=\"none\" />\n<path d=\"M125,125 C145,125,155,225,175,225\" stroke-width=\"1\" stroke=\"black\" stroke-linejoin=\"miter\" fill=\"none\" />\n<path d=\"M125,174.8 C145,175,155,275,175,275\" stroke-width=\"2\" stroke=\"white\" stroke-linejoin=\"miter\" fill=\"none\" />\n<path d=\"M125,175 C145,175,155,275,175,275\" stroke-width=\"1\" stroke=\"black\" stroke-linejoin=\"miter\" fill=\"none\" />\n<path d=\"M125,224.8 C145,225,155,425,175,425\" stroke-width=\"2\" stroke=\"white\" stroke-linejoin=\"miter\" fill=\"none\" />\n<path d=\"M125,225 C145,225,155,425,175,425\" stroke-width=\"1\" stroke=\"black\" stroke-linejoin=\"miter\" fill=\"none\" />\n<path d=\"M125,274.8 C145,275,155,475,175,475\" stroke-width=\"2\" stroke=\"white\" stroke-linejoin=\"miter\" fill=\"none\" />\n<path d=\"M125,275 C145,275,155,475,175,475\" stroke-width=\"1\" stroke=\"black\" stroke-linejoin=\"miter\" fill=\"none\" />\n<path d=\"M175,25 L225,25\" stroke=\"black\" stroke-width=\"1\" fill=\"none\" />\n<path d=\"M175,75 L225,75\" stroke=\"black\" stroke-width=\"1\" fill=\"none\" />\n<path d=\"M175,125 L225,125\" stroke=\"black\" stroke-width=\"1\" fill=\"none\" />\n<path d=\"M175,175 L225,175\" stroke=\"black\" stroke-width=\"1\" fill=\"none\" />\n<path d=\"M175,225 L225,225\" stroke=\"black\" stroke-width=\"1\" fill=\"none\" />\n<path d=\"M175,275 L225,275\" stroke=\"black\" stroke-width=\"1\" fill=\"none\" />\n<path d=\"M175,325 L225,325\" stroke=\"black\" stroke-width=\"1\" fill=\"none\" />\n<path d=\"M175,375 L225,375\" stroke=\"black\" stroke-width=\"1\" fill=\"none\" />\n<path d=\"M177.5,2.5 L222.5,2.5 L222.5,397.5 L177.5,397.5 Z\" stroke=\"black\" fill=\"white\" stroke-linejoin=\"miter\" />\n<text x=\"185\" y=\"24\" font-size=\"8\" text-anchor=\"start\" font-weight=\"bold\"><tspan x=\"185\" dy=\"0em\">HERALDED</tspan><tspan x=\"185\" dy=\"1em\">CNOT</tspan></text>\n<path d=\"M175,425 L225,425\" stroke=\"black\" stroke-width=\"1\" fill=\"none\" />\n<path d=\"M175,475 L225,475\" stroke=\"black\" stroke-width=\"1\" fill=\"none\" />\n<path d=\"M225,124.8 C245,125,255,125,275,125\" stroke-width=\"2\" stroke=\"white\" stroke-linejoin=\"miter\" fill=\"none\" />\n<path d=\"M225,125 C245,125,255,125,275,125\" stroke-width=\"1\" stroke=\"black\" stroke-linejoin=\"miter\" fill=\"none\" />\n<path d=\"M225,174.8 C245,175,255,175,275,175\" stroke-width=\"2\" stroke=\"white\" stroke-linejoin=\"miter\" fill=\"none\" />\n<path d=\"M225,175 C245,175,255,175,275,175\" stroke-width=\"1\" stroke=\"black\" stroke-linejoin=\"miter\" fill=\"none\" />\n<path d=\"M225,224.8 C245,225,255,425,275,425\" stroke-width=\"2\" stroke=\"white\" stroke-linejoin=\"miter\" fill=\"none\" />\n<path d=\"M225,225 C245,225,255,425,275,425\" stroke-width=\"1\" stroke=\"black\" stroke-linejoin=\"miter\" fill=\"none\" />\n<path d=\"M225,274.8 C245,275,255,475,275,475\" stroke-width=\"2\" stroke=\"white\" stroke-linejoin=\"miter\" fill=\"none\" />\n<path d=\"M225,275 C245,275,255,475,275,475\" stroke-width=\"1\" stroke=\"black\" stroke-linejoin=\"miter\" fill=\"none\" />\n<path d=\"M225,424.8 C245,425,255,225,275,225\" stroke-width=\"2\" stroke=\"white\" stroke-linejoin=\"miter\" fill=\"none\" />\n<path d=\"M225,425 C245,425,255,225,275,225\" stroke-width=\"1\" stroke=\"black\" stroke-linejoin=\"miter\" fill=\"none\" />\n<path d=\"M225,474.8 C245,475,255,275,275,275\" stroke-width=\"2\" stroke=\"white\" stroke-linejoin=\"miter\" fill=\"none\" />\n<path d=\"M225,475 C245,475,255,275,275,275\" stroke-width=\"1\" stroke=\"black\" stroke-linejoin=\"miter\" fill=\"none\" />\n<path d=\"M275,25 L325,25\" stroke=\"black\" stroke-width=\"1\" fill=\"none\" />\n<path d=\"M275,75 L325,75\" stroke=\"black\" stroke-width=\"1\" fill=\"none\" />\n<path d=\"M275,125 L325,125\" stroke=\"black\" stroke-width=\"1\" fill=\"none\" />\n<path d=\"M275,175 L325,175\" stroke=\"black\" stroke-width=\"1\" fill=\"none\" />\n<path d=\"M275,225 L325,225\" stroke=\"black\" stroke-width=\"1\" fill=\"none\" />\n<path d=\"M275,275 L325,275\" stroke=\"black\" stroke-width=\"1\" fill=\"none\" />\n<path d=\"M275,325 L325,325\" stroke=\"black\" stroke-width=\"1\" fill=\"none\" />\n<path d=\"M275,375 L325,375\" stroke=\"black\" stroke-width=\"1\" fill=\"none\" />\n<path d=\"M277.5,2.5 L322.5,2.5 L322.5,397.5 L277.5,397.5 Z\" stroke=\"black\" fill=\"white\" stroke-linejoin=\"miter\" />\n<text x=\"285\" y=\"24\" font-size=\"8\" text-anchor=\"start\" font-weight=\"bold\"><tspan x=\"285\" dy=\"0em\">HERALDED</tspan><tspan x=\"285\" dy=\"1em\">CNOT</tspan></text>\n<path d=\"M275,425 L325,425\" stroke=\"black\" stroke-width=\"1\" fill=\"none\" />\n<path d=\"M275,475 L325,475\" stroke=\"black\" stroke-width=\"1\" fill=\"none\" />\n<path d=\"M325,124.8 C345,125,355,25,375,25\" stroke-width=\"2\" stroke=\"white\" stroke-linejoin=\"miter\" fill=\"none\" />\n<path d=\"M325,125 C345,125,355,25,375,25\" stroke-width=\"1\" stroke=\"black\" stroke-linejoin=\"miter\" fill=\"none\" />\n<path d=\"M325,174.8 C345,175,355,75,375,75\" stroke-width=\"2\" stroke=\"white\" stroke-linejoin=\"miter\" fill=\"none\" />\n<path d=\"M325,175 C345,175,355,75,375,75\" stroke-width=\"1\" stroke=\"black\" stroke-linejoin=\"miter\" fill=\"none\" />\n<path d=\"M325,224.8 C345,225,355,325,375,325\" stroke-width=\"2\" stroke=\"white\" stroke-linejoin=\"miter\" fill=\"none\" />\n<path d=\"M325,225 C345,225,355,325,375,325\" stroke-width=\"1\" stroke=\"black\" stroke-linejoin=\"miter\" fill=\"none\" />\n<path d=\"M325,274.8 C345,275,355,375,375,375\" stroke-width=\"2\" stroke=\"white\" stroke-linejoin=\"miter\" fill=\"none\" />\n<path d=\"M325,275 C345,275,355,375,375,375\" stroke-width=\"1\" stroke=\"black\" stroke-linejoin=\"miter\" fill=\"none\" />\n<path d=\"M325,424.8 C345,425,355,225,375,225\" stroke-width=\"2\" stroke=\"white\" stroke-linejoin=\"miter\" fill=\"none\" />\n<path d=\"M325,425 C345,425,355,225,375,225\" stroke-width=\"1\" stroke=\"black\" stroke-linejoin=\"miter\" fill=\"none\" />\n<path d=\"M325,474.8 C345,475,355,275,375,275\" stroke-width=\"2\" stroke=\"white\" stroke-linejoin=\"miter\" fill=\"none\" />\n<path d=\"M325,475 C345,475,355,275,375,275\" stroke-width=\"1\" stroke=\"black\" stroke-linejoin=\"miter\" fill=\"none\" />\n<path d=\"M375,125 L425,125\" stroke=\"black\" stroke-width=\"1\" fill=\"none\" />\n<path d=\"M375,175 L425,175\" stroke=\"black\" stroke-width=\"1\" fill=\"none\" />\n<path d=\"M375,225 L425,225\" stroke=\"black\" stroke-width=\"1\" fill=\"none\" />\n<path d=\"M375,275 L425,275\" stroke=\"black\" stroke-width=\"1\" fill=\"none\" />\n<path d=\"M375,325 L425,325\" stroke=\"black\" stroke-width=\"1\" fill=\"none\" />\n<path d=\"M375,375 L425,375\" stroke=\"black\" stroke-width=\"1\" fill=\"none\" />\n<path d=\"M375,425 L425,425\" stroke=\"black\" stroke-width=\"1\" fill=\"none\" />\n<path d=\"M375,475 L425,475\" stroke=\"black\" stroke-width=\"1\" fill=\"none\" />\n<path d=\"M377.5,102.5 L422.5,102.5 L422.5,497.5 L377.5,497.5 Z\" stroke=\"black\" fill=\"white\" stroke-linejoin=\"miter\" />\n<text x=\"385\" y=\"124\" font-size=\"8\" text-anchor=\"start\" font-weight=\"bold\"><tspan x=\"385\" dy=\"0em\">HERALDED</tspan><tspan x=\"385\" dy=\"1em\">CNOT</tspan></text>\n<path d=\"M375,25 L425,25\" stroke=\"black\" stroke-width=\"1\" fill=\"none\" />\n<path d=\"M375,75 L425,75\" stroke=\"black\" stroke-width=\"1\" fill=\"none\" />\n<path d=\"M425,224.8 C445,225,455,125,475,125\" stroke-width=\"2\" stroke=\"white\" stroke-linejoin=\"miter\" fill=\"none\" />\n<path d=\"M425,225 C445,225,455,125,475,125\" stroke-width=\"1\" stroke=\"black\" stroke-linejoin=\"miter\" fill=\"none\" />\n<path d=\"M425,274.8 C445,275,455,175,475,175\" stroke-width=\"2\" stroke=\"white\" stroke-linejoin=\"miter\" fill=\"none\" />\n<path d=\"M425,275 C445,275,455,175,475,175\" stroke-width=\"1\" stroke=\"black\" stroke-linejoin=\"miter\" fill=\"none\" />\n<path d=\"M425,324.8 C445,325,455,225,475,225\" stroke-width=\"2\" stroke=\"white\" stroke-linejoin=\"miter\" fill=\"none\" />\n<path d=\"M425,325 C445,325,455,225,475,225\" stroke-width=\"1\" stroke=\"black\" stroke-linejoin=\"miter\" fill=\"none\" />\n<path d=\"M425,374.8 C445,375,455,275,475,275\" stroke-width=\"2\" stroke=\"white\" stroke-linejoin=\"miter\" fill=\"none\" />\n<path d=\"M425,375 C445,375,455,275,475,275\" stroke-width=\"1\" stroke=\"black\" stroke-linejoin=\"miter\" fill=\"none\" />\n<path d=\"M425,25 L475,25\" stroke=\"black\" stroke-width=\"1\" fill=\"none\" />\n<path d=\"M425,75 L475,75\" stroke=\"black\" stroke-width=\"1\" fill=\"none\" />\n<path d=\"M475,25 L525,25\" stroke=\"black\" stroke-width=\"1\" fill=\"none\" />\n<path d=\"M475,75 L525,75\" stroke=\"black\" stroke-width=\"1\" fill=\"none\" />\n<path d=\"M477.5,2.5 L522.5,2.5 L522.5,97.5 L477.5,97.5 Z\" stroke=\"black\" fill=\"white\" stroke-linejoin=\"miter\" />\n<text x=\"485\" y=\"16\" font-size=\"8\" text-anchor=\"start\" font-weight=\"bold\" dy=\"0em\">RY7</text>\n<path d=\"M525,25 L575,25\" stroke=\"black\" stroke-width=\"1\" fill=\"none\" />\n<path d=\"M525,75 L575,75\" stroke=\"black\" stroke-width=\"1\" fill=\"none\" />\n<path d=\"M527.5,2.5 L572.5,2.5 L572.5,97.5 L527.5,97.5 Z\" stroke=\"black\" fill=\"white\" stroke-linejoin=\"miter\" />\n<text x=\"535\" y=\"16\" font-size=\"8\" text-anchor=\"start\" font-weight=\"bold\" dy=\"0em\">RZ10</text>\n<path d=\"M475,125 L525,125\" stroke=\"black\" stroke-width=\"1\" fill=\"none\" />\n<path d=\"M475,175 L525,175\" stroke=\"black\" stroke-width=\"1\" fill=\"none\" />\n<path d=\"M477.5,102.5 L522.5,102.5 L522.5,197.5 L477.5,197.5 Z\" stroke=\"black\" fill=\"white\" stroke-linejoin=\"miter\" />\n<text x=\"485\" y=\"116\" font-size=\"8\" text-anchor=\"start\" font-weight=\"bold\" dy=\"0em\">RY8</text>\n<path d=\"M525,125 L575,125\" stroke=\"black\" stroke-width=\"1\" fill=\"none\" />\n<path d=\"M525,175 L575,175\" stroke=\"black\" stroke-width=\"1\" fill=\"none\" />\n<path d=\"M527.5,102.5 L572.5,102.5 L572.5,197.5 L527.5,197.5 Z\" stroke=\"black\" fill=\"white\" stroke-linejoin=\"miter\" />\n<text x=\"535\" y=\"116\" font-size=\"8\" text-anchor=\"start\" font-weight=\"bold\" dy=\"0em\">RZ11</text>\n<path d=\"M475,225 L525,225\" stroke=\"black\" stroke-width=\"1\" fill=\"none\" />\n<path d=\"M475,275 L525,275\" stroke=\"black\" stroke-width=\"1\" fill=\"none\" />\n<path d=\"M477.5,202.5 L522.5,202.5 L522.5,297.5 L477.5,297.5 Z\" stroke=\"black\" fill=\"white\" stroke-linejoin=\"miter\" />\n<text x=\"485\" y=\"216\" font-size=\"8\" text-anchor=\"start\" font-weight=\"bold\" dy=\"0em\">RY9</text>\n<path d=\"M525,225 L575,225\" stroke=\"black\" stroke-width=\"1\" fill=\"none\" />\n<path d=\"M525,275 L575,275\" stroke=\"black\" stroke-width=\"1\" fill=\"none\" />\n<path d=\"M527.5,202.5 L572.5,202.5 L572.5,297.5 L527.5,297.5 Z\" stroke=\"black\" fill=\"white\" stroke-linejoin=\"miter\" />\n<text x=\"535\" y=\"216\" font-size=\"8\" text-anchor=\"start\" font-weight=\"bold\" dy=\"0em\">RZ12</text>\n<path d=\"M575,25 L590,25\" stroke-width=\"1\" stroke=\"black\" stroke-linejoin=\"miter\" fill=\"none\" />\n<path d=\"M575,75 L590,75\" stroke-width=\"1\" stroke=\"black\" stroke-linejoin=\"miter\" fill=\"none\" />\n<path d=\"M575,125 L590,125\" stroke-width=\"1\" stroke=\"black\" stroke-linejoin=\"miter\" fill=\"none\" />\n<path d=\"M575,175 L590,175\" stroke-width=\"1\" stroke=\"black\" stroke-linejoin=\"miter\" fill=\"none\" />\n<path d=\"M575,225 L590,225\" stroke-width=\"1\" stroke=\"black\" stroke-linejoin=\"miter\" fill=\"none\" />\n<path d=\"M575,275 L590,275\" stroke-width=\"1\" stroke=\"black\" stroke-linejoin=\"miter\" fill=\"none\" />\n<path d=\"M157,25 C157,25,157,15,167,15 L175,15 L175,35 L167,35 C157,35,157,25,157,25 L157,25\" stroke-width=\"1\" stroke=\"black\" stroke-linejoin=\"miter\" fill=\"white\" />\n<text x=\"163\" y=\"41\" font-size=\"6\" text-anchor=\"middle\" font-style=\"italic\" dy=\"0em\">[herald0]</text>\n<text x=\"167\" y=\"28\" font-size=\"7\" text-anchor=\"middle\" dy=\"0em\">0</text>\n<path d=\"M157,75 C157,75,157,65,167,65 L175,65 L175,85 L167,85 C157,85,157,75,157,75 L157,75\" stroke-width=\"1\" stroke=\"black\" stroke-linejoin=\"miter\" fill=\"white\" />\n<text x=\"163\" y=\"91\" font-size=\"6\" text-anchor=\"middle\" font-style=\"italic\" dy=\"0em\">[herald1]</text>\n<text x=\"167\" y=\"78\" font-size=\"7\" text-anchor=\"middle\" dy=\"0em\">1</text>\n<path d=\"M157,325 C157,325,157,315,167,315 L175,315 L175,335 L167,335 C157,335,157,325,157,325 L157,325\" stroke-width=\"1\" stroke=\"black\" stroke-linejoin=\"miter\" fill=\"white\" />\n<text x=\"163\" y=\"341\" font-size=\"6\" text-anchor=\"middle\" font-style=\"italic\" dy=\"0em\">[herald2]</text>\n<text x=\"167\" y=\"328\" font-size=\"7\" text-anchor=\"middle\" dy=\"0em\">0</text>\n<path d=\"M157,375 C157,375,157,365,167,365 L175,365 L175,385 L167,385 C157,385,157,375,157,375 L157,375\" stroke-width=\"1\" stroke=\"black\" stroke-linejoin=\"miter\" fill=\"white\" />\n<text x=\"163\" y=\"391\" font-size=\"6\" text-anchor=\"middle\" font-style=\"italic\" dy=\"0em\">[herald3]</text>\n<text x=\"167\" y=\"378\" font-size=\"7\" text-anchor=\"middle\" dy=\"0em\">1</text>\n<path d=\"M257,25 C257,25,257,15,267,15 L275,15 L275,35 L267,35 C257,35,257,25,257,25 L257,25\" stroke-width=\"1\" stroke=\"black\" stroke-linejoin=\"miter\" fill=\"white\" />\n<text x=\"263\" y=\"41\" font-size=\"6\" text-anchor=\"middle\" font-style=\"italic\" dy=\"0em\">[herald4]</text>\n<text x=\"267\" y=\"28\" font-size=\"7\" text-anchor=\"middle\" dy=\"0em\">0</text>\n<path d=\"M257,75 C257,75,257,65,267,65 L275,65 L275,85 L267,85 C257,85,257,75,257,75 L257,75\" stroke-width=\"1\" stroke=\"black\" stroke-linejoin=\"miter\" fill=\"white\" />\n<text x=\"263\" y=\"91\" font-size=\"6\" text-anchor=\"middle\" font-style=\"italic\" dy=\"0em\">[herald5]</text>\n<text x=\"267\" y=\"78\" font-size=\"7\" text-anchor=\"middle\" dy=\"0em\">1</text>\n<path d=\"M257,325 C257,325,257,315,267,315 L275,315 L275,335 L267,335 C257,335,257,325,257,325 L257,325\" stroke-width=\"1\" stroke=\"black\" stroke-linejoin=\"miter\" fill=\"white\" />\n<text x=\"263\" y=\"341\" font-size=\"6\" text-anchor=\"middle\" font-style=\"italic\" dy=\"0em\">[herald6]</text>\n<text x=\"267\" y=\"328\" font-size=\"7\" text-anchor=\"middle\" dy=\"0em\">0</text>\n<path d=\"M257,375 C257,375,257,365,267,365 L275,365 L275,385 L267,385 C257,385,257,375,257,375 L257,375\" stroke-width=\"1\" stroke=\"black\" stroke-linejoin=\"miter\" fill=\"white\" />\n<text x=\"263\" y=\"391\" font-size=\"6\" text-anchor=\"middle\" font-style=\"italic\" dy=\"0em\">[herald7]</text>\n<text x=\"267\" y=\"378\" font-size=\"7\" text-anchor=\"middle\" dy=\"0em\">1</text>\n<path d=\"M357,125 C357,125,357,115,367,115 L375,115 L375,135 L367,135 C357,135,357,125,357,125 L357,125\" stroke-width=\"1\" stroke=\"black\" stroke-linejoin=\"miter\" fill=\"white\" />\n<text x=\"363\" y=\"141\" font-size=\"6\" text-anchor=\"middle\" font-style=\"italic\" dy=\"0em\">[herald8]</text>\n<text x=\"367\" y=\"128\" font-size=\"7\" text-anchor=\"middle\" dy=\"0em\">0</text>\n<path d=\"M357,175 C357,175,357,165,367,165 L375,165 L375,185 L367,185 C357,185,357,175,357,175 L357,175\" stroke-width=\"1\" stroke=\"black\" stroke-linejoin=\"miter\" fill=\"white\" />\n<text x=\"363\" y=\"191\" font-size=\"6\" text-anchor=\"middle\" font-style=\"italic\" dy=\"0em\">[herald9]</text>\n<text x=\"367\" y=\"178\" font-size=\"7\" text-anchor=\"middle\" dy=\"0em\">1</text>\n<path d=\"M357,425 C357,425,357,415,367,415 L375,415 L375,435 L367,435 C357,435,357,425,357,425 L357,425\" stroke-width=\"1\" stroke=\"black\" stroke-linejoin=\"miter\" fill=\"white\" />\n<text x=\"363\" y=\"441\" font-size=\"6\" text-anchor=\"middle\" font-style=\"italic\" dy=\"0em\">[herald10]</text>\n<text x=\"367\" y=\"428\" font-size=\"7\" text-anchor=\"middle\" dy=\"0em\">0</text>\n<path d=\"M357,475 C357,475,357,465,367,465 L375,465 L375,485 L367,485 C357,485,357,475,357,475 L357,475\" stroke-width=\"1\" stroke=\"black\" stroke-linejoin=\"miter\" fill=\"white\" />\n<text x=\"363\" y=\"491\" font-size=\"6\" text-anchor=\"middle\" font-style=\"italic\" dy=\"0em\">[herald11]</text>\n<text x=\"367\" y=\"478\" font-size=\"7\" text-anchor=\"middle\" dy=\"0em\">1</text>\n<path d=\"M233,35 L225,35 L225,15 L233,15 C233,15,243,15,243,25 C243,35,233,35,233,35 L233,35\" stroke-width=\"1\" stroke=\"black\" stroke-linejoin=\"miter\" fill=\"white\" />\n<text x=\"238\" y=\"41\" font-size=\"6\" text-anchor=\"middle\" font-style=\"italic\" dy=\"0em\">[herald0]</text>\n<text x=\"233\" y=\"28\" font-size=\"7\" text-anchor=\"middle\" dy=\"0em\">0</text>\n<path d=\"M233,85 L225,85 L225,65 L233,65 C233,65,243,65,243,75 C243,85,233,85,233,85 L233,85\" stroke-width=\"1\" stroke=\"black\" stroke-linejoin=\"miter\" fill=\"white\" />\n<text x=\"238\" y=\"91\" font-size=\"6\" text-anchor=\"middle\" font-style=\"italic\" dy=\"0em\">[herald1]</text>\n<text x=\"233\" y=\"78\" font-size=\"7\" text-anchor=\"middle\" dy=\"0em\">1</text>\n<path d=\"M590,115 L602,115 L602,185 L590,185 Z\" stroke=\"black\" fill=\"white\" stroke-linejoin=\"miter\" />\n<text x=\"596\" y=\"127\" font-size=\"7\" text-anchor=\"middle\" dy=\"0em\">2</text>\n<text x=\"596\" y=\"177\" font-size=\"7\" text-anchor=\"middle\" dy=\"0em\">3</text>\n<text x=\"602\" y=\"191\" font-size=\"6\" text-anchor=\"end\" font-style=\"italic\" dy=\"0em\">[ctrl]</text>\n<path d=\"M590,215 L602,215 L602,285 L590,285 Z\" stroke=\"black\" fill=\"white\" stroke-linejoin=\"miter\" />\n<text x=\"596\" y=\"227\" font-size=\"7\" text-anchor=\"middle\" dy=\"0em\">4</text>\n<text x=\"596\" y=\"277\" font-size=\"7\" text-anchor=\"middle\" dy=\"0em\">5</text>\n<text x=\"602\" y=\"291\" font-size=\"6\" text-anchor=\"end\" font-style=\"italic\" dy=\"0em\">[data]</text>\n<path d=\"M233,335 L225,335 L225,315 L233,315 C233,315,243,315,243,325 C243,335,233,335,233,335 L233,335\" stroke-width=\"1\" stroke=\"black\" stroke-linejoin=\"miter\" fill=\"white\" />\n<text x=\"238\" y=\"341\" font-size=\"6\" text-anchor=\"middle\" font-style=\"italic\" dy=\"0em\">[herald2]</text>\n<text x=\"233\" y=\"328\" font-size=\"7\" text-anchor=\"middle\" dy=\"0em\">0</text>\n<path d=\"M233,385 L225,385 L225,365 L233,365 C233,365,243,365,243,375 C243,385,233,385,233,385 L233,385\" stroke-width=\"1\" stroke=\"black\" stroke-linejoin=\"miter\" fill=\"white\" />\n<text x=\"238\" y=\"391\" font-size=\"6\" text-anchor=\"middle\" font-style=\"italic\" dy=\"0em\">[herald3]</text>\n<text x=\"233\" y=\"378\" font-size=\"7\" text-anchor=\"middle\" dy=\"0em\">1</text>\n<path d=\"M333,35 L325,35 L325,15 L333,15 C333,15,343,15,343,25 C343,35,333,35,333,35 L333,35\" stroke-width=\"1\" stroke=\"black\" stroke-linejoin=\"miter\" fill=\"white\" />\n<text x=\"338\" y=\"41\" font-size=\"6\" text-anchor=\"middle\" font-style=\"italic\" dy=\"0em\">[herald4]</text>\n<text x=\"333\" y=\"28\" font-size=\"7\" text-anchor=\"middle\" dy=\"0em\">0</text>\n<path d=\"M333,85 L325,85 L325,65 L333,65 C333,65,343,65,343,75 C343,85,333,85,333,85 L333,85\" stroke-width=\"1\" stroke=\"black\" stroke-linejoin=\"miter\" fill=\"white\" />\n<text x=\"338\" y=\"91\" font-size=\"6\" text-anchor=\"middle\" font-style=\"italic\" dy=\"0em\">[herald5]</text>\n<text x=\"333\" y=\"78\" font-size=\"7\" text-anchor=\"middle\" dy=\"0em\">1</text>\n<path d=\"M333,335 L325,335 L325,315 L333,315 C333,315,343,315,343,325 C343,335,333,335,333,335 L333,335\" stroke-width=\"1\" stroke=\"black\" stroke-linejoin=\"miter\" fill=\"white\" />\n<text x=\"338\" y=\"341\" font-size=\"6\" text-anchor=\"middle\" font-style=\"italic\" dy=\"0em\">[herald6]</text>\n<text x=\"333\" y=\"328\" font-size=\"7\" text-anchor=\"middle\" dy=\"0em\">0</text>\n<path d=\"M333,385 L325,385 L325,365 L333,365 C333,365,343,365,343,375 C343,385,333,385,333,385 L333,385\" stroke-width=\"1\" stroke=\"black\" stroke-linejoin=\"miter\" fill=\"white\" />\n<text x=\"338\" y=\"391\" font-size=\"6\" text-anchor=\"middle\" font-style=\"italic\" dy=\"0em\">[herald7]</text>\n<text x=\"333\" y=\"378\" font-size=\"7\" text-anchor=\"middle\" dy=\"0em\">1</text>\n<path d=\"M433,135 L425,135 L425,115 L433,115 C433,115,443,115,443,125 C443,135,433,135,433,135 L433,135\" stroke-width=\"1\" stroke=\"black\" stroke-linejoin=\"miter\" fill=\"white\" />\n<text x=\"438\" y=\"141\" font-size=\"6\" text-anchor=\"middle\" font-style=\"italic\" dy=\"0em\">[herald8]</text>\n<text x=\"433\" y=\"128\" font-size=\"7\" text-anchor=\"middle\" dy=\"0em\">0</text>\n<path d=\"M433,185 L425,185 L425,165 L433,165 C433,165,443,165,443,175 C443,185,433,185,433,185 L433,185\" stroke-width=\"1\" stroke=\"black\" stroke-linejoin=\"miter\" fill=\"white\" />\n<text x=\"438\" y=\"191\" font-size=\"6\" text-anchor=\"middle\" font-style=\"italic\" dy=\"0em\">[herald9]</text>\n<text x=\"433\" y=\"178\" font-size=\"7\" text-anchor=\"middle\" dy=\"0em\">1</text>\n<path d=\"M433,435 L425,435 L425,415 L433,415 C433,415,443,415,443,425 C443,435,433,435,433,435 L433,435\" stroke-width=\"1\" stroke=\"black\" stroke-linejoin=\"miter\" fill=\"white\" />\n<text x=\"438\" y=\"441\" font-size=\"6\" text-anchor=\"middle\" font-style=\"italic\" dy=\"0em\">[herald10]</text>\n<text x=\"433\" y=\"428\" font-size=\"7\" text-anchor=\"middle\" dy=\"0em\">0</text>\n<path d=\"M433,485 L425,485 L425,465 L433,465 C433,465,443,465,443,475 C443,485,433,485,433,485 L433,485\" stroke-width=\"1\" stroke=\"black\" stroke-linejoin=\"miter\" fill=\"white\" />\n<text x=\"438\" y=\"491\" font-size=\"6\" text-anchor=\"middle\" font-style=\"italic\" dy=\"0em\">[herald11]</text>\n<text x=\"433\" y=\"478\" font-size=\"7\" text-anchor=\"middle\" dy=\"0em\">1</text>\n</svg>"
     },
     "execution_count": 35,
     "metadata": {},
     "output_type": "execute_result"
    }
   ],
   "source": [
    "# TO-DO : reproduce it in the encoding seen above\n",
    "\n",
    "# Let's try to implement that circuit properly.\n",
    "# First, the quantum gates, as coded above :\n",
    "\n",
    "Rx = lambda i: pcvl.Circuit(2) // (0,PS(np.pi)) // BS.Rx(theta=pcvl.P(f\"theta{i}\")) // (0,PS(np.pi)) #Be careful for the minus ! We use a convention\n",
    "Ry = lambda i: pcvl.Circuit(2,name=f\"Ry{i}\") // BS.Ry(theta=pcvl.P(f\"theta{i}\"))\n",
    "Rz = lambda i: pcvl.Circuit(2,name=f\"Rz{i}\") // BS.H() // circuit_rx // BS.H() \n",
    "cnot=catalog['heralded cnot'].as_processor().build()\n",
    "\n",
    "# Our qubits in the dual rail encoding\n",
    "q1,q2,q3=[0,1],[2,3],[4,5]\n",
    "\n",
    "p=pcvl.Processor(\"SLOS\",6)\n",
    "\n",
    "for i in range(3):\n",
    "    p.add(2*i,Ry(i+1)).add(2*i,Rz(i+4))\n",
    "p.add(q1+q2,cnot)\n",
    "p.add(q1+q3,cnot)\n",
    "p.add(q2+q3,cnot)\n",
    "\n",
    "for i in range(3):\n",
    "    p.add(2*i,Ry(i+7)).add(2*i,Rz(i+10))\n",
    "\n",
    "pcvl.pdisplay(p,recursive=False)\n",
    "\n",
    "\n",
    "\n"
   ]
  }
 ],
 "metadata": {
  "kernelspec": {
   "display_name": "Python 3 (ipykernel)",
   "language": "python",
   "name": "python3"
  },
  "language_info": {
   "codemirror_mode": {
    "name": "ipython",
    "version": 3
   },
   "file_extension": ".py",
   "mimetype": "text/x-python",
   "name": "python",
   "nbconvert_exporter": "python",
   "pygments_lexer": "ipython3",
   "version": "3.9.5"
  },
  "vscode": {
   "interpreter": {
    "hash": "bd92a568da84711ef52f1ac688dee706040e506f462cf5b24559d510d9f9ffe2"
   }
  }
 },
 "nbformat": 4,
 "nbformat_minor": 5
}
