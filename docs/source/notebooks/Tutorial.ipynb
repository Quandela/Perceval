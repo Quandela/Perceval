{
 "cells": [
  {
   "cell_type": "markdown",
   "id": "22288a41cee90aba",
   "metadata": {},
   "source": [
    "# Detailed walkthrough\n",
    "\n",
    "In this tutorial, we will try to cover any basic code to get our hands on Perceval.\n"
   ]
  },
  {
   "cell_type": "markdown",
   "id": "646c2dd2a0425ffe",
   "metadata": {},
   "source": [
    "## I. Introduction <a class=\"anchor\" id=\"introduction\"></a>\n",
    "\n",
    "### 1. Perceval installation <a name=\"installation\"></a>"
   ]
  },
  {
   "cell_type": "code",
   "execution_count": 1,
   "id": "7d5658cabfa161db",
   "metadata": {},
   "outputs": [],
   "source": [
    "import perceval as pcvl\n",
    "import numpy as np\n",
    "\n",
    "## Use the symbolic skin for display\n",
    "from perceval.rendering import DisplayConfig, SymbSkin\n",
    "DisplayConfig.select_skin(SymbSkin)"
   ]
  },
  {
   "cell_type": "markdown",
   "id": "e084702084ceef60",
   "metadata": {},
   "source": [
    "### 2. BasicStates <a name=\"basicstates\"></a>\n",
    "\n",
    "In Linear Optical Circuits, photons can have many discrete degrees of freedom, called modes.\n",
    "It can be the frequency, the polarisation, the position, or all of them.\n",
    "\n",
    "We represent these degrees of freedom with Fock states. If we have $n$ photons over $m$ modes, the Fock state $|s_1,s_2,...,s_m\\rangle$ means we have $s_i$ photons in the $i^{th}$ mode. Note that $\\sum_{i=1}^m s_i =n$.\n",
    "\n",
    "In Perceval, we will use the module `pcvl.BasicState`"
   ]
  },
  {
   "cell_type": "code",
   "execution_count": 2,
   "id": "1fb14abf0301598d",
   "metadata": {},
   "outputs": [
    {
     "name": "stdout",
     "output_type": "stream",
     "text": [
      "Those are the same states\n",
      "There is 0 photon in mode 0\n",
      "There is 2 photon in mode 1\n",
      "There is 0 photon in mode 2\n",
      "There is 1 photon in mode 3\n"
     ]
    }
   ],
   "source": [
    "## Syntax of different BasicState (list, string, etc)\n",
    "bs1 = pcvl.BasicState('|0,2,0,1>')\n",
    "bs2 = pcvl.BasicState([0, 2, 0, 1])\n",
    "\n",
    "if bs1==bs2:\n",
    "    print(\"Those are the same states\")\n",
    "\n",
    "## You can iterate on modes\n",
    "for i, photon_count in enumerate(bs2):\n",
    "    print(f\"There is {photon_count} photon in mode {i}\")"
   ]
  },
  {
   "cell_type": "markdown",
   "id": "4f1f47efeb02b7a7",
   "metadata": {},
   "source": [
    "### 3. LO-Components <a name=\"components\"></a>\n",
    "\n",
    "The linear optical components are the elementary blocks which will act on our Fock states.\n",
    "\n",
    "It's important to know all the possible components that can be found in Perceval and understand their effects.\n",
    "\n"
   ]
  },
  {
   "cell_type": "code",
   "execution_count": 3,
   "id": "d44720c449b5be30",
   "metadata": {},
   "outputs": [
    {
     "name": "stdout",
     "output_type": "stream",
     "text": [
      "PERM\n",
      "PERM([2, 0, 1])\n"
     ]
    },
    {
     "data": {
      "text/latex": [
       "$\\displaystyle \\left[\\begin{matrix}0 & 1 & 0\\\\0 & 0 & 1\\\\1 & 0 & 0\\end{matrix}\\right]$"
      ],
      "text/plain": [
       "<IPython.core.display.Math object>"
      ]
     },
     "metadata": {},
     "output_type": "display_data"
    },
    {
     "data": {
      "image/svg+xml": [
       "<?xml version=\"1.0\" encoding=\"UTF-8\"?>\n",
       "<svg xmlns=\"http://www.w3.org/2000/svg\" xmlns:xlink=\"http://www.w3.org/1999/xlink\"\n",
       "     width=\"195.0\" height=\"218.75\" viewBox=\"-28.0 0 156.0 175.0\">\n",
       "<defs>\n",
       "</defs>\n",
       "<path d=\"M10,25.0 L25,25.0\" stroke-width=\"1\" stroke=\"black\" stroke-linejoin=\"miter\" fill=\"none\" />\n",
       "<path d=\"M10,75.0 L25,75.0\" stroke-width=\"1\" stroke=\"black\" stroke-linejoin=\"miter\" fill=\"none\" />\n",
       "<path d=\"M10,125.0 L25,125.0\" stroke-width=\"1\" stroke=\"black\" stroke-linejoin=\"miter\" fill=\"none\" />\n",
       "<path d=\"M25,24.8 C45,25,55,125,75,125\" stroke-width=\"2\" stroke=\"white\" stroke-linejoin=\"miter\" fill=\"none\" />\n",
       "<path d=\"M25,25 C45,25,55,125,75,125\" stroke-width=\"1\" stroke=\"black\" stroke-linejoin=\"miter\" fill=\"none\" />\n",
       "<path d=\"M25,74.8 C45,75,55,25,75,25\" stroke-width=\"2\" stroke=\"white\" stroke-linejoin=\"miter\" fill=\"none\" />\n",
       "<path d=\"M25,75 C45,75,55,25,75,25\" stroke-width=\"1\" stroke=\"black\" stroke-linejoin=\"miter\" fill=\"none\" />\n",
       "<path d=\"M25,124.8 C45,125,55,75,75,75\" stroke-width=\"2\" stroke=\"white\" stroke-linejoin=\"miter\" fill=\"none\" />\n",
       "<path d=\"M25,125 C45,125,55,75,75,75\" stroke-width=\"1\" stroke=\"black\" stroke-linejoin=\"miter\" fill=\"none\" />\n",
       "<path d=\"M75,25.0 L90,25.0\" stroke-width=\"1\" stroke=\"black\" stroke-linejoin=\"miter\" fill=\"none\" />\n",
       "<path d=\"M75,75.0 L90,75.0\" stroke-width=\"1\" stroke=\"black\" stroke-linejoin=\"miter\" fill=\"none\" />\n",
       "<path d=\"M75,125.0 L90,125.0\" stroke-width=\"1\" stroke=\"black\" stroke-linejoin=\"miter\" fill=\"none\" />\n",
       "<text x=\"100\" y=\"28.0\" font-size=\"6\" text-anchor=\"end\">0</text>\n",
       "<text x=\"100\" y=\"78.0\" font-size=\"6\" text-anchor=\"end\">1</text>\n",
       "<text x=\"100\" y=\"128.0\" font-size=\"6\" text-anchor=\"end\">2</text>\n",
       "<text x=\"0\" y=\"28.0\" font-size=\"6\" text-anchor=\"start\">0</text>\n",
       "<text x=\"0\" y=\"78.0\" font-size=\"6\" text-anchor=\"start\">1</text>\n",
       "<text x=\"0\" y=\"128.0\" font-size=\"6\" text-anchor=\"start\">2</text>\n",
       "</svg>"
      ],
      "text/plain": [
       "<drawsvg.drawing.Drawing at 0x14e7b099bd0>"
      ]
     },
     "execution_count": 3,
     "metadata": {},
     "output_type": "execute_result"
    }
   ],
   "source": [
    "from perceval.components import PS, BS, PERM\n",
    "\n",
    "## Permutation\n",
    "perm = PERM([2, 0, 1])\n",
    "\n",
    "print(perm.name)\n",
    "print(perm.describe())\n",
    "pcvl.pdisplay(perm.definition())\n",
    "pcvl.pdisplay(perm)"
   ]
  },
  {
   "cell_type": "code",
   "execution_count": 4,
   "id": "34b0f21b01c87cc0",
   "metadata": {},
   "outputs": [
    {
     "name": "stdout",
     "output_type": "stream",
     "text": [
      "PS\n",
      "PS(phi=pi)\n"
     ]
    },
    {
     "data": {
      "text/latex": [
       "$\\displaystyle \\left[\\begin{matrix}e^{i \\left(0.218930664043287 max_{error} + \\phi\\right)}\\end{matrix}\\right]$"
      ],
      "text/plain": [
       "<IPython.core.display.Math object>"
      ]
     },
     "metadata": {},
     "output_type": "display_data"
    },
    {
     "data": {
      "image/svg+xml": [
       "<?xml version=\"1.0\" encoding=\"UTF-8\"?>\n",
       "<svg xmlns=\"http://www.w3.org/2000/svg\" xmlns:xlink=\"http://www.w3.org/1999/xlink\"\n",
       "     width=\"195.0\" height=\"93.75\" viewBox=\"-28.0 0 156.0 75.0\">\n",
       "<defs>\n",
       "</defs>\n",
       "<path d=\"M10,25.0 L25,25.0\" stroke-width=\"1\" stroke=\"black\" stroke-linejoin=\"miter\" fill=\"none\" />\n",
       "<path d=\"M25,25 L45,25 M55,25 L75,25\" stroke-width=\"1\" stroke=\"black\" stroke-linejoin=\"miter\" fill=\"none\" />\n",
       "<path d=\"M40,15 L60,15 L60,35 L40,35 Z\" stroke=\"black\" fill=\"lightgray\" stroke-linejoin=\"miter\" />\n",
       "<text x=\"50\" y=\"44\" font-size=\"7\" text-anchor=\"middle\">Φ=pi</text>\n",
       "<path d=\"M75,25.0 L90,25.0\" stroke-width=\"1\" stroke=\"black\" stroke-linejoin=\"miter\" fill=\"none\" />\n",
       "<text x=\"100\" y=\"28.0\" font-size=\"6\" text-anchor=\"end\">0</text>\n",
       "<text x=\"0\" y=\"28.0\" font-size=\"6\" text-anchor=\"start\">0</text>\n",
       "</svg>"
      ],
      "text/plain": [
       "<drawsvg.drawing.Drawing at 0x14e7c46cb90>"
      ]
     },
     "execution_count": 4,
     "metadata": {},
     "output_type": "execute_result"
    }
   ],
   "source": [
    "## Phase shifter\n",
    "ps = PS(phi=np.pi)\n",
    "\n",
    "print(ps.name)\n",
    "print(ps.describe())\n",
    "pcvl.pdisplay(ps.definition())\n",
    "pcvl.pdisplay(ps)  # A pdisplay call on a circuit/processor needs to be the last line of a cell"
   ]
  },
  {
   "cell_type": "code",
   "execution_count": 5,
   "id": "c3d49527d14141eb",
   "metadata": {},
   "outputs": [
    {
     "name": "stdout",
     "output_type": "stream",
     "text": [
      "BS.Rx() unitary matrix\n"
     ]
    },
    {
     "data": {
      "text/latex": [
       "$\\displaystyle \\left[\\begin{matrix}e^{i \\left(\\phi_{tl} + \\phi_{tr}\\right)} \\cos{\\left(\\frac{\\theta}{2} \\right)} & i e^{i \\left(\\phi_{bl} + \\phi_{tr}\\right)} \\sin{\\left(\\frac{\\theta}{2} \\right)}\\\\i e^{i \\left(\\phi_{br} + \\phi_{tl}\\right)} \\sin{\\left(\\frac{\\theta}{2} \\right)} & e^{i \\left(\\phi_{bl} + \\phi_{br}\\right)} \\cos{\\left(\\frac{\\theta}{2} \\right)}\\end{matrix}\\right]$"
      ],
      "text/plain": [
       "<IPython.core.display.Math object>"
      ]
     },
     "metadata": {},
     "output_type": "display_data"
    },
    {
     "name": "stdout",
     "output_type": "stream",
     "text": [
      "BS.H() unitary matrix\n"
     ]
    },
    {
     "data": {
      "text/latex": [
       "$\\displaystyle \\left[\\begin{matrix}e^{i \\left(\\phi_{tl} + \\phi_{tr}\\right)} \\cos{\\left(\\frac{\\theta}{2} \\right)} & e^{i \\left(\\phi_{bl} + \\phi_{tr}\\right)} \\sin{\\left(\\frac{\\theta}{2} \\right)}\\\\e^{i \\left(\\phi_{br} + \\phi_{tl}\\right)} \\sin{\\left(\\frac{\\theta}{2} \\right)} & - e^{i \\left(\\phi_{bl} + \\phi_{br}\\right)} \\cos{\\left(\\frac{\\theta}{2} \\right)}\\end{matrix}\\right]$"
      ],
      "text/plain": [
       "<IPython.core.display.Math object>"
      ]
     },
     "metadata": {},
     "output_type": "display_data"
    },
    {
     "name": "stdout",
     "output_type": "stream",
     "text": [
      "BS.Ry() unitary matrix\n"
     ]
    },
    {
     "data": {
      "text/latex": [
       "$\\displaystyle \\left[\\begin{matrix}e^{i \\left(\\phi_{tl} + \\phi_{tr}\\right)} \\cos{\\left(\\frac{\\theta}{2} \\right)} & - e^{i \\left(\\phi_{bl} + \\phi_{tr}\\right)} \\sin{\\left(\\frac{\\theta}{2} \\right)}\\\\e^{i \\left(\\phi_{br} + \\phi_{tl}\\right)} \\sin{\\left(\\frac{\\theta}{2} \\right)} & e^{i \\left(\\phi_{bl} + \\phi_{br}\\right)} \\cos{\\left(\\frac{\\theta}{2} \\right)}\\end{matrix}\\right]$"
      ],
      "text/plain": [
       "<IPython.core.display.Math object>"
      ]
     },
     "metadata": {},
     "output_type": "display_data"
    },
    {
     "name": "stdout",
     "output_type": "stream",
     "text": [
      "BS displays its convention as a small label\n"
     ]
    },
    {
     "data": {
      "image/svg+xml": [
       "<?xml version=\"1.0\" encoding=\"UTF-8\"?>\n",
       "<svg xmlns=\"http://www.w3.org/2000/svg\" xmlns:xlink=\"http://www.w3.org/1999/xlink\"\n",
       "     width=\"257.5\" height=\"156.25\" viewBox=\"-28.0 0 206.0 125.0\">\n",
       "<defs>\n",
       "</defs>\n",
       "<path d=\"M10,25.0 L25,25.0\" stroke-width=\"1\" stroke=\"black\" stroke-linejoin=\"miter\" fill=\"none\" />\n",
       "<path d=\"M10,75.0 L25,75.0\" stroke-width=\"1\" stroke=\"black\" stroke-linejoin=\"miter\" fill=\"none\" />\n",
       "<path d=\"M37.9442,25 C51.653800000000004,25,51.5924,50,65.30420000000001,50 M65.30600000000001,50 C51.59440000000001,50,51.65600000000001,75,37.94600000000001,75 M65.30600000000001,50 L87.19060000000002,50 M87.19060000000002,50 C100.90220000000002,50,100.84060000000002,25,114.55060000000002,25 M87.19080000000002,50 C100.90240000000003,50,100.84080000000003,75,114.55080000000002,75 M25.00260000000003,25 L38.00260000000003,25 M38.00440000000003,75 L25.002600000000033,75 M112.64800000000002,75 L125.00260000000003,75 M112.19700000000003,25 L125.00260000000003,25\" stroke-width=\"1\" stroke=\"black\" stroke-linejoin=\"miter\" fill=\"none\" />\n",
       "<text x=\"75\" y=\"38\" font-size=\"7\" text-anchor=\"middle\"></text>\n",
       "<path d=\"M97,53 L107,53 L107,63 L97,63 Z\" stroke=\"black\" fill=\"lightsalmon\" stroke-linejoin=\"miter\" />\n",
       "<text x=\"102\" y=\"60\" font-size=\"6\" text-anchor=\"middle\">Ry</text>\n",
       "<path d=\"M125,25.0 L140,25.0\" stroke-width=\"1\" stroke=\"black\" stroke-linejoin=\"miter\" fill=\"none\" />\n",
       "<path d=\"M125,75.0 L140,75.0\" stroke-width=\"1\" stroke=\"black\" stroke-linejoin=\"miter\" fill=\"none\" />\n",
       "<text x=\"150\" y=\"28.0\" font-size=\"6\" text-anchor=\"end\">0</text>\n",
       "<text x=\"150\" y=\"78.0\" font-size=\"6\" text-anchor=\"end\">1</text>\n",
       "<text x=\"0\" y=\"28.0\" font-size=\"6\" text-anchor=\"start\">0</text>\n",
       "<text x=\"0\" y=\"78.0\" font-size=\"6\" text-anchor=\"start\">1</text>\n",
       "</svg>"
      ],
      "text/plain": [
       "<drawsvg.drawing.Drawing at 0x14e7c4f2c50>"
      ]
     },
     "execution_count": 5,
     "metadata": {},
     "output_type": "execute_result"
    }
   ],
   "source": [
    "## Beam splitters\n",
    "bs_rx = BS.Rx()  # By default, a beam splitter follows the Rx gate convention, so bs=BS() has the same matrix\n",
    "\n",
    "# But other conventions exist too:\n",
    "bs_h = BS.H()\n",
    "bs_ry = BS.Ry()\n",
    "\n",
    "## Check the difference in the unitary definition:\n",
    "print(\"BS.Rx() unitary matrix\")\n",
    "pcvl.pdisplay(bs_rx.definition())\n",
    "print(\"BS.H() unitary matrix\")\n",
    "pcvl.pdisplay(bs_h.definition())\n",
    "print(\"BS.Ry() unitary matrix\")\n",
    "pcvl.pdisplay(bs_ry.definition())\n",
    "print(\"BS displays its convention as a small label\")\n",
    "pcvl.pdisplay(bs_ry)"
   ]
  },
  {
   "cell_type": "code",
   "execution_count": 6,
   "id": "678e24de5416d704",
   "metadata": {},
   "outputs": [
    {
     "data": {
      "text/latex": [
       "$\\displaystyle \\left[\\begin{matrix}e^{0.392699081698724 i}\\end{matrix}\\right]$"
      ],
      "text/plain": [
       "<IPython.core.display.Math object>"
      ]
     },
     "metadata": {},
     "output_type": "display_data"
    },
    {
     "data": {
      "text/latex": [
       "$\\displaystyle \\left[\\begin{matrix}0.92388 + 0.382683 i\\end{matrix}\\right]$"
      ],
      "text/plain": [
       "<IPython.core.display.Math object>"
      ]
     },
     "metadata": {},
     "output_type": "display_data"
    },
    {
     "name": "stdout",
     "output_type": "stream",
     "text": [
      "A Phase Shifter with a symbolic value for phi:\n"
     ]
    },
    {
     "data": {
      "text/latex": [
       "$\\displaystyle \\left[\\begin{matrix}e^{i \\psi}\\end{matrix}\\right]$"
      ],
      "text/plain": [
       "<IPython.core.display.Math object>"
      ]
     },
     "metadata": {},
     "output_type": "display_data"
    }
   ],
   "source": [
    "# You can ask for the symbolic matrix value of your component with the attribute U\n",
    "my_ps = PS(phi=np.pi/8)\n",
    "pcvl.pdisplay(my_ps.U)\n",
    "# And for the numerical value with the method compute_unitary\n",
    "pcvl.pdisplay(my_ps.compute_unitary())\n",
    "\n",
    "#  - by using the syntax pcvl.P to create a symbolic variable\n",
    "#    (note that you cannot compute the numerical value of your component anymore)\n",
    "print(\"A Phase Shifter with a symbolic value for phi:\")\n",
    "ps = PS(phi=pcvl.P('\\psi'))\n",
    "pcvl.pdisplay(ps.U)"
   ]
  },
  {
   "cell_type": "code",
   "execution_count": 7,
   "id": "10fe5c3552252ea1",
   "metadata": {},
   "outputs": [
    {
     "name": "stdout",
     "output_type": "stream",
     "text": [
      "A default beam-splitter:\n"
     ]
    },
    {
     "data": {
      "text/latex": [
       "$\\displaystyle \\left[\\begin{matrix}\\frac{\\sqrt{2}}{2} & \\frac{\\sqrt{2} i}{2}\\\\\\frac{\\sqrt{2} i}{2} & \\frac{\\sqrt{2}}{2}\\end{matrix}\\right]$"
      ],
      "text/plain": [
       "<IPython.core.display.Math object>"
      ]
     },
     "metadata": {},
     "output_type": "display_data"
    },
    {
     "name": "stdout",
     "output_type": "stream",
     "text": [
      "\n",
      "A Beam-Splitter with a numerical value for theta:\n"
     ]
    },
    {
     "data": {
      "text/latex": [
       "$\\displaystyle \\left[\\begin{matrix}\\cos{\\left(5 \\right)} & i \\sin{\\left(5 \\right)}\\\\i \\sin{\\left(5 \\right)} & \\cos{\\left(5 \\right)}\\end{matrix}\\right]$"
      ],
      "text/plain": [
       "<IPython.core.display.Math object>"
      ]
     },
     "metadata": {},
     "output_type": "display_data"
    },
    {
     "data": {
      "text/latex": [
       "$\\displaystyle \\left[\\begin{matrix}0.283662 & - 0.958924 i\\\\- 0.958924 i & 0.283662\\end{matrix}\\right]$"
      ],
      "text/plain": [
       "<IPython.core.display.Math object>"
      ]
     },
     "metadata": {},
     "output_type": "display_data"
    },
    {
     "name": "stdout",
     "output_type": "stream",
     "text": [
      "\n",
      "A Phase Shifter with a symbolic value for phi:\n"
     ]
    },
    {
     "data": {
      "text/latex": [
       "$\\displaystyle \\left[\\begin{matrix}e^{i \\psi}\\end{matrix}\\right]$"
      ],
      "text/plain": [
       "<IPython.core.display.Math object>"
      ]
     },
     "metadata": {},
     "output_type": "display_data"
    },
    {
     "name": "stdout",
     "output_type": "stream",
     "text": [
      "\n",
      "A beam-splitter with a symbolic variable...\n"
     ]
    },
    {
     "data": {
      "text/latex": [
       "$\\displaystyle \\left[\\begin{matrix}\\cos{\\left(\\frac{toto}{2} \\right)} & i \\sin{\\left(\\frac{toto}{2} \\right)}\\\\i \\sin{\\left(\\frac{toto}{2} \\right)} & \\cos{\\left(\\frac{toto}{2} \\right)}\\end{matrix}\\right]$"
      ],
      "text/plain": [
       "<IPython.core.display.Math object>"
      ]
     },
     "metadata": {},
     "output_type": "display_data"
    },
    {
     "name": "stdout",
     "output_type": "stream",
     "text": [
      "... set to a numerical value\n"
     ]
    },
    {
     "data": {
      "text/latex": [
       "$\\displaystyle \\left[\\begin{matrix}0.283662 & - 0.958924 i\\\\- 0.958924 i & 0.283662\\end{matrix}\\right]$"
      ],
      "text/plain": [
       "<IPython.core.display.Math object>"
      ]
     },
     "metadata": {},
     "output_type": "display_data"
    }
   ],
   "source": [
    "# If you do it for a Beam-Splitter, you can see that by default theta=pi/2, and the phi's are 0\n",
    "print(\"A default beam-splitter:\")\n",
    "pcvl.pdisplay(BS().compute_unitary())  # this is a balanced Beamsplitter\n",
    "print(\"\")\n",
    "\n",
    "# To control the value of the parameters of a component, several choices are possible:\n",
    "#  - by setting a numerical value during the creation of the component\n",
    "print(\"A Beam-Splitter with a numerical value for theta:\")\n",
    "bs_rx = BS.Rx(theta=10)\n",
    "pcvl.pdisplay(bs_rx.U)\n",
    "pcvl.pdisplay(bs_rx.compute_unitary())\n",
    "print(\"\")\n",
    "\n",
    "#  - by using the syntax pcvl.P to create a symbolic variable\n",
    "#    (note that you cannot compute the numerical value of your component anymore)\n",
    "print(\"A Phase Shifter with a symbolic value for phi:\")\n",
    "ps = PS(phi=pcvl.P('\\psi'))\n",
    "pcvl.pdisplay(ps.U)\n",
    "print(\"\")\n",
    "\n",
    "#  - you can still modify the value of a symbolic variable after its creation\n",
    "#    This is not true for a numerical variable!\n",
    "print(\"A beam-splitter with a symbolic variable...\")\n",
    "bs_rx = BS(theta=pcvl.P('toto'))\n",
    "pcvl.pdisplay(bs_rx.U)\n",
    "bs_rx.assign({'toto':5})\n",
    "bs_rx.assign({'toto':10})\n",
    "print(\"... set to a numerical value\")\n",
    "pcvl.pdisplay(bs_rx.compute_unitary())"
   ]
  },
  {
   "cell_type": "code",
   "execution_count": 8,
   "id": "484ab32e7e69d30e",
   "metadata": {},
   "outputs": [
    {
     "data": {
      "text/latex": [
       "$\\displaystyle \\left[\\begin{matrix}e^{i \\left(\\phi_{tl} + \\phi_{tr}\\right)} \\cos{\\left(\\frac{\\theta}{2} \\right)} & i e^{i \\left(\\phi_{bl} + \\phi_{tr}\\right)} \\sin{\\left(\\frac{\\theta}{2} \\right)}\\\\i e^{i \\left(\\phi_{br} + \\phi_{tl}\\right)} \\sin{\\left(\\frac{\\theta}{2} \\right)} & e^{i \\left(\\phi_{bl} + \\phi_{br}\\right)} \\cos{\\left(\\frac{\\theta}{2} \\right)}\\end{matrix}\\right]$"
      ],
      "text/plain": [
       "<IPython.core.display.Math object>"
      ]
     },
     "metadata": {},
     "output_type": "display_data"
    },
    {
     "data": {
      "image/svg+xml": [
       "<?xml version=\"1.0\" encoding=\"UTF-8\"?>\n",
       "<svg xmlns=\"http://www.w3.org/2000/svg\" xmlns:xlink=\"http://www.w3.org/1999/xlink\"\n",
       "     width=\"382.5\" height=\"156.25\" viewBox=\"-28.0 0 306.0 125.0\">\n",
       "<defs>\n",
       "</defs>\n",
       "<path d=\"M10,25.0 L25,25.0\" stroke-width=\"1\" stroke=\"black\" stroke-linejoin=\"miter\" fill=\"none\" />\n",
       "<path d=\"M10,75.0 L25,75.0\" stroke-width=\"1\" stroke=\"black\" stroke-linejoin=\"miter\" fill=\"none\" />\n",
       "<path d=\"M25,25 L45,25 M55,25 L75,25\" stroke-width=\"1\" stroke=\"black\" stroke-linejoin=\"miter\" fill=\"none\" />\n",
       "<path d=\"M40,15 L60,15 L60,35 L40,35 Z\" stroke=\"black\" fill=\"lightgray\" stroke-linejoin=\"miter\" />\n",
       "<text x=\"50\" y=\"44\" font-size=\"7\" text-anchor=\"middle\">Φ=phi_tl</text>\n",
       "<path d=\"M25,75 L45,75 M55,75 L75,75\" stroke-width=\"1\" stroke=\"black\" stroke-linejoin=\"miter\" fill=\"none\" />\n",
       "<path d=\"M40,65 L60,65 L60,85 L40,85 Z\" stroke=\"black\" fill=\"lightgray\" stroke-linejoin=\"miter\" />\n",
       "<text x=\"50\" y=\"94\" font-size=\"7\" text-anchor=\"middle\">Φ=phi_bl</text>\n",
       "<path d=\"M87.9442,25 C101.65379999999999,25,101.5924,50,115.3042,50 M115.306,50 C101.5944,50,101.656,75,87.946,75 M115.306,50 L137.1906,50 M137.1906,50 C150.9022,50,150.8406,25,164.55059999999997,25 M137.19079999999997,50 C150.90239999999997,50,150.84079999999997,75,164.55079999999998,75 M75.00259999999999,25 L88.00259999999999,25 M88.00439999999999,75 L75.00259999999999,75 M162.64799999999997,75 L175.00259999999997,75 M162.19699999999997,25 L175.00259999999997,25\" stroke-width=\"1\" stroke=\"black\" stroke-linejoin=\"miter\" fill=\"none\" />\n",
       "<text x=\"125\" y=\"38\" font-size=\"7\" text-anchor=\"middle\">Θ=theta</text>\n",
       "<path d=\"M147,53 L157,53 L157,63 L147,63 Z\" stroke=\"black\" fill=\"thistle\" stroke-linejoin=\"miter\" />\n",
       "<text x=\"152\" y=\"60\" font-size=\"6\" text-anchor=\"middle\">Rx</text>\n",
       "<path d=\"M175,25 L195,25 M205,25 L225,25\" stroke-width=\"1\" stroke=\"black\" stroke-linejoin=\"miter\" fill=\"none\" />\n",
       "<path d=\"M190,15 L210,15 L210,35 L190,35 Z\" stroke=\"black\" fill=\"lightgray\" stroke-linejoin=\"miter\" />\n",
       "<text x=\"200\" y=\"44\" font-size=\"7\" text-anchor=\"middle\">Φ=phi_tr</text>\n",
       "<path d=\"M175,75 L195,75 M205,75 L225,75\" stroke-width=\"1\" stroke=\"black\" stroke-linejoin=\"miter\" fill=\"none\" />\n",
       "<path d=\"M190,65 L210,65 L210,85 L190,85 Z\" stroke=\"black\" fill=\"lightgray\" stroke-linejoin=\"miter\" />\n",
       "<text x=\"200\" y=\"94\" font-size=\"7\" text-anchor=\"middle\">Φ=phi_br</text>\n",
       "<path d=\"M225,25.0 L240,25.0\" stroke-width=\"1\" stroke=\"black\" stroke-linejoin=\"miter\" fill=\"none\" />\n",
       "<path d=\"M225,75.0 L240,75.0\" stroke-width=\"1\" stroke=\"black\" stroke-linejoin=\"miter\" fill=\"none\" />\n",
       "<text x=\"250\" y=\"28.0\" font-size=\"6\" text-anchor=\"end\">0</text>\n",
       "<text x=\"250\" y=\"78.0\" font-size=\"6\" text-anchor=\"end\">1</text>\n",
       "<text x=\"0\" y=\"28.0\" font-size=\"6\" text-anchor=\"start\">0</text>\n",
       "<text x=\"0\" y=\"78.0\" font-size=\"6\" text-anchor=\"start\">1</text>\n",
       "</svg>"
      ],
      "text/plain": [
       "<drawsvg.drawing.Drawing at 0x14e7c62e8d0>"
      ]
     },
     "execution_count": 8,
     "metadata": {},
     "output_type": "execute_result"
    }
   ],
   "source": [
    "## to understand the conventions, you can note that a BS.Rx with the 4 phases phi (top left/right and bottom left/right) can be represented like that\n",
    "\n",
    "bs_rx_circuit=pcvl.Circuit(2) // (0, PS(phi=pcvl.P(\"phi_tl\"))) // (1, PS(phi=pcvl.P(\"phi_bl\"))) // BS(theta=pcvl.P('theta')) // (0, PS(phi=pcvl.P(\"phi_tr\"))) // (1, PS(phi=pcvl.P(\"phi_br\")))\n",
    "\n",
    "pcvl.pdisplay(bs_rx_circuit.U)\n",
    "\n",
    "# we can check it's the same as bs_rx.definition()\n",
    "pcvl.pdisplay(bs_rx_circuit)\n",
    "\n",
    "## For this cell, we needed the syntax to builds circuits... Good transition !"
   ]
  },
  {
   "cell_type": "markdown",
   "id": "54402086dc7fb65f",
   "metadata": {},
   "source": [
    "## II. LO-Circuits <a class=\"anchor\" id=\"circuits\"></a>\n",
    "\n",
    "From the LO-components, we can build a LO-circuit, i.e. a sequence of those components acting on our different modes.\n",
    "\n",
    "### 1. Syntax"
   ]
  },
  {
   "cell_type": "code",
   "execution_count": 9,
   "id": "96331528c99d09e4",
   "metadata": {},
   "outputs": [
    {
     "data": {
      "text/latex": [
       "$\\displaystyle \\left[\\begin{matrix}\\frac{\\sqrt{2} e^{1.5707963267949 i}}{2} & \\frac{\\sqrt{2} i e^{1.5707963267949 i}}{2} & 0\\\\\\frac{i e^{i \\phi}}{2} & \\frac{e^{i \\phi}}{2} & \\frac{\\sqrt{2} i}{2}\\\\- \\frac{e^{i \\phi}}{2} & \\frac{i e^{i \\phi}}{2} & \\frac{\\sqrt{2}}{2}\\end{matrix}\\right]$"
      ],
      "text/plain": [
       "<IPython.core.display.Math object>"
      ]
     },
     "metadata": {},
     "output_type": "display_data"
    },
    {
     "data": {
      "image/svg+xml": [
       "<?xml version=\"1.0\" encoding=\"UTF-8\"?>\n",
       "<svg xmlns=\"http://www.w3.org/2000/svg\" xmlns:xlink=\"http://www.w3.org/1999/xlink\"\n",
       "     width=\"445.0\" height=\"218.75\" viewBox=\"-28.0 0 356.0 175.0\">\n",
       "<defs>\n",
       "</defs>\n",
       "<path d=\"M10,25.0 L25,25.0\" stroke-width=\"1\" stroke=\"black\" stroke-linejoin=\"miter\" fill=\"none\" />\n",
       "<path d=\"M10,75.0 L25,75.0\" stroke-width=\"1\" stroke=\"black\" stroke-linejoin=\"miter\" fill=\"none\" />\n",
       "<path d=\"M10,125.0 L25,125.0\" stroke-width=\"1\" stroke=\"black\" stroke-linejoin=\"miter\" fill=\"none\" />\n",
       "<path d=\"M37.9442,25 C51.653800000000004,25,51.5924,50,65.30420000000001,50 M65.30600000000001,50 C51.59440000000001,50,51.65600000000001,75,37.94600000000001,75 M65.30600000000001,50 L87.19060000000002,50 M87.19060000000002,50 C100.90220000000002,50,100.84060000000002,25,114.55060000000002,25 M87.19080000000002,50 C100.90240000000003,50,100.84080000000003,75,114.55080000000002,75 M25.00260000000003,25 L38.00260000000003,25 M38.00440000000003,75 L25.002600000000033,75 M112.64800000000002,75 L125.00260000000003,75 M112.19700000000003,25 L125.00260000000003,25\" stroke-width=\"1\" stroke=\"black\" stroke-linejoin=\"miter\" fill=\"none\" />\n",
       "<text x=\"75\" y=\"38\" font-size=\"7\" text-anchor=\"middle\"></text>\n",
       "<path d=\"M97,53 L107,53 L107,63 L97,63 Z\" stroke=\"black\" fill=\"thistle\" stroke-linejoin=\"miter\" />\n",
       "<text x=\"102\" y=\"60\" font-size=\"6\" text-anchor=\"middle\">Rx</text>\n",
       "<path d=\"M125,25 L145,25 M155,25 L175,25\" stroke-width=\"1\" stroke=\"black\" stroke-linejoin=\"miter\" fill=\"none\" />\n",
       "<path d=\"M140,15 L160,15 L160,35 L140,35 Z\" stroke=\"black\" fill=\"lightgray\" stroke-linejoin=\"miter\" />\n",
       "<text x=\"150\" y=\"44\" font-size=\"7\" text-anchor=\"middle\">Φ=pi/2</text>\n",
       "<path d=\"M125,75 L145,75 M155,75 L175,75\" stroke-width=\"1\" stroke=\"black\" stroke-linejoin=\"miter\" fill=\"none\" />\n",
       "<path d=\"M140,65 L160,65 L160,85 L140,85 Z\" stroke=\"black\" fill=\"lightgray\" stroke-linejoin=\"miter\" />\n",
       "<text x=\"150\" y=\"94\" font-size=\"7\" text-anchor=\"middle\">Φ=phi</text>\n",
       "<path d=\"M25,125.0 L175,125.0\" stroke=\"black\" stroke-width=\"1\" fill=\"none\" />\n",
       "<path d=\"M187.9442,75 C201.6538,75,201.5924,100,215.30419999999998,100 M215.30599999999998,100 C201.59439999999998,100,201.65599999999998,125,187.94599999999997,125 M215.30599999999998,100 L237.1906,100 M237.1906,100 C250.9022,100,250.8406,75,264.5506,75 M237.19079999999997,100 C250.90239999999997,100,250.84079999999997,125,264.5508,125 M175.00259999999997,75 L188.00259999999997,75 M188.00439999999998,125 L175.00259999999997,125 M262.64799999999997,125 L275.0026,125 M262.197,75 L275.00260000000003,75\" stroke-width=\"1\" stroke=\"black\" stroke-linejoin=\"miter\" fill=\"none\" />\n",
       "<text x=\"225\" y=\"88\" font-size=\"7\" text-anchor=\"middle\"></text>\n",
       "<path d=\"M247,103 L257,103 L257,113 L247,113 Z\" stroke=\"black\" fill=\"thistle\" stroke-linejoin=\"miter\" />\n",
       "<text x=\"252\" y=\"110\" font-size=\"6\" text-anchor=\"middle\">Rx</text>\n",
       "<path d=\"M175,25.0 L275,25.0\" stroke=\"black\" stroke-width=\"1\" fill=\"none\" />\n",
       "<path d=\"M275,25.0 L290,25.0\" stroke-width=\"1\" stroke=\"black\" stroke-linejoin=\"miter\" fill=\"none\" />\n",
       "<path d=\"M275,75.0 L290,75.0\" stroke-width=\"1\" stroke=\"black\" stroke-linejoin=\"miter\" fill=\"none\" />\n",
       "<path d=\"M275,125.0 L290,125.0\" stroke-width=\"1\" stroke=\"black\" stroke-linejoin=\"miter\" fill=\"none\" />\n",
       "<text x=\"300\" y=\"28.0\" font-size=\"6\" text-anchor=\"end\">0</text>\n",
       "<text x=\"300\" y=\"78.0\" font-size=\"6\" text-anchor=\"end\">1</text>\n",
       "<text x=\"300\" y=\"128.0\" font-size=\"6\" text-anchor=\"end\">2</text>\n",
       "<text x=\"0\" y=\"28.0\" font-size=\"6\" text-anchor=\"start\">0</text>\n",
       "<text x=\"0\" y=\"78.0\" font-size=\"6\" text-anchor=\"start\">1</text>\n",
       "<text x=\"0\" y=\"128.0\" font-size=\"6\" text-anchor=\"start\">2</text>\n",
       "</svg>"
      ],
      "text/plain": [
       "<drawsvg.drawing.Drawing at 0x14e7c635950>"
      ]
     },
     "execution_count": 9,
     "metadata": {},
     "output_type": "execute_result"
    }
   ],
   "source": [
    "circuit = pcvl.Circuit(3)  # Create an empty 3 mode circuit\n",
    "\n",
    "circuit.add(0, BS())  # The beam splitter is added to the circuit on mode 0 and 1\n",
    "                      # even though only the first mode is required in `add` method\n",
    "circuit.add(0, PS(phi=np.pi/2)).add(1, PS(phi=pcvl.P('phi'))).add(1, BS())\n",
    "\n",
    "# Equivalent syntax:\n",
    "# circuit // BS() // PS(phi=np.pi/2) // (1, PS(phi=pcvl.P('phi'))) // (1, BS())\n",
    "\n",
    "pcvl.pdisplay(circuit.U)\n",
    "pcvl.pdisplay(circuit)"
   ]
  },
  {
   "cell_type": "markdown",
   "id": "1eccd0c77292a209",
   "metadata": {},
   "source": [
    "The syntax ``pcvl.P('phi')`` allows you to use parameters in the circuit, where you can assign a value or not. The behavior of the parameters of a circuit is similar to the case of the components.\n",
    "\n",
    "For instance, you can use :"
   ]
  },
  {
   "cell_type": "code",
   "execution_count": 10,
   "id": "ef8e0d07b8125e11",
   "metadata": {},
   "outputs": [
    {
     "name": "stdout",
     "output_type": "stream",
     "text": [
      "[Parameter(name='phi', value=None, min_v=0.0, max_v=6.283185307179586)]\n"
     ]
    },
    {
     "data": {
      "image/svg+xml": [
       "<?xml version=\"1.0\" encoding=\"UTF-8\"?>\n",
       "<svg xmlns=\"http://www.w3.org/2000/svg\" xmlns:xlink=\"http://www.w3.org/1999/xlink\"\n",
       "     width=\"445.0\" height=\"218.75\" viewBox=\"-28.0 0 356.0 175.0\">\n",
       "<defs>\n",
       "</defs>\n",
       "<path d=\"M10,25.0 L25,25.0\" stroke-width=\"1\" stroke=\"black\" stroke-linejoin=\"miter\" fill=\"none\" />\n",
       "<path d=\"M10,75.0 L25,75.0\" stroke-width=\"1\" stroke=\"black\" stroke-linejoin=\"miter\" fill=\"none\" />\n",
       "<path d=\"M10,125.0 L25,125.0\" stroke-width=\"1\" stroke=\"black\" stroke-linejoin=\"miter\" fill=\"none\" />\n",
       "<path d=\"M37.9442,25 C51.653800000000004,25,51.5924,50,65.30420000000001,50 M65.30600000000001,50 C51.59440000000001,50,51.65600000000001,75,37.94600000000001,75 M65.30600000000001,50 L87.19060000000002,50 M87.19060000000002,50 C100.90220000000002,50,100.84060000000002,25,114.55060000000002,25 M87.19080000000002,50 C100.90240000000003,50,100.84080000000003,75,114.55080000000002,75 M25.00260000000003,25 L38.00260000000003,25 M38.00440000000003,75 L25.002600000000033,75 M112.64800000000002,75 L125.00260000000003,75 M112.19700000000003,25 L125.00260000000003,25\" stroke-width=\"1\" stroke=\"black\" stroke-linejoin=\"miter\" fill=\"none\" />\n",
       "<text x=\"75\" y=\"38\" font-size=\"7\" text-anchor=\"middle\"></text>\n",
       "<path d=\"M97,53 L107,53 L107,63 L97,63 Z\" stroke=\"black\" fill=\"thistle\" stroke-linejoin=\"miter\" />\n",
       "<text x=\"102\" y=\"60\" font-size=\"6\" text-anchor=\"middle\">Rx</text>\n",
       "<path d=\"M125,25 L145,25 M155,25 L175,25\" stroke-width=\"1\" stroke=\"black\" stroke-linejoin=\"miter\" fill=\"none\" />\n",
       "<path d=\"M140,15 L160,15 L160,35 L140,35 Z\" stroke=\"black\" fill=\"lightgray\" stroke-linejoin=\"miter\" />\n",
       "<text x=\"150\" y=\"44\" font-size=\"7\" text-anchor=\"middle\">Φ=pi/2</text>\n",
       "<path d=\"M125,75 L145,75 M155,75 L175,75\" stroke-width=\"1\" stroke=\"black\" stroke-linejoin=\"miter\" fill=\"none\" />\n",
       "<path d=\"M140,65 L160,65 L160,85 L140,85 Z\" stroke=\"black\" fill=\"lightgray\" stroke-linejoin=\"miter\" />\n",
       "<text x=\"150\" y=\"94\" font-size=\"7\" text-anchor=\"middle\">Φ=pi</text>\n",
       "<path d=\"M25,125.0 L175,125.0\" stroke=\"black\" stroke-width=\"1\" fill=\"none\" />\n",
       "<path d=\"M187.9442,75 C201.6538,75,201.5924,100,215.30419999999998,100 M215.30599999999998,100 C201.59439999999998,100,201.65599999999998,125,187.94599999999997,125 M215.30599999999998,100 L237.1906,100 M237.1906,100 C250.9022,100,250.8406,75,264.5506,75 M237.19079999999997,100 C250.90239999999997,100,250.84079999999997,125,264.5508,125 M175.00259999999997,75 L188.00259999999997,75 M188.00439999999998,125 L175.00259999999997,125 M262.64799999999997,125 L275.0026,125 M262.197,75 L275.00260000000003,75\" stroke-width=\"1\" stroke=\"black\" stroke-linejoin=\"miter\" fill=\"none\" />\n",
       "<text x=\"225\" y=\"88\" font-size=\"7\" text-anchor=\"middle\"></text>\n",
       "<path d=\"M247,103 L257,103 L257,113 L247,113 Z\" stroke=\"black\" fill=\"thistle\" stroke-linejoin=\"miter\" />\n",
       "<text x=\"252\" y=\"110\" font-size=\"6\" text-anchor=\"middle\">Rx</text>\n",
       "<path d=\"M175,25.0 L275,25.0\" stroke=\"black\" stroke-width=\"1\" fill=\"none\" />\n",
       "<path d=\"M275,25.0 L290,25.0\" stroke-width=\"1\" stroke=\"black\" stroke-linejoin=\"miter\" fill=\"none\" />\n",
       "<path d=\"M275,75.0 L290,75.0\" stroke-width=\"1\" stroke=\"black\" stroke-linejoin=\"miter\" fill=\"none\" />\n",
       "<path d=\"M275,125.0 L290,125.0\" stroke-width=\"1\" stroke=\"black\" stroke-linejoin=\"miter\" fill=\"none\" />\n",
       "<text x=\"300\" y=\"28.0\" font-size=\"6\" text-anchor=\"end\">0</text>\n",
       "<text x=\"300\" y=\"78.0\" font-size=\"6\" text-anchor=\"end\">1</text>\n",
       "<text x=\"300\" y=\"128.0\" font-size=\"6\" text-anchor=\"end\">2</text>\n",
       "<text x=\"0\" y=\"28.0\" font-size=\"6\" text-anchor=\"start\">0</text>\n",
       "<text x=\"0\" y=\"78.0\" font-size=\"6\" text-anchor=\"start\">1</text>\n",
       "<text x=\"0\" y=\"128.0\" font-size=\"6\" text-anchor=\"start\">2</text>\n",
       "</svg>"
      ],
      "text/plain": [
       "<drawsvg.drawing.Drawing at 0x14e7c63d310>"
      ]
     },
     "execution_count": 10,
     "metadata": {},
     "output_type": "execute_result"
    }
   ],
   "source": [
    "params=circuit.get_parameters()\n",
    "print(params) # list of the parameters\n",
    "\n",
    "# the value is not set, but we can change that with:\n",
    "params[0].set_value(np.pi)\n",
    "pcvl.pdisplay(circuit)"
   ]
  },
  {
   "cell_type": "markdown",
   "id": "77f2161e5a72e3bb",
   "metadata": {},
   "source": [
    "The syntax ``pcvl.P('phi')`` allows you to use parameters in the circuit, where you can assign a value or not. The behavior of the parameters of a circuit is similar to the case of the components.\n",
    "\n",
    "For instance, you can use :"
   ]
  },
  {
   "cell_type": "code",
   "execution_count": 11,
   "id": "7b92f212fe6a5051",
   "metadata": {},
   "outputs": [
    {
     "name": "stdout",
     "output_type": "stream",
     "text": [
      "[Parameter(name='phi', value=3.141592653589793, min_v=0.0, max_v=6.283185307179586)]\n"
     ]
    },
    {
     "data": {
      "image/svg+xml": [
       "<?xml version=\"1.0\" encoding=\"UTF-8\"?>\n",
       "<svg xmlns=\"http://www.w3.org/2000/svg\" xmlns:xlink=\"http://www.w3.org/1999/xlink\"\n",
       "     width=\"445.0\" height=\"218.75\" viewBox=\"-28.0 0 356.0 175.0\">\n",
       "<defs>\n",
       "</defs>\n",
       "<path d=\"M10,25.0 L25,25.0\" stroke-width=\"1\" stroke=\"black\" stroke-linejoin=\"miter\" fill=\"none\" />\n",
       "<path d=\"M10,75.0 L25,75.0\" stroke-width=\"1\" stroke=\"black\" stroke-linejoin=\"miter\" fill=\"none\" />\n",
       "<path d=\"M10,125.0 L25,125.0\" stroke-width=\"1\" stroke=\"black\" stroke-linejoin=\"miter\" fill=\"none\" />\n",
       "<path d=\"M37.9442,25 C51.653800000000004,25,51.5924,50,65.30420000000001,50 M65.30600000000001,50 C51.59440000000001,50,51.65600000000001,75,37.94600000000001,75 M65.30600000000001,50 L87.19060000000002,50 M87.19060000000002,50 C100.90220000000002,50,100.84060000000002,25,114.55060000000002,25 M87.19080000000002,50 C100.90240000000003,50,100.84080000000003,75,114.55080000000002,75 M25.00260000000003,25 L38.00260000000003,25 M38.00440000000003,75 L25.002600000000033,75 M112.64800000000002,75 L125.00260000000003,75 M112.19700000000003,25 L125.00260000000003,25\" stroke-width=\"1\" stroke=\"black\" stroke-linejoin=\"miter\" fill=\"none\" />\n",
       "<text x=\"75\" y=\"38\" font-size=\"7\" text-anchor=\"middle\"></text>\n",
       "<path d=\"M97,53 L107,53 L107,63 L97,63 Z\" stroke=\"black\" fill=\"thistle\" stroke-linejoin=\"miter\" />\n",
       "<text x=\"102\" y=\"60\" font-size=\"6\" text-anchor=\"middle\">Rx</text>\n",
       "<path d=\"M125,25 L145,25 M155,25 L175,25\" stroke-width=\"1\" stroke=\"black\" stroke-linejoin=\"miter\" fill=\"none\" />\n",
       "<path d=\"M140,15 L160,15 L160,35 L140,35 Z\" stroke=\"black\" fill=\"lightgray\" stroke-linejoin=\"miter\" />\n",
       "<text x=\"150\" y=\"44\" font-size=\"7\" text-anchor=\"middle\">Φ=pi/2</text>\n",
       "<path d=\"M125,75 L145,75 M155,75 L175,75\" stroke-width=\"1\" stroke=\"black\" stroke-linejoin=\"miter\" fill=\"none\" />\n",
       "<path d=\"M140,65 L160,65 L160,85 L140,85 Z\" stroke=\"black\" fill=\"lightgray\" stroke-linejoin=\"miter\" />\n",
       "<text x=\"150\" y=\"94\" font-size=\"7\" text-anchor=\"middle\">Φ=pi</text>\n",
       "<path d=\"M25,125.0 L175,125.0\" stroke=\"black\" stroke-width=\"1\" fill=\"none\" />\n",
       "<path d=\"M187.9442,75 C201.6538,75,201.5924,100,215.30419999999998,100 M215.30599999999998,100 C201.59439999999998,100,201.65599999999998,125,187.94599999999997,125 M215.30599999999998,100 L237.1906,100 M237.1906,100 C250.9022,100,250.8406,75,264.5506,75 M237.19079999999997,100 C250.90239999999997,100,250.84079999999997,125,264.5508,125 M175.00259999999997,75 L188.00259999999997,75 M188.00439999999998,125 L175.00259999999997,125 M262.64799999999997,125 L275.0026,125 M262.197,75 L275.00260000000003,75\" stroke-width=\"1\" stroke=\"black\" stroke-linejoin=\"miter\" fill=\"none\" />\n",
       "<text x=\"225\" y=\"88\" font-size=\"7\" text-anchor=\"middle\"></text>\n",
       "<path d=\"M247,103 L257,103 L257,113 L247,113 Z\" stroke=\"black\" fill=\"thistle\" stroke-linejoin=\"miter\" />\n",
       "<text x=\"252\" y=\"110\" font-size=\"6\" text-anchor=\"middle\">Rx</text>\n",
       "<path d=\"M175,25.0 L275,25.0\" stroke=\"black\" stroke-width=\"1\" fill=\"none\" />\n",
       "<path d=\"M275,25.0 L290,25.0\" stroke-width=\"1\" stroke=\"black\" stroke-linejoin=\"miter\" fill=\"none\" />\n",
       "<path d=\"M275,75.0 L290,75.0\" stroke-width=\"1\" stroke=\"black\" stroke-linejoin=\"miter\" fill=\"none\" />\n",
       "<path d=\"M275,125.0 L290,125.0\" stroke-width=\"1\" stroke=\"black\" stroke-linejoin=\"miter\" fill=\"none\" />\n",
       "<text x=\"300\" y=\"28.0\" font-size=\"6\" text-anchor=\"end\">0</text>\n",
       "<text x=\"300\" y=\"78.0\" font-size=\"6\" text-anchor=\"end\">1</text>\n",
       "<text x=\"300\" y=\"128.0\" font-size=\"6\" text-anchor=\"end\">2</text>\n",
       "<text x=\"0\" y=\"28.0\" font-size=\"6\" text-anchor=\"start\">0</text>\n",
       "<text x=\"0\" y=\"78.0\" font-size=\"6\" text-anchor=\"start\">1</text>\n",
       "<text x=\"0\" y=\"128.0\" font-size=\"6\" text-anchor=\"start\">2</text>\n",
       "</svg>"
      ],
      "text/plain": [
       "<drawsvg.drawing.Drawing at 0x14e7c641110>"
      ]
     },
     "execution_count": 11,
     "metadata": {},
     "output_type": "execute_result"
    }
   ],
   "source": [
    "params=circuit.get_parameters()\n",
    "print(params) #list of the parameters\n",
    "\n",
    "# the value is None, but we can change that with :\n",
    "params[0].set_value(np.pi)\n",
    "\n",
    "pcvl.pdisplay(circuit)"
   ]
  },
  {
   "cell_type": "markdown",
   "id": "45d9831810d2caf2",
   "metadata": {},
   "source": [
    "\n",
    "### 2. Mach-Zehnder Interferometers\n",
    "\n",
    "The beamsplitter's angle $\\theta$ can also be defined as a parameter.\n",
    "\n",
    "However, as the reflexivity depends on the mirror, it's hard to have adaptibility on the angle.\n",
    "Therefore, in practice, we use a [Mach-Zehnder Interferometer](https://en.wikipedia.org/wiki/Mach%E2%80%93Zehnder_interferometer).\n",
    "\n",
    "The beamsplitter with a parameterised $\\theta$ is therefore implemented with a parameterised phase shifter $\\phi$ between two fixed beamsplitters.\n",
    "\n",
    "\n"
   ]
  },
  {
   "cell_type": "code",
   "execution_count": 12,
   "id": "c91f9af5e183769",
   "metadata": {},
   "outputs": [
    {
     "data": {
      "image/png": "[encoded data removed]",
      "text/plain": [
       "<Figure size 640x480 with 1 Axes>"
      ]
     },
     "metadata": {},
     "output_type": "display_data"
    }
   ],
   "source": [
    "## Exercise: build a circuit implementing the mzi\n",
    "\n",
    "## Solution:\n",
    "mzi = pcvl.Circuit(2) // BS() // (1,PS(phi=pcvl.P(\"phi\"))) // BS()\n",
    "pcvl.pdisplay(mzi)\n",
    "\n",
    "## Exercise: Check that the parameterised phase allows you to change the reflexivity of your MZI\n",
    "\n",
    "\n",
    "## Solution:\n",
    "import matplotlib.pyplot as plt\n",
    "\n",
    "X = np.linspace(0, 2*np.pi, 1000)  # We create a list of all different values for theta\n",
    "Y = []\n",
    "for theta in X:\n",
    "    phase = mzi.get_parameters()[0]\n",
    "    phase.set_value(theta)\n",
    "    Y.append(abs(mzi.compute_unitary()[0,0])**2)  #compute_unitary is numerical, so far faster that mzi.U, which uses symbolic expressions.\n",
    "\n",
    "plt.plot(X, Y)\n",
    "plt.xlabel(\"phi\")\n",
    "plt.ylabel(\"R\")\n",
    "plt.show()\n",
    "\n",
    "## Note: If you need to create a BS directly from the reflexivity value, please use:\n",
    "## BS(BS.r_to_theta(reflectivity_value))\n",
    "## However, be aware that only theta value is stored inside the BS object"
   ]
  },
  {
   "cell_type": "markdown",
   "id": "e3296dc90a5850de",
   "metadata": {},
   "source": [
    "### 3. Universal Circuits\n",
    "\n",
    "An operation on the modes of our circuit can also be expressed as a unitary.\n",
    "\n",
    "For three modes, the unitary $U=\\begin{pmatrix}\n",
    "a_{1,1} & a_{1,2} & a_{1,3}\\\\\n",
    "a_{2,1} & a_{2,2} & a_{2,3} \\\\\n",
    "a_{3,1} & a_{3,2} & a_{3,3}\n",
    "\\end{pmatrix}$ performs the following operation on the Fock state basis:\n",
    "\n",
    "$$\\begin{array}{rcl}\n",
    "|1,0,0\\rangle &  \\mapsto&  a_{1,1}|1,0,0\\rangle + a_{1,2}|0,1,0\\rangle + a_{1,3}|0,0,1\\rangle\\\\\n",
    "|0,1,0\\rangle &  \\mapsto&  a_{2,1}|1,0,0\\rangle + a_{2,2}|0,1,0\\rangle + a_{2,3}|0,0,1\\rangle\\\\\n",
    "|0,0,1\\rangle &  \\mapsto&  a_{3,1}|1,0,0\\rangle + a_{3,2}|0,1,0\\rangle + a_{3,3}|0,0,1\\rangle\n",
    "\\end{array}$$"
   ]
  },
  {
   "cell_type": "markdown",
   "id": "a6e3ba2af505acb5",
   "metadata": {},
   "source": [
    "Since 1994, we know that any $U$ on the modes can be implemented as an LO-circuit [Reck's et al](https://journals.aps.org/prl/abstract/10.1103/PhysRevLett.73.58).\n",
    "\n",
    "This decomposition can be done easily in Perceval using beamsplitters and phase-shifters as follows."
   ]
  },
  {
   "cell_type": "code",
   "execution_count": 13,
   "id": "771aebc2d149e6e4",
   "metadata": {},
   "outputs": [
    {
     "data": {
      "image/svg+xml": [
       "<?xml version=\"1.0\" encoding=\"UTF-8\"?>\n",
       "<svg xmlns=\"http://www.w3.org/2000/svg\" xmlns:xlink=\"http://www.w3.org/1999/xlink\"\n",
       "     width=\"827.5\" height=\"281.25\" viewBox=\"-28.0 0 662.0 225.0\">\n",
       "<defs>\n",
       "</defs>\n",
       "<path d=\"M10,25.0 L25,25.0\" stroke-width=\"1\" stroke=\"black\" stroke-linejoin=\"miter\" fill=\"none\" />\n",
       "<path d=\"M10,75.0 L25,75.0\" stroke-width=\"1\" stroke=\"black\" stroke-linejoin=\"miter\" fill=\"none\" />\n",
       "<path d=\"M10,125.0 L25,125.0\" stroke-width=\"1\" stroke=\"black\" stroke-linejoin=\"miter\" fill=\"none\" />\n",
       "<path d=\"M10,175.0 L25,175.0\" stroke-width=\"1\" stroke=\"black\" stroke-linejoin=\"miter\" fill=\"none\" />\n",
       "<path d=\"M25,175 L45,175 M55,175 L75,175\" stroke-width=\"1\" stroke=\"black\" stroke-linejoin=\"miter\" fill=\"none\" />\n",
       "<path d=\"M40,165 L60,165 L60,185 L40,185 Z\" stroke=\"black\" fill=\"lightgray\" stroke-linejoin=\"miter\" />\n",
       "<text x=\"50\" y=\"194\" font-size=\"7\" text-anchor=\"middle\">Φ=0.400678</text>\n",
       "<path d=\"M25,125 L45,125 M55,125 L75,125\" stroke-width=\"1\" stroke=\"black\" stroke-linejoin=\"miter\" fill=\"none\" />\n",
       "<path d=\"M40,115 L60,115 L60,135 L40,135 Z\" stroke=\"black\" fill=\"lightgray\" stroke-linejoin=\"miter\" />\n",
       "<text x=\"50\" y=\"144\" font-size=\"7\" text-anchor=\"middle\">Φ=1.815785</text>\n",
       "<path d=\"M25,75 L45,75 M55,75 L75,75\" stroke-width=\"1\" stroke=\"black\" stroke-linejoin=\"miter\" fill=\"none\" />\n",
       "<path d=\"M40,65 L60,65 L60,85 L40,85 Z\" stroke=\"black\" fill=\"lightgray\" stroke-linejoin=\"miter\" />\n",
       "<text x=\"50\" y=\"94\" font-size=\"7\" text-anchor=\"middle\">Φ=1.099669</text>\n",
       "<path d=\"M25,25 L45,25 M55,25 L75,25\" stroke-width=\"1\" stroke=\"black\" stroke-linejoin=\"miter\" fill=\"none\" />\n",
       "<path d=\"M40,15 L60,15 L60,35 L40,35 Z\" stroke=\"black\" fill=\"lightgray\" stroke-linejoin=\"miter\" />\n",
       "<text x=\"50\" y=\"44\" font-size=\"7\" text-anchor=\"middle\">Φ=3.058571</text>\n",
       "<path d=\"M87.9442,25 C101.65379999999999,25,101.5924,50,115.3042,50 M115.306,50 C101.5944,50,101.656,75,87.946,75 M115.306,50 L137.1906,50 M137.1906,50 C150.9022,50,150.8406,25,164.55059999999997,25 M137.19079999999997,50 C150.90239999999997,50,150.84079999999997,75,164.55079999999998,75 M75.00259999999999,25 L88.00259999999999,25 M88.00439999999999,75 L75.00259999999999,75 M162.64799999999997,75 L175.00259999999997,75 M162.19699999999997,25 L175.00259999999997,25\" stroke-width=\"1\" stroke=\"black\" stroke-linejoin=\"miter\" fill=\"none\" />\n",
       "<text x=\"125\" y=\"38\" font-size=\"7\" text-anchor=\"middle\"><tspan x=\"125\" dy=\"0em\">Θ=4.378545</tspan><tspan x=\"125\" dy=\"1em\">Φ_tr=2.677299</tspan></text>\n",
       "<path d=\"M147,53 L157,53 L157,63 L147,63 Z\" stroke=\"black\" fill=\"thistle\" stroke-linejoin=\"miter\" />\n",
       "<text x=\"152\" y=\"60\" font-size=\"6\" text-anchor=\"middle\">Rx</text>\n",
       "<path d=\"M75,125.0 L175,125.0\" stroke=\"black\" stroke-width=\"1\" fill=\"none\" />\n",
       "<path d=\"M187.9442,75 C201.6538,75,201.5924,100,215.30419999999998,100 M215.30599999999998,100 C201.59439999999998,100,201.65599999999998,125,187.94599999999997,125 M215.30599999999998,100 L237.1906,100 M237.1906,100 C250.9022,100,250.8406,75,264.5506,75 M237.19079999999997,100 C250.90239999999997,100,250.84079999999997,125,264.5508,125 M175.00259999999997,75 L188.00259999999997,75 M188.00439999999998,125 L175.00259999999997,125 M262.64799999999997,125 L275.0026,125 M262.197,75 L275.00260000000003,75\" stroke-width=\"1\" stroke=\"black\" stroke-linejoin=\"miter\" fill=\"none\" />\n",
       "<text x=\"225\" y=\"88\" font-size=\"7\" text-anchor=\"middle\"><tspan x=\"225\" dy=\"0em\">Θ=1.634288</tspan><tspan x=\"225\" dy=\"1em\">Φ_tr=2.518065</tspan></text>\n",
       "<path d=\"M247,103 L257,103 L257,113 L247,113 Z\" stroke=\"black\" fill=\"thistle\" stroke-linejoin=\"miter\" />\n",
       "<text x=\"252\" y=\"110\" font-size=\"6\" text-anchor=\"middle\">Rx</text>\n",
       "<path d=\"M175,25.0 L275,25.0\" stroke=\"black\" stroke-width=\"1\" fill=\"none\" />\n",
       "<path d=\"M287.9442,25 C301.65380000000005,25,301.5924,50,315.30420000000004,50 M315.30600000000004,50 C301.59440000000006,50,301.65600000000006,75,287.946,75 M315.30600000000004,50 L337.1906,50 M337.1906,50 C350.9022,50,350.8406,25,364.55060000000003,25 M337.1908,50 C350.90240000000006,50,350.84080000000006,75,364.55080000000004,75 M275.00260000000003,25 L288.00260000000003,25 M288.00440000000003,75 L275.00260000000003,75 M362.648,75 L375.00260000000003,75 M362.197,25 L375.00260000000003,25\" stroke-width=\"1\" stroke=\"black\" stroke-linejoin=\"miter\" fill=\"none\" />\n",
       "<text x=\"325\" y=\"38\" font-size=\"7\" text-anchor=\"middle\"><tspan x=\"325\" dy=\"0em\">Θ=11.314912</tspan><tspan x=\"325\" dy=\"1em\">Φ_tr=0.121017</tspan></text>\n",
       "<path d=\"M347,53 L357,53 L357,63 L347,63 Z\" stroke=\"black\" fill=\"thistle\" stroke-linejoin=\"miter\" />\n",
       "<text x=\"352\" y=\"60\" font-size=\"6\" text-anchor=\"middle\">Rx</text>\n",
       "<path d=\"M75,175.0 L275,175.0\" stroke=\"black\" stroke-width=\"1\" fill=\"none\" />\n",
       "<path d=\"M287.9442,125 C301.65380000000005,125,301.5924,150,315.30420000000004,150 M315.30600000000004,150 C301.59440000000006,150,301.65600000000006,175,287.946,175 M315.30600000000004,150 L337.1906,150 M337.1906,150 C350.9022,150,350.8406,125,364.55060000000003,125 M337.1908,150 C350.90240000000006,150,350.84080000000006,175,364.55080000000004,175 M275.00260000000003,125 L288.00260000000003,125 M288.00440000000003,175 L275.00260000000003,175 M362.648,175 L375.00260000000003,175 M362.197,125 L375.00260000000003,125\" stroke-width=\"1\" stroke=\"black\" stroke-linejoin=\"miter\" fill=\"none\" />\n",
       "<text x=\"325\" y=\"138\" font-size=\"7\" text-anchor=\"middle\"><tspan x=\"325\" dy=\"0em\">Θ=11.168785</tspan><tspan x=\"325\" dy=\"1em\">Φ_tr=0.705947</tspan></text>\n",
       "<path d=\"M347,153 L357,153 L357,163 L347,163 Z\" stroke=\"black\" fill=\"thistle\" stroke-linejoin=\"miter\" />\n",
       "<text x=\"352\" y=\"160\" font-size=\"6\" text-anchor=\"middle\">Rx</text>\n",
       "<path d=\"M387.9442,75 C401.65380000000005,75,401.5924,100,415.30420000000004,100 M415.30600000000004,100 C401.59440000000006,100,401.65600000000006,125,387.946,125 M415.30600000000004,100 L437.1906,100 M437.1906,100 C450.9022,100,450.8406,75,464.55060000000003,75 M437.1908,100 C450.90240000000006,100,450.84080000000006,125,464.55080000000004,125 M375.00260000000003,75 L388.00260000000003,75 M388.00440000000003,125 L375.00260000000003,125 M462.648,125 L475.00260000000003,125 M462.197,75 L475.00260000000003,75\" stroke-width=\"1\" stroke=\"black\" stroke-linejoin=\"miter\" fill=\"none\" />\n",
       "<text x=\"425\" y=\"88\" font-size=\"7\" text-anchor=\"middle\"><tspan x=\"425\" dy=\"0em\">Θ=6.008473</tspan><tspan x=\"425\" dy=\"1em\">Φ_tr=1.043623</tspan></text>\n",
       "<path d=\"M447,103 L457,103 L457,113 L447,113 Z\" stroke=\"black\" fill=\"thistle\" stroke-linejoin=\"miter\" />\n",
       "<text x=\"452\" y=\"110\" font-size=\"6\" text-anchor=\"middle\">Rx</text>\n",
       "<path d=\"M375,25.0 L475,25.0\" stroke=\"black\" stroke-width=\"1\" fill=\"none\" />\n",
       "<path d=\"M487.9442,25 C501.65380000000005,25,501.5924,50,515.3042,50 M515.306,50 C501.59440000000006,50,501.65600000000006,75,487.946,75 M515.306,50 L537.1906,50 M537.1906,50 C550.9022,50,550.8406,25,564.5506,25 M537.1908000000001,50 C550.9024000000001,50,550.8408000000001,75,564.5508000000001,75 M475.0026000000001,25 L488.0026000000001,25 M488.0044000000001,75 L475.0026000000001,75 M562.6480000000001,75 L575.0026000000001,75 M562.1970000000001,25 L575.0026000000001,25\" stroke-width=\"1\" stroke=\"black\" stroke-linejoin=\"miter\" fill=\"none\" />\n",
       "<text x=\"525\" y=\"38\" font-size=\"7\" text-anchor=\"middle\"><tspan x=\"525\" dy=\"0em\">Θ=6.321699</tspan><tspan x=\"525\" dy=\"1em\">Φ_tr=5.854615</tspan></text>\n",
       "<path d=\"M547,53 L557,53 L557,63 L547,63 Z\" stroke=\"black\" fill=\"thistle\" stroke-linejoin=\"miter\" />\n",
       "<text x=\"552\" y=\"60\" font-size=\"6\" text-anchor=\"middle\">Rx</text>\n",
       "<path d=\"M475,125.0 L575,125.0\" stroke=\"black\" stroke-width=\"1\" fill=\"none\" />\n",
       "<path d=\"M375,175.0 L575,175.0\" stroke=\"black\" stroke-width=\"1\" fill=\"none\" />\n",
       "<path d=\"M575,25.0 L590,25.0\" stroke-width=\"1\" stroke=\"black\" stroke-linejoin=\"miter\" fill=\"none\" />\n",
       "<path d=\"M575,75.0 L590,75.0\" stroke-width=\"1\" stroke=\"black\" stroke-linejoin=\"miter\" fill=\"none\" />\n",
       "<path d=\"M575,125.0 L590,125.0\" stroke-width=\"1\" stroke=\"black\" stroke-linejoin=\"miter\" fill=\"none\" />\n",
       "<path d=\"M575,175.0 L590,175.0\" stroke-width=\"1\" stroke=\"black\" stroke-linejoin=\"miter\" fill=\"none\" />\n",
       "<text x=\"600\" y=\"28.0\" font-size=\"6\" text-anchor=\"end\">0</text>\n",
       "<text x=\"600\" y=\"78.0\" font-size=\"6\" text-anchor=\"end\">1</text>\n",
       "<text x=\"600\" y=\"128.0\" font-size=\"6\" text-anchor=\"end\">2</text>\n",
       "<text x=\"600\" y=\"178.0\" font-size=\"6\" text-anchor=\"end\">3</text>\n",
       "<text x=\"0\" y=\"28.0\" font-size=\"6\" text-anchor=\"start\">0</text>\n",
       "<text x=\"0\" y=\"78.0\" font-size=\"6\" text-anchor=\"start\">1</text>\n",
       "<text x=\"0\" y=\"128.0\" font-size=\"6\" text-anchor=\"start\">2</text>\n",
       "<text x=\"0\" y=\"178.0\" font-size=\"6\" text-anchor=\"start\">3</text>\n",
       "</svg>"
      ],
      "text/plain": [
       "<drawsvg.drawing.Drawing at 0x14e7e7e8f90>"
      ]
     },
     "execution_count": 13,
     "metadata": {},
     "output_type": "execute_result"
    }
   ],
   "source": [
    "## From any unitary\n",
    "n = 4\n",
    "U = pcvl.Matrix.random_unitary(n)\n",
    "\n",
    "decomposed_circuit = pcvl.Circuit.decomposition(U, BS(theta=pcvl.P('theta'), phi_tr=pcvl.P('phi')), phase_shifter_fn=PS)\n",
    "pcvl.pdisplay(decomposed_circuit)"
   ]
  },
  {
   "cell_type": "code",
   "execution_count": 14,
   "id": "9815c6563b6f82e4",
   "metadata": {},
   "outputs": [
    {
     "name": "stdout",
     "output_type": "stream",
     "text": [
      "The error between the two unitaries is 1.2476641526041624e-08\n"
     ]
    }
   ],
   "source": [
    "print(\"The error between the two unitaries is\", np.linalg.norm(U - decomposed_circuit.compute_unitary()))"
   ]
  },
  {
   "cell_type": "code",
   "execution_count": 15,
   "id": "51f87403d1e89597",
   "metadata": {},
   "outputs": [],
   "source": [
    "## Exercise: decompose your unitary with only phase shifters and balanced beamsplitters.\n",
    "\n",
    "## Solution:\n",
    "mzi = pcvl.Circuit(2) // BS() // PS(pcvl.P(\"phi1\")) //  BS()  //  PS(pcvl.P(\"phi2\"))\n",
    "\n",
    "circuit_u = pcvl.Circuit.decomposition(U,mzi,phase_shifter_fn=PS)\n",
    "\n",
    "## Note: you can use a MZI. Be careful to put the phase on the right, as the full layer of phase_shifter_fn is on the left of the circuit"
   ]
  },
  {
   "cell_type": "code",
   "execution_count": 16,
   "id": "ca01a83116a0f458",
   "metadata": {},
   "outputs": [
    {
     "name": "stdout",
     "output_type": "stream",
     "text": [
      "The error between the two unitaries is 1.2227827145385507e-08\n"
     ]
    }
   ],
   "source": [
    "## Exercise: check the norm of the difference to be sure it has worked well\n",
    "\n",
    "## Solution:\n",
    "print(\"The error between the two unitaries is\", np.linalg.norm(U - circuit_u.compute_unitary()))"
   ]
  },
  {
   "cell_type": "markdown",
   "id": "a2b14d22cd2d5c23",
   "metadata": {},
   "source": [
    "### 4. Black Box\n",
    "\n",
    "To improve readability, the circuit can be constructed in multiple steps which are then combined as black boxes. This will also help when we'll need generic operations.\n"
   ]
  },
  {
   "cell_type": "code",
   "execution_count": 17,
   "id": "cf709468443d6fa4",
   "metadata": {},
   "outputs": [
    {
     "data": {
      "image/svg+xml": [
       "<?xml version=\"1.0\" encoding=\"UTF-8\"?>\n",
       "<svg xmlns=\"http://www.w3.org/2000/svg\" xmlns:xlink=\"http://www.w3.org/1999/xlink\"\n",
       "     width=\"257.5\" height=\"281.25\" viewBox=\"-28.0 0 206.0 225.0\">\n",
       "<defs>\n",
       "</defs>\n",
       "<path d=\"M10,25.0 L25,25.0\" stroke-width=\"1\" stroke=\"black\" stroke-linejoin=\"miter\" fill=\"none\" />\n",
       "<path d=\"M10,75.0 L25,75.0\" stroke-width=\"1\" stroke=\"black\" stroke-linejoin=\"miter\" fill=\"none\" />\n",
       "<path d=\"M10,125.0 L25,125.0\" stroke-width=\"1\" stroke=\"black\" stroke-linejoin=\"miter\" fill=\"none\" />\n",
       "<path d=\"M10,175.0 L25,175.0\" stroke-width=\"1\" stroke=\"black\" stroke-linejoin=\"miter\" fill=\"none\" />\n",
       "<path d=\"M25,25 L75,25\" stroke=\"black\" stroke-width=\"1\" fill=\"none\" />\n",
       "<path d=\"M25,75 L75,75\" stroke=\"black\" stroke-width=\"1\" fill=\"none\" />\n",
       "<path d=\"M25,125 L75,125\" stroke=\"black\" stroke-width=\"1\" fill=\"none\" />\n",
       "<path d=\"M25,175 L75,175\" stroke=\"black\" stroke-width=\"1\" fill=\"none\" />\n",
       "<path d=\"M27.5,2.5 L72.5,2.5 L72.5,197.5 L27.5,197.5 Z\" stroke=\"black\" fill=\"white\" stroke-linejoin=\"miter\" />\n",
       "<text x=\"35\" y=\"8\" font-size=\"4\" text-anchor=\"start\" font-weight=\"bold\">BELL STATE PREPAR.</text>\n",
       "<path d=\"M75,25 L125,25\" stroke=\"black\" stroke-width=\"1\" fill=\"none\" />\n",
       "<path d=\"M75,75 L125,75\" stroke=\"black\" stroke-width=\"1\" fill=\"none\" />\n",
       "<path d=\"M77.5,2.5 L122.5,2.5 L122.5,97.5 L77.5,97.5 Z\" stroke=\"black\" fill=\"white\" stroke-linejoin=\"miter\" />\n",
       "<text x=\"85\" y=\"8\" font-size=\"8\" text-anchor=\"start\" font-weight=\"bold\">UPPER MZI</text>\n",
       "<path d=\"M75,125 L125,125\" stroke=\"black\" stroke-width=\"1\" fill=\"none\" />\n",
       "<path d=\"M75,175 L125,175\" stroke=\"black\" stroke-width=\"1\" fill=\"none\" />\n",
       "<path d=\"M77.5,102.5 L122.5,102.5 L122.5,197.5 L77.5,197.5 Z\" stroke=\"black\" fill=\"white\" stroke-linejoin=\"miter\" />\n",
       "<text x=\"85\" y=\"108\" font-size=\"8\" text-anchor=\"start\" font-weight=\"bold\">LOWER MZI</text>\n",
       "<path d=\"M125,25.0 L140,25.0\" stroke-width=\"1\" stroke=\"black\" stroke-linejoin=\"miter\" fill=\"none\" />\n",
       "<path d=\"M125,75.0 L140,75.0\" stroke-width=\"1\" stroke=\"black\" stroke-linejoin=\"miter\" fill=\"none\" />\n",
       "<path d=\"M125,125.0 L140,125.0\" stroke-width=\"1\" stroke=\"black\" stroke-linejoin=\"miter\" fill=\"none\" />\n",
       "<path d=\"M125,175.0 L140,175.0\" stroke-width=\"1\" stroke=\"black\" stroke-linejoin=\"miter\" fill=\"none\" />\n",
       "<text x=\"150\" y=\"28.0\" font-size=\"6\" text-anchor=\"end\">0</text>\n",
       "<text x=\"150\" y=\"78.0\" font-size=\"6\" text-anchor=\"end\">1</text>\n",
       "<text x=\"150\" y=\"128.0\" font-size=\"6\" text-anchor=\"end\">2</text>\n",
       "<text x=\"150\" y=\"178.0\" font-size=\"6\" text-anchor=\"end\">3</text>\n",
       "<text x=\"0\" y=\"28.0\" font-size=\"6\" text-anchor=\"start\">0</text>\n",
       "<text x=\"0\" y=\"78.0\" font-size=\"6\" text-anchor=\"start\">1</text>\n",
       "<text x=\"0\" y=\"128.0\" font-size=\"6\" text-anchor=\"start\">2</text>\n",
       "<text x=\"0\" y=\"178.0\" font-size=\"6\" text-anchor=\"start\">3</text>\n",
       "</svg>"
      ],
      "text/plain": [
       "<drawsvg.drawing.Drawing at 0x14e7e7c3e90>"
      ]
     },
     "execution_count": 17,
     "metadata": {},
     "output_type": "execute_result"
    }
   ],
   "source": [
    "pre_MZI = (pcvl.Circuit(4, name=\"Bell State Prepar.\")\n",
    "           .add(0, BS())\n",
    "           .add(2, BS())\n",
    "           .add(1, PERM([1, 0])))\n",
    "\n",
    "upper_MZI = (pcvl.Circuit(2, name=\"upper MZI\")\n",
    "             .add(0, PS(phi=pcvl.P('phi_0')))\n",
    "             .add(0, BS())\n",
    "             .add(0, PS(phi=pcvl.P('phi_2')))\n",
    "             .add(0, BS()))\n",
    "\n",
    "lower_MZI = (pcvl.Circuit(2, name=\"lower MZI\")\n",
    "             .add(0, PS(phi=pcvl.P('phi_1')))\n",
    "             .add(0, BS())\n",
    "             .add(0, PS(phi=pcvl.P('phi_3')))\n",
    "             .add(0, BS()))\n",
    "\n",
    "chip = (pcvl.Circuit(4)\n",
    "              .add(0, pre_MZI)\n",
    "              .add(0, upper_MZI, merge=False)\n",
    "              .add(2, lower_MZI, merge=False))\n",
    "\n",
    "pcvl.pdisplay(chip)"
   ]
  },
  {
   "cell_type": "code",
   "execution_count": 18,
   "id": "abe53e206472fe27",
   "metadata": {},
   "outputs": [
    {
     "data": {
      "image/svg+xml": [
       "<?xml version=\"1.0\" encoding=\"UTF-8\"?>\n",
       "<svg xmlns=\"http://www.w3.org/2000/svg\" xmlns:xlink=\"http://www.w3.org/1999/xlink\"\n",
       "     width=\"745.0\" height=\"281.25\" viewBox=\"-68.0 0 596.0 225.0\">\n",
       "<defs>\n",
       "</defs>\n",
       "<path d=\"M10,25.0 L25,25.0\" stroke-width=\"1\" stroke=\"black\" stroke-linejoin=\"miter\" fill=\"none\" />\n",
       "<path d=\"M10,75.0 L25,75.0\" stroke-width=\"1\" stroke=\"black\" stroke-linejoin=\"miter\" fill=\"none\" />\n",
       "<path d=\"M10,125.0 L25,125.0\" stroke-width=\"1\" stroke=\"black\" stroke-linejoin=\"miter\" fill=\"none\" />\n",
       "<path d=\"M10,175.0 L25,175.0\" stroke-width=\"1\" stroke=\"black\" stroke-linejoin=\"miter\" fill=\"none\" />\n",
       "<path d=\"M27,2 L173,2 L173,198 L27,198 Z\" stroke=\"black\" fill=\"lightblue\" stroke-dasharray=\"1,2\" stroke-linejoin=\"miter\" />\n",
       "<text x=\"29\" y=\"205\" font-size=\"8\" text-anchor=\"start\">BELL STATE PREPAR.</text>\n",
       "<path d=\"M37.9442,25 C51.653800000000004,25,51.5924,50,65.30420000000001,50 M65.30600000000001,50 C51.59440000000001,50,51.65600000000001,75,37.94600000000001,75 M65.30600000000001,50 L87.19060000000002,50 M87.19060000000002,50 C100.90220000000002,50,100.84060000000002,25,114.55060000000002,25 M87.19080000000002,50 C100.90240000000003,50,100.84080000000003,75,114.55080000000002,75 M25.00260000000003,25 L38.00260000000003,25 M38.00440000000003,75 L25.002600000000033,75 M112.64800000000002,75 L125.00260000000003,75 M112.19700000000003,25 L125.00260000000003,25\" stroke-width=\"1\" stroke=\"black\" stroke-linejoin=\"miter\" fill=\"none\" />\n",
       "<text x=\"75\" y=\"38\" font-size=\"7\" text-anchor=\"middle\"></text>\n",
       "<path d=\"M97,53 L107,53 L107,63 L97,63 Z\" stroke=\"black\" fill=\"thistle\" stroke-linejoin=\"miter\" />\n",
       "<text x=\"102\" y=\"60\" font-size=\"6\" text-anchor=\"middle\">Rx</text>\n",
       "<path d=\"M37.9442,125 C51.653800000000004,125,51.5924,150,65.30420000000001,150 M65.30600000000001,150 C51.59440000000001,150,51.65600000000001,175,37.94600000000001,175 M65.30600000000001,150 L87.19060000000002,150 M87.19060000000002,150 C100.90220000000002,150,100.84060000000002,125,114.55060000000002,125 M87.19080000000002,150 C100.90240000000003,150,100.84080000000003,175,114.55080000000002,175 M25.00260000000003,125 L38.00260000000003,125 M38.00440000000003,175 L25.002600000000033,175 M112.64800000000002,175 L125.00260000000003,175 M112.19700000000003,125 L125.00260000000003,125\" stroke-width=\"1\" stroke=\"black\" stroke-linejoin=\"miter\" fill=\"none\" />\n",
       "<text x=\"75\" y=\"138\" font-size=\"7\" text-anchor=\"middle\"></text>\n",
       "<path d=\"M97,153 L107,153 L107,163 L97,163 Z\" stroke=\"black\" fill=\"thistle\" stroke-linejoin=\"miter\" />\n",
       "<text x=\"102\" y=\"160\" font-size=\"6\" text-anchor=\"middle\">Rx</text>\n",
       "<path d=\"M125,74.8 C145,75,155,125,175,125\" stroke-width=\"2\" stroke=\"white\" stroke-linejoin=\"miter\" fill=\"none\" />\n",
       "<path d=\"M125,75 C145,75,155,125,175,125\" stroke-width=\"1\" stroke=\"black\" stroke-linejoin=\"miter\" fill=\"none\" />\n",
       "<path d=\"M125,124.8 C145,125,155,75,175,75\" stroke-width=\"2\" stroke=\"white\" stroke-linejoin=\"miter\" fill=\"none\" />\n",
       "<path d=\"M125,125 C145,125,155,75,175,75\" stroke-width=\"1\" stroke=\"black\" stroke-linejoin=\"miter\" fill=\"none\" />\n",
       "<path d=\"M125,25.0 L175,25.0\" stroke=\"black\" stroke-width=\"1\" fill=\"none\" />\n",
       "<path d=\"M125,175.0 L175,175.0\" stroke=\"black\" stroke-width=\"1\" fill=\"none\" />\n",
       "<path d=\"M177,2 L473,2 L473,98 L177,98 Z\" stroke=\"black\" fill=\"lightblue\" stroke-dasharray=\"1,2\" stroke-linejoin=\"miter\" />\n",
       "<text x=\"179\" y=\"105\" font-size=\"8\" text-anchor=\"start\">UPPER MZI</text>\n",
       "<path d=\"M175,25 L195,25 M205,25 L225,25\" stroke-width=\"1\" stroke=\"black\" stroke-linejoin=\"miter\" fill=\"none\" />\n",
       "<path d=\"M190,15 L210,15 L210,35 L190,35 Z\" stroke=\"black\" fill=\"lightgray\" stroke-linejoin=\"miter\" />\n",
       "<text x=\"200\" y=\"44\" font-size=\"7\" text-anchor=\"middle\">Φ=phi_0</text>\n",
       "<path d=\"M175,75.0 L225,75.0\" stroke=\"black\" stroke-width=\"1\" fill=\"none\" />\n",
       "<path d=\"M237.9442,25 C251.6538,25,251.5924,50,265.3042,50 M265.306,50 C251.59439999999998,50,251.65599999999998,75,237.94599999999997,75 M265.306,50 L287.19059999999996,50 M287.19059999999996,50 C300.9022,50,300.8406,25,314.5506,25 M287.19079999999997,50 C300.90239999999994,50,300.84079999999994,75,314.5508,75 M225.00259999999997,25 L238.00259999999997,25 M238.00439999999998,75 L225.00259999999997,75 M312.64799999999997,75 L325.0026,75 M312.197,25 L325.00260000000003,25\" stroke-width=\"1\" stroke=\"black\" stroke-linejoin=\"miter\" fill=\"none\" />\n",
       "<text x=\"275\" y=\"38\" font-size=\"7\" text-anchor=\"middle\"></text>\n",
       "<path d=\"M297,53 L307,53 L307,63 L297,63 Z\" stroke=\"black\" fill=\"thistle\" stroke-linejoin=\"miter\" />\n",
       "<text x=\"302\" y=\"60\" font-size=\"6\" text-anchor=\"middle\">Rx</text>\n",
       "<path d=\"M325,25 L345,25 M355,25 L375,25\" stroke-width=\"1\" stroke=\"black\" stroke-linejoin=\"miter\" fill=\"none\" />\n",
       "<path d=\"M340,15 L360,15 L360,35 L340,35 Z\" stroke=\"black\" fill=\"lightgray\" stroke-linejoin=\"miter\" />\n",
       "<text x=\"350\" y=\"44\" font-size=\"7\" text-anchor=\"middle\">Φ=phi_2</text>\n",
       "<path d=\"M325,75.0 L375,75.0\" stroke=\"black\" stroke-width=\"1\" fill=\"none\" />\n",
       "<path d=\"M387.9442,25 C401.65380000000005,25,401.5924,50,415.30420000000004,50 M415.30600000000004,50 C401.59440000000006,50,401.65600000000006,75,387.946,75 M415.30600000000004,50 L437.1906,50 M437.1906,50 C450.9022,50,450.8406,25,464.55060000000003,25 M437.1908,50 C450.90240000000006,50,450.84080000000006,75,464.55080000000004,75 M375.00260000000003,25 L388.00260000000003,25 M388.00440000000003,75 L375.00260000000003,75 M462.648,75 L475.00260000000003,75 M462.197,25 L475.00260000000003,25\" stroke-width=\"1\" stroke=\"black\" stroke-linejoin=\"miter\" fill=\"none\" />\n",
       "<text x=\"425\" y=\"38\" font-size=\"7\" text-anchor=\"middle\"></text>\n",
       "<path d=\"M447,53 L457,53 L457,63 L447,63 Z\" stroke=\"black\" fill=\"thistle\" stroke-linejoin=\"miter\" />\n",
       "<text x=\"452\" y=\"60\" font-size=\"6\" text-anchor=\"middle\">Rx</text>\n",
       "<path d=\"M177,102 L473,102 L473,198 L177,198 Z\" stroke=\"black\" fill=\"lightblue\" stroke-dasharray=\"1,2\" stroke-linejoin=\"miter\" />\n",
       "<text x=\"179\" y=\"205\" font-size=\"8\" text-anchor=\"start\">LOWER MZI</text>\n",
       "<path d=\"M175,125 L195,125 M205,125 L225,125\" stroke-width=\"1\" stroke=\"black\" stroke-linejoin=\"miter\" fill=\"none\" />\n",
       "<path d=\"M190,115 L210,115 L210,135 L190,135 Z\" stroke=\"black\" fill=\"lightgray\" stroke-linejoin=\"miter\" />\n",
       "<text x=\"200\" y=\"144\" font-size=\"7\" text-anchor=\"middle\">Φ=phi_1</text>\n",
       "<path d=\"M175,175.0 L225,175.0\" stroke=\"black\" stroke-width=\"1\" fill=\"none\" />\n",
       "<path d=\"M237.9442,125 C251.6538,125,251.5924,150,265.3042,150 M265.306,150 C251.59439999999998,150,251.65599999999998,175,237.94599999999997,175 M265.306,150 L287.19059999999996,150 M287.19059999999996,150 C300.9022,150,300.8406,125,314.5506,125 M287.19079999999997,150 C300.90239999999994,150,300.84079999999994,175,314.5508,175 M225.00259999999997,125 L238.00259999999997,125 M238.00439999999998,175 L225.00259999999997,175 M312.64799999999997,175 L325.0026,175 M312.197,125 L325.00260000000003,125\" stroke-width=\"1\" stroke=\"black\" stroke-linejoin=\"miter\" fill=\"none\" />\n",
       "<text x=\"275\" y=\"138\" font-size=\"7\" text-anchor=\"middle\"></text>\n",
       "<path d=\"M297,153 L307,153 L307,163 L297,163 Z\" stroke=\"black\" fill=\"thistle\" stroke-linejoin=\"miter\" />\n",
       "<text x=\"302\" y=\"160\" font-size=\"6\" text-anchor=\"middle\">Rx</text>\n",
       "<path d=\"M325,125 L345,125 M355,125 L375,125\" stroke-width=\"1\" stroke=\"black\" stroke-linejoin=\"miter\" fill=\"none\" />\n",
       "<path d=\"M340,115 L360,115 L360,135 L340,135 Z\" stroke=\"black\" fill=\"lightgray\" stroke-linejoin=\"miter\" />\n",
       "<text x=\"350\" y=\"144\" font-size=\"7\" text-anchor=\"middle\">Φ=phi_3</text>\n",
       "<path d=\"M325,175.0 L375,175.0\" stroke=\"black\" stroke-width=\"1\" fill=\"none\" />\n",
       "<path d=\"M387.9442,125 C401.65380000000005,125,401.5924,150,415.30420000000004,150 M415.30600000000004,150 C401.59440000000006,150,401.65600000000006,175,387.946,175 M415.30600000000004,150 L437.1906,150 M437.1906,150 C450.9022,150,450.8406,125,464.55060000000003,125 M437.1908,150 C450.90240000000006,150,450.84080000000006,175,464.55080000000004,175 M375.00260000000003,125 L388.00260000000003,125 M388.00440000000003,175 L375.00260000000003,175 M462.648,175 L475.00260000000003,175 M462.197,125 L475.00260000000003,125\" stroke-width=\"1\" stroke=\"black\" stroke-linejoin=\"miter\" fill=\"none\" />\n",
       "<text x=\"425\" y=\"138\" font-size=\"7\" text-anchor=\"middle\"></text>\n",
       "<path d=\"M447,153 L457,153 L457,163 L447,163 Z\" stroke=\"black\" fill=\"thistle\" stroke-linejoin=\"miter\" />\n",
       "<text x=\"452\" y=\"160\" font-size=\"6\" text-anchor=\"middle\">Rx</text>\n",
       "<path d=\"M475,25.0 L490,25.0\" stroke-width=\"1\" stroke=\"black\" stroke-linejoin=\"miter\" fill=\"none\" />\n",
       "<path d=\"M475,75.0 L490,75.0\" stroke-width=\"1\" stroke=\"black\" stroke-linejoin=\"miter\" fill=\"none\" />\n",
       "<path d=\"M475,125.0 L490,125.0\" stroke-width=\"1\" stroke=\"black\" stroke-linejoin=\"miter\" fill=\"none\" />\n",
       "<path d=\"M475,175.0 L490,175.0\" stroke-width=\"1\" stroke=\"black\" stroke-linejoin=\"miter\" fill=\"none\" />\n",
       "<text x=\"500\" y=\"28.0\" font-size=\"6\" text-anchor=\"end\">0</text>\n",
       "<text x=\"500\" y=\"78.0\" font-size=\"6\" text-anchor=\"end\">1</text>\n",
       "<text x=\"500\" y=\"128.0\" font-size=\"6\" text-anchor=\"end\">2</text>\n",
       "<text x=\"500\" y=\"178.0\" font-size=\"6\" text-anchor=\"end\">3</text>\n",
       "<text x=\"0\" y=\"28.0\" font-size=\"6\" text-anchor=\"start\">0</text>\n",
       "<text x=\"0\" y=\"78.0\" font-size=\"6\" text-anchor=\"start\">1</text>\n",
       "<text x=\"0\" y=\"128.0\" font-size=\"6\" text-anchor=\"start\">2</text>\n",
       "<text x=\"0\" y=\"178.0\" font-size=\"6\" text-anchor=\"start\">3</text>\n",
       "</svg>"
      ],
      "text/plain": [
       "<drawsvg.drawing.Drawing at 0x14e7e7b6cd0>"
      ]
     },
     "execution_count": 18,
     "metadata": {},
     "output_type": "execute_result"
    }
   ],
   "source": [
    "## You can still display the inside of black boxes with:\n",
    "pcvl.pdisplay(chip, recursive=True)"
   ]
  },
  {
   "cell_type": "markdown",
   "id": "7eee213ec96f13ef",
   "metadata": {},
   "source": [
    "## III. Simulation <a name=\"simulation\"></a>\n",
    "\n",
    "Up to this point, we have focused on creating circuits.\n",
    "It's time to learn how to sample from them or describe their output distribution, on many different inputs.\n",
    "\n"
   ]
  },
  {
   "cell_type": "markdown",
   "id": "193c7679220a112",
   "metadata": {},
   "source": [
    "### 1. Computing probabilities\n",
    "\n",
    "For this part, we will take the [Hong-Ou-Mandel](https://en.wikipedia.org/wiki/Hong%E2%80%93Ou%E2%80%93Mandel_effect) experience as an example.\n",
    "\n",
    "It's one of the simplest experiments and yet it is very useful.\n",
    "\n",
    "Making two indistinguishable photons, one in each mode, enter one balanced beamsplitter $BS=\\frac{1}{\\sqrt{2}} \\left[\\begin{matrix}1 & 1\\\\1& -1\\end{matrix}\\right]$, we expect the outcome to be:\n",
    "\n",
    "$$|1,1\\rangle \\mapsto \\frac{|2,0\\rangle - |0,2\\rangle}{\\sqrt{2}}  $$\n",
    "\n",
    "We will show how to verify this in the next steps using the Naive backend to recover the full probability distribution."
   ]
  },
  {
   "cell_type": "code",
   "execution_count": 19,
   "id": "4e243081e7014bb",
   "metadata": {},
   "outputs": [],
   "source": [
    "## Exercise: build the circuit using the convention above\n",
    "\n",
    "## Solution:\n",
    "circuit = pcvl.Circuit(2) // BS.H()"
   ]
  },
  {
   "cell_type": "code",
   "execution_count": 20,
   "id": "1cb2c4e4d75d3781",
   "metadata": {},
   "outputs": [
    {
     "name": "stdout",
     "output_type": "stream",
     "text": [
      "(0.7071067811865477+0j)\n",
      "(-0.7071067811865477+0j)\n",
      "0.5000000000000002\n"
     ]
    },
    {
     "data": {
      "text/html": [
       "<table>\n",
       "<thead>\n",
       "<tr><th>     </th><th>|2,0&gt;  </th><th>|0,2&gt;  </th><th style=\"text-align: right;\">  |1,1&gt;</th></tr>\n",
       "</thead>\n",
       "<tbody>\n",
       "<tr><td>|1,1&gt;</td><td>1/2    </td><td>1/2    </td><td style=\"text-align: right;\">      0</td></tr>\n",
       "</tbody>\n",
       "</table>"
      ],
      "text/plain": [
       "<IPython.core.display.HTML object>"
      ]
     },
     "metadata": {},
     "output_type": "display_data"
    }
   ],
   "source": [
    "# Syntax to compute the amplitudes\n",
    "backend = pcvl.BackendFactory.get_backend(\"SLOS\")\n",
    "backend.set_circuit(circuit)\n",
    "backend.set_input_state(pcvl.BasicState([1, 1]))\n",
    "print(backend.prob_amplitude(pcvl.BasicState([2, 0])))  # note that it's the amplitude !\n",
    "print(backend.prob_amplitude(pcvl.BasicState([0, 2])))\n",
    "print(backend.probability(pcvl.BasicState([0, 2])))\n",
    "\n",
    "\n",
    "## We can also use the Analyser module to compute a table of probabilities\n",
    "## The Analyser uses a Processor to work with. A Processor aims at simulating a photonic source plugged into a circuit\n",
    "## with a given backend.\n",
    "## The main syntax is :\n",
    "## >>> p = pcvl.Processor(backend_name, circuit, noise=NoiseModel)\n",
    "from perceval.algorithm import Analyzer\n",
    "\n",
    "p = pcvl.Processor(\"SLOS\", BS())\n",
    "analyzer = Analyzer(p, [pcvl.BasicState([1, 1])], '*')  # '*' means all possible output states\n",
    "pcvl.pdisplay(analyzer)"
   ]
  },
  {
   "cell_type": "code",
   "execution_count": 21,
   "id": "ccde80d07beaae2f",
   "metadata": {},
   "outputs": [
    {
     "data": {
      "text/html": [
       "<table>\n",
       "<thead>\n",
       "<tr><th>       </th><th style=\"text-align: right;\">  |1,1,0&gt;</th><th style=\"text-align: right;\">  |0,1,1&gt;</th><th style=\"text-align: right;\">  |1,0,1&gt;</th><th style=\"text-align: right;\">  |0,2,0&gt;</th><th style=\"text-align: right;\">  |0,0,2&gt;</th><th style=\"text-align: right;\">  |2,0,0&gt;</th></tr>\n",
       "</thead>\n",
       "<tbody>\n",
       "<tr><td>|1,1,0&gt;</td><td style=\"text-align: right;\"> 0.652942</td><td style=\"text-align: right;\"> 0.056669</td><td style=\"text-align: right;\"> 0.112527</td><td style=\"text-align: right;\"> 0.102621</td><td style=\"text-align: right;\"> 0.023129</td><td style=\"text-align: right;\"> 0.052112</td></tr>\n",
       "</tbody>\n",
       "</table>"
      ],
      "text/plain": [
       "<IPython.core.display.HTML object>"
      ]
     },
     "metadata": {},
     "output_type": "display_data"
    }
   ],
   "source": [
    "## Exercise:  Choose a random unitary 3x3 U, and output the table probabilities when the input |1,1,0> passes through the LO-Circuit of unitary U.\n",
    "\n",
    "## Solution:\n",
    "randU = pcvl.Unitary(pcvl.Matrix.random_unitary(3))\n",
    "input = pcvl.BasicState([1, 1, 0])\n",
    "\n",
    "p = pcvl.Processor(\"SLOS\", randU)  #We can put in the processor a pcvl.Unitary instead of a circuit ! We don't need to use pcvl.decomposition\n",
    "analyzer = pcvl.algorithm.Analyzer(p, [input], '*')\n",
    "pcvl.pdisplay(analyzer)"
   ]
  },
  {
   "cell_type": "markdown",
   "id": "fcb164be71b82f87",
   "metadata": {},
   "source": [
    "### 2. Sampling\n",
    "\n",
    "Although it's crucial to compute the output distribution, it's not what we can expect from a photonic chip. Indeed, realistically, we only can obtain a single sample from the distribution each time we run the circuit. This can be done using the backend SLOS.\n",
    "\n"
   ]
  },
  {
   "cell_type": "code",
   "execution_count": 22,
   "id": "d23f91396596909f",
   "metadata": {},
   "outputs": [
    {
     "name": "stdout",
     "output_type": "stream",
     "text": [
      "{\n",
      "  |2,0>: 491\n",
      "  |0,2>: 509\n",
      "}\n"
     ]
    }
   ],
   "source": [
    "from perceval.algorithm import Sampler  # import the Sampler class\n",
    "\n",
    "p = pcvl.Processor(\"SLOS\", BS())\n",
    "p.min_detected_photons_filter(0)  # Do not filter out any output state\n",
    "p.with_input(pcvl.BasicState([1,1]))\n",
    "\n",
    "# The sampler holds 'probs', 'sample_count' and 'samples' calls. You can use the one that fits your needs!\n",
    "sampler = Sampler(p)\n",
    "\n",
    "# A sampler call will return a Python dictionary containing sampling results, and two performance scores\n",
    "# sample_count = sampler.sample_count(1000)\n",
    "# sample_count contains {'results': <actual count>, 'physical_perf': float [0.0 - 1.0], 'logical_perf': float [0.0 - 1.0]}\n",
    "sample_count = sampler.sample_count(1000)\n",
    "print(sample_count['results'])"
   ]
  },
  {
   "cell_type": "code",
   "execution_count": 23,
   "id": "1c3f32c68453b193",
   "metadata": {},
   "outputs": [
    {
     "name": "stdout",
     "output_type": "stream",
     "text": [
      "{\n",
      "  |0,2,0>: 108\n",
      "  |1,1,0>: 645\n",
      "  |0,0,2>: 15\n",
      "  |0,1,1>: 48\n",
      "  |2,0,0>: 58\n",
      "  |1,0,1>: 126\n",
      "}\n"
     ]
    }
   ],
   "source": [
    "## Exercise: Implement the code to sample from the 3x3 Unitary of earlier\n",
    "\n",
    "#Solution:\n",
    "p = pcvl.Processor(\"CliffordClifford2017\", randU)\n",
    "p.min_detected_photons_filter(0)  # Do not filter out any output state\n",
    "p.with_input(pcvl.BasicState([1, 1, 0]))\n",
    "\n",
    "sampler = pcvl.algorithm.Sampler(p)\n",
    "sample_count = sampler.sample_count(1000)\n",
    "print(sample_count['results'])\n",
    "\n",
    "## Question: How many states do we have for 3 modes and 2 photons?\n",
    "## Answer: There are 6 different states\n",
    "\n",
    "\n",
    "## Question: How many states do we have for m modes and n photons?\n",
    "## Answer: There are m+n-1 choose n different states (cf Bar and Star problems)."
   ]
  },
  {
   "cell_type": "markdown",
   "id": "9d1b9ac284c9a74f",
   "metadata": {},
   "source": [
    "Note : to approximate with decent precision a distribution over $M$ different states, we would need $M^2$ samples. This can be shown by [Hoeffding's inequality](https://en.wikipedia.org/wiki/Hoeffding%27s_inequality)."
   ]
  },
  {
   "cell_type": "markdown",
   "id": "8a95fd9afb880490",
   "metadata": {},
   "source": [
    "### 3. Performance and output state filtering\n",
    "\n",
    "Perceval Processors have a built-in way of computing performance scores.\n",
    "\n",
    "There are two different performance scores:\n",
    "* Physical performance\n",
    "* Logical performance\n",
    "\n",
    "These performance scores help measure the real duration of a data acquisition on a real QPU.\n",
    "\n",
    "The global performance, which is the product of both physical and logical performances, is always returned.\n",
    "The physical and logical performances can be returned by setting:\n",
    "> proc.compute_physical_logical_perf(True)\n",
    "\n",
    "#### a. Physical performance\n",
    "\n",
    "This score is related to the number of detections (on a QPU: number of clicks). It drops output states where photons have been lost, or finish in the same mode.\n",
    "\n",
    "For instance, an imperfect source makes this score drop.\n",
    "\n",
    "However, you can choose not to filter any output state by lowering the expected clicks with:\n",
    "> proc.min_detected_photons_filter(0)\n",
    "\n",
    "##### Processor.min_detected_photons_filter method\n",
    "\n",
    "Perceval aims at being an interface for the QPU and as such, proc.min_detected_photons_filter(int k) post selects on having at least k photons detected (for threshold detection: photons on at least k different modes). By default, this value is set to n where n is the expected number of input photons. This is useful for retrieving a logical interpretation, making sure that no photon has been lost due to noise and coherent with the use of threshold detectors. However, for various applications (for instance machine learning where we use the full Fock space and resolve the number of photons, you will have to set it to 0 (and you may introduce you own post selection scheme if needed)."
   ]
  },
  {
   "cell_type": "code",
   "execution_count": 24,
   "id": "9b761881298edb33",
   "metadata": {},
   "outputs": [
    {
     "name": "stdout",
     "output_type": "stream",
     "text": [
      "Physical perf of perfect processor = 1\n",
      "Physical perf of imperfect processor = 0.08999999999999997\n",
      "Physical perf of imperfect processor (without selection) = 1\n"
     ]
    }
   ],
   "source": [
    "# Create an empty circuit (each input mode is directly connected to a detector without interacting with any other)\n",
    "empty_circuit = pcvl.Circuit(4)\n",
    "\n",
    "perfect_proc = pcvl.Processor(\"SLOS\", empty_circuit)\n",
    "imperfect_proc = pcvl.Processor(\"SLOS\", empty_circuit, noise=pcvl.NoiseModel(brightness=0.3))\n",
    "\n",
    "# We need to specify how many photons we want\n",
    "perfect_proc.min_detected_photons_filter(2)\n",
    "imperfect_proc.min_detected_photons_filter(2)\n",
    "\n",
    "# Set the same input in both processors\n",
    "input_state = pcvl.BasicState([1, 0, 1, 0])\n",
    "perfect_proc.with_input(input_state)\n",
    "imperfect_proc.with_input(input_state)\n",
    "\n",
    "# Enable the computation of physical performance\n",
    "perfect_proc.compute_physical_logical_perf(True)\n",
    "imperfect_proc.compute_physical_logical_perf(True)\n",
    "\n",
    "perfect_sampler = pcvl.algorithm.Sampler(perfect_proc)\n",
    "perfect_probs = perfect_sampler.probs()\n",
    "imperfect_sampler = pcvl.algorithm.Sampler(imperfect_proc)\n",
    "imperfect_probs = imperfect_sampler.probs()\n",
    "\n",
    "print('Physical perf of perfect processor =', perfect_probs['physical_perf'])\n",
    "print('Physical perf of imperfect processor =', imperfect_probs['physical_perf'])  # source emission probability**2\n",
    "\n",
    "# You can still disable output state filtering\n",
    "imperfect_proc.min_detected_photons_filter(0)\n",
    "imperfect_probs = imperfect_sampler.probs()\n",
    "print('Physical perf of imperfect processor (without selection) =', imperfect_probs['physical_perf'])"
   ]
  },
  {
   "cell_type": "markdown",
   "id": "5ca337fb78d19177",
   "metadata": {},
   "source": [
    "#### b. Logical performance\n",
    "\n",
    "This performance computation is set up by heralded modes and/or post-selection function set in a processor.\n",
    "\n",
    "Depending on the circuit used, on the post-selection function, you may observe that physical and logical performance score interact. So, if you're interested on a theoretical gate performance, you should disable physical post-selection with:\n",
    "> proc.min_detected_photons_filter(- sum(proc.heralds.values()))\n",
    "\n",
    "or by computing the global performance as\n",
    "> global_perf = res[\"physical_perf\"] * res[\"logical_perf\"]\n",
    "\n",
    "Here is a quick example of the heralding / post-selection syntax in Perceval. You will see the result later on in this notebook."
   ]
  },
  {
   "cell_type": "code",
   "execution_count": 25,
   "id": "1f566acab9bc2ddc",
   "metadata": {},
   "outputs": [
    {
     "name": "stdout",
     "output_type": "stream",
     "text": [
      "With herald only\n",
      "Logical perf = 0.7500000000000003\n",
      "{\n",
      "\t|1,0>: 0.02859547920896832\n",
      "\t|0,1>: 0.9714045207910317\n",
      "}\n",
      "With herald + post-selection function\n",
      "Logical perf = 0.7285533905932741\n",
      "{\n",
      "\t|0,1>: 1\n",
      "}\n"
     ]
    }
   ],
   "source": [
    "circuit = pcvl.Circuit(3) // BS() // (1, BS()) // BS()\n",
    "p = pcvl.Processor(\"SLOS\", circuit)\n",
    "p.add_herald(2, 0)  # Third mode is heralded (0 photon in, 0 photon expected out)\n",
    "\n",
    "p.min_detected_photons_filter(1)  # Only non-heralded modes must be taken into account in this filter\n",
    "\n",
    "# Enable the computation of logical performance\n",
    "p.compute_physical_logical_perf(True)\n",
    "\n",
    "# After a mode is heralded, you must not take it into account when setting an input to the processor\n",
    "p.with_input(pcvl.BasicState([1, 0]))\n",
    "sampler = pcvl.algorithm.Sampler(p)\n",
    "probs = sampler.probs()\n",
    "print(\"With herald only\")\n",
    "print(\"Logical perf =\", probs['logical_perf'])\n",
    "print(probs['results'])\n",
    "\n",
    "# A post-selection function can be created like this:\n",
    "postselect_func = pcvl.PostSelect(\"[1] == 1\")  # meaning we required 1 photon detection in mode #1\n",
    "\n",
    "p.set_postselection(postselect_func)  # Add post-selection\n",
    "probs = sampler.probs()\n",
    "print(\"With herald + post-selection function\")\n",
    "print(\"Logical perf =\", probs['logical_perf'])\n",
    "print(probs['results'])"
   ]
  },
  {
   "cell_type": "markdown",
   "id": "64acbc8671fd0848",
   "metadata": {},
   "source": [
    "### 4. Variational algorithm\n",
    "\n",
    "In variational algorithms, the samples from a quantum circuit allow us to approximate an expectation value, which is then used to determine the value of a loss function. This loss function is chosen such that minimising it yields a solution to a given problem. By changing the values of the parameters in our quantum circuit, we can search for this minimum.\n",
    "\n",
    "We won't go into the details of variational algorithms. However, it may be useful to see how to perform an optimisation with Perceval.\n",
    "\n",
    "We will use the library [scipy.optimise](https://docs.scipy.org/doc/scipy/reference/generated/scipy.optimize.minimize.html#scipy.optimize.minimize).\n",
    "\n",
    "The following code solves the problem of finding an LO-Circuit which, given a Fock State $|1,1,1,1\\rangle$, maximises the probability of outputting $|4,0,0,0\\rangle$.\n",
    "The solution below works for an arbitrary $n$."
   ]
  },
  {
   "cell_type": "code",
   "execution_count": 26,
   "id": "3aecdf5ca591c8bd",
   "metadata": {},
   "outputs": [
    {
     "name": "stdout",
     "output_type": "stream",
     "text": [
      "The maximum probability is 0.09374999843206923\n"
     ]
    },
    {
     "data": {
      "text/plain": [
       "0.09374999999999999"
      ]
     },
     "execution_count": 26,
     "metadata": {},
     "output_type": "execute_result"
    }
   ],
   "source": [
    "import random\n",
    "from scipy import optimize\n",
    "\n",
    "# Data\n",
    "n = 4\n",
    "input = pcvl.BasicState([1]*n)\n",
    "output_to_max = pcvl.BasicState([n]+[0]*(n-1))\n",
    "backend = pcvl.SLOSBackend()\n",
    "\n",
    "# TO-DO: implement a generic circuit of size n with parameters. Code the loss function to maximise the good output. Launch the optimisation procedure. Output the probability and circuit obtained\n",
    "\n",
    "# We take a universal circuit\n",
    "circuit = pcvl.GenericInterferometer(n,\n",
    "    lambda i: BS(theta=pcvl.P(f\"theta{i}\"), phi_tr=pcvl.P(f\"phi_tr{i}\")),\n",
    "    phase_shifter_fun_gen=lambda i: PS(phi=pcvl.P(f\"phi{i}\")))\n",
    "param_circuit = circuit.get_parameters()\n",
    "params_init = [random.random()*np.pi for _ in param_circuit]\n",
    "\n",
    "\n",
    "def loss_function(params):\n",
    "    for i, value in enumerate(params):\n",
    "        param_circuit[i].set_value(value)\n",
    "    backend.set_circuit(circuit)\n",
    "    backend.set_input_state(input)\n",
    "    return -backend.probability(output_to_max)  # we want to maximise the prob, so we want to minimise the -prob\n",
    "\n",
    "\n",
    "# Run the optimisation\n",
    "o = optimize.minimize(loss_function, params_init, method=\"Powell\")\n",
    "\n",
    "print(f\"The maximum probability is {-loss_function(o.x)}\")\n",
    "\n",
    "# For n=4, the probability should be 3/32\n",
    "# The maximum can also be obtained with the Hadamard matrix :\n",
    "\n",
    "H4 = (1/2)*np.array([[1,1,1,1], [1,-1,1,-1], [1,1,-1,-1], [1,-1,-1,1]])\n",
    "backend.set_circuit(pcvl.Unitary(pcvl.Matrix(H4)))\n",
    "backend.set_input_state(input)\n",
    "backend.probability(output_to_max)"
   ]
  },
  {
   "cell_type": "markdown",
   "id": "d38566dd4edc51cb",
   "metadata": {},
   "source": [
    "### 5. To go further : connect to a chip\n",
    "\n",
    "Perceval is also connected to real/physical chips.\n",
    "Here's the syntax to sample directly from them !\n",
    "\n",
    "See: [Remote computing](https://perceval.quandela.net/docs/notebooks/Remote_computing.html)"
   ]
  },
  {
   "cell_type": "markdown",
   "id": "4389c7454c9df6ed",
   "metadata": {},
   "source": [
    "## IV. Encoding Qubits <a name=\"encoding\"></a>"
   ]
  },
  {
   "cell_type": "markdown",
   "id": "1466c1c1e3f9dcfc",
   "metadata": {},
   "source": [
    "### 1. Path encoding\n",
    "\n",
    "To perform quantum computations using photons, we need an encoding: a mapping between our Fock states and our qubit states.\n",
    "\n",
    "We therefore want to associate each qubit state with one of our Fock states.\n",
    "\n",
    "One natural way to encode qubits is the path encoding.\n",
    "A qubit is a two-level quantum state, so we will use two spatial modes to encode it: this is the dual-rail or path encoding.\n",
    "\n",
    "The logical qubit state $|0\\rangle_L$ will correspond to a photon in the upper mode, as in the Fock state $|1,0\\rangle$, while $|1\\rangle_L$ will be encoded as $|0,1\\rangle$.\n",
    "\n",
    "\n",
    "We can extend this to multiple qubits by having twice as many modes as there are qubits. For example the $3$-qubit state $\\frac{1}{\\sqrt{2}}(|000\\rangle_L+|111\\rangle_L)$ can be encoded with $3$ photons and $3\\times 2=6$ modes :\n",
    "$\\frac{1}{\\sqrt{2}}(|1,0,1,0,1,0\\rangle+|0,1,0,1,0,1\\rangle)$"
   ]
  },
  {
   "cell_type": "markdown",
   "id": "29a178f67ba2014b",
   "metadata": {},
   "source": [
    "### 2. Single-qubit gates\n",
    "\n",
    "Using the dual-rail encoding, single-qubit gates only deal with one photon and are straightforward. Can you give the LO-circuits for the gates below?"
   ]
  },
  {
   "cell_type": "markdown",
   "id": "f2b377f3cf2ba798",
   "metadata": {},
   "source": [
    "$$X=\\left[\\begin{matrix}0 & 1\\\\1& 0\\end{matrix}\\right]$$\n",
    "$$Y=\\left[\\begin{matrix}0 & -i\\\\i& 0\\end{matrix}\\right]$$\n",
    "$$Z=\\left[\\begin{matrix}1 & 0\\\\0& -1\\end{matrix}\\right]$$\n",
    "$$H=\\frac{1}{\\sqrt{2}} \\left[\\begin{matrix}1 & 1\\\\1& -1\\end{matrix}\\right]$$\n",
    "\n",
    "$$R_X=\\left[\\begin{matrix}\\cos{\\left(\\frac{\\theta}{2} \\right)} & -i \\sin{\\left(\\frac{\\theta}{2} \\right)}\\\\-i \\sin{\\left(\\frac{\\theta}{2} \\right)} & \\cos{\\left(\\frac{\\theta}{2} \\right)}\\end{matrix}\\right]$$\n",
    "\n",
    "$$R_Y=\\left[\\begin{matrix}\\cos{\\left(\\frac{\\theta}{2} \\right)} & - \\sin{\\left(\\frac{\\theta}{2} \\right)}\\\\ \\sin{\\left(\\frac{\\theta}{2} \\right)} & \\cos{\\left(\\frac{\\theta}{2} \\right)}\\end{matrix}\\right]$$\n",
    "\n",
    "$$R_Z=\\left[\\begin{matrix}e^{-i\\frac{\\theta}{2}} & 0 \\\\ 0 & e^{i\\frac{\\theta}{2}}\\end{matrix}\\right]$$"
   ]
  },
  {
   "cell_type": "code",
   "execution_count": 27,
   "id": "6454ec6a7c9dc54c",
   "metadata": {},
   "outputs": [],
   "source": [
    "## Exercise: find the LO-circuits for each gate\n",
    "\n",
    "## Solution:\n",
    "circuit_x = PERM([1, 0])  # it's not the only way\n",
    "circuit_y = PERM([1, 0]) // (0, PS(-np.pi/2)) // (1, PS(np.pi/2))\n",
    "circuit_z = pcvl.Circuit(2) // (1, PS(np.pi))\n",
    "circuit_h = BS.H()\n",
    "\n",
    "circuit_rx = pcvl.Circuit(2) // (0, PS(np.pi)) // BS.Rx(theta=pcvl.P(\"theta\")) // (0, PS(np.pi))\n",
    "circuit_ry = BS.Ry(theta=pcvl.P(\"theta\"))\n",
    "circuit_rz = BS.H() // circuit_rx // BS.H()  # Indeed, Rz = H Rx H"
   ]
  },
  {
   "cell_type": "markdown",
   "id": "25211c74b118d858",
   "metadata": {},
   "source": [
    "### 3. Two-qubit gates\n",
    "\n",
    "On the other hand, in dual-rail encoding, it can be shown that two-qubit gates can't be deterministic, and have a probability to fail.\n",
    "\n",
    "There are two ways to detect that failure:\n",
    "\n",
    "- We can use additional photons called ancillas, which we can measure independently from the main circuit photons. Depending on the state obtained on the ancilla, we know whether the gate has succeeded or not on the main qubits. Those gates will be called heralded.\n",
    "- We can also directly measure the main circuit qubits, and depending on the result, assess whether the gate has succeeded or not. Those gates will be called postselected.\n",
    "\n",
    "The CNOT gate acts on two qubits, a control and a target, and flips the value of the target if the control qubit is in state $|1\\rangle_L$. In the following two exercises, we will see the two types of CNOT gates:\n",
    "- the postselected CNOT of [Ralph et al.](https://arxiv.org/abs/quant-ph/0112088)\n",
    "- the heralded CNOT of [Knill](https://arxiv.org/abs/quant-ph/0110144)"
   ]
  },
  {
   "cell_type": "code",
   "execution_count": 28,
   "id": "e52f8f097232578f",
   "metadata": {},
   "outputs": [
    {
     "name": "stdout",
     "output_type": "stream",
     "text": [
      "['klm cnot', 'heralded cnot', 'postprocessed cnot', 'heralded cz', 'postprocessed cz', 'generic 2 mode circuit', 'mzi phase first', 'mzi phase last', 'symmetric mzi', 'postprocessed ccz', 'toffoli', 'postprocessed controlled gate', 'x', 'y', 'z', 'h', 'rx', 'ry', 'rz', 'ph', 's', 'sdag', 't', 'tdag', 'qloq ansatz']\n"
     ]
    }
   ],
   "source": [
    "## We introduce the component catalog. It contains both CNOT gates.\n",
    "from perceval.components import catalog\n",
    "print(catalog.list())"
   ]
  },
  {
   "cell_type": "code",
   "execution_count": 29,
   "id": "2863f407fa86d21a",
   "metadata": {},
   "outputs": [
    {
     "name": "stdout",
     "output_type": "stream",
     "text": [
      "POSTPROCESSED CNOT DOCUMENTATION\n",
      "---------------------------------\n",
      "\n",
      "CNOT gate with 2 heralded modes and a post-selection function\n",
      "\n",
      "Scientific article reference: https://journals.aps.org/pra/abstract/10.1103/PhysRevA.65.062324\n",
      "\n",
      "Schema:\n",
      "                      ╭─────╮\n",
      "ctrl (dual rail) ─────┤     ├───── ctrl (dual rail)\n",
      "                 ─────┤     ├─────\n",
      "                      │     │\n",
      "data (dual rail) ─────┤     ├───── data (dual rail)\n",
      "                 ─────┤     ├─────\n",
      "                      ╰─────╯\n",
      "\n",
      "See also: klm cnot and heralded cnot (using cz)\n",
      "\n"
     ]
    },
    {
     "data": {
      "image/svg+xml": [
       "<?xml version=\"1.0\" encoding=\"UTF-8\"?>\n",
       "<svg xmlns=\"http://www.w3.org/2000/svg\" xmlns:xlink=\"http://www.w3.org/1999/xlink\"\n",
       "     width=\"879.6875\" height=\"507.8125\" viewBox=\"-68.0 0 563.0 325.0\">\n",
       "<defs>\n",
       "</defs>\n",
       "<path d=\"M10,25.0 L25,25.0\" stroke-width=\"1\" stroke=\"black\" stroke-linejoin=\"miter\" fill=\"none\" />\n",
       "<path d=\"M10,75.0 L25,75.0\" stroke-width=\"1\" stroke=\"black\" stroke-linejoin=\"miter\" fill=\"none\" />\n",
       "<path d=\"M10,125.0 L25,125.0\" stroke-width=\"1\" stroke=\"black\" stroke-linejoin=\"miter\" fill=\"none\" />\n",
       "<path d=\"M10,175.0 L25,175.0\" stroke-width=\"1\" stroke=\"black\" stroke-linejoin=\"miter\" fill=\"none\" />\n",
       "<path d=\"M27,2 L423,2 L423,298 L27,298 Z\" stroke=\"black\" fill=\"lightblue\" stroke-dasharray=\"1,2\" stroke-linejoin=\"miter\" />\n",
       "<text x=\"29\" y=\"305\" font-size=\"8\" text-anchor=\"start\">POSTPROCESSED CNOT</text>\n",
       "<path d=\"M37.9442,125 C51.653800000000004,125,51.5924,150,65.30420000000001,150 M65.30600000000001,150 C51.59440000000001,150,51.65600000000001,175,37.94600000000001,175 M65.30600000000001,150 L87.19060000000002,150 M87.19060000000002,150 C100.90220000000002,150,100.84060000000002,125,114.55060000000002,125 M87.19080000000002,150 C100.90240000000003,150,100.84080000000003,175,114.55080000000002,175 M25.00260000000003,125 L38.00260000000003,125 M38.00440000000003,175 L25.002600000000033,175 M112.64800000000002,175 L125.00260000000003,175 M112.19700000000003,125 L125.00260000000003,125\" stroke-width=\"1\" stroke=\"black\" stroke-linejoin=\"miter\" fill=\"none\" />\n",
       "<text x=\"75\" y=\"138\" font-size=\"7\" text-anchor=\"middle\"></text>\n",
       "<path d=\"M97,153 L107,153 L107,163 L97,163 Z\" stroke=\"black\" fill=\"aquamarine\" stroke-linejoin=\"miter\" />\n",
       "<text x=\"102\" y=\"160\" font-size=\"6\" text-anchor=\"middle\">H</text>\n",
       "<path d=\"M25,75.0 L125,75.0\" stroke=\"black\" stroke-width=\"1\" fill=\"none\" />\n",
       "<path d=\"M125,74.8 C145,75,155,175,175,175\" stroke-width=\"2\" stroke=\"white\" stroke-linejoin=\"miter\" fill=\"none\" />\n",
       "<path d=\"M125,75 C145,75,155,175,175,175\" stroke-width=\"1\" stroke=\"black\" stroke-linejoin=\"miter\" fill=\"none\" />\n",
       "<path d=\"M125,124.8 C145,125,155,125,175,125\" stroke-width=\"2\" stroke=\"white\" stroke-linejoin=\"miter\" fill=\"none\" />\n",
       "<path d=\"M125,125 C145,125,155,125,175,125\" stroke-width=\"1\" stroke=\"black\" stroke-linejoin=\"miter\" fill=\"none\" />\n",
       "<path d=\"M125,174.8 C145,175,155,225,175,225\" stroke-width=\"2\" stroke=\"white\" stroke-linejoin=\"miter\" fill=\"none\" />\n",
       "<path d=\"M125,175 C145,175,155,225,175,225\" stroke-width=\"1\" stroke=\"black\" stroke-linejoin=\"miter\" fill=\"none\" />\n",
       "<path d=\"M25,25.0 L175,25.0\" stroke=\"black\" stroke-width=\"1\" fill=\"none\" />\n",
       "<path d=\"M187.9442,25 C201.6538,25,201.5924,50,215.30419999999998,50 M215.30599999999998,50 C201.59439999999998,50,201.65599999999998,75,187.94599999999997,75 M215.30599999999998,50 L237.1906,50 M237.1906,50 C250.9022,50,250.8406,25,264.5506,25 M237.19079999999997,50 C250.90239999999997,50,250.84079999999997,75,264.5508,75 M175.00259999999997,25 L188.00259999999997,25 M188.00439999999998,75 L175.00259999999997,75 M262.64799999999997,75 L275.0026,75 M262.197,25 L275.00260000000003,25\" stroke-width=\"1\" stroke=\"black\" stroke-linejoin=\"miter\" fill=\"none\" />\n",
       "<text x=\"225\" y=\"38\" font-size=\"7\" text-anchor=\"middle\">Θ=1.910633</text>\n",
       "<path d=\"M247,53 L257,53 L257,63 L247,63 Z\" stroke=\"black\" fill=\"aquamarine\" stroke-linejoin=\"miter\" />\n",
       "<text x=\"252\" y=\"60\" font-size=\"6\" text-anchor=\"middle\">H</text>\n",
       "<path d=\"M187.9442,125 C201.6538,125,201.5924,150,215.30419999999998,150 M215.30599999999998,150 C201.59439999999998,150,201.65599999999998,175,187.94599999999997,175 M215.30599999999998,150 L237.1906,150 M237.1906,150 C250.9022,150,250.8406,125,264.5506,125 M237.19079999999997,150 C250.90239999999997,150,250.84079999999997,175,264.5508,175 M175.00259999999997,125 L188.00259999999997,125 M188.00439999999998,175 L175.00259999999997,175 M262.64799999999997,175 L275.0026,175 M262.197,125 L275.00260000000003,125\" stroke-width=\"1\" stroke=\"black\" stroke-linejoin=\"miter\" fill=\"none\" />\n",
       "<text x=\"225\" y=\"138\" font-size=\"7\" text-anchor=\"middle\">Θ=1.910633</text>\n",
       "<path d=\"M247,153 L257,153 L257,163 L247,163 Z\" stroke=\"black\" fill=\"aquamarine\" stroke-linejoin=\"miter\" />\n",
       "<text x=\"252\" y=\"160\" font-size=\"6\" text-anchor=\"middle\">H</text>\n",
       "<path d=\"M187.9442,225 C201.6538,225,201.5924,250,215.30419999999998,250 M215.30599999999998,250 C201.59439999999998,250,201.65599999999998,275,187.94599999999997,275 M215.30599999999998,250 L237.1906,250 M237.1906,250 C250.9022,250,250.8406,225,264.5506,225 M237.19079999999997,250 C250.90239999999997,250,250.84079999999997,275,264.5508,275 M175.00259999999997,225 L188.00259999999997,225 M188.00439999999998,275 L175.00259999999997,275 M262.64799999999997,275 L275.0026,275 M262.197,225 L275.00260000000003,225\" stroke-width=\"1\" stroke=\"black\" stroke-linejoin=\"miter\" fill=\"none\" />\n",
       "<text x=\"225\" y=\"238\" font-size=\"7\" text-anchor=\"middle\">Θ=1.910633</text>\n",
       "<path d=\"M247,253 L257,253 L257,263 L247,263 Z\" stroke=\"black\" fill=\"aquamarine\" stroke-linejoin=\"miter\" />\n",
       "<text x=\"252\" y=\"260\" font-size=\"6\" text-anchor=\"middle\">H</text>\n",
       "<path d=\"M275,124.8 C295,125,305,125,325,125\" stroke-width=\"2\" stroke=\"white\" stroke-linejoin=\"miter\" fill=\"none\" />\n",
       "<path d=\"M275,125 C295,125,305,125,325,125\" stroke-width=\"1\" stroke=\"black\" stroke-linejoin=\"miter\" fill=\"none\" />\n",
       "<path d=\"M275,174.8 C295,175,305,75,325,75\" stroke-width=\"2\" stroke=\"white\" stroke-linejoin=\"miter\" fill=\"none\" />\n",
       "<path d=\"M275,175 C295,175,305,75,325,75\" stroke-width=\"1\" stroke=\"black\" stroke-linejoin=\"miter\" fill=\"none\" />\n",
       "<path d=\"M275,224.8 C295,225,305,175,325,175\" stroke-width=\"2\" stroke=\"white\" stroke-linejoin=\"miter\" fill=\"none\" />\n",
       "<path d=\"M275,225 C295,225,305,175,325,175\" stroke-width=\"1\" stroke=\"black\" stroke-linejoin=\"miter\" fill=\"none\" />\n",
       "<path d=\"M337.9442,125 C351.65380000000005,125,351.5924,150,365.30420000000004,150 M365.30600000000004,150 C351.59440000000006,150,351.65600000000006,175,337.946,175 M365.30600000000004,150 L387.1906,150 M387.1906,150 C400.9022,150,400.8406,125,414.55060000000003,125 M387.1908,150 C400.90240000000006,150,400.84080000000006,175,414.55080000000004,175 M325.00260000000003,125 L338.00260000000003,125 M338.00440000000003,175 L325.00260000000003,175 M412.648,175 L425.00260000000003,175 M412.197,125 L425.00260000000003,125\" stroke-width=\"1\" stroke=\"black\" stroke-linejoin=\"miter\" fill=\"none\" />\n",
       "<text x=\"375\" y=\"138\" font-size=\"7\" text-anchor=\"middle\"></text>\n",
       "<path d=\"M397,153 L407,153 L407,163 L397,163 Z\" stroke=\"black\" fill=\"aquamarine\" stroke-linejoin=\"miter\" />\n",
       "<text x=\"402\" y=\"160\" font-size=\"6\" text-anchor=\"middle\">H</text>\n",
       "<path d=\"M275,25.0 L425,25.0\" stroke=\"black\" stroke-width=\"1\" fill=\"none\" />\n",
       "<path d=\"M325,75.0 L425,75.0\" stroke=\"black\" stroke-width=\"1\" fill=\"none\" />\n",
       "<path d=\"M425,25.0 L440,25.0\" stroke-width=\"1\" stroke=\"black\" stroke-linejoin=\"miter\" fill=\"none\" />\n",
       "<path d=\"M425,75.0 L440,75.0\" stroke-width=\"1\" stroke=\"black\" stroke-linejoin=\"miter\" fill=\"none\" />\n",
       "<path d=\"M425,125.0 L440,125.0\" stroke-width=\"1\" stroke=\"black\" stroke-linejoin=\"miter\" fill=\"none\" />\n",
       "<path d=\"M425,175.0 L440,175.0\" stroke-width=\"1\" stroke=\"black\" stroke-linejoin=\"miter\" fill=\"none\" />\n",
       "<path d=\"M-2,15 L10,15 L10,85 L-2,85 Z\" stroke=\"black\" fill=\"white\" stroke-linejoin=\"miter\" />\n",
       "<text x=\"-2\" y=\"91\" font-size=\"6\" text-anchor=\"start\" font-style=\"italic\">[ctrl]</text>\n",
       "<path d=\"M-2,115 L10,115 L10,185 L-2,185 Z\" stroke=\"black\" fill=\"white\" stroke-linejoin=\"miter\" />\n",
       "<text x=\"-2\" y=\"191\" font-size=\"6\" text-anchor=\"start\" font-style=\"italic\">[data]</text>\n",
       "<path d=\"M157,75 C157,75,157,65,167,65 L175,65 L175,85 L167,85 C157,85,157,75,157,75 L157,75\" stroke-width=\"1\" stroke=\"black\" stroke-linejoin=\"miter\" fill=\"white\" />\n",
       "<text x=\"163\" y=\"91\" font-size=\"6\" text-anchor=\"middle\" font-style=\"italic\">[herald0]</text>\n",
       "<text x=\"167\" y=\"78\" font-size=\"7\" text-anchor=\"middle\">0</text>\n",
       "<path d=\"M157,275 C157,275,157,265,167,265 L175,265 L175,285 L167,285 C157,285,157,275,157,275 L157,275\" stroke-width=\"1\" stroke=\"black\" stroke-linejoin=\"miter\" fill=\"white\" />\n",
       "<text x=\"163\" y=\"291\" font-size=\"6\" text-anchor=\"middle\" font-style=\"italic\">[herald1]</text>\n",
       "<text x=\"167\" y=\"278\" font-size=\"7\" text-anchor=\"middle\">0</text>\n",
       "<path d=\"M-12.5,25 L10.5,25\" stroke=\"black\" stroke-width=\"1\" fill=\"none\" />\n",
       "<path d=\"M-30.5,25 C-30.5,25,-30.5,15,-20.5,15 L-12.5,15 L-12.5,35 L-20.5,35 C-30.5,35,-30.5,25,-30.5,25 L-30.5,25\" stroke-width=\"1\" stroke=\"black\" stroke-linejoin=\"miter\" fill=\"white\" />\n",
       "<text x=\"-20.5\" y=\"28\" font-size=\"7\" text-anchor=\"middle\">0</text>\n",
       "<path d=\"M-12.5,75 L10.5,75\" stroke=\"black\" stroke-width=\"1\" fill=\"none\" />\n",
       "<path d=\"M-30.5,75 C-30.5,75,-30.5,65,-20.5,65 L-12.5,65 L-12.5,85 L-20.5,85 C-30.5,85,-30.5,75,-30.5,75 L-30.5,75\" stroke-width=\"1\" stroke=\"black\" stroke-linejoin=\"miter\" fill=\"white\" />\n",
       "<text x=\"-20.5\" y=\"78\" font-size=\"7\" text-anchor=\"middle\">1</text>\n",
       "<path d=\"M-12.5,125 L10.5,125\" stroke=\"black\" stroke-width=\"1\" fill=\"none\" />\n",
       "<path d=\"M-30.5,125 C-30.5,125,-30.5,115,-20.5,115 L-12.5,115 L-12.5,135 L-20.5,135 C-30.5,135,-30.5,125,-30.5,125 L-30.5,125\" stroke-width=\"1\" stroke=\"black\" stroke-linejoin=\"miter\" fill=\"white\" />\n",
       "<text x=\"-20.5\" y=\"128\" font-size=\"7\" text-anchor=\"middle\">1</text>\n",
       "<path d=\"M-12.5,175 L10.5,175\" stroke=\"black\" stroke-width=\"1\" fill=\"none\" />\n",
       "<path d=\"M-30.5,175 C-30.5,175,-30.5,165,-20.5,165 L-12.5,165 L-12.5,185 L-20.5,185 C-30.5,185,-30.5,175,-30.5,175 L-30.5,175\" stroke-width=\"1\" stroke=\"black\" stroke-linejoin=\"miter\" fill=\"white\" />\n",
       "<text x=\"-20.5\" y=\"178\" font-size=\"7\" text-anchor=\"middle\">0</text>\n",
       "<path d=\"M440,15 L452,15 L452,85 L440,85 Z\" stroke=\"black\" fill=\"white\" stroke-linejoin=\"miter\" />\n",
       "<text x=\"452\" y=\"91\" font-size=\"6\" text-anchor=\"end\" font-style=\"italic\">[ctrl]</text>\n",
       "<path d=\"M440,115 L452,115 L452,185 L440,185 Z\" stroke=\"black\" fill=\"white\" stroke-linejoin=\"miter\" />\n",
       "<text x=\"452\" y=\"191\" font-size=\"6\" text-anchor=\"end\" font-style=\"italic\">[data]</text>\n",
       "<path d=\"M283,85 L275,85 L275,65 L283,65 C283,65,293,65,293,75 C293,85,283,85,283,85 L283,85\" stroke-width=\"1\" stroke=\"black\" stroke-linejoin=\"miter\" fill=\"white\" />\n",
       "<text x=\"288\" y=\"61\" font-size=\"6\" text-anchor=\"middle\" font-style=\"italic\">[herald0]</text>\n",
       "<text x=\"283\" y=\"78\" font-size=\"7\" text-anchor=\"middle\">0</text>\n",
       "<path d=\"M283,285 L275,285 L275,265 L283,265 C283,265,293,265,293,275 C293,285,283,285,283,285 L283,285\" stroke-width=\"1\" stroke=\"black\" stroke-linejoin=\"miter\" fill=\"white\" />\n",
       "<text x=\"288\" y=\"261\" font-size=\"6\" text-anchor=\"middle\" font-style=\"italic\">[herald1]</text>\n",
       "<text x=\"283\" y=\"278\" font-size=\"7\" text-anchor=\"middle\">0</text>\n",
       "<text x=\"450\" y=\"28.0\" font-size=\"7\" text-anchor=\"end\">0</text>\n",
       "<text x=\"450\" y=\"78.0\" font-size=\"7\" text-anchor=\"end\">1</text>\n",
       "<text x=\"450\" y=\"128.0\" font-size=\"7\" text-anchor=\"end\">2</text>\n",
       "<text x=\"450\" y=\"178.0\" font-size=\"7\" text-anchor=\"end\">3</text>\n",
       "<text x=\"0\" y=\"28.0\" font-size=\"7\" text-anchor=\"start\">0</text>\n",
       "<text x=\"0\" y=\"78.0\" font-size=\"7\" text-anchor=\"start\">1</text>\n",
       "<text x=\"0\" y=\"128.0\" font-size=\"7\" text-anchor=\"start\">2</text>\n",
       "<text x=\"0\" y=\"178.0\" font-size=\"7\" text-anchor=\"start\">3</text>\n",
       "</svg>"
      ],
      "text/plain": [
       "<drawsvg.drawing.Drawing at 0x14e7e8ff910>"
      ]
     },
     "execution_count": 29,
     "metadata": {},
     "output_type": "execute_result"
    }
   ],
   "source": [
    "## Ralph's et al. CNot\n",
    "\n",
    "print(catalog['postprocessed cnot'].doc)\n",
    "ralph_cnot = catalog['postprocessed cnot'].build_processor()\n",
    "ralph_cnot.min_detected_photons_filter(0)\n",
    "## You can set its input state with a LogicalState\n",
    "ralph_cnot.with_input(pcvl.LogicalState([1, 0]))\n",
    "\n",
    "pcvl.pdisplay(ralph_cnot, recursive=True, render_size=1.25)"
   ]
  },
  {
   "cell_type": "code",
   "execution_count": 30,
   "id": "75f39778a95371ac",
   "metadata": {},
   "outputs": [],
   "source": [
    "## Exercise: Check/convince yourself that the circuit above is performing a CNOT in the dual rail encoding"
   ]
  },
  {
   "cell_type": "code",
   "execution_count": 31,
   "id": "7f6ba363a53ebc2",
   "metadata": {},
   "outputs": [
    {
     "name": "stdout",
     "output_type": "stream",
     "text": [
      "{\n",
      "\t|0,1,0,1>: 1\n",
      "}\n",
      "Some output states were not selected because of heralds and post-processing => you can check the global performance\n",
      "Global performance =  0.11111111111111113\n"
     ]
    }
   ],
   "source": [
    "## You can sample some output states\n",
    "cnot_sampler = pcvl.algorithm.Sampler(ralph_cnot)\n",
    "samples = cnot_sampler.probs()\n",
    "print(samples['results'])\n",
    "print(\"Some output states were not selected because of heralds and post-processing => you can check the global performance\")\n",
    "print(\"Global performance = \", samples['global_perf'])"
   ]
  },
  {
   "cell_type": "code",
   "execution_count": 32,
   "id": "120631e0b6d14e2a",
   "metadata": {},
   "outputs": [],
   "source": [
    "## Exercise: Check it performs a CNOT, and explicit the difference between the two types of CNOT"
   ]
  },
  {
   "cell_type": "markdown",
   "id": "8884adf719305ed",
   "metadata": {},
   "source": [
    "### Exercise\n",
    "\n",
    "The next circuit comes from the following [paper](https://quantum-journal.org/papers/q-2021-03-29-422/)."
   ]
  },
  {
   "cell_type": "markdown",
   "id": "4bdcabd0c24f9c5f",
   "metadata": {},
   "source": [
    "![](../_static/img/tuto_circuit_to_reproduce.png)"
   ]
  },
  {
   "cell_type": "code",
   "execution_count": 33,
   "id": "f7b7dce3a26c533b",
   "metadata": {},
   "outputs": [
    {
     "data": {
      "image/svg+xml": [
       "<?xml version=\"1.0\" encoding=\"UTF-8\"?>\n",
       "<svg xmlns=\"http://www.w3.org/2000/svg\" xmlns:xlink=\"http://www.w3.org/1999/xlink\"\n",
       "     width=\"800.0\" height=\"656.25\" viewBox=\"-45.0 0 640.0 525.0\">\n",
       "<defs>\n",
       "</defs>\n",
       "<path d=\"M10,25.0 L25,25.0\" stroke-width=\"1\" stroke=\"black\" stroke-linejoin=\"miter\" fill=\"none\" />\n",
       "<path d=\"M10,75.0 L25,75.0\" stroke-width=\"1\" stroke=\"black\" stroke-linejoin=\"miter\" fill=\"none\" />\n",
       "<path d=\"M10,125.0 L25,125.0\" stroke-width=\"1\" stroke=\"black\" stroke-linejoin=\"miter\" fill=\"none\" />\n",
       "<path d=\"M10,175.0 L25,175.0\" stroke-width=\"1\" stroke=\"black\" stroke-linejoin=\"miter\" fill=\"none\" />\n",
       "<path d=\"M10,225.0 L25,225.0\" stroke-width=\"1\" stroke=\"black\" stroke-linejoin=\"miter\" fill=\"none\" />\n",
       "<path d=\"M10,275.0 L25,275.0\" stroke-width=\"1\" stroke=\"black\" stroke-linejoin=\"miter\" fill=\"none\" />\n",
       "<path d=\"M25,25 L75,25\" stroke=\"black\" stroke-width=\"1\" fill=\"none\" />\n",
       "<path d=\"M25,75 L75,75\" stroke=\"black\" stroke-width=\"1\" fill=\"none\" />\n",
       "<path d=\"M27.5,2.5 L72.5,2.5 L72.5,97.5 L27.5,97.5 Z\" stroke=\"black\" fill=\"white\" stroke-linejoin=\"miter\" />\n",
       "<text x=\"35\" y=\"8\" font-size=\"8\" text-anchor=\"start\" font-weight=\"bold\">RY1</text>\n",
       "<path d=\"M75,25 L125,25\" stroke=\"black\" stroke-width=\"1\" fill=\"none\" />\n",
       "<path d=\"M75,75 L125,75\" stroke=\"black\" stroke-width=\"1\" fill=\"none\" />\n",
       "<path d=\"M77.5,2.5 L122.5,2.5 L122.5,97.5 L77.5,97.5 Z\" stroke=\"black\" fill=\"white\" stroke-linejoin=\"miter\" />\n",
       "<text x=\"85\" y=\"8\" font-size=\"8\" text-anchor=\"start\" font-weight=\"bold\">RZ4</text>\n",
       "<path d=\"M25,125 L75,125\" stroke=\"black\" stroke-width=\"1\" fill=\"none\" />\n",
       "<path d=\"M25,175 L75,175\" stroke=\"black\" stroke-width=\"1\" fill=\"none\" />\n",
       "<path d=\"M27.5,102.5 L72.5,102.5 L72.5,197.5 L27.5,197.5 Z\" stroke=\"black\" fill=\"white\" stroke-linejoin=\"miter\" />\n",
       "<text x=\"35\" y=\"108\" font-size=\"8\" text-anchor=\"start\" font-weight=\"bold\">RY2</text>\n",
       "<path d=\"M75,125 L125,125\" stroke=\"black\" stroke-width=\"1\" fill=\"none\" />\n",
       "<path d=\"M75,175 L125,175\" stroke=\"black\" stroke-width=\"1\" fill=\"none\" />\n",
       "<path d=\"M77.5,102.5 L122.5,102.5 L122.5,197.5 L77.5,197.5 Z\" stroke=\"black\" fill=\"white\" stroke-linejoin=\"miter\" />\n",
       "<text x=\"85\" y=\"108\" font-size=\"8\" text-anchor=\"start\" font-weight=\"bold\">RZ5</text>\n",
       "<path d=\"M25,225 L75,225\" stroke=\"black\" stroke-width=\"1\" fill=\"none\" />\n",
       "<path d=\"M25,275 L75,275\" stroke=\"black\" stroke-width=\"1\" fill=\"none\" />\n",
       "<path d=\"M27.5,202.5 L72.5,202.5 L72.5,297.5 L27.5,297.5 Z\" stroke=\"black\" fill=\"white\" stroke-linejoin=\"miter\" />\n",
       "<text x=\"35\" y=\"208\" font-size=\"8\" text-anchor=\"start\" font-weight=\"bold\">RY3</text>\n",
       "<path d=\"M75,225 L125,225\" stroke=\"black\" stroke-width=\"1\" fill=\"none\" />\n",
       "<path d=\"M75,275 L125,275\" stroke=\"black\" stroke-width=\"1\" fill=\"none\" />\n",
       "<path d=\"M77.5,202.5 L122.5,202.5 L122.5,297.5 L77.5,297.5 Z\" stroke=\"black\" fill=\"white\" stroke-linejoin=\"miter\" />\n",
       "<text x=\"85\" y=\"208\" font-size=\"8\" text-anchor=\"start\" font-weight=\"bold\">RZ6</text>\n",
       "<path d=\"M125,224.8 C145,225,155,325,175,325\" stroke-width=\"2\" stroke=\"white\" stroke-linejoin=\"miter\" fill=\"none\" />\n",
       "<path d=\"M125,225 C145,225,155,325,175,325\" stroke-width=\"1\" stroke=\"black\" stroke-linejoin=\"miter\" fill=\"none\" />\n",
       "<path d=\"M125,274.8 C145,275,155,375,175,375\" stroke-width=\"2\" stroke=\"white\" stroke-linejoin=\"miter\" fill=\"none\" />\n",
       "<path d=\"M125,275 C145,275,155,375,175,375\" stroke-width=\"1\" stroke=\"black\" stroke-linejoin=\"miter\" fill=\"none\" />\n",
       "<path d=\"M125,25.0 L175,25.0\" stroke=\"black\" stroke-width=\"1\" fill=\"none\" />\n",
       "<path d=\"M125,75.0 L175,75.0\" stroke=\"black\" stroke-width=\"1\" fill=\"none\" />\n",
       "<path d=\"M125,125.0 L175,125.0\" stroke=\"black\" stroke-width=\"1\" fill=\"none\" />\n",
       "<path d=\"M125,175.0 L175,175.0\" stroke=\"black\" stroke-width=\"1\" fill=\"none\" />\n",
       "<path d=\"M175,25 L225,25\" stroke=\"black\" stroke-width=\"1\" fill=\"none\" />\n",
       "<path d=\"M175,75 L225,75\" stroke=\"black\" stroke-width=\"1\" fill=\"none\" />\n",
       "<path d=\"M175,125 L225,125\" stroke=\"black\" stroke-width=\"1\" fill=\"none\" />\n",
       "<path d=\"M175,175 L225,175\" stroke=\"black\" stroke-width=\"1\" fill=\"none\" />\n",
       "<path d=\"M175,225 L225,225\" stroke=\"black\" stroke-width=\"1\" fill=\"none\" />\n",
       "<path d=\"M175,275 L225,275\" stroke=\"black\" stroke-width=\"1\" fill=\"none\" />\n",
       "<path d=\"M177.5,2.5 L222.5,2.5 L222.5,297.5 L177.5,297.5 Z\" stroke=\"black\" fill=\"white\" stroke-linejoin=\"miter\" />\n",
       "<text x=\"185\" y=\"8\" font-size=\"5\" text-anchor=\"start\" font-weight=\"bold\">HERALDED CNOT</text>\n",
       "<path d=\"M175,325.0 L225,325.0\" stroke=\"black\" stroke-width=\"1\" fill=\"none\" />\n",
       "<path d=\"M175,375.0 L225,375.0\" stroke=\"black\" stroke-width=\"1\" fill=\"none\" />\n",
       "<path d=\"M225,124.8 C245,125,255,325,275,325\" stroke-width=\"2\" stroke=\"white\" stroke-linejoin=\"miter\" fill=\"none\" />\n",
       "<path d=\"M225,125 C245,125,255,325,275,325\" stroke-width=\"1\" stroke=\"black\" stroke-linejoin=\"miter\" fill=\"none\" />\n",
       "<path d=\"M225,174.8 C245,175,255,375,275,375\" stroke-width=\"2\" stroke=\"white\" stroke-linejoin=\"miter\" fill=\"none\" />\n",
       "<path d=\"M225,175 C245,175,255,375,275,375\" stroke-width=\"1\" stroke=\"black\" stroke-linejoin=\"miter\" fill=\"none\" />\n",
       "<path d=\"M225,324.8 C245,325,255,125,275,125\" stroke-width=\"2\" stroke=\"white\" stroke-linejoin=\"miter\" fill=\"none\" />\n",
       "<path d=\"M225,325 C245,325,255,125,275,125\" stroke-width=\"1\" stroke=\"black\" stroke-linejoin=\"miter\" fill=\"none\" />\n",
       "<path d=\"M225,374.8 C245,375,255,175,275,175\" stroke-width=\"2\" stroke=\"white\" stroke-linejoin=\"miter\" fill=\"none\" />\n",
       "<path d=\"M225,375 C245,375,255,175,275,175\" stroke-width=\"1\" stroke=\"black\" stroke-linejoin=\"miter\" fill=\"none\" />\n",
       "<path d=\"M225,25.0 L275,25.0\" stroke=\"black\" stroke-width=\"1\" fill=\"none\" />\n",
       "<path d=\"M225,75.0 L275,75.0\" stroke=\"black\" stroke-width=\"1\" fill=\"none\" />\n",
       "<path d=\"M275,25 L325,25\" stroke=\"black\" stroke-width=\"1\" fill=\"none\" />\n",
       "<path d=\"M275,75 L325,75\" stroke=\"black\" stroke-width=\"1\" fill=\"none\" />\n",
       "<path d=\"M275,125 L325,125\" stroke=\"black\" stroke-width=\"1\" fill=\"none\" />\n",
       "<path d=\"M275,175 L325,175\" stroke=\"black\" stroke-width=\"1\" fill=\"none\" />\n",
       "<path d=\"M275,225 L325,225\" stroke=\"black\" stroke-width=\"1\" fill=\"none\" />\n",
       "<path d=\"M275,275 L325,275\" stroke=\"black\" stroke-width=\"1\" fill=\"none\" />\n",
       "<path d=\"M277.5,2.5 L322.5,2.5 L322.5,297.5 L277.5,297.5 Z\" stroke=\"black\" fill=\"white\" stroke-linejoin=\"miter\" />\n",
       "<text x=\"285\" y=\"8\" font-size=\"5\" text-anchor=\"start\" font-weight=\"bold\">HERALDED CNOT</text>\n",
       "<path d=\"M275,325.0 L325,325.0\" stroke=\"black\" stroke-width=\"1\" fill=\"none\" />\n",
       "<path d=\"M275,375.0 L325,375.0\" stroke=\"black\" stroke-width=\"1\" fill=\"none\" />\n",
       "<path d=\"M325,124.8 C345,125,355,225,375,225\" stroke-width=\"2\" stroke=\"white\" stroke-linejoin=\"miter\" fill=\"none\" />\n",
       "<path d=\"M325,125 C345,125,355,225,375,225\" stroke-width=\"1\" stroke=\"black\" stroke-linejoin=\"miter\" fill=\"none\" />\n",
       "<path d=\"M325,174.8 C345,175,355,275,375,275\" stroke-width=\"2\" stroke=\"white\" stroke-linejoin=\"miter\" fill=\"none\" />\n",
       "<path d=\"M325,175 C345,175,355,275,375,275\" stroke-width=\"1\" stroke=\"black\" stroke-linejoin=\"miter\" fill=\"none\" />\n",
       "<path d=\"M325,324.8 C345,325,355,125,375,125\" stroke-width=\"2\" stroke=\"white\" stroke-linejoin=\"miter\" fill=\"none\" />\n",
       "<path d=\"M325,325 C345,325,355,125,375,125\" stroke-width=\"1\" stroke=\"black\" stroke-linejoin=\"miter\" fill=\"none\" />\n",
       "<path d=\"M325,374.8 C345,375,355,175,375,175\" stroke-width=\"2\" stroke=\"white\" stroke-linejoin=\"miter\" fill=\"none\" />\n",
       "<path d=\"M325,375 C345,375,355,175,375,175\" stroke-width=\"1\" stroke=\"black\" stroke-linejoin=\"miter\" fill=\"none\" />\n",
       "<path d=\"M325,25.0 L375,25.0\" stroke=\"black\" stroke-width=\"1\" fill=\"none\" />\n",
       "<path d=\"M325,75.0 L375,75.0\" stroke=\"black\" stroke-width=\"1\" fill=\"none\" />\n",
       "<path d=\"M375,125 L425,125\" stroke=\"black\" stroke-width=\"1\" fill=\"none\" />\n",
       "<path d=\"M375,175 L425,175\" stroke=\"black\" stroke-width=\"1\" fill=\"none\" />\n",
       "<path d=\"M375,225 L425,225\" stroke=\"black\" stroke-width=\"1\" fill=\"none\" />\n",
       "<path d=\"M375,275 L425,275\" stroke=\"black\" stroke-width=\"1\" fill=\"none\" />\n",
       "<path d=\"M375,325 L425,325\" stroke=\"black\" stroke-width=\"1\" fill=\"none\" />\n",
       "<path d=\"M375,375 L425,375\" stroke=\"black\" stroke-width=\"1\" fill=\"none\" />\n",
       "<path d=\"M377.5,102.5 L422.5,102.5 L422.5,397.5 L377.5,397.5 Z\" stroke=\"black\" fill=\"white\" stroke-linejoin=\"miter\" />\n",
       "<text x=\"385\" y=\"108\" font-size=\"5\" text-anchor=\"start\" font-weight=\"bold\">HERALDED CNOT</text>\n",
       "<path d=\"M375,25.0 L425,25.0\" stroke=\"black\" stroke-width=\"1\" fill=\"none\" />\n",
       "<path d=\"M375,75.0 L425,75.0\" stroke=\"black\" stroke-width=\"1\" fill=\"none\" />\n",
       "<path d=\"M425,25 L475,25\" stroke=\"black\" stroke-width=\"1\" fill=\"none\" />\n",
       "<path d=\"M425,75 L475,75\" stroke=\"black\" stroke-width=\"1\" fill=\"none\" />\n",
       "<path d=\"M427.5,2.5 L472.5,2.5 L472.5,97.5 L427.5,97.5 Z\" stroke=\"black\" fill=\"white\" stroke-linejoin=\"miter\" />\n",
       "<text x=\"435\" y=\"8\" font-size=\"8\" text-anchor=\"start\" font-weight=\"bold\">RY7</text>\n",
       "<path d=\"M475,25 L525,25\" stroke=\"black\" stroke-width=\"1\" fill=\"none\" />\n",
       "<path d=\"M475,75 L525,75\" stroke=\"black\" stroke-width=\"1\" fill=\"none\" />\n",
       "<path d=\"M477.5,2.5 L522.5,2.5 L522.5,97.5 L477.5,97.5 Z\" stroke=\"black\" fill=\"white\" stroke-linejoin=\"miter\" />\n",
       "<text x=\"485\" y=\"8\" font-size=\"8\" text-anchor=\"start\" font-weight=\"bold\">RZ10</text>\n",
       "<path d=\"M425,125 L475,125\" stroke=\"black\" stroke-width=\"1\" fill=\"none\" />\n",
       "<path d=\"M425,175 L475,175\" stroke=\"black\" stroke-width=\"1\" fill=\"none\" />\n",
       "<path d=\"M427.5,102.5 L472.5,102.5 L472.5,197.5 L427.5,197.5 Z\" stroke=\"black\" fill=\"white\" stroke-linejoin=\"miter\" />\n",
       "<text x=\"435\" y=\"108\" font-size=\"8\" text-anchor=\"start\" font-weight=\"bold\">RY8</text>\n",
       "<path d=\"M475,125 L525,125\" stroke=\"black\" stroke-width=\"1\" fill=\"none\" />\n",
       "<path d=\"M475,175 L525,175\" stroke=\"black\" stroke-width=\"1\" fill=\"none\" />\n",
       "<path d=\"M477.5,102.5 L522.5,102.5 L522.5,197.5 L477.5,197.5 Z\" stroke=\"black\" fill=\"white\" stroke-linejoin=\"miter\" />\n",
       "<text x=\"485\" y=\"108\" font-size=\"8\" text-anchor=\"start\" font-weight=\"bold\">RZ11</text>\n",
       "<path d=\"M425,225 L475,225\" stroke=\"black\" stroke-width=\"1\" fill=\"none\" />\n",
       "<path d=\"M425,275 L475,275\" stroke=\"black\" stroke-width=\"1\" fill=\"none\" />\n",
       "<path d=\"M427.5,202.5 L472.5,202.5 L472.5,297.5 L427.5,297.5 Z\" stroke=\"black\" fill=\"white\" stroke-linejoin=\"miter\" />\n",
       "<text x=\"435\" y=\"208\" font-size=\"8\" text-anchor=\"start\" font-weight=\"bold\">RY9</text>\n",
       "<path d=\"M475,225 L525,225\" stroke=\"black\" stroke-width=\"1\" fill=\"none\" />\n",
       "<path d=\"M475,275 L525,275\" stroke=\"black\" stroke-width=\"1\" fill=\"none\" />\n",
       "<path d=\"M477.5,202.5 L522.5,202.5 L522.5,297.5 L477.5,297.5 Z\" stroke=\"black\" fill=\"white\" stroke-linejoin=\"miter\" />\n",
       "<text x=\"485\" y=\"208\" font-size=\"8\" text-anchor=\"start\" font-weight=\"bold\">RZ12</text>\n",
       "<path d=\"M525,25.0 L540,25.0\" stroke-width=\"1\" stroke=\"black\" stroke-linejoin=\"miter\" fill=\"none\" />\n",
       "<path d=\"M525,75.0 L540,75.0\" stroke-width=\"1\" stroke=\"black\" stroke-linejoin=\"miter\" fill=\"none\" />\n",
       "<path d=\"M525,125.0 L540,125.0\" stroke-width=\"1\" stroke=\"black\" stroke-linejoin=\"miter\" fill=\"none\" />\n",
       "<path d=\"M525,175.0 L540,175.0\" stroke-width=\"1\" stroke=\"black\" stroke-linejoin=\"miter\" fill=\"none\" />\n",
       "<path d=\"M525,225.0 L540,225.0\" stroke-width=\"1\" stroke=\"black\" stroke-linejoin=\"miter\" fill=\"none\" />\n",
       "<path d=\"M525,275.0 L540,275.0\" stroke-width=\"1\" stroke=\"black\" stroke-linejoin=\"miter\" fill=\"none\" />\n",
       "<path d=\"M-2,15 L10,15 L10,85 L-2,85 Z\" stroke=\"black\" fill=\"white\" stroke-linejoin=\"miter\" />\n",
       "<text x=\"-2\" y=\"91\" font-size=\"6\" text-anchor=\"start\" font-style=\"italic\">[ctrl]</text>\n",
       "<path d=\"M-2,115 L10,115 L10,185 L-2,185 Z\" stroke=\"black\" fill=\"white\" stroke-linejoin=\"miter\" />\n",
       "<text x=\"-2\" y=\"191\" font-size=\"6\" text-anchor=\"start\" font-style=\"italic\">[data]</text>\n",
       "<path d=\"M157,225 C157,225,157,215,167,215 L175,215 L175,235 L167,235 C157,235,157,225,157,225 L157,225\" stroke-width=\"1\" stroke=\"black\" stroke-linejoin=\"miter\" fill=\"white\" />\n",
       "<text x=\"163\" y=\"241\" font-size=\"6\" text-anchor=\"middle\" font-style=\"italic\">[herald2]</text>\n",
       "<text x=\"167\" y=\"228\" font-size=\"7\" text-anchor=\"middle\">1</text>\n",
       "<path d=\"M157,275 C157,275,157,265,167,265 L175,265 L175,285 L167,285 C157,285,157,275,157,275 L157,275\" stroke-width=\"1\" stroke=\"black\" stroke-linejoin=\"miter\" fill=\"white\" />\n",
       "<text x=\"163\" y=\"291\" font-size=\"6\" text-anchor=\"middle\" font-style=\"italic\">[herald3]</text>\n",
       "<text x=\"167\" y=\"278\" font-size=\"7\" text-anchor=\"middle\">1</text>\n",
       "<path d=\"M-2,215 L10,215 L10,285 L-2,285 Z\" stroke=\"black\" fill=\"white\" stroke-linejoin=\"miter\" />\n",
       "<text x=\"-2\" y=\"291\" font-size=\"6\" text-anchor=\"start\" font-style=\"italic\">[data]</text>\n",
       "<path d=\"M257,225 C257,225,257,215,267,215 L275,215 L275,235 L267,235 C257,235,257,225,257,225 L257,225\" stroke-width=\"1\" stroke=\"black\" stroke-linejoin=\"miter\" fill=\"white\" />\n",
       "<text x=\"263\" y=\"241\" font-size=\"6\" text-anchor=\"middle\" font-style=\"italic\">[herald6]</text>\n",
       "<text x=\"267\" y=\"228\" font-size=\"7\" text-anchor=\"middle\">1</text>\n",
       "<path d=\"M257,275 C257,275,257,265,267,265 L275,265 L275,285 L267,285 C257,285,257,275,257,275 L257,275\" stroke-width=\"1\" stroke=\"black\" stroke-linejoin=\"miter\" fill=\"white\" />\n",
       "<text x=\"263\" y=\"291\" font-size=\"6\" text-anchor=\"middle\" font-style=\"italic\">[herald7]</text>\n",
       "<text x=\"267\" y=\"278\" font-size=\"7\" text-anchor=\"middle\">1</text>\n",
       "<path d=\"M357,325 C357,325,357,315,367,315 L375,315 L375,335 L367,335 C357,335,357,325,357,325 L357,325\" stroke-width=\"1\" stroke=\"black\" stroke-linejoin=\"miter\" fill=\"white\" />\n",
       "<text x=\"363\" y=\"341\" font-size=\"6\" text-anchor=\"middle\" font-style=\"italic\">[herald10]</text>\n",
       "<text x=\"367\" y=\"328\" font-size=\"7\" text-anchor=\"middle\">1</text>\n",
       "<path d=\"M357,375 C357,375,357,365,367,365 L375,365 L375,385 L367,385 C357,385,357,375,357,375 L357,375\" stroke-width=\"1\" stroke=\"black\" stroke-linejoin=\"miter\" fill=\"white\" />\n",
       "<text x=\"363\" y=\"391\" font-size=\"6\" text-anchor=\"middle\" font-style=\"italic\">[herald11]</text>\n",
       "<text x=\"367\" y=\"378\" font-size=\"7\" text-anchor=\"middle\">1</text>\n",
       "<path d=\"M540,15 L552,15 L552,85 L540,85 Z\" stroke=\"black\" fill=\"white\" stroke-linejoin=\"miter\" />\n",
       "<text x=\"552\" y=\"91\" font-size=\"6\" text-anchor=\"end\" font-style=\"italic\">[ctrl]</text>\n",
       "<path d=\"M540,115 L552,115 L552,185 L540,185 Z\" stroke=\"black\" fill=\"white\" stroke-linejoin=\"miter\" />\n",
       "<text x=\"552\" y=\"191\" font-size=\"6\" text-anchor=\"end\" font-style=\"italic\">[data]</text>\n",
       "<path d=\"M233,235 L225,235 L225,215 L233,215 C233,215,243,215,243,225 C243,235,233,235,233,235 L233,235\" stroke-width=\"1\" stroke=\"black\" stroke-linejoin=\"miter\" fill=\"white\" />\n",
       "<text x=\"238\" y=\"211\" font-size=\"6\" text-anchor=\"middle\" font-style=\"italic\">[herald0]</text>\n",
       "<text x=\"233\" y=\"228\" font-size=\"7\" text-anchor=\"middle\">1</text>\n",
       "<path d=\"M233,285 L225,285 L225,265 L233,265 C233,265,243,265,243,275 C243,285,233,285,233,285 L233,285\" stroke-width=\"1\" stroke=\"black\" stroke-linejoin=\"miter\" fill=\"white\" />\n",
       "<text x=\"238\" y=\"261\" font-size=\"6\" text-anchor=\"middle\" font-style=\"italic\">[herald1]</text>\n",
       "<text x=\"233\" y=\"278\" font-size=\"7\" text-anchor=\"middle\">1</text>\n",
       "<path d=\"M540,215 L552,215 L552,285 L540,285 Z\" stroke=\"black\" fill=\"white\" stroke-linejoin=\"miter\" />\n",
       "<text x=\"552\" y=\"291\" font-size=\"6\" text-anchor=\"end\" font-style=\"italic\">[data]</text>\n",
       "<path d=\"M333,235 L325,235 L325,215 L333,215 C333,215,343,215,343,225 C343,235,333,235,333,235 L333,235\" stroke-width=\"1\" stroke=\"black\" stroke-linejoin=\"miter\" fill=\"white\" />\n",
       "<text x=\"338\" y=\"211\" font-size=\"6\" text-anchor=\"middle\" font-style=\"italic\">[herald4]</text>\n",
       "<text x=\"333\" y=\"228\" font-size=\"7\" text-anchor=\"middle\">1</text>\n",
       "<path d=\"M333,285 L325,285 L325,265 L333,265 C333,265,343,265,343,275 C343,285,333,285,333,285 L333,285\" stroke-width=\"1\" stroke=\"black\" stroke-linejoin=\"miter\" fill=\"white\" />\n",
       "<text x=\"338\" y=\"261\" font-size=\"6\" text-anchor=\"middle\" font-style=\"italic\">[herald5]</text>\n",
       "<text x=\"333\" y=\"278\" font-size=\"7\" text-anchor=\"middle\">1</text>\n",
       "<path d=\"M433,335 L425,335 L425,315 L433,315 C433,315,443,315,443,325 C443,335,433,335,433,335 L433,335\" stroke-width=\"1\" stroke=\"black\" stroke-linejoin=\"miter\" fill=\"white\" />\n",
       "<text x=\"438\" y=\"311\" font-size=\"6\" text-anchor=\"middle\" font-style=\"italic\">[herald8]</text>\n",
       "<text x=\"433\" y=\"328\" font-size=\"7\" text-anchor=\"middle\">1</text>\n",
       "<path d=\"M433,385 L425,385 L425,365 L433,365 C433,365,443,365,443,375 C443,385,433,385,433,385 L433,385\" stroke-width=\"1\" stroke=\"black\" stroke-linejoin=\"miter\" fill=\"white\" />\n",
       "<text x=\"438\" y=\"361\" font-size=\"6\" text-anchor=\"middle\" font-style=\"italic\">[herald9]</text>\n",
       "<text x=\"433\" y=\"378\" font-size=\"7\" text-anchor=\"middle\">1</text>\n",
       "<text x=\"550\" y=\"28.0\" font-size=\"10\" text-anchor=\"end\">0</text>\n",
       "<text x=\"550\" y=\"78.0\" font-size=\"10\" text-anchor=\"end\">1</text>\n",
       "<text x=\"550\" y=\"128.0\" font-size=\"10\" text-anchor=\"end\">2</text>\n",
       "<text x=\"550\" y=\"178.0\" font-size=\"10\" text-anchor=\"end\">3</text>\n",
       "<text x=\"550\" y=\"228.0\" font-size=\"10\" text-anchor=\"end\">4</text>\n",
       "<text x=\"550\" y=\"278.0\" font-size=\"10\" text-anchor=\"end\">5</text>\n",
       "<text x=\"0\" y=\"28.0\" font-size=\"10\" text-anchor=\"start\">0</text>\n",
       "<text x=\"0\" y=\"78.0\" font-size=\"10\" text-anchor=\"start\">1</text>\n",
       "<text x=\"0\" y=\"128.0\" font-size=\"10\" text-anchor=\"start\">2</text>\n",
       "<text x=\"0\" y=\"178.0\" font-size=\"10\" text-anchor=\"start\">3</text>\n",
       "<text x=\"0\" y=\"228.0\" font-size=\"10\" text-anchor=\"start\">4</text>\n",
       "<text x=\"0\" y=\"278.0\" font-size=\"10\" text-anchor=\"start\">5</text>\n",
       "</svg>"
      ],
      "text/plain": [
       "<drawsvg.drawing.Drawing at 0x14e7e961bd0>"
      ]
     },
     "execution_count": 33,
     "metadata": {},
     "output_type": "execute_result"
    }
   ],
   "source": [
    "## Exercise: reproduce it in the encoding seen above\n",
    "\n",
    "## Solution:\n",
    "# Let's try to implement that circuit properly.\n",
    "# First, the quantum gates, as coded above :\n",
    "\n",
    "Rx = lambda i: pcvl.Circuit(2) // (0,PS(np.pi)) // BS.Rx(theta=pcvl.P(f\"theta{i}\")) // (0,PS(np.pi)) #Be careful for the minus ! We use a convention\n",
    "Ry = lambda i: pcvl.Circuit(2,name=f\"Ry{i}\") // BS.Ry(theta=pcvl.P(f\"theta{i}\"))\n",
    "Rz = lambda i: pcvl.Circuit(2,name=f\"Rz{i}\") // BS.H() // circuit_rx // BS.H()\n",
    "cnot = catalog['heralded cnot'].build_processor()\n",
    "\n",
    "# Our qubits in the dual rail encoding\n",
    "q1, q2, q3 = [0,1], [2,3], [4,5]\n",
    "\n",
    "p = pcvl.Processor(\"SLOS\",6)\n",
    "\n",
    "for i in range(3):\n",
    "    p.add(2*i,Ry(i+1)).add(2*i,Rz(i+4))\n",
    "p.add(q1+q2, cnot)\n",
    "p.add(q1+q3, cnot)\n",
    "p.add(q2+q3, cnot)\n",
    "\n",
    "for i in range(3):\n",
    "    p.add(2*i, Ry(i+7)).add(2*i, Rz(i+10))\n",
    "\n",
    "pcvl.pdisplay(p,recursive=False)"
   ]
  },
  {
   "cell_type": "markdown",
   "id": "c08b20a39f0e4ebb",
   "metadata": {},
   "source": [
    "### Graph states\n",
    "\n",
    "Graph states can be generated from a `networkx` graph with the `StateGenerator` class from Perceval."
   ]
  },
  {
   "cell_type": "code",
   "execution_count": 34,
   "id": "77f00a7d0adda4e",
   "metadata": {},
   "outputs": [
    {
     "data": {
      "image/png": "[encoded data removed]",
      "text/plain": [
       "<Figure size 640x480 with 1 Axes>"
      ]
     },
     "metadata": {},
     "output_type": "display_data"
    }
   ],
   "source": [
    "import networkx as nx\n",
    "\n",
    "g = nx.Graph()\n",
    "g.add_nodes_from([0, 1, 2])\n",
    "g.add_edge(0, 1)\n",
    "g.add_edge(1, 2)\n",
    "\n",
    "nx.draw_networkx(g, with_labels=True)"
   ]
  },
  {
   "cell_type": "code",
   "execution_count": 35,
   "id": "e57d5c99d9c40281",
   "metadata": {},
   "outputs": [
    {
     "name": "stdout",
     "output_type": "stream",
     "text": [
      "0.354*|0,1,1,0,1,0>+0.354*|1,0,1,0,1,0>+0.354*|1,0,1,0,0,1>-0.354*|0,1,0,1,1,0>+0.354*|1,0,0,1,1,0>+0.354*|0,1,1,0,0,1>+0.354*|0,1,0,1,0,1>-0.354*|1,0,0,1,0,1>\n"
     ]
    }
   ],
   "source": [
    "# Set the generator with the dual rail encoding\n",
    "generator = pcvl.StateGenerator(pcvl.Encoding.DUAL_RAIL)\n",
    "graph_state = generator.graph_state(g)\n",
    "print(graph_state)"
   ]
  },
  {
   "cell_type": "code",
   "execution_count": 36,
   "id": "81a7c90c659b6014",
   "metadata": {},
   "outputs": [
    {
     "name": "stdout",
     "output_type": "stream",
     "text": [
      "[ |1,0,1,0>, |1,0,1,0>, |1,0,1,0>, |1,0,1,0>, |1,0,1,0>, |1,0,1,0>, |1,0,1,0>, |1,0,1,0>, |1,0,1,0>, |1,0,1,0> ]\n",
      "Some output states were not selected because of heralds and post-processing => you can check the global performance\n",
      "Global performance =  0.0740740740740741\n"
     ]
    }
   ],
   "source": [
    "## You can sample some output states\n",
    "h_cnot = catalog['heralded cnot'].build_processor()\n",
    "cnot_sampler = pcvl.algorithm.Sampler(h_cnot)\n",
    "h_cnot.with_input(pcvl.LogicalState([0, 0]))\n",
    "\n",
    "samples = cnot_sampler.samples(10)\n",
    "print(samples['results'])\n",
    "print(\"Some output states were not selected because of heralds and post-processing => you can check the global performance\")\n",
    "print(\"Global performance = \", samples['global_perf'])"
   ]
  },
  {
   "cell_type": "markdown",
   "id": "65580f58d328b7d7",
   "metadata": {},
   "source": [
    "This graph state is a Perceval `StateVector`. It can be used as an input in any local computation, using `Processor.with_input()`. When a StateVector is input in a processor, it overrides any noisy source you might have set and is treated as a perfect input.\n",
    "\n",
    "Also, a state vector cannot be input in any remote simulator or QPU."
   ]
  },
  {
   "cell_type": "code",
   "execution_count": 37,
   "id": "fa9c173ee9ec6e24",
   "metadata": {},
   "outputs": [
    {
     "name": "stdout",
     "output_type": "stream",
     "text": [
      "{\n",
      "\t|2,0,1,0,0,0>: 0.0018577617243858038\n",
      "\t|3,0,0,0,0,0>: 0.040609141565078666\n",
      "\t|2,0,0,1,0,0>: 0.015142151003935976\n",
      "\t|2,1,0,0,0,0>: 0.04713061814020044\n",
      "\t|2,0,0,0,1,0>: 0.010965893319127623\n",
      "\t|1,2,0,0,0,0>: 0.0027849374334420027\n",
      "\t|0,0,1,1,0,1>: 0.04323081335677271\n",
      "\t|0,0,0,2,1,0>: 0.012181953382205558\n",
      "\t|2,0,0,0,0,1>: 0.0012484582837138478\n",
      "\t|1,1,1,0,0,0>: 0.05708618588674608\n",
      "\t|0,1,0,0,0,2>: 0.03768977144966394\n",
      "\t|1,1,0,1,0,0>: 0.007607042603343231\n",
      "\t|1,1,0,0,1,0>: 0.0018526223618340507\n",
      "\t|1,0,0,0,0,2>: 0.008344312455135726\n",
      "\t|1,1,0,0,0,1>: 0.011186496098144462\n",
      "\t|1,0,2,0,0,0>: 0.017000058893427678\n",
      "\t|1,0,1,1,0,0>: 0.009419610013859676\n",
      "\t|1,0,1,0,1,0>: 0.0013752516967958392\n",
      "\t|0,0,0,0,1,2>: 0.013998094616059546\n",
      "\t|0,0,0,1,0,2>: 0.020571785536511088\n",
      "\t|1,0,1,0,0,1>: 0.00585152370161699\n",
      "\t|0,1,2,0,0,0>: 0.00198842430555593\n",
      "\t|0,3,0,0,0,0>: 0.026238758846449512\n",
      "\t|1,0,0,2,0,0>: 0.018913531015671763\n",
      "\t|1,0,0,1,1,0>: 0.036948359423204236\n",
      "\t|1,0,0,1,0,1>: 0.003921654046660196\n",
      "\t|0,2,0,0,0,1>: 0.0001997059151684716\n",
      "\t|1,0,0,0,2,0>: 0.032707228088461604\n",
      "\t|1,0,0,0,1,1>: 0.010483996643693209\n",
      "\t|0,0,0,0,0,3>: 0.016537886995995624\n",
      "\t|0,0,3,0,0,0>: 0.0021437162105084405\n",
      "\t|0,2,1,0,0,0>: 0.006145539697147106\n",
      "\t|0,2,0,1,0,0>: 0.01884309759156956\n",
      "\t|0,0,1,0,1,1>: 0.03489584547981352\n",
      "\t|0,1,0,0,2,0>: 0.014280877190893743\n",
      "\t|0,2,0,0,1,0>: 0.022630167551527795\n",
      "\t|0,1,1,1,0,0>: 0.0556213794991211\n",
      "\t|0,0,1,0,0,2>: 0.03611524236562453\n",
      "\t|0,1,1,0,1,0>: 0.019584239395863443\n",
      "\t|0,0,0,1,1,1>: 0.0340257960143395\n",
      "\t|0,1,0,1,0,1>: 0.007763114283747965\n",
      "\t|0,1,1,0,0,1>: 0.017570625348859826\n",
      "\t|0,1,0,2,0,0>: 0.032536064190547054\n",
      "\t|0,1,0,1,1,0>: 0.006243561025606447\n",
      "\t|0,1,0,0,1,1>: 0.001935805302813846\n",
      "\t|0,0,1,0,2,0>: 0.015047839064111168\n",
      "\t|0,0,2,1,0,0>: 0.011927726359706637\n",
      "\t|0,0,2,0,1,0>: 0.03274094200083459\n",
      "\t|0,0,2,0,0,1>: 0.017860452034352953\n",
      "\t|0,0,1,2,0,0>: 0.012642336310219769\n",
      "\t|0,0,1,1,1,0>: 0.01408945063978132\n",
      "\t|0,0,0,2,0,1>: 0.008245517164634864\n",
      "\t|0,0,0,3,0,0>: 0.006159541075310164\n",
      "\t|0,0,0,1,2,0>: 0.027127031249351792\n",
      "\t|0,0,0,0,3,0>: 0.010221941659160223\n",
      "\t|0,0,0,0,2,1>: 0.01852812249169115\n",
      "}\n"
     ]
    }
   ],
   "source": [
    "p = pcvl.Processor(\"SLOS\", pcvl.Unitary(pcvl.Matrix.random_unitary(6)))  # Use a 6x6 random unitary matrix as a circuit\n",
    "p.min_detected_photons_filter(3)\n",
    "p.with_input(graph_state)\n",
    "sampler = Sampler(p)\n",
    "print(sampler.probs()['results'])"
   ]
  }
 ],
 "metadata": {
  "language_info": {
   "name": "python"
  }
 },
 "nbformat": 4,
 "nbformat_minor": 5
}
