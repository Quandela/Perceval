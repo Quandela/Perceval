{
 "cells": [
  {
   "cell_type": "markdown",
   "id": "0a97c59f",
   "metadata": {},
   "source": [
    "# Detailed walkthrough\n",
    "\n",
    "In this tutorial, we will try to cover any basic code to get our hands on Perceval.\n"
   ]
  },
  {
   "cell_type": "markdown",
   "id": "4ad79fd5",
   "metadata": {},
   "source": [
    "## I. Introduction <a class=\"anchor\" id=\"introduction\"></a>\n",
    "\n",
    "### 1. Perceval installation <a name=\"installation\"></a>"
   ]
  },
  {
   "cell_type": "code",
   "execution_count": 39,
   "id": "28abc3e4",
   "metadata": {},
   "outputs": [],
   "source": [
    "import perceval as pcvl\n",
    "import numpy as np\n",
    "\n",
    "## Use the symbolic skin for display\n",
    "from perceval.rendering.circuit import DisplayConfig, SymbSkin\n",
    "DisplayConfig.select_skin(SymbSkin)"
   ]
  },
  {
   "cell_type": "markdown",
   "id": "8817daed",
   "metadata": {
    "tags": []
   },
   "source": [
    "### 2. BasicStates <a name=\"basicstates\"></a>\n",
    "\n",
    "In Linear Optical Circuits, photons can have many discrete degrees of freedom, called modes. \n",
    "It can be the frequency, the polarisation, the position, or all of them.\n",
    "\n",
    "We represent these degrees of freedom with Fock states. If we have $n$ photons over $m$ modes, the Fock state $|s_1,s_2,...,s_m\\rangle$ means we have $s_i$ photons in the $i^{th}$ mode. Note that $\\sum_{i=1}^m s_i =n$.\n",
    "\n",
    "In Perceval, we will use the module `pcvl.BasicState`"
   ]
  },
  {
   "cell_type": "code",
   "execution_count": 40,
   "id": "435b102b",
   "metadata": {},
   "outputs": [
    {
     "name": "stdout",
     "output_type": "stream",
     "text": [
      "Those are the same states\n",
      "There is 0 photon in mode 0\n",
      "There is 2 photon in mode 1\n",
      "There is 0 photon in mode 2\n",
      "There is 1 photon in mode 3\n"
     ]
    }
   ],
   "source": [
    "## Syntax of different BasicState (list, string, etc)\n",
    "bs1 = pcvl.BasicState('|0,2,0,1>')\n",
    "bs2 = pcvl.BasicState([0, 2, 0, 1])\n",
    "\n",
    "if bs1==bs2:\n",
    "    print(\"Those are the same states\")\n",
    "\n",
    "## You can iterate on modes\n",
    "for i, photon_count in enumerate(bs2):\n",
    "    print(f\"There is {photon_count} photon in mode {i}\")"
   ]
  },
  {
   "cell_type": "markdown",
   "id": "5fe29a50",
   "metadata": {},
   "source": [
    "### 3. LO-Components <a name=\"components\"></a>\n",
    "\n",
    "The linear optical components are the elementary blocks which will act on our Fock states.\n",
    "\n",
    "It's important to know all the possible components that can be found in Perceval and understand their effects.\n",
    "\n"
   ]
  },
  {
   "cell_type": "code",
   "execution_count": 41,
   "id": "f3dad8b0",
   "metadata": {},
   "outputs": [
    {
     "name": "stdout",
     "output_type": "stream",
     "text": [
      "PERM\n",
      "PERM([2, 0, 1])\n"
     ]
    },
    {
     "data": {
      "text/latex": [
       "$\\displaystyle \\left[\\begin{matrix}0 & 1 & 0\\\\0 & 0 & 1\\\\1 & 0 & 0\\end{matrix}\\right]$"
      ],
      "text/plain": [
       "<IPython.core.display.Math object>"
      ]
     },
     "metadata": {},
     "output_type": "display_data"
    },
    {
     "data": {
      "image/svg+xml": [
       "<?xml version=\"1.0\" encoding=\"UTF-8\"?>\n",
       "<svg xmlns=\"http://www.w3.org/2000/svg\" xmlns:xlink=\"http://www.w3.org/1999/xlink\"\n",
       "     width=\"195.0\" height=\"218.75\" viewBox=\"-28.0 0 156.0 175.0\">\n",
       "<defs>\n",
       "</defs>\n",
       "<path d=\"M10,25.0 L25,25.0\" stroke-width=\"1\" stroke=\"black\" stroke-linejoin=\"miter\" fill=\"none\" />\n",
       "<path d=\"M10,75.0 L25,75.0\" stroke-width=\"1\" stroke=\"black\" stroke-linejoin=\"miter\" fill=\"none\" />\n",
       "<path d=\"M10,125.0 L25,125.0\" stroke-width=\"1\" stroke=\"black\" stroke-linejoin=\"miter\" fill=\"none\" />\n",
       "<path d=\"M25,24.8 C45,25,55,125,75,125\" stroke-width=\"2\" stroke=\"white\" stroke-linejoin=\"miter\" fill=\"none\" />\n",
       "<path d=\"M25,25 C45,25,55,125,75,125\" stroke-width=\"1\" stroke=\"black\" stroke-linejoin=\"miter\" fill=\"none\" />\n",
       "<path d=\"M25,74.8 C45,75,55,25,75,25\" stroke-width=\"2\" stroke=\"white\" stroke-linejoin=\"miter\" fill=\"none\" />\n",
       "<path d=\"M25,75 C45,75,55,25,75,25\" stroke-width=\"1\" stroke=\"black\" stroke-linejoin=\"miter\" fill=\"none\" />\n",
       "<path d=\"M25,124.8 C45,125,55,75,75,75\" stroke-width=\"2\" stroke=\"white\" stroke-linejoin=\"miter\" fill=\"none\" />\n",
       "<path d=\"M25,125 C45,125,55,75,75,75\" stroke-width=\"1\" stroke=\"black\" stroke-linejoin=\"miter\" fill=\"none\" />\n",
       "<path d=\"M75,25.0 L90,25.0\" stroke-width=\"1\" stroke=\"black\" stroke-linejoin=\"miter\" fill=\"none\" />\n",
       "<path d=\"M75,75.0 L90,75.0\" stroke-width=\"1\" stroke=\"black\" stroke-linejoin=\"miter\" fill=\"none\" />\n",
       "<path d=\"M75,125.0 L90,125.0\" stroke-width=\"1\" stroke=\"black\" stroke-linejoin=\"miter\" fill=\"none\" />\n",
       "<text x=\"100\" y=\"28.0\" font-size=\"6\" text-anchor=\"end\">0</text>\n",
       "<text x=\"100\" y=\"78.0\" font-size=\"6\" text-anchor=\"end\">1</text>\n",
       "<text x=\"100\" y=\"128.0\" font-size=\"6\" text-anchor=\"end\">2</text>\n",
       "<text x=\"0\" y=\"28.0\" font-size=\"6\" text-anchor=\"start\">0</text>\n",
       "<text x=\"0\" y=\"78.0\" font-size=\"6\" text-anchor=\"start\">1</text>\n",
       "<text x=\"0\" y=\"128.0\" font-size=\"6\" text-anchor=\"start\">2</text>\n",
       "</svg>"
      ],
      "text/plain": [
       "<drawsvg.drawing.Drawing at 0x7f6e58fb27a0>"
      ]
     },
     "execution_count": 41,
     "metadata": {},
     "output_type": "execute_result"
    }
   ],
   "source": [
    "from perceval.components import PS, BS, PERM \n",
    "\n",
    "## Permutation\n",
    "perm = PERM([2, 0, 1])\n",
    "\n",
    "print(perm.name)\n",
    "print(perm.describe())\n",
    "pcvl.pdisplay(perm.definition())\n",
    "pcvl.pdisplay(perm)"
   ]
  },
  {
   "cell_type": "code",
   "execution_count": 42,
   "id": "1d0cf3b2",
   "metadata": {},
   "outputs": [
    {
     "name": "stdout",
     "output_type": "stream",
     "text": [
      "PS\n",
      "PS(phi=pi)\n"
     ]
    },
    {
     "data": {
      "text/latex": [
       "$\\displaystyle \\left[\\begin{matrix}e^{i \\phi}\\end{matrix}\\right]$"
      ],
      "text/plain": [
       "<IPython.core.display.Math object>"
      ]
     },
     "metadata": {},
     "output_type": "display_data"
    },
    {
     "data": {
      "image/svg+xml": [
       "<?xml version=\"1.0\" encoding=\"UTF-8\"?>\n",
       "<svg xmlns=\"http://www.w3.org/2000/svg\" xmlns:xlink=\"http://www.w3.org/1999/xlink\"\n",
       "     width=\"195.0\" height=\"93.75\" viewBox=\"-28.0 0 156.0 75.0\">\n",
       "<defs>\n",
       "</defs>\n",
       "<path d=\"M10,25.0 L25,25.0\" stroke-width=\"1\" stroke=\"black\" stroke-linejoin=\"miter\" fill=\"none\" />\n",
       "<path d=\"M25,25 L45,25 M55,25 L75,25\" stroke-width=\"1\" stroke=\"black\" stroke-linejoin=\"miter\" fill=\"none\" />\n",
       "<path d=\"M40,35 L60,35 L60,15 L40,15 L40,35\" stroke-width=\"1\" stroke=\"black\" stroke-linejoin=\"miter\" fill=\"lightgray\" />\n",
       "<text x=\"50\" y=\"44\" font-size=\"7\" text-anchor=\"middle\">Φ=pi</text>\n",
       "<path d=\"M75,25.0 L90,25.0\" stroke-width=\"1\" stroke=\"black\" stroke-linejoin=\"miter\" fill=\"none\" />\n",
       "<text x=\"100\" y=\"28.0\" font-size=\"6\" text-anchor=\"end\">0</text>\n",
       "<text x=\"0\" y=\"28.0\" font-size=\"6\" text-anchor=\"start\">0</text>\n",
       "</svg>"
      ],
      "text/plain": [
       "<drawsvg.drawing.Drawing at 0x7f6e590b6f80>"
      ]
     },
     "execution_count": 42,
     "metadata": {},
     "output_type": "execute_result"
    }
   ],
   "source": [
    "## Phase shifter\n",
    "ps = PS(phi=np.pi)\n",
    "\n",
    "print(ps.name)\n",
    "print(ps.describe())  \n",
    "pcvl.pdisplay(ps.definition()) \n",
    "pcvl.pdisplay(ps)  # A pdisplay call on a circuit/processor needs to be the last line of a cell"
   ]
  },
  {
   "cell_type": "code",
   "execution_count": 43,
   "id": "d71c153b",
   "metadata": {},
   "outputs": [
    {
     "name": "stdout",
     "output_type": "stream",
     "text": [
      "BS.Rx() unitary matrix\n"
     ]
    },
    {
     "data": {
      "text/latex": [
       "$\\displaystyle \\left[\\begin{matrix}e^{i \\left(\\phi_{tl} + \\phi_{tr}\\right)} \\cos{\\left(\\frac{\\theta}{2} \\right)} & i e^{i \\left(\\phi_{bl} + \\phi_{tr}\\right)} \\sin{\\left(\\frac{\\theta}{2} \\right)}\\\\i e^{i \\left(\\phi_{br} + \\phi_{tl}\\right)} \\sin{\\left(\\frac{\\theta}{2} \\right)} & e^{i \\left(\\phi_{bl} + \\phi_{br}\\right)} \\cos{\\left(\\frac{\\theta}{2} \\right)}\\end{matrix}\\right]$"
      ],
      "text/plain": [
       "<IPython.core.display.Math object>"
      ]
     },
     "metadata": {},
     "output_type": "display_data"
    },
    {
     "name": "stdout",
     "output_type": "stream",
     "text": [
      "BS.H() unitary matrix\n"
     ]
    },
    {
     "data": {
      "text/latex": [
       "$\\displaystyle \\left[\\begin{matrix}e^{i \\left(\\phi_{tl} + \\phi_{tr}\\right)} \\cos{\\left(\\frac{\\theta}{2} \\right)} & e^{i \\left(\\phi_{bl} + \\phi_{tr}\\right)} \\sin{\\left(\\frac{\\theta}{2} \\right)}\\\\e^{i \\left(\\phi_{br} + \\phi_{tl}\\right)} \\sin{\\left(\\frac{\\theta}{2} \\right)} & - e^{i \\left(\\phi_{bl} + \\phi_{br}\\right)} \\cos{\\left(\\frac{\\theta}{2} \\right)}\\end{matrix}\\right]$"
      ],
      "text/plain": [
       "<IPython.core.display.Math object>"
      ]
     },
     "metadata": {},
     "output_type": "display_data"
    },
    {
     "name": "stdout",
     "output_type": "stream",
     "text": [
      "BS.Ry() unitary matrix\n"
     ]
    },
    {
     "data": {
      "text/latex": [
       "$\\displaystyle \\left[\\begin{matrix}e^{i \\left(\\phi_{tl} + \\phi_{tr}\\right)} \\cos{\\left(\\frac{\\theta}{2} \\right)} & - e^{i \\left(\\phi_{bl} + \\phi_{tr}\\right)} \\sin{\\left(\\frac{\\theta}{2} \\right)}\\\\e^{i \\left(\\phi_{br} + \\phi_{tl}\\right)} \\sin{\\left(\\frac{\\theta}{2} \\right)} & e^{i \\left(\\phi_{bl} + \\phi_{br}\\right)} \\cos{\\left(\\frac{\\theta}{2} \\right)}\\end{matrix}\\right]$"
      ],
      "text/plain": [
       "<IPython.core.display.Math object>"
      ]
     },
     "metadata": {},
     "output_type": "display_data"
    },
    {
     "name": "stdout",
     "output_type": "stream",
     "text": [
      "BS displays its convention as a small label\n"
     ]
    },
    {
     "data": {
      "image/svg+xml": [
       "<?xml version=\"1.0\" encoding=\"UTF-8\"?>\n",
       "<svg xmlns=\"http://www.w3.org/2000/svg\" xmlns:xlink=\"http://www.w3.org/1999/xlink\"\n",
       "     width=\"257.5\" height=\"156.25\" viewBox=\"-28.0 0 206.0 125.0\">\n",
       "<defs>\n",
       "</defs>\n",
       "<path d=\"M10,25.0 L25,25.0\" stroke-width=\"1\" stroke=\"black\" stroke-linejoin=\"miter\" fill=\"none\" />\n",
       "<path d=\"M10,75.0 L25,75.0\" stroke-width=\"1\" stroke=\"black\" stroke-linejoin=\"miter\" fill=\"none\" />\n",
       "<path d=\"M37.9442,25.0002 C51.653800000000004,25.0002,51.5923,50.0,65.3019,50.0 M65.3038,50.0 C51.59219999999999,50.0,51.6538,74.9998,37.94409999999999,74.9998 M65.3038,49.99999999999999 L87.1884,49.99999999999999 M87.1884,49.99999999999999 C100.9,49.99999999999999,100.83840000000001,25.000199999999992,114.5481,25.000199999999992 M87.1884,49.99999999999999 C100.9,49.99999999999999,100.83840000000001,74.9998,114.5481,74.9998 M25.0,24.999999999999993 L38.0,24.999999999999993 M38.0019,74.9998 L25.0,74.9998 M112.6453,74.9998 L125.0,74.9998 M112.1944,24.999799999999993 L125.0,24.999799999999993\" stroke-width=\"1\" stroke=\"black\" stroke-linejoin=\"miter\" fill=\"none\" />\n",
       "<text x=\"75\" y=\"38\" font-size=\"7\" text-anchor=\"middle\"></text>\n",
       "<path d=\"M97,53 L107,53 L107,63 L97,63 Z\" stroke=\"black\" fill=\"lightsalmon\" stroke-linejoin=\"miter\" />\n",
       "<text x=\"102\" y=\"60\" font-size=\"6\" text-anchor=\"middle\">Ry</text>\n",
       "<path d=\"M125,25.0 L140,25.0\" stroke-width=\"1\" stroke=\"black\" stroke-linejoin=\"miter\" fill=\"none\" />\n",
       "<path d=\"M125,75.0 L140,75.0\" stroke-width=\"1\" stroke=\"black\" stroke-linejoin=\"miter\" fill=\"none\" />\n",
       "<text x=\"150\" y=\"28.0\" font-size=\"6\" text-anchor=\"end\">0</text>\n",
       "<text x=\"150\" y=\"78.0\" font-size=\"6\" text-anchor=\"end\">1</text>\n",
       "<text x=\"0\" y=\"28.0\" font-size=\"6\" text-anchor=\"start\">0</text>\n",
       "<text x=\"0\" y=\"78.0\" font-size=\"6\" text-anchor=\"start\">1</text>\n",
       "</svg>"
      ],
      "text/plain": [
       "<drawsvg.drawing.Drawing at 0x7f6e59238280>"
      ]
     },
     "execution_count": 43,
     "metadata": {},
     "output_type": "execute_result"
    }
   ],
   "source": [
    "## Beam splitters\n",
    "bs_rx = BS.Rx()  # By default, a beam splitter follows the Rx gate convention, so bs=BS() has the same matrix\n",
    "\n",
    "# But other conventions exist too:\n",
    "bs_h = BS.H() \n",
    "bs_ry = BS.Ry()\n",
    "\n",
    "## Check the difference in the unitary definition:\n",
    "print(\"BS.Rx() unitary matrix\")\n",
    "pcvl.pdisplay(bs_rx.definition())\n",
    "print(\"BS.H() unitary matrix\")\n",
    "pcvl.pdisplay(bs_h.definition())\n",
    "print(\"BS.Ry() unitary matrix\")\n",
    "pcvl.pdisplay(bs_ry.definition())\n",
    "print(\"BS displays its convention as a small label\")\n",
    "pcvl.pdisplay(bs_ry)"
   ]
  },
  {
   "cell_type": "code",
   "execution_count": 44,
   "id": "cd1e84bb",
   "metadata": {},
   "outputs": [
    {
     "data": {
      "text/latex": [
       "$\\displaystyle \\left[\\begin{matrix}e^{0.392699081698724 i}\\end{matrix}\\right]$"
      ],
      "text/plain": [
       "<IPython.core.display.Math object>"
      ]
     },
     "metadata": {},
     "output_type": "display_data"
    },
    {
     "data": {
      "text/latex": [
       "$\\displaystyle \\left[\\begin{matrix}0.92388 + 0.382683 i\\end{matrix}\\right]$"
      ],
      "text/plain": [
       "<IPython.core.display.Math object>"
      ]
     },
     "metadata": {},
     "output_type": "display_data"
    },
    {
     "name": "stdout",
     "output_type": "stream",
     "text": [
      "A Phase Shifter with a symbolic value for phi:\n"
     ]
    },
    {
     "data": {
      "text/latex": [
       "$\\displaystyle \\left[\\begin{matrix}e^{i \\psi}\\end{matrix}\\right]$"
      ],
      "text/plain": [
       "<IPython.core.display.Math object>"
      ]
     },
     "metadata": {},
     "output_type": "display_data"
    }
   ],
   "source": [
    "# You can ask for the symbolic matrix value of your component with the attribute U\n",
    "my_ps = PS(phi=np.pi/8)\n",
    "pcvl.pdisplay(my_ps.U)\n",
    "# And for the numerical value with the method compute_unitary\n",
    "pcvl.pdisplay(my_ps.compute_unitary())\n",
    "\n",
    "#  - by using the syntax pcvl.P to create a symbolic variable \n",
    "#    (note that you cannot compute the numerical value of your component anymore)\n",
    "print(\"A Phase Shifter with a symbolic value for phi:\")\n",
    "ps = PS(phi=pcvl.P('\\psi'))\n",
    "pcvl.pdisplay(ps.U)"
   ]
  },
  {
   "cell_type": "code",
   "execution_count": 45,
   "id": "1229ce208701100e",
   "metadata": {},
   "outputs": [
    {
     "name": "stdout",
     "output_type": "stream",
     "text": [
      "A default beam-splitter:\n"
     ]
    },
    {
     "data": {
      "text/latex": [
       "$\\displaystyle \\left[\\begin{matrix}\\frac{\\sqrt{2}}{2} & \\frac{\\sqrt{2} i}{2}\\\\\\frac{\\sqrt{2} i}{2} & \\frac{\\sqrt{2}}{2}\\end{matrix}\\right]$"
      ],
      "text/plain": [
       "<IPython.core.display.Math object>"
      ]
     },
     "metadata": {},
     "output_type": "display_data"
    },
    {
     "name": "stdout",
     "output_type": "stream",
     "text": [
      "\n",
      "A Beam-Splitter with a numerical value for theta:\n"
     ]
    },
    {
     "data": {
      "text/latex": [
       "$\\displaystyle \\left[\\begin{matrix}\\cos{\\left(5 \\right)} & i \\sin{\\left(5 \\right)}\\\\i \\sin{\\left(5 \\right)} & \\cos{\\left(5 \\right)}\\end{matrix}\\right]$"
      ],
      "text/plain": [
       "<IPython.core.display.Math object>"
      ]
     },
     "metadata": {},
     "output_type": "display_data"
    },
    {
     "data": {
      "text/latex": [
       "$\\displaystyle \\left[\\begin{matrix}0.283662 & - 0.958924 i\\\\- 0.958924 i & 0.283662\\end{matrix}\\right]$"
      ],
      "text/plain": [
       "<IPython.core.display.Math object>"
      ]
     },
     "metadata": {},
     "output_type": "display_data"
    },
    {
     "name": "stdout",
     "output_type": "stream",
     "text": [
      "\n",
      "A Phase Shifter with a symbolic value for phi:\n"
     ]
    },
    {
     "data": {
      "text/latex": [
       "$\\displaystyle \\left[\\begin{matrix}e^{i \\psi}\\end{matrix}\\right]$"
      ],
      "text/plain": [
       "<IPython.core.display.Math object>"
      ]
     },
     "metadata": {},
     "output_type": "display_data"
    },
    {
     "name": "stdout",
     "output_type": "stream",
     "text": [
      "\n",
      "A beam-splitter with a symbolic variable...\n"
     ]
    },
    {
     "data": {
      "text/latex": [
       "$\\displaystyle \\left[\\begin{matrix}\\cos{\\left(\\frac{toto}{2} \\right)} & i \\sin{\\left(\\frac{toto}{2} \\right)}\\\\i \\sin{\\left(\\frac{toto}{2} \\right)} & \\cos{\\left(\\frac{toto}{2} \\right)}\\end{matrix}\\right]$"
      ],
      "text/plain": [
       "<IPython.core.display.Math object>"
      ]
     },
     "metadata": {},
     "output_type": "display_data"
    },
    {
     "name": "stdout",
     "output_type": "stream",
     "text": [
      "... set to a numerical value\n"
     ]
    },
    {
     "data": {
      "text/latex": [
       "$\\displaystyle \\left[\\begin{matrix}0.283662 & - 0.958924 i\\\\- 0.958924 i & 0.283662\\end{matrix}\\right]$"
      ],
      "text/plain": [
       "<IPython.core.display.Math object>"
      ]
     },
     "metadata": {},
     "output_type": "display_data"
    }
   ],
   "source": [
    "# If you do it for a Beam-Splitter, you can see that by default theta=pi/2, and the phi's are 0\n",
    "print(\"A default beam-splitter:\")\n",
    "pcvl.pdisplay(BS().compute_unitary())  # this is a balanced Beamsplitter\n",
    "print(\"\")\n",
    "\n",
    "# To control the value of the parameters of a component, several choices are possible: \n",
    "#  - by setting a numerical value during the creation of the component\n",
    "print(\"A Beam-Splitter with a numerical value for theta:\")\n",
    "bs_rx = BS.Rx(theta=10)\n",
    "pcvl.pdisplay(bs_rx.U)\n",
    "pcvl.pdisplay(bs_rx.compute_unitary())\n",
    "print(\"\")\n",
    "\n",
    "#  - by using the syntax pcvl.P to create a symbolic variable \n",
    "#    (note that you cannot compute the numerical value of your component anymore)\n",
    "print(\"A Phase Shifter with a symbolic value for phi:\")\n",
    "ps = PS(phi=pcvl.P('\\psi'))\n",
    "pcvl.pdisplay(ps.U)\n",
    "print(\"\")\n",
    "\n",
    "#  - you can still modify the value of a symbolic variable after its creation\n",
    "#    This is not true for a numerical variable!\n",
    "print(\"A beam-splitter with a symbolic variable...\")\n",
    "bs_rx = BS(theta=pcvl.P('toto'))\n",
    "pcvl.pdisplay(bs_rx.U)\n",
    "bs_rx.assign({'toto':5})\n",
    "bs_rx.assign({'toto':10})\n",
    "print(\"... set to a numerical value\")\n",
    "pcvl.pdisplay(bs_rx.compute_unitary())"
   ]
  },
  {
   "cell_type": "code",
   "execution_count": 46,
   "id": "b04b1194",
   "metadata": {},
   "outputs": [
    {
     "data": {
      "text/latex": [
       "$\\displaystyle \\left[\\begin{matrix}e^{i \\left(\\phi_{tl} + \\phi_{tr}\\right)} \\cos{\\left(\\frac{\\theta}{2} \\right)} & i e^{i \\left(\\phi_{bl} + \\phi_{tr}\\right)} \\sin{\\left(\\frac{\\theta}{2} \\right)}\\\\i e^{i \\left(\\phi_{br} + \\phi_{tl}\\right)} \\sin{\\left(\\frac{\\theta}{2} \\right)} & e^{i \\left(\\phi_{bl} + \\phi_{br}\\right)} \\cos{\\left(\\frac{\\theta}{2} \\right)}\\end{matrix}\\right]$"
      ],
      "text/plain": [
       "<IPython.core.display.Math object>"
      ]
     },
     "metadata": {},
     "output_type": "display_data"
    },
    {
     "data": {
      "image/svg+xml": [
       "<?xml version=\"1.0\" encoding=\"UTF-8\"?>\n",
       "<svg xmlns=\"http://www.w3.org/2000/svg\" xmlns:xlink=\"http://www.w3.org/1999/xlink\"\n",
       "     width=\"382.5\" height=\"156.25\" viewBox=\"-28.0 0 306.0 125.0\">\n",
       "<defs>\n",
       "</defs>\n",
       "<path d=\"M10,25.0 L25,25.0\" stroke-width=\"1\" stroke=\"black\" stroke-linejoin=\"miter\" fill=\"none\" />\n",
       "<path d=\"M10,75.0 L25,75.0\" stroke-width=\"1\" stroke=\"black\" stroke-linejoin=\"miter\" fill=\"none\" />\n",
       "<path d=\"M25,25 L45,25 M55,25 L75,25\" stroke-width=\"1\" stroke=\"black\" stroke-linejoin=\"miter\" fill=\"none\" />\n",
       "<path d=\"M40,35 L60,35 L60,15 L40,15 L40,35\" stroke-width=\"1\" stroke=\"black\" stroke-linejoin=\"miter\" fill=\"lightgray\" />\n",
       "<text x=\"50\" y=\"44\" font-size=\"7\" text-anchor=\"middle\">Φ=phi_tl</text>\n",
       "<path d=\"M25,75 L45,75 M55,75 L75,75\" stroke-width=\"1\" stroke=\"black\" stroke-linejoin=\"miter\" fill=\"none\" />\n",
       "<path d=\"M40,85 L60,85 L60,65 L40,65 L40,85\" stroke-width=\"1\" stroke=\"black\" stroke-linejoin=\"miter\" fill=\"lightgray\" />\n",
       "<text x=\"50\" y=\"94\" font-size=\"7\" text-anchor=\"middle\">Φ=phi_bl</text>\n",
       "<path d=\"M87.9442,25.0002 C101.65379999999999,25.0002,101.5923,50.0,115.30189999999999,50.0 M115.3038,50.0 C101.59219999999999,50.0,101.65379999999999,74.9998,87.94409999999999,74.9998 M115.3038,49.99999999999999 L137.1884,49.99999999999999 M137.1884,49.99999999999999 C150.9,49.99999999999999,150.8384,25.000199999999992,164.5481,25.000199999999992 M137.1884,49.99999999999999 C150.9,49.99999999999999,150.8384,74.9998,164.5481,74.9998 M75.0,24.999999999999993 L88.0,24.999999999999993 M88.0019,74.9998 L75.0,74.9998 M162.64530000000002,74.9998 L175.0,74.9998 M162.1944,24.999799999999993 L175.0,24.999799999999993\" stroke-width=\"1\" stroke=\"black\" stroke-linejoin=\"miter\" fill=\"none\" />\n",
       "<text x=\"125\" y=\"38\" font-size=\"7\" text-anchor=\"middle\">Θ=theta</text>\n",
       "<path d=\"M147,53 L157,53 L157,63 L147,63 Z\" stroke=\"black\" fill=\"thistle\" stroke-linejoin=\"miter\" />\n",
       "<text x=\"152\" y=\"60\" font-size=\"6\" text-anchor=\"middle\">Rx</text>\n",
       "<path d=\"M175,25 L195,25 M205,25 L225,25\" stroke-width=\"1\" stroke=\"black\" stroke-linejoin=\"miter\" fill=\"none\" />\n",
       "<path d=\"M190,35 L210,35 L210,15 L190,15 L190,35\" stroke-width=\"1\" stroke=\"black\" stroke-linejoin=\"miter\" fill=\"lightgray\" />\n",
       "<text x=\"200\" y=\"44\" font-size=\"7\" text-anchor=\"middle\">Φ=phi_tr</text>\n",
       "<path d=\"M175,75 L195,75 M205,75 L225,75\" stroke-width=\"1\" stroke=\"black\" stroke-linejoin=\"miter\" fill=\"none\" />\n",
       "<path d=\"M190,85 L210,85 L210,65 L190,65 L190,85\" stroke-width=\"1\" stroke=\"black\" stroke-linejoin=\"miter\" fill=\"lightgray\" />\n",
       "<text x=\"200\" y=\"94\" font-size=\"7\" text-anchor=\"middle\">Φ=phi_br</text>\n",
       "<path d=\"M225,25.0 L240,25.0\" stroke-width=\"1\" stroke=\"black\" stroke-linejoin=\"miter\" fill=\"none\" />\n",
       "<path d=\"M225,75.0 L240,75.0\" stroke-width=\"1\" stroke=\"black\" stroke-linejoin=\"miter\" fill=\"none\" />\n",
       "<text x=\"250\" y=\"28.0\" font-size=\"6\" text-anchor=\"end\">0</text>\n",
       "<text x=\"250\" y=\"78.0\" font-size=\"6\" text-anchor=\"end\">1</text>\n",
       "<text x=\"0\" y=\"28.0\" font-size=\"6\" text-anchor=\"start\">0</text>\n",
       "<text x=\"0\" y=\"78.0\" font-size=\"6\" text-anchor=\"start\">1</text>\n",
       "</svg>"
      ],
      "text/plain": [
       "<drawsvg.drawing.Drawing at 0x7f6e595e4760>"
      ]
     },
     "execution_count": 46,
     "metadata": {},
     "output_type": "execute_result"
    }
   ],
   "source": [
    "## to understand the conventions, you can note that a BS.Rx with the 4 phases phi (top left/right and bottom left/right) can be represented like that \n",
    "\n",
    "bs_rx_circuit=pcvl.Circuit(2) // (0, PS(phi=pcvl.P(\"phi_tl\"))) // (1, PS(phi=pcvl.P(\"phi_bl\"))) // BS(theta=pcvl.P('theta')) // (0, PS(phi=pcvl.P(\"phi_tr\"))) // (1, PS(phi=pcvl.P(\"phi_br\")))\n",
    "\n",
    "pcvl.pdisplay(bs_rx_circuit.U)\n",
    "\n",
    "# we can check it's the same as bs_rx.definition()\n",
    "pcvl.pdisplay(bs_rx_circuit)\n",
    "\n",
    "## For this cell, we needed the syntax to builds circuits... Good transition !"
   ]
  },
  {
   "cell_type": "markdown",
   "id": "bb4cd4d2",
   "metadata": {},
   "source": [
    "## II. LO-Circuits <a class=\"anchor\" id=\"circuits\"></a>\n",
    "\n",
    "From the LO-components, we can build a LO-circuit, i.e. a sequence of those components acting on our different modes.\n",
    "\n",
    "### 1. Syntax"
   ]
  },
  {
   "cell_type": "code",
   "execution_count": 47,
   "id": "2ab8b90e",
   "metadata": {},
   "outputs": [
    {
     "data": {
      "text/latex": [
       "$\\displaystyle \\left[\\begin{matrix}\\frac{\\sqrt{2} e^{1.5707963267949 i}}{2} & \\frac{\\sqrt{2} i e^{1.5707963267949 i}}{2} & 0\\\\\\frac{i e^{i \\phi}}{2} & \\frac{e^{i \\phi}}{2} & \\frac{\\sqrt{2} i}{2}\\\\- \\frac{e^{i \\phi}}{2} & \\frac{i e^{i \\phi}}{2} & \\frac{\\sqrt{2}}{2}\\end{matrix}\\right]$"
      ],
      "text/plain": [
       "<IPython.core.display.Math object>"
      ]
     },
     "metadata": {},
     "output_type": "display_data"
    },
    {
     "data": {
      "image/svg+xml": [
       "<?xml version=\"1.0\" encoding=\"UTF-8\"?>\n",
       "<svg xmlns=\"http://www.w3.org/2000/svg\" xmlns:xlink=\"http://www.w3.org/1999/xlink\"\n",
       "     width=\"445.0\" height=\"218.75\" viewBox=\"-28.0 0 356.0 175.0\">\n",
       "<defs>\n",
       "</defs>\n",
       "<path d=\"M10,25.0 L25,25.0\" stroke-width=\"1\" stroke=\"black\" stroke-linejoin=\"miter\" fill=\"none\" />\n",
       "<path d=\"M10,75.0 L25,75.0\" stroke-width=\"1\" stroke=\"black\" stroke-linejoin=\"miter\" fill=\"none\" />\n",
       "<path d=\"M10,125.0 L25,125.0\" stroke-width=\"1\" stroke=\"black\" stroke-linejoin=\"miter\" fill=\"none\" />\n",
       "<path d=\"M37.9442,25.0002 C51.653800000000004,25.0002,51.5923,50.0,65.3019,50.0 M65.3038,50.0 C51.59219999999999,50.0,51.6538,74.9998,37.94409999999999,74.9998 M65.3038,49.99999999999999 L87.1884,49.99999999999999 M87.1884,49.99999999999999 C100.9,49.99999999999999,100.83840000000001,25.000199999999992,114.5481,25.000199999999992 M87.1884,49.99999999999999 C100.9,49.99999999999999,100.83840000000001,74.9998,114.5481,74.9998 M25.0,24.999999999999993 L38.0,24.999999999999993 M38.0019,74.9998 L25.0,74.9998 M112.6453,74.9998 L125.0,74.9998 M112.1944,24.999799999999993 L125.0,24.999799999999993\" stroke-width=\"1\" stroke=\"black\" stroke-linejoin=\"miter\" fill=\"none\" />\n",
       "<text x=\"75\" y=\"38\" font-size=\"7\" text-anchor=\"middle\"></text>\n",
       "<path d=\"M97,53 L107,53 L107,63 L97,63 Z\" stroke=\"black\" fill=\"thistle\" stroke-linejoin=\"miter\" />\n",
       "<text x=\"102\" y=\"60\" font-size=\"6\" text-anchor=\"middle\">Rx</text>\n",
       "<path d=\"M125,25 L145,25 M155,25 L175,25\" stroke-width=\"1\" stroke=\"black\" stroke-linejoin=\"miter\" fill=\"none\" />\n",
       "<path d=\"M140,35 L160,35 L160,15 L140,15 L140,35\" stroke-width=\"1\" stroke=\"black\" stroke-linejoin=\"miter\" fill=\"lightgray\" />\n",
       "<text x=\"150\" y=\"44\" font-size=\"7\" text-anchor=\"middle\">Φ=pi/2</text>\n",
       "<path d=\"M125,75 L145,75 M155,75 L175,75\" stroke-width=\"1\" stroke=\"black\" stroke-linejoin=\"miter\" fill=\"none\" />\n",
       "<path d=\"M140,85 L160,85 L160,65 L140,65 L140,85\" stroke-width=\"1\" stroke=\"black\" stroke-linejoin=\"miter\" fill=\"lightgray\" />\n",
       "<text x=\"150\" y=\"94\" font-size=\"7\" text-anchor=\"middle\">Φ=phi</text>\n",
       "<path d=\"M25,125.0 L175,125.0\" stroke=\"black\" stroke-width=\"1\" fill=\"none\" />\n",
       "<path d=\"M187.9442,75.0002 C201.6538,75.0002,201.5923,100.0,215.3019,100.0 M215.3038,100.0 C201.5922,100.0,201.6538,124.9998,187.9441,124.9998 M215.3038,100.0 L237.1884,100.0 M237.1884,100.0 C250.9,100.0,250.8384,75.0002,264.5481,75.0002 M237.18839999999997,100.0 C250.89999999999998,100.0,250.83839999999998,124.9998,264.5481,124.9998 M174.99999999999997,75.0 L187.99999999999997,75.0 M188.00189999999998,124.9998 L174.99999999999997,124.9998 M262.64529999999996,124.9998 L274.99999999999994,124.9998 M262.1944,74.9998 L275.0,74.9998\" stroke-width=\"1\" stroke=\"black\" stroke-linejoin=\"miter\" fill=\"none\" />\n",
       "<text x=\"225\" y=\"88\" font-size=\"7\" text-anchor=\"middle\"></text>\n",
       "<path d=\"M247,103 L257,103 L257,113 L247,113 Z\" stroke=\"black\" fill=\"thistle\" stroke-linejoin=\"miter\" />\n",
       "<text x=\"252\" y=\"110\" font-size=\"6\" text-anchor=\"middle\">Rx</text>\n",
       "<path d=\"M175,25.0 L275,25.0\" stroke=\"black\" stroke-width=\"1\" fill=\"none\" />\n",
       "<path d=\"M275,25.0 L290,25.0\" stroke-width=\"1\" stroke=\"black\" stroke-linejoin=\"miter\" fill=\"none\" />\n",
       "<path d=\"M275,75.0 L290,75.0\" stroke-width=\"1\" stroke=\"black\" stroke-linejoin=\"miter\" fill=\"none\" />\n",
       "<path d=\"M275,125.0 L290,125.0\" stroke-width=\"1\" stroke=\"black\" stroke-linejoin=\"miter\" fill=\"none\" />\n",
       "<text x=\"300\" y=\"28.0\" font-size=\"6\" text-anchor=\"end\">0</text>\n",
       "<text x=\"300\" y=\"78.0\" font-size=\"6\" text-anchor=\"end\">1</text>\n",
       "<text x=\"300\" y=\"128.0\" font-size=\"6\" text-anchor=\"end\">2</text>\n",
       "<text x=\"0\" y=\"28.0\" font-size=\"6\" text-anchor=\"start\">0</text>\n",
       "<text x=\"0\" y=\"78.0\" font-size=\"6\" text-anchor=\"start\">1</text>\n",
       "<text x=\"0\" y=\"128.0\" font-size=\"6\" text-anchor=\"start\">2</text>\n",
       "</svg>"
      ],
      "text/plain": [
       "<drawsvg.drawing.Drawing at 0x7f6e59046890>"
      ]
     },
     "execution_count": 47,
     "metadata": {},
     "output_type": "execute_result"
    }
   ],
   "source": [
    "circuit = pcvl.Circuit(3)  # Create an empty 3 mode circuit\n",
    "\n",
    "circuit.add(0, BS())  # The beam splitter is added to the circuit on mode 0 and 1\n",
    "                      # even though only the first mode is required in `add` method\n",
    "circuit.add(0, PS(phi=np.pi/2)).add(1, PS(phi=pcvl.P('phi'))).add(1, BS())\n",
    "\n",
    "# Equivalent syntax:\n",
    "# circuit // BS() // PS(phi=np.pi/2) // (1, PS(phi=pcvl.P('phi'))) // (1, BS())\n",
    " \n",
    "pcvl.pdisplay(circuit.U)\n",
    "pcvl.pdisplay(circuit)"
   ]
  },
  {
   "cell_type": "markdown",
   "id": "0efeef18",
   "metadata": {},
   "source": [
    "The syntax ``pcvl.P('phi')`` allows you to use parameters in the circuit, where you can assign a value or not. The behavior of the parameters of a circuit is similar to the case of the components.\n",
    "\n",
    "For instance, you can use :"
   ]
  },
  {
   "cell_type": "code",
   "execution_count": 48,
   "id": "1230c948",
   "metadata": {},
   "outputs": [
    {
     "name": "stdout",
     "output_type": "stream",
     "text": [
      "[Parameter(name='phi', value=None, min_v=0.0, max_v=6.283185307179586)]\n"
     ]
    },
    {
     "data": {
      "image/svg+xml": [
       "<?xml version=\"1.0\" encoding=\"UTF-8\"?>\n",
       "<svg xmlns=\"http://www.w3.org/2000/svg\" xmlns:xlink=\"http://www.w3.org/1999/xlink\"\n",
       "     width=\"445.0\" height=\"218.75\" viewBox=\"-28.0 0 356.0 175.0\">\n",
       "<defs>\n",
       "</defs>\n",
       "<path d=\"M10,25.0 L25,25.0\" stroke-width=\"1\" stroke=\"black\" stroke-linejoin=\"miter\" fill=\"none\" />\n",
       "<path d=\"M10,75.0 L25,75.0\" stroke-width=\"1\" stroke=\"black\" stroke-linejoin=\"miter\" fill=\"none\" />\n",
       "<path d=\"M10,125.0 L25,125.0\" stroke-width=\"1\" stroke=\"black\" stroke-linejoin=\"miter\" fill=\"none\" />\n",
       "<path d=\"M37.9442,25.0002 C51.653800000000004,25.0002,51.5923,50.0,65.3019,50.0 M65.3038,50.0 C51.59219999999999,50.0,51.6538,74.9998,37.94409999999999,74.9998 M65.3038,49.99999999999999 L87.1884,49.99999999999999 M87.1884,49.99999999999999 C100.9,49.99999999999999,100.83840000000001,25.000199999999992,114.5481,25.000199999999992 M87.1884,49.99999999999999 C100.9,49.99999999999999,100.83840000000001,74.9998,114.5481,74.9998 M25.0,24.999999999999993 L38.0,24.999999999999993 M38.0019,74.9998 L25.0,74.9998 M112.6453,74.9998 L125.0,74.9998 M112.1944,24.999799999999993 L125.0,24.999799999999993\" stroke-width=\"1\" stroke=\"black\" stroke-linejoin=\"miter\" fill=\"none\" />\n",
       "<text x=\"75\" y=\"38\" font-size=\"7\" text-anchor=\"middle\"></text>\n",
       "<path d=\"M97,53 L107,53 L107,63 L97,63 Z\" stroke=\"black\" fill=\"thistle\" stroke-linejoin=\"miter\" />\n",
       "<text x=\"102\" y=\"60\" font-size=\"6\" text-anchor=\"middle\">Rx</text>\n",
       "<path d=\"M125,25 L145,25 M155,25 L175,25\" stroke-width=\"1\" stroke=\"black\" stroke-linejoin=\"miter\" fill=\"none\" />\n",
       "<path d=\"M140,35 L160,35 L160,15 L140,15 L140,35\" stroke-width=\"1\" stroke=\"black\" stroke-linejoin=\"miter\" fill=\"lightgray\" />\n",
       "<text x=\"150\" y=\"44\" font-size=\"7\" text-anchor=\"middle\">Φ=pi/2</text>\n",
       "<path d=\"M125,75 L145,75 M155,75 L175,75\" stroke-width=\"1\" stroke=\"black\" stroke-linejoin=\"miter\" fill=\"none\" />\n",
       "<path d=\"M140,85 L160,85 L160,65 L140,65 L140,85\" stroke-width=\"1\" stroke=\"black\" stroke-linejoin=\"miter\" fill=\"lightgray\" />\n",
       "<text x=\"150\" y=\"94\" font-size=\"7\" text-anchor=\"middle\">Φ=pi</text>\n",
       "<path d=\"M25,125.0 L175,125.0\" stroke=\"black\" stroke-width=\"1\" fill=\"none\" />\n",
       "<path d=\"M187.9442,75.0002 C201.6538,75.0002,201.5923,100.0,215.3019,100.0 M215.3038,100.0 C201.5922,100.0,201.6538,124.9998,187.9441,124.9998 M215.3038,100.0 L237.1884,100.0 M237.1884,100.0 C250.9,100.0,250.8384,75.0002,264.5481,75.0002 M237.18839999999997,100.0 C250.89999999999998,100.0,250.83839999999998,124.9998,264.5481,124.9998 M174.99999999999997,75.0 L187.99999999999997,75.0 M188.00189999999998,124.9998 L174.99999999999997,124.9998 M262.64529999999996,124.9998 L274.99999999999994,124.9998 M262.1944,74.9998 L275.0,74.9998\" stroke-width=\"1\" stroke=\"black\" stroke-linejoin=\"miter\" fill=\"none\" />\n",
       "<text x=\"225\" y=\"88\" font-size=\"7\" text-anchor=\"middle\"></text>\n",
       "<path d=\"M247,103 L257,103 L257,113 L247,113 Z\" stroke=\"black\" fill=\"thistle\" stroke-linejoin=\"miter\" />\n",
       "<text x=\"252\" y=\"110\" font-size=\"6\" text-anchor=\"middle\">Rx</text>\n",
       "<path d=\"M175,25.0 L275,25.0\" stroke=\"black\" stroke-width=\"1\" fill=\"none\" />\n",
       "<path d=\"M275,25.0 L290,25.0\" stroke-width=\"1\" stroke=\"black\" stroke-linejoin=\"miter\" fill=\"none\" />\n",
       "<path d=\"M275,75.0 L290,75.0\" stroke-width=\"1\" stroke=\"black\" stroke-linejoin=\"miter\" fill=\"none\" />\n",
       "<path d=\"M275,125.0 L290,125.0\" stroke-width=\"1\" stroke=\"black\" stroke-linejoin=\"miter\" fill=\"none\" />\n",
       "<text x=\"300\" y=\"28.0\" font-size=\"6\" text-anchor=\"end\">0</text>\n",
       "<text x=\"300\" y=\"78.0\" font-size=\"6\" text-anchor=\"end\">1</text>\n",
       "<text x=\"300\" y=\"128.0\" font-size=\"6\" text-anchor=\"end\">2</text>\n",
       "<text x=\"0\" y=\"28.0\" font-size=\"6\" text-anchor=\"start\">0</text>\n",
       "<text x=\"0\" y=\"78.0\" font-size=\"6\" text-anchor=\"start\">1</text>\n",
       "<text x=\"0\" y=\"128.0\" font-size=\"6\" text-anchor=\"start\">2</text>\n",
       "</svg>"
      ],
      "text/plain": [
       "<drawsvg.drawing.Drawing at 0x7f6e590faf50>"
      ]
     },
     "execution_count": 48,
     "metadata": {},
     "output_type": "execute_result"
    }
   ],
   "source": [
    "params=circuit.get_parameters()\n",
    "print(params) # list of the parameters\n",
    "\n",
    "# the value is not set, but we can change that with:\n",
    "params[0].set_value(np.pi)\n",
    "pcvl.pdisplay(circuit)"
   ]
  },
  {
   "cell_type": "markdown",
   "id": "c9ab8ed651de53b8",
   "metadata": {},
   "source": [
    "The syntax ``pcvl.P('phi')`` allows you to use parameters in the circuit, where you can assign a value or not. The behavior of the parameters of a circuit is similar to the case of the components.\n",
    "\n",
    "For instance, you can use :"
   ]
  },
  {
   "cell_type": "code",
   "execution_count": 49,
   "id": "b3ce70fe63ba348",
   "metadata": {},
   "outputs": [
    {
     "name": "stdout",
     "output_type": "stream",
     "text": [
      "[Parameter(name='phi', value=3.141592653589793, min_v=0.0, max_v=6.283185307179586)]\n"
     ]
    },
    {
     "data": {
      "image/svg+xml": [
       "<?xml version=\"1.0\" encoding=\"UTF-8\"?>\n",
       "<svg xmlns=\"http://www.w3.org/2000/svg\" xmlns:xlink=\"http://www.w3.org/1999/xlink\"\n",
       "     width=\"445.0\" height=\"218.75\" viewBox=\"-28.0 0 356.0 175.0\">\n",
       "<defs>\n",
       "</defs>\n",
       "<path d=\"M10,25.0 L25,25.0\" stroke-width=\"1\" stroke=\"black\" stroke-linejoin=\"miter\" fill=\"none\" />\n",
       "<path d=\"M10,75.0 L25,75.0\" stroke-width=\"1\" stroke=\"black\" stroke-linejoin=\"miter\" fill=\"none\" />\n",
       "<path d=\"M10,125.0 L25,125.0\" stroke-width=\"1\" stroke=\"black\" stroke-linejoin=\"miter\" fill=\"none\" />\n",
       "<path d=\"M37.9442,25.0002 C51.653800000000004,25.0002,51.5923,50.0,65.3019,50.0 M65.3038,50.0 C51.59219999999999,50.0,51.6538,74.9998,37.94409999999999,74.9998 M65.3038,49.99999999999999 L87.1884,49.99999999999999 M87.1884,49.99999999999999 C100.9,49.99999999999999,100.83840000000001,25.000199999999992,114.5481,25.000199999999992 M87.1884,49.99999999999999 C100.9,49.99999999999999,100.83840000000001,74.9998,114.5481,74.9998 M25.0,24.999999999999993 L38.0,24.999999999999993 M38.0019,74.9998 L25.0,74.9998 M112.6453,74.9998 L125.0,74.9998 M112.1944,24.999799999999993 L125.0,24.999799999999993\" stroke-width=\"1\" stroke=\"black\" stroke-linejoin=\"miter\" fill=\"none\" />\n",
       "<text x=\"75\" y=\"38\" font-size=\"7\" text-anchor=\"middle\"></text>\n",
       "<path d=\"M97,53 L107,53 L107,63 L97,63 Z\" stroke=\"black\" fill=\"thistle\" stroke-linejoin=\"miter\" />\n",
       "<text x=\"102\" y=\"60\" font-size=\"6\" text-anchor=\"middle\">Rx</text>\n",
       "<path d=\"M125,25 L145,25 M155,25 L175,25\" stroke-width=\"1\" stroke=\"black\" stroke-linejoin=\"miter\" fill=\"none\" />\n",
       "<path d=\"M140,35 L160,35 L160,15 L140,15 L140,35\" stroke-width=\"1\" stroke=\"black\" stroke-linejoin=\"miter\" fill=\"lightgray\" />\n",
       "<text x=\"150\" y=\"44\" font-size=\"7\" text-anchor=\"middle\">Φ=pi/2</text>\n",
       "<path d=\"M125,75 L145,75 M155,75 L175,75\" stroke-width=\"1\" stroke=\"black\" stroke-linejoin=\"miter\" fill=\"none\" />\n",
       "<path d=\"M140,85 L160,85 L160,65 L140,65 L140,85\" stroke-width=\"1\" stroke=\"black\" stroke-linejoin=\"miter\" fill=\"lightgray\" />\n",
       "<text x=\"150\" y=\"94\" font-size=\"7\" text-anchor=\"middle\">Φ=pi</text>\n",
       "<path d=\"M25,125.0 L175,125.0\" stroke=\"black\" stroke-width=\"1\" fill=\"none\" />\n",
       "<path d=\"M187.9442,75.0002 C201.6538,75.0002,201.5923,100.0,215.3019,100.0 M215.3038,100.0 C201.5922,100.0,201.6538,124.9998,187.9441,124.9998 M215.3038,100.0 L237.1884,100.0 M237.1884,100.0 C250.9,100.0,250.8384,75.0002,264.5481,75.0002 M237.18839999999997,100.0 C250.89999999999998,100.0,250.83839999999998,124.9998,264.5481,124.9998 M174.99999999999997,75.0 L187.99999999999997,75.0 M188.00189999999998,124.9998 L174.99999999999997,124.9998 M262.64529999999996,124.9998 L274.99999999999994,124.9998 M262.1944,74.9998 L275.0,74.9998\" stroke-width=\"1\" stroke=\"black\" stroke-linejoin=\"miter\" fill=\"none\" />\n",
       "<text x=\"225\" y=\"88\" font-size=\"7\" text-anchor=\"middle\"></text>\n",
       "<path d=\"M247,103 L257,103 L257,113 L247,113 Z\" stroke=\"black\" fill=\"thistle\" stroke-linejoin=\"miter\" />\n",
       "<text x=\"252\" y=\"110\" font-size=\"6\" text-anchor=\"middle\">Rx</text>\n",
       "<path d=\"M175,25.0 L275,25.0\" stroke=\"black\" stroke-width=\"1\" fill=\"none\" />\n",
       "<path d=\"M275,25.0 L290,25.0\" stroke-width=\"1\" stroke=\"black\" stroke-linejoin=\"miter\" fill=\"none\" />\n",
       "<path d=\"M275,75.0 L290,75.0\" stroke-width=\"1\" stroke=\"black\" stroke-linejoin=\"miter\" fill=\"none\" />\n",
       "<path d=\"M275,125.0 L290,125.0\" stroke-width=\"1\" stroke=\"black\" stroke-linejoin=\"miter\" fill=\"none\" />\n",
       "<text x=\"300\" y=\"28.0\" font-size=\"6\" text-anchor=\"end\">0</text>\n",
       "<text x=\"300\" y=\"78.0\" font-size=\"6\" text-anchor=\"end\">1</text>\n",
       "<text x=\"300\" y=\"128.0\" font-size=\"6\" text-anchor=\"end\">2</text>\n",
       "<text x=\"0\" y=\"28.0\" font-size=\"6\" text-anchor=\"start\">0</text>\n",
       "<text x=\"0\" y=\"78.0\" font-size=\"6\" text-anchor=\"start\">1</text>\n",
       "<text x=\"0\" y=\"128.0\" font-size=\"6\" text-anchor=\"start\">2</text>\n",
       "</svg>"
      ],
      "text/plain": [
       "<drawsvg.drawing.Drawing at 0x7f6e59200580>"
      ]
     },
     "execution_count": 49,
     "metadata": {},
     "output_type": "execute_result"
    }
   ],
   "source": [
    "params=circuit.get_parameters()\n",
    "print(params) #list of the parameters\n",
    "\n",
    "# the value is None, but we can change that with :\n",
    "params[0].set_value(np.pi)\n",
    "\n",
    "pcvl.pdisplay(circuit)"
   ]
  },
  {
   "cell_type": "markdown",
   "id": "75e4440d",
   "metadata": {},
   "source": [
    "\n",
    "### 2. Mach-Zehnder Interferometers\n",
    "\n",
    "The beamsplitter's angle $\\theta$ can also be defined as a parameter.\n",
    "\n",
    "However, as the reflexivity depends on the mirror, it's hard to have adaptibility on the angle. \n",
    "Therefore, in practice, we use a [Mach-Zehnder Interferometer](https://en.wikipedia.org/wiki/Mach%E2%80%93Zehnder_interferometer). \n",
    "\n",
    "The beamsplitter with a parameterised $\\theta$ is therefore implemented with a parameterised phase shifter $\\phi$ between two fixed beamsplitters.\n",
    "\n",
    "\n"
   ]
  },
  {
   "cell_type": "code",
   "execution_count": 50,
   "id": "8598d2e3",
   "metadata": {},
   "outputs": [
    {
     "data": {
      "image/png": "[encoded data removed]",
      "text/plain": [
       "<Figure size 640x480 with 1 Axes>"
      ]
     },
     "metadata": {},
     "output_type": "display_data"
    }
   ],
   "source": [
    "## Exercise: build a circuit implementing the mzi\n",
    "\n",
    "## Solution:\n",
    "mzi = pcvl.Circuit(2) // BS() // (1,PS(phi=pcvl.P(\"phi\"))) // BS()\n",
    "pcvl.pdisplay(mzi)\n",
    "\n",
    "## Exercise: Check that the parameterised phase allows you to change the reflexivity of your MZI\n",
    "\n",
    "\n",
    "## Solution:\n",
    "import matplotlib.pyplot as plt\n",
    "\n",
    "X = np.linspace(0, 2*np.pi, 1000)  # We create a list of all different values for theta\n",
    "Y = []\n",
    "for theta in X:\n",
    "    phase = mzi.get_parameters()[0]\n",
    "    phase.set_value(theta)\n",
    "    Y.append(abs(mzi.compute_unitary()[0,0])**2)  #compute_unitary is numerical, so far faster that mzi.U, which uses symbolic expressions.\n",
    "   \n",
    "plt.plot(X, Y)\n",
    "plt.xlabel(\"phi\")\n",
    "plt.ylabel(\"R\")\n",
    "plt.show()\n",
    "\n",
    "## Note: If you need to create a BS directly from the reflexivity value, please use:\n",
    "## BS(BS.r_to_theta(reflectivity_value))\n",
    "## However, be aware that only theta value is stored inside the BS object"
   ]
  },
  {
   "cell_type": "markdown",
   "id": "9d8e718b",
   "metadata": {},
   "source": [
    "### 3. Universal Circuits\n",
    "\n",
    "An operation on the modes of our circuit can also be expressed as a unitary.\n",
    "\n",
    "For three modes, the unitary $U=\\begin{pmatrix}\n",
    "a_{1,1} & a_{1,2} & a_{1,3}\\\\\n",
    "a_{2,1} & a_{2,2} & a_{2,3} \\\\ \n",
    "a_{3,1} & a_{3,2} & a_{3,3}\n",
    "\\end{pmatrix}$ performs the following operation on the Fock state basis:\n",
    "\n",
    "$$\\begin{array}{rcl}\n",
    "|1,0,0\\rangle &  \\mapsto&  a_{1,1}|1,0,0\\rangle + a_{1,2}|0,1,0\\rangle + a_{1,3}|0,0,1\\rangle\\\\\n",
    "|0,1,0\\rangle &  \\mapsto&  a_{2,1}|1,0,0\\rangle + a_{2,2}|0,1,0\\rangle + a_{2,3}|0,0,1\\rangle\\\\\n",
    "|0,0,1\\rangle &  \\mapsto&  a_{3,1}|1,0,0\\rangle + a_{3,2}|0,1,0\\rangle + a_{3,3}|0,0,1\\rangle\n",
    "\\end{array}$$"
   ]
  },
  {
   "cell_type": "markdown",
   "id": "78150c03",
   "metadata": {},
   "source": [
    "Since 1994, we know that any $U$ on the modes can be implemented as an LO-circuit [Reck's et al](https://journals.aps.org/prl/abstract/10.1103/PhysRevLett.73.58).\n",
    "\n",
    "This decomposition can be done easily in Perceval using beamsplitters and phase-shifters as follows. "
   ]
  },
  {
   "cell_type": "code",
   "execution_count": 51,
   "id": "a043bb05",
   "metadata": {},
   "outputs": [
    {
     "data": {
      "image/svg+xml": [
       "<?xml version=\"1.0\" encoding=\"UTF-8\"?>\n",
       "<svg xmlns=\"http://www.w3.org/2000/svg\" xmlns:xlink=\"http://www.w3.org/1999/xlink\"\n",
       "     width=\"827.5\" height=\"281.25\" viewBox=\"-28.0 0 662.0 225.0\">\n",
       "<defs>\n",
       "</defs>\n",
       "<path d=\"M10,25.0 L25,25.0\" stroke-width=\"1\" stroke=\"black\" stroke-linejoin=\"miter\" fill=\"none\" />\n",
       "<path d=\"M10,75.0 L25,75.0\" stroke-width=\"1\" stroke=\"black\" stroke-linejoin=\"miter\" fill=\"none\" />\n",
       "<path d=\"M10,125.0 L25,125.0\" stroke-width=\"1\" stroke=\"black\" stroke-linejoin=\"miter\" fill=\"none\" />\n",
       "<path d=\"M10,175.0 L25,175.0\" stroke-width=\"1\" stroke=\"black\" stroke-linejoin=\"miter\" fill=\"none\" />\n",
       "<path d=\"M25,175 L45,175 M55,175 L75,175\" stroke-width=\"1\" stroke=\"black\" stroke-linejoin=\"miter\" fill=\"none\" />\n",
       "<path d=\"M40,185 L60,185 L60,165 L40,165 L40,185\" stroke-width=\"1\" stroke=\"black\" stroke-linejoin=\"miter\" fill=\"lightgray\" />\n",
       "<text x=\"50\" y=\"194\" font-size=\"7\" text-anchor=\"middle\">Φ=0.885561</text>\n",
       "<path d=\"M25,125 L45,125 M55,125 L75,125\" stroke-width=\"1\" stroke=\"black\" stroke-linejoin=\"miter\" fill=\"none\" />\n",
       "<path d=\"M40,135 L60,135 L60,115 L40,115 L40,135\" stroke-width=\"1\" stroke=\"black\" stroke-linejoin=\"miter\" fill=\"lightgray\" />\n",
       "<text x=\"50\" y=\"144\" font-size=\"7\" text-anchor=\"middle\">Φ=5.223005</text>\n",
       "<path d=\"M25,75 L45,75 M55,75 L75,75\" stroke-width=\"1\" stroke=\"black\" stroke-linejoin=\"miter\" fill=\"none\" />\n",
       "<path d=\"M40,85 L60,85 L60,65 L40,65 L40,85\" stroke-width=\"1\" stroke=\"black\" stroke-linejoin=\"miter\" fill=\"lightgray\" />\n",
       "<text x=\"50\" y=\"94\" font-size=\"7\" text-anchor=\"middle\">Φ=3.553483</text>\n",
       "<path d=\"M25,25 L45,25 M55,25 L75,25\" stroke-width=\"1\" stroke=\"black\" stroke-linejoin=\"miter\" fill=\"none\" />\n",
       "<path d=\"M40,35 L60,35 L60,15 L40,15 L40,35\" stroke-width=\"1\" stroke=\"black\" stroke-linejoin=\"miter\" fill=\"lightgray\" />\n",
       "<text x=\"50\" y=\"44\" font-size=\"7\" text-anchor=\"middle\">Φ=5.573346</text>\n",
       "<path d=\"M87.9442,25.0002 C101.65379999999999,25.0002,101.5923,50.0,115.30189999999999,50.0 M115.3038,50.0 C101.59219999999999,50.0,101.65379999999999,74.9998,87.94409999999999,74.9998 M115.3038,49.99999999999999 L137.1884,49.99999999999999 M137.1884,49.99999999999999 C150.9,49.99999999999999,150.8384,25.000199999999992,164.5481,25.000199999999992 M137.1884,49.99999999999999 C150.9,49.99999999999999,150.8384,74.9998,164.5481,74.9998 M75.0,24.999999999999993 L88.0,24.999999999999993 M88.0019,74.9998 L75.0,74.9998 M162.64530000000002,74.9998 L175.0,74.9998 M162.1944,24.999799999999993 L175.0,24.999799999999993\" stroke-width=\"1\" stroke=\"black\" stroke-linejoin=\"miter\" fill=\"none\" />\n",
       "<text x=\"125\" y=\"38\" font-size=\"7\" text-anchor=\"middle\"><tspan x=\"125\" dy=\"0em\">Θ=12.072485</tspan><tspan x=\"125\" dy=\"1em\">Φ_tr=5.522803</tspan></text>\n",
       "<path d=\"M147,53 L157,53 L157,63 L147,63 Z\" stroke=\"black\" fill=\"thistle\" stroke-linejoin=\"miter\" />\n",
       "<text x=\"152\" y=\"60\" font-size=\"6\" text-anchor=\"middle\">Rx</text>\n",
       "<path d=\"M75,125.0 L175,125.0\" stroke=\"black\" stroke-width=\"1\" fill=\"none\" />\n",
       "<path d=\"M187.9442,75.0002 C201.6538,75.0002,201.5923,100.0,215.3019,100.0 M215.3038,100.0 C201.5922,100.0,201.6538,124.9998,187.9441,124.9998 M215.3038,100.0 L237.1884,100.0 M237.1884,100.0 C250.9,100.0,250.8384,75.0002,264.5481,75.0002 M237.18839999999997,100.0 C250.89999999999998,100.0,250.83839999999998,124.9998,264.5481,124.9998 M174.99999999999997,75.0 L187.99999999999997,75.0 M188.00189999999998,124.9998 L174.99999999999997,124.9998 M262.64529999999996,124.9998 L274.99999999999994,124.9998 M262.1944,74.9998 L275.0,74.9998\" stroke-width=\"1\" stroke=\"black\" stroke-linejoin=\"miter\" fill=\"none\" />\n",
       "<text x=\"225\" y=\"88\" font-size=\"7\" text-anchor=\"middle\"><tspan x=\"225\" dy=\"0em\">Θ=11.003265</tspan><tspan x=\"225\" dy=\"1em\">Φ_tr=3.569495</tspan></text>\n",
       "<path d=\"M247,103 L257,103 L257,113 L247,113 Z\" stroke=\"black\" fill=\"thistle\" stroke-linejoin=\"miter\" />\n",
       "<text x=\"252\" y=\"110\" font-size=\"6\" text-anchor=\"middle\">Rx</text>\n",
       "<path d=\"M175,25.0 L275,25.0\" stroke=\"black\" stroke-width=\"1\" fill=\"none\" />\n",
       "<path d=\"M287.9442,25.0002 C301.65380000000005,25.0002,301.5923,50.0,315.30190000000005,50.0 M315.3038,50.0 C301.59220000000005,50.0,301.65380000000005,74.9998,287.94410000000005,74.9998 M315.3038,49.99999999999999 L337.1884,49.99999999999999 M337.1884,49.99999999999999 C350.9,49.99999999999999,350.8384,25.000199999999992,364.5481,25.000199999999992 M337.1884,49.99999999999999 C350.9,49.99999999999999,350.8384,74.9998,364.5481,74.9998 M275.0,24.999999999999993 L288.0,24.999999999999993 M288.0019,74.9998 L275.0,74.9998 M362.6453,74.9998 L375.0,74.9998 M362.1944,24.999799999999993 L375.0,24.999799999999993\" stroke-width=\"1\" stroke=\"black\" stroke-linejoin=\"miter\" fill=\"none\" />\n",
       "<text x=\"325\" y=\"38\" font-size=\"7\" text-anchor=\"middle\"><tspan x=\"325\" dy=\"0em\">Θ=4.845559</tspan><tspan x=\"325\" dy=\"1em\">Φ_tr=2.544688</tspan></text>\n",
       "<path d=\"M347,53 L357,53 L357,63 L347,63 Z\" stroke=\"black\" fill=\"thistle\" stroke-linejoin=\"miter\" />\n",
       "<text x=\"352\" y=\"60\" font-size=\"6\" text-anchor=\"middle\">Rx</text>\n",
       "<path d=\"M75,175.0 L275,175.0\" stroke=\"black\" stroke-width=\"1\" fill=\"none\" />\n",
       "<path d=\"M287.9442,125.0002 C301.65380000000005,125.0002,301.5923,150.0,315.30190000000005,150.0 M315.3038,150.0 C301.59220000000005,150.0,301.65380000000005,174.9998,287.94410000000005,174.9998 M315.3038,150.0 L337.1884,150.0 M337.1884,150.0 C350.9,150.0,350.8384,125.0002,364.5481,125.0002 M337.1884,150.0 C350.9,150.0,350.8384,174.9998,364.5481,174.9998 M275.0,125.0 L288.0,125.0 M288.0019,174.9998 L275.0,174.9998 M362.6453,174.9998 L375.0,174.9998 M362.1944,124.9998 L375.0,124.9998\" stroke-width=\"1\" stroke=\"black\" stroke-linejoin=\"miter\" fill=\"none\" />\n",
       "<text x=\"325\" y=\"138\" font-size=\"7\" text-anchor=\"middle\"><tspan x=\"325\" dy=\"0em\">Θ=4.518339</tspan><tspan x=\"325\" dy=\"1em\">Φ_tr=5.680989</tspan></text>\n",
       "<path d=\"M347,153 L357,153 L357,163 L347,163 Z\" stroke=\"black\" fill=\"thistle\" stroke-linejoin=\"miter\" />\n",
       "<text x=\"352\" y=\"160\" font-size=\"6\" text-anchor=\"middle\">Rx</text>\n",
       "<path d=\"M387.9442,75.0002 C401.65380000000005,75.0002,401.5923,100.0,415.30190000000005,100.0 M415.3038,100.0 C401.59220000000005,100.0,401.65380000000005,124.9998,387.94410000000005,124.9998 M415.3038,100.0 L437.1884,100.0 M437.1884,100.0 C450.9,100.0,450.8384,75.0002,464.5481,75.0002 M437.1884,100.0 C450.9,100.0,450.8384,124.9998,464.5481,124.9998 M375.0,75.0 L388.0,75.0 M388.0019,124.9998 L375.0,124.9998 M462.6453,124.9998 L475.0,124.9998 M462.1944,74.9998 L475.0,74.9998\" stroke-width=\"1\" stroke=\"black\" stroke-linejoin=\"miter\" fill=\"none\" />\n",
       "<text x=\"425\" y=\"88\" font-size=\"7\" text-anchor=\"middle\"><tspan x=\"425\" dy=\"0em\">Θ=3.899976</tspan><tspan x=\"425\" dy=\"1em\">Φ_tr=1.379202</tspan></text>\n",
       "<path d=\"M447,103 L457,103 L457,113 L447,113 Z\" stroke=\"black\" fill=\"thistle\" stroke-linejoin=\"miter\" />\n",
       "<text x=\"452\" y=\"110\" font-size=\"6\" text-anchor=\"middle\">Rx</text>\n",
       "<path d=\"M375,25.0 L475,25.0\" stroke=\"black\" stroke-width=\"1\" fill=\"none\" />\n",
       "<path d=\"M487.9442,25.0002 C501.65380000000005,25.0002,501.5923,50.0,515.3019,50.0 M515.3038,50.0 C501.59220000000005,50.0,501.65380000000005,74.9998,487.94410000000005,74.9998 M515.3038,49.99999999999999 L537.1884,49.99999999999999 M537.1884,49.99999999999999 C550.9,49.99999999999999,550.8384,25.000199999999992,564.5481,25.000199999999992 M537.1884,49.99999999999999 C550.9,49.99999999999999,550.8384,74.9998,564.5481,74.9998 M475.0,24.999999999999993 L488.0,24.999999999999993 M488.0019,74.9998 L475.0,74.9998 M562.6453,74.9998 L575.0,74.9998 M562.1944,24.999799999999993 L575.0,24.999799999999993\" stroke-width=\"1\" stroke=\"black\" stroke-linejoin=\"miter\" fill=\"none\" />\n",
       "<text x=\"525\" y=\"38\" font-size=\"7\" text-anchor=\"middle\"><tspan x=\"525\" dy=\"0em\">Θ=2.338558</tspan><tspan x=\"525\" dy=\"1em\">Φ_tr=4.037719</tspan></text>\n",
       "<path d=\"M547,53 L557,53 L557,63 L547,63 Z\" stroke=\"black\" fill=\"thistle\" stroke-linejoin=\"miter\" />\n",
       "<text x=\"552\" y=\"60\" font-size=\"6\" text-anchor=\"middle\">Rx</text>\n",
       "<path d=\"M475,125.0 L575,125.0\" stroke=\"black\" stroke-width=\"1\" fill=\"none\" />\n",
       "<path d=\"M375,175.0 L575,175.0\" stroke=\"black\" stroke-width=\"1\" fill=\"none\" />\n",
       "<path d=\"M575,25.0 L590,25.0\" stroke-width=\"1\" stroke=\"black\" stroke-linejoin=\"miter\" fill=\"none\" />\n",
       "<path d=\"M575,75.0 L590,75.0\" stroke-width=\"1\" stroke=\"black\" stroke-linejoin=\"miter\" fill=\"none\" />\n",
       "<path d=\"M575,125.0 L590,125.0\" stroke-width=\"1\" stroke=\"black\" stroke-linejoin=\"miter\" fill=\"none\" />\n",
       "<path d=\"M575,175.0 L590,175.0\" stroke-width=\"1\" stroke=\"black\" stroke-linejoin=\"miter\" fill=\"none\" />\n",
       "<text x=\"600\" y=\"28.0\" font-size=\"6\" text-anchor=\"end\">0</text>\n",
       "<text x=\"600\" y=\"78.0\" font-size=\"6\" text-anchor=\"end\">1</text>\n",
       "<text x=\"600\" y=\"128.0\" font-size=\"6\" text-anchor=\"end\">2</text>\n",
       "<text x=\"600\" y=\"178.0\" font-size=\"6\" text-anchor=\"end\">3</text>\n",
       "<text x=\"0\" y=\"28.0\" font-size=\"6\" text-anchor=\"start\">0</text>\n",
       "<text x=\"0\" y=\"78.0\" font-size=\"6\" text-anchor=\"start\">1</text>\n",
       "<text x=\"0\" y=\"128.0\" font-size=\"6\" text-anchor=\"start\">2</text>\n",
       "<text x=\"0\" y=\"178.0\" font-size=\"6\" text-anchor=\"start\">3</text>\n",
       "</svg>"
      ],
      "text/plain": [
       "<drawsvg.drawing.Drawing at 0x7f6e58f38a60>"
      ]
     },
     "execution_count": 51,
     "metadata": {},
     "output_type": "execute_result"
    }
   ],
   "source": [
    "## From any unitary\n",
    "n = 4\n",
    "U = pcvl.Matrix.random_unitary(n)\n",
    "\n",
    "decomposed_circuit = pcvl.Circuit.decomposition(U, BS(theta=pcvl.P('theta'), phi_tr=pcvl.P('phi')), phase_shifter_fn=PS)\n",
    "pcvl.pdisplay(decomposed_circuit)"
   ]
  },
  {
   "cell_type": "code",
   "execution_count": 52,
   "id": "a5e7c453",
   "metadata": {},
   "outputs": [
    {
     "name": "stdout",
     "output_type": "stream",
     "text": [
      "The error between the two unitaries is 9.389868004362111e-09\n"
     ]
    }
   ],
   "source": [
    "print(\"The error between the two unitaries is\", np.linalg.norm(U - decomposed_circuit.compute_unitary()))"
   ]
  },
  {
   "cell_type": "code",
   "execution_count": 53,
   "id": "20b31e3f",
   "metadata": {},
   "outputs": [],
   "source": [
    "## Exercise: decompose your unitary with only phase shifters and balanced beamsplitters.\n",
    "\n",
    "## Solution:\n",
    "mzi = pcvl.Circuit(2) // BS() // PS(pcvl.P(\"phi1\")) //  BS()  //  PS(pcvl.P(\"phi2\"))\n",
    "\n",
    "circuit_u = pcvl.Circuit.decomposition(U,mzi,phase_shifter_fn=PS)\n",
    "\n",
    "## Note: you can use a MZI. Be careful to put the phase on the right, as the full layer of phase_shifter_fn is on the left of the circuit"
   ]
  },
  {
   "cell_type": "code",
   "execution_count": 54,
   "id": "d77fa5a7",
   "metadata": {},
   "outputs": [
    {
     "name": "stdout",
     "output_type": "stream",
     "text": [
      "The error between the two unitaries is 8.191216301924503e-09\n"
     ]
    }
   ],
   "source": [
    "## Exercise: check the norm of the difference to be sure it has worked well\n",
    "\n",
    "## Solution:\n",
    "print(\"The error between the two unitaries is\", np.linalg.norm(U - circuit_u.compute_unitary()))"
   ]
  },
  {
   "cell_type": "markdown",
   "id": "b6990985",
   "metadata": {},
   "source": [
    "### 4. Black Box\n",
    "\n",
    "To improve readibility, the circuit can be constructed in multiple steps which are then combined as black boxes. This will also help when we'll need generic operations.\n"
   ]
  },
  {
   "cell_type": "code",
   "execution_count": 55,
   "id": "cf442c25",
   "metadata": {},
   "outputs": [
    {
     "data": {
      "image/svg+xml": [
       "<?xml version=\"1.0\" encoding=\"UTF-8\"?>\n",
       "<svg xmlns=\"http://www.w3.org/2000/svg\" xmlns:xlink=\"http://www.w3.org/1999/xlink\"\n",
       "     width=\"300.0\" height=\"281.25\" viewBox=\"-62.0 0 240.0 225.0\">\n",
       "<defs>\n",
       "</defs>\n",
       "<path d=\"M10,25.0 L25,25.0\" stroke-width=\"1\" stroke=\"black\" stroke-linejoin=\"miter\" fill=\"none\" />\n",
       "<path d=\"M10,75.0 L25,75.0\" stroke-width=\"1\" stroke=\"black\" stroke-linejoin=\"miter\" fill=\"none\" />\n",
       "<path d=\"M10,125.0 L25,125.0\" stroke-width=\"1\" stroke=\"black\" stroke-linejoin=\"miter\" fill=\"none\" />\n",
       "<path d=\"M10,175.0 L25,175.0\" stroke-width=\"1\" stroke=\"black\" stroke-linejoin=\"miter\" fill=\"none\" />\n",
       "<path d=\"M25,25 L75,25\" stroke=\"black\" stroke-width=\"1\" fill=\"none\" />\n",
       "<path d=\"M25,75 L75,75\" stroke=\"black\" stroke-width=\"1\" fill=\"none\" />\n",
       "<path d=\"M25,125 L75,125\" stroke=\"black\" stroke-width=\"1\" fill=\"none\" />\n",
       "<path d=\"M25,175 L75,175\" stroke=\"black\" stroke-width=\"1\" fill=\"none\" />\n",
       "<path d=\"M27.5,2.5 L72.5,2.5 L72.5,197.5 L27.5,197.5 Z\" stroke=\"black\" fill=\"white\" stroke-linejoin=\"miter\" />\n",
       "<text x=\"35\" y=\"32\" font-size=\"8\" text-anchor=\"start\" font-weight=\"bold\"><tspan x=\"35\" dy=\"0em\">BELL</tspan><tspan x=\"35\" dy=\"1em\">STATE</tspan><tspan x=\"35\" dy=\"1em\">PREPAR.</tspan></text>\n",
       "<path d=\"M75,25 L125,25\" stroke=\"black\" stroke-width=\"1\" fill=\"none\" />\n",
       "<path d=\"M75,75 L125,75\" stroke=\"black\" stroke-width=\"1\" fill=\"none\" />\n",
       "<path d=\"M77.5,2.5 L122.5,2.5 L122.5,97.5 L77.5,97.5 Z\" stroke=\"black\" fill=\"white\" stroke-linejoin=\"miter\" />\n",
       "<text x=\"85\" y=\"24\" font-size=\"8\" text-anchor=\"start\" font-weight=\"bold\"><tspan x=\"85\" dy=\"0em\">UPPER</tspan><tspan x=\"85\" dy=\"1em\">MZI</tspan></text>\n",
       "<path d=\"M75,125 L125,125\" stroke=\"black\" stroke-width=\"1\" fill=\"none\" />\n",
       "<path d=\"M75,175 L125,175\" stroke=\"black\" stroke-width=\"1\" fill=\"none\" />\n",
       "<path d=\"M77.5,102.5 L122.5,102.5 L122.5,197.5 L77.5,197.5 Z\" stroke=\"black\" fill=\"white\" stroke-linejoin=\"miter\" />\n",
       "<text x=\"85\" y=\"124\" font-size=\"8\" text-anchor=\"start\" font-weight=\"bold\"><tspan x=\"85\" dy=\"0em\">LOWER</tspan><tspan x=\"85\" dy=\"1em\">MZI</tspan></text>\n",
       "<path d=\"M125,25.0 L140,25.0\" stroke-width=\"1\" stroke=\"black\" stroke-linejoin=\"miter\" fill=\"none\" />\n",
       "<path d=\"M125,75.0 L140,75.0\" stroke-width=\"1\" stroke=\"black\" stroke-linejoin=\"miter\" fill=\"none\" />\n",
       "<path d=\"M125,125.0 L140,125.0\" stroke-width=\"1\" stroke=\"black\" stroke-linejoin=\"miter\" fill=\"none\" />\n",
       "<path d=\"M125,175.0 L140,175.0\" stroke-width=\"1\" stroke=\"black\" stroke-linejoin=\"miter\" fill=\"none\" />\n",
       "<text x=\"150\" y=\"28.0\" font-size=\"6\" text-anchor=\"end\">0</text>\n",
       "<text x=\"150\" y=\"78.0\" font-size=\"6\" text-anchor=\"end\">1</text>\n",
       "<text x=\"150\" y=\"128.0\" font-size=\"6\" text-anchor=\"end\">2</text>\n",
       "<text x=\"150\" y=\"178.0\" font-size=\"6\" text-anchor=\"end\">3</text>\n",
       "<text x=\"0\" y=\"28.0\" font-size=\"6\" text-anchor=\"start\">0</text>\n",
       "<text x=\"0\" y=\"78.0\" font-size=\"6\" text-anchor=\"start\">1</text>\n",
       "<text x=\"0\" y=\"128.0\" font-size=\"6\" text-anchor=\"start\">2</text>\n",
       "<text x=\"0\" y=\"178.0\" font-size=\"6\" text-anchor=\"start\">3</text>\n",
       "</svg>"
      ],
      "text/plain": [
       "<drawsvg.drawing.Drawing at 0x7f6e59409f90>"
      ]
     },
     "execution_count": 55,
     "metadata": {},
     "output_type": "execute_result"
    }
   ],
   "source": [
    "pre_MZI = (pcvl.Circuit(4, name=\"Bell State Prepar.\")\n",
    "           .add(0, BS())\n",
    "           .add(2, BS())\n",
    "           .add(1, PERM([1, 0])))\n",
    "\n",
    "upper_MZI = (pcvl.Circuit(2, name=\"upper MZI\")\n",
    "             .add(0, PS(phi=pcvl.P('phi_0')))\n",
    "             .add(0, BS())\n",
    "             .add(0, PS(phi=pcvl.P('phi_2')))\n",
    "             .add(0, BS()))\n",
    "\n",
    "lower_MZI = (pcvl.Circuit(2, name=\"lower MZI\")\n",
    "             .add(0, PS(phi=pcvl.P('phi_1')))\n",
    "             .add(0, BS())\n",
    "             .add(0, PS(phi=pcvl.P('phi_3')))\n",
    "             .add(0, BS()))\n",
    "\n",
    "chip = (pcvl.Circuit(4)\n",
    "              .add(0, pre_MZI)\n",
    "              .add(0, upper_MZI, merge=False)\n",
    "              .add(2, lower_MZI, merge=False))\n",
    "\n",
    "pcvl.pdisplay(chip)"
   ]
  },
  {
   "cell_type": "code",
   "execution_count": 56,
   "id": "74c28a38",
   "metadata": {},
   "outputs": [
    {
     "data": {
      "image/svg+xml": [
       "<?xml version=\"1.0\" encoding=\"UTF-8\"?>\n",
       "<svg xmlns=\"http://www.w3.org/2000/svg\" xmlns:xlink=\"http://www.w3.org/1999/xlink\"\n",
       "     width=\"745.0\" height=\"281.25\" viewBox=\"-68.0 0 596.0 225.0\">\n",
       "<defs>\n",
       "</defs>\n",
       "<path d=\"M10,25.0 L25,25.0\" stroke-width=\"1\" stroke=\"black\" stroke-linejoin=\"miter\" fill=\"none\" />\n",
       "<path d=\"M10,75.0 L25,75.0\" stroke-width=\"1\" stroke=\"black\" stroke-linejoin=\"miter\" fill=\"none\" />\n",
       "<path d=\"M10,125.0 L25,125.0\" stroke-width=\"1\" stroke=\"black\" stroke-linejoin=\"miter\" fill=\"none\" />\n",
       "<path d=\"M10,175.0 L25,175.0\" stroke-width=\"1\" stroke=\"black\" stroke-linejoin=\"miter\" fill=\"none\" />\n",
       "<path d=\"M27,2 L173,2 L173,198 L27,198 Z\" stroke=\"black\" fill=\"lightblue\" stroke-dasharray=\"1,2\" stroke-linejoin=\"miter\" />\n",
       "<text x=\"29\" y=\"205\" font-size=\"8\" text-anchor=\"start\">BELL STATE PREPAR.</text>\n",
       "<path d=\"M37.9442,25.0002 C51.653800000000004,25.0002,51.5923,50.0,65.3019,50.0 M65.3038,50.0 C51.59219999999999,50.0,51.6538,74.9998,37.94409999999999,74.9998 M65.3038,49.99999999999999 L87.1884,49.99999999999999 M87.1884,49.99999999999999 C100.9,49.99999999999999,100.83840000000001,25.000199999999992,114.5481,25.000199999999992 M87.1884,49.99999999999999 C100.9,49.99999999999999,100.83840000000001,74.9998,114.5481,74.9998 M25.0,24.999999999999993 L38.0,24.999999999999993 M38.0019,74.9998 L25.0,74.9998 M112.6453,74.9998 L125.0,74.9998 M112.1944,24.999799999999993 L125.0,24.999799999999993\" stroke-width=\"1\" stroke=\"black\" stroke-linejoin=\"miter\" fill=\"none\" />\n",
       "<text x=\"75\" y=\"38\" font-size=\"7\" text-anchor=\"middle\"></text>\n",
       "<path d=\"M97,53 L107,53 L107,63 L97,63 Z\" stroke=\"black\" fill=\"thistle\" stroke-linejoin=\"miter\" />\n",
       "<text x=\"102\" y=\"60\" font-size=\"6\" text-anchor=\"middle\">Rx</text>\n",
       "<path d=\"M37.9442,125.0002 C51.653800000000004,125.0002,51.5923,150.0,65.3019,150.0 M65.3038,150.0 C51.59219999999999,150.0,51.6538,174.9998,37.94409999999999,174.9998 M65.3038,150.0 L87.1884,150.0 M87.1884,150.0 C100.9,150.0,100.83840000000001,125.0002,114.5481,125.0002 M87.1884,150.0 C100.9,150.0,100.83840000000001,174.9998,114.5481,174.9998 M25.0,125.0 L38.0,125.0 M38.0019,174.9998 L25.0,174.9998 M112.6453,174.9998 L125.0,174.9998 M112.1944,124.9998 L125.0,124.9998\" stroke-width=\"1\" stroke=\"black\" stroke-linejoin=\"miter\" fill=\"none\" />\n",
       "<text x=\"75\" y=\"138\" font-size=\"7\" text-anchor=\"middle\"></text>\n",
       "<path d=\"M97,153 L107,153 L107,163 L97,163 Z\" stroke=\"black\" fill=\"thistle\" stroke-linejoin=\"miter\" />\n",
       "<text x=\"102\" y=\"160\" font-size=\"6\" text-anchor=\"middle\">Rx</text>\n",
       "<path d=\"M125,74.8 C145,75,155,125,175,125\" stroke-width=\"2\" stroke=\"white\" stroke-linejoin=\"miter\" fill=\"none\" />\n",
       "<path d=\"M125,75 C145,75,155,125,175,125\" stroke-width=\"1\" stroke=\"black\" stroke-linejoin=\"miter\" fill=\"none\" />\n",
       "<path d=\"M125,124.8 C145,125,155,75,175,75\" stroke-width=\"2\" stroke=\"white\" stroke-linejoin=\"miter\" fill=\"none\" />\n",
       "<path d=\"M125,125 C145,125,155,75,175,75\" stroke-width=\"1\" stroke=\"black\" stroke-linejoin=\"miter\" fill=\"none\" />\n",
       "<path d=\"M125,25.0 L175,25.0\" stroke=\"black\" stroke-width=\"1\" fill=\"none\" />\n",
       "<path d=\"M125,175.0 L175,175.0\" stroke=\"black\" stroke-width=\"1\" fill=\"none\" />\n",
       "<path d=\"M177,2 L473,2 L473,98 L177,98 Z\" stroke=\"black\" fill=\"lightblue\" stroke-dasharray=\"1,2\" stroke-linejoin=\"miter\" />\n",
       "<text x=\"179\" y=\"105\" font-size=\"8\" text-anchor=\"start\">UPPER MZI</text>\n",
       "<path d=\"M175,25 L195,25 M205,25 L225,25\" stroke-width=\"1\" stroke=\"black\" stroke-linejoin=\"miter\" fill=\"none\" />\n",
       "<path d=\"M190,35 L210,35 L210,15 L190,15 L190,35\" stroke-width=\"1\" stroke=\"black\" stroke-linejoin=\"miter\" fill=\"lightgray\" />\n",
       "<text x=\"200\" y=\"44\" font-size=\"7\" text-anchor=\"middle\">Φ=phi_0</text>\n",
       "<path d=\"M175,75.0 L225,75.0\" stroke=\"black\" stroke-width=\"1\" fill=\"none\" />\n",
       "<path d=\"M237.9442,25.0002 C251.6538,25.0002,251.5923,50.0,265.3019,50.0 M265.30379999999997,50.0 C251.59219999999996,50.0,251.65379999999996,74.9998,237.94409999999996,74.9998 M265.30379999999997,49.99999999999999 L287.18839999999994,49.99999999999999 M287.18839999999994,49.99999999999999 C300.9,49.99999999999999,300.8384,25.000199999999992,314.5481,25.000199999999992 M287.1884,49.99999999999999 C300.9,49.99999999999999,300.8384,74.9998,314.5481,74.9998 M224.99999999999997,24.999999999999993 L237.99999999999997,24.999999999999993 M238.00189999999998,74.9998 L224.99999999999997,74.9998 M312.64529999999996,74.9998 L324.99999999999994,74.9998 M312.1944,24.999799999999993 L325.0,24.999799999999993\" stroke-width=\"1\" stroke=\"black\" stroke-linejoin=\"miter\" fill=\"none\" />\n",
       "<text x=\"275\" y=\"38\" font-size=\"7\" text-anchor=\"middle\"></text>\n",
       "<path d=\"M297,53 L307,53 L307,63 L297,63 Z\" stroke=\"black\" fill=\"thistle\" stroke-linejoin=\"miter\" />\n",
       "<text x=\"302\" y=\"60\" font-size=\"6\" text-anchor=\"middle\">Rx</text>\n",
       "<path d=\"M325,25 L345,25 M355,25 L375,25\" stroke-width=\"1\" stroke=\"black\" stroke-linejoin=\"miter\" fill=\"none\" />\n",
       "<path d=\"M340,35 L360,35 L360,15 L340,15 L340,35\" stroke-width=\"1\" stroke=\"black\" stroke-linejoin=\"miter\" fill=\"lightgray\" />\n",
       "<text x=\"350\" y=\"44\" font-size=\"7\" text-anchor=\"middle\">Φ=phi_2</text>\n",
       "<path d=\"M325,75.0 L375,75.0\" stroke=\"black\" stroke-width=\"1\" fill=\"none\" />\n",
       "<path d=\"M387.9442,25.0002 C401.65380000000005,25.0002,401.5923,50.0,415.30190000000005,50.0 M415.3038,50.0 C401.59220000000005,50.0,401.65380000000005,74.9998,387.94410000000005,74.9998 M415.3038,49.99999999999999 L437.1884,49.99999999999999 M437.1884,49.99999999999999 C450.9,49.99999999999999,450.8384,25.000199999999992,464.5481,25.000199999999992 M437.1884,49.99999999999999 C450.9,49.99999999999999,450.8384,74.9998,464.5481,74.9998 M375.0,24.999999999999993 L388.0,24.999999999999993 M388.0019,74.9998 L375.0,74.9998 M462.6453,74.9998 L475.0,74.9998 M462.1944,24.999799999999993 L475.0,24.999799999999993\" stroke-width=\"1\" stroke=\"black\" stroke-linejoin=\"miter\" fill=\"none\" />\n",
       "<text x=\"425\" y=\"38\" font-size=\"7\" text-anchor=\"middle\"></text>\n",
       "<path d=\"M447,53 L457,53 L457,63 L447,63 Z\" stroke=\"black\" fill=\"thistle\" stroke-linejoin=\"miter\" />\n",
       "<text x=\"452\" y=\"60\" font-size=\"6\" text-anchor=\"middle\">Rx</text>\n",
       "<path d=\"M177,102 L473,102 L473,198 L177,198 Z\" stroke=\"black\" fill=\"lightblue\" stroke-dasharray=\"1,2\" stroke-linejoin=\"miter\" />\n",
       "<text x=\"179\" y=\"205\" font-size=\"8\" text-anchor=\"start\">LOWER MZI</text>\n",
       "<path d=\"M175,125 L195,125 M205,125 L225,125\" stroke-width=\"1\" stroke=\"black\" stroke-linejoin=\"miter\" fill=\"none\" />\n",
       "<path d=\"M190,135 L210,135 L210,115 L190,115 L190,135\" stroke-width=\"1\" stroke=\"black\" stroke-linejoin=\"miter\" fill=\"lightgray\" />\n",
       "<text x=\"200\" y=\"144\" font-size=\"7\" text-anchor=\"middle\">Φ=phi_1</text>\n",
       "<path d=\"M175,175.0 L225,175.0\" stroke=\"black\" stroke-width=\"1\" fill=\"none\" />\n",
       "<path d=\"M237.9442,125.0002 C251.6538,125.0002,251.5923,150.0,265.3019,150.0 M265.30379999999997,150.0 C251.59219999999996,150.0,251.65379999999996,174.9998,237.94409999999996,174.9998 M265.30379999999997,150.0 L287.18839999999994,150.0 M287.18839999999994,150.0 C300.9,150.0,300.8384,125.0002,314.5481,125.0002 M287.1884,150.0 C300.9,150.0,300.8384,174.9998,314.5481,174.9998 M224.99999999999997,125.0 L237.99999999999997,125.0 M238.00189999999998,174.9998 L224.99999999999997,174.9998 M312.64529999999996,174.9998 L324.99999999999994,174.9998 M312.1944,124.9998 L325.0,124.9998\" stroke-width=\"1\" stroke=\"black\" stroke-linejoin=\"miter\" fill=\"none\" />\n",
       "<text x=\"275\" y=\"138\" font-size=\"7\" text-anchor=\"middle\"></text>\n",
       "<path d=\"M297,153 L307,153 L307,163 L297,163 Z\" stroke=\"black\" fill=\"thistle\" stroke-linejoin=\"miter\" />\n",
       "<text x=\"302\" y=\"160\" font-size=\"6\" text-anchor=\"middle\">Rx</text>\n",
       "<path d=\"M325,125 L345,125 M355,125 L375,125\" stroke-width=\"1\" stroke=\"black\" stroke-linejoin=\"miter\" fill=\"none\" />\n",
       "<path d=\"M340,135 L360,135 L360,115 L340,115 L340,135\" stroke-width=\"1\" stroke=\"black\" stroke-linejoin=\"miter\" fill=\"lightgray\" />\n",
       "<text x=\"350\" y=\"144\" font-size=\"7\" text-anchor=\"middle\">Φ=phi_3</text>\n",
       "<path d=\"M325,175.0 L375,175.0\" stroke=\"black\" stroke-width=\"1\" fill=\"none\" />\n",
       "<path d=\"M387.9442,125.0002 C401.65380000000005,125.0002,401.5923,150.0,415.30190000000005,150.0 M415.3038,150.0 C401.59220000000005,150.0,401.65380000000005,174.9998,387.94410000000005,174.9998 M415.3038,150.0 L437.1884,150.0 M437.1884,150.0 C450.9,150.0,450.8384,125.0002,464.5481,125.0002 M437.1884,150.0 C450.9,150.0,450.8384,174.9998,464.5481,174.9998 M375.0,125.0 L388.0,125.0 M388.0019,174.9998 L375.0,174.9998 M462.6453,174.9998 L475.0,174.9998 M462.1944,124.9998 L475.0,124.9998\" stroke-width=\"1\" stroke=\"black\" stroke-linejoin=\"miter\" fill=\"none\" />\n",
       "<text x=\"425\" y=\"138\" font-size=\"7\" text-anchor=\"middle\"></text>\n",
       "<path d=\"M447,153 L457,153 L457,163 L447,163 Z\" stroke=\"black\" fill=\"thistle\" stroke-linejoin=\"miter\" />\n",
       "<text x=\"452\" y=\"160\" font-size=\"6\" text-anchor=\"middle\">Rx</text>\n",
       "<path d=\"M475,25.0 L490,25.0\" stroke-width=\"1\" stroke=\"black\" stroke-linejoin=\"miter\" fill=\"none\" />\n",
       "<path d=\"M475,75.0 L490,75.0\" stroke-width=\"1\" stroke=\"black\" stroke-linejoin=\"miter\" fill=\"none\" />\n",
       "<path d=\"M475,125.0 L490,125.0\" stroke-width=\"1\" stroke=\"black\" stroke-linejoin=\"miter\" fill=\"none\" />\n",
       "<path d=\"M475,175.0 L490,175.0\" stroke-width=\"1\" stroke=\"black\" stroke-linejoin=\"miter\" fill=\"none\" />\n",
       "<text x=\"500\" y=\"28.0\" font-size=\"6\" text-anchor=\"end\">0</text>\n",
       "<text x=\"500\" y=\"78.0\" font-size=\"6\" text-anchor=\"end\">1</text>\n",
       "<text x=\"500\" y=\"128.0\" font-size=\"6\" text-anchor=\"end\">2</text>\n",
       "<text x=\"500\" y=\"178.0\" font-size=\"6\" text-anchor=\"end\">3</text>\n",
       "<text x=\"0\" y=\"28.0\" font-size=\"6\" text-anchor=\"start\">0</text>\n",
       "<text x=\"0\" y=\"78.0\" font-size=\"6\" text-anchor=\"start\">1</text>\n",
       "<text x=\"0\" y=\"128.0\" font-size=\"6\" text-anchor=\"start\">2</text>\n",
       "<text x=\"0\" y=\"178.0\" font-size=\"6\" text-anchor=\"start\">3</text>\n",
       "</svg>"
      ],
      "text/plain": [
       "<drawsvg.drawing.Drawing at 0x7f6e58faa140>"
      ]
     },
     "execution_count": 56,
     "metadata": {},
     "output_type": "execute_result"
    }
   ],
   "source": [
    "## You can still display the inside of black boxes with:\n",
    "pcvl.pdisplay(chip, recursive=True)"
   ]
  },
  {
   "cell_type": "markdown",
   "id": "1bd8e2f0",
   "metadata": {},
   "source": [
    "## III. Simulation <a name=\"simulation\"></a>\n",
    "\n",
    "Up to this point, we have focused on creating circuits.\n",
    "It's time to learn how to sample from them or describe their output distribution, on many different inputs.\n",
    "\n"
   ]
  },
  {
   "cell_type": "markdown",
   "id": "190ae9ac",
   "metadata": {
    "jp-MarkdownHeadingCollapsed": true,
    "tags": []
   },
   "source": [
    "### 1. Computing probabilities\n",
    "\n",
    "For this part, we will take the [Hong-Ou-Mandel](https://en.wikipedia.org/wiki/Hong%E2%80%93Ou%E2%80%93Mandel_effect) experience as an example.\n",
    "\n",
    "It's one of the simplest experiments and yet it is very useful.\n",
    "\n",
    "Making two indistinguishable photons, one in each mode, enter one balanced beamsplitter $BS=\\frac{1}{\\sqrt{2}} \\left[\\begin{matrix}1 & 1\\\\1& -1\\end{matrix}\\right]$, we expect the outcome to be:\n",
    "\n",
    "$$|1,1\\rangle \\mapsto \\frac{|2,0\\rangle - |0,2\\rangle}{\\sqrt{2}}  $$\n",
    "\n",
    "We will show how to verify this in the next steps using the Naive backend to recover the full probability distribution."
   ]
  },
  {
   "cell_type": "code",
   "execution_count": 57,
   "id": "73e9230b",
   "metadata": {},
   "outputs": [],
   "source": [
    "## Exercise: build the circuit using the convention above\n",
    "\n",
    "## Solution:\n",
    "circuit = pcvl.Circuit(2) // BS.H()"
   ]
  },
  {
   "cell_type": "code",
   "execution_count": 58,
   "id": "2818570a",
   "metadata": {},
   "outputs": [
    {
     "name": "stdout",
     "output_type": "stream",
     "text": [
      "(0.7071067811865476+0j)\n",
      "(-0.7071067811865476+0j)\n",
      "0.5000000000000001\n"
     ]
    },
    {
     "data": {
      "text/html": [
       "<table>\n",
       "<thead>\n",
       "<tr><th>     </th><th style=\"text-align: right;\">  |1,1&gt;</th><th>|0,2&gt;  </th><th>|2,0&gt;  </th></tr>\n",
       "</thead>\n",
       "<tbody>\n",
       "<tr><td>|1,1&gt;</td><td style=\"text-align: right;\">      0</td><td>1/2    </td><td>1/2    </td></tr>\n",
       "</tbody>\n",
       "</table>"
      ],
      "text/plain": [
       "<IPython.core.display.HTML object>"
      ]
     },
     "metadata": {},
     "output_type": "display_data"
    }
   ],
   "source": [
    "# Syntax to compute the amplitudes\n",
    "backend = pcvl.BackendFactory.get_backend(\"SLOS\")\n",
    "backend.set_circuit(circuit)\n",
    "backend.set_input_state(pcvl.BasicState([1, 1]))\n",
    "print(backend.prob_amplitude(pcvl.BasicState([2, 0])))  # note that it's the amplitude !\n",
    "print(backend.prob_amplitude(pcvl.BasicState([0, 2])))\n",
    "print(backend.probability(pcvl.BasicState([0, 2])))\n",
    "\n",
    "\n",
    "## We can also use the Analyser module to compute a table of probabilities\n",
    "## The Analyser uses a Processor to work with. A Processor aims at simulating a photonic source plugged into a circuit\n",
    "## with a given backend.\n",
    "## The main syntax is :\n",
    "## >>> p = pcvl.Processor(backend_name, circuit, noise=NoiseModel)\n",
    "from perceval.algorithm import Analyzer\n",
    "\n",
    "p = pcvl.Processor(\"SLOS\", BS())\n",
    "analyzer = Analyzer(p, [pcvl.BasicState([1, 1])], '*')  # '*' means all possible output states\n",
    "pcvl.pdisplay(analyzer)"
   ]
  },
  {
   "cell_type": "code",
   "execution_count": 59,
   "id": "fcf74970",
   "metadata": {},
   "outputs": [
    {
     "data": {
      "text/html": [
       "<table>\n",
       "<thead>\n",
       "<tr><th>       </th><th style=\"text-align: right;\">  |0,2,0&gt;</th><th style=\"text-align: right;\">  |0,1,1&gt;</th><th style=\"text-align: right;\">  |2,0,0&gt;</th><th style=\"text-align: right;\">  |1,1,0&gt;</th><th style=\"text-align: right;\">  |1,0,1&gt;</th><th style=\"text-align: right;\">  |0,0,2&gt;</th></tr>\n",
       "</thead>\n",
       "<tbody>\n",
       "<tr><td>|1,1,0&gt;</td><td style=\"text-align: right;\"> 0.139064</td><td style=\"text-align: right;\"> 0.011437</td><td style=\"text-align: right;\"> 0.107319</td><td style=\"text-align: right;\"> 0.252731</td><td style=\"text-align: right;\"> 0.003175</td><td style=\"text-align: right;\"> 0.486274</td></tr>\n",
       "</tbody>\n",
       "</table>"
      ],
      "text/plain": [
       "<IPython.core.display.HTML object>"
      ]
     },
     "metadata": {},
     "output_type": "display_data"
    }
   ],
   "source": [
    "## Exercise:  Choose a random unitary 3x3 U, and output the table probablities when the input |1,1,0> passes through the LO-Circuit of unitary U.\n",
    "\n",
    "## Solution:\n",
    "randU = pcvl.Unitary(pcvl.Matrix.random_unitary(3))   \n",
    "input = pcvl.BasicState([1, 1, 0])\n",
    "\n",
    "p = pcvl.Processor(\"SLOS\", randU)  #We can put in the processor a pcvl.Unitary instead of a circuit ! We don't need to use pcvl.decomposition\n",
    "analyzer = pcvl.algorithm.Analyzer(p, [input], '*')\n",
    "pcvl.pdisplay(analyzer)"
   ]
  },
  {
   "cell_type": "markdown",
   "id": "cd69cf36",
   "metadata": {},
   "source": [
    "### 2. Sampling\n",
    "\n",
    "Although it's crucial to compute the output distribution, it's not what we can expect from a photonic chip. Indeed, realistically, we only can obtain a single sample from the distribution each time we run the circuit. This can be done using the backend SLOS.\n",
    "\n"
   ]
  },
  {
   "cell_type": "code",
   "execution_count": 60,
   "id": "ab11d846",
   "metadata": {},
   "outputs": [
    {
     "name": "stdout",
     "output_type": "stream",
     "text": [
      "{\n",
      "  |2,0>: 513\n",
      "  |0,2>: 487\n",
      "}\n"
     ]
    }
   ],
   "source": [
    "from perceval.algorithm import Sampler  # import the Sampler class\n",
    "\n",
    "p = pcvl.Processor(\"SLOS\", BS())\n",
    "p.with_input(pcvl.BasicState([1,1]))\n",
    "\n",
    "# The sampler holds 'probs', 'sample_count' and 'samples' calls. You can use the one that fits your needs!\n",
    "sampler = Sampler(p)  \n",
    "\n",
    "# A sampler call will return a Python dictionary containing sampling results, and two performance scores\n",
    "# sample_count = sampler.sample_count(1000)\n",
    "# sample_count contains {'results': <actual count>, 'physical_perf': float [0.0 - 1.0], 'logical_perf': float [0.0 - 1.0]}\n",
    "sample_count = sampler.sample_count(1000)\n",
    "print(sample_count['results'])"
   ]
  },
  {
   "cell_type": "code",
   "execution_count": 61,
   "id": "ecbaaa5f",
   "metadata": {},
   "outputs": [
    {
     "name": "stdout",
     "output_type": "stream",
     "text": [
      "{\n",
      "  |0,0,2>: 485\n",
      "  |2,0,0>: 117\n",
      "  |1,1,0>: 258\n",
      "  |0,2,0>: 121\n",
      "  |0,1,1>: 17\n",
      "  |1,0,1>: 2\n",
      "}\n"
     ]
    }
   ],
   "source": [
    "## Exercise: Implement the code to sample from the 3x3 Unitary of earlier\n",
    "\n",
    "#Solution:\n",
    "p=pcvl.Processor(\"CliffordClifford2017\", randU)\n",
    "p.with_input(pcvl.BasicState([1, 1, 0]))\n",
    "p.min_detected_photons_filter(0)  # Do not filter out any output state\n",
    "\n",
    "sampler = pcvl.algorithm.Sampler(p)  \n",
    "sample_count = sampler.sample_count(1000)\n",
    "print(sample_count['results'])\n",
    "\n",
    "## Question: How many states do we have for 3 modes and 2 photons?\n",
    "## Answer: There are 6 different states\n",
    "\n",
    "\n",
    "## Question: How many states do we have for m modes and n photons? \n",
    "## Answer: There are m+n-1 choose n different states (cf Bar and Star problems)."
   ]
  },
  {
   "cell_type": "markdown",
   "id": "a2ec95a5",
   "metadata": {},
   "source": [
    "Note : to approximate with decent precision a distribution over $M$ different states, we would need $M^2$ samples. This can be shown by [Hoeffding's inequality](https://en.wikipedia.org/wiki/Hoeffding%27s_inequality). "
   ]
  },
  {
   "cell_type": "markdown",
   "id": "e07db4a7",
   "metadata": {},
   "source": [
    "### 3. Performance and output state filtering\n",
    "\n",
    "Perceval Processors have a built-in way of computing performance scores.\n",
    "\n",
    "There are two different performance scores:\n",
    "* Physical performance\n",
    "* Logical performance\n",
    "\n",
    "These performance scores help measure the real duration of a data acquisition on a real QPU.\n",
    "\n",
    "#### a. Physical performance\n",
    "\n",
    "This score is related to the number of detections (on a QPU: number of clicks). It drops output states where photons have been lost, or finish in the same mode.\n",
    "\n",
    "For instance, an imperfect source makes this score drop.\n",
    "\n",
    "However, you can choose not to filter any output state by lowering the expected clicks with:\n",
    "> proc.min_detected_photons_filter(0)\n",
    "\n",
    "##### Processor.min_detected_photons_filter method\n",
    "\n",
    "Perceval aims at being an interface for the QPU and as such, proc.min_detected_photons_filter(int k) post selects on having at least k photons detected (for threshold detection: photons on at least k different modes). By default, this value is set to n where n is the expected number of input photons. This is useful for retrieving a logical interpretation, making sure that no photon has been lost due to noise and coherent with the use of threshold detectors. However, for various applications (for instance machine learning where we use the full Fock space and resolve the number of photons, you will have to set it to 0 (and you may introduce you own post selection scheme if needed)."
   ]
  },
  {
   "cell_type": "code",
   "execution_count": 62,
   "id": "4f53cd46",
   "metadata": {},
   "outputs": [
    {
     "name": "stdout",
     "output_type": "stream",
     "text": [
      "Physical perf of perfect processor = 1\n",
      "Physical perf of imperfect processor = 0.09000000000000005\n",
      "Physical perf of imperfect processor (without selection) = 1\n"
     ]
    }
   ],
   "source": [
    "# Create an empty circuit (each input mode is directly connected to a detector without interacting with any other)\n",
    "empty_circuit = pcvl.Circuit(4)\n",
    "\n",
    "perfect_proc = pcvl.Processor(\"SLOS\", empty_circuit)\n",
    "imperfect_proc = pcvl.Processor(\"SLOS\", empty_circuit, noise=pcvl.NoiseModel(brightness=0.3))\n",
    "\n",
    "# Set the same input in both processors\n",
    "input_state = pcvl.BasicState([1, 0, 1, 0])\n",
    "perfect_proc.with_input(input_state)\n",
    "imperfect_proc.with_input(input_state)\n",
    "\n",
    "perfect_sampler = pcvl.algorithm.Sampler(perfect_proc)\n",
    "perfect_probs = perfect_sampler.probs()\n",
    "imperfect_sampler = pcvl.algorithm.Sampler(imperfect_proc)\n",
    "imperfect_probs = imperfect_sampler.probs()\n",
    "\n",
    "print('Physical perf of perfect processor =', perfect_probs['physical_perf'])\n",
    "print('Physical perf of imperfect processor =', imperfect_probs['physical_perf'])  # source emission probability**2\n",
    "      \n",
    "# You can still disable output state filtering\n",
    "imperfect_proc.min_detected_photons_filter(0)\n",
    "imperfect_probs = imperfect_sampler.probs()\n",
    "print('Physical perf of imperfect processor (without selection) =', imperfect_probs['physical_perf'])"
   ]
  },
  {
   "cell_type": "markdown",
   "id": "2e2915c3",
   "metadata": {},
   "source": [
    "#### b. Logical performance\n",
    "\n",
    "This performance computation is set up by heralded modes and/or post-selection function set in a processor.\n",
    "\n",
    "Depending on the circuit used, on the post-selection function, you may observe that physical and logical performance score interact. So, if you're interested on a theoretical gate performance, you should disable physical post-selection with:\n",
    "> proc.min_detected_photons_filter(0)\n",
    "\n",
    "Here is a quick example of the heralding / post-selection syntax in Perceval. You will see the result later on in this notebook."
   ]
  },
  {
   "cell_type": "code",
   "execution_count": 63,
   "id": "e874af1d",
   "metadata": {},
   "outputs": [
    {
     "name": "stdout",
     "output_type": "stream",
     "text": [
      "With herald only\n",
      "Logical perf = 0.7500000000000001\n",
      "{\n",
      "  |1,0>: 0.028595479208968374\n",
      "  |0,1>: 0.9714045207910317\n",
      "}\n",
      "With herald + post-selection function\n",
      "Logical perf = 0.7500000000000001\n",
      "{\n",
      "  |1,0>: 0.028595479208968374\n",
      "  |0,1>: 0.9714045207910317\n",
      "}\n"
     ]
    }
   ],
   "source": [
    "circuit = pcvl.Circuit(3) // BS() // (1, BS()) // BS()\n",
    "p = pcvl.Processor(\"SLOS\", circuit)\n",
    "p.add_herald(2, 0)  # Third mode is heralded (0 photon in, 0 photon expected out)\n",
    "\n",
    "# After a mode is heralded, you must not take it into account when setting an input to the processor\n",
    "p.with_input(pcvl.BasicState([1, 0]))\n",
    "sampler = pcvl.algorithm.Sampler(p)\n",
    "probs = sampler.probs()\n",
    "print(\"With herald only\")\n",
    "print(\"Logical perf =\", probs['logical_perf'])\n",
    "print(probs['results'])\n",
    "\n",
    "# A post-selection function can be created like this:\n",
    "postselect_func = pcvl.PostSelect(\"[1] == 1\")  # meaning we required 1 photon detection in mode #1\n",
    "\n",
    "p.set_postselection(postselect_func)  # Add post-selection\n",
    "probs = sampler.probs()\n",
    "print(\"With herald + post-selection function\")\n",
    "print(\"Logical perf =\", probs['logical_perf'])\n",
    "print(probs['results'])"
   ]
  },
  {
   "cell_type": "markdown",
   "id": "58b02992",
   "metadata": {},
   "source": [
    "### 4. Variational algorithm\n",
    "\n",
    "In variational algorithms, the samples from a quantum circuit allow us to approximate an expectation value, which is then used to determine the value of a loss function. This loss function is chosen such that minimising it yields a solution to a given problem. By changing the values of the parameters in our quantum circuit, we can search for this minimum.\n",
    "\n",
    "We won't go into the details of variational algorithms. However, it may be useful to see how to perform an optimisation with Perceval.\n",
    "\n",
    "We will use the library [scipy.optimise](https://docs.scipy.org/doc/scipy/reference/generated/scipy.optimize.minimize.html#scipy.optimize.minimize).\n",
    "\n",
    "The following code solves the problem of finding an LO-Circuit which, given a Fock State $|1,1,1,1\\rangle$, maximises the probability of outputting $|4,0,0,0\\rangle$.\n",
    "The solution below works for an arbitrary $n$."
   ]
  },
  {
   "cell_type": "code",
   "execution_count": 64,
   "id": "eaa4cab5",
   "metadata": {},
   "outputs": [
    {
     "name": "stdout",
     "output_type": "stream",
     "text": [
      "The maximum probability is 0.09375000000000008\n"
     ]
    },
    {
     "data": {
      "text/plain": [
       "0.09374999999999999"
      ]
     },
     "execution_count": 64,
     "metadata": {},
     "output_type": "execute_result"
    }
   ],
   "source": [
    "import random\n",
    "from scipy import optimize\n",
    "\n",
    "# Data\n",
    "n = 4\n",
    "input = pcvl.BasicState([1]*n)\n",
    "output_to_max = pcvl.BasicState([n]+[0]*(n-1))\n",
    "backend = pcvl.SLOSBackend()\n",
    "\n",
    "# TO-DO: implement a generic circuit of size n with parameters. Code the loss function to maximise the good output. Launch the optimisation procedure. Output the probability and circuit obtained\n",
    "\n",
    "# We take a universal circuit\n",
    "circuit = pcvl.GenericInterferometer(n, \n",
    "    lambda i: BS(theta=pcvl.P(f\"theta{i}\"), phi_tr=pcvl.P(f\"phi_tr{i}\")),\n",
    "    phase_shifter_fun_gen=lambda i: PS(phi=pcvl.P(f\"phi{i}\")))\n",
    "param_circuit = circuit.get_parameters()\n",
    "params_init = [random.random()*np.pi for _ in param_circuit]\n",
    "\n",
    "\n",
    "def loss_function(params):\n",
    "    for i, value in enumerate(params):\n",
    "        param_circuit[i].set_value(value)\n",
    "    backend.set_circuit(circuit)\n",
    "    backend.set_input_state(input)\n",
    "    return -backend.probability(output_to_max)  # we want to maximise the prob, so we want to minimise the -prob\n",
    "\n",
    "\n",
    "# Run the optimisation\n",
    "o = optimize.minimize(loss_function, params_init, method=\"Powell\")\n",
    "\n",
    "print(f\"The maximum probability is {-loss_function(o.x)}\") \n",
    "\n",
    "# For n=4, the probability should be 3/32 \n",
    "# The maximum can also be obtained with the Hadamard matrix :\n",
    "\n",
    "H4 = (1/2)*np.array([[1,1,1,1], [1,-1,1,-1], [1,1,-1,-1], [1,-1,-1,1]])\n",
    "backend.set_circuit(pcvl.Unitary(pcvl.Matrix(H4)))\n",
    "backend.set_input_state(input)\n",
    "backend.probability(output_to_max)"
   ]
  },
  {
   "cell_type": "markdown",
   "id": "3a78cc87",
   "metadata": {},
   "source": [
    "### 5. To go further : connect to a chip\n",
    "\n",
    "Perceval is also connected to real/physical chips.\n",
    "Here's the syntax to sample directly from them ! \n",
    "\n",
    "See: [Remote computing](https://perceval.quandela.net/docs/notebooks/Remote_computing.html)"
   ]
  },
  {
   "cell_type": "markdown",
   "id": "c7ada850",
   "metadata": {},
   "source": [
    "## IV. Encoding Qubits <a name=\"encoding\"></a>"
   ]
  },
  {
   "cell_type": "markdown",
   "id": "e84fc736",
   "metadata": {},
   "source": [
    "### 1. Path encoding\n",
    "\n",
    "To perform quantum computations using photons, we need an encoding: a correspondance between our Fock states and our qubit states.\n",
    "\n",
    "We therefore want to associate each qubit state with one of our Fock states.\n",
    "\n",
    "One natural way to encode qubits is the path encoding.\n",
    "A qubit is a two-level quantum state, so we will use two spatial modes to encode it: this is the dual-rail or path encoding.\n",
    "\n",
    "The logical qubit state $|0\\rangle_L$ will correspond to a photon in the upper mode, as in the Fock state $|1,0\\rangle$, while $|1\\rangle_L$ will be encoded as $|0,1\\rangle$.\n",
    "\n",
    "\n",
    "We can extend this to multiple qubits by having twice as many modes as there are qubits. For example the $3$-qubit state $\\frac{1}{\\sqrt{2}}(|000\\rangle_L+|111\\rangle_L)$ can be encoded with $3$ photons and $3\\times 2=6$ modes :\n",
    "$\\frac{1}{\\sqrt{2}}(|1,0,1,0,1,0\\rangle+|0,1,0,1,0,1\\rangle)$"
   ]
  },
  {
   "cell_type": "markdown",
   "id": "4fbd0d6a",
   "metadata": {},
   "source": [
    "### 2. Single-qubit gates\n",
    "\n",
    "Using the dual-rail enconding, single-qubit gates only deal with one photon and are straightforward. Can you give the LO-circuits for the gates below?"
   ]
  },
  {
   "cell_type": "markdown",
   "id": "9f1900e8",
   "metadata": {},
   "source": [
    "$$X=\\left[\\begin{matrix}0 & 1\\\\1& 0\\end{matrix}\\right]$$\n",
    "$$Y=\\left[\\begin{matrix}0 & -i\\\\i& 0\\end{matrix}\\right]$$\n",
    "$$Z=\\left[\\begin{matrix}1 & 0\\\\0& -1\\end{matrix}\\right]$$\n",
    "$$H=\\frac{1}{\\sqrt{2}} \\left[\\begin{matrix}1 & 1\\\\1& -1\\end{matrix}\\right]$$\n",
    "\n",
    "$$R_X=\\left[\\begin{matrix}\\cos{\\left(\\frac{\\theta}{2} \\right)} & -i \\sin{\\left(\\frac{\\theta}{2} \\right)}\\\\-i \\sin{\\left(\\frac{\\theta}{2} \\right)} & \\cos{\\left(\\frac{\\theta}{2} \\right)}\\end{matrix}\\right]$$\n",
    "\n",
    "$$R_Y=\\left[\\begin{matrix}\\cos{\\left(\\frac{\\theta}{2} \\right)} & - \\sin{\\left(\\frac{\\theta}{2} \\right)}\\\\ \\sin{\\left(\\frac{\\theta}{2} \\right)} & \\cos{\\left(\\frac{\\theta}{2} \\right)}\\end{matrix}\\right]$$\n",
    "\n",
    "$$R_Z=\\left[\\begin{matrix}e^{-i\\frac{\\theta}{2}} & 0 \\\\ 0 & e^{i\\frac{\\theta}{2}}\\end{matrix}\\right]$$"
   ]
  },
  {
   "cell_type": "code",
   "execution_count": 65,
   "id": "626771f0",
   "metadata": {},
   "outputs": [],
   "source": [
    "## Exercise: find the LO-circuits for each gate\n",
    "\n",
    "## Solution:\n",
    "circuit_x = PERM([1, 0])  # it's not the only way\n",
    "circuit_y = PERM([1, 0]) // (0, PS(-np.pi/2)) // (1, PS(np.pi/2))\n",
    "circuit_z = pcvl.Circuit(2) // (1, PS(np.pi))\n",
    "circuit_h = BS.H()\n",
    "\n",
    "circuit_rx = pcvl.Circuit(2) // (0, PS(np.pi)) // BS.Rx(theta=pcvl.P(\"theta\")) // (0, PS(np.pi))\n",
    "circuit_ry = BS.Ry(theta=pcvl.P(\"theta\"))\n",
    "circuit_rz = BS.H() // circuit_rx // BS.H()  # Indeed, Rz = H Rx H"
   ]
  },
  {
   "cell_type": "markdown",
   "id": "26b5af58",
   "metadata": {},
   "source": [
    "### 3. Two-qubit gates\n",
    "\n",
    "On the other hand, in dual-rail encoding, it can be shown that two-qubit gates can't be deterministic, and have a probability to fail.\n",
    "\n",
    "There are two ways to detect that failure:\n",
    "\n",
    "- We can use additional photons called ancillas, which we can measure independently from the main circuit photons. Depending on the state obtained on the ancilla, we know whether the gate has succeeded or not on the main qubits. Those gates will be called heralded.\n",
    "- We can also directly measure the main circuit qubits, and depending on the result, assess whether the gate has succeeded or not. Those gates will be called postselected.\n",
    "\n",
    "The CNOT gate acts on two qubits, a control and a target, and flips the value of the target if the control qubit is in state $|1\\rangle_L$. In the following two exercices, we will see the two types of CNOT gates: \n",
    "- the postselected CNOT of [Ralph et al.](https://arxiv.org/abs/quant-ph/0112088)\n",
    "- the heralded CNOT of [Knill](https://arxiv.org/abs/quant-ph/0110144)"
   ]
  },
  {
   "cell_type": "code",
   "execution_count": 66,
   "id": "4b308e53",
   "metadata": {},
   "outputs": [
    {
     "name": "stdout",
     "output_type": "stream",
     "text": [
      "['klm cnot', 'heralded cnot', 'postprocessed cnot', 'heralded cz', 'generic 2 mode circuit', 'mzi phase first', 'mzi phase last', 'postprocessed ccz', 'toffoli', 'postprocessed controlled gate']\n"
     ]
    }
   ],
   "source": [
    "## We introduce the component catalog. It contains both CNOT gates.\n",
    "from perceval.components import catalog\n",
    "print(catalog.list())"
   ]
  },
  {
   "cell_type": "code",
   "execution_count": 67,
   "id": "09d7d85f",
   "metadata": {},
   "outputs": [
    {
     "name": "stdout",
     "output_type": "stream",
     "text": [
      "POSTPROCESSED CNOT DOCUMENTATION\n",
      "---------------------------------\n",
      "\n",
      "CNOT gate with 2 heralded modes and a post-selection function\n",
      "\n",
      "Scientific article reference: https://journals.aps.org/pra/abstract/10.1103/PhysRevA.65.062324\n",
      "\n",
      "Schema:\n",
      "                      ╭─────╮\n",
      "ctrl (dual rail) ─────┤     ├───── ctrl (dual rail)\n",
      "                 ─────┤     ├─────\n",
      "                      │     │\n",
      "data (dual rail) ─────┤     ├───── data (dual rail)\n",
      "                 ─────┤     ├─────\n",
      "                      ╰─────╯\n",
      "\n",
      "See also: klm cnot and heralded cnot (using cz)\n",
      "\n"
     ]
    },
    {
     "data": {
      "image/svg+xml": [
       "<?xml version=\"1.0\" encoding=\"UTF-8\"?>\n",
       "<svg xmlns=\"http://www.w3.org/2000/svg\" xmlns:xlink=\"http://www.w3.org/1999/xlink\"\n",
       "     width=\"1035.9375\" height=\"507.8125\" viewBox=\"-68.0 0 663.0 325.0\">\n",
       "<defs>\n",
       "</defs>\n",
       "<path d=\"M10,25.0 L25,25.0\" stroke-width=\"1\" stroke=\"black\" stroke-linejoin=\"miter\" fill=\"none\" />\n",
       "<path d=\"M10,75.0 L25,75.0\" stroke-width=\"1\" stroke=\"black\" stroke-linejoin=\"miter\" fill=\"none\" />\n",
       "<path d=\"M10,125.0 L25,125.0\" stroke-width=\"1\" stroke=\"black\" stroke-linejoin=\"miter\" fill=\"none\" />\n",
       "<path d=\"M10,175.0 L25,175.0\" stroke-width=\"1\" stroke=\"black\" stroke-linejoin=\"miter\" fill=\"none\" />\n",
       "<path d=\"M27,2 L523,2 L523,298 L27,298 Z\" stroke=\"black\" fill=\"lightblue\" stroke-dasharray=\"1,2\" stroke-linejoin=\"miter\" />\n",
       "<text x=\"29\" y=\"305\" font-size=\"8\" text-anchor=\"start\">POSTPROCESSED CNOT</text>\n",
       "<path d=\"M25,24.8 C45,25,55,25,75,25\" stroke-width=\"2\" stroke=\"white\" stroke-linejoin=\"miter\" fill=\"none\" />\n",
       "<path d=\"M25,25 C45,25,55,25,75,25\" stroke-width=\"1\" stroke=\"black\" stroke-linejoin=\"miter\" fill=\"none\" />\n",
       "<path d=\"M25,74.8 C45,75,55,125,75,125\" stroke-width=\"2\" stroke=\"white\" stroke-linejoin=\"miter\" fill=\"none\" />\n",
       "<path d=\"M25,75 C45,75,55,125,75,125\" stroke-width=\"1\" stroke=\"black\" stroke-linejoin=\"miter\" fill=\"none\" />\n",
       "<path d=\"M25,124.8 C45,125,55,175,75,175\" stroke-width=\"2\" stroke=\"white\" stroke-linejoin=\"miter\" fill=\"none\" />\n",
       "<path d=\"M25,125 C45,125,55,175,75,175\" stroke-width=\"1\" stroke=\"black\" stroke-linejoin=\"miter\" fill=\"none\" />\n",
       "<path d=\"M25,174.8 C45,175,55,225,75,225\" stroke-width=\"2\" stroke=\"white\" stroke-linejoin=\"miter\" fill=\"none\" />\n",
       "<path d=\"M25,175 C45,175,55,225,75,225\" stroke-width=\"1\" stroke=\"black\" stroke-linejoin=\"miter\" fill=\"none\" />\n",
       "<path d=\"M87.9442,175.0002 C101.65379999999999,175.0002,101.5923,200.0,115.30189999999999,200.0 M115.3038,200.0 C101.59219999999999,200.0,101.65379999999999,224.9998,87.94409999999999,224.9998 M115.3038,200.0 L137.1884,200.0 M137.1884,200.0 C150.9,200.0,150.8384,175.0002,164.5481,175.0002 M137.1884,200.0 C150.9,200.0,150.8384,224.9998,164.5481,224.9998 M75.0,175.0 L88.0,175.0 M88.0019,224.9998 L75.0,224.9998 M162.64530000000002,224.9998 L175.0,224.9998 M162.1944,174.9998 L175.0,174.9998\" stroke-width=\"1\" stroke=\"black\" stroke-linejoin=\"miter\" fill=\"none\" />\n",
       "<text x=\"125\" y=\"188\" font-size=\"7\" text-anchor=\"middle\"></text>\n",
       "<path d=\"M147,203 L157,203 L157,213 L147,213 Z\" stroke=\"black\" fill=\"aquamarine\" stroke-linejoin=\"miter\" />\n",
       "<text x=\"152\" y=\"210\" font-size=\"6\" text-anchor=\"middle\">H</text>\n",
       "<path d=\"M75,125.0 L175,125.0\" stroke=\"black\" stroke-width=\"1\" fill=\"none\" />\n",
       "<path d=\"M175,124.8 C195,125,205,175,225,175\" stroke-width=\"2\" stroke=\"white\" stroke-linejoin=\"miter\" fill=\"none\" />\n",
       "<path d=\"M175,125 C195,125,205,175,225,175\" stroke-width=\"1\" stroke=\"black\" stroke-linejoin=\"miter\" fill=\"none\" />\n",
       "<path d=\"M175,174.8 C195,175,205,125,225,125\" stroke-width=\"2\" stroke=\"white\" stroke-linejoin=\"miter\" fill=\"none\" />\n",
       "<path d=\"M175,175 C195,175,205,125,225,125\" stroke-width=\"1\" stroke=\"black\" stroke-linejoin=\"miter\" fill=\"none\" />\n",
       "<path d=\"M75,25.0 L225,25.0\" stroke=\"black\" stroke-width=\"1\" fill=\"none\" />\n",
       "<path d=\"M237.9442,25.0002 C251.6538,25.0002,251.5923,50.0,265.3019,50.0 M265.30379999999997,50.0 C251.59219999999996,50.0,251.65379999999996,74.9998,237.94409999999996,74.9998 M265.30379999999997,49.99999999999999 L287.18839999999994,49.99999999999999 M287.18839999999994,49.99999999999999 C300.9,49.99999999999999,300.8384,25.000199999999992,314.5481,25.000199999999992 M287.1884,49.99999999999999 C300.9,49.99999999999999,300.8384,74.9998,314.5481,74.9998 M224.99999999999997,24.999999999999993 L237.99999999999997,24.999999999999993 M238.00189999999998,74.9998 L224.99999999999997,74.9998 M312.64529999999996,74.9998 L324.99999999999994,74.9998 M312.1944,24.999799999999993 L325.0,24.999799999999993\" stroke-width=\"1\" stroke=\"black\" stroke-linejoin=\"miter\" fill=\"none\" />\n",
       "<text x=\"275\" y=\"38\" font-size=\"7\" text-anchor=\"middle\">Θ=1.910633</text>\n",
       "<path d=\"M297,53 L307,53 L307,63 L297,63 Z\" stroke=\"black\" fill=\"aquamarine\" stroke-linejoin=\"miter\" />\n",
       "<text x=\"302\" y=\"60\" font-size=\"6\" text-anchor=\"middle\">H</text>\n",
       "<path d=\"M237.9442,125.0002 C251.6538,125.0002,251.5923,150.0,265.3019,150.0 M265.30379999999997,150.0 C251.59219999999996,150.0,251.65379999999996,174.9998,237.94409999999996,174.9998 M265.30379999999997,150.0 L287.18839999999994,150.0 M287.18839999999994,150.0 C300.9,150.0,300.8384,125.0002,314.5481,125.0002 M287.1884,150.0 C300.9,150.0,300.8384,174.9998,314.5481,174.9998 M224.99999999999997,125.0 L237.99999999999997,125.0 M238.00189999999998,174.9998 L224.99999999999997,174.9998 M312.64529999999996,174.9998 L324.99999999999994,174.9998 M312.1944,124.9998 L325.0,124.9998\" stroke-width=\"1\" stroke=\"black\" stroke-linejoin=\"miter\" fill=\"none\" />\n",
       "<text x=\"275\" y=\"138\" font-size=\"7\" text-anchor=\"middle\">Θ=1.910633</text>\n",
       "<path d=\"M297,153 L307,153 L307,163 L297,163 Z\" stroke=\"black\" fill=\"aquamarine\" stroke-linejoin=\"miter\" />\n",
       "<text x=\"302\" y=\"160\" font-size=\"6\" text-anchor=\"middle\">H</text>\n",
       "<path d=\"M175,225.0 L225,225.0\" stroke=\"black\" stroke-width=\"1\" fill=\"none\" />\n",
       "<path d=\"M237.9442,225.0002 C251.6538,225.0002,251.5923,250.0,265.3019,250.0 M265.30379999999997,250.0 C251.59219999999996,250.0,251.65379999999996,274.9998,237.94409999999996,274.9998 M265.30379999999997,250.0 L287.18839999999994,250.0 M287.18839999999994,250.0 C300.9,250.0,300.8384,225.0002,314.5481,225.0002 M287.1884,250.0 C300.9,250.0,300.8384,274.9998,314.5481,274.9998 M224.99999999999997,225.0 L237.99999999999997,225.0 M238.00189999999998,274.9998 L224.99999999999997,274.9998 M312.64529999999996,274.9998 L324.99999999999994,274.9998 M312.1944,224.9998 L325.0,224.9998\" stroke-width=\"1\" stroke=\"black\" stroke-linejoin=\"miter\" fill=\"none\" />\n",
       "<text x=\"275\" y=\"238\" font-size=\"7\" text-anchor=\"middle\">Θ=1.910633</text>\n",
       "<path d=\"M297,253 L307,253 L307,263 L297,263 Z\" stroke=\"black\" fill=\"aquamarine\" stroke-linejoin=\"miter\" />\n",
       "<text x=\"302\" y=\"260\" font-size=\"6\" text-anchor=\"middle\">H</text>\n",
       "<path d=\"M325,124.8 C345,125,355,175,375,175\" stroke-width=\"2\" stroke=\"white\" stroke-linejoin=\"miter\" fill=\"none\" />\n",
       "<path d=\"M325,125 C345,125,355,175,375,175\" stroke-width=\"1\" stroke=\"black\" stroke-linejoin=\"miter\" fill=\"none\" />\n",
       "<path d=\"M325,174.8 C345,175,355,125,375,125\" stroke-width=\"2\" stroke=\"white\" stroke-linejoin=\"miter\" fill=\"none\" />\n",
       "<path d=\"M325,175 C345,175,355,125,375,125\" stroke-width=\"1\" stroke=\"black\" stroke-linejoin=\"miter\" fill=\"none\" />\n",
       "<path d=\"M325,225.0 L375,225.0\" stroke=\"black\" stroke-width=\"1\" fill=\"none\" />\n",
       "<path d=\"M387.9442,175.0002 C401.65380000000005,175.0002,401.5923,200.0,415.30190000000005,200.0 M415.3038,200.0 C401.59220000000005,200.0,401.65380000000005,224.9998,387.94410000000005,224.9998 M415.3038,200.0 L437.1884,200.0 M437.1884,200.0 C450.9,200.0,450.8384,175.0002,464.5481,175.0002 M437.1884,200.0 C450.9,200.0,450.8384,224.9998,464.5481,224.9998 M375.0,175.0 L388.0,175.0 M388.0019,224.9998 L375.0,224.9998 M462.6453,224.9998 L475.0,224.9998 M462.1944,174.9998 L475.0,174.9998\" stroke-width=\"1\" stroke=\"black\" stroke-linejoin=\"miter\" fill=\"none\" />\n",
       "<text x=\"425\" y=\"188\" font-size=\"7\" text-anchor=\"middle\"></text>\n",
       "<path d=\"M447,203 L457,203 L457,213 L447,213 Z\" stroke=\"black\" fill=\"aquamarine\" stroke-linejoin=\"miter\" />\n",
       "<text x=\"452\" y=\"210\" font-size=\"6\" text-anchor=\"middle\">H</text>\n",
       "<path d=\"M375,125.0 L475,125.0\" stroke=\"black\" stroke-width=\"1\" fill=\"none\" />\n",
       "<path d=\"M475,124.8 C495,125,505,75,525,75\" stroke-width=\"2\" stroke=\"white\" stroke-linejoin=\"miter\" fill=\"none\" />\n",
       "<path d=\"M475,125 C495,125,505,75,525,75\" stroke-width=\"1\" stroke=\"black\" stroke-linejoin=\"miter\" fill=\"none\" />\n",
       "<path d=\"M475,174.8 C495,175,505,125,525,125\" stroke-width=\"2\" stroke=\"white\" stroke-linejoin=\"miter\" fill=\"none\" />\n",
       "<path d=\"M475,175 C495,175,505,125,525,125\" stroke-width=\"1\" stroke=\"black\" stroke-linejoin=\"miter\" fill=\"none\" />\n",
       "<path d=\"M475,224.8 C495,225,505,175,525,175\" stroke-width=\"2\" stroke=\"white\" stroke-linejoin=\"miter\" fill=\"none\" />\n",
       "<path d=\"M475,225 C495,225,505,175,525,175\" stroke-width=\"1\" stroke=\"black\" stroke-linejoin=\"miter\" fill=\"none\" />\n",
       "<path d=\"M325,25.0 L525,25.0\" stroke=\"black\" stroke-width=\"1\" fill=\"none\" />\n",
       "<path d=\"M525,25.0 L540,25.0\" stroke-width=\"1\" stroke=\"black\" stroke-linejoin=\"miter\" fill=\"none\" />\n",
       "<path d=\"M525,75.0 L540,75.0\" stroke-width=\"1\" stroke=\"black\" stroke-linejoin=\"miter\" fill=\"none\" />\n",
       "<path d=\"M525,125.0 L540,125.0\" stroke-width=\"1\" stroke=\"black\" stroke-linejoin=\"miter\" fill=\"none\" />\n",
       "<path d=\"M525,175.0 L540,175.0\" stroke-width=\"1\" stroke=\"black\" stroke-linejoin=\"miter\" fill=\"none\" />\n",
       "<path d=\"M-2,15 L10,15 L10,85 L-2,85 Z\" stroke=\"black\" fill=\"white\" stroke-linejoin=\"miter\" />\n",
       "<text x=\"4\" y=\"27\" font-size=\"7\" text-anchor=\"middle\">0</text>\n",
       "<text x=\"4\" y=\"77\" font-size=\"7\" text-anchor=\"middle\">1</text>\n",
       "<text x=\"-2\" y=\"91\" font-size=\"6\" text-anchor=\"start\" font-style=\"italic\">[ctrl]</text>\n",
       "<path d=\"M-2,115 L10,115 L10,185 L-2,185 Z\" stroke=\"black\" fill=\"white\" stroke-linejoin=\"miter\" />\n",
       "<text x=\"4\" y=\"127\" font-size=\"7\" text-anchor=\"middle\">2</text>\n",
       "<text x=\"4\" y=\"177\" font-size=\"7\" text-anchor=\"middle\">3</text>\n",
       "<text x=\"-2\" y=\"191\" font-size=\"6\" text-anchor=\"start\" font-style=\"italic\">[data]</text>\n",
       "<path d=\"M207,75 C207,75,207,65,217,65 L225,65 L225,85 L217,85 C207,85,207,75,207,75 L207,75\" stroke-width=\"1\" stroke=\"black\" stroke-linejoin=\"miter\" fill=\"white\" />\n",
       "<text x=\"213\" y=\"91\" font-size=\"6\" text-anchor=\"middle\" font-style=\"italic\">[herald0]</text>\n",
       "<text x=\"217\" y=\"78\" font-size=\"7\" text-anchor=\"middle\">0</text>\n",
       "<path d=\"M207,275 C207,275,207,265,217,265 L225,265 L225,285 L217,285 C207,285,207,275,207,275 L207,275\" stroke-width=\"1\" stroke=\"black\" stroke-linejoin=\"miter\" fill=\"white\" />\n",
       "<text x=\"213\" y=\"291\" font-size=\"6\" text-anchor=\"middle\" font-style=\"italic\">[herald1]</text>\n",
       "<text x=\"217\" y=\"278\" font-size=\"7\" text-anchor=\"middle\">0</text>\n",
       "<path d=\"M540,15 L552,15 L552,85 L540,85 Z\" stroke=\"black\" fill=\"white\" stroke-linejoin=\"miter\" />\n",
       "<text x=\"546\" y=\"27\" font-size=\"7\" text-anchor=\"middle\">0</text>\n",
       "<text x=\"546\" y=\"77\" font-size=\"7\" text-anchor=\"middle\">1</text>\n",
       "<text x=\"552\" y=\"91\" font-size=\"6\" text-anchor=\"end\" font-style=\"italic\">[ctrl]</text>\n",
       "<path d=\"M540,115 L552,115 L552,185 L540,185 Z\" stroke=\"black\" fill=\"white\" stroke-linejoin=\"miter\" />\n",
       "<text x=\"546\" y=\"127\" font-size=\"7\" text-anchor=\"middle\">2</text>\n",
       "<text x=\"546\" y=\"177\" font-size=\"7\" text-anchor=\"middle\">3</text>\n",
       "<text x=\"552\" y=\"191\" font-size=\"6\" text-anchor=\"end\" font-style=\"italic\">[data]</text>\n",
       "<path d=\"M333,85 L325,85 L325,65 L333,65 C333,65,343,65,343,75 C343,85,333,85,333,85 L333,85\" stroke-width=\"1\" stroke=\"black\" stroke-linejoin=\"miter\" fill=\"white\" />\n",
       "<text x=\"338\" y=\"91\" font-size=\"6\" text-anchor=\"middle\" font-style=\"italic\">[herald0]</text>\n",
       "<text x=\"333\" y=\"78\" font-size=\"7\" text-anchor=\"middle\">0</text>\n",
       "<path d=\"M333,285 L325,285 L325,265 L333,265 C333,265,343,265,343,275 C343,285,333,285,333,285 L333,285\" stroke-width=\"1\" stroke=\"black\" stroke-linejoin=\"miter\" fill=\"white\" />\n",
       "<text x=\"338\" y=\"291\" font-size=\"6\" text-anchor=\"middle\" font-style=\"italic\">[herald1]</text>\n",
       "<text x=\"333\" y=\"278\" font-size=\"7\" text-anchor=\"middle\">0</text>\n",
       "</svg>"
      ],
      "text/plain": [
       "<drawsvg.drawing.Drawing at 0x7f6e591ff1c0>"
      ]
     },
     "execution_count": 67,
     "metadata": {},
     "output_type": "execute_result"
    }
   ],
   "source": [
    "## Ralph's et al. CNot\n",
    "\n",
    "print(catalog['postprocessed cnot'].doc)\n",
    "ralph_cnot = catalog['postprocessed cnot'].build_processor()\n",
    "## You can set its input state with a LogicalState\n",
    "ralph_cnot.with_input(pcvl.LogicalState([1, 0]))\n",
    "\n",
    "pcvl.pdisplay(ralph_cnot, recursive=True, render_size=1.25)"
   ]
  },
  {
   "cell_type": "code",
   "execution_count": 68,
   "id": "1e407529",
   "metadata": {},
   "outputs": [],
   "source": [
    "## Exercise: Check/convince yourself that the circuit above is performing a CNOT in the dual rail encoding"
   ]
  },
  {
   "cell_type": "code",
   "execution_count": 69,
   "id": "bd4192fa",
   "metadata": {},
   "outputs": [
    {
     "name": "stdout",
     "output_type": "stream",
     "text": [
      "{\n",
      "  |0,1,0,1>: 1.0\n",
      "}\n",
      "Some output states were not selected because of heralds and post-processing => you can check the logical performance\n",
      "Logical performance =  0.1111111111111113\n"
     ]
    }
   ],
   "source": [
    "## You can sample some output states\n",
    "ralph_cnot.min_detected_photons_filter(0)\n",
    "cnot_sampler = pcvl.algorithm.Sampler(ralph_cnot)\n",
    "samples = cnot_sampler.probs()\n",
    "print(samples['results'])\n",
    "print(\"Some output states were not selected because of heralds and post-processing => you can check the logical performance\")\n",
    "print(\"Logical performance = \", samples['logical_perf'])"
   ]
  },
  {
   "cell_type": "code",
   "execution_count": 70,
   "id": "88579684",
   "metadata": {},
   "outputs": [
    {
     "name": "stdout",
     "output_type": "stream",
     "text": [
      "[|1,0,1,0>, |1,0,1,0>, |1,0,1,0>, |1,0,1,0>, |1,0,1,0>, |1,0,1,0>, |1,0,1,0>, |1,0,1,0>, |1,0,1,0>, |1,0,1,0>]\n",
      "Some output states were not selected because of heralds and post-processing => you can check the logical performance\n",
      "Logical performance = 0.0740740740740746\n"
     ]
    }
   ],
   "source": [
    "## You can sample some output states\n",
    "h_cnot = catalog['heralded cnot'].build_processor()\n",
    "cnot_sampler = pcvl.algorithm.Sampler(h_cnot)\n",
    "h_cnot.with_input(pcvl.LogicalState([0, 0]))\n",
    "\n",
    "samples = cnot_sampler.samples(10)\n",
    "print(samples['results'])\n",
    "print(\"Some output states were not selected because of heralds and post-processing => you can check the logical performance\")\n",
    "print(\"Logical performance =\", samples['logical_perf'])"
   ]
  },
  {
   "cell_type": "code",
   "execution_count": 71,
   "id": "6648043a",
   "metadata": {},
   "outputs": [],
   "source": [
    "## Exercise: Check it perfoms a CNOT, and explicit the difference between the two types of CNOT"
   ]
  },
  {
   "cell_type": "markdown",
   "id": "bda1dc03",
   "metadata": {},
   "source": [
    "### Exercise\n",
    "\n",
    "The next circuit comes from the following [paper](https://quantum-journal.org/papers/q-2021-03-29-422/)."
   ]
  },
  {
   "cell_type": "markdown",
   "id": "76bcc78f",
   "metadata": {},
   "source": [
    "![](../_static/img/tuto_circuit_to_reproduce.png)"
   ]
  },
  {
   "cell_type": "code",
   "execution_count": 72,
   "id": "7039fcdc",
   "metadata": {},
   "outputs": [
    {
     "data": {
      "image/svg+xml": [
       "<?xml version=\"1.0\" encoding=\"UTF-8\"?>\n",
       "<svg xmlns=\"http://www.w3.org/2000/svg\" xmlns:xlink=\"http://www.w3.org/1999/xlink\"\n",
       "     width=\"792.5\" height=\"656.25\" viewBox=\"-39.0 0 634.0 525.0\">\n",
       "<defs>\n",
       "</defs>\n",
       "<path d=\"M10,25.0 L25,25.0\" stroke-width=\"1\" stroke=\"black\" stroke-linejoin=\"miter\" fill=\"none\" />\n",
       "<path d=\"M10,75.0 L25,75.0\" stroke-width=\"1\" stroke=\"black\" stroke-linejoin=\"miter\" fill=\"none\" />\n",
       "<path d=\"M10,125.0 L25,125.0\" stroke-width=\"1\" stroke=\"black\" stroke-linejoin=\"miter\" fill=\"none\" />\n",
       "<path d=\"M10,175.0 L25,175.0\" stroke-width=\"1\" stroke=\"black\" stroke-linejoin=\"miter\" fill=\"none\" />\n",
       "<path d=\"M10,225.0 L25,225.0\" stroke-width=\"1\" stroke=\"black\" stroke-linejoin=\"miter\" fill=\"none\" />\n",
       "<path d=\"M10,275.0 L25,275.0\" stroke-width=\"1\" stroke=\"black\" stroke-linejoin=\"miter\" fill=\"none\" />\n",
       "<path d=\"M25,25 L75,25\" stroke=\"black\" stroke-width=\"1\" fill=\"none\" />\n",
       "<path d=\"M25,75 L75,75\" stroke=\"black\" stroke-width=\"1\" fill=\"none\" />\n",
       "<path d=\"M27.5,2.5 L72.5,2.5 L72.5,97.5 L27.5,97.5 Z\" stroke=\"black\" fill=\"white\" stroke-linejoin=\"miter\" />\n",
       "<text x=\"35\" y=\"16\" font-size=\"8\" text-anchor=\"start\" font-weight=\"bold\">RY1</text>\n",
       "<path d=\"M75,25 L125,25\" stroke=\"black\" stroke-width=\"1\" fill=\"none\" />\n",
       "<path d=\"M75,75 L125,75\" stroke=\"black\" stroke-width=\"1\" fill=\"none\" />\n",
       "<path d=\"M77.5,2.5 L122.5,2.5 L122.5,97.5 L77.5,97.5 Z\" stroke=\"black\" fill=\"white\" stroke-linejoin=\"miter\" />\n",
       "<text x=\"85\" y=\"16\" font-size=\"8\" text-anchor=\"start\" font-weight=\"bold\">RZ4</text>\n",
       "<path d=\"M25,125 L75,125\" stroke=\"black\" stroke-width=\"1\" fill=\"none\" />\n",
       "<path d=\"M25,175 L75,175\" stroke=\"black\" stroke-width=\"1\" fill=\"none\" />\n",
       "<path d=\"M27.5,102.5 L72.5,102.5 L72.5,197.5 L27.5,197.5 Z\" stroke=\"black\" fill=\"white\" stroke-linejoin=\"miter\" />\n",
       "<text x=\"35\" y=\"116\" font-size=\"8\" text-anchor=\"start\" font-weight=\"bold\">RY2</text>\n",
       "<path d=\"M75,125 L125,125\" stroke=\"black\" stroke-width=\"1\" fill=\"none\" />\n",
       "<path d=\"M75,175 L125,175\" stroke=\"black\" stroke-width=\"1\" fill=\"none\" />\n",
       "<path d=\"M77.5,102.5 L122.5,102.5 L122.5,197.5 L77.5,197.5 Z\" stroke=\"black\" fill=\"white\" stroke-linejoin=\"miter\" />\n",
       "<text x=\"85\" y=\"116\" font-size=\"8\" text-anchor=\"start\" font-weight=\"bold\">RZ5</text>\n",
       "<path d=\"M25,225 L75,225\" stroke=\"black\" stroke-width=\"1\" fill=\"none\" />\n",
       "<path d=\"M25,275 L75,275\" stroke=\"black\" stroke-width=\"1\" fill=\"none\" />\n",
       "<path d=\"M27.5,202.5 L72.5,202.5 L72.5,297.5 L27.5,297.5 Z\" stroke=\"black\" fill=\"white\" stroke-linejoin=\"miter\" />\n",
       "<text x=\"35\" y=\"216\" font-size=\"8\" text-anchor=\"start\" font-weight=\"bold\">RY3</text>\n",
       "<path d=\"M75,225 L125,225\" stroke=\"black\" stroke-width=\"1\" fill=\"none\" />\n",
       "<path d=\"M75,275 L125,275\" stroke=\"black\" stroke-width=\"1\" fill=\"none\" />\n",
       "<path d=\"M77.5,202.5 L122.5,202.5 L122.5,297.5 L77.5,297.5 Z\" stroke=\"black\" fill=\"white\" stroke-linejoin=\"miter\" />\n",
       "<text x=\"85\" y=\"216\" font-size=\"8\" text-anchor=\"start\" font-weight=\"bold\">RZ6</text>\n",
       "<path d=\"M125,224.8 C145,225,155,325,175,325\" stroke-width=\"2\" stroke=\"white\" stroke-linejoin=\"miter\" fill=\"none\" />\n",
       "<path d=\"M125,225 C145,225,155,325,175,325\" stroke-width=\"1\" stroke=\"black\" stroke-linejoin=\"miter\" fill=\"none\" />\n",
       "<path d=\"M125,274.8 C145,275,155,375,175,375\" stroke-width=\"2\" stroke=\"white\" stroke-linejoin=\"miter\" fill=\"none\" />\n",
       "<path d=\"M125,275 C145,275,155,375,175,375\" stroke-width=\"1\" stroke=\"black\" stroke-linejoin=\"miter\" fill=\"none\" />\n",
       "<path d=\"M125,25.0 L175,25.0\" stroke=\"black\" stroke-width=\"1\" fill=\"none\" />\n",
       "<path d=\"M125,75.0 L175,75.0\" stroke=\"black\" stroke-width=\"1\" fill=\"none\" />\n",
       "<path d=\"M125,125.0 L175,125.0\" stroke=\"black\" stroke-width=\"1\" fill=\"none\" />\n",
       "<path d=\"M125,175.0 L175,175.0\" stroke=\"black\" stroke-width=\"1\" fill=\"none\" />\n",
       "<path d=\"M175,25 L225,25\" stroke=\"black\" stroke-width=\"1\" fill=\"none\" />\n",
       "<path d=\"M175,75 L225,75\" stroke=\"black\" stroke-width=\"1\" fill=\"none\" />\n",
       "<path d=\"M175,125 L225,125\" stroke=\"black\" stroke-width=\"1\" fill=\"none\" />\n",
       "<path d=\"M175,175 L225,175\" stroke=\"black\" stroke-width=\"1\" fill=\"none\" />\n",
       "<path d=\"M175,225 L225,225\" stroke=\"black\" stroke-width=\"1\" fill=\"none\" />\n",
       "<path d=\"M175,275 L225,275\" stroke=\"black\" stroke-width=\"1\" fill=\"none\" />\n",
       "<path d=\"M177.5,2.5 L222.5,2.5 L222.5,297.5 L177.5,297.5 Z\" stroke=\"black\" fill=\"white\" stroke-linejoin=\"miter\" />\n",
       "<text x=\"185\" y=\"24\" font-size=\"8\" text-anchor=\"start\" font-weight=\"bold\"><tspan x=\"185\" dy=\"0em\">HERALDED</tspan><tspan x=\"185\" dy=\"1em\">CNOT</tspan></text>\n",
       "<path d=\"M175,325.0 L225,325.0\" stroke=\"black\" stroke-width=\"1\" fill=\"none\" />\n",
       "<path d=\"M175,375.0 L225,375.0\" stroke=\"black\" stroke-width=\"1\" fill=\"none\" />\n",
       "<path d=\"M225,124.8 C245,125,255,325,275,325\" stroke-width=\"2\" stroke=\"white\" stroke-linejoin=\"miter\" fill=\"none\" />\n",
       "<path d=\"M225,125 C245,125,255,325,275,325\" stroke-width=\"1\" stroke=\"black\" stroke-linejoin=\"miter\" fill=\"none\" />\n",
       "<path d=\"M225,174.8 C245,175,255,375,275,375\" stroke-width=\"2\" stroke=\"white\" stroke-linejoin=\"miter\" fill=\"none\" />\n",
       "<path d=\"M225,175 C245,175,255,375,275,375\" stroke-width=\"1\" stroke=\"black\" stroke-linejoin=\"miter\" fill=\"none\" />\n",
       "<path d=\"M225,324.8 C245,325,255,125,275,125\" stroke-width=\"2\" stroke=\"white\" stroke-linejoin=\"miter\" fill=\"none\" />\n",
       "<path d=\"M225,325 C245,325,255,125,275,125\" stroke-width=\"1\" stroke=\"black\" stroke-linejoin=\"miter\" fill=\"none\" />\n",
       "<path d=\"M225,374.8 C245,375,255,175,275,175\" stroke-width=\"2\" stroke=\"white\" stroke-linejoin=\"miter\" fill=\"none\" />\n",
       "<path d=\"M225,375 C245,375,255,175,275,175\" stroke-width=\"1\" stroke=\"black\" stroke-linejoin=\"miter\" fill=\"none\" />\n",
       "<path d=\"M225,25.0 L275,25.0\" stroke=\"black\" stroke-width=\"1\" fill=\"none\" />\n",
       "<path d=\"M225,75.0 L275,75.0\" stroke=\"black\" stroke-width=\"1\" fill=\"none\" />\n",
       "<path d=\"M275,25 L325,25\" stroke=\"black\" stroke-width=\"1\" fill=\"none\" />\n",
       "<path d=\"M275,75 L325,75\" stroke=\"black\" stroke-width=\"1\" fill=\"none\" />\n",
       "<path d=\"M275,125 L325,125\" stroke=\"black\" stroke-width=\"1\" fill=\"none\" />\n",
       "<path d=\"M275,175 L325,175\" stroke=\"black\" stroke-width=\"1\" fill=\"none\" />\n",
       "<path d=\"M275,225 L325,225\" stroke=\"black\" stroke-width=\"1\" fill=\"none\" />\n",
       "<path d=\"M275,275 L325,275\" stroke=\"black\" stroke-width=\"1\" fill=\"none\" />\n",
       "<path d=\"M277.5,2.5 L322.5,2.5 L322.5,297.5 L277.5,297.5 Z\" stroke=\"black\" fill=\"white\" stroke-linejoin=\"miter\" />\n",
       "<text x=\"285\" y=\"24\" font-size=\"8\" text-anchor=\"start\" font-weight=\"bold\"><tspan x=\"285\" dy=\"0em\">HERALDED</tspan><tspan x=\"285\" dy=\"1em\">CNOT</tspan></text>\n",
       "<path d=\"M275,325.0 L325,325.0\" stroke=\"black\" stroke-width=\"1\" fill=\"none\" />\n",
       "<path d=\"M275,375.0 L325,375.0\" stroke=\"black\" stroke-width=\"1\" fill=\"none\" />\n",
       "<path d=\"M325,124.8 C345,125,355,225,375,225\" stroke-width=\"2\" stroke=\"white\" stroke-linejoin=\"miter\" fill=\"none\" />\n",
       "<path d=\"M325,125 C345,125,355,225,375,225\" stroke-width=\"1\" stroke=\"black\" stroke-linejoin=\"miter\" fill=\"none\" />\n",
       "<path d=\"M325,174.8 C345,175,355,275,375,275\" stroke-width=\"2\" stroke=\"white\" stroke-linejoin=\"miter\" fill=\"none\" />\n",
       "<path d=\"M325,175 C345,175,355,275,375,275\" stroke-width=\"1\" stroke=\"black\" stroke-linejoin=\"miter\" fill=\"none\" />\n",
       "<path d=\"M325,324.8 C345,325,355,125,375,125\" stroke-width=\"2\" stroke=\"white\" stroke-linejoin=\"miter\" fill=\"none\" />\n",
       "<path d=\"M325,325 C345,325,355,125,375,125\" stroke-width=\"1\" stroke=\"black\" stroke-linejoin=\"miter\" fill=\"none\" />\n",
       "<path d=\"M325,374.8 C345,375,355,175,375,175\" stroke-width=\"2\" stroke=\"white\" stroke-linejoin=\"miter\" fill=\"none\" />\n",
       "<path d=\"M325,375 C345,375,355,175,375,175\" stroke-width=\"1\" stroke=\"black\" stroke-linejoin=\"miter\" fill=\"none\" />\n",
       "<path d=\"M325,25.0 L375,25.0\" stroke=\"black\" stroke-width=\"1\" fill=\"none\" />\n",
       "<path d=\"M325,75.0 L375,75.0\" stroke=\"black\" stroke-width=\"1\" fill=\"none\" />\n",
       "<path d=\"M375,125 L425,125\" stroke=\"black\" stroke-width=\"1\" fill=\"none\" />\n",
       "<path d=\"M375,175 L425,175\" stroke=\"black\" stroke-width=\"1\" fill=\"none\" />\n",
       "<path d=\"M375,225 L425,225\" stroke=\"black\" stroke-width=\"1\" fill=\"none\" />\n",
       "<path d=\"M375,275 L425,275\" stroke=\"black\" stroke-width=\"1\" fill=\"none\" />\n",
       "<path d=\"M375,325 L425,325\" stroke=\"black\" stroke-width=\"1\" fill=\"none\" />\n",
       "<path d=\"M375,375 L425,375\" stroke=\"black\" stroke-width=\"1\" fill=\"none\" />\n",
       "<path d=\"M377.5,102.5 L422.5,102.5 L422.5,397.5 L377.5,397.5 Z\" stroke=\"black\" fill=\"white\" stroke-linejoin=\"miter\" />\n",
       "<text x=\"385\" y=\"124\" font-size=\"8\" text-anchor=\"start\" font-weight=\"bold\"><tspan x=\"385\" dy=\"0em\">HERALDED</tspan><tspan x=\"385\" dy=\"1em\">CNOT</tspan></text>\n",
       "<path d=\"M375,25.0 L425,25.0\" stroke=\"black\" stroke-width=\"1\" fill=\"none\" />\n",
       "<path d=\"M375,75.0 L425,75.0\" stroke=\"black\" stroke-width=\"1\" fill=\"none\" />\n",
       "<path d=\"M425,25 L475,25\" stroke=\"black\" stroke-width=\"1\" fill=\"none\" />\n",
       "<path d=\"M425,75 L475,75\" stroke=\"black\" stroke-width=\"1\" fill=\"none\" />\n",
       "<path d=\"M427.5,2.5 L472.5,2.5 L472.5,97.5 L427.5,97.5 Z\" stroke=\"black\" fill=\"white\" stroke-linejoin=\"miter\" />\n",
       "<text x=\"435\" y=\"16\" font-size=\"8\" text-anchor=\"start\" font-weight=\"bold\">RY7</text>\n",
       "<path d=\"M475,25 L525,25\" stroke=\"black\" stroke-width=\"1\" fill=\"none\" />\n",
       "<path d=\"M475,75 L525,75\" stroke=\"black\" stroke-width=\"1\" fill=\"none\" />\n",
       "<path d=\"M477.5,2.5 L522.5,2.5 L522.5,97.5 L477.5,97.5 Z\" stroke=\"black\" fill=\"white\" stroke-linejoin=\"miter\" />\n",
       "<text x=\"485\" y=\"16\" font-size=\"8\" text-anchor=\"start\" font-weight=\"bold\">RZ10</text>\n",
       "<path d=\"M425,125 L475,125\" stroke=\"black\" stroke-width=\"1\" fill=\"none\" />\n",
       "<path d=\"M425,175 L475,175\" stroke=\"black\" stroke-width=\"1\" fill=\"none\" />\n",
       "<path d=\"M427.5,102.5 L472.5,102.5 L472.5,197.5 L427.5,197.5 Z\" stroke=\"black\" fill=\"white\" stroke-linejoin=\"miter\" />\n",
       "<text x=\"435\" y=\"116\" font-size=\"8\" text-anchor=\"start\" font-weight=\"bold\">RY8</text>\n",
       "<path d=\"M475,125 L525,125\" stroke=\"black\" stroke-width=\"1\" fill=\"none\" />\n",
       "<path d=\"M475,175 L525,175\" stroke=\"black\" stroke-width=\"1\" fill=\"none\" />\n",
       "<path d=\"M477.5,102.5 L522.5,102.5 L522.5,197.5 L477.5,197.5 Z\" stroke=\"black\" fill=\"white\" stroke-linejoin=\"miter\" />\n",
       "<text x=\"485\" y=\"116\" font-size=\"8\" text-anchor=\"start\" font-weight=\"bold\">RZ11</text>\n",
       "<path d=\"M425,225 L475,225\" stroke=\"black\" stroke-width=\"1\" fill=\"none\" />\n",
       "<path d=\"M425,275 L475,275\" stroke=\"black\" stroke-width=\"1\" fill=\"none\" />\n",
       "<path d=\"M427.5,202.5 L472.5,202.5 L472.5,297.5 L427.5,297.5 Z\" stroke=\"black\" fill=\"white\" stroke-linejoin=\"miter\" />\n",
       "<text x=\"435\" y=\"216\" font-size=\"8\" text-anchor=\"start\" font-weight=\"bold\">RY9</text>\n",
       "<path d=\"M475,225 L525,225\" stroke=\"black\" stroke-width=\"1\" fill=\"none\" />\n",
       "<path d=\"M475,275 L525,275\" stroke=\"black\" stroke-width=\"1\" fill=\"none\" />\n",
       "<path d=\"M477.5,202.5 L522.5,202.5 L522.5,297.5 L477.5,297.5 Z\" stroke=\"black\" fill=\"white\" stroke-linejoin=\"miter\" />\n",
       "<text x=\"485\" y=\"216\" font-size=\"8\" text-anchor=\"start\" font-weight=\"bold\">RZ12</text>\n",
       "<path d=\"M525,25.0 L540,25.0\" stroke-width=\"1\" stroke=\"black\" stroke-linejoin=\"miter\" fill=\"none\" />\n",
       "<path d=\"M525,75.0 L540,75.0\" stroke-width=\"1\" stroke=\"black\" stroke-linejoin=\"miter\" fill=\"none\" />\n",
       "<path d=\"M525,125.0 L540,125.0\" stroke-width=\"1\" stroke=\"black\" stroke-linejoin=\"miter\" fill=\"none\" />\n",
       "<path d=\"M525,175.0 L540,175.0\" stroke-width=\"1\" stroke=\"black\" stroke-linejoin=\"miter\" fill=\"none\" />\n",
       "<path d=\"M525,225.0 L540,225.0\" stroke-width=\"1\" stroke=\"black\" stroke-linejoin=\"miter\" fill=\"none\" />\n",
       "<path d=\"M525,275.0 L540,275.0\" stroke-width=\"1\" stroke=\"black\" stroke-linejoin=\"miter\" fill=\"none\" />\n",
       "<path d=\"M7,325 C7,325,7,315,17,315 L25,315 L25,335 L17,335 C7,335,7,325,7,325 L7,325\" stroke-width=\"1\" stroke=\"black\" stroke-linejoin=\"miter\" fill=\"white\" />\n",
       "<text x=\"13\" y=\"341\" font-size=\"6\" text-anchor=\"middle\" font-style=\"italic\">[herald0]</text>\n",
       "<text x=\"17\" y=\"328\" font-size=\"7\" text-anchor=\"middle\">1</text>\n",
       "<path d=\"M7,375 C7,375,7,365,17,365 L25,365 L25,385 L17,385 C7,385,7,375,7,375 L7,375\" stroke-width=\"1\" stroke=\"black\" stroke-linejoin=\"miter\" fill=\"white\" />\n",
       "<text x=\"13\" y=\"391\" font-size=\"6\" text-anchor=\"middle\" font-style=\"italic\">[herald1]</text>\n",
       "<text x=\"17\" y=\"378\" font-size=\"7\" text-anchor=\"middle\">1</text>\n",
       "<path d=\"M7,425 C7,425,7,415,17,415 L25,415 L25,435 L17,435 C7,435,7,425,7,425 L7,425\" stroke-width=\"1\" stroke=\"black\" stroke-linejoin=\"miter\" fill=\"white\" />\n",
       "<text x=\"13\" y=\"441\" font-size=\"6\" text-anchor=\"middle\" font-style=\"italic\">[herald2]</text>\n",
       "<text x=\"17\" y=\"428\" font-size=\"7\" text-anchor=\"middle\">1</text>\n",
       "<path d=\"M7,475 C7,475,7,465,17,465 L25,465 L25,485 L17,485 C7,485,7,475,7,475 L7,475\" stroke-width=\"1\" stroke=\"black\" stroke-linejoin=\"miter\" fill=\"white\" />\n",
       "<text x=\"13\" y=\"491\" font-size=\"6\" text-anchor=\"middle\" font-style=\"italic\">[herald3]</text>\n",
       "<text x=\"17\" y=\"478\" font-size=\"7\" text-anchor=\"middle\">1</text>\n",
       "<path d=\"M357,325 C357,325,357,315,367,315 L375,315 L375,335 L367,335 C357,335,357,325,357,325 L357,325\" stroke-width=\"1\" stroke=\"black\" stroke-linejoin=\"miter\" fill=\"white\" />\n",
       "<text x=\"363\" y=\"341\" font-size=\"6\" text-anchor=\"middle\" font-style=\"italic\">[herald4]</text>\n",
       "<text x=\"367\" y=\"328\" font-size=\"7\" text-anchor=\"middle\">1</text>\n",
       "<path d=\"M357,375 C357,375,357,365,367,365 L375,365 L375,385 L367,385 C357,385,357,375,357,375 L357,375\" stroke-width=\"1\" stroke=\"black\" stroke-linejoin=\"miter\" fill=\"white\" />\n",
       "<text x=\"363\" y=\"391\" font-size=\"6\" text-anchor=\"middle\" font-style=\"italic\">[herald5]</text>\n",
       "<text x=\"367\" y=\"378\" font-size=\"7\" text-anchor=\"middle\">1</text>\n",
       "<path d=\"M540,115 L552,115 L552,185 L540,185 Z\" stroke=\"black\" fill=\"white\" stroke-linejoin=\"miter\" />\n",
       "<text x=\"546\" y=\"127\" font-size=\"7\" text-anchor=\"middle\">2</text>\n",
       "<text x=\"546\" y=\"177\" font-size=\"7\" text-anchor=\"middle\">3</text>\n",
       "<text x=\"552\" y=\"191\" font-size=\"6\" text-anchor=\"end\" font-style=\"italic\">[ctrl]</text>\n",
       "<path d=\"M540,215 L552,215 L552,285 L540,285 Z\" stroke=\"black\" fill=\"white\" stroke-linejoin=\"miter\" />\n",
       "<text x=\"546\" y=\"227\" font-size=\"7\" text-anchor=\"middle\">4</text>\n",
       "<text x=\"546\" y=\"277\" font-size=\"7\" text-anchor=\"middle\">5</text>\n",
       "<text x=\"552\" y=\"291\" font-size=\"6\" text-anchor=\"end\" font-style=\"italic\">[data]</text>\n",
       "<path d=\"M533,335 L525,335 L525,315 L533,315 C533,315,543,315,543,325 C543,335,533,335,533,335 L533,335\" stroke-width=\"1\" stroke=\"black\" stroke-linejoin=\"miter\" fill=\"white\" />\n",
       "<text x=\"538\" y=\"341\" font-size=\"6\" text-anchor=\"middle\" font-style=\"italic\">[herald0]</text>\n",
       "<text x=\"533\" y=\"328\" font-size=\"7\" text-anchor=\"middle\">1</text>\n",
       "<path d=\"M533,385 L525,385 L525,365 L533,365 C533,365,543,365,543,375 C543,385,533,385,533,385 L533,385\" stroke-width=\"1\" stroke=\"black\" stroke-linejoin=\"miter\" fill=\"white\" />\n",
       "<text x=\"538\" y=\"391\" font-size=\"6\" text-anchor=\"middle\" font-style=\"italic\">[herald1]</text>\n",
       "<text x=\"533\" y=\"378\" font-size=\"7\" text-anchor=\"middle\">1</text>\n",
       "<path d=\"M533,435 L525,435 L525,415 L533,415 C533,415,543,415,543,425 C543,435,533,435,533,435 L533,435\" stroke-width=\"1\" stroke=\"black\" stroke-linejoin=\"miter\" fill=\"white\" />\n",
       "<text x=\"538\" y=\"441\" font-size=\"6\" text-anchor=\"middle\" font-style=\"italic\">[herald2]</text>\n",
       "<text x=\"533\" y=\"428\" font-size=\"7\" text-anchor=\"middle\">1</text>\n",
       "<path d=\"M533,485 L525,485 L525,465 L533,465 C533,465,543,465,543,475 C543,485,533,485,533,485 L533,485\" stroke-width=\"1\" stroke=\"black\" stroke-linejoin=\"miter\" fill=\"white\" />\n",
       "<text x=\"538\" y=\"491\" font-size=\"6\" text-anchor=\"middle\" font-style=\"italic\">[herald3]</text>\n",
       "<text x=\"533\" y=\"478\" font-size=\"7\" text-anchor=\"middle\">1</text>\n",
       "<path d=\"M433,335 L425,335 L425,315 L433,315 C433,315,443,315,443,325 C443,335,433,335,433,335 L433,335\" stroke-width=\"1\" stroke=\"black\" stroke-linejoin=\"miter\" fill=\"white\" />\n",
       "<text x=\"438\" y=\"341\" font-size=\"6\" text-anchor=\"middle\" font-style=\"italic\">[herald4]</text>\n",
       "<text x=\"433\" y=\"328\" font-size=\"7\" text-anchor=\"middle\">1</text>\n",
       "<path d=\"M433,385 L425,385 L425,365 L433,365 C433,365,443,365,443,375 C443,385,433,385,433,385 L433,385\" stroke-width=\"1\" stroke=\"black\" stroke-linejoin=\"miter\" fill=\"white\" />\n",
       "<text x=\"438\" y=\"391\" font-size=\"6\" text-anchor=\"middle\" font-style=\"italic\">[herald5]</text>\n",
       "<text x=\"433\" y=\"378\" font-size=\"7\" text-anchor=\"middle\">1</text>\n",
       "</svg>"
      ],
      "text/plain": [
       "<drawsvg.drawing.Drawing at 0x7f6e591fe050>"
      ]
     },
     "execution_count": 72,
     "metadata": {},
     "output_type": "execute_result"
    }
   ],
   "source": [
    "## Exercise: reproduce it in the encoding seen above\n",
    "\n",
    "## Solution:\n",
    "# Let's try to implement that circuit properly.\n",
    "# First, the quantum gates, as coded above :\n",
    "\n",
    "Rx = lambda i: pcvl.Circuit(2) // (0,PS(np.pi)) // BS.Rx(theta=pcvl.P(f\"theta{i}\")) // (0,PS(np.pi)) #Be careful for the minus ! We use a convention\n",
    "Ry = lambda i: pcvl.Circuit(2,name=f\"Ry{i}\") // BS.Ry(theta=pcvl.P(f\"theta{i}\"))\n",
    "Rz = lambda i: pcvl.Circuit(2,name=f\"Rz{i}\") // BS.H() // circuit_rx // BS.H() \n",
    "cnot = catalog['heralded cnot'].build_processor()\n",
    "\n",
    "# Our qubits in the dual rail encoding\n",
    "q1, q2, q3 = [0,1], [2,3], [4,5]\n",
    "\n",
    "p = pcvl.Processor(\"SLOS\",6)\n",
    "\n",
    "for i in range(3):\n",
    "    p.add(2*i,Ry(i+1)).add(2*i,Rz(i+4))\n",
    "p.add(q1+q2, cnot)\n",
    "p.add(q1+q3, cnot)\n",
    "p.add(q2+q3, cnot)\n",
    "\n",
    "for i in range(3):\n",
    "    p.add(2*i, Ry(i+7)).add(2*i, Rz(i+10))\n",
    "\n",
    "pcvl.pdisplay(p,recursive=False)"
   ]
  },
  {
   "cell_type": "markdown",
   "id": "cbd6e2347780b89d",
   "metadata": {},
   "source": [
    "### Graph states\n",
    "\n",
    "Graph states can be generated from a `networkx` graph with the `StateGenerator` class from Perceval."
   ]
  },
  {
   "cell_type": "code",
   "execution_count": 73,
   "id": "15985e36c39892c8",
   "metadata": {},
   "outputs": [
    {
     "data": {
      "image/png": "[encoded data removed]",
      "text/plain": [
       "<Figure size 640x480 with 1 Axes>"
      ]
     },
     "metadata": {},
     "output_type": "display_data"
    }
   ],
   "source": [
    "import networkx as nx\n",
    "\n",
    "g = nx.Graph()\n",
    "g.add_nodes_from([0, 1, 2])\n",
    "g.add_edge(0, 1)\n",
    "g.add_edge(1, 2)\n",
    "\n",
    "nx.draw_networkx(g, with_labels=True)"
   ]
  },
  {
   "cell_type": "code",
   "execution_count": 74,
   "id": "1c40acde007616b",
   "metadata": {},
   "outputs": [
    {
     "name": "stdout",
     "output_type": "stream",
     "text": [
      "-0.354*|1,0,0,1,0,1>+0.354*|0,1,0,1,0,1>+0.354*|1,0,1,0,0,1>+0.354*|0,1,1,0,0,1>+0.354*|1,0,0,1,1,0>-0.354*|0,1,0,1,1,0>+0.354*|1,0,1,0,1,0>+0.354*|0,1,1,0,1,0>\n"
     ]
    }
   ],
   "source": [
    "# Set the generator with the dual rail encoding\n",
    "generator = pcvl.StateGenerator(pcvl.Encoding.DUAL_RAIL)\n",
    "graph_state = generator.graph_state(g)\n",
    "print(graph_state)"
   ]
  },
  {
   "cell_type": "markdown",
   "id": "fca14c51a4832400",
   "metadata": {},
   "source": [
    "This graph state is a Perceval `StateVector`. It can be used as an input in any local computation, using `Processor.with_input()`. When a StateVector is input in a processor, it overrides any noisy source you might have set and is treated as a perfect input.\n",
    "\n",
    "Also, a state vector cannot be input in any remote simulator or QPU."
   ]
  },
  {
   "cell_type": "code",
   "execution_count": 75,
   "id": "9bb51dd803b91373",
   "metadata": {},
   "outputs": [
    {
     "name": "stdout",
     "output_type": "stream",
     "text": [
      "{\n",
      "  |0,1,1,1,0,0>: 0.030570324644177763\n",
      "  |0,1,2,0,0,0>: 0.005980525144322029\n",
      "  |0,2,0,0,1,0>: 0.03909389670804405\n",
      "  |0,0,1,2,0,0>: 0.008195403662888394\n",
      "  |0,2,0,1,0,0>: 0.0002028181815631043\n",
      "  |1,0,0,0,0,2>: 0.013227916663308607\n",
      "  |0,1,0,0,1,1>: 0.009412400648084641\n",
      "  |0,2,1,0,0,0>: 0.02472811775435281\n",
      "  |1,0,0,0,1,1>: 0.01421266721057445\n",
      "  |1,0,0,0,2,0>: 0.023137940770118163\n",
      "  |1,0,0,1,0,1>: 0.0031372603467486574\n",
      "  |0,1,1,0,1,0>: 0.010831890356879852\n",
      "  |1,2,0,0,0,0>: 0.0033884534137280766\n",
      "  |1,0,0,2,0,0>: 0.047063700657791654\n",
      "  |1,0,1,0,0,1>: 0.0033751093467030454\n",
      "  |0,0,2,0,1,0>: 0.023686860112272817\n",
      "  |1,0,1,0,1,0>: 0.0004291481619400785\n",
      "  |2,0,0,0,1,0>: 0.002725272138272817\n",
      "  |3,0,0,0,0,0>: 0.031188838075045845\n",
      "  |0,0,0,0,3,0>: 0.010056829147899803\n",
      "  |2,1,0,0,0,0>: 0.011074926751226498\n",
      "  |2,0,0,1,0,0>: 0.010735524708842172\n",
      "  |1,0,0,1,1,0>: 0.003945774982499746\n",
      "  |0,0,0,2,1,0>: 0.012762543889219333\n",
      "  |1,1,0,0,1,0>: 0.011600366321330002\n",
      "  |1,1,0,0,0,1>: 0.007517150941401328\n",
      "  |0,0,1,1,1,0>: 0.00124172808353478\n",
      "  |0,0,0,0,0,3>: 0.0188490991650198\n",
      "  |0,0,1,1,0,1>: 0.040454925653984564\n",
      "  |0,0,0,0,2,1>: 0.024034657488295443\n",
      "  |0,0,0,1,2,0>: 0.008997076093770805\n",
      "  |0,0,0,1,1,1>: 0.06152676922337831\n",
      "  |1,0,2,0,0,0>: 0.027051303279474543\n",
      "  |0,1,0,0,0,2>: 0.03893423292883374\n",
      "  |0,0,0,3,0,0>: 0.0001153354634431595\n",
      "  |0,0,2,0,0,1>: 0.0044977533337038356\n",
      "  |0,0,0,1,0,2>: 0.005209351380474324\n",
      "  |0,0,2,1,0,0>: 0.029144984942345267\n",
      "  |0,0,1,0,1,1>: 0.007437423762368233\n",
      "  |0,0,1,0,0,2>: 0.0009512299499110889\n",
      "  |0,1,0,0,2,0>: 0.0604352499747525\n",
      "  |0,0,0,0,1,2>: 0.02597907868970787\n",
      "  |0,1,0,1,0,1>: 0.00333998255972658\n",
      "  |0,1,0,2,0,0>: 0.008163343044823123\n",
      "  |1,1,1,0,0,0>: 0.09992835185945687\n",
      "  |2,0,1,0,0,0>: 0.020049736153607382\n",
      "  |0,2,0,0,0,1>: 0.025857355564947473\n",
      "  |0,3,0,0,0,0>: 0.0007966213470910533\n",
      "  |0,0,0,2,0,1>: 0.0540783122885032\n",
      "  |0,0,1,0,2,0>: 0.0017839294481358273\n",
      "  |0,1,0,1,1,0>: 0.008165984718048285\n",
      "  |1,1,0,1,0,0>: 0.0025430785642252753\n",
      "  |2,0,0,0,0,1>: 0.01339627065588222\n",
      "  |1,0,1,1,0,0>: 0.029911802439899604\n",
      "  |0,1,1,0,0,1>: 0.002571044256167436\n",
      "  |0,0,3,0,0,0>: 0.012272326947251768\n",
      "}\n"
     ]
    }
   ],
   "source": [
    "p = pcvl.Processor(\"SLOS\", pcvl.Unitary(pcvl.Matrix.random_unitary(6)))  # Use a 6x6 random unitary matrix as a circuit\n",
    "p.with_input(graph_state)\n",
    "sampler = Sampler(p)\n",
    "print(sampler.probs()['results'])"
   ]
  }
 ],
 "metadata": {
  "language_info": {
   "name": "python"
  }
 },
 "nbformat": 4,
 "nbformat_minor": 5
}
