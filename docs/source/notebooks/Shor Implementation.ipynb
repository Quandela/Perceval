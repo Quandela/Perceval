{
 "cells": [
  {
   "cell_type": "markdown",
   "id": "c2f4fd6c",
   "metadata": {
    "pycharm": {
     "name": "#%% md\n"
    }
   },
   "source": [
    "# Implementing Shor's algorithm in Perceval"
   ]
  },
  {
   "cell_type": "markdown",
   "id": "5162c9b8",
   "metadata": {
    "pycharm": {
     "name": "#%% md\n"
    }
   },
   "source": [
    "This notebook presents a simulation in Perceval of a 4-qubit 12-modes optical circuit performing Shor's algorithm, based on Alberto Politi, Jonathan C.F. Matthews, and Jeremy L. O'brien. \"Shor’s quantum factoring algorithm on a photonic chip.\" [Science](https://www.science.org/doi/10.1126/science.1173731) 325.5945 (2009): 1221-1221."
   ]
  },
  {
   "cell_type": "markdown",
   "id": "f29e5abf",
   "metadata": {
    "pycharm": {
     "name": "#%% md\n"
    }
   },
   "source": [
    "## Shor's algorithm"
   ]
  },
  {
   "cell_type": "markdown",
   "id": "5dd3a2a5",
   "metadata": {
    "pycharm": {
     "name": "#%% md\n"
    }
   },
   "source": [
    "The purpose of Shor's algorithm is to find nontrivial factors of a given number $N$ in polynomial time, yielding an near-exponential speedup compared to state of the art classical algortihms.\n",
    "\n",
    "The main routine of Shor's algorithm consists in finding the order $r$ of a number $a \\in \\mathbb{Z}_N$, i.e. the smallest integer $r$ such that $a^r = 1 \\pmod N$.\n",
    "\n",
    "If the order of a randoly chosen $a$ which is coprime with $N$ is even, then $(a^{r/2} - 1)(a^{r/2} + 1) = k N$. If none of these factors are multiples of $N$, then $\\gcd(N, a^{r/2} - 1)$ and $\\gcd(N, a^{r/2} + 1)$ are nontrivial factors of $N$."
   ]
  },
  {
   "cell_type": "markdown",
   "id": "ff756302",
   "metadata": {
    "pycharm": {
     "name": "#%% md\n"
    }
   },
   "source": [
    "## Preliminaries"
   ]
  },
  {
   "cell_type": "code",
   "execution_count": 13,
   "id": "8b013239",
   "metadata": {
    "pycharm": {
     "name": "#%%\n"
    }
   },
   "outputs": [],
   "source": [
    "import sys"
   ]
  },
  {
   "cell_type": "code",
   "execution_count": 14,
   "id": "55fe7a18",
   "metadata": {
    "pycharm": {
     "name": "#%%\n"
    },
    "scrolled": true
   },
   "outputs": [],
   "source": [
    "from IPython import display\n",
    "from collections import Counter\n",
    "from tabulate import tabulate\n",
    "from tqdm.auto import tqdm\n",
    "\n",
    "import sympy as sp\n",
    "import numpy as np\n",
    "from scipy.optimize import minimize\n",
    "\n",
    "import perceval as pcvl\n",
    "import quandelibc as qc\n",
    "import perceval.lib.phys as phys\n",
    "import perceval.lib.symb as symb"
   ]
  },
  {
   "cell_type": "markdown",
   "id": "826377de",
   "metadata": {
    "pycharm": {
     "name": "#%% md\n"
    }
   },
   "source": [
    "### Path encoding functions\n",
    "\n",
    "The following functions allow for conversion between the qubit and Fock state representations."
   ]
  },
  {
   "cell_type": "code",
   "execution_count": 3,
   "id": "cd2bbda8",
   "metadata": {
    "pycharm": {
     "name": "#%%\n"
    }
   },
   "outputs": [],
   "source": [
    "def toFockState(qubitState):\n",
    "    # path encoding\n",
    "    pe = {0:[1,0],  1:[0,1]}\n",
    "    return [0] + pe[qubitState[0]] + pe[qubitState[2]] + [0, 0] + pe[qubitState[1]] + pe[qubitState[3]] + [0]"
   ]
  },
  {
   "cell_type": "code",
   "execution_count": 4,
   "id": "55ee4ce8",
   "metadata": {
    "pycharm": {
     "name": "#%%\n"
    }
   },
   "outputs": [],
   "source": [
    "def toQubitState(fockState):\n",
    "    # qubit modes\n",
    "    x1 = [1, 2]\n",
    "    f1 = [3, 4]\n",
    "    x2 = [7, 8]\n",
    "    f2 = [9, 10]\n",
    "    # auxiliary modes\n",
    "    am1 = [0, 5]\n",
    "    am2 = [6, 11]\n",
    "    \n",
    "    # auxiliary modes\n",
    "    for i in am1 + am2:\n",
    "        if fockState[i]!=0:\n",
    "            return None\n",
    "    L=[]\n",
    "    # qubit modes\n",
    "    for q in [x1, x2, f1, f2]:\n",
    "        if fockState[q[0]]+fockState[q[1]] != 1:\n",
    "            return None\n",
    "        else:\n",
    "            L.append(fockState[q[1]])\n",
    "    return L"
   ]
  },
  {
   "cell_type": "code",
   "execution_count": 5,
   "id": "39b1c269",
   "metadata": {
    "pycharm": {
     "name": "#%%\n"
    }
   },
   "outputs": [],
   "source": [
    "def strState(state):\n",
    "    return str(pcvl.BasicState(state))"
   ]
  },
  {
   "cell_type": "markdown",
   "id": "016e2534",
   "metadata": {
    "pycharm": {
     "name": "#%% md\n"
    }
   },
   "source": [
    "## The circuit"
   ]
  },
  {
   "cell_type": "markdown",
   "id": "01c60397",
   "metadata": {
    "pycharm": {
     "name": "#%% md\n"
    }
   },
   "source": [
    "### Quantum circuit\n",
    "\n",
    "The quantum circuit has been optimized after choosing parameters $N = 15$ and $a = 2$, and aims to calculate $r=4$.\n",
    "It features 5 qubits labelled $x_0, x_1, x_2$ and $f_1, f_2$. Qubits $x_i$ and $f_1$ are initially in state $|0\\rangle$, and $f_2$ in state $|1\\rangle$.\n",
    "In the non-optimised Shor algorithm, qubits $x_i$ encode a binary number representing a pre-image of the Modular Exponentiation Function (MEF) $x \\mapsto a^x \\pmod N$, while qubits $f_i$ hold the image obtained after applying the MEF to qubits $x_i$. Applying the MEF when qubits $x_i$ hold a superposition of different pre-images (obtained with H gates on qubits $x_i$) allows to efficiently compute the order $r$ of parameter $a$ modulo $N$.\n",
    "\n",
    "The circuit consists of $\\mathsf{H}$ gates being first applied to each $x_i$ qubit, followed by $\\mathsf{CNOT}$ gates applied on $x_1, f_1$ and $x_2, f_2$ pairs, where $x_i$ are control qubits; finally the inverse $\\mathsf{QFT}$ algorithm is applied on qubits $x_i$.\n",
    "\n",
    "$\\mathsf{CNOT}$ gates on $x_i, f_i$ pairs ($x_i$ being the control) are implemented using $\\mathsf{H}$ and $\\mathsf{CZ}$ gates: the $\\mathsf{CZ}$ gate is sandwiched between two applications of $\\mathsf{H}$ on $f_i$.\n",
    "\n",
    "The input state of the circuit after optimisation is $|0\\rangle_{x_0}|0\\rangle_{x_1}|0\\rangle_{x_2}|0\\rangle_{f_1}|1\\rangle_{f_2}$.\n",
    "\n",
    "The expected output state is then $\\frac{1}{2} |0\\rangle_{x_0} \\otimes \\left ( |0\\rangle_{x_1}|0\\rangle_{f_1} + |1\\rangle_{x_1}|1\\rangle_{f_1} \\right ) \\otimes \\left ( |0\\rangle_{x_2}|1\\rangle_{f_2} + |1\\rangle_{x_2}|0\\rangle_{f_2} \\right )$."
   ]
  },
  {
   "cell_type": "markdown",
   "id": "b7b25cf5",
   "metadata": {
    "pycharm": {
     "name": "#%% md\n"
    }
   },
   "source": [
    "### Photonic circuit\n",
    "\n",
    "The optical circuit from the result by Politi et al features twelve modes (ordered from 0 to 11 from top to bottom).\n",
    "\n",
    "During the execution, qubit $x_0$ remains unentangled from the other qubits. It can therefore be removed from the optical implementation.\n",
    "\n",
    "The qubits $x_1, x_2, f_1, f_2$ are path encoded as modes $(1, 2)$, $(3, 4)$, $(7, 8)$, $(9, 10)$ respectively. The four remaining modes are used as auxiliary modes to implement the $\\mathsf{CZ}$ gates.\n",
    "\n",
    "With path encoding each $\\mathsf{H}$ gate in the quantum circuit is implemented with a beam splitter with reflectivity $R=1/2$ between the two pathes corresponding to the qubit. In our implementation in Perceval, phase shifters are added to properly tune the phase between each path.\n",
    "\n",
    "$\\mathsf{CZ}$ gates are implemented with three beam splitters with reflectivity $R=2/3$ acting on six modes: one inner BS creates interference between the two qubits, and two outer BS balance detection probability using auxiliary modes.\n",
    "This optical implementation succesfully yields the output state produced by a $\\mathsf{CZ}$ gate with probability 1/9; otherwise it creates a dummy state, which can be removed by post-selection.\n",
    "\n",
    "In the case $r=4$ the QFT can be performed classically and doesn't need to be implemented in the photonic circuit."
   ]
  },
  {
   "cell_type": "markdown",
   "id": "3acb2273",
   "metadata": {
    "pycharm": {
     "name": "#%% md\n"
    }
   },
   "source": [
    "## In perceval"
   ]
  },
  {
   "cell_type": "markdown",
   "id": "7aa60c25",
   "metadata": {
    "pycharm": {
     "name": "#%% md\n"
    }
   },
   "source": [
    "### Implementing the circuit"
   ]
  },
  {
   "cell_type": "code",
   "execution_count": 6,
   "id": "2fe3a053",
   "metadata": {
    "pycharm": {
     "name": "#%%\n"
    }
   },
   "outputs": [],
   "source": [
    "circ = pcvl.Circuit(12)\n",
    "\n",
    "# qubit modes\n",
    "# for qubit states 0, 1\n",
    "x1 = [1, 2]\n",
    "f1 = [3, 4]\n",
    "x2 = [7, 8]\n",
    "f2 = [9, 10]\n",
    "# auxiliary modes\n",
    "am1 = [0, 5]\n",
    "am2 = [6, 11]\n",
    "\n",
    "\n",
    "# H gates\n",
    "for q in [x1, f1, x2, f2]:\n",
    "    circ.add(q, symb.BS(R=1/2, phi=sp.pi/2))\n",
    "    circ.add(q[1], symb.PS(phi=sp.pi))\n",
    "\n",
    "# CZ gates\n",
    "for x, f, am in [(x1, f1, am1), (x2, f2, am2)]:\n",
    "    circ.add((am[0], x[0]), symb.BS(R=1/3)) # T = 1/3\n",
    "    circ.add((x[1],  f[0]), symb.BS(R=1/3))\n",
    "    circ.add((f[1], am[1]), symb.BS(R=1/3))\n",
    "\n",
    "# H gates\n",
    "for q in [f1, f2]:\n",
    "    circ.add(q, symb.BS(R=1/2, phi=sp.pi/2))\n",
    "    circ.add(q[1], symb.PS(phi=sp.pi))"
   ]
  },
  {
   "cell_type": "code",
   "execution_count": 7,
   "id": "034d5e45",
   "metadata": {
    "pycharm": {
     "name": "#%%\n"
    },
    "scrolled": true
   },
   "outputs": [
    {
     "name": "stdout",
     "output_type": "stream",
     "text": [
      "Optical circuit for Shor's algorithm\n"
     ]
    },
    {
     "data": {
      "text/plain": "<IPython.core.display.HTML object>",
      "text/html": "<svg width='462.000000' height='650.000000' viewBox='-6.000000 0.000000 456.000000 650.000000'><path d=\"M 10 25 L 25 25\" fill=\"none\" stroke=\"black\" stroke-width=\"1.000000\" stroke-linejoin=\"miter\"/>\n<text x=\"0.000000\" y=\"25.000000\" font-size=\"6.000000\" text-anchor=\"start\">0</text>\n<path d=\"M 10 75 L 25 75\" fill=\"none\" stroke=\"black\" stroke-width=\"1.000000\" stroke-linejoin=\"miter\"/>\n<text x=\"0.000000\" y=\"75.000000\" font-size=\"6.000000\" text-anchor=\"start\">1</text>\n<path d=\"M 10 125 L 25 125\" fill=\"none\" stroke=\"black\" stroke-width=\"1.000000\" stroke-linejoin=\"miter\"/>\n<text x=\"0.000000\" y=\"125.000000\" font-size=\"6.000000\" text-anchor=\"start\">2</text>\n<path d=\"M 10 175 L 25 175\" fill=\"none\" stroke=\"black\" stroke-width=\"1.000000\" stroke-linejoin=\"miter\"/>\n<text x=\"0.000000\" y=\"175.000000\" font-size=\"6.000000\" text-anchor=\"start\">3</text>\n<path d=\"M 10 225 L 25 225\" fill=\"none\" stroke=\"black\" stroke-width=\"1.000000\" stroke-linejoin=\"miter\"/>\n<text x=\"0.000000\" y=\"225.000000\" font-size=\"6.000000\" text-anchor=\"start\">4</text>\n<path d=\"M 10 275 L 25 275\" fill=\"none\" stroke=\"black\" stroke-width=\"1.000000\" stroke-linejoin=\"miter\"/>\n<text x=\"0.000000\" y=\"275.000000\" font-size=\"6.000000\" text-anchor=\"start\">5</text>\n<path d=\"M 10 325 L 25 325\" fill=\"none\" stroke=\"black\" stroke-width=\"1.000000\" stroke-linejoin=\"miter\"/>\n<text x=\"0.000000\" y=\"325.000000\" font-size=\"6.000000\" text-anchor=\"start\">6</text>\n<path d=\"M 10 375 L 25 375\" fill=\"none\" stroke=\"black\" stroke-width=\"1.000000\" stroke-linejoin=\"miter\"/>\n<text x=\"0.000000\" y=\"375.000000\" font-size=\"6.000000\" text-anchor=\"start\">7</text>\n<path d=\"M 10 425 L 25 425\" fill=\"none\" stroke=\"black\" stroke-width=\"1.000000\" stroke-linejoin=\"miter\"/>\n<text x=\"0.000000\" y=\"425.000000\" font-size=\"6.000000\" text-anchor=\"start\">8</text>\n<path d=\"M 10 475 L 25 475\" fill=\"none\" stroke=\"black\" stroke-width=\"1.000000\" stroke-linejoin=\"miter\"/>\n<text x=\"0.000000\" y=\"475.000000\" font-size=\"6.000000\" text-anchor=\"start\">9</text>\n<path d=\"M 10 525 L 25 525\" fill=\"none\" stroke=\"black\" stroke-width=\"1.000000\" stroke-linejoin=\"miter\"/>\n<text x=\"0.000000\" y=\"525.000000\" font-size=\"6.000000\" text-anchor=\"start\">10</text>\n<path d=\"M 10 575 L 25 575\" fill=\"none\" stroke=\"black\" stroke-width=\"1.000000\" stroke-linejoin=\"miter\"/>\n<text x=\"0.000000\" y=\"575.000000\" font-size=\"6.000000\" text-anchor=\"start\">11</text>\n<path d=\"M 37.9442 75.0002 C 51.653800000000004 75.0002 51.5923 100.0 65.3019 100.0 M 65.3038 100.0 C 51.59219999999999 100.0 51.6538 124.9998 37.94409999999999 124.9998 M 65.3038 100.0 L 87.1884 100.0 M 87.1884 100.0 C 100.9 100.0 100.83840000000001 75.0002 114.5481 75.0002 M 87.1884 100.0 C 100.9 100.0 100.83840000000001 124.9998 114.5481 124.9998 M 25.0 75.0 L 38.0 75.0 M 38.0019 124.9998 L 25.0 124.9998 M 112.6453 124.9998 L 125.0 124.9998 M 112.1944 74.9998 L 125.0 74.9998\" fill=\"none\" stroke=\"black\" stroke-width=\"1.000000\" stroke-linejoin=\"miter\"/>\n<text x=\"75.000000\" y=\"88.000000\" font-size=\"7.000000\" text-anchor=\"middle\">Φ=pi/2</text>\n<path d=\"M 125 125 L 145 125 M 155 125 L 175 125\" fill=\"none\" stroke=\"black\" stroke-width=\"1.000000\" stroke-linejoin=\"miter\"/>\n<path d=\"M 145 140 L 155 140 L 155 110 L 145 110 L 145 140\" fill=\"lightgray\" stroke=\"black\" stroke-width=\"1.000000\" stroke-linejoin=\"miter\"/>\n<text x=\"150.000000\" y=\"150.000000\" font-size=\"7.000000\" text-anchor=\"middle\">Φ=pi</text>\n<path d=\"M 37.9442 175.0002 C 51.653800000000004 175.0002 51.5923 200.0 65.3019 200.0 M 65.3038 200.0 C 51.59219999999999 200.0 51.6538 224.9998 37.94409999999999 224.9998 M 65.3038 200.0 L 87.1884 200.0 M 87.1884 200.0 C 100.9 200.0 100.83840000000001 175.0002 114.5481 175.0002 M 87.1884 200.0 C 100.9 200.0 100.83840000000001 224.9998 114.5481 224.9998 M 25.0 175.0 L 38.0 175.0 M 38.0019 224.9998 L 25.0 224.9998 M 112.6453 224.9998 L 125.0 224.9998 M 112.1944 174.9998 L 125.0 174.9998\" fill=\"none\" stroke=\"black\" stroke-width=\"1.000000\" stroke-linejoin=\"miter\"/>\n<text x=\"75.000000\" y=\"188.000000\" font-size=\"7.000000\" text-anchor=\"middle\">Φ=pi/2</text>\n<path d=\"M 125 225 L 145 225 M 155 225 L 175 225\" fill=\"none\" stroke=\"black\" stroke-width=\"1.000000\" stroke-linejoin=\"miter\"/>\n<path d=\"M 145 240 L 155 240 L 155 210 L 145 210 L 145 240\" fill=\"lightgray\" stroke=\"black\" stroke-width=\"1.000000\" stroke-linejoin=\"miter\"/>\n<text x=\"150.000000\" y=\"250.000000\" font-size=\"7.000000\" text-anchor=\"middle\">Φ=pi</text>\n<path d=\"M 37.9442 375.0002 C 51.653800000000004 375.0002 51.5923 400.0 65.3019 400.0 M 65.3038 400.0 C 51.59219999999999 400.0 51.6538 424.9998 37.94409999999999 424.9998 M 65.3038 400.0 L 87.1884 400.0 M 87.1884 400.0 C 100.9 400.0 100.83840000000001 375.0002 114.5481 375.0002 M 87.1884 400.0 C 100.9 400.0 100.83840000000001 424.9998 114.5481 424.9998 M 25.0 375.0 L 38.0 375.0 M 38.0019 424.9998 L 25.0 424.9998 M 112.6453 424.9998 L 125.0 424.9998 M 112.1944 374.9998 L 125.0 374.9998\" fill=\"none\" stroke=\"black\" stroke-width=\"1.000000\" stroke-linejoin=\"miter\"/>\n<text x=\"75.000000\" y=\"388.000000\" font-size=\"7.000000\" text-anchor=\"middle\">Φ=pi/2</text>\n<path d=\"M 125 425 L 145 425 M 155 425 L 175 425\" fill=\"none\" stroke=\"black\" stroke-width=\"1.000000\" stroke-linejoin=\"miter\"/>\n<path d=\"M 145 440 L 155 440 L 155 410 L 145 410 L 145 440\" fill=\"lightgray\" stroke=\"black\" stroke-width=\"1.000000\" stroke-linejoin=\"miter\"/>\n<text x=\"150.000000\" y=\"450.000000\" font-size=\"7.000000\" text-anchor=\"middle\">Φ=pi</text>\n<path d=\"M 37.9442 475.0002 C 51.653800000000004 475.0002 51.5923 500.0 65.3019 500.0 M 65.3038 500.0 C 51.59219999999999 500.0 51.6538 524.9998 37.94409999999999 524.9998 M 65.3038 500.00000000000006 L 87.1884 500.00000000000006 M 87.1884 500.00000000000006 C 100.9 500.00000000000006 100.83840000000001 475.00020000000006 114.5481 475.00020000000006 M 87.1884 500.00000000000006 C 100.9 500.00000000000006 100.83840000000001 524.9998 114.5481 524.9998 M 25.0 475.00000000000006 L 38.0 475.00000000000006 M 38.0019 524.9998 L 25.0 524.9998 M 112.6453 524.9998 L 125.0 524.9998 M 112.1944 474.99980000000005 L 125.0 474.99980000000005\" fill=\"none\" stroke=\"black\" stroke-width=\"1.000000\" stroke-linejoin=\"miter\"/>\n<text x=\"75.000000\" y=\"488.000000\" font-size=\"7.000000\" text-anchor=\"middle\">Φ=pi/2</text>\n<path d=\"M 125 525 L 145 525 M 155 525 L 175 525\" fill=\"none\" stroke=\"black\" stroke-width=\"1.000000\" stroke-linejoin=\"miter\"/>\n<path d=\"M 145 540 L 155 540 L 155 510 L 145 510 L 145 540\" fill=\"lightgray\" stroke=\"black\" stroke-width=\"1.000000\" stroke-linejoin=\"miter\"/>\n<text x=\"150.000000\" y=\"550.000000\" font-size=\"7.000000\" text-anchor=\"middle\">Φ=pi</text>\n<polyline points=\"25 25 125 25\" fill=\"transparent\"stroke=\"black\" stroke-width=\"1.000000\" stroke-linejoin=\"miter\" />\n<path d=\"M 137.9442 25.0002 C 151.6538 25.0002 151.5923 50.0 165.3019 50.0 M 165.3038 50.0 C 151.5922 50.0 151.6538 74.9998 137.9441 74.9998 M 165.3038 49.99999999999999 L 187.1884 49.99999999999999 M 187.1884 49.99999999999999 C 200.9 49.99999999999999 200.8384 25.000199999999992 214.5481 25.000199999999992 M 187.1884 49.99999999999999 C 200.9 49.99999999999999 200.8384 74.9998 214.5481 74.9998 M 125.0 24.999999999999993 L 138.0 24.999999999999993 M 138.0019 74.9998 L 125.0 74.9998 M 212.64530000000002 74.9998 L 225.0 74.9998 M 212.1944 24.999799999999993 L 225.0 24.999799999999993\" fill=\"none\" stroke=\"black\" stroke-width=\"1.000000\" stroke-linejoin=\"miter\"/>\n<text x=\"175.000000\" y=\"38.000000\" font-size=\"7.000000\" text-anchor=\"middle\">R=1/3</text>\n<polyline points=\"125 175 175 175\" fill=\"transparent\"stroke=\"black\" stroke-width=\"1.000000\" stroke-linejoin=\"miter\" />\n<path d=\"M 187.9442 125.0002 C 201.6538 125.0002 201.5923 150.0 215.3019 150.0 M 215.3038 150.0 C 201.5922 150.0 201.6538 174.9998 187.9441 174.9998 M 215.3038 150.0 L 237.1884 150.0 M 237.1884 150.0 C 250.9 150.0 250.8384 125.0002 264.5481 125.0002 M 237.18839999999997 150.0 C 250.89999999999998 150.0 250.83839999999998 174.9998 264.5481 174.9998 M 174.99999999999997 125.0 L 187.99999999999997 125.0 M 188.00189999999998 174.9998 L 174.99999999999997 174.9998 M 262.64529999999996 174.9998 L 274.99999999999994 174.9998 M 262.1944 124.9998 L 275.0 124.9998\" fill=\"none\" stroke=\"black\" stroke-width=\"1.000000\" stroke-linejoin=\"miter\"/>\n<text x=\"225.000000\" y=\"138.000000\" font-size=\"7.000000\" text-anchor=\"middle\">R=1/3</text>\n<polyline points=\"25 275 175 275\" fill=\"transparent\"stroke=\"black\" stroke-width=\"1.000000\" stroke-linejoin=\"miter\" />\n<path d=\"M 187.9442 225.0002 C 201.6538 225.0002 201.5923 250.0 215.3019 250.0 M 215.3038 250.0 C 201.5922 250.0 201.6538 274.9998 187.9441 274.9998 M 215.3038 250.0 L 237.1884 250.0 M 237.1884 250.0 C 250.9 250.0 250.8384 225.0002 264.5481 225.0002 M 237.18839999999997 250.0 C 250.89999999999998 250.0 250.83839999999998 274.9998 264.5481 274.9998 M 174.99999999999997 225.0 L 187.99999999999997 225.0 M 188.00189999999998 274.9998 L 174.99999999999997 274.9998 M 262.64529999999996 274.9998 L 274.99999999999994 274.9998 M 262.1944 224.9998 L 275.0 224.9998\" fill=\"none\" stroke=\"black\" stroke-width=\"1.000000\" stroke-linejoin=\"miter\"/>\n<text x=\"225.000000\" y=\"238.000000\" font-size=\"7.000000\" text-anchor=\"middle\">R=1/3</text>\n<polyline points=\"25 325 125 325\" fill=\"transparent\"stroke=\"black\" stroke-width=\"1.000000\" stroke-linejoin=\"miter\" />\n<path d=\"M 137.9442 325.0002 C 151.6538 325.0002 151.5923 350.0 165.3019 350.0 M 165.3038 350.0 C 151.5922 350.0 151.6538 374.9998 137.9441 374.9998 M 165.3038 350.0 L 187.1884 350.0 M 187.1884 350.0 C 200.9 350.0 200.8384 325.0002 214.5481 325.0002 M 187.1884 350.0 C 200.9 350.0 200.8384 374.9998 214.5481 374.9998 M 125.0 325.0 L 138.0 325.0 M 138.0019 374.9998 L 125.0 374.9998 M 212.64530000000002 374.9998 L 225.0 374.9998 M 212.1944 324.9998 L 225.0 324.9998\" fill=\"none\" stroke=\"black\" stroke-width=\"1.000000\" stroke-linejoin=\"miter\"/>\n<text x=\"175.000000\" y=\"338.000000\" font-size=\"7.000000\" text-anchor=\"middle\">R=1/3</text>\n<polyline points=\"125 475 175 475\" fill=\"transparent\"stroke=\"black\" stroke-width=\"1.000000\" stroke-linejoin=\"miter\" />\n<path d=\"M 187.9442 425.0002 C 201.6538 425.0002 201.5923 450.0 215.3019 450.0 M 215.3038 450.0 C 201.5922 450.0 201.6538 474.9998 187.9441 474.9998 M 215.3038 450.0 L 237.1884 450.0 M 237.1884 450.0 C 250.9 450.0 250.8384 425.0002 264.5481 425.0002 M 237.18839999999997 450.0 C 250.89999999999998 450.0 250.83839999999998 474.9998 264.5481 474.9998 M 174.99999999999997 425.0 L 187.99999999999997 425.0 M 188.00189999999998 474.9998 L 174.99999999999997 474.9998 M 262.64529999999996 474.9998 L 274.99999999999994 474.9998 M 262.1944 424.9998 L 275.0 424.9998\" fill=\"none\" stroke=\"black\" stroke-width=\"1.000000\" stroke-linejoin=\"miter\"/>\n<text x=\"225.000000\" y=\"438.000000\" font-size=\"7.000000\" text-anchor=\"middle\">R=1/3</text>\n<polyline points=\"25 575 175 575\" fill=\"transparent\"stroke=\"black\" stroke-width=\"1.000000\" stroke-linejoin=\"miter\" />\n<path d=\"M 187.9442 525.0002 C 201.6538 525.0002 201.5923 550.0 215.3019 550.0 M 215.3038 550.0 C 201.5922 550.0 201.6538 574.9998 187.9441 574.9998 M 215.3038 550.0 L 237.1884 550.0 M 237.1884 550.0 C 250.9 550.0 250.8384 525.0002 264.5481 525.0002 M 237.18839999999997 550.0 C 250.89999999999998 550.0 250.83839999999998 574.9998 264.5481 574.9998 M 174.99999999999997 525.0 L 187.99999999999997 525.0 M 188.00189999999998 574.9998 L 174.99999999999997 574.9998 M 262.64529999999996 574.9998 L 274.99999999999994 574.9998 M 262.1944 524.9998 L 275.0 524.9998\" fill=\"none\" stroke=\"black\" stroke-width=\"1.000000\" stroke-linejoin=\"miter\"/>\n<text x=\"225.000000\" y=\"538.000000\" font-size=\"7.000000\" text-anchor=\"middle\">R=1/3</text>\n<path d=\"M 287.9442 175.0002 C 301.65380000000005 175.0002 301.5923 200.0 315.30190000000005 200.0 M 315.3038 200.0 C 301.59220000000005 200.0 301.65380000000005 224.9998 287.94410000000005 224.9998 M 315.3038 200.0 L 337.1884 200.0 M 337.1884 200.0 C 350.9 200.0 350.8384 175.0002 364.5481 175.0002 M 337.1884 200.0 C 350.9 200.0 350.8384 224.9998 364.5481 224.9998 M 275.0 175.0 L 288.0 175.0 M 288.0019 224.9998 L 275.0 224.9998 M 362.6453 224.9998 L 375.0 224.9998 M 362.1944 174.9998 L 375.0 174.9998\" fill=\"none\" stroke=\"black\" stroke-width=\"1.000000\" stroke-linejoin=\"miter\"/>\n<text x=\"325.000000\" y=\"188.000000\" font-size=\"7.000000\" text-anchor=\"middle\">Φ=pi/2</text>\n<path d=\"M 375 225 L 395 225 M 405 225 L 425 225\" fill=\"none\" stroke=\"black\" stroke-width=\"1.000000\" stroke-linejoin=\"miter\"/>\n<path d=\"M 395 240 L 405 240 L 405 210 L 395 210 L 395 240\" fill=\"lightgray\" stroke=\"black\" stroke-width=\"1.000000\" stroke-linejoin=\"miter\"/>\n<text x=\"400.000000\" y=\"250.000000\" font-size=\"7.000000\" text-anchor=\"middle\">Φ=pi</text>\n<path d=\"M 287.9442 475.0002 C 301.65380000000005 475.0002 301.5923 500.0 315.30190000000005 500.0 M 315.3038 500.0 C 301.59220000000005 500.0 301.65380000000005 524.9998 287.94410000000005 524.9998 M 315.3038 500.00000000000006 L 337.1884 500.00000000000006 M 337.1884 500.00000000000006 C 350.9 500.00000000000006 350.8384 475.00020000000006 364.5481 475.00020000000006 M 337.1884 500.00000000000006 C 350.9 500.00000000000006 350.8384 524.9998 364.5481 524.9998 M 275.0 475.00000000000006 L 288.0 475.00000000000006 M 288.0019 524.9998 L 275.0 524.9998 M 362.6453 524.9998 L 375.0 524.9998 M 362.1944 474.99980000000005 L 375.0 474.99980000000005\" fill=\"none\" stroke=\"black\" stroke-width=\"1.000000\" stroke-linejoin=\"miter\"/>\n<text x=\"325.000000\" y=\"488.000000\" font-size=\"7.000000\" text-anchor=\"middle\">Φ=pi/2</text>\n<path d=\"M 375 525 L 395 525 M 405 525 L 425 525\" fill=\"none\" stroke=\"black\" stroke-width=\"1.000000\" stroke-linejoin=\"miter\"/>\n<path d=\"M 395 540 L 405 540 L 405 510 L 395 510 L 395 540\" fill=\"lightgray\" stroke=\"black\" stroke-width=\"1.000000\" stroke-linejoin=\"miter\"/>\n<text x=\"400.000000\" y=\"550.000000\" font-size=\"7.000000\" text-anchor=\"middle\">Φ=pi</text>\n<polyline points=\"225 25 425 25\" fill=\"transparent\"stroke=\"black\" stroke-width=\"1.000000\" stroke-linejoin=\"miter\" />\n<polyline points=\"225 75 425 75\" fill=\"transparent\"stroke=\"black\" stroke-width=\"1.000000\" stroke-linejoin=\"miter\" />\n<polyline points=\"275 125 425 125\" fill=\"transparent\"stroke=\"black\" stroke-width=\"1.000000\" stroke-linejoin=\"miter\" />\n<polyline points=\"375 175 425 175\" fill=\"transparent\"stroke=\"black\" stroke-width=\"1.000000\" stroke-linejoin=\"miter\" />\n<polyline points=\"275 275 425 275\" fill=\"transparent\"stroke=\"black\" stroke-width=\"1.000000\" stroke-linejoin=\"miter\" />\n<polyline points=\"225 325 425 325\" fill=\"transparent\"stroke=\"black\" stroke-width=\"1.000000\" stroke-linejoin=\"miter\" />\n<polyline points=\"225 375 425 375\" fill=\"transparent\"stroke=\"black\" stroke-width=\"1.000000\" stroke-linejoin=\"miter\" />\n<polyline points=\"275 425 425 425\" fill=\"transparent\"stroke=\"black\" stroke-width=\"1.000000\" stroke-linejoin=\"miter\" />\n<polyline points=\"375 475 425 475\" fill=\"transparent\"stroke=\"black\" stroke-width=\"1.000000\" stroke-linejoin=\"miter\" />\n<polyline points=\"275 575 425 575\" fill=\"transparent\"stroke=\"black\" stroke-width=\"1.000000\" stroke-linejoin=\"miter\" />\n<path d=\"M 425 25 L 440 25\" fill=\"none\" stroke=\"black\" stroke-width=\"1.000000\" stroke-linejoin=\"miter\"/>\n<text x=\"450.000000\" y=\"25.000000\" font-size=\"6.000000\" text-anchor=\"end\">0</text>\n<path d=\"M 425 75 L 440 75\" fill=\"none\" stroke=\"black\" stroke-width=\"1.000000\" stroke-linejoin=\"miter\"/>\n<text x=\"450.000000\" y=\"75.000000\" font-size=\"6.000000\" text-anchor=\"end\">1</text>\n<path d=\"M 425 125 L 440 125\" fill=\"none\" stroke=\"black\" stroke-width=\"1.000000\" stroke-linejoin=\"miter\"/>\n<text x=\"450.000000\" y=\"125.000000\" font-size=\"6.000000\" text-anchor=\"end\">2</text>\n<path d=\"M 425 175 L 440 175\" fill=\"none\" stroke=\"black\" stroke-width=\"1.000000\" stroke-linejoin=\"miter\"/>\n<text x=\"450.000000\" y=\"175.000000\" font-size=\"6.000000\" text-anchor=\"end\">3</text>\n<path d=\"M 425 225 L 440 225\" fill=\"none\" stroke=\"black\" stroke-width=\"1.000000\" stroke-linejoin=\"miter\"/>\n<text x=\"450.000000\" y=\"225.000000\" font-size=\"6.000000\" text-anchor=\"end\">4</text>\n<path d=\"M 425 275 L 440 275\" fill=\"none\" stroke=\"black\" stroke-width=\"1.000000\" stroke-linejoin=\"miter\"/>\n<text x=\"450.000000\" y=\"275.000000\" font-size=\"6.000000\" text-anchor=\"end\">5</text>\n<path d=\"M 425 325 L 440 325\" fill=\"none\" stroke=\"black\" stroke-width=\"1.000000\" stroke-linejoin=\"miter\"/>\n<text x=\"450.000000\" y=\"325.000000\" font-size=\"6.000000\" text-anchor=\"end\">6</text>\n<path d=\"M 425 375 L 440 375\" fill=\"none\" stroke=\"black\" stroke-width=\"1.000000\" stroke-linejoin=\"miter\"/>\n<text x=\"450.000000\" y=\"375.000000\" font-size=\"6.000000\" text-anchor=\"end\">7</text>\n<path d=\"M 425 425 L 440 425\" fill=\"none\" stroke=\"black\" stroke-width=\"1.000000\" stroke-linejoin=\"miter\"/>\n<text x=\"450.000000\" y=\"425.000000\" font-size=\"6.000000\" text-anchor=\"end\">8</text>\n<path d=\"M 425 475 L 440 475\" fill=\"none\" stroke=\"black\" stroke-width=\"1.000000\" stroke-linejoin=\"miter\"/>\n<text x=\"450.000000\" y=\"475.000000\" font-size=\"6.000000\" text-anchor=\"end\">9</text>\n<path d=\"M 425 525 L 440 525\" fill=\"none\" stroke=\"black\" stroke-width=\"1.000000\" stroke-linejoin=\"miter\"/>\n<text x=\"450.000000\" y=\"525.000000\" font-size=\"6.000000\" text-anchor=\"end\">10</text>\n<path d=\"M 425 575 L 440 575\" fill=\"none\" stroke=\"black\" stroke-width=\"1.000000\" stroke-linejoin=\"miter\"/>\n<text x=\"450.000000\" y=\"575.000000\" font-size=\"6.000000\" text-anchor=\"end\">11</text></svg>"
     },
     "metadata": {},
     "output_type": "display_data"
    }
   ],
   "source": [
    "print(\"Optical circuit for Shor's algorithm\")\n",
    "pcvl.pdisplay(circ)"
   ]
  },
  {
   "cell_type": "code",
   "execution_count": 8,
   "id": "00d193de",
   "metadata": {
    "pycharm": {
     "name": "#%%\n"
    },
    "scrolled": false
   },
   "outputs": [
    {
     "name": "stdout",
     "output_type": "stream",
     "text": [
      "The associated matrix\n"
     ]
    },
    {
     "data": {
      "text/plain": "<IPython.core.display.HTML object>",
      "text/html": "$\\left[\\begin{array}{cccccccccccc}0.577350269189626 & 0.577350269189626 i & 0.577350269189626 i & 0 & 0 & 0 & 0 & 0 & 0 & 0 & 0 & 0\\\\0.816496580927726 i & 0.408248290463863 & 0.408248290463863 & 0 & 0 & 0 & 0 & 0 & 0 & 0 & 0 & 0\\\\0 & 0.408248290463863 & -0.408248290463863 & 0.577350269189626 i & 0.577350269189626 i & 0 & 0 & 0 & 0 & 0 & 0 & 0\\\\0 & 0.408248290463863 i & - 0.408248290463863 i & 0.577350269189626 & 0 & 0.577350269189626 i & 0 & 0 & 0 & 0 & 0 & 0\\\\0 & 0.408248290463863 i & - 0.408248290463863 i & 0 & 0.577350269189626 & - 0.577350269189626 i & 0 & 0 & 0 & 0 & 0 & 0\\\\0 & 0 & 0 & 0.577350269189626 i & - 0.577350269189626 i & 0.577350269189626 & 0 & 0 & 0 & 0 & 0 & 0\\\\0 & 0 & 0 & 0 & 0 & 0 & 0.577350269189626 & 0.577350269189626 i & 0.577350269189626 i & 0 & 0 & 0\\\\0 & 0 & 0 & 0 & 0 & 0 & 0.816496580927726 i & 0.408248290463863 & 0.408248290463863 & 0 & 0 & 0\\\\0 & 0 & 0 & 0 & 0 & 0 & 0 & 0.408248290463863 & -0.408248290463863 & 0.577350269189626 i & 0.577350269189626 i & 0\\\\0 & 0 & 0 & 0 & 0 & 0 & 0 & 0.408248290463863 i & - 0.408248290463863 i & 0.577350269189626 & 0 & 0.577350269189626 i\\\\0 & 0 & 0 & 0 & 0 & 0 & 0 & 0.408248290463863 i & - 0.408248290463863 i & 0 & 0.577350269189626 & - 0.577350269189626 i\\\\0 & 0 & 0 & 0 & 0 & 0 & 0 & 0 & 0 & 0.577350269189626 i & - 0.577350269189626 i & 0.577350269189626\\end{array}\\right]$"
     },
     "metadata": {},
     "output_type": "display_data"
    }
   ],
   "source": [
    "print(\"The associated matrix\")\n",
    "pcvl.pdisplay(circ.U)"
   ]
  },
  {
   "cell_type": "markdown",
   "id": "7bdc227b",
   "metadata": {
    "pycharm": {
     "name": "#%% md\n"
    }
   },
   "source": [
    "### Input state"
   ]
  },
  {
   "cell_type": "markdown",
   "id": "4e1ced97",
   "metadata": {
    "pycharm": {
     "name": "#%% md\n"
    }
   },
   "source": [
    "In the preliminaries we provided functions to map qubit states to the corresponding Fock states and vice-versa.\n",
    "\n",
    "A *computational basis qubit state* on qubits $x_1, f_1, x_2, f_2$ is represented with a list of 4 boolean values.\n",
    "\n",
    "A *Fock state* is represented with a list of twelve integer values.\n",
    "As described above, for Fock states, the modes are enumerated as follows:\n",
    "* mode pairs $(1,2), (3,4), (7,8), (9,10)$ respectively correspond to states $0,1$ for qubits $x_1, f_1, x_2, f_2$\n",
    "* modes $0,5,6,11$ are auxiliary modes used for CZ gates"
   ]
  },
  {
   "cell_type": "markdown",
   "id": "51d9eca7",
   "metadata": {
    "pycharm": {
     "name": "#%% md\n"
    }
   },
   "source": [
    "The input state of the circuit is $|0\\rangle_{x_1}|0\\rangle_{x_2}|0\\rangle_{f_1}|1\\rangle_{f_2}$.\n",
    "With path encoding this corresponds to sending 4 photons in total in the optical circuit, in the input modes corresponding to the inital state of each qubit."
   ]
  },
  {
   "cell_type": "code",
   "execution_count": 9,
   "id": "79f7ca45",
   "metadata": {
    "pycharm": {
     "name": "#%%\n"
    },
    "scrolled": false
   },
   "outputs": [
    {
     "name": "stdout",
     "output_type": "stream",
     "text": [
      "Input qubit state: |0,0,0,1>\n",
      "Corresponding input Fock state: |0,1,0,1,0,0,0,1,0,0,1,0>\n"
     ]
    }
   ],
   "source": [
    "qubit_istate = [0,0,0,1]\n",
    "istate = toFockState(qubit_istate)\n",
    "\n",
    "print(\"Input qubit state:\", strState(qubit_istate))\n",
    "print(\"Corresponding input Fock state:\", strState(istate))"
   ]
  },
  {
   "cell_type": "markdown",
   "id": "d3f88c02",
   "metadata": {
    "pycharm": {
     "name": "#%% md\n"
    }
   },
   "source": [
    "## Simulation"
   ]
  },
  {
   "cell_type": "code",
   "execution_count": 10,
   "id": "ca10ff5e",
   "metadata": {
    "pycharm": {
     "name": "#%%\n"
    }
   },
   "outputs": [],
   "source": [
    "backend = pcvl.BackendFactory().get_backend(\"Naive\")\n",
    "simulator = backend(circ)"
   ]
  },
  {
   "cell_type": "markdown",
   "id": "e81a4f44",
   "metadata": {
    "pycharm": {
     "name": "#%% md\n"
    }
   },
   "source": [
    "### Computing the output state"
   ]
  },
  {
   "cell_type": "markdown",
   "id": "c4e62d76",
   "metadata": {
    "pycharm": {
     "name": "#%% md\n"
    }
   },
   "source": [
    "Using perceval we compute the output state obtained with the optical circuit."
   ]
  },
  {
   "cell_type": "markdown",
   "id": "2f3e6f17",
   "metadata": {
    "pycharm": {
     "name": "#%% md\n"
    }
   },
   "source": [
    "#### Amplitudes\n",
    "\n",
    "We first decompose the output state in the computational basis and plot the corresponding amplitudes."
   ]
  },
  {
   "cell_type": "code",
   "execution_count": 11,
   "id": "0cd16853",
   "metadata": {
    "pycharm": {
     "name": "#%%\n"
    },
    "scrolled": true
   },
   "outputs": [
    {
     "name": "stdout",
     "output_type": "stream",
     "text": [
      "Output state amplitudes: (post-selected on qubit states, not renormalized)\n",
      "|x1,x2,f1,f2>\n",
      "|0,0,0,0> 0j\n",
      "|0,0,0,1> 0j\n",
      "|0,0,1,0> 0j\n",
      "|0,0,1,1> 0j\n",
      "|0,1,0,0> 0j\n",
      "|0,1,0,1> 0j\n",
      "|0,1,1,0> 0j\n",
      "|0,1,1,1> 0j\n",
      "|1,0,0,0> (-1.3877787807814457e-17+2.7755575615628914e-17j)\n",
      "|1,0,0,1> (-1.3877787807814457e-17+2.7755575615628914e-17j)\n",
      "|1,0,1,0> (-1.3877787807814457e-17+2.7755575615628914e-17j)\n",
      "|1,0,1,1> (-1.3877787807814457e-17+2.7755575615628914e-17j)\n",
      "|1,1,0,0> (-2.7755575615628914e-17+2.7755575615628914e-17j)\n",
      "|1,1,0,1> (-2.7755575615628914e-17+2.7755575615628914e-17j)\n",
      "|1,1,1,0> (-2.7755575615628914e-17+2.7755575615628914e-17j)\n",
      "|1,1,1,1> (-2.7755575615628914e-17+2.7755575615628914e-17j)\n"
     ]
    }
   ],
   "source": [
    "output_qubit_states = [\n",
    "    [x1,x2,f1,f2]\n",
    "    for x1 in [0,1] for x2 in [0,1] for f1 in [0,1] for f2 in [0,1]\n",
    "]\n",
    "\n",
    "print(\"Output state amplitudes: (post-selected on qubit states, not renormalized)\")\n",
    "print(\"|x1,x2,f1,f2>\")\n",
    "for oqstate in output_qubit_states:\n",
    "    ostate = toFockState(oqstate)\n",
    "    a = simulator.probampli(pcvl.BasicState(pcvl.BasicState(istate)), pcvl.BasicState(ostate))\n",
    "    print(strState(oqstate), a)"
   ]
  },
  {
   "cell_type": "markdown",
   "id": "43e94f97",
   "metadata": {
    "pycharm": {
     "name": "#%% md\n"
    }
   },
   "source": [
    "The amplitudes obtained with perceval correspond to the expected output state\n",
    "$$\\frac{1}{2} \\left ( |0\\rangle_{x_1}|0\\rangle_{f_1} + |1\\rangle_{x_1}|1\\rangle_{f_1} \\right ) \\otimes \\left ( |0\\rangle_{x_2}|1\\rangle_{f_2} + |1\\rangle_{x_2}|0\\rangle_{f_2} \\right )$$\n",
    "up to numerical precision, without renormalization."
   ]
  },
  {
   "cell_type": "markdown",
   "id": "300664ac",
   "metadata": {
    "pycharm": {
     "name": "#%% md\n"
    }
   },
   "source": [
    "#### Distribution\n",
    "\n",
    "We now compute the probabilities to obtain each outcome corresponding to measuring the expected output state in the computational basis."
   ]
  },
  {
   "cell_type": "code",
   "execution_count": 12,
   "id": "2277ec12",
   "metadata": {
    "pycharm": {
     "name": "#%%\n"
    },
    "scrolled": false
   },
   "outputs": [
    {
     "name": "stdout",
     "output_type": "stream",
     "text": [
      "Output state distribution: (post-selected on expected qubit states, not renormalized)\n",
      "|x1,x2,f1,f2>\n"
     ]
    },
    {
     "data": {
      "text/plain": "<IPython.core.display.HTML object>",
      "text/html": "<table>\n<thead>\n<tr><th>         </th><th style=\"text-align: right;\">  |0,0,0,1&gt;</th><th style=\"text-align: right;\">  |0,1,0,0&gt;</th><th style=\"text-align: right;\">  |1,0,1,1&gt;</th><th style=\"text-align: right;\">  |1,1,1,0&gt;</th></tr>\n</thead>\n<tbody>\n<tr><td>|0,0,0,1&gt;</td><td style=\"text-align: right;\">          0</td><td style=\"text-align: right;\">          0</td><td style=\"text-align: right;\">          0</td><td style=\"text-align: right;\">          0</td></tr>\n</tbody>\n</table>"
     },
     "metadata": {},
     "output_type": "display_data"
    }
   ],
   "source": [
    "input_states = {\n",
    "    pcvl.BasicState(pcvl.BasicState(istate)): strState(qubit_istate)\n",
    "}\n",
    "\n",
    "expected_output_states = {\n",
    "    pcvl.BasicState(toFockState([x1,x2,x1,1-x2])): strState([x1,x2,x1,1-x2])\n",
    "    for x1 in [0,1] for x2 in [0,1]\n",
    "}\n",
    "\n",
    "ca = pcvl.CircuitAnalyser(simulator, input_states, expected_output_states)\n",
    "ca.compute()\n",
    "\n",
    "print(\"Output state distribution: (post-selected on expected qubit states, not renormalized)\")\n",
    "print(\"|x1,x2,f1,f2>\")\n",
    "pcvl.pdisplay(ca)"
   ]
  },
  {
   "cell_type": "markdown",
   "id": "5e464e2c",
   "metadata": {
    "pycharm": {
     "name": "#%% md\n"
    }
   },
   "source": [
    "The distribution computed with Perceval is uniform over each outcome, which corresponds to the expected distribution obtained in the paper when $x_0 = 0$."
   ]
  },
  {
   "cell_type": "markdown",
   "source": [
    "### Interpretation of the outcomes\n",
    "\n",
    "For each outcome we consider the values of qubits $x_2, x_1, x_0$ (where $x_0$ is 0) which represent a binary number between 0 and 7, here corresponding to 0, 4, 2 and 6 in the order of the table above.\n",
    "After sampling the circuit, obtainig outcomes 2 or 6 allows to successfully compute the order $r=4$.\n",
    "Obtaining outcome 0 is an expected failure of the quantum circuit, inherent to Shor's algorithm.\n",
    "Outcome 4 is an expected failure as well, as it only allows to compute the trivial factors 1 and 15.\n",
    "\n",
    "Since the distribution is uniform the circuit successfully yields a successful outcome with probability 1/2. This probability can be amplified exponentially close to $1$ by sampling the circuit multiple times."
   ],
   "metadata": {
    "collapsed": false,
    "pycharm": {
     "name": "#%% md\n"
    }
   }
  },
  {
   "cell_type": "markdown",
   "source": [
    "## Reference"
   ],
   "metadata": {
    "collapsed": false,
    "pycharm": {
     "name": "#%% md\n"
    }
   }
  },
  {
   "cell_type": "markdown",
   "source": [
    "Alberto Politi, Jonathan C.F. Matthews, and Jeremy L. O'brien. \"Shor’s quantum factoring algorithm on a photonic chip.\" [Science](https://www.science.org/doi/10.1126/science.1173731) 325.5945 (2009): 1221-1221."
   ],
   "metadata": {
    "collapsed": false,
    "pycharm": {
     "name": "#%% md\n"
    }
   }
  }
 ],
 "metadata": {
  "kernelspec": {
   "display_name": "Python 3 (ipykernel)",
   "language": "python",
   "name": "python3"
  },
  "language_info": {
   "codemirror_mode": {
    "name": "ipython",
    "version": 3
   },
   "file_extension": ".py",
   "mimetype": "text/x-python",
   "name": "python",
   "nbconvert_exporter": "python",
   "pygments_lexer": "ipython3",
   "version": "3.10.4"
  }
 },
 "nbformat": 4,
 "nbformat_minor": 5
}