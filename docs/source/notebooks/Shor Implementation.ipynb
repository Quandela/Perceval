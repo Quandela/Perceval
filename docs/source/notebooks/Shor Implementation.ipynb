{
 "cells": [
  {
   "cell_type": "markdown",
   "id": "c2f4fd6c",
   "metadata": {
    "pycharm": {
     "name": "#%% md\n"
    }
   },
   "source": [
    "# Implementing Shor's algorithm in Perceval"
   ]
  },
  {
   "cell_type": "markdown",
   "id": "5162c9b8",
   "metadata": {
    "pycharm": {
     "name": "#%% md\n"
    }
   },
   "source": [
    "This notebook presents a simulation in Perceval of a 4-qubit 12-modes optical circuit performing Shor's algorithm, based on Alberto Politi, Jonathan C.F. Matthews, and Jeremy L. O'brien. \"Shor’s quantum factoring algorithm on a photonic chip.\" Science 325.5945 (2009): 1221-1221. https://www.science.org/doi/10.1126/science.1173731"
   ]
  },
  {
   "cell_type": "markdown",
   "id": "f29e5abf",
   "metadata": {
    "pycharm": {
     "name": "#%% md\n"
    }
   },
   "source": [
    "## Shor's algorithm"
   ]
  },
  {
   "cell_type": "markdown",
   "id": "5dd3a2a5",
   "metadata": {
    "pycharm": {
     "name": "#%% md\n"
    }
   },
   "source": [
    "The purpose of Shor's algorithm is to find nontrivial factors of a given number $N$ in polynomial time, yielding an near-exponential speedup compared to state of the art classical algortihms.\n",
    "\n",
    "The main routine of Shor's algorithm consists in finding the order $r$ of a number $a \\in \\mathbb{Z}_N$, i.e. the smallest integer $r$ such that $a^r = 1 \\pmod N$.\n",
    "\n",
    "If the order of a randoly chosen $a$ which is coprime with $N$ is even, then $(a^{r/2} - 1)(a^{r/2} + 1) = k N$. If none of these factors are multiples of $N$, then $\\gcd(N, a^{r/2} - 1)$ and $\\gcd(N, a^{r/2} + 1)$ are nontrivial factors of $N$."
   ]
  },
  {
   "cell_type": "markdown",
   "id": "ff756302",
   "metadata": {
    "pycharm": {
     "name": "#%% md\n"
    }
   },
   "source": [
    "## Preliminaries"
   ]
  },
  {
   "cell_type": "code",
   "execution_count": 1,
   "id": "8b013239",
   "metadata": {
    "pycharm": {
     "name": "#%%\n"
    }
   },
   "outputs": [
    {
     "name": "stdout",
     "output_type": "stream",
     "text": [
      "Python version: 3.10.4 (tags/v3.10.4:9d38120, Mar 23 2022, 23:13:41) [MSC v.1929 64 bit (AMD64)]\n"
     ]
    }
   ],
   "source": [
    "import sys\n",
    "print(\"Python version:\", sys.version)"
   ]
  },
  {
   "cell_type": "code",
   "execution_count": 2,
   "id": "55fe7a18",
   "metadata": {
    "scrolled": true,
    "pycharm": {
     "name": "#%%\n"
    }
   },
   "outputs": [
    {
     "name": "stdout",
     "output_type": "stream",
     "text": [
      "Perceval version: 0.4.2.post6+2022.5.24\n"
     ]
    }
   ],
   "source": [
    "from IPython import display\n",
    "from collections import Counter\n",
    "from tabulate import tabulate\n",
    "from tqdm.auto import tqdm\n",
    "\n",
    "import sympy as sp\n",
    "import numpy as np\n",
    "from scipy.optimize import minimize\n",
    "\n",
    "import perceval as pcvl\n",
    "import quandelibc as qc\n",
    "import perceval.lib.phys as phys\n",
    "import perceval.lib.symb as symb\n",
    "\n",
    "print(\"Perceval version:\", pcvl.__version__)"
   ]
  },
  {
   "cell_type": "markdown",
   "id": "826377de",
   "metadata": {
    "pycharm": {
     "name": "#%% md\n"
    }
   },
   "source": [
    "### Path encoding functions\n",
    "\n",
    "The following functions allow for conversion between the qubit and Fock state representations."
   ]
  },
  {
   "cell_type": "code",
   "execution_count": 3,
   "id": "cd2bbda8",
   "metadata": {
    "pycharm": {
     "name": "#%%\n"
    }
   },
   "outputs": [],
   "source": [
    "def toFockState(qubitState):\n",
    "    # path encoding\n",
    "    pe = {0:[1,0],  1:[0,1]}\n",
    "    return [0] + pe[qubitState[0]] + pe[qubitState[2]] + [0, 0] + pe[qubitState[1]] + pe[qubitState[3]] + [0]"
   ]
  },
  {
   "cell_type": "code",
   "execution_count": 4,
   "id": "55ee4ce8",
   "metadata": {
    "pycharm": {
     "name": "#%%\n"
    }
   },
   "outputs": [],
   "source": [
    "def toQubitState(fockState):\n",
    "    # qubit modes\n",
    "    x1 = [1, 2]\n",
    "    f1 = [3, 4]\n",
    "    x2 = [7, 8]\n",
    "    f2 = [9, 10]\n",
    "    # auxiliary modes\n",
    "    am1 = [0, 5]\n",
    "    am2 = [6, 11]\n",
    "    \n",
    "    # auxiliary modes\n",
    "    for i in am1 + am2:\n",
    "        if fockState[i]!=0:\n",
    "            return None\n",
    "    L=[]\n",
    "    # qubit modes\n",
    "    for q in [x1, x2, f1, f2]:\n",
    "        if fockState[q[0]]+fockState[q[1]] != 1:\n",
    "            return None\n",
    "        else:\n",
    "            L.append(fockState[q[1]])\n",
    "    return L"
   ]
  },
  {
   "cell_type": "code",
   "execution_count": 5,
   "id": "39b1c269",
   "metadata": {
    "pycharm": {
     "name": "#%%\n"
    }
   },
   "outputs": [],
   "source": [
    "def strState(state):\n",
    "    return str(pcvl.BasicState(state))"
   ]
  },
  {
   "cell_type": "markdown",
   "id": "016e2534",
   "metadata": {
    "pycharm": {
     "name": "#%% md\n"
    }
   },
   "source": [
    "## The circuit"
   ]
  },
  {
   "cell_type": "markdown",
   "id": "01c60397",
   "metadata": {
    "pycharm": {
     "name": "#%% md\n"
    }
   },
   "source": [
    "### Quantum circuit\n",
    "\n",
    "The quantum circuit has been optimized after choosing parameters $N = 15$ and $a = 2$, and aims to calculate $r=4$.\n",
    "It features 5 qubits labelled $x_0, x_1, x_2$ and $f_1, f_2$. Qubits $x_i$ and $f_1$ are initially in state $|0\\rangle$, and $f_2$ in state $|1\\rangle$.\n",
    "In the non-optimised Shor algorithm, qubits $x_i$ encode a binary number representing a pre-image of the Modular Exponentiation Function (MEF) $x \\mapsto a^x \\pmod N$, while qubits $f_i$ hold the image obtained after applying the MEF to qubits $x_i$. Applying the MEF when qubits $x_i$ hold a superposition of different pre-images (obtained with H gates on qubits $x_i$) allows to efficiently compute the order $r$ of parameter $a$ modulo $N$.\n",
    "\n",
    "The circuit consists of $\\mathsf{H}$ gates being first applied to each $x_i$ qubit, followed by $\\mathsf{CNOT}$ gates applied on $x_1, f_1$ and $x_2, f_2$ pairs, where $x_i$ are control qubits; finally the inverse $\\mathsf{QFT}$ algorithm is applied on qubits $x_i$.\n",
    "\n",
    "$\\mathsf{CNOT}$ gates on $x_i, f_i$ pairs ($x_i$ being the control) are implemented using $\\mathsf{H}$ and $\\mathsf{CZ}$ gates: the $\\mathsf{CZ}$ gate is sandwiched between two applications of $\\mathsf{H}$ on $f_i$.\n",
    "\n",
    "The input state of the circuit after optimisation is $|0\\rangle_{x_0}|0\\rangle_{x_1}|0\\rangle_{x_2}|0\\rangle_{f_1}|1\\rangle_{f_2}$.\n",
    "\n",
    "The expected output state is then $\\frac{1}{2} |0\\rangle_{x_0} \\otimes \\left ( |0\\rangle_{x_1}|0\\rangle_{f_1} + |1\\rangle_{x_1}|1\\rangle_{f_1} \\right ) \\otimes \\left ( |0\\rangle_{x_2}|1\\rangle_{f_2} + |1\\rangle_{x_2}|0\\rangle_{f_2} \\right )$."
   ]
  },
  {
   "cell_type": "markdown",
   "id": "b7b25cf5",
   "metadata": {
    "pycharm": {
     "name": "#%% md\n"
    }
   },
   "source": [
    "### Photonic circuit\n",
    "\n",
    "The optical circuit from the result by Politi et al features twelve modes (ordered from 0 to 11 from top to bottom).\n",
    "\n",
    "During the execution, qubit $x_0$ remains unentangled from the other qubits. It can therefore be removed from the optical implementation.\n",
    "\n",
    "The qubits $x_1, x_2, f_1, f_2$ are path encoded as modes $(1, 2)$, $(3, 4)$, $(7, 8)$, $(9, 10)$ respectively. The four remaining modes are used as auxiliary modes to implement the $\\mathsf{CZ}$ gates.\n",
    "\n",
    "With path encoding each $\\mathsf{H}$ gate in the quantum circuit is implemented with a beam splitter with reflectivity $R=1/2$ between the two pathes corresponding to the qubit. In our implementation in Perceval, phase shifters are added to properly tune the phase between each path.\n",
    "\n",
    "$\\mathsf{CZ}$ gates are implemented with three beam splitters with reflectivity $R=2/3$ acting on six modes: one inner BS creates interference between the two qubits, and two outer BS balance detection probability using auxiliary modes.\n",
    "This optical implementation succesfully yields the output state produced by a $\\mathsf{CZ}$ gate with probability 1/9; otherwise it creates a dummy state, which can be removed by post-selection.\n",
    "\n",
    "In the case $r=4$ the QFT can be performed classically and doesn't need to be implemented in the photonic circuit."
   ]
  },
  {
   "cell_type": "markdown",
   "id": "3acb2273",
   "metadata": {
    "pycharm": {
     "name": "#%% md\n"
    }
   },
   "source": [
    "## In perceval"
   ]
  },
  {
   "cell_type": "markdown",
   "id": "7aa60c25",
   "metadata": {
    "pycharm": {
     "name": "#%% md\n"
    }
   },
   "source": [
    "### Implementing the circuit"
   ]
  },
  {
   "cell_type": "code",
   "execution_count": 6,
   "id": "2fe3a053",
   "metadata": {
    "pycharm": {
     "name": "#%%\n"
    }
   },
   "outputs": [],
   "source": [
    "circ = pcvl.Circuit(12)\n",
    "\n",
    "# qubit modes\n",
    "# for qubit states 0, 1\n",
    "x1 = [1, 2]\n",
    "f1 = [3, 4]\n",
    "x2 = [7, 8]\n",
    "f2 = [9, 10]\n",
    "# auxiliary modes\n",
    "am1 = [0, 5]\n",
    "am2 = [6, 11]\n",
    "\n",
    "\n",
    "# H gates\n",
    "for q in [x1, f1, x2, f2]:\n",
    "    circ.add(q, symb.BS(R=1/2, phi=sp.pi/2))\n",
    "    circ.add(q[1], symb.PS(phi=sp.pi))\n",
    "\n",
    "# CZ gates\n",
    "for x, f, am in [(x1, f1, am1), (x2, f2, am2)]:\n",
    "    circ.add((am[0], x[0]), symb.BS(R=2/3)) # T = 1/3\n",
    "    circ.add((x[1],  f[0]), symb.BS(R=2/3))\n",
    "    circ.add((f[1], am[1]), symb.BS(R=2/3))\n",
    "\n",
    "# H gates\n",
    "for q in [f1, f2]:\n",
    "    circ.add(q, symb.BS(R=1/2, phi=sp.pi/2))\n",
    "    circ.add(q[1], symb.PS(phi=sp.pi))"
   ]
  },
  {
   "cell_type": "code",
   "execution_count": 7,
   "id": "034d5e45",
   "metadata": {
    "scrolled": false,
    "pycharm": {
     "name": "#%%\n"
    }
   },
   "outputs": [
    {
     "name": "stdout",
     "output_type": "stream",
     "text": [
      "Optical circuit for Shor's algorithm\n"
     ]
    },
    {
     "data": {
      "text/plain": "<IPython.core.display.HTML object>",
      "text/html": "<svg width='312.000000' height='650.000000' viewBox='-6.000000 0.000000 306.000000 650.000000'><path d=\"M 10 25 L 25 25\" fill=\"none\" stroke=\"black\" stroke-width=\"1.000000\" stroke-linejoin=\"miter\"/>\n<text x=\"0.000000\" y=\"25.000000\" font-size=\"6.000000\" text-anchor=\"start\">0</text>\n<path d=\"M 10 75 L 25 75\" fill=\"none\" stroke=\"black\" stroke-width=\"1.000000\" stroke-linejoin=\"miter\"/>\n<text x=\"0.000000\" y=\"75.000000\" font-size=\"6.000000\" text-anchor=\"start\">1</text>\n<path d=\"M 10 125 L 25 125\" fill=\"none\" stroke=\"black\" stroke-width=\"1.000000\" stroke-linejoin=\"miter\"/>\n<text x=\"0.000000\" y=\"125.000000\" font-size=\"6.000000\" text-anchor=\"start\">2</text>\n<path d=\"M 10 175 L 25 175\" fill=\"none\" stroke=\"black\" stroke-width=\"1.000000\" stroke-linejoin=\"miter\"/>\n<text x=\"0.000000\" y=\"175.000000\" font-size=\"6.000000\" text-anchor=\"start\">3</text>\n<path d=\"M 10 225 L 25 225\" fill=\"none\" stroke=\"black\" stroke-width=\"1.000000\" stroke-linejoin=\"miter\"/>\n<text x=\"0.000000\" y=\"225.000000\" font-size=\"6.000000\" text-anchor=\"start\">4</text>\n<path d=\"M 10 275 L 25 275\" fill=\"none\" stroke=\"black\" stroke-width=\"1.000000\" stroke-linejoin=\"miter\"/>\n<text x=\"0.000000\" y=\"275.000000\" font-size=\"6.000000\" text-anchor=\"start\">5</text>\n<path d=\"M 10 325 L 25 325\" fill=\"none\" stroke=\"black\" stroke-width=\"1.000000\" stroke-linejoin=\"miter\"/>\n<text x=\"0.000000\" y=\"325.000000\" font-size=\"6.000000\" text-anchor=\"start\">6</text>\n<path d=\"M 10 375 L 25 375\" fill=\"none\" stroke=\"black\" stroke-width=\"1.000000\" stroke-linejoin=\"miter\"/>\n<text x=\"0.000000\" y=\"375.000000\" font-size=\"6.000000\" text-anchor=\"start\">7</text>\n<path d=\"M 10 425 L 25 425\" fill=\"none\" stroke=\"black\" stroke-width=\"1.000000\" stroke-linejoin=\"miter\"/>\n<text x=\"0.000000\" y=\"425.000000\" font-size=\"6.000000\" text-anchor=\"start\">8</text>\n<path d=\"M 10 475 L 25 475\" fill=\"none\" stroke=\"black\" stroke-width=\"1.000000\" stroke-linejoin=\"miter\"/>\n<text x=\"0.000000\" y=\"475.000000\" font-size=\"6.000000\" text-anchor=\"start\">9</text>\n<path d=\"M 10 525 L 25 525\" fill=\"none\" stroke=\"black\" stroke-width=\"1.000000\" stroke-linejoin=\"miter\"/>\n<text x=\"0.000000\" y=\"525.000000\" font-size=\"6.000000\" text-anchor=\"start\">10</text>\n<path d=\"M 10 575 L 25 575\" fill=\"none\" stroke=\"black\" stroke-width=\"1.000000\" stroke-linejoin=\"miter\"/>\n<text x=\"0.000000\" y=\"575.000000\" font-size=\"6.000000\" text-anchor=\"start\">11</text>\n<path d=\"M 31.4721 75.0002 C 38.3269 75.0002 38.2962 100.0 45.151 100.0 M 45.151900000000005 100.0 C 38.2961 100.0 38.32690000000001 124.9998 31.472000000000005 124.9998 M 45.151900000000005 100.0 L 56.0942 100.0 M 56.0942 100.0 C 62.95 100.0 62.919200000000004 75.0002 69.7741 75.0002 M 56.0942 100.0 C 62.95 100.0 62.919200000000004 124.9998 69.7741 124.9998 M 25.000000000000007 75.0 L 31.500000000000007 75.0 M 31.50090000000001 124.9998 L 25.000000000000007 124.9998 M 68.8227 124.9998 L 75.0 124.9998 M 68.5972 74.9998 L 75.0 74.9998\" fill=\"none\" stroke=\"black\" stroke-width=\"1.000000\" stroke-linejoin=\"miter\"/>\n<text x=\"75.000000\" y=\"88.000000\" font-size=\"7.000000\" text-anchor=\"middle\">phi=pi/2</text>\n<path d=\"M 75 125 L 95 125 M 105 125 L 125 125\" fill=\"none\" stroke=\"black\" stroke-width=\"1.000000\" stroke-linejoin=\"miter\"/>\n<path d=\"M 95 140 L 105 140 L 105 110 L 95 110 L 95 140\" fill=\"lightgray\" stroke=\"black\" stroke-width=\"1.000000\" stroke-linejoin=\"miter\"/>\n<text x=\"100.000000\" y=\"150.000000\" font-size=\"7.000000\" text-anchor=\"middle\">$\\phi$=pi</text>\n<path d=\"M 31.4721 175.0002 C 38.3269 175.0002 38.2962 200.0 45.151 200.0 M 45.151900000000005 200.0 C 38.2961 200.0 38.32690000000001 224.9998 31.472000000000005 224.9998 M 45.151900000000005 200.0 L 56.0942 200.0 M 56.0942 200.0 C 62.95 200.0 62.919200000000004 175.0002 69.7741 175.0002 M 56.0942 200.0 C 62.95 200.0 62.919200000000004 224.9998 69.7741 224.9998 M 25.000000000000007 175.0 L 31.500000000000007 175.0 M 31.50090000000001 224.9998 L 25.000000000000007 224.9998 M 68.8227 224.9998 L 75.0 224.9998 M 68.5972 174.9998 L 75.0 174.9998\" fill=\"none\" stroke=\"black\" stroke-width=\"1.000000\" stroke-linejoin=\"miter\"/>\n<text x=\"75.000000\" y=\"188.000000\" font-size=\"7.000000\" text-anchor=\"middle\">phi=pi/2</text>\n<path d=\"M 75 225 L 95 225 M 105 225 L 125 225\" fill=\"none\" stroke=\"black\" stroke-width=\"1.000000\" stroke-linejoin=\"miter\"/>\n<path d=\"M 95 240 L 105 240 L 105 210 L 95 210 L 95 240\" fill=\"lightgray\" stroke=\"black\" stroke-width=\"1.000000\" stroke-linejoin=\"miter\"/>\n<text x=\"100.000000\" y=\"250.000000\" font-size=\"7.000000\" text-anchor=\"middle\">$\\phi$=pi</text>\n<path d=\"M 31.4721 375.0002 C 38.3269 375.0002 38.2962 400.0 45.151 400.0 M 45.151900000000005 400.0 C 38.2961 400.0 38.32690000000001 424.9998 31.472000000000005 424.9998 M 45.151900000000005 400.0 L 56.0942 400.0 M 56.0942 400.0 C 62.95 400.0 62.919200000000004 375.0002 69.7741 375.0002 M 56.0942 400.0 C 62.95 400.0 62.919200000000004 424.9998 69.7741 424.9998 M 25.000000000000007 375.0 L 31.500000000000007 375.0 M 31.50090000000001 424.9998 L 25.000000000000007 424.9998 M 68.8227 424.9998 L 75.0 424.9998 M 68.5972 374.9998 L 75.0 374.9998\" fill=\"none\" stroke=\"black\" stroke-width=\"1.000000\" stroke-linejoin=\"miter\"/>\n<text x=\"75.000000\" y=\"388.000000\" font-size=\"7.000000\" text-anchor=\"middle\">phi=pi/2</text>\n<path d=\"M 75 425 L 95 425 M 105 425 L 125 425\" fill=\"none\" stroke=\"black\" stroke-width=\"1.000000\" stroke-linejoin=\"miter\"/>\n<path d=\"M 95 440 L 105 440 L 105 410 L 95 410 L 95 440\" fill=\"lightgray\" stroke=\"black\" stroke-width=\"1.000000\" stroke-linejoin=\"miter\"/>\n<text x=\"100.000000\" y=\"450.000000\" font-size=\"7.000000\" text-anchor=\"middle\">$\\phi$=pi</text>\n<path d=\"M 31.4721 475.0002 C 38.3269 475.0002 38.2962 500.0 45.151 500.0 M 45.151900000000005 500.0 C 38.2961 500.0 38.32690000000001 524.9998 31.472000000000005 524.9998 M 45.151900000000005 500.00000000000006 L 56.0942 500.00000000000006 M 56.0942 500.00000000000006 C 62.95 500.00000000000006 62.919200000000004 475.00020000000006 69.7741 475.00020000000006 M 56.0942 500.00000000000006 C 62.95 500.00000000000006 62.919200000000004 524.9998 69.7741 524.9998 M 25.000000000000007 475.00000000000006 L 31.500000000000007 475.00000000000006 M 31.50090000000001 524.9998 L 25.000000000000007 524.9998 M 68.8227 524.9998 L 75.0 524.9998 M 68.5972 474.99980000000005 L 75.0 474.99980000000005\" fill=\"none\" stroke=\"black\" stroke-width=\"1.000000\" stroke-linejoin=\"miter\"/>\n<text x=\"75.000000\" y=\"488.000000\" font-size=\"7.000000\" text-anchor=\"middle\">phi=pi/2</text>\n<path d=\"M 75 525 L 95 525 M 105 525 L 125 525\" fill=\"none\" stroke=\"black\" stroke-width=\"1.000000\" stroke-linejoin=\"miter\"/>\n<path d=\"M 95 540 L 105 540 L 105 510 L 95 510 L 95 540\" fill=\"lightgray\" stroke=\"black\" stroke-width=\"1.000000\" stroke-linejoin=\"miter\"/>\n<text x=\"100.000000\" y=\"550.000000\" font-size=\"7.000000\" text-anchor=\"middle\">$\\phi$=pi</text>\n<polyline points=\"25 25 75 25\" fill=\"transparent\"stroke=\"black\" stroke-width=\"1.000000\" stroke-linejoin=\"miter\" />\n<path d=\"M 81.4721 25.0002 C 88.3269 25.0002 88.2962 50.0 95.151 50.0 M 95.1519 50.0 C 88.2961 50.0 88.3269 74.9998 81.472 74.9998 M 95.1519 49.99999999999999 L 106.0942 49.99999999999999 M 106.0942 49.99999999999999 C 112.95 49.99999999999999 112.9192 25.000199999999992 119.7741 25.000199999999992 M 106.0942 49.99999999999999 C 112.95 49.99999999999999 112.9192 74.9998 119.7741 74.9998 M 75.0 24.999999999999993 L 81.5 24.999999999999993 M 81.5009 74.9998 L 75.0 74.9998 M 118.8227 74.9998 L 125.0 74.9998 M 118.5972 24.999799999999993 L 125.0 24.999799999999993\" fill=\"none\" stroke=\"black\" stroke-width=\"1.000000\" stroke-linejoin=\"miter\"/>\n<text x=\"125.000000\" y=\"38.000000\" font-size=\"7.000000\" text-anchor=\"middle\">R=2/3</text>\n<polyline points=\"75 175 125 175\" fill=\"transparent\"stroke=\"black\" stroke-width=\"1.000000\" stroke-linejoin=\"miter\" />\n<path d=\"M 131.4721 125.0002 C 138.32690000000002 125.0002 138.2962 150.0 145.151 150.0 M 145.1519 150.0 C 138.29610000000002 150.0 138.32690000000002 174.9998 131.472 174.9998 M 145.1519 150.0 L 156.0942 150.0 M 156.0942 150.0 C 162.95 150.0 162.9192 125.0002 169.7741 125.0002 M 156.0942 150.0 C 162.95 150.0 162.9192 174.9998 169.7741 174.9998 M 125.0 125.0 L 131.5 125.0 M 131.5009 174.9998 L 125.0 174.9998 M 168.8227 174.9998 L 175.0 174.9998 M 168.5972 124.9998 L 175.0 124.9998\" fill=\"none\" stroke=\"black\" stroke-width=\"1.000000\" stroke-linejoin=\"miter\"/>\n<text x=\"175.000000\" y=\"138.000000\" font-size=\"7.000000\" text-anchor=\"middle\">R=2/3</text>\n<polyline points=\"25 275 125 275\" fill=\"transparent\"stroke=\"black\" stroke-width=\"1.000000\" stroke-linejoin=\"miter\" />\n<path d=\"M 131.4721 225.0002 C 138.32690000000002 225.0002 138.2962 250.0 145.151 250.0 M 145.1519 250.0 C 138.29610000000002 250.0 138.32690000000002 274.9998 131.472 274.9998 M 145.1519 250.0 L 156.0942 250.0 M 156.0942 250.0 C 162.95 250.0 162.9192 225.0002 169.7741 225.0002 M 156.0942 250.0 C 162.95 250.0 162.9192 274.9998 169.7741 274.9998 M 125.0 225.0 L 131.5 225.0 M 131.5009 274.9998 L 125.0 274.9998 M 168.8227 274.9998 L 175.0 274.9998 M 168.5972 224.9998 L 175.0 224.9998\" fill=\"none\" stroke=\"black\" stroke-width=\"1.000000\" stroke-linejoin=\"miter\"/>\n<text x=\"175.000000\" y=\"238.000000\" font-size=\"7.000000\" text-anchor=\"middle\">R=2/3</text>\n<polyline points=\"25 325 75 325\" fill=\"transparent\"stroke=\"black\" stroke-width=\"1.000000\" stroke-linejoin=\"miter\" />\n<path d=\"M 81.4721 325.0002 C 88.3269 325.0002 88.2962 350.0 95.151 350.0 M 95.1519 350.0 C 88.2961 350.0 88.3269 374.9998 81.472 374.9998 M 95.1519 350.0 L 106.0942 350.0 M 106.0942 350.0 C 112.95 350.0 112.9192 325.0002 119.7741 325.0002 M 106.0942 350.0 C 112.95 350.0 112.9192 374.9998 119.7741 374.9998 M 75.0 325.0 L 81.5 325.0 M 81.5009 374.9998 L 75.0 374.9998 M 118.8227 374.9998 L 125.0 374.9998 M 118.5972 324.9998 L 125.0 324.9998\" fill=\"none\" stroke=\"black\" stroke-width=\"1.000000\" stroke-linejoin=\"miter\"/>\n<text x=\"125.000000\" y=\"338.000000\" font-size=\"7.000000\" text-anchor=\"middle\">R=2/3</text>\n<polyline points=\"75 475 125 475\" fill=\"transparent\"stroke=\"black\" stroke-width=\"1.000000\" stroke-linejoin=\"miter\" />\n<path d=\"M 131.4721 425.0002 C 138.32690000000002 425.0002 138.2962 450.0 145.151 450.0 M 145.1519 450.0 C 138.29610000000002 450.0 138.32690000000002 474.9998 131.472 474.9998 M 145.1519 450.0 L 156.0942 450.0 M 156.0942 450.0 C 162.95 450.0 162.9192 425.0002 169.7741 425.0002 M 156.0942 450.0 C 162.95 450.0 162.9192 474.9998 169.7741 474.9998 M 125.0 425.0 L 131.5 425.0 M 131.5009 474.9998 L 125.0 474.9998 M 168.8227 474.9998 L 175.0 474.9998 M 168.5972 424.9998 L 175.0 424.9998\" fill=\"none\" stroke=\"black\" stroke-width=\"1.000000\" stroke-linejoin=\"miter\"/>\n<text x=\"175.000000\" y=\"438.000000\" font-size=\"7.000000\" text-anchor=\"middle\">R=2/3</text>\n<polyline points=\"25 575 125 575\" fill=\"transparent\"stroke=\"black\" stroke-width=\"1.000000\" stroke-linejoin=\"miter\" />\n<path d=\"M 131.4721 525.0002 C 138.32690000000002 525.0002 138.2962 550.0 145.151 550.0 M 145.1519 550.0 C 138.29610000000002 550.0 138.32690000000002 574.9998 131.472 574.9998 M 145.1519 550.0 L 156.0942 550.0 M 156.0942 550.0 C 162.95 550.0 162.9192 525.0002 169.7741 525.0002 M 156.0942 550.0 C 162.95 550.0 162.9192 574.9998 169.7741 574.9998 M 125.0 525.0 L 131.5 525.0 M 131.5009 574.9998 L 125.0 574.9998 M 168.8227 574.9998 L 175.0 574.9998 M 168.5972 524.9998 L 175.0 524.9998\" fill=\"none\" stroke=\"black\" stroke-width=\"1.000000\" stroke-linejoin=\"miter\"/>\n<text x=\"175.000000\" y=\"538.000000\" font-size=\"7.000000\" text-anchor=\"middle\">R=2/3</text>\n<path d=\"M 181.4721 175.0002 C 188.32690000000002 175.0002 188.2962 200.0 195.151 200.0 M 195.1519 200.0 C 188.29610000000002 200.0 188.32690000000002 224.9998 181.472 224.9998 M 195.1519 200.0 L 206.0942 200.0 M 206.0942 200.0 C 212.95 200.0 212.9192 175.0002 219.7741 175.0002 M 206.0942 200.0 C 212.95 200.0 212.9192 224.9998 219.7741 224.9998 M 175.0 175.0 L 181.5 175.0 M 181.5009 224.9998 L 175.0 224.9998 M 218.8227 224.9998 L 225.0 224.9998 M 218.5972 174.9998 L 225.0 174.9998\" fill=\"none\" stroke=\"black\" stroke-width=\"1.000000\" stroke-linejoin=\"miter\"/>\n<text x=\"225.000000\" y=\"188.000000\" font-size=\"7.000000\" text-anchor=\"middle\">phi=pi/2</text>\n<path d=\"M 225 225 L 245 225 M 255 225 L 275 225\" fill=\"none\" stroke=\"black\" stroke-width=\"1.000000\" stroke-linejoin=\"miter\"/>\n<path d=\"M 245 240 L 255 240 L 255 210 L 245 210 L 245 240\" fill=\"lightgray\" stroke=\"black\" stroke-width=\"1.000000\" stroke-linejoin=\"miter\"/>\n<text x=\"250.000000\" y=\"250.000000\" font-size=\"7.000000\" text-anchor=\"middle\">$\\phi$=pi</text>\n<path d=\"M 181.4721 475.0002 C 188.32690000000002 475.0002 188.2962 500.0 195.151 500.0 M 195.1519 500.0 C 188.29610000000002 500.0 188.32690000000002 524.9998 181.472 524.9998 M 195.1519 500.00000000000006 L 206.0942 500.00000000000006 M 206.0942 500.00000000000006 C 212.95 500.00000000000006 212.9192 475.00020000000006 219.7741 475.00020000000006 M 206.0942 500.00000000000006 C 212.95 500.00000000000006 212.9192 524.9998 219.7741 524.9998 M 175.0 475.00000000000006 L 181.5 475.00000000000006 M 181.5009 524.9998 L 175.0 524.9998 M 218.8227 524.9998 L 225.0 524.9998 M 218.5972 474.99980000000005 L 225.0 474.99980000000005\" fill=\"none\" stroke=\"black\" stroke-width=\"1.000000\" stroke-linejoin=\"miter\"/>\n<text x=\"225.000000\" y=\"488.000000\" font-size=\"7.000000\" text-anchor=\"middle\">phi=pi/2</text>\n<path d=\"M 225 525 L 245 525 M 255 525 L 275 525\" fill=\"none\" stroke=\"black\" stroke-width=\"1.000000\" stroke-linejoin=\"miter\"/>\n<path d=\"M 245 540 L 255 540 L 255 510 L 245 510 L 245 540\" fill=\"lightgray\" stroke=\"black\" stroke-width=\"1.000000\" stroke-linejoin=\"miter\"/>\n<text x=\"250.000000\" y=\"550.000000\" font-size=\"7.000000\" text-anchor=\"middle\">$\\phi$=pi</text>\n<polyline points=\"125 25 275 25\" fill=\"transparent\"stroke=\"black\" stroke-width=\"1.000000\" stroke-linejoin=\"miter\" />\n<polyline points=\"125 75 275 75\" fill=\"transparent\"stroke=\"black\" stroke-width=\"1.000000\" stroke-linejoin=\"miter\" />\n<polyline points=\"175 125 275 125\" fill=\"transparent\"stroke=\"black\" stroke-width=\"1.000000\" stroke-linejoin=\"miter\" />\n<polyline points=\"225 175 275 175\" fill=\"transparent\"stroke=\"black\" stroke-width=\"1.000000\" stroke-linejoin=\"miter\" />\n<polyline points=\"175 275 275 275\" fill=\"transparent\"stroke=\"black\" stroke-width=\"1.000000\" stroke-linejoin=\"miter\" />\n<polyline points=\"125 325 275 325\" fill=\"transparent\"stroke=\"black\" stroke-width=\"1.000000\" stroke-linejoin=\"miter\" />\n<polyline points=\"125 375 275 375\" fill=\"transparent\"stroke=\"black\" stroke-width=\"1.000000\" stroke-linejoin=\"miter\" />\n<polyline points=\"175 425 275 425\" fill=\"transparent\"stroke=\"black\" stroke-width=\"1.000000\" stroke-linejoin=\"miter\" />\n<polyline points=\"225 475 275 475\" fill=\"transparent\"stroke=\"black\" stroke-width=\"1.000000\" stroke-linejoin=\"miter\" />\n<polyline points=\"175 575 275 575\" fill=\"transparent\"stroke=\"black\" stroke-width=\"1.000000\" stroke-linejoin=\"miter\" />\n<path d=\"M 275 25 L 290 25\" fill=\"none\" stroke=\"black\" stroke-width=\"1.000000\" stroke-linejoin=\"miter\"/>\n<text x=\"300.000000\" y=\"25.000000\" font-size=\"6.000000\" text-anchor=\"end\">0</text>\n<path d=\"M 275 75 L 290 75\" fill=\"none\" stroke=\"black\" stroke-width=\"1.000000\" stroke-linejoin=\"miter\"/>\n<text x=\"300.000000\" y=\"75.000000\" font-size=\"6.000000\" text-anchor=\"end\">1</text>\n<path d=\"M 275 125 L 290 125\" fill=\"none\" stroke=\"black\" stroke-width=\"1.000000\" stroke-linejoin=\"miter\"/>\n<text x=\"300.000000\" y=\"125.000000\" font-size=\"6.000000\" text-anchor=\"end\">2</text>\n<path d=\"M 275 175 L 290 175\" fill=\"none\" stroke=\"black\" stroke-width=\"1.000000\" stroke-linejoin=\"miter\"/>\n<text x=\"300.000000\" y=\"175.000000\" font-size=\"6.000000\" text-anchor=\"end\">3</text>\n<path d=\"M 275 225 L 290 225\" fill=\"none\" stroke=\"black\" stroke-width=\"1.000000\" stroke-linejoin=\"miter\"/>\n<text x=\"300.000000\" y=\"225.000000\" font-size=\"6.000000\" text-anchor=\"end\">4</text>\n<path d=\"M 275 275 L 290 275\" fill=\"none\" stroke=\"black\" stroke-width=\"1.000000\" stroke-linejoin=\"miter\"/>\n<text x=\"300.000000\" y=\"275.000000\" font-size=\"6.000000\" text-anchor=\"end\">5</text>\n<path d=\"M 275 325 L 290 325\" fill=\"none\" stroke=\"black\" stroke-width=\"1.000000\" stroke-linejoin=\"miter\"/>\n<text x=\"300.000000\" y=\"325.000000\" font-size=\"6.000000\" text-anchor=\"end\">6</text>\n<path d=\"M 275 375 L 290 375\" fill=\"none\" stroke=\"black\" stroke-width=\"1.000000\" stroke-linejoin=\"miter\"/>\n<text x=\"300.000000\" y=\"375.000000\" font-size=\"6.000000\" text-anchor=\"end\">7</text>\n<path d=\"M 275 425 L 290 425\" fill=\"none\" stroke=\"black\" stroke-width=\"1.000000\" stroke-linejoin=\"miter\"/>\n<text x=\"300.000000\" y=\"425.000000\" font-size=\"6.000000\" text-anchor=\"end\">8</text>\n<path d=\"M 275 475 L 290 475\" fill=\"none\" stroke=\"black\" stroke-width=\"1.000000\" stroke-linejoin=\"miter\"/>\n<text x=\"300.000000\" y=\"475.000000\" font-size=\"6.000000\" text-anchor=\"end\">9</text>\n<path d=\"M 275 525 L 290 525\" fill=\"none\" stroke=\"black\" stroke-width=\"1.000000\" stroke-linejoin=\"miter\"/>\n<text x=\"300.000000\" y=\"525.000000\" font-size=\"6.000000\" text-anchor=\"end\">10</text>\n<path d=\"M 275 575 L 290 575\" fill=\"none\" stroke=\"black\" stroke-width=\"1.000000\" stroke-linejoin=\"miter\"/>\n<text x=\"300.000000\" y=\"575.000000\" font-size=\"6.000000\" text-anchor=\"end\">11</text></svg>"
     },
     "metadata": {},
     "output_type": "display_data"
    }
   ],
   "source": [
    "print(\"Optical circuit for Shor's algorithm\")\n",
    "pcvl.pdisplay(circ)"
   ]
  },
  {
   "cell_type": "code",
   "execution_count": 8,
   "id": "00d193de",
   "metadata": {
    "scrolled": false,
    "pycharm": {
     "name": "#%%\n"
    }
   },
   "outputs": [
    {
     "name": "stdout",
     "output_type": "stream",
     "text": [
      "The associated matrix\n"
     ]
    },
    {
     "data": {
      "text/plain": "<IPython.core.display.HTML object>",
      "text/html": "$\\left[\\begin{array}{cccccccccccc}0.577350269189626 & 0.577350269189626 i & 0.577350269189626 i & 0 & 0 & 0 & 0 & 0 & 0 & 0 & 0 & 0\\\\0.816496580927726 i & 0.408248290463863 & 0.408248290463863 & 0 & 0 & 0 & 0 & 0 & 0 & 0 & 0 & 0\\\\0 & 0.408248290463863 & -0.408248290463863 & 0.577350269189626 i & 0.577350269189626 i & 0 & 0 & 0 & 0 & 0 & 0 & 0\\\\0 & 0.408248290463863 i & - 0.408248290463863 i & 0.577350269189626 & 0 & 0.577350269189626 i & 0 & 0 & 0 & 0 & 0 & 0\\\\0 & 0.408248290463863 i & - 0.408248290463863 i & 0 & 0.577350269189626 & - 0.577350269189626 i & 0 & 0 & 0 & 0 & 0 & 0\\\\0 & 0 & 0 & 0.577350269189626 i & - 0.577350269189626 i & 0.577350269189626 & 0 & 0 & 0 & 0 & 0 & 0\\\\0 & 0 & 0 & 0 & 0 & 0 & 0.577350269189626 & 0.577350269189626 i & 0.577350269189626 i & 0 & 0 & 0\\\\0 & 0 & 0 & 0 & 0 & 0 & 0.816496580927726 i & 0.408248290463863 & 0.408248290463863 & 0 & 0 & 0\\\\0 & 0 & 0 & 0 & 0 & 0 & 0 & 0.408248290463863 & -0.408248290463863 & 0.577350269189626 i & 0.577350269189626 i & 0\\\\0 & 0 & 0 & 0 & 0 & 0 & 0 & 0.408248290463863 i & - 0.408248290463863 i & 0.577350269189626 & 0 & 0.577350269189626 i\\\\0 & 0 & 0 & 0 & 0 & 0 & 0 & 0.408248290463863 i & - 0.408248290463863 i & 0 & 0.577350269189626 & - 0.577350269189626 i\\\\0 & 0 & 0 & 0 & 0 & 0 & 0 & 0 & 0 & 0.577350269189626 i & - 0.577350269189626 i & 0.577350269189626\\end{array}\\right]$"
     },
     "metadata": {},
     "output_type": "display_data"
    }
   ],
   "source": [
    "print(\"The associated matrix\")\n",
    "pcvl.pdisplay(circ.U)"
   ]
  },
  {
   "cell_type": "markdown",
   "id": "7bdc227b",
   "metadata": {
    "pycharm": {
     "name": "#%% md\n"
    }
   },
   "source": [
    "### Input state"
   ]
  },
  {
   "cell_type": "markdown",
   "id": "4e1ced97",
   "metadata": {
    "pycharm": {
     "name": "#%% md\n"
    }
   },
   "source": [
    "In the preliminaries we provided functions to map qubit states to the corresponding Fock states and vice-versa.\n",
    "\n",
    "A *computational basis qubit state* on qubits $x_1, f_1, x_2, f_2$ is represented with a list of 4 boolean values.\n",
    "\n",
    "A *Fock state* is represented with a list of twelve integer values.\n",
    "As described above, for Fock states, the modes are enumerated as follows:\n",
    "* mode pairs $(1,2), (3,4), (7,8), (9,10)$ respectively correspond to states $0,1$ for qubits $x_1, f_1, x_2, f_2$\n",
    "* modes $0,5,6,11$ are auxiliary modes used for CZ gates"
   ]
  },
  {
   "cell_type": "markdown",
   "id": "51d9eca7",
   "metadata": {
    "pycharm": {
     "name": "#%% md\n"
    }
   },
   "source": [
    "The input state of the circuit is $|0\\rangle_{x_1}|0\\rangle_{x_2}|0\\rangle_{f_1}|1\\rangle_{f_2}$.\n",
    "With path encoding this corresponds to sending 4 photons in total in the optical circuit, in the input modes corresponding to the inital state of each qubit."
   ]
  },
  {
   "cell_type": "code",
   "execution_count": 9,
   "id": "79f7ca45",
   "metadata": {
    "scrolled": false,
    "pycharm": {
     "name": "#%%\n"
    }
   },
   "outputs": [
    {
     "name": "stdout",
     "output_type": "stream",
     "text": [
      "Input qubit state: |0,0,0,1>\n",
      "Corresponding input Fock state: |0,1,0,1,0,0,0,1,0,0,1,0>\n"
     ]
    }
   ],
   "source": [
    "qubit_istate = [0,0,0,1]\n",
    "istate = toFockState(qubit_istate)\n",
    "\n",
    "print(\"Input qubit state:\", strState(qubit_istate))\n",
    "print(\"Corresponding input Fock state:\", strState(istate))"
   ]
  },
  {
   "cell_type": "markdown",
   "id": "d3f88c02",
   "metadata": {
    "pycharm": {
     "name": "#%% md\n"
    }
   },
   "source": [
    "## Simulation"
   ]
  },
  {
   "cell_type": "code",
   "execution_count": 10,
   "id": "ca10ff5e",
   "metadata": {
    "pycharm": {
     "name": "#%%\n"
    }
   },
   "outputs": [],
   "source": [
    "backend = pcvl.BackendFactory().get_backend(\"Naive\")\n",
    "simulator = backend(circ)"
   ]
  },
  {
   "cell_type": "markdown",
   "id": "e81a4f44",
   "metadata": {
    "pycharm": {
     "name": "#%% md\n"
    }
   },
   "source": [
    "### Computing the output state"
   ]
  },
  {
   "cell_type": "markdown",
   "id": "c4e62d76",
   "metadata": {
    "pycharm": {
     "name": "#%% md\n"
    }
   },
   "source": [
    "Using perceval we compute the output state obtained with the optical circuit."
   ]
  },
  {
   "cell_type": "markdown",
   "id": "2f3e6f17",
   "metadata": {
    "pycharm": {
     "name": "#%% md\n"
    }
   },
   "source": [
    "#### Amplitudes\n",
    "\n",
    "We first decompose the output state in the computational basis and plot the corresponding amplitudes."
   ]
  },
  {
   "cell_type": "code",
   "execution_count": 11,
   "id": "0cd16853",
   "metadata": {
    "scrolled": true,
    "pycharm": {
     "name": "#%%\n"
    }
   },
   "outputs": [
    {
     "name": "stdout",
     "output_type": "stream",
     "text": [
      "Output state amplitudes: (post-selected on qubit states, not renormalized)\n",
      "|x1,x2,f1,f2>\n",
      "|0,0,0,0> 1.925929944387236e-34j\n",
      "|0,0,0,1> -7.703719777548943e-34j\n",
      "|0,0,1,0> -3.851859888774472e-34j\n",
      "|0,0,1,1> 3.851859888774472e-34j\n",
      "|0,1,0,0> (-1.734723475976807e-18+6.938893903907228e-18j)\n",
      "|0,1,0,1> (-1.734723475976807e-18+7.806255641895632e-18j)\n",
      "|0,1,1,0> (-1.734723475976807e-18+1.734723475976807e-18j)\n",
      "|0,1,1,1> (-1.734723475976807e-18+3.469446951953614e-18j)\n",
      "|1,0,0,0> (-1.734723475976807e-18+4.336808689942018e-18j)\n",
      "|1,0,0,1> (-1.734723475976807e-18-1.734723475976807e-18j)\n",
      "|1,0,1,0> (-1.734723475976807e-18+4.336808689942018e-18j)\n",
      "|1,0,1,1> (-1.734723475976807e-18+0j)\n",
      "|1,1,0,0> (-0.05555555555555561+4.5102810375396984e-17j)\n",
      "|1,1,0,1> (-0.0555555555555556+4.5102810375396984e-17j)\n",
      "|1,1,1,0> (-0.05555555555555559+4.5102810375396984e-17j)\n",
      "|1,1,1,1> (-0.055555555555555594+5.0306980803327406e-17j)\n"
     ]
    }
   ],
   "source": [
    "output_qubit_states = [\n",
    "    [x1,x2,f1,f2]\n",
    "    for x1 in [0,1] for x2 in [0,1] for f1 in [0,1] for f2 in [0,1]\n",
    "]\n",
    "\n",
    "print(\"Output state amplitudes: (post-selected on qubit states, not renormalized)\")\n",
    "print(\"|x1,x2,f1,f2>\")\n",
    "for oqstate in output_qubit_states:\n",
    "    ostate = toFockState(oqstate)\n",
    "    a = simulator.probampli(pcvl.BasicState(pcvl.BasicState(istate)), pcvl.BasicState(ostate))\n",
    "    print(strState(oqstate), a)"
   ]
  },
  {
   "cell_type": "markdown",
   "id": "43e94f97",
   "metadata": {
    "pycharm": {
     "name": "#%% md\n"
    }
   },
   "source": [
    "The amplitudes obtained with perceval correspond to the expected output state\n",
    "$$\\frac{1}{2} \\left ( |0\\rangle_{x_1}|0\\rangle_{f_1} + |1\\rangle_{x_1}|1\\rangle_{f_1} \\right ) \\otimes \\left ( |0\\rangle_{x_2}|1\\rangle_{f_2} + |1\\rangle_{x_2}|0\\rangle_{f_2} \\right )$$\n",
    "up to numerical precision, without renormalization."
   ]
  },
  {
   "cell_type": "markdown",
   "id": "300664ac",
   "metadata": {
    "pycharm": {
     "name": "#%% md\n"
    }
   },
   "source": [
    "#### Distribution\n",
    "\n",
    "We now compute the probabilities to obtain each outcome corresponding to measuring the expected output state in the computational basis."
   ]
  },
  {
   "cell_type": "code",
   "execution_count": 12,
   "id": "2277ec12",
   "metadata": {
    "scrolled": false,
    "pycharm": {
     "name": "#%%\n"
    }
   },
   "outputs": [
    {
     "name": "stdout",
     "output_type": "stream",
     "text": [
      "Output state distribution: (post-selected on expected qubit states, not renormalized)\n",
      "|x1,x2,f1,f2>\n"
     ]
    },
    {
     "data": {
      "text/plain": "<IPython.core.display.HTML object>",
      "text/html": "<table>\n<thead>\n<tr><th>         </th><th style=\"text-align: right;\">  |0,0,0,1&gt;</th><th style=\"text-align: right;\">  |0,1,0,0&gt;</th><th style=\"text-align: right;\">  |1,0,1,1&gt;</th><th style=\"text-align: right;\">  |1,1,1,0&gt;</th></tr>\n</thead>\n<tbody>\n<tr><td>|0,0,0,1&gt;</td><td style=\"text-align: right;\">          0</td><td style=\"text-align: right;\">          0</td><td style=\"text-align: right;\">          0</td><td style=\"text-align: right;\">   0.003086</td></tr>\n</tbody>\n</table>"
     },
     "metadata": {},
     "output_type": "display_data"
    }
   ],
   "source": [
    "input_states = {\n",
    "    pcvl.BasicState(pcvl.BasicState(istate)): strState(qubit_istate)\n",
    "}\n",
    "\n",
    "expected_output_states = {\n",
    "    pcvl.BasicState(toFockState([x1,x2,x1,1-x2])): strState([x1,x2,x1,1-x2])\n",
    "    for x1 in [0,1] for x2 in [0,1]\n",
    "}\n",
    "\n",
    "ca = pcvl.CircuitAnalyser(simulator, input_states, expected_output_states)\n",
    "ca.compute()\n",
    "\n",
    "print(\"Output state distribution: (post-selected on expected qubit states, not renormalized)\")\n",
    "print(\"|x1,x2,f1,f2>\")\n",
    "pcvl.pdisplay(ca)"
   ]
  },
  {
   "cell_type": "markdown",
   "id": "5e464e2c",
   "metadata": {
    "pycharm": {
     "name": "#%% md\n"
    }
   },
   "source": [
    "The distribution computed with Perceval is uniform over each outcome, which corresponds to the expected distribution obtained in the paper when $x_0 = 0$."
   ]
  },
  {
   "cell_type": "markdown",
   "source": [
    "### Interpretation of the outcomes\n",
    "\n",
    "For each outcome we consider the values of qubits $x_2, x_1, x_0$ (where $x_0$ is 0) which represent a binary number between 0 and 7, here corresponding to 0, 4, 2 and 6 in the order of the table above.\n",
    "After sampling the circuit, obtainig outcomes 2 or 6 allows to successfully compute the order $r=4$.\n",
    "Obtaining outcome 0 is an expected failure of the quantum circuit, inherent to Shor's algorithm.\n",
    "Outcome 4 is an expected failure as well, as it only allows to compute the trivial factors 1 and 15.\n",
    "\n",
    "Since the distribution is uniform the circuit successfully yields a successful outcome with probability 1/2. This probability can be amplified exponentially close to $1$ by sampling the circuit multiple times."
   ],
   "metadata": {
    "collapsed": false,
    "pycharm": {
     "name": "#%% md\n"
    }
   }
  }
 ],
 "metadata": {
  "kernelspec": {
   "display_name": "Python 3 (ipykernel)",
   "language": "python",
   "name": "python3"
  },
  "language_info": {
   "codemirror_mode": {
    "name": "ipython",
    "version": 3
   },
   "file_extension": ".py",
   "mimetype": "text/x-python",
   "name": "python",
   "nbconvert_exporter": "python",
   "pygments_lexer": "ipython3",
   "version": "3.9.7"
  }
 },
 "nbformat": 4,
 "nbformat_minor": 5
}