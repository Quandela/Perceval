{
 "cells": [
  {
   "cell_type": "markdown",
   "id": "c2f4fd6c",
   "metadata": {
    "pycharm": {
     "name": "#%% md\n"
    }
   },
   "source": [
    "# Implementing Shor's algorithm in Perceval"
   ]
  },
  {
   "cell_type": "markdown",
   "id": "5162c9b8",
   "metadata": {
    "pycharm": {
     "name": "#%% md\n"
    }
   },
   "source": [
    "This notebook presents a simulation in Perceval of a 4-qubit 12-modes optical circuit performing Shor's algorithm, based on Alberto Politi, Jonathan C.F. Matthews, and Jeremy L. O'brien. \"Shor’s quantum factoring algorithm on a photonic chip.\" Science 325.5945 (2009): 1221-1221. https://www.science.org/doi/10.1126/science.1173731"
   ]
  },
  {
   "cell_type": "markdown",
   "id": "f29e5abf",
   "metadata": {
    "pycharm": {
     "name": "#%% md\n"
    }
   },
   "source": [
    "## Shor's algorithm"
   ]
  },
  {
   "cell_type": "markdown",
   "id": "5dd3a2a5",
   "metadata": {
    "pycharm": {
     "name": "#%% md\n"
    }
   },
   "source": [
    "The purpose of Shor's algorithm is to find nontrivial factors of a given number $N$ in polynomial time, yielding an near-exponential speedup compared to state of the art classical algortihms.\n",
    "\n",
    "The main routine of Shor's algorithm consists in finding the order $r$ of a number $a \\in \\mathbb{Z}_N$, i.e. the smallest integer $r$ such that $a^r = 1 \\pmod N$.\n",
    "\n",
    "If the order of a randoly chosen $a$ which is coprime with $N$ is even, then $(a^{r/2} - 1)(a^{r/2} + 1) = k N$. If none of these factors are multiples of $N$, then $\\gcd(N, a^{r/2} - 1)$ and $\\gcd(N, a^{r/2} + 1)$ are nontrivial factors of $N$."
   ]
  },
  {
   "cell_type": "markdown",
   "id": "ff756302",
   "metadata": {
    "pycharm": {
     "name": "#%% md\n"
    }
   },
   "source": [
    "## Preliminaries"
   ]
  },
  {
   "cell_type": "code",
   "execution_count": 1,
   "id": "8b013239",
   "metadata": {
    "pycharm": {
     "name": "#%%\n"
    }
   },
   "outputs": [
    {
     "name": "stdout",
     "output_type": "stream",
     "text": [
      "Python version: 3.10.4 (tags/v3.10.4:9d38120, Mar 23 2022, 23:13:41) [MSC v.1929 64 bit (AMD64)]\n"
     ]
    }
   ],
   "source": [
    "import sys\n",
    "print(\"Python version:\", sys.version)"
   ]
  },
  {
   "cell_type": "code",
   "execution_count": 2,
   "id": "55fe7a18",
   "metadata": {
    "pycharm": {
     "name": "#%%\n"
    },
    "scrolled": true
   },
   "outputs": [
    {
     "name": "stdout",
     "output_type": "stream",
     "text": [
      "Perceval version: 0.4.2.post6+2022.5.24\n"
     ]
    }
   ],
   "source": [
    "from IPython import display\n",
    "from collections import Counter\n",
    "from tabulate import tabulate\n",
    "from tqdm.auto import tqdm\n",
    "\n",
    "import sympy as sp\n",
    "import numpy as np\n",
    "from scipy.optimize import minimize\n",
    "\n",
    "import perceval as pcvl\n",
    "import quandelibc as qc\n",
    "import perceval.lib.phys as phys\n",
    "import perceval.lib.symb as symb\n",
    "\n",
    "print(\"Perceval version:\", pcvl.__version__)"
   ]
  },
  {
   "cell_type": "markdown",
   "id": "826377de",
   "metadata": {
    "pycharm": {
     "name": "#%% md\n"
    }
   },
   "source": [
    "### Path encoding functions\n",
    "\n",
    "The following functions allow for conversion between the qubit and Fock state representations."
   ]
  },
  {
   "cell_type": "code",
   "execution_count": 3,
   "id": "cd2bbda8",
   "metadata": {
    "pycharm": {
     "name": "#%%\n"
    }
   },
   "outputs": [],
   "source": [
    "def toFockState(qubitState):\n",
    "    # path encoding\n",
    "    pe = {0:[1,0],  1:[0,1]}\n",
    "    return [0] + pe[qubitState[0]] + pe[qubitState[2]] + [0, 0] + pe[qubitState[1]] + pe[qubitState[3]] + [0]"
   ]
  },
  {
   "cell_type": "code",
   "execution_count": 4,
   "id": "55ee4ce8",
   "metadata": {
    "pycharm": {
     "name": "#%%\n"
    }
   },
   "outputs": [],
   "source": [
    "def toQubitState(fockState):\n",
    "    # qubit modes\n",
    "    x1 = [1, 2]\n",
    "    f1 = [3, 4]\n",
    "    x2 = [7, 8]\n",
    "    f2 = [9, 10]\n",
    "    # auxiliary modes\n",
    "    am1 = [0, 5]\n",
    "    am2 = [6, 11]\n",
    "    \n",
    "    # auxiliary modes\n",
    "    for i in am1 + am2:\n",
    "        if fockState[i]!=0:\n",
    "            return None\n",
    "    L=[]\n",
    "    # qubit modes\n",
    "    for q in [x1, x2, f1, f2]:\n",
    "        if fockState[q[0]]+fockState[q[1]] != 1:\n",
    "            return None\n",
    "        else:\n",
    "            L.append(fockState[q[1]])\n",
    "    return L"
   ]
  },
  {
   "cell_type": "code",
   "execution_count": 5,
   "id": "39b1c269",
   "metadata": {
    "pycharm": {
     "name": "#%%\n"
    }
   },
   "outputs": [],
   "source": [
    "def strState(state):\n",
    "    return str(pcvl.BasicState(state))"
   ]
  },
  {
   "cell_type": "markdown",
   "id": "016e2534",
   "metadata": {
    "pycharm": {
     "name": "#%% md\n"
    }
   },
   "source": [
    "## The circuit"
   ]
  },
  {
   "cell_type": "markdown",
   "id": "01c60397",
   "metadata": {
    "pycharm": {
     "name": "#%% md\n"
    }
   },
   "source": [
    "### Quantum circuit\n",
    "\n",
    "The quantum circuit has been optimized after choosing parameters $N = 15$ and $a = 2$, and aims to calculate $r=4$.\n",
    "It features 5 qubits labelled $x_0, x_1, x_2$ and $f_1, f_2$. Qubits $x_i$ and $f_1$ are initially in state $|0\\rangle$, and $f_2$ in state $|1\\rangle$.\n",
    "In the non-optimised Shor algorithm, qubits $x_i$ encode a binary number representing a pre-image of the Modular Exponentiation Function (MEF) $x \\mapsto a^x \\pmod N$, while qubits $f_i$ hold the image obtained after applying the MEF to qubits $x_i$. Applying the MEF when qubits $x_i$ hold a superposition of different pre-images (obtained with H gates on qubits $x_i$) allows to efficiently compute the order $r$ of parameter $a$ modulo $N$.\n",
    "\n",
    "The circuit consists of $\\mathsf{H}$ gates being first applied to each $x_i$ qubit, followed by $\\mathsf{CNOT}$ gates applied on $x_1, f_1$ and $x_2, f_2$ pairs, where $x_i$ are control qubits; finally the inverse $\\mathsf{QFT}$ algorithm is applied on qubits $x_i$.\n",
    "\n",
    "$\\mathsf{CNOT}$ gates on $x_i, f_i$ pairs ($x_i$ being the control) are implemented using $\\mathsf{H}$ and $\\mathsf{CZ}$ gates: the $\\mathsf{CZ}$ gate is sandwiched between two applications of $\\mathsf{H}$ on $f_i$.\n",
    "\n",
    "The input state of the circuit after optimisation is $|0\\rangle_{x_0}|0\\rangle_{x_1}|0\\rangle_{x_2}|0\\rangle_{f_1}|1\\rangle_{f_2}$.\n",
    "\n",
    "The expected output state is then $\\frac{1}{2} |0\\rangle_{x_0} \\otimes \\left ( |0\\rangle_{x_1}|0\\rangle_{f_1} + |1\\rangle_{x_1}|1\\rangle_{f_1} \\right ) \\otimes \\left ( |0\\rangle_{x_2}|1\\rangle_{f_2} + |1\\rangle_{x_2}|0\\rangle_{f_2} \\right )$."
   ]
  },
  {
   "cell_type": "markdown",
   "id": "b7b25cf5",
   "metadata": {
    "pycharm": {
     "name": "#%% md\n"
    }
   },
   "source": [
    "### Photonic circuit\n",
    "\n",
    "The optical circuit from the result by Politi et al features twelve modes (ordered from 0 to 11 from top to bottom).\n",
    "\n",
    "During the execution, qubit $x_0$ remains unentangled from the other qubits. It can therefore be removed from the optical implementation.\n",
    "\n",
    "The qubits $x_1, x_2, f_1, f_2$ are path encoded as modes $(1, 2)$, $(3, 4)$, $(7, 8)$, $(9, 10)$ respectively. The four remaining modes are used as auxiliary modes to implement the $\\mathsf{CZ}$ gates.\n",
    "\n",
    "With path encoding each $\\mathsf{H}$ gate in the quantum circuit is implemented with a beam splitter with reflectivity $R=1/2$ between the two pathes corresponding to the qubit. In our implementation in Perceval, phase shifters are added to properly tune the phase between each path.\n",
    "\n",
    "$\\mathsf{CZ}$ gates are implemented with three beam splitters with reflectivity $R=2/3$ acting on six modes: one inner BS creates interference between the two qubits, and two outer BS balance detection probability using auxiliary modes.\n",
    "This optical implementation succesfully yields the output state produced by a $\\mathsf{CZ}$ gate with probability 1/9; otherwise it creates a dummy state, which can be removed by post-selection.\n",
    "\n",
    "In the case $r=4$ the QFT can be performed classically and doesn't need to be implemented in the photonic circuit."
   ]
  },
  {
   "cell_type": "markdown",
   "id": "3acb2273",
   "metadata": {
    "pycharm": {
     "name": "#%% md\n"
    }
   },
   "source": [
    "## In perceval"
   ]
  },
  {
   "cell_type": "markdown",
   "id": "7aa60c25",
   "metadata": {
    "pycharm": {
     "name": "#%% md\n"
    }
   },
   "source": [
    "### Implementing the circuit"
   ]
  },
  {
   "cell_type": "code",
   "execution_count": 6,
   "id": "2fe3a053",
   "metadata": {
    "pycharm": {
     "name": "#%%\n"
    }
   },
   "outputs": [],
   "source": [
    "circ = pcvl.Circuit(12)\n",
    "\n",
    "# qubit modes\n",
    "# for qubit states 0, 1\n",
    "x1 = [1, 2]\n",
    "f1 = [3, 4]\n",
    "x2 = [7, 8]\n",
    "f2 = [9, 10]\n",
    "# auxiliary modes\n",
    "am1 = [0, 5]\n",
    "am2 = [6, 11]\n",
    "\n",
    "\n",
    "# H gates\n",
    "for q in [x1, f1, x2, f2]:\n",
    "    circ.add(q, symb.BS(R=1/2, phi=sp.pi/2))\n",
    "    circ.add(q[1], symb.PS(phi=sp.pi))\n",
    "\n",
    "# CZ gates\n",
    "for x, f, am in [(x1, f1, am1), (x2, f2, am2)]:\n",
    "    circ.add((am[0], x[0]), symb.BS(R=1/3)) # T = 1/3\n",
    "    circ.add((x[1],  f[0]), symb.BS(R=1/3))\n",
    "    circ.add((f[1], am[1]), symb.BS(R=1/3))\n",
    "\n",
    "# H gates\n",
    "for q in [f1, f2]:\n",
    "    circ.add(q, symb.BS(R=1/2, phi=sp.pi/2))\n",
    "    circ.add(q[1], symb.PS(phi=sp.pi))"
   ]
  },
  {
   "cell_type": "code",
   "execution_count": 7,
   "id": "034d5e45",
   "metadata": {
    "pycharm": {
     "name": "#%%\n"
    },
    "scrolled": true
   },
   "outputs": [
    {
     "name": "stdout",
     "output_type": "stream",
     "text": [
      "Optical circuit for Shor's algorithm\n"
     ]
    },
    {
     "data": {
      "image/svg+xml": [
       "<?xml version=\"1.0\" encoding=\"UTF-8\"?>\n",
       "<svg xmlns=\"http://www.w3.org/2000/svg\" xmlns:xlink=\"http://www.w3.org/1999/xlink\"\n",
       "     width=\"456.0\" height=\"650\" viewBox=\"-6.0 0 456.0 650\">\n",
       "<defs>\n",
       "</defs>\n",
       "<path d=\"M10,25 L25,25\" stroke-width=\"1\" stroke=\"black\" stroke-linejoin=\"miter\" fill=\"none\" />\n",
       "<text x=\"0\" y=\"25\" font-size=\"6\" text-anchor=\"start\" dy=\"0em\">0</text>\n",
       "<path d=\"M10,75 L25,75\" stroke-width=\"1\" stroke=\"black\" stroke-linejoin=\"miter\" fill=\"none\" />\n",
       "<text x=\"0\" y=\"75\" font-size=\"6\" text-anchor=\"start\" dy=\"0em\">1</text>\n",
       "<path d=\"M10,125 L25,125\" stroke-width=\"1\" stroke=\"black\" stroke-linejoin=\"miter\" fill=\"none\" />\n",
       "<text x=\"0\" y=\"125\" font-size=\"6\" text-anchor=\"start\" dy=\"0em\">2</text>\n",
       "<path d=\"M10,175 L25,175\" stroke-width=\"1\" stroke=\"black\" stroke-linejoin=\"miter\" fill=\"none\" />\n",
       "<text x=\"0\" y=\"175\" font-size=\"6\" text-anchor=\"start\" dy=\"0em\">3</text>\n",
       "<path d=\"M10,225 L25,225\" stroke-width=\"1\" stroke=\"black\" stroke-linejoin=\"miter\" fill=\"none\" />\n",
       "<text x=\"0\" y=\"225\" font-size=\"6\" text-anchor=\"start\" dy=\"0em\">4</text>\n",
       "<path d=\"M10,275 L25,275\" stroke-width=\"1\" stroke=\"black\" stroke-linejoin=\"miter\" fill=\"none\" />\n",
       "<text x=\"0\" y=\"275\" font-size=\"6\" text-anchor=\"start\" dy=\"0em\">5</text>\n",
       "<path d=\"M10,325 L25,325\" stroke-width=\"1\" stroke=\"black\" stroke-linejoin=\"miter\" fill=\"none\" />\n",
       "<text x=\"0\" y=\"325\" font-size=\"6\" text-anchor=\"start\" dy=\"0em\">6</text>\n",
       "<path d=\"M10,375 L25,375\" stroke-width=\"1\" stroke=\"black\" stroke-linejoin=\"miter\" fill=\"none\" />\n",
       "<text x=\"0\" y=\"375\" font-size=\"6\" text-anchor=\"start\" dy=\"0em\">7</text>\n",
       "<path d=\"M10,425 L25,425\" stroke-width=\"1\" stroke=\"black\" stroke-linejoin=\"miter\" fill=\"none\" />\n",
       "<text x=\"0\" y=\"425\" font-size=\"6\" text-anchor=\"start\" dy=\"0em\">8</text>\n",
       "<path d=\"M10,475 L25,475\" stroke-width=\"1\" stroke=\"black\" stroke-linejoin=\"miter\" fill=\"none\" />\n",
       "<text x=\"0\" y=\"475\" font-size=\"6\" text-anchor=\"start\" dy=\"0em\">9</text>\n",
       "<path d=\"M10,525 L25,525\" stroke-width=\"1\" stroke=\"black\" stroke-linejoin=\"miter\" fill=\"none\" />\n",
       "<text x=\"0\" y=\"525\" font-size=\"6\" text-anchor=\"start\" dy=\"0em\">10</text>\n",
       "<path d=\"M10,575 L25,575\" stroke-width=\"1\" stroke=\"black\" stroke-linejoin=\"miter\" fill=\"none\" />\n",
       "<text x=\"0\" y=\"575\" font-size=\"6\" text-anchor=\"start\" dy=\"0em\">11</text>\n",
       "<path d=\"M37.9442,75.0002 C51.653800000000004,75.0002,51.5923,100.0,65.3019,100.0 M65.3038,100.0 C51.59219999999999,100.0,51.6538,124.9998,37.94409999999999,124.9998 M65.3038,100.0 L87.1884,100.0 M87.1884,100.0 C100.9,100.0,100.83840000000001,75.0002,114.5481,75.0002 M87.1884,100.0 C100.9,100.0,100.83840000000001,124.9998,114.5481,124.9998 M25.0,75.0 L38.0,75.0 M38.0019,124.9998 L25.0,124.9998 M112.6453,124.9998 L125.0,124.9998 M112.1944,74.9998 L125.0,74.9998\" stroke-width=\"1\" stroke=\"black\" stroke-linejoin=\"miter\" fill=\"none\" />\n",
       "<text x=\"75\" y=\"88\" font-size=\"7\" text-anchor=\"middle\" dy=\"0em\">phi=pi/2</text>\n",
       "<path d=\"M125,125 L145,125 M155,125 L175,125\" stroke-width=\"1\" stroke=\"black\" stroke-linejoin=\"miter\" fill=\"none\" />\n",
       "<path d=\"M145,140 L155,140 L155,110 L145,110 L145,140\" stroke-width=\"1\" stroke=\"black\" stroke-linejoin=\"miter\" fill=\"lightgray\" />\n",
       "<text x=\"150\" y=\"150\" font-size=\"7\" text-anchor=\"middle\" dy=\"0em\">$\\phi$=pi</text>\n",
       "<path d=\"M37.9442,175.0002 C51.653800000000004,175.0002,51.5923,200.0,65.3019,200.0 M65.3038,200.0 C51.59219999999999,200.0,51.6538,224.9998,37.94409999999999,224.9998 M65.3038,200.0 L87.1884,200.0 M87.1884,200.0 C100.9,200.0,100.83840000000001,175.0002,114.5481,175.0002 M87.1884,200.0 C100.9,200.0,100.83840000000001,224.9998,114.5481,224.9998 M25.0,175.0 L38.0,175.0 M38.0019,224.9998 L25.0,224.9998 M112.6453,224.9998 L125.0,224.9998 M112.1944,174.9998 L125.0,174.9998\" stroke-width=\"1\" stroke=\"black\" stroke-linejoin=\"miter\" fill=\"none\" />\n",
       "<text x=\"75\" y=\"188\" font-size=\"7\" text-anchor=\"middle\" dy=\"0em\">phi=pi/2</text>\n",
       "<path d=\"M125,225 L145,225 M155,225 L175,225\" stroke-width=\"1\" stroke=\"black\" stroke-linejoin=\"miter\" fill=\"none\" />\n",
       "<path d=\"M145,240 L155,240 L155,210 L145,210 L145,240\" stroke-width=\"1\" stroke=\"black\" stroke-linejoin=\"miter\" fill=\"lightgray\" />\n",
       "<text x=\"150\" y=\"250\" font-size=\"7\" text-anchor=\"middle\" dy=\"0em\">$\\phi$=pi</text>\n",
       "<path d=\"M37.9442,375.0002 C51.653800000000004,375.0002,51.5923,400.0,65.3019,400.0 M65.3038,400.0 C51.59219999999999,400.0,51.6538,424.9998,37.94409999999999,424.9998 M65.3038,400.0 L87.1884,400.0 M87.1884,400.0 C100.9,400.0,100.83840000000001,375.0002,114.5481,375.0002 M87.1884,400.0 C100.9,400.0,100.83840000000001,424.9998,114.5481,424.9998 M25.0,375.0 L38.0,375.0 M38.0019,424.9998 L25.0,424.9998 M112.6453,424.9998 L125.0,424.9998 M112.1944,374.9998 L125.0,374.9998\" stroke-width=\"1\" stroke=\"black\" stroke-linejoin=\"miter\" fill=\"none\" />\n",
       "<text x=\"75\" y=\"388\" font-size=\"7\" text-anchor=\"middle\" dy=\"0em\">phi=pi/2</text>\n",
       "<path d=\"M125,425 L145,425 M155,425 L175,425\" stroke-width=\"1\" stroke=\"black\" stroke-linejoin=\"miter\" fill=\"none\" />\n",
       "<path d=\"M145,440 L155,440 L155,410 L145,410 L145,440\" stroke-width=\"1\" stroke=\"black\" stroke-linejoin=\"miter\" fill=\"lightgray\" />\n",
       "<text x=\"150\" y=\"450\" font-size=\"7\" text-anchor=\"middle\" dy=\"0em\">$\\phi$=pi</text>\n",
       "<path d=\"M37.9442,475.0002 C51.653800000000004,475.0002,51.5923,500.0,65.3019,500.0 M65.3038,500.0 C51.59219999999999,500.0,51.6538,524.9998,37.94409999999999,524.9998 M65.3038,500.00000000000006 L87.1884,500.00000000000006 M87.1884,500.00000000000006 C100.9,500.00000000000006,100.83840000000001,475.00020000000006,114.5481,475.00020000000006 M87.1884,500.00000000000006 C100.9,500.00000000000006,100.83840000000001,524.9998,114.5481,524.9998 M25.0,475.00000000000006 L38.0,475.00000000000006 M38.0019,524.9998 L25.0,524.9998 M112.6453,524.9998 L125.0,524.9998 M112.1944,474.99980000000005 L125.0,474.99980000000005\" stroke-width=\"1\" stroke=\"black\" stroke-linejoin=\"miter\" fill=\"none\" />\n",
       "<text x=\"75\" y=\"488\" font-size=\"7\" text-anchor=\"middle\" dy=\"0em\">phi=pi/2</text>\n",
       "<path d=\"M125,525 L145,525 M155,525 L175,525\" stroke-width=\"1\" stroke=\"black\" stroke-linejoin=\"miter\" fill=\"none\" />\n",
       "<path d=\"M145,540 L155,540 L155,510 L145,510 L145,540\" stroke-width=\"1\" stroke=\"black\" stroke-linejoin=\"miter\" fill=\"lightgray\" />\n",
       "<text x=\"150\" y=\"550\" font-size=\"7\" text-anchor=\"middle\" dy=\"0em\">$\\phi$=pi</text>\n",
       "<path d=\"M25,25 L125,25\" stroke=\"black\" stroke-width=\"1\" fill=\"none\" />\n",
       "<path d=\"M137.9442,25.0002 C151.6538,25.0002,151.5923,50.0,165.3019,50.0 M165.3038,50.0 C151.5922,50.0,151.6538,74.9998,137.9441,74.9998 M165.3038,49.99999999999999 L187.1884,49.99999999999999 M187.1884,49.99999999999999 C200.9,49.99999999999999,200.8384,25.000199999999992,214.5481,25.000199999999992 M187.1884,49.99999999999999 C200.9,49.99999999999999,200.8384,74.9998,214.5481,74.9998 M125.0,24.999999999999993 L138.0,24.999999999999993 M138.0019,74.9998 L125.0,74.9998 M212.64530000000002,74.9998 L225.0,74.9998 M212.1944,24.999799999999993 L225.0,24.999799999999993\" stroke-width=\"1\" stroke=\"black\" stroke-linejoin=\"miter\" fill=\"none\" />\n",
       "<text x=\"175\" y=\"38\" font-size=\"7\" text-anchor=\"middle\" dy=\"0em\">R=1/3</text>\n",
       "<path d=\"M125,175 L175,175\" stroke=\"black\" stroke-width=\"1\" fill=\"none\" />\n",
       "<path d=\"M187.9442,125.0002 C201.6538,125.0002,201.5923,150.0,215.3019,150.0 M215.3038,150.0 C201.5922,150.0,201.6538,174.9998,187.9441,174.9998 M215.3038,150.0 L237.1884,150.0 M237.1884,150.0 C250.9,150.0,250.8384,125.0002,264.5481,125.0002 M237.18839999999997,150.0 C250.89999999999998,150.0,250.83839999999998,174.9998,264.5481,174.9998 M174.99999999999997,125.0 L187.99999999999997,125.0 M188.00189999999998,174.9998 L174.99999999999997,174.9998 M262.64529999999996,174.9998 L274.99999999999994,174.9998 M262.1944,124.9998 L275.0,124.9998\" stroke-width=\"1\" stroke=\"black\" stroke-linejoin=\"miter\" fill=\"none\" />\n",
       "<text x=\"225\" y=\"138\" font-size=\"7\" text-anchor=\"middle\" dy=\"0em\">R=1/3</text>\n",
       "<path d=\"M25,275 L175,275\" stroke=\"black\" stroke-width=\"1\" fill=\"none\" />\n",
       "<path d=\"M187.9442,225.0002 C201.6538,225.0002,201.5923,250.0,215.3019,250.0 M215.3038,250.0 C201.5922,250.0,201.6538,274.9998,187.9441,274.9998 M215.3038,250.0 L237.1884,250.0 M237.1884,250.0 C250.9,250.0,250.8384,225.0002,264.5481,225.0002 M237.18839999999997,250.0 C250.89999999999998,250.0,250.83839999999998,274.9998,264.5481,274.9998 M174.99999999999997,225.0 L187.99999999999997,225.0 M188.00189999999998,274.9998 L174.99999999999997,274.9998 M262.64529999999996,274.9998 L274.99999999999994,274.9998 M262.1944,224.9998 L275.0,224.9998\" stroke-width=\"1\" stroke=\"black\" stroke-linejoin=\"miter\" fill=\"none\" />\n",
       "<text x=\"225\" y=\"238\" font-size=\"7\" text-anchor=\"middle\" dy=\"0em\">R=1/3</text>\n",
       "<path d=\"M25,325 L125,325\" stroke=\"black\" stroke-width=\"1\" fill=\"none\" />\n",
       "<path d=\"M137.9442,325.0002 C151.6538,325.0002,151.5923,350.0,165.3019,350.0 M165.3038,350.0 C151.5922,350.0,151.6538,374.9998,137.9441,374.9998 M165.3038,350.0 L187.1884,350.0 M187.1884,350.0 C200.9,350.0,200.8384,325.0002,214.5481,325.0002 M187.1884,350.0 C200.9,350.0,200.8384,374.9998,214.5481,374.9998 M125.0,325.0 L138.0,325.0 M138.0019,374.9998 L125.0,374.9998 M212.64530000000002,374.9998 L225.0,374.9998 M212.1944,324.9998 L225.0,324.9998\" stroke-width=\"1\" stroke=\"black\" stroke-linejoin=\"miter\" fill=\"none\" />\n",
       "<text x=\"175\" y=\"338\" font-size=\"7\" text-anchor=\"middle\" dy=\"0em\">R=1/3</text>\n",
       "<path d=\"M125,475 L175,475\" stroke=\"black\" stroke-width=\"1\" fill=\"none\" />\n",
       "<path d=\"M187.9442,425.0002 C201.6538,425.0002,201.5923,450.0,215.3019,450.0 M215.3038,450.0 C201.5922,450.0,201.6538,474.9998,187.9441,474.9998 M215.3038,450.0 L237.1884,450.0 M237.1884,450.0 C250.9,450.0,250.8384,425.0002,264.5481,425.0002 M237.18839999999997,450.0 C250.89999999999998,450.0,250.83839999999998,474.9998,264.5481,474.9998 M174.99999999999997,425.0 L187.99999999999997,425.0 M188.00189999999998,474.9998 L174.99999999999997,474.9998 M262.64529999999996,474.9998 L274.99999999999994,474.9998 M262.1944,424.9998 L275.0,424.9998\" stroke-width=\"1\" stroke=\"black\" stroke-linejoin=\"miter\" fill=\"none\" />\n",
       "<text x=\"225\" y=\"438\" font-size=\"7\" text-anchor=\"middle\" dy=\"0em\">R=1/3</text>\n",
       "<path d=\"M25,575 L175,575\" stroke=\"black\" stroke-width=\"1\" fill=\"none\" />\n",
       "<path d=\"M187.9442,525.0002 C201.6538,525.0002,201.5923,550.0,215.3019,550.0 M215.3038,550.0 C201.5922,550.0,201.6538,574.9998,187.9441,574.9998 M215.3038,550.0 L237.1884,550.0 M237.1884,550.0 C250.9,550.0,250.8384,525.0002,264.5481,525.0002 M237.18839999999997,550.0 C250.89999999999998,550.0,250.83839999999998,574.9998,264.5481,574.9998 M174.99999999999997,525.0 L187.99999999999997,525.0 M188.00189999999998,574.9998 L174.99999999999997,574.9998 M262.64529999999996,574.9998 L274.99999999999994,574.9998 M262.1944,524.9998 L275.0,524.9998\" stroke-width=\"1\" stroke=\"black\" stroke-linejoin=\"miter\" fill=\"none\" />\n",
       "<text x=\"225\" y=\"538\" font-size=\"7\" text-anchor=\"middle\" dy=\"0em\">R=1/3</text>\n",
       "<path d=\"M287.9442,175.0002 C301.65380000000005,175.0002,301.5923,200.0,315.30190000000005,200.0 M315.3038,200.0 C301.59220000000005,200.0,301.65380000000005,224.9998,287.94410000000005,224.9998 M315.3038,200.0 L337.1884,200.0 M337.1884,200.0 C350.9,200.0,350.8384,175.0002,364.5481,175.0002 M337.1884,200.0 C350.9,200.0,350.8384,224.9998,364.5481,224.9998 M275.0,175.0 L288.0,175.0 M288.0019,224.9998 L275.0,224.9998 M362.6453,224.9998 L375.0,224.9998 M362.1944,174.9998 L375.0,174.9998\" stroke-width=\"1\" stroke=\"black\" stroke-linejoin=\"miter\" fill=\"none\" />\n",
       "<text x=\"325\" y=\"188\" font-size=\"7\" text-anchor=\"middle\" dy=\"0em\">phi=pi/2</text>\n",
       "<path d=\"M375,225 L395,225 M405,225 L425,225\" stroke-width=\"1\" stroke=\"black\" stroke-linejoin=\"miter\" fill=\"none\" />\n",
       "<path d=\"M395,240 L405,240 L405,210 L395,210 L395,240\" stroke-width=\"1\" stroke=\"black\" stroke-linejoin=\"miter\" fill=\"lightgray\" />\n",
       "<text x=\"400\" y=\"250\" font-size=\"7\" text-anchor=\"middle\" dy=\"0em\">$\\phi$=pi</text>\n",
       "<path d=\"M287.9442,475.0002 C301.65380000000005,475.0002,301.5923,500.0,315.30190000000005,500.0 M315.3038,500.0 C301.59220000000005,500.0,301.65380000000005,524.9998,287.94410000000005,524.9998 M315.3038,500.00000000000006 L337.1884,500.00000000000006 M337.1884,500.00000000000006 C350.9,500.00000000000006,350.8384,475.00020000000006,364.5481,475.00020000000006 M337.1884,500.00000000000006 C350.9,500.00000000000006,350.8384,524.9998,364.5481,524.9998 M275.0,475.00000000000006 L288.0,475.00000000000006 M288.0019,524.9998 L275.0,524.9998 M362.6453,524.9998 L375.0,524.9998 M362.1944,474.99980000000005 L375.0,474.99980000000005\" stroke-width=\"1\" stroke=\"black\" stroke-linejoin=\"miter\" fill=\"none\" />\n",
       "<text x=\"325\" y=\"488\" font-size=\"7\" text-anchor=\"middle\" dy=\"0em\">phi=pi/2</text>\n",
       "<path d=\"M375,525 L395,525 M405,525 L425,525\" stroke-width=\"1\" stroke=\"black\" stroke-linejoin=\"miter\" fill=\"none\" />\n",
       "<path d=\"M395,540 L405,540 L405,510 L395,510 L395,540\" stroke-width=\"1\" stroke=\"black\" stroke-linejoin=\"miter\" fill=\"lightgray\" />\n",
       "<text x=\"400\" y=\"550\" font-size=\"7\" text-anchor=\"middle\" dy=\"0em\">$\\phi$=pi</text>\n",
       "<path d=\"M225,25 L425,25\" stroke=\"black\" stroke-width=\"1\" fill=\"none\" />\n",
       "<path d=\"M225,75 L425,75\" stroke=\"black\" stroke-width=\"1\" fill=\"none\" />\n",
       "<path d=\"M275,125 L425,125\" stroke=\"black\" stroke-width=\"1\" fill=\"none\" />\n",
       "<path d=\"M375,175 L425,175\" stroke=\"black\" stroke-width=\"1\" fill=\"none\" />\n",
       "<path d=\"M275,275 L425,275\" stroke=\"black\" stroke-width=\"1\" fill=\"none\" />\n",
       "<path d=\"M225,325 L425,325\" stroke=\"black\" stroke-width=\"1\" fill=\"none\" />\n",
       "<path d=\"M225,375 L425,375\" stroke=\"black\" stroke-width=\"1\" fill=\"none\" />\n",
       "<path d=\"M275,425 L425,425\" stroke=\"black\" stroke-width=\"1\" fill=\"none\" />\n",
       "<path d=\"M375,475 L425,475\" stroke=\"black\" stroke-width=\"1\" fill=\"none\" />\n",
       "<path d=\"M275,575 L425,575\" stroke=\"black\" stroke-width=\"1\" fill=\"none\" />\n",
       "<path d=\"M425,25 L440,25\" stroke-width=\"1\" stroke=\"black\" stroke-linejoin=\"miter\" fill=\"none\" />\n",
       "<text x=\"450\" y=\"25\" font-size=\"6\" text-anchor=\"end\" dy=\"0em\">0</text>\n",
       "<path d=\"M425,75 L440,75\" stroke-width=\"1\" stroke=\"black\" stroke-linejoin=\"miter\" fill=\"none\" />\n",
       "<text x=\"450\" y=\"75\" font-size=\"6\" text-anchor=\"end\" dy=\"0em\">1</text>\n",
       "<path d=\"M425,125 L440,125\" stroke-width=\"1\" stroke=\"black\" stroke-linejoin=\"miter\" fill=\"none\" />\n",
       "<text x=\"450\" y=\"125\" font-size=\"6\" text-anchor=\"end\" dy=\"0em\">2</text>\n",
       "<path d=\"M425,175 L440,175\" stroke-width=\"1\" stroke=\"black\" stroke-linejoin=\"miter\" fill=\"none\" />\n",
       "<text x=\"450\" y=\"175\" font-size=\"6\" text-anchor=\"end\" dy=\"0em\">3</text>\n",
       "<path d=\"M425,225 L440,225\" stroke-width=\"1\" stroke=\"black\" stroke-linejoin=\"miter\" fill=\"none\" />\n",
       "<text x=\"450\" y=\"225\" font-size=\"6\" text-anchor=\"end\" dy=\"0em\">4</text>\n",
       "<path d=\"M425,275 L440,275\" stroke-width=\"1\" stroke=\"black\" stroke-linejoin=\"miter\" fill=\"none\" />\n",
       "<text x=\"450\" y=\"275\" font-size=\"6\" text-anchor=\"end\" dy=\"0em\">5</text>\n",
       "<path d=\"M425,325 L440,325\" stroke-width=\"1\" stroke=\"black\" stroke-linejoin=\"miter\" fill=\"none\" />\n",
       "<text x=\"450\" y=\"325\" font-size=\"6\" text-anchor=\"end\" dy=\"0em\">6</text>\n",
       "<path d=\"M425,375 L440,375\" stroke-width=\"1\" stroke=\"black\" stroke-linejoin=\"miter\" fill=\"none\" />\n",
       "<text x=\"450\" y=\"375\" font-size=\"6\" text-anchor=\"end\" dy=\"0em\">7</text>\n",
       "<path d=\"M425,425 L440,425\" stroke-width=\"1\" stroke=\"black\" stroke-linejoin=\"miter\" fill=\"none\" />\n",
       "<text x=\"450\" y=\"425\" font-size=\"6\" text-anchor=\"end\" dy=\"0em\">8</text>\n",
       "<path d=\"M425,475 L440,475\" stroke-width=\"1\" stroke=\"black\" stroke-linejoin=\"miter\" fill=\"none\" />\n",
       "<text x=\"450\" y=\"475\" font-size=\"6\" text-anchor=\"end\" dy=\"0em\">9</text>\n",
       "<path d=\"M425,525 L440,525\" stroke-width=\"1\" stroke=\"black\" stroke-linejoin=\"miter\" fill=\"none\" />\n",
       "<text x=\"450\" y=\"525\" font-size=\"6\" text-anchor=\"end\" dy=\"0em\">10</text>\n",
       "<path d=\"M425,575 L440,575\" stroke-width=\"1\" stroke=\"black\" stroke-linejoin=\"miter\" fill=\"none\" />\n",
       "<text x=\"450\" y=\"575\" font-size=\"6\" text-anchor=\"end\" dy=\"0em\">11</text>\n",
       "</svg>"
      ],
      "text/plain": [
       "<drawSvg.drawing.Drawing at 0x26d03522a10>"
      ]
     },
     "execution_count": 7,
     "metadata": {},
     "output_type": "execute_result"
    }
   ],
   "source": [
    "print(\"Optical circuit for Shor's algorithm\")\n",
    "pcvl.pdisplay(circ)"
   ]
  },
  {
   "cell_type": "code",
   "execution_count": 8,
   "id": "00d193de",
   "metadata": {
    "pycharm": {
     "name": "#%%\n"
    },
    "scrolled": false
   },
   "outputs": [
    {
     "name": "stdout",
     "output_type": "stream",
     "text": [
      "The associated matrix\n"
     ]
    },
    {
     "data": {
      "text/html": [
       "$\\left[\\begin{array}{cccccccccccc}0.577350269189626 & 0.577350269189626 i & 0.577350269189626 i & 0 & 0 & 0 & 0 & 0 & 0 & 0 & 0 & 0\\\\0.816496580927726 i & 0.408248290463863 & 0.408248290463863 & 0 & 0 & 0 & 0 & 0 & 0 & 0 & 0 & 0\\\\0 & 0.408248290463863 & -0.408248290463863 & 0.577350269189626 i & 0.577350269189626 i & 0 & 0 & 0 & 0 & 0 & 0 & 0\\\\0 & 0.408248290463863 i & - 0.408248290463863 i & 0.577350269189626 & 0 & 0.577350269189626 i & 0 & 0 & 0 & 0 & 0 & 0\\\\0 & 0.408248290463863 i & - 0.408248290463863 i & 0 & 0.577350269189626 & - 0.577350269189626 i & 0 & 0 & 0 & 0 & 0 & 0\\\\0 & 0 & 0 & 0.577350269189626 i & - 0.577350269189626 i & 0.577350269189626 & 0 & 0 & 0 & 0 & 0 & 0\\\\0 & 0 & 0 & 0 & 0 & 0 & 0.577350269189626 & 0.577350269189626 i & 0.577350269189626 i & 0 & 0 & 0\\\\0 & 0 & 0 & 0 & 0 & 0 & 0.816496580927726 i & 0.408248290463863 & 0.408248290463863 & 0 & 0 & 0\\\\0 & 0 & 0 & 0 & 0 & 0 & 0 & 0.408248290463863 & -0.408248290463863 & 0.577350269189626 i & 0.577350269189626 i & 0\\\\0 & 0 & 0 & 0 & 0 & 0 & 0 & 0.408248290463863 i & - 0.408248290463863 i & 0.577350269189626 & 0 & 0.577350269189626 i\\\\0 & 0 & 0 & 0 & 0 & 0 & 0 & 0.408248290463863 i & - 0.408248290463863 i & 0 & 0.577350269189626 & - 0.577350269189626 i\\\\0 & 0 & 0 & 0 & 0 & 0 & 0 & 0 & 0 & 0.577350269189626 i & - 0.577350269189626 i & 0.577350269189626\\end{array}\\right]$"
      ],
      "text/plain": [
       "<IPython.core.display.HTML object>"
      ]
     },
     "metadata": {},
     "output_type": "display_data"
    }
   ],
   "source": [
    "print(\"The associated matrix\")\n",
    "pcvl.pdisplay(circ.U)"
   ]
  },
  {
   "cell_type": "markdown",
   "id": "7bdc227b",
   "metadata": {
    "pycharm": {
     "name": "#%% md\n"
    }
   },
   "source": [
    "### Input state"
   ]
  },
  {
   "cell_type": "markdown",
   "id": "4e1ced97",
   "metadata": {
    "pycharm": {
     "name": "#%% md\n"
    }
   },
   "source": [
    "In the preliminaries we provided functions to map qubit states to the corresponding Fock states and vice-versa.\n",
    "\n",
    "A *computational basis qubit state* on qubits $x_1, f_1, x_2, f_2$ is represented with a list of 4 boolean values.\n",
    "\n",
    "A *Fock state* is represented with a list of twelve integer values.\n",
    "As described above, for Fock states, the modes are enumerated as follows:\n",
    "* mode pairs $(1,2), (3,4), (7,8), (9,10)$ respectively correspond to states $0,1$ for qubits $x_1, f_1, x_2, f_2$\n",
    "* modes $0,5,6,11$ are auxiliary modes used for CZ gates"
   ]
  },
  {
   "cell_type": "markdown",
   "id": "51d9eca7",
   "metadata": {
    "pycharm": {
     "name": "#%% md\n"
    }
   },
   "source": [
    "The input state of the circuit is $|0\\rangle_{x_1}|0\\rangle_{x_2}|0\\rangle_{f_1}|1\\rangle_{f_2}$.\n",
    "With path encoding this corresponds to sending 4 photons in total in the optical circuit, in the input modes corresponding to the inital state of each qubit."
   ]
  },
  {
   "cell_type": "code",
   "execution_count": 9,
   "id": "79f7ca45",
   "metadata": {
    "pycharm": {
     "name": "#%%\n"
    },
    "scrolled": false
   },
   "outputs": [
    {
     "name": "stdout",
     "output_type": "stream",
     "text": [
      "Input qubit state: |0,0,0,1>\n",
      "Corresponding input Fock state: |0,1,0,1,0,0,0,1,0,0,1,0>\n"
     ]
    }
   ],
   "source": [
    "qubit_istate = [0,0,0,1]\n",
    "istate = toFockState(qubit_istate)\n",
    "\n",
    "print(\"Input qubit state:\", strState(qubit_istate))\n",
    "print(\"Corresponding input Fock state:\", strState(istate))"
   ]
  },
  {
   "cell_type": "markdown",
   "id": "d3f88c02",
   "metadata": {
    "pycharm": {
     "name": "#%% md\n"
    }
   },
   "source": [
    "## Simulation"
   ]
  },
  {
   "cell_type": "code",
   "execution_count": 10,
   "id": "ca10ff5e",
   "metadata": {
    "pycharm": {
     "name": "#%%\n"
    }
   },
   "outputs": [],
   "source": [
    "backend = pcvl.BackendFactory().get_backend(\"Naive\")\n",
    "simulator = backend(circ)"
   ]
  },
  {
   "cell_type": "markdown",
   "id": "e81a4f44",
   "metadata": {
    "pycharm": {
     "name": "#%% md\n"
    }
   },
   "source": [
    "### Computing the output state"
   ]
  },
  {
   "cell_type": "markdown",
   "id": "c4e62d76",
   "metadata": {
    "pycharm": {
     "name": "#%% md\n"
    }
   },
   "source": [
    "Using perceval we compute the output state obtained with the optical circuit."
   ]
  },
  {
   "cell_type": "markdown",
   "id": "2f3e6f17",
   "metadata": {
    "pycharm": {
     "name": "#%% md\n"
    }
   },
   "source": [
    "#### Amplitudes\n",
    "\n",
    "We first decompose the output state in the computational basis and plot the corresponding amplitudes."
   ]
  },
  {
   "cell_type": "code",
   "execution_count": 11,
   "id": "0cd16853",
   "metadata": {
    "pycharm": {
     "name": "#%%\n"
    },
    "scrolled": true
   },
   "outputs": [
    {
     "name": "stdout",
     "output_type": "stream",
     "text": [
      "Output state amplitudes: (post-selected on qubit states, not renormalized)\n",
      "|x1,x2,f1,f2>\n",
      "|0,0,0,0> (4.336808689942018e-19-1.925929944387236e-34j)\n",
      "|0,0,0,1> -3.851859888774472e-34j\n",
      "|0,0,1,0> (4.336808689942018e-19-3.851859888774472e-34j)\n",
      "|0,0,1,1> 7.703719777548943e-34j\n",
      "|0,1,0,0> (1.734723475976807e-18+5.204170427930421e-18j)\n",
      "|0,1,0,1> (1.734723475976807e-18+7.806255641895632e-18j)\n",
      "|0,1,1,0> (1.734723475976807e-18+8.673617379884035e-19j)\n",
      "|0,1,1,1> (1.734723475976807e-18+3.469446951953614e-18j)\n",
      "|1,0,0,0> (2.168404344971009e-18+3.469446951953614e-18j)\n",
      "|1,0,0,1> (1.734723475976807e-18-3.469446951953614e-18j)\n",
      "|1,0,1,0> (2.168404344971009e-18+8.673617379884035e-18j)\n",
      "|1,0,1,1> (1.734723475976807e-18-8.673617379884035e-19j)\n",
      "|1,1,0,0> (-0.055555555555555594+4.163336342344337e-17j)\n",
      "|1,1,0,1> (-0.05555555555555559+4.683753385137379e-17j)\n",
      "|1,1,1,0> (-0.05555555555555559+4.5102810375396984e-17j)\n",
      "|1,1,1,1> (-0.055555555555555594+5.204170427930421e-17j)\n"
     ]
    }
   ],
   "source": [
    "output_qubit_states = [\n",
    "    [x1,x2,f1,f2]\n",
    "    for x1 in [0,1] for x2 in [0,1] for f1 in [0,1] for f2 in [0,1]\n",
    "]\n",
    "\n",
    "print(\"Output state amplitudes: (post-selected on qubit states, not renormalized)\")\n",
    "print(\"|x1,x2,f1,f2>\")\n",
    "for oqstate in output_qubit_states:\n",
    "    ostate = toFockState(oqstate)\n",
    "    a = simulator.probampli(pcvl.BasicState(pcvl.BasicState(istate)), pcvl.BasicState(ostate))\n",
    "    print(strState(oqstate), a)"
   ]
  },
  {
   "cell_type": "markdown",
   "id": "43e94f97",
   "metadata": {
    "pycharm": {
     "name": "#%% md\n"
    }
   },
   "source": [
    "The amplitudes obtained with perceval correspond to the expected output state\n",
    "$$\\frac{1}{2} \\left ( |0\\rangle_{x_1}|0\\rangle_{f_1} + |1\\rangle_{x_1}|1\\rangle_{f_1} \\right ) \\otimes \\left ( |0\\rangle_{x_2}|1\\rangle_{f_2} + |1\\rangle_{x_2}|0\\rangle_{f_2} \\right )$$\n",
    "up to numerical precision, without renormalization."
   ]
  },
  {
   "cell_type": "markdown",
   "id": "300664ac",
   "metadata": {
    "pycharm": {
     "name": "#%% md\n"
    }
   },
   "source": [
    "#### Distribution\n",
    "\n",
    "We now compute the probabilities to obtain each outcome corresponding to measuring the expected output state in the computational basis."
   ]
  },
  {
   "cell_type": "code",
   "execution_count": 12,
   "id": "2277ec12",
   "metadata": {
    "pycharm": {
     "name": "#%%\n"
    },
    "scrolled": false
   },
   "outputs": [
    {
     "name": "stdout",
     "output_type": "stream",
     "text": [
      "Output state distribution: (post-selected on expected qubit states, not renormalized)\n",
      "|x1,x2,f1,f2>\n"
     ]
    },
    {
     "data": {
      "text/html": [
       "<table>\n",
       "<thead>\n",
       "<tr><th>         </th><th style=\"text-align: right;\">  |0,0,0,1&gt;</th><th style=\"text-align: right;\">  |0,1,0,0&gt;</th><th style=\"text-align: right;\">  |1,0,1,1&gt;</th><th style=\"text-align: right;\">  |1,1,1,0&gt;</th></tr>\n",
       "</thead>\n",
       "<tbody>\n",
       "<tr><td>|0,0,0,1&gt;</td><td style=\"text-align: right;\">          0</td><td style=\"text-align: right;\">          0</td><td style=\"text-align: right;\">          0</td><td style=\"text-align: right;\">   0.003086</td></tr>\n",
       "</tbody>\n",
       "</table>"
      ],
      "text/plain": [
       "<IPython.core.display.HTML object>"
      ]
     },
     "metadata": {},
     "output_type": "display_data"
    }
   ],
   "source": [
    "input_states = {\n",
    "    pcvl.BasicState(pcvl.BasicState(istate)): strState(qubit_istate)\n",
    "}\n",
    "\n",
    "expected_output_states = {\n",
    "    pcvl.BasicState(toFockState([x1,x2,x1,1-x2])): strState([x1,x2,x1,1-x2])\n",
    "    for x1 in [0,1] for x2 in [0,1]\n",
    "}\n",
    "\n",
    "ca = pcvl.CircuitAnalyser(simulator, input_states, expected_output_states)\n",
    "ca.compute()\n",
    "\n",
    "print(\"Output state distribution: (post-selected on expected qubit states, not renormalized)\")\n",
    "print(\"|x1,x2,f1,f2>\")\n",
    "pcvl.pdisplay(ca)"
   ]
  },
  {
   "cell_type": "markdown",
   "id": "5e464e2c",
   "metadata": {
    "pycharm": {
     "name": "#%% md\n"
    }
   },
   "source": [
    "The distribution computed with Perceval is uniform over each outcome, which corresponds to the expected distribution obtained in the paper when $x_0 = 0$."
   ]
  },
  {
   "cell_type": "markdown",
   "id": "838286d7",
   "metadata": {
    "pycharm": {
     "name": "#%% md\n"
    }
   },
   "source": [
    "### Interpretation of the outcomes\n",
    "\n",
    "For each outcome we consider the values of qubits $x_2, x_1, x_0$ (where $x_0$ is 0) which represent a binary number between 0 and 7, here corresponding to 0, 4, 2 and 6 in the order of the table above.\n",
    "After sampling the circuit, obtainig outcomes 2 or 6 allows to successfully compute the order $r=4$.\n",
    "Obtaining outcome 0 is an expected failure of the quantum circuit, inherent to Shor's algorithm.\n",
    "Outcome 4 is an expected failure as well, as it only allows to compute the trivial factors 1 and 15.\n",
    "\n",
    "Since the distribution is uniform the circuit successfully yields a successful outcome with probability 1/2. This probability can be amplified exponentially close to $1$ by sampling the circuit multiple times."
   ]
  }
 ],
 "metadata": {
  "kernelspec": {
   "display_name": "Python 3 (ipykernel)",
   "language": "python",
   "name": "python3"
  },
  "language_info": {
   "codemirror_mode": {
    "name": "ipython",
    "version": 3
   },
   "file_extension": ".py",
   "mimetype": "text/x-python",
   "name": "python",
   "nbconvert_exporter": "python",
   "pygments_lexer": "ipython3",
   "version": "3.10.4"
  }
 },
 "nbformat": 4,
 "nbformat_minor": 5
}