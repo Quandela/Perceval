{
 "cells": [
  {
   "cell_type": "markdown",
   "id": "c2f4fd6c",
   "metadata": {},
   "source": [
    "# Implementing Shor's algorithm in Perceval"
   ]
  },
  {
   "cell_type": "markdown",
   "id": "5162c9b8",
   "metadata": {},
   "source": [
    "This notebook presents a simulation in Perceval of a 4-qubit 12-modes optical circuit performing Shor's algorithm, based on Alberto Politi, Jonathan C.F. Matthews, and Jeremy L. O'brien. \"Shor’s quantum factoring algorithm on a photonic chip.\" Science 325.5945 (2009): 1221-1221. https://www.science.org/doi/10.1126/science.1173731"
   ]
  },
  {
   "cell_type": "markdown",
   "id": "f29e5abf",
   "metadata": {},
   "source": [
    "## Shor's algorithm"
   ]
  },
  {
   "cell_type": "markdown",
   "id": "5dd3a2a5",
   "metadata": {},
   "source": [
    "The purpose of Shor's algorithm is to find nontrivial factors of a given number $N$ in polynomial time, yielding an near-exponential speedup compared to state of the art classical algortihms.\n",
    "\n",
    "The main routine of Shor's algorithm consists in finding the order $r$ of a number $a \\in \\mathbb{Z}_N$, i.e. the smallest integer $r$ such that $a^r = 1 \\pmod N$.\n",
    "\n",
    "If the order of a randoly chosen $a$ which is coprime with $N$ is even, then $(a^{r/2} - 1)(a^{r/2} + 1) = k N$. If none of these factors are multiples of $N$, then $\\gcd(N, a^{r/2} - 1)$ and $\\gcd(N, a^{r/2} + 1)$ are nontrivial factors of $N$."
   ]
  },
  {
   "cell_type": "markdown",
   "id": "ff756302",
   "metadata": {},
   "source": [
    "## Preliminaries"
   ]
  },
  {
   "cell_type": "code",
   "execution_count": 1,
   "id": "8b013239",
   "metadata": {},
   "outputs": [
    {
     "name": "stdout",
     "output_type": "stream",
     "text": [
      "Python version: 3.9.7 | packaged by conda-forge | (default, Sep 29 2021, 19:20:46) \n",
      "[GCC 9.4.0]\n"
     ]
    }
   ],
   "source": [
    "import sys\n",
    "print(\"Python version:\", sys.version)"
   ]
  },
  {
   "cell_type": "code",
   "execution_count": 2,
   "id": "55fe7a18",
   "metadata": {
    "scrolled": true
   },
   "outputs": [
    {
     "name": "stdout",
     "output_type": "stream",
     "text": [
      "Perceval version: 0.4.1\n"
     ]
    }
   ],
   "source": [
    "from IPython import display\n",
    "from collections import Counter\n",
    "from tabulate import tabulate\n",
    "from tqdm.auto import tqdm\n",
    "\n",
    "import sympy as sp\n",
    "import numpy as np\n",
    "from scipy.optimize import minimize\n",
    "\n",
    "import perceval as pcvl\n",
    "import quandelibc as qc\n",
    "import perceval.lib.phys as phys\n",
    "import perceval.lib.symb as symb\n",
    "\n",
    "print(\"Perceval version:\", pcvl.__version__)"
   ]
  },
  {
   "cell_type": "markdown",
   "id": "826377de",
   "metadata": {},
   "source": [
    "### Path encoding functions\n",
    "\n",
    "The following functions allow for conversion between the qubit and Fock state representations."
   ]
  },
  {
   "cell_type": "code",
   "execution_count": 3,
   "id": "cd2bbda8",
   "metadata": {},
   "outputs": [],
   "source": [
    "def toFockState(qubitState):\n",
    "    # path encoding\n",
    "    pe = {0:[1,0],  1:[0,1]}\n",
    "    return [0] + pe[qubitState[0]] + pe[qubitState[2]] + [0, 0] + pe[qubitState[1]] + pe[qubitState[3]] + [0]"
   ]
  },
  {
   "cell_type": "code",
   "execution_count": 4,
   "id": "55ee4ce8",
   "metadata": {},
   "outputs": [],
   "source": [
    "def toQubitState(fockState):\n",
    "    # qubit modes\n",
    "    x1 = [1, 2]\n",
    "    f1 = [3, 4]\n",
    "    x2 = [7, 8]\n",
    "    f2 = [9, 10]\n",
    "    # auxiliary modes\n",
    "    am1 = [0, 5]\n",
    "    am2 = [6, 11]\n",
    "    \n",
    "    # auxiliary modes\n",
    "    for i in am1 + am2:\n",
    "        if fockState[i]!=0:\n",
    "            return None\n",
    "    L=[]\n",
    "    # qubit modes\n",
    "    for q in [x1, x2, f1, f2]:\n",
    "        if fockState[q[0]]+fockState[q[1]] != 1:\n",
    "            return None\n",
    "        else:\n",
    "            L.append(fockState[q[1]])\n",
    "    return L"
   ]
  },
  {
   "cell_type": "code",
   "execution_count": 5,
   "id": "39b1c269",
   "metadata": {},
   "outputs": [],
   "source": [
    "def strState(state):\n",
    "    return str(pcvl.BasicState(state))"
   ]
  },
  {
   "cell_type": "markdown",
   "id": "016e2534",
   "metadata": {},
   "source": [
    "## The circuit"
   ]
  },
  {
   "cell_type": "markdown",
   "id": "01c60397",
   "metadata": {},
   "source": [
    "### Quantum circuit\n",
    "\n",
    "The quantum circuit has been optimized after choosing parameters $N = 15$ and $a = 2$, and aims to calculate $r=4$.\n",
    "It features 5 qubits labelled $x_0, x_1, x_2$ and $f_1, f_2$. Qubits $x_i$ and $f_1$ are initially in state $|0\\rangle$, and $f_2$ in state $|1\\rangle$.\n",
    "In the non-optimised Shor algorithm, qubits $x_i$ encode a binary number representing a pre-image of the Modular Exponentiation Function (MEF) $x \\mapsto a^x \\pmod N$, while qubits $f_i$ hold the image obtained after applying the MEF to qubits $x_i$. Applying the MEF when qubits $x_i$ hold a superposition of different pre-images (obtained with H gates on qubits $x_i$) allows to efficiently compute the order $r$ of parameter $a$ modulo $N$.\n",
    "\n",
    "The circuit consists of $\\mathsf{H}$ gates being first applied to each $x_i$ qubit, followed by $\\mathsf{CNOT}$ gates applied on $x_1, f_1$ and $x_2, f_2$ pairs, where $x_i$ are control qubits; finally the inverse $\\mathsf{QFT}$ algorithm is applied on qubits $x_i$.\n",
    "\n",
    "$\\mathsf{CNOT}$ gates on $x_i, f_i$ pairs ($x_i$ being the control) are implemented using $\\mathsf{H}$ and $\\mathsf{CZ}$ gates: the $\\mathsf{CZ}$ gate is sandwiched between two applications of $\\mathsf{H}$ on $f_i$.\n",
    "\n",
    "The input state of the circuit after optimisation is $|0\\rangle_{x_0}|0\\rangle_{x_1}|0\\rangle_{x_2}|0\\rangle_{f_1}|1\\rangle_{f_2}$.\n",
    "\n",
    "The expected output state is then $\\frac{1}{2} |0\\rangle_{x_0} \\otimes \\left ( |0\\rangle_{x_1}|0\\rangle_{f_1} + |1\\rangle_{x_1}|1\\rangle_{f_1} \\right ) \\otimes \\left ( |0\\rangle_{x_2}|1\\rangle_{f_2} + |1\\rangle_{x_2}|0\\rangle_{f_2} \\right )$."
   ]
  },
  {
   "cell_type": "markdown",
   "id": "b7b25cf5",
   "metadata": {},
   "source": [
    "### Photonic circuit\n",
    "\n",
    "The optical circuit from the result by Politi et al features twelve modes (ordered from 0 to 11 from top to bottom).\n",
    "\n",
    "During the execution, qubit $x_0$ remains unentangled from the other qubits. It can therefore be removed from the optical implementation.\n",
    "\n",
    "The qubits $x_1, x_2, f_1, f_2$ are path encoded as modes $(1, 2)$, $(3, 4)$, $(7, 8)$, $(9, 10)$ respectively. The four remaining modes are used as auxiliary modes to implement the $\\mathsf{CZ}$ gates.\n",
    "\n",
    "With path encoding each $\\mathsf{H}$ gate in the quantum circuit is implemented with a beam splitter with reflectivity $R=1/2$ between the two pathes corresponding to the qubit. In our implementation in Perceval, phase shifters are added to properly tune the phase between each path.\n",
    "\n",
    "$\\mathsf{CZ}$ gates are implemented with three beam splitters with reflectivity $R=2/3$ acting on six modes: one inner BS creates interference between the two qubits, and two outer BS balance detection probability using auxiliary modes.\n",
    "This optical implementation succesfully yields the output state produced by a $\\mathsf{CZ}$ gate with probability 1/9; otherwise it creates a dummy state, which can be removed by post-selection.\n",
    "\n",
    "In the case $r=4$ the QFT can be performed classically and doesn't need to be implemented in the photonic circuit."
   ]
  },
  {
   "cell_type": "markdown",
   "id": "3acb2273",
   "metadata": {},
   "source": [
    "## In perceval"
   ]
  },
  {
   "cell_type": "markdown",
   "id": "7aa60c25",
   "metadata": {},
   "source": [
    "### Implementing the circuit"
   ]
  },
  {
   "cell_type": "code",
   "execution_count": 6,
   "id": "2fe3a053",
   "metadata": {},
   "outputs": [],
   "source": [
    "circ = pcvl.Circuit(12)\n",
    "\n",
    "# qubit modes\n",
    "# for qubit states 0, 1\n",
    "x1 = [1, 2]\n",
    "f1 = [3, 4]\n",
    "x2 = [7, 8]\n",
    "f2 = [9, 10]\n",
    "# auxiliary modes\n",
    "am1 = [0, 5]\n",
    "am2 = [6, 11]\n",
    "\n",
    "\n",
    "# H gates\n",
    "for q in [x1, f1, x2, f2]:\n",
    "    circ.add(q, symb.BS(R=1/2, phi=sp.pi/2))\n",
    "    circ.add(q[1], symb.PS(phi=sp.pi))\n",
    "\n",
    "# CZ gates\n",
    "for x, f, am in [(x1, f1, am1), (x2, f2, am2)]:\n",
    "    circ.add((am[0], x[0]), symb.BS(R=2/3)) # T = 1/3\n",
    "    circ.add((x[1],  f[0]), symb.BS(R=2/3))\n",
    "    circ.add((f[1], am[1]), symb.BS(R=2/3))\n",
    "\n",
    "# H gates\n",
    "for q in [f1, f2]:\n",
    "    circ.add(q, symb.BS(R=1/2, phi=sp.pi/2))\n",
    "    circ.add(q[1], symb.PS(phi=sp.pi))"
   ]
  },
  {
   "cell_type": "code",
   "execution_count": 7,
   "id": "034d5e45",
   "metadata": {
    "scrolled": false
   },
   "outputs": [
    {
     "name": "stdout",
     "output_type": "stream",
     "text": [
      "Optical circuit for Shor's algorithm\n"
     ]
    },
    {
     "data": {
      "text/html": [
       "<svg width='462.000000' height='650.000000' viewBox='-6.000000 0.000000 456.000000 650.000000'><path d=\"M 10 25 L 25 25\" fill=\"none\" stroke=\"black\" stroke-width=\"2.000000\" stroke-linejoin=\"miter\"/>\n",
       "<text x=\"0.000000\" y=\"25.000000\" font-size=\"6.000000\" text-anchor=\"start\">0</text>\n",
       "<path d=\"M 10 75 L 25 75\" fill=\"none\" stroke=\"black\" stroke-width=\"2.000000\" stroke-linejoin=\"miter\"/>\n",
       "<text x=\"0.000000\" y=\"75.000000\" font-size=\"6.000000\" text-anchor=\"start\">1</text>\n",
       "<path d=\"M 10 125 L 25 125\" fill=\"none\" stroke=\"black\" stroke-width=\"2.000000\" stroke-linejoin=\"miter\"/>\n",
       "<text x=\"0.000000\" y=\"125.000000\" font-size=\"6.000000\" text-anchor=\"start\">2</text>\n",
       "<path d=\"M 10 175 L 25 175\" fill=\"none\" stroke=\"black\" stroke-width=\"2.000000\" stroke-linejoin=\"miter\"/>\n",
       "<text x=\"0.000000\" y=\"175.000000\" font-size=\"6.000000\" text-anchor=\"start\">3</text>\n",
       "<path d=\"M 10 225 L 25 225\" fill=\"none\" stroke=\"black\" stroke-width=\"2.000000\" stroke-linejoin=\"miter\"/>\n",
       "<text x=\"0.000000\" y=\"225.000000\" font-size=\"6.000000\" text-anchor=\"start\">4</text>\n",
       "<path d=\"M 10 275 L 25 275\" fill=\"none\" stroke=\"black\" stroke-width=\"2.000000\" stroke-linejoin=\"miter\"/>\n",
       "<text x=\"0.000000\" y=\"275.000000\" font-size=\"6.000000\" text-anchor=\"start\">5</text>\n",
       "<path d=\"M 10 325 L 25 325\" fill=\"none\" stroke=\"black\" stroke-width=\"2.000000\" stroke-linejoin=\"miter\"/>\n",
       "<text x=\"0.000000\" y=\"325.000000\" font-size=\"6.000000\" text-anchor=\"start\">6</text>\n",
       "<path d=\"M 10 375 L 25 375\" fill=\"none\" stroke=\"black\" stroke-width=\"2.000000\" stroke-linejoin=\"miter\"/>\n",
       "<text x=\"0.000000\" y=\"375.000000\" font-size=\"6.000000\" text-anchor=\"start\">7</text>\n",
       "<path d=\"M 10 425 L 25 425\" fill=\"none\" stroke=\"black\" stroke-width=\"2.000000\" stroke-linejoin=\"miter\"/>\n",
       "<text x=\"0.000000\" y=\"425.000000\" font-size=\"6.000000\" text-anchor=\"start\">8</text>\n",
       "<path d=\"M 10 475 L 25 475\" fill=\"none\" stroke=\"black\" stroke-width=\"2.000000\" stroke-linejoin=\"miter\"/>\n",
       "<text x=\"0.000000\" y=\"475.000000\" font-size=\"6.000000\" text-anchor=\"start\">9</text>\n",
       "<path d=\"M 10 525 L 25 525\" fill=\"none\" stroke=\"black\" stroke-width=\"2.000000\" stroke-linejoin=\"miter\"/>\n",
       "<text x=\"0.000000\" y=\"525.000000\" font-size=\"6.000000\" text-anchor=\"start\">10</text>\n",
       "<path d=\"M 10 575 L 25 575\" fill=\"none\" stroke=\"black\" stroke-width=\"2.000000\" stroke-linejoin=\"miter\"/>\n",
       "<text x=\"0.000000\" y=\"575.000000\" font-size=\"6.000000\" text-anchor=\"start\">11</text>\n",
       "<path d=\"M 25 75 C 42 75 45 81 51 86 C 56 93 57 98.5 75 98.5 C 93 98.5 94 93 100 86 C 105 81 108 75 125 75\" fill=\"none\" stroke=\"black\" stroke-width=\"2.000000\" stroke-linejoin=\"miter\"/>\n",
       "<path d=\"M 25 125 C 42 125 45 119 51 114 C 56 107 57 101.5 75 101.5 C 93 101.5 94 107 100 114 C 105 119 108 125 125 125\" fill=\"none\" stroke=\"black\" stroke-width=\"2.000000\" stroke-linejoin=\"miter\"/>\n",
       "<text x=\"75.000000\" y=\"88.000000\" font-size=\"7.000000\" text-anchor=\"middle\">phi=pi/2</text>\n",
       "<polyline points=\"125 125 175 125\" fill=\"transparent\"stroke=\"black\" stroke-width=\"2.000000\" stroke-linejoin=\"miter\" />\n",
       "<polyline points=\"130 117 170 117 170 133 130 133 130 117\" fill=\"white\" stroke=\"black\" stroke-width=\"2.000000\" stroke_linejoin=\"miter\" />\n",
       "<text x=\"150.000000\" y=\"128.000000\" font-size=\"10.000000\" text-anchor=\"middle\">pi</text>\n",
       "<path d=\"M 25 175 C 42 175 45 181 51 186 C 56 193 57 198.5 75 198.5 C 93 198.5 94 193 100 186 C 105 181 108 175 125 175\" fill=\"none\" stroke=\"black\" stroke-width=\"2.000000\" stroke-linejoin=\"miter\"/>\n",
       "<path d=\"M 25 225 C 42 225 45 219 51 214 C 56 207 57 201.5 75 201.5 C 93 201.5 94 207 100 214 C 105 219 108 225 125 225\" fill=\"none\" stroke=\"black\" stroke-width=\"2.000000\" stroke-linejoin=\"miter\"/>\n",
       "<text x=\"75.000000\" y=\"188.000000\" font-size=\"7.000000\" text-anchor=\"middle\">phi=pi/2</text>\n",
       "<polyline points=\"125 225 175 225\" fill=\"transparent\"stroke=\"black\" stroke-width=\"2.000000\" stroke-linejoin=\"miter\" />\n",
       "<polyline points=\"130 217 170 217 170 233 130 233 130 217\" fill=\"white\" stroke=\"black\" stroke-width=\"2.000000\" stroke_linejoin=\"miter\" />\n",
       "<text x=\"150.000000\" y=\"228.000000\" font-size=\"10.000000\" text-anchor=\"middle\">pi</text>\n",
       "<path d=\"M 25 375 C 42 375 45 381 51 386 C 56 393 57 398.5 75 398.5 C 93 398.5 94 393 100 386 C 105 381 108 375 125 375\" fill=\"none\" stroke=\"black\" stroke-width=\"2.000000\" stroke-linejoin=\"miter\"/>\n",
       "<path d=\"M 25 425 C 42 425 45 419 51 414 C 56 407 57 401.5 75 401.5 C 93 401.5 94 407 100 414 C 105 419 108 425 125 425\" fill=\"none\" stroke=\"black\" stroke-width=\"2.000000\" stroke-linejoin=\"miter\"/>\n",
       "<text x=\"75.000000\" y=\"388.000000\" font-size=\"7.000000\" text-anchor=\"middle\">phi=pi/2</text>\n",
       "<polyline points=\"125 425 175 425\" fill=\"transparent\"stroke=\"black\" stroke-width=\"2.000000\" stroke-linejoin=\"miter\" />\n",
       "<polyline points=\"130 417 170 417 170 433 130 433 130 417\" fill=\"white\" stroke=\"black\" stroke-width=\"2.000000\" stroke_linejoin=\"miter\" />\n",
       "<text x=\"150.000000\" y=\"428.000000\" font-size=\"10.000000\" text-anchor=\"middle\">pi</text>\n",
       "<path d=\"M 25 475 C 42 475 45 481 51 486 C 56 493 57 498.5 75 498.5 C 93 498.5 94 493 100 486 C 105 481 108 475 125 475\" fill=\"none\" stroke=\"black\" stroke-width=\"2.000000\" stroke-linejoin=\"miter\"/>\n",
       "<path d=\"M 25 525 C 42 525 45 519 51 514 C 56 507 57 501.5 75 501.5 C 93 501.5 94 507 100 514 C 105 519 108 525 125 525\" fill=\"none\" stroke=\"black\" stroke-width=\"2.000000\" stroke-linejoin=\"miter\"/>\n",
       "<text x=\"75.000000\" y=\"488.000000\" font-size=\"7.000000\" text-anchor=\"middle\">phi=pi/2</text>\n",
       "<polyline points=\"125 525 175 525\" fill=\"transparent\"stroke=\"black\" stroke-width=\"2.000000\" stroke-linejoin=\"miter\" />\n",
       "<polyline points=\"130 517 170 517 170 533 130 533 130 517\" fill=\"white\" stroke=\"black\" stroke-width=\"2.000000\" stroke_linejoin=\"miter\" />\n",
       "<text x=\"150.000000\" y=\"528.000000\" font-size=\"10.000000\" text-anchor=\"middle\">pi</text>\n",
       "<polyline points=\"25 25 125 25\" fill=\"transparent\"stroke=\"black\" stroke-width=\"2.000000\" stroke-linejoin=\"miter\" />\n",
       "<path d=\"M 125 25 C 142 25 145 31 151 36 C 156 43 157 48.5 175 48.5 C 193 48.5 194 43 200 36 C 205 31 208 25 225 25\" fill=\"none\" stroke=\"black\" stroke-width=\"2.000000\" stroke-linejoin=\"miter\"/>\n",
       "<path d=\"M 125 75 C 142 75 145 69 151 64 C 156 57 157 51.5 175 51.5 C 193 51.5 194 57 200 64 C 205 69 208 75 225 75\" fill=\"none\" stroke=\"black\" stroke-width=\"2.000000\" stroke-linejoin=\"miter\"/>\n",
       "<text x=\"175.000000\" y=\"38.000000\" font-size=\"7.000000\" text-anchor=\"middle\">R=2/3</text>\n",
       "<polyline points=\"125 175 175 175\" fill=\"transparent\"stroke=\"black\" stroke-width=\"2.000000\" stroke-linejoin=\"miter\" />\n",
       "<path d=\"M 175 125 C 192 125 195 131 201 136 C 206 143 207 148.5 225 148.5 C 243 148.5 244 143 250 136 C 255 131 258 125 275 125\" fill=\"none\" stroke=\"black\" stroke-width=\"2.000000\" stroke-linejoin=\"miter\"/>\n",
       "<path d=\"M 175 175 C 192 175 195 169 201 164 C 206 157 207 151.5 225 151.5 C 243 151.5 244 157 250 164 C 255 169 258 175 275 175\" fill=\"none\" stroke=\"black\" stroke-width=\"2.000000\" stroke-linejoin=\"miter\"/>\n",
       "<text x=\"225.000000\" y=\"138.000000\" font-size=\"7.000000\" text-anchor=\"middle\">R=2/3</text>\n",
       "<polyline points=\"25 275 175 275\" fill=\"transparent\"stroke=\"black\" stroke-width=\"2.000000\" stroke-linejoin=\"miter\" />\n",
       "<path d=\"M 175 225 C 192 225 195 231 201 236 C 206 243 207 248.5 225 248.5 C 243 248.5 244 243 250 236 C 255 231 258 225 275 225\" fill=\"none\" stroke=\"black\" stroke-width=\"2.000000\" stroke-linejoin=\"miter\"/>\n",
       "<path d=\"M 175 275 C 192 275 195 269 201 264 C 206 257 207 251.5 225 251.5 C 243 251.5 244 257 250 264 C 255 269 258 275 275 275\" fill=\"none\" stroke=\"black\" stroke-width=\"2.000000\" stroke-linejoin=\"miter\"/>\n",
       "<text x=\"225.000000\" y=\"238.000000\" font-size=\"7.000000\" text-anchor=\"middle\">R=2/3</text>\n",
       "<polyline points=\"25 325 125 325\" fill=\"transparent\"stroke=\"black\" stroke-width=\"2.000000\" stroke-linejoin=\"miter\" />\n",
       "<path d=\"M 125 325 C 142 325 145 331 151 336 C 156 343 157 348.5 175 348.5 C 193 348.5 194 343 200 336 C 205 331 208 325 225 325\" fill=\"none\" stroke=\"black\" stroke-width=\"2.000000\" stroke-linejoin=\"miter\"/>\n",
       "<path d=\"M 125 375 C 142 375 145 369 151 364 C 156 357 157 351.5 175 351.5 C 193 351.5 194 357 200 364 C 205 369 208 375 225 375\" fill=\"none\" stroke=\"black\" stroke-width=\"2.000000\" stroke-linejoin=\"miter\"/>\n",
       "<text x=\"175.000000\" y=\"338.000000\" font-size=\"7.000000\" text-anchor=\"middle\">R=2/3</text>\n",
       "<polyline points=\"125 475 175 475\" fill=\"transparent\"stroke=\"black\" stroke-width=\"2.000000\" stroke-linejoin=\"miter\" />\n",
       "<path d=\"M 175 425 C 192 425 195 431 201 436 C 206 443 207 448.5 225 448.5 C 243 448.5 244 443 250 436 C 255 431 258 425 275 425\" fill=\"none\" stroke=\"black\" stroke-width=\"2.000000\" stroke-linejoin=\"miter\"/>\n",
       "<path d=\"M 175 475 C 192 475 195 469 201 464 C 206 457 207 451.5 225 451.5 C 243 451.5 244 457 250 464 C 255 469 258 475 275 475\" fill=\"none\" stroke=\"black\" stroke-width=\"2.000000\" stroke-linejoin=\"miter\"/>\n",
       "<text x=\"225.000000\" y=\"438.000000\" font-size=\"7.000000\" text-anchor=\"middle\">R=2/3</text>\n",
       "<polyline points=\"25 575 175 575\" fill=\"transparent\"stroke=\"black\" stroke-width=\"2.000000\" stroke-linejoin=\"miter\" />\n",
       "<path d=\"M 175 525 C 192 525 195 531 201 536 C 206 543 207 548.5 225 548.5 C 243 548.5 244 543 250 536 C 255 531 258 525 275 525\" fill=\"none\" stroke=\"black\" stroke-width=\"2.000000\" stroke-linejoin=\"miter\"/>\n",
       "<path d=\"M 175 575 C 192 575 195 569 201 564 C 206 557 207 551.5 225 551.5 C 243 551.5 244 557 250 564 C 255 569 258 575 275 575\" fill=\"none\" stroke=\"black\" stroke-width=\"2.000000\" stroke-linejoin=\"miter\"/>\n",
       "<text x=\"225.000000\" y=\"538.000000\" font-size=\"7.000000\" text-anchor=\"middle\">R=2/3</text>\n",
       "<path d=\"M 275 175 C 292 175 295 181 301 186 C 306 193 307 198.5 325 198.5 C 343 198.5 344 193 350 186 C 355 181 358 175 375 175\" fill=\"none\" stroke=\"black\" stroke-width=\"2.000000\" stroke-linejoin=\"miter\"/>\n",
       "<path d=\"M 275 225 C 292 225 295 219 301 214 C 306 207 307 201.5 325 201.5 C 343 201.5 344 207 350 214 C 355 219 358 225 375 225\" fill=\"none\" stroke=\"black\" stroke-width=\"2.000000\" stroke-linejoin=\"miter\"/>\n",
       "<text x=\"325.000000\" y=\"188.000000\" font-size=\"7.000000\" text-anchor=\"middle\">phi=pi/2</text>\n",
       "<polyline points=\"375 225 425 225\" fill=\"transparent\"stroke=\"black\" stroke-width=\"2.000000\" stroke-linejoin=\"miter\" />\n",
       "<polyline points=\"380 217 420 217 420 233 380 233 380 217\" fill=\"white\" stroke=\"black\" stroke-width=\"2.000000\" stroke_linejoin=\"miter\" />\n",
       "<text x=\"400.000000\" y=\"228.000000\" font-size=\"10.000000\" text-anchor=\"middle\">pi</text>\n",
       "<path d=\"M 275 475 C 292 475 295 481 301 486 C 306 493 307 498.5 325 498.5 C 343 498.5 344 493 350 486 C 355 481 358 475 375 475\" fill=\"none\" stroke=\"black\" stroke-width=\"2.000000\" stroke-linejoin=\"miter\"/>\n",
       "<path d=\"M 275 525 C 292 525 295 519 301 514 C 306 507 307 501.5 325 501.5 C 343 501.5 344 507 350 514 C 355 519 358 525 375 525\" fill=\"none\" stroke=\"black\" stroke-width=\"2.000000\" stroke-linejoin=\"miter\"/>\n",
       "<text x=\"325.000000\" y=\"488.000000\" font-size=\"7.000000\" text-anchor=\"middle\">phi=pi/2</text>\n",
       "<polyline points=\"375 525 425 525\" fill=\"transparent\"stroke=\"black\" stroke-width=\"2.000000\" stroke-linejoin=\"miter\" />\n",
       "<polyline points=\"380 517 420 517 420 533 380 533 380 517\" fill=\"white\" stroke=\"black\" stroke-width=\"2.000000\" stroke_linejoin=\"miter\" />\n",
       "<text x=\"400.000000\" y=\"528.000000\" font-size=\"10.000000\" text-anchor=\"middle\">pi</text>\n",
       "<polyline points=\"225 25 425 25\" fill=\"transparent\"stroke=\"black\" stroke-width=\"2.000000\" stroke-linejoin=\"miter\" />\n",
       "<polyline points=\"225 75 425 75\" fill=\"transparent\"stroke=\"black\" stroke-width=\"2.000000\" stroke-linejoin=\"miter\" />\n",
       "<polyline points=\"275 125 425 125\" fill=\"transparent\"stroke=\"black\" stroke-width=\"2.000000\" stroke-linejoin=\"miter\" />\n",
       "<polyline points=\"375 175 425 175\" fill=\"transparent\"stroke=\"black\" stroke-width=\"2.000000\" stroke-linejoin=\"miter\" />\n",
       "<polyline points=\"275 275 425 275\" fill=\"transparent\"stroke=\"black\" stroke-width=\"2.000000\" stroke-linejoin=\"miter\" />\n",
       "<polyline points=\"225 325 425 325\" fill=\"transparent\"stroke=\"black\" stroke-width=\"2.000000\" stroke-linejoin=\"miter\" />\n",
       "<polyline points=\"225 375 425 375\" fill=\"transparent\"stroke=\"black\" stroke-width=\"2.000000\" stroke-linejoin=\"miter\" />\n",
       "<polyline points=\"275 425 425 425\" fill=\"transparent\"stroke=\"black\" stroke-width=\"2.000000\" stroke-linejoin=\"miter\" />\n",
       "<polyline points=\"375 475 425 475\" fill=\"transparent\"stroke=\"black\" stroke-width=\"2.000000\" stroke-linejoin=\"miter\" />\n",
       "<polyline points=\"275 575 425 575\" fill=\"transparent\"stroke=\"black\" stroke-width=\"2.000000\" stroke-linejoin=\"miter\" />\n",
       "<path d=\"M 425 25 L 440 25\" fill=\"none\" stroke=\"black\" stroke-width=\"2.000000\" stroke-linejoin=\"miter\"/>\n",
       "<text x=\"450.000000\" y=\"25.000000\" font-size=\"6.000000\" text-anchor=\"end\">0</text>\n",
       "<path d=\"M 425 75 L 440 75\" fill=\"none\" stroke=\"black\" stroke-width=\"2.000000\" stroke-linejoin=\"miter\"/>\n",
       "<text x=\"450.000000\" y=\"75.000000\" font-size=\"6.000000\" text-anchor=\"end\">1</text>\n",
       "<path d=\"M 425 125 L 440 125\" fill=\"none\" stroke=\"black\" stroke-width=\"2.000000\" stroke-linejoin=\"miter\"/>\n",
       "<text x=\"450.000000\" y=\"125.000000\" font-size=\"6.000000\" text-anchor=\"end\">2</text>\n",
       "<path d=\"M 425 175 L 440 175\" fill=\"none\" stroke=\"black\" stroke-width=\"2.000000\" stroke-linejoin=\"miter\"/>\n",
       "<text x=\"450.000000\" y=\"175.000000\" font-size=\"6.000000\" text-anchor=\"end\">3</text>\n",
       "<path d=\"M 425 225 L 440 225\" fill=\"none\" stroke=\"black\" stroke-width=\"2.000000\" stroke-linejoin=\"miter\"/>\n",
       "<text x=\"450.000000\" y=\"225.000000\" font-size=\"6.000000\" text-anchor=\"end\">4</text>\n",
       "<path d=\"M 425 275 L 440 275\" fill=\"none\" stroke=\"black\" stroke-width=\"2.000000\" stroke-linejoin=\"miter\"/>\n",
       "<text x=\"450.000000\" y=\"275.000000\" font-size=\"6.000000\" text-anchor=\"end\">5</text>\n",
       "<path d=\"M 425 325 L 440 325\" fill=\"none\" stroke=\"black\" stroke-width=\"2.000000\" stroke-linejoin=\"miter\"/>\n",
       "<text x=\"450.000000\" y=\"325.000000\" font-size=\"6.000000\" text-anchor=\"end\">6</text>\n",
       "<path d=\"M 425 375 L 440 375\" fill=\"none\" stroke=\"black\" stroke-width=\"2.000000\" stroke-linejoin=\"miter\"/>\n",
       "<text x=\"450.000000\" y=\"375.000000\" font-size=\"6.000000\" text-anchor=\"end\">7</text>\n",
       "<path d=\"M 425 425 L 440 425\" fill=\"none\" stroke=\"black\" stroke-width=\"2.000000\" stroke-linejoin=\"miter\"/>\n",
       "<text x=\"450.000000\" y=\"425.000000\" font-size=\"6.000000\" text-anchor=\"end\">8</text>\n",
       "<path d=\"M 425 475 L 440 475\" fill=\"none\" stroke=\"black\" stroke-width=\"2.000000\" stroke-linejoin=\"miter\"/>\n",
       "<text x=\"450.000000\" y=\"475.000000\" font-size=\"6.000000\" text-anchor=\"end\">9</text>\n",
       "<path d=\"M 425 525 L 440 525\" fill=\"none\" stroke=\"black\" stroke-width=\"2.000000\" stroke-linejoin=\"miter\"/>\n",
       "<text x=\"450.000000\" y=\"525.000000\" font-size=\"6.000000\" text-anchor=\"end\">10</text>\n",
       "<path d=\"M 425 575 L 440 575\" fill=\"none\" stroke=\"black\" stroke-width=\"2.000000\" stroke-linejoin=\"miter\"/>\n",
       "<text x=\"450.000000\" y=\"575.000000\" font-size=\"6.000000\" text-anchor=\"end\">11</text></svg>"
      ],
      "text/plain": [
       "<IPython.core.display.HTML object>"
      ]
     },
     "metadata": {},
     "output_type": "display_data"
    }
   ],
   "source": [
    "print(\"Optical circuit for Shor's algorithm\")\n",
    "pcvl.pdisplay(circ)"
   ]
  },
  {
   "cell_type": "code",
   "execution_count": 8,
   "id": "00d193de",
   "metadata": {
    "scrolled": false
   },
   "outputs": [
    {
     "name": "stdout",
     "output_type": "stream",
     "text": [
      "The associated matrix\n"
     ]
    },
    {
     "data": {
      "text/html": [
       "$\\left[\\begin{array}{cccccccccccc}\\frac{\\sqrt{3}}{3} & \\frac{\\sqrt{3} i}{3} & \\frac{\\sqrt{3} i}{3} & 0 & 0 & 0 & 0 & 0 & 0 & 0 & 0 & 0\\\\\\frac{\\sqrt{6} i}{3} & \\frac{\\sqrt{6}}{6} & \\frac{\\sqrt{6}}{6} & 0 & 0 & 0 & 0 & 0 & 0 & 0 & 0 & 0\\\\0 & \\frac{\\sqrt{6}}{6} & - \\frac{\\sqrt{6}}{6} & \\frac{\\sqrt{3} i}{3} & \\frac{\\sqrt{3} i}{3} & 0 & 0 & 0 & 0 & 0 & 0 & 0\\\\0 & \\frac{\\sqrt{6} i}{6} & - \\frac{\\sqrt{6} i}{6} & \\frac{\\sqrt{3}}{3} & 0 & \\frac{\\sqrt{3} i}{3} & 0 & 0 & 0 & 0 & 0 & 0\\\\0 & \\frac{\\sqrt{6} i}{6} & - \\frac{\\sqrt{6} i}{6} & 0 & \\frac{\\sqrt{3}}{3} & - \\frac{\\sqrt{3} i}{3} & 0 & 0 & 0 & 0 & 0 & 0\\\\0 & 0 & 0 & \\frac{\\sqrt{3} i}{3} & - \\frac{\\sqrt{3} i}{3} & \\frac{\\sqrt{3}}{3} & 0 & 0 & 0 & 0 & 0 & 0\\\\0 & 0 & 0 & 0 & 0 & 0 & \\frac{\\sqrt{3}}{3} & \\frac{\\sqrt{3} i}{3} & \\frac{\\sqrt{3} i}{3} & 0 & 0 & 0\\\\0 & 0 & 0 & 0 & 0 & 0 & \\frac{\\sqrt{6} i}{3} & \\frac{\\sqrt{6}}{6} & \\frac{\\sqrt{6}}{6} & 0 & 0 & 0\\\\0 & 0 & 0 & 0 & 0 & 0 & 0 & \\frac{\\sqrt{6}}{6} & - \\frac{\\sqrt{6}}{6} & \\frac{\\sqrt{3} i}{3} & \\frac{\\sqrt{3} i}{3} & 0\\\\0 & 0 & 0 & 0 & 0 & 0 & 0 & \\frac{\\sqrt{6} i}{6} & - \\frac{\\sqrt{6} i}{6} & \\frac{\\sqrt{3}}{3} & 0 & \\frac{\\sqrt{3} i}{3}\\\\0 & 0 & 0 & 0 & 0 & 0 & 0 & \\frac{\\sqrt{6} i}{6} & - \\frac{\\sqrt{6} i}{6} & 0 & \\frac{\\sqrt{3}}{3} & - \\frac{\\sqrt{3} i}{3}\\\\0 & 0 & 0 & 0 & 0 & 0 & 0 & 0 & 0 & \\frac{\\sqrt{3} i}{3} & - \\frac{\\sqrt{3} i}{3} & \\frac{\\sqrt{3}}{3}\\end{array}\\right]$"
      ],
      "text/plain": [
       "<IPython.core.display.HTML object>"
      ]
     },
     "metadata": {},
     "output_type": "display_data"
    }
   ],
   "source": [
    "print(\"The associated matrix\")\n",
    "pcvl.pdisplay(circ.U)"
   ]
  },
  {
   "cell_type": "markdown",
   "id": "7bdc227b",
   "metadata": {},
   "source": [
    "### Input state"
   ]
  },
  {
   "cell_type": "markdown",
   "id": "4e1ced97",
   "metadata": {},
   "source": [
    "In the preliminaries we provided functions to map qubit states to the corresponding Fock states and vice-versa.\n",
    "\n",
    "A *computational basis qubit state* on qubits $x_1, f_1, x_2, f_2$ is represented with a list of 4 boolean values.\n",
    "\n",
    "A *Fock state* is represented with a list of twelve integer values.\n",
    "As described above, for Fock states, the modes are enumerated as follows:\n",
    "* mode pairs $(1,2), (3,4), (7,8), (9,10)$ respectively correspond to states $0,1$ for qubits $x_1, f_1, x_2, f_2$\n",
    "* modes $0,5,6,11$ are auxiliary modes used for CZ gates"
   ]
  },
  {
   "cell_type": "markdown",
   "id": "51d9eca7",
   "metadata": {},
   "source": [
    "The input state of the circuit is $|0\\rangle_{x_1}|0\\rangle_{x_2}|0\\rangle_{f_1}|1\\rangle_{f_2}$.\n",
    "With path encoding this corresponds to sending 4 photons in total in the optical circuit, in the input modes corresponding to the inital state of each qubit."
   ]
  },
  {
   "cell_type": "code",
   "execution_count": 9,
   "id": "79f7ca45",
   "metadata": {
    "scrolled": false
   },
   "outputs": [
    {
     "name": "stdout",
     "output_type": "stream",
     "text": [
      "Input qubit state: |0,0,0,1>\n",
      "Corresponding input Fock state: |0,1,0,1,0,0,0,1,0,0,1,0>\n"
     ]
    }
   ],
   "source": [
    "qubit_istate = [0,0,0,1]\n",
    "istate = toFockState(qubit_istate)\n",
    "\n",
    "print(\"Input qubit state:\", strState(qubit_istate))\n",
    "print(\"Corresponding input Fock state:\", strState(istate))"
   ]
  },
  {
   "cell_type": "markdown",
   "id": "d3f88c02",
   "metadata": {},
   "source": [
    "## Simulation"
   ]
  },
  {
   "cell_type": "code",
   "execution_count": 10,
   "id": "ca10ff5e",
   "metadata": {},
   "outputs": [],
   "source": [
    "backend = pcvl.BackendFactory().get_backend(\"Naive\")\n",
    "simulator = backend(circ)"
   ]
  },
  {
   "cell_type": "markdown",
   "id": "e81a4f44",
   "metadata": {},
   "source": [
    "### Computing the output state"
   ]
  },
  {
   "cell_type": "markdown",
   "id": "c4e62d76",
   "metadata": {},
   "source": [
    "Using perceval we compute the output state obtained with the optical circuit."
   ]
  },
  {
   "cell_type": "markdown",
   "id": "2f3e6f17",
   "metadata": {},
   "source": [
    "#### Amplitudes\n",
    "\n",
    "We first decompose the output state in the computational basis and plot the corresponding amplitudes."
   ]
  },
  {
   "cell_type": "code",
   "execution_count": 11,
   "id": "0cd16853",
   "metadata": {
    "scrolled": true
   },
   "outputs": [
    {
     "name": "stdout",
     "output_type": "stream",
     "text": [
      "Output state amplitudes: (post-selected on qubit states, not renormalized)\n",
      "|x1,x2,f1,f2>\n",
      "|0,0,0,0> 1.925929944387236e-34j\n",
      "|0,0,0,1> -7.703719777548943e-34j\n",
      "|0,0,1,0> -3.851859888774472e-34j\n",
      "|0,0,1,1> 3.851859888774472e-34j\n",
      "|0,1,0,0> (-1.734723475976807e-18+6.938893903907228e-18j)\n",
      "|0,1,0,1> (-1.734723475976807e-18+7.806255641895632e-18j)\n",
      "|0,1,1,0> (-1.734723475976807e-18+1.734723475976807e-18j)\n",
      "|0,1,1,1> (-1.734723475976807e-18+3.469446951953614e-18j)\n",
      "|1,0,0,0> (-1.734723475976807e-18+4.336808689942018e-18j)\n",
      "|1,0,0,1> (-1.734723475976807e-18-1.734723475976807e-18j)\n",
      "|1,0,1,0> (-1.734723475976807e-18+4.336808689942018e-18j)\n",
      "|1,0,1,1> (-1.734723475976807e-18+0j)\n",
      "|1,1,0,0> (-0.05555555555555561+4.5102810375396984e-17j)\n",
      "|1,1,0,1> (-0.0555555555555556+4.5102810375396984e-17j)\n",
      "|1,1,1,0> (-0.05555555555555559+4.5102810375396984e-17j)\n",
      "|1,1,1,1> (-0.055555555555555594+5.0306980803327406e-17j)\n"
     ]
    }
   ],
   "source": [
    "output_qubit_states = [\n",
    "    [x1,x2,f1,f2]\n",
    "    for x1 in [0,1] for x2 in [0,1] for f1 in [0,1] for f2 in [0,1]\n",
    "]\n",
    "\n",
    "print(\"Output state amplitudes: (post-selected on qubit states, not renormalized)\")\n",
    "print(\"|x1,x2,f1,f2>\")\n",
    "for oqstate in output_qubit_states:\n",
    "    ostate = toFockState(oqstate)\n",
    "    a = simulator.probampli(pcvl.BasicState(pcvl.BasicState(istate)), pcvl.BasicState(ostate))\n",
    "    print(strState(oqstate), a)"
   ]
  },
  {
   "cell_type": "markdown",
   "id": "43e94f97",
   "metadata": {},
   "source": [
    "The amplitudes obtained with perceval correspond to the expected output state\n",
    "$$\\frac{1}{2} \\left ( |0\\rangle_{x_1}|0\\rangle_{f_1} + |1\\rangle_{x_1}|1\\rangle_{f_1} \\right ) \\otimes \\left ( |0\\rangle_{x_2}|1\\rangle_{f_2} + |1\\rangle_{x_2}|0\\rangle_{f_2} \\right )$$\n",
    "up to numerical precision, without renormalization."
   ]
  },
  {
   "cell_type": "markdown",
   "id": "300664ac",
   "metadata": {},
   "source": [
    "#### Distribution\n",
    "\n",
    "We now compute the probabilities to obtain each outcome corresponding to measuring the expected output state in the computational basis."
   ]
  },
  {
   "cell_type": "code",
   "execution_count": 12,
   "id": "2277ec12",
   "metadata": {
    "scrolled": false
   },
   "outputs": [
    {
     "name": "stdout",
     "output_type": "stream",
     "text": [
      "Output state distribution: (post-selected on expected qubit states, not renormalized)\n",
      "|x1,x2,f1,f2>\n"
     ]
    },
    {
     "data": {
      "text/html": [
       "<table>\n",
       "<thead>\n",
       "<tr><th>         </th><th style=\"text-align: right;\">  |0,0,0,1&gt;</th><th style=\"text-align: right;\">  |0,1,0,0&gt;</th><th style=\"text-align: right;\">  |1,0,1,1&gt;</th><th style=\"text-align: right;\">  |1,1,1,0&gt;</th></tr>\n",
       "</thead>\n",
       "<tbody>\n",
       "<tr><td>|0,0,0,1&gt;</td><td style=\"text-align: right;\">          0</td><td style=\"text-align: right;\">          0</td><td style=\"text-align: right;\">          0</td><td style=\"text-align: right;\">   0.003086</td></tr>\n",
       "</tbody>\n",
       "</table>"
      ],
      "text/plain": [
       "<IPython.core.display.HTML object>"
      ]
     },
     "metadata": {},
     "output_type": "display_data"
    }
   ],
   "source": [
    "input_states = {\n",
    "    pcvl.BasicState(pcvl.BasicState(istate)): strState(qubit_istate)\n",
    "}\n",
    "\n",
    "expected_output_states = {\n",
    "    pcvl.BasicState(toFockState([x1,x2,x1,1-x2])): strState([x1,x2,x1,1-x2])\n",
    "    for x1 in [0,1] for x2 in [0,1]\n",
    "}\n",
    "\n",
    "ca = pcvl.CircuitAnalyser(simulator, input_states, expected_output_states)\n",
    "ca.compute()\n",
    "\n",
    "print(\"Output state distribution: (post-selected on expected qubit states, not renormalized)\")\n",
    "print(\"|x1,x2,f1,f2>\")\n",
    "pcvl.pdisplay(ca)"
   ]
  },
  {
   "cell_type": "markdown",
   "id": "5e464e2c",
   "metadata": {},
   "source": [
    "The distribution computed with Perceval is uniform over each outcome, which corresponds to the expected distribution obtained in the paper when $x_0 = 0$."
   ]
  },
  {
   "cell_type": "markdown",
   "id": "af369211",
   "metadata": {},
   "source": [
    "### Interpretation of the outcomes\n",
    "\n",
    "For each outcome we consider the values of qubits $x_2, x_1, x_0$ (where $x_0$ is 0) which represent a binary number between 0 and 7, here corresponding to 0, 4, 2 and 6 in the order of the table above.\n",
    "After sampling the circuit, obtainig outcomes 2 or 6 allows to successfully compute the order $r=4$.\n",
    "Obtaining outcome 0 is an expected failure of the quantum circuit, inherent to Shor's algorithm.\n",
    "Outcome 4 is an expected failure as well, as it only allows to compute the trivial factors 1 and 15.\n",
    "\n",
    "Since the distribution is uniform the circuit successfully yields a successful outcome with probability 1/2. This probability can be amplified exponentially close to $1$ by sampling the circuit multiple times."
   ]
  }
 ],
 "metadata": {
  "kernelspec": {
   "display_name": "Python 3 (ipykernel)",
   "language": "python",
   "name": "python3"
  },
  "language_info": {
   "codemirror_mode": {
    "name": "ipython",
    "version": 3
   },
   "file_extension": ".py",
   "mimetype": "text/x-python",
   "name": "python",
   "nbconvert_exporter": "python",
   "pygments_lexer": "ipython3",
   "version": "3.9.7"
  }
 },
 "nbformat": 4,
 "nbformat_minor": 5
}
