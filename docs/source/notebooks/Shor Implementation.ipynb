{
 "cells": [
  {
   "cell_type": "markdown",
   "id": "c2f4fd6c",
   "metadata": {},
   "source": [
    "# Implementing Shor's algorithm in Perceval"
   ]
  },
  {
   "cell_type": "markdown",
   "id": "5162c9b8",
   "metadata": {},
   "source": [
    "This notebook presents a simulation in Perceval of a 4-qubit 12-modes optical circuit performing Shor's algorithm, based on Alberto Politi, Jonathan C.F. Matthews, and Jeremy L. O'brien. \"Shor’s quantum factoring algorithm on a photonic chip.\" Science 325.5945 (2009): 1221-1221. https://www.science.org/doi/10.1126/science.1173731"
   ]
  },
  {
   "cell_type": "markdown",
   "id": "f29e5abf",
   "metadata": {},
   "source": [
    "## Shor's algorithm"
   ]
  },
  {
   "cell_type": "markdown",
   "id": "5dd3a2a5",
   "metadata": {},
   "source": [
    "The purpose of Shor's algorithm is to find nontrivial factors of a given number $N$ in polynomial time, yielding an near-exponential speedup compared to state of the art classical algortihms.\n",
    "\n",
    "The main routine of Shor's algorithm consists in finding the order $r$ of a number $a \\in \\mathbb{Z}_N$, i.e. the smallest integer $r$ such that $a^r = 1 \\pmod N$.\n",
    "\n",
    "If the order of a randoly chosen $a$ which is coprime with $N$ is even, then $(a^{r/2} - 1)(a^{r/2} + 1) = k N$. If none of these factors are multiples of $N$, then $\\gcd(N, a^{r/2} - 1)$ and $\\gcd(N, a^{r/2} + 1)$ are nontrivial factors of $N$."
   ]
  },
  {
   "cell_type": "markdown",
   "id": "ff756302",
   "metadata": {},
   "source": [
    "## Preliminaries"
   ]
  },
  {
   "cell_type": "code",
   "execution_count": 1,
   "id": "8b013239",
   "metadata": {},
   "outputs": [
    {
     "name": "stdout",
     "output_type": "stream",
     "text": [
      "Python version: 3.9.7 | packaged by conda-forge | (default, Sep 29 2021, 19:20:46) \n",
      "[GCC 9.4.0]\n"
     ]
    }
   ],
   "source": [
    "import sys\n",
    "print(\"Python version:\", sys.version)"
   ]
  },
  {
   "cell_type": "code",
   "execution_count": 2,
   "id": "55fe7a18",
   "metadata": {
    "scrolled": true
   },
   "outputs": [
    {
     "name": "stdout",
     "output_type": "stream",
     "text": [
      "Perceval version: 0.3.0a2\n"
     ]
    }
   ],
   "source": [
    "from IPython import display\n",
    "from collections import Counter\n",
    "from tabulate import tabulate\n",
    "from tqdm.auto import tqdm\n",
    "\n",
    "import sympy as sp\n",
    "import numpy as np\n",
    "from scipy.optimize import minimize\n",
    "\n",
    "import perceval as pcvl\n",
    "import quandelibc as qc\n",
    "import perceval.lib.phys as phys\n",
    "import perceval.lib.symb as symb\n",
    "\n",
    "print(\"Perceval version:\", pcvl.__version__)"
   ]
  },
  {
   "cell_type": "markdown",
   "id": "826377de",
   "metadata": {},
   "source": [
    "### Path encoding functions\n",
    "\n",
    "The following functions allow for conversion between the qubit and Fock state representations."
   ]
  },
  {
   "cell_type": "code",
   "execution_count": 3,
   "id": "cd2bbda8",
   "metadata": {},
   "outputs": [],
   "source": [
    "def toFockState(qubitState):\n",
    "    # path encoding\n",
    "    pe = {0:[1,0],  1:[0,1]}\n",
    "    return [0] + pe[qubitState[0]] + pe[qubitState[2]] + [0, 0] + pe[qubitState[1]] + pe[qubitState[3]] + [0]"
   ]
  },
  {
   "cell_type": "code",
   "execution_count": 4,
   "id": "55ee4ce8",
   "metadata": {},
   "outputs": [],
   "source": [
    "def toQubitState(fockState):\n",
    "    # qubit modes\n",
    "    x1 = [1, 2]\n",
    "    f1 = [3, 4]\n",
    "    x2 = [7, 8]\n",
    "    f2 = [9, 10]\n",
    "    # auxiliary modes\n",
    "    am1 = [0, 5]\n",
    "    am2 = [6, 11]\n",
    "    \n",
    "    # auxiliary modes\n",
    "    for i in am1 + am2:\n",
    "        if fockState[i]!=0:\n",
    "            return None\n",
    "    L=[]\n",
    "    # qubit modes\n",
    "    for q in [x1, x2, f1, f2]:\n",
    "        if fockState[q[0]]+fockState[q[1]] != 1:\n",
    "            return None\n",
    "        else:\n",
    "            L.append(fockState[q[1]])\n",
    "    return L"
   ]
  },
  {
   "cell_type": "code",
   "execution_count": 5,
   "id": "39b1c269",
   "metadata": {},
   "outputs": [],
   "source": [
    "def strState(state):\n",
    "    return str(pcvl.FockState(state))"
   ]
  },
  {
   "cell_type": "markdown",
   "id": "016e2534",
   "metadata": {},
   "source": [
    "## The circuit"
   ]
  },
  {
   "cell_type": "markdown",
   "id": "01c60397",
   "metadata": {},
   "source": [
    "### Quantum circuit\n",
    "\n",
    "The quantum circuit has been optimized after choosing parameters $N = 15$ and $a = 2$, and aims to calculate $r=4$.\n",
    "It features 5 qubits labelled $x_0, x_1, x_2$ and $f_1, f_2$. Qubits $x_i$ and $f_1$ are initially in state $|0\\rangle$, and $f_2$ in state $|1\\rangle$.\n",
    "In the non-optimised Shor algorithm, qubits $x_i$ encode a binary number representing a pre-image of the Modular Exponentiation Function (MEF) $x \\mapsto a^x \\pmod N$, while qubits $f_i$ hold the image obtained after applying the MEF to qubits $x_i$. Applying the MEF when qubits $x_i$ hold a superposition of different pre-images (obtained with H gates on qubits $x_i$) allows to efficiently compute the order $r$ of parameter $a$ modulo $N$.\n",
    "\n",
    "The circuit consists of $\\mathsf{H}$ gates being first applied to each $x_i$ qubit, followed by $\\mathsf{CNOT}$ gates applied on $x_1, f_1$ and $x_2, f_2$ pairs, where $x_i$ are control qubits; finally the inverse $\\mathsf{QFT}$ algorithm is applied on qubits $x_i$.\n",
    "\n",
    "$\\mathsf{CNOT}$ gates on $x_i, f_i$ pairs ($x_i$ being the control) are implemented using $\\mathsf{H}$ and $\\mathsf{CZ}$ gates: the $\\mathsf{CZ}$ gate is sandwiched between two applications of $\\mathsf{H}$ on $f_i$.\n",
    "\n",
    "The input state of the circuit after optimisation is $|0\\rangle_{x_0}|0\\rangle_{x_1}|0\\rangle_{x_2}|0\\rangle_{f_1}|1\\rangle_{f_2}$.\n",
    "\n",
    "The expected output state is then $\\frac{1}{2} |0\\rangle_{x_0} \\otimes \\left ( |0\\rangle_{x_1}|0\\rangle_{f_1} + |1\\rangle_{x_1}|1\\rangle_{f_1} \\right ) \\otimes \\left ( |0\\rangle_{x_2}|1\\rangle_{f_2} + |1\\rangle_{x_2}|0\\rangle_{f_2} \\right )$."
   ]
  },
  {
   "cell_type": "markdown",
   "id": "b7b25cf5",
   "metadata": {},
   "source": [
    "### Photonic circuit\n",
    "\n",
    "The optical circuit from the result by Politi et al features twelve modes (ordered from 0 to 11 from top to bottom).\n",
    "\n",
    "During the execution, qubit $x_0$ remains unentangled from the other qubits. It can therefore be removed from the optical implementation.\n",
    "\n",
    "The qubits $x_1, x_2, f_1, f_2$ are path encoded as modes $(1, 2)$, $(3, 4)$, $(7, 8)$, $(9, 10)$ respectively. The four remaining modes are used as auxiliary modes to implement the $\\mathsf{CZ}$ gates.\n",
    "\n",
    "With path encoding each $\\mathsf{H}$ gate in the quantum circuit is implemented with a beam splitter with reflectivity $R=1/2$ between the two pathes corresponding to the qubit. In our implementation in Perceval, phase shifters are added to properly tune the phase between each path.\n",
    "\n",
    "$\\mathsf{CZ}$ gates are implemented with three beam splitters with reflectivity $R=2/3$ acting on six modes: one inner BS creates interference between the two qubits, and two outer BS balance detection probability using auxiliary modes.\n",
    "This optical implementation succesfully yields the output state produced by a $\\mathsf{CZ}$ gate with probability 1/9; otherwise it creates a dummy state, which can be removed by post-selection.\n",
    "\n",
    "In the case $r=4$ the QFT can be performed classically and doesn't need to be implemented in the photonic circuit."
   ]
  },
  {
   "cell_type": "markdown",
   "id": "3acb2273",
   "metadata": {},
   "source": [
    "## In perceval"
   ]
  },
  {
   "cell_type": "markdown",
   "id": "7aa60c25",
   "metadata": {},
   "source": [
    "### Implementing the circuit"
   ]
  },
  {
   "cell_type": "code",
   "execution_count": 6,
   "id": "2fe3a053",
   "metadata": {},
   "outputs": [],
   "source": [
    "circ = pcvl.Circuit(12)\n",
    "\n",
    "# qubit modes\n",
    "# for qubit states 0, 1\n",
    "x1 = [1, 2]\n",
    "f1 = [3, 4]\n",
    "x2 = [7, 8]\n",
    "f2 = [9, 10]\n",
    "# auxiliary modes\n",
    "am1 = [0, 5]\n",
    "am2 = [6, 11]\n",
    "\n",
    "\n",
    "# H gates\n",
    "for q in [x1, f1, x2, f2]:\n",
    "    circ.add(q, symb.BS(R=1/2, phi=sp.pi/2))\n",
    "    circ.add(q[1], symb.PS(phi=sp.pi))\n",
    "\n",
    "# CZ gates\n",
    "for x, f, am in [(x1, f1, am1), (x2, f2, am2)]:\n",
    "    circ.add((am[0], x[0]), symb.BS(R=2/3)) # T = 1/3\n",
    "    circ.add((x[1],  f[0]), symb.BS(R=2/3))\n",
    "    circ.add((f[1], am[1]), symb.BS(R=2/3))\n",
    "\n",
    "# H gates\n",
    "for q in [f1, f2]:\n",
    "    circ.add(q, symb.BS(R=1/2, phi=sp.pi/2))\n",
    "    circ.add(q[1], symb.PS(phi=sp.pi))"
   ]
  },
  {
   "cell_type": "code",
   "execution_count": 9,
   "id": "034d5e45",
   "metadata": {
    "scrolled": false
   },
   "outputs": [
    {
     "name": "stdout",
     "output_type": "stream",
     "text": [
      "Optical circuit for Shor's algorithm\n"
     ]
    },
    {
     "data": {
      "text/html": [
       "<svg width='400.000000' height='600.000000' viewBox='0.000000 0.000000 400.000000 600.000000'><path d=\"M 0 75 C 17 75 20 80 26 86 S 33 98 50 98 S 67 98 74 86 C 80 80 83 75 100 75\" fill=\"none\" stroke=\"black\" stroke-width=\"2.000000\" stroke-linejoin=\"miter\"/>\n",
       "<path d=\"M 0 125 C 17 125 20 120 26 114 S 33 102 50 102 S 67 102 74 114 C 80 120 83 125 100 125\" fill=\"none\" stroke=\"black\" stroke-width=\"2.000000\" stroke-linejoin=\"miter\"/>\n",
       "<polyline points=\"100 125 150 125\" fill=\"transparent\"stroke=\"black\" stroke-width=\"2.000000\" stroke-linejoin=\"miter\" />\n",
       "<polyline points=\"105 117 145 117 145 133 105 133 105 117\" fill=\"white\" stroke=\"black\" stroke-width=\"2.000000\" stroke_linejoin=\"miter\" />\n",
       "<text x=\"125.000000\" y=\"128.000000\" font-size=\"10.000000\" text-anchor=\"middle\">pi</text>\n",
       "<path d=\"M 0 175 C 17 175 20 180 26 186 S 33 198 50 198 S 67 198 74 186 C 80 180 83 175 100 175\" fill=\"none\" stroke=\"black\" stroke-width=\"2.000000\" stroke-linejoin=\"miter\"/>\n",
       "<path d=\"M 0 225 C 17 225 20 220 26 214 S 33 202 50 202 S 67 202 74 214 C 80 220 83 225 100 225\" fill=\"none\" stroke=\"black\" stroke-width=\"2.000000\" stroke-linejoin=\"miter\"/>\n",
       "<polyline points=\"100 225 150 225\" fill=\"transparent\"stroke=\"black\" stroke-width=\"2.000000\" stroke-linejoin=\"miter\" />\n",
       "<polyline points=\"105 217 145 217 145 233 105 233 105 217\" fill=\"white\" stroke=\"black\" stroke-width=\"2.000000\" stroke_linejoin=\"miter\" />\n",
       "<text x=\"125.000000\" y=\"228.000000\" font-size=\"10.000000\" text-anchor=\"middle\">pi</text>\n",
       "<path d=\"M 0 375 C 17 375 20 380 26 386 S 33 398 50 398 S 67 398 74 386 C 80 380 83 375 100 375\" fill=\"none\" stroke=\"black\" stroke-width=\"2.000000\" stroke-linejoin=\"miter\"/>\n",
       "<path d=\"M 0 425 C 17 425 20 420 26 414 S 33 402 50 402 S 67 402 74 414 C 80 420 83 425 100 425\" fill=\"none\" stroke=\"black\" stroke-width=\"2.000000\" stroke-linejoin=\"miter\"/>\n",
       "<polyline points=\"100 425 150 425\" fill=\"transparent\"stroke=\"black\" stroke-width=\"2.000000\" stroke-linejoin=\"miter\" />\n",
       "<polyline points=\"105 417 145 417 145 433 105 433 105 417\" fill=\"white\" stroke=\"black\" stroke-width=\"2.000000\" stroke_linejoin=\"miter\" />\n",
       "<text x=\"125.000000\" y=\"428.000000\" font-size=\"10.000000\" text-anchor=\"middle\">pi</text>\n",
       "<path d=\"M 0 475 C 17 475 20 480 26 486 S 33 498 50 498 S 67 498 74 486 C 80 480 83 475 100 475\" fill=\"none\" stroke=\"black\" stroke-width=\"2.000000\" stroke-linejoin=\"miter\"/>\n",
       "<path d=\"M 0 525 C 17 525 20 520 26 514 S 33 502 50 502 S 67 502 74 514 C 80 520 83 525 100 525\" fill=\"none\" stroke=\"black\" stroke-width=\"2.000000\" stroke-linejoin=\"miter\"/>\n",
       "<polyline points=\"100 525 150 525\" fill=\"transparent\"stroke=\"black\" stroke-width=\"2.000000\" stroke-linejoin=\"miter\" />\n",
       "<polyline points=\"105 517 145 517 145 533 105 533 105 517\" fill=\"white\" stroke=\"black\" stroke-width=\"2.000000\" stroke_linejoin=\"miter\" />\n",
       "<text x=\"125.000000\" y=\"528.000000\" font-size=\"10.000000\" text-anchor=\"middle\">pi</text>\n",
       "<polyline points=\"0 25 100 25\" fill=\"transparent\"stroke=\"black\" stroke-width=\"2.000000\" stroke-linejoin=\"miter\" />\n",
       "<path d=\"M 100 25 C 117 25 120 30 126 36 S 133 48 150 48 S 167 48 174 36 C 180 30 183 25 200 25\" fill=\"none\" stroke=\"black\" stroke-width=\"2.000000\" stroke-linejoin=\"miter\"/>\n",
       "<path d=\"M 100 75 C 117 75 120 70 126 64 S 133 52 150 52 S 167 52 174 64 C 180 70 183 75 200 75\" fill=\"none\" stroke=\"black\" stroke-width=\"2.000000\" stroke-linejoin=\"miter\"/>\n",
       "<polyline points=\"100 175 150 175\" fill=\"transparent\"stroke=\"black\" stroke-width=\"2.000000\" stroke-linejoin=\"miter\" />\n",
       "<path d=\"M 150 125 C 167 125 170 130 176 136 S 183 148 200 148 S 217 148 224 136 C 230 130 233 125 250 125\" fill=\"none\" stroke=\"black\" stroke-width=\"2.000000\" stroke-linejoin=\"miter\"/>\n",
       "<path d=\"M 150 175 C 167 175 170 170 176 164 S 183 152 200 152 S 217 152 224 164 C 230 170 233 175 250 175\" fill=\"none\" stroke=\"black\" stroke-width=\"2.000000\" stroke-linejoin=\"miter\"/>\n",
       "<polyline points=\"0 275 150 275\" fill=\"transparent\"stroke=\"black\" stroke-width=\"2.000000\" stroke-linejoin=\"miter\" />\n",
       "<path d=\"M 150 225 C 167 225 170 230 176 236 S 183 248 200 248 S 217 248 224 236 C 230 230 233 225 250 225\" fill=\"none\" stroke=\"black\" stroke-width=\"2.000000\" stroke-linejoin=\"miter\"/>\n",
       "<path d=\"M 150 275 C 167 275 170 270 176 264 S 183 252 200 252 S 217 252 224 264 C 230 270 233 275 250 275\" fill=\"none\" stroke=\"black\" stroke-width=\"2.000000\" stroke-linejoin=\"miter\"/>\n",
       "<polyline points=\"0 325 100 325\" fill=\"transparent\"stroke=\"black\" stroke-width=\"2.000000\" stroke-linejoin=\"miter\" />\n",
       "<path d=\"M 100 325 C 117 325 120 330 126 336 S 133 348 150 348 S 167 348 174 336 C 180 330 183 325 200 325\" fill=\"none\" stroke=\"black\" stroke-width=\"2.000000\" stroke-linejoin=\"miter\"/>\n",
       "<path d=\"M 100 375 C 117 375 120 370 126 364 S 133 352 150 352 S 167 352 174 364 C 180 370 183 375 200 375\" fill=\"none\" stroke=\"black\" stroke-width=\"2.000000\" stroke-linejoin=\"miter\"/>\n",
       "<polyline points=\"100 475 150 475\" fill=\"transparent\"stroke=\"black\" stroke-width=\"2.000000\" stroke-linejoin=\"miter\" />\n",
       "<path d=\"M 150 425 C 167 425 170 430 176 436 S 183 448 200 448 S 217 448 224 436 C 230 430 233 425 250 425\" fill=\"none\" stroke=\"black\" stroke-width=\"2.000000\" stroke-linejoin=\"miter\"/>\n",
       "<path d=\"M 150 475 C 167 475 170 470 176 464 S 183 452 200 452 S 217 452 224 464 C 230 470 233 475 250 475\" fill=\"none\" stroke=\"black\" stroke-width=\"2.000000\" stroke-linejoin=\"miter\"/>\n",
       "<polyline points=\"0 575 150 575\" fill=\"transparent\"stroke=\"black\" stroke-width=\"2.000000\" stroke-linejoin=\"miter\" />\n",
       "<path d=\"M 150 525 C 167 525 170 530 176 536 S 183 548 200 548 S 217 548 224 536 C 230 530 233 525 250 525\" fill=\"none\" stroke=\"black\" stroke-width=\"2.000000\" stroke-linejoin=\"miter\"/>\n",
       "<path d=\"M 150 575 C 167 575 170 570 176 564 S 183 552 200 552 S 217 552 224 564 C 230 570 233 575 250 575\" fill=\"none\" stroke=\"black\" stroke-width=\"2.000000\" stroke-linejoin=\"miter\"/>\n",
       "<path d=\"M 250 175 C 267 175 270 180 276 186 S 283 198 300 198 S 317 198 324 186 C 330 180 333 175 350 175\" fill=\"none\" stroke=\"black\" stroke-width=\"2.000000\" stroke-linejoin=\"miter\"/>\n",
       "<path d=\"M 250 225 C 267 225 270 220 276 214 S 283 202 300 202 S 317 202 324 214 C 330 220 333 225 350 225\" fill=\"none\" stroke=\"black\" stroke-width=\"2.000000\" stroke-linejoin=\"miter\"/>\n",
       "<polyline points=\"350 225 400 225\" fill=\"transparent\"stroke=\"black\" stroke-width=\"2.000000\" stroke-linejoin=\"miter\" />\n",
       "<polyline points=\"355 217 395 217 395 233 355 233 355 217\" fill=\"white\" stroke=\"black\" stroke-width=\"2.000000\" stroke_linejoin=\"miter\" />\n",
       "<text x=\"375.000000\" y=\"228.000000\" font-size=\"10.000000\" text-anchor=\"middle\">pi</text>\n",
       "<path d=\"M 250 475 C 267 475 270 480 276 486 S 283 498 300 498 S 317 498 324 486 C 330 480 333 475 350 475\" fill=\"none\" stroke=\"black\" stroke-width=\"2.000000\" stroke-linejoin=\"miter\"/>\n",
       "<path d=\"M 250 525 C 267 525 270 520 276 514 S 283 502 300 502 S 317 502 324 514 C 330 520 333 525 350 525\" fill=\"none\" stroke=\"black\" stroke-width=\"2.000000\" stroke-linejoin=\"miter\"/>\n",
       "<polyline points=\"350 525 400 525\" fill=\"transparent\"stroke=\"black\" stroke-width=\"2.000000\" stroke-linejoin=\"miter\" />\n",
       "<polyline points=\"355 517 395 517 395 533 355 533 355 517\" fill=\"white\" stroke=\"black\" stroke-width=\"2.000000\" stroke_linejoin=\"miter\" />\n",
       "<text x=\"375.000000\" y=\"528.000000\" font-size=\"10.000000\" text-anchor=\"middle\">pi</text>\n",
       "<polyline points=\"200 25 400 25\" fill=\"transparent\"stroke=\"black\" stroke-width=\"2.000000\" stroke-linejoin=\"miter\" />\n",
       "<polyline points=\"200 75 400 75\" fill=\"transparent\"stroke=\"black\" stroke-width=\"2.000000\" stroke-linejoin=\"miter\" />\n",
       "<polyline points=\"250 125 400 125\" fill=\"transparent\"stroke=\"black\" stroke-width=\"2.000000\" stroke-linejoin=\"miter\" />\n",
       "<polyline points=\"350 175 400 175\" fill=\"transparent\"stroke=\"black\" stroke-width=\"2.000000\" stroke-linejoin=\"miter\" />\n",
       "<polyline points=\"250 275 400 275\" fill=\"transparent\"stroke=\"black\" stroke-width=\"2.000000\" stroke-linejoin=\"miter\" />\n",
       "<polyline points=\"200 325 400 325\" fill=\"transparent\"stroke=\"black\" stroke-width=\"2.000000\" stroke-linejoin=\"miter\" />\n",
       "<polyline points=\"200 375 400 375\" fill=\"transparent\"stroke=\"black\" stroke-width=\"2.000000\" stroke-linejoin=\"miter\" />\n",
       "<polyline points=\"250 425 400 425\" fill=\"transparent\"stroke=\"black\" stroke-width=\"2.000000\" stroke-linejoin=\"miter\" />\n",
       "<polyline points=\"350 475 400 475\" fill=\"transparent\"stroke=\"black\" stroke-width=\"2.000000\" stroke-linejoin=\"miter\" />\n",
       "<polyline points=\"250 575 400 575\" fill=\"transparent\"stroke=\"black\" stroke-width=\"2.000000\" stroke-linejoin=\"miter\" /></svg>"
      ],
      "text/plain": [
       "<IPython.core.display.HTML object>"
      ]
     },
     "metadata": {},
     "output_type": "display_data"
    }
   ],
   "source": [
    "print(\"Optical circuit for Shor's algorithm\")\n",
    "pcvl.pdisplay(circ)"
   ]
  },
  {
   "cell_type": "code",
   "execution_count": 10,
   "id": "00d193de",
   "metadata": {
    "scrolled": false
   },
   "outputs": [
    {
     "name": "stdout",
     "output_type": "stream",
     "text": [
      "The associated matrix\n"
     ]
    },
    {
     "data": {
      "text/html": [
       "$\\left[\\begin{array}{cccccccccccc}\\frac{\\sqrt{3}}{3} & \\frac{\\sqrt{3} i}{3} & \\frac{\\sqrt{3} i}{3} & 0 & 0 & 0 & 0 & 0 & 0 & 0 & 0 & 0\\\\\\frac{\\sqrt{6} i}{3} & \\frac{\\sqrt{6}}{6} & \\frac{\\sqrt{6}}{6} & 0 & 0 & 0 & 0 & 0 & 0 & 0 & 0 & 0\\\\0 & \\frac{\\sqrt{6}}{6} & - \\frac{\\sqrt{6}}{6} & \\frac{\\sqrt{3} i}{3} & \\frac{\\sqrt{3} i}{3} & 0 & 0 & 0 & 0 & 0 & 0 & 0\\\\0 & \\frac{\\sqrt{6} i}{6} & - \\frac{\\sqrt{6} i}{6} & \\frac{\\sqrt{3}}{3} & 0 & \\frac{\\sqrt{3} i}{3} & 0 & 0 & 0 & 0 & 0 & 0\\\\0 & \\frac{\\sqrt{6} i}{6} & - \\frac{\\sqrt{6} i}{6} & 0 & \\frac{\\sqrt{3}}{3} & - \\frac{\\sqrt{3} i}{3} & 0 & 0 & 0 & 0 & 0 & 0\\\\0 & 0 & 0 & \\frac{\\sqrt{3} i}{3} & - \\frac{\\sqrt{3} i}{3} & \\frac{\\sqrt{3}}{3} & 0 & 0 & 0 & 0 & 0 & 0\\\\0 & 0 & 0 & 0 & 0 & 0 & \\frac{\\sqrt{3}}{3} & \\frac{\\sqrt{3} i}{3} & \\frac{\\sqrt{3} i}{3} & 0 & 0 & 0\\\\0 & 0 & 0 & 0 & 0 & 0 & \\frac{\\sqrt{6} i}{3} & \\frac{\\sqrt{6}}{6} & \\frac{\\sqrt{6}}{6} & 0 & 0 & 0\\\\0 & 0 & 0 & 0 & 0 & 0 & 0 & \\frac{\\sqrt{6}}{6} & - \\frac{\\sqrt{6}}{6} & \\frac{\\sqrt{3} i}{3} & \\frac{\\sqrt{3} i}{3} & 0\\\\0 & 0 & 0 & 0 & 0 & 0 & 0 & \\frac{\\sqrt{6} i}{6} & - \\frac{\\sqrt{6} i}{6} & \\frac{\\sqrt{3}}{3} & 0 & \\frac{\\sqrt{3} i}{3}\\\\0 & 0 & 0 & 0 & 0 & 0 & 0 & \\frac{\\sqrt{6} i}{6} & - \\frac{\\sqrt{6} i}{6} & 0 & \\frac{\\sqrt{3}}{3} & - \\frac{\\sqrt{3} i}{3}\\\\0 & 0 & 0 & 0 & 0 & 0 & 0 & 0 & 0 & \\frac{\\sqrt{3} i}{3} & - \\frac{\\sqrt{3} i}{3} & \\frac{\\sqrt{3}}{3}\\end{array}\\right]$"
      ],
      "text/plain": [
       "<IPython.core.display.HTML object>"
      ]
     },
     "metadata": {},
     "output_type": "display_data"
    }
   ],
   "source": [
    "print(\"The associated matrix\")\n",
    "pcvl.pdisplay(circ.U)"
   ]
  },
  {
   "cell_type": "markdown",
   "id": "7bdc227b",
   "metadata": {},
   "source": [
    "### Input state"
   ]
  },
  {
   "cell_type": "markdown",
   "id": "4e1ced97",
   "metadata": {},
   "source": [
    "In the preliminaries we provided functions to map qubit states to the corresponding Fock states and vice-versa.\n",
    "\n",
    "A *computational basis qubit state* on qubits $x_1, f_1, x_2, f_2$ is represented with a list of 4 boolean values.\n",
    "\n",
    "A *Fock state* is represented with a list of twelve integer values.\n",
    "As described above, for Fock states, the modes are enumerated as follows:\n",
    "* mode pairs $(1,2), (3,4), (7,8), (9,10)$ respectively correspond to states $0,1$ for qubits $x_1, f_1, x_2, f_2$\n",
    "* modes $0,5,6,11$ are auxiliary modes used for CZ gates"
   ]
  },
  {
   "cell_type": "markdown",
   "id": "51d9eca7",
   "metadata": {},
   "source": [
    "The input state of the circuit is $|0\\rangle_{x_1}|0\\rangle_{x_2}|0\\rangle_{f_1}|1\\rangle_{f_2}$.\n",
    "With path encoding this corresponds to sending 4 photons in total in the optical circuit, in the input modes corresponding to the inital state of each qubit."
   ]
  },
  {
   "cell_type": "code",
   "execution_count": 12,
   "id": "79f7ca45",
   "metadata": {
    "scrolled": false
   },
   "outputs": [
    {
     "name": "stdout",
     "output_type": "stream",
     "text": [
      "Input qubit state: |0,0,0,1>\n",
      "Corresponding input Fock state: |0,1,0,1,0,0,0,1,0,0,1,0>\n"
     ]
    }
   ],
   "source": [
    "qubit_istate = [0,0,0,1]\n",
    "istate = toFockState(qubit_istate)\n",
    "\n",
    "print(\"Input qubit state:\", strState(qubit_istate))\n",
    "print(\"Corresponding input Fock state:\", strState(istate))"
   ]
  },
  {
   "cell_type": "markdown",
   "id": "d3f88c02",
   "metadata": {},
   "source": [
    "## Simulation"
   ]
  },
  {
   "cell_type": "code",
   "execution_count": 14,
   "id": "ca10ff5e",
   "metadata": {},
   "outputs": [],
   "source": [
    "backend = pcvl.BackendFactory().get_backend(\"Naive\")\n",
    "simulator = backend(circ)"
   ]
  },
  {
   "cell_type": "markdown",
   "id": "e81a4f44",
   "metadata": {},
   "source": [
    "### Computing the output state"
   ]
  },
  {
   "cell_type": "markdown",
   "id": "c4e62d76",
   "metadata": {},
   "source": [
    "Using perceval we compute the output state obtained with the optical circuit."
   ]
  },
  {
   "cell_type": "markdown",
   "id": "2f3e6f17",
   "metadata": {},
   "source": [
    "#### Amplitudes\n",
    "\n",
    "We first decompose the output state in the computational basis and plot the corresponding amplitudes."
   ]
  },
  {
   "cell_type": "code",
   "execution_count": 15,
   "id": "0cd16853",
   "metadata": {
    "scrolled": true
   },
   "outputs": [
    {
     "name": "stdout",
     "output_type": "stream",
     "text": [
      "Output state amplitudes: (post-selected on qubit states, not renormalized)\n",
      "|x1,x2,f1,f2>\n",
      "|0,0,0,0> 0j\n",
      "|0,0,0,1> (0.055555555555555566+0j)\n",
      "|0,0,1,0> 0j\n",
      "|0,0,1,1> 0j\n",
      "|0,1,0,0> (-0.05555555555555557-1.734723475976807e-18j)\n",
      "|0,1,0,1> (-1.3877787807814457e-17-1.734723475976807e-18j)\n",
      "|0,1,1,0> (-1.734723475976807e-18+0j)\n",
      "|0,1,1,1> 0j\n",
      "|1,0,0,0> 0j\n",
      "|1,0,0,1> (-1.3877787807814457e-17+0j)\n",
      "|1,0,1,0> (-1.734723475976807e-18+0j)\n",
      "|1,0,1,1> (-0.05555555555555557-1.734723475976807e-18j)\n",
      "|1,1,0,0> (1.3877787807814457e-17+0j)\n",
      "|1,1,0,1> 0j\n",
      "|1,1,1,0> (0.05555555555555558+0j)\n",
      "|1,1,1,1> (1.3877787807814457e-17+5.204170427930421e-18j)\n"
     ]
    }
   ],
   "source": [
    "output_qubit_states = [\n",
    "    [x1,x2,f1,f2]\n",
    "    for x1 in [0,1] for x2 in [0,1] for f1 in [0,1] for f2 in [0,1]\n",
    "]\n",
    "\n",
    "print(\"Output state amplitudes: (post-selected on qubit states, not renormalized)\")\n",
    "print(\"|x1,x2,f1,f2>\")\n",
    "for oqstate in output_qubit_states:\n",
    "    ostate = toFockState(oqstate)\n",
    "    a = simulator.probampli(pcvl.BasicState(pcvl.FockState(istate)), pcvl.FockState(ostate))\n",
    "    print(strState(oqstate), a)"
   ]
  },
  {
   "cell_type": "markdown",
   "id": "43e94f97",
   "metadata": {},
   "source": [
    "The amplitudes obtained with perceval correspond to the expected output state\n",
    "$$\\frac{1}{2} \\left ( |0\\rangle_{x_1}|0\\rangle_{f_1} + |1\\rangle_{x_1}|1\\rangle_{f_1} \\right ) \\otimes \\left ( |0\\rangle_{x_2}|1\\rangle_{f_2} + |1\\rangle_{x_2}|0\\rangle_{f_2} \\right )$$\n",
    "up to numerical precision, without renormalization."
   ]
  },
  {
   "cell_type": "markdown",
   "id": "300664ac",
   "metadata": {},
   "source": [
    "#### Distribution\n",
    "\n",
    "We now compute the probabilities to obtain each outcome corresponding to measuring the expected output state in the computational basis."
   ]
  },
  {
   "cell_type": "code",
   "execution_count": 16,
   "id": "2277ec12",
   "metadata": {
    "scrolled": false
   },
   "outputs": [
    {
     "name": "stdout",
     "output_type": "stream",
     "text": [
      "Output state distribution: (post-selected on expected qubit states, not renormalized)\n",
      "|x1,x2,f1,f2>\n"
     ]
    },
    {
     "data": {
      "text/html": [
       "<table>\n",
       "<thead>\n",
       "<tr><th>         </th><th style=\"text-align: right;\">  |0,0,0,1&gt;</th><th style=\"text-align: right;\">  |0,1,0,0&gt;</th><th style=\"text-align: right;\">  |1,0,1,1&gt;</th><th style=\"text-align: right;\">  |1,1,1,0&gt;</th></tr>\n",
       "</thead>\n",
       "<tbody>\n",
       "<tr><td>|0,0,0,1&gt;</td><td style=\"text-align: right;\">   0.003086</td><td style=\"text-align: right;\">   0.003086</td><td style=\"text-align: right;\">   0.003086</td><td style=\"text-align: right;\">   0.003086</td></tr>\n",
       "</tbody>\n",
       "</table>"
      ],
      "text/plain": [
       "<IPython.core.display.HTML object>"
      ]
     },
     "metadata": {},
     "output_type": "display_data"
    }
   ],
   "source": [
    "input_states = {\n",
    "    pcvl.BasicState(pcvl.FockState(istate)): strState(qubit_istate)\n",
    "}\n",
    "\n",
    "expected_output_states = {\n",
    "    pcvl.FockState(toFockState([x1,x2,x1,1-x2])): strState([x1,x2,x1,1-x2])\n",
    "    for x1 in [0,1] for x2 in [0,1]\n",
    "}\n",
    "\n",
    "ca = pcvl.CircuitAnalyser(simulator, input_states, expected_output_states)\n",
    "ca.compute()\n",
    "\n",
    "print(\"Output state distribution: (post-selected on expected qubit states, not renormalized)\")\n",
    "print(\"|x1,x2,f1,f2>\")\n",
    "pcvl.pdisplay(ca)"
   ]
  },
  {
   "cell_type": "markdown",
   "id": "5e464e2c",
   "metadata": {},
   "source": [
    "The distribution computed with Perceval is uniform over each outcome, which corresponds to the expected distribution obtained in the paper when $x_0 = 0$."
   ]
  },
  {
   "cell_type": "markdown",
   "id": "af369211",
   "metadata": {},
   "source": [
    "### Interpretation of the outcomes\n",
    "\n",
    "For each outcome we consider the values of qubits $x_2, x_1, x_0$ (where $x_0$ is 0) which represent a binary number between 0 and 7, here corresponding to 0, 4, 2 and 6 in the order of the table above.\n",
    "After sampling the circuit, obtainig outcomes 2 or 6 allows to successfully compute the order $r=4$.\n",
    "Obtaining outcome 0 is an expected failure of the quantum circuit, inherent to Shor's algorithm.\n",
    "Outcome 4 is an expected failure as well, as it only allows to compute the trivial factors 1 and 15.\n",
    "\n",
    "Since the distribution is uniform the circuit successfully yields a successful outcome with probability 1/2. This probability can be amplified exponentially close to $1$ by sampling the circuit multiple times."
   ]
  }
 ],
 "metadata": {
  "kernelspec": {
   "display_name": "Python 3 (ipykernel)",
   "language": "python",
   "name": "python3"
  },
  "language_info": {
   "codemirror_mode": {
    "name": "ipython",
    "version": 3
   },
   "file_extension": ".py",
   "mimetype": "text/x-python",
   "name": "python",
   "nbconvert_exporter": "python",
   "pygments_lexer": "ipython3",
   "version": "3.9.7"
  }
 },
 "nbformat": 4,
 "nbformat_minor": 5
}
