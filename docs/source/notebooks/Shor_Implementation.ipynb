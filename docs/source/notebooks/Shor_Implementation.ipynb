{
 "cells": [
  {
   "cell_type": "markdown",
   "id": "c2f4fd6c",
   "metadata": {},
   "source": [
    "# Shor's algorithm in linear optics"
   ]
  },
  {
   "cell_type": "markdown",
   "id": "5162c9b8",
   "metadata": {},
   "source": [
    "This notebook reproduces a simulation in Perceval of a 4-qubit 12-modes optical experiment performing Shor's algorithm, based on Alberto Politi, Jonathan C.F. Matthews, and Jeremy L. O'brien. \"Shor’s quantum factoring algorithm on a photonic chip.\" [Science](https://www.science.org/doi/10.1126/science.1173731) 325.5945 (2009): 1221-1221."
   ]
  },
  {
   "cell_type": "markdown",
   "id": "f29e5abf",
   "metadata": {},
   "source": [
    "## Shor's algorithm"
   ]
  },
  {
   "cell_type": "markdown",
   "id": "5dd3a2a5",
   "metadata": {},
   "source": [
    "The purpose of Shor's algorithm is to find nontrivial factors of a given number $N$ in polynomial time, yielding an near-exponential speedup compared to state of the art classical algorithms.\n",
    "\n",
    "The main routine of Shor's algorithm consists in finding the order $r$ of a number $a \\in \\mathbb{Z}_N$, i.e. the smallest integer $r$ such that $a^r = 1 \\pmod N$.\n",
    "\n",
    "If the order of a randomly chosen $a$ which is coprime with $N$ is even, then $(a^{r/2} - 1)(a^{r/2} + 1) = k N$. If none of these factors are multiples of $N$, then $\\gcd(N, a^{r/2} - 1)$ and $\\gcd(N, a^{r/2} + 1)$ are nontrivial factors of $N$."
   ]
  },
  {
   "cell_type": "markdown",
   "id": "ff756302",
   "metadata": {},
   "source": [
    "## Preliminaries"
   ]
  },
  {
   "cell_type": "code",
   "execution_count": 1,
   "id": "55fe7a18",
   "metadata": {},
   "outputs": [],
   "source": [
    "import perceval as pcvl\n",
    "from perceval.algorithm import Analyzer\n",
    "from perceval import Experiment, Port, Encoding, catalog, FockState, LogicalState, BS, PostSelect, Processor"
   ]
  },
  {
   "cell_type": "markdown",
   "id": "826377de",
   "metadata": {},
   "source": [
    "### Path encoding functions\n",
    "\n",
    "The following functions allow for conversion between the qubit and Fock state representations."
   ]
  },
  {
   "cell_type": "code",
   "execution_count": 2,
   "id": "55ee4ce8",
   "metadata": {},
   "outputs": [],
   "source": [
    "def to_logical_state(fock_state):\n",
    "    logical_repr = []\n",
    "    for i in range(fock_state.m // 2):\n",
    "        if fock_state[2*i:2*i+2] == FockState([1, 0]):\n",
    "            logical_repr.append(0)\n",
    "        elif fock_state[2*i:2*i+2] == FockState([0, 1]):\n",
    "            logical_repr.append(1)\n",
    "        else:\n",
    "            raise ValueError(f\"Fock state {fock_state} has no logical representation\")\n",
    "    return LogicalState(logical_repr)"
   ]
  },
  {
   "cell_type": "markdown",
   "id": "016e2534",
   "metadata": {},
   "source": [
    "## The circuit"
   ]
  },
  {
   "cell_type": "markdown",
   "id": "01c60397",
   "metadata": {},
   "source": [
    "### Quantum circuit\n",
    "\n",
    "The quantum circuit has been optimized after choosing parameters $N = 15$ and $a = 2$, and aims to calculate $r=4$.\n",
    "It features 5 qubits labelled $x_0, x_1, x_2$ and $f_1, f_2$. Qubits $x_i$ and $f_1$ are initially in state $|0\\rangle$, and $f_2$ in state $|1\\rangle$.\n",
    "In the non-optimised Shor algorithm, qubits $x_i$ encode a binary number representing a pre-image of the Modular Exponentiation Function (MEF) $x \\mapsto a^x \\pmod N$, while qubits $f_i$ hold the image obtained after applying the MEF to qubits $x_i$. Applying the MEF when qubits $x_i$ hold a superposition of different pre-images (obtained with H gates on qubits $x_i$) allows to efficiently compute the order $r$ of parameter $a$ modulo $N$.\n",
    "\n",
    "The circuit consists of $\\mathsf{H}$ gates being first applied to each $x_i$ qubit, followed by $\\mathsf{CNOT}$ gates applied on $x_1, f_1$ and $x_2, f_2$ pairs, where $x_i$ are control qubits; finally the inverse $\\mathsf{QFT}$ algorithm is applied on qubits $x_i$.\n",
    "\n",
    "$\\mathsf{CNOT}$ gates on $x_i, f_i$ pairs ($x_i$ being the control) are implemented using $\\mathsf{H}$ and $\\mathsf{CZ}$ gates: the $\\mathsf{CZ}$ gate is sandwiched between two applications of $\\mathsf{H}$ on $f_i$.\n",
    "\n",
    "The input state of the circuit after optimisation is $|0\\rangle_{x_0}|0\\rangle_{x_1}|0\\rangle_{x_2}|0\\rangle_{f_1}|1\\rangle_{f_2}$.\n",
    "\n",
    "The expected output state is then $\\frac{1}{2} |0\\rangle_{x_0} \\otimes \\left ( |0\\rangle_{x_1}|0\\rangle_{f_1} + |1\\rangle_{x_1}|1\\rangle_{f_1} \\right ) \\otimes \\left ( |0\\rangle_{x_2}|1\\rangle_{f_2} + |1\\rangle_{x_2}|0\\rangle_{f_2} \\right )$."
   ]
  },
  {
   "cell_type": "markdown",
   "id": "b7b25cf5",
   "metadata": {},
   "source": [
    "### Photonic circuit\n",
    "\n",
    "The optical circuit from the result by Politi et al features twelve modes (ordered from 0 to 11 from top to bottom).\n",
    "\n",
    "During the execution, qubit $x_0$ remains unentangled from the other qubits. It can therefore be removed from the optical implementation.\n",
    "\n",
    "The qubits $x_1, x_2, f_1, f_2$ are path encoded as modes $(0, 1)$, $(4, 5)$, $(2, 3)$, $(6, 7)$ respectively. Four other modes are used as ancillary modes to implement the $\\mathsf{CZ}$ gates.\n",
    "\n",
    "With path encoding each $\\mathsf{H}$ gate in the quantum circuit is implemented with a beam splitter with reflectivity $R=1/2$ between the two paths corresponding to the qubit. In our implementation in Perceval, phase shifters are added to properly tune the phase between each path.\n",
    "\n",
    "$\\mathsf{CZ}$ gates are implemented with three beam splitters with reflectivity $R=2/3$ acting on six modes: one inner beam splitter creates interference between the two qubits, and two outer beam splitters balance detection probability using auxiliary modes.\n",
    "This optical implementation successfully yields the output state produced by a $\\mathsf{CZ}$ gate with probability 1/9; otherwise it creates a dummy state, which will be automatically removed by post-selection.\n",
    "\n",
    "In the case $r=4$ the QFT can be performed classically and doesn't need to be implemented in the photonic circuit."
   ]
  },
  {
   "cell_type": "markdown",
   "id": "3acb2273",
   "metadata": {},
   "source": [
    "## In perceval"
   ]
  },
  {
   "cell_type": "markdown",
   "id": "7aa60c25",
   "metadata": {},
   "source": [
    "### Implementing the circuit"
   ]
  },
  {
   "cell_type": "code",
   "execution_count": 3,
   "id": "f5d2d8b6b53d3fcd",
   "metadata": {},
   "outputs": [
    {
     "name": "stdout",
     "output_type": "stream",
     "text": [
      "Optical circuit for Shor's algorithm\n"
     ]
    },
    {
     "data": {
      "image/svg+xml": [
       "<?xml version=\"1.0\" encoding=\"UTF-8\"?>\n",
       "<svg xmlns=\"http://www.w3.org/2000/svg\" xmlns:xlink=\"http://www.w3.org/1999/xlink\"\n",
       "     width=\"785.0\" height=\"781.25\" viewBox=\"-39.0 0 628.0 625.0\">\n",
       "<defs>\n",
       "</defs>\n",
       "<path d=\"M10,25.0 L25,25.0\" stroke-width=\"3\" stroke=\"darkred\" stroke-linejoin=\"miter\" fill=\"none\" />\n",
       "<path d=\"M10,75.0 L25,75.0\" stroke-width=\"3\" stroke=\"darkred\" stroke-linejoin=\"miter\" fill=\"none\" />\n",
       "<path d=\"M10,125.0 L25,125.0\" stroke-width=\"3\" stroke=\"darkred\" stroke-linejoin=\"miter\" fill=\"none\" />\n",
       "<path d=\"M10,175.0 L25,175.0\" stroke-width=\"3\" stroke=\"darkred\" stroke-linejoin=\"miter\" fill=\"none\" />\n",
       "<path d=\"M10,225.0 L25,225.0\" stroke-width=\"3\" stroke=\"darkred\" stroke-linejoin=\"miter\" fill=\"none\" />\n",
       "<path d=\"M10,275.0 L25,275.0\" stroke-width=\"3\" stroke=\"darkred\" stroke-linejoin=\"miter\" fill=\"none\" />\n",
       "<path d=\"M10,325.0 L25,325.0\" stroke-width=\"3\" stroke=\"darkred\" stroke-linejoin=\"miter\" fill=\"none\" />\n",
       "<path d=\"M10,375.0 L25,375.0\" stroke-width=\"3\" stroke=\"darkred\" stroke-linejoin=\"miter\" fill=\"none\" />\n",
       "<path d=\"M25,25 L53,25 L72,44\" stroke=\"darkred\" stroke-width=\"3\" fill=\"none\" />\n",
       "<path d=\"M78,44 L97,25 L125,25\" stroke=\"darkred\" stroke-width=\"3\" fill=\"none\" />\n",
       "<path d=\"M25,75 L53,75 L72,56\" stroke=\"darkred\" stroke-width=\"3\" fill=\"none\" />\n",
       "<path d=\"M78,56 L97,75 L125,75\" stroke=\"darkred\" stroke-width=\"3\" fill=\"none\" />\n",
       "<path d=\"M50,43 L100,43 L100,57 L50,57 Z\" stroke=\"black\" fill=\"black\" stroke-linejoin=\"miter\" />\n",
       "<text x=\"75\" y=\"85\" font-size=\"7\" text-anchor=\"middle\"></text>\n",
       "<text x=\"75\" y=\"26\" font-size=\"7\" text-anchor=\"middle\"></text>\n",
       "<path d=\"M50,43 L100,43 L100,47 L50,47 Z\" stroke=\"black\" fill=\"lightgray\" stroke-linejoin=\"miter\" />\n",
       "<path d=\"M93,50 L103,50 L103,60 L93,60 Z\" stroke=\"black\" fill=\"aquamarine\" stroke-linejoin=\"miter\" />\n",
       "<text x=\"98\" y=\"57\" font-size=\"6\" text-anchor=\"middle\">H</text>\n",
       "<path d=\"M25,125 L53,125 L72,144\" stroke=\"darkred\" stroke-width=\"3\" fill=\"none\" />\n",
       "<path d=\"M78,144 L97,125 L125,125\" stroke=\"darkred\" stroke-width=\"3\" fill=\"none\" />\n",
       "<path d=\"M25,175 L53,175 L72,156\" stroke=\"darkred\" stroke-width=\"3\" fill=\"none\" />\n",
       "<path d=\"M78,156 L97,175 L125,175\" stroke=\"darkred\" stroke-width=\"3\" fill=\"none\" />\n",
       "<path d=\"M50,143 L100,143 L100,157 L50,157 Z\" stroke=\"black\" fill=\"black\" stroke-linejoin=\"miter\" />\n",
       "<text x=\"75\" y=\"185\" font-size=\"7\" text-anchor=\"middle\"></text>\n",
       "<text x=\"75\" y=\"126\" font-size=\"7\" text-anchor=\"middle\"></text>\n",
       "<path d=\"M50,143 L100,143 L100,147 L50,147 Z\" stroke=\"black\" fill=\"lightgray\" stroke-linejoin=\"miter\" />\n",
       "<path d=\"M93,150 L103,150 L103,160 L93,160 Z\" stroke=\"black\" fill=\"aquamarine\" stroke-linejoin=\"miter\" />\n",
       "<text x=\"98\" y=\"157\" font-size=\"6\" text-anchor=\"middle\">H</text>\n",
       "<path d=\"M25,225 L53,225 L72,244\" stroke=\"darkred\" stroke-width=\"3\" fill=\"none\" />\n",
       "<path d=\"M78,244 L97,225 L125,225\" stroke=\"darkred\" stroke-width=\"3\" fill=\"none\" />\n",
       "<path d=\"M25,275 L53,275 L72,256\" stroke=\"darkred\" stroke-width=\"3\" fill=\"none\" />\n",
       "<path d=\"M78,256 L97,275 L125,275\" stroke=\"darkred\" stroke-width=\"3\" fill=\"none\" />\n",
       "<path d=\"M50,243 L100,243 L100,257 L50,257 Z\" stroke=\"black\" fill=\"black\" stroke-linejoin=\"miter\" />\n",
       "<text x=\"75\" y=\"285\" font-size=\"7\" text-anchor=\"middle\"></text>\n",
       "<text x=\"75\" y=\"226\" font-size=\"7\" text-anchor=\"middle\"></text>\n",
       "<path d=\"M50,243 L100,243 L100,247 L50,247 Z\" stroke=\"black\" fill=\"lightgray\" stroke-linejoin=\"miter\" />\n",
       "<path d=\"M93,250 L103,250 L103,260 L93,260 Z\" stroke=\"black\" fill=\"aquamarine\" stroke-linejoin=\"miter\" />\n",
       "<text x=\"98\" y=\"257\" font-size=\"6\" text-anchor=\"middle\">H</text>\n",
       "<path d=\"M25,325 L53,325 L72,344\" stroke=\"darkred\" stroke-width=\"3\" fill=\"none\" />\n",
       "<path d=\"M78,344 L97,325 L125,325\" stroke=\"darkred\" stroke-width=\"3\" fill=\"none\" />\n",
       "<path d=\"M25,375 L53,375 L72,356\" stroke=\"darkred\" stroke-width=\"3\" fill=\"none\" />\n",
       "<path d=\"M78,356 L97,375 L125,375\" stroke=\"darkred\" stroke-width=\"3\" fill=\"none\" />\n",
       "<path d=\"M50,343 L100,343 L100,357 L50,357 Z\" stroke=\"black\" fill=\"black\" stroke-linejoin=\"miter\" />\n",
       "<text x=\"75\" y=\"385\" font-size=\"7\" text-anchor=\"middle\"></text>\n",
       "<text x=\"75\" y=\"326\" font-size=\"7\" text-anchor=\"middle\"></text>\n",
       "<path d=\"M50,343 L100,343 L100,347 L50,347 Z\" stroke=\"black\" fill=\"lightgray\" stroke-linejoin=\"miter\" />\n",
       "<path d=\"M93,350 L103,350 L103,360 L93,360 Z\" stroke=\"black\" fill=\"aquamarine\" stroke-linejoin=\"miter\" />\n",
       "<text x=\"98\" y=\"357\" font-size=\"6\" text-anchor=\"middle\">H</text>\n",
       "<path d=\"M128,225 L172,325\" stroke=\"white\" stroke-width=\"6\" fill=\"none\" />\n",
       "<path d=\"M125,225 L128,225 L172,325 L175,325\" stroke=\"darkred\" stroke-width=\"3\" fill=\"none\" />\n",
       "<path d=\"M128,275 L172,375\" stroke=\"white\" stroke-width=\"6\" fill=\"none\" />\n",
       "<path d=\"M125,275 L128,275 L172,375 L175,375\" stroke=\"darkred\" stroke-width=\"3\" fill=\"none\" />\n",
       "<path d=\"M128,325 L172,425\" stroke=\"white\" stroke-width=\"6\" fill=\"none\" />\n",
       "<path d=\"M125,325 L128,325 L172,425 L175,425\" stroke=\"darkred\" stroke-width=\"3\" fill=\"none\" />\n",
       "<path d=\"M128,375 L172,475\" stroke=\"white\" stroke-width=\"6\" fill=\"none\" />\n",
       "<path d=\"M125,375 L128,375 L172,475 L175,475\" stroke=\"darkred\" stroke-width=\"3\" fill=\"none\" />\n",
       "<path d=\"M125,25.0 L175,25.0\" stroke=\"darkred\" stroke-width=\"3\" fill=\"none\" />\n",
       "<path d=\"M125,75.0 L175,75.0\" stroke=\"darkred\" stroke-width=\"3\" fill=\"none\" />\n",
       "<path d=\"M125,125.0 L175,125.0\" stroke=\"darkred\" stroke-width=\"3\" fill=\"none\" />\n",
       "<path d=\"M125,175.0 L175,175.0\" stroke=\"darkred\" stroke-width=\"3\" fill=\"none\" />\n",
       "<path d=\"M177,2 L373,2 L373,298 L177,298 Z\" stroke=\"black\" fill=\"lightblue\" stroke-dasharray=\"1,2\" stroke-linejoin=\"miter\" />\n",
       "<text x=\"179\" y=\"305\" font-size=\"8\" text-anchor=\"start\">POSTPROCESSED CZ</text>\n",
       "<path d=\"M178,75 L222,175\" stroke=\"white\" stroke-width=\"6\" fill=\"none\" />\n",
       "<path d=\"M175,75 L178,75 L222,175 L225,175\" stroke=\"darkred\" stroke-width=\"3\" fill=\"none\" />\n",
       "<path d=\"M178,125 L222,125\" stroke=\"white\" stroke-width=\"6\" fill=\"none\" />\n",
       "<path d=\"M175,125 L178,125 L222,125 L225,125\" stroke=\"darkred\" stroke-width=\"3\" fill=\"none\" />\n",
       "<path d=\"M178,175 L222,225\" stroke=\"white\" stroke-width=\"6\" fill=\"none\" />\n",
       "<path d=\"M175,175 L178,175 L222,225 L225,225\" stroke=\"darkred\" stroke-width=\"3\" fill=\"none\" />\n",
       "<path d=\"M175,25.0 L225,25.0\" stroke=\"darkred\" stroke-width=\"3\" fill=\"none\" />\n",
       "<path d=\"M225,25 L253,25 L272,44\" stroke=\"darkred\" stroke-width=\"3\" fill=\"none\" />\n",
       "<path d=\"M278,44 L297,25 L325,25\" stroke=\"darkred\" stroke-width=\"3\" fill=\"none\" />\n",
       "<path d=\"M225,75 L253,75 L272,56\" stroke=\"darkred\" stroke-width=\"3\" fill=\"none\" />\n",
       "<path d=\"M278,56 L297,75 L325,75\" stroke=\"darkred\" stroke-width=\"3\" fill=\"none\" />\n",
       "<path d=\"M250,43 L300,43 L300,57 L250,57 Z\" stroke=\"black\" fill=\"black\" stroke-linejoin=\"miter\" />\n",
       "<text x=\"275\" y=\"80\" font-size=\"7\" text-anchor=\"middle\"></text>\n",
       "<text x=\"275\" y=\"26\" font-size=\"7\" text-anchor=\"middle\">Θ=1.910633</text>\n",
       "<path d=\"M250,43 L300,43 L300,47 L250,47 Z\" stroke=\"black\" fill=\"lightgray\" stroke-linejoin=\"miter\" />\n",
       "<path d=\"M293,50 L303,50 L303,60 L293,60 Z\" stroke=\"black\" fill=\"aquamarine\" stroke-linejoin=\"miter\" />\n",
       "<text x=\"298\" y=\"57\" font-size=\"6\" text-anchor=\"middle\">H</text>\n",
       "<path d=\"M225,125 L253,125 L272,144\" stroke=\"darkred\" stroke-width=\"3\" fill=\"none\" />\n",
       "<path d=\"M278,144 L297,125 L325,125\" stroke=\"darkred\" stroke-width=\"3\" fill=\"none\" />\n",
       "<path d=\"M225,175 L253,175 L272,156\" stroke=\"darkred\" stroke-width=\"3\" fill=\"none\" />\n",
       "<path d=\"M278,156 L297,175 L325,175\" stroke=\"darkred\" stroke-width=\"3\" fill=\"none\" />\n",
       "<path d=\"M250,143 L300,143 L300,157 L250,157 Z\" stroke=\"black\" fill=\"black\" stroke-linejoin=\"miter\" />\n",
       "<text x=\"275\" y=\"180\" font-size=\"7\" text-anchor=\"middle\"></text>\n",
       "<text x=\"275\" y=\"126\" font-size=\"7\" text-anchor=\"middle\">Θ=1.910633</text>\n",
       "<path d=\"M250,143 L300,143 L300,147 L250,147 Z\" stroke=\"black\" fill=\"lightgray\" stroke-linejoin=\"miter\" />\n",
       "<path d=\"M293,150 L303,150 L303,160 L293,160 Z\" stroke=\"black\" fill=\"aquamarine\" stroke-linejoin=\"miter\" />\n",
       "<text x=\"298\" y=\"157\" font-size=\"6\" text-anchor=\"middle\">H</text>\n",
       "<path d=\"M225,225 L253,225 L272,244\" stroke=\"darkred\" stroke-width=\"3\" fill=\"none\" />\n",
       "<path d=\"M278,244 L297,225 L325,225\" stroke=\"darkred\" stroke-width=\"3\" fill=\"none\" />\n",
       "<path d=\"M225,275 L253,275 L272,256\" stroke=\"darkred\" stroke-width=\"3\" fill=\"none\" />\n",
       "<path d=\"M278,256 L297,275 L325,275\" stroke=\"darkred\" stroke-width=\"3\" fill=\"none\" />\n",
       "<path d=\"M250,243 L300,243 L300,257 L250,257 Z\" stroke=\"black\" fill=\"black\" stroke-linejoin=\"miter\" />\n",
       "<text x=\"275\" y=\"280\" font-size=\"7\" text-anchor=\"middle\"></text>\n",
       "<text x=\"275\" y=\"226\" font-size=\"7\" text-anchor=\"middle\">Θ=1.910633</text>\n",
       "<path d=\"M250,243 L300,243 L300,247 L250,247 Z\" stroke=\"black\" fill=\"lightgray\" stroke-linejoin=\"miter\" />\n",
       "<path d=\"M293,250 L303,250 L303,260 L293,260 Z\" stroke=\"black\" fill=\"aquamarine\" stroke-linejoin=\"miter\" />\n",
       "<text x=\"298\" y=\"257\" font-size=\"6\" text-anchor=\"middle\">H</text>\n",
       "<path d=\"M328,125 L372,125\" stroke=\"white\" stroke-width=\"6\" fill=\"none\" />\n",
       "<path d=\"M325,125 L328,125 L372,125 L375,125\" stroke=\"darkred\" stroke-width=\"3\" fill=\"none\" />\n",
       "<path d=\"M328,175 L372,75\" stroke=\"white\" stroke-width=\"6\" fill=\"none\" />\n",
       "<path d=\"M325,175 L328,175 L372,75 L375,75\" stroke=\"darkred\" stroke-width=\"3\" fill=\"none\" />\n",
       "<path d=\"M328,225 L372,175\" stroke=\"white\" stroke-width=\"6\" fill=\"none\" />\n",
       "<path d=\"M325,225 L328,225 L372,175 L375,175\" stroke=\"darkred\" stroke-width=\"3\" fill=\"none\" />\n",
       "<path d=\"M325,25.0 L375,25.0\" stroke=\"darkred\" stroke-width=\"3\" fill=\"none\" />\n",
       "<path d=\"M177,302 L373,302 L373,598 L177,598 Z\" stroke=\"black\" fill=\"lightblue\" stroke-dasharray=\"1,2\" stroke-linejoin=\"miter\" />\n",
       "<text x=\"179\" y=\"605\" font-size=\"8\" text-anchor=\"start\">POSTPROCESSED CZ</text>\n",
       "<path d=\"M178,375 L222,475\" stroke=\"white\" stroke-width=\"6\" fill=\"none\" />\n",
       "<path d=\"M175,375 L178,375 L222,475 L225,475\" stroke=\"darkred\" stroke-width=\"3\" fill=\"none\" />\n",
       "<path d=\"M178,425 L222,425\" stroke=\"white\" stroke-width=\"6\" fill=\"none\" />\n",
       "<path d=\"M175,425 L178,425 L222,425 L225,425\" stroke=\"darkred\" stroke-width=\"3\" fill=\"none\" />\n",
       "<path d=\"M178,475 L222,525\" stroke=\"white\" stroke-width=\"6\" fill=\"none\" />\n",
       "<path d=\"M175,475 L178,475 L222,525 L225,525\" stroke=\"darkred\" stroke-width=\"3\" fill=\"none\" />\n",
       "<path d=\"M175,325.0 L225,325.0\" stroke=\"darkred\" stroke-width=\"3\" fill=\"none\" />\n",
       "<path d=\"M225,325 L253,325 L272,344\" stroke=\"darkred\" stroke-width=\"3\" fill=\"none\" />\n",
       "<path d=\"M278,344 L297,325 L325,325\" stroke=\"darkred\" stroke-width=\"3\" fill=\"none\" />\n",
       "<path d=\"M225,375 L253,375 L272,356\" stroke=\"darkred\" stroke-width=\"3\" fill=\"none\" />\n",
       "<path d=\"M278,356 L297,375 L325,375\" stroke=\"darkred\" stroke-width=\"3\" fill=\"none\" />\n",
       "<path d=\"M250,343 L300,343 L300,357 L250,357 Z\" stroke=\"black\" fill=\"black\" stroke-linejoin=\"miter\" />\n",
       "<text x=\"275\" y=\"380\" font-size=\"7\" text-anchor=\"middle\"></text>\n",
       "<text x=\"275\" y=\"326\" font-size=\"7\" text-anchor=\"middle\">Θ=1.910633</text>\n",
       "<path d=\"M250,343 L300,343 L300,347 L250,347 Z\" stroke=\"black\" fill=\"lightgray\" stroke-linejoin=\"miter\" />\n",
       "<path d=\"M293,350 L303,350 L303,360 L293,360 Z\" stroke=\"black\" fill=\"aquamarine\" stroke-linejoin=\"miter\" />\n",
       "<text x=\"298\" y=\"357\" font-size=\"6\" text-anchor=\"middle\">H</text>\n",
       "<path d=\"M225,425 L253,425 L272,444\" stroke=\"darkred\" stroke-width=\"3\" fill=\"none\" />\n",
       "<path d=\"M278,444 L297,425 L325,425\" stroke=\"darkred\" stroke-width=\"3\" fill=\"none\" />\n",
       "<path d=\"M225,475 L253,475 L272,456\" stroke=\"darkred\" stroke-width=\"3\" fill=\"none\" />\n",
       "<path d=\"M278,456 L297,475 L325,475\" stroke=\"darkred\" stroke-width=\"3\" fill=\"none\" />\n",
       "<path d=\"M250,443 L300,443 L300,457 L250,457 Z\" stroke=\"black\" fill=\"black\" stroke-linejoin=\"miter\" />\n",
       "<text x=\"275\" y=\"480\" font-size=\"7\" text-anchor=\"middle\"></text>\n",
       "<text x=\"275\" y=\"426\" font-size=\"7\" text-anchor=\"middle\">Θ=1.910633</text>\n",
       "<path d=\"M250,443 L300,443 L300,447 L250,447 Z\" stroke=\"black\" fill=\"lightgray\" stroke-linejoin=\"miter\" />\n",
       "<path d=\"M293,450 L303,450 L303,460 L293,460 Z\" stroke=\"black\" fill=\"aquamarine\" stroke-linejoin=\"miter\" />\n",
       "<text x=\"298\" y=\"457\" font-size=\"6\" text-anchor=\"middle\">H</text>\n",
       "<path d=\"M225,525 L253,525 L272,544\" stroke=\"darkred\" stroke-width=\"3\" fill=\"none\" />\n",
       "<path d=\"M278,544 L297,525 L325,525\" stroke=\"darkred\" stroke-width=\"3\" fill=\"none\" />\n",
       "<path d=\"M225,575 L253,575 L272,556\" stroke=\"darkred\" stroke-width=\"3\" fill=\"none\" />\n",
       "<path d=\"M278,556 L297,575 L325,575\" stroke=\"darkred\" stroke-width=\"3\" fill=\"none\" />\n",
       "<path d=\"M250,543 L300,543 L300,557 L250,557 Z\" stroke=\"black\" fill=\"black\" stroke-linejoin=\"miter\" />\n",
       "<text x=\"275\" y=\"580\" font-size=\"7\" text-anchor=\"middle\"></text>\n",
       "<text x=\"275\" y=\"526\" font-size=\"7\" text-anchor=\"middle\">Θ=1.910633</text>\n",
       "<path d=\"M250,543 L300,543 L300,547 L250,547 Z\" stroke=\"black\" fill=\"lightgray\" stroke-linejoin=\"miter\" />\n",
       "<path d=\"M293,550 L303,550 L303,560 L293,560 Z\" stroke=\"black\" fill=\"aquamarine\" stroke-linejoin=\"miter\" />\n",
       "<text x=\"298\" y=\"557\" font-size=\"6\" text-anchor=\"middle\">H</text>\n",
       "<path d=\"M328,425 L372,425\" stroke=\"white\" stroke-width=\"6\" fill=\"none\" />\n",
       "<path d=\"M325,425 L328,425 L372,425 L375,425\" stroke=\"darkred\" stroke-width=\"3\" fill=\"none\" />\n",
       "<path d=\"M328,475 L372,375\" stroke=\"white\" stroke-width=\"6\" fill=\"none\" />\n",
       "<path d=\"M325,475 L328,475 L372,375 L375,375\" stroke=\"darkred\" stroke-width=\"3\" fill=\"none\" />\n",
       "<path d=\"M328,525 L372,475\" stroke=\"white\" stroke-width=\"6\" fill=\"none\" />\n",
       "<path d=\"M325,525 L328,525 L372,475 L375,475\" stroke=\"darkred\" stroke-width=\"3\" fill=\"none\" />\n",
       "<path d=\"M325,325.0 L375,325.0\" stroke=\"darkred\" stroke-width=\"3\" fill=\"none\" />\n",
       "<path d=\"M378,325 L422,225\" stroke=\"white\" stroke-width=\"6\" fill=\"none\" />\n",
       "<path d=\"M375,325 L378,325 L422,225 L425,225\" stroke=\"darkred\" stroke-width=\"3\" fill=\"none\" />\n",
       "<path d=\"M378,375 L422,275\" stroke=\"white\" stroke-width=\"6\" fill=\"none\" />\n",
       "<path d=\"M375,375 L378,375 L422,275 L425,275\" stroke=\"darkred\" stroke-width=\"3\" fill=\"none\" />\n",
       "<path d=\"M378,425 L422,325\" stroke=\"white\" stroke-width=\"6\" fill=\"none\" />\n",
       "<path d=\"M375,425 L378,425 L422,325 L425,325\" stroke=\"darkred\" stroke-width=\"3\" fill=\"none\" />\n",
       "<path d=\"M378,475 L422,375\" stroke=\"white\" stroke-width=\"6\" fill=\"none\" />\n",
       "<path d=\"M375,475 L378,475 L422,375 L425,375\" stroke=\"darkred\" stroke-width=\"3\" fill=\"none\" />\n",
       "<path d=\"M375,25.0 L425,25.0\" stroke=\"darkred\" stroke-width=\"3\" fill=\"none\" />\n",
       "<path d=\"M375,75.0 L425,75.0\" stroke=\"darkred\" stroke-width=\"3\" fill=\"none\" />\n",
       "<path d=\"M375,125.0 L425,125.0\" stroke=\"darkred\" stroke-width=\"3\" fill=\"none\" />\n",
       "<path d=\"M375,175.0 L425,175.0\" stroke=\"darkred\" stroke-width=\"3\" fill=\"none\" />\n",
       "<path d=\"M425,125 L453,125 L472,144\" stroke=\"darkred\" stroke-width=\"3\" fill=\"none\" />\n",
       "<path d=\"M478,144 L497,125 L525,125\" stroke=\"darkred\" stroke-width=\"3\" fill=\"none\" />\n",
       "<path d=\"M425,175 L453,175 L472,156\" stroke=\"darkred\" stroke-width=\"3\" fill=\"none\" />\n",
       "<path d=\"M478,156 L497,175 L525,175\" stroke=\"darkred\" stroke-width=\"3\" fill=\"none\" />\n",
       "<path d=\"M450,143 L500,143 L500,157 L450,157 Z\" stroke=\"black\" fill=\"black\" stroke-linejoin=\"miter\" />\n",
       "<text x=\"475\" y=\"185\" font-size=\"7\" text-anchor=\"middle\"></text>\n",
       "<text x=\"475\" y=\"126\" font-size=\"7\" text-anchor=\"middle\"></text>\n",
       "<path d=\"M450,143 L500,143 L500,147 L450,147 Z\" stroke=\"black\" fill=\"lightgray\" stroke-linejoin=\"miter\" />\n",
       "<path d=\"M493,150 L503,150 L503,160 L493,160 Z\" stroke=\"black\" fill=\"aquamarine\" stroke-linejoin=\"miter\" />\n",
       "<text x=\"498\" y=\"157\" font-size=\"6\" text-anchor=\"middle\">H</text>\n",
       "<path d=\"M425,325 L453,325 L472,344\" stroke=\"darkred\" stroke-width=\"3\" fill=\"none\" />\n",
       "<path d=\"M478,344 L497,325 L525,325\" stroke=\"darkred\" stroke-width=\"3\" fill=\"none\" />\n",
       "<path d=\"M425,375 L453,375 L472,356\" stroke=\"darkred\" stroke-width=\"3\" fill=\"none\" />\n",
       "<path d=\"M478,356 L497,375 L525,375\" stroke=\"darkred\" stroke-width=\"3\" fill=\"none\" />\n",
       "<path d=\"M450,343 L500,343 L500,357 L450,357 Z\" stroke=\"black\" fill=\"black\" stroke-linejoin=\"miter\" />\n",
       "<text x=\"475\" y=\"385\" font-size=\"7\" text-anchor=\"middle\"></text>\n",
       "<text x=\"475\" y=\"326\" font-size=\"7\" text-anchor=\"middle\"></text>\n",
       "<path d=\"M450,343 L500,343 L500,347 L450,347 Z\" stroke=\"black\" fill=\"lightgray\" stroke-linejoin=\"miter\" />\n",
       "<path d=\"M493,350 L503,350 L503,360 L493,360 Z\" stroke=\"black\" fill=\"aquamarine\" stroke-linejoin=\"miter\" />\n",
       "<text x=\"498\" y=\"357\" font-size=\"6\" text-anchor=\"middle\">H</text>\n",
       "<path d=\"M425,25.0 L525,25.0\" stroke=\"darkred\" stroke-width=\"3\" fill=\"none\" />\n",
       "<path d=\"M425,75.0 L525,75.0\" stroke=\"darkred\" stroke-width=\"3\" fill=\"none\" />\n",
       "<path d=\"M425,225.0 L525,225.0\" stroke=\"darkred\" stroke-width=\"3\" fill=\"none\" />\n",
       "<path d=\"M425,275.0 L525,275.0\" stroke=\"darkred\" stroke-width=\"3\" fill=\"none\" />\n",
       "<path d=\"M525,25.0 L540,25.0\" stroke-width=\"3\" stroke=\"darkred\" stroke-linejoin=\"miter\" fill=\"none\" />\n",
       "<path d=\"M525,75.0 L540,75.0\" stroke-width=\"3\" stroke=\"darkred\" stroke-linejoin=\"miter\" fill=\"none\" />\n",
       "<path d=\"M525,125.0 L540,125.0\" stroke-width=\"3\" stroke=\"darkred\" stroke-linejoin=\"miter\" fill=\"none\" />\n",
       "<path d=\"M525,175.0 L540,175.0\" stroke-width=\"3\" stroke=\"darkred\" stroke-linejoin=\"miter\" fill=\"none\" />\n",
       "<path d=\"M525,225.0 L540,225.0\" stroke-width=\"3\" stroke=\"darkred\" stroke-linejoin=\"miter\" fill=\"none\" />\n",
       "<path d=\"M525,275.0 L540,275.0\" stroke-width=\"3\" stroke=\"darkred\" stroke-linejoin=\"miter\" fill=\"none\" />\n",
       "<path d=\"M525,325.0 L540,325.0\" stroke-width=\"3\" stroke=\"darkred\" stroke-linejoin=\"miter\" fill=\"none\" />\n",
       "<path d=\"M525,375.0 L540,375.0\" stroke-width=\"3\" stroke=\"darkred\" stroke-linejoin=\"miter\" fill=\"none\" />\n",
       "<path d=\"M-2,15 L10,15 L10,85 L-2,85 Z\" stroke=\"black\" fill=\"lightgray\" stroke-linejoin=\"miter\" />\n",
       "<text x=\"-2\" y=\"91\" font-size=\"6\" text-anchor=\"start\" font-style=\"italic\">[x1]</text>\n",
       "<path d=\"M-2,115 L10,115 L10,185 L-2,185 Z\" stroke=\"black\" fill=\"lightgray\" stroke-linejoin=\"miter\" />\n",
       "<text x=\"-2\" y=\"191\" font-size=\"6\" text-anchor=\"start\" font-style=\"italic\">[f1]</text>\n",
       "<path d=\"M207,75 C207,75,207,65,217,65 L225,65 L225,85 L217,85 C207,85,207,75,207,75 L207,75\" stroke-width=\"1\" stroke=\"black\" stroke-linejoin=\"miter\" fill=\"white\" />\n",
       "<text x=\"213\" y=\"91\" font-size=\"6\" text-anchor=\"middle\" font-style=\"italic\">[herald2]</text>\n",
       "<text x=\"217\" y=\"78\" font-size=\"7\" text-anchor=\"middle\">0</text>\n",
       "<path d=\"M207,275 C207,275,207,265,217,265 L225,265 L225,285 L217,285 C207,285,207,275,207,275 L207,275\" stroke-width=\"1\" stroke=\"black\" stroke-linejoin=\"miter\" fill=\"white\" />\n",
       "<text x=\"213\" y=\"291\" font-size=\"6\" text-anchor=\"middle\" font-style=\"italic\">[herald3]</text>\n",
       "<text x=\"217\" y=\"278\" font-size=\"7\" text-anchor=\"middle\">0</text>\n",
       "<path d=\"M-2,215 L10,215 L10,285 L-2,285 Z\" stroke=\"black\" fill=\"lightgray\" stroke-linejoin=\"miter\" />\n",
       "<text x=\"-2\" y=\"291\" font-size=\"6\" text-anchor=\"start\" font-style=\"italic\">[x2]</text>\n",
       "<path d=\"M-2,315 L10,315 L10,385 L-2,385 Z\" stroke=\"black\" fill=\"lightgray\" stroke-linejoin=\"miter\" />\n",
       "<text x=\"-2\" y=\"391\" font-size=\"6\" text-anchor=\"start\" font-style=\"italic\">[f2]</text>\n",
       "<path d=\"M207,375 C207,375,207,365,217,365 L225,365 L225,385 L217,385 C207,385,207,375,207,375 L207,375\" stroke-width=\"1\" stroke=\"black\" stroke-linejoin=\"miter\" fill=\"white\" />\n",
       "<text x=\"213\" y=\"391\" font-size=\"6\" text-anchor=\"middle\" font-style=\"italic\">[herald6]</text>\n",
       "<text x=\"217\" y=\"378\" font-size=\"7\" text-anchor=\"middle\">0</text>\n",
       "<path d=\"M207,575 C207,575,207,565,217,565 L225,565 L225,585 L217,585 C207,585,207,575,207,575 L207,575\" stroke-width=\"1\" stroke=\"black\" stroke-linejoin=\"miter\" fill=\"white\" />\n",
       "<text x=\"213\" y=\"591\" font-size=\"6\" text-anchor=\"middle\" font-style=\"italic\">[herald7]</text>\n",
       "<text x=\"217\" y=\"578\" font-size=\"7\" text-anchor=\"middle\">0</text>\n",
       "<path d=\"M540,15 L552,15 L552,85 L540,85 Z\" stroke=\"black\" fill=\"lightgray\" stroke-linejoin=\"miter\" />\n",
       "<text x=\"552\" y=\"91\" font-size=\"6\" text-anchor=\"end\" font-style=\"italic\">[x1]</text>\n",
       "<path d=\"M540,115 L552,115 L552,185 L540,185 Z\" stroke=\"black\" fill=\"lightgray\" stroke-linejoin=\"miter\" />\n",
       "<text x=\"552\" y=\"191\" font-size=\"6\" text-anchor=\"end\" font-style=\"italic\">[f1]</text>\n",
       "<path d=\"M333,85 L325,85 L325,65 L333,65 C333,65,343,65,343,75 C343,85,333,85,333,85 L333,85\" stroke-width=\"1\" stroke=\"black\" stroke-linejoin=\"miter\" fill=\"white\" />\n",
       "<text x=\"338\" y=\"61\" font-size=\"6\" text-anchor=\"middle\" font-style=\"italic\">[herald0]</text>\n",
       "<text x=\"333\" y=\"78\" font-size=\"7\" text-anchor=\"middle\">0</text>\n",
       "<path d=\"M333,285 L325,285 L325,265 L333,265 C333,265,343,265,343,275 C343,285,333,285,333,285 L333,285\" stroke-width=\"1\" stroke=\"black\" stroke-linejoin=\"miter\" fill=\"white\" />\n",
       "<text x=\"338\" y=\"261\" font-size=\"6\" text-anchor=\"middle\" font-style=\"italic\">[herald1]</text>\n",
       "<text x=\"333\" y=\"278\" font-size=\"7\" text-anchor=\"middle\">0</text>\n",
       "<path d=\"M540,215 L552,215 L552,285 L540,285 Z\" stroke=\"black\" fill=\"lightgray\" stroke-linejoin=\"miter\" />\n",
       "<text x=\"552\" y=\"291\" font-size=\"6\" text-anchor=\"end\" font-style=\"italic\">[x2]</text>\n",
       "<path d=\"M540,315 L552,315 L552,385 L540,385 Z\" stroke=\"black\" fill=\"lightgray\" stroke-linejoin=\"miter\" />\n",
       "<text x=\"552\" y=\"391\" font-size=\"6\" text-anchor=\"end\" font-style=\"italic\">[f2]</text>\n",
       "<path d=\"M333,385 L325,385 L325,365 L333,365 C333,365,343,365,343,375 C343,385,333,385,333,385 L333,385\" stroke-width=\"1\" stroke=\"black\" stroke-linejoin=\"miter\" fill=\"white\" />\n",
       "<text x=\"338\" y=\"361\" font-size=\"6\" text-anchor=\"middle\" font-style=\"italic\">[herald4]</text>\n",
       "<text x=\"333\" y=\"378\" font-size=\"7\" text-anchor=\"middle\">0</text>\n",
       "<path d=\"M333,585 L325,585 L325,565 L333,565 C333,565,343,565,343,575 C343,585,333,585,333,585 L333,585\" stroke-width=\"1\" stroke=\"black\" stroke-linejoin=\"miter\" fill=\"white\" />\n",
       "<text x=\"338\" y=\"561\" font-size=\"6\" text-anchor=\"middle\" font-style=\"italic\">[herald5]</text>\n",
       "<text x=\"333\" y=\"578\" font-size=\"7\" text-anchor=\"middle\">0</text>\n",
       "<text x=\"550\" y=\"28.0\" font-size=\"10\" text-anchor=\"end\">0</text>\n",
       "<text x=\"550\" y=\"78.0\" font-size=\"10\" text-anchor=\"end\">1</text>\n",
       "<text x=\"550\" y=\"128.0\" font-size=\"10\" text-anchor=\"end\">2</text>\n",
       "<text x=\"550\" y=\"178.0\" font-size=\"10\" text-anchor=\"end\">3</text>\n",
       "<text x=\"550\" y=\"228.0\" font-size=\"10\" text-anchor=\"end\">4</text>\n",
       "<text x=\"550\" y=\"278.0\" font-size=\"10\" text-anchor=\"end\">5</text>\n",
       "<text x=\"550\" y=\"328.0\" font-size=\"10\" text-anchor=\"end\">6</text>\n",
       "<text x=\"550\" y=\"378.0\" font-size=\"10\" text-anchor=\"end\">7</text>\n",
       "<text x=\"0\" y=\"28.0\" font-size=\"10\" text-anchor=\"start\">0</text>\n",
       "<text x=\"0\" y=\"78.0\" font-size=\"10\" text-anchor=\"start\">1</text>\n",
       "<text x=\"0\" y=\"128.0\" font-size=\"10\" text-anchor=\"start\">2</text>\n",
       "<text x=\"0\" y=\"178.0\" font-size=\"10\" text-anchor=\"start\">3</text>\n",
       "<text x=\"0\" y=\"228.0\" font-size=\"10\" text-anchor=\"start\">4</text>\n",
       "<text x=\"0\" y=\"278.0\" font-size=\"10\" text-anchor=\"start\">5</text>\n",
       "<text x=\"0\" y=\"328.0\" font-size=\"10\" text-anchor=\"start\">6</text>\n",
       "<text x=\"0\" y=\"378.0\" font-size=\"10\" text-anchor=\"start\">7</text>\n",
       "</svg>"
      ],
      "text/plain": [
       "<drawsvg.drawing.Drawing at 0x1a8ea67add0>"
      ]
     },
     "execution_count": 3,
     "metadata": {},
     "output_type": "execute_result"
    }
   ],
   "source": [
    "def create_cz(port_names):\n",
    "    cz_circuit = catalog[\"postprocessed cz\"].build_circuit()\n",
    "    cz = Experiment(cz_circuit)\n",
    "    (cz.add_port(0, Port(Encoding.DUAL_RAIL, port_names[0]))  # Add 1st dual rail encoded qubit\n",
    "       .add_port(2, Port(Encoding.DUAL_RAIL, port_names[1]))  # Add 2nd dual rail encoded qubit\n",
    "       # Add ancillary modes expecting 0 detected photon\n",
    "       .add_herald(4, 0)\n",
    "       .add_herald(5, 0))\n",
    "    return cz\n",
    "\n",
    "\n",
    "# Create the experiment implementing Shor algorithm\n",
    "experiment = Experiment(8)\n",
    "cz1 = create_cz([\"x1\", \"f1\"])\n",
    "cz2 = create_cz([\"x2\", \"f2\"])\n",
    "h = BS.H()\n",
    "\n",
    "for i in range(0, 8, 2):\n",
    "    experiment.add(i, h)\n",
    "\n",
    "experiment.add(0, cz1)\n",
    "experiment.add(4, cz2)\n",
    "\n",
    "experiment.add(2, h)\n",
    "experiment.add(6, h)\n",
    "\n",
    "# Set up a post-selection function ensuring dual rail encoding\n",
    "experiment.set_postselection(PostSelect(\"[0,1]==1 and [2,3]==1 and [4,5]==1  and [6,7]==1\"))\n",
    "\n",
    "print(\"Optical circuit for Shor's algorithm\")\n",
    "pcvl.pdisplay(experiment, recursive=True)"
   ]
  },
  {
   "cell_type": "code",
   "execution_count": 4,
   "id": "00d193de",
   "metadata": {},
   "outputs": [
    {
     "name": "stdout",
     "output_type": "stream",
     "text": [
      "The associated matrix\n"
     ]
    },
    {
     "data": {
      "text/latex": [
       "$\\displaystyle \\left[\\begin{array}{cccccccccccc}\\frac{\\sqrt{6}}{6} & \\frac{\\sqrt{6}}{6} & 0 & 0 & 0 & 0 & 0 & 0 & \\frac{\\sqrt{6}}{3} & 0 & 0 & 0\\\\- \\frac{\\sqrt{6}}{6} & \\frac{\\sqrt{6}}{6} & \\frac{\\sqrt{3}}{3} & \\frac{\\sqrt{3}}{3} & 0 & 0 & 0 & 0 & 0 & 0 & 0 & 0\\\\\\frac{\\sqrt{6}}{6} & - \\frac{\\sqrt{6}}{6} & \\frac{\\sqrt{3}}{3} & 0 & 0 & 0 & 0 & 0 & 0 & \\frac{\\sqrt{3}}{3} & 0 & 0\\\\\\frac{\\sqrt{6}}{6} & - \\frac{\\sqrt{6}}{6} & 0 & \\frac{\\sqrt{3}}{3} & 0 & 0 & 0 & 0 & 0 & - \\frac{\\sqrt{3}}{3} & 0 & 0\\\\0 & 0 & 0 & 0 & \\frac{\\sqrt{6}}{6} & \\frac{\\sqrt{6}}{6} & 0 & 0 & 0 & 0 & \\frac{\\sqrt{6}}{3} & 0\\\\0 & 0 & 0 & 0 & - \\frac{\\sqrt{6}}{6} & \\frac{\\sqrt{6}}{6} & \\frac{\\sqrt{3}}{3} & \\frac{\\sqrt{3}}{3} & 0 & 0 & 0 & 0\\\\0 & 0 & 0 & 0 & \\frac{\\sqrt{6}}{6} & - \\frac{\\sqrt{6}}{6} & \\frac{\\sqrt{3}}{3} & 0 & 0 & 0 & 0 & \\frac{\\sqrt{3}}{3}\\\\0 & 0 & 0 & 0 & \\frac{\\sqrt{6}}{6} & - \\frac{\\sqrt{6}}{6} & 0 & \\frac{\\sqrt{3}}{3} & 0 & 0 & 0 & - \\frac{\\sqrt{3}}{3}\\\\\\frac{\\sqrt{3}}{3} & \\frac{\\sqrt{3}}{3} & 0 & 0 & 0 & 0 & 0 & 0 & - \\frac{\\sqrt{3}}{3} & 0 & 0 & 0\\\\0 & 0 & \\frac{\\sqrt{3}}{3} & - \\frac{\\sqrt{3}}{3} & 0 & 0 & 0 & 0 & 0 & - \\frac{\\sqrt{3}}{3} & 0 & 0\\\\0 & 0 & 0 & 0 & \\frac{\\sqrt{3}}{3} & \\frac{\\sqrt{3}}{3} & 0 & 0 & 0 & 0 & - \\frac{\\sqrt{3}}{3} & 0\\\\0 & 0 & 0 & 0 & 0 & 0 & \\frac{\\sqrt{3}}{3} & - \\frac{\\sqrt{3}}{3} & 0 & 0 & 0 & - \\frac{\\sqrt{3}}{3}\\end{array}\\right]$"
      ],
      "text/plain": [
       "<IPython.core.display.Math object>"
      ]
     },
     "metadata": {},
     "output_type": "display_data"
    }
   ],
   "source": [
    "print(\"The associated matrix\")\n",
    "pcvl.pdisplay(experiment.unitary_circuit().compute_unitary(use_symbolic=False))"
   ]
  },
  {
   "cell_type": "markdown",
   "id": "7bdc227b",
   "metadata": {},
   "source": [
    "### Input state"
   ]
  },
  {
   "cell_type": "markdown",
   "id": "4e1ced97",
   "metadata": {},
   "source": [
    "In the preliminaries we provided functions to map qubit states to the corresponding Fock states and vice-versa.\n",
    "\n",
    "A *computational basis qubit state* on qubits $x_1, f_1, x_2, f_2$ is represented with a list of 4 boolean values.\n",
    "\n",
    "A *Fock state* is represented with a list of twelve integer values.\n",
    "As described above, for Fock states, the modes are enumerated as follows:\n",
    "* mode pairs $(1,2), (3,4), (7,8), (9,10)$ respectively correspond to states $0,1$ for qubits $x_1, f_1, x_2, f_2$\n",
    "* modes $0,5,6,11$ are auxiliary modes used for CZ gates"
   ]
  },
  {
   "cell_type": "markdown",
   "id": "51d9eca7",
   "metadata": {},
   "source": [
    "The input state of the circuit is $|0\\rangle_{x_1}|0\\rangle_{x_2}|0\\rangle_{f_1}|1\\rangle_{f_2}$.\n",
    "With path encoding this corresponds to sending 4 photons in total in the optical circuit, in the input modes corresponding to the initial state of each qubit."
   ]
  },
  {
   "cell_type": "code",
   "execution_count": 5,
   "id": "79f7ca45",
   "metadata": {},
   "outputs": [
    {
     "name": "stdout",
     "output_type": "stream",
     "text": [
      "Input qubit state: |0001>\n",
      "Corresponding input Fock state |1,0,1,0,1,0,0,1,0,0,0,0>\n"
     ]
    }
   ],
   "source": [
    "qubit_input_state = pcvl.LogicalState([0, 0, 0, 1])\n",
    "experiment.with_input(qubit_input_state)\n",
    "input_fock_state = experiment.input_state\n",
    "\n",
    "print(f\"Input qubit state: {qubit_input_state}\")\n",
    "print(f\"Corresponding input Fock state {input_fock_state}\")"
   ]
  },
  {
   "cell_type": "markdown",
   "id": "d3f88c02",
   "metadata": {},
   "source": [
    "## Simulation"
   ]
  },
  {
   "cell_type": "code",
   "execution_count": 6,
   "id": "ca10ff5e",
   "metadata": {},
   "outputs": [],
   "source": [
    "simulator = pcvl.SimulatorFactory.build(experiment, \"SLOS\")"
   ]
  },
  {
   "cell_type": "markdown",
   "id": "e81a4f44",
   "metadata": {},
   "source": [
    "### Computing the output state"
   ]
  },
  {
   "cell_type": "markdown",
   "id": "c4e62d76",
   "metadata": {},
   "source": [
    "Using perceval we compute the output state obtained with the optical circuit."
   ]
  },
  {
   "cell_type": "markdown",
   "id": "2f3e6f17",
   "metadata": {},
   "source": [
    "#### Amplitudes\n",
    "\n",
    "We first decompose the output state in the computational basis and plot the corresponding amplitudes."
   ]
  },
  {
   "cell_type": "code",
   "execution_count": 7,
   "id": "0cd16853",
   "metadata": {},
   "outputs": [
    {
     "name": "stdout",
     "output_type": "stream",
     "text": [
      "Output state amplitudes: (post-selected on qubit states, not renormalized)\n",
      "|x1,f1,x2,f2>\n",
      "|0010> (0.5+0j)\n",
      "|1110> (0.5000000000000001+0j)\n",
      "|0001> (0.49999999999999994+0j)\n",
      "|1101> (0.5+0j)\n"
     ]
    }
   ],
   "source": [
    "simulator.keep_heralds(False)  # Remove ancillary modes in results\n",
    "evolved_state = simulator.evolve(input_fock_state)\n",
    "\n",
    "print(\"Output state amplitudes: (post-selected on qubit states, not renormalized)\")\n",
    "print(\"|x1,f1,x2,f2>\")\n",
    "for ouput_fock_state, amplitude in evolved_state:\n",
    "    logical_state = to_logical_state(ouput_fock_state)\n",
    "    print(logical_state, amplitude)"
   ]
  },
  {
   "cell_type": "markdown",
   "id": "43e94f97",
   "metadata": {},
   "source": [
    "The amplitudes obtained with perceval correspond to the expected output state\n",
    "$$\\frac{1}{2} \\left ( |0\\rangle_{x_1}|0\\rangle_{f_1} + |1\\rangle_{x_1}|1\\rangle_{f_1} \\right ) \\otimes \\left ( |0\\rangle_{x_2}|1\\rangle_{f_2} + |1\\rangle_{x_2}|0\\rangle_{f_2} \\right )$$\n",
    "up to numerical precision, without renormalization."
   ]
  },
  {
   "cell_type": "markdown",
   "id": "300664ac",
   "metadata": {},
   "source": [
    "#### Distribution\n",
    "\n",
    "We now compute the probabilities to obtain each outcome corresponding to measuring the expected output state in the computational basis."
   ]
  },
  {
   "cell_type": "code",
   "execution_count": 8,
   "id": "2277ec12",
   "metadata": {},
   "outputs": [
    {
     "name": "stdout",
     "output_type": "stream",
     "text": [
      "Output state distribution: (post-selected on expected qubit states, renormalized)\n",
      "|x1,f1,x2,f2>\n"
     ]
    },
    {
     "data": {
      "text/html": [
       "<table>\n",
       "<thead>\n",
       "<tr><th>      </th><th>|0010&gt;  </th><th>|1110&gt;  </th><th>|0001&gt;  </th><th>|1101&gt;  </th></tr>\n",
       "</thead>\n",
       "<tbody>\n",
       "<tr><td>|0001&gt;</td><td>1/4     </td><td>1/4     </td><td>1/4     </td><td>1/4     </td></tr>\n",
       "</tbody>\n",
       "</table>"
      ],
      "text/plain": [
       "<IPython.core.display.HTML object>"
      ]
     },
     "metadata": {},
     "output_type": "display_data"
    }
   ],
   "source": [
    "input_states = {input_fock_state[:-4]: str(qubit_input_state)}\n",
    "\n",
    "expected_output_states = {\n",
    "    output_fock_state: str(to_logical_state(output_fock_state))\n",
    "    for output_fock_state in evolved_state.keys()\n",
    "}\n",
    "\n",
    "p = Processor(\"SLOS\", experiment)\n",
    "ca = Analyzer(p, input_states, expected_output_states)\n",
    "ca.compute()\n",
    "\n",
    "print(\"Output state distribution: (post-selected on expected qubit states, renormalized)\")\n",
    "print(\"|x1,f1,x2,f2>\")\n",
    "pcvl.pdisplay(ca)"
   ]
  },
  {
   "cell_type": "markdown",
   "id": "5e464e2c",
   "metadata": {},
   "source": [
    "The distribution computed with Perceval is uniform over each outcome, which corresponds to the expected distribution obtained in the paper when $x_0 = 0$."
   ]
  },
  {
   "cell_type": "markdown",
   "id": "a79723d8",
   "metadata": {},
   "source": [
    "### Interpretation of the outcomes\n",
    "\n",
    "For each outcome we consider the values of qubits $x_2, x_1, x_0$ (where $x_0$ is 0) which represent a binary number between 0 and 7, here corresponding to 0, 4, 2 and 6 in the order of the table above.\n",
    "After sampling the circuit, obtaining outcomes 2 or 6 allows to successfully compute the order $r=4$.\n",
    "Obtaining outcome 0 is an expected failure of the quantum circuit, inherent to Shor's algorithm.\n",
    "Outcome 4 is an expected failure as well, as it only allows to compute the trivial factors 1 and 15.\n",
    "\n",
    "Since the distribution is uniform the circuit successfully yields a successful outcome with probability 1/2. This probability can be amplified exponentially close to $1$ by sampling the circuit multiple times."
   ]
  },
  {
   "cell_type": "markdown",
   "id": "7928b50b",
   "metadata": {},
   "source": [
    "## Reference\n",
    "\n",
    "> Alberto Politi, Jonathan C.F. Matthews, and Jeremy L. O'brien. \"Shor’s quantum factoring algorithm on a photonic chip.\" [Science](https://www.science.org/doi/10.1126/science.1173731) 325.5945 (2009): 1221-1221."
   ]
  }
 ],
 "metadata": {
  "language_info": {
   "name": "python"
  }
 },
 "nbformat": 4,
 "nbformat_minor": 5
}
