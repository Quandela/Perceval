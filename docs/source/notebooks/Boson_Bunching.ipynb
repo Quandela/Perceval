{
 "cells": [
  {
   "cell_type": "markdown",
   "metadata": {},
   "source": [
    "# Boson Bunching\n",
    "\n",
    "A prominent example of boson bunching is the Hong-Ou-Mandel effect, where the bunching of two photons arises from a destructive quantum interference between the trajectories where they both either cross a beam splitter or are reflected. This effect takes its roots in the indistinguishability of identical photons. You can read more about it [[1]](#references).\n",
    "More generally one can send in $n$ photons into an optical interferometer via $m$ modes and one then measures in which modes the photons are ending up.\n",
    "For the example discussed here there are 7 photons sent into 7 modes and we are interested in the probability that all 7 photons end up in the first two modes. The interferometer is described by an unitary matrix and the incoming photons can be fully indistinguishable, fully distinguishable or partially distinguishable.\n",
    "\n",
    "## Introduction\n",
    "\n",
    "The paper [[2]](#references) shows that, unlike in the Hong-Ou-Mandel effect, bunching gets maximized with partially distinguishable photons. This disproofs the following conjecture:\n"
   ]
  },
  {
   "cell_type": "markdown",
   "metadata": {},
   "source": [
    "\n",
    "### Conjecture 1\n",
    "(Generalized Bunching). Consider any input state of classically correlated photons. For any linear interferometer\n",
    "$\\hat{U}$ and any nontrivial subset $\\mathcal{K}$ of output modes, the probability that all photons are found in $\\mathcal{K}$ is maximal if the photons are (perfectly) indistinguishable. \n",
    "\n",
    "Evidence for this conjecture was given [[3]](#references)."
   ]
  },
  {
   "cell_type": "markdown",
   "metadata": {},
   "source": [
    "The probability for such a case is given by:\n",
    "$$\n",
    "P_n(S) = perm(H \\odot S^T)\n",
    "$$\n",
    "where $n$ is the number of input photons, $S$ the distinguishability  matrix and $H$ a matrix which depends on $\\hat{U}$ and $\\mathcal{K}$. The symbol $\\odot$ is the elementwise multiplication.\n",
    "\n",
    "The distinguishability  matrix $S$ is defined by:\n",
    "$$ S_{ij} = <i|j> $$ \n",
    "where $<i|$ is the photon in the $i^{th}$ input mode $S_{ij} = 1$ if $\\text{photon}_i$ and $\\text{photon}_j$ are indistinguishable and $0$ if $\\text{photon}_i$ and $\\text{photon}_j$ are fully distinguishable. So for fully indistinguishable photons, $S$ is the matrix with ones in all entries.\n",
    "\n",
    "The matrix $H$ is defined by: \n",
    "$$\n",
    "H_{ij} = \\sum_{l\\in\\mathcal{K}} U^*_{li} U_{lj}\n",
    "$$\n",
    "with $i,j \\in \\{1, ... , n\\}$ where $n$ is the number of input photons.\n",
    "If we now compare the probability for fully indistinguishable photons to partially distinguishable photons we can rewrite conjecture 1 like this:\n",
    "$$\n",
    "perm(H) ≥ perm(H \\odot S^T)\n",
    "$$\n",
    "\n",
    "This version of the conjecture has been proven wrong with a 7 by 7 counterexample by [[4]](#references).\n",
    "\n",
    "In this notebook we are constructing an optical circuit based on this counter example and input the partially distinguishable photons to show that this indeed amplifies the bunching probability.\n",
    "\n"
   ]
  },
  {
   "cell_type": "markdown",
   "metadata": {},
   "source": [
    "## Setting up the required packages."
   ]
  },
  {
   "cell_type": "code",
   "execution_count": 5,
   "metadata": {},
   "outputs": [],
   "source": [
    "# Perceval\n",
    "from perceval import BasicState, Matrix, Simulator, SLOSBackend, Unitary\n",
    "# Other\n",
    "import numpy as np\n",
    "import math\n",
    "import matplotlib.pyplot as plt"
   ]
  },
  {
   "cell_type": "markdown",
   "metadata": {},
   "source": [
    "## Constructing the unitary matrix\n",
    "\n",
    "The counter example to the conjecture is $H = A$ and $S^T = A^T$ with\n",
    "$$A = M^{\\dagger} M \\text{ with }\n",
    "M= \\frac{1}{\\sqrt{2}} \\begin{pmatrix}\n",
    "\\sqrt{2} & 0 & 1 & 1 & 1 & 1 & 1\\\\\n",
    "0 & \\sqrt{2} & 1 & \\omega & \\omega^2 & \\omega^3 & \\omega^4\n",
    "\\end{pmatrix} \n",
    "$$\n",
    "and $\\omega = exp(\\frac{2*\\pi *i}{5})$, the $5^{th}$ root of unity.\n",
    "\n",
    "Thus we have to construct the unitary circuit fom the definition of $H$. There are infinitly many such unitaries and we therefore generate a random one which returns $H=A$."
   ]
  },
  {
   "cell_type": "code",
   "execution_count": 6,
   "metadata": {},
   "outputs": [],
   "source": [
    "# number of input photons and modes (works for n ≥ 4) See [2] for the generalisation of the above to n photons.\n",
    "n = 7\n",
    "# definition of w as the (n-2)th root of unity\n",
    "w = np.exp((2*math.pi*1j)/(n-2))\n",
    "\n",
    "\n",
    "def create_vectors(n: int, w: complex) -> tuple:\n",
    "    # first two orthonormal vectors from which the Unitary matrix for the circuit is built\n",
    "    v1 = np.zeros(n, dtype=np.cdouble)\n",
    "    v1[0] = 1\n",
    "    v1[1] = 0\n",
    "    for i in range(2, n):\n",
    "        v1[i] = 1/math.sqrt(2)\n",
    "\n",
    "    v2 = np.zeros(n, dtype=np.cdouble)\n",
    "    v2[0] = 0\n",
    "    v2[1] = 1\n",
    "    for i in range(2, n):\n",
    "        v2[i] = np.conj(w**(i-2))/math.sqrt(2)\n",
    "\n",
    "    return v1, v2  # these are the complex conjugate of the first two rows of the matrix M for n=7\n",
    "\n",
    "\n",
    "def normalize(vector: np.ndarray) -> np.ndarray:\n",
    "    return vector / np.linalg.norm(vector)\n",
    "\n",
    "\n",
    "def make_unitary(n: int, w: complex) -> np.matrix:\n",
    "    vector1, vector2 = create_vectors(n, w)\n",
    "    orthonormal_basis = [normalize(vector1), normalize(vector2)]\n",
    "    for _ in range(n-2):\n",
    "        # Create a random n-dimensional complex vector\n",
    "        random_vector = np.random.rand(n) + 1j*np.random.rand(n)\n",
    "        # Subtract projections onto existing basis vectors to make it orthogonal\n",
    "        for basis_vector in orthonormal_basis:\n",
    "            random_vector -= np.vdot(basis_vector,\n",
    "                                     random_vector) * basis_vector\n",
    "            # Normalize the orthogonal vector to make it orthonormal\n",
    "        orthonormal_basis.append(normalize(random_vector))\n",
    "        # Define the unitary matrix from the calculated vectors\n",
    "    mat = []\n",
    "    for i in range(n):\n",
    "        mat.append(orthonormal_basis[i])\n",
    "    unitary_matrix = np.matrix(mat)\n",
    "\n",
    "    return unitary_matrix\n",
    "\n",
    "\n",
    "unitary_matrix = make_unitary(n, w)"
   ]
  },
  {
   "cell_type": "markdown",
   "metadata": {},
   "source": [
    "## Building the Circuit\n",
    "\n",
    "Now that we have the unitary matrix we can use perceval to create a circuit from it. We do this by decomposing the unitary into Mach-Zender Interferometers. This gives us a 7 modes interferometer."
   ]
  },
  {
   "cell_type": "code",
   "execution_count": 7,
   "metadata": {},
   "outputs": [],
   "source": [
    "# convert Unitary matrix into a Perceval circuit\n",
    "circuit = Unitary(Matrix(unitary_matrix))"
   ]
  },
  {
   "cell_type": "markdown",
   "metadata": {},
   "source": [
    "## Inputting photons of different degrees of distinguishability\n",
    "\n",
    "Now that we have the circuit which represents the correct unitary matrix and therefore the correct $H$ from the conjecture, we need to feed in the right photons following the distinguishably matrix $S=A$. In the [[2]](#references) the input photons are described via polarization. In this simulation it is not specified how the photons are distinguishable. The first two photons are fully distinguishable. The other five photons are each a linear combination of the first two photons and form an equally spaced star shape when drawn on the Bloch sphere. \n",
    "\n",
    "\n",
    "\n",
    "![Blochsphere](../_static/img/Blochsphere.png)\n",
    "\n",
    "Here one can see the two fully distinguishable photons with red arrows and the five linear combinations in the equator plane."
   ]
  },
  {
   "cell_type": "code",
   "execution_count": 8,
   "metadata": {},
   "outputs": [],
   "source": [
    "def create_inputs(n: int, w: complex) -> tuple:\n",
    "    # make a list of fully distinguishable photons of the form |{i}> that means the photon has a noise tag \"i\"\n",
    "    states_dist = []\n",
    "    for i in range(1, n+1):\n",
    "        x = \"|{\" + str(i) + \"}>\"\n",
    "        states_dist.append(BasicState(x))\n",
    "    # make a list of all input photons which are superpositions of |{1}> and |{2}>\n",
    "    # start with the pure states |{1}> and |{2}>\n",
    "    states_par_dist = [states_dist[0], states_dist[1]]\n",
    "    for i in range(2, n):\n",
    "        # add the states |{1}> + w^(i-2)|{2}>\n",
    "        x = states_par_dist[1] * w**(i-2) + states_par_dist[0]\n",
    "        states_par_dist.append(x)\n",
    "    # Input states\n",
    "    # initialise the variables\n",
    "    indistinguishable_photons = []\n",
    "    partially_distinguishable_photons = 1\n",
    "    distinguishable_photons = 1\n",
    "    # fill the states\n",
    "    for i in range(n):\n",
    "        indistinguishable_photons.append(1)  # gives the state |1,1, ... , 1>\n",
    "        partially_distinguishable_photons = partially_distinguishable_photons * \\\n",
    "            states_par_dist[i]\n",
    "        distinguishable_photons = distinguishable_photons * \\\n",
    "            states_dist[i]  # gives the state |{1},{2}, ... ,{n}>\n",
    "    return BasicState(indistinguishable_photons), partially_distinguishable_photons, distinguishable_photons\n",
    "\n",
    "\n",
    "# indistinguishable photons, partially distinguishable photons, fully distinguishable photons respectively\n",
    "indistinguishable_photons, partially_distinguishable_photons, distinguishable_photons = create_inputs(n, w)"
   ]
  },
  {
   "cell_type": "markdown",
   "metadata": {},
   "source": [
    "To see if photon bunching gets amplified for partially distiguishable photons we need to compare it to the case of indistinguishable photons and for interest we are also comparing it to fully distinguishable photons. We are expecting that the probability for partially distinguishable photons will be highest followed by the indistinguishable photons and fully distinguishable photons having the lowest probability."
   ]
  },
  {
   "cell_type": "code",
   "execution_count": 9,
   "metadata": {},
   "outputs": [],
   "source": [
    "# simulating boson sampling\n",
    "simulator = Simulator(SLOSBackend())\n",
    "simulator.set_circuit(circuit)"
   ]
  },
  {
   "cell_type": "code",
   "execution_count": 10,
   "metadata": {},
   "outputs": [
    {
     "name": "stdout",
     "output_type": "stream",
     "text": [
      "The probability for all 7 indistinguishable photons ending up in the first two modes is: 0.699 %\n",
      "The probability for all 7 distinguishable photons ending up in the first two modes is: 0.016 %\n",
      "The probability for all 7 partially distinguishable photons ending up in the first two modes is: 0.751 %\n"
     ]
    }
   ],
   "source": [
    "def calc_prob(distinguishable_type, n: int, simulator) -> tuple:\n",
    "    def reverse(lst):\n",
    "        new_lst = lst[::-1]\n",
    "        return new_lst\n",
    "    # initialize the probabilities\n",
    "    probability_photons = 0\n",
    "    probability_distribution_photons = []\n",
    "    # summing over all cases where all photons end up in only two modes\n",
    "    # range over half the distribution because of symmetry\n",
    "    for i in range(math.ceil((n+1)/2)):\n",
    "        probability = simulator.probability(distinguishable_type, BasicState([i, n-i] + [0]*(n-2)))\n",
    "        probability_distribution_photons.append(probability)\n",
    "        probability_photons += probability\n",
    "    x = []\n",
    "    for i in range(math.ceil((n+1)/2), n+1):\n",
    "        x.append(probability_distribution_photons[i-math.ceil((n+1)/2)])\n",
    "        probability_photons += probability_distribution_photons[i-math.ceil((n+1)/2)]\n",
    "    probability_distribution_photons = probability_distribution_photons + reverse(x)\n",
    "    for i in range(n+1):\n",
    "        if probability_photons != 0:\n",
    "            probability_distribution_photons[i] = probability_distribution_photons[i] / probability_photons\n",
    "\n",
    "    return probability_distribution_photons, probability_photons\n",
    "\n",
    "\n",
    "# Save the Probabilities so we don't have to run the CalcProb function multiple times\n",
    "probability_distribution_indistinguishable, probability_indistinguishable = calc_prob(indistinguishable_photons, n, simulator)\n",
    "print(f\"The probability for all {n} indistinguishable photons ending up in the first two modes is: {probability_indistinguishable*100:.3f} %\")\n",
    "\n",
    "probability_distribution_distinguishable, probability_distinguishable = calc_prob(distinguishable_photons, n, simulator)  # high runtime\n",
    "print(f\"The probability for all {n} distinguishable photons ending up in the first two modes is: {probability_distinguishable*100:.3f} %\")\n",
    "\n",
    "probability_distribution_partially_distinguishable, probability_partially_distinguishable = calc_prob(partially_distinguishable_photons, n, simulator)  # high runtime\n",
    "print(f\"The probability for all {n} partially distinguishable photons ending up in the first two modes is: {probability_partially_distinguishable*100:.3f} %\")"
   ]
  },
  {
   "cell_type": "markdown",
   "metadata": {},
   "source": [
    "From the results above we can clearly see that the implemented partial distinguishablity amplified the bunching probability from 0.699% to 0,751%. This however does not proof that our set up gives the maximum bunching probability. As it only disproofs the conjecture with a counter example."
   ]
  },
  {
   "cell_type": "markdown",
   "metadata": {},
   "source": [
    "## Plotting the results"
   ]
  },
  {
   "cell_type": "markdown",
   "metadata": {},
   "source": [
    "The first plot shows two-mode bunching probabilities for the three different scenarios. Here we can see the results match our expectations.\n",
    "\n",
    "The second plot shows the photon-number probability distribution for the first two output modes. The distributions are normalized, i.e., the probabilities are conditioned on events where all 7 photons end up in the first two modes (two-mode bunching events). This plot is interesting because it shows that the shape of the distribution of indistinguishable photons is very different to the shape of the distributions of partially and fully distinguishable photons."
   ]
  },
  {
   "cell_type": "code",
   "execution_count": 11,
   "metadata": {},
   "outputs": [
    {
     "data": {
      "image/png": "[encoded data removed]",
      "text/plain": [
       "<Figure size 640x480 with 1 Axes>"
      ]
     },
     "metadata": {},
     "output_type": "display_data"
    },
    {
     "data": {
      "image/png": "[encoded data removed]",
      "text/plain": [
       "<Figure size 640x480 with 1 Axes>"
      ]
     },
     "metadata": {},
     "output_type": "display_data"
    }
   ],
   "source": [
    "def plot(n: int, probability_distribution_indistinguishable, probability_indistinguishable, probability_distribution_partially_distinguishable, probability_partially_distinguishable, probability_distribution_distinguishable, probability_distinguishable):\n",
    "    x = []\n",
    "    for i in range(n+1):\n",
    "        # creates a list of all possible tuple such that a+b=n for tuple (a,b)\n",
    "        x.append(\"({},{})\".format(i, n-i))\n",
    "    output_modes = x\n",
    "    colours = ['#58c4e1', '#946cba', '#383e48']  # light blue, purple and gray\n",
    "\n",
    "    def add_labels(x, y):\n",
    "        for i in range(len(x)):\n",
    "            if y[i] > 0.0005:\n",
    "                plt.text(i, y[i]/2, round(y[i], 5), ha='center', color='white')\n",
    "            else:\n",
    "                plt.text(i, 1.25*y[i], round(y[i], 5), ha='center')\n",
    "    cases = [\"indistinguishable\",\n",
    "             \"partially distinguishable\", \"distinguishable\"]\n",
    "    probabilities = [probability_indistinguishable,\n",
    "                     probability_partially_distinguishable, probability_distinguishable]\n",
    "    plt.bar(cases, probabilities, color=colours)\n",
    "    plt.ylabel('probability')\n",
    "    plt.title(\"Comparing the total bunching probabilities for {} photons\".format(n))\n",
    "    add_labels(cases, probabilities)\n",
    "    plt.show()\n",
    "\n",
    "    plt.scatter(output_modes, probability_distribution_indistinguishable,\n",
    "                label='indistinguishable', color=colours[0])\n",
    "    plt.scatter(output_modes, probability_distribution_partially_distinguishable,\n",
    "                label='partially distinguishable', color=colours[1])\n",
    "    plt.scatter(output_modes, probability_distribution_distinguishable,\n",
    "                label='distinguishable', color=colours[2])\n",
    "    plt.ylabel('probability')\n",
    "    plt.xlabel('number of photons in first two modes')\n",
    "    plt.title(\"Normalized bunching distributions\")\n",
    "    plt.legend()\n",
    "    plt.show()\n",
    "\n",
    "\n",
    "plot(n, probability_distribution_indistinguishable, probability_indistinguishable, probability_distribution_partially_distinguishable,\n",
    "     probability_partially_distinguishable, probability_distribution_distinguishable, probability_distinguishable)"
   ]
  },
  {
   "cell_type": "markdown",
   "metadata": {},
   "source": [
    "To see the that this set up only works for at least 7 photons we can compare the cases of 4,5,6 and 7 photons. You can see this if you run the above for n = 4,5 and 6. Running it for 8 or higher values for n will take a long time.\n",
    "\n",
    "### For 8 photons the following holds:\n",
    "\n",
    "The probability for all 8 indistinguishable photon ending up in the first two modes is: 0.240 %\n",
    "\n",
    "The probability for all 8 distinguishable photon ending up in the first two modes is: 0.002 %\n",
    "\n",
    "The probability for all 8 partially distinguishable photon ending up in the first two modes is: 0.294 %\n"
   ]
  },
  {
   "cell_type": "markdown",
   "metadata": {},
   "source": [
    "## References"
   ]
  },
  {
   "cell_type": "markdown",
   "metadata": {},
   "source": [
    "\n",
    "<a id=\"1\">[1]</a>\n",
    "Agata M. Branczyk, Hong-Ou-Mandel Interference (2017) in arXiv:1711.00080 (http://arxiv.org/abs/1711.00080)\n",
    "\n",
    "<a id=\"2\">[2]</a>\n",
    "Benoit Seron, Leonardo Novo and Nicolas J. Cerf, Boson bunching is not maximized by indistinguishable particles (2022) in arXiv:2203.01306 (https://arxiv.org/abs/2203.01306)\n",
    "\n",
    "<a id=\"3\">[3]</a>\n",
    "V. S. Shchesnovich, Universality of Generalized Bunching and Efficient Assessment of Boson Sampling (2016) in arXiv:1509.01561 (https://arxiv.org/abs/1509.01561)\n",
    "\n",
    "<a id=\"4\">[4]</a>\n",
    "Stephen W. Drury, A counterexample to a question of Bapat and Sunder (2016) in Electronic Journal of Linear Algebra **Vol 31** 69-70 (https://journals.uwyo.edu/index.php/ela/article/view/1631/1631)\n"
   ]
  }
 ],
 "metadata": {
  "language_info": {
   "name": "python"
  }
 },
 "nbformat": 4,
 "nbformat_minor": 2
}
