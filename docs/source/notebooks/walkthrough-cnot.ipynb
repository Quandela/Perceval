{
 "cells": [
  {
   "cell_type": "markdown",
   "id": "29990c15",
   "metadata": {
    "pycharm": {
     "name": "#%% md\n"
    }
   },
   "source": [
    "# Perceval Detailed Walkthrough"
   ]
  },
  {
   "cell_type": "markdown",
   "id": "c1e5e2ac",
   "metadata": {
    "pycharm": {
     "name": "#%% md\n"
    }
   },
   "source": [
    "In this notebook, we aim to reproduce the $\\mathsf{CNOT}$ Gate to \n",
    "evaluate its performance while demonstrating key features of Perceval. We use as basis the implementation from [1]"
   ]
  },
  {
   "cell_type": "code",
   "execution_count": 14,
   "id": "bb751c13",
   "metadata": {
    "pycharm": {
     "name": "#%%\n"
    },
    "scrolled": true
   },
   "outputs": [],
   "source": [
    "import perceval as pcvl\n",
    "import perceval.lib.phys as phys\n",
    "import sympy as sp\n",
    "import numpy as np"
   ]
  },
  {
   "cell_type": "markdown",
   "id": "cb91de5c",
   "metadata": {
    "pycharm": {
     "name": "#%% md\n"
    }
   },
   "source": [
    "### Ralph CNOT Gate"
   ]
  },
  {
   "cell_type": "markdown",
   "id": "d1d6cd32",
   "metadata": {
    "pycharm": {
     "name": "#%% md\n"
    }
   },
   "source": [
    "We start by describing the circuit as defined by the paper above- it is a circuit on six modes (labelled from 0 to 5 from top to bottom) consisting of five beam splitters. Modes 1 and 2 contain the control system while modes 3 and 4 encode the target syestem. Modes 0 and 5 are unoccupied ancillary modes."
   ]
  },
  {
   "cell_type": "code",
   "execution_count": 4,
   "id": "83ff4732",
   "metadata": {
    "pycharm": {
     "name": "#%%\n"
    }
   },
   "outputs": [
    {
     "data": {
      "text/plain": "<IPython.core.display.HTML object>",
      "text/html": "<svg width='362.000000' height='350.000000' viewBox='-6.000000 0.000000 356.000000 350.000000'><path d=\"M 10 25 L 25 25\" fill=\"none\" stroke=\"darkred\" stroke-width=\"3.000000\" stroke-linejoin=\"miter\"/>\n<text x=\"0.000000\" y=\"25.000000\" font-size=\"12.000000\" text-anchor=\"start\">0</text>\n<path d=\"M 10 75 L 25 75\" fill=\"none\" stroke=\"darkred\" stroke-width=\"3.000000\" stroke-linejoin=\"miter\"/>\n<text x=\"0.000000\" y=\"75.000000\" font-size=\"12.000000\" text-anchor=\"start\">1</text>\n<path d=\"M 10 125 L 25 125\" fill=\"none\" stroke=\"darkred\" stroke-width=\"3.000000\" stroke-linejoin=\"miter\"/>\n<text x=\"0.000000\" y=\"125.000000\" font-size=\"12.000000\" text-anchor=\"start\">2</text>\n<path d=\"M 10 175 L 25 175\" fill=\"none\" stroke=\"darkred\" stroke-width=\"3.000000\" stroke-linejoin=\"miter\"/>\n<text x=\"0.000000\" y=\"175.000000\" font-size=\"12.000000\" text-anchor=\"start\">3</text>\n<path d=\"M 10 225 L 25 225\" fill=\"none\" stroke=\"darkred\" stroke-width=\"3.000000\" stroke-linejoin=\"miter\"/>\n<text x=\"0.000000\" y=\"225.000000\" font-size=\"12.000000\" text-anchor=\"start\">4</text>\n<path d=\"M 10 275 L 25 275\" fill=\"none\" stroke=\"darkred\" stroke-width=\"3.000000\" stroke-linejoin=\"miter\"/>\n<text x=\"0.000000\" y=\"275.000000\" font-size=\"12.000000\" text-anchor=\"start\">5</text>\n<polyline points=\"25 25 53 25 72 44\" fill=\"transparent\"stroke=\"darkred\" stroke-width=\"3.000000\" stroke-linejoin=\"round\" />\n<polyline points=\"78 44 97 25 125 25\" fill=\"transparent\"stroke=\"darkred\" stroke-width=\"3.000000\" stroke-linejoin=\"round\" />\n<polyline points=\"25 75 53 75 72 56\" fill=\"transparent\"stroke=\"darkred\" stroke-width=\"3.000000\" stroke-linejoin=\"round\" />\n<polyline points=\"78 56 97 75 125 75\" fill=\"transparent\"stroke=\"darkred\" stroke-width=\"3.000000\" stroke-linejoin=\"round\" />\n<polyline points=\"50 43 100 43 100 57 50 57 50 43\" fill=\"black\" stroke=\"black\" stroke-width=\"1.000000\" stroke_linejoin=\"miter\" />\n<text x=\"75.000000\" y=\"86.000000\" font-size=\"7.000000\" text-anchor=\"middle\">phi_b=pi, phi_d=0</text>\n<text x=\"75.000000\" y=\"26.000000\" font-size=\"7.000000\" text-anchor=\"middle\">R=1/3</text>\n<polyline points=\"50 53 100 53 100 57 50 57 50 53\" fill=\"lightgray\" stroke=\"black\" stroke-width=\"1.000000\" stroke_linejoin=\"miter\" />\n<polyline points=\"25 175 53 175 72 194\" fill=\"transparent\"stroke=\"darkred\" stroke-width=\"3.000000\" stroke-linejoin=\"round\" />\n<polyline points=\"78 194 97 175 125 175\" fill=\"transparent\"stroke=\"darkred\" stroke-width=\"3.000000\" stroke-linejoin=\"round\" />\n<polyline points=\"25 225 53 225 72 206\" fill=\"transparent\"stroke=\"darkred\" stroke-width=\"3.000000\" stroke-linejoin=\"round\" />\n<polyline points=\"78 206 97 225 125 225\" fill=\"transparent\"stroke=\"darkred\" stroke-width=\"3.000000\" stroke-linejoin=\"round\" />\n<polyline points=\"50 193 100 193 100 207 50 207 50 193\" fill=\"black\" stroke=\"black\" stroke-width=\"1.000000\" stroke_linejoin=\"miter\" />\n<text x=\"75.000000\" y=\"236.000000\" font-size=\"7.000000\" text-anchor=\"middle\"></text>\n<text x=\"75.000000\" y=\"176.000000\" font-size=\"7.000000\" text-anchor=\"middle\"></text>\n<polyline points=\"50 193 100 193 100 197 50 197 50 193\" fill=\"lightgray\" stroke=\"black\" stroke-width=\"1.000000\" stroke_linejoin=\"miter\" />\n<polyline points=\"25 125 125 125\" fill=\"transparent\"stroke=\"darkred\" stroke-width=\"3.000000\" stroke-linejoin=\"miter\" />\n<polyline points=\"125 125 153 125 172 144\" fill=\"transparent\"stroke=\"darkred\" stroke-width=\"3.000000\" stroke-linejoin=\"round\" />\n<polyline points=\"178 144 197 125 225 125\" fill=\"transparent\"stroke=\"darkred\" stroke-width=\"3.000000\" stroke-linejoin=\"round\" />\n<polyline points=\"125 175 153 175 172 156\" fill=\"transparent\"stroke=\"darkred\" stroke-width=\"3.000000\" stroke-linejoin=\"round\" />\n<polyline points=\"178 156 197 175 225 175\" fill=\"transparent\"stroke=\"darkred\" stroke-width=\"3.000000\" stroke-linejoin=\"round\" />\n<polyline points=\"150 143 200 143 200 157 150 157 150 143\" fill=\"black\" stroke=\"black\" stroke-width=\"1.000000\" stroke_linejoin=\"miter\" />\n<text x=\"175.000000\" y=\"186.000000\" font-size=\"7.000000\" text-anchor=\"middle\">phi_b=pi, phi_d=0</text>\n<text x=\"175.000000\" y=\"126.000000\" font-size=\"7.000000\" text-anchor=\"middle\">R=1/3</text>\n<polyline points=\"150 153 200 153 200 157 150 157 150 153\" fill=\"lightgray\" stroke=\"black\" stroke-width=\"1.000000\" stroke_linejoin=\"miter\" />\n<polyline points=\"25 275 125 275\" fill=\"transparent\"stroke=\"darkred\" stroke-width=\"3.000000\" stroke-linejoin=\"miter\" />\n<polyline points=\"125 225 153 225 172 244\" fill=\"transparent\"stroke=\"darkred\" stroke-width=\"3.000000\" stroke-linejoin=\"round\" />\n<polyline points=\"178 244 197 225 225 225\" fill=\"transparent\"stroke=\"darkred\" stroke-width=\"3.000000\" stroke-linejoin=\"round\" />\n<polyline points=\"125 275 153 275 172 256\" fill=\"transparent\"stroke=\"darkred\" stroke-width=\"3.000000\" stroke-linejoin=\"round\" />\n<polyline points=\"178 256 197 275 225 275\" fill=\"transparent\"stroke=\"darkred\" stroke-width=\"3.000000\" stroke-linejoin=\"round\" />\n<polyline points=\"150 243 200 243 200 257 150 257 150 243\" fill=\"black\" stroke=\"black\" stroke-width=\"1.000000\" stroke_linejoin=\"miter\" />\n<text x=\"175.000000\" y=\"286.000000\" font-size=\"7.000000\" text-anchor=\"middle\"></text>\n<text x=\"175.000000\" y=\"226.000000\" font-size=\"7.000000\" text-anchor=\"middle\">R=1/3</text>\n<polyline points=\"150 243 200 243 200 247 150 247 150 243\" fill=\"lightgray\" stroke=\"black\" stroke-width=\"1.000000\" stroke_linejoin=\"miter\" />\n<polyline points=\"225 175 253 175 272 194\" fill=\"transparent\"stroke=\"darkred\" stroke-width=\"3.000000\" stroke-linejoin=\"round\" />\n<polyline points=\"278 194 297 175 325 175\" fill=\"transparent\"stroke=\"darkred\" stroke-width=\"3.000000\" stroke-linejoin=\"round\" />\n<polyline points=\"225 225 253 225 272 206\" fill=\"transparent\"stroke=\"darkred\" stroke-width=\"3.000000\" stroke-linejoin=\"round\" />\n<polyline points=\"278 206 297 225 325 225\" fill=\"transparent\"stroke=\"darkred\" stroke-width=\"3.000000\" stroke-linejoin=\"round\" />\n<polyline points=\"250 193 300 193 300 207 250 207 250 193\" fill=\"black\" stroke=\"black\" stroke-width=\"1.000000\" stroke_linejoin=\"miter\" />\n<text x=\"275.000000\" y=\"236.000000\" font-size=\"7.000000\" text-anchor=\"middle\"></text>\n<text x=\"275.000000\" y=\"176.000000\" font-size=\"7.000000\" text-anchor=\"middle\"></text>\n<polyline points=\"250 193 300 193 300 197 250 197 250 193\" fill=\"lightgray\" stroke=\"black\" stroke-width=\"1.000000\" stroke_linejoin=\"miter\" />\n<polyline points=\"125 25 325 25\" fill=\"transparent\"stroke=\"darkred\" stroke-width=\"3.000000\" stroke-linejoin=\"miter\" />\n<polyline points=\"125 75 325 75\" fill=\"transparent\"stroke=\"darkred\" stroke-width=\"3.000000\" stroke-linejoin=\"miter\" />\n<polyline points=\"225 125 325 125\" fill=\"transparent\"stroke=\"darkred\" stroke-width=\"3.000000\" stroke-linejoin=\"miter\" />\n<polyline points=\"225 275 325 275\" fill=\"transparent\"stroke=\"darkred\" stroke-width=\"3.000000\" stroke-linejoin=\"miter\" />\n<path d=\"M 325 25 L 340 25\" fill=\"none\" stroke=\"darkred\" stroke-width=\"3.000000\" stroke-linejoin=\"miter\"/>\n<text x=\"350.000000\" y=\"25.000000\" font-size=\"12.000000\" text-anchor=\"end\">0</text>\n<path d=\"M 325 75 L 340 75\" fill=\"none\" stroke=\"darkred\" stroke-width=\"3.000000\" stroke-linejoin=\"miter\"/>\n<text x=\"350.000000\" y=\"75.000000\" font-size=\"12.000000\" text-anchor=\"end\">1</text>\n<path d=\"M 325 125 L 340 125\" fill=\"none\" stroke=\"darkred\" stroke-width=\"3.000000\" stroke-linejoin=\"miter\"/>\n<text x=\"350.000000\" y=\"125.000000\" font-size=\"12.000000\" text-anchor=\"end\">2</text>\n<path d=\"M 325 175 L 340 175\" fill=\"none\" stroke=\"darkred\" stroke-width=\"3.000000\" stroke-linejoin=\"miter\"/>\n<text x=\"350.000000\" y=\"175.000000\" font-size=\"12.000000\" text-anchor=\"end\">3</text>\n<path d=\"M 325 225 L 340 225\" fill=\"none\" stroke=\"darkred\" stroke-width=\"3.000000\" stroke-linejoin=\"miter\"/>\n<text x=\"350.000000\" y=\"225.000000\" font-size=\"12.000000\" text-anchor=\"end\">4</text>\n<path d=\"M 325 275 L 340 275\" fill=\"none\" stroke=\"darkred\" stroke-width=\"3.000000\" stroke-linejoin=\"miter\"/>\n<text x=\"350.000000\" y=\"275.000000\" font-size=\"12.000000\" text-anchor=\"end\">5</text></svg>"
     },
     "metadata": {},
     "output_type": "display_data"
    }
   ],
   "source": [
    "cnot = phys.Circuit(6, name=\"Ralph CNOT\")\n",
    "cnot.add((0, 1), phys.BS(R=1/3, phi_b=sp.pi, phi_d=0))\n",
    "cnot.add((3, 4), phys.BS(R=1/2))\n",
    "cnot.add((2, 3), phys.BS(R=1/3, phi_b=sp.pi, phi_d=0))\n",
    "cnot.add((4, 5), phys.BS(R=1/3))\n",
    "cnot.add((3, 4), phys.BS(R=1/2))\n",
    "pcvl.pdisplay(cnot)"
   ]
  },
  {
   "cell_type": "markdown",
   "id": "ed7b0498",
   "metadata": {
    "pycharm": {
     "name": "#%% md\n"
    }
   },
   "source": [
    "We can then simulate this circuit using the `Naive` backend on four different input states corresponding to the two-qubit computational basis states. We use `CircuitAnalyser` to analyse the performance of the gate."
   ]
  },
  {
   "cell_type": "code",
   "execution_count": 5,
   "id": "87a00b53",
   "metadata": {
    "pycharm": {
     "name": "#%%\n"
    }
   },
   "outputs": [
    {
     "data": {
      "text/plain": "<IPython.core.display.HTML object>",
      "text/html": "<table>\n<thead>\n<tr><th style=\"text-align: right;\">  </th><th style=\"text-align: right;\">      00</th><th style=\"text-align: right;\">      01</th><th style=\"text-align: right;\">      10</th><th style=\"text-align: right;\">      11</th></tr>\n</thead>\n<tbody>\n<tr><td style=\"text-align: right;\">00</td><td style=\"text-align: right;\">0.999991</td><td style=\"text-align: right;\">0       </td><td style=\"text-align: right;\">0       </td><td style=\"text-align: right;\">0       </td></tr>\n<tr><td style=\"text-align: right;\">01</td><td style=\"text-align: right;\">0       </td><td style=\"text-align: right;\">0.999991</td><td style=\"text-align: right;\">0       </td><td style=\"text-align: right;\">0       </td></tr>\n<tr><td style=\"text-align: right;\">10</td><td style=\"text-align: right;\">0       </td><td style=\"text-align: right;\">0       </td><td style=\"text-align: right;\">0       </td><td style=\"text-align: right;\">0.999991</td></tr>\n<tr><td style=\"text-align: right;\">11</td><td style=\"text-align: right;\">0       </td><td style=\"text-align: right;\">0       </td><td style=\"text-align: right;\">0.999991</td><td style=\"text-align: right;\">0       </td></tr>\n</tbody>\n</table>"
     },
     "metadata": {},
     "output_type": "display_data"
    },
    {
     "name": "stdout",
     "output_type": "stream",
     "text": [
      "performance=1/9, error rate=0.000%\n"
     ]
    }
   ],
   "source": [
    "simulator_backend = pcvl.BackendFactory().get_backend(\"Naive\")\n",
    "s_cnot = simulator_backend(cnot.U)\n",
    "\n",
    "states = {\n",
    "    pcvl.BasicState([0, 1, 0, 1, 0, 0]): \"00\",\n",
    "    pcvl.BasicState([0, 1, 0, 0, 1, 0]): \"01\",\n",
    "    pcvl.BasicState([0, 0, 1, 1, 0, 0]): \"10\",\n",
    "    pcvl.BasicState([0, 0, 1, 0, 1, 0]): \"11\"\n",
    "}\n",
    "\n",
    "ca = pcvl.CircuitAnalyser(s_cnot, states)\n",
    "ca.compute(expected={\"00\": \"00\", \"01\": \"01\", \"10\": \"11\", \"11\": \"10\"})\n",
    "pcvl.pdisplay(ca)\n",
    "print(\"performance=%s, error rate=%.3f%%\" % (pcvl.simple_float(ca.performance)[1], ca.error_rate))"
   ]
  },
  {
   "cell_type": "markdown",
   "id": "0cd5fcf4",
   "metadata": {
    "pycharm": {
     "name": "#%% md\n"
    }
   },
   "source": [
    "Beyond the actual logic function, what is interesting with this gate us that it produces entangled states that we will be trying to check with CHSH experiment when the source is not perfect."
   ]
  },
  {
   "cell_type": "markdown",
   "id": "c0fb4c12",
   "metadata": {
    "pycharm": {
     "name": "#%% md\n"
    }
   },
   "source": [
    "### Checking for entanglement with CHSH experiment\n",
    "![https://en.wikipedia.org/wiki/File:Two_channel_bell_test.svg](https://upload.wikimedia.org/wikipedia/commons/thumb/3/39/Two_channel_bell_test.svg/1340px-Two_channel_bell_test.svg.png)\n",
    "*https://en.wikipedia.org/wiki/File:Two_channel_bell_test.svg*"
   ]
  },
  {
   "cell_type": "markdown",
   "id": "4e523cfc",
   "metadata": {
    "pycharm": {
     "name": "#%% md\n"
    }
   },
   "source": [
    "To reproduce this Bell test protocol, we define a new circuit which uses the $\\mathsf{CNOT}$ gate implemented above as a sub-circuit. The parameters $a$ and $b$ describe the measurement bases used by players $A$ and $B$ in the runs of the Bell-test."
   ]
  },
  {
   "cell_type": "code",
   "execution_count": 6,
   "id": "6b889867",
   "metadata": {
    "pycharm": {
     "name": "#%%\n"
    }
   },
   "outputs": [
    {
     "data": {
      "text/plain": "<IPython.core.display.HTML object>",
      "text/html": "<svg width='362.000000' height='350.000000' viewBox='-6.000000 0.000000 356.000000 350.000000'><path d=\"M 10 25 L 25 25\" fill=\"none\" stroke=\"darkred\" stroke-width=\"3.000000\" stroke-linejoin=\"miter\"/>\n<text x=\"0.000000\" y=\"25.000000\" font-size=\"12.000000\" text-anchor=\"start\">0</text>\n<path d=\"M 10 75 L 25 75\" fill=\"none\" stroke=\"darkred\" stroke-width=\"3.000000\" stroke-linejoin=\"miter\"/>\n<text x=\"0.000000\" y=\"75.000000\" font-size=\"12.000000\" text-anchor=\"start\">1</text>\n<path d=\"M 10 125 L 25 125\" fill=\"none\" stroke=\"darkred\" stroke-width=\"3.000000\" stroke-linejoin=\"miter\"/>\n<text x=\"0.000000\" y=\"125.000000\" font-size=\"12.000000\" text-anchor=\"start\">2</text>\n<path d=\"M 10 175 L 25 175\" fill=\"none\" stroke=\"darkred\" stroke-width=\"3.000000\" stroke-linejoin=\"miter\"/>\n<text x=\"0.000000\" y=\"175.000000\" font-size=\"12.000000\" text-anchor=\"start\">3</text>\n<path d=\"M 10 225 L 25 225\" fill=\"none\" stroke=\"darkred\" stroke-width=\"3.000000\" stroke-linejoin=\"miter\"/>\n<text x=\"0.000000\" y=\"225.000000\" font-size=\"12.000000\" text-anchor=\"start\">4</text>\n<path d=\"M 10 275 L 25 275\" fill=\"none\" stroke=\"darkred\" stroke-width=\"3.000000\" stroke-linejoin=\"miter\"/>\n<text x=\"0.000000\" y=\"275.000000\" font-size=\"12.000000\" text-anchor=\"start\">5</text>\n<polyline points=\"25 75 53 75 72 94\" fill=\"transparent\"stroke=\"darkred\" stroke-width=\"3.000000\" stroke-linejoin=\"round\" />\n<polyline points=\"78 94 97 75 125 75\" fill=\"transparent\"stroke=\"darkred\" stroke-width=\"3.000000\" stroke-linejoin=\"round\" />\n<polyline points=\"25 125 53 125 72 106\" fill=\"transparent\"stroke=\"darkred\" stroke-width=\"3.000000\" stroke-linejoin=\"round\" />\n<polyline points=\"78 106 97 125 125 125\" fill=\"transparent\"stroke=\"darkred\" stroke-width=\"3.000000\" stroke-linejoin=\"round\" />\n<polyline points=\"50 93 100 93 100 107 50 107 50 93\" fill=\"black\" stroke=\"black\" stroke-width=\"1.000000\" stroke_linejoin=\"miter\" />\n<text x=\"75.000000\" y=\"136.000000\" font-size=\"7.000000\" text-anchor=\"middle\"></text>\n<text x=\"75.000000\" y=\"76.000000\" font-size=\"7.000000\" text-anchor=\"middle\"></text>\n<polyline points=\"50 93 100 93 100 97 50 97 50 93\" fill=\"lightgray\" stroke=\"black\" stroke-width=\"1.000000\" stroke_linejoin=\"miter\" />\n<polyline points=\"25 25 125 25\" fill=\"transparent\"stroke=\"darkred\" stroke-width=\"3.000000\" stroke-linejoin=\"miter\" />\n<polyline points=\"25 175 125 175\" fill=\"transparent\"stroke=\"darkred\" stroke-width=\"3.000000\" stroke-linejoin=\"miter\" />\n<polyline points=\"25 225 125 225\" fill=\"transparent\"stroke=\"darkred\" stroke-width=\"3.000000\" stroke-linejoin=\"miter\" />\n<polyline points=\"25 275 125 275\" fill=\"transparent\"stroke=\"darkred\" stroke-width=\"3.000000\" stroke-linejoin=\"miter\" />\n<polyline points=\"125 25 225 25\" fill=\"transparent\"stroke=\"darkred\" stroke-width=\"3.000000\" stroke-linejoin=\"miter\" />\n<polyline points=\"125 75 225 75\" fill=\"transparent\"stroke=\"darkred\" stroke-width=\"3.000000\" stroke-linejoin=\"miter\" />\n<polyline points=\"125 125 225 125\" fill=\"transparent\"stroke=\"darkred\" stroke-width=\"3.000000\" stroke-linejoin=\"miter\" />\n<polyline points=\"125 175 225 175\" fill=\"transparent\"stroke=\"darkred\" stroke-width=\"3.000000\" stroke-linejoin=\"miter\" />\n<polyline points=\"125 225 225 225\" fill=\"transparent\"stroke=\"darkred\" stroke-width=\"3.000000\" stroke-linejoin=\"miter\" />\n<polyline points=\"125 275 225 275\" fill=\"transparent\"stroke=\"darkred\" stroke-width=\"3.000000\" stroke-linejoin=\"miter\" />\n<polyline points=\"127.5 2.5 222.5 2.5 222.5 297.5 127.5 297.5 127.5 2.5\" fill=\"lightpink\" stroke=\"darkred\" stroke-width=\"1.000000\" stroke_linejoin=\"miter\" />\n<text x=\"141.000000\" y=\"16.000000\" font-size=\"8.000000\" text-anchor=\"start\">RALPH CNOT</text>\n<polyline points=\"225 75 253 75 272 94\" fill=\"transparent\"stroke=\"darkred\" stroke-width=\"3.000000\" stroke-linejoin=\"round\" />\n<polyline points=\"278 94 297 75 325 75\" fill=\"transparent\"stroke=\"darkred\" stroke-width=\"3.000000\" stroke-linejoin=\"round\" />\n<polyline points=\"225 125 253 125 272 106\" fill=\"transparent\"stroke=\"darkred\" stroke-width=\"3.000000\" stroke-linejoin=\"round\" />\n<polyline points=\"278 106 297 125 325 125\" fill=\"transparent\"stroke=\"darkred\" stroke-width=\"3.000000\" stroke-linejoin=\"round\" />\n<polyline points=\"250 93 300 93 300 107 250 107 250 93\" fill=\"black\" stroke=\"black\" stroke-width=\"1.000000\" stroke_linejoin=\"miter\" />\n<text x=\"275.000000\" y=\"136.000000\" font-size=\"7.000000\" text-anchor=\"middle\"></text>\n<text x=\"275.000000\" y=\"76.000000\" font-size=\"7.000000\" text-anchor=\"middle\">theta=a</text>\n<polyline points=\"250 93 300 93 300 97 250 97 250 93\" fill=\"lightgray\" stroke=\"black\" stroke-width=\"1.000000\" stroke_linejoin=\"miter\" />\n<polyline points=\"225 175 253 175 272 194\" fill=\"transparent\"stroke=\"darkred\" stroke-width=\"3.000000\" stroke-linejoin=\"round\" />\n<polyline points=\"278 194 297 175 325 175\" fill=\"transparent\"stroke=\"darkred\" stroke-width=\"3.000000\" stroke-linejoin=\"round\" />\n<polyline points=\"225 225 253 225 272 206\" fill=\"transparent\"stroke=\"darkred\" stroke-width=\"3.000000\" stroke-linejoin=\"round\" />\n<polyline points=\"278 206 297 225 325 225\" fill=\"transparent\"stroke=\"darkred\" stroke-width=\"3.000000\" stroke-linejoin=\"round\" />\n<polyline points=\"250 193 300 193 300 207 250 207 250 193\" fill=\"black\" stroke=\"black\" stroke-width=\"1.000000\" stroke_linejoin=\"miter\" />\n<text x=\"275.000000\" y=\"236.000000\" font-size=\"7.000000\" text-anchor=\"middle\"></text>\n<text x=\"275.000000\" y=\"176.000000\" font-size=\"7.000000\" text-anchor=\"middle\">theta=b</text>\n<polyline points=\"250 193 300 193 300 197 250 197 250 193\" fill=\"lightgray\" stroke=\"black\" stroke-width=\"1.000000\" stroke_linejoin=\"miter\" />\n<polyline points=\"225 25 325 25\" fill=\"transparent\"stroke=\"darkred\" stroke-width=\"3.000000\" stroke-linejoin=\"miter\" />\n<polyline points=\"225 275 325 275\" fill=\"transparent\"stroke=\"darkred\" stroke-width=\"3.000000\" stroke-linejoin=\"miter\" />\n<path d=\"M 325 25 L 340 25\" fill=\"none\" stroke=\"darkred\" stroke-width=\"3.000000\" stroke-linejoin=\"miter\"/>\n<text x=\"350.000000\" y=\"25.000000\" font-size=\"12.000000\" text-anchor=\"end\">0</text>\n<path d=\"M 325 75 L 340 75\" fill=\"none\" stroke=\"darkred\" stroke-width=\"3.000000\" stroke-linejoin=\"miter\"/>\n<text x=\"350.000000\" y=\"75.000000\" font-size=\"12.000000\" text-anchor=\"end\">1</text>\n<path d=\"M 325 125 L 340 125\" fill=\"none\" stroke=\"darkred\" stroke-width=\"3.000000\" stroke-linejoin=\"miter\"/>\n<text x=\"350.000000\" y=\"125.000000\" font-size=\"12.000000\" text-anchor=\"end\">2</text>\n<path d=\"M 325 175 L 340 175\" fill=\"none\" stroke=\"darkred\" stroke-width=\"3.000000\" stroke-linejoin=\"miter\"/>\n<text x=\"350.000000\" y=\"175.000000\" font-size=\"12.000000\" text-anchor=\"end\">3</text>\n<path d=\"M 325 225 L 340 225\" fill=\"none\" stroke=\"darkred\" stroke-width=\"3.000000\" stroke-linejoin=\"miter\"/>\n<text x=\"350.000000\" y=\"225.000000\" font-size=\"12.000000\" text-anchor=\"end\">4</text>\n<path d=\"M 325 275 L 340 275\" fill=\"none\" stroke=\"darkred\" stroke-width=\"3.000000\" stroke-linejoin=\"miter\"/>\n<text x=\"350.000000\" y=\"275.000000\" font-size=\"12.000000\" text-anchor=\"end\">5</text></svg>"
     },
     "metadata": {},
     "output_type": "display_data"
    }
   ],
   "source": [
    "test_cnot = phys.Circuit(6)\n",
    "test_cnot.add((1, 2), phys.BS())\n",
    "\n",
    "test_cnot //= cnot\n",
    "\n",
    "a = pcvl.Parameter(\"a\")\n",
    "b = pcvl.Parameter(\"b\")\n",
    "\n",
    "test_cnot.add((1, 2), phys.BS(theta=a))\n",
    "test_cnot.add((3, 4), phys.BS(theta=b))\n",
    "\n",
    "pcvl.pdisplay(test_cnot)"
   ]
  },
  {
   "cell_type": "markdown",
   "id": "1c96eaec",
   "metadata": {
    "pycharm": {
     "name": "#%% md\n"
    }
   },
   "source": [
    "We start by setting the values of the two parameters to 0, meaning that the beam splitters after the $\\mathsf{CNOT}$ effectively act as the identity. "
   ]
  },
  {
   "cell_type": "code",
   "execution_count": 7,
   "id": "1e935739",
   "metadata": {
    "pycharm": {
     "name": "#%%\n"
    }
   },
   "outputs": [],
   "source": [
    "a.set_value(0)\n",
    "b.set_value(0)"
   ]
  },
  {
   "cell_type": "markdown",
   "id": "3451e7d1",
   "metadata": {
    "pycharm": {
     "name": "#%% md\n"
    }
   },
   "source": [
    "We now define a photon source with a brightness of 40% and a purity of 99%. We then define a `Processor` which plugs two such sources to the circuit above, on ports 2 and 3 (using the 0-index convention)."
   ]
  },
  {
   "cell_type": "code",
   "execution_count": 8,
   "id": "1b626655",
   "metadata": {
    "pycharm": {
     "name": "#%%\n"
    }
   },
   "outputs": [],
   "source": [
    "source = pcvl.Source(brightness=0.40, purity=0.99)\n",
    "QPU = pcvl.Processor({2:source, 3:source}, test_cnot)"
   ]
  },
  {
   "cell_type": "markdown",
   "id": "fcdef3f6",
   "metadata": {
    "pycharm": {
     "name": "#%% md\n"
    }
   },
   "source": [
    "We now detail the different state vectors that are the probabilistic inputs to the circuit. The most frequent input is the empty state, followed by two states with only a single photon on either of the input ports, then by the expected nominal input $|0,0,1,1,0,0\\rangle$."
   ]
  },
  {
   "cell_type": "code",
   "execution_count": 9,
   "id": "e8af01a9",
   "metadata": {
    "pycharm": {
     "name": "#%%\n"
    }
   },
   "outputs": [
    {
     "data": {
      "text/plain": "<IPython.core.display.HTML object>",
      "text/html": "<table>\n<thead>\n<tr><th>state        </th><th>probability  </th></tr>\n</thead>\n<tbody>\n<tr><td>|0,0,0,0,0,0&gt;</td><td>9/25         </td></tr>\n<tr><td>|0,0,0,1,0,0&gt;</td><td>0.2376       </td></tr>\n<tr><td>|0,0,1,0,0,0&gt;</td><td>0.2376       </td></tr>\n<tr><td>|0,0,1,1,0,0&gt;</td><td>0.1568       </td></tr>\n<tr><td>|0,0,0,2,0,0&gt;</td><td>0.0024       </td></tr>\n<tr><td>|0,0,2,0,0,0&gt;</td><td>0.0024       </td></tr>\n<tr><td>|0,0,2,1,0,0&gt;</td><td>0.0016       </td></tr>\n<tr><td>|0,0,1,2,0,0&gt;</td><td>0.0016       </td></tr>\n<tr><td>|0,0,2,2,0,0&gt;</td><td>0            </td></tr>\n</tbody>\n</table>"
     },
     "metadata": {},
     "output_type": "display_data"
    }
   ],
   "source": [
    "pcvl.pdisplay(QPU.source_distribution, precision=1e-4)"
   ]
  },
  {
   "cell_type": "markdown",
   "id": "73af9f32",
   "metadata": {
    "pycharm": {
     "name": "#%% md\n"
    }
   },
   "source": [
    "We can then check the output state distribution corresponding to this input distribution."
   ]
  },
  {
   "cell_type": "code",
   "execution_count": 10,
   "id": "cbee9802",
   "metadata": {
    "pycharm": {
     "name": "#%%\n"
    }
   },
   "outputs": [
    {
     "data": {
      "text/plain": "<IPython.core.display.HTML object>",
      "text/html": "<table>\n<thead>\n<tr><th>state        </th><th>probability  </th></tr>\n</thead>\n<tbody>\n<tr><td>|0,0,0,0,0,0&gt;</td><td>9/25         </td></tr>\n<tr><td>|0,0,0,1,0,0&gt;</td><td>0.1188       </td></tr>\n<tr><td>|0,0,1,0,0,0&gt;</td><td>0.1188       </td></tr>\n<tr><td>|0,0,0,0,0,1&gt;</td><td>0.0792       </td></tr>\n<tr><td>|1,0,0,0,0,0&gt;</td><td>0.0792       </td></tr>\n<tr><td>|0,0,0,0,1,0&gt;</td><td>0.0396       </td></tr>\n<tr><td>|0,1,0,0,0,0&gt;</td><td>0.0396       </td></tr>\n<tr><td>|0,0,2,0,0,0&gt;</td><td>0.017757     </td></tr>\n<tr><td>|0,0,0,2,0,0&gt;</td><td>0.017757     </td></tr>\n<tr><td>|1,0,1,0,0,0&gt;</td><td>0.017691     </td></tr>\n</tbody>\n</table>"
     },
     "metadata": {},
     "output_type": "display_data"
    }
   ],
   "source": [
    "_, output_distribution=QPU.run(simulator_backend)\n",
    "pcvl.pdisplay(output_distribution, max_v=10)"
   ]
  },
  {
   "cell_type": "markdown",
   "id": "3cda6b52",
   "metadata": {
    "pycharm": {
     "name": "#%% md\n"
    }
   },
   "source": [
    "Let us run now the experiment with decreasing value of purity in the range $[0.98,1]$ and check the CHSH inequality."
   ]
  },
  {
   "cell_type": "code",
   "execution_count": 11,
   "id": "3f29137a",
   "metadata": {
    "pycharm": {
     "name": "#%%\n"
    }
   },
   "outputs": [
    {
     "data": {
      "text/plain": "  0%|          | 0/40 [00:00<?, ?it/s]",
      "application/vnd.jupyter.widget-view+json": {
       "version_major": 2,
       "version_minor": 0,
       "model_id": "675d6a19fa7443cfa79f13786af18e31"
      }
     },
     "metadata": {},
     "output_type": "display_data"
    },
    {
     "name": "stdout",
     "output_type": "stream",
     "text": [
      "purity= 1.0 S= 2.82842712474619\n",
      "purity= 0.9995 S= 2.7808356540538646\n",
      "purity= 0.999 S= 2.734207894156242\n",
      "purity= 0.9985 S= 2.6885149340967027\n",
      "purity= 0.998 S= 2.643729007886132\n",
      "purity= 0.9975 S= 2.5998234383781567\n",
      "purity= 0.997 S= 2.5567725844135643\n",
      "purity= 0.9965 S= 2.514551791014185\n",
      "purity= 0.996 S= 2.4731373424226386\n",
      "purity= 0.9955 S= 2.43250641780031\n",
      "purity= 0.995 S= 2.39263704940936\n",
      "purity= 0.9945 S= 2.3535080831180633\n",
      "purity= 0.994 S= 2.315099141079988\n",
      "purity= 0.9935 S= 2.2773905864489574\n",
      "purity= 0.993 S= 2.2403634900011484\n",
      "purity= 0.9925 S= 2.2039995985453884\n",
      "purity= 0.992 S= 2.1682813050106344\n",
      "purity= 0.9915 S= 2.133191620107884\n",
      "purity= 0.991 S= 2.0987141454704616\n",
      "purity= 0.9905 S= 2.0648330481836887\n",
      "purity= 0.99 S= 2.0315330366205884\n",
      "purity= 0.9895 S= 1.998799337506385\n",
      "purity= 0.989 S= 1.966617674139276\n",
      "purity= 0.9885 S= 1.9349742457002677\n",
      "purity= 0.988 S= 1.9038557075888378\n",
      "purity= 0.9875 S= 1.8732491527257935\n",
      "purity= 0.987 S= 1.8431420937680647\n",
      "purity= 0.9865 S= 1.813522446184165\n",
      "purity= 0.986 S= 1.7843785121419113\n",
      "purity= 0.9855 S= 1.7556989651634896\n",
      "purity= 0.985 S= 1.7274728355053663\n",
      "purity= 0.9845 S= 1.6996894962236047\n",
      "purity= 0.984 S= 1.6723386498871988\n",
      "purity= 0.9835 S= 1.6454103159047264\n",
      "purity= 0.983 S= 1.6188948184313596\n",
      "purity= 0.9825 S= 1.592782774825639\n",
      "purity= 0.982 S= 1.5670650846268965\n",
      "purity= 0.9815 S= 1.5417329190263132\n",
      "purity= 0.981 S= 1.516777710805831\n",
      "purity= 0.9805 S= 1.4921911447210179\n"
     ]
    }
   ],
   "source": [
    "from tqdm.auto import tqdm\n",
    "x = np.arange(0, 2, 0.05)\n",
    "y = []\n",
    "\n",
    "for imp in tqdm(x):\n",
    "    Es = []\n",
    "    for va in [0, sp.pi/4]:\n",
    "        a.set_value(va)\n",
    "        for vb in [sp.pi/8, 3*sp.pi/8]:\n",
    "            b.set_value(vb)\n",
    "            Npp, Npm, Nmp, Nmm = 0, 0, 0, 0\n",
    "            source = pcvl.Source(brightness=0.15, purity=1-imp/100)\n",
    "            # we add a post-selection on the processor, there needs to be zero photon in the ancilla modes 1,6\n",
    "            # and exactly one in mode 2,3 and one in mode 3,4\n",
    "            QPU = pcvl.Processor({2:source, 3:source},\n",
    "                                 test_cnot, lambda o: o[0]==0 and (o[1]+o[2]==1) and (o[3]+o[4]==1) and o[5]==0)\n",
    "            _, output_distribution=QPU.run(simulator_backend)\n",
    "            for output_sv, prob in output_distribution.items():\n",
    "                output_state = output_sv[0]\n",
    "                if (output_state[1] == 1 and output_state[3] == 1):\n",
    "                    Npp = prob\n",
    "                if (output_state[1] == 1 and output_state[4] == 1):\n",
    "                    Npm = prob\n",
    "                if (output_state[2] == 1 and output_state[3] == 1):\n",
    "                    Nmp = prob\n",
    "                if (output_state[2] == 1 and output_state[4] == 1):\n",
    "                    Nmm = prob\n",
    "            E = (Npp-Npm-Nmp+Nmm)/(Npp+Npm+Nmp+Nmm)\n",
    "            Es.append(E)\n",
    "\n",
    "    S = Es[0]-Es[1]+Es[2]+Es[3]\n",
    "    print(\"purity=\",1-imp/100, \"S=\", S)\n",
    "    y.append(S)"
   ]
  },
  {
   "cell_type": "code",
   "execution_count": 12,
   "id": "0142ce0d",
   "metadata": {
    "pycharm": {
     "name": "#%%\n"
    }
   },
   "outputs": [
    {
     "data": {
      "text/plain": "<Figure size 432x288 with 1 Axes>",
      "image/png": "[encoded data removed]"
     },
     "metadata": {
      "needs_background": "light"
     },
     "output_type": "display_data"
    }
   ],
   "source": [
    "import matplotlib.pyplot as plt\n",
    "plt.title(\"CHSH value with purity\")\n",
    "plt.xlabel(\"impurity (%)\")\n",
    "plt.ylabel(\"bell inegality\")\n",
    "plt.axhline(y=2, linewidth=2, color=\"red\", label= 'horizontal-line')\n",
    "plt.plot(x, y, color =\"green\")\n",
    "plt.grid(color='b', dashes=(3, 2, 1, 2))\n",
    "plt.show()"
   ]
  },
  {
   "cell_type": "markdown",
   "id": "1329a625",
   "metadata": {
    "pycharm": {
     "name": "#%% md\n"
    }
   },
   "source": [
    "Beyond only 1% of impurity, we are crossing the value $2$, ie not violating anymore the $|CHSH|\\le 2$ inegality!"
   ]
  },
  {
   "cell_type": "markdown",
   "id": "e4836ead",
   "metadata": {
    "pycharm": {
     "name": "#%% md\n"
    }
   },
   "source": [
    "[1] T. C. Ralph, N. K. Langford, T. B. Bell, and A. G. White. Linear optical controlled-NOT gate in the coincidence basis. Physical Review A, 65(6):062324, June 2002. Publisher: American Physical Society. URL: https://link.aps.org/doi/10.1103/PhysRevA.65.062324"
   ]
  }
 ],
 "metadata": {
  "kernelspec": {
   "display_name": "Python 3 (ipykernel)",
   "language": "python",
   "name": "python3"
  },
  "language_info": {
   "codemirror_mode": {
    "name": "ipython",
    "version": 3
   },
   "file_extension": ".py",
   "mimetype": "text/x-python",
   "name": "python",
   "nbconvert_exporter": "python",
   "pygments_lexer": "ipython3",
   "version": "3.10.4"
  }
 },
 "nbformat": 4,
 "nbformat_minor": 5
}