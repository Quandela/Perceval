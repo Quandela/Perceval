{
 "cells": [
  {
   "cell_type": "markdown",
   "id": "29990c15",
   "metadata": {
    "pycharm": {
     "name": "#%% md\n"
    }
   },
   "source": [
    "# Getting started with Perceval"
   ]
  },
  {
   "cell_type": "markdown",
   "id": "c1e5e2ac",
   "metadata": {
    "pycharm": {
     "name": "#%% md\n"
    }
   },
   "source": [
    "In this notebook, we aim to reproduce the $\\mathsf{CNOT}$ Gate to \n",
    "evaluate its performance while demonstrating key features of Perceval. We use as basis the implementation from [1]."
   ]
  },
  {
   "cell_type": "code",
   "execution_count": 5,
   "id": "bb751c13",
   "metadata": {
    "pycharm": {
     "name": "#%%\n"
    },
    "scrolled": true
   },
   "outputs": [],
   "source": [
    "import perceval as pcvl\n",
    "import sympy as sp\n",
    "import numpy as np"
   ]
  },
  {
   "cell_type": "markdown",
   "id": "cb91de5c",
   "metadata": {
    "pycharm": {
     "name": "#%% md\n"
    }
   },
   "source": [
    "### Ralph CNOT Gate"
   ]
  },
  {
   "cell_type": "markdown",
   "id": "d1d6cd32",
   "metadata": {
    "pycharm": {
     "name": "#%% md\n"
    }
   },
   "source": [
    "We start by describing the circuit as defined by the paper above- it is a circuit on six modes (labelled from 0 to 5 from top to bottom) consisting of five beam splitters. Modes 1 and 2 contain the control system while modes 3 and 4 encode the target system. Modes 0 and 5 are unoccupied ancillary modes."
   ]
  },
  {
   "cell_type": "code",
   "execution_count": 6,
   "id": "83ff4732",
   "metadata": {
    "pycharm": {
     "name": "#%%\n"
    }
   },
   "outputs": [
    {
     "data": {
      "text/plain": "<drawSvg.drawing.Drawing at 0x16f57876a10>",
      "image/svg+xml": "<?xml version=\"1.0\" encoding=\"UTF-8\"?>\n<svg xmlns=\"http://www.w3.org/2000/svg\" xmlns:xlink=\"http://www.w3.org/1999/xlink\"\n     width=\"562.5\" height=\"437.5\" viewBox=\"-37.0 0 450 350\">\n<defs>\n</defs>\n<path d=\"M10,25 L25,25\" stroke-width=\"3\" stroke=\"darkred\" stroke-linejoin=\"miter\" fill=\"none\" />\n<path d=\"M10,75 L25,75\" stroke-width=\"3\" stroke=\"darkred\" stroke-linejoin=\"miter\" fill=\"none\" />\n<path d=\"M10,125 L25,125\" stroke-width=\"3\" stroke=\"darkred\" stroke-linejoin=\"miter\" fill=\"none\" />\n<path d=\"M10,175 L25,175\" stroke-width=\"3\" stroke=\"darkred\" stroke-linejoin=\"miter\" fill=\"none\" />\n<path d=\"M10,225 L25,225\" stroke-width=\"3\" stroke=\"darkred\" stroke-linejoin=\"miter\" fill=\"none\" />\n<path d=\"M10,275 L25,275\" stroke-width=\"3\" stroke=\"darkred\" stroke-linejoin=\"miter\" fill=\"none\" />\n<path d=\"M25,25 L53,25 L72,44\" stroke=\"darkred\" stroke-width=\"3\" fill=\"none\" />\n<path d=\"M78,44 L97,25 L125,25\" stroke=\"darkred\" stroke-width=\"3\" fill=\"none\" />\n<path d=\"M25,75 L53,75 L72,56\" stroke=\"darkred\" stroke-width=\"3\" fill=\"none\" />\n<path d=\"M78,56 L97,75 L125,75\" stroke=\"darkred\" stroke-width=\"3\" fill=\"none\" />\n<path d=\"M50,43 L100,43 L100,57 L50,57 Z\" stroke=\"black\" fill=\"black\" stroke-linejoin=\"miter\" />\n<text x=\"75\" y=\"95\" font-size=\"6\" text-anchor=\"middle\"><tspan x=\"75\" dy=\"0em\">Φ_tl=3*pi/2</tspan><tspan x=\"75\" dy=\"1em\">Φ_bl=pi</tspan><tspan x=\"75\" dy=\"1em\">Φ_tr=pi/2</tspan></text>\n<text x=\"75\" y=\"26\" font-size=\"7\" text-anchor=\"middle\" dy=\"0em\">Θ=1.910633</text>\n<path d=\"M50,43 L100,43 L100,47 L50,47 Z\" stroke=\"black\" fill=\"lightgray\" stroke-linejoin=\"miter\" />\n<path d=\"M93,50 L103,50 L103,60 L93,60 Z\" stroke=\"black\" fill=\"aquamarine\" stroke-linejoin=\"miter\" />\n<text x=\"98\" y=\"57\" font-size=\"6\" text-anchor=\"middle\" dy=\"0em\">H</text>\n<path d=\"M25,175 L53,175 L72,194\" stroke=\"darkred\" stroke-width=\"3\" fill=\"none\" />\n<path d=\"M78,194 L97,175 L125,175\" stroke=\"darkred\" stroke-width=\"3\" fill=\"none\" />\n<path d=\"M25,225 L53,225 L72,206\" stroke=\"darkred\" stroke-width=\"3\" fill=\"none\" />\n<path d=\"M78,206 L97,225 L125,225\" stroke=\"darkred\" stroke-width=\"3\" fill=\"none\" />\n<path d=\"M50,193 L100,193 L100,207 L50,207 Z\" stroke=\"black\" fill=\"black\" stroke-linejoin=\"miter\" />\n<text x=\"75\" y=\"235\" font-size=\"7\" text-anchor=\"middle\" dy=\"0em\"></text>\n<text x=\"75\" y=\"176\" font-size=\"7\" text-anchor=\"middle\" dy=\"0em\"></text>\n<path d=\"M50,193 L100,193 L100,197 L50,197 Z\" stroke=\"black\" fill=\"lightgray\" stroke-linejoin=\"miter\" />\n<path d=\"M93,200 L103,200 L103,210 L93,210 Z\" stroke=\"black\" fill=\"aquamarine\" stroke-linejoin=\"miter\" />\n<text x=\"98\" y=\"207\" font-size=\"6\" text-anchor=\"middle\" dy=\"0em\">H</text>\n<path d=\"M25,125 L125,125\" stroke=\"darkred\" stroke-width=\"3\" fill=\"none\" />\n<path d=\"M125,125 L153,125 L172,144\" stroke=\"darkred\" stroke-width=\"3\" fill=\"none\" />\n<path d=\"M178,144 L197,125 L225,125\" stroke=\"darkred\" stroke-width=\"3\" fill=\"none\" />\n<path d=\"M125,175 L153,175 L172,156\" stroke=\"darkred\" stroke-width=\"3\" fill=\"none\" />\n<path d=\"M178,156 L197,175 L225,175\" stroke=\"darkred\" stroke-width=\"3\" fill=\"none\" />\n<path d=\"M150,143 L200,143 L200,157 L150,157 Z\" stroke=\"black\" fill=\"black\" stroke-linejoin=\"miter\" />\n<text x=\"175\" y=\"195\" font-size=\"6\" text-anchor=\"middle\"><tspan x=\"175\" dy=\"0em\">Φ_tl=3*pi/2</tspan><tspan x=\"175\" dy=\"1em\">Φ_bl=pi</tspan><tspan x=\"175\" dy=\"1em\">Φ_tr=pi/2</tspan></text>\n<text x=\"175\" y=\"126\" font-size=\"7\" text-anchor=\"middle\" dy=\"0em\">Θ=1.910633</text>\n<path d=\"M150,143 L200,143 L200,147 L150,147 Z\" stroke=\"black\" fill=\"lightgray\" stroke-linejoin=\"miter\" />\n<path d=\"M193,150 L203,150 L203,160 L193,160 Z\" stroke=\"black\" fill=\"aquamarine\" stroke-linejoin=\"miter\" />\n<text x=\"198\" y=\"157\" font-size=\"6\" text-anchor=\"middle\" dy=\"0em\">H</text>\n<path d=\"M25,275 L125,275\" stroke=\"darkred\" stroke-width=\"3\" fill=\"none\" />\n<path d=\"M125,225 L153,225 L172,244\" stroke=\"darkred\" stroke-width=\"3\" fill=\"none\" />\n<path d=\"M178,244 L197,225 L225,225\" stroke=\"darkred\" stroke-width=\"3\" fill=\"none\" />\n<path d=\"M125,275 L153,275 L172,256\" stroke=\"darkred\" stroke-width=\"3\" fill=\"none\" />\n<path d=\"M178,256 L197,275 L225,275\" stroke=\"darkred\" stroke-width=\"3\" fill=\"none\" />\n<path d=\"M150,243 L200,243 L200,257 L150,257 Z\" stroke=\"black\" fill=\"black\" stroke-linejoin=\"miter\" />\n<text x=\"175\" y=\"280\" font-size=\"7\" text-anchor=\"middle\" dy=\"0em\"></text>\n<text x=\"175\" y=\"226\" font-size=\"7\" text-anchor=\"middle\" dy=\"0em\">Θ=1.910633</text>\n<path d=\"M150,243 L200,243 L200,247 L150,247 Z\" stroke=\"black\" fill=\"lightgray\" stroke-linejoin=\"miter\" />\n<path d=\"M193,250 L203,250 L203,260 L193,260 Z\" stroke=\"black\" fill=\"aquamarine\" stroke-linejoin=\"miter\" />\n<text x=\"198\" y=\"257\" font-size=\"6\" text-anchor=\"middle\" dy=\"0em\">H</text>\n<path d=\"M225,175 L253,175 L272,194\" stroke=\"darkred\" stroke-width=\"3\" fill=\"none\" />\n<path d=\"M278,194 L297,175 L325,175\" stroke=\"darkred\" stroke-width=\"3\" fill=\"none\" />\n<path d=\"M225,225 L253,225 L272,206\" stroke=\"darkred\" stroke-width=\"3\" fill=\"none\" />\n<path d=\"M278,206 L297,225 L325,225\" stroke=\"darkred\" stroke-width=\"3\" fill=\"none\" />\n<path d=\"M250,193 L300,193 L300,207 L250,207 Z\" stroke=\"black\" fill=\"black\" stroke-linejoin=\"miter\" />\n<text x=\"275\" y=\"235\" font-size=\"7\" text-anchor=\"middle\" dy=\"0em\"></text>\n<text x=\"275\" y=\"176\" font-size=\"7\" text-anchor=\"middle\" dy=\"0em\"></text>\n<path d=\"M250,193 L300,193 L300,197 L250,197 Z\" stroke=\"black\" fill=\"lightgray\" stroke-linejoin=\"miter\" />\n<path d=\"M293,200 L303,200 L303,210 L293,210 Z\" stroke=\"black\" fill=\"aquamarine\" stroke-linejoin=\"miter\" />\n<text x=\"298\" y=\"207\" font-size=\"6\" text-anchor=\"middle\" dy=\"0em\">H</text>\n<path d=\"M125,25 L325,25\" stroke=\"darkred\" stroke-width=\"3\" fill=\"none\" />\n<path d=\"M125,75 L325,75\" stroke=\"darkred\" stroke-width=\"3\" fill=\"none\" />\n<path d=\"M225,125 L325,125\" stroke=\"darkred\" stroke-width=\"3\" fill=\"none\" />\n<path d=\"M225,275 L325,275\" stroke=\"darkred\" stroke-width=\"3\" fill=\"none\" />\n<path d=\"M325,25 L340,25\" stroke-width=\"3\" stroke=\"darkred\" stroke-linejoin=\"miter\" fill=\"none\" />\n<path d=\"M325,75 L340,75\" stroke-width=\"3\" stroke=\"darkred\" stroke-linejoin=\"miter\" fill=\"none\" />\n<path d=\"M325,125 L340,125\" stroke-width=\"3\" stroke=\"darkred\" stroke-linejoin=\"miter\" fill=\"none\" />\n<path d=\"M325,175 L340,175\" stroke-width=\"3\" stroke=\"darkred\" stroke-linejoin=\"miter\" fill=\"none\" />\n<path d=\"M325,225 L340,225\" stroke-width=\"3\" stroke=\"darkred\" stroke-linejoin=\"miter\" fill=\"none\" />\n<path d=\"M325,275 L340,275\" stroke-width=\"3\" stroke=\"darkred\" stroke-linejoin=\"miter\" fill=\"none\" />\n<text x=\"350\" y=\"28\" font-size=\"7\" text-anchor=\"end\" dy=\"0em\">0</text>\n<text x=\"350\" y=\"78\" font-size=\"7\" text-anchor=\"end\" dy=\"0em\">1</text>\n<text x=\"350\" y=\"128\" font-size=\"7\" text-anchor=\"end\" dy=\"0em\">2</text>\n<text x=\"350\" y=\"178\" font-size=\"7\" text-anchor=\"end\" dy=\"0em\">3</text>\n<text x=\"350\" y=\"228\" font-size=\"7\" text-anchor=\"end\" dy=\"0em\">4</text>\n<text x=\"350\" y=\"278\" font-size=\"7\" text-anchor=\"end\" dy=\"0em\">5</text>\n<text x=\"0\" y=\"28\" font-size=\"7\" text-anchor=\"start\" dy=\"0em\">0</text>\n<text x=\"0\" y=\"78\" font-size=\"7\" text-anchor=\"start\" dy=\"0em\">1</text>\n<text x=\"0\" y=\"128\" font-size=\"7\" text-anchor=\"start\" dy=\"0em\">2</text>\n<text x=\"0\" y=\"178\" font-size=\"7\" text-anchor=\"start\" dy=\"0em\">3</text>\n<text x=\"0\" y=\"228\" font-size=\"7\" text-anchor=\"start\" dy=\"0em\">4</text>\n<text x=\"0\" y=\"278\" font-size=\"7\" text-anchor=\"start\" dy=\"0em\">5</text>\n</svg>"
     },
     "execution_count": 6,
     "metadata": {},
     "output_type": "execute_result"
    }
   ],
   "source": [
    "cnot = pcvl.Circuit(6, name=\"Ralph CNOT\")\n",
    "cnot.add((0, 1), pcvl.BS.H(pcvl.BS.r_to_theta(1/3), phi_tl = -np.pi/2, phi_bl = np.pi, phi_tr = np.pi / 2))\n",
    "cnot.add((3, 4), pcvl.BS.H())\n",
    "cnot.add((2, 3), pcvl.BS.H(pcvl.BS.r_to_theta(1/3), phi_tl = -np.pi/2, phi_bl = np.pi, phi_tr = np.pi / 2))\n",
    "cnot.add((4, 5), pcvl.BS.H(pcvl.BS.r_to_theta(1/3)))\n",
    "cnot.add((3, 4), pcvl.BS.H())\n",
    "pcvl.pdisplay(cnot)"
   ]
  },
  {
   "cell_type": "markdown",
   "id": "ed7b0498",
   "metadata": {
    "pycharm": {
     "name": "#%% md\n"
    }
   },
   "source": [
    "We can then simulate this circuit using the `Naive` backend on four different input states corresponding to the two-qubit computational basis states. We use `Analyzer` to analyse the performance of the gate. Using heralds, we can get a better visualisation of what the circuit actually does."
   ]
  },
  {
   "cell_type": "code",
   "execution_count": 7,
   "id": "edafa605",
   "metadata": {
    "pycharm": {
     "name": "#%%\n"
    }
   },
   "outputs": [
    {
     "data": {
      "text/plain": "<drawSvg.drawing.Drawing at 0x16f57846050>",
      "image/svg+xml": "<?xml version=\"1.0\" encoding=\"UTF-8\"?>\n<svg xmlns=\"http://www.w3.org/2000/svg\" xmlns:xlink=\"http://www.w3.org/1999/xlink\"\n     width=\"562.5\" height=\"437.5\" viewBox=\"-39.0 0 450 350\">\n<defs>\n</defs>\n<path d=\"M10,75 L25,75\" stroke-width=\"3\" stroke=\"darkred\" stroke-linejoin=\"miter\" fill=\"none\" />\n<path d=\"M10,125 L25,125\" stroke-width=\"3\" stroke=\"darkred\" stroke-linejoin=\"miter\" fill=\"none\" />\n<path d=\"M10,175 L25,175\" stroke-width=\"3\" stroke=\"darkred\" stroke-linejoin=\"miter\" fill=\"none\" />\n<path d=\"M10,225 L25,225\" stroke-width=\"3\" stroke=\"darkred\" stroke-linejoin=\"miter\" fill=\"none\" />\n<path d=\"M27,2 L323,2 L323,298 L27,298 Z\" stroke=\"black\" fill=\"lightblue\" stroke-dasharray=\"1,2\" stroke-linejoin=\"miter\" />\n<text x=\"29\" y=\"305\" font-size=\"8\" text-anchor=\"start\" dy=\"0em\">RALPH CNOT</text>\n<path d=\"M25,25 L53,25 L72,44\" stroke=\"darkred\" stroke-width=\"3\" fill=\"none\" />\n<path d=\"M78,44 L97,25 L125,25\" stroke=\"darkred\" stroke-width=\"3\" fill=\"none\" />\n<path d=\"M25,75 L53,75 L72,56\" stroke=\"darkred\" stroke-width=\"3\" fill=\"none\" />\n<path d=\"M78,56 L97,75 L125,75\" stroke=\"darkred\" stroke-width=\"3\" fill=\"none\" />\n<path d=\"M50,43 L100,43 L100,57 L50,57 Z\" stroke=\"black\" fill=\"black\" stroke-linejoin=\"miter\" />\n<text x=\"75\" y=\"95\" font-size=\"6\" text-anchor=\"middle\"><tspan x=\"75\" dy=\"0em\">Φ_tl=3*pi/2</tspan><tspan x=\"75\" dy=\"1em\">Φ_bl=pi</tspan><tspan x=\"75\" dy=\"1em\">Φ_tr=pi/2</tspan></text>\n<text x=\"75\" y=\"26\" font-size=\"7\" text-anchor=\"middle\" dy=\"0em\">Θ=1.910633</text>\n<path d=\"M50,43 L100,43 L100,47 L50,47 Z\" stroke=\"black\" fill=\"lightgray\" stroke-linejoin=\"miter\" />\n<path d=\"M93,50 L103,50 L103,60 L93,60 Z\" stroke=\"black\" fill=\"aquamarine\" stroke-linejoin=\"miter\" />\n<text x=\"98\" y=\"57\" font-size=\"6\" text-anchor=\"middle\" dy=\"0em\">H</text>\n<path d=\"M25,175 L53,175 L72,194\" stroke=\"darkred\" stroke-width=\"3\" fill=\"none\" />\n<path d=\"M78,194 L97,175 L125,175\" stroke=\"darkred\" stroke-width=\"3\" fill=\"none\" />\n<path d=\"M25,225 L53,225 L72,206\" stroke=\"darkred\" stroke-width=\"3\" fill=\"none\" />\n<path d=\"M78,206 L97,225 L125,225\" stroke=\"darkred\" stroke-width=\"3\" fill=\"none\" />\n<path d=\"M50,193 L100,193 L100,207 L50,207 Z\" stroke=\"black\" fill=\"black\" stroke-linejoin=\"miter\" />\n<text x=\"75\" y=\"235\" font-size=\"7\" text-anchor=\"middle\" dy=\"0em\"></text>\n<text x=\"75\" y=\"176\" font-size=\"7\" text-anchor=\"middle\" dy=\"0em\"></text>\n<path d=\"M50,193 L100,193 L100,197 L50,197 Z\" stroke=\"black\" fill=\"lightgray\" stroke-linejoin=\"miter\" />\n<path d=\"M93,200 L103,200 L103,210 L93,210 Z\" stroke=\"black\" fill=\"aquamarine\" stroke-linejoin=\"miter\" />\n<text x=\"98\" y=\"207\" font-size=\"6\" text-anchor=\"middle\" dy=\"0em\">H</text>\n<path d=\"M25,125 L125,125\" stroke=\"darkred\" stroke-width=\"3\" fill=\"none\" />\n<path d=\"M125,125 L153,125 L172,144\" stroke=\"darkred\" stroke-width=\"3\" fill=\"none\" />\n<path d=\"M178,144 L197,125 L225,125\" stroke=\"darkred\" stroke-width=\"3\" fill=\"none\" />\n<path d=\"M125,175 L153,175 L172,156\" stroke=\"darkred\" stroke-width=\"3\" fill=\"none\" />\n<path d=\"M178,156 L197,175 L225,175\" stroke=\"darkred\" stroke-width=\"3\" fill=\"none\" />\n<path d=\"M150,143 L200,143 L200,157 L150,157 Z\" stroke=\"black\" fill=\"black\" stroke-linejoin=\"miter\" />\n<text x=\"175\" y=\"195\" font-size=\"6\" text-anchor=\"middle\"><tspan x=\"175\" dy=\"0em\">Φ_tl=3*pi/2</tspan><tspan x=\"175\" dy=\"1em\">Φ_bl=pi</tspan><tspan x=\"175\" dy=\"1em\">Φ_tr=pi/2</tspan></text>\n<text x=\"175\" y=\"126\" font-size=\"7\" text-anchor=\"middle\" dy=\"0em\">Θ=1.910633</text>\n<path d=\"M150,143 L200,143 L200,147 L150,147 Z\" stroke=\"black\" fill=\"lightgray\" stroke-linejoin=\"miter\" />\n<path d=\"M193,150 L203,150 L203,160 L193,160 Z\" stroke=\"black\" fill=\"aquamarine\" stroke-linejoin=\"miter\" />\n<text x=\"198\" y=\"157\" font-size=\"6\" text-anchor=\"middle\" dy=\"0em\">H</text>\n<path d=\"M125,225 L153,225 L172,244\" stroke=\"darkred\" stroke-width=\"3\" fill=\"none\" />\n<path d=\"M178,244 L197,225 L225,225\" stroke=\"darkred\" stroke-width=\"3\" fill=\"none\" />\n<path d=\"M125,275 L153,275 L172,256\" stroke=\"darkred\" stroke-width=\"3\" fill=\"none\" />\n<path d=\"M178,256 L197,275 L225,275\" stroke=\"darkred\" stroke-width=\"3\" fill=\"none\" />\n<path d=\"M150,243 L200,243 L200,257 L150,257 Z\" stroke=\"black\" fill=\"black\" stroke-linejoin=\"miter\" />\n<text x=\"175\" y=\"280\" font-size=\"7\" text-anchor=\"middle\" dy=\"0em\"></text>\n<text x=\"175\" y=\"226\" font-size=\"7\" text-anchor=\"middle\" dy=\"0em\">Θ=1.910633</text>\n<path d=\"M150,243 L200,243 L200,247 L150,247 Z\" stroke=\"black\" fill=\"lightgray\" stroke-linejoin=\"miter\" />\n<path d=\"M193,250 L203,250 L203,260 L193,260 Z\" stroke=\"black\" fill=\"aquamarine\" stroke-linejoin=\"miter\" />\n<text x=\"198\" y=\"257\" font-size=\"6\" text-anchor=\"middle\" dy=\"0em\">H</text>\n<path d=\"M225,175 L253,175 L272,194\" stroke=\"darkred\" stroke-width=\"3\" fill=\"none\" />\n<path d=\"M278,194 L297,175 L325,175\" stroke=\"darkred\" stroke-width=\"3\" fill=\"none\" />\n<path d=\"M225,225 L253,225 L272,206\" stroke=\"darkred\" stroke-width=\"3\" fill=\"none\" />\n<path d=\"M278,206 L297,225 L325,225\" stroke=\"darkred\" stroke-width=\"3\" fill=\"none\" />\n<path d=\"M250,193 L300,193 L300,207 L250,207 Z\" stroke=\"black\" fill=\"black\" stroke-linejoin=\"miter\" />\n<text x=\"275\" y=\"235\" font-size=\"7\" text-anchor=\"middle\" dy=\"0em\"></text>\n<text x=\"275\" y=\"176\" font-size=\"7\" text-anchor=\"middle\" dy=\"0em\"></text>\n<path d=\"M250,193 L300,193 L300,197 L250,197 Z\" stroke=\"black\" fill=\"lightgray\" stroke-linejoin=\"miter\" />\n<path d=\"M293,200 L303,200 L303,210 L293,210 Z\" stroke=\"black\" fill=\"aquamarine\" stroke-linejoin=\"miter\" />\n<text x=\"298\" y=\"207\" font-size=\"6\" text-anchor=\"middle\" dy=\"0em\">H</text>\n<path d=\"M125,75 L325,75\" stroke=\"darkred\" stroke-width=\"3\" fill=\"none\" />\n<path d=\"M225,125 L325,125\" stroke=\"darkred\" stroke-width=\"3\" fill=\"none\" />\n<path d=\"M325,75 L340,75\" stroke-width=\"3\" stroke=\"darkred\" stroke-linejoin=\"miter\" fill=\"none\" />\n<path d=\"M325,125 L340,125\" stroke-width=\"3\" stroke=\"darkred\" stroke-linejoin=\"miter\" fill=\"none\" />\n<path d=\"M325,175 L340,175\" stroke-width=\"3\" stroke=\"darkred\" stroke-linejoin=\"miter\" fill=\"none\" />\n<path d=\"M325,225 L340,225\" stroke-width=\"3\" stroke=\"darkred\" stroke-linejoin=\"miter\" fill=\"none\" />\n<path d=\"M7,25 C7,25,7,15,17,15 L25,15 L25,35 L17,35 C7,35,7,25,7,25 L7,25\" stroke-width=\"1\" stroke=\"black\" stroke-linejoin=\"miter\" fill=\"white\" />\n<text x=\"13\" y=\"41\" font-size=\"6\" text-anchor=\"middle\" font-style=\"italic\" dy=\"0em\">[herald0]</text>\n<text x=\"17\" y=\"28\" font-size=\"7\" text-anchor=\"middle\" dy=\"0em\">0</text>\n<path d=\"M107,275 C107,275,107,265,117,265 L125,265 L125,285 L117,285 C107,285,107,275,107,275 L107,275\" stroke-width=\"1\" stroke=\"black\" stroke-linejoin=\"miter\" fill=\"white\" />\n<text x=\"113\" y=\"291\" font-size=\"6\" text-anchor=\"middle\" font-style=\"italic\" dy=\"0em\">[herald1]</text>\n<text x=\"117\" y=\"278\" font-size=\"7\" text-anchor=\"middle\" dy=\"0em\">0</text>\n<path d=\"M133,35 L125,35 L125,15 L133,15 C133,15,143,15,143,25 C143,35,133,35,133,35 L133,35\" stroke-width=\"1\" stroke=\"black\" stroke-linejoin=\"miter\" fill=\"white\" />\n<text x=\"138\" y=\"41\" font-size=\"6\" text-anchor=\"middle\" font-style=\"italic\" dy=\"0em\">[herald0]</text>\n<text x=\"133\" y=\"28\" font-size=\"7\" text-anchor=\"middle\" dy=\"0em\">0</text>\n<path d=\"M233,285 L225,285 L225,265 L233,265 C233,265,243,265,243,275 C243,285,233,285,233,285 L233,285\" stroke-width=\"1\" stroke=\"black\" stroke-linejoin=\"miter\" fill=\"white\" />\n<text x=\"238\" y=\"291\" font-size=\"6\" text-anchor=\"middle\" font-style=\"italic\" dy=\"0em\">[herald1]</text>\n<text x=\"233\" y=\"278\" font-size=\"7\" text-anchor=\"middle\" dy=\"0em\">0</text>\n</svg>"
     },
     "execution_count": 7,
     "metadata": {},
     "output_type": "execute_result"
    }
   ],
   "source": [
    "p = pcvl.Processor(\"Naive\", cnot)\n",
    "p.set_postprocess(lambda s: (s[1] or s[2]) and (s[3] or s[4]))\n",
    "p.add_herald(0, 0)\n",
    "p.add_herald(5, 0)\n",
    "\n",
    "pcvl.pdisplay(p, recursive = True)"
   ]
  },
  {
   "cell_type": "code",
   "execution_count": 8,
   "id": "87a00b53",
   "metadata": {
    "pycharm": {
     "name": "#%%\n"
    }
   },
   "outputs": [
    {
     "data": {
      "text/plain": "<IPython.core.display.HTML object>",
      "text/html": "<table>\n<thead>\n<tr><th style=\"text-align: right;\">  </th><th style=\"text-align: right;\">  00</th><th style=\"text-align: right;\">  01</th><th style=\"text-align: right;\">  10</th><th style=\"text-align: right;\">  11</th></tr>\n</thead>\n<tbody>\n<tr><td style=\"text-align: right;\">00</td><td style=\"text-align: right;\">   1</td><td style=\"text-align: right;\">   0</td><td style=\"text-align: right;\">   0</td><td style=\"text-align: right;\">   0</td></tr>\n<tr><td style=\"text-align: right;\">01</td><td style=\"text-align: right;\">   0</td><td style=\"text-align: right;\">   1</td><td style=\"text-align: right;\">   0</td><td style=\"text-align: right;\">   0</td></tr>\n<tr><td style=\"text-align: right;\">10</td><td style=\"text-align: right;\">   0</td><td style=\"text-align: right;\">   0</td><td style=\"text-align: right;\">   0</td><td style=\"text-align: right;\">   1</td></tr>\n<tr><td style=\"text-align: right;\">11</td><td style=\"text-align: right;\">   0</td><td style=\"text-align: right;\">   0</td><td style=\"text-align: right;\">   1</td><td style=\"text-align: right;\">   0</td></tr>\n</tbody>\n</table>"
     },
     "metadata": {},
     "output_type": "display_data"
    },
    {
     "name": "stdout",
     "output_type": "stream",
     "text": [
      "performance=1/9, fidelity=100.000%\n"
     ]
    }
   ],
   "source": [
    "states = {\n",
    "    pcvl.BasicState([1, 0, 1, 0]): \"00\",\n",
    "    pcvl.BasicState([1, 0, 0, 1]): \"01\",\n",
    "    pcvl.BasicState([0, 1, 1, 0]): \"10\",\n",
    "    pcvl.BasicState([0, 1, 0, 1]): \"11\"\n",
    "}\n",
    "\n",
    "ca = pcvl.algorithm.Analyzer(p, states)\n",
    "ca.compute(expected={\"00\": \"00\", \"01\": \"01\", \"10\": \"11\", \"11\": \"10\"})\n",
    "pcvl.pdisplay(ca)\n",
    "print(\"performance=%s, fidelity=%.3f%%\" % (pcvl.simple_float(ca.performance)[1], ca.fidelity * 100))"
   ]
  },
  {
   "cell_type": "markdown",
   "id": "0cd5fcf4",
   "metadata": {
    "pycharm": {
     "name": "#%% md\n"
    }
   },
   "source": [
    "Beyond the actual logic function, what is interesting with this gate us that it produces entangled states that we will be trying to check with CHSH experiment when the source is not perfect."
   ]
  },
  {
   "cell_type": "markdown",
   "id": "c0fb4c12",
   "metadata": {
    "pycharm": {
     "name": "#%% md\n"
    }
   },
   "source": [
    "### Checking for entanglement with CHSH experiment\n",
    "![https://en.wikipedia.org/wiki/File:Two_channel_bell_test.svg](https://upload.wikimedia.org/wikipedia/commons/thumb/3/39/Two_channel_bell_test.svg/1340px-Two_channel_bell_test.svg.png)\n",
    "*https://en.wikipedia.org/wiki/File:Two_channel_bell_test.svg*"
   ]
  },
  {
   "cell_type": "markdown",
   "id": "4e523cfc",
   "metadata": {
    "pycharm": {
     "name": "#%% md\n"
    }
   },
   "source": [
    "To reproduce this Bell test protocol, we define a new circuit which uses the $\\mathsf{CNOT}$ gate implemented above as a sub-circuit. The parameters $a$ and $b$ describe the measurement bases used by players $A$ and $B$ in the runs of the Bell-test. We define a photon source with a brightness of 40% and a purity of 99% that will be used by the `Processor`."
   ]
  },
  {
   "cell_type": "code",
   "execution_count": 9,
   "id": "6b889867",
   "metadata": {
    "pycharm": {
     "name": "#%%\n"
    }
   },
   "outputs": [
    {
     "data": {
      "text/plain": "<drawSvg.drawing.Drawing at 0x16f5a569de0>",
      "image/svg+xml": "<?xml version=\"1.0\" encoding=\"UTF-8\"?>\n<svg xmlns=\"http://www.w3.org/2000/svg\" xmlns:xlink=\"http://www.w3.org/1999/xlink\"\n     width=\"937.5\" height=\"437.5\" viewBox=\"-25 0 750 350\">\n<defs>\n</defs>\n<path d=\"M10,25 L25,25\" stroke-width=\"3\" stroke=\"darkred\" stroke-linejoin=\"miter\" fill=\"none\" />\n<path d=\"M10,75 L25,75\" stroke-width=\"3\" stroke=\"darkred\" stroke-linejoin=\"miter\" fill=\"none\" />\n<path d=\"M10,125 L25,125\" stroke-width=\"3\" stroke=\"darkred\" stroke-linejoin=\"miter\" fill=\"none\" />\n<path d=\"M10,175 L25,175\" stroke-width=\"3\" stroke=\"darkred\" stroke-linejoin=\"miter\" fill=\"none\" />\n<path d=\"M25,25 L53,25 L72,44\" stroke=\"darkred\" stroke-width=\"3\" fill=\"none\" />\n<path d=\"M78,44 L97,25 L125,25\" stroke=\"darkred\" stroke-width=\"3\" fill=\"none\" />\n<path d=\"M25,75 L53,75 L72,56\" stroke=\"darkred\" stroke-width=\"3\" fill=\"none\" />\n<path d=\"M78,56 L97,75 L125,75\" stroke=\"darkred\" stroke-width=\"3\" fill=\"none\" />\n<path d=\"M50,43 L100,43 L100,57 L50,57 Z\" stroke=\"black\" fill=\"black\" stroke-linejoin=\"miter\" />\n<text x=\"75\" y=\"85\" font-size=\"7\" text-anchor=\"middle\" dy=\"0em\"></text>\n<text x=\"75\" y=\"26\" font-size=\"7\" text-anchor=\"middle\" dy=\"0em\"></text>\n<path d=\"M50,43 L100,43 L100,47 L50,47 Z\" stroke=\"black\" fill=\"lightgray\" stroke-linejoin=\"miter\" />\n<path d=\"M93,50 L103,50 L103,60 L93,60 Z\" stroke=\"black\" fill=\"aquamarine\" stroke-linejoin=\"miter\" />\n<text x=\"98\" y=\"57\" font-size=\"6\" text-anchor=\"middle\" dy=\"0em\">H</text>\n<path d=\"M25,125 L125,125\" stroke=\"darkred\" stroke-width=\"3\" fill=\"none\" />\n<path d=\"M25,175 L125,175\" stroke=\"darkred\" stroke-width=\"3\" fill=\"none\" />\n<path d=\"M128,25 L172,75\" stroke=\"white\" stroke-width=\"6\" fill=\"none\" />\n<path d=\"M125,25 L128,25 L172,75 L175,75\" stroke=\"darkred\" stroke-width=\"3\" fill=\"none\" />\n<path d=\"M128,75 L172,125\" stroke=\"white\" stroke-width=\"6\" fill=\"none\" />\n<path d=\"M125,75 L128,75 L172,125 L175,125\" stroke=\"darkred\" stroke-width=\"3\" fill=\"none\" />\n<path d=\"M128,125 L172,175\" stroke=\"white\" stroke-width=\"6\" fill=\"none\" />\n<path d=\"M125,125 L128,125 L172,175 L175,175\" stroke=\"darkred\" stroke-width=\"3\" fill=\"none\" />\n<path d=\"M128,175 L172,225\" stroke=\"white\" stroke-width=\"6\" fill=\"none\" />\n<path d=\"M125,175 L128,175 L172,225 L175,225\" stroke=\"darkred\" stroke-width=\"3\" fill=\"none\" />\n<path d=\"M177,2 L473,2 L473,298 L177,298 Z\" stroke=\"black\" fill=\"lightblue\" stroke-dasharray=\"1,2\" stroke-linejoin=\"miter\" />\n<text x=\"179\" y=\"305\" font-size=\"8\" text-anchor=\"start\" dy=\"0em\">RALPH CNOT</text>\n<path d=\"M175,25 L203,25 L222,44\" stroke=\"darkred\" stroke-width=\"3\" fill=\"none\" />\n<path d=\"M228,44 L247,25 L275,25\" stroke=\"darkred\" stroke-width=\"3\" fill=\"none\" />\n<path d=\"M175,75 L203,75 L222,56\" stroke=\"darkred\" stroke-width=\"3\" fill=\"none\" />\n<path d=\"M228,56 L247,75 L275,75\" stroke=\"darkred\" stroke-width=\"3\" fill=\"none\" />\n<path d=\"M200,43 L250,43 L250,57 L200,57 Z\" stroke=\"black\" fill=\"black\" stroke-linejoin=\"miter\" />\n<text x=\"225\" y=\"95\" font-size=\"6\" text-anchor=\"middle\"><tspan x=\"225\" dy=\"0em\">Φ_tl=3*pi/2</tspan><tspan x=\"225\" dy=\"1em\">Φ_bl=pi</tspan><tspan x=\"225\" dy=\"1em\">Φ_tr=pi/2</tspan></text>\n<text x=\"225\" y=\"26\" font-size=\"7\" text-anchor=\"middle\" dy=\"0em\">Θ=1.910633</text>\n<path d=\"M200,43 L250,43 L250,47 L200,47 Z\" stroke=\"black\" fill=\"lightgray\" stroke-linejoin=\"miter\" />\n<path d=\"M243,50 L253,50 L253,60 L243,60 Z\" stroke=\"black\" fill=\"aquamarine\" stroke-linejoin=\"miter\" />\n<text x=\"248\" y=\"57\" font-size=\"6\" text-anchor=\"middle\" dy=\"0em\">H</text>\n<path d=\"M175,175 L203,175 L222,194\" stroke=\"darkred\" stroke-width=\"3\" fill=\"none\" />\n<path d=\"M228,194 L247,175 L275,175\" stroke=\"darkred\" stroke-width=\"3\" fill=\"none\" />\n<path d=\"M175,225 L203,225 L222,206\" stroke=\"darkred\" stroke-width=\"3\" fill=\"none\" />\n<path d=\"M228,206 L247,225 L275,225\" stroke=\"darkred\" stroke-width=\"3\" fill=\"none\" />\n<path d=\"M200,193 L250,193 L250,207 L200,207 Z\" stroke=\"black\" fill=\"black\" stroke-linejoin=\"miter\" />\n<text x=\"225\" y=\"235\" font-size=\"7\" text-anchor=\"middle\" dy=\"0em\"></text>\n<text x=\"225\" y=\"176\" font-size=\"7\" text-anchor=\"middle\" dy=\"0em\"></text>\n<path d=\"M200,193 L250,193 L250,197 L200,197 Z\" stroke=\"black\" fill=\"lightgray\" stroke-linejoin=\"miter\" />\n<path d=\"M243,200 L253,200 L253,210 L243,210 Z\" stroke=\"black\" fill=\"aquamarine\" stroke-linejoin=\"miter\" />\n<text x=\"248\" y=\"207\" font-size=\"6\" text-anchor=\"middle\" dy=\"0em\">H</text>\n<path d=\"M175,125 L275,125\" stroke=\"darkred\" stroke-width=\"3\" fill=\"none\" />\n<path d=\"M275,125 L303,125 L322,144\" stroke=\"darkred\" stroke-width=\"3\" fill=\"none\" />\n<path d=\"M328,144 L347,125 L375,125\" stroke=\"darkred\" stroke-width=\"3\" fill=\"none\" />\n<path d=\"M275,175 L303,175 L322,156\" stroke=\"darkred\" stroke-width=\"3\" fill=\"none\" />\n<path d=\"M328,156 L347,175 L375,175\" stroke=\"darkred\" stroke-width=\"3\" fill=\"none\" />\n<path d=\"M300,143 L350,143 L350,157 L300,157 Z\" stroke=\"black\" fill=\"black\" stroke-linejoin=\"miter\" />\n<text x=\"325\" y=\"195\" font-size=\"6\" text-anchor=\"middle\"><tspan x=\"325\" dy=\"0em\">Φ_tl=3*pi/2</tspan><tspan x=\"325\" dy=\"1em\">Φ_bl=pi</tspan><tspan x=\"325\" dy=\"1em\">Φ_tr=pi/2</tspan></text>\n<text x=\"325\" y=\"126\" font-size=\"7\" text-anchor=\"middle\" dy=\"0em\">Θ=1.910633</text>\n<path d=\"M300,143 L350,143 L350,147 L300,147 Z\" stroke=\"black\" fill=\"lightgray\" stroke-linejoin=\"miter\" />\n<path d=\"M343,150 L353,150 L353,160 L343,160 Z\" stroke=\"black\" fill=\"aquamarine\" stroke-linejoin=\"miter\" />\n<text x=\"348\" y=\"157\" font-size=\"6\" text-anchor=\"middle\" dy=\"0em\">H</text>\n<path d=\"M275,225 L303,225 L322,244\" stroke=\"darkred\" stroke-width=\"3\" fill=\"none\" />\n<path d=\"M328,244 L347,225 L375,225\" stroke=\"darkred\" stroke-width=\"3\" fill=\"none\" />\n<path d=\"M275,275 L303,275 L322,256\" stroke=\"darkred\" stroke-width=\"3\" fill=\"none\" />\n<path d=\"M328,256 L347,275 L375,275\" stroke=\"darkred\" stroke-width=\"3\" fill=\"none\" />\n<path d=\"M300,243 L350,243 L350,257 L300,257 Z\" stroke=\"black\" fill=\"black\" stroke-linejoin=\"miter\" />\n<text x=\"325\" y=\"280\" font-size=\"7\" text-anchor=\"middle\" dy=\"0em\"></text>\n<text x=\"325\" y=\"226\" font-size=\"7\" text-anchor=\"middle\" dy=\"0em\">Θ=1.910633</text>\n<path d=\"M300,243 L350,243 L350,247 L300,247 Z\" stroke=\"black\" fill=\"lightgray\" stroke-linejoin=\"miter\" />\n<path d=\"M343,250 L353,250 L353,260 L343,260 Z\" stroke=\"black\" fill=\"aquamarine\" stroke-linejoin=\"miter\" />\n<text x=\"348\" y=\"257\" font-size=\"6\" text-anchor=\"middle\" dy=\"0em\">H</text>\n<path d=\"M375,175 L403,175 L422,194\" stroke=\"darkred\" stroke-width=\"3\" fill=\"none\" />\n<path d=\"M428,194 L447,175 L475,175\" stroke=\"darkred\" stroke-width=\"3\" fill=\"none\" />\n<path d=\"M375,225 L403,225 L422,206\" stroke=\"darkred\" stroke-width=\"3\" fill=\"none\" />\n<path d=\"M428,206 L447,225 L475,225\" stroke=\"darkred\" stroke-width=\"3\" fill=\"none\" />\n<path d=\"M400,193 L450,193 L450,207 L400,207 Z\" stroke=\"black\" fill=\"black\" stroke-linejoin=\"miter\" />\n<text x=\"425\" y=\"235\" font-size=\"7\" text-anchor=\"middle\" dy=\"0em\"></text>\n<text x=\"425\" y=\"176\" font-size=\"7\" text-anchor=\"middle\" dy=\"0em\"></text>\n<path d=\"M400,193 L450,193 L450,197 L400,197 Z\" stroke=\"black\" fill=\"lightgray\" stroke-linejoin=\"miter\" />\n<path d=\"M443,200 L453,200 L453,210 L443,210 Z\" stroke=\"black\" fill=\"aquamarine\" stroke-linejoin=\"miter\" />\n<text x=\"448\" y=\"207\" font-size=\"6\" text-anchor=\"middle\" dy=\"0em\">H</text>\n<path d=\"M275,75 L475,75\" stroke=\"darkred\" stroke-width=\"3\" fill=\"none\" />\n<path d=\"M375,125 L475,125\" stroke=\"darkred\" stroke-width=\"3\" fill=\"none\" />\n<path d=\"M478,75 L522,25\" stroke=\"white\" stroke-width=\"6\" fill=\"none\" />\n<path d=\"M475,75 L478,75 L522,25 L525,25\" stroke=\"darkred\" stroke-width=\"3\" fill=\"none\" />\n<path d=\"M478,125 L522,75\" stroke=\"white\" stroke-width=\"6\" fill=\"none\" />\n<path d=\"M475,125 L478,125 L522,75 L525,75\" stroke=\"darkred\" stroke-width=\"3\" fill=\"none\" />\n<path d=\"M478,175 L522,125\" stroke=\"white\" stroke-width=\"6\" fill=\"none\" />\n<path d=\"M475,175 L478,175 L522,125 L525,125\" stroke=\"darkred\" stroke-width=\"3\" fill=\"none\" />\n<path d=\"M478,225 L522,175\" stroke=\"white\" stroke-width=\"6\" fill=\"none\" />\n<path d=\"M475,225 L478,225 L522,175 L525,175\" stroke=\"darkred\" stroke-width=\"3\" fill=\"none\" />\n<path d=\"M525,25 L553,25 L572,44\" stroke=\"darkred\" stroke-width=\"3\" fill=\"none\" />\n<path d=\"M578,44 L597,25 L625,25\" stroke=\"darkred\" stroke-width=\"3\" fill=\"none\" />\n<path d=\"M525,75 L553,75 L572,56\" stroke=\"darkred\" stroke-width=\"3\" fill=\"none\" />\n<path d=\"M578,56 L597,75 L625,75\" stroke=\"darkred\" stroke-width=\"3\" fill=\"none\" />\n<path d=\"M550,43 L600,43 L600,57 L550,57 Z\" stroke=\"black\" fill=\"black\" stroke-linejoin=\"miter\" />\n<text x=\"575\" y=\"80\" font-size=\"7\" text-anchor=\"middle\" dy=\"0em\"></text>\n<text x=\"575\" y=\"26\" font-size=\"7\" text-anchor=\"middle\" dy=\"0em\">Θ=a</text>\n<path d=\"M593,50 L603,50 L603,60 L593,60 Z\" stroke=\"black\" fill=\"aquamarine\" stroke-linejoin=\"miter\" />\n<text x=\"598\" y=\"57\" font-size=\"6\" text-anchor=\"middle\" dy=\"0em\">H</text>\n<path d=\"M525,125 L553,125 L572,144\" stroke=\"darkred\" stroke-width=\"3\" fill=\"none\" />\n<path d=\"M578,144 L597,125 L625,125\" stroke=\"darkred\" stroke-width=\"3\" fill=\"none\" />\n<path d=\"M525,175 L553,175 L572,156\" stroke=\"darkred\" stroke-width=\"3\" fill=\"none\" />\n<path d=\"M578,156 L597,175 L625,175\" stroke=\"darkred\" stroke-width=\"3\" fill=\"none\" />\n<path d=\"M550,143 L600,143 L600,157 L550,157 Z\" stroke=\"black\" fill=\"black\" stroke-linejoin=\"miter\" />\n<text x=\"575\" y=\"180\" font-size=\"7\" text-anchor=\"middle\" dy=\"0em\"></text>\n<text x=\"575\" y=\"126\" font-size=\"7\" text-anchor=\"middle\" dy=\"0em\">Θ=b</text>\n<path d=\"M593,150 L603,150 L603,160 L593,160 Z\" stroke=\"black\" fill=\"aquamarine\" stroke-linejoin=\"miter\" />\n<text x=\"598\" y=\"157\" font-size=\"6\" text-anchor=\"middle\" dy=\"0em\">H</text>\n<path d=\"M625,25 L640,25\" stroke-width=\"3\" stroke=\"darkred\" stroke-linejoin=\"miter\" fill=\"none\" />\n<path d=\"M625,75 L640,75\" stroke-width=\"3\" stroke=\"darkred\" stroke-linejoin=\"miter\" fill=\"none\" />\n<path d=\"M625,125 L640,125\" stroke-width=\"3\" stroke=\"darkred\" stroke-linejoin=\"miter\" fill=\"none\" />\n<path d=\"M625,175 L640,175\" stroke-width=\"3\" stroke=\"darkred\" stroke-linejoin=\"miter\" fill=\"none\" />\n<path d=\"M157,25 C157,25,157,15,167,15 L175,15 L175,35 L167,35 C157,35,157,25,157,25 L157,25\" stroke-width=\"1\" stroke=\"black\" stroke-linejoin=\"miter\" fill=\"white\" />\n<text x=\"163\" y=\"41\" font-size=\"6\" text-anchor=\"middle\" font-style=\"italic\" dy=\"0em\">[herald0]</text>\n<text x=\"167\" y=\"28\" font-size=\"7\" text-anchor=\"middle\" dy=\"0em\">0</text>\n<path d=\"M257,275 C257,275,257,265,267,265 L275,265 L275,285 L267,285 C257,285,257,275,257,275 L257,275\" stroke-width=\"1\" stroke=\"black\" stroke-linejoin=\"miter\" fill=\"white\" />\n<text x=\"263\" y=\"291\" font-size=\"6\" text-anchor=\"middle\" font-style=\"italic\" dy=\"0em\">[herald1]</text>\n<text x=\"267\" y=\"278\" font-size=\"7\" text-anchor=\"middle\" dy=\"0em\">0</text>\n<path d=\"M283,35 L275,35 L275,15 L283,15 C283,15,293,15,293,25 C293,35,283,35,283,35 L283,35\" stroke-width=\"1\" stroke=\"black\" stroke-linejoin=\"miter\" fill=\"white\" />\n<text x=\"288\" y=\"41\" font-size=\"6\" text-anchor=\"middle\" font-style=\"italic\" dy=\"0em\">[herald0]</text>\n<text x=\"283\" y=\"28\" font-size=\"7\" text-anchor=\"middle\" dy=\"0em\">0</text>\n<path d=\"M383,285 L375,285 L375,265 L383,265 C383,265,393,265,393,275 C393,285,383,285,383,285 L383,285\" stroke-width=\"1\" stroke=\"black\" stroke-linejoin=\"miter\" fill=\"white\" />\n<text x=\"388\" y=\"291\" font-size=\"6\" text-anchor=\"middle\" font-style=\"italic\" dy=\"0em\">[herald1]</text>\n<text x=\"383\" y=\"278\" font-size=\"7\" text-anchor=\"middle\" dy=\"0em\">0</text>\n</svg>"
     },
     "execution_count": 9,
     "metadata": {},
     "output_type": "execute_result"
    }
   ],
   "source": [
    "source = pcvl.Source(emission_probability=0.40, multiphoton_component=0.01)\n",
    "\n",
    "QPU = pcvl.Processor(\"Naive\", 4, source)\n",
    "QPU.add(0, pcvl.BS.H())\n",
    "\n",
    "# Remove postprocess function as it would mean nothing to the new QPU\n",
    "p.clear_postprocess()\n",
    "\n",
    "QPU.add(0, p)\n",
    "\n",
    "a = pcvl.Parameter(\"a\")\n",
    "b = pcvl.Parameter(\"b\")\n",
    "\n",
    "QPU.add(0, pcvl.BS.H(theta=a))\n",
    "QPU.add(2, pcvl.BS.H(theta=b))\n",
    "\n",
    "pcvl.pdisplay(QPU, recursive = True)"
   ]
  },
  {
   "cell_type": "markdown",
   "id": "1c96eaec",
   "metadata": {
    "pycharm": {
     "name": "#%% md\n"
    }
   },
   "source": [
    "We start by setting the values of the two parameters to 0, meaning that the beam splitters after the $\\mathsf{CNOT}$ effectively act as the identity. "
   ]
  },
  {
   "cell_type": "code",
   "execution_count": 10,
   "id": "1e935739",
   "metadata": {
    "pycharm": {
     "name": "#%%\n"
    }
   },
   "outputs": [],
   "source": [
    "a.set_value(0)\n",
    "b.set_value(0)"
   ]
  },
  {
   "cell_type": "markdown",
   "id": "3451e7d1",
   "metadata": {
    "pycharm": {
     "name": "#%% md\n"
    }
   },
   "source": [
    "We now state that our photons will be inputted on ports 1 and 2 (using the 0-index convention, and not counting heralded modes)."
   ]
  },
  {
   "cell_type": "code",
   "execution_count": 11,
   "id": "1b626655",
   "metadata": {
    "pycharm": {
     "name": "#%%\n"
    }
   },
   "outputs": [],
   "source": [
    "QPU.with_input(pcvl.BasicState([0, 1, 1, 0]))"
   ]
  },
  {
   "cell_type": "markdown",
   "id": "fcdef3f6",
   "metadata": {
    "pycharm": {
     "name": "#%% md\n"
    }
   },
   "source": [
    "We now detail the different state vectors that are the probabilistic inputs to the circuit. The most frequent input is the empty state, followed by two states with only a single photon on either of the input ports, then by the expected nominal input $|0,1,1,0,0,0\\rangle$. Here, the heralded modes are shown because if there were a photon on them, they would also have the imperfect source. They are represented at the end of the state (the two last modes) as they have been added after the declaration of the processor."
   ]
  },
  {
   "cell_type": "code",
   "execution_count": 12,
   "id": "e8af01a9",
   "metadata": {
    "pycharm": {
     "name": "#%%\n"
    }
   },
   "outputs": [
    {
     "data": {
      "text/plain": "<IPython.core.display.HTML object>",
      "text/html": "<table>\n<thead>\n<tr><th>state                          </th><th>probability  </th></tr>\n</thead>\n<tbody>\n<tr><td>|0,0,0,0,0,0&gt;                  </td><td>9/25         </td></tr>\n<tr><td>|0,0,{_:0},0,0,0&gt;              </td><td>0.2395       </td></tr>\n<tr><td>|0,{_:0},0,0,0,0&gt;              </td><td>0.2395       </td></tr>\n<tr><td>|0,{_:0},{_:0},0,0,0&gt;          </td><td>0.1594       </td></tr>\n<tr><td>|0,0,{_:0}{_:1},0,0,0&gt;         </td><td>4.8193e-4    </td></tr>\n<tr><td>|0,{_:0}{_:1},0,0,0,0&gt;         </td><td>4.8193e-4    </td></tr>\n<tr><td>|0,{_:0}{_:1},{_:0},0,0,0&gt;     </td><td>3.2064e-4    </td></tr>\n<tr><td>|0,{_:0},{_:0}{_:1},0,0,0&gt;     </td><td>3.2064e-4    </td></tr>\n<tr><td>|0,{_:0}{_:1},{_:0}{_:2},0,0,0&gt;</td><td>0            </td></tr>\n</tbody>\n</table>"
     },
     "metadata": {},
     "output_type": "display_data"
    }
   ],
   "source": [
    "pcvl.pdisplay(QPU.source_distribution, precision=1e-4)"
   ]
  },
  {
   "cell_type": "markdown",
   "id": "73af9f32",
   "metadata": {
    "pycharm": {
     "name": "#%% md\n"
    }
   },
   "source": [
    "We can then check the output state distribution corresponding to this input distribution. By default, since our input state had 2 photons, only states having photons on at least two modes are kept. This can be changed using `mode_post_selection`."
   ]
  },
  {
   "cell_type": "code",
   "execution_count": 13,
   "id": "cbee9802",
   "metadata": {
    "pycharm": {
     "name": "#%%\n"
    }
   },
   "outputs": [
    {
     "data": {
      "text/plain": "<IPython.core.display.HTML object>",
      "text/html": "<table>\n<thead>\n<tr><th>state    </th><th style=\"text-align: right;\">  probability</th></tr>\n</thead>\n<tbody>\n<tr><td>|0,0,1,1&gt;</td><td style=\"text-align: right;\">  0.247801   </td></tr>\n<tr><td>|1,1,0,0&gt;</td><td style=\"text-align: right;\">  0.247801   </td></tr>\n<tr><td>|1,0,1,0&gt;</td><td style=\"text-align: right;\">  0.247801   </td></tr>\n<tr><td>|0,1,0,1&gt;</td><td style=\"text-align: right;\">  0.247801   </td></tr>\n<tr><td>|0,1,1,0&gt;</td><td style=\"text-align: right;\">  0.003736   </td></tr>\n<tr><td>|1,0,0,1&gt;</td><td style=\"text-align: right;\">  0.00074714 </td></tr>\n<tr><td>|0,1,2,0&gt;</td><td style=\"text-align: right;\">  0.000497093</td></tr>\n<tr><td>|0,1,1,1&gt;</td><td style=\"text-align: right;\">  0.000497093</td></tr>\n<tr><td>|1,1,1,0&gt;</td><td style=\"text-align: right;\">  0.000497093</td></tr>\n<tr><td>|0,2,1,0&gt;</td><td style=\"text-align: right;\">  0.000497093</td></tr>\n</tbody>\n</table>"
     },
     "metadata": {},
     "output_type": "display_data"
    }
   ],
   "source": [
    "output_distribution=QPU.probs()[\"results\"]\n",
    "pcvl.pdisplay(output_distribution, max_v=10)"
   ]
  },
  {
   "cell_type": "markdown",
   "id": "3cda6b52",
   "metadata": {
    "pycharm": {
     "name": "#%% md\n"
    }
   },
   "source": [
    "Let us run now the experiment with increasing value of g2 in the range $[0, 0.2]$ with a brightness of $0.15$ and check the CHSH inequality."
   ]
  },
  {
   "cell_type": "code",
   "execution_count": 14,
   "id": "3f29137a",
   "metadata": {
    "pycharm": {
     "name": "#%%\n"
    }
   },
   "outputs": [
    {
     "data": {
      "text/plain": "  0%|          | 0/40 [00:00<?, ?it/s]",
      "application/vnd.jupyter.widget-view+json": {
       "version_major": 2,
       "version_minor": 0,
       "model_id": "171fa46fd30544ff86c59bd47d050fe2"
      }
     },
     "metadata": {},
     "output_type": "display_data"
    },
    {
     "name": "stdout",
     "output_type": "stream",
     "text": [
      "g2= 0.0 S= 2.82842712474619\n",
      "g2= 0.005 S= 2.7926153612581373\n",
      "g2= 0.01 S= 2.757298040245726\n",
      "g2= 0.015 S= 2.7224649920120614\n",
      "g2= 0.02 S= 2.6881063238088334\n",
      "g2= 0.025 S= 2.654212410542609\n",
      "g2= 0.03 S= 2.6207738857392093\n",
      "g2= 0.035 S= 2.5877816329598575\n",
      "g2= 0.04 S= 2.5552267774696427\n",
      "g2= 0.045 S= 2.5231006783080483\n",
      "g2= 0.05 S= 2.491394920629044\n",
      "g2= 0.055 S= 2.4601013083623045\n",
      "g2= 0.06 S= 2.4292118571395154\n",
      "g2= 0.065 S= 2.3987187875083835\n",
      "g2= 0.07 S= 2.3686145184000984\n",
      "g2= 0.075 S= 2.338891660848145\n",
      "g2= 0.08 S= 2.3095430119332683\n",
      "g2= 0.085 S= 2.28056154897453\n",
      "g2= 0.09 S= 2.251940423920364\n",
      "g2= 0.095 S= 2.2236729579593097\n",
      "g2= 0.1 S= 2.19575263631623\n",
      "g2= 0.105 S= 2.1681731032549507\n",
      "g2= 0.11 S= 2.1409281572493692\n",
      "g2= 0.115 S= 2.114011746338283\n",
      "g2= 0.12 S= 2.087417963639817\n",
      "g2= 0.125 S= 2.061141043033512\n",
      "g2= 0.13 S= 2.035175354988402\n",
      "g2= 0.135 S= 2.0095154025476605\n",
      "g2= 0.14 S= 1.9841558174433032\n",
      "g2= 0.145 S= 1.9590913563550196\n",
      "g2= 0.15 S= 1.9343168972953644\n",
      "g2= 0.155 S= 1.9098274361218834\n",
      "g2= 0.16 S= 1.8856180831640268\n",
      "g2= 0.165 S= 1.861684059972091\n",
      "g2= 0.17 S= 1.8380206961697065\n",
      "g2= 0.175 S= 1.8146234264183838\n",
      "g2= 0.18 S= 1.7914877874790276\n",
      "g2= 0.185 S= 1.7686094153746597\n",
      "g2= 0.19 S= 1.7459840426455249\n",
      "g2= 0.195 S= 1.7236074956965992\n"
     ]
    }
   ],
   "source": [
    "from tqdm.auto import tqdm\n",
    "x = np.arange(0, 20, 0.5)\n",
    "y = []\n",
    "\n",
    "for g2 in tqdm(x):\n",
    "    Es = []\n",
    "    for va in [0, sp.pi/2]:\n",
    "        a.set_value(va)\n",
    "        for vb in [sp.pi/4, 3*sp.pi/4]:\n",
    "            b.set_value(vb)\n",
    "            Npp, Npm, Nmp, Nmm = 0, 0, 0, 0\n",
    "            source = pcvl.Source(emission_probability=.15, multiphoton_component=g2/100)\n",
    "            QPU2 = pcvl.Processor(\"Naive\", 4, source)\n",
    "            # Only the source of the big QPU remains\n",
    "            QPU2.add(0, QPU)\n",
    "            QPU2.with_input(pcvl.BasicState([0, 1, 1, 0]))\n",
    "            # we add a post-selection on the processor, there needs to be exactly one in mode 0,1 and one in mode 2,3\n",
    "            QPU2.set_postprocess(lambda o: (o[0]+o[1]==1) and (o[2]+o[3]==1))\n",
    "            output_distribution=QPU2.probs()[\"results\"]\n",
    "            for output_bs, prob in output_distribution.items():\n",
    "                output_state = output_bs\n",
    "                if (output_state[0] == 1 and output_state[2] == 1):\n",
    "                    Npp = prob\n",
    "                if (output_state[0] == 1 and output_state[3] == 1):\n",
    "                    Npm = prob\n",
    "                if (output_state[1] == 1 and output_state[2] == 1):\n",
    "                    Nmp = prob\n",
    "                if (output_state[1] == 1 and output_state[3] == 1):\n",
    "                    Nmm = prob\n",
    "            E = (Npp-Npm-Nmp+Nmm)/(Npp+Npm+Nmp+Nmm)\n",
    "            Es.append(E)\n",
    "\n",
    "    S = Es[0]-Es[1]+Es[2]+Es[3]\n",
    "    print(\"g2=\",g2/100, \"S=\", S)\n",
    "    y.append(S)"
   ]
  },
  {
   "cell_type": "code",
   "execution_count": 15,
   "id": "0142ce0d",
   "metadata": {
    "pycharm": {
     "name": "#%%\n"
    }
   },
   "outputs": [
    {
     "data": {
      "text/plain": "<Figure size 432x288 with 1 Axes>",
      "image/png": "[encoded data removed]"
     },
     "metadata": {
      "needs_background": "light"
     },
     "output_type": "display_data"
    }
   ],
   "source": [
    "import matplotlib.pyplot as plt\n",
    "plt.title(\"CHSH value with purity\")\n",
    "plt.xlabel(\"g2 (%)\")\n",
    "plt.ylabel(\"bell inegality\")\n",
    "plt.axhline(y=2, linewidth=2, color=\"red\", label= 'horizontal-line')\n",
    "plt.plot(x, y, color =\"green\")\n",
    "plt.grid(color='b', dashes=(3, 2, 1, 2))\n",
    "plt.show()"
   ]
  },
  {
   "cell_type": "markdown",
   "id": "1329a625",
   "metadata": {
    "pycharm": {
     "name": "#%% md\n"
    }
   },
   "source": [
    "Beyond 13% of g2, we are crossing the value $2$, ie not violating anymore the $|CHSH|\\le 2$ inegality!"
   ]
  },
  {
   "cell_type": "markdown",
   "id": "1121309a",
   "metadata": {
    "pycharm": {
     "name": "#%% md\n"
    }
   },
   "source": [
    "## Reference"
   ]
  },
  {
   "cell_type": "markdown",
   "id": "e55db30c",
   "metadata": {
    "pycharm": {
     "name": "#%% md\n"
    }
   },
   "source": [
    "[1] T. C. Ralph, N. K. Langford, T. B. Bell, and A. G. White. Linear optical controlled-NOT gate in the coincidence basis. [Physical Review A](https://link.aps.org/doi/10.1103/PhysRevA.65.062324), 65(6):062324, June 2002. Publisher: American Physical Society."
   ]
  }
 ],
 "metadata": {
  "kernelspec": {
   "display_name": "Python 3 (ipykernel)",
   "language": "python",
   "name": "python3"
  },
  "language_info": {
   "codemirror_mode": {
    "name": "ipython",
    "version": 3
   },
   "file_extension": ".py",
   "mimetype": "text/x-python",
   "name": "python",
   "nbconvert_exporter": "python",
   "pygments_lexer": "ipython3",
   "version": "3.9.7"
  }
 },
 "nbformat": 4,
 "nbformat_minor": 5
}
