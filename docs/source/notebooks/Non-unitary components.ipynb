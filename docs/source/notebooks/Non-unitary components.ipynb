{
 "cells": [
  {
   "cell_type": "markdown",
   "id": "6f3d5000",
   "metadata": {},
   "source": [
    "# Using non-unitary components in Perceval"
   ]
  },
  {
   "cell_type": "markdown",
   "id": "9147d84a",
   "metadata": {},
   "source": [
    "We are interested in simulating a simple circuit with time delay and some loss channels."
   ]
  },
  {
   "cell_type": "code",
   "execution_count": 1,
   "id": "08fc89a2",
   "metadata": {},
   "outputs": [],
   "source": [
    "import perceval as pcvl"
   ]
  },
  {
   "cell_type": "markdown",
   "id": "dfa6402a",
   "metadata": {},
   "source": [
    "## Perfect case"
   ]
  },
  {
   "cell_type": "markdown",
   "id": "f0c8997f",
   "metadata": {},
   "source": [
    "First, we define a HOM circuit with time delay. Since we are going to use non-unitary components, we will have to use a `Processor`. As we are going to compute all the probabilities, let's use a `SLOS` backend. In a first time, we will use a perfect source with no loss in the circuit."
   ]
  },
  {
   "cell_type": "code",
   "execution_count": 2,
   "id": "2278ea3e",
   "metadata": {},
   "outputs": [
    {
     "data": {
      "image/svg+xml": [
       "<?xml version=\"1.0\" encoding=\"UTF-8\"?>\n",
       "<svg xmlns=\"http://www.w3.org/2000/svg\" xmlns:xlink=\"http://www.w3.org/1999/xlink\"\n",
       "     width=\"437.5\" height=\"156.25\" viewBox=\"-25 0 350 125.0\">\n",
       "<defs>\n",
       "</defs>\n",
       "<path d=\"M10,25 L25,25\" stroke-width=\"3\" stroke=\"darkred\" stroke-linejoin=\"miter\" fill=\"none\" />\n",
       "<path d=\"M10,75 L25,75\" stroke-width=\"3\" stroke=\"darkred\" stroke-linejoin=\"miter\" fill=\"none\" />\n",
       "<path d=\"M25,25 L53,25 L72,44\" stroke=\"darkred\" stroke-width=\"3\" fill=\"none\" />\n",
       "<path d=\"M78,44 L97,25 L125,25\" stroke=\"darkred\" stroke-width=\"3\" fill=\"none\" />\n",
       "<path d=\"M25,75 L53,75 L72,56\" stroke=\"darkred\" stroke-width=\"3\" fill=\"none\" />\n",
       "<path d=\"M78,56 L97,75 L125,75\" stroke=\"darkred\" stroke-width=\"3\" fill=\"none\" />\n",
       "<path d=\"M50,43 L100,43 L100,57 L50,57 Z\" stroke=\"black\" fill=\"black\" stroke-linejoin=\"miter\" />\n",
       "<text x=\"75\" y=\"85\" font-size=\"7\" text-anchor=\"middle\"></text>\n",
       "<text x=\"75\" y=\"26\" font-size=\"7\" text-anchor=\"middle\"></text>\n",
       "<path d=\"M50,43 L100,43 L100,47 L50,47 Z\" stroke=\"black\" fill=\"lightgray\" stroke-linejoin=\"miter\" />\n",
       "<path d=\"M93,50 L103,50 L103,60 L93,60 Z\" stroke=\"black\" fill=\"thistle\" stroke-linejoin=\"miter\" />\n",
       "<text x=\"98\" y=\"57\" font-size=\"6\" text-anchor=\"middle\">Rx</text>\n",
       "<circle cx=\"159\" cy=\"64\" r=\"11\" stroke-width=\"5\" fill=\"none\" stroke=\"white\" />\n",
       "<circle cx=\"159\" cy=\"64\" r=\"11\" stroke-width=\"3\" fill=\"none\" stroke=\"darkred\" />\n",
       "<circle cx=\"150\" cy=\"64\" r=\"11\" stroke-width=\"5\" fill=\"none\" stroke=\"white\" />\n",
       "<circle cx=\"150\" cy=\"64\" r=\"11\" stroke-width=\"3\" fill=\"none\" stroke=\"darkred\" />\n",
       "<circle cx=\"141\" cy=\"64\" r=\"11\" stroke-width=\"5\" fill=\"none\" stroke=\"white\" />\n",
       "<circle cx=\"141\" cy=\"64\" r=\"11\" stroke-width=\"3\" fill=\"none\" stroke=\"darkred\" />\n",
       "<path d=\"M125,75 L144,75\" stroke=\"white\" stroke-width=\"5\" fill=\"none\" />\n",
       "<path d=\"M125,75 L144,75\" stroke=\"darkred\" stroke-width=\"3\" fill=\"none\" />\n",
       "<path d=\"M159,75 L175,75\" stroke=\"white\" stroke-width=\"5\" fill=\"none\" />\n",
       "<path d=\"M157,75 L175,75\" stroke=\"darkred\" stroke-width=\"3\" fill=\"none\" />\n",
       "<text x=\"150\" y=\"88\" font-size=\"7\" text-anchor=\"middle\">t=1</text>\n",
       "<path d=\"M125,25 L175,25\" stroke=\"darkred\" stroke-width=\"3\" fill=\"none\" />\n",
       "<path d=\"M175,25 L203,25 L222,44\" stroke=\"darkred\" stroke-width=\"3\" fill=\"none\" />\n",
       "<path d=\"M228,44 L247,25 L275,25\" stroke=\"darkred\" stroke-width=\"3\" fill=\"none\" />\n",
       "<path d=\"M175,75 L203,75 L222,56\" stroke=\"darkred\" stroke-width=\"3\" fill=\"none\" />\n",
       "<path d=\"M228,56 L247,75 L275,75\" stroke=\"darkred\" stroke-width=\"3\" fill=\"none\" />\n",
       "<path d=\"M200,43 L250,43 L250,57 L200,57 Z\" stroke=\"black\" fill=\"black\" stroke-linejoin=\"miter\" />\n",
       "<text x=\"225\" y=\"85\" font-size=\"7\" text-anchor=\"middle\"></text>\n",
       "<text x=\"225\" y=\"26\" font-size=\"7\" text-anchor=\"middle\"></text>\n",
       "<path d=\"M200,43 L250,43 L250,47 L200,47 Z\" stroke=\"black\" fill=\"lightgray\" stroke-linejoin=\"miter\" />\n",
       "<path d=\"M243,50 L253,50 L253,60 L243,60 Z\" stroke=\"black\" fill=\"thistle\" stroke-linejoin=\"miter\" />\n",
       "<text x=\"248\" y=\"57\" font-size=\"6\" text-anchor=\"middle\">Rx</text>\n",
       "<path d=\"M275,25 L290,25\" stroke-width=\"3\" stroke=\"darkred\" stroke-linejoin=\"miter\" fill=\"none\" />\n",
       "<path d=\"M275,75 L290,75\" stroke-width=\"3\" stroke=\"darkred\" stroke-linejoin=\"miter\" fill=\"none\" />\n",
       "</svg>"
      ],
      "text/plain": [
       "<drawsvg.drawing.Drawing at 0x7f99f8219c90>"
      ]
     },
     "execution_count": 2,
     "metadata": {},
     "output_type": "execute_result"
    }
   ],
   "source": [
    "HOM = pcvl.Processor(\"SLOS\", 2)\n",
    "\n",
    "HOM.add(0, pcvl.BS())\n",
    "HOM.add(1, pcvl.TD(1))\n",
    "HOM.add(0, pcvl.BS())\n",
    "\n",
    "pcvl.pdisplay(HOM)"
   ]
  },
  {
   "cell_type": "markdown",
   "id": "25fd1b12",
   "metadata": {},
   "source": [
    "Then, we define that we will send photons on mode 0. A photon will be sent to the circuit at each time step."
   ]
  },
  {
   "cell_type": "code",
   "execution_count": 3,
   "id": "228dc3f3",
   "metadata": {},
   "outputs": [],
   "source": [
    "HOM.with_input(pcvl.BasicState([1, 0]))"
   ]
  },
  {
   "cell_type": "markdown",
   "id": "fa7a020d",
   "metadata": {},
   "source": [
    "Before going further, we will try to get an intuition of the result in this simple case.\n",
    "\n",
    "Let's focus on a given time step $n$ with $n \\ge 1$.\n",
    "We will distinguish two cases: \n",
    "- either the photon of time step $n - 1$ went to mode 0 after the first beam splitter\n",
    "- either it went to the mode 1 after the first beam splitter.\n",
    "For both cases, the probability is 1/2 since we have a perfect beam splitter.\n",
    "The photon of time $n$ can also go to mode 0 or mode 1 with probability 1/2 after the first beam splitter.\n",
    "\n",
    "Let's start with the first case.\n",
    "At time $n$, the photon of time $n - 1$ is no longer in the circuit. Thus it cannot interact with the photon of time $n$. <br>\n",
    "If the latter went to mode 0, it will be detected at time $n$ on mode 0 or 1 with a 50/50 probability (since the second beam splitter is perfect too). <br>\n",
    "If it went to mode 1, no photon will be detected at time $n$, giving us an empty state. <br>\n",
    "This gives us the probability table for this case\n",
    "\n",
    "\\|0, 0$\\rangle$ | \\|1, 0$\\rangle$ | \\|0, 1$\\rangle$ \n",
    "--- | --- | ---\n",
    "1/2 | 1/4 | 1/4\n",
    "\n",
    "Now let's consider the second case. <br>\n",
    "If the photon at time $n$ went to mode 1, only the photon of time $n - 1$ will be detected. This will give us a |1, 0$\\rangle$ or a |0, 1$\\rangle$ state with 1/2 probability. <br>\n",
    "If the photon at time $n$ went to mode 0, then the second beam splitter will have an input state |1, 1$\\rangle$, which can only give us |2, 0$\\rangle$ and |0, 2$\\rangle$ states with 1/2 probability. <br>\n",
    "This gives us the following probability table:\n",
    "\n",
    "\\|1, 0$\\rangle$    |\\|0, 1$\\rangle$    |\\|2, 0$\\rangle$   |\\|0, 2$\\rangle$\n",
    "--- | --- | --- | ---\n",
    "1/4 | 1/4 | 1/4 | 1/4\n",
    "\n",
    "\n",
    "Finally, we expect, considering each case has a probability of 1/2\n",
    "\n",
    "|\\|0, 0$\\rangle$   |\\|1, 0$\\rangle$    |\\|0, 1$\\rangle$    |\\|2, 0$\\rangle$   |\\|0, 2$\\rangle$\n",
    "--- | --- | --- | --- | ---\n",
    "1/4 | 1/4 | 1/4 | 1/8 | 1/8"
   ]
  },
  {
   "cell_type": "code",
   "execution_count": 4,
   "id": "71fdd32e",
   "metadata": {},
   "outputs": [
    {
     "data": {
      "text/html": [
       "<table>\n",
       "<thead>\n",
       "<tr><th>state  </th><th>probability  </th></tr>\n",
       "</thead>\n",
       "<tbody>\n",
       "<tr><td>|1,0&gt;  </td><td>1/4          </td></tr>\n",
       "<tr><td>|0,1&gt;  </td><td>1/4          </td></tr>\n",
       "<tr><td>|0,0&gt;  </td><td>1/4          </td></tr>\n",
       "<tr><td>|2,0&gt;  </td><td>1/8          </td></tr>\n",
       "<tr><td>|0,2&gt;  </td><td>1/8          </td></tr>\n",
       "</tbody>\n",
       "</table>"
      ],
      "text/plain": [
       "<IPython.core.display.HTML object>"
      ]
     },
     "metadata": {},
     "output_type": "display_data"
    }
   ],
   "source": [
    "HOM.min_detected_photons_filter(0)\n",
    "\n",
    "sampler = pcvl.algorithm.Sampler(HOM)\n",
    "output = sampler.probs()[\"results\"]\n",
    "\n",
    "pcvl.pdisplay(output)"
   ]
  },
  {
   "cell_type": "markdown",
   "id": "5076484c",
   "metadata": {},
   "source": [
    "This is what we expected."
   ]
  },
  {
   "cell_type": "markdown",
   "id": "f49d9a5b",
   "metadata": {},
   "source": [
    "## Imperfect case"
   ]
  },
  {
   "cell_type": "markdown",
   "id": "fa01680e",
   "metadata": {},
   "source": [
    "Now we are going to add some loss channel to our circuit to simulate an imperfect case. For a first use, we will check that loss channels on all modes are equivalent to source brightness with $loss = 1 - transmission$. We will not do it here, but we can also check that if loss channels are parallel in the circuit (so their result is not going in another loss channel), the computation also gives the same result."
   ]
  },
  {
   "cell_type": "code",
   "execution_count": 5,
   "id": "d311c666",
   "metadata": {},
   "outputs": [
    {
     "data": {
      "image/svg+xml": [
       "<?xml version=\"1.0\" encoding=\"UTF-8\"?>\n",
       "<svg xmlns=\"http://www.w3.org/2000/svg\" xmlns:xlink=\"http://www.w3.org/1999/xlink\"\n",
       "     width=\"500.0\" height=\"156.25\" viewBox=\"-25 0 400 125.0\">\n",
       "<defs>\n",
       "</defs>\n",
       "<path d=\"M10,25 L25,25\" stroke-width=\"3\" stroke=\"darkred\" stroke-linejoin=\"miter\" fill=\"none\" />\n",
       "<path d=\"M10,75 L25,75\" stroke-width=\"3\" stroke=\"darkred\" stroke-linejoin=\"miter\" fill=\"none\" />\n",
       "<path d=\"M25,25 L53,25 L72,44\" stroke=\"darkred\" stroke-width=\"3\" fill=\"none\" />\n",
       "<path d=\"M78,44 L97,25 L125,25\" stroke=\"darkred\" stroke-width=\"3\" fill=\"none\" />\n",
       "<path d=\"M25,75 L53,75 L72,56\" stroke=\"darkred\" stroke-width=\"3\" fill=\"none\" />\n",
       "<path d=\"M78,56 L97,75 L125,75\" stroke=\"darkred\" stroke-width=\"3\" fill=\"none\" />\n",
       "<path d=\"M50,43 L100,43 L100,57 L50,57 Z\" stroke=\"black\" fill=\"black\" stroke-linejoin=\"miter\" />\n",
       "<text x=\"75\" y=\"85\" font-size=\"7\" text-anchor=\"middle\"></text>\n",
       "<text x=\"75\" y=\"26\" font-size=\"7\" text-anchor=\"middle\"></text>\n",
       "<path d=\"M50,43 L100,43 L100,47 L50,47 Z\" stroke=\"black\" fill=\"lightgray\" stroke-linejoin=\"miter\" />\n",
       "<path d=\"M93,50 L103,50 L103,60 L93,60 Z\" stroke=\"black\" fill=\"thistle\" stroke-linejoin=\"miter\" />\n",
       "<text x=\"98\" y=\"57\" font-size=\"6\" text-anchor=\"middle\">Rx</text>\n",
       "<circle cx=\"159\" cy=\"64\" r=\"11\" stroke-width=\"5\" fill=\"none\" stroke=\"white\" />\n",
       "<circle cx=\"159\" cy=\"64\" r=\"11\" stroke-width=\"3\" fill=\"none\" stroke=\"darkred\" />\n",
       "<circle cx=\"150\" cy=\"64\" r=\"11\" stroke-width=\"5\" fill=\"none\" stroke=\"white\" />\n",
       "<circle cx=\"150\" cy=\"64\" r=\"11\" stroke-width=\"3\" fill=\"none\" stroke=\"darkred\" />\n",
       "<circle cx=\"141\" cy=\"64\" r=\"11\" stroke-width=\"5\" fill=\"none\" stroke=\"white\" />\n",
       "<circle cx=\"141\" cy=\"64\" r=\"11\" stroke-width=\"3\" fill=\"none\" stroke=\"darkred\" />\n",
       "<path d=\"M125,75 L144,75\" stroke=\"white\" stroke-width=\"5\" fill=\"none\" />\n",
       "<path d=\"M125,75 L144,75\" stroke=\"darkred\" stroke-width=\"3\" fill=\"none\" />\n",
       "<path d=\"M159,75 L175,75\" stroke=\"white\" stroke-width=\"5\" fill=\"none\" />\n",
       "<path d=\"M157,75 L175,75\" stroke=\"darkred\" stroke-width=\"3\" fill=\"none\" />\n",
       "<text x=\"150\" y=\"88\" font-size=\"7\" text-anchor=\"middle\">t=1</text>\n",
       "<path d=\"M125,25 L175,25\" stroke=\"darkred\" stroke-width=\"3\" fill=\"none\" />\n",
       "<path d=\"M175,25 L203,25 L222,44\" stroke=\"darkred\" stroke-width=\"3\" fill=\"none\" />\n",
       "<path d=\"M228,44 L247,25 L275,25\" stroke=\"darkred\" stroke-width=\"3\" fill=\"none\" />\n",
       "<path d=\"M175,75 L203,75 L222,56\" stroke=\"darkred\" stroke-width=\"3\" fill=\"none\" />\n",
       "<path d=\"M228,56 L247,75 L275,75\" stroke=\"darkred\" stroke-width=\"3\" fill=\"none\" />\n",
       "<path d=\"M200,43 L250,43 L250,57 L200,57 Z\" stroke=\"black\" fill=\"black\" stroke-linejoin=\"miter\" />\n",
       "<text x=\"225\" y=\"85\" font-size=\"7\" text-anchor=\"middle\"></text>\n",
       "<text x=\"225\" y=\"26\" font-size=\"7\" text-anchor=\"middle\"></text>\n",
       "<path d=\"M200,43 L250,43 L250,47 L200,47 Z\" stroke=\"black\" fill=\"lightgray\" stroke-linejoin=\"miter\" />\n",
       "<path d=\"M243,50 L253,50 L253,60 L243,60 Z\" stroke=\"black\" fill=\"thistle\" stroke-linejoin=\"miter\" />\n",
       "<text x=\"248\" y=\"57\" font-size=\"6\" text-anchor=\"middle\">Rx</text>\n",
       "<path d=\"M275,25 L325,25\" stroke=\"darkred\" stroke-width=\"3\" fill=\"none\" />\n",
       "<path d=\"M300,25 L300,32\" stroke=\"black\" stroke-width=\"1\" fill=\"none\" />\n",
       "<path d=\"M290,32 L310,32\" stroke=\"black\" stroke-width=\"1\" fill=\"none\" />\n",
       "<path d=\"M293,34 L307,34\" stroke=\"black\" stroke-width=\"1\" fill=\"none\" />\n",
       "<path d=\"M296,36 L304,36\" stroke=\"black\" stroke-width=\"1\" fill=\"none\" />\n",
       "<path d=\"M299,38 L301,38\" stroke=\"black\" stroke-width=\"1\" fill=\"none\" />\n",
       "<path d=\"M297,22 L303,22 L303,28 L297,28 Z\" stroke=\"black\" fill=\"gray\" stroke-linejoin=\"miter\" />\n",
       "<text x=\"281\" y=\"20\" font-size=\"7\" text-anchor=\"start\">loss=1/10</text>\n",
       "<path d=\"M275,75 L325,75\" stroke=\"darkred\" stroke-width=\"3\" fill=\"none\" />\n",
       "<path d=\"M300,75 L300,82\" stroke=\"black\" stroke-width=\"1\" fill=\"none\" />\n",
       "<path d=\"M290,82 L310,82\" stroke=\"black\" stroke-width=\"1\" fill=\"none\" />\n",
       "<path d=\"M293,84 L307,84\" stroke=\"black\" stroke-width=\"1\" fill=\"none\" />\n",
       "<path d=\"M296,86 L304,86\" stroke=\"black\" stroke-width=\"1\" fill=\"none\" />\n",
       "<path d=\"M299,88 L301,88\" stroke=\"black\" stroke-width=\"1\" fill=\"none\" />\n",
       "<path d=\"M297,72 L303,72 L303,78 L297,78 Z\" stroke=\"black\" fill=\"gray\" stroke-linejoin=\"miter\" />\n",
       "<text x=\"281\" y=\"70\" font-size=\"7\" text-anchor=\"start\">loss=1/10</text>\n",
       "<path d=\"M325,25 L340,25\" stroke-width=\"3\" stroke=\"darkred\" stroke-linejoin=\"miter\" fill=\"none\" />\n",
       "<path d=\"M325,75 L340,75\" stroke-width=\"3\" stroke=\"darkred\" stroke-linejoin=\"miter\" fill=\"none\" />\n",
       "</svg>"
      ],
      "text/plain": [
       "<drawsvg.drawing.Drawing at 0x7f99f8207610>"
      ]
     },
     "execution_count": 5,
     "metadata": {},
     "output_type": "execute_result"
    }
   ],
   "source": [
    "imperfect_HOM = pcvl.Processor(\"SLOS\", 2, source=pcvl.Source(emission_probability=.6, multiphoton_component=.01))\n",
    "\n",
    "imperfect_HOM.add(0, HOM)\n",
    "imperfect_HOM.add(0, pcvl.LC(.1))\n",
    "imperfect_HOM.add(1, pcvl.LC(.1))\n",
    "\n",
    "pcvl.pdisplay(imperfect_HOM)"
   ]
  },
  {
   "cell_type": "code",
   "execution_count": 6,
   "id": "c0c2ee92",
   "metadata": {},
   "outputs": [
    {
     "data": {
      "text/html": [
       "<table>\n",
       "<thead>\n",
       "<tr><th>state  </th><th style=\"text-align: right;\">  probability</th></tr>\n",
       "</thead>\n",
       "<tbody>\n",
       "<tr><td>|0,0&gt;  </td><td style=\"text-align: right;\">  0.532244   </td></tr>\n",
       "<tr><td>|1,0&gt;  </td><td style=\"text-align: right;\">  0.197039   </td></tr>\n",
       "<tr><td>|0,1&gt;  </td><td style=\"text-align: right;\">  0.197039   </td></tr>\n",
       "<tr><td>|2,0&gt;  </td><td style=\"text-align: right;\">  0.036546   </td></tr>\n",
       "<tr><td>|0,2&gt;  </td><td style=\"text-align: right;\">  0.036546   </td></tr>\n",
       "<tr><td>|1,1&gt;  </td><td style=\"text-align: right;\">  0.000387986</td></tr>\n",
       "<tr><td>|3,0&gt;  </td><td style=\"text-align: right;\">  4.9357e-05 </td></tr>\n",
       "<tr><td>|2,1&gt;  </td><td style=\"text-align: right;\">  4.9357e-05 </td></tr>\n",
       "<tr><td>|1,2&gt;  </td><td style=\"text-align: right;\">  4.9357e-05 </td></tr>\n",
       "<tr><td>|0,3&gt;  </td><td style=\"text-align: right;\">  4.9357e-05 </td></tr>\n",
       "</tbody>\n",
       "</table>"
      ],
      "text/plain": [
       "<IPython.core.display.HTML object>"
      ]
     },
     "metadata": {},
     "output_type": "display_data"
    }
   ],
   "source": [
    "imperfect_HOM.with_input(pcvl.BasicState([1, 0]))\n",
    "imperfect_HOM.min_detected_photons_filter(0)\n",
    "\n",
    "imperfect_sampler = pcvl.algorithm.Sampler(imperfect_HOM)\n",
    "output = imperfect_sampler.probs()[\"results\"]\n",
    "\n",
    "pcvl.pdisplay(output)"
   ]
  },
  {
   "cell_type": "markdown",
   "id": "243ad3cc",
   "metadata": {},
   "source": [
    "Now let's compute this using an imperfect source."
   ]
  },
  {
   "cell_type": "code",
   "execution_count": 7,
   "id": "0c454029",
   "metadata": {},
   "outputs": [
    {
     "data": {
      "text/html": [
       "<table>\n",
       "<thead>\n",
       "<tr><th>state  </th><th style=\"text-align: right;\">  probability</th></tr>\n",
       "</thead>\n",
       "<tbody>\n",
       "<tr><td>|0,0&gt;  </td><td style=\"text-align: right;\">  0.532247   </td></tr>\n",
       "<tr><td>|1,0&gt;  </td><td style=\"text-align: right;\">  0.197039   </td></tr>\n",
       "<tr><td>|0,1&gt;  </td><td style=\"text-align: right;\">  0.197039   </td></tr>\n",
       "<tr><td>|2,0&gt;  </td><td style=\"text-align: right;\">  0.036556   </td></tr>\n",
       "<tr><td>|0,2&gt;  </td><td style=\"text-align: right;\">  0.036556   </td></tr>\n",
       "<tr><td>|1,1&gt;  </td><td style=\"text-align: right;\">  0.000366166</td></tr>\n",
       "<tr><td>|3,0&gt;  </td><td style=\"text-align: right;\">  4.93856e-05</td></tr>\n",
       "<tr><td>|2,1&gt;  </td><td style=\"text-align: right;\">  4.93856e-05</td></tr>\n",
       "<tr><td>|1,2&gt;  </td><td style=\"text-align: right;\">  4.93856e-05</td></tr>\n",
       "<tr><td>|0,3&gt;  </td><td style=\"text-align: right;\">  4.93856e-05</td></tr>\n",
       "</tbody>\n",
       "</table>"
      ],
      "text/plain": [
       "<IPython.core.display.HTML object>"
      ]
     },
     "metadata": {},
     "output_type": "display_data"
    }
   ],
   "source": [
    "HOM.source = pcvl.Source(emission_probability=.6, multiphoton_component=.01, losses=.1)\n",
    "# Here it is necessary to call with_input again to recompute the lossy input\n",
    "HOM.with_input(pcvl.BasicState([1, 0]))\n",
    "\n",
    "# No need to redefine the sampler even if the Processor has changed\n",
    "output = sampler.probs()[\"results\"]\n",
    "pcvl.pdisplay(output)"
   ]
  },
  {
   "cell_type": "markdown",
   "id": "17b318fb",
   "metadata": {},
   "source": [
    "We obtain the same distribution, which is what is expected."
   ]
  },
  {
   "cell_type": "markdown",
   "id": "a5dca744",
   "metadata": {},
   "source": [
    "## Playing with processors"
   ]
  },
  {
   "cell_type": "markdown",
   "id": "4848bce2",
   "metadata": {},
   "source": [
    "Naturally, loss channels can have different loss values and be represented at several places of the circuit to represent each component loss, or detectors loss."
   ]
  },
  {
   "cell_type": "code",
   "execution_count": 8,
   "id": "004d10c8",
   "metadata": {},
   "outputs": [
    {
     "data": {
      "image/svg+xml": [
       "<?xml version=\"1.0\" encoding=\"UTF-8\"?>\n",
       "<svg xmlns=\"http://www.w3.org/2000/svg\" xmlns:xlink=\"http://www.w3.org/1999/xlink\"\n",
       "     width=\"687.5\" height=\"156.25\" viewBox=\"-25 0 550 125.0\">\n",
       "<defs>\n",
       "</defs>\n",
       "<path d=\"M10,25 L25,25\" stroke-width=\"3\" stroke=\"darkred\" stroke-linejoin=\"miter\" fill=\"none\" />\n",
       "<path d=\"M10,75 L25,75\" stroke-width=\"3\" stroke=\"darkred\" stroke-linejoin=\"miter\" fill=\"none\" />\n",
       "<path d=\"M25,25 L53,25 L72,44\" stroke=\"darkred\" stroke-width=\"3\" fill=\"none\" />\n",
       "<path d=\"M78,44 L97,25 L125,25\" stroke=\"darkred\" stroke-width=\"3\" fill=\"none\" />\n",
       "<path d=\"M25,75 L53,75 L72,56\" stroke=\"darkred\" stroke-width=\"3\" fill=\"none\" />\n",
       "<path d=\"M78,56 L97,75 L125,75\" stroke=\"darkred\" stroke-width=\"3\" fill=\"none\" />\n",
       "<path d=\"M50,43 L100,43 L100,57 L50,57 Z\" stroke=\"black\" fill=\"black\" stroke-linejoin=\"miter\" />\n",
       "<text x=\"75\" y=\"85\" font-size=\"7\" text-anchor=\"middle\"></text>\n",
       "<text x=\"75\" y=\"26\" font-size=\"7\" text-anchor=\"middle\"></text>\n",
       "<path d=\"M50,43 L100,43 L100,47 L50,47 Z\" stroke=\"black\" fill=\"lightgray\" stroke-linejoin=\"miter\" />\n",
       "<path d=\"M93,50 L103,50 L103,60 L93,60 Z\" stroke=\"black\" fill=\"thistle\" stroke-linejoin=\"miter\" />\n",
       "<text x=\"98\" y=\"57\" font-size=\"6\" text-anchor=\"middle\">Rx</text>\n",
       "<path d=\"M125,25 L175,25\" stroke=\"darkred\" stroke-width=\"3\" fill=\"none\" />\n",
       "<path d=\"M150,25 L150,32\" stroke=\"black\" stroke-width=\"1\" fill=\"none\" />\n",
       "<path d=\"M140,32 L160,32\" stroke=\"black\" stroke-width=\"1\" fill=\"none\" />\n",
       "<path d=\"M143,34 L157,34\" stroke=\"black\" stroke-width=\"1\" fill=\"none\" />\n",
       "<path d=\"M146,36 L154,36\" stroke=\"black\" stroke-width=\"1\" fill=\"none\" />\n",
       "<path d=\"M149,38 L151,38\" stroke=\"black\" stroke-width=\"1\" fill=\"none\" />\n",
       "<path d=\"M147,22 L153,22 L153,28 L147,28 Z\" stroke=\"black\" fill=\"gray\" stroke-linejoin=\"miter\" />\n",
       "<text x=\"131\" y=\"20\" font-size=\"7\" text-anchor=\"start\">loss=1/50</text>\n",
       "<path d=\"M125,75 L175,75\" stroke=\"darkred\" stroke-width=\"3\" fill=\"none\" />\n",
       "<path d=\"M150,75 L150,82\" stroke=\"black\" stroke-width=\"1\" fill=\"none\" />\n",
       "<path d=\"M140,82 L160,82\" stroke=\"black\" stroke-width=\"1\" fill=\"none\" />\n",
       "<path d=\"M143,84 L157,84\" stroke=\"black\" stroke-width=\"1\" fill=\"none\" />\n",
       "<path d=\"M146,86 L154,86\" stroke=\"black\" stroke-width=\"1\" fill=\"none\" />\n",
       "<path d=\"M149,88 L151,88\" stroke=\"black\" stroke-width=\"1\" fill=\"none\" />\n",
       "<path d=\"M147,72 L153,72 L153,78 L147,78 Z\" stroke=\"black\" fill=\"gray\" stroke-linejoin=\"miter\" />\n",
       "<text x=\"131\" y=\"70\" font-size=\"7\" text-anchor=\"start\">loss=1/50</text>\n",
       "<circle cx=\"209\" cy=\"64\" r=\"11\" stroke-width=\"5\" fill=\"none\" stroke=\"white\" />\n",
       "<circle cx=\"209\" cy=\"64\" r=\"11\" stroke-width=\"3\" fill=\"none\" stroke=\"darkred\" />\n",
       "<circle cx=\"200\" cy=\"64\" r=\"11\" stroke-width=\"5\" fill=\"none\" stroke=\"white\" />\n",
       "<circle cx=\"200\" cy=\"64\" r=\"11\" stroke-width=\"3\" fill=\"none\" stroke=\"darkred\" />\n",
       "<circle cx=\"191\" cy=\"64\" r=\"11\" stroke-width=\"5\" fill=\"none\" stroke=\"white\" />\n",
       "<circle cx=\"191\" cy=\"64\" r=\"11\" stroke-width=\"3\" fill=\"none\" stroke=\"darkred\" />\n",
       "<path d=\"M175,75 L194,75\" stroke=\"white\" stroke-width=\"5\" fill=\"none\" />\n",
       "<path d=\"M175,75 L194,75\" stroke=\"darkred\" stroke-width=\"3\" fill=\"none\" />\n",
       "<path d=\"M209,75 L225,75\" stroke=\"white\" stroke-width=\"5\" fill=\"none\" />\n",
       "<path d=\"M207,75 L225,75\" stroke=\"darkred\" stroke-width=\"3\" fill=\"none\" />\n",
       "<text x=\"200\" y=\"88\" font-size=\"7\" text-anchor=\"middle\">t=1</text>\n",
       "<path d=\"M225,75 L275,75\" stroke=\"darkred\" stroke-width=\"3\" fill=\"none\" />\n",
       "<path d=\"M250,75 L250,82\" stroke=\"black\" stroke-width=\"1\" fill=\"none\" />\n",
       "<path d=\"M240,82 L260,82\" stroke=\"black\" stroke-width=\"1\" fill=\"none\" />\n",
       "<path d=\"M243,84 L257,84\" stroke=\"black\" stroke-width=\"1\" fill=\"none\" />\n",
       "<path d=\"M246,86 L254,86\" stroke=\"black\" stroke-width=\"1\" fill=\"none\" />\n",
       "<path d=\"M249,88 L251,88\" stroke=\"black\" stroke-width=\"1\" fill=\"none\" />\n",
       "<path d=\"M247,72 L253,72 L253,78 L247,78 Z\" stroke=\"black\" fill=\"gray\" stroke-linejoin=\"miter\" />\n",
       "<text x=\"231\" y=\"70\" font-size=\"7\" text-anchor=\"start\">loss=0.01</text>\n",
       "<path d=\"M175,25 L275,25\" stroke=\"darkred\" stroke-width=\"3\" fill=\"none\" />\n",
       "<path d=\"M275,25 L303,25 L322,44\" stroke=\"darkred\" stroke-width=\"3\" fill=\"none\" />\n",
       "<path d=\"M328,44 L347,25 L375,25\" stroke=\"darkred\" stroke-width=\"3\" fill=\"none\" />\n",
       "<path d=\"M275,75 L303,75 L322,56\" stroke=\"darkred\" stroke-width=\"3\" fill=\"none\" />\n",
       "<path d=\"M328,56 L347,75 L375,75\" stroke=\"darkred\" stroke-width=\"3\" fill=\"none\" />\n",
       "<path d=\"M300,43 L350,43 L350,57 L300,57 Z\" stroke=\"black\" fill=\"black\" stroke-linejoin=\"miter\" />\n",
       "<text x=\"325\" y=\"85\" font-size=\"7\" text-anchor=\"middle\"></text>\n",
       "<text x=\"325\" y=\"26\" font-size=\"7\" text-anchor=\"middle\"></text>\n",
       "<path d=\"M300,43 L350,43 L350,47 L300,47 Z\" stroke=\"black\" fill=\"lightgray\" stroke-linejoin=\"miter\" />\n",
       "<path d=\"M343,50 L353,50 L353,60 L343,60 Z\" stroke=\"black\" fill=\"thistle\" stroke-linejoin=\"miter\" />\n",
       "<text x=\"348\" y=\"57\" font-size=\"6\" text-anchor=\"middle\">Rx</text>\n",
       "<path d=\"M375,25 L425,25\" stroke=\"darkred\" stroke-width=\"3\" fill=\"none\" />\n",
       "<path d=\"M400,25 L400,32\" stroke=\"black\" stroke-width=\"1\" fill=\"none\" />\n",
       "<path d=\"M390,32 L410,32\" stroke=\"black\" stroke-width=\"1\" fill=\"none\" />\n",
       "<path d=\"M393,34 L407,34\" stroke=\"black\" stroke-width=\"1\" fill=\"none\" />\n",
       "<path d=\"M396,36 L404,36\" stroke=\"black\" stroke-width=\"1\" fill=\"none\" />\n",
       "<path d=\"M399,38 L401,38\" stroke=\"black\" stroke-width=\"1\" fill=\"none\" />\n",
       "<path d=\"M397,22 L403,22 L403,28 L397,28 Z\" stroke=\"black\" fill=\"gray\" stroke-linejoin=\"miter\" />\n",
       "<text x=\"381\" y=\"20\" font-size=\"7\" text-anchor=\"start\">loss=1/50</text>\n",
       "<path d=\"M375,75 L425,75\" stroke=\"darkred\" stroke-width=\"3\" fill=\"none\" />\n",
       "<path d=\"M400,75 L400,82\" stroke=\"black\" stroke-width=\"1\" fill=\"none\" />\n",
       "<path d=\"M390,82 L410,82\" stroke=\"black\" stroke-width=\"1\" fill=\"none\" />\n",
       "<path d=\"M393,84 L407,84\" stroke=\"black\" stroke-width=\"1\" fill=\"none\" />\n",
       "<path d=\"M396,86 L404,86\" stroke=\"black\" stroke-width=\"1\" fill=\"none\" />\n",
       "<path d=\"M399,88 L401,88\" stroke=\"black\" stroke-width=\"1\" fill=\"none\" />\n",
       "<path d=\"M397,72 L403,72 L403,78 L397,78 Z\" stroke=\"black\" fill=\"gray\" stroke-linejoin=\"miter\" />\n",
       "<text x=\"381\" y=\"70\" font-size=\"7\" text-anchor=\"start\">loss=1/50</text>\n",
       "<path d=\"M425,25 L475,25\" stroke=\"darkred\" stroke-width=\"3\" fill=\"none\" />\n",
       "<path d=\"M450,25 L450,32\" stroke=\"black\" stroke-width=\"1\" fill=\"none\" />\n",
       "<path d=\"M440,32 L460,32\" stroke=\"black\" stroke-width=\"1\" fill=\"none\" />\n",
       "<path d=\"M443,34 L457,34\" stroke=\"black\" stroke-width=\"1\" fill=\"none\" />\n",
       "<path d=\"M446,36 L454,36\" stroke=\"black\" stroke-width=\"1\" fill=\"none\" />\n",
       "<path d=\"M449,38 L451,38\" stroke=\"black\" stroke-width=\"1\" fill=\"none\" />\n",
       "<path d=\"M447,22 L453,22 L453,28 L447,28 Z\" stroke=\"black\" fill=\"gray\" stroke-linejoin=\"miter\" />\n",
       "<text x=\"431\" y=\"20\" font-size=\"7\" text-anchor=\"start\">loss=0.03</text>\n",
       "<path d=\"M425,75 L475,75\" stroke=\"darkred\" stroke-width=\"3\" fill=\"none\" />\n",
       "<path d=\"M475,25 L490,25\" stroke-width=\"3\" stroke=\"darkred\" stroke-linejoin=\"miter\" fill=\"none\" />\n",
       "<path d=\"M475,75 L490,75\" stroke-width=\"3\" stroke=\"darkred\" stroke-linejoin=\"miter\" fill=\"none\" />\n",
       "</svg>"
      ],
      "text/plain": [
       "<drawsvg.drawing.Drawing at 0x7f99f820b010>"
      ]
     },
     "execution_count": 8,
     "metadata": {},
     "output_type": "execute_result"
    }
   ],
   "source": [
    "BS_loss = .02\n",
    "TD_loss = .01\n",
    "\n",
    "# Here, the backend name have no importance, as only the backend of the global processor will be used\n",
    "lossy_BS = (pcvl.Processor(\"SLOS\", 2)\n",
    "            .add(0, pcvl.BS())\n",
    "            .add(0, pcvl.LC(BS_loss))\n",
    "            .add(1, pcvl.LC(BS_loss))\n",
    "            )\n",
    "\n",
    "lossy_TD = (pcvl.Processor(\"SLOS\", 1)\n",
    "            .add(0, pcvl.TD(1))\n",
    "            .add(0, pcvl.LC(TD_loss))\n",
    "            )\n",
    "\n",
    "lossy_HOM = (pcvl.Processor(\"SLOS\", 2)\n",
    "             .add(0, lossy_BS)\n",
    "             .add(1, lossy_TD)\n",
    "             .add(0, lossy_BS)\n",
    "             .add(0, pcvl.LC(.03))  # Lossy detector on mode 0\n",
    "             )\n",
    "\n",
    "pcvl.pdisplay(lossy_HOM)"
   ]
  },
  {
   "cell_type": "code",
   "execution_count": 9,
   "id": "ccdb64f9",
   "metadata": {},
   "outputs": [
    {
     "data": {
      "text/html": [
       "<table>\n",
       "<thead>\n",
       "<tr><th>state  </th><th style=\"text-align: right;\">  probability</th></tr>\n",
       "</thead>\n",
       "<tbody>\n",
       "<tr><td>|0,0&gt;  </td><td style=\"text-align: right;\">     0.280276</td></tr>\n",
       "<tr><td>|0,1&gt;  </td><td style=\"text-align: right;\">     0.249513</td></tr>\n",
       "<tr><td>|1,0&gt;  </td><td style=\"text-align: right;\">     0.248671</td></tr>\n",
       "<tr><td>|0,2&gt;  </td><td style=\"text-align: right;\">     0.114143</td></tr>\n",
       "<tr><td>|2,0&gt;  </td><td style=\"text-align: right;\">     0.107397</td></tr>\n",
       "</tbody>\n",
       "</table>"
      ],
      "text/plain": [
       "<IPython.core.display.HTML object>"
      ]
     },
     "metadata": {},
     "output_type": "display_data"
    }
   ],
   "source": [
    "lossy_HOM.with_input(pcvl.BasicState([1, 0]))\n",
    "lossy_HOM.min_detected_photons_filter(0)\n",
    "\n",
    "lossy_sampler = pcvl.algorithm.Sampler(lossy_HOM)\n",
    "output = lossy_sampler.probs()[\"results\"]\n",
    "\n",
    "pcvl.pdisplay(output)"
   ]
  },
  {
   "cell_type": "markdown",
   "id": "61921f94",
   "metadata": {},
   "source": [
    "We can see that the lossy detector gave us non-symmetrical results, with less probability to detect something on mode 0. An interesting fact is that the loss on the time delay does not alter the symmetry of the probabilities, because it is followed by a perfect beam splitter."
   ]
  },
  {
   "cell_type": "markdown",
   "id": "4e6feedb",
   "metadata": {},
   "source": [
    "All functions of the processor remain available. For example, we can add some heralding. Let's take a simpler processor than in the previous case, to make results comparable.\n",
    "\n",
    "First, here is a reminder of the probabilities of the imperfect HOM with a loss of 0.1 on each mode."
   ]
  },
  {
   "cell_type": "code",
   "execution_count": 10,
   "id": "719970e6",
   "metadata": {},
   "outputs": [
    {
     "data": {
      "text/html": [
       "<table>\n",
       "<thead>\n",
       "<tr><th>state  </th><th style=\"text-align: right;\">  probability</th></tr>\n",
       "</thead>\n",
       "<tbody>\n",
       "<tr><td>|0,0&gt;  </td><td style=\"text-align: right;\">  0.532244   </td></tr>\n",
       "<tr><td>|1,0&gt;  </td><td style=\"text-align: right;\">  0.197039   </td></tr>\n",
       "<tr><td>|0,1&gt;  </td><td style=\"text-align: right;\">  0.197039   </td></tr>\n",
       "<tr><td>|2,0&gt;  </td><td style=\"text-align: right;\">  0.036546   </td></tr>\n",
       "<tr><td>|0,2&gt;  </td><td style=\"text-align: right;\">  0.036546   </td></tr>\n",
       "<tr><td>|1,1&gt;  </td><td style=\"text-align: right;\">  0.000387986</td></tr>\n",
       "<tr><td>|3,0&gt;  </td><td style=\"text-align: right;\">  4.9357e-05 </td></tr>\n",
       "<tr><td>|2,1&gt;  </td><td style=\"text-align: right;\">  4.9357e-05 </td></tr>\n",
       "<tr><td>|1,2&gt;  </td><td style=\"text-align: right;\">  4.9357e-05 </td></tr>\n",
       "<tr><td>|0,3&gt;  </td><td style=\"text-align: right;\">  4.9357e-05 </td></tr>\n",
       "</tbody>\n",
       "</table>"
      ],
      "text/plain": [
       "<IPython.core.display.HTML object>"
      ]
     },
     "metadata": {},
     "output_type": "display_data"
    }
   ],
   "source": [
    "output = imperfect_sampler.probs()[\"results\"]\n",
    "\n",
    "pcvl.pdisplay(output)"
   ]
  },
  {
   "cell_type": "markdown",
   "id": "61e168b8",
   "metadata": {},
   "source": [
    "Now we add a 0 herald on mode 1, and we will check that the results are correct."
   ]
  },
  {
   "cell_type": "code",
   "execution_count": 11,
   "id": "a0c398a4",
   "metadata": {},
   "outputs": [
    {
     "data": {
      "image/svg+xml": [
       "<?xml version=\"1.0\" encoding=\"UTF-8\"?>\n",
       "<svg xmlns=\"http://www.w3.org/2000/svg\" xmlns:xlink=\"http://www.w3.org/1999/xlink\"\n",
       "     width=\"536.25\" height=\"156.25\" viewBox=\"-39.0 0 429.0 125.0\">\n",
       "<defs>\n",
       "</defs>\n",
       "<path d=\"M10,25 L25,25\" stroke-width=\"3\" stroke=\"darkred\" stroke-linejoin=\"miter\" fill=\"none\" />\n",
       "<path d=\"M25,25 L53,25 L72,44\" stroke=\"darkred\" stroke-width=\"3\" fill=\"none\" />\n",
       "<path d=\"M78,44 L97,25 L125,25\" stroke=\"darkred\" stroke-width=\"3\" fill=\"none\" />\n",
       "<path d=\"M25,75 L53,75 L72,56\" stroke=\"darkred\" stroke-width=\"3\" fill=\"none\" />\n",
       "<path d=\"M78,56 L97,75 L125,75\" stroke=\"darkred\" stroke-width=\"3\" fill=\"none\" />\n",
       "<path d=\"M50,43 L100,43 L100,57 L50,57 Z\" stroke=\"black\" fill=\"black\" stroke-linejoin=\"miter\" />\n",
       "<text x=\"75\" y=\"85\" font-size=\"7\" text-anchor=\"middle\"></text>\n",
       "<text x=\"75\" y=\"26\" font-size=\"7\" text-anchor=\"middle\"></text>\n",
       "<path d=\"M50,43 L100,43 L100,47 L50,47 Z\" stroke=\"black\" fill=\"lightgray\" stroke-linejoin=\"miter\" />\n",
       "<path d=\"M93,50 L103,50 L103,60 L93,60 Z\" stroke=\"black\" fill=\"thistle\" stroke-linejoin=\"miter\" />\n",
       "<text x=\"98\" y=\"57\" font-size=\"6\" text-anchor=\"middle\">Rx</text>\n",
       "<circle cx=\"159\" cy=\"64\" r=\"11\" stroke-width=\"5\" fill=\"none\" stroke=\"white\" />\n",
       "<circle cx=\"159\" cy=\"64\" r=\"11\" stroke-width=\"3\" fill=\"none\" stroke=\"darkred\" />\n",
       "<circle cx=\"150\" cy=\"64\" r=\"11\" stroke-width=\"5\" fill=\"none\" stroke=\"white\" />\n",
       "<circle cx=\"150\" cy=\"64\" r=\"11\" stroke-width=\"3\" fill=\"none\" stroke=\"darkred\" />\n",
       "<circle cx=\"141\" cy=\"64\" r=\"11\" stroke-width=\"5\" fill=\"none\" stroke=\"white\" />\n",
       "<circle cx=\"141\" cy=\"64\" r=\"11\" stroke-width=\"3\" fill=\"none\" stroke=\"darkred\" />\n",
       "<path d=\"M125,75 L144,75\" stroke=\"white\" stroke-width=\"5\" fill=\"none\" />\n",
       "<path d=\"M125,75 L144,75\" stroke=\"darkred\" stroke-width=\"3\" fill=\"none\" />\n",
       "<path d=\"M159,75 L175,75\" stroke=\"white\" stroke-width=\"5\" fill=\"none\" />\n",
       "<path d=\"M157,75 L175,75\" stroke=\"darkred\" stroke-width=\"3\" fill=\"none\" />\n",
       "<text x=\"150\" y=\"88\" font-size=\"7\" text-anchor=\"middle\">t=1</text>\n",
       "<path d=\"M125,25 L175,25\" stroke=\"darkred\" stroke-width=\"3\" fill=\"none\" />\n",
       "<path d=\"M175,25 L203,25 L222,44\" stroke=\"darkred\" stroke-width=\"3\" fill=\"none\" />\n",
       "<path d=\"M228,44 L247,25 L275,25\" stroke=\"darkred\" stroke-width=\"3\" fill=\"none\" />\n",
       "<path d=\"M175,75 L203,75 L222,56\" stroke=\"darkred\" stroke-width=\"3\" fill=\"none\" />\n",
       "<path d=\"M228,56 L247,75 L275,75\" stroke=\"darkred\" stroke-width=\"3\" fill=\"none\" />\n",
       "<path d=\"M200,43 L250,43 L250,57 L200,57 Z\" stroke=\"black\" fill=\"black\" stroke-linejoin=\"miter\" />\n",
       "<text x=\"225\" y=\"85\" font-size=\"7\" text-anchor=\"middle\"></text>\n",
       "<text x=\"225\" y=\"26\" font-size=\"7\" text-anchor=\"middle\"></text>\n",
       "<path d=\"M200,43 L250,43 L250,47 L200,47 Z\" stroke=\"black\" fill=\"lightgray\" stroke-linejoin=\"miter\" />\n",
       "<path d=\"M243,50 L253,50 L253,60 L243,60 Z\" stroke=\"black\" fill=\"thistle\" stroke-linejoin=\"miter\" />\n",
       "<text x=\"248\" y=\"57\" font-size=\"6\" text-anchor=\"middle\">Rx</text>\n",
       "<path d=\"M275,25 L325,25\" stroke=\"darkred\" stroke-width=\"3\" fill=\"none\" />\n",
       "<path d=\"M300,25 L300,32\" stroke=\"black\" stroke-width=\"1\" fill=\"none\" />\n",
       "<path d=\"M290,32 L310,32\" stroke=\"black\" stroke-width=\"1\" fill=\"none\" />\n",
       "<path d=\"M293,34 L307,34\" stroke=\"black\" stroke-width=\"1\" fill=\"none\" />\n",
       "<path d=\"M296,36 L304,36\" stroke=\"black\" stroke-width=\"1\" fill=\"none\" />\n",
       "<path d=\"M299,38 L301,38\" stroke=\"black\" stroke-width=\"1\" fill=\"none\" />\n",
       "<path d=\"M297,22 L303,22 L303,28 L297,28 Z\" stroke=\"black\" fill=\"gray\" stroke-linejoin=\"miter\" />\n",
       "<text x=\"281\" y=\"20\" font-size=\"7\" text-anchor=\"start\">loss=1/10</text>\n",
       "<path d=\"M275,75 L325,75\" stroke=\"darkred\" stroke-width=\"3\" fill=\"none\" />\n",
       "<path d=\"M300,75 L300,82\" stroke=\"black\" stroke-width=\"1\" fill=\"none\" />\n",
       "<path d=\"M290,82 L310,82\" stroke=\"black\" stroke-width=\"1\" fill=\"none\" />\n",
       "<path d=\"M293,84 L307,84\" stroke=\"black\" stroke-width=\"1\" fill=\"none\" />\n",
       "<path d=\"M296,86 L304,86\" stroke=\"black\" stroke-width=\"1\" fill=\"none\" />\n",
       "<path d=\"M299,88 L301,88\" stroke=\"black\" stroke-width=\"1\" fill=\"none\" />\n",
       "<path d=\"M297,72 L303,72 L303,78 L297,78 Z\" stroke=\"black\" fill=\"gray\" stroke-linejoin=\"miter\" />\n",
       "<text x=\"281\" y=\"70\" font-size=\"7\" text-anchor=\"start\">loss=1/10</text>\n",
       "<path d=\"M325,25 L340,25\" stroke-width=\"3\" stroke=\"darkred\" stroke-linejoin=\"miter\" fill=\"none\" />\n",
       "<path d=\"M325,75 L340,75\" stroke-width=\"3\" stroke=\"darkred\" stroke-linejoin=\"miter\" fill=\"none\" />\n",
       "<path d=\"M7,75 C7,75,7,65,17,65 L25,65 L25,85 L17,85 C7,85,7,75,7,75 L7,75\" stroke-width=\"1\" stroke=\"black\" stroke-linejoin=\"miter\" fill=\"white\" />\n",
       "<text x=\"13\" y=\"91\" font-size=\"6\" text-anchor=\"middle\" font-style=\"italic\">[herald0]</text>\n",
       "<text x=\"17\" y=\"78\" font-size=\"7\" text-anchor=\"middle\">0</text>\n",
       "<path d=\"M333,85 L325,85 L325,65 L333,65 C333,65,343,65,343,75 C343,85,333,85,333,85 L333,85\" stroke-width=\"1\" stroke=\"black\" stroke-linejoin=\"miter\" fill=\"white\" />\n",
       "<text x=\"338\" y=\"91\" font-size=\"6\" text-anchor=\"middle\" font-style=\"italic\">[herald0]</text>\n",
       "<text x=\"333\" y=\"78\" font-size=\"7\" text-anchor=\"middle\">0</text>\n",
       "</svg>"
      ],
      "text/plain": [
       "<drawsvg.drawing.Drawing at 0x7f996c2066e0>"
      ]
     },
     "execution_count": 11,
     "metadata": {},
     "output_type": "execute_result"
    }
   ],
   "source": [
    "imperfect_HOM.add_herald(1, 0)\n",
    "pcvl.pdisplay(imperfect_HOM)"
   ]
  },
  {
   "cell_type": "code",
   "execution_count": 12,
   "id": "5a5b656e",
   "metadata": {},
   "outputs": [
    {
     "name": "stdout",
     "output_type": "stream",
     "text": [
      "expected performance 0.7658787302593201\n"
     ]
    },
    {
     "data": {
      "text/html": [
       "<table>\n",
       "<thead>\n",
       "<tr><th>state  </th><th style=\"text-align: right;\">  probability</th></tr>\n",
       "</thead>\n",
       "<tbody>\n",
       "<tr><td>|0&gt;    </td><td style=\"text-align: right;\">  0.694946   </td></tr>\n",
       "<tr><td>|1&gt;    </td><td style=\"text-align: right;\">  0.257272   </td></tr>\n",
       "<tr><td>|2&gt;    </td><td style=\"text-align: right;\">  0.047718   </td></tr>\n",
       "<tr><td>|3&gt;    </td><td style=\"text-align: right;\">  6.44449e-05</td></tr>\n",
       "</tbody>\n",
       "</table>"
      ],
      "text/plain": [
       "<IPython.core.display.HTML object>"
      ]
     },
     "metadata": {},
     "output_type": "display_data"
    }
   ],
   "source": [
    "expected = pcvl.BSDistribution()\n",
    "expected_perf = 1\n",
    "for state, prob in output.items():\n",
    "    if state[1] == 0:\n",
    "        expected[state[:1]] = prob\n",
    "    else:\n",
    "        expected_perf -= prob\n",
    "\n",
    "print(\"expected performance\", expected_perf)\n",
    "# expected is not normalized here, but its display is\n",
    "pcvl.pdisplay(expected)"
   ]
  },
  {
   "cell_type": "code",
   "execution_count": 13,
   "id": "445c4a1c",
   "metadata": {},
   "outputs": [
    {
     "name": "stdout",
     "output_type": "stream",
     "text": [
      "performance 0.7658787302593197\n"
     ]
    },
    {
     "data": {
      "text/html": [
       "<table>\n",
       "<thead>\n",
       "<tr><th>state  </th><th style=\"text-align: right;\">  probability</th></tr>\n",
       "</thead>\n",
       "<tbody>\n",
       "<tr><td>|0&gt;    </td><td style=\"text-align: right;\">  0.694946   </td></tr>\n",
       "<tr><td>|1&gt;    </td><td style=\"text-align: right;\">  0.257272   </td></tr>\n",
       "<tr><td>|2&gt;    </td><td style=\"text-align: right;\">  0.047718   </td></tr>\n",
       "<tr><td>|3&gt;    </td><td style=\"text-align: right;\">  6.44449e-05</td></tr>\n",
       "</tbody>\n",
       "</table>"
      ],
      "text/plain": [
       "<IPython.core.display.HTML object>"
      ]
     },
     "metadata": {},
     "output_type": "display_data"
    }
   ],
   "source": [
    "output = imperfect_sampler.probs()\n",
    "\n",
    "print(\"performance\", output[\"logical_perf\"])\n",
    "pcvl.pdisplay(output[\"results\"])"
   ]
  },
  {
   "cell_type": "markdown",
   "id": "5b20d839",
   "metadata": {},
   "source": [
    "We obtain the same result in both cases."
   ]
  }
 ],
 "metadata": {
  "language_info": {
   "name": "python"
  }
 },
 "nbformat": 4,
 "nbformat_minor": 5
}
