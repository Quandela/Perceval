{
 "cells": [
  {
   "cell_type": "markdown",
   "id": "3d4fc10a",
   "metadata": {
    "pycharm": {
     "name": "#%% md\n"
    }
   },
   "source": [
    "# Error-tolerant BS-based circuit"
   ]
  },
  {
   "cell_type": "markdown",
   "id": "8cdc5601",
   "metadata": {
    "pycharm": {
     "name": "#%% md\n"
    }
   },
   "source": [
    "In this notebook, we aim  at presenting an alternative form of \"generic\" interferometers using  a BS-based structure as a building block rather than a MZI (Mach-Zehnder interferometer) as a building block. BS-based circuits seem to be more tolerant to manufacturing errors and losses according to Fldzhyan et al. *Optimal design of error-tolerant reprogrammable multiport interferometers*, [Optics Letters](https://doi.org/10.1364/OL.385433), 45(9):2632–2635 (2020)"
   ]
  },
  {
   "cell_type": "markdown",
   "id": "561b1415",
   "metadata": {
    "pycharm": {
     "name": "#%% md\n"
    }
   },
   "source": [
    "## Introduction "
   ]
  },
  {
   "cell_type": "markdown",
   "id": "94227072",
   "metadata": {
    "pycharm": {
     "name": "#%% md\n"
    }
   },
   "source": [
    "### Parameters"
   ]
  },
  {
   "cell_type": "markdown",
   "id": "897a99d7",
   "metadata": {
    "pycharm": {
     "name": "#%% md\n"
    }
   },
   "source": [
    "The goal is to successfully implement a random unitary $U_{target}$ by varying parameters of a fix \"generic\" interferometer $U_{interf}$. For instance, the Reck decomposition [2] has MZI as building block and by varying the angle of variable phase shifts, any unitary can be implemented. However, as we will see, this is only true when the MZI building block have perfect 50:50 beam-splitters which is not realistic in practice due to manufacturing errors. To see this, we will introduce a parameter $\\alpha$ which characterise the error caused by the imbalance of the static BS due to imperfect realisation. And we will investigate how this impacts the correct implementation of any unitary (drawn from the Haar measure) by minimising the infedility (or maximising the fidelity) between the target unitary $U_{target}$ and its implementation $U_{interf}$.\n",
    "We will compare this with the BS-based approach [1]."
   ]
  },
  {
   "cell_type": "markdown",
   "id": "5f57bc2b",
   "metadata": {
    "pycharm": {
     "name": "#%% md\n"
    }
   },
   "source": [
    "#### Initialisation"
   ]
  },
  {
   "cell_type": "code",
   "execution_count": 1,
   "id": "190e653d",
   "metadata": {
    "pycharm": {
     "name": "#%%\n"
    }
   },
   "outputs": [],
   "source": [
    "import datetime\n",
    "import time\n",
    "import numpy as np\n",
    "from scipy.optimize import basinhopping\n",
    "import random\n",
    "import perceval as pcvl\n",
    "import os\n",
    "import math\n",
    "from tqdm.notebook import tqdm_notebook"
   ]
  },
  {
   "cell_type": "markdown",
   "id": "bcd40037",
   "metadata": {
    "pycharm": {
     "name": "#%% md\n"
    }
   },
   "source": [
    "We start by defining all parameters used in the program later on:"
   ]
  },
  {
   "cell_type": "code",
   "execution_count": 2,
   "id": "09dfc317",
   "metadata": {
    "pycharm": {
     "name": "#%%\n"
    }
   },
   "outputs": [],
   "source": [
    "N=5\n",
    "n_try=10\n",
    "n_iter=3\n",
    "n_process=8\n",
    "angle_min=-15\n",
    "angle_max=30\n",
    "angle_step=2\n",
    "n_unitary=300\n",
    "logfilebs='bsbasednotebook-opt'\n",
    "logfilemzi='mzibasednotebook-opt'"
   ]
  },
  {
   "cell_type": "markdown",
   "id": "98d2cc35",
   "metadata": {
    "pycharm": {
     "name": "#%% md\n"
    }
   },
   "source": [
    "## 1. Perceval implementation of the BS-based interferometer"
   ]
  },
  {
   "cell_type": "markdown",
   "id": "e6c9c678",
   "metadata": {
    "pycharm": {
     "name": "#%% md\n"
    }
   },
   "source": [
    "We start by describing the circuit as defined in [1] using `pcvl.Circuit.generic_interferometer()`. The circuit is built with an arrangement of single static beam-splitters with a variable phase shifter on the same leg. It also starts with phase-shifters on each mode at the beginning."
   ]
  },
  {
   "cell_type": "code",
   "execution_count": 3,
   "id": "0081f2c8",
   "metadata": {
    "pycharm": {
     "name": "#%%\n"
    }
   },
   "outputs": [
    {
     "data": {
      "image/svg+xml": [
       "<?xml version=\"1.0\" encoding=\"UTF-8\"?>\n",
       "<svg xmlns=\"http://www.w3.org/2000/svg\" xmlns:xlink=\"http://www.w3.org/1999/xlink\"\n",
       "     width=\"1875.0\" height=\"375.0\" viewBox=\"-28.0 0 1500 300\">\n",
       "<defs>\n",
       "</defs>\n",
       "<path d=\"M10,25 L25,25\" stroke-width=\"3\" stroke=\"darkred\" stroke-linejoin=\"miter\" fill=\"none\" />\n",
       "<path d=\"M10,75 L25,75\" stroke-width=\"3\" stroke=\"darkred\" stroke-linejoin=\"miter\" fill=\"none\" />\n",
       "<path d=\"M10,125 L25,125\" stroke-width=\"3\" stroke=\"darkred\" stroke-linejoin=\"miter\" fill=\"none\" />\n",
       "<path d=\"M10,175 L25,175\" stroke-width=\"3\" stroke=\"darkred\" stroke-linejoin=\"miter\" fill=\"none\" />\n",
       "<path d=\"M10,225 L25,225\" stroke-width=\"3\" stroke=\"darkred\" stroke-linejoin=\"miter\" fill=\"none\" />\n",
       "<path d=\"M25,25 L75,25\" stroke=\"darkred\" stroke-width=\"3\" fill=\"none\" />\n",
       "<path d=\"M30,40 L39,40 L53,10 L44,10 L30,40 L39,40 Z\" stroke=\"black\" fill=\"gray\" stroke-linejoin=\"miter\" />\n",
       "<text x=\"47\" y=\"38\" font-size=\"7\" text-anchor=\"start\" dy=\"0em\">Φ=5.203633</text>\n",
       "<path d=\"M25,75 L75,75\" stroke=\"darkred\" stroke-width=\"3\" fill=\"none\" />\n",
       "<path d=\"M30,90 L39,90 L53,60 L44,60 L30,90 L39,90 Z\" stroke=\"black\" fill=\"gray\" stroke-linejoin=\"miter\" />\n",
       "<text x=\"47\" y=\"88\" font-size=\"7\" text-anchor=\"start\" dy=\"0em\">Φ=2.186042</text>\n",
       "<path d=\"M25,125 L75,125\" stroke=\"darkred\" stroke-width=\"3\" fill=\"none\" />\n",
       "<path d=\"M30,140 L39,140 L53,110 L44,110 L30,140 L39,140 Z\" stroke=\"black\" fill=\"gray\" stroke-linejoin=\"miter\" />\n",
       "<text x=\"47\" y=\"138\" font-size=\"7\" text-anchor=\"start\" dy=\"0em\">Φ=3.701436</text>\n",
       "<path d=\"M25,175 L75,175\" stroke=\"darkred\" stroke-width=\"3\" fill=\"none\" />\n",
       "<path d=\"M30,190 L39,190 L53,160 L44,160 L30,190 L39,190 Z\" stroke=\"black\" fill=\"gray\" stroke-linejoin=\"miter\" />\n",
       "<text x=\"47\" y=\"188\" font-size=\"7\" text-anchor=\"start\" dy=\"0em\">Φ=5.144298</text>\n",
       "<path d=\"M25,225 L75,225\" stroke=\"darkred\" stroke-width=\"3\" fill=\"none\" />\n",
       "<path d=\"M30,240 L39,240 L53,210 L44,210 L30,240 L39,240 Z\" stroke=\"black\" fill=\"gray\" stroke-linejoin=\"miter\" />\n",
       "<text x=\"47\" y=\"238\" font-size=\"7\" text-anchor=\"start\" dy=\"0em\">Φ=2.043351</text>\n",
       "<path d=\"M75,25 L103,25 L122,44\" stroke=\"darkred\" stroke-width=\"3\" fill=\"none\" />\n",
       "<path d=\"M128,44 L147,25 L175,25\" stroke=\"darkred\" stroke-width=\"3\" fill=\"none\" />\n",
       "<path d=\"M75,75 L103,75 L122,56\" stroke=\"darkred\" stroke-width=\"3\" fill=\"none\" />\n",
       "<path d=\"M128,56 L147,75 L175,75\" stroke=\"darkred\" stroke-width=\"3\" fill=\"none\" />\n",
       "<path d=\"M100,43 L150,43 L150,57 L100,57 Z\" stroke=\"black\" fill=\"black\" stroke-linejoin=\"miter\" />\n",
       "<text x=\"125\" y=\"80\" font-size=\"7\" text-anchor=\"middle\" dy=\"0em\"></text>\n",
       "<text x=\"125\" y=\"26\" font-size=\"7\" text-anchor=\"middle\" dy=\"0em\">Θ=theta_0</text>\n",
       "<path d=\"M100,43 L150,43 L150,47 L100,47 Z\" stroke=\"black\" fill=\"lightgray\" stroke-linejoin=\"miter\" />\n",
       "<path d=\"M143,50 L153,50 L153,60 L143,60 Z\" stroke=\"black\" fill=\"thistle\" stroke-linejoin=\"miter\" />\n",
       "<text x=\"148\" y=\"57\" font-size=\"6\" text-anchor=\"middle\" dy=\"0em\">Rx</text>\n",
       "<path d=\"M175,25 L225,25\" stroke=\"darkred\" stroke-width=\"3\" fill=\"none\" />\n",
       "<path d=\"M180,40 L189,40 L203,10 L194,10 L180,40 L189,40 Z\" stroke=\"black\" fill=\"gray\" stroke-linejoin=\"miter\" />\n",
       "<text x=\"197\" y=\"38\" font-size=\"7\" text-anchor=\"start\" dy=\"0em\">Φ=0.312421</text>\n",
       "<path d=\"M75,125 L103,125 L122,144\" stroke=\"darkred\" stroke-width=\"3\" fill=\"none\" />\n",
       "<path d=\"M128,144 L147,125 L175,125\" stroke=\"darkred\" stroke-width=\"3\" fill=\"none\" />\n",
       "<path d=\"M75,175 L103,175 L122,156\" stroke=\"darkred\" stroke-width=\"3\" fill=\"none\" />\n",
       "<path d=\"M128,156 L147,175 L175,175\" stroke=\"darkred\" stroke-width=\"3\" fill=\"none\" />\n",
       "<path d=\"M100,143 L150,143 L150,157 L100,157 Z\" stroke=\"black\" fill=\"black\" stroke-linejoin=\"miter\" />\n",
       "<text x=\"125\" y=\"180\" font-size=\"7\" text-anchor=\"middle\" dy=\"0em\"></text>\n",
       "<text x=\"125\" y=\"126\" font-size=\"7\" text-anchor=\"middle\" dy=\"0em\">Θ=theta_1</text>\n",
       "<path d=\"M100,143 L150,143 L150,147 L100,147 Z\" stroke=\"black\" fill=\"lightgray\" stroke-linejoin=\"miter\" />\n",
       "<path d=\"M143,150 L153,150 L153,160 L143,160 Z\" stroke=\"black\" fill=\"thistle\" stroke-linejoin=\"miter\" />\n",
       "<text x=\"148\" y=\"157\" font-size=\"6\" text-anchor=\"middle\" dy=\"0em\">Rx</text>\n",
       "<path d=\"M175,125 L225,125\" stroke=\"darkred\" stroke-width=\"3\" fill=\"none\" />\n",
       "<path d=\"M180,140 L189,140 L203,110 L194,110 L180,140 L189,140 Z\" stroke=\"black\" fill=\"gray\" stroke-linejoin=\"miter\" />\n",
       "<text x=\"197\" y=\"138\" font-size=\"7\" text-anchor=\"start\" dy=\"0em\">Φ=4.275621</text>\n",
       "<path d=\"M175,75 L225,75\" stroke=\"darkred\" stroke-width=\"3\" fill=\"none\" />\n",
       "<path d=\"M225,75 L253,75 L272,94\" stroke=\"darkred\" stroke-width=\"3\" fill=\"none\" />\n",
       "<path d=\"M278,94 L297,75 L325,75\" stroke=\"darkred\" stroke-width=\"3\" fill=\"none\" />\n",
       "<path d=\"M225,125 L253,125 L272,106\" stroke=\"darkred\" stroke-width=\"3\" fill=\"none\" />\n",
       "<path d=\"M278,106 L297,125 L325,125\" stroke=\"darkred\" stroke-width=\"3\" fill=\"none\" />\n",
       "<path d=\"M250,93 L300,93 L300,107 L250,107 Z\" stroke=\"black\" fill=\"black\" stroke-linejoin=\"miter\" />\n",
       "<text x=\"275\" y=\"130\" font-size=\"7\" text-anchor=\"middle\" dy=\"0em\"></text>\n",
       "<text x=\"275\" y=\"76\" font-size=\"7\" text-anchor=\"middle\" dy=\"0em\">Θ=theta_2</text>\n",
       "<path d=\"M250,93 L300,93 L300,97 L250,97 Z\" stroke=\"black\" fill=\"lightgray\" stroke-linejoin=\"miter\" />\n",
       "<path d=\"M293,100 L303,100 L303,110 L293,110 Z\" stroke=\"black\" fill=\"thistle\" stroke-linejoin=\"miter\" />\n",
       "<text x=\"298\" y=\"107\" font-size=\"6\" text-anchor=\"middle\" dy=\"0em\">Rx</text>\n",
       "<path d=\"M325,75 L375,75\" stroke=\"darkred\" stroke-width=\"3\" fill=\"none\" />\n",
       "<path d=\"M330,90 L339,90 L353,60 L344,60 L330,90 L339,90 Z\" stroke=\"black\" fill=\"gray\" stroke-linejoin=\"miter\" />\n",
       "<text x=\"347\" y=\"88\" font-size=\"7\" text-anchor=\"start\" dy=\"0em\">Φ=5.467525</text>\n",
       "<path d=\"M75,225 L175,225\" stroke=\"darkred\" stroke-width=\"3\" fill=\"none\" />\n",
       "<path d=\"M175,175 L203,175 L222,194\" stroke=\"darkred\" stroke-width=\"3\" fill=\"none\" />\n",
       "<path d=\"M228,194 L247,175 L275,175\" stroke=\"darkred\" stroke-width=\"3\" fill=\"none\" />\n",
       "<path d=\"M175,225 L203,225 L222,206\" stroke=\"darkred\" stroke-width=\"3\" fill=\"none\" />\n",
       "<path d=\"M228,206 L247,225 L275,225\" stroke=\"darkred\" stroke-width=\"3\" fill=\"none\" />\n",
       "<path d=\"M200,193 L250,193 L250,207 L200,207 Z\" stroke=\"black\" fill=\"black\" stroke-linejoin=\"miter\" />\n",
       "<text x=\"225\" y=\"230\" font-size=\"7\" text-anchor=\"middle\" dy=\"0em\"></text>\n",
       "<text x=\"225\" y=\"176\" font-size=\"7\" text-anchor=\"middle\" dy=\"0em\">Θ=theta_3</text>\n",
       "<path d=\"M200,193 L250,193 L250,197 L200,197 Z\" stroke=\"black\" fill=\"lightgray\" stroke-linejoin=\"miter\" />\n",
       "<path d=\"M243,200 L253,200 L253,210 L243,210 Z\" stroke=\"black\" fill=\"thistle\" stroke-linejoin=\"miter\" />\n",
       "<text x=\"248\" y=\"207\" font-size=\"6\" text-anchor=\"middle\" dy=\"0em\">Rx</text>\n",
       "<path d=\"M275,175 L325,175\" stroke=\"darkred\" stroke-width=\"3\" fill=\"none\" />\n",
       "<path d=\"M280,190 L289,190 L303,160 L294,160 L280,190 L289,190 Z\" stroke=\"black\" fill=\"gray\" stroke-linejoin=\"miter\" />\n",
       "<text x=\"297\" y=\"188\" font-size=\"7\" text-anchor=\"start\" dy=\"0em\">Φ=5.951043</text>\n",
       "<path d=\"M225,25 L375,25\" stroke=\"darkred\" stroke-width=\"3\" fill=\"none\" />\n",
       "<path d=\"M375,25 L403,25 L422,44\" stroke=\"darkred\" stroke-width=\"3\" fill=\"none\" />\n",
       "<path d=\"M428,44 L447,25 L475,25\" stroke=\"darkred\" stroke-width=\"3\" fill=\"none\" />\n",
       "<path d=\"M375,75 L403,75 L422,56\" stroke=\"darkred\" stroke-width=\"3\" fill=\"none\" />\n",
       "<path d=\"M428,56 L447,75 L475,75\" stroke=\"darkred\" stroke-width=\"3\" fill=\"none\" />\n",
       "<path d=\"M400,43 L450,43 L450,57 L400,57 Z\" stroke=\"black\" fill=\"black\" stroke-linejoin=\"miter\" />\n",
       "<text x=\"425\" y=\"80\" font-size=\"7\" text-anchor=\"middle\" dy=\"0em\"></text>\n",
       "<text x=\"425\" y=\"26\" font-size=\"7\" text-anchor=\"middle\" dy=\"0em\">Θ=theta_4</text>\n",
       "<path d=\"M400,43 L450,43 L450,47 L400,47 Z\" stroke=\"black\" fill=\"lightgray\" stroke-linejoin=\"miter\" />\n",
       "<path d=\"M443,50 L453,50 L453,60 L443,60 Z\" stroke=\"black\" fill=\"thistle\" stroke-linejoin=\"miter\" />\n",
       "<text x=\"448\" y=\"57\" font-size=\"6\" text-anchor=\"middle\" dy=\"0em\">Rx</text>\n",
       "<path d=\"M475,25 L525,25\" stroke=\"darkred\" stroke-width=\"3\" fill=\"none\" />\n",
       "<path d=\"M480,40 L489,40 L503,10 L494,10 L480,40 L489,40 Z\" stroke=\"black\" fill=\"gray\" stroke-linejoin=\"miter\" />\n",
       "<text x=\"497\" y=\"38\" font-size=\"7\" text-anchor=\"start\" dy=\"0em\">Φ=6.250181</text>\n",
       "<path d=\"M325,125 L353,125 L372,144\" stroke=\"darkred\" stroke-width=\"3\" fill=\"none\" />\n",
       "<path d=\"M378,144 L397,125 L425,125\" stroke=\"darkred\" stroke-width=\"3\" fill=\"none\" />\n",
       "<path d=\"M325,175 L353,175 L372,156\" stroke=\"darkred\" stroke-width=\"3\" fill=\"none\" />\n",
       "<path d=\"M378,156 L397,175 L425,175\" stroke=\"darkred\" stroke-width=\"3\" fill=\"none\" />\n",
       "<path d=\"M350,143 L400,143 L400,157 L350,157 Z\" stroke=\"black\" fill=\"black\" stroke-linejoin=\"miter\" />\n",
       "<text x=\"375\" y=\"180\" font-size=\"7\" text-anchor=\"middle\" dy=\"0em\"></text>\n",
       "<text x=\"375\" y=\"126\" font-size=\"7\" text-anchor=\"middle\" dy=\"0em\">Θ=theta_5</text>\n",
       "<path d=\"M350,143 L400,143 L400,147 L350,147 Z\" stroke=\"black\" fill=\"lightgray\" stroke-linejoin=\"miter\" />\n",
       "<path d=\"M393,150 L403,150 L403,160 L393,160 Z\" stroke=\"black\" fill=\"thistle\" stroke-linejoin=\"miter\" />\n",
       "<text x=\"398\" y=\"157\" font-size=\"6\" text-anchor=\"middle\" dy=\"0em\">Rx</text>\n",
       "<path d=\"M425,125 L475,125\" stroke=\"darkred\" stroke-width=\"3\" fill=\"none\" />\n",
       "<path d=\"M430,140 L439,140 L453,110 L444,110 L430,140 L439,140 Z\" stroke=\"black\" fill=\"gray\" stroke-linejoin=\"miter\" />\n",
       "<text x=\"447\" y=\"138\" font-size=\"7\" text-anchor=\"start\" dy=\"0em\">Φ=5.125252</text>\n",
       "<path d=\"M475,75 L503,75 L522,94\" stroke=\"darkred\" stroke-width=\"3\" fill=\"none\" />\n",
       "<path d=\"M528,94 L547,75 L575,75\" stroke=\"darkred\" stroke-width=\"3\" fill=\"none\" />\n",
       "<path d=\"M475,125 L503,125 L522,106\" stroke=\"darkred\" stroke-width=\"3\" fill=\"none\" />\n",
       "<path d=\"M528,106 L547,125 L575,125\" stroke=\"darkred\" stroke-width=\"3\" fill=\"none\" />\n",
       "<path d=\"M500,93 L550,93 L550,107 L500,107 Z\" stroke=\"black\" fill=\"black\" stroke-linejoin=\"miter\" />\n",
       "<text x=\"525\" y=\"130\" font-size=\"7\" text-anchor=\"middle\" dy=\"0em\"></text>\n",
       "<text x=\"525\" y=\"76\" font-size=\"7\" text-anchor=\"middle\" dy=\"0em\">Θ=theta_6</text>\n",
       "<path d=\"M500,93 L550,93 L550,97 L500,97 Z\" stroke=\"black\" fill=\"lightgray\" stroke-linejoin=\"miter\" />\n",
       "<path d=\"M543,100 L553,100 L553,110 L543,110 Z\" stroke=\"black\" fill=\"thistle\" stroke-linejoin=\"miter\" />\n",
       "<text x=\"548\" y=\"107\" font-size=\"6\" text-anchor=\"middle\" dy=\"0em\">Rx</text>\n",
       "<path d=\"M575,75 L625,75\" stroke=\"darkred\" stroke-width=\"3\" fill=\"none\" />\n",
       "<path d=\"M580,90 L589,90 L603,60 L594,60 L580,90 L589,90 Z\" stroke=\"black\" fill=\"gray\" stroke-linejoin=\"miter\" />\n",
       "<text x=\"597\" y=\"88\" font-size=\"7\" text-anchor=\"start\" dy=\"0em\">Φ=5.539863</text>\n",
       "<path d=\"M275,225 L425,225\" stroke=\"darkred\" stroke-width=\"3\" fill=\"none\" />\n",
       "<path d=\"M425,175 L453,175 L472,194\" stroke=\"darkred\" stroke-width=\"3\" fill=\"none\" />\n",
       "<path d=\"M478,194 L497,175 L525,175\" stroke=\"darkred\" stroke-width=\"3\" fill=\"none\" />\n",
       "<path d=\"M425,225 L453,225 L472,206\" stroke=\"darkred\" stroke-width=\"3\" fill=\"none\" />\n",
       "<path d=\"M478,206 L497,225 L525,225\" stroke=\"darkred\" stroke-width=\"3\" fill=\"none\" />\n",
       "<path d=\"M450,193 L500,193 L500,207 L450,207 Z\" stroke=\"black\" fill=\"black\" stroke-linejoin=\"miter\" />\n",
       "<text x=\"475\" y=\"230\" font-size=\"7\" text-anchor=\"middle\" dy=\"0em\"></text>\n",
       "<text x=\"475\" y=\"176\" font-size=\"7\" text-anchor=\"middle\" dy=\"0em\">Θ=theta_7</text>\n",
       "<path d=\"M450,193 L500,193 L500,197 L450,197 Z\" stroke=\"black\" fill=\"lightgray\" stroke-linejoin=\"miter\" />\n",
       "<path d=\"M493,200 L503,200 L503,210 L493,210 Z\" stroke=\"black\" fill=\"thistle\" stroke-linejoin=\"miter\" />\n",
       "<text x=\"498\" y=\"207\" font-size=\"6\" text-anchor=\"middle\" dy=\"0em\">Rx</text>\n",
       "<path d=\"M525,175 L575,175\" stroke=\"darkred\" stroke-width=\"3\" fill=\"none\" />\n",
       "<path d=\"M530,190 L539,190 L553,160 L544,160 L530,190 L539,190 Z\" stroke=\"black\" fill=\"gray\" stroke-linejoin=\"miter\" />\n",
       "<text x=\"547\" y=\"188\" font-size=\"7\" text-anchor=\"start\" dy=\"0em\">Φ=79*sqrt(6)/56</text>\n",
       "<path d=\"M525,25 L625,25\" stroke=\"darkred\" stroke-width=\"3\" fill=\"none\" />\n",
       "<path d=\"M625,25 L653,25 L672,44\" stroke=\"darkred\" stroke-width=\"3\" fill=\"none\" />\n",
       "<path d=\"M678,44 L697,25 L725,25\" stroke=\"darkred\" stroke-width=\"3\" fill=\"none\" />\n",
       "<path d=\"M625,75 L653,75 L672,56\" stroke=\"darkred\" stroke-width=\"3\" fill=\"none\" />\n",
       "<path d=\"M678,56 L697,75 L725,75\" stroke=\"darkred\" stroke-width=\"3\" fill=\"none\" />\n",
       "<path d=\"M650,43 L700,43 L700,57 L650,57 Z\" stroke=\"black\" fill=\"black\" stroke-linejoin=\"miter\" />\n",
       "<text x=\"675\" y=\"80\" font-size=\"7\" text-anchor=\"middle\" dy=\"0em\"></text>\n",
       "<text x=\"675\" y=\"26\" font-size=\"7\" text-anchor=\"middle\" dy=\"0em\">Θ=theta_8</text>\n",
       "<path d=\"M650,43 L700,43 L700,47 L650,47 Z\" stroke=\"black\" fill=\"lightgray\" stroke-linejoin=\"miter\" />\n",
       "<path d=\"M693,50 L703,50 L703,60 L693,60 Z\" stroke=\"black\" fill=\"thistle\" stroke-linejoin=\"miter\" />\n",
       "<text x=\"698\" y=\"57\" font-size=\"6\" text-anchor=\"middle\" dy=\"0em\">Rx</text>\n",
       "<path d=\"M725,25 L775,25\" stroke=\"darkred\" stroke-width=\"3\" fill=\"none\" />\n",
       "<path d=\"M730,40 L739,40 L753,10 L744,10 L730,40 L739,40 Z\" stroke=\"black\" fill=\"gray\" stroke-linejoin=\"miter\" />\n",
       "<text x=\"747\" y=\"38\" font-size=\"7\" text-anchor=\"start\" dy=\"0em\">Φ=3.652463</text>\n",
       "<path d=\"M575,125 L603,125 L622,144\" stroke=\"darkred\" stroke-width=\"3\" fill=\"none\" />\n",
       "<path d=\"M628,144 L647,125 L675,125\" stroke=\"darkred\" stroke-width=\"3\" fill=\"none\" />\n",
       "<path d=\"M575,175 L603,175 L622,156\" stroke=\"darkred\" stroke-width=\"3\" fill=\"none\" />\n",
       "<path d=\"M628,156 L647,175 L675,175\" stroke=\"darkred\" stroke-width=\"3\" fill=\"none\" />\n",
       "<path d=\"M600,143 L650,143 L650,157 L600,157 Z\" stroke=\"black\" fill=\"black\" stroke-linejoin=\"miter\" />\n",
       "<text x=\"625\" y=\"180\" font-size=\"7\" text-anchor=\"middle\" dy=\"0em\"></text>\n",
       "<text x=\"625\" y=\"126\" font-size=\"7\" text-anchor=\"middle\" dy=\"0em\">Θ=theta_9</text>\n",
       "<path d=\"M600,143 L650,143 L650,147 L600,147 Z\" stroke=\"black\" fill=\"lightgray\" stroke-linejoin=\"miter\" />\n",
       "<path d=\"M643,150 L653,150 L653,160 L643,160 Z\" stroke=\"black\" fill=\"thistle\" stroke-linejoin=\"miter\" />\n",
       "<text x=\"648\" y=\"157\" font-size=\"6\" text-anchor=\"middle\" dy=\"0em\">Rx</text>\n",
       "<path d=\"M675,125 L725,125\" stroke=\"darkred\" stroke-width=\"3\" fill=\"none\" />\n",
       "<path d=\"M680,140 L689,140 L703,110 L694,110 L680,140 L689,140 Z\" stroke=\"black\" fill=\"gray\" stroke-linejoin=\"miter\" />\n",
       "<text x=\"697\" y=\"138\" font-size=\"7\" text-anchor=\"start\" dy=\"0em\">Φ=5.068484</text>\n",
       "<path d=\"M725,75 L753,75 L772,94\" stroke=\"darkred\" stroke-width=\"3\" fill=\"none\" />\n",
       "<path d=\"M778,94 L797,75 L825,75\" stroke=\"darkred\" stroke-width=\"3\" fill=\"none\" />\n",
       "<path d=\"M725,125 L753,125 L772,106\" stroke=\"darkred\" stroke-width=\"3\" fill=\"none\" />\n",
       "<path d=\"M778,106 L797,125 L825,125\" stroke=\"darkred\" stroke-width=\"3\" fill=\"none\" />\n",
       "<path d=\"M750,93 L800,93 L800,107 L750,107 Z\" stroke=\"black\" fill=\"black\" stroke-linejoin=\"miter\" />\n",
       "<text x=\"775\" y=\"130\" font-size=\"7\" text-anchor=\"middle\" dy=\"0em\"></text>\n",
       "<text x=\"775\" y=\"76\" font-size=\"7\" text-anchor=\"middle\" dy=\"0em\">Θ=theta_10</text>\n",
       "<path d=\"M750,93 L800,93 L800,97 L750,97 Z\" stroke=\"black\" fill=\"lightgray\" stroke-linejoin=\"miter\" />\n",
       "<path d=\"M793,100 L803,100 L803,110 L793,110 Z\" stroke=\"black\" fill=\"thistle\" stroke-linejoin=\"miter\" />\n",
       "<text x=\"798\" y=\"107\" font-size=\"6\" text-anchor=\"middle\" dy=\"0em\">Rx</text>\n",
       "<path d=\"M825,75 L875,75\" stroke=\"darkred\" stroke-width=\"3\" fill=\"none\" />\n",
       "<path d=\"M830,90 L839,90 L853,60 L844,60 L830,90 L839,90 Z\" stroke=\"black\" fill=\"gray\" stroke-linejoin=\"miter\" />\n",
       "<text x=\"847\" y=\"88\" font-size=\"7\" text-anchor=\"start\" dy=\"0em\">Φ=0.276417</text>\n",
       "<path d=\"M525,225 L675,225\" stroke=\"darkred\" stroke-width=\"3\" fill=\"none\" />\n",
       "<path d=\"M675,175 L703,175 L722,194\" stroke=\"darkred\" stroke-width=\"3\" fill=\"none\" />\n",
       "<path d=\"M728,194 L747,175 L775,175\" stroke=\"darkred\" stroke-width=\"3\" fill=\"none\" />\n",
       "<path d=\"M675,225 L703,225 L722,206\" stroke=\"darkred\" stroke-width=\"3\" fill=\"none\" />\n",
       "<path d=\"M728,206 L747,225 L775,225\" stroke=\"darkred\" stroke-width=\"3\" fill=\"none\" />\n",
       "<path d=\"M700,193 L750,193 L750,207 L700,207 Z\" stroke=\"black\" fill=\"black\" stroke-linejoin=\"miter\" />\n",
       "<text x=\"725\" y=\"230\" font-size=\"7\" text-anchor=\"middle\" dy=\"0em\"></text>\n",
       "<text x=\"725\" y=\"176\" font-size=\"7\" text-anchor=\"middle\" dy=\"0em\">Θ=theta_11</text>\n",
       "<path d=\"M700,193 L750,193 L750,197 L700,197 Z\" stroke=\"black\" fill=\"lightgray\" stroke-linejoin=\"miter\" />\n",
       "<path d=\"M743,200 L753,200 L753,210 L743,210 Z\" stroke=\"black\" fill=\"thistle\" stroke-linejoin=\"miter\" />\n",
       "<text x=\"748\" y=\"207\" font-size=\"6\" text-anchor=\"middle\" dy=\"0em\">Rx</text>\n",
       "<path d=\"M775,175 L825,175\" stroke=\"darkred\" stroke-width=\"3\" fill=\"none\" />\n",
       "<path d=\"M780,190 L789,190 L803,160 L794,160 L780,190 L789,190 Z\" stroke=\"black\" fill=\"gray\" stroke-linejoin=\"miter\" />\n",
       "<text x=\"797\" y=\"188\" font-size=\"7\" text-anchor=\"start\" dy=\"0em\">Φ=1.21829</text>\n",
       "<path d=\"M775,25 L875,25\" stroke=\"darkred\" stroke-width=\"3\" fill=\"none\" />\n",
       "<path d=\"M875,25 L903,25 L922,44\" stroke=\"darkred\" stroke-width=\"3\" fill=\"none\" />\n",
       "<path d=\"M928,44 L947,25 L975,25\" stroke=\"darkred\" stroke-width=\"3\" fill=\"none\" />\n",
       "<path d=\"M875,75 L903,75 L922,56\" stroke=\"darkred\" stroke-width=\"3\" fill=\"none\" />\n",
       "<path d=\"M928,56 L947,75 L975,75\" stroke=\"darkred\" stroke-width=\"3\" fill=\"none\" />\n",
       "<path d=\"M900,43 L950,43 L950,57 L900,57 Z\" stroke=\"black\" fill=\"black\" stroke-linejoin=\"miter\" />\n",
       "<text x=\"925\" y=\"80\" font-size=\"7\" text-anchor=\"middle\" dy=\"0em\"></text>\n",
       "<text x=\"925\" y=\"26\" font-size=\"7\" text-anchor=\"middle\" dy=\"0em\">Θ=theta_12</text>\n",
       "<path d=\"M900,43 L950,43 L950,47 L900,47 Z\" stroke=\"black\" fill=\"lightgray\" stroke-linejoin=\"miter\" />\n",
       "<path d=\"M943,50 L953,50 L953,60 L943,60 Z\" stroke=\"black\" fill=\"thistle\" stroke-linejoin=\"miter\" />\n",
       "<text x=\"948\" y=\"57\" font-size=\"6\" text-anchor=\"middle\" dy=\"0em\">Rx</text>\n",
       "<path d=\"M975,25 L1025,25\" stroke=\"darkred\" stroke-width=\"3\" fill=\"none\" />\n",
       "<path d=\"M980,40 L989,40 L1003,10 L994,10 L980,40 L989,40 Z\" stroke=\"black\" fill=\"gray\" stroke-linejoin=\"miter\" />\n",
       "<text x=\"997\" y=\"38\" font-size=\"7\" text-anchor=\"start\" dy=\"0em\">Φ=6.083</text>\n",
       "<path d=\"M825,125 L853,125 L872,144\" stroke=\"darkred\" stroke-width=\"3\" fill=\"none\" />\n",
       "<path d=\"M878,144 L897,125 L925,125\" stroke=\"darkred\" stroke-width=\"3\" fill=\"none\" />\n",
       "<path d=\"M825,175 L853,175 L872,156\" stroke=\"darkred\" stroke-width=\"3\" fill=\"none\" />\n",
       "<path d=\"M878,156 L897,175 L925,175\" stroke=\"darkred\" stroke-width=\"3\" fill=\"none\" />\n",
       "<path d=\"M850,143 L900,143 L900,157 L850,157 Z\" stroke=\"black\" fill=\"black\" stroke-linejoin=\"miter\" />\n",
       "<text x=\"875\" y=\"180\" font-size=\"7\" text-anchor=\"middle\" dy=\"0em\"></text>\n",
       "<text x=\"875\" y=\"126\" font-size=\"7\" text-anchor=\"middle\" dy=\"0em\">Θ=theta_13</text>\n",
       "<path d=\"M850,143 L900,143 L900,147 L850,147 Z\" stroke=\"black\" fill=\"lightgray\" stroke-linejoin=\"miter\" />\n",
       "<path d=\"M893,150 L903,150 L903,160 L893,160 Z\" stroke=\"black\" fill=\"thistle\" stroke-linejoin=\"miter\" />\n",
       "<text x=\"898\" y=\"157\" font-size=\"6\" text-anchor=\"middle\" dy=\"0em\">Rx</text>\n",
       "<path d=\"M925,125 L975,125\" stroke=\"darkred\" stroke-width=\"3\" fill=\"none\" />\n",
       "<path d=\"M930,140 L939,140 L953,110 L944,110 L930,140 L939,140 Z\" stroke=\"black\" fill=\"gray\" stroke-linejoin=\"miter\" />\n",
       "<text x=\"947\" y=\"138\" font-size=\"7\" text-anchor=\"start\" dy=\"0em\">Φ=4.397849</text>\n",
       "<path d=\"M975,75 L1003,75 L1022,94\" stroke=\"darkred\" stroke-width=\"3\" fill=\"none\" />\n",
       "<path d=\"M1028,94 L1047,75 L1075,75\" stroke=\"darkred\" stroke-width=\"3\" fill=\"none\" />\n",
       "<path d=\"M975,125 L1003,125 L1022,106\" stroke=\"darkred\" stroke-width=\"3\" fill=\"none\" />\n",
       "<path d=\"M1028,106 L1047,125 L1075,125\" stroke=\"darkred\" stroke-width=\"3\" fill=\"none\" />\n",
       "<path d=\"M1000,93 L1050,93 L1050,107 L1000,107 Z\" stroke=\"black\" fill=\"black\" stroke-linejoin=\"miter\" />\n",
       "<text x=\"1025\" y=\"130\" font-size=\"7\" text-anchor=\"middle\" dy=\"0em\"></text>\n",
       "<text x=\"1025\" y=\"76\" font-size=\"7\" text-anchor=\"middle\" dy=\"0em\">Θ=theta_14</text>\n",
       "<path d=\"M1000,93 L1050,93 L1050,97 L1000,97 Z\" stroke=\"black\" fill=\"lightgray\" stroke-linejoin=\"miter\" />\n",
       "<path d=\"M1043,100 L1053,100 L1053,110 L1043,110 Z\" stroke=\"black\" fill=\"thistle\" stroke-linejoin=\"miter\" />\n",
       "<text x=\"1048\" y=\"107\" font-size=\"6\" text-anchor=\"middle\" dy=\"0em\">Rx</text>\n",
       "<path d=\"M1075,75 L1125,75\" stroke=\"darkred\" stroke-width=\"3\" fill=\"none\" />\n",
       "<path d=\"M1080,90 L1089,90 L1103,60 L1094,60 L1080,90 L1089,90 Z\" stroke=\"black\" fill=\"gray\" stroke-linejoin=\"miter\" />\n",
       "<text x=\"1097\" y=\"88\" font-size=\"7\" text-anchor=\"start\" dy=\"0em\">Φ=0.179792</text>\n",
       "<path d=\"M775,225 L925,225\" stroke=\"darkred\" stroke-width=\"3\" fill=\"none\" />\n",
       "<path d=\"M925,175 L953,175 L972,194\" stroke=\"darkred\" stroke-width=\"3\" fill=\"none\" />\n",
       "<path d=\"M978,194 L997,175 L1025,175\" stroke=\"darkred\" stroke-width=\"3\" fill=\"none\" />\n",
       "<path d=\"M925,225 L953,225 L972,206\" stroke=\"darkred\" stroke-width=\"3\" fill=\"none\" />\n",
       "<path d=\"M978,206 L997,225 L1025,225\" stroke=\"darkred\" stroke-width=\"3\" fill=\"none\" />\n",
       "<path d=\"M950,193 L1000,193 L1000,207 L950,207 Z\" stroke=\"black\" fill=\"black\" stroke-linejoin=\"miter\" />\n",
       "<text x=\"975\" y=\"230\" font-size=\"7\" text-anchor=\"middle\" dy=\"0em\"></text>\n",
       "<text x=\"975\" y=\"176\" font-size=\"7\" text-anchor=\"middle\" dy=\"0em\">Θ=theta_15</text>\n",
       "<path d=\"M950,193 L1000,193 L1000,197 L950,197 Z\" stroke=\"black\" fill=\"lightgray\" stroke-linejoin=\"miter\" />\n",
       "<path d=\"M993,200 L1003,200 L1003,210 L993,210 Z\" stroke=\"black\" fill=\"thistle\" stroke-linejoin=\"miter\" />\n",
       "<text x=\"998\" y=\"207\" font-size=\"6\" text-anchor=\"middle\" dy=\"0em\">Rx</text>\n",
       "<path d=\"M1025,175 L1075,175\" stroke=\"darkred\" stroke-width=\"3\" fill=\"none\" />\n",
       "<path d=\"M1030,190 L1039,190 L1053,160 L1044,160 L1030,190 L1039,190 Z\" stroke=\"black\" fill=\"gray\" stroke-linejoin=\"miter\" />\n",
       "<text x=\"1047\" y=\"188\" font-size=\"7\" text-anchor=\"start\" dy=\"0em\">Φ=3.728295</text>\n",
       "<path d=\"M1025,25 L1125,25\" stroke=\"darkred\" stroke-width=\"3\" fill=\"none\" />\n",
       "<path d=\"M1125,25 L1153,25 L1172,44\" stroke=\"darkred\" stroke-width=\"3\" fill=\"none\" />\n",
       "<path d=\"M1178,44 L1197,25 L1225,25\" stroke=\"darkred\" stroke-width=\"3\" fill=\"none\" />\n",
       "<path d=\"M1125,75 L1153,75 L1172,56\" stroke=\"darkred\" stroke-width=\"3\" fill=\"none\" />\n",
       "<path d=\"M1178,56 L1197,75 L1225,75\" stroke=\"darkred\" stroke-width=\"3\" fill=\"none\" />\n",
       "<path d=\"M1150,43 L1200,43 L1200,57 L1150,57 Z\" stroke=\"black\" fill=\"black\" stroke-linejoin=\"miter\" />\n",
       "<text x=\"1175\" y=\"80\" font-size=\"7\" text-anchor=\"middle\" dy=\"0em\"></text>\n",
       "<text x=\"1175\" y=\"26\" font-size=\"7\" text-anchor=\"middle\" dy=\"0em\">Θ=theta_16</text>\n",
       "<path d=\"M1150,43 L1200,43 L1200,47 L1150,47 Z\" stroke=\"black\" fill=\"lightgray\" stroke-linejoin=\"miter\" />\n",
       "<path d=\"M1193,50 L1203,50 L1203,60 L1193,60 Z\" stroke=\"black\" fill=\"thistle\" stroke-linejoin=\"miter\" />\n",
       "<text x=\"1198\" y=\"57\" font-size=\"6\" text-anchor=\"middle\" dy=\"0em\">Rx</text>\n",
       "<path d=\"M1225,25 L1275,25\" stroke=\"darkred\" stroke-width=\"3\" fill=\"none\" />\n",
       "<path d=\"M1230,40 L1239,40 L1253,10 L1244,10 L1230,40 L1239,40 Z\" stroke=\"black\" fill=\"gray\" stroke-linejoin=\"miter\" />\n",
       "<text x=\"1247\" y=\"38\" font-size=\"7\" text-anchor=\"start\" dy=\"0em\">Φ=5.187708</text>\n",
       "<path d=\"M1075,125 L1103,125 L1122,144\" stroke=\"darkred\" stroke-width=\"3\" fill=\"none\" />\n",
       "<path d=\"M1128,144 L1147,125 L1175,125\" stroke=\"darkred\" stroke-width=\"3\" fill=\"none\" />\n",
       "<path d=\"M1075,175 L1103,175 L1122,156\" stroke=\"darkred\" stroke-width=\"3\" fill=\"none\" />\n",
       "<path d=\"M1128,156 L1147,175 L1175,175\" stroke=\"darkred\" stroke-width=\"3\" fill=\"none\" />\n",
       "<path d=\"M1100,143 L1150,143 L1150,157 L1100,157 Z\" stroke=\"black\" fill=\"black\" stroke-linejoin=\"miter\" />\n",
       "<text x=\"1125\" y=\"180\" font-size=\"7\" text-anchor=\"middle\" dy=\"0em\"></text>\n",
       "<text x=\"1125\" y=\"126\" font-size=\"7\" text-anchor=\"middle\" dy=\"0em\">Θ=theta_17</text>\n",
       "<path d=\"M1100,143 L1150,143 L1150,147 L1100,147 Z\" stroke=\"black\" fill=\"lightgray\" stroke-linejoin=\"miter\" />\n",
       "<path d=\"M1143,150 L1153,150 L1153,160 L1143,160 Z\" stroke=\"black\" fill=\"thistle\" stroke-linejoin=\"miter\" />\n",
       "<text x=\"1148\" y=\"157\" font-size=\"6\" text-anchor=\"middle\" dy=\"0em\">Rx</text>\n",
       "<path d=\"M1175,125 L1225,125\" stroke=\"darkred\" stroke-width=\"3\" fill=\"none\" />\n",
       "<path d=\"M1180,140 L1189,140 L1203,110 L1194,110 L1180,140 L1189,140 Z\" stroke=\"black\" fill=\"gray\" stroke-linejoin=\"miter\" />\n",
       "<text x=\"1197\" y=\"138\" font-size=\"7\" text-anchor=\"start\" dy=\"0em\">Φ=3.788061</text>\n",
       "<path d=\"M1225,75 L1253,75 L1272,94\" stroke=\"darkred\" stroke-width=\"3\" fill=\"none\" />\n",
       "<path d=\"M1278,94 L1297,75 L1325,75\" stroke=\"darkred\" stroke-width=\"3\" fill=\"none\" />\n",
       "<path d=\"M1225,125 L1253,125 L1272,106\" stroke=\"darkred\" stroke-width=\"3\" fill=\"none\" />\n",
       "<path d=\"M1278,106 L1297,125 L1325,125\" stroke=\"darkred\" stroke-width=\"3\" fill=\"none\" />\n",
       "<path d=\"M1250,93 L1300,93 L1300,107 L1250,107 Z\" stroke=\"black\" fill=\"black\" stroke-linejoin=\"miter\" />\n",
       "<text x=\"1275\" y=\"130\" font-size=\"7\" text-anchor=\"middle\" dy=\"0em\"></text>\n",
       "<text x=\"1275\" y=\"76\" font-size=\"7\" text-anchor=\"middle\" dy=\"0em\">Θ=theta_18</text>\n",
       "<path d=\"M1250,93 L1300,93 L1300,97 L1250,97 Z\" stroke=\"black\" fill=\"lightgray\" stroke-linejoin=\"miter\" />\n",
       "<path d=\"M1293,100 L1303,100 L1303,110 L1293,110 Z\" stroke=\"black\" fill=\"thistle\" stroke-linejoin=\"miter\" />\n",
       "<text x=\"1298\" y=\"107\" font-size=\"6\" text-anchor=\"middle\" dy=\"0em\">Rx</text>\n",
       "<path d=\"M1325,75 L1375,75\" stroke=\"darkred\" stroke-width=\"3\" fill=\"none\" />\n",
       "<path d=\"M1330,90 L1339,90 L1353,60 L1344,60 L1330,90 L1339,90 Z\" stroke=\"black\" fill=\"gray\" stroke-linejoin=\"miter\" />\n",
       "<text x=\"1347\" y=\"88\" font-size=\"7\" text-anchor=\"start\" dy=\"0em\">Φ=4.500973</text>\n",
       "<path d=\"M1025,225 L1175,225\" stroke=\"darkred\" stroke-width=\"3\" fill=\"none\" />\n",
       "<path d=\"M1175,175 L1203,175 L1222,194\" stroke=\"darkred\" stroke-width=\"3\" fill=\"none\" />\n",
       "<path d=\"M1228,194 L1247,175 L1275,175\" stroke=\"darkred\" stroke-width=\"3\" fill=\"none\" />\n",
       "<path d=\"M1175,225 L1203,225 L1222,206\" stroke=\"darkred\" stroke-width=\"3\" fill=\"none\" />\n",
       "<path d=\"M1228,206 L1247,225 L1275,225\" stroke=\"darkred\" stroke-width=\"3\" fill=\"none\" />\n",
       "<path d=\"M1200,193 L1250,193 L1250,207 L1200,207 Z\" stroke=\"black\" fill=\"black\" stroke-linejoin=\"miter\" />\n",
       "<text x=\"1225\" y=\"230\" font-size=\"7\" text-anchor=\"middle\" dy=\"0em\"></text>\n",
       "<text x=\"1225\" y=\"176\" font-size=\"7\" text-anchor=\"middle\" dy=\"0em\">Θ=theta_19</text>\n",
       "<path d=\"M1200,193 L1250,193 L1250,197 L1200,197 Z\" stroke=\"black\" fill=\"lightgray\" stroke-linejoin=\"miter\" />\n",
       "<path d=\"M1243,200 L1253,200 L1253,210 L1243,210 Z\" stroke=\"black\" fill=\"thistle\" stroke-linejoin=\"miter\" />\n",
       "<text x=\"1248\" y=\"207\" font-size=\"6\" text-anchor=\"middle\" dy=\"0em\">Rx</text>\n",
       "<path d=\"M1275,175 L1325,175\" stroke=\"darkred\" stroke-width=\"3\" fill=\"none\" />\n",
       "<path d=\"M1280,190 L1289,190 L1303,160 L1294,160 L1280,190 L1289,190 Z\" stroke=\"black\" fill=\"gray\" stroke-linejoin=\"miter\" />\n",
       "<text x=\"1297\" y=\"188\" font-size=\"7\" text-anchor=\"start\" dy=\"0em\">Φ=3.418193</text>\n",
       "<path d=\"M1275,25 L1375,25\" stroke=\"darkred\" stroke-width=\"3\" fill=\"none\" />\n",
       "<path d=\"M1325,125 L1375,125\" stroke=\"darkred\" stroke-width=\"3\" fill=\"none\" />\n",
       "<path d=\"M1325,175 L1375,175\" stroke=\"darkred\" stroke-width=\"3\" fill=\"none\" />\n",
       "<path d=\"M1275,225 L1375,225\" stroke=\"darkred\" stroke-width=\"3\" fill=\"none\" />\n",
       "<path d=\"M1375,25 L1390,25\" stroke-width=\"3\" stroke=\"darkred\" stroke-linejoin=\"miter\" fill=\"none\" />\n",
       "<path d=\"M1375,75 L1390,75\" stroke-width=\"3\" stroke=\"darkred\" stroke-linejoin=\"miter\" fill=\"none\" />\n",
       "<path d=\"M1375,125 L1390,125\" stroke-width=\"3\" stroke=\"darkred\" stroke-linejoin=\"miter\" fill=\"none\" />\n",
       "<path d=\"M1375,175 L1390,175\" stroke-width=\"3\" stroke=\"darkred\" stroke-linejoin=\"miter\" fill=\"none\" />\n",
       "<path d=\"M1375,225 L1390,225\" stroke-width=\"3\" stroke=\"darkred\" stroke-linejoin=\"miter\" fill=\"none\" />\n",
       "<text x=\"1400\" y=\"28\" font-size=\"6\" text-anchor=\"end\" dy=\"0em\">0</text>\n",
       "<text x=\"1400\" y=\"78\" font-size=\"6\" text-anchor=\"end\" dy=\"0em\">1</text>\n",
       "<text x=\"1400\" y=\"128\" font-size=\"6\" text-anchor=\"end\" dy=\"0em\">2</text>\n",
       "<text x=\"1400\" y=\"178\" font-size=\"6\" text-anchor=\"end\" dy=\"0em\">3</text>\n",
       "<text x=\"1400\" y=\"228\" font-size=\"6\" text-anchor=\"end\" dy=\"0em\">4</text>\n",
       "<text x=\"0\" y=\"28\" font-size=\"6\" text-anchor=\"start\" dy=\"0em\">0</text>\n",
       "<text x=\"0\" y=\"78\" font-size=\"6\" text-anchor=\"start\" dy=\"0em\">1</text>\n",
       "<text x=\"0\" y=\"128\" font-size=\"6\" text-anchor=\"start\" dy=\"0em\">2</text>\n",
       "<text x=\"0\" y=\"178\" font-size=\"6\" text-anchor=\"start\" dy=\"0em\">3</text>\n",
       "<text x=\"0\" y=\"228\" font-size=\"6\" text-anchor=\"start\" dy=\"0em\">4</text>\n",
       "</svg>"
      ],
      "text/plain": [
       "<drawSvg.drawing.Drawing at 0x7f4369393af0>"
      ]
     },
     "execution_count": 3,
     "metadata": {},
     "output_type": "execute_result"
    }
   ],
   "source": [
    "bs = pcvl.Circuit.generic_interferometer(N,\n",
    "                                         lambda idx : pcvl.BS(theta=pcvl.P(\"theta_%d\"%idx))//(0, pcvl.PS(phi=np.pi*2*random.random())),\n",
    "                                         shape=\"rectangle\",\n",
    "                                         depth = 2*N,\n",
    "                                         phase_shifter_fun_gen=lambda idx: pcvl.PS(phi=np.pi*2*random.random()))\n",
    "pcvl.pdisplay(bs, recursive = True)\n"
   ]
  },
  {
   "cell_type": "markdown",
   "id": "6059f2d3",
   "metadata": {
    "pycharm": {
     "name": "#%% md\n"
    }
   },
   "source": [
    "### Minimizing infidelity"
   ]
  },
  {
   "cell_type": "markdown",
   "id": "8bb792d0",
   "metadata": {
    "pycharm": {
     "name": "#%% md\n"
    }
   },
   "source": [
    "We first define a \"loss\" function which computes the infidelity between the target unitary and the implemented unitary. The fidelity evaluates the performance of the multiport interferometers via $F=\\frac{\\lvert \\mathrm{Tr} ({U_{target}}^{\\dagger} U_{interf}) \\rvert²}{N\\mathrm{Tr}({U_{target}}^{\\dagger} U_{target})}$ where $U_{target}$ is the target matrix and $U_{interf}$ the actual unitary matrix realized by the interferometer and where N is the size of the matrices."
   ]
  },
  {
   "cell_type": "code",
   "execution_count": 4,
   "id": "2faecde6",
   "metadata": {
    "pycharm": {
     "is_executing": true,
     "name": "#%%\n"
    }
   },
   "outputs": [],
   "source": [
    "def infidelity(c, U_target, params, params_value):\n",
    "    \"\"\"\n",
    "    inputs: \n",
    "    *c* type: circuit from pcvl.Circuit()\n",
    "        role: generic interferometer to optimize \n",
    "    *U_target* type: matrix from pcvl.Matrix.random_unitary()\n",
    "               role: unitary matrix randomly chosen\n",
    "    *params* type: parameters from c.get_parameters()\n",
    "             role: get the parameters associated to the circuit c \n",
    "    *params_value* type: int\n",
    "                   role: value of the parameters\n",
    "\n",
    "    outputs: \n",
    "    *infidelity value* type: int\n",
    "                       role: infidelity value between U and U0\n",
    "    \"\"\"\n",
    "    for idx, p in enumerate(params_value):\n",
    "        params[idx].set_value(p) #give a value to each params\n",
    "    U = c.compute_unitary(use_symbolic=False) #\n",
    "    U_dag = np.transpose(np.conjugate(U))\n",
    "    f = abs(np.trace(U_dag @ U_target)) ** 2 / (c.m * np.trace(U_dag @ U))\n",
    "    return 1 - abs(f)"
   ]
  },
  {
   "cell_type": "markdown",
   "id": "81adaa92",
   "metadata": {
    "pycharm": {
     "name": "#%% md\n"
    }
   },
   "source": [
    "### Basinhopping algorithm"
   ]
  },
  {
   "cell_type": "markdown",
   "id": "fa4c270f",
   "metadata": {
    "pycharm": {
     "name": "#%% md\n"
    }
   },
   "source": [
    "Then, we want to optimise over the angles of the phase-shifters $\\phi$ comprising $U_{interf}$ by minimizing the infidelity $1 - F$ [1]. To do so, we use a numerical optimisation algorithm based on the basinhopping algorithm to explore the space of phases and minimize $1-F$ for a specific value of manufacturing error $\\alpha$. We then vary $\\alpha$ to see how robust to manufacturing errors our scheme is."
   ]
  },
  {
   "cell_type": "code",
   "execution_count": 5,
   "id": "49aecaa7",
   "metadata": {
    "pycharm": {
     "is_executing": true,
     "name": "#%%\n"
    }
   },
   "outputs": [],
   "source": [
    "def calculate_angle(index_unitary,U_target,alpha):\n",
    "    \"\"\"\n",
    "    inputs:\n",
    "    *index_unitary* type: int\n",
    "                    role: index on the number of unitary matrices \n",
    "    *U_target* type: matrix from pcvl.Matrix.random_unitary()\n",
    "               role: unitary matrix randomly chosen\n",
    "    *alpha* type: int\n",
    "            role: angle error due to manufacturing \n",
    "\n",
    "    outputs:\n",
    "    *infidelity min* type: int\n",
    "                     role: min value of infidelity\n",
    "    \"\"\"\n",
    "    start = time.time()\n",
    "    c = pcvl.Circuit.generic_interferometer(N,\n",
    "                                            lambda idx: (pcvl.BS(theta=(45+alpha)/180*np.pi)\n",
    "                                                            // (0, pcvl.PS(phi=pcvl.P(\"phi_m%d\" % idx)))),\n",
    "                                            depth=2*N,\n",
    "                                            phase_shifter_fun_gen=lambda idx: pcvl.PS(phi=pcvl.P(\"phi_r%d\" % idx)))\n",
    "    params = c.get_parameters()     #We get the parameters of the circuit we have just created\n",
    "    \n",
    "    infidelities = []\n",
    "\n",
    "    for _ in range(n_try):          #We do a number of tests\n",
    "        init_params = np.random.randn(len(params)) \n",
    "        res = basinhopping(lambda x: infidelity(c, U_target, params, x), init_params, stepsize=0.1, niter=n_iter) #the algorithm is looking for a global minimum of infidelity\n",
    "        infidelities.append(res.fun) #fun is the value of the function at the solution\n",
    "    return min(infidelities)"
   ]
  },
  {
   "cell_type": "markdown",
   "id": "a2b378aa",
   "metadata": {
    "pycharm": {
     "name": "#%% md\n"
    }
   },
   "source": [
    "Based on the definition of the loss function, we now explore the space of phases to obtain a correct implementation of the target unitary with our BS-based scheme. We then reiterate the following function for various error parameter $\\alpha$."
   ]
  },
  {
   "cell_type": "code",
   "execution_count": null,
   "id": "f12a5609",
   "metadata": {
    "pycharm": {
     "is_executing": true,
     "name": "#%%\n"
    },
    "scrolled": true
   },
   "outputs": [],
   "source": [
    "n_angles = (abs(angle_min)+abs(angle_max))/angle_step\n",
    "\n",
    "def discovery_unitary(index_unitary):\n",
    "    \"\"\"\n",
    "    inputs:\n",
    "    *param index_unitary* type: int\n",
    "                          role: index on the number of unitary matrices\n",
    "    outputs:\n",
    "    type: list of int\n",
    "    role: infidelities for all alpha angles\n",
    "    \"\"\"\n",
    "    np.random.seed(int(10000*time.time()+os.getpid()) & 0xffffffff) #not necessary here, but when we run our program on several cores, this line allows us to generate different unit matrices at the same time.\n",
    "    U_target = pcvl.Matrix.random_unitary(N)                        #generates the unit random matrix\n",
    "    l_infidelities = []\n",
    "    M=angle_min + math.ceil((angle_max-angle_min)/angle_step)*angle_step + 1\n",
    "\n",
    "    for alpha in tqdm_notebook(range(angle_min,M,angle_step), desc = \"Angle progress bar unitary {}\".format(index_unitary+1), leave=False):\n",
    "        l_infidelities.append(calculate_angle(index_unitary, U_target, alpha)) \n",
    "    return l_infidelities\n",
    "    \n",
    "try:\n",
    "    os.remove(\"%s-%d.log\" % (logfilebs,N)) #To avoid having data on our file that we don't want, we delete the data from previous runs\n",
    "except OSError:\n",
    "    pass\n",
    "\n",
    "for index_unitary in tqdm_notebook(range(n_unitary), desc = \"Unitary progress bar\"):\n",
    "    result = discovery_unitary(index_unitary)\n",
    "    e = datetime.datetime.now()\n",
    "    with open(\"%s-%d.log\" % (logfilebs,N), \"a\") as f:    #we create our file\n",
    "        f.write(e.strftime(\"%Y-%m-%d %H:%M:%S\")+\"\\t\")    #we add the date and the hour of calculation             \n",
    "        f.write(\"\\t\".join([\"%g\"%inf for inf in result])) #we add the list of infidelities returned by discovery_unitary()\n",
    "        f.write(\"\\n\")"
   ]
  },
  {
   "cell_type": "markdown",
   "id": "c42f7fe3",
   "metadata": {
    "pycharm": {
     "name": "#%% md\n"
    }
   },
   "source": [
    "## Result of the BS-based scheme"
   ]
  },
  {
   "cell_type": "markdown",
   "id": "a3f506da",
   "metadata": {
    "pycharm": {
     "name": "#%% md\n"
    }
   },
   "source": [
    "In this section, we treat the previously collected infidelities as a function of $\\alpha$."
   ]
  },
  {
   "cell_type": "markdown",
   "id": "9c4f8e3f",
   "metadata": {
    "pycharm": {
     "name": "#%% md\n"
    }
   },
   "source": [
    "The collected data looks like that the output of the following cell. Each lign starts with the date and hour of collection and then, we have values for the minimal infidelity with several values of $\\alpha$. We have a lign per unitary matrix $U_{target}$."
   ]
  },
  {
   "cell_type": "code",
   "execution_count": null,
   "id": "1fd3af77",
   "metadata": {
    "pycharm": {
     "is_executing": true,
     "name": "#%%\n"
    }
   },
   "outputs": [],
   "source": [
    "with open(\"bsbasednotebook-opt-5.log\", \"r\") as filin:\n",
    "    for line in filin:\n",
    "        print(line)"
   ]
  },
  {
   "cell_type": "markdown",
   "id": "7a16480e",
   "metadata": {
    "pycharm": {
     "name": "#%% md\n"
    }
   },
   "source": [
    "### Graph of the infidelity as a function of $\\alpha$ in degree : BS-based"
   ]
  },
  {
   "cell_type": "markdown",
   "id": "25232b73",
   "metadata": {
    "pycharm": {
     "name": "#%% md\n"
    }
   },
   "source": [
    "We plot the infidelity as a function of $\\alpha$. To do this, we compute the average of the infidelities over all $U_{target}$ tried."
   ]
  },
  {
   "cell_type": "code",
   "execution_count": null,
   "id": "b8168095",
   "metadata": {
    "pycharm": {
     "is_executing": true,
     "name": "#%%\n"
    }
   },
   "outputs": [],
   "source": [
    "import numpy as np\n",
    "L=[]\n",
    "with open(\"bsbasednotebook-opt-5.log\", \"r\") as flog:\n",
    "    for l in flog:\n",
    "        L.append([float (f) for f in l.strip().split(\"\\t\")[1:]])\n",
    "\n",
    "A=np.asarray(L)\n",
    "print(A)\n",
    "print(A.shape)"
   ]
  },
  {
   "cell_type": "code",
   "execution_count": null,
   "id": "4ce9d2d6",
   "metadata": {
    "pycharm": {
     "is_executing": true,
     "name": "#%%\n"
    }
   },
   "outputs": [],
   "source": [
    "Lmin=[]\n",
    "Lmax=[]\n",
    "Laverage=[]\n",
    "\n",
    "for i in range(A.shape[1]):\n",
    "    Langle = A[:,i]\n",
    "    Laverage.append(np.average(Langle))\n",
    "    Langle.sort()\n",
    "    Lmin.append(np.average(Langle[0:10]))\n",
    "    Lmax.append(np.average(Langle[-10:]))\n",
    "\n",
    "print(Laverage)\n",
    "print(Lmin)\n",
    "print(Lmax)"
   ]
  },
  {
   "cell_type": "code",
   "execution_count": null,
   "id": "6d77b08a",
   "metadata": {
    "pycharm": {
     "is_executing": true,
     "name": "#%%\n"
    }
   },
   "outputs": [],
   "source": [
    "import numpy as np\n",
    "import matplotlib.pyplot as plt\n",
    "\n",
    "#data\n",
    "x = np.linspace(-15, 35, len(Laverage))\n",
    "\n",
    "fig, ax = plt.subplots()\n",
    "\n",
    "ax.fill_between(x, Lmin, Lmax,alpha=.5,linewidth=0)\n",
    "ax.plot(x,Laverage,linewidth=2)\n",
    "\n",
    "ax.set(xlim=(-15, 35),ylim=(min(Lmin), max(Lmax)))\n",
    "ax.set_yscale('log')\n",
    "\n",
    "\n",
    "plt.plot(x,Laverage,'b')\n",
    "plt.title('BS-based', fontsize=20)\n",
    "plt.xlabel('alpha in degree', fontsize=15)\n",
    "plt.ylabel('infidelity 1-F', fontsize=15)"
   ]
  },
  {
   "cell_type": "markdown",
   "id": "e35027ee",
   "metadata": {
    "pycharm": {
     "name": "#%% md\n"
    }
   },
   "source": [
    "## 2. Perceval implementation of the MZI-based interferometer\n"
   ]
  },
  {
   "cell_type": "markdown",
   "id": "d3586f39",
   "metadata": {
    "pycharm": {
     "name": "#%% md\n"
    }
   },
   "source": [
    "Now we do the same construction for the MZI-based circuit. The main difference between both circuits is the structure of the building blocks. Note that the MZI-based circuit has $m$ building blocks with four components whereas the BS-based circuit has $2*m$ building blocks with two components."
   ]
  },
  {
   "cell_type": "code",
   "execution_count": null,
   "id": "1d6abe25",
   "metadata": {
    "pycharm": {
     "is_executing": true,
     "name": "#%%\n"
    }
   },
   "outputs": [],
   "source": [
    "def mzi(P1,P2):\n",
    "    mz= (pcvl.Circuit(2, name=\"mzi\")\n",
    "       .add((0, 1), pcvl.BS(theta=(45)/180*np.pi))\n",
    "       .add(0, pcvl.PS(P1))\n",
    "       .add((0, 1), pcvl.BS(theta=(45)/180*np.pi))\n",
    "       .add(0, pcvl.PS(P2)))\n",
    "    return mz"
   ]
  },
  {
   "cell_type": "code",
   "execution_count": null,
   "id": "e7fd4aa8",
   "metadata": {
    "pycharm": {
     "is_executing": true,
     "name": "#%%\n"
    }
   },
   "outputs": [],
   "source": [
    "c = pcvl.Circuit.generic_interferometer(N,\n",
    "                                        fun_gen=lambda idx: mzi(pcvl.P(\"phi_m%d\" % idx),pcvl.P(\"phi_n%d\" % idx)),\n",
    "                                        shape=\"rectangle\",\n",
    "                                        depth=N,\n",
    "                                        phase_shifter_fun_gen=lambda idx: pcvl.PS(phi=pcvl.P(\"phi_r%d\" % idx)))\n",
    "pcvl.pdisplay(c)"
   ]
  },
  {
   "cell_type": "markdown",
   "id": "f08b44d5",
   "metadata": {
    "pycharm": {
     "name": "#%% md\n"
    }
   },
   "source": [
    "### Basinhopping algorithm"
   ]
  },
  {
   "cell_type": "code",
   "execution_count": null,
   "id": "c0afc0a7",
   "metadata": {
    "pycharm": {
     "is_executing": true,
     "name": "#%%\n"
    }
   },
   "outputs": [],
   "source": [
    "def mzi(P1,P2,alpha):\n",
    "    mz= (pcvl.Circuit(2, name=\"mzi\")\n",
    "       .add((0, 1), pcvl.BS(theta=(45+alpha)/180*np.pi))\n",
    "       .add(0, pcvl.PS(P1))\n",
    "       .add((0, 1), pcvl.BS(theta=(45+alpha)/180*np.pi))\n",
    "       .add(0, pcvl.PS(P2)))\n",
    "    return mz"
   ]
  },
  {
   "cell_type": "code",
   "execution_count": null,
   "id": "ff2dc28f",
   "metadata": {
    "pycharm": {
     "is_executing": true,
     "name": "#%%\n"
    }
   },
   "outputs": [],
   "source": [
    "def calculate_angle(index_unitary, U_target, alpha):\n",
    "    start = time.time()\n",
    "    c = pcvl.Circuit.generic_interferometer(N,\n",
    "                                        fun_gen=lambda idx: mzi(pcvl.P(\"phi_m%d\" % idx),pcvl.P(\"phi_n%d\" % idx),alpha),\n",
    "                                        shape=\"rectangle\",\n",
    "                                        depth=N,\n",
    "                                        phase_shifter_fun_gen=lambda idx: pcvl.PS(phi=pcvl.P(\"phi_r%d\" % idx)))\n",
    "    params = c.get_parameters()\n",
    "\n",
    "    # goal is to find phis matching U0 - by minimizing fidelity\n",
    "    infidelities = []\n",
    "\n",
    "    for _ in range(n_try):\n",
    "        init_params = np.random.randn(len(params))\n",
    "        res = basinhopping(lambda x: infidelity(c, U_target, params, x), init_params, stepsize=0.1, niter=n_iter)\n",
    "        infidelities.append(res.fun)\n",
    "    \n",
    "    return min(infidelities)"
   ]
  },
  {
   "cell_type": "code",
   "execution_count": null,
   "id": "0f75ba07",
   "metadata": {
    "pycharm": {
     "is_executing": true,
     "name": "#%%\n"
    }
   },
   "outputs": [],
   "source": [
    "n_angles = (abs(angle_min)+abs(angle_max))/angle_step\n",
    "\n",
    "def discovery_unitary(index_unitary):\n",
    "    np.random.seed(int(10000*time.time()+os.getpid()) & 0xffffffff)\n",
    "    U_target = pcvl.Matrix.random_unitary(N)\n",
    "    l_infidelities = []\n",
    "    M=angle_min + math.ceil((angle_max-angle_min)/angle_step)*angle_step + 1\n",
    "    for alpha in tqdm_notebook(range(angle_min,M,angle_step), desc = \"Angle progress bar unitary {}\".format(index_unitary+1),leave=False):\n",
    "        l_infidelities.append(calculate_angle(index_unitary, U_target, alpha))\n",
    "    return l_infidelities\n",
    "\n",
    "try:\n",
    "    os.remove(\"%s-%d.log\" % (logfilemzi,N))\n",
    "except OSError:\n",
    "    pass\n",
    "\n",
    "for index_unitary in tqdm_notebook(range(n_unitary), desc = \"Unitary progress bar\"):\n",
    "    result = discovery_unitary(index_unitary)\n",
    "    e = datetime.datetime.now()\n",
    "    with open(\"%s-%d.log\" % (logfilemzi,N), \"a\") as f:\n",
    "        f.write(e.strftime(\"%Y-%m-%d %H:%M:%S\")+\"\\t\")                \n",
    "        f.write(\"\\t\".join([\"%g\"%inf for inf in result]))\n",
    "        f.write(\"\\n\")"
   ]
  },
  {
   "cell_type": "markdown",
   "id": "0a40d8ba",
   "metadata": {
    "pycharm": {
     "name": "#%% md\n"
    }
   },
   "source": [
    "## Result of the MZI-based scheme"
   ]
  },
  {
   "cell_type": "code",
   "execution_count": null,
   "id": "38fa883b",
   "metadata": {
    "pycharm": {
     "is_executing": true,
     "name": "#%%\n"
    }
   },
   "outputs": [],
   "source": [
    "with open(\"mzibasednotebook-opt-5.log\", \"r\") as filin:\n",
    "    for line in filin:\n",
    "        print(line)"
   ]
  },
  {
   "cell_type": "code",
   "execution_count": null,
   "id": "d5926a3c",
   "metadata": {
    "pycharm": {
     "is_executing": true,
     "name": "#%%\n"
    }
   },
   "outputs": [],
   "source": [
    "import numpy as np\n",
    "L=[]\n",
    "with open(\"mzibasednotebook-opt-5.log\", \"r\") as flog:\n",
    "    for l in flog:\n",
    "        L.append([float (f) for f in l.strip().split(\"\\t\")[1:]])\n",
    "\n",
    "A=np.asarray(L)\n",
    "print(A)\n",
    "print(A.shape)"
   ]
  },
  {
   "cell_type": "code",
   "execution_count": null,
   "id": "fe4bdf97",
   "metadata": {
    "pycharm": {
     "is_executing": true,
     "name": "#%%\n"
    }
   },
   "outputs": [],
   "source": [
    "Lmin=[]\n",
    "Lmax=[]\n",
    "Laverage=[]\n",
    "\n",
    "for i in range(A.shape[1]):\n",
    "    Langle = A[:,i]\n",
    "    Laverage.append(np.average(Langle))\n",
    "    Langle.sort()\n",
    "    Lmin.append(np.average(Langle[0:10]))\n",
    "    Lmax.append(np.average(Langle[-10:]))\n",
    "\n",
    "print(Laverage)\n",
    "print(Lmin)\n",
    "print(Lmax)"
   ]
  },
  {
   "cell_type": "markdown",
   "id": "c8c6dd9c",
   "metadata": {
    "pycharm": {
     "name": "#%% md\n"
    }
   },
   "source": [
    "### Graph of the infidelity as a function $\\alpha$ in degree : MZI-based"
   ]
  },
  {
   "cell_type": "code",
   "execution_count": null,
   "id": "d4502f9e",
   "metadata": {
    "pycharm": {
     "is_executing": true,
     "name": "#%%\n"
    }
   },
   "outputs": [],
   "source": [
    "import numpy as np\n",
    "import matplotlib.pyplot as plt\n",
    "\n",
    "#data\n",
    "x = np.linspace(-15, 35, len(Laverage))\n",
    "\n",
    "fig, ax = plt.subplots()\n",
    "\n",
    "ax.fill_between(x, Lmin, Lmax,alpha=.5,linewidth=0)\n",
    "ax.plot(x,Laverage,linewidth=2)\n",
    "\n",
    "ax.set(xlim=(-15, 35),ylim=(min(Lmin), max(Lmax)))\n",
    "ax.set_yscale('log')\n",
    "\n",
    "\n",
    "plt.plot(x,Laverage,'r')\n",
    "plt.title('MZI-based', fontsize=20)\n",
    "plt.xlabel('alpha in degree', fontsize=15)\n",
    "plt.ylabel('infidelity 1-F',fontsize=15)\n"
   ]
  },
  {
   "cell_type": "markdown",
   "id": "90dd9c90",
   "metadata": {
    "pycharm": {
     "name": "#%% md\n"
    }
   },
   "source": [
    "## Our results"
   ]
  },
  {
   "cell_type": "markdown",
   "id": "e6c23a2d",
   "metadata": {
    "pycharm": {
     "name": "#%% md\n"
    }
   },
   "source": [
    "For matrices of size 5, we obtained this graph below."
   ]
  },
  {
   "cell_type": "markdown",
   "id": "b9f496e7",
   "metadata": {
    "pycharm": {
     "name": "#%% md\n"
    }
   },
   "source": [
    "![bs_notebook5](../_static/img/bs-notebook5.png)"
   ]
  },
  {
   "cell_type": "markdown",
   "id": "2457fba0",
   "metadata": {
    "pycharm": {
     "name": "#%% md\n"
    }
   },
   "source": [
    "The MZI-based interferometers are equally sensitive to both positive and negative values of α. The range of tolerance for a correct implementation is of several degrees. For the BS-based interferometers, infidelity behaves rather differently: while for α < 0 the performance of the two are comparable, for α > 0 the BS-based interferometers provide a correct implementation for a much larger range of α (as\n",
    "large as ∼ 20 degrees). Therefore, the BS-based circuit is more stable than the MZI-based circuit although the BS-based implementation fail at implementing some unitary matrices (like permutation) in the ideal case."
   ]
  },
  {
   "cell_type": "markdown",
   "id": "3130c4e7",
   "metadata": {
    "pycharm": {
     "name": "#%% md\n"
    }
   },
   "source": [
    "In the article [1], they also performed optimisation on matrices of size 10. We pushed the calculations a bit further on matrices of size 12."
   ]
  },
  {
   "cell_type": "markdown",
   "id": "4a55fe6f",
   "metadata": {
    "pycharm": {
     "name": "#%% md\n"
    }
   },
   "source": [
    "![bs_notebook12](../_static/img/bs-notebook12.png)"
   ]
  },
  {
   "cell_type": "markdown",
   "id": "1c464c9d",
   "metadata": {
    "pycharm": {
     "name": "#%% md\n"
    }
   },
   "source": [
    "We only made our computations for the BS-based scheme because we wanted to analyze the stability of this new circuit. We do not have done both yet because it is very time consuming. Indeed, for only one matrix of size 12, the computation takes about 37 hours. Since in our code, we loop over 300 matrices, we get a total time it would take to complete this calculation of roughly 11,100 hours (~460 days) of calculation in total."
   ]
  },
  {
   "cell_type": "markdown",
   "id": "a516779b",
   "metadata": {
    "pycharm": {
     "name": "#%% md\n"
    }
   },
   "source": [
    "To conclude, the BS-based circuit is a very stable scheme but not universal. MZI-based circuit is universal when BS are perfectly manufactured, although it is not possible in practice. However, as one can see on the graphs, the MZI-based circuit is much less robust to errors. In practice, it is common to have $\\alpha$ in the range of 5 degress. Thus, the MZI-based circuit is not really universal in practice.\n",
    "\n",
    "It is therefore necessary to continue to seek relevant criteria to properly evaluate the interferometer schemes."
   ]
  },
  {
   "cell_type": "markdown",
   "id": "c00d6e3b",
   "metadata": {
    "pycharm": {
     "name": "#%% md\n"
    }
   },
   "source": [
    "## References"
   ]
  },
  {
   "cell_type": "markdown",
   "id": "db31ccb0",
   "metadata": {
    "pycharm": {
     "name": "#%% md\n"
    }
   },
   "source": [
    "[1] Suren A Fldzhyan, M Yu Saygin, and Sergei P Kulik. Optimal design of error-tolerant reprogrammable multiport interferometers. [Optics Letters](https://doi.org/10.1364/OL.385433), 45(9):2632–2635, 2020.\n",
    "\n",
    "[2]: Michael Reck, Anton Zeilinger, Herbert J Bernstein, and Philip Bertani. Experimental realization of any discrete unitary operator. [Physical review letters](https://journals.aps.org/prl/abstract/10.1103/PhysRevLett.73.58), 73(1):58, 1994."
   ]
  }
 ],
 "metadata": {
  "kernelspec": {
   "display_name": "Python 3 (ipykernel)",
   "language": "python",
   "name": "python3"
  },
  "language_info": {
   "codemirror_mode": {
    "name": "ipython",
    "version": 3
   },
   "file_extension": ".py",
   "mimetype": "text/x-python",
   "name": "python",
   "nbconvert_exporter": "python",
   "pygments_lexer": "ipython3",
   "version": "3.9.7"
  }
 },
 "nbformat": 4,
 "nbformat_minor": 5
}
