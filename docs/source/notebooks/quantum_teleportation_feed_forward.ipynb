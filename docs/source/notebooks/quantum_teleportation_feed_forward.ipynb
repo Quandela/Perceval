{
 "cells": [
  {
   "cell_type": "markdown",
   "id": "7d428b7117a2a2fe",
   "metadata": {},
   "source": [
    "# Quantum teleportation using feed-forward"
   ]
  },
  {
   "cell_type": "markdown",
   "id": "61dad5341013c224",
   "metadata": {},
   "source": [
    "The goal of this notebook is to use perceval's feed-forward ability to demonstrate the Quantum teleportation algorithm on a photonic simulated circuit using dual rail encoding."
   ]
  },
  {
   "cell_type": "markdown",
   "id": "1916284b04197f03",
   "metadata": {},
   "source": [
    "## Definition of the problem"
   ]
  },
  {
   "cell_type": "markdown",
   "id": "cb257cc4d0cddb70",
   "metadata": {},
   "source": [
    "The idea of the algorithm is the following:\n",
    "\n",
    "Say that Alice has a generic qubit of the form\n",
    "\n",
    "$$|\\psi\\rangle = \\alpha |0\\rangle + \\beta |1> $$\n",
    "\n",
    "that she wants to send to a distant receiver called Bob. Since Bob is distant, we want to avoid transporting physical systems from Alice to Bob.\n",
    "\n",
    "Before the start of the algorithm, Alice and Bob need to share a maximally entangled Bell state. For this example, we will use the form\n",
    "\n",
    "$$|\\Psi\\rangle = \\frac{1}{\\sqrt{2}} (|00\\rangle + |11\\rangle)$$\n",
    "\n",
    "The first qubit is accessible to Alice and the second to Bob.\n",
    "\n",
    "The total state is then\n",
    "\n",
    "$$|\\psi\\rangle \\otimes \\Psi\\rangle = (\\alpha |0\\rangle + \\beta |1\\rangle) \\otimes \\frac{1}{\\sqrt{2}} (|00\\rangle + |11\\rangle)$$\n",
    "\n",
    "The algorithm is the following:\n",
    "Alice performs a CNOT using the first qubit as control and the second as target, then applies a H gate to the first qubit.\n",
    "\n",
    "At the end, the total state can be written as\n",
    "\n",
    "\\begin{align}\n",
    "    |final\\rangle &= \\frac{1}{2}|00\\rangle \\otimes (\\alpha |0\\rangle + \\beta |1>) \\\\\n",
    "                  &+ \\frac{1}{2}|01\\rangle \\otimes (\\beta |0\\rangle + \\alpha |1>) \\\\\n",
    "                  &+ \\frac{1}{2}|10\\rangle \\otimes (\\alpha |0\\rangle - \\beta |1>) \\\\\n",
    "                  &+ \\frac{1}{2}|11\\rangle \\otimes (- \\beta |0\\rangle + \\alpha |1>)\n",
    "\\end{align}\n",
    "\n",
    "Then Alice needs to measure her two qubits and send the results to Bob using a classical channel.\n",
    "First, if the second qubit is measured to be 1, Bob needs to apply a NOT gate to his qubit.\n",
    "Then, if the first qubit is measured to be 1, Bob needs to apply a Z gate to his qubit.\n",
    "\n",
    "After these operations, Bob's qubit is guaranteed to be the original qubit of Alice $|\\psi\\rangle$."
   ]
  },
  {
   "cell_type": "markdown",
   "id": "57318a20fc7eeb69",
   "metadata": {},
   "source": [
    "## Translation to Perceval"
   ]
  },
  {
   "cell_type": "code",
   "execution_count": null,
   "id": "4ec2a415e1cb1f04",
   "metadata": {},
   "outputs": [],
   "source": [
    "import numpy as np\n",
    "\n",
    "import perceval as pcvl\n",
    "from perceval import catalog"
   ]
  },
  {
   "cell_type": "markdown",
   "id": "7208ddca25dafd45",
   "metadata": {},
   "source": [
    "### Starting state"
   ]
  },
  {
   "cell_type": "markdown",
   "id": "17b862dbe9a08975",
   "metadata": {},
   "source": [
    "First, we need to create the input state $|\\psi\\rangle \\otimes |\\Psi\\rangle$ for this algorithm. We choose $\\alpha$ and $\\beta$ such that we can differentiate them using probabilities."
   ]
  },
  {
   "cell_type": "code",
   "execution_count": null,
   "id": "initial_id",
   "metadata": {},
   "outputs": [],
   "source": [
    "# Creation of the qubit to transmit\n",
    "\n",
    "alpha = .2  # Arbitrarily chosen with different modulus\n",
    "beta = .1 + .3j\n",
    "# alpha |0> + beta |1> in dual rail encoding\n",
    "to_transmit = alpha * pcvl.BasicState([1, 0]) + beta * pcvl.BasicState([0, 1])\n",
    "to_transmit.normalize()\n",
    "\n",
    "alpha = to_transmit[pcvl.BasicState([1, 0])]  # Normalized\n",
    "beta = to_transmit[pcvl.BasicState([0, 1])]\n",
    "\n",
    "print(to_transmit)"
   ]
  },
  {
   "cell_type": "code",
   "execution_count": null,
   "id": "b480ea69ffc07543",
   "metadata": {},
   "outputs": [],
   "source": [
    "# Creation of the quantum channel\n",
    "sg = pcvl.StateGenerator(pcvl.Encoding.DUAL_RAIL)\n",
    "bell_state = sg.bell_state(\"phi+\")\n",
    "print(bell_state)"
   ]
  },
  {
   "cell_type": "code",
   "execution_count": null,
   "id": "41cbc6dac613658f",
   "metadata": {},
   "outputs": [],
   "source": [
    "input_state = to_transmit * bell_state"
   ]
  },
  {
   "cell_type": "markdown",
   "id": "13cf7a685228ff18",
   "metadata": {},
   "source": [
    "### Circuit"
   ]
  },
  {
   "cell_type": "markdown",
   "id": "f18e201949542957",
   "metadata": {},
   "source": [
    "Now we need to define the circuit on which the operations will take place. Since we need to use gates and feed-forward components, we need to use a `Processor` object.\n",
    "\n",
    "First, we define the photonic circuit that applies on the qubits."
   ]
  },
  {
   "cell_type": "code",
   "execution_count": null,
   "id": "46c1994bcba8184f",
   "metadata": {},
   "outputs": [],
   "source": [
    "p = pcvl.Processor(\"SLOS\", 6)\n",
    "p.add(0, catalog[\"heralded cnot\"].build_processor())\n",
    "p.add(0, pcvl.BS.H());"
   ]
  },
  {
   "cell_type": "markdown",
   "id": "2a6e8e7857d28509",
   "metadata": {},
   "source": [
    "Now we need to add the feed-forwarded components. For this purpose, Perceval uses two configurators that link measures to circuits or processors.\n",
    "\n",
    "Both of them need to be defined by the number of modes they measure, the distance between the measured modes and the circuit they configure (this is an integer called `offset`), and a default configuration that is used whenever a measure does not befall into one of the defined cases.\n",
    "\n",
    "The measured modes need to be classical modes. Thus, we need to add detectors before adding the configurators.\n",
    "\n",
    "For the NOT gate, this gate corresponds to a permutation for a dual rail encoding if we measure $|1\\rangle$, or an empty circuit if we measure $|0\\rangle$. Thus, we are going to use a `FFCircuitProvider` as it links a measured state to a circuit or a processor."
   ]
  },
  {
   "cell_type": "code",
   "execution_count": null,
   "id": "84ab63365eb0278f",
   "metadata": {},
   "outputs": [],
   "source": [
    "# 2 measured modes\n",
    "# offset = 0 means that there is 0 empty modes between the measured modes and the circuit\n",
    "# the default circuit is an empty circuit\n",
    "ff_not = pcvl.FFCircuitProvider(2, 0, pcvl.Circuit(2))\n",
    "\n",
    "# Now if we measure a logical state |1>, we need to perform a permutation of the modes\n",
    "ff_not.add_configuration([0, 1], pcvl.PERM([1, 0]))\n",
    "\n",
    "# Add perfect detectors to the modes that will be measured\n",
    "p.add(2, pcvl.Detector.pnr())\n",
    "p.add(3, pcvl.Detector.pnr())\n",
    "p.add(2, ff_not);"
   ]
  },
  {
   "cell_type": "markdown",
   "id": "4ab9a62af4dff3cc",
   "metadata": {},
   "source": [
    "The Z gate corresponds to a $\\pi$ shift on the second mode. Thus, we are going to use a `FFConfigurator` that uses a parametrized circuit and links the measured states to a mapping of values for these parameters."
   ]
  },
  {
   "cell_type": "code",
   "execution_count": null,
   "id": "34c780e885758455",
   "metadata": {},
   "outputs": [],
   "source": [
    "phi = pcvl.P(\"phi\")\n",
    "# Like Circuits and Processors, we can chain the `add` methods\n",
    "ff_z = pcvl.FFConfigurator(2, 3, pcvl.PS(phi), {\"phi\": 0}).add_configuration([0, 1], {\"phi\": np.pi})\n",
    "\n",
    "p.add(0, pcvl.Detector.pnr())\n",
    "p.add(1, pcvl.Detector.pnr())\n",
    "p.add(0, ff_z);"
   ]
  },
  {
   "cell_type": "markdown",
   "id": "88f450e84ce7f9a2",
   "metadata": {},
   "source": [
    "We can check that we defined correctly our processor. Note that using the `recursive=True` flag, we can expose the inner circuit of the `FFConfigurator`."
   ]
  },
  {
   "cell_type": "code",
   "execution_count": null,
   "id": "cd64eca26d10b8cd",
   "metadata": {},
   "outputs": [],
   "source": [
    "pcvl.pdisplay(p, recursive=True)"
   ]
  },
  {
   "cell_type": "markdown",
   "id": "be92f0ddd80ad218",
   "metadata": {},
   "source": [
    "### Simulation"
   ]
  },
  {
   "cell_type": "markdown",
   "id": "5324d67209a5f0ed",
   "metadata": {},
   "source": [
    "Now that we have both the input state and the processor, we can run the algorithm and check that it works."
   ]
  },
  {
   "cell_type": "code",
   "execution_count": null,
   "id": "a438b878ced2cfe8",
   "metadata": {},
   "outputs": [],
   "source": [
    "p.min_detected_photons_filter(3)\n",
    "\n",
    "# Since we use a custom input state, we have to add the heralds from the heralded cnot\n",
    "input_state *= pcvl.BasicState([1, 1])\n",
    "\n",
    "p.with_input(input_state)\n",
    "\n",
    "res = p.probs()\n",
    "print(res)"
   ]
  },
  {
   "cell_type": "markdown",
   "id": "78778a2ac0806cd1",
   "metadata": {},
   "source": [
    "Notice that when using feed-forward, the performance indicators are replaced by a single indicator \"global_perf\", which represents the probability that an output state checks all requirements. In our case, this corresponds to the CNOT performance: $2 / 27 \\approx 0.074$.\n",
    "\n",
    "For the results, we don't need to know what was measured by Alice, so we need to squash the resulting probabilities to keep only the two last modes."
   ]
  },
  {
   "cell_type": "code",
   "execution_count": null,
   "id": "3e6a8afe9b080f15",
   "metadata": {},
   "outputs": [],
   "source": [
    "bsd = pcvl.BSDistribution()\n",
    "for state, prob in res[\"results\"].items():\n",
    "    bsd[state[4:]] += prob\n",
    "\n",
    "print(bsd)"
   ]
  },
  {
   "cell_type": "markdown",
   "id": "e656019381c106b2",
   "metadata": {},
   "source": [
    "We can now check that the resulting probabilities correspond to the probabilities of measure of the original qubit."
   ]
  },
  {
   "cell_type": "code",
   "execution_count": null,
   "id": "d4f268c839a0edf3",
   "metadata": {},
   "outputs": [],
   "source": [
    "prob_0 = abs(alpha) ** 2\n",
    "prob_1 = abs(beta) ** 2\n",
    "\n",
    "print(\"|0>:\", prob_0, \"|1>\", prob_1)"
   ]
  }
 ],
 "metadata": {
  "language_info": {
   "name": "python"
  }
 },
 "nbformat": 4,
 "nbformat_minor": 5
}
