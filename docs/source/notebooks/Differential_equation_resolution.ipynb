{
 "cells": [
  {
   "cell_type": "markdown",
   "id": "c04e3ac9",
   "metadata": {},
   "source": [
    "# Differential equation resolution\n",
    "\n",
    "## Introduction\n",
    "\n",
    "We present here a Perceval implementation of a Quantum Machine Learning algorithm for solving differential equations. Its aims is to approximate the solution to the differential equation considered in \\[1\\]:\n",
    "\n",
    "$$\n",
    "\\frac{d f}{d x}+\\lambda f(x)(\\kappa+\\tan (\\lambda x))=0\n",
    "$$\n",
    "\n",
    "with boundary condition $f(0)=f_{0}$. The analytical solution is $f(x)=f_0\\exp (-\\kappa \\lambda x) \\cos (\\lambda x)$.\n",
    "\n",
    "### QML Loss Function Definition\n",
    "\n",
    "In order to use QML to solve this differential equation, we first need to derive from it a loss function whose minimum is associated to its analytical solution.\n",
    "\n",
    "Let $F\\left[\\left\\{d^{m} f / d x^{m}\\right\\}_{m},f, x\\right]=0$ be a general differential equation verified by $f(x)$, where $F[.]$ is an operator acting on $f(x)$, its derivatives and $x$. For the solving of a differential equation, the loss function described in \\[1\\] consists of two terms\n",
    "\n",
    "$$\n",
    "    \\mathcal{L}_{\\boldsymbol{\\theta}}\\left[\\left\\{d^{m} g / d x^{m}\\right\\}_{m},g, x\\right]:=\\mathcal{L}_{\\boldsymbol{\\theta}}^{(\\mathrm{diff})}\\left[\\left\\{d^{m} g / d x^{m}\\right\\}_{m},g, x\\right]+\\mathcal{L}_{\\boldsymbol{\\theta}}^{(\\text {boundary})}[g, x].\n",
    "$$\n",
    "\n",
    "The first term $\\mathcal{L}_{\\boldsymbol{\\theta}}^{(\\mathrm{diff})}$ corresponds to the differential equation which has been discretised over a fixed regular grid of $M$ points noted $x_i$:\n",
    "\n",
    "$$\n",
    "    \\mathcal{L}_{\\boldsymbol{\\theta}}^{(\\mathrm{diff})}\\left[\\left\\{d^{m} g / d x^{m}\\right\\}_{m},g, x\\right]:=\\frac{1}{M} \\sum_{i=1}^{M} L\\left(F\\left[d_{x}^m g\\left(x_{i}\\right), g\\left(x_{i}\\right), x_{i}\\right], 0\\right),\n",
    "$$\n",
    "\n",
    "where $L(a,b) := (a - b)^2$ is the squared distance between two arguments. The second term $\\mathcal{L}_{\\boldsymbol{\\theta}}^{(\\text {boundary })}$ is associated to the initial conditions of our desired solution. It is defined as: \n",
    "\n",
    "$$\n",
    "    \\mathcal{L}_{\\boldsymbol{\\theta}}^{\\text {(boundary) }}[g, x]:=\\eta L\\left(g(x_0), f_{0}\\right),\n",
    "$$\n",
    "    \n",
    "where $\\eta$ is the weight granted to the boundary condition and $f_{0}$ is given by $f(x_0) = f_0$. \n",
    "\n",
    "Given a function approximator $f^{(n)}(x, \\boldsymbol{\\theta}, \\boldsymbol{\\lambda})$, the loss function above will be minimised using a classical algorithm, updating the parameters $\\boldsymbol{\\theta}$ based on samples obtained using a quantum device.\n",
    "\n",
    "### Quantum circuit architecture\n",
    "\n",
    "The feature map used is presented in \\[2,3,4\\]. The quantum circuit architecture from \\[4\\] is expressed as $\\mathcal{U}(x, \\boldsymbol{\\theta}):=\\mathcal{W}^{(2)}\\left(\\boldsymbol{\\theta}_{2}\\right) \\mathcal{S}(x) \\mathcal{W}^{(1)}\\left(\\boldsymbol{\\theta}_{1}\\right).$ The phase-shift operator $\\mathcal{S}(x)$ incorporates the $x$ dependency of the function we wish to approximate. It is sandwiched between two universal interferometers $\\mathcal{W}^{(1)}(\\boldsymbol{\\theta_1})$ and $\\mathcal{W}^{(2)}(\\boldsymbol{\\theta_2})$, where the beam-splitter parameters $\\boldsymbol{\\theta_1}$ and $\\boldsymbol{\\theta_2}$ of this mesh architecture are tunable to enable training of the circuit.\n",
    "The output measurement operator, noted $\\mathcal{M}(\\boldsymbol{\\lambda})$, is the projection on the Fock states obtained using photon-number resolving detectors, multiplied by some coefficients $\\boldsymbol{\\lambda}$ which can also be tunable. Formally, we have:\n",
    "\n",
    "$$    \\mathcal{M}(\\boldsymbol{\\lambda}) = \\sum_{\\mathbf{\\left | n^{(f)}\\right \\rangle}}\\lambda_{\\mathbf{\\left | n^{(f)}\\right \\rangle}}\\mathbf{\\left | n^{(f)}\\right \\rangle}\\mathbf{\\left \\langle n^{(f)}\\right |},\n",
    "$$\n",
    "\n",
    "where the sum is taken over all $\\binom{n+m-1}{n}$ possible Fock states considering $n$ photons in $m$ modes. Let $\\mathbf{\\left | n^{(i)}\\right \\rangle} = \\left |n^{(i)}_1,n^{(i)}_2,\\dots,n^{(i)}_m\\right \\rangle$ be the input state consisting of $n$ photons where $n^{(i)}_j$ is the number of photons in input mode $j$. Given these elements, the circuit's output $f^{(n)}(x, \\boldsymbol{\\theta}, \\boldsymbol{\\lambda})$ is given by the following expectation value:\n",
    "\n",
    "$$\n",
    "f^{(n)}(x, \\boldsymbol{\\theta}, \\boldsymbol{\\lambda})=\\left\\langle\\mathbf{n}^{(i)}\\left|\\mathcal{U}^{\\dagger}(x, \\boldsymbol{\\theta}) \\mathcal{M}(\\boldsymbol{\\lambda}) \\mathcal{U}(x, \\boldsymbol{\\theta})\\right| \\mathbf{n}^{(i)}\\right\\rangle.\n",
    "$$\n",
    "\n",
    "This expression can be rewritten as the following Fourier series \\[4\\]\n",
    "\n",
    "$$\n",
    "f^{(n)}(x, \\boldsymbol{\\theta}, \\boldsymbol{\\lambda})=\\sum_{\\omega \\in \\Omega_{n}} c_{\\omega}(\\boldsymbol{\\theta}, \\boldsymbol{\\lambda}) e^{i \\omega x},\n",
    "$$\n",
    "\n",
    "where $\\Omega_n = \\{-n, -n+1, \\dots, n-1, n \\}$ is the frequency spectrum one can reach with $n$ incoming photons and $\\{c_\\omega(\\boldsymbol{\\theta}, \\boldsymbol{\\lambda})\\}$ are the Fourier coefficients. The $\\boldsymbol{\\lambda}$ parameters are sampled randomly in the interval $[-a;a]$, with $a$ a randomly chosen integer. $f^{(n)}(x, \\boldsymbol{\\theta}, \\boldsymbol{\\lambda})$ will serve as a function approximator for this chosen differential equation. Differentiation in the loss function is discretised as $\\frac{df}{dx} \\simeq \\frac{f(x+\\Delta x) - f(x-\\Delta x)}{2\\Delta x}$.\n",
    "\n",
    "$n, m,$ and $\\boldsymbol{\\lambda}$ are variable parameters defined below. $\\Delta x$ is the mesh size."
   ]
  },
  {
   "cell_type": "markdown",
   "id": "e9df16c8",
   "metadata": {},
   "source": [
    "## Perceval Simulation\n",
    "\n",
    "### Initialisation"
   ]
  },
  {
   "cell_type": "code",
   "execution_count": 1,
   "id": "7918962c",
   "metadata": {},
   "outputs": [],
   "source": [
    "import perceval as pcvl\n",
    "import numpy as np\n",
    "from math import comb\n",
    "from scipy.optimize import minimize\n",
    "import time\n",
    "import matplotlib.pyplot as plt\n",
    "import matplotlib as mpl\n",
    "import tqdm as tqdm"
   ]
  },
  {
   "cell_type": "markdown",
   "id": "04323b71",
   "metadata": {},
   "source": [
    "We will run this notebook with 4 photons. We could use more photons, but the result with 4 photons is already satisfying."
   ]
  },
  {
   "cell_type": "code",
   "execution_count": 2,
   "id": "f59b62f8",
   "metadata": {},
   "outputs": [],
   "source": [
    "nphotons = 4"
   ]
  },
  {
   "cell_type": "markdown",
   "id": "bd3c3eaf",
   "metadata": {},
   "source": [
    "### Differential equation parameters\n",
    "\n",
    "We define here the value of the differential equation parameters and boundary condition $\\lambda, \\kappa, f_0$."
   ]
  },
  {
   "cell_type": "code",
   "execution_count": 3,
   "id": "debd15cc",
   "metadata": {},
   "outputs": [],
   "source": [
    "# Differential equation parameters\n",
    "lambd = 8\n",
    "kappa = 0.1\n",
    "\n",
    "def F(u_prime, u, x):       # DE, works with numpy arrays\n",
    "    return u_prime + lambd * u * (kappa + np.tan(lambd * x))"
   ]
  },
  {
   "cell_type": "code",
   "execution_count": 4,
   "id": "4c18efbf",
   "metadata": {},
   "outputs": [],
   "source": [
    "# Boundary condition (f(x_0)=f_0)\n",
    "x_0 = 0\n",
    "f_0 = 1"
   ]
  },
  {
   "cell_type": "code",
   "execution_count": 5,
   "id": "ac67fd52",
   "metadata": {},
   "outputs": [],
   "source": [
    "# Modeling parameters\n",
    "n_grid = 50    # number of grid points of the discretized differential equation\n",
    "range_min = 0  # minimum of the interval on which we wish to approximate our function\n",
    "range_max = 1  # maximum of the interval on which we wish to approximate our function\n",
    "X = np.linspace(range_min, range_max-range_min, n_grid)  # Optimisation grid"
   ]
  },
  {
   "cell_type": "code",
   "execution_count": 6,
   "id": "45a02405",
   "metadata": {},
   "outputs": [],
   "source": [
    "# Differential equation's exact solution - for comparison\n",
    "def u(x):\n",
    "    return np.exp(- kappa*lambd*x)*np.cos(lambd*x)"
   ]
  },
  {
   "cell_type": "code",
   "execution_count": 7,
   "id": "9c8830ee",
   "metadata": {},
   "outputs": [],
   "source": [
    "# Parameters of the quantum machine learning procedure\n",
    "N = nphotons              # Number of photons\n",
    "m = nphotons              # Number of modes\n",
    "eta = 5                   # weight granted to the initial condition\n",
    "a = 200                   # Approximate boundaries of the interval that the image of the trial function can cover\n",
    "fock_dim = comb(N + m - 1, N)\n",
    "# lambda coefficients for all the possible outputs\n",
    "lambda_random = 2 * a * np.random.rand(fock_dim) - a\n",
    "# dx serves for the numerical differentiation of f\n",
    "dx = (range_max-range_min) / (n_grid - 1)"
   ]
  },
  {
   "cell_type": "code",
   "execution_count": 8,
   "id": "355b87c8",
   "metadata": {},
   "outputs": [
    {
     "name": "stdout",
     "output_type": "stream",
     "text": [
      "|1,1,1,1>\n"
     ]
    }
   ],
   "source": [
    "# Input state with N photons and m modes\n",
    "input_state = pcvl.BasicState([1]*N+[0]*(m-N))\n",
    "print(input_state)"
   ]
  },
  {
   "cell_type": "markdown",
   "id": "58385605",
   "metadata": {},
   "source": [
    "## Definition of the circuit\n",
    "\n",
    "We will generate a Haar-random initial unitary using QR decomposition built in Perceval `Matrix.random_unitary`, the circuit is defined by the combination of 3 sub-circuits - the intermediate phase is a parameter."
   ]
  },
  {
   "cell_type": "code",
   "execution_count": 9,
   "id": "5dd4d6c3",
   "metadata": {},
   "outputs": [
    {
     "data": {
      "image/svg+xml": [
       "<?xml version=\"1.0\" encoding=\"UTF-8\"?>\n",
       "<svg xmlns=\"http://www.w3.org/2000/svg\" xmlns:xlink=\"http://www.w3.org/1999/xlink\"\n",
       "     width=\"695.0\" height=\"281.25\" viewBox=\"-28.0 0 556.0 225.0\">\n",
       "<defs>\n",
       "</defs>\n",
       "<path d=\"M10,25 L25,25\" stroke-width=\"3\" stroke=\"darkred\" stroke-linejoin=\"miter\" fill=\"none\" />\n",
       "<path d=\"M10,75 L25,75\" stroke-width=\"3\" stroke=\"darkred\" stroke-linejoin=\"miter\" fill=\"none\" />\n",
       "<path d=\"M10,125 L25,125\" stroke-width=\"3\" stroke=\"darkred\" stroke-linejoin=\"miter\" fill=\"none\" />\n",
       "<path d=\"M10,175 L25,175\" stroke-width=\"3\" stroke=\"darkred\" stroke-linejoin=\"miter\" fill=\"none\" />\n",
       "<path d=\"M25,25 L225,25\" stroke-width=\"3\" stroke=\"darkred\" stroke-linejoin=\"miter\" fill=\"none\" />\n",
       "<path d=\"M25,75 L225,75\" stroke-width=\"3\" stroke=\"darkred\" stroke-linejoin=\"miter\" fill=\"none\" />\n",
       "<path d=\"M25,125 L225,125\" stroke-width=\"3\" stroke=\"darkred\" stroke-linejoin=\"miter\" fill=\"none\" />\n",
       "<path d=\"M25,175 L225,175\" stroke-width=\"3\" stroke=\"darkred\" stroke-linejoin=\"miter\" fill=\"none\" />\n",
       "<path d=\"M30,5 L220,5 L220,195 L30,195 Z\" stroke=\"black\" fill=\"gold\" stroke-linejoin=\"miter\" />\n",
       "<text x=\"125\" y=\"100\" font-size=\"10\" text-anchor=\"middle\">W1</text>\n",
       "<path d=\"M225,25 L275,25\" stroke=\"darkred\" stroke-width=\"3\" fill=\"none\" />\n",
       "<path d=\"M230,40 L239,40 L253,10 L244,10 L230,40 L239,40 Z\" stroke=\"black\" fill=\"gray\" stroke-linejoin=\"miter\" />\n",
       "<text x=\"247\" y=\"38\" font-size=\"7\" text-anchor=\"start\">Φ=px</text>\n",
       "<path d=\"M225,75 L275,75\" stroke=\"darkred\" stroke-width=\"3\" fill=\"none\" />\n",
       "<path d=\"M225,125 L275,125\" stroke=\"darkred\" stroke-width=\"3\" fill=\"none\" />\n",
       "<path d=\"M225,175 L275,175\" stroke=\"darkred\" stroke-width=\"3\" fill=\"none\" />\n",
       "<path d=\"M275,25 L475,25\" stroke-width=\"3\" stroke=\"darkred\" stroke-linejoin=\"miter\" fill=\"none\" />\n",
       "<path d=\"M275,75 L475,75\" stroke-width=\"3\" stroke=\"darkred\" stroke-linejoin=\"miter\" fill=\"none\" />\n",
       "<path d=\"M275,125 L475,125\" stroke-width=\"3\" stroke=\"darkred\" stroke-linejoin=\"miter\" fill=\"none\" />\n",
       "<path d=\"M275,175 L475,175\" stroke-width=\"3\" stroke=\"darkred\" stroke-linejoin=\"miter\" fill=\"none\" />\n",
       "<path d=\"M280,5 L470,5 L470,195 L280,195 Z\" stroke=\"black\" fill=\"gold\" stroke-linejoin=\"miter\" />\n",
       "<text x=\"375\" y=\"100\" font-size=\"10\" text-anchor=\"middle\">W2</text>\n",
       "<path d=\"M475,25 L490,25\" stroke-width=\"3\" stroke=\"darkred\" stroke-linejoin=\"miter\" fill=\"none\" />\n",
       "<path d=\"M475,75 L490,75\" stroke-width=\"3\" stroke=\"darkred\" stroke-linejoin=\"miter\" fill=\"none\" />\n",
       "<path d=\"M475,125 L490,125\" stroke-width=\"3\" stroke=\"darkred\" stroke-linejoin=\"miter\" fill=\"none\" />\n",
       "<path d=\"M475,175 L490,175\" stroke-width=\"3\" stroke=\"darkred\" stroke-linejoin=\"miter\" fill=\"none\" />\n",
       "<text x=\"500\" y=\"28\" font-size=\"6\" text-anchor=\"end\">0</text>\n",
       "<text x=\"500\" y=\"78\" font-size=\"6\" text-anchor=\"end\">1</text>\n",
       "<text x=\"500\" y=\"128\" font-size=\"6\" text-anchor=\"end\">2</text>\n",
       "<text x=\"500\" y=\"178\" font-size=\"6\" text-anchor=\"end\">3</text>\n",
       "<text x=\"0\" y=\"28\" font-size=\"6\" text-anchor=\"start\">0</text>\n",
       "<text x=\"0\" y=\"78\" font-size=\"6\" text-anchor=\"start\">1</text>\n",
       "<text x=\"0\" y=\"128\" font-size=\"6\" text-anchor=\"start\">2</text>\n",
       "<text x=\"0\" y=\"178\" font-size=\"6\" text-anchor=\"start\">3</text>\n",
       "</svg>"
      ],
      "text/plain": [
       "<drawsvg.drawing.Drawing at 0x189dcef90f0>"
      ]
     },
     "execution_count": 9,
     "metadata": {},
     "output_type": "execute_result"
    }
   ],
   "source": [
    "\"Haar unitary parameters\"\n",
    "# number of parameters used for the two universal interferometers (2*m**2 per interferometer)\n",
    "parameters = np.random.normal(size=4*m**2)\n",
    "\n",
    "px = pcvl.P(\"px\")\n",
    "c = pcvl.Unitary(pcvl.Matrix.random_unitary(m, parameters[:2 * m ** 2]), name=\"W1\")\\\n",
    "     // (0, pcvl.PS(px))\\\n",
    "     // pcvl.Unitary(pcvl.Matrix.random_unitary(m, parameters[2 * m ** 2:]), name=\"W2\")\n",
    "\n",
    "backend = pcvl.BackendFactory().get_backend(\"SLOS\")\n",
    "backend.set_circuit(pcvl.Unitary(pcvl.Matrix.random_unitary(m)))\n",
    "backend.preprocess([input_state])\n",
    "\n",
    "pcvl.pdisplay(c)"
   ]
  },
  {
   "cell_type": "markdown",
   "id": "5d9333b0",
   "metadata": {},
   "source": [
    "### Expectation value and loss function computation\n",
    "\n",
    "The expectation value of the measurement operator $\\mathcal{M}(\\boldsymbol{\\lambda})$ is obtained directly from Fock state probabilities computed by Perceval. Given this expectation value, the code snippet below computes the loss function defined in the Introduction.\n",
    "\n",
    "Note the use of the `all_prob` simulator method giving directly access to the probabilities of all possible output states, including null probabilities. This calculation is optimized in SLOS backend."
   ]
  },
  {
   "cell_type": "code",
   "execution_count": 10,
   "id": "597cce98",
   "metadata": {},
   "outputs": [],
   "source": [
    "def computation(params):\n",
    "    global current_loss\n",
    "    global computation_count\n",
    "    \"compute the loss function of a given differential equation in order for it to be optimized\"\n",
    "    computation_count += 1\n",
    "    f_theta_0 = 0  # boundary condition\n",
    "    coefs = lambda_random  # coefficients of the M observable\n",
    "    # initial condition with the two universal interferometers and the phase shift in the middle\n",
    "    U_1 = pcvl.Matrix.random_unitary(m, params[:2 * m ** 2])\n",
    "    U_2 = pcvl.Matrix.random_unitary(m, params[2 * m ** 2:])\n",
    "\n",
    "    px = pcvl.P(\"x\")\n",
    "    c = pcvl.Unitary(U_2) // (0, pcvl.PS(px)) // pcvl.Unitary(U_1)\n",
    "\n",
    "    px.set_value(np.pi * x_0)\n",
    "    backend.set_circuit(c)\n",
    "    f_theta_0 = np.sum(np.multiply(backend.all_prob(input_state), coefs))\n",
    "\n",
    "    # boundary condition given a weight eta\n",
    "    loss = eta * (f_theta_0 - f_0) ** 2 * len(X)\n",
    "\n",
    "    # Y[0] is before the domain we are interested in (used for differentiation), x_0 is at Y[1]\n",
    "    Y = np.zeros(n_grid + 2)\n",
    "\n",
    "    # x_0 is at the beginning of the domain, already calculated\n",
    "    Y[1] = f_theta_0\n",
    "\n",
    "    px.set_value(np.pi * (range_min - dx))\n",
    "    backend.set_circuit(c)\n",
    "    Y[0] = np.sum(np.multiply(backend.all_prob(input_state), coefs))\n",
    "\n",
    "\n",
    "    for i in range(1, n_grid):\n",
    "        x = X[i]\n",
    "        px.set_value(np.pi * x)\n",
    "        backend.set_circuit(c)\n",
    "        Y[i + 1] = np.sum(np.multiply(backend.all_prob(input_state), coefs))\n",
    "\n",
    "    px.set_value(np.pi * (range_max + dx))\n",
    "    backend.set_circuit(c)\n",
    "    Y[n_grid + 1] = np.sum(np.multiply(backend.all_prob(input_state), coefs))\n",
    "\n",
    "    # Differentiation\n",
    "    Y_prime = (Y[2:] - Y[:-2])/(2*dx)\n",
    "\n",
    "    loss += np.sum((F(Y_prime, Y[1:-1], X))**2)\n",
    "\n",
    "    current_loss = loss / len(X)\n",
    "    return current_loss"
   ]
  },
  {
   "cell_type": "markdown",
   "id": "8acf5506",
   "metadata": {},
   "source": [
    "### Classical optimisation\n",
    "\n",
    "Finally the code below performs the optimisation procedure using the loss function defined in the previous section. To this end, we use a Broyden–Fletcher–Goldfarb–Shanno (BFGS) optimiser \\[5\\] from the SciPy library."
   ]
  },
  {
   "cell_type": "code",
   "execution_count": 11,
   "id": "281dbb29",
   "metadata": {},
   "outputs": [],
   "source": [
    "def callbackF(parameters):\n",
    "    \"\"\"callback function called by scipy.optimize.minimize allowing to monitor progress\"\"\"\n",
    "    global current_loss\n",
    "    global computation_count\n",
    "    global loss_evolution\n",
    "    global start_time\n",
    "    now = time.time()\n",
    "    pbar.set_description(\"M= %d Loss: %0.5f #computations: %d elapsed: %0.5f\" % \n",
    "                         (m, current_loss, computation_count, now-start_time))\n",
    "    pbar.update(1)\n",
    "    loss_evolution.append((current_loss, now-start_time))\n",
    "    computation_count = 0\n",
    "    start_time = now"
   ]
  },
  {
   "cell_type": "code",
   "execution_count": 12,
   "id": "465db5d2",
   "metadata": {},
   "outputs": [
    {
     "name": "stderr",
     "output_type": "stream",
     "text": [
      "M= 4 Loss: 0.00866 #computations: 130 elapsed: 2.49080: : 105it [03:06,  1.63s/it]  "
     ]
    }
   ],
   "source": [
    "computation_count = 0\n",
    "current_loss = 0\n",
    "start_time = time.time()\n",
    "loss_evolution = []\n",
    "\n",
    "pbar = tqdm.tqdm()\n",
    "res = minimize(computation, parameters, callback=callbackF, method='BFGS', options={'gtol': 1E-2})"
   ]
  },
  {
   "cell_type": "markdown",
   "id": "1be681a8",
   "metadata": {},
   "source": [
    "After the optimisation procedure has been completed, the optimal unitary parameters (in `res.x`) can be used to determine the quantum circuit beam-splitter and phase-shifter angles for an experimental realisation."
   ]
  },
  {
   "cell_type": "code",
   "execution_count": 13,
   "id": "21726b0c",
   "metadata": {},
   "outputs": [
    {
     "name": "stdout",
     "output_type": "stream",
     "text": [
      "Unitary parameters [-0.66334127 -0.04353921 -1.92172598  1.46311582  0.13834699  0.04840466\n",
      " -1.92475716  0.94111392  0.04711636  1.6339162   1.56303605 -0.36947264\n",
      " -0.88242141  0.63431897 -0.71258671  1.11715881  0.21961878 -0.32474614\n",
      "  0.96963211  0.25191156 -0.27099778 -1.41618548  2.5426048  -0.14291888\n",
      "  0.3290805   0.67119072 -1.54546836  1.43350362  0.44816853 -1.37555405\n",
      " -0.46218774  1.05279649  0.90589211 -1.15132551 -0.48436678  0.10585881\n",
      " -0.02193175 -0.80538581 -0.36660846  1.72574933 -0.05184236 -1.1402877\n",
      "  0.86127372  0.25229208 -0.15104874 -0.36761966 -0.56477874  1.2582815\n",
      " -0.17414877 -1.20035746  0.67259315 -1.11251674  0.0161855   1.17097977\n",
      " -1.0474133   1.0467571  -0.10005266 -0.71137126  1.03264364 -1.02637915\n",
      " -0.04809381 -1.00089775 -0.78788374 -0.49447837]\n"
     ]
    }
   ],
   "source": [
    "print(\"Unitary parameters\", res.x)"
   ]
  },
  {
   "cell_type": "markdown",
   "id": "3b6c5da8",
   "metadata": {},
   "source": [
    "### Plotting the approximation\n",
    "\n",
    "We now plot the result of our optimisation in order to compare the QML algorithm's output and the analytical solution."
   ]
  },
  {
   "cell_type": "code",
   "execution_count": 14,
   "id": "6bede765",
   "metadata": {},
   "outputs": [],
   "source": [
    "def plot_solution(m, N, X, optim_params, lambda_random):\n",
    "    Y = []\n",
    "    U_1 = pcvl.Matrix.random_unitary(m, optim_params[:2 * m ** 2])\n",
    "    U_2 = pcvl.Matrix.random_unitary(m, optim_params[2 * m ** 2:])\n",
    "    px = pcvl.P(\"x\")\n",
    "    c = pcvl.Unitary(U_2) // (0, pcvl.PS(px)) // pcvl.Unitary(U_1)\n",
    "\n",
    "    for x in X:\n",
    "        px.set_value(np.pi * x)\n",
    "        backend.set_circuit(c)\n",
    "        f_theta = np.sum(np.multiply(backend.all_prob(input_state), lambda_random))\n",
    "        Y.append(f_theta)\n",
    "    exact = u(X)\n",
    "    plt.plot(X, Y, label=\"Approximation with {} photons\".format(N))"
   ]
  },
  {
   "cell_type": "code",
   "execution_count": 15,
   "id": "b997c635",
   "metadata": {},
   "outputs": [
    {
     "data": {
      "image/png": "[encoded data removed]",
      "text/plain": [
       "<Figure size 432x288 with 1 Axes>"
      ]
     },
     "metadata": {
      "needs_background": "light"
     },
     "output_type": "display_data"
    }
   ],
   "source": [
    "X = np.linspace(range_min, range_max, 200)\n",
    "\n",
    "# Change the plot size\n",
    "default_figsize = mpl.rcParamsDefault['figure.figsize']\n",
    "mpl.rcParams['figure.figsize'] = [2 * value for value in default_figsize]\n",
    "\n",
    "plot_solution(m, N, X, res.x, lambda_random)\n",
    "\n",
    "plt.plot(X, u(X), 'r', label='Analytical solution')\n",
    "plt.legend()\n",
    "plt.show()"
   ]
  },
  {
   "cell_type": "code",
   "execution_count": 16,
   "id": "f819bb4b",
   "metadata": {},
   "outputs": [
    {
     "data": {
      "text/plain": [
       "Text(0, 0.5, 'Loss function value')"
      ]
     },
     "execution_count": 16,
     "metadata": {},
     "output_type": "execute_result"
    },
    {
     "data": {
      "image/png": "[encoded data removed]",
      "text/plain": [
       "<Figure size 432x288 with 1 Axes>"
      ]
     },
     "metadata": {
      "needs_background": "light"
     },
     "output_type": "display_data"
    }
   ],
   "source": [
    "plt.plot([v[0] for v in loss_evolution])\n",
    "plt.yscale(\"log\")\n",
    "plt.xlabel(\"Number of epochs\")\n",
    "plt.ylabel(\"Loss function value\")"
   ]
  },
  {
   "cell_type": "markdown",
   "id": "e53fa645",
   "metadata": {},
   "source": [
    "## References\n",
    "\n",
    "> [1] O. Kyriienko, A. E. Paine, and V. E. Elfving, “Solving nonlinear differential equations with differentiable quantum circuits”, [Physical Review A](https://journals.aps.org/pra/abstract/10.1103/PhysRevA.103.052416) **103**, 052416 (2021).\n",
    "\n",
    "> [2] A. Pérez-Salinas, A. Cervera-Lierta, E. Gil-Fuster, and J. I. Latorre, “Data re-uploading for a universal quantum classifier”, [Quantum](https://quantum-journal.org/papers/q-2020-02-06-226/) **4**, 226 (2020).\n",
    "\n",
    "> [3] M. Schuld, R. Sweke, and J. J. Meyer, “Effect of data encoding on the expressive power of variational quantum-machine-learning models”, [Physical Review A]( https://journals.aps.org/pra/abstract/10.1103/PhysRevA.103.032430) **103**, 032430 (2021).\n",
    "\n",
    "> [4] B. Y. Gan, D. Leykam, D. G. Angelakis, and D. G. Angelakis, “Fock State-enhanced Expressivity of Quantum Machine Learning Models”, in [Conference on Lasers andElectro-Optics](https://opg.optica.org/abstract.cfm?uri=CLEO_AT-2021-JW1A.73) (2021), paper JW1A.73. Optica Publishing Group, (2021).\n",
    "\n",
    "> [5] R. Fletcher, Practical methods of optimization. [John Wiley & Sons](https://onlinelibrary.wiley.com/doi/book/10.1002/9781118723203). (2013)."
   ]
  }
 ],
 "metadata": {
  "language_info": {
   "name": "python"
  }
 },
 "nbformat": 4,
 "nbformat_minor": 5
}
