{
 "cells": [
  {
   "cell_type": "markdown",
   "id": "b1e0bbf3",
   "metadata": {},
   "source": [
    "# Reinforcement learning"
   ]
  },
  {
   "cell_type": "markdown",
   "id": "58b57fee",
   "metadata": {},
   "source": [
    "## Goal and perspectives\n",
    "\n",
    "This tutorial is mainly adapted from this article https://arxiv.org/pdf/2103.06294.pdf and inspired by the work done during the 2022 LOQCathon."
   ]
  },
  {
   "attachments": {},
   "cell_type": "markdown",
   "id": "8078725c",
   "metadata": {},
   "source": [
    "### Reinforcement learning\n",
    "\n",
    "Reinforcement learning is a machine learning framework where an agent tries to find the right actions to perform by interacting with an environment. This is modelled by an agent who is taking actions and receiving percepts from the environment which can be used to choose the next actions. At the end of an epoch (or a series of epochs), the environment rewards (or not) the agent according to the string of actions taken. From the reward, the agent learns and adapts their strategy for the next epochs.\n",
    "\n",
    "![reinforcement_learning.png](../_static/img/reinforcement-learning_reinforcement_learning.png)"
   ]
  },
  {
   "attachments": {},
   "cell_type": "markdown",
   "id": "5a7f63da",
   "metadata": {},
   "source": [
    "In Quantum Reinforcement learning, the exchanged actions, percepts and rewards are now quantum states being exchanged between the environment and the agent. In their paper, the authors claimed to have found a quantum advantage in the time for training by making use of Grover's amplification method to reach good actions quicker, and the goal of this tutorial is to reproduce the main results of their paper:\n",
    "\n",
    "![results_paper.png](../_static/img/reinforcement-learning_results_paper.png)\n"
   ]
  },
  {
   "cell_type": "markdown",
   "id": "4f74c3b5",
   "metadata": {},
   "source": [
    "## Imports of packages and configuration of display"
   ]
  },
  {
   "cell_type": "code",
   "execution_count": 1,
   "id": "7085c79d",
   "metadata": {},
   "outputs": [],
   "source": [
    "from typing import Union\n",
    "\n",
    "from ipywidgets import FloatProgress\n",
    "from IPython.display import display\n",
    "\n",
    "import perceval as pcvl\n",
    "import numpy as np\n",
    "import matplotlib.pyplot as plt\n",
    "from perceval.components.unitary_components import Unitary, BS, PS\n",
    "from perceval.rendering.circuit import DisplayConfig, SymbSkin\n",
    "\n",
    "DisplayConfig.select_skin(SymbSkin)"
   ]
  },
  {
   "cell_type": "markdown",
   "id": "edc77d36",
   "metadata": {},
   "source": [
    "## Grover's algorithm"
   ]
  },
  {
   "cell_type": "markdown",
   "id": "c50e3403",
   "metadata": {},
   "source": [
    "We will now implement Grover's algorithm, firstly from a high-level picture (using unitaries) and then photonically (using Mach-Zehnder interferometers) in the same way that was done in the article."
   ]
  },
  {
   "cell_type": "markdown",
   "id": "e89e9be7",
   "metadata": {},
   "source": [
    "### Grover's algorithm in high-level picture"
   ]
  },
  {
   "cell_type": "code",
   "execution_count": 2,
   "id": "83faf254",
   "metadata": {},
   "outputs": [],
   "source": [
    "# Let's create a function that generates our circuit, given an angle xi\n",
    "\n",
    "def grover_circuit_unitaries(xi:float) -> pcvl.Circuit:\n",
    "    # Unitary to go from |00> to cos(xi)|10> + sin(xi)|01>\n",
    "    unitary_p = pcvl.Matrix(\n",
    "        np.array([[np.cos(xi), -np.sin(xi)], [np.sin(xi), np.cos(xi)]])\n",
    "    )\n",
    "    # Unitary for Hadamard gate\n",
    "    unitary_hadamard = pcvl.Matrix(1 / np.sqrt(2) * np.array([[1, 1], [1, -1]]))\n",
    "    # Unitary for environment interaction, that switches the phase of the good state\n",
    "    unitary_env = pcvl.Matrix(np.array([[0, -1], [-1, 0]]))\n",
    "    # Unitary of the reflection\n",
    "    unitary_reflection = pcvl.Matrix(\n",
    "        np.array(\n",
    "            [\n",
    "                [np.cos(2 * xi), np.sin(2 * xi)],\n",
    "                [np.sin(2 * xi), -np.cos(2 * xi)],\n",
    "            ]\n",
    "        )\n",
    "    )\n",
    "    \n",
    "    # We can now assemble our circuit\n",
    "    hadamard_component = Unitary(unitary_hadamard, \"H\")\n",
    "    circuit = pcvl.Circuit(4) // (1, Unitary(unitary_p, \"P\")) // (0, hadamard_component) // (2, hadamard_component) // (2, Unitary(unitary_env, \"env\"))\\\n",
    "              // (0, hadamard_component) // (2, hadamard_component) // (1, Unitary(unitary_reflection, \"reflection\"))\n",
    "    return circuit"
   ]
  },
  {
   "cell_type": "code",
   "execution_count": 3,
   "id": "94b60295",
   "metadata": {},
   "outputs": [
    {
     "data": {
      "image/svg+xml": [
       "<?xml version=\"1.0\" encoding=\"UTF-8\"?>\n",
       "<svg xmlns=\"http://www.w3.org/2000/svg\" xmlns:xlink=\"http://www.w3.org/1999/xlink\"\n",
       "     width=\"757.5\" height=\"281.25\" viewBox=\"-28.0 0 606.0 225.0\">\n",
       "<defs>\n",
       "</defs>\n",
       "<path d=\"M10,25 L25,25\" stroke-width=\"1\" stroke=\"black\" stroke-linejoin=\"miter\" fill=\"none\" />\n",
       "<path d=\"M10,75 L25,75\" stroke-width=\"1\" stroke=\"black\" stroke-linejoin=\"miter\" fill=\"none\" />\n",
       "<path d=\"M10,125 L25,125\" stroke-width=\"1\" stroke=\"black\" stroke-linejoin=\"miter\" fill=\"none\" />\n",
       "<path d=\"M10,175 L25,175\" stroke-width=\"1\" stroke=\"black\" stroke-linejoin=\"miter\" fill=\"none\" />\n",
       "<path d=\"M25,75 L125,75\" stroke-width=\"1\" stroke=\"black\" stroke-linejoin=\"miter\" fill=\"none\" />\n",
       "<path d=\"M25,125 L125,125\" stroke-width=\"1\" stroke=\"black\" stroke-linejoin=\"miter\" fill=\"none\" />\n",
       "<path d=\"M25,62.5 C25,62.5,25,50.0,37.5,50.0 L112.5,50.0 C125.0,50.0,125.0,62.5,125.0,62.5 L125.0,137.5 C125.0,137.5,125.0,150.0,112.5,150.0 L37.5,150.0 C25.0,150.0,25.0,137.5,25.0,137.5 L25.0,62.5\" stroke-width=\"1\" stroke=\"black\" stroke-linejoin=\"miter\" fill=\"lightyellow\" />\n",
       "<text x=\"75\" y=\"100\" font-size=\"10\" text-anchor=\"middle\">P</text>\n",
       "<path d=\"M25,25 L125,25\" stroke=\"black\" stroke-width=\"1\" fill=\"none\" />\n",
       "<path d=\"M125,25 L225,25\" stroke-width=\"1\" stroke=\"black\" stroke-linejoin=\"miter\" fill=\"none\" />\n",
       "<path d=\"M125,75 L225,75\" stroke-width=\"1\" stroke=\"black\" stroke-linejoin=\"miter\" fill=\"none\" />\n",
       "<path d=\"M125,12.5 C125,12.5,125,0.0,137.5,0.0 L212.5,0.0 C225.0,0.0,225.0,12.5,225.0,12.5 L225.0,87.5 C225.0,87.5,225.0,100.0,212.5,100.0 L137.5,100.0 C125.0,100.0,125.0,87.5,125.0,87.5 L125.0,12.5\" stroke-width=\"1\" stroke=\"black\" stroke-linejoin=\"miter\" fill=\"lightyellow\" />\n",
       "<text x=\"175\" y=\"50\" font-size=\"10\" text-anchor=\"middle\">H</text>\n",
       "<path d=\"M25,175 L125,175\" stroke=\"black\" stroke-width=\"1\" fill=\"none\" />\n",
       "<path d=\"M125,125 L225,125\" stroke-width=\"1\" stroke=\"black\" stroke-linejoin=\"miter\" fill=\"none\" />\n",
       "<path d=\"M125,175 L225,175\" stroke-width=\"1\" stroke=\"black\" stroke-linejoin=\"miter\" fill=\"none\" />\n",
       "<path d=\"M125,112.5 C125,112.5,125,100.0,137.5,100.0 L212.5,100.0 C225.0,100.0,225.0,112.5,225.0,112.5 L225.0,187.5 C225.0,187.5,225.0,200.0,212.5,200.0 L137.5,200.0 C125.0,200.0,125.0,187.5,125.0,187.5 L125.0,112.5\" stroke-width=\"1\" stroke=\"black\" stroke-linejoin=\"miter\" fill=\"lightyellow\" />\n",
       "<text x=\"175\" y=\"150\" font-size=\"10\" text-anchor=\"middle\">H</text>\n",
       "<path d=\"M225,125 L325,125\" stroke-width=\"1\" stroke=\"black\" stroke-linejoin=\"miter\" fill=\"none\" />\n",
       "<path d=\"M225,175 L325,175\" stroke-width=\"1\" stroke=\"black\" stroke-linejoin=\"miter\" fill=\"none\" />\n",
       "<path d=\"M225,112.5 C225,112.5,225,100.0,237.5,100.0 L312.5,100.0 C325.0,100.0,325.0,112.5,325.0,112.5 L325.0,187.5 C325.0,187.5,325.0,200.0,312.5,200.0 L237.5,200.0 C225.0,200.0,225.0,187.5,225.0,187.5 L225.0,112.5\" stroke-width=\"1\" stroke=\"black\" stroke-linejoin=\"miter\" fill=\"lightyellow\" />\n",
       "<text x=\"275\" y=\"150\" font-size=\"10\" text-anchor=\"middle\">env</text>\n",
       "<path d=\"M225,25 L325,25\" stroke-width=\"1\" stroke=\"black\" stroke-linejoin=\"miter\" fill=\"none\" />\n",
       "<path d=\"M225,75 L325,75\" stroke-width=\"1\" stroke=\"black\" stroke-linejoin=\"miter\" fill=\"none\" />\n",
       "<path d=\"M225,12.5 C225,12.5,225,0.0,237.5,0.0 L312.5,0.0 C325.0,0.0,325.0,12.5,325.0,12.5 L325.0,87.5 C325.0,87.5,325.0,100.0,312.5,100.0 L237.5,100.0 C225.0,100.0,225.0,87.5,225.0,87.5 L225.0,12.5\" stroke-width=\"1\" stroke=\"black\" stroke-linejoin=\"miter\" fill=\"lightyellow\" />\n",
       "<text x=\"275\" y=\"50\" font-size=\"10\" text-anchor=\"middle\">H</text>\n",
       "<path d=\"M325,125 L425,125\" stroke-width=\"1\" stroke=\"black\" stroke-linejoin=\"miter\" fill=\"none\" />\n",
       "<path d=\"M325,175 L425,175\" stroke-width=\"1\" stroke=\"black\" stroke-linejoin=\"miter\" fill=\"none\" />\n",
       "<path d=\"M325,112.5 C325,112.5,325,100.0,337.5,100.0 L412.5,100.0 C425.0,100.0,425.0,112.5,425.0,112.5 L425.0,187.5 C425.0,187.5,425.0,200.0,412.5,200.0 L337.5,200.0 C325.0,200.0,325.0,187.5,325.0,187.5 L325.0,112.5\" stroke-width=\"1\" stroke=\"black\" stroke-linejoin=\"miter\" fill=\"lightyellow\" />\n",
       "<text x=\"375\" y=\"150\" font-size=\"10\" text-anchor=\"middle\">H</text>\n",
       "<path d=\"M325,75 L425,75\" stroke=\"black\" stroke-width=\"1\" fill=\"none\" />\n",
       "<path d=\"M425,75 L525,75\" stroke-width=\"1\" stroke=\"black\" stroke-linejoin=\"miter\" fill=\"none\" />\n",
       "<path d=\"M425,125 L525,125\" stroke-width=\"1\" stroke=\"black\" stroke-linejoin=\"miter\" fill=\"none\" />\n",
       "<path d=\"M425,62.5 C425,62.5,425,50.0,437.5,50.0 L512.5,50.0 C525.0,50.0,525.0,62.5,525.0,62.5 L525.0,137.5 C525.0,137.5,525.0,150.0,512.5,150.0 L437.5,150.0 C425.0,150.0,425.0,137.5,425.0,137.5 L425.0,62.5\" stroke-width=\"1\" stroke=\"black\" stroke-linejoin=\"miter\" fill=\"lightyellow\" />\n",
       "<text x=\"475\" y=\"100\" font-size=\"10\" text-anchor=\"middle\">reflection</text>\n",
       "<path d=\"M325,25 L525,25\" stroke=\"black\" stroke-width=\"1\" fill=\"none\" />\n",
       "<path d=\"M425,175 L525,175\" stroke=\"black\" stroke-width=\"1\" fill=\"none\" />\n",
       "<path d=\"M525,25 L540,25\" stroke-width=\"1\" stroke=\"black\" stroke-linejoin=\"miter\" fill=\"none\" />\n",
       "<path d=\"M525,75 L540,75\" stroke-width=\"1\" stroke=\"black\" stroke-linejoin=\"miter\" fill=\"none\" />\n",
       "<path d=\"M525,125 L540,125\" stroke-width=\"1\" stroke=\"black\" stroke-linejoin=\"miter\" fill=\"none\" />\n",
       "<path d=\"M525,175 L540,175\" stroke-width=\"1\" stroke=\"black\" stroke-linejoin=\"miter\" fill=\"none\" />\n",
       "<text x=\"550\" y=\"28\" font-size=\"6\" text-anchor=\"end\">0</text>\n",
       "<text x=\"550\" y=\"78\" font-size=\"6\" text-anchor=\"end\">1</text>\n",
       "<text x=\"550\" y=\"128\" font-size=\"6\" text-anchor=\"end\">2</text>\n",
       "<text x=\"550\" y=\"178\" font-size=\"6\" text-anchor=\"end\">3</text>\n",
       "<text x=\"0\" y=\"28\" font-size=\"6\" text-anchor=\"start\">0</text>\n",
       "<text x=\"0\" y=\"78\" font-size=\"6\" text-anchor=\"start\">1</text>\n",
       "<text x=\"0\" y=\"128\" font-size=\"6\" text-anchor=\"start\">2</text>\n",
       "<text x=\"0\" y=\"178\" font-size=\"6\" text-anchor=\"start\">3</text>\n",
       "</svg>"
      ],
      "text/plain": [
       "<drawsvg.drawing.Drawing at 0x1f6f28b5480>"
      ]
     },
     "execution_count": 3,
     "metadata": {},
     "output_type": "execute_result"
    }
   ],
   "source": [
    "pcvl.pdisplay(grover_circuit_unitaries(np.pi/3))"
   ]
  },
  {
   "cell_type": "markdown",
   "id": "01ddb6f0",
   "metadata": {},
   "source": [
    "One step of amplitude amplification in Grover's algorithm should rotate our state from a $\\xi$ angle to a $3\\xi$ angle from the loosing state to the winning state. Hence we can check the validity of our Grover's amplification algorithm by inputting a photon in the spatial mode 1 and detecting at spatial mode 2. This should follow a $\\sin(3\\xi)^2$ distribution."
   ]
  },
  {
   "cell_type": "code",
   "execution_count": 4,
   "id": "d1f06163",
   "metadata": {},
   "outputs": [],
   "source": [
    "xis = np.linspace(0, np.pi/2, 100)\n",
    "results = []\n",
    "for xi in xis:\n",
    "    circuit = grover_circuit_unitaries(xi)\n",
    "    backend = pcvl.BackendFactory.get_backend()\n",
    "    backend.set_circuit(circuit)\n",
    "    input_state = pcvl.BasicState([0, 1, 0, 0])\n",
    "    backend.set_input_state(input_state)\n",
    "    results.append(backend.probability(pcvl.BasicState([0, 0, 1, 0])))"
   ]
  },
  {
   "cell_type": "code",
   "execution_count": 5,
   "id": "09fc599f",
   "metadata": {},
   "outputs": [
    {
     "data": {
      "text/plain": [
       "<matplotlib.legend.Legend at 0x1f6f496a830>"
      ]
     },
     "execution_count": 5,
     "metadata": {},
     "output_type": "execute_result"
    },
    {
     "data": {
      "image/png": "[encoded data removed]",
      "text/plain": [
       "<Figure size 432x288 with 1 Axes>"
      ]
     },
     "metadata": {
      "needs_background": "light"
     },
     "output_type": "display_data"
    }
   ],
   "source": [
    "plt.plot(xis, results, \"-o\", label=\"Simulation\")\n",
    "plt.plot(xis, np.sin((3*xis)) ** 2, \"--\", label=\"Theoritical\")\n",
    "plt.title(\"Probability after Grover's amplification\")\n",
    "plt.xlabel(\"$\\\\xi$\")\n",
    "plt.ylabel(\"Probability\")\n",
    "plt.grid()\n",
    "plt.legend()"
   ]
  },
  {
   "cell_type": "markdown",
   "id": "4ebd4183",
   "metadata": {},
   "source": [
    "### Designing the circuit with Mach-Zehnder interferometers"
   ]
  },
  {
   "attachments": {},
   "cell_type": "markdown",
   "id": "a46700fb",
   "metadata": {},
   "source": [
    "In the article they have used Mach-Zehnder interferometers (see below) to realize all the circuits.\n",
    "\n",
    "![mzi.png](../_static/img/reinforcement-learning_mzi.png)\n",
    "\n",
    "\n",
    "We want to perform the following unitary transformation (equation A.19 in the paper)\n",
    "\n",
    "$$U_{\\theta,\\varphi} = \\begin{pmatrix}e^{i\\varphi}\\sin\\left(\\frac{\\theta}{2}\\right) & e^{i\\varphi}\\cos\\left(\\frac{\\theta}{2}\\right)\\\\ \\cos\\left(\\frac{\\theta}{2}\\right) & -\\sin\\left(\\frac{\\theta}{2}\\right) \\end{pmatrix}$$\n",
    "\n",
    "However taking the MZI as shown and using the Rx convention for beam splitters yields the following matrix (see documentation [here](https://perceval.quandela.net/docs/components.html#beam-splitter)).\n",
    "\n",
    "\n",
    "$$ie^{i\\frac{\\theta}{2}}\\begin{pmatrix}e^{i\\varphi}\\sin\\left(\\frac{\\theta}{2}\\right) & e^{i\\varphi}\\cos\\left(\\frac{\\theta}{2}\\right)\\\\ \\cos\\left(\\frac{\\theta}{2}\\right) & -\\sin\\left(\\frac{\\theta}{2}\\right) \\end{pmatrix}$$\n",
    "\n",
    "To remove this global phase effect, we use phase shifters with angle $\\theta_2$ to be $-\\frac \\pi 2 - \\frac \\theta 2$:"
   ]
  },
  {
   "cell_type": "code",
   "execution_count": 6,
   "id": "9cc0419f",
   "metadata": {},
   "outputs": [],
   "source": [
    "def mzi(name:str, theta:Union[float, pcvl.Parameter], phi:Union[float, pcvl.Parameter],theta_2:Union[float, pcvl.Parameter]) -> pcvl.Circuit:\n",
    "    # For the mzi to be in the right shape:\n",
    "    #   theta_2 should be set to '- pi/2 - theta/2'\n",
    "    #   however we cannot pass a symbolic expression to the input of PS\n",
    "    #   so we need to define a third angle theta_2 that we will set to '- pi/2 - theta/2' later on\n",
    "    return (\n",
    "        pcvl.Circuit(2, name=name)\n",
    "        .add(0, BS())\n",
    "        .add(0, PS(theta))\n",
    "        .add(0, BS())\n",
    "        .add(0, PS(phi))\n",
    "        .add(0, PS(theta_2))\n",
    "        .add(1, PS(theta_2))\n",
    "    )\n"
   ]
  },
  {
   "cell_type": "code",
   "execution_count": 7,
   "id": "79a8d2a1",
   "metadata": {},
   "outputs": [
    {
     "data": {
      "image/svg+xml": [
       "<?xml version=\"1.0\" encoding=\"UTF-8\"?>\n",
       "<svg xmlns=\"http://www.w3.org/2000/svg\" xmlns:xlink=\"http://www.w3.org/1999/xlink\"\n",
       "     width=\"570.0\" height=\"156.25\" viewBox=\"-28.0 0 456.0 125.0\">\n",
       "<defs>\n",
       "</defs>\n",
       "<path d=\"M10,25 L25,25\" stroke-width=\"1\" stroke=\"black\" stroke-linejoin=\"miter\" fill=\"none\" />\n",
       "<path d=\"M10,75 L25,75\" stroke-width=\"1\" stroke=\"black\" stroke-linejoin=\"miter\" fill=\"none\" />\n",
       "<path d=\"M37.9442,25.0002 C51.653800000000004,25.0002,51.5923,50.0,65.3019,50.0 M65.3038,50.0 C51.59219999999999,50.0,51.6538,74.9998,37.94409999999999,74.9998 M65.3038,49.99999999999999 L87.1884,49.99999999999999 M87.1884,49.99999999999999 C100.9,49.99999999999999,100.83840000000001,25.000199999999992,114.5481,25.000199999999992 M87.1884,49.99999999999999 C100.9,49.99999999999999,100.83840000000001,74.9998,114.5481,74.9998 M25.0,24.999999999999993 L38.0,24.999999999999993 M38.0019,74.9998 L25.0,74.9998 M112.6453,74.9998 L125.0,74.9998 M112.1944,24.999799999999993 L125.0,24.999799999999993\" stroke-width=\"1\" stroke=\"black\" stroke-linejoin=\"miter\" fill=\"none\" />\n",
       "<text x=\"75\" y=\"38\" font-size=\"7\" text-anchor=\"middle\"></text>\n",
       "<path d=\"M97,53 L107,53 L107,63 L97,63 Z\" stroke=\"black\" fill=\"thistle\" stroke-linejoin=\"miter\" />\n",
       "<text x=\"102\" y=\"60\" font-size=\"6\" text-anchor=\"middle\">Rx</text>\n",
       "<path d=\"M125,25 L145,25 M155,25 L175,25\" stroke-width=\"1\" stroke=\"black\" stroke-linejoin=\"miter\" fill=\"none\" />\n",
       "<path d=\"M140,35 L160,35 L160,15 L140,15 L140,35\" stroke-width=\"1\" stroke=\"black\" stroke-linejoin=\"miter\" fill=\"lightgray\" />\n",
       "<text x=\"150\" y=\"44\" font-size=\"7\" text-anchor=\"middle\">Φ=theta_t</text>\n",
       "<path d=\"M125,75 L175,75\" stroke=\"black\" stroke-width=\"1\" fill=\"none\" />\n",
       "<path d=\"M187.9442,25.0002 C201.6538,25.0002,201.5923,50.0,215.3019,50.0 M215.3038,50.0 C201.5922,50.0,201.6538,74.9998,187.9441,74.9998 M215.3038,49.99999999999999 L237.1884,49.99999999999999 M237.1884,49.99999999999999 C250.9,49.99999999999999,250.8384,25.000199999999992,264.5481,25.000199999999992 M237.18839999999997,49.99999999999999 C250.89999999999998,49.99999999999999,250.83839999999998,74.9998,264.5481,74.9998 M174.99999999999997,24.999999999999993 L187.99999999999997,24.999999999999993 M188.00189999999998,74.9998 L174.99999999999997,74.9998 M262.64529999999996,74.9998 L274.99999999999994,74.9998 M262.1944,24.999799999999993 L275.0,24.999799999999993\" stroke-width=\"1\" stroke=\"black\" stroke-linejoin=\"miter\" fill=\"none\" />\n",
       "<text x=\"225\" y=\"38\" font-size=\"7\" text-anchor=\"middle\"></text>\n",
       "<path d=\"M247,53 L257,53 L257,63 L247,63 Z\" stroke=\"black\" fill=\"thistle\" stroke-linejoin=\"miter\" />\n",
       "<text x=\"252\" y=\"60\" font-size=\"6\" text-anchor=\"middle\">Rx</text>\n",
       "<path d=\"M275,25 L295,25 M305,25 L325,25\" stroke-width=\"1\" stroke=\"black\" stroke-linejoin=\"miter\" fill=\"none\" />\n",
       "<path d=\"M290,35 L310,35 L310,15 L290,15 L290,35\" stroke-width=\"1\" stroke=\"black\" stroke-linejoin=\"miter\" fill=\"lightgray\" />\n",
       "<text x=\"300\" y=\"44\" font-size=\"7\" text-anchor=\"middle\">Φ=phi_t</text>\n",
       "<path d=\"M325,25 L345,25 M355,25 L375,25\" stroke-width=\"1\" stroke=\"black\" stroke-linejoin=\"miter\" fill=\"none\" />\n",
       "<path d=\"M340,35 L360,35 L360,15 L340,15 L340,35\" stroke-width=\"1\" stroke=\"black\" stroke-linejoin=\"miter\" fill=\"lightgray\" />\n",
       "<text x=\"350\" y=\"44\" font-size=\"7\" text-anchor=\"middle\">Φ=theta_2</text>\n",
       "<path d=\"M275,75 L295,75 M305,75 L325,75\" stroke-width=\"1\" stroke=\"black\" stroke-linejoin=\"miter\" fill=\"none\" />\n",
       "<path d=\"M290,85 L310,85 L310,65 L290,65 L290,85\" stroke-width=\"1\" stroke=\"black\" stroke-linejoin=\"miter\" fill=\"lightgray\" />\n",
       "<text x=\"300\" y=\"94\" font-size=\"7\" text-anchor=\"middle\">Φ=theta_2</text>\n",
       "<path d=\"M325,75 L375,75\" stroke=\"black\" stroke-width=\"1\" fill=\"none\" />\n",
       "<path d=\"M375,25 L390,25\" stroke-width=\"1\" stroke=\"black\" stroke-linejoin=\"miter\" fill=\"none\" />\n",
       "<path d=\"M375,75 L390,75\" stroke-width=\"1\" stroke=\"black\" stroke-linejoin=\"miter\" fill=\"none\" />\n",
       "<text x=\"400\" y=\"28\" font-size=\"6\" text-anchor=\"end\">0</text>\n",
       "<text x=\"400\" y=\"78\" font-size=\"6\" text-anchor=\"end\">1</text>\n",
       "<text x=\"0\" y=\"28\" font-size=\"6\" text-anchor=\"start\">0</text>\n",
       "<text x=\"0\" y=\"78\" font-size=\"6\" text-anchor=\"start\">1</text>\n",
       "</svg>"
      ],
      "text/plain": [
       "<drawsvg.drawing.Drawing at 0x1f6f4c06e00>"
      ]
     },
     "execution_count": 7,
     "metadata": {},
     "output_type": "execute_result"
    }
   ],
   "source": [
    "theta_t = pcvl.P(\"theta_t\")\n",
    "phi_t = pcvl.P(\"phi_t\")\n",
    "theta_2 = pcvl.P(\"theta_2\")\n",
    "\n",
    "pcvl.pdisplay(mzi(\"test\", theta_t, phi_t, theta_2))"
   ]
  },
  {
   "cell_type": "markdown",
   "id": "8f282446",
   "metadata": {},
   "source": [
    "#### Implementing the gates with MZI"
   ]
  },
  {
   "cell_type": "markdown",
   "id": "1227b4b9",
   "metadata": {},
   "source": [
    "##### Hadamard\n",
    "\n",
    "For the Hadamard, we want $\\theta$ and $\\varphi$ such that\n",
    "\n",
    "$$\\begin{pmatrix}e^{i\\varphi}\\sin\\left(\\frac{\\theta}{2}\\right) & e^{i\\varphi}\\cos\\left(\\frac{\\theta}{2}\\right)\\\\ \\cos\\left(\\frac{\\theta}{2}\\right) & -\\sin\\left(\\frac{\\theta}{2}\\right) \\end{pmatrix} = \\frac{1}{\\sqrt{2}}\\begin{pmatrix}1 & 1\\\\ 1 & -1 \\end{pmatrix}$$\n",
    "\n",
    "so we set $\\theta = \\frac{\\pi}{2}$ and $\\varphi = 0$."
   ]
  },
  {
   "cell_type": "code",
   "execution_count": 8,
   "id": "5edc592f",
   "metadata": {},
   "outputs": [
    {
     "data": {
      "text/html": [
       "$\\left[\\begin{matrix}0.707106781186547 - 1.11022302462516 \\cdot 10^{-16} i & \\frac{i \\left(-3.33066907387547 \\cdot 10^{-16} - 1.4142135623731 i\\right)}{2}\\\\\\frac{i \\left(-3.33066907387547 \\cdot 10^{-16} - 1.4142135623731 i\\right)}{2} & -0.707106781186547 + 1.11022302462516 \\cdot 10^{-16} i\\end{matrix}\\right]$"
      ],
      "text/plain": [
       "<IPython.core.display.HTML object>"
      ]
     },
     "metadata": {},
     "output_type": "display_data"
    }
   ],
   "source": [
    "hadamard = mzi(\"H\", np.pi/2, 0, -np.pi/2 - np.pi/4)\n",
    "\n",
    "pcvl.pdisplay(hadamard.U)"
   ]
  },
  {
   "cell_type": "markdown",
   "id": "a5ce938e",
   "metadata": {},
   "source": [
    "##### Environnement\n",
    "For the environnement, we want a matrix of the form\n",
    "\n",
    "$$\\begin{pmatrix}e^{i\\varphi}\\sin\\left(\\frac{\\theta}{2}\\right) & e^{i\\varphi}\\cos\\left(\\frac{\\theta}{2}\\right)\\\\ \\cos\\left(\\frac{\\theta}{2}\\right) & -\\sin\\left(\\frac{\\theta}{2}\\right) \\end{pmatrix} = \\begin{pmatrix}0 & -1\\\\ -1 & 0 \\end{pmatrix}$$\n",
    "\n",
    "which gives $\\theta = -2\\pi$ and $\\varphi=0$."
   ]
  },
  {
   "cell_type": "code",
   "execution_count": 9,
   "id": "5a76c917",
   "metadata": {},
   "outputs": [
    {
     "data": {
      "text/html": [
       "$\\left[\\begin{matrix}1.22464679914735 \\cdot 10^{-16} & \\frac{i \\left(3.67394039744206 \\cdot 10^{-16} + 2.0 i\\right)}{2}\\\\\\frac{i \\left(3.67394039744206 \\cdot 10^{-16} + 2.0 i\\right)}{2} & -1.22464679914735 \\cdot 10^{-16}\\end{matrix}\\right]$"
      ],
      "text/plain": [
       "<IPython.core.display.HTML object>"
      ]
     },
     "metadata": {},
     "output_type": "display_data"
    }
   ],
   "source": [
    "env = mzi(\"U_E\", -2 * np.pi, 0, -np.pi/2 + np.pi)\n",
    "\n",
    "pcvl.pdisplay(env.U)"
   ]
  },
  {
   "cell_type": "markdown",
   "id": "5c740108",
   "metadata": {},
   "source": [
    "##### Preparation of state\n",
    "\n",
    "For the preparation of the state, we want a matrix of the form\n",
    "\n",
    "\n",
    "$$\\begin{pmatrix}e^{i\\varphi}\\sin\\left(\\frac{\\theta}{2}\\right) & e^{i\\varphi}\\cos\\left(\\frac{\\theta}{2}\\right)\\\\ \\cos\\left(\\frac{\\theta}{2}\\right) & -\\sin\\left(\\frac{\\theta}{2}\\right) \\end{pmatrix} = \\begin{pmatrix}\\cos(\\xi) & -\\sin(\\xi)\\\\ \\sin(\\xi) & \\cos(\\xi) \\end{pmatrix}$$\n",
    "\n",
    "which gives $\\theta = \\pi - 2\\xi$ and $\\varphi=0$.\n"
   ]
  },
  {
   "cell_type": "code",
   "execution_count": 10,
   "id": "30243876",
   "metadata": {},
   "outputs": [],
   "source": [
    "theta_prep = pcvl.P(\"theta_prep\") # We will set it to pi - 2*xi later\n",
    "theta2_prep = pcvl.P(\"theta2_prep\") # We will set it to -pi/2 - pi/2 + xi = -pi + xi later as we cannot pass symbolic expression to the function mzi\n",
    "state_prep = mzi(\"U_p\", theta_prep, 0, theta2_prep)"
   ]
  },
  {
   "cell_type": "markdown",
   "id": "6905688f",
   "metadata": {},
   "source": [
    "##### Reflection\n",
    "\n",
    "For the reflection, we want a matrix of the form \n",
    "\n",
    "$$\\begin{pmatrix}e^{i\\varphi}\\sin\\left(\\frac{\\theta}{2}\\right) & e^{i\\varphi}\\cos\\left(\\frac{\\theta}{2}\\right)\\\\ \\cos\\left(\\frac{\\theta}{2}\\right) & -\\sin\\left(\\frac{\\theta}{2}\\right) \\end{pmatrix} = \\begin{pmatrix}\\cos(2\\xi) & \\sin(2\\xi)\\\\ \\sin(2\\xi) & -\\cos(2\\xi) \\end{pmatrix}$$\n",
    "\n",
    "which gives $\\theta = \\pi - 4\\xi$ and $\\varphi=0$"
   ]
  },
  {
   "cell_type": "code",
   "execution_count": 11,
   "id": "a640d216",
   "metadata": {},
   "outputs": [],
   "source": [
    "theta_ref = pcvl.P(\"theta_ref\") # We will set it to pi - 4*xi later\n",
    "theta2_ref = pcvl.P(\"theta2_ref\") # We will set it to -pi/2 - pi/2 + 2xi = -pi + 2xi later as we cannot pass symbolic expression to the function mzi\n",
    "ref = mzi(\"U_ref\", theta_ref, 0, theta2_ref)"
   ]
  },
  {
   "cell_type": "markdown",
   "id": "f0e532b8",
   "metadata": {},
   "source": [
    "### Grover's algorithm with MZI"
   ]
  },
  {
   "cell_type": "markdown",
   "id": "3acb6e44",
   "metadata": {},
   "source": [
    "We now implement again Grover's algorithm with MZI implementation as a sanity check for the definitions of the gates we chose."
   ]
  },
  {
   "cell_type": "code",
   "execution_count": 12,
   "id": "5029c0f7",
   "metadata": {},
   "outputs": [
    {
     "data": {
      "image/svg+xml": [
       "<?xml version=\"1.0\" encoding=\"UTF-8\"?>\n",
       "<svg xmlns=\"http://www.w3.org/2000/svg\" xmlns:xlink=\"http://www.w3.org/1999/xlink\"\n",
       "     width=\"2320.0\" height=\"281.25\" viewBox=\"-28.0 0 1856.0 225.0\">\n",
       "<defs>\n",
       "</defs>\n",
       "<path d=\"M10,25 L25,25\" stroke-width=\"1\" stroke=\"black\" stroke-linejoin=\"miter\" fill=\"none\" />\n",
       "<path d=\"M10,75 L25,75\" stroke-width=\"1\" stroke=\"black\" stroke-linejoin=\"miter\" fill=\"none\" />\n",
       "<path d=\"M10,125 L25,125\" stroke-width=\"1\" stroke=\"black\" stroke-linejoin=\"miter\" fill=\"none\" />\n",
       "<path d=\"M10,175 L25,175\" stroke-width=\"1\" stroke=\"black\" stroke-linejoin=\"miter\" fill=\"none\" />\n",
       "<path d=\"M27,52 L373,52 L373,148 L27,148 Z\" stroke=\"black\" fill=\"lightblue\" stroke-dasharray=\"1,2\" stroke-linejoin=\"miter\" />\n",
       "<text x=\"29\" y=\"155\" font-size=\"8\" text-anchor=\"start\">U_P</text>\n",
       "<path d=\"M37.9442,75.0002 C51.653800000000004,75.0002,51.5923,100.0,65.3019,100.0 M65.3038,100.0 C51.59219999999999,100.0,51.6538,124.9998,37.94409999999999,124.9998 M65.3038,100.0 L87.1884,100.0 M87.1884,100.0 C100.9,100.0,100.83840000000001,75.0002,114.5481,75.0002 M87.1884,100.0 C100.9,100.0,100.83840000000001,124.9998,114.5481,124.9998 M25.0,75.0 L38.0,75.0 M38.0019,124.9998 L25.0,124.9998 M112.6453,124.9998 L125.0,124.9998 M112.1944,74.9998 L125.0,74.9998\" stroke-width=\"1\" stroke=\"black\" stroke-linejoin=\"miter\" fill=\"none\" />\n",
       "<text x=\"75\" y=\"88\" font-size=\"7\" text-anchor=\"middle\"></text>\n",
       "<path d=\"M97,103 L107,103 L107,113 L97,113 Z\" stroke=\"black\" fill=\"thistle\" stroke-linejoin=\"miter\" />\n",
       "<text x=\"102\" y=\"110\" font-size=\"6\" text-anchor=\"middle\">Rx</text>\n",
       "<path d=\"M125,75 L145,75 M155,75 L175,75\" stroke-width=\"1\" stroke=\"black\" stroke-linejoin=\"miter\" fill=\"none\" />\n",
       "<path d=\"M140,85 L160,85 L160,65 L140,65 L140,85\" stroke-width=\"1\" stroke=\"black\" stroke-linejoin=\"miter\" fill=\"lightgray\" />\n",
       "<text x=\"150\" y=\"94\" font-size=\"7\" text-anchor=\"middle\">Φ=theta_prep</text>\n",
       "<path d=\"M125,125 L175,125\" stroke=\"black\" stroke-width=\"1\" fill=\"none\" />\n",
       "<path d=\"M187.9442,75.0002 C201.6538,75.0002,201.5923,100.0,215.3019,100.0 M215.3038,100.0 C201.5922,100.0,201.6538,124.9998,187.9441,124.9998 M215.3038,100.0 L237.1884,100.0 M237.1884,100.0 C250.9,100.0,250.8384,75.0002,264.5481,75.0002 M237.18839999999997,100.0 C250.89999999999998,100.0,250.83839999999998,124.9998,264.5481,124.9998 M174.99999999999997,75.0 L187.99999999999997,75.0 M188.00189999999998,124.9998 L174.99999999999997,124.9998 M262.64529999999996,124.9998 L274.99999999999994,124.9998 M262.1944,74.9998 L275.0,74.9998\" stroke-width=\"1\" stroke=\"black\" stroke-linejoin=\"miter\" fill=\"none\" />\n",
       "<text x=\"225\" y=\"88\" font-size=\"7\" text-anchor=\"middle\"></text>\n",
       "<path d=\"M247,103 L257,103 L257,113 L247,113 Z\" stroke=\"black\" fill=\"thistle\" stroke-linejoin=\"miter\" />\n",
       "<text x=\"252\" y=\"110\" font-size=\"6\" text-anchor=\"middle\">Rx</text>\n",
       "<path d=\"M275,75 L295,75 M305,75 L325,75\" stroke-width=\"1\" stroke=\"black\" stroke-linejoin=\"miter\" fill=\"none\" />\n",
       "<path d=\"M290,85 L310,85 L310,65 L290,65 L290,85\" stroke-width=\"1\" stroke=\"black\" stroke-linejoin=\"miter\" fill=\"lightgray\" />\n",
       "<text x=\"300\" y=\"94\" font-size=\"7\" text-anchor=\"middle\">Φ=0</text>\n",
       "<path d=\"M325,75 L345,75 M355,75 L375,75\" stroke-width=\"1\" stroke=\"black\" stroke-linejoin=\"miter\" fill=\"none\" />\n",
       "<path d=\"M340,85 L360,85 L360,65 L340,65 L340,85\" stroke-width=\"1\" stroke=\"black\" stroke-linejoin=\"miter\" fill=\"lightgray\" />\n",
       "<text x=\"350\" y=\"94\" font-size=\"7\" text-anchor=\"middle\">Φ=theta2_prep</text>\n",
       "<path d=\"M275,125 L295,125 M305,125 L325,125\" stroke-width=\"1\" stroke=\"black\" stroke-linejoin=\"miter\" fill=\"none\" />\n",
       "<path d=\"M290,135 L310,135 L310,115 L290,115 L290,135\" stroke-width=\"1\" stroke=\"black\" stroke-linejoin=\"miter\" fill=\"lightgray\" />\n",
       "<text x=\"300\" y=\"144\" font-size=\"7\" text-anchor=\"middle\">Φ=theta2_prep</text>\n",
       "<path d=\"M25,25 L375,25\" stroke=\"black\" stroke-width=\"1\" fill=\"none\" />\n",
       "<path d=\"M325,125 L375,125\" stroke=\"black\" stroke-width=\"1\" fill=\"none\" />\n",
       "<path d=\"M377,2 L723,2 L723,98 L377,98 Z\" stroke=\"black\" fill=\"lightblue\" stroke-dasharray=\"1,2\" stroke-linejoin=\"miter\" />\n",
       "<text x=\"379\" y=\"105\" font-size=\"8\" text-anchor=\"start\">H</text>\n",
       "<path d=\"M387.9442,25.0002 C401.65380000000005,25.0002,401.5923,50.0,415.30190000000005,50.0 M415.3038,50.0 C401.59220000000005,50.0,401.65380000000005,74.9998,387.94410000000005,74.9998 M415.3038,49.99999999999999 L437.1884,49.99999999999999 M437.1884,49.99999999999999 C450.9,49.99999999999999,450.8384,25.000199999999992,464.5481,25.000199999999992 M437.1884,49.99999999999999 C450.9,49.99999999999999,450.8384,74.9998,464.5481,74.9998 M375.0,24.999999999999993 L388.0,24.999999999999993 M388.0019,74.9998 L375.0,74.9998 M462.6453,74.9998 L475.0,74.9998 M462.1944,24.999799999999993 L475.0,24.999799999999993\" stroke-width=\"1\" stroke=\"black\" stroke-linejoin=\"miter\" fill=\"none\" />\n",
       "<text x=\"425\" y=\"38\" font-size=\"7\" text-anchor=\"middle\"></text>\n",
       "<path d=\"M447,53 L457,53 L457,63 L447,63 Z\" stroke=\"black\" fill=\"thistle\" stroke-linejoin=\"miter\" />\n",
       "<text x=\"452\" y=\"60\" font-size=\"6\" text-anchor=\"middle\">Rx</text>\n",
       "<path d=\"M475,25 L495,25 M505,25 L525,25\" stroke-width=\"1\" stroke=\"black\" stroke-linejoin=\"miter\" fill=\"none\" />\n",
       "<path d=\"M490,35 L510,35 L510,15 L490,15 L490,35\" stroke-width=\"1\" stroke=\"black\" stroke-linejoin=\"miter\" fill=\"lightgray\" />\n",
       "<text x=\"500\" y=\"44\" font-size=\"7\" text-anchor=\"middle\">Φ=pi/2</text>\n",
       "<path d=\"M475,75 L525,75\" stroke=\"black\" stroke-width=\"1\" fill=\"none\" />\n",
       "<path d=\"M537.9442,25.0002 C551.6538,25.0002,551.5923,50.0,565.3019,50.0 M565.3038,50.0 C551.5922,50.0,551.6538,74.9998,537.9441,74.9998 M565.3038,49.99999999999999 L587.1884,49.99999999999999 M587.1884,49.99999999999999 C600.9,49.99999999999999,600.8384,25.000199999999992,614.5481,25.000199999999992 M587.1884,49.99999999999999 C600.9,49.99999999999999,600.8384,74.9998,614.5481,74.9998 M525.0,24.999999999999993 L538.0,24.999999999999993 M538.0019,74.9998 L525.0,74.9998 M612.6453,74.9998 L625.0,74.9998 M612.1944,24.999799999999993 L625.0,24.999799999999993\" stroke-width=\"1\" stroke=\"black\" stroke-linejoin=\"miter\" fill=\"none\" />\n",
       "<text x=\"575\" y=\"38\" font-size=\"7\" text-anchor=\"middle\"></text>\n",
       "<path d=\"M597,53 L607,53 L607,63 L597,63 Z\" stroke=\"black\" fill=\"thistle\" stroke-linejoin=\"miter\" />\n",
       "<text x=\"602\" y=\"60\" font-size=\"6\" text-anchor=\"middle\">Rx</text>\n",
       "<path d=\"M625,25 L645,25 M655,25 L675,25\" stroke-width=\"1\" stroke=\"black\" stroke-linejoin=\"miter\" fill=\"none\" />\n",
       "<path d=\"M640,35 L660,35 L660,15 L640,15 L640,35\" stroke-width=\"1\" stroke=\"black\" stroke-linejoin=\"miter\" fill=\"lightgray\" />\n",
       "<text x=\"650\" y=\"44\" font-size=\"7\" text-anchor=\"middle\">Φ=0</text>\n",
       "<path d=\"M675,25 L695,25 M705,25 L725,25\" stroke-width=\"1\" stroke=\"black\" stroke-linejoin=\"miter\" fill=\"none\" />\n",
       "<path d=\"M690,35 L710,35 L710,15 L690,15 L690,35\" stroke-width=\"1\" stroke=\"black\" stroke-linejoin=\"miter\" fill=\"lightgray\" />\n",
       "<text x=\"700\" y=\"44\" font-size=\"7\" text-anchor=\"middle\">Φ=5*pi/4</text>\n",
       "<path d=\"M625,75 L645,75 M655,75 L675,75\" stroke-width=\"1\" stroke=\"black\" stroke-linejoin=\"miter\" fill=\"none\" />\n",
       "<path d=\"M640,85 L660,85 L660,65 L640,65 L640,85\" stroke-width=\"1\" stroke=\"black\" stroke-linejoin=\"miter\" fill=\"lightgray\" />\n",
       "<text x=\"650\" y=\"94\" font-size=\"7\" text-anchor=\"middle\">Φ=5*pi/4</text>\n",
       "<path d=\"M675,75 L725,75\" stroke=\"black\" stroke-width=\"1\" fill=\"none\" />\n",
       "<path d=\"M25,175 L375,175\" stroke=\"black\" stroke-width=\"1\" fill=\"none\" />\n",
       "<path d=\"M377,102 L723,102 L723,198 L377,198 Z\" stroke=\"black\" fill=\"lightblue\" stroke-dasharray=\"1,2\" stroke-linejoin=\"miter\" />\n",
       "<text x=\"379\" y=\"205\" font-size=\"8\" text-anchor=\"start\">H</text>\n",
       "<path d=\"M387.9442,125.0002 C401.65380000000005,125.0002,401.5923,150.0,415.30190000000005,150.0 M415.3038,150.0 C401.59220000000005,150.0,401.65380000000005,174.9998,387.94410000000005,174.9998 M415.3038,150.0 L437.1884,150.0 M437.1884,150.0 C450.9,150.0,450.8384,125.0002,464.5481,125.0002 M437.1884,150.0 C450.9,150.0,450.8384,174.9998,464.5481,174.9998 M375.0,125.0 L388.0,125.0 M388.0019,174.9998 L375.0,174.9998 M462.6453,174.9998 L475.0,174.9998 M462.1944,124.9998 L475.0,124.9998\" stroke-width=\"1\" stroke=\"black\" stroke-linejoin=\"miter\" fill=\"none\" />\n",
       "<text x=\"425\" y=\"138\" font-size=\"7\" text-anchor=\"middle\"></text>\n",
       "<path d=\"M447,153 L457,153 L457,163 L447,163 Z\" stroke=\"black\" fill=\"thistle\" stroke-linejoin=\"miter\" />\n",
       "<text x=\"452\" y=\"160\" font-size=\"6\" text-anchor=\"middle\">Rx</text>\n",
       "<path d=\"M475,125 L495,125 M505,125 L525,125\" stroke-width=\"1\" stroke=\"black\" stroke-linejoin=\"miter\" fill=\"none\" />\n",
       "<path d=\"M490,135 L510,135 L510,115 L490,115 L490,135\" stroke-width=\"1\" stroke=\"black\" stroke-linejoin=\"miter\" fill=\"lightgray\" />\n",
       "<text x=\"500\" y=\"144\" font-size=\"7\" text-anchor=\"middle\">Φ=pi/2</text>\n",
       "<path d=\"M475,175 L525,175\" stroke=\"black\" stroke-width=\"1\" fill=\"none\" />\n",
       "<path d=\"M537.9442,125.0002 C551.6538,125.0002,551.5923,150.0,565.3019,150.0 M565.3038,150.0 C551.5922,150.0,551.6538,174.9998,537.9441,174.9998 M565.3038,150.0 L587.1884,150.0 M587.1884,150.0 C600.9,150.0,600.8384,125.0002,614.5481,125.0002 M587.1884,150.0 C600.9,150.0,600.8384,174.9998,614.5481,174.9998 M525.0,125.0 L538.0,125.0 M538.0019,174.9998 L525.0,174.9998 M612.6453,174.9998 L625.0,174.9998 M612.1944,124.9998 L625.0,124.9998\" stroke-width=\"1\" stroke=\"black\" stroke-linejoin=\"miter\" fill=\"none\" />\n",
       "<text x=\"575\" y=\"138\" font-size=\"7\" text-anchor=\"middle\"></text>\n",
       "<path d=\"M597,153 L607,153 L607,163 L597,163 Z\" stroke=\"black\" fill=\"thistle\" stroke-linejoin=\"miter\" />\n",
       "<text x=\"602\" y=\"160\" font-size=\"6\" text-anchor=\"middle\">Rx</text>\n",
       "<path d=\"M625,125 L645,125 M655,125 L675,125\" stroke-width=\"1\" stroke=\"black\" stroke-linejoin=\"miter\" fill=\"none\" />\n",
       "<path d=\"M640,135 L660,135 L660,115 L640,115 L640,135\" stroke-width=\"1\" stroke=\"black\" stroke-linejoin=\"miter\" fill=\"lightgray\" />\n",
       "<text x=\"650\" y=\"144\" font-size=\"7\" text-anchor=\"middle\">Φ=0</text>\n",
       "<path d=\"M675,125 L695,125 M705,125 L725,125\" stroke-width=\"1\" stroke=\"black\" stroke-linejoin=\"miter\" fill=\"none\" />\n",
       "<path d=\"M690,135 L710,135 L710,115 L690,115 L690,135\" stroke-width=\"1\" stroke=\"black\" stroke-linejoin=\"miter\" fill=\"lightgray\" />\n",
       "<text x=\"700\" y=\"144\" font-size=\"7\" text-anchor=\"middle\">Φ=5*pi/4</text>\n",
       "<path d=\"M625,175 L645,175 M655,175 L675,175\" stroke-width=\"1\" stroke=\"black\" stroke-linejoin=\"miter\" fill=\"none\" />\n",
       "<path d=\"M640,185 L660,185 L660,165 L640,165 L640,185\" stroke-width=\"1\" stroke=\"black\" stroke-linejoin=\"miter\" fill=\"lightgray\" />\n",
       "<text x=\"650\" y=\"194\" font-size=\"7\" text-anchor=\"middle\">Φ=5*pi/4</text>\n",
       "<path d=\"M675,175 L725,175\" stroke=\"black\" stroke-width=\"1\" fill=\"none\" />\n",
       "<path d=\"M727,102 L1073,102 L1073,198 L727,198 Z\" stroke=\"black\" fill=\"lightblue\" stroke-dasharray=\"1,2\" stroke-linejoin=\"miter\" />\n",
       "<text x=\"729\" y=\"205\" font-size=\"8\" text-anchor=\"start\">U_E</text>\n",
       "<path d=\"M737.9442,125.0002 C751.6538,125.0002,751.5923,150.0,765.3019,150.0 M765.3038,150.0 C751.5922,150.0,751.6538,174.9998,737.9441,174.9998 M765.3038,150.0 L787.1884,150.0 M787.1884,150.0 C800.9,150.0,800.8384,125.0002,814.5481,125.0002 M787.1884,150.0 C800.9,150.0,800.8384,174.9998,814.5481,174.9998 M725.0,125.0 L738.0,125.0 M738.0019,174.9998 L725.0,174.9998 M812.6453,174.9998 L825.0,174.9998 M812.1944,124.9998 L825.0,124.9998\" stroke-width=\"1\" stroke=\"black\" stroke-linejoin=\"miter\" fill=\"none\" />\n",
       "<text x=\"775\" y=\"138\" font-size=\"7\" text-anchor=\"middle\"></text>\n",
       "<path d=\"M797,153 L807,153 L807,163 L797,163 Z\" stroke=\"black\" fill=\"thistle\" stroke-linejoin=\"miter\" />\n",
       "<text x=\"802\" y=\"160\" font-size=\"6\" text-anchor=\"middle\">Rx</text>\n",
       "<path d=\"M825,125 L845,125 M855,125 L875,125\" stroke-width=\"1\" stroke=\"black\" stroke-linejoin=\"miter\" fill=\"none\" />\n",
       "<path d=\"M840,135 L860,135 L860,115 L840,115 L840,135\" stroke-width=\"1\" stroke=\"black\" stroke-linejoin=\"miter\" fill=\"lightgray\" />\n",
       "<text x=\"850\" y=\"144\" font-size=\"7\" text-anchor=\"middle\">Φ=2*pi</text>\n",
       "<path d=\"M825,175 L875,175\" stroke=\"black\" stroke-width=\"1\" fill=\"none\" />\n",
       "<path d=\"M887.9442,125.0002 C901.6538,125.0002,901.5923,150.0,915.3019,150.0 M915.3038,150.0 C901.5922,150.0,901.6538,174.9998,887.9441,174.9998 M915.3038,150.0 L937.1884,150.0 M937.1884,150.0 C950.9,150.0,950.8384,125.0002,964.5481,125.0002 M937.1884,150.0 C950.9,150.0,950.8384,174.9998,964.5481,174.9998 M875.0,125.0 L888.0,125.0 M888.0019,174.9998 L875.0,174.9998 M962.6453,174.9998 L975.0,174.9998 M962.1944,124.9998 L975.0,124.9998\" stroke-width=\"1\" stroke=\"black\" stroke-linejoin=\"miter\" fill=\"none\" />\n",
       "<text x=\"925\" y=\"138\" font-size=\"7\" text-anchor=\"middle\"></text>\n",
       "<path d=\"M947,153 L957,153 L957,163 L947,163 Z\" stroke=\"black\" fill=\"thistle\" stroke-linejoin=\"miter\" />\n",
       "<text x=\"952\" y=\"160\" font-size=\"6\" text-anchor=\"middle\">Rx</text>\n",
       "<path d=\"M975,125 L995,125 M1005,125 L1025,125\" stroke-width=\"1\" stroke=\"black\" stroke-linejoin=\"miter\" fill=\"none\" />\n",
       "<path d=\"M990,135 L1010,135 L1010,115 L990,115 L990,135\" stroke-width=\"1\" stroke=\"black\" stroke-linejoin=\"miter\" fill=\"lightgray\" />\n",
       "<text x=\"1000\" y=\"144\" font-size=\"7\" text-anchor=\"middle\">Φ=0</text>\n",
       "<path d=\"M1025,125 L1045,125 M1055,125 L1075,125\" stroke-width=\"1\" stroke=\"black\" stroke-linejoin=\"miter\" fill=\"none\" />\n",
       "<path d=\"M1040,135 L1060,135 L1060,115 L1040,115 L1040,135\" stroke-width=\"1\" stroke=\"black\" stroke-linejoin=\"miter\" fill=\"lightgray\" />\n",
       "<text x=\"1050\" y=\"144\" font-size=\"7\" text-anchor=\"middle\">Φ=pi/2</text>\n",
       "<path d=\"M975,175 L995,175 M1005,175 L1025,175\" stroke-width=\"1\" stroke=\"black\" stroke-linejoin=\"miter\" fill=\"none\" />\n",
       "<path d=\"M990,185 L1010,185 L1010,165 L990,165 L990,185\" stroke-width=\"1\" stroke=\"black\" stroke-linejoin=\"miter\" fill=\"lightgray\" />\n",
       "<text x=\"1000\" y=\"194\" font-size=\"7\" text-anchor=\"middle\">Φ=pi/2</text>\n",
       "<path d=\"M1025,175 L1075,175\" stroke=\"black\" stroke-width=\"1\" fill=\"none\" />\n",
       "<path d=\"M727,2 L1073,2 L1073,98 L727,98 Z\" stroke=\"black\" fill=\"lightblue\" stroke-dasharray=\"1,2\" stroke-linejoin=\"miter\" />\n",
       "<text x=\"729\" y=\"105\" font-size=\"8\" text-anchor=\"start\">H</text>\n",
       "<path d=\"M737.9442,25.0002 C751.6538,25.0002,751.5923,50.0,765.3019,50.0 M765.3038,50.0 C751.5922,50.0,751.6538,74.9998,737.9441,74.9998 M765.3038,49.99999999999999 L787.1884,49.99999999999999 M787.1884,49.99999999999999 C800.9,49.99999999999999,800.8384,25.000199999999992,814.5481,25.000199999999992 M787.1884,49.99999999999999 C800.9,49.99999999999999,800.8384,74.9998,814.5481,74.9998 M725.0,24.999999999999993 L738.0,24.999999999999993 M738.0019,74.9998 L725.0,74.9998 M812.6453,74.9998 L825.0,74.9998 M812.1944,24.999799999999993 L825.0,24.999799999999993\" stroke-width=\"1\" stroke=\"black\" stroke-linejoin=\"miter\" fill=\"none\" />\n",
       "<text x=\"775\" y=\"38\" font-size=\"7\" text-anchor=\"middle\"></text>\n",
       "<path d=\"M797,53 L807,53 L807,63 L797,63 Z\" stroke=\"black\" fill=\"thistle\" stroke-linejoin=\"miter\" />\n",
       "<text x=\"802\" y=\"60\" font-size=\"6\" text-anchor=\"middle\">Rx</text>\n",
       "<path d=\"M825,25 L845,25 M855,25 L875,25\" stroke-width=\"1\" stroke=\"black\" stroke-linejoin=\"miter\" fill=\"none\" />\n",
       "<path d=\"M840,35 L860,35 L860,15 L840,15 L840,35\" stroke-width=\"1\" stroke=\"black\" stroke-linejoin=\"miter\" fill=\"lightgray\" />\n",
       "<text x=\"850\" y=\"44\" font-size=\"7\" text-anchor=\"middle\">Φ=pi/2</text>\n",
       "<path d=\"M825,75 L875,75\" stroke=\"black\" stroke-width=\"1\" fill=\"none\" />\n",
       "<path d=\"M887.9442,25.0002 C901.6538,25.0002,901.5923,50.0,915.3019,50.0 M915.3038,50.0 C901.5922,50.0,901.6538,74.9998,887.9441,74.9998 M915.3038,49.99999999999999 L937.1884,49.99999999999999 M937.1884,49.99999999999999 C950.9,49.99999999999999,950.8384,25.000199999999992,964.5481,25.000199999999992 M937.1884,49.99999999999999 C950.9,49.99999999999999,950.8384,74.9998,964.5481,74.9998 M875.0,24.999999999999993 L888.0,24.999999999999993 M888.0019,74.9998 L875.0,74.9998 M962.6453,74.9998 L975.0,74.9998 M962.1944,24.999799999999993 L975.0,24.999799999999993\" stroke-width=\"1\" stroke=\"black\" stroke-linejoin=\"miter\" fill=\"none\" />\n",
       "<text x=\"925\" y=\"38\" font-size=\"7\" text-anchor=\"middle\"></text>\n",
       "<path d=\"M947,53 L957,53 L957,63 L947,63 Z\" stroke=\"black\" fill=\"thistle\" stroke-linejoin=\"miter\" />\n",
       "<text x=\"952\" y=\"60\" font-size=\"6\" text-anchor=\"middle\">Rx</text>\n",
       "<path d=\"M975,25 L995,25 M1005,25 L1025,25\" stroke-width=\"1\" stroke=\"black\" stroke-linejoin=\"miter\" fill=\"none\" />\n",
       "<path d=\"M990,35 L1010,35 L1010,15 L990,15 L990,35\" stroke-width=\"1\" stroke=\"black\" stroke-linejoin=\"miter\" fill=\"lightgray\" />\n",
       "<text x=\"1000\" y=\"44\" font-size=\"7\" text-anchor=\"middle\">Φ=0</text>\n",
       "<path d=\"M1025,25 L1045,25 M1055,25 L1075,25\" stroke-width=\"1\" stroke=\"black\" stroke-linejoin=\"miter\" fill=\"none\" />\n",
       "<path d=\"M1040,35 L1060,35 L1060,15 L1040,15 L1040,35\" stroke-width=\"1\" stroke=\"black\" stroke-linejoin=\"miter\" fill=\"lightgray\" />\n",
       "<text x=\"1050\" y=\"44\" font-size=\"7\" text-anchor=\"middle\">Φ=5*pi/4</text>\n",
       "<path d=\"M975,75 L995,75 M1005,75 L1025,75\" stroke-width=\"1\" stroke=\"black\" stroke-linejoin=\"miter\" fill=\"none\" />\n",
       "<path d=\"M990,85 L1010,85 L1010,65 L990,65 L990,85\" stroke-width=\"1\" stroke=\"black\" stroke-linejoin=\"miter\" fill=\"lightgray\" />\n",
       "<text x=\"1000\" y=\"94\" font-size=\"7\" text-anchor=\"middle\">Φ=5*pi/4</text>\n",
       "<path d=\"M1025,75 L1075,75\" stroke=\"black\" stroke-width=\"1\" fill=\"none\" />\n",
       "<path d=\"M1077,102 L1423,102 L1423,198 L1077,198 Z\" stroke=\"black\" fill=\"lightblue\" stroke-dasharray=\"1,2\" stroke-linejoin=\"miter\" />\n",
       "<text x=\"1079\" y=\"205\" font-size=\"8\" text-anchor=\"start\">H</text>\n",
       "<path d=\"M1087.9442,125.0002 C1101.6537999999998,125.0002,1101.5922999999998,150.0,1115.3019,150.0 M1115.3038,150.0 C1101.5921999999998,150.0,1101.6537999999998,174.9998,1087.9441,174.9998 M1115.3038,150.0 L1137.1884,150.0 M1137.1884,150.0 C1150.9,150.0,1150.8384,125.0002,1164.5481,125.0002 M1137.1884,150.0 C1150.9,150.0,1150.8384,174.9998,1164.5481,174.9998 M1075.0,125.0 L1088.0,125.0 M1088.0019,174.9998 L1075.0,174.9998 M1162.6453,174.9998 L1175.0,174.9998 M1162.1944,124.9998 L1175.0,124.9998\" stroke-width=\"1\" stroke=\"black\" stroke-linejoin=\"miter\" fill=\"none\" />\n",
       "<text x=\"1125\" y=\"138\" font-size=\"7\" text-anchor=\"middle\"></text>\n",
       "<path d=\"M1147,153 L1157,153 L1157,163 L1147,163 Z\" stroke=\"black\" fill=\"thistle\" stroke-linejoin=\"miter\" />\n",
       "<text x=\"1152\" y=\"160\" font-size=\"6\" text-anchor=\"middle\">Rx</text>\n",
       "<path d=\"M1175,125 L1195,125 M1205,125 L1225,125\" stroke-width=\"1\" stroke=\"black\" stroke-linejoin=\"miter\" fill=\"none\" />\n",
       "<path d=\"M1190,135 L1210,135 L1210,115 L1190,115 L1190,135\" stroke-width=\"1\" stroke=\"black\" stroke-linejoin=\"miter\" fill=\"lightgray\" />\n",
       "<text x=\"1200\" y=\"144\" font-size=\"7\" text-anchor=\"middle\">Φ=pi/2</text>\n",
       "<path d=\"M1175,175 L1225,175\" stroke=\"black\" stroke-width=\"1\" fill=\"none\" />\n",
       "<path d=\"M1237.9442,125.0002 C1251.6537999999998,125.0002,1251.5922999999998,150.0,1265.3019,150.0 M1265.3038,150.0 C1251.5921999999998,150.0,1251.6537999999998,174.9998,1237.9441,174.9998 M1265.3038,150.0 L1287.1884,150.0 M1287.1884,150.0 C1300.9,150.0,1300.8384,125.0002,1314.5481,125.0002 M1287.1884,150.0 C1300.9,150.0,1300.8384,174.9998,1314.5481,174.9998 M1225.0,125.0 L1238.0,125.0 M1238.0019,174.9998 L1225.0,174.9998 M1312.6453,174.9998 L1325.0,174.9998 M1312.1944,124.9998 L1325.0,124.9998\" stroke-width=\"1\" stroke=\"black\" stroke-linejoin=\"miter\" fill=\"none\" />\n",
       "<text x=\"1275\" y=\"138\" font-size=\"7\" text-anchor=\"middle\"></text>\n",
       "<path d=\"M1297,153 L1307,153 L1307,163 L1297,163 Z\" stroke=\"black\" fill=\"thistle\" stroke-linejoin=\"miter\" />\n",
       "<text x=\"1302\" y=\"160\" font-size=\"6\" text-anchor=\"middle\">Rx</text>\n",
       "<path d=\"M1325,125 L1345,125 M1355,125 L1375,125\" stroke-width=\"1\" stroke=\"black\" stroke-linejoin=\"miter\" fill=\"none\" />\n",
       "<path d=\"M1340,135 L1360,135 L1360,115 L1340,115 L1340,135\" stroke-width=\"1\" stroke=\"black\" stroke-linejoin=\"miter\" fill=\"lightgray\" />\n",
       "<text x=\"1350\" y=\"144\" font-size=\"7\" text-anchor=\"middle\">Φ=0</text>\n",
       "<path d=\"M1375,125 L1395,125 M1405,125 L1425,125\" stroke-width=\"1\" stroke=\"black\" stroke-linejoin=\"miter\" fill=\"none\" />\n",
       "<path d=\"M1390,135 L1410,135 L1410,115 L1390,115 L1390,135\" stroke-width=\"1\" stroke=\"black\" stroke-linejoin=\"miter\" fill=\"lightgray\" />\n",
       "<text x=\"1400\" y=\"144\" font-size=\"7\" text-anchor=\"middle\">Φ=5*pi/4</text>\n",
       "<path d=\"M1325,175 L1345,175 M1355,175 L1375,175\" stroke-width=\"1\" stroke=\"black\" stroke-linejoin=\"miter\" fill=\"none\" />\n",
       "<path d=\"M1340,185 L1360,185 L1360,165 L1340,165 L1340,185\" stroke-width=\"1\" stroke=\"black\" stroke-linejoin=\"miter\" fill=\"lightgray\" />\n",
       "<text x=\"1350\" y=\"194\" font-size=\"7\" text-anchor=\"middle\">Φ=5*pi/4</text>\n",
       "<path d=\"M1375,175 L1425,175\" stroke=\"black\" stroke-width=\"1\" fill=\"none\" />\n",
       "<path d=\"M1075,75 L1425,75\" stroke=\"black\" stroke-width=\"1\" fill=\"none\" />\n",
       "<path d=\"M1427,52 L1773,52 L1773,148 L1427,148 Z\" stroke=\"black\" fill=\"lightblue\" stroke-dasharray=\"1,2\" stroke-linejoin=\"miter\" />\n",
       "<text x=\"1429\" y=\"155\" font-size=\"8\" text-anchor=\"start\">U_REF</text>\n",
       "<path d=\"M1437.9442,75.0002 C1451.6537999999998,75.0002,1451.5922999999998,100.0,1465.3019,100.0 M1465.3038,100.0 C1451.5921999999998,100.0,1451.6537999999998,124.9998,1437.9441,124.9998 M1465.3038,100.0 L1487.1884,100.0 M1487.1884,100.0 C1500.9,100.0,1500.8384,75.0002,1514.5481,75.0002 M1487.1884,100.0 C1500.9,100.0,1500.8384,124.9998,1514.5481,124.9998 M1425.0,75.0 L1438.0,75.0 M1438.0019,124.9998 L1425.0,124.9998 M1512.6453,124.9998 L1525.0,124.9998 M1512.1944,74.9998 L1525.0,74.9998\" stroke-width=\"1\" stroke=\"black\" stroke-linejoin=\"miter\" fill=\"none\" />\n",
       "<text x=\"1475\" y=\"88\" font-size=\"7\" text-anchor=\"middle\"></text>\n",
       "<path d=\"M1497,103 L1507,103 L1507,113 L1497,113 Z\" stroke=\"black\" fill=\"thistle\" stroke-linejoin=\"miter\" />\n",
       "<text x=\"1502\" y=\"110\" font-size=\"6\" text-anchor=\"middle\">Rx</text>\n",
       "<path d=\"M1525,75 L1545,75 M1555,75 L1575,75\" stroke-width=\"1\" stroke=\"black\" stroke-linejoin=\"miter\" fill=\"none\" />\n",
       "<path d=\"M1540,85 L1560,85 L1560,65 L1540,65 L1540,85\" stroke-width=\"1\" stroke=\"black\" stroke-linejoin=\"miter\" fill=\"lightgray\" />\n",
       "<text x=\"1550\" y=\"94\" font-size=\"7\" text-anchor=\"middle\">Φ=theta_ref</text>\n",
       "<path d=\"M1525,125 L1575,125\" stroke=\"black\" stroke-width=\"1\" fill=\"none\" />\n",
       "<path d=\"M1587.9442,75.0002 C1601.6537999999998,75.0002,1601.5922999999998,100.0,1615.3019,100.0 M1615.3038,100.0 C1601.5921999999998,100.0,1601.6537999999998,124.9998,1587.9441,124.9998 M1615.3038,100.0 L1637.1884,100.0 M1637.1884,100.0 C1650.9,100.0,1650.8384,75.0002,1664.5481,75.0002 M1637.1884,100.0 C1650.9,100.0,1650.8384,124.9998,1664.5481,124.9998 M1575.0,75.0 L1588.0,75.0 M1588.0019,124.9998 L1575.0,124.9998 M1662.6453,124.9998 L1675.0,124.9998 M1662.1944,74.9998 L1675.0,74.9998\" stroke-width=\"1\" stroke=\"black\" stroke-linejoin=\"miter\" fill=\"none\" />\n",
       "<text x=\"1625\" y=\"88\" font-size=\"7\" text-anchor=\"middle\"></text>\n",
       "<path d=\"M1647,103 L1657,103 L1657,113 L1647,113 Z\" stroke=\"black\" fill=\"thistle\" stroke-linejoin=\"miter\" />\n",
       "<text x=\"1652\" y=\"110\" font-size=\"6\" text-anchor=\"middle\">Rx</text>\n",
       "<path d=\"M1675,75 L1695,75 M1705,75 L1725,75\" stroke-width=\"1\" stroke=\"black\" stroke-linejoin=\"miter\" fill=\"none\" />\n",
       "<path d=\"M1690,85 L1710,85 L1710,65 L1690,65 L1690,85\" stroke-width=\"1\" stroke=\"black\" stroke-linejoin=\"miter\" fill=\"lightgray\" />\n",
       "<text x=\"1700\" y=\"94\" font-size=\"7\" text-anchor=\"middle\">Φ=0</text>\n",
       "<path d=\"M1725,75 L1745,75 M1755,75 L1775,75\" stroke-width=\"1\" stroke=\"black\" stroke-linejoin=\"miter\" fill=\"none\" />\n",
       "<path d=\"M1740,85 L1760,85 L1760,65 L1740,65 L1740,85\" stroke-width=\"1\" stroke=\"black\" stroke-linejoin=\"miter\" fill=\"lightgray\" />\n",
       "<text x=\"1750\" y=\"94\" font-size=\"7\" text-anchor=\"middle\">Φ=theta2_ref</text>\n",
       "<path d=\"M1675,125 L1695,125 M1705,125 L1725,125\" stroke-width=\"1\" stroke=\"black\" stroke-linejoin=\"miter\" fill=\"none\" />\n",
       "<path d=\"M1690,135 L1710,135 L1710,115 L1690,115 L1690,135\" stroke-width=\"1\" stroke=\"black\" stroke-linejoin=\"miter\" fill=\"lightgray\" />\n",
       "<text x=\"1700\" y=\"144\" font-size=\"7\" text-anchor=\"middle\">Φ=theta2_ref</text>\n",
       "<path d=\"M1075,25 L1775,25\" stroke=\"black\" stroke-width=\"1\" fill=\"none\" />\n",
       "<path d=\"M1725,125 L1775,125\" stroke=\"black\" stroke-width=\"1\" fill=\"none\" />\n",
       "<path d=\"M1425,175 L1775,175\" stroke=\"black\" stroke-width=\"1\" fill=\"none\" />\n",
       "<path d=\"M1775,25 L1790,25\" stroke-width=\"1\" stroke=\"black\" stroke-linejoin=\"miter\" fill=\"none\" />\n",
       "<path d=\"M1775,75 L1790,75\" stroke-width=\"1\" stroke=\"black\" stroke-linejoin=\"miter\" fill=\"none\" />\n",
       "<path d=\"M1775,125 L1790,125\" stroke-width=\"1\" stroke=\"black\" stroke-linejoin=\"miter\" fill=\"none\" />\n",
       "<path d=\"M1775,175 L1790,175\" stroke-width=\"1\" stroke=\"black\" stroke-linejoin=\"miter\" fill=\"none\" />\n",
       "<text x=\"1800\" y=\"28\" font-size=\"6\" text-anchor=\"end\">0</text>\n",
       "<text x=\"1800\" y=\"78\" font-size=\"6\" text-anchor=\"end\">1</text>\n",
       "<text x=\"1800\" y=\"128\" font-size=\"6\" text-anchor=\"end\">2</text>\n",
       "<text x=\"1800\" y=\"178\" font-size=\"6\" text-anchor=\"end\">3</text>\n",
       "<text x=\"0\" y=\"28\" font-size=\"6\" text-anchor=\"start\">0</text>\n",
       "<text x=\"0\" y=\"78\" font-size=\"6\" text-anchor=\"start\">1</text>\n",
       "<text x=\"0\" y=\"128\" font-size=\"6\" text-anchor=\"start\">2</text>\n",
       "<text x=\"0\" y=\"178\" font-size=\"6\" text-anchor=\"start\">3</text>\n",
       "</svg>"
      ],
      "text/plain": [
       "<drawsvg.drawing.Drawing at 0x1f6f4f31f00>"
      ]
     },
     "execution_count": 12,
     "metadata": {},
     "output_type": "execute_result"
    }
   ],
   "source": [
    "circuit = pcvl.Circuit(4)\n",
    "circuit.add(1, state_prep).add(0, hadamard).add(2, hadamard).add(2, env).add(0, hadamard).add(2, hadamard).add(1, ref)\n",
    "\n",
    "pcvl.pdisplay(circuit, recursive=True)"
   ]
  },
  {
   "cell_type": "code",
   "execution_count": 13,
   "id": "3d002e05",
   "metadata": {},
   "outputs": [],
   "source": [
    "results_mzis = []\n",
    "\n",
    "for xi in xis:\n",
    "    # Update values in the circuit\n",
    "    theta1 = np.pi - 2*xi #set the angle as explained above in 'Preparation of state'\n",
    "    theta_prep.set_value(theta1)\n",
    "    theta2_prep.set_value(-np.pi/2 - theta1/2)\n",
    "    \n",
    "    theta2 = np.pi - 4*xi #set the angle as explained above in 'Reflection'\n",
    "    theta_ref.set_value(theta2)\n",
    "    theta2_ref.set_value(-np.pi/2 - theta2/2)\n",
    "    \n",
    "    backend = pcvl.BackendFactory.get_backend()\n",
    "    backend.set_circuit(circuit)\n",
    "    input_state = pcvl.BasicState([0, 1, 0, 0])\n",
    "    backend.set_input_state(input_state)\n",
    "    results_mzis.append(backend.probability(pcvl.BasicState([0, 0, 1, 0])))"
   ]
  },
  {
   "cell_type": "code",
   "execution_count": 14,
   "id": "68692596",
   "metadata": {},
   "outputs": [
    {
     "data": {
      "text/plain": [
       "<matplotlib.legend.Legend at 0x1f6f4f67fd0>"
      ]
     },
     "execution_count": 14,
     "metadata": {},
     "output_type": "execute_result"
    },
    {
     "data": {
      "image/png": "[encoded data removed]",
      "text/plain": [
       "<Figure size 432x288 with 1 Axes>"
      ]
     },
     "metadata": {
      "needs_background": "light"
     },
     "output_type": "display_data"
    }
   ],
   "source": [
    "plt.plot(xis, results, \"-o\", label=\"Simulation (Unitaries)\")\n",
    "plt.plot(xis, results_mzis, \"-o\", label=\"Simulation (MZIs)\")\n",
    "plt.plot(xis, np.sin((3*xis)) ** 2, \"--\", label=\"Theoritical\")\n",
    "plt.title(\"Probability after Grover's amplification\")\n",
    "plt.xlabel(\"$\\\\xi$\")\n",
    "plt.ylabel(\"Probability\")\n",
    "plt.grid()\n",
    "plt.legend()"
   ]
  },
  {
   "cell_type": "markdown",
   "id": "f746dd6f",
   "metadata": {},
   "source": [
    "## Reproducing the results of the paper"
   ]
  },
  {
   "cell_type": "markdown",
   "id": "630086db",
   "metadata": {},
   "source": [
    "### Classical circuit"
   ]
  },
  {
   "attachments": {},
   "cell_type": "markdown",
   "id": "8e07dd70",
   "metadata": {},
   "source": [
    "The classical circuit emulates the agent choosing a good action with probability $\\varepsilon = \\sin^2(\\xi)$. To this end, the operation $U_p |0_A0_R\\rangle = \\cos(\\xi)|0_A0_R\\rangle + \\sin(\\xi)|1_A0_R\\rangle$ is implemented putting the action state in a superposition with the corresponding amplitude. Then the interaction with the environment will make the second qubit switch only if the first qubit is in the state $|1_A\\rangle$, hence putting the reward qubit in the $|1_R\\rangle$ state.\n",
    "\n",
    "![classical_circuit.png](../_static/img/reinforcement-learning_classical_circuit.png)\n",
    "\n",
    "The detector D1, corresponding to $|0_A0_R\\rangle$, will click with probability $\\cos^2(\\xi) = 1-\\varepsilon$ and corresponds to no reward, whereas detector D2, corresponding to $|1_A1_R\\rangle$, will click with probability $\\sin^2(\\xi) = \\varepsilon$ and correspond to a rewarded action.\n",
    "\n",
    "Both operations $U_p$ and $U_e$ were already implemented as part of the Grover's algorithm."
   ]
  },
  {
   "cell_type": "code",
   "execution_count": 15,
   "id": "4fe0e455",
   "metadata": {},
   "outputs": [
    {
     "data": {
      "image/svg+xml": [
       "<?xml version=\"1.0\" encoding=\"UTF-8\"?>\n",
       "<svg xmlns=\"http://www.w3.org/2000/svg\" xmlns:xlink=\"http://www.w3.org/1999/xlink\"\n",
       "     width=\"1007.5\" height=\"281.25\" viewBox=\"-28.0 0 806.0 225.0\">\n",
       "<defs>\n",
       "</defs>\n",
       "<path d=\"M10,25 L25,25\" stroke-width=\"1\" stroke=\"black\" stroke-linejoin=\"miter\" fill=\"none\" />\n",
       "<path d=\"M10,75 L25,75\" stroke-width=\"1\" stroke=\"black\" stroke-linejoin=\"miter\" fill=\"none\" />\n",
       "<path d=\"M10,125 L25,125\" stroke-width=\"1\" stroke=\"black\" stroke-linejoin=\"miter\" fill=\"none\" />\n",
       "<path d=\"M10,175 L25,175\" stroke-width=\"1\" stroke=\"black\" stroke-linejoin=\"miter\" fill=\"none\" />\n",
       "<path d=\"M27,52 L373,52 L373,148 L27,148 Z\" stroke=\"black\" fill=\"lightblue\" stroke-dasharray=\"1,2\" stroke-linejoin=\"miter\" />\n",
       "<text x=\"29\" y=\"155\" font-size=\"8\" text-anchor=\"start\">U_P</text>\n",
       "<path d=\"M37.9442,75.0002 C51.653800000000004,75.0002,51.5923,100.0,65.3019,100.0 M65.3038,100.0 C51.59219999999999,100.0,51.6538,124.9998,37.94409999999999,124.9998 M65.3038,100.0 L87.1884,100.0 M87.1884,100.0 C100.9,100.0,100.83840000000001,75.0002,114.5481,75.0002 M87.1884,100.0 C100.9,100.0,100.83840000000001,124.9998,114.5481,124.9998 M25.0,75.0 L38.0,75.0 M38.0019,124.9998 L25.0,124.9998 M112.6453,124.9998 L125.0,124.9998 M112.1944,74.9998 L125.0,74.9998\" stroke-width=\"1\" stroke=\"black\" stroke-linejoin=\"miter\" fill=\"none\" />\n",
       "<text x=\"75\" y=\"88\" font-size=\"7\" text-anchor=\"middle\"></text>\n",
       "<path d=\"M97,103 L107,103 L107,113 L97,113 Z\" stroke=\"black\" fill=\"thistle\" stroke-linejoin=\"miter\" />\n",
       "<text x=\"102\" y=\"110\" font-size=\"6\" text-anchor=\"middle\">Rx</text>\n",
       "<path d=\"M125,75 L145,75 M155,75 L175,75\" stroke-width=\"1\" stroke=\"black\" stroke-linejoin=\"miter\" fill=\"none\" />\n",
       "<path d=\"M140,85 L160,85 L160,65 L140,65 L140,85\" stroke-width=\"1\" stroke=\"black\" stroke-linejoin=\"miter\" fill=\"lightgray\" />\n",
       "<text x=\"150\" y=\"94\" font-size=\"7\" text-anchor=\"middle\">Φ=0</text>\n",
       "<path d=\"M125,125 L175,125\" stroke=\"black\" stroke-width=\"1\" fill=\"none\" />\n",
       "<path d=\"M187.9442,75.0002 C201.6538,75.0002,201.5923,100.0,215.3019,100.0 M215.3038,100.0 C201.5922,100.0,201.6538,124.9998,187.9441,124.9998 M215.3038,100.0 L237.1884,100.0 M237.1884,100.0 C250.9,100.0,250.8384,75.0002,264.5481,75.0002 M237.18839999999997,100.0 C250.89999999999998,100.0,250.83839999999998,124.9998,264.5481,124.9998 M174.99999999999997,75.0 L187.99999999999997,75.0 M188.00189999999998,124.9998 L174.99999999999997,124.9998 M262.64529999999996,124.9998 L274.99999999999994,124.9998 M262.1944,74.9998 L275.0,74.9998\" stroke-width=\"1\" stroke=\"black\" stroke-linejoin=\"miter\" fill=\"none\" />\n",
       "<text x=\"225\" y=\"88\" font-size=\"7\" text-anchor=\"middle\"></text>\n",
       "<path d=\"M247,103 L257,103 L257,113 L247,113 Z\" stroke=\"black\" fill=\"thistle\" stroke-linejoin=\"miter\" />\n",
       "<text x=\"252\" y=\"110\" font-size=\"6\" text-anchor=\"middle\">Rx</text>\n",
       "<path d=\"M275,75 L295,75 M305,75 L325,75\" stroke-width=\"1\" stroke=\"black\" stroke-linejoin=\"miter\" fill=\"none\" />\n",
       "<path d=\"M290,85 L310,85 L310,65 L290,65 L290,85\" stroke-width=\"1\" stroke=\"black\" stroke-linejoin=\"miter\" fill=\"lightgray\" />\n",
       "<text x=\"300\" y=\"94\" font-size=\"7\" text-anchor=\"middle\">Φ=0</text>\n",
       "<path d=\"M325,75 L345,75 M355,75 L375,75\" stroke-width=\"1\" stroke=\"black\" stroke-linejoin=\"miter\" fill=\"none\" />\n",
       "<path d=\"M340,85 L360,85 L360,65 L340,65 L340,85\" stroke-width=\"1\" stroke=\"black\" stroke-linejoin=\"miter\" fill=\"lightgray\" />\n",
       "<text x=\"350\" y=\"94\" font-size=\"7\" text-anchor=\"middle\">Φ=3*pi/2</text>\n",
       "<path d=\"M275,125 L295,125 M305,125 L325,125\" stroke-width=\"1\" stroke=\"black\" stroke-linejoin=\"miter\" fill=\"none\" />\n",
       "<path d=\"M290,135 L310,135 L310,115 L290,115 L290,135\" stroke-width=\"1\" stroke=\"black\" stroke-linejoin=\"miter\" fill=\"lightgray\" />\n",
       "<text x=\"300\" y=\"144\" font-size=\"7\" text-anchor=\"middle\">Φ=3*pi/2</text>\n",
       "<path d=\"M25,25 L375,25\" stroke=\"black\" stroke-width=\"1\" fill=\"none\" />\n",
       "<path d=\"M325,125 L375,125\" stroke=\"black\" stroke-width=\"1\" fill=\"none\" />\n",
       "<path d=\"M25,175 L375,175\" stroke=\"black\" stroke-width=\"1\" fill=\"none\" />\n",
       "<path d=\"M377,102 L723,102 L723,198 L377,198 Z\" stroke=\"black\" fill=\"lightblue\" stroke-dasharray=\"1,2\" stroke-linejoin=\"miter\" />\n",
       "<text x=\"379\" y=\"205\" font-size=\"8\" text-anchor=\"start\">U_E</text>\n",
       "<path d=\"M387.9442,125.0002 C401.65380000000005,125.0002,401.5923,150.0,415.30190000000005,150.0 M415.3038,150.0 C401.59220000000005,150.0,401.65380000000005,174.9998,387.94410000000005,174.9998 M415.3038,150.0 L437.1884,150.0 M437.1884,150.0 C450.9,150.0,450.8384,125.0002,464.5481,125.0002 M437.1884,150.0 C450.9,150.0,450.8384,174.9998,464.5481,174.9998 M375.0,125.0 L388.0,125.0 M388.0019,174.9998 L375.0,174.9998 M462.6453,174.9998 L475.0,174.9998 M462.1944,124.9998 L475.0,124.9998\" stroke-width=\"1\" stroke=\"black\" stroke-linejoin=\"miter\" fill=\"none\" />\n",
       "<text x=\"425\" y=\"138\" font-size=\"7\" text-anchor=\"middle\"></text>\n",
       "<path d=\"M447,153 L457,153 L457,163 L447,163 Z\" stroke=\"black\" fill=\"thistle\" stroke-linejoin=\"miter\" />\n",
       "<text x=\"452\" y=\"160\" font-size=\"6\" text-anchor=\"middle\">Rx</text>\n",
       "<path d=\"M475,125 L495,125 M505,125 L525,125\" stroke-width=\"1\" stroke=\"black\" stroke-linejoin=\"miter\" fill=\"none\" />\n",
       "<path d=\"M490,135 L510,135 L510,115 L490,115 L490,135\" stroke-width=\"1\" stroke=\"black\" stroke-linejoin=\"miter\" fill=\"lightgray\" />\n",
       "<text x=\"500\" y=\"144\" font-size=\"7\" text-anchor=\"middle\">Φ=2*pi</text>\n",
       "<path d=\"M475,175 L525,175\" stroke=\"black\" stroke-width=\"1\" fill=\"none\" />\n",
       "<path d=\"M537.9442,125.0002 C551.6538,125.0002,551.5923,150.0,565.3019,150.0 M565.3038,150.0 C551.5922,150.0,551.6538,174.9998,537.9441,174.9998 M565.3038,150.0 L587.1884,150.0 M587.1884,150.0 C600.9,150.0,600.8384,125.0002,614.5481,125.0002 M587.1884,150.0 C600.9,150.0,600.8384,174.9998,614.5481,174.9998 M525.0,125.0 L538.0,125.0 M538.0019,174.9998 L525.0,174.9998 M612.6453,174.9998 L625.0,174.9998 M612.1944,124.9998 L625.0,124.9998\" stroke-width=\"1\" stroke=\"black\" stroke-linejoin=\"miter\" fill=\"none\" />\n",
       "<text x=\"575\" y=\"138\" font-size=\"7\" text-anchor=\"middle\"></text>\n",
       "<path d=\"M597,153 L607,153 L607,163 L597,163 Z\" stroke=\"black\" fill=\"thistle\" stroke-linejoin=\"miter\" />\n",
       "<text x=\"602\" y=\"160\" font-size=\"6\" text-anchor=\"middle\">Rx</text>\n",
       "<path d=\"M625,125 L645,125 M655,125 L675,125\" stroke-width=\"1\" stroke=\"black\" stroke-linejoin=\"miter\" fill=\"none\" />\n",
       "<path d=\"M640,135 L660,135 L660,115 L640,115 L640,135\" stroke-width=\"1\" stroke=\"black\" stroke-linejoin=\"miter\" fill=\"lightgray\" />\n",
       "<text x=\"650\" y=\"144\" font-size=\"7\" text-anchor=\"middle\">Φ=0</text>\n",
       "<path d=\"M675,125 L695,125 M705,125 L725,125\" stroke-width=\"1\" stroke=\"black\" stroke-linejoin=\"miter\" fill=\"none\" />\n",
       "<path d=\"M690,135 L710,135 L710,115 L690,115 L690,135\" stroke-width=\"1\" stroke=\"black\" stroke-linejoin=\"miter\" fill=\"lightgray\" />\n",
       "<text x=\"700\" y=\"144\" font-size=\"7\" text-anchor=\"middle\">Φ=pi/2</text>\n",
       "<path d=\"M625,175 L645,175 M655,175 L675,175\" stroke-width=\"1\" stroke=\"black\" stroke-linejoin=\"miter\" fill=\"none\" />\n",
       "<path d=\"M640,185 L660,185 L660,165 L640,165 L640,185\" stroke-width=\"1\" stroke=\"black\" stroke-linejoin=\"miter\" fill=\"lightgray\" />\n",
       "<text x=\"650\" y=\"194\" font-size=\"7\" text-anchor=\"middle\">Φ=pi/2</text>\n",
       "<path d=\"M675,175 L725,175\" stroke=\"black\" stroke-width=\"1\" fill=\"none\" />\n",
       "<path d=\"M375,25 L725,25\" stroke=\"black\" stroke-width=\"1\" fill=\"none\" />\n",
       "<path d=\"M375,75 L725,75\" stroke=\"black\" stroke-width=\"1\" fill=\"none\" />\n",
       "<path d=\"M725,25 L740,25\" stroke-width=\"1\" stroke=\"black\" stroke-linejoin=\"miter\" fill=\"none\" />\n",
       "<path d=\"M725,75 L740,75\" stroke-width=\"1\" stroke=\"black\" stroke-linejoin=\"miter\" fill=\"none\" />\n",
       "<path d=\"M725,125 L740,125\" stroke-width=\"1\" stroke=\"black\" stroke-linejoin=\"miter\" fill=\"none\" />\n",
       "<path d=\"M725,175 L740,175\" stroke-width=\"1\" stroke=\"black\" stroke-linejoin=\"miter\" fill=\"none\" />\n",
       "<text x=\"750\" y=\"28\" font-size=\"6\" text-anchor=\"end\">0</text>\n",
       "<text x=\"750\" y=\"78\" font-size=\"6\" text-anchor=\"end\">1</text>\n",
       "<text x=\"750\" y=\"128\" font-size=\"6\" text-anchor=\"end\">2</text>\n",
       "<text x=\"750\" y=\"178\" font-size=\"6\" text-anchor=\"end\">3</text>\n",
       "<text x=\"0\" y=\"28\" font-size=\"6\" text-anchor=\"start\">0</text>\n",
       "<text x=\"0\" y=\"78\" font-size=\"6\" text-anchor=\"start\">1</text>\n",
       "<text x=\"0\" y=\"128\" font-size=\"6\" text-anchor=\"start\">2</text>\n",
       "<text x=\"0\" y=\"178\" font-size=\"6\" text-anchor=\"start\">3</text>\n",
       "</svg>"
      ],
      "text/plain": [
       "<drawsvg.drawing.Drawing at 0x1f6f4fd6b30>"
      ]
     },
     "execution_count": 15,
     "metadata": {},
     "output_type": "execute_result"
    }
   ],
   "source": [
    "classical_circuit = pcvl.Circuit(4)\n",
    "classical_circuit.add(1, state_prep).add(2, env) # circuit for classical strategy\n",
    "pcvl.pdisplay(classical_circuit, recursive=True)"
   ]
  },
  {
   "cell_type": "markdown",
   "id": "d288dabc",
   "metadata": {},
   "source": [
    "### Quantum circuit"
   ]
  },
  {
   "attachments": {},
   "cell_type": "markdown",
   "id": "6fad7238",
   "metadata": {},
   "source": [
    "The quantum circuit performs a Grover's amplification step in order to get the state closer to a rewarded state. However, during this step, no reward is ever perceived and a classical round is still needed afterward to check if the state is rewarded or not.\n",
    "\n",
    "![quantum_circuit.png](../_static/img/reinforcement-learning_quantum_circuit.png)"
   ]
  },
  {
   "attachments": {},
   "cell_type": "markdown",
   "id": "c3f95a3e",
   "metadata": {},
   "source": [
    "We will here, directly append the classical circuit (without state preparation) to the quantum circuit, so that the whole operation is done with one circuits. Note that we will count this as being 2 epochs to have a fair comparison with the classical strategy.\n",
    "\n",
    "![classical_quantum.png](../_static/img/reinforcement-learning_classical_quantum.png)"
   ]
  },
  {
   "cell_type": "code",
   "execution_count": 16,
   "id": "c1a8c795",
   "metadata": {},
   "outputs": [
    {
     "data": {
      "image/svg+xml": [
       "<?xml version=\"1.0\" encoding=\"UTF-8\"?>\n",
       "<svg xmlns=\"http://www.w3.org/2000/svg\" xmlns:xlink=\"http://www.w3.org/1999/xlink\"\n",
       "     width=\"2757.5\" height=\"281.25\" viewBox=\"-28.0 0 2206.0 225.0\">\n",
       "<defs>\n",
       "</defs>\n",
       "<path d=\"M10,25 L25,25\" stroke-width=\"1\" stroke=\"black\" stroke-linejoin=\"miter\" fill=\"none\" />\n",
       "<path d=\"M10,75 L25,75\" stroke-width=\"1\" stroke=\"black\" stroke-linejoin=\"miter\" fill=\"none\" />\n",
       "<path d=\"M10,125 L25,125\" stroke-width=\"1\" stroke=\"black\" stroke-linejoin=\"miter\" fill=\"none\" />\n",
       "<path d=\"M10,175 L25,175\" stroke-width=\"1\" stroke=\"black\" stroke-linejoin=\"miter\" fill=\"none\" />\n",
       "<path d=\"M27,52 L373,52 L373,148 L27,148 Z\" stroke=\"black\" fill=\"lightblue\" stroke-dasharray=\"1,2\" stroke-linejoin=\"miter\" />\n",
       "<text x=\"29\" y=\"155\" font-size=\"8\" text-anchor=\"start\">U_P</text>\n",
       "<path d=\"M37.9442,75.0002 C51.653800000000004,75.0002,51.5923,100.0,65.3019,100.0 M65.3038,100.0 C51.59219999999999,100.0,51.6538,124.9998,37.94409999999999,124.9998 M65.3038,100.0 L87.1884,100.0 M87.1884,100.0 C100.9,100.0,100.83840000000001,75.0002,114.5481,75.0002 M87.1884,100.0 C100.9,100.0,100.83840000000001,124.9998,114.5481,124.9998 M25.0,75.0 L38.0,75.0 M38.0019,124.9998 L25.0,124.9998 M112.6453,124.9998 L125.0,124.9998 M112.1944,74.9998 L125.0,74.9998\" stroke-width=\"1\" stroke=\"black\" stroke-linejoin=\"miter\" fill=\"none\" />\n",
       "<text x=\"75\" y=\"88\" font-size=\"7\" text-anchor=\"middle\"></text>\n",
       "<path d=\"M97,103 L107,103 L107,113 L97,113 Z\" stroke=\"black\" fill=\"thistle\" stroke-linejoin=\"miter\" />\n",
       "<text x=\"102\" y=\"110\" font-size=\"6\" text-anchor=\"middle\">Rx</text>\n",
       "<path d=\"M125,75 L145,75 M155,75 L175,75\" stroke-width=\"1\" stroke=\"black\" stroke-linejoin=\"miter\" fill=\"none\" />\n",
       "<path d=\"M140,85 L160,85 L160,65 L140,65 L140,85\" stroke-width=\"1\" stroke=\"black\" stroke-linejoin=\"miter\" fill=\"lightgray\" />\n",
       "<text x=\"150\" y=\"94\" font-size=\"7\" text-anchor=\"middle\">Φ=0</text>\n",
       "<path d=\"M125,125 L175,125\" stroke=\"black\" stroke-width=\"1\" fill=\"none\" />\n",
       "<path d=\"M187.9442,75.0002 C201.6538,75.0002,201.5923,100.0,215.3019,100.0 M215.3038,100.0 C201.5922,100.0,201.6538,124.9998,187.9441,124.9998 M215.3038,100.0 L237.1884,100.0 M237.1884,100.0 C250.9,100.0,250.8384,75.0002,264.5481,75.0002 M237.18839999999997,100.0 C250.89999999999998,100.0,250.83839999999998,124.9998,264.5481,124.9998 M174.99999999999997,75.0 L187.99999999999997,75.0 M188.00189999999998,124.9998 L174.99999999999997,124.9998 M262.64529999999996,124.9998 L274.99999999999994,124.9998 M262.1944,74.9998 L275.0,74.9998\" stroke-width=\"1\" stroke=\"black\" stroke-linejoin=\"miter\" fill=\"none\" />\n",
       "<text x=\"225\" y=\"88\" font-size=\"7\" text-anchor=\"middle\"></text>\n",
       "<path d=\"M247,103 L257,103 L257,113 L247,113 Z\" stroke=\"black\" fill=\"thistle\" stroke-linejoin=\"miter\" />\n",
       "<text x=\"252\" y=\"110\" font-size=\"6\" text-anchor=\"middle\">Rx</text>\n",
       "<path d=\"M275,75 L295,75 M305,75 L325,75\" stroke-width=\"1\" stroke=\"black\" stroke-linejoin=\"miter\" fill=\"none\" />\n",
       "<path d=\"M290,85 L310,85 L310,65 L290,65 L290,85\" stroke-width=\"1\" stroke=\"black\" stroke-linejoin=\"miter\" fill=\"lightgray\" />\n",
       "<text x=\"300\" y=\"94\" font-size=\"7\" text-anchor=\"middle\">Φ=0</text>\n",
       "<path d=\"M325,75 L345,75 M355,75 L375,75\" stroke-width=\"1\" stroke=\"black\" stroke-linejoin=\"miter\" fill=\"none\" />\n",
       "<path d=\"M340,85 L360,85 L360,65 L340,65 L340,85\" stroke-width=\"1\" stroke=\"black\" stroke-linejoin=\"miter\" fill=\"lightgray\" />\n",
       "<text x=\"350\" y=\"94\" font-size=\"7\" text-anchor=\"middle\">Φ=3*pi/2</text>\n",
       "<path d=\"M275,125 L295,125 M305,125 L325,125\" stroke-width=\"1\" stroke=\"black\" stroke-linejoin=\"miter\" fill=\"none\" />\n",
       "<path d=\"M290,135 L310,135 L310,115 L290,115 L290,135\" stroke-width=\"1\" stroke=\"black\" stroke-linejoin=\"miter\" fill=\"lightgray\" />\n",
       "<text x=\"300\" y=\"144\" font-size=\"7\" text-anchor=\"middle\">Φ=3*pi/2</text>\n",
       "<path d=\"M25,25 L375,25\" stroke=\"black\" stroke-width=\"1\" fill=\"none\" />\n",
       "<path d=\"M325,125 L375,125\" stroke=\"black\" stroke-width=\"1\" fill=\"none\" />\n",
       "<path d=\"M377,2 L723,2 L723,98 L377,98 Z\" stroke=\"black\" fill=\"lightblue\" stroke-dasharray=\"1,2\" stroke-linejoin=\"miter\" />\n",
       "<text x=\"379\" y=\"105\" font-size=\"8\" text-anchor=\"start\">H</text>\n",
       "<path d=\"M387.9442,25.0002 C401.65380000000005,25.0002,401.5923,50.0,415.30190000000005,50.0 M415.3038,50.0 C401.59220000000005,50.0,401.65380000000005,74.9998,387.94410000000005,74.9998 M415.3038,49.99999999999999 L437.1884,49.99999999999999 M437.1884,49.99999999999999 C450.9,49.99999999999999,450.8384,25.000199999999992,464.5481,25.000199999999992 M437.1884,49.99999999999999 C450.9,49.99999999999999,450.8384,74.9998,464.5481,74.9998 M375.0,24.999999999999993 L388.0,24.999999999999993 M388.0019,74.9998 L375.0,74.9998 M462.6453,74.9998 L475.0,74.9998 M462.1944,24.999799999999993 L475.0,24.999799999999993\" stroke-width=\"1\" stroke=\"black\" stroke-linejoin=\"miter\" fill=\"none\" />\n",
       "<text x=\"425\" y=\"38\" font-size=\"7\" text-anchor=\"middle\"></text>\n",
       "<path d=\"M447,53 L457,53 L457,63 L447,63 Z\" stroke=\"black\" fill=\"thistle\" stroke-linejoin=\"miter\" />\n",
       "<text x=\"452\" y=\"60\" font-size=\"6\" text-anchor=\"middle\">Rx</text>\n",
       "<path d=\"M475,25 L495,25 M505,25 L525,25\" stroke-width=\"1\" stroke=\"black\" stroke-linejoin=\"miter\" fill=\"none\" />\n",
       "<path d=\"M490,35 L510,35 L510,15 L490,15 L490,35\" stroke-width=\"1\" stroke=\"black\" stroke-linejoin=\"miter\" fill=\"lightgray\" />\n",
       "<text x=\"500\" y=\"44\" font-size=\"7\" text-anchor=\"middle\">Φ=pi/2</text>\n",
       "<path d=\"M475,75 L525,75\" stroke=\"black\" stroke-width=\"1\" fill=\"none\" />\n",
       "<path d=\"M537.9442,25.0002 C551.6538,25.0002,551.5923,50.0,565.3019,50.0 M565.3038,50.0 C551.5922,50.0,551.6538,74.9998,537.9441,74.9998 M565.3038,49.99999999999999 L587.1884,49.99999999999999 M587.1884,49.99999999999999 C600.9,49.99999999999999,600.8384,25.000199999999992,614.5481,25.000199999999992 M587.1884,49.99999999999999 C600.9,49.99999999999999,600.8384,74.9998,614.5481,74.9998 M525.0,24.999999999999993 L538.0,24.999999999999993 M538.0019,74.9998 L525.0,74.9998 M612.6453,74.9998 L625.0,74.9998 M612.1944,24.999799999999993 L625.0,24.999799999999993\" stroke-width=\"1\" stroke=\"black\" stroke-linejoin=\"miter\" fill=\"none\" />\n",
       "<text x=\"575\" y=\"38\" font-size=\"7\" text-anchor=\"middle\"></text>\n",
       "<path d=\"M597,53 L607,53 L607,63 L597,63 Z\" stroke=\"black\" fill=\"thistle\" stroke-linejoin=\"miter\" />\n",
       "<text x=\"602\" y=\"60\" font-size=\"6\" text-anchor=\"middle\">Rx</text>\n",
       "<path d=\"M625,25 L645,25 M655,25 L675,25\" stroke-width=\"1\" stroke=\"black\" stroke-linejoin=\"miter\" fill=\"none\" />\n",
       "<path d=\"M640,35 L660,35 L660,15 L640,15 L640,35\" stroke-width=\"1\" stroke=\"black\" stroke-linejoin=\"miter\" fill=\"lightgray\" />\n",
       "<text x=\"650\" y=\"44\" font-size=\"7\" text-anchor=\"middle\">Φ=0</text>\n",
       "<path d=\"M675,25 L695,25 M705,25 L725,25\" stroke-width=\"1\" stroke=\"black\" stroke-linejoin=\"miter\" fill=\"none\" />\n",
       "<path d=\"M690,35 L710,35 L710,15 L690,15 L690,35\" stroke-width=\"1\" stroke=\"black\" stroke-linejoin=\"miter\" fill=\"lightgray\" />\n",
       "<text x=\"700\" y=\"44\" font-size=\"7\" text-anchor=\"middle\">Φ=5*pi/4</text>\n",
       "<path d=\"M625,75 L645,75 M655,75 L675,75\" stroke-width=\"1\" stroke=\"black\" stroke-linejoin=\"miter\" fill=\"none\" />\n",
       "<path d=\"M640,85 L660,85 L660,65 L640,65 L640,85\" stroke-width=\"1\" stroke=\"black\" stroke-linejoin=\"miter\" fill=\"lightgray\" />\n",
       "<text x=\"650\" y=\"94\" font-size=\"7\" text-anchor=\"middle\">Φ=5*pi/4</text>\n",
       "<path d=\"M675,75 L725,75\" stroke=\"black\" stroke-width=\"1\" fill=\"none\" />\n",
       "<path d=\"M25,175 L375,175\" stroke=\"black\" stroke-width=\"1\" fill=\"none\" />\n",
       "<path d=\"M377,102 L723,102 L723,198 L377,198 Z\" stroke=\"black\" fill=\"lightblue\" stroke-dasharray=\"1,2\" stroke-linejoin=\"miter\" />\n",
       "<text x=\"379\" y=\"205\" font-size=\"8\" text-anchor=\"start\">H</text>\n",
       "<path d=\"M387.9442,125.0002 C401.65380000000005,125.0002,401.5923,150.0,415.30190000000005,150.0 M415.3038,150.0 C401.59220000000005,150.0,401.65380000000005,174.9998,387.94410000000005,174.9998 M415.3038,150.0 L437.1884,150.0 M437.1884,150.0 C450.9,150.0,450.8384,125.0002,464.5481,125.0002 M437.1884,150.0 C450.9,150.0,450.8384,174.9998,464.5481,174.9998 M375.0,125.0 L388.0,125.0 M388.0019,174.9998 L375.0,174.9998 M462.6453,174.9998 L475.0,174.9998 M462.1944,124.9998 L475.0,124.9998\" stroke-width=\"1\" stroke=\"black\" stroke-linejoin=\"miter\" fill=\"none\" />\n",
       "<text x=\"425\" y=\"138\" font-size=\"7\" text-anchor=\"middle\"></text>\n",
       "<path d=\"M447,153 L457,153 L457,163 L447,163 Z\" stroke=\"black\" fill=\"thistle\" stroke-linejoin=\"miter\" />\n",
       "<text x=\"452\" y=\"160\" font-size=\"6\" text-anchor=\"middle\">Rx</text>\n",
       "<path d=\"M475,125 L495,125 M505,125 L525,125\" stroke-width=\"1\" stroke=\"black\" stroke-linejoin=\"miter\" fill=\"none\" />\n",
       "<path d=\"M490,135 L510,135 L510,115 L490,115 L490,135\" stroke-width=\"1\" stroke=\"black\" stroke-linejoin=\"miter\" fill=\"lightgray\" />\n",
       "<text x=\"500\" y=\"144\" font-size=\"7\" text-anchor=\"middle\">Φ=pi/2</text>\n",
       "<path d=\"M475,175 L525,175\" stroke=\"black\" stroke-width=\"1\" fill=\"none\" />\n",
       "<path d=\"M537.9442,125.0002 C551.6538,125.0002,551.5923,150.0,565.3019,150.0 M565.3038,150.0 C551.5922,150.0,551.6538,174.9998,537.9441,174.9998 M565.3038,150.0 L587.1884,150.0 M587.1884,150.0 C600.9,150.0,600.8384,125.0002,614.5481,125.0002 M587.1884,150.0 C600.9,150.0,600.8384,174.9998,614.5481,174.9998 M525.0,125.0 L538.0,125.0 M538.0019,174.9998 L525.0,174.9998 M612.6453,174.9998 L625.0,174.9998 M612.1944,124.9998 L625.0,124.9998\" stroke-width=\"1\" stroke=\"black\" stroke-linejoin=\"miter\" fill=\"none\" />\n",
       "<text x=\"575\" y=\"138\" font-size=\"7\" text-anchor=\"middle\"></text>\n",
       "<path d=\"M597,153 L607,153 L607,163 L597,163 Z\" stroke=\"black\" fill=\"thistle\" stroke-linejoin=\"miter\" />\n",
       "<text x=\"602\" y=\"160\" font-size=\"6\" text-anchor=\"middle\">Rx</text>\n",
       "<path d=\"M625,125 L645,125 M655,125 L675,125\" stroke-width=\"1\" stroke=\"black\" stroke-linejoin=\"miter\" fill=\"none\" />\n",
       "<path d=\"M640,135 L660,135 L660,115 L640,115 L640,135\" stroke-width=\"1\" stroke=\"black\" stroke-linejoin=\"miter\" fill=\"lightgray\" />\n",
       "<text x=\"650\" y=\"144\" font-size=\"7\" text-anchor=\"middle\">Φ=0</text>\n",
       "<path d=\"M675,125 L695,125 M705,125 L725,125\" stroke-width=\"1\" stroke=\"black\" stroke-linejoin=\"miter\" fill=\"none\" />\n",
       "<path d=\"M690,135 L710,135 L710,115 L690,115 L690,135\" stroke-width=\"1\" stroke=\"black\" stroke-linejoin=\"miter\" fill=\"lightgray\" />\n",
       "<text x=\"700\" y=\"144\" font-size=\"7\" text-anchor=\"middle\">Φ=5*pi/4</text>\n",
       "<path d=\"M625,175 L645,175 M655,175 L675,175\" stroke-width=\"1\" stroke=\"black\" stroke-linejoin=\"miter\" fill=\"none\" />\n",
       "<path d=\"M640,185 L660,185 L660,165 L640,165 L640,185\" stroke-width=\"1\" stroke=\"black\" stroke-linejoin=\"miter\" fill=\"lightgray\" />\n",
       "<text x=\"650\" y=\"194\" font-size=\"7\" text-anchor=\"middle\">Φ=5*pi/4</text>\n",
       "<path d=\"M675,175 L725,175\" stroke=\"black\" stroke-width=\"1\" fill=\"none\" />\n",
       "<path d=\"M727,102 L1073,102 L1073,198 L727,198 Z\" stroke=\"black\" fill=\"lightblue\" stroke-dasharray=\"1,2\" stroke-linejoin=\"miter\" />\n",
       "<text x=\"729\" y=\"205\" font-size=\"8\" text-anchor=\"start\">U_E</text>\n",
       "<path d=\"M737.9442,125.0002 C751.6538,125.0002,751.5923,150.0,765.3019,150.0 M765.3038,150.0 C751.5922,150.0,751.6538,174.9998,737.9441,174.9998 M765.3038,150.0 L787.1884,150.0 M787.1884,150.0 C800.9,150.0,800.8384,125.0002,814.5481,125.0002 M787.1884,150.0 C800.9,150.0,800.8384,174.9998,814.5481,174.9998 M725.0,125.0 L738.0,125.0 M738.0019,174.9998 L725.0,174.9998 M812.6453,174.9998 L825.0,174.9998 M812.1944,124.9998 L825.0,124.9998\" stroke-width=\"1\" stroke=\"black\" stroke-linejoin=\"miter\" fill=\"none\" />\n",
       "<text x=\"775\" y=\"138\" font-size=\"7\" text-anchor=\"middle\"></text>\n",
       "<path d=\"M797,153 L807,153 L807,163 L797,163 Z\" stroke=\"black\" fill=\"thistle\" stroke-linejoin=\"miter\" />\n",
       "<text x=\"802\" y=\"160\" font-size=\"6\" text-anchor=\"middle\">Rx</text>\n",
       "<path d=\"M825,125 L845,125 M855,125 L875,125\" stroke-width=\"1\" stroke=\"black\" stroke-linejoin=\"miter\" fill=\"none\" />\n",
       "<path d=\"M840,135 L860,135 L860,115 L840,115 L840,135\" stroke-width=\"1\" stroke=\"black\" stroke-linejoin=\"miter\" fill=\"lightgray\" />\n",
       "<text x=\"850\" y=\"144\" font-size=\"7\" text-anchor=\"middle\">Φ=2*pi</text>\n",
       "<path d=\"M825,175 L875,175\" stroke=\"black\" stroke-width=\"1\" fill=\"none\" />\n",
       "<path d=\"M887.9442,125.0002 C901.6538,125.0002,901.5923,150.0,915.3019,150.0 M915.3038,150.0 C901.5922,150.0,901.6538,174.9998,887.9441,174.9998 M915.3038,150.0 L937.1884,150.0 M937.1884,150.0 C950.9,150.0,950.8384,125.0002,964.5481,125.0002 M937.1884,150.0 C950.9,150.0,950.8384,174.9998,964.5481,174.9998 M875.0,125.0 L888.0,125.0 M888.0019,174.9998 L875.0,174.9998 M962.6453,174.9998 L975.0,174.9998 M962.1944,124.9998 L975.0,124.9998\" stroke-width=\"1\" stroke=\"black\" stroke-linejoin=\"miter\" fill=\"none\" />\n",
       "<text x=\"925\" y=\"138\" font-size=\"7\" text-anchor=\"middle\"></text>\n",
       "<path d=\"M947,153 L957,153 L957,163 L947,163 Z\" stroke=\"black\" fill=\"thistle\" stroke-linejoin=\"miter\" />\n",
       "<text x=\"952\" y=\"160\" font-size=\"6\" text-anchor=\"middle\">Rx</text>\n",
       "<path d=\"M975,125 L995,125 M1005,125 L1025,125\" stroke-width=\"1\" stroke=\"black\" stroke-linejoin=\"miter\" fill=\"none\" />\n",
       "<path d=\"M990,135 L1010,135 L1010,115 L990,115 L990,135\" stroke-width=\"1\" stroke=\"black\" stroke-linejoin=\"miter\" fill=\"lightgray\" />\n",
       "<text x=\"1000\" y=\"144\" font-size=\"7\" text-anchor=\"middle\">Φ=0</text>\n",
       "<path d=\"M1025,125 L1045,125 M1055,125 L1075,125\" stroke-width=\"1\" stroke=\"black\" stroke-linejoin=\"miter\" fill=\"none\" />\n",
       "<path d=\"M1040,135 L1060,135 L1060,115 L1040,115 L1040,135\" stroke-width=\"1\" stroke=\"black\" stroke-linejoin=\"miter\" fill=\"lightgray\" />\n",
       "<text x=\"1050\" y=\"144\" font-size=\"7\" text-anchor=\"middle\">Φ=pi/2</text>\n",
       "<path d=\"M975,175 L995,175 M1005,175 L1025,175\" stroke-width=\"1\" stroke=\"black\" stroke-linejoin=\"miter\" fill=\"none\" />\n",
       "<path d=\"M990,185 L1010,185 L1010,165 L990,165 L990,185\" stroke-width=\"1\" stroke=\"black\" stroke-linejoin=\"miter\" fill=\"lightgray\" />\n",
       "<text x=\"1000\" y=\"194\" font-size=\"7\" text-anchor=\"middle\">Φ=pi/2</text>\n",
       "<path d=\"M1025,175 L1075,175\" stroke=\"black\" stroke-width=\"1\" fill=\"none\" />\n",
       "<path d=\"M727,2 L1073,2 L1073,98 L727,98 Z\" stroke=\"black\" fill=\"lightblue\" stroke-dasharray=\"1,2\" stroke-linejoin=\"miter\" />\n",
       "<text x=\"729\" y=\"105\" font-size=\"8\" text-anchor=\"start\">H</text>\n",
       "<path d=\"M737.9442,25.0002 C751.6538,25.0002,751.5923,50.0,765.3019,50.0 M765.3038,50.0 C751.5922,50.0,751.6538,74.9998,737.9441,74.9998 M765.3038,49.99999999999999 L787.1884,49.99999999999999 M787.1884,49.99999999999999 C800.9,49.99999999999999,800.8384,25.000199999999992,814.5481,25.000199999999992 M787.1884,49.99999999999999 C800.9,49.99999999999999,800.8384,74.9998,814.5481,74.9998 M725.0,24.999999999999993 L738.0,24.999999999999993 M738.0019,74.9998 L725.0,74.9998 M812.6453,74.9998 L825.0,74.9998 M812.1944,24.999799999999993 L825.0,24.999799999999993\" stroke-width=\"1\" stroke=\"black\" stroke-linejoin=\"miter\" fill=\"none\" />\n",
       "<text x=\"775\" y=\"38\" font-size=\"7\" text-anchor=\"middle\"></text>\n",
       "<path d=\"M797,53 L807,53 L807,63 L797,63 Z\" stroke=\"black\" fill=\"thistle\" stroke-linejoin=\"miter\" />\n",
       "<text x=\"802\" y=\"60\" font-size=\"6\" text-anchor=\"middle\">Rx</text>\n",
       "<path d=\"M825,25 L845,25 M855,25 L875,25\" stroke-width=\"1\" stroke=\"black\" stroke-linejoin=\"miter\" fill=\"none\" />\n",
       "<path d=\"M840,35 L860,35 L860,15 L840,15 L840,35\" stroke-width=\"1\" stroke=\"black\" stroke-linejoin=\"miter\" fill=\"lightgray\" />\n",
       "<text x=\"850\" y=\"44\" font-size=\"7\" text-anchor=\"middle\">Φ=pi/2</text>\n",
       "<path d=\"M825,75 L875,75\" stroke=\"black\" stroke-width=\"1\" fill=\"none\" />\n",
       "<path d=\"M887.9442,25.0002 C901.6538,25.0002,901.5923,50.0,915.3019,50.0 M915.3038,50.0 C901.5922,50.0,901.6538,74.9998,887.9441,74.9998 M915.3038,49.99999999999999 L937.1884,49.99999999999999 M937.1884,49.99999999999999 C950.9,49.99999999999999,950.8384,25.000199999999992,964.5481,25.000199999999992 M937.1884,49.99999999999999 C950.9,49.99999999999999,950.8384,74.9998,964.5481,74.9998 M875.0,24.999999999999993 L888.0,24.999999999999993 M888.0019,74.9998 L875.0,74.9998 M962.6453,74.9998 L975.0,74.9998 M962.1944,24.999799999999993 L975.0,24.999799999999993\" stroke-width=\"1\" stroke=\"black\" stroke-linejoin=\"miter\" fill=\"none\" />\n",
       "<text x=\"925\" y=\"38\" font-size=\"7\" text-anchor=\"middle\"></text>\n",
       "<path d=\"M947,53 L957,53 L957,63 L947,63 Z\" stroke=\"black\" fill=\"thistle\" stroke-linejoin=\"miter\" />\n",
       "<text x=\"952\" y=\"60\" font-size=\"6\" text-anchor=\"middle\">Rx</text>\n",
       "<path d=\"M975,25 L995,25 M1005,25 L1025,25\" stroke-width=\"1\" stroke=\"black\" stroke-linejoin=\"miter\" fill=\"none\" />\n",
       "<path d=\"M990,35 L1010,35 L1010,15 L990,15 L990,35\" stroke-width=\"1\" stroke=\"black\" stroke-linejoin=\"miter\" fill=\"lightgray\" />\n",
       "<text x=\"1000\" y=\"44\" font-size=\"7\" text-anchor=\"middle\">Φ=0</text>\n",
       "<path d=\"M1025,25 L1045,25 M1055,25 L1075,25\" stroke-width=\"1\" stroke=\"black\" stroke-linejoin=\"miter\" fill=\"none\" />\n",
       "<path d=\"M1040,35 L1060,35 L1060,15 L1040,15 L1040,35\" stroke-width=\"1\" stroke=\"black\" stroke-linejoin=\"miter\" fill=\"lightgray\" />\n",
       "<text x=\"1050\" y=\"44\" font-size=\"7\" text-anchor=\"middle\">Φ=5*pi/4</text>\n",
       "<path d=\"M975,75 L995,75 M1005,75 L1025,75\" stroke-width=\"1\" stroke=\"black\" stroke-linejoin=\"miter\" fill=\"none\" />\n",
       "<path d=\"M990,85 L1010,85 L1010,65 L990,65 L990,85\" stroke-width=\"1\" stroke=\"black\" stroke-linejoin=\"miter\" fill=\"lightgray\" />\n",
       "<text x=\"1000\" y=\"94\" font-size=\"7\" text-anchor=\"middle\">Φ=5*pi/4</text>\n",
       "<path d=\"M1025,75 L1075,75\" stroke=\"black\" stroke-width=\"1\" fill=\"none\" />\n",
       "<path d=\"M1077,102 L1423,102 L1423,198 L1077,198 Z\" stroke=\"black\" fill=\"lightblue\" stroke-dasharray=\"1,2\" stroke-linejoin=\"miter\" />\n",
       "<text x=\"1079\" y=\"205\" font-size=\"8\" text-anchor=\"start\">H</text>\n",
       "<path d=\"M1087.9442,125.0002 C1101.6537999999998,125.0002,1101.5922999999998,150.0,1115.3019,150.0 M1115.3038,150.0 C1101.5921999999998,150.0,1101.6537999999998,174.9998,1087.9441,174.9998 M1115.3038,150.0 L1137.1884,150.0 M1137.1884,150.0 C1150.9,150.0,1150.8384,125.0002,1164.5481,125.0002 M1137.1884,150.0 C1150.9,150.0,1150.8384,174.9998,1164.5481,174.9998 M1075.0,125.0 L1088.0,125.0 M1088.0019,174.9998 L1075.0,174.9998 M1162.6453,174.9998 L1175.0,174.9998 M1162.1944,124.9998 L1175.0,124.9998\" stroke-width=\"1\" stroke=\"black\" stroke-linejoin=\"miter\" fill=\"none\" />\n",
       "<text x=\"1125\" y=\"138\" font-size=\"7\" text-anchor=\"middle\"></text>\n",
       "<path d=\"M1147,153 L1157,153 L1157,163 L1147,163 Z\" stroke=\"black\" fill=\"thistle\" stroke-linejoin=\"miter\" />\n",
       "<text x=\"1152\" y=\"160\" font-size=\"6\" text-anchor=\"middle\">Rx</text>\n",
       "<path d=\"M1175,125 L1195,125 M1205,125 L1225,125\" stroke-width=\"1\" stroke=\"black\" stroke-linejoin=\"miter\" fill=\"none\" />\n",
       "<path d=\"M1190,135 L1210,135 L1210,115 L1190,115 L1190,135\" stroke-width=\"1\" stroke=\"black\" stroke-linejoin=\"miter\" fill=\"lightgray\" />\n",
       "<text x=\"1200\" y=\"144\" font-size=\"7\" text-anchor=\"middle\">Φ=pi/2</text>\n",
       "<path d=\"M1175,175 L1225,175\" stroke=\"black\" stroke-width=\"1\" fill=\"none\" />\n",
       "<path d=\"M1237.9442,125.0002 C1251.6537999999998,125.0002,1251.5922999999998,150.0,1265.3019,150.0 M1265.3038,150.0 C1251.5921999999998,150.0,1251.6537999999998,174.9998,1237.9441,174.9998 M1265.3038,150.0 L1287.1884,150.0 M1287.1884,150.0 C1300.9,150.0,1300.8384,125.0002,1314.5481,125.0002 M1287.1884,150.0 C1300.9,150.0,1300.8384,174.9998,1314.5481,174.9998 M1225.0,125.0 L1238.0,125.0 M1238.0019,174.9998 L1225.0,174.9998 M1312.6453,174.9998 L1325.0,174.9998 M1312.1944,124.9998 L1325.0,124.9998\" stroke-width=\"1\" stroke=\"black\" stroke-linejoin=\"miter\" fill=\"none\" />\n",
       "<text x=\"1275\" y=\"138\" font-size=\"7\" text-anchor=\"middle\"></text>\n",
       "<path d=\"M1297,153 L1307,153 L1307,163 L1297,163 Z\" stroke=\"black\" fill=\"thistle\" stroke-linejoin=\"miter\" />\n",
       "<text x=\"1302\" y=\"160\" font-size=\"6\" text-anchor=\"middle\">Rx</text>\n",
       "<path d=\"M1325,125 L1345,125 M1355,125 L1375,125\" stroke-width=\"1\" stroke=\"black\" stroke-linejoin=\"miter\" fill=\"none\" />\n",
       "<path d=\"M1340,135 L1360,135 L1360,115 L1340,115 L1340,135\" stroke-width=\"1\" stroke=\"black\" stroke-linejoin=\"miter\" fill=\"lightgray\" />\n",
       "<text x=\"1350\" y=\"144\" font-size=\"7\" text-anchor=\"middle\">Φ=0</text>\n",
       "<path d=\"M1375,125 L1395,125 M1405,125 L1425,125\" stroke-width=\"1\" stroke=\"black\" stroke-linejoin=\"miter\" fill=\"none\" />\n",
       "<path d=\"M1390,135 L1410,135 L1410,115 L1390,115 L1390,135\" stroke-width=\"1\" stroke=\"black\" stroke-linejoin=\"miter\" fill=\"lightgray\" />\n",
       "<text x=\"1400\" y=\"144\" font-size=\"7\" text-anchor=\"middle\">Φ=5*pi/4</text>\n",
       "<path d=\"M1325,175 L1345,175 M1355,175 L1375,175\" stroke-width=\"1\" stroke=\"black\" stroke-linejoin=\"miter\" fill=\"none\" />\n",
       "<path d=\"M1340,185 L1360,185 L1360,165 L1340,165 L1340,185\" stroke-width=\"1\" stroke=\"black\" stroke-linejoin=\"miter\" fill=\"lightgray\" />\n",
       "<text x=\"1350\" y=\"194\" font-size=\"7\" text-anchor=\"middle\">Φ=5*pi/4</text>\n",
       "<path d=\"M1375,175 L1425,175\" stroke=\"black\" stroke-width=\"1\" fill=\"none\" />\n",
       "<path d=\"M1075,75 L1425,75\" stroke=\"black\" stroke-width=\"1\" fill=\"none\" />\n",
       "<path d=\"M1427,52 L1773,52 L1773,148 L1427,148 Z\" stroke=\"black\" fill=\"lightblue\" stroke-dasharray=\"1,2\" stroke-linejoin=\"miter\" />\n",
       "<text x=\"1429\" y=\"155\" font-size=\"8\" text-anchor=\"start\">U_REF</text>\n",
       "<path d=\"M1437.9442,75.0002 C1451.6537999999998,75.0002,1451.5922999999998,100.0,1465.3019,100.0 M1465.3038,100.0 C1451.5921999999998,100.0,1451.6537999999998,124.9998,1437.9441,124.9998 M1465.3038,100.0 L1487.1884,100.0 M1487.1884,100.0 C1500.9,100.0,1500.8384,75.0002,1514.5481,75.0002 M1487.1884,100.0 C1500.9,100.0,1500.8384,124.9998,1514.5481,124.9998 M1425.0,75.0 L1438.0,75.0 M1438.0019,124.9998 L1425.0,124.9998 M1512.6453,124.9998 L1525.0,124.9998 M1512.1944,74.9998 L1525.0,74.9998\" stroke-width=\"1\" stroke=\"black\" stroke-linejoin=\"miter\" fill=\"none\" />\n",
       "<text x=\"1475\" y=\"88\" font-size=\"7\" text-anchor=\"middle\"></text>\n",
       "<path d=\"M1497,103 L1507,103 L1507,113 L1497,113 Z\" stroke=\"black\" fill=\"thistle\" stroke-linejoin=\"miter\" />\n",
       "<text x=\"1502\" y=\"110\" font-size=\"6\" text-anchor=\"middle\">Rx</text>\n",
       "<path d=\"M1525,75 L1545,75 M1555,75 L1575,75\" stroke-width=\"1\" stroke=\"black\" stroke-linejoin=\"miter\" fill=\"none\" />\n",
       "<path d=\"M1540,85 L1560,85 L1560,65 L1540,65 L1540,85\" stroke-width=\"1\" stroke=\"black\" stroke-linejoin=\"miter\" fill=\"lightgray\" />\n",
       "<text x=\"1550\" y=\"94\" font-size=\"7\" text-anchor=\"middle\">Φ=pi</text>\n",
       "<path d=\"M1525,125 L1575,125\" stroke=\"black\" stroke-width=\"1\" fill=\"none\" />\n",
       "<path d=\"M1587.9442,75.0002 C1601.6537999999998,75.0002,1601.5922999999998,100.0,1615.3019,100.0 M1615.3038,100.0 C1601.5921999999998,100.0,1601.6537999999998,124.9998,1587.9441,124.9998 M1615.3038,100.0 L1637.1884,100.0 M1637.1884,100.0 C1650.9,100.0,1650.8384,75.0002,1664.5481,75.0002 M1637.1884,100.0 C1650.9,100.0,1650.8384,124.9998,1664.5481,124.9998 M1575.0,75.0 L1588.0,75.0 M1588.0019,124.9998 L1575.0,124.9998 M1662.6453,124.9998 L1675.0,124.9998 M1662.1944,74.9998 L1675.0,74.9998\" stroke-width=\"1\" stroke=\"black\" stroke-linejoin=\"miter\" fill=\"none\" />\n",
       "<text x=\"1625\" y=\"88\" font-size=\"7\" text-anchor=\"middle\"></text>\n",
       "<path d=\"M1647,103 L1657,103 L1657,113 L1647,113 Z\" stroke=\"black\" fill=\"thistle\" stroke-linejoin=\"miter\" />\n",
       "<text x=\"1652\" y=\"110\" font-size=\"6\" text-anchor=\"middle\">Rx</text>\n",
       "<path d=\"M1675,75 L1695,75 M1705,75 L1725,75\" stroke-width=\"1\" stroke=\"black\" stroke-linejoin=\"miter\" fill=\"none\" />\n",
       "<path d=\"M1690,85 L1710,85 L1710,65 L1690,65 L1690,85\" stroke-width=\"1\" stroke=\"black\" stroke-linejoin=\"miter\" fill=\"lightgray\" />\n",
       "<text x=\"1700\" y=\"94\" font-size=\"7\" text-anchor=\"middle\">Φ=0</text>\n",
       "<path d=\"M1725,75 L1745,75 M1755,75 L1775,75\" stroke-width=\"1\" stroke=\"black\" stroke-linejoin=\"miter\" fill=\"none\" />\n",
       "<path d=\"M1740,85 L1760,85 L1760,65 L1740,65 L1740,85\" stroke-width=\"1\" stroke=\"black\" stroke-linejoin=\"miter\" fill=\"lightgray\" />\n",
       "<text x=\"1750\" y=\"94\" font-size=\"7\" text-anchor=\"middle\">Φ=0</text>\n",
       "<path d=\"M1675,125 L1695,125 M1705,125 L1725,125\" stroke-width=\"1\" stroke=\"black\" stroke-linejoin=\"miter\" fill=\"none\" />\n",
       "<path d=\"M1690,135 L1710,135 L1710,115 L1690,115 L1690,135\" stroke-width=\"1\" stroke=\"black\" stroke-linejoin=\"miter\" fill=\"lightgray\" />\n",
       "<text x=\"1700\" y=\"144\" font-size=\"7\" text-anchor=\"middle\">Φ=0</text>\n",
       "<path d=\"M1075,25 L1775,25\" stroke=\"black\" stroke-width=\"1\" fill=\"none\" />\n",
       "<path d=\"M1725,125 L1775,125\" stroke=\"black\" stroke-width=\"1\" fill=\"none\" />\n",
       "<path d=\"M1425,175 L1775,175\" stroke=\"black\" stroke-width=\"1\" fill=\"none\" />\n",
       "<path d=\"M1777,102 L2123,102 L2123,198 L1777,198 Z\" stroke=\"black\" fill=\"lightblue\" stroke-dasharray=\"1,2\" stroke-linejoin=\"miter\" />\n",
       "<text x=\"1779\" y=\"205\" font-size=\"8\" text-anchor=\"start\">U_E</text>\n",
       "<path d=\"M1787.9442,125.0002 C1801.6537999999998,125.0002,1801.5922999999998,150.0,1815.3019,150.0 M1815.3038,150.0 C1801.5921999999998,150.0,1801.6537999999998,174.9998,1787.9441,174.9998 M1815.3038,150.0 L1837.1884,150.0 M1837.1884,150.0 C1850.9,150.0,1850.8384,125.0002,1864.5481,125.0002 M1837.1884,150.0 C1850.9,150.0,1850.8384,174.9998,1864.5481,174.9998 M1775.0,125.0 L1788.0,125.0 M1788.0019,174.9998 L1775.0,174.9998 M1862.6453,174.9998 L1875.0,174.9998 M1862.1944,124.9998 L1875.0,124.9998\" stroke-width=\"1\" stroke=\"black\" stroke-linejoin=\"miter\" fill=\"none\" />\n",
       "<text x=\"1825\" y=\"138\" font-size=\"7\" text-anchor=\"middle\"></text>\n",
       "<path d=\"M1847,153 L1857,153 L1857,163 L1847,163 Z\" stroke=\"black\" fill=\"thistle\" stroke-linejoin=\"miter\" />\n",
       "<text x=\"1852\" y=\"160\" font-size=\"6\" text-anchor=\"middle\">Rx</text>\n",
       "<path d=\"M1875,125 L1895,125 M1905,125 L1925,125\" stroke-width=\"1\" stroke=\"black\" stroke-linejoin=\"miter\" fill=\"none\" />\n",
       "<path d=\"M1890,135 L1910,135 L1910,115 L1890,115 L1890,135\" stroke-width=\"1\" stroke=\"black\" stroke-linejoin=\"miter\" fill=\"lightgray\" />\n",
       "<text x=\"1900\" y=\"144\" font-size=\"7\" text-anchor=\"middle\">Φ=2*pi</text>\n",
       "<path d=\"M1875,175 L1925,175\" stroke=\"black\" stroke-width=\"1\" fill=\"none\" />\n",
       "<path d=\"M1937.9442,125.0002 C1951.6537999999998,125.0002,1951.5922999999998,150.0,1965.3019,150.0 M1965.3038,150.0 C1951.5921999999998,150.0,1951.6537999999998,174.9998,1937.9441,174.9998 M1965.3038,150.0 L1987.1884,150.0 M1987.1884,150.0 C2000.9,150.0,2000.8384,125.0002,2014.5481,125.0002 M1987.1884,150.0 C2000.9,150.0,2000.8384,174.9998,2014.5481,174.9998 M1925.0,125.0 L1938.0,125.0 M1938.0019,174.9998 L1925.0,174.9998 M2012.6453,174.9998 L2025.0,174.9998 M2012.1944,124.9998 L2025.0,124.9998\" stroke-width=\"1\" stroke=\"black\" stroke-linejoin=\"miter\" fill=\"none\" />\n",
       "<text x=\"1975\" y=\"138\" font-size=\"7\" text-anchor=\"middle\"></text>\n",
       "<path d=\"M1997,153 L2007,153 L2007,163 L1997,163 Z\" stroke=\"black\" fill=\"thistle\" stroke-linejoin=\"miter\" />\n",
       "<text x=\"2002\" y=\"160\" font-size=\"6\" text-anchor=\"middle\">Rx</text>\n",
       "<path d=\"M2025,125 L2045,125 M2055,125 L2075,125\" stroke-width=\"1\" stroke=\"black\" stroke-linejoin=\"miter\" fill=\"none\" />\n",
       "<path d=\"M2040,135 L2060,135 L2060,115 L2040,115 L2040,135\" stroke-width=\"1\" stroke=\"black\" stroke-linejoin=\"miter\" fill=\"lightgray\" />\n",
       "<text x=\"2050\" y=\"144\" font-size=\"7\" text-anchor=\"middle\">Φ=0</text>\n",
       "<path d=\"M2075,125 L2095,125 M2105,125 L2125,125\" stroke-width=\"1\" stroke=\"black\" stroke-linejoin=\"miter\" fill=\"none\" />\n",
       "<path d=\"M2090,135 L2110,135 L2110,115 L2090,115 L2090,135\" stroke-width=\"1\" stroke=\"black\" stroke-linejoin=\"miter\" fill=\"lightgray\" />\n",
       "<text x=\"2100\" y=\"144\" font-size=\"7\" text-anchor=\"middle\">Φ=pi/2</text>\n",
       "<path d=\"M2025,175 L2045,175 M2055,175 L2075,175\" stroke-width=\"1\" stroke=\"black\" stroke-linejoin=\"miter\" fill=\"none\" />\n",
       "<path d=\"M2040,185 L2060,185 L2060,165 L2040,165 L2040,185\" stroke-width=\"1\" stroke=\"black\" stroke-linejoin=\"miter\" fill=\"lightgray\" />\n",
       "<text x=\"2050\" y=\"194\" font-size=\"7\" text-anchor=\"middle\">Φ=pi/2</text>\n",
       "<path d=\"M2075,175 L2125,175\" stroke=\"black\" stroke-width=\"1\" fill=\"none\" />\n",
       "<path d=\"M1775,25 L2125,25\" stroke=\"black\" stroke-width=\"1\" fill=\"none\" />\n",
       "<path d=\"M1775,75 L2125,75\" stroke=\"black\" stroke-width=\"1\" fill=\"none\" />\n",
       "<path d=\"M2125,25 L2140,25\" stroke-width=\"1\" stroke=\"black\" stroke-linejoin=\"miter\" fill=\"none\" />\n",
       "<path d=\"M2125,75 L2140,75\" stroke-width=\"1\" stroke=\"black\" stroke-linejoin=\"miter\" fill=\"none\" />\n",
       "<path d=\"M2125,125 L2140,125\" stroke-width=\"1\" stroke=\"black\" stroke-linejoin=\"miter\" fill=\"none\" />\n",
       "<path d=\"M2125,175 L2140,175\" stroke-width=\"1\" stroke=\"black\" stroke-linejoin=\"miter\" fill=\"none\" />\n",
       "<text x=\"2150\" y=\"28\" font-size=\"6\" text-anchor=\"end\">0</text>\n",
       "<text x=\"2150\" y=\"78\" font-size=\"6\" text-anchor=\"end\">1</text>\n",
       "<text x=\"2150\" y=\"128\" font-size=\"6\" text-anchor=\"end\">2</text>\n",
       "<text x=\"2150\" y=\"178\" font-size=\"6\" text-anchor=\"end\">3</text>\n",
       "<text x=\"0\" y=\"28\" font-size=\"6\" text-anchor=\"start\">0</text>\n",
       "<text x=\"0\" y=\"78\" font-size=\"6\" text-anchor=\"start\">1</text>\n",
       "<text x=\"0\" y=\"128\" font-size=\"6\" text-anchor=\"start\">2</text>\n",
       "<text x=\"0\" y=\"178\" font-size=\"6\" text-anchor=\"start\">3</text>\n",
       "</svg>"
      ],
      "text/plain": [
       "<drawsvg.drawing.Drawing at 0x1f6f501ad10>"
      ]
     },
     "execution_count": 16,
     "metadata": {},
     "output_type": "execute_result"
    }
   ],
   "source": [
    "quantum_circuit = pcvl.Circuit(4)\n",
    "quantum_circuit.add(1, state_prep).add(0, hadamard).add(2, hadamard).add(2, env).add(0, hadamard).add(2, hadamard).add(1, ref) #circuit for quantum strategy\n",
    "quantum_circuit.add(2,env) #appending directly the classical round (without preparation) at the end\n",
    "pcvl.pdisplay(quantum_circuit, recursive=True)"
   ]
  },
  {
   "cell_type": "markdown",
   "id": "367229cf",
   "metadata": {},
   "source": [
    "### Simulation"
   ]
  },
  {
   "cell_type": "code",
   "execution_count": 17,
   "id": "318570c5",
   "metadata": {},
   "outputs": [],
   "source": [
    "# Simulation parameters\n",
    "N_AGENTS = 100 #number of agents that we simulate and average over\n",
    "N_EPOCH = 1000\n",
    "H_0 = 99\n",
    "H_1 = 1\n",
    "EPS0 = H_1 / (H_0+H_1)"
   ]
  },
  {
   "cell_type": "markdown",
   "id": "46ff0d04",
   "metadata": {},
   "source": [
    "#### Reward function\n",
    "First we define a reward function that takes as an input a circuit, output a sample state and returns True if it corresponds to a rewarded state (False otherwise)."
   ]
  },
  {
   "cell_type": "code",
   "execution_count": 18,
   "id": "2369c08f",
   "metadata": {},
   "outputs": [],
   "source": [
    "def get_reward(circuit: pcvl.Circuit) -> bool:\n",
    "    proc = pcvl.Processor(\"SLOS\", circuit)\n",
    "    proc.with_input(pcvl.BasicState([0, 1, 0, 0]))\n",
    "    sampler = pcvl.algorithm.Sampler(proc)\n",
    "    samples = sampler.samples(1)\n",
    "\n",
    "    # Take a random sample and check if it's the rewarded state or not\n",
    "    return samples[\"results\"][0] == pcvl.BasicState([0, 0, 0, 1])\n"
   ]
  },
  {
   "cell_type": "markdown",
   "id": "ae5b5de3",
   "metadata": {},
   "source": [
    "#### Classical strategy"
   ]
  },
  {
   "cell_type": "markdown",
   "id": "2aa85433",
   "metadata": {},
   "source": [
    "Below we gather everything defined above to run the purely classical strategy from the article."
   ]
  },
  {
   "cell_type": "code",
   "execution_count": 20,
   "id": "5cdf619c",
   "metadata": {},
   "outputs": [
    {
     "data": {
      "application/vnd.jupyter.widget-view+json": {
       "model_id": "4598a7b34e00401bb4092b2f839a8286",
       "version_major": 2,
       "version_minor": 0
      },
      "text/plain": [
       "FloatProgress(value=0.0)"
      ]
     },
     "metadata": {},
     "output_type": "display_data"
    }
   ],
   "source": [
    "eta_classical = []\n",
    "\n",
    "# Pourcentage bar\n",
    "f = FloatProgress(min=0, max=N_AGENTS)\n",
    "display(f)\n",
    "\n",
    "for agent in range(N_AGENTS): #Loop and average over all agents\n",
    "    f.value = agent\n",
    "    # Initialize initial score\n",
    "    h_0 = H_0\n",
    "    h_1 = H_1\n",
    "    eps = h_1 / (h_0 + h_1)\n",
    "\n",
    "    # Initialize circuit with initial probability and corresponding angles\n",
    "    xi = np.arcsin(eps**0.5)\n",
    "    \n",
    "    theta1 = np.pi - 2*xi\n",
    "    theta_prep.set_value(theta1)\n",
    "    theta2_prep.set_value(-np.pi/2 - theta1/2)\n",
    "\n",
    "    # Arrays of epsilon\n",
    "    eps_array = []\n",
    "    for i in range(N_EPOCH):\n",
    "        if get_reward(classical_circuit): #update policy if output state corresponds to a rewarded state\n",
    "            h_1 = h_1 + 2\n",
    "            eps = h_1 / (h_0 + h_1)\n",
    "            xi = np.arcsin(eps**0.5)\n",
    "            theta1 = np.pi - 2*xi\n",
    "            theta_prep.set_value(theta1)\n",
    "            theta2_prep.set_value(-np.pi/2 - theta1/2)\n",
    "            eps_array.append(1)\n",
    "        else:\n",
    "            eps_array.append(0)\n",
    "\n",
    "    eta_classical.append(eps_array)\n",
    "\n",
    "eta_classical = np.array(eta_classical)\n",
    "f.value = N_AGENTS"
   ]
  },
  {
   "cell_type": "code",
   "execution_count": 21,
   "id": "413721c6",
   "metadata": {},
   "outputs": [
    {
     "data": {
      "image/png": "[encoded data removed]",
      "text/plain": [
       "<Figure size 432x288 with 1 Axes>"
      ]
     },
     "metadata": {
      "needs_background": "light"
     },
     "output_type": "display_data"
    }
   ],
   "source": [
    "plt.plot(np.mean(eta_classical, axis=0)[::2], \".\", label=\"Fully classical strategy\")\n",
    "plt.xlabel(\"Even epochs\")\n",
    "plt.ylabel(\"$\\eta$\")\n",
    "plt.legend()\n",
    "plt.grid()"
   ]
  },
  {
   "cell_type": "markdown",
   "id": "9ab3f4c9",
   "metadata": {},
   "source": [
    "Here we plot the proportion of agents that gets a reward. In the first epochs, the probability of getting a reward is small and few agents get some. However, once an agent gets a reward, they are more likely to get a reward in the future."
   ]
  },
  {
   "cell_type": "markdown",
   "id": "e4e33516",
   "metadata": {},
   "source": [
    "#### Quantum strategy"
   ]
  },
  {
   "cell_type": "markdown",
   "id": "3235182e",
   "metadata": {},
   "source": [
    "Below we run the purely quantum strategy."
   ]
  },
  {
   "cell_type": "code",
   "execution_count": 22,
   "id": "63cdbf11",
   "metadata": {},
   "outputs": [
    {
     "data": {
      "application/vnd.jupyter.widget-view+json": {
       "model_id": "621985a90efe40b2b959e2868589ae66",
       "version_major": 2,
       "version_minor": 0
      },
      "text/plain": [
       "FloatProgress(value=0.0)"
      ]
     },
     "metadata": {},
     "output_type": "display_data"
    }
   ],
   "source": [
    "eta_quantum = []\n",
    "\n",
    "# Pourcentage bar\n",
    "f = FloatProgress(min=0, max=N_AGENTS)\n",
    "display(f)\n",
    "\n",
    "for agent in range(N_AGENTS):\n",
    "    f.value = agent\n",
    "    # Initialize initial scores\n",
    "    h_0 = H_0\n",
    "    h_1 = H_1\n",
    "    eps = h_1 / (h_0 + h_1)\n",
    "\n",
    "    # Initialize circuit with initial probability\n",
    "    xi = np.arcsin(eps**0.5)\n",
    "    \n",
    "    theta1 = np.pi - 2*xi\n",
    "    theta_prep.set_value(theta1)\n",
    "    theta2_prep.set_value(-np.pi/2 - theta1/2)\n",
    "    \n",
    "    theta2 = np.pi - 4*xi\n",
    "    theta_ref.set_value(theta2)\n",
    "    theta2_ref.set_value(-np.pi/2 - theta2/2)\n",
    "\n",
    "    # Arrays of epsilon\n",
    "    eps_array = []\n",
    "    for i in range(N_EPOCH//2):\n",
    "        if get_reward(quantum_circuit):\n",
    "            h_1 = h_1 + 2\n",
    "            eps = h_1 / (h_0 + h_1)\n",
    "            xi = np.arcsin(eps**0.5)\n",
    "            \n",
    "            theta1 = np.pi - 2*xi\n",
    "            theta_prep.set_value(theta1)\n",
    "            theta2_prep.set_value(-np.pi/2 - theta1/2)\n",
    "            \n",
    "            theta2 = np.pi - 4*xi\n",
    "            theta_ref.set_value(theta2)\n",
    "            theta2_ref.set_value(-np.pi/2 - theta2/2)\n",
    "            \n",
    "            eps_array.append(0.5)\n",
    "            eps_array.append(0.5)\n",
    "        else:\n",
    "            eps_array.append(0)\n",
    "            eps_array.append(0)\n",
    "\n",
    "    eta_quantum.append(eps_array)\n",
    "\n",
    "eta_quantum = np.array(eta_quantum)\n",
    "f.value=N_AGENTS"
   ]
  },
  {
   "cell_type": "code",
   "execution_count": 23,
   "id": "6678e44f",
   "metadata": {},
   "outputs": [
    {
     "data": {
      "image/png": "[encoded data removed]",
      "text/plain": [
       "<Figure size 432x288 with 1 Axes>"
      ]
     },
     "metadata": {
      "needs_background": "light"
     },
     "output_type": "display_data"
    }
   ],
   "source": [
    "plt.plot(np.mean(eta_quantum, axis=0)[::2], \".\", label=\"Fully quantum strategy\")\n",
    "plt.xlabel(\"Even epochs\")\n",
    "plt.ylabel(\"$\\eta$\")\n",
    "plt.legend()\n",
    "plt.grid()"
   ]
  },
  {
   "cell_type": "markdown",
   "id": "fc7ac058",
   "metadata": {},
   "source": [
    "Here we see a different behavior. With Grover's amplification, getting a reward is more likely in the first epochs. However, as the probability gets updated, one of Grover's amplification feature will manifest itself: we start to \"overshoot\" or rotate too much and we get past the winning state, and once we got past it, it is not possible to recover the winning state. We converge to a state with zero probability of getting a reward and nothing will get updated. This is why we need to consider an hybrid strategy."
   ]
  },
  {
   "cell_type": "markdown",
   "id": "eee6f816",
   "metadata": {},
   "source": [
    "#### Classical-quantum strategy"
   ]
  },
  {
   "cell_type": "markdown",
   "id": "dfe8e73e",
   "metadata": {},
   "source": [
    "We want to start with a quantum strategy, and then switch to a classical strategy when e start to overshoot. This happens when the probability of winning in the quantum strategy gets lower than the classical one.\n",
    "\n",
    "Due to normalization (and the fact that the quantum strategy takes twice as many epochs than the classical one), this corresponds to solve the equation\n",
    "\n",
    "$$\\frac{1}{2}\\sin^2(3\\xi) = \\sin^2(\\xi)$$\n",
    "\n",
    "The solution can be found numerically and gives a value of $\\xi = 0.6811$ which corresponds to $\\varepsilon=\\sin^2(\\xi)=0.396$.\n",
    "\n",
    "We then choose $Q_L$ to be the value where we switch from quantum to classical and the only requirement is $Q_L<0.396$. To follow [1] we will choose, $Q_L = 0.37$."
   ]
  },
  {
   "cell_type": "code",
   "execution_count": 24,
   "id": "90a4acc1",
   "metadata": {},
   "outputs": [
    {
     "data": {
      "application/vnd.jupyter.widget-view+json": {
       "model_id": "5ee715ffa984482a80cc31b8774e123b",
       "version_major": 2,
       "version_minor": 0
      },
      "text/plain": [
       "FloatProgress(value=0.0)"
      ]
     },
     "metadata": {},
     "output_type": "display_data"
    }
   ],
   "source": [
    "QL = 0.37\n",
    "eta_classical_quantum = []\n",
    "\n",
    "# Pourcentage bar\n",
    "f = FloatProgress(min=0, max=N_AGENTS)\n",
    "display(f)\n",
    "\n",
    "for agent in range(N_AGENTS):\n",
    "    f.value = agent\n",
    "    # Initialize initial scores\n",
    "    h_0 = H_0\n",
    "    h_1 = H_1\n",
    "    eps = h_1 / (h_0 + h_1)\n",
    "\n",
    "    # Initialize circuit with initial probability\n",
    "    xi = np.arcsin(eps**0.5)\n",
    "    \n",
    "    theta1 = np.pi - 2*xi\n",
    "    theta_prep.set_value(theta1)\n",
    "    theta2_prep.set_value(-np.pi/2 - theta1/2)\n",
    "    \n",
    "    theta2 = np.pi - 4*xi\n",
    "    theta_ref.set_value(theta2)\n",
    "    theta2_ref.set_value(-np.pi/2 - theta2/2)\n",
    "\n",
    "    # Arrays of epsilon\n",
    "    eps_array = []\n",
    "    i = 0\n",
    "    while i < N_EPOCH:\n",
    "        if eps < QL:\n",
    "            # Perform a quantum round\n",
    "            if get_reward(quantum_circuit):\n",
    "                h_1 = h_1 + 2\n",
    "                eps = h_1 / (h_0 + h_1)\n",
    "                xi = np.arcsin(eps**0.5)\n",
    "                theta1 = np.pi - 2*xi\n",
    "                theta_prep.set_value(theta1)\n",
    "                theta2_prep.set_value(-np.pi/2 - theta1/2)\n",
    "    \n",
    "                theta2 = np.pi - 4*xi\n",
    "                theta_ref.set_value(theta2)\n",
    "                theta2_ref.set_value(-np.pi/2 - theta2/2)\n",
    "                eps_array.append(0.5)\n",
    "                eps_array.append(0.5)\n",
    "            else:\n",
    "                eps_array.append(0)\n",
    "                eps_array.append(0)\n",
    "\n",
    "            # Update epoch by 2\n",
    "            i = i + 2\n",
    "        else:\n",
    "            # Perform a classical round\n",
    "            if get_reward(classical_circuit):\n",
    "                h_1 = h_1 + 2\n",
    "                eps = h_1 / (h_0 + h_1)\n",
    "                xi = np.arcsin(eps**0.5)\n",
    "                theta1 = np.pi - 2*xi\n",
    "                theta_prep.set_value(theta1)\n",
    "                theta2_prep.set_value(-np.pi/2 - theta1/2)\n",
    "\n",
    "                eps_array.append(1)\n",
    "            else:\n",
    "                eps_array.append(0)\n",
    "            # Update epoch by 1\n",
    "            i = i + 1\n",
    "\n",
    "    eta_classical_quantum.append(eps_array)\n",
    "\n",
    "eta_classical_quantum = np.array(eta_classical_quantum)\n",
    "f.value=N_AGENTS"
   ]
  },
  {
   "cell_type": "markdown",
   "id": "20a92f86",
   "metadata": {},
   "source": [
    "#### Plots"
   ]
  },
  {
   "cell_type": "code",
   "execution_count": 25,
   "id": "957d52f1",
   "metadata": {},
   "outputs": [
    {
     "data": {
      "image/png": "[encoded data removed]",
      "text/plain": [
       "<Figure size 432x288 with 1 Axes>"
      ]
     },
     "metadata": {
      "needs_background": "light"
     },
     "output_type": "display_data"
    }
   ],
   "source": [
    "plt.plot(np.mean(eta_classical, axis=0)[::2], \".\", label=\"Fully classical strategy\")\n",
    "plt.plot(np.mean(eta_quantum, axis=0)[::2], \".\", label=\"Fully quantum strategy\")\n",
    "plt.plot(np.mean(eta_classical_quantum,axis=0,)[::2],\".\",label=\"Quantum-classical strategy\",)\n",
    "plt.xlabel(\"Even epochs\")\n",
    "plt.ylabel(\"$\\eta$\")\n",
    "plt.legend()\n",
    "plt.grid()"
   ]
  },
  {
   "cell_type": "markdown",
   "id": "a4390ce7",
   "metadata": {},
   "source": [
    "## Conclusion"
   ]
  },
  {
   "attachments": {},
   "cell_type": "markdown",
   "id": "34dd02db",
   "metadata": {},
   "source": [
    "Simulating the circuits of [1], we are able to reproduce their results. Data are still noisier than the results due to a smaller number agents. A parallelized version of this code was executed with 10 000 agents and the following results were found:\n",
    "\n",
    "![results_10000.png](../_static/img/reinforcement-learning_results_10000.png)\n",
    "\n",
    "which are very close to the paper results.\n",
    "\n",
    "It's possible to play with the value of $Q_L$ and the number of agents. Remember that the simulation time is linear with the number of agents."
   ]
  },
  {
   "cell_type": "markdown",
   "id": "911dd875",
   "metadata": {},
   "source": [
    "## Acknowledgement"
   ]
  },
  {
   "cell_type": "markdown",
   "id": "7721eae9",
   "metadata": {},
   "source": [
    "This work was initially done during the Hackathon on Linear Optical Quantum Communication (LOQCathon) organised by [Quandela](https://www.quandela.com/) and [QICS](https://qics.sorbonne-universite.fr/en) (Quantum Information Center of Sorbonne Université), by the team composed of Luís Bugalho, Laura dos Santos Martins, Paolo Fittipaldi, Yoann Piétri and Verena Yacoub. The supervision was provided by Pierre-Emmanuel Emeriau."
   ]
  },
  {
   "cell_type": "markdown",
   "id": "441c442e",
   "metadata": {},
   "source": [
    "## References\n",
    "\n",
    ">  [1] V. Saggio, B. E. Asenbeck, A.  Hamann, et al. Experimental quantum speed-up in reinforcement learning agents. [Nature](https://doi.org/10.1038/s41586-021-03242-7), 591(7849), 229-233 (2021).\n",
    "\n",
    " > [2] A. Hamann, S. Wölk. Performance analysis of a hybrid agent for quantum-accessible reinforcement learning. [New Journal of Physics](https://doi.org/10.1088/1367-2630/ac5b56 ), 24(3), 033044 (2022)."
   ]
  }
 ],
 "metadata": {
  "language_info": {
   "name": "python"
  }
 },
 "nbformat": 4,
 "nbformat_minor": 5
}
