{
 "cells": [
  {
   "cell_type": "markdown",
   "id": "c04e3ac9",
   "metadata": {
    "pycharm": {
     "name": "#%% md\n"
    }
   },
   "source": [
    "# Differential equation resolution\n",
    "\n",
    "## Introduction\n",
    "\n",
    "We present here a Perceval implementation of a Quantum Machine Learning algorithm for solving differential equations. Its aims is to approximate the solution to the differential equation considered in \\[1\\]:\n",
    "\n",
    "$$\n",
    "\\frac{d f}{d x}+\\lambda f(x)(\\kappa+\\tan (\\lambda x))=0\n",
    "$$\n",
    "\n",
    "with boundary condition $f(0)=f_{0}$. The analytical solution is $f(x)=\\exp (-\\kappa \\lambda x) \\cos (\\lambda x)+ f_0 - 1$.\n",
    "\n",
    "### QML Loss Function Definition\n",
    "\n",
    "In order to use QML to solve this differential equation, we first need to derive from it a loss function whose minimum is associated to its analytical solution.\n",
    "\n",
    "Let $F\\left[\\left\\{d^{m} f / d x^{m}\\right\\}_{m},f, x\\right]=0$ be a general differential equation verified by $f(x)$, where $F[.]$ is an operator acting on $f(x)$, its derivatives and $x$. For the solving of a differential equation, the loss function described in \\[1\\] consists of two terms\n",
    "\n",
    "$$\n",
    "    \\mathcal{L}_{\\boldsymbol{\\theta}}\\left[\\left\\{d^{m} g / d x^{m}\\right\\}_{m},g, x\\right]:=\\mathcal{L}_{\\boldsymbol{\\theta}}^{(\\mathrm{diff})}\\left[\\left\\{d^{m} g / d x^{m}\\right\\}_{m},g, x\\right]+\\mathcal{L}_{\\boldsymbol{\\theta}}^{(\\text {boundary})}[g, x].\n",
    "$$\n",
    "\n",
    "The first term $\\mathcal{L}_{\\boldsymbol{\\theta}}^{(\\mathrm{diff})}$ corresponds to the differential equation which has been discretised over a fixed regular grid of $M$ points noted $x_i$:\n",
    "\n",
    "$$\n",
    "    \\mathcal{L}_{\\boldsymbol{\\theta}}^{(\\mathrm{diff})}\\left[\\left\\{d^{m} g / d x^{m}\\right\\}_{m},g, x\\right]:=\\frac{1}{M} \\sum_{i=1}^{M} L\\left(F\\left[d_{x}^m g\\left(x_{i}\\right), g\\left(x_{i}\\right), x_{i}\\right], 0\\right),\n",
    "$$\n",
    "\n",
    "where $L(a,b) := (a - b)^2$ is the squared distance between two arguments. The second term $\\mathcal{L}_{\\boldsymbol{\\theta}}^{(\\text {boundary })}$ is associated to the initial conditions of our desired solution. It is defined as: \n",
    "\n",
    "$$\n",
    "    \\mathcal{L}_{\\boldsymbol{\\theta}}^{\\text {(boundary) }}[g, x]:=\\eta L\\left(g(x_0), f_{0}\\right),\n",
    "$$\n",
    "    \n",
    "where $\\eta$ is the weight granted to the boundary condition and $f_{0}$ is given by $f(x_0) = f_0$. \n",
    "\n",
    "Given a function approximator $f^{(n)}(x, \\boldsymbol{\\theta}, \\boldsymbol{\\lambda})$, the loss function above will be minimised using a classical algorithm, updating the parameters $\\boldsymbol{\\theta}$ based on samples obtained using a quantum device.\n",
    "\n",
    "### Quantum circuit architecture\n",
    "\n",
    "The feature map used is presented in \\[2,3,4\\]. The quantum circuit architecture from \\[4\\] is expressed as $\\mathcal{U}(x, \\boldsymbol{\\theta}):=\\mathcal{W}^{(2)}\\left(\\boldsymbol{\\theta}_{2}\\right) \\mathcal{S}(x) \\mathcal{W}^{(1)}\\left(\\boldsymbol{\\theta}_{1}\\right).$ The phase-shift operator $\\mathcal{S}(x)$ incorporates the $x$ dependency of the function we wish to approximate. It is sandwiched between two universal interferometers $\\mathcal{W}^{(1)}(\\boldsymbol{\\theta_1})$ and $\\mathcal{W}^{(2)}(\\boldsymbol{\\theta_2})$, where the beam-splitter parameters $\\boldsymbol{\\theta_1}$ and $\\boldsymbol{\\theta_2}$ of this mesh architecture are tunable to enable training of the circuit.\n",
    "The output measurement operator, noted $\\mathcal{M}(\\boldsymbol{\\lambda})$, is the projection on the Fock states obtained using photon-number resolving detectors, multiplied by some coefficients $\\boldsymbol{\\lambda}$ which can also be tunable. Formally, we have:\n",
    "\n",
    "$$    \\mathcal{M}(\\boldsymbol{\\lambda}) = \\sum_{\\mathbf{\\left | n^{(f)}\\right \\rangle}}\\lambda_{\\mathbf{\\left | n^{(f)}\\right \\rangle}}\\mathbf{\\left | n^{(f)}\\right \\rangle}\\mathbf{\\left \\langle n^{(f)}\\right |},\n",
    "$$\n",
    "\n",
    "where the sum is taken over all $\\binom{n+m-1}{n}$ possible Fock states considering $n$ photons in $m$ modes. Let $\\mathbf{\\left | n^{(i)}\\right \\rangle} = \\left |n^{(i)}_1,n^{(i)}_2,\\dots,n^{(i)}_m\\right \\rangle$ be the input state consisting of $n$ photons where $n^{(i)}_j$ is the number of photons in input mode $j$. Given these elements, the circuit's output $f^{(n)}(x, \\boldsymbol{\\theta}, \\boldsymbol{\\lambda})$ is given by the following expectation value:\n",
    "\n",
    "$$\n",
    "f^{(n)}(x, \\boldsymbol{\\theta}, \\boldsymbol{\\lambda})=\\left\\langle\\mathbf{n}^{(i)}\\left|\\mathcal{U}^{\\dagger}(x, \\boldsymbol{\\theta}) \\mathcal{M}(\\boldsymbol{\\lambda}) \\mathcal{U}(x, \\boldsymbol{\\theta})\\right| \\mathbf{n}^{(i)}\\right\\rangle.\n",
    "$$\n",
    "\n",
    "This expression can be rewritten as the following Fourier series \\[4\\]\n",
    "\n",
    "$$\n",
    "f^{(n)}(x, \\boldsymbol{\\theta}, \\boldsymbol{\\lambda})=\\sum_{\\omega \\in \\Omega_{n}} c_{\\omega}(\\boldsymbol{\\theta}, \\boldsymbol{\\lambda}) e^{i \\omega x},\n",
    "$$\n",
    "\n",
    "where $\\Omega_n = \\{-n, -n+1, \\dots, n-1, n \\}$ is the frequency spectrum one can reach with $n$ incoming photons and $\\{c_\\omega(\\boldsymbol{\\theta}, \\boldsymbol{\\lambda})\\}$ are the Fourier coefficients. The $\\boldsymbol{\\lambda}$ parameters are sampled randomly in the interval $[-a;a]$, with $a$ a randomly chosen integer. $f^{(n)}(x, \\boldsymbol{\\theta}, \\boldsymbol{\\lambda})$ will serve as a function approximator for this chosen differential equation. Differentiation in the loss function is discretised as $\\frac{df}{dx} \\simeq \\frac{\\Delta f}{\\Delta x}$.\n",
    "\n",
    "$n, m, \\boldsymbol{\\lambda}$ and $\\Delta x$ are variable parameters defined below."
   ]
  },
  {
   "cell_type": "markdown",
   "id": "e9df16c8",
   "metadata": {
    "pycharm": {
     "name": "#%% md\n"
    }
   },
   "source": [
    "## Perceval Simulation\n",
    "\n",
    "### Initialisation"
   ]
  },
  {
   "cell_type": "code",
   "execution_count": 1,
   "id": "7918962c",
   "metadata": {
    "pycharm": {
     "name": "#%%\n"
    }
   },
   "outputs": [],
   "source": [
    "from IPython import display\n",
    "import perceval as pcvl\n",
    "import perceval.lib.phys as phys\n",
    "import numpy as np\n",
    "from math import comb\n",
    "from scipy.optimize import minimize\n",
    "import time\n",
    "import matplotlib.pyplot as plt\n",
    "import tqdm as tqdm"
   ]
  },
  {
   "cell_type": "markdown",
   "id": "04323b71",
   "metadata": {
    "pycharm": {
     "name": "#%% md\n"
    }
   },
   "source": [
    "We will run this notebook with 6 photons"
   ]
  },
  {
   "cell_type": "code",
   "execution_count": 2,
   "id": "f59b62f8",
   "metadata": {
    "pycharm": {
     "name": "#%%\n"
    }
   },
   "outputs": [],
   "source": [
    "nphotons = 6"
   ]
  },
  {
   "cell_type": "markdown",
   "id": "bd3c3eaf",
   "metadata": {
    "pycharm": {
     "name": "#%% md\n"
    }
   },
   "source": [
    "### Differential equation parameters\n",
    "\n",
    "We define here the value of the differential equation parameters and boundary condition $\\lambda, \\kappa, f_0$."
   ]
  },
  {
   "cell_type": "code",
   "execution_count": 3,
   "id": "debd15cc",
   "metadata": {
    "pycharm": {
     "name": "#%%\n"
    }
   },
   "outputs": [],
   "source": [
    "# Differential equation parameters\n",
    "lambd = 8\n",
    "kappa = 0.1\n",
    "\n",
    "def F(u_prime, u, x):       # DE\n",
    "    return (u_prime(x) + lambd * u(x) * (kappa + np.tan(lambd * x)))"
   ]
  },
  {
   "cell_type": "code",
   "execution_count": 4,
   "id": "4c18efbf",
   "metadata": {
    "pycharm": {
     "name": "#%%\n"
    }
   },
   "outputs": [],
   "source": [
    "# Boundary condition (f(x_0)=f_0)\n",
    "x_0 = 0\n",
    "f_0 = 1"
   ]
  },
  {
   "cell_type": "code",
   "execution_count": 5,
   "id": "ac67fd52",
   "metadata": {
    "pycharm": {
     "name": "#%%\n"
    }
   },
   "outputs": [],
   "source": [
    "# Modeling parameters\n",
    "n_grid = 50    # number of grid points of the discretized differential equation\n",
    "range_min = 0  # minimum of the interval on which we wish to approximate our function\n",
    "range_max = 1  # maximum of the interval on which we wish to approximate our function\n",
    "X = np.linspace(range_min, range_max-range_min, n_grid)  # Optimisation grid"
   ]
  },
  {
   "cell_type": "code",
   "execution_count": 6,
   "id": "45a02405",
   "metadata": {
    "pycharm": {
     "name": "#%%\n"
    }
   },
   "outputs": [],
   "source": [
    "# Differential equation's exact solution - for comparison\n",
    "def u(x):\n",
    "    return np.exp(- kappa*lambd*x)*np.cos(lambd*x)"
   ]
  },
  {
   "cell_type": "code",
   "execution_count": 7,
   "id": "9c8830ee",
   "metadata": {
    "pycharm": {
     "name": "#%%\n"
    }
   },
   "outputs": [],
   "source": [
    "# Parameters of the quantum machine learning procedure\n",
    "N = nphotons              # Number of photons\n",
    "m = nphotons              # Number of modes\n",
    "eta = 5                   # weight granted to the initial condition\n",
    "a = 200                   # Approximate boundaries of the interval that the image of the trial function can cover\n",
    "fock_dim = comb(N + m - 1, N)\n",
    "# lambda coefficients for all the possible outputs\n",
    "lambda_random = 2 * a * np.random.rand(fock_dim) - a\n",
    "# dx serves for the numerical differentiation of f\n",
    "dx = (range_max-range_min) / 1000"
   ]
  },
  {
   "cell_type": "code",
   "execution_count": 8,
   "id": "355b87c8",
   "metadata": {
    "pycharm": {
     "name": "#%%\n"
    }
   },
   "outputs": [
    {
     "name": "stdout",
     "output_type": "stream",
     "text": [
      "|1,1,1,1,1,1>\n"
     ]
    }
   ],
   "source": [
    "# Input state with N photons and m modes\n",
    "input_state = pcvl.BasicState([1]*N+[0]*(m-N))\n",
    "print(input_state)"
   ]
  },
  {
   "cell_type": "markdown",
   "id": "58385605",
   "metadata": {
    "pycharm": {
     "name": "#%% md\n"
    }
   },
   "source": [
    "## Definition of the circuit\n",
    "\n",
    "We will generate a Haar-random initial unitary using QR decomposition built in Perceval `Matrix.random_unitary`, the circuit is defined by the combination of 3 sub-circuits - the intermediate phase is a parameter."
   ]
  },
  {
   "cell_type": "code",
   "execution_count": 10,
   "id": "5dd4d6c3",
   "metadata": {
    "pycharm": {
     "name": "#%%\n"
    }
   },
   "outputs": [
    {
     "data": {
      "text/plain": "<IPython.core.display.HTML object>",
      "text/html": "<svg width='706.000000' height='350.000000' viewBox='-3.000000 0.000000 703.000000 350.000000'><path d=\"M 10 25 L 25 25\" fill=\"none\" stroke=\"darkred\" stroke-width=\"3.000000\" stroke-linejoin=\"miter\"/>\n<text x=\"0.000000\" y=\"25.000000\" font-size=\"6.000000\" text-anchor=\"start\">0</text>\n<path d=\"M 10 75 L 25 75\" fill=\"none\" stroke=\"darkred\" stroke-width=\"3.000000\" stroke-linejoin=\"miter\"/>\n<text x=\"0.000000\" y=\"75.000000\" font-size=\"6.000000\" text-anchor=\"start\">1</text>\n<path d=\"M 10 125 L 25 125\" fill=\"none\" stroke=\"darkred\" stroke-width=\"3.000000\" stroke-linejoin=\"miter\"/>\n<text x=\"0.000000\" y=\"125.000000\" font-size=\"6.000000\" text-anchor=\"start\">2</text>\n<path d=\"M 10 175 L 25 175\" fill=\"none\" stroke=\"darkred\" stroke-width=\"3.000000\" stroke-linejoin=\"miter\"/>\n<text x=\"0.000000\" y=\"175.000000\" font-size=\"6.000000\" text-anchor=\"start\">3</text>\n<path d=\"M 10 225 L 25 225\" fill=\"none\" stroke=\"darkred\" stroke-width=\"3.000000\" stroke-linejoin=\"miter\"/>\n<text x=\"0.000000\" y=\"225.000000\" font-size=\"6.000000\" text-anchor=\"start\">4</text>\n<path d=\"M 10 275 L 25 275\" fill=\"none\" stroke=\"darkred\" stroke-width=\"3.000000\" stroke-linejoin=\"miter\"/>\n<text x=\"0.000000\" y=\"275.000000\" font-size=\"6.000000\" text-anchor=\"start\">5</text>\n<path d=\"M 25 25 L 325 25\" fill=\"none\" stroke=\"darkred\" stroke-width=\"3.000000\" stroke-linejoin=\"miter\"/>\n<path d=\"M 25 75 L 325 75\" fill=\"none\" stroke=\"darkred\" stroke-width=\"3.000000\" stroke-linejoin=\"miter\"/>\n<path d=\"M 25 125 L 325 125\" fill=\"none\" stroke=\"darkred\" stroke-width=\"3.000000\" stroke-linejoin=\"miter\"/>\n<path d=\"M 25 175 L 325 175\" fill=\"none\" stroke=\"darkred\" stroke-width=\"3.000000\" stroke-linejoin=\"miter\"/>\n<path d=\"M 25 225 L 325 225\" fill=\"none\" stroke=\"darkred\" stroke-width=\"3.000000\" stroke-linejoin=\"miter\"/>\n<path d=\"M 25 275 L 325 275\" fill=\"none\" stroke=\"darkred\" stroke-width=\"3.000000\" stroke-linejoin=\"miter\"/>\n<polyline points=\"30 5 320 5 320 295 30 295 30 5\" fill=\"lightgray\" stroke=\"black\" stroke-width=\"1.000000\" stroke_linejoin=\"miter\" />\n<text x=\"175.000000\" y=\"150.000000\" font-size=\"10.000000\" text-anchor=\"middle\">W1</text>\n<polyline points=\"325 25 375 25\" fill=\"transparent\"stroke=\"darkred\" stroke-width=\"3.000000\" stroke-linejoin=\"miter\" />\n<polyline points=\"330 40 339 40 353 10 344 10 330 40 339 40 330 40\" fill=\"gray\" stroke=\"black\" stroke-width=\"1.000000\" stroke_linejoin=\"miter\" />\n<text x=\"347.000000\" y=\"38.000000\" font-size=\"7.000000\" text-anchor=\"start\">Φ=px</text>\n<polyline points=\"325 75 375 75\" fill=\"transparent\"stroke=\"darkred\" stroke-width=\"3.000000\" stroke-linejoin=\"miter\" />\n<polyline points=\"325 125 375 125\" fill=\"transparent\"stroke=\"darkred\" stroke-width=\"3.000000\" stroke-linejoin=\"miter\" />\n<polyline points=\"325 175 375 175\" fill=\"transparent\"stroke=\"darkred\" stroke-width=\"3.000000\" stroke-linejoin=\"miter\" />\n<polyline points=\"325 225 375 225\" fill=\"transparent\"stroke=\"darkred\" stroke-width=\"3.000000\" stroke-linejoin=\"miter\" />\n<polyline points=\"325 275 375 275\" fill=\"transparent\"stroke=\"darkred\" stroke-width=\"3.000000\" stroke-linejoin=\"miter\" />\n<path d=\"M 375 25 L 675 25\" fill=\"none\" stroke=\"darkred\" stroke-width=\"3.000000\" stroke-linejoin=\"miter\"/>\n<path d=\"M 375 75 L 675 75\" fill=\"none\" stroke=\"darkred\" stroke-width=\"3.000000\" stroke-linejoin=\"miter\"/>\n<path d=\"M 375 125 L 675 125\" fill=\"none\" stroke=\"darkred\" stroke-width=\"3.000000\" stroke-linejoin=\"miter\"/>\n<path d=\"M 375 175 L 675 175\" fill=\"none\" stroke=\"darkred\" stroke-width=\"3.000000\" stroke-linejoin=\"miter\"/>\n<path d=\"M 375 225 L 675 225\" fill=\"none\" stroke=\"darkred\" stroke-width=\"3.000000\" stroke-linejoin=\"miter\"/>\n<path d=\"M 375 275 L 675 275\" fill=\"none\" stroke=\"darkred\" stroke-width=\"3.000000\" stroke-linejoin=\"miter\"/>\n<polyline points=\"380 5 670 5 670 295 380 295 380 5\" fill=\"lightgray\" stroke=\"black\" stroke-width=\"1.000000\" stroke_linejoin=\"miter\" />\n<text x=\"525.000000\" y=\"150.000000\" font-size=\"10.000000\" text-anchor=\"middle\">W2</text>\n<path d=\"M 675 25 L 690 25\" fill=\"none\" stroke=\"darkred\" stroke-width=\"3.000000\" stroke-linejoin=\"miter\"/>\n<text x=\"700.000000\" y=\"25.000000\" font-size=\"6.000000\" text-anchor=\"end\">0</text>\n<path d=\"M 675 75 L 690 75\" fill=\"none\" stroke=\"darkred\" stroke-width=\"3.000000\" stroke-linejoin=\"miter\"/>\n<text x=\"700.000000\" y=\"75.000000\" font-size=\"6.000000\" text-anchor=\"end\">1</text>\n<path d=\"M 675 125 L 690 125\" fill=\"none\" stroke=\"darkred\" stroke-width=\"3.000000\" stroke-linejoin=\"miter\"/>\n<text x=\"700.000000\" y=\"125.000000\" font-size=\"6.000000\" text-anchor=\"end\">2</text>\n<path d=\"M 675 175 L 690 175\" fill=\"none\" stroke=\"darkred\" stroke-width=\"3.000000\" stroke-linejoin=\"miter\"/>\n<text x=\"700.000000\" y=\"175.000000\" font-size=\"6.000000\" text-anchor=\"end\">3</text>\n<path d=\"M 675 225 L 690 225\" fill=\"none\" stroke=\"darkred\" stroke-width=\"3.000000\" stroke-linejoin=\"miter\"/>\n<text x=\"700.000000\" y=\"225.000000\" font-size=\"6.000000\" text-anchor=\"end\">4</text>\n<path d=\"M 675 275 L 690 275\" fill=\"none\" stroke=\"darkred\" stroke-width=\"3.000000\" stroke-linejoin=\"miter\"/>\n<text x=\"700.000000\" y=\"275.000000\" font-size=\"6.000000\" text-anchor=\"end\">5</text></svg>"
     },
     "metadata": {},
     "output_type": "display_data"
    },
    {
     "data": {
      "text/plain": "True"
     },
     "execution_count": 10,
     "metadata": {},
     "output_type": "execute_result"
    }
   ],
   "source": [
    "\"Haar unitary parameters\"\n",
    "# number of parameters used for the two universal interferometers (2*m**2 per interferometer)\n",
    "parameters = np.random.normal(size=4*m**2)\n",
    "\n",
    "simulator_backend = pcvl.BackendFactory().get_backend(\"SLOS\")\n",
    "\n",
    "px = pcvl.P(\"px\")\n",
    "c = (pcvl.Circuit(m, pcvl.Matrix.random_unitary(m, parameters[:2 * m ** 2]), name=\"W1\")\n",
    "     // (0, phys.PS(px))\n",
    "     // pcvl.Circuit(m, pcvl.Matrix.random_unitary(m, parameters[2 * m ** 2:]), name=\"W2\"))\n",
    "pcvl.pdisplay(c)\n",
    "s1 = simulator_backend(pcvl.Matrix.random_unitary(m))\n",
    "s1.compile(input_state)\n"
   ]
  },
  {
   "cell_type": "markdown",
   "id": "5d9333b0",
   "metadata": {
    "pycharm": {
     "name": "#%% md\n"
    }
   },
   "source": [
    "### Expectation value and loss function computation\n",
    "\n",
    "The expectation value of the measurement operator $\\mathcal{M}(\\boldsymbol{\\lambda})$ is obtained directly from Fock state probabilities computed by Perceval. Given this expectation value, the code snippet below computes the loss function defined in the Introduction.\n",
    "\n",
    "Note the use of the `all_prob` simulator method giving directly access to the probabilities of all possible output states. This calculation is optimized in SLOS backend."
   ]
  },
  {
   "cell_type": "code",
   "execution_count": 11,
   "id": "597cce98",
   "metadata": {
    "pycharm": {
     "name": "#%%\n"
    }
   },
   "outputs": [],
   "source": [
    "def computation(params):\n",
    "    global current_loss\n",
    "    global computation_count\n",
    "    \"compute the loss function of a given differential equation in order for it to be optimized\"\n",
    "    computation_count += 1\n",
    "    f_theta_0 = 0  # boundary condition\n",
    "    coefs = lambda_random  # coefficients of the M observable\n",
    "    # initial condition with the two universal interferometers and the phase shift in the middle\n",
    "    U_1 = pcvl.Matrix.random_unitary(m, params[:2 * m ** 2])\n",
    "    U_2 = pcvl.Matrix.random_unitary(m, params[2 * m ** 2:])\n",
    "\n",
    "    px = pcvl.P(\"x\")\n",
    "    c = pcvl.Circuit(m, U_2) // (0, phys.PS(px)) // pcvl.Circuit(m, U_1)\n",
    "\n",
    "    px.set_value(x_0)\n",
    "    U = c.compute_unitary(use_symbolic=False)\n",
    "    s1.U = U\n",
    "    f_theta_0 = np.sum(np.multiply(s1.all_prob(input_state), coefs))\n",
    "\n",
    "    # boundary condition given a weight eta\n",
    "    loss = eta * (f_theta_0 - f_0) ** 2 * len(X)\n",
    "\n",
    "    def ldiff(x):\n",
    "        i, j = 0, 0\n",
    "        px.set_value(x)\n",
    "        s1.U = c.compute_unitary()\n",
    "        f_theta = np.sum(np.multiply(s1.all_prob(input_state), coefs))\n",
    "        px.set_value(x+dx)\n",
    "        s1.U = c.compute_unitary()\n",
    "        f_theta_dx = np.sum(np.multiply(s1.all_prob(input_state), coefs))\n",
    "        diff_f_theta = (f_theta_dx - f_theta) / dx\n",
    "        return (diff_f_theta + lambd * (kappa + np.tan(lambd * x)) * f_theta) ** 2\n",
    "\n",
    "    for x in X:\n",
    "        loss += ldiff(x)\n",
    "\n",
    "    current_loss = loss / len(X)\n",
    "    return current_loss"
   ]
  },
  {
   "cell_type": "markdown",
   "id": "8acf5506",
   "metadata": {
    "pycharm": {
     "name": "#%% md\n"
    }
   },
   "source": [
    "### Classical optimisation\n",
    "\n",
    "Finally the code below performs the optimisation procedure using the loss function defined in the previous section. To this end, we use a Broyden–Fletcher–Goldfarb–Shanno (BFGS) optimiser \\[5\\] from the SciPy library."
   ]
  },
  {
   "cell_type": "code",
   "execution_count": 12,
   "id": "281dbb29",
   "metadata": {
    "pycharm": {
     "name": "#%%\n"
    }
   },
   "outputs": [],
   "source": [
    "def callbackF(parameters):\n",
    "    \"\"\"callback function called by scipy.optimize.minimize allowing to monitor progress\"\"\"\n",
    "    global current_loss\n",
    "    global computation_count\n",
    "    global loss_evolution\n",
    "    global start_time\n",
    "    now = time.time()\n",
    "    pbar.set_description(\"M= %d Loss: %0.5f #computations: %d elapsed: %0.5f\" % \n",
    "                         (m, current_loss, computation_count, now-start_time))\n",
    "    pbar.update(1)\n",
    "    loss_evolution.append((current_loss, now-start_time))\n",
    "    computation_count = 0\n",
    "    start_time = now"
   ]
  },
  {
   "cell_type": "code",
   "execution_count": 13,
   "id": "465db5d2",
   "metadata": {
    "pycharm": {
     "name": "#%%\n"
    }
   },
   "outputs": [
    {
     "name": "stderr",
     "output_type": "stream",
     "text": [
      "M= 6 Loss: 0.01100 #computations: 435 elapsed: 2.08398: : 117it [02:25,  1.98s/it]  "
     ]
    }
   ],
   "source": [
    "computation_count = 0\n",
    "current_loss = 0\n",
    "start_time = time.time()\n",
    "loss_evolution = []\n",
    "\n",
    "pbar = tqdm.tqdm()\n",
    "res = minimize(computation, parameters, callback=callbackF, method='BFGS', options={'gtol': 1E-2})"
   ]
  },
  {
   "cell_type": "markdown",
   "id": "1be681a8",
   "metadata": {
    "pycharm": {
     "name": "#%% md\n"
    }
   },
   "source": [
    "After the optimisation procedure has been completed, the optimal unitary parameters (in `res.x`) can be used to determine the quantum circuit beam-splitter and phase-shifter angles for an experimental realisation."
   ]
  },
  {
   "cell_type": "code",
   "execution_count": 14,
   "id": "21726b0c",
   "metadata": {
    "pycharm": {
     "name": "#%%\n"
    }
   },
   "outputs": [
    {
     "name": "stdout",
     "output_type": "stream",
     "text": [
      "Unitary parameters [ 0.26425304  0.08833073  1.3522844   0.49858481  0.5543514  -1.12325077\n",
      "  0.89959061  1.23360466 -1.52440188  1.12903721 -1.26419235  1.17878265\n",
      " -1.11465699 -1.08207785  0.09073974 -0.30180454  0.32745203  1.22537031\n",
      " -0.60779086  0.45090103 -0.00337669 -0.16411765  2.32340192 -0.23542055\n",
      "  1.28920189  1.00271794  0.43288373 -1.3975027   0.57957401 -2.06439649\n",
      " -1.17506401 -0.72028403 -1.1215208   1.56619553  1.26906012  0.07373602\n",
      " -0.97669437  0.09389213 -0.30597287 -0.62252031 -0.44940767 -1.10169616\n",
      "  0.29531332 -0.48765706 -2.53488317 -0.96748817  2.2173571   1.14705489\n",
      "  1.25346793  0.66455529  0.13363813  0.01814317 -0.73167638  0.35994938\n",
      " -0.56229485 -0.92891241  1.44612174  0.15123004 -0.21124733 -1.953331\n",
      " -0.60980457 -0.13744708  0.19566965 -2.05614847  0.38133516 -1.8377839\n",
      " -1.398418    0.37672896  2.33416758 -0.47951356  0.24282139  0.34013807\n",
      "  1.26529527 -1.42708075 -0.14188534  1.02499444  0.82727104 -0.18855487\n",
      "  2.42882705 -0.61456143  0.07047323 -0.54873712  0.37134259 -0.45398973\n",
      "  0.49372333 -1.15549505 -0.57663455  0.16535956 -1.31903     0.9324582\n",
      " -1.63900632  0.10116501 -0.97572685  0.36656598  1.15199614  0.81259479\n",
      " -0.25107356  1.00964046 -1.32113241  1.19225783 -1.68957507  0.59276814\n",
      " -2.15313518 -0.70018182  1.00114613 -1.37602044 -1.88066712 -0.55700207\n",
      " -1.580854    0.6854535   0.90763791  0.74269477  0.05615684 -0.28525585\n",
      " -0.06217036 -1.00968331  0.95347836 -0.24167662 -0.3808167  -0.89923377\n",
      " -0.65148762  1.06507252  0.08677403  0.57104162 -0.41572816  0.87759896\n",
      " -0.96977273  1.41793457 -0.38380331 -0.41344804 -0.80073081 -1.93752441\n",
      "  0.03720404 -0.70253353  0.23866056 -0.64878565  0.15430343 -1.0061427\n",
      "  0.80712212  1.12924266  2.37674609  1.21698473 -0.1597021  -0.62769094]\n"
     ]
    }
   ],
   "source": [
    "print(\"Unitary parameters\", res.x)"
   ]
  },
  {
   "cell_type": "markdown",
   "id": "3b6c5da8",
   "metadata": {
    "pycharm": {
     "name": "#%% md\n"
    }
   },
   "source": [
    "### Plotting the approximation\n",
    "\n",
    "We now plot the result of our optimisation in order to compare the QML algorithm's output and the analytical solution."
   ]
  },
  {
   "cell_type": "code",
   "execution_count": 15,
   "id": "6bede765",
   "metadata": {
    "pycharm": {
     "name": "#%%\n"
    }
   },
   "outputs": [],
   "source": [
    "def plot_solution(m, N, X, optim_params, lambda_random):\n",
    "    Y = []\n",
    "    U_1 = pcvl.Matrix.random_unitary(m, optim_params[:2 * m ** 2])\n",
    "    U_2 = pcvl.Matrix.random_unitary(m, optim_params[2 * m ** 2:])\n",
    "    simulator_backend = pcvl.BackendFactory().get_backend(\"SLOS\")\n",
    "    px = pcvl.P(\"x\")\n",
    "    c = pcvl.Circuit(m, U_2) // (0, phys.PS(px)) // pcvl.Circuit(m, U_1)\n",
    "\n",
    "    for x in X:\n",
    "        px.set_value(x)\n",
    "        U = c.compute_unitary(use_symbolic=False)\n",
    "        s1.U = U\n",
    "        f_theta = np.sum(np.multiply(s1.all_prob(input_state), lambda_random))\n",
    "        Y.append(f_theta)\n",
    "    exact = u(X)\n",
    "    plt.plot(X, Y, label=\"Approximation with {} photons\".format(N))"
   ]
  },
  {
   "cell_type": "code",
   "execution_count": 16,
   "id": "b997c635",
   "metadata": {
    "pycharm": {
     "name": "#%%\n"
    }
   },
   "outputs": [
    {
     "data": {
      "text/plain": "<Figure size 432x288 with 1 Axes>",
      "image/png": "[encoded data removed]"
     },
     "metadata": {
      "needs_background": "light"
     },
     "output_type": "display_data"
    }
   ],
   "source": [
    "X = np.linspace(range_min, range_max, 200)\n",
    "plot_solution(m, N, X, res.x, lambda_random)\n",
    "\n",
    "plt.plot(X, u(X), 'r', label='Analytical solution')\n",
    "plt.legend()\n",
    "plt.show()"
   ]
  },
  {
   "cell_type": "code",
   "execution_count": 17,
   "id": "f819bb4b",
   "metadata": {
    "pycharm": {
     "name": "#%%\n"
    }
   },
   "outputs": [
    {
     "data": {
      "text/plain": "Text(0, 0.5, 'Loss function value')"
     },
     "execution_count": 17,
     "metadata": {},
     "output_type": "execute_result"
    },
    {
     "data": {
      "text/plain": "<Figure size 432x288 with 1 Axes>",
      "image/png": "[encoded data removed]"
     },
     "metadata": {
      "needs_background": "light"
     },
     "output_type": "display_data"
    }
   ],
   "source": [
    "plt.plot([v[0] for v in loss_evolution])\n",
    "plt.yscale(\"log\")\n",
    "plt.xlabel(\"Number of epochs\")\n",
    "plt.ylabel(\"Loss function value\")"
   ]
  },
  {
   "cell_type": "markdown",
   "id": "e53fa645",
   "metadata": {
    "pycharm": {
     "name": "#%% md\n"
    }
   },
   "source": [
    "## References\n",
    "\n",
    "\\[1\\] : O. Kyriienko, A. E. Paine, and V. E. Elfving, “Solving nonlinear differential equations with differentiable quantum circuits”, *Physical Review A* **103**, 052416 (2021). https://journals.aps.org/pra/abstract/10.1103/PhysRevA.103.052416\n",
    "\n",
    "\\[2\\] A. Pérez-Salinas, A. Cervera-Lierta, E. Gil-Fuster, and J. I. Latorre, “Data re-uploading for a universal quantum classifier”, *Quantum* **4**, 226 (2020). https://quantum-journal.org/papers/q-2020-02-06-226/\n",
    "\n",
    "\\[3\\] M. Schuld, R. Sweke, and J. J. Meyer, “Effect of data encoding on the expressive power of variational quantum-machine-learning models”, *Physical Review A* **103**, 032430 (2021). https://journals.aps.org/pra/abstract/10.1103/PhysRevA.103.032430\n",
    "\n",
    "\\[4\\] B. Y. Gan, D. Leykam, D. G. Angelakis, and D. G. Angelakis, “Fock State-enhanced Expressivity of Quantum Machine Learning Models”, in *Conference on Lasers andElectro-Optics* (2021), paper JW1A.73. Optica Publishing Group, (2021). https://opg.optica.org/abstract.cfm?uri=CLEO_AT-2021-JW1A.73.\n",
    "\n",
    "\\[5\\] R. Fletcher, Practical methods of optimization. John Wiley & Sons. (2013) https://onlinelibrary.wiley.com/doi/book/10.1002/9781118723203"
   ]
  }
 ],
 "metadata": {
  "kernelspec": {
   "display_name": "Python 3 (ipykernel)",
   "language": "python",
   "name": "python3"
  },
  "language_info": {
   "codemirror_mode": {
    "name": "ipython",
    "version": 3
   },
   "file_extension": ".py",
   "mimetype": "text/x-python",
   "name": "python",
   "nbconvert_exporter": "python",
   "pygments_lexer": "ipython3",
   "version": "3.10.4"
  }
 },
 "nbformat": 4,
 "nbformat_minor": 5
}