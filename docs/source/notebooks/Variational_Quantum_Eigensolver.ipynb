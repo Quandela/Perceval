{
 "cells": [
  {
   "cell_type": "markdown",
   "id": "39710952",
   "metadata": {},
   "source": [
    "# Variational Quantum Eigensolver"
   ]
  },
  {
   "cell_type": "markdown",
   "id": "5e2598a1",
   "metadata": {},
   "source": [
    "We provide a Perceval implementation  of original photonic Variational Quantum Eigensolver (VQE) from  Peruzzo, A. et al. in [1].\n",
    "\n",
    "This notebook provides computations of ground-state molecular energies for the Hamiltonian given by the following papers:\n",
    "\n",
    "$\\bullet$ A variational eigenvalue solver on a photonic quantum processor [1].\n",
    " \n",
    "$\\bullet$ Scalable Quantum Simulation of Molecular Energies [2] .\n",
    " \n",
    "$\\bullet$ Computation of Molecular Spectra on a Quantum Processor with an Error-Resilient Algorithm [3]"
   ]
  },
  {
   "cell_type": "markdown",
   "id": "14d8d0b4",
   "metadata": {},
   "source": [
    "Importing the necessary packages for the computations:"
   ]
  },
  {
   "cell_type": "code",
   "execution_count": 1,
   "id": "1e59ecca",
   "metadata": {},
   "outputs": [],
   "source": [
    "from tqdm.auto import tqdm\n",
    "\n",
    "import perceval as pcvl\n",
    "\n",
    "import numpy as np\n",
    "from scipy.optimize import minimize\n",
    "import random\n",
    "import matplotlib.pyplot as plt\n",
    "simulator = pcvl.Simulator(pcvl.NaiveBackend())"
   ]
  },
  {
   "cell_type": "markdown",
   "id": "111f0914",
   "metadata": {},
   "source": [
    "## Implementation in Perceval\n",
    "\n",
    "Here we reproduce on Perceval the 2-qubit circuit used in  [1] for VQE.\n",
    "\n",
    "We use path encoded qubits.\n",
    "\n",
    "Modes 0 and 5 are auxillary. 1$^\\text{st}$ qubit is path encoded in modes 1 and 2. 2$^\\text{nd}$ qubit in modes 3 and 4."
   ]
  },
  {
   "cell_type": "code",
   "execution_count": 2,
   "id": "22786406",
   "metadata": {},
   "outputs": [
    {
     "name": "stdout",
     "output_type": "stream",
     "text": [
      "The circuit is :\n"
     ]
    },
    {
     "data": {
      "image/svg+xml": [
       "<?xml version=\"1.0\" encoding=\"UTF-8\"?>\n",
       "<svg xmlns=\"http://www.w3.org/2000/svg\" xmlns:xlink=\"http://www.w3.org/1999/xlink\"\n",
       "     width=\"1508.75\" height=\"406.25\" viewBox=\"-28.5 0 1207.0 325.0\">\n",
       "<defs>\n",
       "</defs>\n",
       "<path d=\"M10,25 L25,25\" stroke-width=\"3\" stroke=\"darkred\" stroke-linejoin=\"miter\" fill=\"none\" />\n",
       "<path d=\"M10,75 L25,75\" stroke-width=\"3\" stroke=\"darkred\" stroke-linejoin=\"miter\" fill=\"none\" />\n",
       "<path d=\"M10,125 L25,125\" stroke-width=\"3\" stroke=\"darkred\" stroke-linejoin=\"miter\" fill=\"none\" />\n",
       "<path d=\"M10,175 L25,175\" stroke-width=\"3\" stroke=\"darkred\" stroke-linejoin=\"miter\" fill=\"none\" />\n",
       "<path d=\"M10,225 L25,225\" stroke-width=\"3\" stroke=\"darkred\" stroke-linejoin=\"miter\" fill=\"none\" />\n",
       "<path d=\"M10,275 L25,275\" stroke-width=\"3\" stroke=\"darkred\" stroke-linejoin=\"miter\" fill=\"none\" />\n",
       "<path d=\"M25,75 L53,75 L72,94\" stroke=\"darkred\" stroke-width=\"3\" fill=\"none\" />\n",
       "<path d=\"M78,94 L97,75 L125,75\" stroke=\"darkred\" stroke-width=\"3\" fill=\"none\" />\n",
       "<path d=\"M25,125 L53,125 L72,106\" stroke=\"darkred\" stroke-width=\"3\" fill=\"none\" />\n",
       "<path d=\"M78,106 L97,125 L125,125\" stroke=\"darkred\" stroke-width=\"3\" fill=\"none\" />\n",
       "<path d=\"M50,93 L100,93 L100,107 L50,107 Z\" stroke=\"black\" fill=\"black\" stroke-linejoin=\"miter\" />\n",
       "<text x=\"75\" y=\"135\" font-size=\"7\" text-anchor=\"middle\"></text>\n",
       "<text x=\"75\" y=\"76\" font-size=\"7\" text-anchor=\"middle\"></text>\n",
       "<path d=\"M50,93 L100,93 L100,97 L50,97 Z\" stroke=\"black\" fill=\"lightgray\" stroke-linejoin=\"miter\" />\n",
       "<path d=\"M93,100 L103,100 L103,110 L93,110 Z\" stroke=\"black\" fill=\"thistle\" stroke-linejoin=\"miter\" />\n",
       "<text x=\"98\" y=\"107\" font-size=\"6\" text-anchor=\"middle\">Rx</text>\n",
       "<path d=\"M25,175 L53,175 L72,194\" stroke=\"darkred\" stroke-width=\"3\" fill=\"none\" />\n",
       "<path d=\"M78,194 L97,175 L125,175\" stroke=\"darkred\" stroke-width=\"3\" fill=\"none\" />\n",
       "<path d=\"M25,225 L53,225 L72,206\" stroke=\"darkred\" stroke-width=\"3\" fill=\"none\" />\n",
       "<path d=\"M78,206 L97,225 L125,225\" stroke=\"darkred\" stroke-width=\"3\" fill=\"none\" />\n",
       "<path d=\"M50,193 L100,193 L100,207 L50,207 Z\" stroke=\"black\" fill=\"black\" stroke-linejoin=\"miter\" />\n",
       "<text x=\"75\" y=\"235\" font-size=\"7\" text-anchor=\"middle\"></text>\n",
       "<text x=\"75\" y=\"176\" font-size=\"7\" text-anchor=\"middle\"></text>\n",
       "<path d=\"M50,193 L100,193 L100,197 L50,197 Z\" stroke=\"black\" fill=\"lightgray\" stroke-linejoin=\"miter\" />\n",
       "<path d=\"M93,200 L103,200 L103,210 L93,210 Z\" stroke=\"black\" fill=\"thistle\" stroke-linejoin=\"miter\" />\n",
       "<text x=\"98\" y=\"207\" font-size=\"6\" text-anchor=\"middle\">Rx</text>\n",
       "<path d=\"M125,125 L175,125\" stroke=\"darkred\" stroke-width=\"3\" fill=\"none\" />\n",
       "<path d=\"M130,140 L139,140 L153,110 L144,110 L130,140 L139,140 Z\" stroke=\"black\" fill=\"gray\" stroke-linejoin=\"miter\" />\n",
       "<text x=\"147\" y=\"138\" font-size=\"7\" text-anchor=\"start\">Φ=φ1</text>\n",
       "<path d=\"M125,225 L175,225\" stroke=\"darkred\" stroke-width=\"3\" fill=\"none\" />\n",
       "<path d=\"M130,240 L139,240 L153,210 L144,210 L130,240 L139,240 Z\" stroke=\"black\" fill=\"gray\" stroke-linejoin=\"miter\" />\n",
       "<text x=\"147\" y=\"238\" font-size=\"7\" text-anchor=\"start\">Φ=φ3</text>\n",
       "<path d=\"M125,75 L175,75\" stroke=\"darkred\" stroke-width=\"3\" fill=\"none\" />\n",
       "<path d=\"M175,75 L203,75 L222,94\" stroke=\"darkred\" stroke-width=\"3\" fill=\"none\" />\n",
       "<path d=\"M228,94 L247,75 L275,75\" stroke=\"darkred\" stroke-width=\"3\" fill=\"none\" />\n",
       "<path d=\"M175,125 L203,125 L222,106\" stroke=\"darkred\" stroke-width=\"3\" fill=\"none\" />\n",
       "<path d=\"M228,106 L247,125 L275,125\" stroke=\"darkred\" stroke-width=\"3\" fill=\"none\" />\n",
       "<path d=\"M200,93 L250,93 L250,107 L200,107 Z\" stroke=\"black\" fill=\"black\" stroke-linejoin=\"miter\" />\n",
       "<text x=\"225\" y=\"135\" font-size=\"7\" text-anchor=\"middle\"></text>\n",
       "<text x=\"225\" y=\"76\" font-size=\"7\" text-anchor=\"middle\"></text>\n",
       "<path d=\"M200,93 L250,93 L250,97 L200,97 Z\" stroke=\"black\" fill=\"lightgray\" stroke-linejoin=\"miter\" />\n",
       "<path d=\"M243,100 L253,100 L253,110 L243,110 Z\" stroke=\"black\" fill=\"thistle\" stroke-linejoin=\"miter\" />\n",
       "<text x=\"248\" y=\"107\" font-size=\"6\" text-anchor=\"middle\">Rx</text>\n",
       "<path d=\"M125,175 L175,175\" stroke=\"darkred\" stroke-width=\"3\" fill=\"none\" />\n",
       "<path d=\"M175,175 L203,175 L222,194\" stroke=\"darkred\" stroke-width=\"3\" fill=\"none\" />\n",
       "<path d=\"M228,194 L247,175 L275,175\" stroke=\"darkred\" stroke-width=\"3\" fill=\"none\" />\n",
       "<path d=\"M175,225 L203,225 L222,206\" stroke=\"darkred\" stroke-width=\"3\" fill=\"none\" />\n",
       "<path d=\"M228,206 L247,225 L275,225\" stroke=\"darkred\" stroke-width=\"3\" fill=\"none\" />\n",
       "<path d=\"M200,193 L250,193 L250,207 L200,207 Z\" stroke=\"black\" fill=\"black\" stroke-linejoin=\"miter\" />\n",
       "<text x=\"225\" y=\"235\" font-size=\"7\" text-anchor=\"middle\"></text>\n",
       "<text x=\"225\" y=\"176\" font-size=\"7\" text-anchor=\"middle\"></text>\n",
       "<path d=\"M200,193 L250,193 L250,197 L200,197 Z\" stroke=\"black\" fill=\"lightgray\" stroke-linejoin=\"miter\" />\n",
       "<path d=\"M243,200 L253,200 L253,210 L243,210 Z\" stroke=\"black\" fill=\"thistle\" stroke-linejoin=\"miter\" />\n",
       "<text x=\"248\" y=\"207\" font-size=\"6\" text-anchor=\"middle\">Rx</text>\n",
       "<path d=\"M275,125 L325,125\" stroke=\"darkred\" stroke-width=\"3\" fill=\"none\" />\n",
       "<path d=\"M280,140 L289,140 L303,110 L294,110 L280,140 L289,140 Z\" stroke=\"black\" fill=\"gray\" stroke-linejoin=\"miter\" />\n",
       "<text x=\"297\" y=\"138\" font-size=\"7\" text-anchor=\"start\">Φ=φ2</text>\n",
       "<path d=\"M275,225 L325,225\" stroke=\"darkred\" stroke-width=\"3\" fill=\"none\" />\n",
       "<path d=\"M280,240 L289,240 L303,210 L294,210 L280,240 L289,240 Z\" stroke=\"black\" fill=\"gray\" stroke-linejoin=\"miter\" />\n",
       "<text x=\"297\" y=\"238\" font-size=\"7\" text-anchor=\"start\">Φ=φ4</text>\n",
       "<path d=\"M25,25 L325,25\" stroke=\"darkred\" stroke-width=\"3\" fill=\"none\" />\n",
       "<path d=\"M275,75 L325,75\" stroke=\"darkred\" stroke-width=\"3\" fill=\"none\" />\n",
       "<path d=\"M275,175 L325,175\" stroke=\"darkred\" stroke-width=\"3\" fill=\"none\" />\n",
       "<path d=\"M25,275 L325,275\" stroke=\"darkred\" stroke-width=\"3\" fill=\"none\" />\n",
       "<path d=\"M328,25 L372,25\" stroke=\"white\" stroke-width=\"6\" fill=\"none\" />\n",
       "<path d=\"M325,25 L328,25 L372,25 L375,25\" stroke=\"darkred\" stroke-width=\"3\" fill=\"none\" />\n",
       "<path d=\"M328,75 L372,75\" stroke=\"white\" stroke-width=\"6\" fill=\"none\" />\n",
       "<path d=\"M325,75 L328,75 L372,75 L375,75\" stroke=\"darkred\" stroke-width=\"3\" fill=\"none\" />\n",
       "<path d=\"M328,125 L372,125\" stroke=\"white\" stroke-width=\"6\" fill=\"none\" />\n",
       "<path d=\"M325,125 L328,125 L372,125 L375,125\" stroke=\"darkred\" stroke-width=\"3\" fill=\"none\" />\n",
       "<path d=\"M328,175 L372,175\" stroke=\"white\" stroke-width=\"6\" fill=\"none\" />\n",
       "<path d=\"M325,175 L328,175 L372,175 L375,175\" stroke=\"darkred\" stroke-width=\"3\" fill=\"none\" />\n",
       "<path d=\"M328,225 L372,225\" stroke=\"white\" stroke-width=\"6\" fill=\"none\" />\n",
       "<path d=\"M325,225 L328,225 L372,225 L375,225\" stroke=\"darkred\" stroke-width=\"3\" fill=\"none\" />\n",
       "<path d=\"M328,275 L372,275\" stroke=\"white\" stroke-width=\"6\" fill=\"none\" />\n",
       "<path d=\"M325,275 L328,275 L372,275 L375,275\" stroke=\"darkred\" stroke-width=\"3\" fill=\"none\" />\n",
       "<path d=\"M375,175 L403,175 L422,194\" stroke=\"darkred\" stroke-width=\"3\" fill=\"none\" />\n",
       "<path d=\"M428,194 L447,175 L475,175\" stroke=\"darkred\" stroke-width=\"3\" fill=\"none\" />\n",
       "<path d=\"M375,225 L403,225 L422,206\" stroke=\"darkred\" stroke-width=\"3\" fill=\"none\" />\n",
       "<path d=\"M428,206 L447,225 L475,225\" stroke=\"darkred\" stroke-width=\"3\" fill=\"none\" />\n",
       "<path d=\"M400,193 L450,193 L450,207 L400,207 Z\" stroke=\"black\" fill=\"black\" stroke-linejoin=\"miter\" />\n",
       "<text x=\"425\" y=\"235\" font-size=\"7\" text-anchor=\"middle\"></text>\n",
       "<text x=\"425\" y=\"176\" font-size=\"7\" text-anchor=\"middle\"></text>\n",
       "<path d=\"M400,193 L450,193 L450,197 L400,197 Z\" stroke=\"black\" fill=\"lightgray\" stroke-linejoin=\"miter\" />\n",
       "<path d=\"M443,200 L453,200 L453,210 L443,210 Z\" stroke=\"black\" fill=\"thistle\" stroke-linejoin=\"miter\" />\n",
       "<text x=\"448\" y=\"207\" font-size=\"6\" text-anchor=\"middle\">Rx</text>\n",
       "<path d=\"M375,25 L475,25\" stroke=\"darkred\" stroke-width=\"3\" fill=\"none\" />\n",
       "<path d=\"M375,75 L475,75\" stroke=\"darkred\" stroke-width=\"3\" fill=\"none\" />\n",
       "<path d=\"M375,125 L475,125\" stroke=\"darkred\" stroke-width=\"3\" fill=\"none\" />\n",
       "<path d=\"M375,275 L475,275\" stroke=\"darkred\" stroke-width=\"3\" fill=\"none\" />\n",
       "<path d=\"M478,25 L522,25\" stroke=\"white\" stroke-width=\"6\" fill=\"none\" />\n",
       "<path d=\"M475,25 L478,25 L522,25 L525,25\" stroke=\"darkred\" stroke-width=\"3\" fill=\"none\" />\n",
       "<path d=\"M478,75 L522,75\" stroke=\"white\" stroke-width=\"6\" fill=\"none\" />\n",
       "<path d=\"M475,75 L478,75 L522,75 L525,75\" stroke=\"darkred\" stroke-width=\"3\" fill=\"none\" />\n",
       "<path d=\"M478,125 L522,125\" stroke=\"white\" stroke-width=\"6\" fill=\"none\" />\n",
       "<path d=\"M475,125 L478,125 L522,125 L525,125\" stroke=\"darkred\" stroke-width=\"3\" fill=\"none\" />\n",
       "<path d=\"M478,175 L522,175\" stroke=\"white\" stroke-width=\"6\" fill=\"none\" />\n",
       "<path d=\"M475,175 L478,175 L522,175 L525,175\" stroke=\"darkred\" stroke-width=\"3\" fill=\"none\" />\n",
       "<path d=\"M478,225 L522,225\" stroke=\"white\" stroke-width=\"6\" fill=\"none\" />\n",
       "<path d=\"M475,225 L478,225 L522,225 L525,225\" stroke=\"darkred\" stroke-width=\"3\" fill=\"none\" />\n",
       "<path d=\"M478,275 L522,275\" stroke=\"white\" stroke-width=\"6\" fill=\"none\" />\n",
       "<path d=\"M475,275 L478,275 L522,275 L525,275\" stroke=\"darkred\" stroke-width=\"3\" fill=\"none\" />\n",
       "<path d=\"M525,25 L553,25 L572,44\" stroke=\"darkred\" stroke-width=\"3\" fill=\"none\" />\n",
       "<path d=\"M578,44 L597,25 L625,25\" stroke=\"darkred\" stroke-width=\"3\" fill=\"none\" />\n",
       "<path d=\"M525,75 L553,75 L572,56\" stroke=\"darkred\" stroke-width=\"3\" fill=\"none\" />\n",
       "<path d=\"M578,56 L597,75 L625,75\" stroke=\"darkred\" stroke-width=\"3\" fill=\"none\" />\n",
       "<path d=\"M550,43 L600,43 L600,57 L550,57 Z\" stroke=\"black\" fill=\"black\" stroke-linejoin=\"miter\" />\n",
       "<text x=\"575\" y=\"80\" font-size=\"7\" text-anchor=\"middle\"></text>\n",
       "<text x=\"575\" y=\"26\" font-size=\"7\" text-anchor=\"middle\">Θ=1.910633</text>\n",
       "<path d=\"M550,43 L600,43 L600,47 L550,47 Z\" stroke=\"black\" fill=\"lightgray\" stroke-linejoin=\"miter\" />\n",
       "<path d=\"M593,50 L603,50 L603,60 L593,60 Z\" stroke=\"black\" fill=\"thistle\" stroke-linejoin=\"miter\" />\n",
       "<text x=\"598\" y=\"57\" font-size=\"6\" text-anchor=\"middle\">Rx</text>\n",
       "<path d=\"M525,125 L553,125 L572,144\" stroke=\"darkred\" stroke-width=\"3\" fill=\"none\" />\n",
       "<path d=\"M578,144 L597,125 L625,125\" stroke=\"darkred\" stroke-width=\"3\" fill=\"none\" />\n",
       "<path d=\"M525,175 L553,175 L572,156\" stroke=\"darkred\" stroke-width=\"3\" fill=\"none\" />\n",
       "<path d=\"M578,156 L597,175 L625,175\" stroke=\"darkred\" stroke-width=\"3\" fill=\"none\" />\n",
       "<path d=\"M550,143 L600,143 L600,157 L550,157 Z\" stroke=\"black\" fill=\"black\" stroke-linejoin=\"miter\" />\n",
       "<text x=\"575\" y=\"180\" font-size=\"7\" text-anchor=\"middle\"></text>\n",
       "<text x=\"575\" y=\"126\" font-size=\"7\" text-anchor=\"middle\">Θ=1.910633</text>\n",
       "<path d=\"M550,143 L600,143 L600,147 L550,147 Z\" stroke=\"black\" fill=\"lightgray\" stroke-linejoin=\"miter\" />\n",
       "<path d=\"M593,150 L603,150 L603,160 L593,160 Z\" stroke=\"black\" fill=\"thistle\" stroke-linejoin=\"miter\" />\n",
       "<text x=\"598\" y=\"157\" font-size=\"6\" text-anchor=\"middle\">Rx</text>\n",
       "<path d=\"M525,225 L553,225 L572,244\" stroke=\"darkred\" stroke-width=\"3\" fill=\"none\" />\n",
       "<path d=\"M578,244 L597,225 L625,225\" stroke=\"darkred\" stroke-width=\"3\" fill=\"none\" />\n",
       "<path d=\"M525,275 L553,275 L572,256\" stroke=\"darkred\" stroke-width=\"3\" fill=\"none\" />\n",
       "<path d=\"M578,256 L597,275 L625,275\" stroke=\"darkred\" stroke-width=\"3\" fill=\"none\" />\n",
       "<path d=\"M550,243 L600,243 L600,257 L550,257 Z\" stroke=\"black\" fill=\"black\" stroke-linejoin=\"miter\" />\n",
       "<text x=\"575\" y=\"280\" font-size=\"7\" text-anchor=\"middle\"></text>\n",
       "<text x=\"575\" y=\"226\" font-size=\"7\" text-anchor=\"middle\">Θ=1.910633</text>\n",
       "<path d=\"M550,243 L600,243 L600,247 L550,247 Z\" stroke=\"black\" fill=\"lightgray\" stroke-linejoin=\"miter\" />\n",
       "<path d=\"M593,250 L603,250 L603,260 L593,260 Z\" stroke=\"black\" fill=\"thistle\" stroke-linejoin=\"miter\" />\n",
       "<text x=\"598\" y=\"257\" font-size=\"6\" text-anchor=\"middle\">Rx</text>\n",
       "<path d=\"M628,25 L672,25\" stroke=\"white\" stroke-width=\"6\" fill=\"none\" />\n",
       "<path d=\"M625,25 L628,25 L672,25 L675,25\" stroke=\"darkred\" stroke-width=\"3\" fill=\"none\" />\n",
       "<path d=\"M628,75 L672,75\" stroke=\"white\" stroke-width=\"6\" fill=\"none\" />\n",
       "<path d=\"M625,75 L628,75 L672,75 L675,75\" stroke=\"darkred\" stroke-width=\"3\" fill=\"none\" />\n",
       "<path d=\"M628,125 L672,125\" stroke=\"white\" stroke-width=\"6\" fill=\"none\" />\n",
       "<path d=\"M625,125 L628,125 L672,125 L675,125\" stroke=\"darkred\" stroke-width=\"3\" fill=\"none\" />\n",
       "<path d=\"M628,175 L672,175\" stroke=\"white\" stroke-width=\"6\" fill=\"none\" />\n",
       "<path d=\"M625,175 L628,175 L672,175 L675,175\" stroke=\"darkred\" stroke-width=\"3\" fill=\"none\" />\n",
       "<path d=\"M628,225 L672,225\" stroke=\"white\" stroke-width=\"6\" fill=\"none\" />\n",
       "<path d=\"M625,225 L628,225 L672,225 L675,225\" stroke=\"darkred\" stroke-width=\"3\" fill=\"none\" />\n",
       "<path d=\"M628,275 L672,275\" stroke=\"white\" stroke-width=\"6\" fill=\"none\" />\n",
       "<path d=\"M625,275 L628,275 L672,275 L675,275\" stroke=\"darkred\" stroke-width=\"3\" fill=\"none\" />\n",
       "<path d=\"M675,175 L703,175 L722,194\" stroke=\"darkred\" stroke-width=\"3\" fill=\"none\" />\n",
       "<path d=\"M728,194 L747,175 L775,175\" stroke=\"darkred\" stroke-width=\"3\" fill=\"none\" />\n",
       "<path d=\"M675,225 L703,225 L722,206\" stroke=\"darkred\" stroke-width=\"3\" fill=\"none\" />\n",
       "<path d=\"M728,206 L747,225 L775,225\" stroke=\"darkred\" stroke-width=\"3\" fill=\"none\" />\n",
       "<path d=\"M700,193 L750,193 L750,207 L700,207 Z\" stroke=\"black\" fill=\"black\" stroke-linejoin=\"miter\" />\n",
       "<text x=\"725\" y=\"235\" font-size=\"7\" text-anchor=\"middle\"></text>\n",
       "<text x=\"725\" y=\"176\" font-size=\"7\" text-anchor=\"middle\"></text>\n",
       "<path d=\"M700,193 L750,193 L750,197 L700,197 Z\" stroke=\"black\" fill=\"lightgray\" stroke-linejoin=\"miter\" />\n",
       "<path d=\"M743,200 L753,200 L753,210 L743,210 Z\" stroke=\"black\" fill=\"thistle\" stroke-linejoin=\"miter\" />\n",
       "<text x=\"748\" y=\"207\" font-size=\"6\" text-anchor=\"middle\">Rx</text>\n",
       "<path d=\"M675,25 L775,25\" stroke=\"darkred\" stroke-width=\"3\" fill=\"none\" />\n",
       "<path d=\"M675,75 L775,75\" stroke=\"darkred\" stroke-width=\"3\" fill=\"none\" />\n",
       "<path d=\"M675,125 L775,125\" stroke=\"darkred\" stroke-width=\"3\" fill=\"none\" />\n",
       "<path d=\"M675,275 L775,275\" stroke=\"darkred\" stroke-width=\"3\" fill=\"none\" />\n",
       "<path d=\"M778,25 L822,25\" stroke=\"white\" stroke-width=\"6\" fill=\"none\" />\n",
       "<path d=\"M775,25 L778,25 L822,25 L825,25\" stroke=\"darkred\" stroke-width=\"3\" fill=\"none\" />\n",
       "<path d=\"M778,75 L822,75\" stroke=\"white\" stroke-width=\"6\" fill=\"none\" />\n",
       "<path d=\"M775,75 L778,75 L822,75 L825,75\" stroke=\"darkred\" stroke-width=\"3\" fill=\"none\" />\n",
       "<path d=\"M778,125 L822,125\" stroke=\"white\" stroke-width=\"6\" fill=\"none\" />\n",
       "<path d=\"M775,125 L778,125 L822,125 L825,125\" stroke=\"darkred\" stroke-width=\"3\" fill=\"none\" />\n",
       "<path d=\"M778,175 L822,175\" stroke=\"white\" stroke-width=\"6\" fill=\"none\" />\n",
       "<path d=\"M775,175 L778,175 L822,175 L825,175\" stroke=\"darkred\" stroke-width=\"3\" fill=\"none\" />\n",
       "<path d=\"M778,225 L822,225\" stroke=\"white\" stroke-width=\"6\" fill=\"none\" />\n",
       "<path d=\"M775,225 L778,225 L822,225 L825,225\" stroke=\"darkred\" stroke-width=\"3\" fill=\"none\" />\n",
       "<path d=\"M778,275 L822,275\" stroke=\"white\" stroke-width=\"6\" fill=\"none\" />\n",
       "<path d=\"M775,275 L778,275 L822,275 L825,275\" stroke=\"darkred\" stroke-width=\"3\" fill=\"none\" />\n",
       "<path d=\"M825,125 L875,125\" stroke=\"darkred\" stroke-width=\"3\" fill=\"none\" />\n",
       "<path d=\"M830,140 L839,140 L853,110 L844,110 L830,140 L839,140 Z\" stroke=\"black\" fill=\"gray\" stroke-linejoin=\"miter\" />\n",
       "<text x=\"847\" y=\"138\" font-size=\"7\" text-anchor=\"start\">Φ=φ5</text>\n",
       "<path d=\"M825,225 L875,225\" stroke=\"darkred\" stroke-width=\"3\" fill=\"none\" />\n",
       "<path d=\"M830,240 L839,240 L853,210 L844,210 L830,240 L839,240 Z\" stroke=\"black\" fill=\"gray\" stroke-linejoin=\"miter\" />\n",
       "<text x=\"847\" y=\"238\" font-size=\"7\" text-anchor=\"start\">Φ=φ7</text>\n",
       "<path d=\"M825,75 L875,75\" stroke=\"darkred\" stroke-width=\"3\" fill=\"none\" />\n",
       "<path d=\"M875,75 L903,75 L922,94\" stroke=\"darkred\" stroke-width=\"3\" fill=\"none\" />\n",
       "<path d=\"M928,94 L947,75 L975,75\" stroke=\"darkred\" stroke-width=\"3\" fill=\"none\" />\n",
       "<path d=\"M875,125 L903,125 L922,106\" stroke=\"darkred\" stroke-width=\"3\" fill=\"none\" />\n",
       "<path d=\"M928,106 L947,125 L975,125\" stroke=\"darkred\" stroke-width=\"3\" fill=\"none\" />\n",
       "<path d=\"M900,93 L950,93 L950,107 L900,107 Z\" stroke=\"black\" fill=\"black\" stroke-linejoin=\"miter\" />\n",
       "<text x=\"925\" y=\"135\" font-size=\"7\" text-anchor=\"middle\"></text>\n",
       "<text x=\"925\" y=\"76\" font-size=\"7\" text-anchor=\"middle\"></text>\n",
       "<path d=\"M900,93 L950,93 L950,97 L900,97 Z\" stroke=\"black\" fill=\"lightgray\" stroke-linejoin=\"miter\" />\n",
       "<path d=\"M943,100 L953,100 L953,110 L943,110 Z\" stroke=\"black\" fill=\"thistle\" stroke-linejoin=\"miter\" />\n",
       "<text x=\"948\" y=\"107\" font-size=\"6\" text-anchor=\"middle\">Rx</text>\n",
       "<path d=\"M825,175 L875,175\" stroke=\"darkred\" stroke-width=\"3\" fill=\"none\" />\n",
       "<path d=\"M875,175 L903,175 L922,194\" stroke=\"darkred\" stroke-width=\"3\" fill=\"none\" />\n",
       "<path d=\"M928,194 L947,175 L975,175\" stroke=\"darkred\" stroke-width=\"3\" fill=\"none\" />\n",
       "<path d=\"M875,225 L903,225 L922,206\" stroke=\"darkred\" stroke-width=\"3\" fill=\"none\" />\n",
       "<path d=\"M928,206 L947,225 L975,225\" stroke=\"darkred\" stroke-width=\"3\" fill=\"none\" />\n",
       "<path d=\"M900,193 L950,193 L950,207 L900,207 Z\" stroke=\"black\" fill=\"black\" stroke-linejoin=\"miter\" />\n",
       "<text x=\"925\" y=\"235\" font-size=\"7\" text-anchor=\"middle\"></text>\n",
       "<text x=\"925\" y=\"176\" font-size=\"7\" text-anchor=\"middle\"></text>\n",
       "<path d=\"M900,193 L950,193 L950,197 L900,197 Z\" stroke=\"black\" fill=\"lightgray\" stroke-linejoin=\"miter\" />\n",
       "<path d=\"M943,200 L953,200 L953,210 L943,210 Z\" stroke=\"black\" fill=\"thistle\" stroke-linejoin=\"miter\" />\n",
       "<text x=\"948\" y=\"207\" font-size=\"6\" text-anchor=\"middle\">Rx</text>\n",
       "<path d=\"M975,125 L1025,125\" stroke=\"darkred\" stroke-width=\"3\" fill=\"none\" />\n",
       "<path d=\"M980,140 L989,140 L1003,110 L994,110 L980,140 L989,140 Z\" stroke=\"black\" fill=\"gray\" stroke-linejoin=\"miter\" />\n",
       "<text x=\"997\" y=\"138\" font-size=\"7\" text-anchor=\"start\">Φ=φ6</text>\n",
       "<path d=\"M975,225 L1025,225\" stroke=\"darkred\" stroke-width=\"3\" fill=\"none\" />\n",
       "<path d=\"M980,240 L989,240 L1003,210 L994,210 L980,240 L989,240 Z\" stroke=\"black\" fill=\"gray\" stroke-linejoin=\"miter\" />\n",
       "<text x=\"997\" y=\"238\" font-size=\"7\" text-anchor=\"start\">Φ=φ8</text>\n",
       "<path d=\"M975,75 L1025,75\" stroke=\"darkred\" stroke-width=\"3\" fill=\"none\" />\n",
       "<path d=\"M1025,75 L1053,75 L1072,94\" stroke=\"darkred\" stroke-width=\"3\" fill=\"none\" />\n",
       "<path d=\"M1078,94 L1097,75 L1125,75\" stroke=\"darkred\" stroke-width=\"3\" fill=\"none\" />\n",
       "<path d=\"M1025,125 L1053,125 L1072,106\" stroke=\"darkred\" stroke-width=\"3\" fill=\"none\" />\n",
       "<path d=\"M1078,106 L1097,125 L1125,125\" stroke=\"darkred\" stroke-width=\"3\" fill=\"none\" />\n",
       "<path d=\"M1050,93 L1100,93 L1100,107 L1050,107 Z\" stroke=\"black\" fill=\"black\" stroke-linejoin=\"miter\" />\n",
       "<text x=\"1075\" y=\"135\" font-size=\"7\" text-anchor=\"middle\"></text>\n",
       "<text x=\"1075\" y=\"76\" font-size=\"7\" text-anchor=\"middle\"></text>\n",
       "<path d=\"M1050,93 L1100,93 L1100,97 L1050,97 Z\" stroke=\"black\" fill=\"lightgray\" stroke-linejoin=\"miter\" />\n",
       "<path d=\"M1093,100 L1103,100 L1103,110 L1093,110 Z\" stroke=\"black\" fill=\"thistle\" stroke-linejoin=\"miter\" />\n",
       "<text x=\"1098\" y=\"107\" font-size=\"6\" text-anchor=\"middle\">Rx</text>\n",
       "<path d=\"M975,175 L1025,175\" stroke=\"darkred\" stroke-width=\"3\" fill=\"none\" />\n",
       "<path d=\"M1025,175 L1053,175 L1072,194\" stroke=\"darkred\" stroke-width=\"3\" fill=\"none\" />\n",
       "<path d=\"M1078,194 L1097,175 L1125,175\" stroke=\"darkred\" stroke-width=\"3\" fill=\"none\" />\n",
       "<path d=\"M1025,225 L1053,225 L1072,206\" stroke=\"darkred\" stroke-width=\"3\" fill=\"none\" />\n",
       "<path d=\"M1078,206 L1097,225 L1125,225\" stroke=\"darkred\" stroke-width=\"3\" fill=\"none\" />\n",
       "<path d=\"M1050,193 L1100,193 L1100,207 L1050,207 Z\" stroke=\"black\" fill=\"black\" stroke-linejoin=\"miter\" />\n",
       "<text x=\"1075\" y=\"235\" font-size=\"7\" text-anchor=\"middle\"></text>\n",
       "<text x=\"1075\" y=\"176\" font-size=\"7\" text-anchor=\"middle\"></text>\n",
       "<path d=\"M1050,193 L1100,193 L1100,197 L1050,197 Z\" stroke=\"black\" fill=\"lightgray\" stroke-linejoin=\"miter\" />\n",
       "<path d=\"M1093,200 L1103,200 L1103,210 L1093,210 Z\" stroke=\"black\" fill=\"thistle\" stroke-linejoin=\"miter\" />\n",
       "<text x=\"1098\" y=\"207\" font-size=\"6\" text-anchor=\"middle\">Rx</text>\n",
       "<path d=\"M825,25 L1125,25\" stroke=\"darkred\" stroke-width=\"3\" fill=\"none\" />\n",
       "<path d=\"M825,275 L1125,275\" stroke=\"darkred\" stroke-width=\"3\" fill=\"none\" />\n",
       "<path d=\"M1125,25 L1140,25\" stroke-width=\"3\" stroke=\"darkred\" stroke-linejoin=\"miter\" fill=\"none\" />\n",
       "<path d=\"M1125,75 L1140,75\" stroke-width=\"3\" stroke=\"darkred\" stroke-linejoin=\"miter\" fill=\"none\" />\n",
       "<path d=\"M1125,125 L1140,125\" stroke-width=\"3\" stroke=\"darkred\" stroke-linejoin=\"miter\" fill=\"none\" />\n",
       "<path d=\"M1125,175 L1140,175\" stroke-width=\"3\" stroke=\"darkred\" stroke-linejoin=\"miter\" fill=\"none\" />\n",
       "<path d=\"M1125,225 L1140,225\" stroke-width=\"3\" stroke=\"darkred\" stroke-linejoin=\"miter\" fill=\"none\" />\n",
       "<path d=\"M1125,275 L1140,275\" stroke-width=\"3\" stroke=\"darkred\" stroke-linejoin=\"miter\" fill=\"none\" />\n",
       "<text x=\"1150\" y=\"28\" font-size=\"7\" text-anchor=\"end\">0</text>\n",
       "<text x=\"1150\" y=\"78\" font-size=\"7\" text-anchor=\"end\">1</text>\n",
       "<text x=\"1150\" y=\"128\" font-size=\"7\" text-anchor=\"end\">2</text>\n",
       "<text x=\"1150\" y=\"178\" font-size=\"7\" text-anchor=\"end\">3</text>\n",
       "<text x=\"1150\" y=\"228\" font-size=\"7\" text-anchor=\"end\">4</text>\n",
       "<text x=\"1150\" y=\"278\" font-size=\"7\" text-anchor=\"end\">5</text>\n",
       "<text x=\"0\" y=\"28\" font-size=\"7\" text-anchor=\"start\">0</text>\n",
       "<text x=\"0\" y=\"78\" font-size=\"7\" text-anchor=\"start\">1</text>\n",
       "<text x=\"0\" y=\"128\" font-size=\"7\" text-anchor=\"start\">2</text>\n",
       "<text x=\"0\" y=\"178\" font-size=\"7\" text-anchor=\"start\">3</text>\n",
       "<text x=\"0\" y=\"228\" font-size=\"7\" text-anchor=\"start\">4</text>\n",
       "<text x=\"0\" y=\"278\" font-size=\"7\" text-anchor=\"start\">5</text>\n",
       "</svg>"
      ],
      "text/plain": [
       "<drawsvg.drawing.Drawing at 0x2a48d081180>"
      ]
     },
     "execution_count": 2,
     "metadata": {},
     "output_type": "execute_result"
    }
   ],
   "source": [
    "#List of the parameters φ1,φ2,...,φ8\n",
    "List_Parameters=[]\n",
    "\n",
    "# VQE is a 6 optical mode circuit\n",
    "VQE=pcvl.Circuit(6)\n",
    "\n",
    "VQE.add((1,2), pcvl.BS())\n",
    "VQE.add((3,4), pcvl.BS())\n",
    "List_Parameters.append(pcvl.Parameter(\"φ1\"))\n",
    "VQE.add((2,),pcvl.PS(phi=List_Parameters[-1]))\n",
    "List_Parameters.append(pcvl.Parameter(\"φ3\"))\n",
    "VQE.add((4,),pcvl.PS(phi=List_Parameters[-1]))\n",
    "VQE.add((1,2), pcvl.BS())\n",
    "VQE.add((3,4), pcvl.BS())\n",
    "List_Parameters.append(pcvl.Parameter(\"φ2\"))\n",
    "VQE.add((2,),pcvl.PS(phi=List_Parameters[-1]))\n",
    "List_Parameters.append(pcvl.Parameter(\"φ4\"))\n",
    "VQE.add((4,),pcvl.PS(phi=List_Parameters[-1]))\n",
    "\n",
    "\n",
    "# CNOT ( Post-selected with a success probability of 1/9) \n",
    "VQE.add([0,1,2,3,4,5], pcvl.PERM([0,1,2,3,4,5]))#Identity PERM (permutation) for the purpose of drawing a nice circuit\n",
    "VQE.add((3,4), pcvl.BS())\n",
    "VQE.add([0,1,2,3,4,5], pcvl.PERM([0,1,2,3,4,5]))#Identity PERM (permutation) for the same purpose\n",
    "VQE.add((0,1), pcvl.BS(pcvl.BS.r_to_theta(1/3)))\n",
    "VQE.add((2,3), pcvl.BS(pcvl.BS.r_to_theta(1/3)))\n",
    "VQE.add((4,5), pcvl.BS(pcvl.BS.r_to_theta(1/3)))\n",
    "VQE.add([0,1,2,3,4,5], pcvl.PERM([0,1,2,3,4,5]))#Identity PERM (permutation) for the same purpose\n",
    "VQE.add((3,4), pcvl.BS())\n",
    "VQE.add([0,1,2,3,4,5], pcvl.PERM([0,1,2,3,4,5]))#Identity PERM (permutation) for the same purpose\n",
    "\n",
    "List_Parameters.append(pcvl.Parameter(\"φ5\"))\n",
    "VQE.add((2,),pcvl.PS(phi=List_Parameters[-1]))\n",
    "List_Parameters.append(pcvl.Parameter(\"φ7\"))\n",
    "VQE.add((4,),pcvl.PS(phi=List_Parameters[-1]))\n",
    "VQE.add((1,2), pcvl.BS())\n",
    "VQE.add((3,4), pcvl.BS())\n",
    "List_Parameters.append(pcvl.Parameter(\"φ6\"))\n",
    "VQE.add((2,),pcvl.PS(phi=List_Parameters[-1]))\n",
    "List_Parameters.append(pcvl.Parameter(\"φ8\"))\n",
    "VQE.add((4,),pcvl.PS(phi=List_Parameters[-1]))\n",
    "VQE.add((1,2), pcvl.BS())\n",
    "VQE.add((3,4), pcvl.BS())\n",
    "\n",
    "# Mode 0 and 5 are auxillary.\n",
    "#1st qubit is path encoded in modes 1 & 2\n",
    "#2nd qubit in 3 & 4\n",
    "\n",
    "print(\"The circuit is :\")\n",
    "pcvl.pdisplay(VQE)"
   ]
  },
  {
   "cell_type": "markdown",
   "id": "91a1daa5",
   "metadata": {},
   "source": [
    "## Logical input and output states\n",
    "\n",
    "Logical states are path encoded on the Fock States."
   ]
  },
  {
   "cell_type": "code",
   "execution_count": 3,
   "id": "09dba52d",
   "metadata": {},
   "outputs": [],
   "source": [
    "#Input states of the photonic circuit\n",
    "input_states = {\n",
    "    pcvl.BasicState([0,1,0,1,0,0]):\"|00>\"}\n",
    "\n",
    "#Outputs in the computational basis\n",
    "output_states = {\n",
    "    pcvl.BasicState([0,1,0,1,0,0]):\"|00>\",\n",
    "    pcvl.BasicState([0,1,0,0,1,0]):\"|01>\",\n",
    "    pcvl.BasicState([0,0,1,1,0,0]):\"|10>\",\n",
    "    pcvl.BasicState([0,0,1,0,1,0]):\"|11>\"}"
   ]
  },
  {
   "cell_type": "markdown",
   "id": "d2d1cf4f",
   "metadata": {},
   "source": [
    "## Loss function for the variational algorithm\n",
    "\n",
    "For a given state $|\\psi \\rangle$ the Rayleigh-Ritz quotient is given by:\n",
    "$$ \\frac{\\langle \\psi | \\mathcal{H} | \\psi \\rangle}{\\langle \\psi |\\psi \\rangle},$$\n",
    "This is computed in Perceval by explicitly computing $|\\psi \\rangle$ ( which is the output of the simulated photonic circuit).\n",
    "Determining the smallest/ground state eigenvalue is done through a variational approach with Rayleigh-Ritz quotient as the loss function.\n",
    "\n",
    "Using a classical optimisation algorithm, and the simulations given by Perceval we find the eigenvector which minimises the Rayleigh-Ritz quotient together with its associated eigenvalue ( the ground state eigenvalue), which reprensents the solution of the VQE.\n",
    "\n",
    "\n"
   ]
  },
  {
   "cell_type": "code",
   "execution_count": 4,
   "id": "db3c68e5",
   "metadata": {},
   "outputs": [],
   "source": [
    "\n",
    "def minimize_loss(lp=None): \n",
    "    # Updating the parameters on the chip\n",
    "    for idx, p in enumerate(lp):                    \n",
    "        List_Parameters[idx].set_value(p)\n",
    "    \n",
    "    #Simulation, Quantum processing part of the VQE\n",
    "    simulator.set_circuit(VQE)\n",
    "    \n",
    "    # Collecting the output state of the circuit    \n",
    "    psi = [] \n",
    "    for input_state in input_states:\n",
    "        for output_state in output_states: #|00>,|01>,|10>,|11>\n",
    "            psi.append(simulator.prob_amplitude(input_state,output_state))\n",
    "            \n",
    "        #Evaluating the mean value of the Hamiltonian.  # The Hamiltonians H is defined in the following block\n",
    "    psi_prime=np.dot(H[R][1],psi)\n",
    "    loss = np.real(sum(sum(np.conjugate(psi)*np.array(psi_prime[0]))))/(sum([i*np.conjugate(i) for i in psi]))\n",
    "    loss=np.real(loss)\n",
    "    \n",
    "    tq.set_description('%g / %g  loss function=%g' % (R, len(H), loss))\n",
    "    return(loss)\n"
   ]
  },
  {
   "cell_type": "markdown",
   "id": "0f7d26a2",
   "metadata": {},
   "source": [
    "## Hamiltonians for VQE\n",
    "\n",
    "In this section we define the 3 Hamiltonians given by the 3  papers [1-3]\n",
    "\n",
    "Perceval can compute the state vector, which is the output of the photonic quantum circuit, explicitly.\n",
    "This eliminates the need for using algorithms to estimate the expectation value.\n",
    "\n",
    "A Hamiltonian can be written as :\n",
    "$$\\mathcal{H}= \\sum_{\\sigma }h_{\\sigma}\\sigma$$\n",
    "where $h_{\\sigma} \\in \\mathbb{R}$ and $\\sigma$ are pauli operators."
   ]
  },
  {
   "cell_type": "markdown",
   "id": "97e78feb",
   "metadata": {},
   "source": [
    "### Hamiltonian n°1 [\\[1\\]](https://www.nature.com/articles/ncomms5213)\n",
    "\n",
    "Hamiltonian coefficents on the [supplementary paper](https://static-content.springer.com/esm/art%3A10.1038%2Fncomms5213/MediaObjects/41467_2014_BFncomms5213_MOESM1050_ESM.pdf):\n"
   ]
  },
  {
   "cell_type": "code",
   "execution_count": 5,
   "id": "b3f89652",
   "metadata": {},
   "outputs": [],
   "source": [
    "Hamiltonian_elem = np.array([[[0,0,0,0],[0,0,0,0],[0,0,0,0],[0,0,0,0]],    #00\n",
    "                             [[1,0,0,0],[0,1,0,0],[0,0,1,0],[0,0,0,1]],    #II\n",
    "                             [[0,1,0,0],[1,0,0,0],[0,0,0,1],[0,0,1,0]],    #IX\n",
    "                             [[1,0,0,0],[0,-1,0,0],[0,0,1,0],[0,0,0,-1]],  #IZ\n",
    "                             [[0,0,1,0],[0,0,0,1],[1,0,0,0],[0,1,0,0]],    #XI\n",
    "                             [[0,0,0,1],[0,0,1,0],[0,1,0,0],[1,0,0,0]],    #XX\n",
    "                             [[0,0,1,0],[0,0,0,-1],[1,0,0,0],[0,-1,0,0]],  #XZ\n",
    "                             [[1,0,0,0],[0,1,0,0],[0,0,-1,0],[0,0,0,-1]],  #ZI\n",
    "                             [[0,1,0,0],[1,0,0,0],[0,0,0,-1],[0,0,-1,0]],  #ZX\n",
    "                             [[1,0,0,0],[0,-1,0,0],[0,0,-1,0],[0,0,0,1]]]) #ZZ\n",
    "\n",
    "\n",
    "Hamiltonian_coef = np.matrix(\n",
    "# [R, II, IX, IZ, XI, XX, XZ, ZI, ZX, ZZ]   \n",
    "[[0.05,33.9557,-0.1515,-2.4784,-0.1515,0.1412,0.1515,-2.4784,0.1515,0.2746],\n",
    "[0.1,13.3605,-0.1626,-2.4368,-0.1626,0.2097,0.1626,-2.4368,0.1626,0.2081],\n",
    "[0.15,6.8232,-0.1537,-2.3801,-0.1537,0.2680,0.1537,-2.3801,0.1537,0.1512],\n",
    "[0.2,3.6330,-0.1405,-2.2899,-0.1405,0.3027,0.1405,-2.2899,0.1405,0.1176],\n",
    "[0.25,1.7012,-0.1324,-2.1683,-0.1324,0.3211,0.1324,-2.1683,0.1324,0.1010],\n",
    "[0.3,0.3821,-0.1306,-2.0305,-0.1306,0.3303,0.1306,-2.0305,0.1306,0.0943],\n",
    "[0.35,-0.5810,-0.1335,-1.8905,-0.1335,0.3344,0.1335,-1.8905,0.1335,0.0936],\n",
    "[0.4,-1.3119,-0.1396,-1.7568,-0.1396,0.3352,0.1396,-1.7568,0.1396,0.0969],\n",
    "[0.45,-1.8796,-0.1477,-1.6339,-0.1477,0.3339,0.1477,-1.6339,0.1477,0.1030],\n",
    "[0.5,-2.3275,-0.1570,-1.5236,-0.1570,0.3309,0.1570,-1.5236,0.1570,0.1115],\n",
    "[0.55,-2.6844,-0.1669,-1.4264,-0.1669,0.3264,0.1669,-1.4264,0.1669,0.1218],\n",
    "[0.6,-2.9708,-0.1770,-1.3418,-0.1770,0.3206,0.1770,-1.3418,0.1770,0.1339],\n",
    "[0.65,-3.2020,-0.1871,-1.2691,-0.1871,0.3135,0.1871,-1.2691,0.1871,0.1475],\n",
    "[0.7,-3.3893,-0.1968,-1.2073,-0.1968,0.3052,0.1968,-1.2073,0.1968,0.1626],\n",
    "[0.75,-3.5417,-0.2060,-1.1552,-0.2060,0.2958,0.2060,-1.1552,0.2060,0.1791],\n",
    "[0.8,-3.6660,-0.2145,-1.1117,-0.2145,0.2853,0.2145,-1.1117,0.2145,0.1968],\n",
    "[0.85,-3.7675,-0.2222,-1.0758,-0.2222,0.2738,0.2222,-1.0758,0.2222,0.2157],\n",
    "[0.9,-3.8505,-0.2288,-1.0466,-0.2288,0.2613,0.2288,-1.0466,0.2288,0.2356],\n",
    "[0.95,-3.9183,-0.2343,-1.0233,-0.2343,0.2481,0.2343,-1.0233,0.2343,0.2564],\n",
    "[1,-3.9734,-0.2385,-1.0052,-0.2385,0.2343,0.2385,-1.0052,0.2385,0.2779],\n",
    "[1.05,-4.0180,-0.2414,-0.9916,-0.2414,0.2199,0.2414,-0.9916,0.2414,0.3000],\n",
    "[1.1,-4.0539,-0.2430,-0.9820,-0.2430,0.2053,0.2430,-0.9820,0.2430,0.3225],\n",
    "[1.15,-4.0825,-0.2431,-0.9758,-0.2431,0.1904,0.2431,-0.9758,0.2431,0.3451],\n",
    "[1.2,-4.1050,-0.2418,-0.9725,-0.2418,0.1756,0.2418,-0.9725,0.2418,0.3678],\n",
    "[1.25,-4.1224,-0.2392,-0.9716,-0.2392,0.1610,0.2392,-0.9716,0.2392,0.3902],\n",
    "[1.3,-4.1356,-0.2353,-0.9728,-0.2353,0.1466,0.2353,-0.9728,0.2353,0.4123],\n",
    "[1.35,-4.1454,-0.2301,-0.9757,-0.2301,0.1327,0.2301,-0.9757,0.2301,0.4339],\n",
    "[1.4,-4.1523,-0.2239,-0.9798,-0.2239,0.1194,0.2239,-0.9798,0.2239,0.4549],\n",
    "[1.45,-4.1568,-0.2167,-0.9850,-0.2167,0.1068,0.2167,-0.9850,0.2167,0.4751],\n",
    "[1.5,-4.1594,-0.2086,-0.9910,-0.2086,0.0948,0.2086,-0.9910,0.2086,0.4945],\n",
    "[1.55,-4.1605,-0.1998,-0.9975,-0.1998,0.0837,0.1998,-0.9975,0.1998,0.5129],\n",
    "[1.6,-4.1602,-0.1905,-1.0045,-0.1905,0.0734,0.1905,-1.0045,0.1905,0.5304],\n",
    "[1.65,-4.1589,-0.1807,-1.0116,-0.1807,0.0640,0.1807,-1.0116,0.1807,0.5468],\n",
    "[1.7,-4.1568,-0.1707,-1.0189,-0.1707,0.0555,0.1707,-1.0189,0.1707,0.5622],\n",
    "[1.75,-4.1540,-0.1605,-1.0262,-0.1605,0.0479,0.1605,-1.0262,0.1605,0.5766],\n",
    "[1.8,-4.1508,-0.1503,-1.0334,-0.1503,0.0410,0.1503,-1.0334,0.1503,0.5899],\n",
    "[1.85,-4.1471,-0.1403,-1.0404,-0.1403,0.0350,0.1403,-1.0404,0.1403,0.6023],\n",
    "[1.9,-4.1431,-0.1305,-1.0473,-0.1305,0.0297,0.1305,-1.0473,0.1305,0.6138],\n",
    "[1.95,-4.1390,-0.1210,-1.0540,-0.1210,0.0251,0.1210,-1.0540,0.1210,0.6244],\n",
    "[2,-4.1347,-0.1119,-1.0605,-0.1119,0.0212,0.1119,-1.0605,0.1119,0.6342],\n",
    "[2.05,-4.1303,-0.1031,-1.0667,-0.1031,0.0178,0.1031,-1.0667,0.1031,0.6432],\n",
    "[2.1,-4.1258,-0.0949,-1.0727,-0.0949,0.0148,0.0949,-1.0727,0.0949,0.6516],\n",
    "[2.15,-4.1214,-0.0871,-1.0785,-0.0871,0.0124,0.0871,-1.0785,0.0871,0.6594],\n",
    "[2.2,-4.1169,-0.0797,-1.0840,-0.0797,0.0103,0.0797,-1.0840,0.0797,0.6666],\n",
    "[2.25,-4.1125,-0.0729,-1.0893,-0.0729,0.0085,0.0729,-1.0893,0.0729,0.6733],\n",
    "[2.3,-4.1082,-0.0665,-1.0944,-0.0665,0.0070,0.0665,-1.0944,0.0665,0.6796],\n",
    "[2.35,-4.1040,-0.0606,-1.0993,-0.0606,0.0058,0.0606,-1.0993,0.0606,0.6854],\n",
    "[2.4,-4.0998,-0.0551,-1.1040,-0.0551,0.0047,0.0551,-1.1040,0.0551,0.6909],\n",
    "[2.45,-4.0957,-0.0500,-1.1085,-0.0500,0.0039,0.0500,-1.1085,0.0500,0.6961],\n",
    "[2.5,-4.0918,-0.0454,-1.1128,-0.0454,0.0032,0.0454,-1.1128,0.0454,0.7010],\n",
    "[2.55,-4.0879,-0.0411,-1.1170,-0.0411,0.0026,0.0411,-1.1170,0.0411,0.7056],\n",
    "[2.6,-4.0841,-0.0371,-1.1210,-0.0371,0.0021,0.0371,-1.1210,0.0371,0.7099],\n",
    "[2.65,-4.0805,-0.0335,-1.1248,-0.0335,0.0017,0.0335,-1.1248,0.0335,0.7141],\n",
    "[2.7,-4.0769,-0.0303,-1.1285,-0.0303,0.0014,0.0303,-1.1285,0.0303,0.7181],\n",
    "[2.75,-4.0735,-0.0273,-1.1321,-0.0273,0.0011,0.0273,-1.1321,0.0273,0.7218],\n",
    "[2.8,-4.0701,-0.0245,-1.1356,-0.0245,0.0009,0.0245,-1.1356,0.0245,0.7254],\n",
    "[2.85,-4.0669,-0.0221,-1.1389,-0.0221,0.0007,0.0221,-1.1389,0.0221,0.7289],\n",
    "[2.9,-4.0638,-0.0198,-1.1421,-0.0198,0.0006,0.0198,-1.1421,0.0198,0.7322],\n",
    "[2.95,-4.0607,-0.0178,-1.1452,-0.0178,0.0005,0.0178,-1.1452,0.0178,0.7354],\n",
    "[3,-4.0578,-0.0159,-1.1482,-0.0159,0.0004,0.0159,-1.1482,0.0159,0.7385],\n",
    "[3.05,-4.0549,-0.0142,-1.1511,-0.0142,0.0003,0.0142,-1.1511,0.0142,0.7414],\n",
    "[3.1,-4.0521,-0.0127,-1.1539,-0.0127,0.0002,0.0127,-1.1539,0.0127,0.7443],\n",
    "[3.15,-4.0494,-0.0114,-1.1566,-0.0114,0.0002,0.0114,-1.1566,0.0114,0.7470],\n",
    "[3.2,-4.0468,-0.0101,-1.1592,-0.0101,0.0001,0.0101,-1.1592,0.0101,0.7497],\n",
    "[3.25,-4.0443,-0.0090,-1.1618,-0.0090,0.0001,0.0090,-1.1618,0.0090,0.7522],\n",
    "[3.3,-4.0418,-0.0081,-1.1643,-0.0081,0.0001,0.0081,-1.1643,0.0081,0.7547],\n",
    "[3.35,-4.0394,-0.0072,-1.1666,-0.0072,0.0001,0.0072,-1.1666,0.0072,0.7571],\n",
    "[3.4,-4.0371,-0.0064,-1.1690,-0.0064,0.0001,0.0064,-1.1690,0.0064,0.7595],\n",
    "[3.45,-4.0349,-0.0056,-1.1712,-0.0056,0.0000,0.0056,-1.1712,0.0056,0.7617],\n",
    "[3.5,-4.0327,-0.0050,-1.1734,-0.0050,0.0000,0.0050,-1.1734,0.0050,0.7639],\n",
    "[3.55,-4.0306,-0.0044,-1.1756,-0.0044,0.0000,0.0044,-1.1756,0.0044,0.7661],\n",
    "[3.6,-4.0285,-0.0039,-1.1776,-0.0039,0.0000,0.0039,-1.1776,0.0039,0.7681],\n",
    "[3.65,-4.0265,-0.0035,-1.1796,-0.0035,0.0000,0.0035,-1.1796,0.0035,0.7702],\n",
    "[3.7,-4.0245,-0.0030,-1.1816,-0.0030,0.0000,0.0030,-1.1816,0.0030,0.7721],\n",
    "[3.75,-4.0226,-0.0027,-1.1835,-0.0027,0.0000,0.0027,-1.1835,0.0027,0.7740],\n",
    "[3.8,-4.0208,-0.0024,-1.1854,-0.0024,0.0000,0.0024,-1.1854,0.0024,0.7759],\n",
    "[3.85,-4.0190,-0.0021,-1.1872,-0.0021,0.0000,0.0021,-1.1872,0.0021,0.7777],\n",
    "[3.9,-4.0172,-0.0018,-1.1889,-0.0018,0.0000,0.0018,-1.1889,0.0018,0.7795],\n",
    "[3.95,-4.0155,-0.0016,-1.1906,-0.0016,0.0000,0.0016,-1.1906,0.0016,0.7812]]\n",
    ")\n",
    "\n",
    "\n",
    "# Building the Hamiltonian H[0] = Radius, H[1] = H(Radius)\n",
    "H1 = []\n",
    "(n,m) = Hamiltonian_coef.shape\n",
    "for i in range(n):  # i = Radius\n",
    "    h_0 = 1.0 * np.matrix(Hamiltonian_elem[0])\n",
    "    for j in range(1, m):\n",
    "        h_0 += Hamiltonian_coef[i,j] * np.matrix(Hamiltonian_elem[j])\n",
    "    H1.append([Hamiltonian_coef[i,0], h_0])"
   ]
  },
  {
   "cell_type": "markdown",
   "id": "913d4aea",
   "metadata": {},
   "source": [
    "### Hamiltonian n°2 [\\[2\\]](https://journals.aps.org/prl/abstract/10.1103/PhysRevLett.73.58)\n"
   ]
  },
  {
   "cell_type": "code",
   "execution_count": 6,
   "id": "87f168f2",
   "metadata": {},
   "outputs": [],
   "source": [
    "Hamiltonian_elem = np.array([[[0,0,0,0],[0,0,0,0],[0,0,0,0],[0,0,0,0]],       #00\n",
    "                             [[1,0,0,0],[0,1,0,0],[0,0,1,0],[0,0,0,1]],       #II\n",
    "                             [[1,0,0,0],[0,1,0,0],[0,0,-1,0],[0,0,0,-1]],     #ZI\n",
    "                             [[1,0,0,0],[0,-1,0,0],[0,0,1,0],[0,0,0,-1]],     #IZ\n",
    "                             [[1,0,0,0],[0,-1,0,0],[0,0,-1,0],[0,0,0,1]],     #ZZ\n",
    "                             [[0,0,0,1],[0,0,1,0],[0,1,0,0],[1,0,0,0]],       #XX\n",
    "                             [[0,0,0,-1],[0,0,1,0],[0,1,0,0],[-1,0,0,0]]])    #YY\n",
    "                             \n",
    "\n",
    "Hamiltonian_coef = np.matrix(\n",
    "# [R, II, ZI, IZ, ZZ, XX, YY]   \n",
    "[[0.20,2.8489,0.5678,-1.4508,0.6799,0.0791,0.0791],\n",
    "[0.25,2.1868,0.5449,-1.2870,0.6719,0.0798,0.0798],\n",
    "[0.30,1.7252,0.5215,-1.1458,0.6631,0.0806,0.0806],\n",
    "[0.35,1.3827,0.4982,-1.0226,0.6537,0.0815,0.0815],\n",
    "[0.40,1.1182,0.4754,-0.9145,0.6438,0.0825,0.0825],\n",
    "[0.45,0.9083,0.4534,-0.8194,0.6336,0.0835,0.0835],\n",
    "[0.50,0.7381,0.4325,-0.7355,0.6233,0.0846,0.0846],\n",
    "[0.55,0.5979,0.4125,-0.6612,0.6129,0.0858,0.0858],\n",
    "[0.60,0.4808,0.3937,-0.5950,0.6025,0.0870,0.0870],\n",
    "[0.65,0.3819,0.3760,-0.5358,0.5921,0.0883,0.0883],\n",
    "[0.70,0.2976,0.3593,-0.4826,0.5818,0.0896,0.0896],\n",
    "[0.75,0.2252,0.3435,-0.4347,0.5716,0.0910,0.0910],\n",
    "[0.80,0.1626,0.3288,-0.3915,0.5616,0.0925,0.0925],\n",
    "[0.85,0.1083,0.3149,-0.3523,0.5518,0.0939,0.0939],\n",
    "[0.90,0.0609,0.3018,-0.3168,0.5421,0.0954,0.0954],\n",
    "[0.95,0.0193,0.2895,-0.2845,0.5327,0.0970,0.0970],\n",
    "[1.00,-0.0172,0.2779,-0.2550,0.5235,0.0986,0.0986],\n",
    "[1.05,-0.0493,0.2669,-0.2282,0.5146,0.1002,0.1002],\n",
    "[1.10,-0.0778,0.2565,-0.2036,0.5059,0.1018,0.1018],\n",
    "[1.15,-0.1029,0.2467,-0.1810,0.4974,0.1034,0.1034],\n",
    "[1.20,-0.1253,0.2374,-0.1603,0.4892,0.1050,0.1050],\n",
    "[1.25,-0.1452,0.2286,-0.1413,0.4812,0.1067,0.1067],\n",
    "[1.30,-0.1629,0.2203,-0.1238,0.4735,0.1083,0.1083],\n",
    "[1.35,-0.1786,0.2123,-0.1077,0.4660,0.1100,0.1100],\n",
    "[1.40,-0.1927,0.2048,-0.0929,0.4588,0.1116,0.1116],\n",
    "[1.45,-0.2053,0.1976,-0.0792,0.4518,0.1133,0.1133],\n",
    "[1.50,-0.2165,0.1908,-0.0666,0.4451,0.1149,0.1149],\n",
    "[1.55,-0.2265,0.1843,-0.0549,0.4386,0.1165,0.1165],\n",
    "[1.60,-0.2355,0.1782,-0.0442,0.4323,0.1181,0.1181],\n",
    "[1.65,-0.2436,0.1723,-0.0342,0.4262,0.1196,0.1196],\n",
    "[1.70,-0.2508,0.1667,-0.0251,0.4204,0.1211,0.1211],\n",
    "[1.75,-0.2573,0.1615,-0.0166,0.4148,0.1226,0.1226],\n",
    "[1.80,-0.2632,0.1565,-0.0088,0.4094,0.1241,0.1241],\n",
    "[1.85,-0.2684,0.1517,-0.0015,0.4042,0.1256,0.1256],\n",
    "[1.90,-0.2731,0.1472,0.0052,0.3992,0.1270,0.1270],\n",
    "[1.95,-0.2774,0.1430,0.0114,0.3944,0.1284,0.1284],\n",
    "[2.00,-0.2812,0.1390,0.0171,0.3898,0.1297,0.1297],\n",
    "[2.05,-0.2847,0.1352,0.0223,0.3853,0.1310,0.1310],\n",
    "[2.10,-0.2879,0.1316,0.0272,0.3811,0.1323,0.1323],\n",
    "[2.15,-0.2908,0.1282,0.0317,0.3769,0.1335,0.1335],\n",
    "[2.20,-0.2934,0.1251,0.0359,0.3730,0.1347,0.1347],\n",
    "[2.25,-0.2958,0.1221,0.0397,0.3692,0.1359,0.1359],\n",
    "[2.30,-0.2980,0.1193,0.0432,0.3655,0.1370,0.1370],\n",
    "[2.35,-0.3000,0.1167,0.0465,0.3620,0.1381,0.1381],\n",
    "[2.40,-0.3018,0.1142,0.0495,0.3586,0.1392,0.1392],\n",
    "[2.45,-0.3035,0.1119,0.0523,0.3553,0.1402,0.1402],\n",
    "[2.50,-0.3051,0.1098,0.0549,0.3521,0.1412,0.1412],\n",
    "[2.55,-0.3066,0.1078,0.0572,0.3491,0.1422,0.1422],\n",
    "[2.60,-0.3079,0.1059,0.0594,0.3461,0.1432,0.1432],\n",
    "[2.65,-0.3092,0.1042,0.0614,0.3433,0.1441,0.1441],\n",
    "[2.70,-0.3104,0.1026,0.0632,0.3406,0.1450,0.1450],\n",
    "[2.75,-0.3115,0.1011,0.0649,0.3379,0.1458,0.1458],\n",
    "[2.80,-0.3125,0.0997,0.0665,0.3354,0.1467,0.1467],\n",
    "[2.85,-0.3135,0.0984,0.0679,0.3329,0.1475,0.1475]]\n",
    "\n",
    ")\n",
    "\n",
    "\n",
    "# Building the Hamiltonian H[0] = Radius, H[1] = H(Radius)\n",
    "H2 = []\n",
    "(n,m) = Hamiltonian_coef.shape\n",
    "for i in range(n):  # i = Radius\n",
    "    h_0 = 1.0 * np.matrix(Hamiltonian_elem[0])\n",
    "    for j in range(1, m):\n",
    "        h_0 += Hamiltonian_coef[i,j]*np.matrix(Hamiltonian_elem[j])\n",
    "    H2.append([Hamiltonian_coef[i,0], h_0])"
   ]
  },
  {
   "cell_type": "markdown",
   "id": "920b16b4",
   "metadata": {},
   "source": [
    "### Hamiltonian n°3 [\\[3\\]](https://journals.aps.org/prx/abstract/10.1103/PhysRevX.8.011021)\n",
    "\n",
    "Hamiltonian coefficents on the [supplementary material](https://journals.aps.org/prx/supplemental/10.1103/PhysRevX.8.011021/Supplementary.pdf)."
   ]
  },
  {
   "cell_type": "code",
   "execution_count": 7,
   "id": "1a6576f0",
   "metadata": {},
   "outputs": [],
   "source": [
    "Hamiltonian_elem = np.array([[[0,0,0,0],[0,0,0,0],[0,0,0,0],[0,0,0,0]],      #00\n",
    "                             [[1,0,0,0],[0,1,0,0],[0,0,1,0],[0,0,0,1]],      #II\n",
    "                             [[1,0,0,0],[0,1,0,0],[0,0,-1,0],[0,0,0,-1]],    #ZI\n",
    "                             [[0,0,0,1],[0,0,1,0],[0,1,0,0],[1,0,0,0]],      #XX\n",
    "                             [[1,0,0,0],[0,-1,0,0],[0,0,1,0],[0,0,0,-1]],    #IZ\n",
    "                             [[1,0,0,0],[0,-1,0,0],[0,0,-1,0],[0,0,0,1]]])   #ZZ\n",
    "\n",
    "                             \n",
    "Hamiltonian_coef = np.matrix(\n",
    "# [R, II, ZI, XX, IZ, ZZ]\n",
    "[[0.05, 1.00777E+01 ,-1.05533E+00 ,1.55708*10**(-1) ,-1.05533E+00 ,1.39333*10**(-2)],\n",
    "[0.10, 4.75665E+00 ,-1.02731E+00 ,1.56170*10**(-1) ,-1.02731E+00 ,1.38667*10**(-2)],\n",
    "[0.15, 2.94817E+00 ,-9.84234*10**(-1) ,1.56930*10**(-1) ,-9.84234*10**(-1) ,1.37610*10**(-2)],\n",
    "[0.20, 2.01153E+00 ,-9.30489*10**(-1) ,1.57973*10**(-1) ,-9.30489*10**(-1) ,1.36238*10**(-2)],\n",
    "[0.25, 1.42283E+00 ,-8.70646*10**(-1) ,1.59277*10**(-1) ,-8.70646*10**(-1) ,1.34635*10**(-2)],\n",
    "[0.30, 1.01018E+00 ,-8.08649*10**(-1) ,1.60818*10**(-1) ,-8.08649*10**(-1) ,1.32880*10**(-2)],\n",
    "[0.35, 7.01273*10**(-1) ,-7.47416*10**(-1) ,1.62573*10**(-1) ,-7.47416*10**(-1) ,1.31036*10**(-2)],\n",
    "[0.40, 4.60364*10**(-1) ,-6.88819*10**(-1) ,1.64515*10**(-1) ,-6.88819*10**(-1) ,1.29140*10**(-2)],\n",
    "[0.45, 2.67547*10**(-1) ,-6.33890*10**(-1) ,1.66621*10**(-1) ,-6.33890*10**(-1) ,1.27192*10**(-2)],\n",
    "[0.50, 1.10647*10**(-1) ,-5.83080*10**(-1) ,1.68870*10**(-1) ,-5.83080*10**(-1) ,1.25165*10**(-2)],\n",
    "[0.55, -1.83734*10**(-2), -5.36489*10**(-1), 1.71244*10**(-1), -5.36489*10**(-1), 1.23003*10**(-2)],\n",
    "[0.65, -2.13932*10**(-1), -4.55433*10**(-1), 1.76318*10**(-1), -4.55433*10**(-1), 1.18019*10**(-2)],\n",
    "[0.75, -3.49833*10**(-1), -3.88748*10**(-1), 1.81771*10**(-1), -3.88748*10**(-1), 1.11772*10**(-2)],\n",
    "[0.85, -4.45424*10**(-1), -3.33747*10**(-1), 1.87562*10**(-1), -3.33747*10**(-1), 1.04061*10**(-2)],\n",
    "[0.95, -5.13548*10**(-1), -2.87796*10**(-1), 1.93650*10**(-1), -2.87796*10**(-1), 9.50345*10**(-3)],\n",
    "[1.05, -5.62600*10**(-1), -2.48783*10**(-1), 1.99984*10**(-1), -2.48783*10**(-1), 8.50998*10**(-3)],\n",
    "[1.15, -5.97973*10**(-1), -2.15234*10**(-1), 2.06495*10**(-1), -2.15234*10**(-1), 7.47722*10**(-3)],\n",
    "[1.25, -6.23223*10**(-1), -1.86173*10**(-1), 2.13102*10**(-1), -1.86173*10**(-1), 6.45563*10**(-3)],\n",
    "[1.35, -6.40837*10**(-1), -1.60926*10**(-1), 2.19727*10**(-1), -1.60926*10**(-1), 5.48623*10**(-3)],\n",
    "[1.45, -6.52661*10**(-1), -1.38977*10**(-1), 2.26294*10**(-1), -1.38977*10**(-1), 4.59760*10**(-3)],\n",
    "[1.55, -6.60117*10**(-1), -1.19894*10**(-1), 2.32740*10**(-1), -1.19894*10**(-1), 3.80558*10**(-3)],\n",
    "[1.65, -6.64309*10**(-1), -1.03305*10**(-1), 2.39014*10**(-1), -1.03305*10**(-1), 3.11545*10**(-3)],\n",
    "[1.75, -6.66092*10**(-1), -8.88906*10**(-2), 2.45075*10**(-1), -8.88906*10**(-2), 2.52480*10**(-3)],\n",
    "[1.85, -6.66126*10**(-1), -7.63712*10**(-2), 2.50896*10**(-1), -7.63712*10**(-2), 2.02647*10**(-3)],\n",
    "[1.95, -6.64916*10**(-1), -6.55065*10**(-2), 2.56458*10**(-1), -6.55065*10**(-2), 1.61100*10**(-3)],\n",
    "[2.05, -6.62844*10**(-1), -5.60866*10**(-2), 2.61750*10**(-1), -5.60866*10**(-2), 1.26812*10**(-3)],\n",
    "[2.15, -6.60199*10**(-1), -4.79275*10**(-2), 2.66768*10**(-1), -4.79275*10**(-2), 9.88000*10**(-4)],\n",
    "[2.25, -6.57196*10**(-1), -4.08672*10**(-2), 2.71512*10**(-1), -4.08672*10**(-2), 7.61425*10**(-4)],\n",
    "[2.35, -6.53992*10**(-1), -3.47636*10**(-2), 2.75986*10**(-1), -3.47636*10**(-2), 5.80225*10**(-4)],\n",
    "[2.45, -6.50702*10**(-1), -2.94924*10**(-2), 2.80199*10**(-1), -2.94924*10**(-2), 4.36875*10**(-4)],\n",
    "[2.55, -6.47408*10**(-1), -2.49459*10**(-2), 2.84160*10**(-1), -2.49459*10**(-2), 3.25025*10**(-4)],\n",
    "[2.65, -6.44165*10**(-1), -2.10309*10**(-2), 2.87881*10**(-1), -2.10309*10**(-2), 2.38800*10**(-4)],\n",
    "[2.75, -6.41011*10**(-1), -1.76672*10**(-2), 2.91376*10**(-1), -1.76672*10**(-2), 1.73300*10**(-4)],\n",
    "[2.85, -6.37971*10**(-1), -1.47853*10**(-2), 2.94658*10**(-1), -1.47853*10**(-2), 1.24200*10**(-4)],\n",
    "[2.95, -6.35058*10**(-1), -1.23246*10**(-2), 2.97741*10**(-1), -1.23246*10**(-2), 8.78750*10**(-5)],\n",
    "[3.05, -6.32279*10**(-1), -1.02318*10**(-2), 3.00638*10**(-1), -1.02317*10**(-2), 6.14500*10**(-5)],\n",
    "[3.15, -6.29635*10**(-1), -8.45958*10**(-3), 3.03362*10**(-1), -8.45958*10**(-3), 4.24250*10**(-5)],\n",
    "[3.25, -6.27126*10**(-1), -6.96585*10**(-3), 3.05927*10**(-1), -6.96585*10**(-3), 2.89500*10**(-5)],\n",
    "[3.35, -6.24746*10**(-1), -5.71280*10**(-3), 3.08344*10**(-1), -5.71280*10**(-3), 1.95500*10**(-5)],\n",
    "[3.45, -6.22491*10**(-1), -4.66670*10**(-3), 3.10625*10**(-1), -4.66670*10**(-3), 1.30500*10**(-5)],\n",
    "[3.55, -6.20353*10**(-1), -3.79743*10**(-3), 3.12780*10**(-1), -3.79743*10**(-3), 8.57500*10**(-6)],\n",
    "[3.65, -6.18325*10**(-1), -3.07840*10**(-3), 3.14819*10**(-1), -3.07840*10**(-3), 5.60000*10**(-6)],\n",
    "[3.75, -6.16401*10**(-1), -2.48625*10**(-3), 3.16750*10**(-1), -2.48625*10**(-3), 3.60000*10**(-6)],\n",
    "[3.85, -6.14575*10**(-1), -2.00063*10**(-3), 3.18581*10**(-1), -2.00062*10**(-3), 2.27500*10**(-6)],\n",
    "[3.95, -6.12839*10**(-1), -1.60393*10**(-3), 3.20320*10**(-1), -1.60392*10**(-3), 1.42500*10**(-6)]] )\n",
    "     \n",
    "# Building the Hamiltonian H[0]= Radius, H[1]=H(Radius)\n",
    "H3 = []\n",
    "(n,m) = Hamiltonian_coef.shape\n",
    "for i in range(n):  # i = Radius\n",
    "    h_0 = 1.0 * np.matrix(Hamiltonian_elem[0])\n",
    "    for j in range(1,m):\n",
    "        h_0 += Hamiltonian_coef[i,j]*np.matrix(Hamiltonian_elem[j])\n",
    "    H3.append([Hamiltonian_coef[i,0], h_0])"
   ]
  },
  {
   "cell_type": "markdown",
   "id": "b95733d2",
   "metadata": {},
   "source": [
    "## Varational quantum eigenvalue solver simulation\n",
    "\n",
    "We use the Nelder-Mead minimisation algorithm [4] from the `scipy.optimize` package.\n",
    "\n"
   ]
  },
  {
   "cell_type": "markdown",
   "id": "c8096d2c",
   "metadata": {},
   "source": [
    "### Simulation n°1 "
   ]
  },
  {
   "cell_type": "code",
   "execution_count": 8,
   "id": "29c10704",
   "metadata": {},
   "outputs": [
    {
     "data": {
      "application/vnd.jupyter.widget-view+json": {
       "model_id": "211267153d9241369b1e816ab553b0fe",
       "version_major": 2,
       "version_minor": 0
      },
      "text/plain": [
       "Minimizing...: 0it [00:00, ?it/s]"
      ]
     },
     "metadata": {},
     "output_type": "display_data"
    }
   ],
   "source": [
    "tq = tqdm(desc='Minimizing...') #Displaying progress bar\n",
    "radius1=[]\n",
    "E1=[]\n",
    "init_param=[]\n",
    "\n",
    "H=H1\n",
    "\n",
    "for R in range(len(H)):  # We try to find the ground state eigenvalue for each radius R\n",
    "    radius1.append(H[R][0])\n",
    "    if len(init_param) == 0:\n",
    "            init_param = [2*np.pi*random.random() for _ in List_Parameters]\n",
    "    else:\n",
    "        for i in range(len(init_param)):\n",
    "            init_param[i] = VQE.get_parameters()[i]._value\n",
    "            \n",
    "    # Finding the ground state eigen value for each H(R)\n",
    "    result = minimize(minimize_loss, init_param, method='Nelder-Mead')\n",
    "    \n",
    "    E1.append(result.get('fun'))\n",
    "    tq.set_description('Finished' )\n",
    "    "
   ]
  },
  {
   "cell_type": "markdown",
   "id": "29c9e0f2",
   "metadata": {},
   "source": [
    "#### Simulation 1: computing the theoretical eigenvalues of H\n",
    "\n",
    " We use the numpy linalg package."
   ]
  },
  {
   "cell_type": "code",
   "execution_count": 9,
   "id": "5c5bba77",
   "metadata": {},
   "outputs": [],
   "source": [
    "E1_th = []\n",
    "for h in H:\n",
    "    l0 = np.linalg.eigvals(h[1])\n",
    "    l0.sort()\n",
    "    E1_th.append(min(l0))"
   ]
  },
  {
   "cell_type": "markdown",
   "id": "dad5309a",
   "metadata": {},
   "source": [
    "#### Simulation 1: plotting the results\n",
    "\n",
    "The minimum eigenvalues of H are plotted in orange.\n",
    "\n",
    "The eigenvalues found with Perceval are the crosses"
   ]
  },
  {
   "cell_type": "code",
   "execution_count": 10,
   "id": "6134240e",
   "metadata": {},
   "outputs": [
    {
     "data": {
      "image/png": "[encoded data removed]",
      "text/plain": [
       "<Figure size 432x288 with 1 Axes>"
      ]
     },
     "metadata": {
      "needs_background": "light"
     },
     "output_type": "display_data"
    },
    {
     "data": {
      "image/png": "[encoded data removed]",
      "text/plain": [
       "<Figure size 432x288 with 1 Axes>"
      ]
     },
     "metadata": {
      "needs_background": "light"
     },
     "output_type": "display_data"
    },
    {
     "name": "stdout",
     "output_type": "stream",
     "text": [
      "The minimum energy is E_g(0.9)=-5.725241528105799 MJ/mol and is attained for R_min =0.9 pm\n"
     ]
    }
   ],
   "source": [
    "plt.plot(100*np.array(radius1),E1_th,'orange')\n",
    "plt.plot(100*np.array(radius1),E1,'x')\n",
    "plt.ylabel('Energy (MJ/mol)')\n",
    "plt.xlabel('Atomic separation R (pm)')\n",
    "plt.legend(['Theoretical eigenvalues', 'Eigenvalues computed with Perceval'])\n",
    "plt.show()\n",
    "\n",
    "\n",
    "plt.plot(100*np.array(radius1),E1_th,'orange')\n",
    "plt.plot(100*np.array(radius1),E1,'x')\n",
    "plt.axis([50,250,-5.8,-5.5])\n",
    "plt.ylabel('Energy (MJ/mol)')\n",
    "plt.xlabel('Atomic separation R (pm)')\n",
    "\n",
    "plt.legend(['Theoretical eigenvalues', 'Eigenvalues computed with Perceval'])\n",
    "\n",
    "plt.show()\n",
    "\n",
    "min_value=min(E1)\n",
    "min_index = E1.index(min_value)\n",
    "print('The minimum energy is E_g('+str(radius1[min_index])+')='+str(E1[min_index])+' MJ/mol and is attained for R_min ='+str(radius1[min_index])+' pm')\n"
   ]
  },
  {
   "cell_type": "markdown",
   "id": "c5eeb76b",
   "metadata": {},
   "source": [
    "### Simulation n°2"
   ]
  },
  {
   "cell_type": "code",
   "execution_count": 11,
   "id": "f872bf8a",
   "metadata": {},
   "outputs": [
    {
     "data": {
      "application/vnd.jupyter.widget-view+json": {
       "model_id": "d0f4876cbfb64e1b92d7a4c5b500240d",
       "version_major": 2,
       "version_minor": 0
      },
      "text/plain": [
       "Minimizing...: 0it [00:00, ?it/s]"
      ]
     },
     "metadata": {},
     "output_type": "display_data"
    }
   ],
   "source": [
    "tq = tqdm(desc='Minimizing...') #New progress bar\n",
    "radius2=[]\n",
    "E2=[]\n",
    "init_param=[]\n",
    "\n",
    "H=H2\n",
    "\n",
    "for R in range(len(H)):            #We try to find the ground state eigenvalue for each radius R\n",
    "    radius2.append(H[R][0])\n",
    "    if len(init_param) == 0:           #\n",
    "            init_param = [2*np.pi*random.random() for _ in List_Parameters]\n",
    "    else:\n",
    "        for i in range(len(init_param)):\n",
    "            init_param[i] = VQE.get_parameters()[i]._value\n",
    "            \n",
    "    # Finding the ground state eigen value for each H(R)\n",
    "    result = minimize(minimize_loss, init_param, method='Nelder-Mead')\n",
    "    \n",
    "    E2.append(result.get('fun'))\n",
    "    tq.set_description('Finished')\n"
   ]
  },
  {
   "cell_type": "markdown",
   "id": "b03f9998",
   "metadata": {},
   "source": [
    "#### Simulation 2: computing the theoretical eigenvalues of H\n",
    "\n",
    " We use the numpy linalg package."
   ]
  },
  {
   "cell_type": "code",
   "execution_count": 12,
   "id": "44b8aae9",
   "metadata": {},
   "outputs": [],
   "source": [
    "E2_th=[]\n",
    "for h in H:\n",
    "    l0=np.linalg.eigvals(h[1])\n",
    "    l0.sort()\n",
    "    E2_th.append(min(l0))"
   ]
  },
  {
   "cell_type": "markdown",
   "id": "008925dc",
   "metadata": {},
   "source": [
    "#### Simulation 2: plotting the results\n",
    "\n",
    "The minimum eigenvalues of H are plotted in orange.\n",
    "\n",
    "The eigenvalues found with Perceval are the crosses"
   ]
  },
  {
   "cell_type": "code",
   "execution_count": 13,
   "id": "ea56c529",
   "metadata": {},
   "outputs": [
    {
     "data": {
      "image/png": "[encoded data removed]",
      "text/plain": [
       "<Figure size 432x288 with 1 Axes>"
      ]
     },
     "metadata": {
      "needs_background": "light"
     },
     "output_type": "display_data"
    },
    {
     "data": {
      "image/png": "[encoded data removed]",
      "text/plain": [
       "<Figure size 432x288 with 1 Axes>"
      ]
     },
     "metadata": {
      "needs_background": "light"
     },
     "output_type": "display_data"
    },
    {
     "name": "stdout",
     "output_type": "stream",
     "text": [
      "The minimum energy is E_g(0.75)=-1.14559912408428 MJ/mol and is attained for R_min =0.6 Å\n"
     ]
    }
   ],
   "source": [
    "plt.plot(np.array(radius2),E2_th,'orange')\n",
    "plt.plot(np.array(radius2),E2,'x')\n",
    "plt.ylabel('Energy (MJ/mol)')\n",
    "plt.xlabel('Atomic separation R (Å)')\n",
    "plt.legend(['Theoretical eigenvalues', 'Eigenvalues computed with Perceval'])\n",
    "plt.show()\n",
    "\n",
    "\n",
    "plt.plot(np.array(radius2),E2_th,'orange')\n",
    "plt.plot(np.array(radius2),E2,'x')\n",
    "plt.axis([0.3,2,-1.2,-0.6])\n",
    "plt.ylabel('Energy (MJ/mol)')\n",
    "plt.xlabel('Atomic separation R (Å)')\n",
    "plt.legend(['Theoretical eigenvalues', 'Eigenvalues computed with Perceval'])\n",
    "plt.show()\n",
    "\n",
    "min_value=min(E2)\n",
    "min_index = E2.index(min_value)\n",
    "print('The minimum energy is E_g('+str(radius2[min_index])+')='+str(E2[min_index])+' MJ/mol and is attained for R_min ='+str(radius1[min_index])+' Å')\n"
   ]
  },
  {
   "cell_type": "markdown",
   "id": "5cc56c1e",
   "metadata": {},
   "source": [
    "### Simulation n°3"
   ]
  },
  {
   "cell_type": "code",
   "execution_count": 14,
   "id": "75e1e21b",
   "metadata": {},
   "outputs": [
    {
     "data": {
      "application/vnd.jupyter.widget-view+json": {
       "model_id": "a108c1e94309416fb558969a5447e8e4",
       "version_major": 2,
       "version_minor": 0
      },
      "text/plain": [
       "Minimizing...: 0it [00:00, ?it/s]"
      ]
     },
     "metadata": {},
     "output_type": "display_data"
    }
   ],
   "source": [
    "tq = tqdm(desc='Minimizing...') #New progress bar\n",
    "radius3=[]\n",
    "E3=[]\n",
    "init_param=[]\n",
    "\n",
    "H=H3\n",
    "\n",
    "for R in range(len(H)):            #We try to find the ground state eigenvalue for each radius R\n",
    "    radius3.append(H[R][0])\n",
    "    if len(init_param) == 0:           #\n",
    "            init_param = [2*np.pi*random.random() for _ in List_Parameters]\n",
    "    else:\n",
    "        for i in range(len(init_param)):\n",
    "            init_param[i] = VQE.get_parameters()[i]._value\n",
    "            \n",
    "    # Finding the ground state eigen value for each H(R)\n",
    "    result=minimize(minimize_loss, init_param, method='Nelder-Mead')\n",
    "    \n",
    "    E3.append(result.get('fun'))\n",
    "    tq.set_description('Finished' )\n",
    "    "
   ]
  },
  {
   "cell_type": "markdown",
   "id": "9a5bbc69",
   "metadata": {},
   "source": [
    "#### Simulation 3: computing the theoretical eigenvalues of H\n",
    "\n",
    " We use the numpy linalg package."
   ]
  },
  {
   "cell_type": "code",
   "execution_count": 15,
   "id": "d50017fd",
   "metadata": {},
   "outputs": [],
   "source": [
    "E3_th=[]\n",
    "for h in H:\n",
    "    l0=np.linalg.eigvals(h[1])\n",
    "    l0.sort()\n",
    "    E3_th.append(min(l0))"
   ]
  },
  {
   "cell_type": "markdown",
   "id": "cbbe1d0e",
   "metadata": {},
   "source": [
    "#### Simulation 3: plotting the results\n",
    "\n",
    "The minimum eigenvalue of H is plotted in orange. \n",
    "\n",
    "The eigenvalues found with Perceval are the crosses"
   ]
  },
  {
   "cell_type": "code",
   "execution_count": 16,
   "id": "6e91159d",
   "metadata": {},
   "outputs": [
    {
     "data": {
      "image/png": "[encoded data removed]",
      "text/plain": [
       "<Figure size 432x288 with 1 Axes>"
      ]
     },
     "metadata": {
      "needs_background": "light"
     },
     "output_type": "display_data"
    },
    {
     "data": {
      "image/png": "[encoded data removed]",
      "text/plain": [
       "<Figure size 432x288 with 1 Axes>"
      ]
     },
     "metadata": {
      "needs_background": "light"
     },
     "output_type": "display_data"
    },
    {
     "name": "stdout",
     "output_type": "stream",
     "text": [
      "The minimum energy is E_g(0.75)=-1.137117274609139 Hartree and is attained for R_min =0.75 Å\n"
     ]
    }
   ],
   "source": [
    "plt.plot(np.array(radius3),E3_th,'orange')\n",
    "plt.plot(np.array(radius3),E3,'x')\n",
    "plt.ylabel('Energy (Hartree)')\n",
    "plt.xlabel('Atomic separation R (Å)')\n",
    "plt.legend(['Theoretical eigenvalues', 'Eigenvalues computed with Perceval'])\n",
    "plt.show()\n",
    "\n",
    "\n",
    "plt.plot(np.array(radius3),E3_th,'orange')\n",
    "plt.plot(np.array(radius3),E3,'x')\n",
    "plt.axis([0,2.5,-1.2,-0.6])\n",
    "plt.ylabel('Energy (Hartree)')\n",
    "plt.xlabel('Atomic separation R (Å)')\n",
    "plt.legend(['Theoretical eigenvalues', 'Eigenvalues computed with Perceval'])\n",
    "plt.show()\n",
    "\n",
    "min_value=min(E3)\n",
    "min_index = E3.index(min_value)\n",
    "print('The minimum energy is E_g('+str(radius3[min_index])+')='+str(E3[min_index])+' Hartree and is attained for R_min ='+str(radius3[min_index])+' Å')"
   ]
  },
  {
   "cell_type": "markdown",
   "id": "c242b755",
   "metadata": {},
   "source": [
    "## References\n",
    "\n",
    "> [1] A. Peruzzo, J. McClean, P. Shadbolt, M.-H. Yung, X.-Q. Zhou, P. J. Love,A. Aspuru-Guzik, and J. L. O’Brien, “A variational eigenvalue solver on a photonicquantum processor”, [Nature Communications](https://www.nature.com/articles/ncomms5213) 5, 4213 (2014).\n",
    "\n",
    "> [2] P.J.J. O’Malley et al., \"Scalable Quantum Simulation of Molecular Energies\", [Phys. Rev. X](https://journals.aps.org/prl/abstract/10.1103/PhysRevLett.73.58) 6, 031007 (2016)\n",
    "\n",
    "> [3] J.I. Colless, et al., \"Computation of Molecular Spectra on a Quantum Processor with an Error-Resilient Algorithm\", [Phys. Rev. X](https://journals.aps.org/prx/abstract/10.1103/PhysRevX.8.011021) 8, 011021 (2018)\n",
    "\n",
    "> [4] J. A. Nelder and R. Mead, “A simplex method for function minimization”, [The computer journal](https://people.duke.edu/~hpgavin/cee201/Nelder+Mead-ComputerJournal-1965.pdf) 7, 308–313 (1965)."
   ]
  }
 ],
 "metadata": {
  "language_info": {
   "name": "python"
  }
 },
 "nbformat": 4,
 "nbformat_minor": 5
}
