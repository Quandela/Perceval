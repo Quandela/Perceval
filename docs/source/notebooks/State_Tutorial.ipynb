{
 "cells": [
  {
   "cell_type": "markdown",
   "id": "7f6effb781342585",
   "metadata": {},
   "source": [
    "# States"
   ]
  },
  {
   "cell_type": "markdown",
   "id": "b0357168bef55424",
   "metadata": {},
   "source": [
    "In this tutorial, we are going to see how to handle perceval state representation.\n",
    "\n",
    "First, the necessary import:"
   ]
  },
  {
   "cell_type": "code",
   "execution_count": 1,
   "id": "1846601e344992c4",
   "metadata": {},
   "outputs": [],
   "source": [
    "import perceval as pcvl"
   ]
  },
  {
   "cell_type": "markdown",
   "id": "2fae428413e5493c",
   "metadata": {},
   "source": [
    "### BasicStates <a name=\"basicstates\"></a>\n",
    "\n",
    "In Linear Optical Circuits, photons can have many discrete degrees of freedom, called modes.\n",
    "It can be the frequency, the polarisation, the position, or all of them.\n",
    "\n",
    "We represent these degrees of freedom with Fock states. If we have $n$ photons over $m$ modes, the Fock state $|s_1,s_2,...,s_m\\rangle$ means we have $s_i$ photons in the $i^{th}$ mode. Note that $\\sum_{i=1}^m s_i =n$.\n",
    "\n",
    "In Perceval, we will use the class `pcvl.BasicState`."
   ]
  },
  {
   "cell_type": "code",
   "execution_count": 2,
   "id": "initial_id",
   "metadata": {},
   "outputs": [
    {
     "name": "stdout",
     "output_type": "stream",
     "text": [
      "4\n",
      "3\n",
      "Those are the same states\n",
      "There is 0 photon in mode 0 (or equivalently 0).\n",
      "There is 2 photon in mode 1 (or equivalently 2).\n",
      "There is 0 photon in mode 2 (or equivalently 0).\n",
      "There is 1 photon in mode 3 (or equivalently 1).\n"
     ]
    }
   ],
   "source": [
    "## Syntax of different BasicState (list, string, etc)\n",
    "bs1 = pcvl.BasicState([0, 2, 0, 1])\n",
    "bs2 = pcvl.BasicState('|0,2,0,1>')  # Must start with | and end with >\n",
    "\n",
    "print(bs1.m)  # Number of modes\n",
    "print(bs1.n)  # Number of photons\n",
    "\n",
    "if bs1==bs2:\n",
    "    print(\"Those are the same states\")\n",
    "\n",
    "## You can iterate on modes\n",
    "for i, photon_count in enumerate(bs1):\n",
    "    print(f\"There is {photon_count} photon in mode {i} (or equivalently {bs1[i]}).\")"
   ]
  },
  {
   "cell_type": "markdown",
   "id": "af7322010b167d02",
   "metadata": {},
   "source": [
    "A `BasicState` is actually more than just a Fock state representation."
   ]
  },
  {
   "cell_type": "code",
   "execution_count": 3,
   "id": "9b324ca9d34528a4",
   "metadata": {},
   "outputs": [
    {
     "name": "stdout",
     "output_type": "stream",
     "text": [
      "<class 'exqalibur.FockState'> True\n"
     ]
    },
    {
     "ename": "TypeError",
     "evalue": "__init__(): incompatible constructor arguments. The following argument types are supported:\n    1. exqalibur.FockState()\n    2. exqalibur.FockState(fs: exqalibur.FockState)\n    3. exqalibur.FockState(arg0: int)\n    4. exqalibur.FockState(s: str)\n    5. exqalibur.FockState(s: str, mode_annotation: dict[int, list[str]])\n    6. exqalibur.FockState(fs_vec: list[int])\n    7. exqalibur.FockState(fs_vec: list[int], mode_annotation: dict[int, list[str]])\n\nInvoked with: [0, 2, 0, 1], [0, 1, 0]",
     "output_type": "error",
     "traceback": [
      "\u001b[1;31m---------------------------------------------------------------------------\u001b[0m",
      "\u001b[1;31mTypeError\u001b[0m                                 Traceback (most recent call last)",
      "Cell \u001b[1;32mIn[3], line 8\u001b[0m\n\u001b[0;32m      5\u001b[0m \u001b[38;5;28mprint\u001b[39m(\u001b[38;5;28mtype\u001b[39m(bs1), \u001b[38;5;28misinstance\u001b[39m(bs1, pcvl\u001b[38;5;241m.\u001b[39mBasicState))\n\u001b[0;32m      7\u001b[0m \u001b[38;5;66;03m# NoisyFockState, photons with the same tag are indistinguishable, photons with different tags are distinguishable (they will not interact)\u001b[39;00m\n\u001b[1;32m----> 8\u001b[0m bs2 \u001b[38;5;241m=\u001b[39m \u001b[43mpcvl\u001b[49m\u001b[38;5;241;43m.\u001b[39;49m\u001b[43mBasicState\u001b[49m\u001b[43m(\u001b[49m\u001b[43m[\u001b[49m\u001b[38;5;241;43m0\u001b[39;49m\u001b[43m,\u001b[49m\u001b[43m \u001b[49m\u001b[38;5;241;43m2\u001b[39;49m\u001b[43m,\u001b[49m\u001b[43m \u001b[49m\u001b[38;5;241;43m0\u001b[39;49m\u001b[43m,\u001b[49m\u001b[43m \u001b[49m\u001b[38;5;241;43m1\u001b[39;49m\u001b[43m]\u001b[49m\u001b[43m,\u001b[49m\u001b[43m \u001b[49m\u001b[43m[\u001b[49m\u001b[38;5;241;43m0\u001b[39;49m\u001b[43m,\u001b[49m\u001b[43m \u001b[49m\u001b[38;5;241;43m1\u001b[39;49m\u001b[43m,\u001b[49m\u001b[43m \u001b[49m\u001b[38;5;241;43m0\u001b[39;49m\u001b[43m]\u001b[49m\u001b[43m)\u001b[49m  \u001b[38;5;66;03m# Or equivalently BasicState(\"|0,{0}{1},0,{0}>\"\u001b[39;00m\n\u001b[0;32m      9\u001b[0m \u001b[38;5;28mprint\u001b[39m(\u001b[38;5;28mtype\u001b[39m(bs2), \u001b[38;5;28misinstance\u001b[39m(bs2, pcvl\u001b[38;5;241m.\u001b[39mBasicState))\n\u001b[0;32m     11\u001b[0m \u001b[38;5;66;03m# AnnotatedFockState, with custom annotations (not simulable in the general case, needs a conversion to something simulable first)\u001b[39;00m\n",
      "\u001b[1;31mTypeError\u001b[0m: __init__(): incompatible constructor arguments. The following argument types are supported:\n    1. exqalibur.FockState()\n    2. exqalibur.FockState(fs: exqalibur.FockState)\n    3. exqalibur.FockState(arg0: int)\n    4. exqalibur.FockState(s: str)\n    5. exqalibur.FockState(s: str, mode_annotation: dict[int, list[str]])\n    6. exqalibur.FockState(fs_vec: list[int])\n    7. exqalibur.FockState(fs_vec: list[int], mode_annotation: dict[int, list[str]])\n\nInvoked with: [0, 2, 0, 1], [0, 1, 0]"
     ]
    }
   ],
   "source": [
    "# There are three kind of BasicStates\n",
    "\n",
    "# FockState, all photons are indistinguishable\n",
    "bs1 = pcvl.BasicState([0, 2, 0, 1])  # Or equivalently BasicState(\"|0,2,0,1>\")\n",
    "print(type(bs1), isinstance(bs1, pcvl.BasicState))\n",
    "\n",
    "# NoisyFockState, photons with the same tag are indistinguishable, photons with different tags are distinguishable (they will not interact)\n",
    "bs2 = pcvl.BasicState([0, 2, 0, 1], [0, 1, 0])  # Or equivalently BasicState(\"|0,{0}{1},0,{0}>\"\n",
    "print(type(bs2), isinstance(bs2, pcvl.BasicState))\n",
    "\n",
    "# AnnotatedFockState, with custom annotations (not simulable in the general case, needs a conversion to something simulable first)\n",
    "bs3 = pcvl.BasicState(\"|0,{lambda:925}{lambda:925.01},0,{lambda:925.02}>\")\n",
    "print(type(bs3), isinstance(bs3, pcvl.BasicState))\n"
   ]
  },
  {
   "cell_type": "code",
   "execution_count": 4,
   "id": "cd65ad3ce682196b",
   "metadata": {},
   "outputs": [
    {
     "name": "stdout",
     "output_type": "stream",
     "text": [
      "|0,2,0,1,1,2>\n",
      "|2,0>\n"
     ]
    }
   ],
   "source": [
    "# Basic methods are common between these types\n",
    "print(bs1 * pcvl.BasicState([1, 2]))  # Tensor product\n",
    "print(bs1[1:3])  # Slice"
   ]
  },
  {
   "cell_type": "markdown",
   "id": "ec59dd21de3157ba",
   "metadata": {},
   "source": [
    "### StateVector\n",
    "\n",
    "A `StateVector` is a complex superposition of `BasicState` with the same number of modes."
   ]
  },
  {
   "cell_type": "code",
   "execution_count": 12,
   "id": "8575795407f7140a",
   "metadata": {},
   "outputs": [
    {
     "ename": "TypeError",
     "evalue": "unsupported operand type(s) for +: 'exqalibur.FockState' and 'exqalibur.StateVector'",
     "output_type": "error",
     "traceback": [
      "\u001b[1;31m---------------------------------------------------------------------------\u001b[0m",
      "\u001b[1;31mTypeError\u001b[0m                                 Traceback (most recent call last)",
      "Cell \u001b[1;32mIn[12], line 2\u001b[0m\n\u001b[0;32m      1\u001b[0m \u001b[38;5;66;03m# StateVectors can be defined using arithmetic on BasicStates and other StateVectors\u001b[39;00m\n\u001b[1;32m----> 2\u001b[0m sv \u001b[38;5;241m=\u001b[39m \u001b[43mpcvl\u001b[49m\u001b[38;5;241;43m.\u001b[39;49m\u001b[43mBasicState\u001b[49m\u001b[43m(\u001b[49m\u001b[43m[\u001b[49m\u001b[38;5;241;43m0\u001b[39;49m\u001b[43m,\u001b[49m\u001b[43m \u001b[49m\u001b[38;5;241;43m2\u001b[39;49m\u001b[43m,\u001b[49m\u001b[43m \u001b[49m\u001b[38;5;241;43m0\u001b[39;49m\u001b[43m,\u001b[49m\u001b[43m \u001b[49m\u001b[38;5;241;43m1\u001b[39;49m\u001b[43m]\u001b[49m\u001b[43m)\u001b[49m\u001b[43m \u001b[49m\u001b[38;5;241;43m+\u001b[39;49m\u001b[43m \u001b[49m\u001b[43m(\u001b[49m\u001b[38;5;241;43m0.5\u001b[39;49m\u001b[43m \u001b[49m\u001b[38;5;241;43m+\u001b[39;49m\u001b[43m \u001b[49m\u001b[38;5;241;43m0.3\u001b[39;49m\u001b[43mj\u001b[49m\u001b[43m)\u001b[49m\u001b[43m \u001b[49m\u001b[38;5;241;43m*\u001b[39;49m\u001b[43m \u001b[49m\u001b[43mpcvl\u001b[49m\u001b[38;5;241;43m.\u001b[39;49m\u001b[43mBasicState\u001b[49m\u001b[43m(\u001b[49m\u001b[43m[\u001b[49m\u001b[38;5;241;43m1\u001b[39;49m\u001b[43m,\u001b[49m\u001b[43m \u001b[49m\u001b[38;5;241;43m0\u001b[39;49m\u001b[43m,\u001b[49m\u001b[43m \u001b[49m\u001b[38;5;241;43m1\u001b[39;49m\u001b[43m,\u001b[49m\u001b[43m \u001b[49m\u001b[38;5;241;43m1\u001b[39;49m\u001b[43m]\u001b[49m\u001b[43m)\u001b[49m\n\u001b[0;32m      4\u001b[0m \u001b[38;5;66;03m# State vectors normalize themselves upon use\u001b[39;00m\n\u001b[0;32m      5\u001b[0m \u001b[38;5;28mprint\u001b[39m(\u001b[38;5;124m\"\u001b[39m\u001b[38;5;124mState vector is normalized upon use: \u001b[39m\u001b[38;5;124m\"\u001b[39m, sv)\n",
      "\u001b[1;31mTypeError\u001b[0m: unsupported operand type(s) for +: 'exqalibur.FockState' and 'exqalibur.StateVector'"
     ]
    }
   ],
   "source": [
    "# StateVectors can be defined using arithmetic on BasicStates and other StateVectors\n",
    "sv = pcvl.BasicState([0, 2, 0, 1]) + (0.5 + 0.3j) * pcvl.BasicState([1, 0, 1, 1])\n",
    "\n",
    "# State vectors normalize themselves upon use\n",
    "print(\"State vector is normalized upon use: \", sv)\n",
    "\n",
    "for (basic_state, amplitude) in sv:\n",
    "    print(basic_state, \"has the complex amplitude\", amplitude)\n",
    "\n",
    "# We can also access amplitudes as in a dictionary\n",
    "print(sv[pcvl.BasicState([0, 2, 0, 1])])"
   ]
  },
  {
   "cell_type": "markdown",
   "id": "452ef27cc289356e",
   "metadata": {},
   "source": [
    "### Distributions\n",
    "\n",
    "Perceval exposes state distribution classes that act as mixed states. All states defined in these distributions must have the same number of modes."
   ]
  },
  {
   "cell_type": "code",
   "execution_count": 8,
   "id": "fa17c00336024203",
   "metadata": {},
   "outputs": [
    {
     "name": "stdout",
     "output_type": "stream",
     "text": [
      "{\n",
      "\t|1,2>: 0.4\n",
      "\t|2,1>: 0.2\n",
      "}\n",
      "2\n",
      "|1,2> 0.6666666666666666 (or equivalently 0.6666666666666666)\n",
      "|2,1> 0.3333333333333333 (or equivalently 0.3333333333333333)\n",
      "{\n",
      "\t|1,2,1>: 0.6666666666666666\n",
      "\t|2,1,1>: 0.3333333333333333\n",
      "}\n"
     ]
    }
   ],
   "source": [
    "# The BSDistribution is a collection of FockStates\n",
    "bsd = pcvl.BSDistribution()\n",
    "bsd[pcvl.BasicState([1, 2])] = 0.4\n",
    "bsd[pcvl.BasicState([2, 1])] = 0.2\n",
    "\n",
    "print(bsd)\n",
    "print(\"Number of modes:\", bsd.m)\n",
    "\n",
    "bsd.normalize()  # Not automatic on distributions\n",
    "\n",
    "# Distributions act much like python dictionaries\n",
    "for (state, probability) in bsd.items():\n",
    "    print(state, \"has the probability\", probability, f\"(or equivalently {bsd[state]})\")\n",
    "\n",
    "print(\"Tensor product\")\n",
    "print(bsd * pcvl.BasicState([1])) # Tensor product, also works between distributions"
   ]
  },
  {
   "cell_type": "code",
   "execution_count": 11,
   "id": "4c09f45da57f6f1",
   "metadata": {},
   "outputs": [
    {
     "name": "stdout",
     "output_type": "stream",
     "text": [
      "[0.707*|3,0>+0.707*|2,1>, 0.707*|3,0>+0.707*|2,1>, |1,2>, 0.707*|3,0>+0.707*|2,1>, |1,2>]\n",
      "{\n",
      "\t|1,2,1,2>: 0.26666666666666666\n",
      "\t0.707*|3,0,2,1>+0.707*|2,1,2,1>: 0.19999999999999998\n",
      "\t0.707*|3,0,1,2>+0.707*|2,1,1,2>: 0.39999999999999997\n",
      "\t|1,2,2,1>: 0.13333333333333333\n",
      "}\n"
     ]
    }
   ],
   "source": [
    "# Likewise, SVDistribution is a collection of StateVectors\n",
    "svd = pcvl.SVDistribution({pcvl.StateVector([1, 2]) : 0.4,\n",
    "                           pcvl.BasicState([3, 0]) + pcvl.BasicState([2, 1]) : 0.6})\n",
    "\n",
    "print(\"Five random samples according to the distribution:\", svd.sample(5))\n",
    "\n",
    "print(\"Tensor product\")\n",
    "print(svd * pcvl.SVDistribution(bsd))  # Tensor product between distributions"
   ]
  },
  {
   "cell_type": "markdown",
   "id": "505a479e680b89b1",
   "metadata": {},
   "source": [
    "Now that you know how to define states in perceval, you are ready to go to the next tutorial : [Circuits](https://perceval.quandela.net/docs/notebooks/Circuit_Tutorial.html)."
   ]
  }
 ],
 "metadata": {
  "language_info": {
   "name": "python"
  }
 },
 "nbformat": 4,
 "nbformat_minor": 5
}
