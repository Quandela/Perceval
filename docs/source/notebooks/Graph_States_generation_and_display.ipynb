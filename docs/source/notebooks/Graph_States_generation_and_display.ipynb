{
 "cells": [
  {
   "attachments": {},
   "cell_type": "markdown",
   "id": "cc7d159c",
   "metadata": {},
   "source": [
    "# Graph States generation and display"
   ]
  },
  {
   "attachments": {},
   "cell_type": "markdown",
   "id": "33b229e3",
   "metadata": {},
   "source": [
    "This notebook need the python modules qiskit, qutip and seaborn to be able to run. Simply run :\n",
    "\n",
    "pip install qiskit qutip seaborn"
   ]
  },
  {
   "attachments": {},
   "cell_type": "markdown",
   "id": "a404cf6a",
   "metadata": {},
   "source": [
    "## Some definitions and properties of graph states"
   ]
  },
  {
   "attachments": {},
   "cell_type": "markdown",
   "id": "81150d0f",
   "metadata": {},
   "source": [
    "Graph states are specific entangled states that are represented by a graph. They have interesting properties in many fields of quantum computing [[1]](#References), therefore they are points of interest."
   ]
  },
  {
   "attachments": {},
   "cell_type": "markdown",
   "id": "ba744e0b",
   "metadata": {},
   "source": [
    "##### Definition:"
   ]
  },
  {
   "attachments": {},
   "cell_type": "markdown",
   "id": "3673c194",
   "metadata": {},
   "source": [
    "Two definitions of a graph state exist. Since they are equivalent, we will only consider the following:\n",
    "\n",
    "Given a graph $G=(V,E)$, with the set of vertices $V$ and the set of edges $E$, the corresponding graph state is defined as:\n",
    "<p style=\"text-align: center;\">\n",
    "$\\left|G\\right\\rangle = \\prod_{(a,b)\\in E} CZ^{\\{a,b\\}} \\left|+\\right\\rangle^{\\otimes V}$\n",
    "</p>\n",
    "\n",
    "where $|+\\rangle = \\frac{|0\\rangle + |1\\rangle}{\\sqrt2}$ and $CZ^{\\{a,b\\}}$  is the controlled-Z interaction between the two vertices (corresponding to two qubits) $a$ and $b$. The operators order in the product doesn't matter since CZ gates commute between themselves. We can write the CZ gate with the following matrix :\n",
    "<p style=\"text-align: center;\">\n",
    "$CZ = \\begin{bmatrix}\n",
    "1 & 0 & 0 & 0 \\\\\n",
    "0 & 1 & 0 & 0 \\\\\n",
    "0 & 0 & 1 & 0 \\\\\n",
    "0 & 0 & 0 & -1 \\\\\n",
    "\\end{bmatrix}$\n",
    "</p>\n",
    "\n",
    "<br/>\n",
    "\n",
    "Therefore, we can write the action of a CZ gate as: $CZ^{\\{1,2\\}}|0\\rangle_1 |\\pm\\rangle_2 = |0\\rangle_1 |\\pm\\rangle_2$     and     $CZ^{\\{1,2\\}}|1\\rangle_1 |\\pm\\rangle_2 = |1\\rangle_1 |\\mp\\rangle_2$.\n",
    "\n",
    "Let’s illustrate this with an example. The associated graph of: $|\\Psi_{graph}\\rangle = CZ^{\\{0,1\\}}\\, CZ^{\\{1,2\\}}\\, CZ^{\\{0,2\\}}\\, CZ^{\\{3,2\\}}|+\\rangle_0 |+\\rangle_1 |+\\rangle_2 |+\\rangle_3$ is the following. The graph is generated as an output later in this notebook. We will now see several ways to create and display these states."
   ]
  },
  {
   "attachments": {},
   "cell_type": "markdown",
   "id": "ebe8e04c",
   "metadata": {},
   "source": [
    "## Generating entangled states with a circuit"
   ]
  },
  {
   "attachments": {},
   "cell_type": "markdown",
   "id": "91ceb745",
   "metadata": {},
   "source": [
    "We will first use a 3-qubits circuit. We need to implement two CZ gates on it to generate the 3-qubits linear graph state.\n",
    "\n",
    "These gates are post-selected CZ gates which have a probability of success of $\\frac{1}{9}$."
   ]
  },
  {
   "cell_type": "code",
   "execution_count": 2,
   "id": "7a1cbb98",
   "metadata": {},
   "outputs": [],
   "source": [
    "import math\n",
    "import perceval as pcvl\n",
    "import networkx as nx\n",
    "from perceval.utils import StateGenerator, Encoding\n",
    "from qiskit.visualization import plot_state_qsphere\n",
    "from qutip import plot_schmidt"
   ]
  },
  {
   "attachments": {},
   "cell_type": "markdown",
   "id": "922551ad",
   "metadata": {},
   "source": [
    "### Implementation in Perceval"
   ]
  },
  {
   "attachments": {},
   "cell_type": "markdown",
   "id": "f21b829c",
   "metadata": {},
   "source": [
    "For this circuit, we use path encoded qubits with 3 photons as input."
   ]
  },
  {
   "cell_type": "code",
   "execution_count": 3,
   "id": "db028030",
   "metadata": {},
   "outputs": [],
   "source": [
    "# Modes number of the circuit\n",
    "m = 10"
   ]
  },
  {
   "cell_type": "code",
   "execution_count": 4,
   "id": "3490bb12",
   "metadata": {},
   "outputs": [],
   "source": [
    "def cz(i):\n",
    "    \"\"\"Return a post selected CZ gate labeled with i\"\"\"\n",
    "    \n",
    "    CZ = pcvl.Circuit(6, name=\"CZ\" + str(i))\n",
    "    CZ.add((0, 1), pcvl.BS(pcvl.BS.r_to_theta(1/3)))\n",
    "    CZ.add((2, 3), pcvl.BS(pcvl.BS.r_to_theta(1/3)))\n",
    "    CZ.add((4, 5), pcvl.BS(pcvl.BS.r_to_theta(1/3)))\n",
    "    CZ.add(2, pcvl.PS(math.pi)) \n",
    "    \n",
    "    return CZ   "
   ]
  },
  {
   "cell_type": "code",
   "execution_count": 5,
   "id": "f2465169",
   "metadata": {},
   "outputs": [
    {
     "data": {
      "image/svg+xml": [
       "<?xml version=\"1.0\" encoding=\"UTF-8\"?>\n",
       "<svg xmlns=\"http://www.w3.org/2000/svg\" xmlns:xlink=\"http://www.w3.org/1999/xlink\"\n",
       "     width=\"495.0\" height=\"393.75\" viewBox=\"-30.0 0 660.0 525.0\">\n",
       "<defs>\n",
       "</defs>\n",
       "<path d=\"M10,25.0 L25,25.0\" stroke-width=\"3\" stroke=\"darkred\" stroke-linejoin=\"miter\" fill=\"none\" />\n",
       "<path d=\"M10,75.0 L25,75.0\" stroke-width=\"3\" stroke=\"darkred\" stroke-linejoin=\"miter\" fill=\"none\" />\n",
       "<path d=\"M10,125.0 L25,125.0\" stroke-width=\"3\" stroke=\"darkred\" stroke-linejoin=\"miter\" fill=\"none\" />\n",
       "<path d=\"M10,175.0 L25,175.0\" stroke-width=\"3\" stroke=\"darkred\" stroke-linejoin=\"miter\" fill=\"none\" />\n",
       "<path d=\"M10,225.0 L25,225.0\" stroke-width=\"3\" stroke=\"darkred\" stroke-linejoin=\"miter\" fill=\"none\" />\n",
       "<path d=\"M10,275.0 L25,275.0\" stroke-width=\"3\" stroke=\"darkred\" stroke-linejoin=\"miter\" fill=\"none\" />\n",
       "<path d=\"M10,325.0 L25,325.0\" stroke-width=\"3\" stroke=\"darkred\" stroke-linejoin=\"miter\" fill=\"none\" />\n",
       "<path d=\"M10,375.0 L25,375.0\" stroke-width=\"3\" stroke=\"darkred\" stroke-linejoin=\"miter\" fill=\"none\" />\n",
       "<path d=\"M10,425.0 L25,425.0\" stroke-width=\"3\" stroke=\"darkred\" stroke-linejoin=\"miter\" fill=\"none\" />\n",
       "<path d=\"M10,475.0 L25,475.0\" stroke-width=\"3\" stroke=\"darkred\" stroke-linejoin=\"miter\" fill=\"none\" />\n",
       "<path d=\"M25,75 L53,75 L72,94\" stroke=\"darkred\" stroke-width=\"3\" fill=\"none\" />\n",
       "<path d=\"M78,94 L97,75 L125,75\" stroke=\"darkred\" stroke-width=\"3\" fill=\"none\" />\n",
       "<path d=\"M25,125 L53,125 L72,106\" stroke=\"darkred\" stroke-width=\"3\" fill=\"none\" />\n",
       "<path d=\"M78,106 L97,125 L125,125\" stroke=\"darkred\" stroke-width=\"3\" fill=\"none\" />\n",
       "<path d=\"M50,93 L100,93 L100,107 L50,107 Z\" stroke=\"black\" fill=\"black\" stroke-linejoin=\"miter\" />\n",
       "<text x=\"75\" y=\"135\" font-size=\"7\" text-anchor=\"middle\"></text>\n",
       "<text x=\"75\" y=\"76\" font-size=\"7\" text-anchor=\"middle\"></text>\n",
       "<path d=\"M50,93 L100,93 L100,97 L50,97 Z\" stroke=\"black\" fill=\"lightgray\" stroke-linejoin=\"miter\" />\n",
       "<path d=\"M93,100 L103,100 L103,110 L93,110 Z\" stroke=\"black\" fill=\"thistle\" stroke-linejoin=\"miter\" />\n",
       "<text x=\"98\" y=\"107\" font-size=\"6\" text-anchor=\"middle\">Rx</text>\n",
       "<path d=\"M125,75 L175,75\" stroke=\"darkred\" stroke-width=\"3\" fill=\"none\" />\n",
       "<path d=\"M130,90 L139,90 L153,60 L144,60 L130,90 L139,90 Z\" stroke=\"black\" fill=\"gray\" stroke-linejoin=\"miter\" />\n",
       "<text x=\"147\" y=\"88\" font-size=\"7\" text-anchor=\"start\">Φ=pi/2</text>\n",
       "<path d=\"M25,175 L53,175 L72,194\" stroke=\"darkred\" stroke-width=\"3\" fill=\"none\" />\n",
       "<path d=\"M78,194 L97,175 L125,175\" stroke=\"darkred\" stroke-width=\"3\" fill=\"none\" />\n",
       "<path d=\"M25,225 L53,225 L72,206\" stroke=\"darkred\" stroke-width=\"3\" fill=\"none\" />\n",
       "<path d=\"M78,206 L97,225 L125,225\" stroke=\"darkred\" stroke-width=\"3\" fill=\"none\" />\n",
       "<path d=\"M50,193 L100,193 L100,207 L50,207 Z\" stroke=\"black\" fill=\"black\" stroke-linejoin=\"miter\" />\n",
       "<text x=\"75\" y=\"235\" font-size=\"7\" text-anchor=\"middle\"></text>\n",
       "<text x=\"75\" y=\"176\" font-size=\"7\" text-anchor=\"middle\"></text>\n",
       "<path d=\"M50,193 L100,193 L100,197 L50,197 Z\" stroke=\"black\" fill=\"lightgray\" stroke-linejoin=\"miter\" />\n",
       "<path d=\"M93,200 L103,200 L103,210 L93,210 Z\" stroke=\"black\" fill=\"thistle\" stroke-linejoin=\"miter\" />\n",
       "<text x=\"98\" y=\"207\" font-size=\"6\" text-anchor=\"middle\">Rx</text>\n",
       "<path d=\"M125,175 L175,175\" stroke=\"darkred\" stroke-width=\"3\" fill=\"none\" />\n",
       "<path d=\"M130,190 L139,190 L153,160 L144,160 L130,190 L139,190 Z\" stroke=\"black\" fill=\"gray\" stroke-linejoin=\"miter\" />\n",
       "<text x=\"147\" y=\"188\" font-size=\"7\" text-anchor=\"start\">Φ=pi/2</text>\n",
       "<path d=\"M25,375 L53,375 L72,394\" stroke=\"darkred\" stroke-width=\"3\" fill=\"none\" />\n",
       "<path d=\"M78,394 L97,375 L125,375\" stroke=\"darkred\" stroke-width=\"3\" fill=\"none\" />\n",
       "<path d=\"M25,425 L53,425 L72,406\" stroke=\"darkred\" stroke-width=\"3\" fill=\"none\" />\n",
       "<path d=\"M78,406 L97,425 L125,425\" stroke=\"darkred\" stroke-width=\"3\" fill=\"none\" />\n",
       "<path d=\"M50,393 L100,393 L100,407 L50,407 Z\" stroke=\"black\" fill=\"black\" stroke-linejoin=\"miter\" />\n",
       "<text x=\"75\" y=\"435\" font-size=\"7\" text-anchor=\"middle\"></text>\n",
       "<text x=\"75\" y=\"376\" font-size=\"7\" text-anchor=\"middle\"></text>\n",
       "<path d=\"M50,393 L100,393 L100,397 L50,397 Z\" stroke=\"black\" fill=\"lightgray\" stroke-linejoin=\"miter\" />\n",
       "<path d=\"M93,400 L103,400 L103,410 L93,410 Z\" stroke=\"black\" fill=\"thistle\" stroke-linejoin=\"miter\" />\n",
       "<text x=\"98\" y=\"407\" font-size=\"6\" text-anchor=\"middle\">Rx</text>\n",
       "<path d=\"M125,375 L175,375\" stroke=\"darkred\" stroke-width=\"3\" fill=\"none\" />\n",
       "<path d=\"M130,390 L139,390 L153,360 L144,360 L130,390 L139,390 Z\" stroke=\"black\" fill=\"gray\" stroke-linejoin=\"miter\" />\n",
       "<text x=\"147\" y=\"388\" font-size=\"7\" text-anchor=\"start\">Φ=pi/2</text>\n",
       "<path d=\"M177,2 L323,2 L323,298 L177,298 Z\" stroke=\"black\" fill=\"lightblue\" stroke-dasharray=\"1,2\" stroke-linejoin=\"miter\" />\n",
       "<text x=\"179\" y=\"305\" font-size=\"8\" text-anchor=\"start\">CZ1</text>\n",
       "<path d=\"M25,25.0 L175,25.0\" stroke=\"darkred\" stroke-width=\"3\" fill=\"none\" />\n",
       "<path d=\"M175,25 L203,25 L222,44\" stroke=\"darkred\" stroke-width=\"3\" fill=\"none\" />\n",
       "<path d=\"M228,44 L247,25 L275,25\" stroke=\"darkred\" stroke-width=\"3\" fill=\"none\" />\n",
       "<path d=\"M175,75 L203,75 L222,56\" stroke=\"darkred\" stroke-width=\"3\" fill=\"none\" />\n",
       "<path d=\"M228,56 L247,75 L275,75\" stroke=\"darkred\" stroke-width=\"3\" fill=\"none\" />\n",
       "<path d=\"M200,43 L250,43 L250,57 L200,57 Z\" stroke=\"black\" fill=\"black\" stroke-linejoin=\"miter\" />\n",
       "<text x=\"225\" y=\"80\" font-size=\"7\" text-anchor=\"middle\"></text>\n",
       "<text x=\"225\" y=\"26\" font-size=\"7\" text-anchor=\"middle\">Θ=1.910633</text>\n",
       "<path d=\"M200,43 L250,43 L250,47 L200,47 Z\" stroke=\"black\" fill=\"lightgray\" stroke-linejoin=\"miter\" />\n",
       "<path d=\"M243,50 L253,50 L253,60 L243,60 Z\" stroke=\"black\" fill=\"thistle\" stroke-linejoin=\"miter\" />\n",
       "<text x=\"248\" y=\"57\" font-size=\"6\" text-anchor=\"middle\">Rx</text>\n",
       "<path d=\"M125,125.0 L175,125.0\" stroke=\"darkred\" stroke-width=\"3\" fill=\"none\" />\n",
       "<path d=\"M175,125 L203,125 L222,144\" stroke=\"darkred\" stroke-width=\"3\" fill=\"none\" />\n",
       "<path d=\"M228,144 L247,125 L275,125\" stroke=\"darkred\" stroke-width=\"3\" fill=\"none\" />\n",
       "<path d=\"M175,175 L203,175 L222,156\" stroke=\"darkred\" stroke-width=\"3\" fill=\"none\" />\n",
       "<path d=\"M228,156 L247,175 L275,175\" stroke=\"darkred\" stroke-width=\"3\" fill=\"none\" />\n",
       "<path d=\"M200,143 L250,143 L250,157 L200,157 Z\" stroke=\"black\" fill=\"black\" stroke-linejoin=\"miter\" />\n",
       "<text x=\"225\" y=\"180\" font-size=\"7\" text-anchor=\"middle\"></text>\n",
       "<text x=\"225\" y=\"126\" font-size=\"7\" text-anchor=\"middle\">Θ=1.910633</text>\n",
       "<path d=\"M200,143 L250,143 L250,147 L200,147 Z\" stroke=\"black\" fill=\"lightgray\" stroke-linejoin=\"miter\" />\n",
       "<path d=\"M243,150 L253,150 L253,160 L243,160 Z\" stroke=\"black\" fill=\"thistle\" stroke-linejoin=\"miter\" />\n",
       "<text x=\"248\" y=\"157\" font-size=\"6\" text-anchor=\"middle\">Rx</text>\n",
       "<path d=\"M25,275.0 L125,275.0\" stroke=\"darkred\" stroke-width=\"3\" fill=\"none\" />\n",
       "<path d=\"M125,225 L153,225 L172,244\" stroke=\"darkred\" stroke-width=\"3\" fill=\"none\" />\n",
       "<path d=\"M178,244 L197,225 L225,225\" stroke=\"darkred\" stroke-width=\"3\" fill=\"none\" />\n",
       "<path d=\"M125,275 L153,275 L172,256\" stroke=\"darkred\" stroke-width=\"3\" fill=\"none\" />\n",
       "<path d=\"M178,256 L197,275 L225,275\" stroke=\"darkred\" stroke-width=\"3\" fill=\"none\" />\n",
       "<path d=\"M150,243 L200,243 L200,257 L150,257 Z\" stroke=\"black\" fill=\"black\" stroke-linejoin=\"miter\" />\n",
       "<text x=\"175\" y=\"280\" font-size=\"7\" text-anchor=\"middle\"></text>\n",
       "<text x=\"175\" y=\"226\" font-size=\"7\" text-anchor=\"middle\">Θ=1.910633</text>\n",
       "<path d=\"M150,243 L200,243 L200,247 L150,247 Z\" stroke=\"black\" fill=\"lightgray\" stroke-linejoin=\"miter\" />\n",
       "<path d=\"M193,250 L203,250 L203,260 L193,260 Z\" stroke=\"black\" fill=\"thistle\" stroke-linejoin=\"miter\" />\n",
       "<text x=\"198\" y=\"257\" font-size=\"6\" text-anchor=\"middle\">Rx</text>\n",
       "<path d=\"M275,125 L325,125\" stroke=\"darkred\" stroke-width=\"3\" fill=\"none\" />\n",
       "<path d=\"M280,140 L289,140 L303,110 L294,110 L280,140 L289,140 Z\" stroke=\"black\" fill=\"gray\" stroke-linejoin=\"miter\" />\n",
       "<text x=\"297\" y=\"138\" font-size=\"7\" text-anchor=\"start\">Φ=pi</text>\n",
       "<path d=\"M275,25.0 L325,25.0\" stroke=\"darkred\" stroke-width=\"3\" fill=\"none\" />\n",
       "<path d=\"M275,75.0 L325,75.0\" stroke=\"darkred\" stroke-width=\"3\" fill=\"none\" />\n",
       "<path d=\"M275,175.0 L325,175.0\" stroke=\"darkred\" stroke-width=\"3\" fill=\"none\" />\n",
       "<path d=\"M225,225.0 L325,225.0\" stroke=\"darkred\" stroke-width=\"3\" fill=\"none\" />\n",
       "<path d=\"M225,275.0 L325,275.0\" stroke=\"darkred\" stroke-width=\"3\" fill=\"none\" />\n",
       "<path d=\"M25,325.0 L325,325.0\" stroke=\"darkred\" stroke-width=\"3\" fill=\"none\" />\n",
       "<path d=\"M328,175 L372,275\" stroke=\"white\" stroke-width=\"6\" fill=\"none\" />\n",
       "<path d=\"M325,175 L328,175 L372,275 L375,275\" stroke=\"darkred\" stroke-width=\"3\" fill=\"none\" />\n",
       "<path d=\"M328,225 L372,325\" stroke=\"white\" stroke-width=\"6\" fill=\"none\" />\n",
       "<path d=\"M325,225 L328,225 L372,325 L375,325\" stroke=\"darkred\" stroke-width=\"3\" fill=\"none\" />\n",
       "<path d=\"M328,275 L372,175\" stroke=\"white\" stroke-width=\"6\" fill=\"none\" />\n",
       "<path d=\"M325,275 L328,275 L372,175 L375,175\" stroke=\"darkred\" stroke-width=\"3\" fill=\"none\" />\n",
       "<path d=\"M328,325 L372,225\" stroke=\"white\" stroke-width=\"6\" fill=\"none\" />\n",
       "<path d=\"M325,325 L328,325 L372,225 L375,225\" stroke=\"darkred\" stroke-width=\"3\" fill=\"none\" />\n",
       "<path d=\"M377,202 L523,202 L523,498 L377,498 Z\" stroke=\"black\" fill=\"lightblue\" stroke-dasharray=\"1,2\" stroke-linejoin=\"miter\" />\n",
       "<text x=\"379\" y=\"505\" font-size=\"8\" text-anchor=\"start\">CZ2</text>\n",
       "<path d=\"M375,225 L403,225 L422,244\" stroke=\"darkred\" stroke-width=\"3\" fill=\"none\" />\n",
       "<path d=\"M428,244 L447,225 L475,225\" stroke=\"darkred\" stroke-width=\"3\" fill=\"none\" />\n",
       "<path d=\"M375,275 L403,275 L422,256\" stroke=\"darkred\" stroke-width=\"3\" fill=\"none\" />\n",
       "<path d=\"M428,256 L447,275 L475,275\" stroke=\"darkred\" stroke-width=\"3\" fill=\"none\" />\n",
       "<path d=\"M400,243 L450,243 L450,257 L400,257 Z\" stroke=\"black\" fill=\"black\" stroke-linejoin=\"miter\" />\n",
       "<text x=\"425\" y=\"280\" font-size=\"7\" text-anchor=\"middle\"></text>\n",
       "<text x=\"425\" y=\"226\" font-size=\"7\" text-anchor=\"middle\">Θ=1.910633</text>\n",
       "<path d=\"M400,243 L450,243 L450,247 L400,247 Z\" stroke=\"black\" fill=\"lightgray\" stroke-linejoin=\"miter\" />\n",
       "<path d=\"M443,250 L453,250 L453,260 L443,260 Z\" stroke=\"black\" fill=\"thistle\" stroke-linejoin=\"miter\" />\n",
       "<text x=\"448\" y=\"257\" font-size=\"6\" text-anchor=\"middle\">Rx</text>\n",
       "<path d=\"M175,375.0 L375,375.0\" stroke=\"darkred\" stroke-width=\"3\" fill=\"none\" />\n",
       "<path d=\"M375,325 L403,325 L422,344\" stroke=\"darkred\" stroke-width=\"3\" fill=\"none\" />\n",
       "<path d=\"M428,344 L447,325 L475,325\" stroke=\"darkred\" stroke-width=\"3\" fill=\"none\" />\n",
       "<path d=\"M375,375 L403,375 L422,356\" stroke=\"darkred\" stroke-width=\"3\" fill=\"none\" />\n",
       "<path d=\"M428,356 L447,375 L475,375\" stroke=\"darkred\" stroke-width=\"3\" fill=\"none\" />\n",
       "<path d=\"M400,343 L450,343 L450,357 L400,357 Z\" stroke=\"black\" fill=\"black\" stroke-linejoin=\"miter\" />\n",
       "<text x=\"425\" y=\"380\" font-size=\"7\" text-anchor=\"middle\"></text>\n",
       "<text x=\"425\" y=\"326\" font-size=\"7\" text-anchor=\"middle\">Θ=1.910633</text>\n",
       "<path d=\"M400,343 L450,343 L450,347 L400,347 Z\" stroke=\"black\" fill=\"lightgray\" stroke-linejoin=\"miter\" />\n",
       "<path d=\"M443,350 L453,350 L453,360 L443,360 Z\" stroke=\"black\" fill=\"thistle\" stroke-linejoin=\"miter\" />\n",
       "<text x=\"448\" y=\"357\" font-size=\"6\" text-anchor=\"middle\">Rx</text>\n",
       "<path d=\"M25,475.0 L125,475.0\" stroke=\"darkred\" stroke-width=\"3\" fill=\"none\" />\n",
       "<path d=\"M125,425 L153,425 L172,444\" stroke=\"darkred\" stroke-width=\"3\" fill=\"none\" />\n",
       "<path d=\"M178,444 L197,425 L225,425\" stroke=\"darkred\" stroke-width=\"3\" fill=\"none\" />\n",
       "<path d=\"M125,475 L153,475 L172,456\" stroke=\"darkred\" stroke-width=\"3\" fill=\"none\" />\n",
       "<path d=\"M178,456 L197,475 L225,475\" stroke=\"darkred\" stroke-width=\"3\" fill=\"none\" />\n",
       "<path d=\"M150,443 L200,443 L200,457 L150,457 Z\" stroke=\"black\" fill=\"black\" stroke-linejoin=\"miter\" />\n",
       "<text x=\"175\" y=\"480\" font-size=\"7\" text-anchor=\"middle\"></text>\n",
       "<text x=\"175\" y=\"426\" font-size=\"7\" text-anchor=\"middle\">Θ=1.910633</text>\n",
       "<path d=\"M150,443 L200,443 L200,447 L150,447 Z\" stroke=\"black\" fill=\"lightgray\" stroke-linejoin=\"miter\" />\n",
       "<path d=\"M193,450 L203,450 L203,460 L193,460 Z\" stroke=\"black\" fill=\"thistle\" stroke-linejoin=\"miter\" />\n",
       "<text x=\"198\" y=\"457\" font-size=\"6\" text-anchor=\"middle\">Rx</text>\n",
       "<path d=\"M475,325 L525,325\" stroke=\"darkred\" stroke-width=\"3\" fill=\"none\" />\n",
       "<path d=\"M480,340 L489,340 L503,310 L494,310 L480,340 L489,340 Z\" stroke=\"black\" fill=\"gray\" stroke-linejoin=\"miter\" />\n",
       "<text x=\"497\" y=\"338\" font-size=\"7\" text-anchor=\"start\">Φ=pi</text>\n",
       "<path d=\"M325,25.0 L475,25.0\" stroke=\"darkred\" stroke-width=\"3\" fill=\"none\" />\n",
       "<path d=\"M325,75.0 L475,75.0\" stroke=\"darkred\" stroke-width=\"3\" fill=\"none\" />\n",
       "<path d=\"M325,125.0 L475,125.0\" stroke=\"darkred\" stroke-width=\"3\" fill=\"none\" />\n",
       "<path d=\"M375,175.0 L475,175.0\" stroke=\"darkred\" stroke-width=\"3\" fill=\"none\" />\n",
       "<path d=\"M475,225.0 L525,225.0\" stroke=\"darkred\" stroke-width=\"3\" fill=\"none\" />\n",
       "<path d=\"M475,275.0 L525,275.0\" stroke=\"darkred\" stroke-width=\"3\" fill=\"none\" />\n",
       "<path d=\"M475,375.0 L525,375.0\" stroke=\"darkred\" stroke-width=\"3\" fill=\"none\" />\n",
       "<path d=\"M225,425.0 L525,425.0\" stroke=\"darkred\" stroke-width=\"3\" fill=\"none\" />\n",
       "<path d=\"M225,475.0 L525,475.0\" stroke=\"darkred\" stroke-width=\"3\" fill=\"none\" />\n",
       "<path d=\"M525,425 L575,425\" stroke=\"darkred\" stroke-width=\"3\" fill=\"none\" />\n",
       "<path d=\"M530,440 L539,440 L553,410 L544,410 L530,440 L539,440 Z\" stroke=\"black\" fill=\"gray\" stroke-linejoin=\"miter\" />\n",
       "<text x=\"547\" y=\"438\" font-size=\"7\" text-anchor=\"start\">Φ=pi/2</text>\n",
       "<path d=\"M525,375 L575,375\" stroke=\"darkred\" stroke-width=\"3\" fill=\"none\" />\n",
       "<path d=\"M530,390 L539,390 L553,360 L544,360 L530,390 L539,390 Z\" stroke=\"black\" fill=\"gray\" stroke-linejoin=\"miter\" />\n",
       "<text x=\"547\" y=\"388\" font-size=\"7\" text-anchor=\"start\">Φ=pi/2</text>\n",
       "<path d=\"M475,175.0 L525,175.0\" stroke=\"darkred\" stroke-width=\"3\" fill=\"none\" />\n",
       "<path d=\"M528,175 L572,275\" stroke=\"white\" stroke-width=\"6\" fill=\"none\" />\n",
       "<path d=\"M525,175 L528,175 L572,275 L575,275\" stroke=\"darkred\" stroke-width=\"3\" fill=\"none\" />\n",
       "<path d=\"M528,225 L572,325\" stroke=\"white\" stroke-width=\"6\" fill=\"none\" />\n",
       "<path d=\"M525,225 L528,225 L572,325 L575,325\" stroke=\"darkred\" stroke-width=\"3\" fill=\"none\" />\n",
       "<path d=\"M528,275 L572,175\" stroke=\"white\" stroke-width=\"6\" fill=\"none\" />\n",
       "<path d=\"M525,275 L528,275 L572,175 L575,175\" stroke=\"darkred\" stroke-width=\"3\" fill=\"none\" />\n",
       "<path d=\"M528,325 L572,225\" stroke=\"white\" stroke-width=\"6\" fill=\"none\" />\n",
       "<path d=\"M525,325 L528,325 L572,225 L575,225\" stroke=\"darkred\" stroke-width=\"3\" fill=\"none\" />\n",
       "<path d=\"M475,25.0 L575,25.0\" stroke=\"darkred\" stroke-width=\"3\" fill=\"none\" />\n",
       "<path d=\"M475,75.0 L575,75.0\" stroke=\"darkred\" stroke-width=\"3\" fill=\"none\" />\n",
       "<path d=\"M475,125.0 L575,125.0\" stroke=\"darkred\" stroke-width=\"3\" fill=\"none\" />\n",
       "<path d=\"M525,475.0 L575,475.0\" stroke=\"darkred\" stroke-width=\"3\" fill=\"none\" />\n",
       "<path d=\"M575,25.0 L590,25.0\" stroke-width=\"3\" stroke=\"darkred\" stroke-linejoin=\"miter\" fill=\"none\" />\n",
       "<path d=\"M575,75.0 L590,75.0\" stroke-width=\"3\" stroke=\"darkred\" stroke-linejoin=\"miter\" fill=\"none\" />\n",
       "<path d=\"M575,125.0 L590,125.0\" stroke-width=\"3\" stroke=\"darkred\" stroke-linejoin=\"miter\" fill=\"none\" />\n",
       "<path d=\"M575,175.0 L590,175.0\" stroke-width=\"3\" stroke=\"darkred\" stroke-linejoin=\"miter\" fill=\"none\" />\n",
       "<path d=\"M575,225.0 L590,225.0\" stroke-width=\"3\" stroke=\"darkred\" stroke-linejoin=\"miter\" fill=\"none\" />\n",
       "<path d=\"M575,275.0 L590,275.0\" stroke-width=\"3\" stroke=\"darkred\" stroke-linejoin=\"miter\" fill=\"none\" />\n",
       "<path d=\"M575,325.0 L590,325.0\" stroke-width=\"3\" stroke=\"darkred\" stroke-linejoin=\"miter\" fill=\"none\" />\n",
       "<path d=\"M575,375.0 L590,375.0\" stroke-width=\"3\" stroke=\"darkred\" stroke-linejoin=\"miter\" fill=\"none\" />\n",
       "<path d=\"M575,425.0 L590,425.0\" stroke-width=\"3\" stroke=\"darkred\" stroke-linejoin=\"miter\" fill=\"none\" />\n",
       "<path d=\"M575,475.0 L590,475.0\" stroke-width=\"3\" stroke=\"darkred\" stroke-linejoin=\"miter\" fill=\"none\" />\n",
       "<text x=\"600\" y=\"28.0\" font-size=\"10\" text-anchor=\"end\">0</text>\n",
       "<text x=\"600\" y=\"78.0\" font-size=\"10\" text-anchor=\"end\">1</text>\n",
       "<text x=\"600\" y=\"128.0\" font-size=\"10\" text-anchor=\"end\">2</text>\n",
       "<text x=\"600\" y=\"178.0\" font-size=\"10\" text-anchor=\"end\">3</text>\n",
       "<text x=\"600\" y=\"228.0\" font-size=\"10\" text-anchor=\"end\">4</text>\n",
       "<text x=\"600\" y=\"278.0\" font-size=\"10\" text-anchor=\"end\">5</text>\n",
       "<text x=\"600\" y=\"328.0\" font-size=\"10\" text-anchor=\"end\">6</text>\n",
       "<text x=\"600\" y=\"378.0\" font-size=\"10\" text-anchor=\"end\">7</text>\n",
       "<text x=\"600\" y=\"428.0\" font-size=\"10\" text-anchor=\"end\">8</text>\n",
       "<text x=\"600\" y=\"478.0\" font-size=\"10\" text-anchor=\"end\">9</text>\n",
       "<text x=\"0\" y=\"28.0\" font-size=\"10\" text-anchor=\"start\">0</text>\n",
       "<text x=\"0\" y=\"78.0\" font-size=\"10\" text-anchor=\"start\">1</text>\n",
       "<text x=\"0\" y=\"128.0\" font-size=\"10\" text-anchor=\"start\">2</text>\n",
       "<text x=\"0\" y=\"178.0\" font-size=\"10\" text-anchor=\"start\">3</text>\n",
       "<text x=\"0\" y=\"228.0\" font-size=\"10\" text-anchor=\"start\">4</text>\n",
       "<text x=\"0\" y=\"278.0\" font-size=\"10\" text-anchor=\"start\">5</text>\n",
       "<text x=\"0\" y=\"328.0\" font-size=\"10\" text-anchor=\"start\">6</text>\n",
       "<text x=\"0\" y=\"378.0\" font-size=\"10\" text-anchor=\"start\">7</text>\n",
       "<text x=\"0\" y=\"428.0\" font-size=\"10\" text-anchor=\"start\">8</text>\n",
       "<text x=\"0\" y=\"478.0\" font-size=\"10\" text-anchor=\"start\">9</text>\n",
       "</svg>"
      ],
      "text/plain": [
       "<drawsvg.drawing.Drawing at 0x7f30318cc0b0>"
      ]
     },
     "execution_count": 5,
     "metadata": {},
     "output_type": "execute_result"
    }
   ],
   "source": [
    "# Creation of the full circuit\n",
    "c_graph_lin = pcvl.Circuit(10, name=\"C_Graph\")\\\n",
    "    .add((1, 2), pcvl.BS()).add(1, pcvl.PS(math.pi/2))\\\n",
    "    .add((3, 4), pcvl.BS()).add(3, pcvl.PS(math.pi/2))\\\n",
    "    .add((7, 8), pcvl.BS()).add(7, pcvl.PS(math.pi/2))\\\n",
    "    .add(0, cz(1), merge=False)\\\n",
    "    .add((3,4,5,6), pcvl.PERM([2, 3, 0, 1]))\\\n",
    "    .add(4, cz(2), merge=False)\\\n",
    "    .add(8, pcvl.PS(math.pi/2)).add(7, pcvl.PS(math.pi/2))\\\n",
    "    .add((3,4,5,6), pcvl.PERM([2, 3, 0, 1]))\n",
    "\n",
    "pcvl.pdisplay(c_graph_lin, recursive=True, render_size=0.6)"
   ]
  },
  {
   "attachments": {},
   "cell_type": "markdown",
   "id": "e5ea1345",
   "metadata": {},
   "source": [
    "#### Logical states"
   ]
  },
  {
   "attachments": {},
   "cell_type": "markdown",
   "id": "4c9781d0",
   "metadata": {},
   "source": [
    "Logical states are path encoded on the Fock States.\n",
    "\n",
    "Due to post-selection, only few states of the full Fock space are relevant.\n",
    "\n",
    "- Mode 0,5,6,9 are auxiliary.\n",
    "- 1st qubit is path encoded in modes 1 & 2\n",
    "- 2nd qubit in 3 & 4\n",
    "- 3rd qubit in 7 & 8"
   ]
  },
  {
   "cell_type": "code",
   "execution_count": 6,
   "id": "68a7ae69",
   "metadata": {},
   "outputs": [],
   "source": [
    "# Basis for three qubits\n",
    "states = [\n",
    "    pcvl.BasicState([0,1,0,1,0,0,0,1,0,0]),  #|000>\n",
    "    pcvl.BasicState([0,1,0,1,0,0,0,0,1,0]),  #|001>\n",
    "    pcvl.BasicState([0,1,0,0,1,0,0,1,0,0]),  #|010>\n",
    "    pcvl.BasicState([0,1,0,0,1,0,0,0,1,0]),  #|011>\n",
    "    pcvl.BasicState([0,0,1,1,0,0,0,1,0,0]),  #|100>\n",
    "    pcvl.BasicState([0,0,1,1,0,0,0,0,1,0]),  #|101>\n",
    "    pcvl.BasicState([0,0,1,0,1,0,0,1,0,0]),  #|110>\n",
    "    pcvl.BasicState([0,0,1,0,1,0,0,0,1,0])   #|111>\n",
    "]"
   ]
  },
  {
   "attachments": {},
   "cell_type": "markdown",
   "id": "10dc4d3e",
   "metadata": {},
   "source": [
    "### Computation of the output state"
   ]
  },
  {
   "attachments": {},
   "cell_type": "markdown",
   "id": "06fba24d",
   "metadata": {},
   "source": [
    "We will then simulate this circuit using the `SLOS` backend and compute the amplitudes for the output state."
   ]
  },
  {
   "cell_type": "code",
   "execution_count": 8,
   "id": "96ffbb6e",
   "metadata": {},
   "outputs": [],
   "source": [
    "# Simulator\n",
    "backend = pcvl.BackendFactory.get_backend(\"SLOS\")\n",
    "backend.set_circuit(c_graph_lin)"
   ]
  },
  {
   "attachments": {},
   "cell_type": "markdown",
   "id": "edbb6115",
   "metadata": {},
   "source": [
    "We use the state $|000\\rangle$ as input state."
   ]
  },
  {
   "cell_type": "code",
   "execution_count": 10,
   "id": "21e83796",
   "metadata": {},
   "outputs": [
    {
     "name": "stdout",
     "output_type": "stream",
     "text": [
      "The output state is : -0.354*|0,0,1,0,1,0,0,1,0,0>+0.354*|0,0,1,1,0,0,0,0,1,0>-0.354*|0,1,0,0,1,0,0,0,1,0>+0.354*|0,1,0,0,1,0,0,1,0,0>+0.354*|0,1,0,1,0,0,0,0,1,0>+0.354*|0,0,1,0,1,0,0,0,1,0>+0.354*|0,0,1,1,0,0,0,1,0,0>+0.354*|0,1,0,1,0,0,0,1,0,0>\n"
     ]
    }
   ],
   "source": [
    "# Input state\n",
    "input_state = pcvl.BasicState([0,1,0,1,0,0,0,1,0,0])\n",
    "backend.set_input_state(input_state)\n",
    "\n",
    "# Output state\n",
    "output_state = pcvl.StateVector()\n",
    "for state in states:\n",
    "    ampli = backend.prob_amplitude(state)\n",
    "    output_state += ampli*pcvl.StateVector(state)\n",
    "\n",
    "print(\"The output state is :\", output_state)"
   ]
  },
  {
   "attachments": {},
   "cell_type": "markdown",
   "id": "4861c742",
   "metadata": {},
   "source": [
    "As wanted, we obtain the linear graph states for three qubits which is : $\\frac{1}{\\sqrt 8} (|000\\rangle + |001\\rangle + |010\\rangle - |011\\rangle + |100\\rangle + |101\\rangle - |110\\rangle + |111\\rangle )$.\n",
    "\n",
    "This state is also locally equivalent to a $GHZ$ state and we can therefore obtain it by performing local unitary single qubit transformations. To visualize this state using `plot_state_qsphere` from *Qiskit* [[2]](#References) or `plot_schmidt` from *qutip* [[3]](#References), follow the `StatevectorConverter` example from *perceval-interop* [[4]](#References)."
   ]
  },
  {
   "attachments": {},
   "cell_type": "markdown",
   "id": "d79d56af",
   "metadata": {},
   "source": [
    "## Generate a state from a graph"
   ]
  },
  {
   "attachments": {},
   "cell_type": "markdown",
   "id": "880a6f36",
   "metadata": {},
   "source": [
    "We also developed a tool which takes as input a graph from networkx and provides the associated graph state."
   ]
  },
  {
   "cell_type": "code",
   "execution_count": 11,
   "id": "ce985ada",
   "metadata": {},
   "outputs": [
    {
     "data": {
      "image/png": "[encoded data removed]",
      "text/plain": [
       "<Figure size 640x480 with 1 Axes>"
      ]
     },
     "metadata": {},
     "output_type": "display_data"
    }
   ],
   "source": [
    "# Create the graph with networkx\n",
    "G = nx.Graph()\n",
    "G.add_nodes_from([2,1,0,3])\n",
    "\n",
    "G.add_edge(0,1)\n",
    "G.add_edge(1,2)\n",
    "G.add_edge(2,0)\n",
    "G.add_edge(2,3)\n",
    "\n",
    "nx.draw_networkx(G, with_labels=True)"
   ]
  },
  {
   "attachments": {},
   "cell_type": "markdown",
   "id": "7a0fcf0e",
   "metadata": {},
   "source": [
    "We choose the encoding type we want."
   ]
  },
  {
   "cell_type": "code",
   "execution_count": 13,
   "id": "53c0bf45",
   "metadata": {},
   "outputs": [],
   "source": [
    "# Set the generator with the dual rail encoding\n",
    "generator=StateGenerator(Encoding.DUAL_RAIL)"
   ]
  },
  {
   "attachments": {},
   "cell_type": "markdown",
   "id": "9b9148b8",
   "metadata": {},
   "source": [
    "Then we use the generator to create the graph state:"
   ]
  },
  {
   "cell_type": "code",
   "execution_count": 15,
   "id": "6cc34dd9",
   "metadata": {},
   "outputs": [
    {
     "name": "stdout",
     "output_type": "stream",
     "text": [
      "-0.25*|1,0,1,0,0,1,0,1>+0.25*|0,1,1,0,1,0,1,0>+0.25*|1,0,1,0,1,0,0,1>+0.25*|1,0,1,0,1,0,1,0>+0.25*|0,1,1,0,0,1,0,1>-0.25*|0,1,0,1,0,1,1,0>+0.25*|1,0,0,1,1,0,1,0>+0.25*|1,0,0,1,1,0,0,1>-0.25*|0,1,0,1,1,0,1,0>+0.25*|0,1,1,0,1,0,0,1>-0.25*|0,1,1,0,0,1,1,0>+0.25*|1,0,0,1,0,1,0,1>+0.25*|0,1,0,1,0,1,0,1>+0.25*|1,0,1,0,0,1,1,0>-0.25*|1,0,0,1,0,1,1,0>-0.25*|0,1,0,1,1,0,0,1>\n"
     ]
    }
   ],
   "source": [
    "gr_state = generator.graph_state(G)\n",
    "print(gr_state)"
   ]
  },
  {
   "attachments": {},
   "cell_type": "markdown",
   "id": "84f25281",
   "metadata": {},
   "source": [
    "<br/>"
   ]
  },
  {
   "attachments": {},
   "cell_type": "markdown",
   "id": "96b76153",
   "metadata": {},
   "source": [
    "## References"
   ]
  },
  {
   "attachments": {},
   "cell_type": "markdown",
   "id": "44ca8b6a",
   "metadata": {},
   "source": [
    "<a id=\"1\">[1]</a>\n",
    "Marc Hein et al. “Entanglement in graph states and its applications”. In: *arXiv preprint\n",
    "quant-ph/0602096* (2006). https://arxiv.org/abs/quant-ph/0602096\n",
    "\n",
    "<a id=\"2\">[2]</a>\n",
    "https://qiskit.org/documentation/stubs/qiskit.visualization.plot_state_qsphere.html\n",
    "\n",
    "<a id=\"3\">[3]</a>\n",
    "https://nbviewer.org/urls/qutip.org/qutip-tutorials/tutorials-v4/visualization/qubism-and-schmidt-plots.ipynb\n",
    "\n",
    "\n",
    "<a id=\"4\">[4]</a>\n",
    "https://perceval.quandela.net/interopdocs/\n",
    "\n"
   ]
  },
  {
   "cell_type": "code",
   "execution_count": null,
   "id": "a2e6472518c3dd95",
   "metadata": {},
   "outputs": [],
   "source": []
  }
 ],
 "metadata": {
  "language_info": {
   "name": "python"
  }
 },
 "nbformat": 4,
 "nbformat_minor": 5
}
