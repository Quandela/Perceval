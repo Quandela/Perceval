{
 "cells": [
  {
   "cell_type": "markdown",
   "id": "6f925e53",
   "metadata": {
    "pycharm": {
     "name": "#%% md\n"
    }
   },
   "source": [
    "# Boson Sampling\n",
    "\n",
    "We are interested to simulate a boson sample with 14 photons and 60 modes, order of size comparable to what was done in *Boson Sampling with 20 Input Photons and a 60-Mode Interferometer in a* $10^{14}$*-Dimensional Hilbert Space* <a href=\"#references\">[1]</a>"
   ]
  },
  {
   "cell_type": "code",
   "execution_count": 1,
   "id": "3556365c",
   "metadata": {
    "pycharm": {
     "name": "#%%\n"
    }
   },
   "outputs": [],
   "source": [
    "from IPython import display\n",
    "from collections import Counter\n",
    "from tabulate import tabulate\n",
    "from tqdm.auto import tqdm\n",
    "import gzip\n",
    "import pickle\n",
    "import time\n",
    "\n",
    "import sympy as sp\n",
    "import random\n",
    "\n",
    "import perceval as pcvl\n",
    "import perceval.components.base_components as comp"
   ]
  },
  {
   "cell_type": "markdown",
   "id": "0e5cdd67",
   "metadata": {
    "pycharm": {
     "name": "#%% md\n"
    }
   },
   "source": [
    "We define all the needed values below. "
   ]
  },
  {
   "cell_type": "markdown",
   "id": "9835d0b9",
   "metadata": {
    "pycharm": {
     "name": "#%% md\n"
    }
   },
   "source": [
    "## Perfect Boson sampling"
   ]
  },
  {
   "cell_type": "code",
   "execution_count": 2,
   "id": "0857c5c9",
   "metadata": {
    "pycharm": {
     "name": "#%%\n"
    },
    "scrolled": true
   },
   "outputs": [],
   "source": [
    "n = 14       #number of photons at the input\n",
    "m = 60       #number of modes\n",
    "N = 5000000  #number of samplings"
   ]
  },
  {
   "cell_type": "markdown",
   "id": "b65067e8",
   "metadata": {
    "pycharm": {
     "name": "#%% md\n"
    }
   },
   "source": [
    "### Generating a Haar random Unitary with Perceval"
   ]
  },
  {
   "cell_type": "code",
   "execution_count": 3,
   "id": "467a0d45",
   "metadata": {
    "pycharm": {
     "name": "#%%\n"
    },
    "scrolled": true
   },
   "outputs": [],
   "source": [
    "Unitary_60 = pcvl.Matrix.random_unitary(m) #creates a random unitary of dimension 60"
   ]
  },
  {
   "cell_type": "markdown",
   "id": "0bea1801",
   "metadata": {
    "pycharm": {
     "name": "#%% md\n"
    }
   },
   "source": [
    "### A possible linear circuit realization of such matrix would be the following."
   ]
  },
  {
   "cell_type": "markdown",
   "id": "0b8753a7",
   "metadata": {
    "pycharm": {
     "name": "#%% md\n"
    }
   },
   "source": [
    "Here we define a 2-mode unitary circuit that we can use to decompose the 60 mode unitary"
   ]
  },
  {
   "cell_type": "code",
   "execution_count": 4,
   "id": "eb0c9880",
   "metadata": {
    "pycharm": {
     "name": "#%%\n"
    }
   },
   "outputs": [
    {
     "data": {
      "image/svg+xml": [
       "<?xml version=\"1.0\" encoding=\"UTF-8\"?>\n",
       "<svg xmlns=\"http://www.w3.org/2000/svg\" xmlns:xlink=\"http://www.w3.org/1999/xlink\"\n",
       "     width=\"600.0\" height=\"150.0\" viewBox=\"-3.0 0 400 100\">\n",
       "<defs>\n",
       "</defs>\n",
       "<path d=\"M10,25 L25,25\" stroke-width=\"3\" stroke=\"darkred\" stroke-linejoin=\"miter\" fill=\"none\" />\n",
       "<path d=\"M10,75 L25,75\" stroke-width=\"3\" stroke=\"darkred\" stroke-linejoin=\"miter\" fill=\"none\" />\n",
       "<path d=\"M25,25 L53,25 L72,44\" stroke=\"darkred\" stroke-width=\"3\" fill=\"none\" />\n",
       "<path d=\"M78,44 L97,25 L125,25\" stroke=\"darkred\" stroke-width=\"3\" fill=\"none\" />\n",
       "<path d=\"M25,75 L53,75 L72,56\" stroke=\"darkred\" stroke-width=\"3\" fill=\"none\" />\n",
       "<path d=\"M78,56 L97,75 L125,75\" stroke=\"darkred\" stroke-width=\"3\" fill=\"none\" />\n",
       "<path d=\"M50,43 L100,43 L100,57 L50,57 Z\" stroke=\"black\" fill=\"black\" stroke-linejoin=\"miter\" />\n",
       "<text x=\"75\" y=\"85\" font-size=\"7\" text-anchor=\"middle\" dy=\"0em\"></text>\n",
       "<text x=\"75\" y=\"26\" font-size=\"7\" text-anchor=\"middle\" dy=\"0em\"></text>\n",
       "<path d=\"M50,43 L100,43 L100,47 L50,47 Z\" stroke=\"black\" fill=\"lightgray\" stroke-linejoin=\"miter\" />\n",
       "<path d=\"M125,25 L175,25\" stroke=\"darkred\" stroke-width=\"3\" fill=\"none\" />\n",
       "<path d=\"M130,40 L139,40 L153,10 L144,10 L130,40 L139,40 Z\" stroke=\"black\" fill=\"gray\" stroke-linejoin=\"miter\" />\n",
       "<text x=\"147\" y=\"38\" font-size=\"7\" text-anchor=\"start\" dy=\"0em\">Φ=φ_a</text>\n",
       "<path d=\"M125,75 L175,75\" stroke=\"darkred\" stroke-width=\"3\" fill=\"none\" />\n",
       "<path d=\"M175,25 L203,25 L222,44\" stroke=\"darkred\" stroke-width=\"3\" fill=\"none\" />\n",
       "<path d=\"M228,44 L247,25 L275,25\" stroke=\"darkred\" stroke-width=\"3\" fill=\"none\" />\n",
       "<path d=\"M175,75 L203,75 L222,56\" stroke=\"darkred\" stroke-width=\"3\" fill=\"none\" />\n",
       "<path d=\"M228,56 L247,75 L275,75\" stroke=\"darkred\" stroke-width=\"3\" fill=\"none\" />\n",
       "<path d=\"M200,43 L250,43 L250,57 L200,57 Z\" stroke=\"black\" fill=\"black\" stroke-linejoin=\"miter\" />\n",
       "<text x=\"225\" y=\"85\" font-size=\"7\" text-anchor=\"middle\" dy=\"0em\"></text>\n",
       "<text x=\"225\" y=\"26\" font-size=\"7\" text-anchor=\"middle\" dy=\"0em\"></text>\n",
       "<path d=\"M200,43 L250,43 L250,47 L200,47 Z\" stroke=\"black\" fill=\"lightgray\" stroke-linejoin=\"miter\" />\n",
       "<path d=\"M275,75 L325,75\" stroke=\"darkred\" stroke-width=\"3\" fill=\"none\" />\n",
       "<path d=\"M280,90 L289,90 L303,60 L294,60 L280,90 L289,90 Z\" stroke=\"black\" fill=\"gray\" stroke-linejoin=\"miter\" />\n",
       "<text x=\"297\" y=\"88\" font-size=\"7\" text-anchor=\"start\" dy=\"0em\">Φ=φ_b</text>\n",
       "<path d=\"M275,25 L325,25\" stroke=\"darkred\" stroke-width=\"3\" fill=\"none\" />\n",
       "<path d=\"M325,25 L340,25\" stroke-width=\"3\" stroke=\"darkred\" stroke-linejoin=\"miter\" fill=\"none\" />\n",
       "<path d=\"M325,75 L340,75\" stroke-width=\"3\" stroke=\"darkred\" stroke-linejoin=\"miter\" fill=\"none\" />\n",
       "<text x=\"350\" y=\"25\" font-size=\"6\" text-anchor=\"end\" dy=\"0em\">0</text>\n",
       "<text x=\"350\" y=\"75\" font-size=\"6\" text-anchor=\"end\" dy=\"0em\">1</text>\n",
       "<text x=\"0\" y=\"25\" font-size=\"6\" text-anchor=\"start\" dy=\"0em\">0</text>\n",
       "<text x=\"0\" y=\"75\" font-size=\"6\" text-anchor=\"start\" dy=\"0em\">1</text>\n",
       "</svg>"
      ],
      "text/plain": [
       "<drawSvg.drawing.Drawing at 0x7f8f7c963280>"
      ]
     },
     "execution_count": 4,
     "metadata": {},
     "output_type": "execute_result"
    }
   ],
   "source": [
    "mzi = (comp.SimpleBS() // (0, comp.PS(phi=pcvl.Parameter(\"φ_a\")))\n",
    "       // comp.SimpleBS() // (1, comp.PS(phi=pcvl.Parameter(\"φ_b\"))))\n",
    "pcvl.pdisplay(mzi)"
   ]
  },
  {
   "cell_type": "markdown",
   "id": "670392c5",
   "metadata": {
    "pycharm": {
     "name": "#%% md\n"
    }
   },
   "source": [
    "Let us decompose the unitary into a Reck's type circuit <a href=\"#references\">[2]</a> - this makes a huge circuit..."
   ]
  },
  {
   "cell_type": "code",
   "execution_count": 5,
   "id": "1e4d7842",
   "metadata": {
    "pycharm": {
     "name": "#%%\n"
    }
   },
   "outputs": [],
   "source": [
    "Linear_Circuit_60 = pcvl.Circuit.decomposition(Unitary_60, mzi,\n",
    "                                               phase_shifter_fn=comp.PS,\n",
    "                                               shape=\"triangle\")"
   ]
  },
  {
   "cell_type": "markdown",
   "id": "60a16527",
   "metadata": {
    "pycharm": {
     "name": "#%% md\n"
    }
   },
   "source": [
    "### Running Simulation\n",
    "\n",
    "Now we choose the way to perform the simulation with Perceval. The number of photons is within what we could simulate with a `Naive` backend (see [here](https://perceval.quandela.net/docs/backends.html#naive)), however, the output space is far too big just to enumerate and store the states - so let us go with sampling using `CliffordClifford2017` backend (see [here](https://perceval.quandela.net/docs/backends.html#cliffordclifford2017))."
   ]
  },
  {
   "cell_type": "code",
   "execution_count": 6,
   "id": "ed2250fd",
   "metadata": {
    "pycharm": {
     "is_executing": true,
     "name": "#%%\n"
    },
    "scrolled": true
   },
   "outputs": [],
   "source": [
    "Sampling_Backend = pcvl.BackendFactory().get_backend(\"CliffordClifford2017\")"
   ]
  },
  {
   "cell_type": "markdown",
   "id": "d0e1df5a",
   "metadata": {
    "pycharm": {
     "name": "#%% md\n"
    }
   },
   "source": [
    "Select a random input:"
   ]
  },
  {
   "cell_type": "code",
   "execution_count": 7,
   "id": "9b3072b2",
   "metadata": {
    "pycharm": {
     "is_executing": true,
     "name": "#%%\n"
    }
   },
   "outputs": [
    {
     "name": "stdout",
     "output_type": "stream",
     "text": [
      "The input state:  |1,1,0,0,0,0,0,1,0,0,1,0,1,0,0,0,1,0,0,0>\n"
     ]
    }
   ],
   "source": [
    "#one can choose which mode he/she wants at input, or we can choose it randomly \n",
    "def Generating_Input(n, m, modes = None):\n",
    "    \"This function randomly chooses an input with n photons in m modes.\"\n",
    "    if modes == None :\n",
    "        modes = sorted(random.sample(range(m),n))\n",
    "    state = \"|\"\n",
    "    for i in range(m):\n",
    "        state = state + \"0\"*(1 - (i in modes)) +\"1\"*(i in modes)+ \",\"*(i < m-1)\n",
    "    return pcvl.BasicState(state + \">\")\n",
    "\n",
    "input_state = Generating_Input(n, m)\n",
    "print(\"The input state: \", input_state)"
   ]
  },
  {
   "cell_type": "markdown",
   "id": "8318c124",
   "metadata": {
    "pycharm": {
     "name": "#%% md\n"
    }
   },
   "source": [
    "Just to see that it outputs a statevectors of n photon(s) in m modes."
   ]
  },
  {
   "cell_type": "code",
   "execution_count": 8,
   "id": "babc97d4",
   "metadata": {
    "pycharm": {
     "is_executing": true,
     "name": "#%%\n"
    }
   },
   "outputs": [
    {
     "name": "stdout",
     "output_type": "stream",
     "text": [
      "The sampled outputs are:\n",
      "|0,1,0,0,0,1,1,0,0,0,0,1,0,0,0,0,0,2,0,0>\n",
      "|0,0,1,0,0,0,0,0,0,1,2,0,0,1,0,0,0,0,1,0>\n",
      "|0,1,0,0,3,0,0,0,0,0,1,0,0,0,0,0,1,0,0,0>\n",
      "|0,1,0,0,0,1,1,1,0,1,1,0,0,0,0,0,0,0,0,0>\n",
      "|0,0,1,0,1,0,1,0,2,0,1,0,0,0,0,0,0,0,0,0>\n",
      "|0,1,0,1,1,0,1,0,0,0,1,0,0,0,1,0,0,0,0,0>\n",
      "|0,0,0,1,0,0,1,0,0,1,0,1,0,0,0,1,0,0,1,0>\n",
      "|0,1,0,0,1,0,0,0,0,1,0,0,0,0,0,1,0,0,2,0>\n",
      "|0,1,0,0,0,0,0,0,0,0,1,0,0,1,1,1,0,0,1,0>\n",
      "|1,1,1,0,0,0,0,1,2,0,0,0,0,0,0,0,0,0,0,0>\n"
     ]
    }
   ],
   "source": [
    "print(\"The sampled outputs are:\")\n",
    "for _ in range(10): \n",
    "    print(Sampling_Backend(Unitary_60).sample(input_state))"
   ]
  },
  {
   "cell_type": "markdown",
   "id": "f614accc",
   "metadata": {
    "pycharm": {
     "name": "#%% md\n"
    }
   },
   "source": [
    "We carry out the sampling, we do it N times, it will take some time, let us save the results to a file:"
   ]
  },
  {
   "cell_type": "code",
   "execution_count": 9,
   "id": "7dc4f7c8",
   "metadata": {
    "pycharm": {
     "is_executing": true,
     "name": "#%%\n"
    }
   },
   "outputs": [],
   "source": [
    "# if we want to launch parallel process\n",
    "worker_id=1\n",
    "\n",
    "#store the input and the unitary\n",
    "with open(\"%dphotons_%dmodes_%dsamples-worker%s-unitary.pkl\" %(n,m,N,worker_id), 'wb') as f:\n",
    "    pickle.dump(Unitary_60, f)\n",
    "\n",
    "with open(\"%dphotons_%dmodes_%dsamples-worker%s-inputstate.pkl\" %(n,m,N,worker_id), 'w') as f:\n",
    "    f.write(str(input_state)+\"\\n\")\n",
    "\n",
    "\n",
    "with gzip.open(\"%dphotons_%dmodes_%dsamples-worker%s-samples.txt.gz\" %(n,m,N,worker_id), 'wb') as f:\n",
    "    start = time.time()\n",
    "    for i in range(N):\n",
    "        f.write((str(Sampling_Backend(Unitary_60).sample(pcvl.BasicState(input_state)))+\"\\n\").encode());\n",
    "    end = time.time()\n",
    "    f.write(str(\"==> %d\\n\" % (end-start)).encode())\n",
    "f.close()"
   ]
  },
  {
   "cell_type": "markdown",
   "id": "b2c2db31",
   "metadata": {
    "pycharm": {
     "name": "#%% md\n"
    }
   },
   "source": [
    "A little after (4 hours on a 3.1GHz Intel) - we do have 5M samples. We launched this on 32 threads for 2 days and collected 300 batches of 5M samples"
   ]
  },
  {
   "cell_type": "markdown",
   "id": "f3537f2c",
   "metadata": {
    "pycharm": {
     "name": "#%% md\n"
    }
   },
   "source": [
    "Let us analyze the K-first mode bunching on these samples"
   ]
  },
  {
   "cell_type": "code",
   "execution_count": 10,
   "id": "fa8b1bce",
   "metadata": {
    "pycharm": {
     "is_executing": true,
     "name": "#%%\n"
    }
   },
   "outputs": [],
   "source": [
    "import gzip"
   ]
  },
  {
   "cell_type": "code",
   "execution_count": 11,
   "id": "292db43a",
   "metadata": {
    "pycharm": {
     "is_executing": true,
     "name": "#%%\n"
    }
   },
   "outputs": [
    {
     "name": "stdout",
     "output_type": "stream",
     "text": [
      "5000 samples\n",
      "Bunching Distribution: 0\t0\t1\t1\t2\t7\t11\t22\t40\t74\t164\t198\t96\t257\t237\t694\t559\t509\t1713\t415\n"
     ]
    }
   ],
   "source": [
    "worker_id = 1\n",
    "count = 0\n",
    "bunching_distribution = Counter()\n",
    "\n",
    "with gzip.open(\"%dphotons_%dmodes_%dsamples-worker%s-samples.txt.gz\"%(n,m,N,worker_id), \"rt\") as f:\n",
    "    for l in f:\n",
    "        l = l.strip()\n",
    "        if l.startswith(\"|\") and l.endswith(\">\"):\n",
    "            try:\n",
    "                st = pcvl.BasicState(l)\n",
    "                count+=1\n",
    "                bunching_distribution[st.photon2mode(st.n-1)]+=1\n",
    "            except Exception:\n",
    "                pass\n",
    "print(count, \"samples\")\n",
    "print(\"Bunching Distribution:\", \"\\t\".join([str(bunching_distribution[k]) for k in range(m)]))"
   ]
  },
  {
   "cell_type": "markdown",
   "id": "43f3c437",
   "metadata": {
    "pycharm": {
     "name": "#%% md\n"
    }
   },
   "source": [
    "These numbers have been used on 300 samples for certification - see our article on Perceval for more details."
   ]
  },
  {
   "cell_type": "markdown",
   "id": "b3c36044",
   "metadata": {
    "pycharm": {
     "name": "#%% md\n"
    }
   },
   "source": [
    "## Boson sampling with non perfect sources\n",
    "\n",
    "Let us explore around performing Boson sampling with a non perfect source. We declare a source with 90% brightness and purity."
   ]
  },
  {
   "cell_type": "code",
   "execution_count": 12,
   "id": "34a50079",
   "metadata": {
    "pycharm": {
     "is_executing": true,
     "name": "#%%\n"
    },
    "scrolled": true
   },
   "outputs": [],
   "source": [
    "source = pcvl.Source(brightness=0.90, purity=0.9)\n",
    "QPU = pcvl.Processor({1:source,2:source, 3:source }, Linear_Circuit_60)"
   ]
  },
  {
   "cell_type": "markdown",
   "id": "1ac39328",
   "metadata": {
    "pycharm": {
     "name": "#%% md\n"
    }
   },
   "source": [
    "We can see what is the source distribution, so how likely a state at the input of the linear circuit will be."
   ]
  },
  {
   "cell_type": "code",
   "execution_count": 13,
   "id": "1a8defbd",
   "metadata": {
    "pycharm": {
     "is_executing": true,
     "name": "#%%\n"
    },
    "scrolled": true
   },
   "outputs": [
    {
     "data": {
      "text/html": [
       "<table>\n",
       "<thead>\n",
       "<tr><th>state                                    </th><th style=\"text-align: right;\">  probability</th></tr>\n",
       "</thead>\n",
       "<tbody>\n",
       "<tr><td>|0,1,1,1,0,0,0,0,0,0,0,0,0,0,0,0,0,0,0,0&gt;</td><td style=\"text-align: right;\">     0.531441</td></tr>\n",
       "<tr><td>|0,0,1,1,0,0,0,0,0,0,0,0,0,0,0,0,0,0,0,0&gt;</td><td style=\"text-align: right;\">     0.06561 </td></tr>\n",
       "<tr><td>|0,1,0,1,0,0,0,0,0,0,0,0,0,0,0,0,0,0,0,0&gt;</td><td style=\"text-align: right;\">     0.06561 </td></tr>\n",
       "<tr><td>|0,1,1,0,0,0,0,0,0,0,0,0,0,0,0,0,0,0,0,0&gt;</td><td style=\"text-align: right;\">     0.06561 </td></tr>\n",
       "<tr><td>|0,2,1,1,0,0,0,0,0,0,0,0,0,0,0,0,0,0,0,0&gt;</td><td style=\"text-align: right;\">     0.059049</td></tr>\n",
       "<tr><td>|0,1,2,1,0,0,0,0,0,0,0,0,0,0,0,0,0,0,0,0&gt;</td><td style=\"text-align: right;\">     0.059049</td></tr>\n",
       "<tr><td>|0,1,1,2,0,0,0,0,0,0,0,0,0,0,0,0,0,0,0,0&gt;</td><td style=\"text-align: right;\">     0.059049</td></tr>\n",
       "<tr><td>|0,0,1,0,0,0,0,0,0,0,0,0,0,0,0,0,0,0,0,0&gt;</td><td style=\"text-align: right;\">     0.0081  </td></tr>\n",
       "<tr><td>|0,1,0,0,0,0,0,0,0,0,0,0,0,0,0,0,0,0,0,0&gt;</td><td style=\"text-align: right;\">     0.0081  </td></tr>\n",
       "<tr><td>|0,0,0,1,0,0,0,0,0,0,0,0,0,0,0,0,0,0,0,0&gt;</td><td style=\"text-align: right;\">     0.0081  </td></tr>\n",
       "<tr><td>|0,0,1,2,0,0,0,0,0,0,0,0,0,0,0,0,0,0,0,0&gt;</td><td style=\"text-align: right;\">     0.00729 </td></tr>\n",
       "<tr><td>|0,2,1,0,0,0,0,0,0,0,0,0,0,0,0,0,0,0,0,0&gt;</td><td style=\"text-align: right;\">     0.00729 </td></tr>\n",
       "<tr><td>|0,1,0,2,0,0,0,0,0,0,0,0,0,0,0,0,0,0,0,0&gt;</td><td style=\"text-align: right;\">     0.00729 </td></tr>\n",
       "<tr><td>|0,1,2,0,0,0,0,0,0,0,0,0,0,0,0,0,0,0,0,0&gt;</td><td style=\"text-align: right;\">     0.00729 </td></tr>\n",
       "<tr><td>|0,0,2,1,0,0,0,0,0,0,0,0,0,0,0,0,0,0,0,0&gt;</td><td style=\"text-align: right;\">     0.00729 </td></tr>\n",
       "<tr><td>|0,2,0,1,0,0,0,0,0,0,0,0,0,0,0,0,0,0,0,0&gt;</td><td style=\"text-align: right;\">     0.00729 </td></tr>\n",
       "<tr><td>|0,2,1,2,0,0,0,0,0,0,0,0,0,0,0,0,0,0,0,0&gt;</td><td style=\"text-align: right;\">     0.006561</td></tr>\n",
       "<tr><td>|0,1,2,2,0,0,0,0,0,0,0,0,0,0,0,0,0,0,0,0&gt;</td><td style=\"text-align: right;\">     0.006561</td></tr>\n",
       "<tr><td>|0,2,2,1,0,0,0,0,0,0,0,0,0,0,0,0,0,0,0,0&gt;</td><td style=\"text-align: right;\">     0.006561</td></tr>\n",
       "<tr><td>|0,0,0,0,0,0,0,0,0,0,0,0,0,0,0,0,0,0,0,0&gt;</td><td style=\"text-align: right;\">     0.001   </td></tr>\n",
       "</tbody>\n",
       "</table>"
      ],
      "text/plain": [
       "<IPython.core.display.HTML object>"
      ]
     },
     "metadata": {},
     "output_type": "display_data"
    }
   ],
   "source": [
    "pcvl.pdisplay(QPU.source_distribution, precision=1e-7, max_v=20)"
   ]
  },
  {
   "cell_type": "markdown",
   "id": "52ec00fc",
   "metadata": {
    "pycharm": {
     "name": "#%% md\n"
    }
   },
   "source": [
    "[1]: Hui Wang, et al. Boson Sampling with 20 Input Photons and a 60-Mode Interferometer in a $10^{14}$-Dimensional Hilbert Space. [Physical Review Letters](https://link.aps.org/doi/10.1103/PhysRevLett.123.250503), 123(25):250503, December 2019. Publisher: American Physical Society.\n",
    "\n",
    "[2]: Michael Reck, Anton Zeilinger, Herbert J Bernstein, and Philip Bertani. Experimental realization of any discrete unitary operator. [Physical review letters](https://journals.aps.org/prl/abstract/10.1103/PhysRevLett.73.58), 73(1):58, 1994."
   ]
  }
 ],
 "metadata": {
  "kernelspec": {
   "display_name": "Python 3 (ipykernel)",
   "language": "python",
   "name": "python3"
  },
  "language_info": {
   "codemirror_mode": {
    "name": "ipython",
    "version": 3
   },
   "file_extension": ".py",
   "mimetype": "text/x-python",
   "name": "python",
   "nbconvert_exporter": "python",
   "pygments_lexer": "ipython3",
   "version": "3.9.7"
  }
 },
 "nbformat": 4,
 "nbformat_minor": 5
}
