{
 "cells": [
  {
   "cell_type": "markdown",
   "id": "dd3d8d19",
   "metadata": {
    "pycharm": {
     "name": "#%% md\n"
    }
   },
   "source": [
    "# Rewriting Rules in Perceval\n",
    "\n",
    "The aim of this notebook is to rewrite a circuit using rewriting rules based on the article: LOv-Calculus: A Graphical Language for Linear Optical Quantum Circuits.\n",
    "\n",
    "We show how to use these rewriting rules to generate unique triangular normal forms."
   ]
  },
  {
   "cell_type": "code",
   "execution_count": 1,
   "id": "96bdb88a",
   "metadata": {
    "pycharm": {
     "name": "#%%\n"
    }
   },
   "outputs": [
    {
     "name": "stderr",
     "output_type": "stream",
     "text": [
      "C:\\Users\\AppolloniePipon\\PycharmProjects\\PercevalDev\\venv\\lib\\site-packages\\drawSvg\\raster.py:18: RuntimeWarning: Failed to import CairoSVG. drawSvg will be unable to output PNG or other raster image formats. See https://github.com/cduck/drawSvg#prerequisites for more details.\n",
      "Original OSError: no library called \"cairo-2\" was found\n",
      "no library called \"cairo\" was found\n",
      "no library called \"libcairo-2\" was found\n",
      "cannot load library 'libcairo.so.2': error 0x7e\n",
      "cannot load library 'libcairo.2.dylib': error 0x7e\n",
      "cannot load library 'libcairo-2.dll': error 0x7e\n",
      "  warnings.warn(msg, RuntimeWarning)\n"
     ]
    }
   ],
   "source": [
    "import perceval as pcvl\n",
    "import perceval.lib.phys as phys\n",
    "from perceval.algorithm.optimize import optimize\n",
    "from perceval.algorithm.norm import frobenius\n",
    "import random"
   ]
  },
  {
   "cell_type": "markdown",
   "id": "ba837e96",
   "metadata": {
    "pycharm": {
     "name": "#%% md\n"
    }
   },
   "source": [
    "This is the first rewrite rule used in this noteobok. It is the 37th in the article."
   ]
  },
  {
   "cell_type": "markdown",
   "id": "09923a89",
   "metadata": {
    "pycharm": {
     "name": "#%% md\n"
    }
   },
   "source": [
    "![](../_static/img/rewrite37.png)"
   ]
  },
  {
   "cell_type": "code",
   "execution_count": 2,
   "id": "ede320ce",
   "metadata": {
    "pycharm": {
     "name": "#%%\n"
    }
   },
   "outputs": [
    {
     "data": {
      "image/svg+xml": [
       "<?xml version=\"1.0\" encoding=\"UTF-8\"?>\n",
       "<svg xmlns=\"http://www.w3.org/2000/svg\" xmlns:xlink=\"http://www.w3.org/1999/xlink\"\n",
       "     width=\"453.0\" height=\"200\" viewBox=\"-3.0 0 453.0 200\">\n",
       "<defs>\n",
       "</defs>\n",
       "<path d=\"M10,25 L25,25\" stroke-width=\"3\" stroke=\"darkred\" stroke-linejoin=\"miter\" fill=\"none\" />\n",
       "<text x=\"0\" y=\"25\" font-size=\"6\" text-anchor=\"start\" dy=\"0em\">0</text>\n",
       "<path d=\"M10,75 L25,75\" stroke-width=\"3\" stroke=\"darkred\" stroke-linejoin=\"miter\" fill=\"none\" />\n",
       "<text x=\"0\" y=\"75\" font-size=\"6\" text-anchor=\"start\" dy=\"0em\">1</text>\n",
       "<path d=\"M10,125 L25,125\" stroke-width=\"3\" stroke=\"darkred\" stroke-linejoin=\"miter\" fill=\"none\" />\n",
       "<text x=\"0\" y=\"125\" font-size=\"6\" text-anchor=\"start\" dy=\"0em\">2</text>\n",
       "<path d=\"M27,2 L423,2 L423,148 L27,148 Z\" stroke=\"none\" fill=\"lightgreen\" stroke-linejoin=\"miter\" />\n",
       "<path d=\"M25,25 L75,25\" stroke=\"darkred\" stroke-width=\"3\" fill=\"none\" />\n",
       "<path d=\"M30,40 L39,40 L53,10 L44,10 L30,40 L39,40 Z\" stroke=\"black\" fill=\"gray\" stroke-linejoin=\"miter\" />\n",
       "<text x=\"47\" y=\"38\" font-size=\"7\" text-anchor=\"start\" dy=\"0em\">φ=phi0</text>\n",
       "<path d=\"M25,75 L75,75\" stroke=\"darkred\" stroke-width=\"3\" fill=\"none\" />\n",
       "<path d=\"M75,25 L103,25 L122,44\" stroke=\"darkred\" stroke-width=\"3\" fill=\"none\" />\n",
       "<path d=\"M128,44 L147,25 L175,25\" stroke=\"darkred\" stroke-width=\"3\" fill=\"none\" />\n",
       "<path d=\"M75,75 L103,75 L122,56\" stroke=\"darkred\" stroke-width=\"3\" fill=\"none\" />\n",
       "<path d=\"M128,56 L147,75 L175,75\" stroke=\"darkred\" stroke-width=\"3\" fill=\"none\" />\n",
       "<path d=\"M100,43 L150,43 L150,57 L100,57 Z\" stroke=\"black\" fill=\"black\" stroke-linejoin=\"miter\" />\n",
       "<text x=\"125\" y=\"86\" font-size=\"7\" text-anchor=\"middle\" dy=\"0em\"></text>\n",
       "<text x=\"125\" y=\"26\" font-size=\"7\" text-anchor=\"middle\" dy=\"0em\">theta=theta1</text>\n",
       "<path d=\"M100,43 L150,43 L150,47 L100,47 Z\" stroke=\"black\" fill=\"lightgray\" stroke-linejoin=\"miter\" />\n",
       "<path d=\"M175,25 L225,25\" stroke=\"darkred\" stroke-width=\"3\" fill=\"none\" />\n",
       "<path d=\"M180,40 L189,40 L203,10 L194,10 L180,40 L189,40 Z\" stroke=\"black\" fill=\"gray\" stroke-linejoin=\"miter\" />\n",
       "<text x=\"197\" y=\"38\" font-size=\"7\" text-anchor=\"start\" dy=\"0em\">φ=phi2</text>\n",
       "<path d=\"M175,75 L225,75\" stroke=\"darkred\" stroke-width=\"3\" fill=\"none\" />\n",
       "<path d=\"M180,90 L189,90 L203,60 L194,60 L180,90 L189,90 Z\" stroke=\"black\" fill=\"gray\" stroke-linejoin=\"miter\" />\n",
       "<text x=\"197\" y=\"88\" font-size=\"7\" text-anchor=\"start\" dy=\"0em\">φ=phi1</text>\n",
       "<path d=\"M25,125 L225,125\" stroke=\"darkred\" stroke-width=\"3\" fill=\"none\" />\n",
       "<path d=\"M225,75 L253,75 L272,94\" stroke=\"darkred\" stroke-width=\"3\" fill=\"none\" />\n",
       "<path d=\"M278,94 L297,75 L325,75\" stroke=\"darkred\" stroke-width=\"3\" fill=\"none\" />\n",
       "<path d=\"M225,125 L253,125 L272,106\" stroke=\"darkred\" stroke-width=\"3\" fill=\"none\" />\n",
       "<path d=\"M278,106 L297,125 L325,125\" stroke=\"darkred\" stroke-width=\"3\" fill=\"none\" />\n",
       "<path d=\"M250,93 L300,93 L300,107 L250,107 Z\" stroke=\"black\" fill=\"black\" stroke-linejoin=\"miter\" />\n",
       "<text x=\"275\" y=\"136\" font-size=\"7\" text-anchor=\"middle\" dy=\"0em\"></text>\n",
       "<text x=\"275\" y=\"76\" font-size=\"7\" text-anchor=\"middle\" dy=\"0em\">theta=theta2</text>\n",
       "<path d=\"M250,93 L300,93 L300,97 L250,97 Z\" stroke=\"black\" fill=\"lightgray\" stroke-linejoin=\"miter\" />\n",
       "<path d=\"M225,25 L325,25\" stroke=\"darkred\" stroke-width=\"3\" fill=\"none\" />\n",
       "<path d=\"M325,25 L353,25 L372,44\" stroke=\"darkred\" stroke-width=\"3\" fill=\"none\" />\n",
       "<path d=\"M378,44 L397,25 L425,25\" stroke=\"darkred\" stroke-width=\"3\" fill=\"none\" />\n",
       "<path d=\"M325,75 L353,75 L372,56\" stroke=\"darkred\" stroke-width=\"3\" fill=\"none\" />\n",
       "<path d=\"M378,56 L397,75 L425,75\" stroke=\"darkred\" stroke-width=\"3\" fill=\"none\" />\n",
       "<path d=\"M350,43 L400,43 L400,57 L350,57 Z\" stroke=\"black\" fill=\"black\" stroke-linejoin=\"miter\" />\n",
       "<text x=\"375\" y=\"86\" font-size=\"7\" text-anchor=\"middle\" dy=\"0em\"></text>\n",
       "<text x=\"375\" y=\"26\" font-size=\"7\" text-anchor=\"middle\" dy=\"0em\">theta=theta3</text>\n",
       "<path d=\"M350,43 L400,43 L400,47 L350,47 Z\" stroke=\"black\" fill=\"lightgray\" stroke-linejoin=\"miter\" />\n",
       "<path d=\"M325,125 L425,125\" stroke=\"darkred\" stroke-width=\"3\" fill=\"none\" />\n",
       "<path d=\"M27,2 L423,2 L423,148 L27,148 Z\" stroke=\"black\" fill=\"none\" stroke-dasharray=\"1,2\" stroke-linejoin=\"miter\" />\n",
       "<text x=\"29\" y=\"155\" font-size=\"8\" text-anchor=\"start\" dy=\"0em\">PATTERN1</text>\n",
       "<path d=\"M425,25 L440,25\" stroke-width=\"3\" stroke=\"darkred\" stroke-linejoin=\"miter\" fill=\"none\" />\n",
       "<text x=\"450\" y=\"25\" font-size=\"6\" text-anchor=\"end\" dy=\"0em\">0</text>\n",
       "<path d=\"M425,75 L440,75\" stroke-width=\"3\" stroke=\"darkred\" stroke-linejoin=\"miter\" fill=\"none\" />\n",
       "<text x=\"450\" y=\"75\" font-size=\"6\" text-anchor=\"end\" dy=\"0em\">1</text>\n",
       "<path d=\"M425,125 L440,125\" stroke-width=\"3\" stroke=\"darkred\" stroke-linejoin=\"miter\" fill=\"none\" />\n",
       "<text x=\"450\" y=\"125\" font-size=\"6\" text-anchor=\"end\" dy=\"0em\">2</text>\n",
       "</svg>"
      ],
      "text/plain": [
       "<drawSvg.drawing.Drawing at 0x25833ba2b90>"
      ]
     },
     "execution_count": 2,
     "metadata": {},
     "output_type": "execute_result"
    }
   ],
   "source": [
    "pattern1=pcvl.Circuit(3, name=\"pattern1\")//(0,phys.PS(pcvl.P(\"phi0\")))//(0,phys.BS(theta=pcvl.P(\"theta1\")))//(0,phys.PS(pcvl.P(\"phi2\")))//(1,phys.PS(pcvl.P(\"phi1\")))//(1,phys.BS(theta=pcvl.P(\"theta2\")))//(0,phys.BS(theta=pcvl.P(\"theta3\")))\n",
    "pattern1._color = \"lightgreen\"\n",
    "pcvl.pdisplay(pcvl.Circuit(3).add(0,pattern1,False), recursive=True)"
   ]
  },
  {
   "cell_type": "code",
   "execution_count": 3,
   "id": "1e1ee73a",
   "metadata": {
    "pycharm": {
     "name": "#%%\n"
    }
   },
   "outputs": [
    {
     "data": {
      "image/svg+xml": [
       "<?xml version=\"1.0\" encoding=\"UTF-8\"?>\n",
       "<svg xmlns=\"http://www.w3.org/2000/svg\" xmlns:xlink=\"http://www.w3.org/1999/xlink\"\n",
       "     width=\"503.0\" height=\"200\" viewBox=\"-3.0 0 503.0 200\">\n",
       "<defs>\n",
       "</defs>\n",
       "<path d=\"M10,25 L25,25\" stroke-width=\"3\" stroke=\"darkred\" stroke-linejoin=\"miter\" fill=\"none\" />\n",
       "<text x=\"0\" y=\"25\" font-size=\"6\" text-anchor=\"start\" dy=\"0em\">0</text>\n",
       "<path d=\"M10,75 L25,75\" stroke-width=\"3\" stroke=\"darkred\" stroke-linejoin=\"miter\" fill=\"none\" />\n",
       "<text x=\"0\" y=\"75\" font-size=\"6\" text-anchor=\"start\" dy=\"0em\">1</text>\n",
       "<path d=\"M10,125 L25,125\" stroke-width=\"3\" stroke=\"darkred\" stroke-linejoin=\"miter\" fill=\"none\" />\n",
       "<text x=\"0\" y=\"125\" font-size=\"6\" text-anchor=\"start\" dy=\"0em\">2</text>\n",
       "<path d=\"M27,2 L473,2 L473,148 L27,148 Z\" stroke=\"none\" fill=\"lightgreen\" stroke-linejoin=\"miter\" />\n",
       "<path d=\"M25,25 L75,25\" stroke=\"darkred\" stroke-width=\"3\" fill=\"none\" />\n",
       "<path d=\"M30,40 L39,40 L53,10 L44,10 L30,40 L39,40 Z\" stroke=\"black\" fill=\"gray\" stroke-linejoin=\"miter\" />\n",
       "<text x=\"47\" y=\"38\" font-size=\"7\" text-anchor=\"start\" dy=\"0em\">φ=beta2</text>\n",
       "<path d=\"M25,75 L75,75\" stroke=\"darkred\" stroke-width=\"3\" fill=\"none\" />\n",
       "<path d=\"M30,90 L39,90 L53,60 L44,60 L30,90 L39,90 Z\" stroke=\"black\" fill=\"gray\" stroke-linejoin=\"miter\" />\n",
       "<text x=\"47\" y=\"88\" font-size=\"7\" text-anchor=\"start\" dy=\"0em\">φ=beta1</text>\n",
       "<path d=\"M25,125 L75,125\" stroke=\"darkred\" stroke-width=\"3\" fill=\"none\" />\n",
       "<path d=\"M75,75 L103,75 L122,94\" stroke=\"darkred\" stroke-width=\"3\" fill=\"none\" />\n",
       "<path d=\"M128,94 L147,75 L175,75\" stroke=\"darkred\" stroke-width=\"3\" fill=\"none\" />\n",
       "<path d=\"M75,125 L103,125 L122,106\" stroke=\"darkred\" stroke-width=\"3\" fill=\"none\" />\n",
       "<path d=\"M128,106 L147,125 L175,125\" stroke=\"darkred\" stroke-width=\"3\" fill=\"none\" />\n",
       "<path d=\"M100,93 L150,93 L150,107 L100,107 Z\" stroke=\"black\" fill=\"black\" stroke-linejoin=\"miter\" />\n",
       "<text x=\"125\" y=\"136\" font-size=\"7\" text-anchor=\"middle\" dy=\"0em\"></text>\n",
       "<text x=\"125\" y=\"76\" font-size=\"7\" text-anchor=\"middle\" dy=\"0em\">theta=alpha1</text>\n",
       "<path d=\"M100,93 L150,93 L150,97 L100,97 Z\" stroke=\"black\" fill=\"lightgray\" stroke-linejoin=\"miter\" />\n",
       "<path d=\"M75,25 L175,25\" stroke=\"darkred\" stroke-width=\"3\" fill=\"none\" />\n",
       "<path d=\"M175,25 L203,25 L222,44\" stroke=\"darkred\" stroke-width=\"3\" fill=\"none\" />\n",
       "<path d=\"M228,44 L247,25 L275,25\" stroke=\"darkred\" stroke-width=\"3\" fill=\"none\" />\n",
       "<path d=\"M175,75 L203,75 L222,56\" stroke=\"darkred\" stroke-width=\"3\" fill=\"none\" />\n",
       "<path d=\"M228,56 L247,75 L275,75\" stroke=\"darkred\" stroke-width=\"3\" fill=\"none\" />\n",
       "<path d=\"M200,43 L250,43 L250,57 L200,57 Z\" stroke=\"black\" fill=\"black\" stroke-linejoin=\"miter\" />\n",
       "<text x=\"225\" y=\"86\" font-size=\"7\" text-anchor=\"middle\" dy=\"0em\"></text>\n",
       "<text x=\"225\" y=\"26\" font-size=\"7\" text-anchor=\"middle\" dy=\"0em\">theta=alpha2</text>\n",
       "<path d=\"M200,43 L250,43 L250,47 L200,47 Z\" stroke=\"black\" fill=\"lightgray\" stroke-linejoin=\"miter\" />\n",
       "<path d=\"M275,75 L325,75\" stroke=\"darkred\" stroke-width=\"3\" fill=\"none\" />\n",
       "<path d=\"M280,90 L289,90 L303,60 L294,60 L280,90 L289,90 Z\" stroke=\"black\" fill=\"gray\" stroke-linejoin=\"miter\" />\n",
       "<text x=\"297\" y=\"88\" font-size=\"7\" text-anchor=\"start\" dy=\"0em\">φ=beta3</text>\n",
       "<path d=\"M175,125 L325,125\" stroke=\"darkred\" stroke-width=\"3\" fill=\"none\" />\n",
       "<path d=\"M325,75 L353,75 L372,94\" stroke=\"darkred\" stroke-width=\"3\" fill=\"none\" />\n",
       "<path d=\"M378,94 L397,75 L425,75\" stroke=\"darkred\" stroke-width=\"3\" fill=\"none\" />\n",
       "<path d=\"M325,125 L353,125 L372,106\" stroke=\"darkred\" stroke-width=\"3\" fill=\"none\" />\n",
       "<path d=\"M378,106 L397,125 L425,125\" stroke=\"darkred\" stroke-width=\"3\" fill=\"none\" />\n",
       "<path d=\"M350,93 L400,93 L400,107 L350,107 Z\" stroke=\"black\" fill=\"black\" stroke-linejoin=\"miter\" />\n",
       "<text x=\"375\" y=\"136\" font-size=\"7\" text-anchor=\"middle\" dy=\"0em\"></text>\n",
       "<text x=\"375\" y=\"76\" font-size=\"7\" text-anchor=\"middle\" dy=\"0em\">theta=alpha3</text>\n",
       "<path d=\"M350,93 L400,93 L400,97 L350,97 Z\" stroke=\"black\" fill=\"lightgray\" stroke-linejoin=\"miter\" />\n",
       "<path d=\"M275,25 L325,25\" stroke=\"darkred\" stroke-width=\"3\" fill=\"none\" />\n",
       "<path d=\"M280,40 L289,40 L303,10 L294,10 L280,40 L289,40 Z\" stroke=\"black\" fill=\"gray\" stroke-linejoin=\"miter\" />\n",
       "<text x=\"297\" y=\"38\" font-size=\"7\" text-anchor=\"start\" dy=\"0em\">φ=beta4</text>\n",
       "<path d=\"M425,75 L475,75\" stroke=\"darkred\" stroke-width=\"3\" fill=\"none\" />\n",
       "<path d=\"M430,90 L439,90 L453,60 L444,60 L430,90 L439,90 Z\" stroke=\"black\" fill=\"gray\" stroke-linejoin=\"miter\" />\n",
       "<text x=\"447\" y=\"88\" font-size=\"7\" text-anchor=\"start\" dy=\"0em\">φ=beta5</text>\n",
       "<path d=\"M425,125 L475,125\" stroke=\"darkred\" stroke-width=\"3\" fill=\"none\" />\n",
       "<path d=\"M430,140 L439,140 L453,110 L444,110 L430,140 L439,140 Z\" stroke=\"black\" fill=\"gray\" stroke-linejoin=\"miter\" />\n",
       "<text x=\"447\" y=\"138\" font-size=\"7\" text-anchor=\"start\" dy=\"0em\">φ=beta6</text>\n",
       "<path d=\"M325,25 L475,25\" stroke=\"darkred\" stroke-width=\"3\" fill=\"none\" />\n",
       "<path d=\"M27,2 L473,2 L473,148 L27,148 Z\" stroke=\"black\" fill=\"none\" stroke-dasharray=\"1,2\" stroke-linejoin=\"miter\" />\n",
       "<text x=\"29\" y=\"155\" font-size=\"8\" text-anchor=\"start\" dy=\"0em\">REWRITE</text>\n",
       "<path d=\"M475,25 L490,25\" stroke-width=\"3\" stroke=\"darkred\" stroke-linejoin=\"miter\" fill=\"none\" />\n",
       "<text x=\"500\" y=\"25\" font-size=\"6\" text-anchor=\"end\" dy=\"0em\">0</text>\n",
       "<path d=\"M475,75 L490,75\" stroke-width=\"3\" stroke=\"darkred\" stroke-linejoin=\"miter\" fill=\"none\" />\n",
       "<text x=\"500\" y=\"75\" font-size=\"6\" text-anchor=\"end\" dy=\"0em\">1</text>\n",
       "<path d=\"M475,125 L490,125\" stroke-width=\"3\" stroke=\"darkred\" stroke-linejoin=\"miter\" fill=\"none\" />\n",
       "<text x=\"500\" y=\"125\" font-size=\"6\" text-anchor=\"end\" dy=\"0em\">2</text>\n",
       "</svg>"
      ],
      "text/plain": [
       "<drawSvg.drawing.Drawing at 0x25833be96f0>"
      ]
     },
     "execution_count": 3,
     "metadata": {},
     "output_type": "execute_result"
    }
   ],
   "source": [
    "rewrite1=pcvl.Circuit(3, name=\"rewrite\")//(0,phys.PS(pcvl.P(\"beta2\")))//(1,phys.PS(pcvl.P(\"beta1\")))//(1,phys.BS(theta=pcvl.P(\"alpha1\")))//(0,phys.BS(theta=pcvl.P(\"alpha2\")))//(1,phys.PS(pcvl.P(\"beta3\")))//(1,phys.BS(theta=pcvl.P(\"alpha3\")))//(0,phys.PS(pcvl.P(\"beta4\")))//(1,phys.PS(pcvl.P(\"beta5\")))//(2,phys.PS(pcvl.P(\"beta6\")))\n",
    "rewrite1._color = \"lightgreen\"\n",
    "pcvl.pdisplay(pcvl.Circuit(3).add(0,rewrite1,False), recursive=True)"
   ]
  },
  {
   "cell_type": "markdown",
   "id": "d4197839",
   "metadata": {
    "pycharm": {
     "name": "#%% md\n"
    }
   },
   "source": []
  },
  {
   "cell_type": "markdown",
   "id": "171cff3a",
   "metadata": {
    "pycharm": {
     "name": "#%% md\n"
    }
   },
   "source": [
    "![](../_static/img/rewrite1.png)"
   ]
  },
  {
   "cell_type": "code",
   "execution_count": 4,
   "id": "5468fdb9",
   "metadata": {
    "pycharm": {
     "name": "#%%\n"
    }
   },
   "outputs": [],
   "source": [
    "pattern2=pcvl.Circuit(1, name=\"pattern\")//phys.PS(pcvl.P(\"phi1\"))//phys.PS(pcvl.P(\"phi2\"))\n",
    "rewrite2=pcvl.Circuit(1, name=\"rewrite\")//phys.PS(pcvl.P(\"phi\"))"
   ]
  },
  {
   "cell_type": "code",
   "execution_count": 5,
   "id": "e428775f",
   "metadata": {
    "pycharm": {
     "name": "#%%\n"
    }
   },
   "outputs": [
    {
     "data": {
      "image/svg+xml": [
       "<?xml version=\"1.0\" encoding=\"UTF-8\"?>\n",
       "<svg xmlns=\"http://www.w3.org/2000/svg\" xmlns:xlink=\"http://www.w3.org/1999/xlink\"\n",
       "     width=\"153.0\" height=\"100\" viewBox=\"-3.0 0 153.0 100\">\n",
       "<defs>\n",
       "</defs>\n",
       "<path d=\"M10,25 L25,25\" stroke-width=\"3\" stroke=\"darkred\" stroke-linejoin=\"miter\" fill=\"none\" />\n",
       "<text x=\"0\" y=\"25\" font-size=\"6\" text-anchor=\"start\" dy=\"0em\">0</text>\n",
       "<path d=\"M27,2 L123,2 L123,48 L27,48 Z\" stroke=\"none\" fill=\"lightblue\" stroke-linejoin=\"miter\" />\n",
       "<path d=\"M25,25 L75,25\" stroke=\"darkred\" stroke-width=\"3\" fill=\"none\" />\n",
       "<path d=\"M30,40 L39,40 L53,10 L44,10 L30,40 L39,40 Z\" stroke=\"black\" fill=\"gray\" stroke-linejoin=\"miter\" />\n",
       "<text x=\"47\" y=\"38\" font-size=\"7\" text-anchor=\"start\" dy=\"0em\">φ=phi1</text>\n",
       "<path d=\"M75,25 L125,25\" stroke=\"darkred\" stroke-width=\"3\" fill=\"none\" />\n",
       "<path d=\"M80,40 L89,40 L103,10 L94,10 L80,40 L89,40 Z\" stroke=\"black\" fill=\"gray\" stroke-linejoin=\"miter\" />\n",
       "<text x=\"97\" y=\"38\" font-size=\"7\" text-anchor=\"start\" dy=\"0em\">φ=phi2</text>\n",
       "<path d=\"M27,2 L123,2 L123,48 L27,48 Z\" stroke=\"black\" fill=\"none\" stroke-dasharray=\"1,2\" stroke-linejoin=\"miter\" />\n",
       "<text x=\"29\" y=\"55\" font-size=\"8\" text-anchor=\"start\" dy=\"0em\">PATTERN</text>\n",
       "<path d=\"M125,25 L140,25\" stroke-width=\"3\" stroke=\"darkred\" stroke-linejoin=\"miter\" fill=\"none\" />\n",
       "<text x=\"150\" y=\"25\" font-size=\"6\" text-anchor=\"end\" dy=\"0em\">0</text>\n",
       "</svg>"
      ],
      "text/plain": [
       "<drawSvg.drawing.Drawing at 0x25833a5f580>"
      ]
     },
     "execution_count": 5,
     "metadata": {},
     "output_type": "execute_result"
    }
   ],
   "source": [
    "pcvl.pdisplay(pcvl.Circuit(1).add(0,pattern2,False), recursive=True)"
   ]
  },
  {
   "cell_type": "code",
   "execution_count": 6,
   "id": "e2bdd9f4",
   "metadata": {
    "pycharm": {
     "name": "#%%\n"
    }
   },
   "outputs": [
    {
     "data": {
      "image/svg+xml": [
       "<?xml version=\"1.0\" encoding=\"UTF-8\"?>\n",
       "<svg xmlns=\"http://www.w3.org/2000/svg\" xmlns:xlink=\"http://www.w3.org/1999/xlink\"\n",
       "     width=\"103.0\" height=\"100\" viewBox=\"-3.0 0 103.0 100\">\n",
       "<defs>\n",
       "</defs>\n",
       "<path d=\"M10,25 L25,25\" stroke-width=\"3\" stroke=\"darkred\" stroke-linejoin=\"miter\" fill=\"none\" />\n",
       "<text x=\"0\" y=\"25\" font-size=\"6\" text-anchor=\"start\" dy=\"0em\">0</text>\n",
       "<path d=\"M27,2 L73,2 L73,48 L27,48 Z\" stroke=\"none\" fill=\"lightblue\" stroke-linejoin=\"miter\" />\n",
       "<path d=\"M25,25 L75,25\" stroke=\"darkred\" stroke-width=\"3\" fill=\"none\" />\n",
       "<path d=\"M30,40 L39,40 L53,10 L44,10 L30,40 L39,40 Z\" stroke=\"black\" fill=\"gray\" stroke-linejoin=\"miter\" />\n",
       "<text x=\"47\" y=\"38\" font-size=\"7\" text-anchor=\"start\" dy=\"0em\">φ=phi</text>\n",
       "<path d=\"M27,2 L73,2 L73,48 L27,48 Z\" stroke=\"black\" fill=\"none\" stroke-dasharray=\"1,2\" stroke-linejoin=\"miter\" />\n",
       "<text x=\"29\" y=\"55\" font-size=\"8\" text-anchor=\"start\" dy=\"0em\">REWRITE</text>\n",
       "<path d=\"M75,25 L90,25\" stroke-width=\"3\" stroke=\"darkred\" stroke-linejoin=\"miter\" fill=\"none\" />\n",
       "<text x=\"100\" y=\"25\" font-size=\"6\" text-anchor=\"end\" dy=\"0em\">0</text>\n",
       "</svg>"
      ],
      "text/plain": [
       "<drawSvg.drawing.Drawing at 0x25833a5f910>"
      ]
     },
     "execution_count": 6,
     "metadata": {},
     "output_type": "execute_result"
    }
   ],
   "source": [
    "pcvl.pdisplay(pcvl.Circuit(1).add(0,rewrite2,False), recursive=True)"
   ]
  },
  {
   "cell_type": "markdown",
   "id": "6ceae57c",
   "metadata": {
    "pycharm": {
     "name": "#%% md\n"
    }
   },
   "source": [
    "The third rule used in this notebook is the following one:"
   ]
  },
  {
   "cell_type": "markdown",
   "id": "246fc6ce",
   "metadata": {
    "pycharm": {
     "name": "#%% md\n"
    }
   },
   "source": [
    "![](../_static/img/rewrite33.png)"
   ]
  },
  {
   "cell_type": "code",
   "execution_count": 7,
   "id": "d056ab6c",
   "metadata": {
    "pycharm": {
     "name": "#%%\n"
    }
   },
   "outputs": [
    {
     "data": {
      "image/svg+xml": [
       "<?xml version=\"1.0\" encoding=\"UTF-8\"?>\n",
       "<svg xmlns=\"http://www.w3.org/2000/svg\" xmlns:xlink=\"http://www.w3.org/1999/xlink\"\n",
       "     width=\"203.0\" height=\"150\" viewBox=\"-3.0 0 203.0 150\">\n",
       "<defs>\n",
       "</defs>\n",
       "<path d=\"M10,25 L25,25\" stroke-width=\"3\" stroke=\"darkred\" stroke-linejoin=\"miter\" fill=\"none\" />\n",
       "<text x=\"0\" y=\"25\" font-size=\"6\" text-anchor=\"start\" dy=\"0em\">0</text>\n",
       "<path d=\"M10,75 L25,75\" stroke-width=\"3\" stroke=\"darkred\" stroke-linejoin=\"miter\" fill=\"none\" />\n",
       "<text x=\"0\" y=\"75\" font-size=\"6\" text-anchor=\"start\" dy=\"0em\">1</text>\n",
       "<path d=\"M27,2 L173,2 L173,98 L27,98 Z\" stroke=\"none\" fill=\"pink\" stroke-linejoin=\"miter\" />\n",
       "<path d=\"M25,75 L75,75\" stroke=\"darkred\" stroke-width=\"3\" fill=\"none\" />\n",
       "<path d=\"M30,90 L39,90 L53,60 L44,60 L30,90 L39,90 Z\" stroke=\"black\" fill=\"gray\" stroke-linejoin=\"miter\" />\n",
       "<text x=\"47\" y=\"88\" font-size=\"7\" text-anchor=\"start\" dy=\"0em\">φ=phip</text>\n",
       "<path d=\"M25,25 L75,25\" stroke=\"darkred\" stroke-width=\"3\" fill=\"none\" />\n",
       "<path d=\"M75,25 L103,25 L122,44\" stroke=\"darkred\" stroke-width=\"3\" fill=\"none\" />\n",
       "<path d=\"M128,44 L147,25 L175,25\" stroke=\"darkred\" stroke-width=\"3\" fill=\"none\" />\n",
       "<path d=\"M75,75 L103,75 L122,56\" stroke=\"darkred\" stroke-width=\"3\" fill=\"none\" />\n",
       "<path d=\"M128,56 L147,75 L175,75\" stroke=\"darkred\" stroke-width=\"3\" fill=\"none\" />\n",
       "<path d=\"M100,43 L150,43 L150,57 L100,57 Z\" stroke=\"black\" fill=\"black\" stroke-linejoin=\"miter\" />\n",
       "<text x=\"125\" y=\"86\" font-size=\"7\" text-anchor=\"middle\" dy=\"0em\"></text>\n",
       "<text x=\"125\" y=\"26\" font-size=\"7\" text-anchor=\"middle\" dy=\"0em\">theta=theta</text>\n",
       "<path d=\"M100,43 L150,43 L150,47 L100,47 Z\" stroke=\"black\" fill=\"lightgray\" stroke-linejoin=\"miter\" />\n",
       "<path d=\"M27,2 L173,2 L173,98 L27,98 Z\" stroke=\"black\" fill=\"none\" stroke-dasharray=\"1,2\" stroke-linejoin=\"miter\" />\n",
       "<text x=\"29\" y=\"105\" font-size=\"8\" text-anchor=\"start\" dy=\"0em\">PATTERN3</text>\n",
       "<path d=\"M175,25 L190,25\" stroke-width=\"3\" stroke=\"darkred\" stroke-linejoin=\"miter\" fill=\"none\" />\n",
       "<text x=\"200\" y=\"25\" font-size=\"6\" text-anchor=\"end\" dy=\"0em\">0</text>\n",
       "<path d=\"M175,75 L190,75\" stroke-width=\"3\" stroke=\"darkred\" stroke-linejoin=\"miter\" fill=\"none\" />\n",
       "<text x=\"200\" y=\"75\" font-size=\"6\" text-anchor=\"end\" dy=\"0em\">1</text>\n",
       "</svg>"
      ],
      "text/plain": [
       "<drawSvg.drawing.Drawing at 0x25833be9c60>"
      ]
     },
     "execution_count": 7,
     "metadata": {},
     "output_type": "execute_result"
    }
   ],
   "source": [
    "pattern3=pcvl.Circuit(2, name=\"pattern3\")//(1,phys.PS(pcvl.P(\"phip\")))//(0,phys.BS(theta=pcvl.P(\"theta\")))\n",
    "pattern3._color = \"pink\"\n",
    "pcvl.pdisplay(pcvl.Circuit(2).add(0,pattern3,False), recursive=True)"
   ]
  },
  {
   "cell_type": "code",
   "execution_count": 8,
   "id": "6ef8057d",
   "metadata": {
    "pycharm": {
     "name": "#%%\n"
    }
   },
   "outputs": [
    {
     "data": {
      "image/svg+xml": [
       "<?xml version=\"1.0\" encoding=\"UTF-8\"?>\n",
       "<svg xmlns=\"http://www.w3.org/2000/svg\" xmlns:xlink=\"http://www.w3.org/1999/xlink\"\n",
       "     width=\"253.0\" height=\"150\" viewBox=\"-3.0 0 253.0 150\">\n",
       "<defs>\n",
       "</defs>\n",
       "<path d=\"M10,25 L25,25\" stroke-width=\"3\" stroke=\"darkred\" stroke-linejoin=\"miter\" fill=\"none\" />\n",
       "<text x=\"0\" y=\"25\" font-size=\"6\" text-anchor=\"start\" dy=\"0em\">0</text>\n",
       "<path d=\"M10,75 L25,75\" stroke-width=\"3\" stroke=\"darkred\" stroke-linejoin=\"miter\" fill=\"none\" />\n",
       "<text x=\"0\" y=\"75\" font-size=\"6\" text-anchor=\"start\" dy=\"0em\">1</text>\n",
       "<path d=\"M27,2 L223,2 L223,98 L27,98 Z\" stroke=\"none\" fill=\"pink\" stroke-linejoin=\"miter\" />\n",
       "<path d=\"M25,25 L75,25\" stroke=\"darkred\" stroke-width=\"3\" fill=\"none\" />\n",
       "<path d=\"M30,40 L39,40 L53,10 L44,10 L30,40 L39,40 Z\" stroke=\"black\" fill=\"gray\" stroke-linejoin=\"miter\" />\n",
       "<text x=\"47\" y=\"38\" font-size=\"7\" text-anchor=\"start\" dy=\"0em\">φ=phi1</text>\n",
       "<path d=\"M25,75 L75,75\" stroke=\"darkred\" stroke-width=\"3\" fill=\"none\" />\n",
       "<path d=\"M75,25 L103,25 L122,44\" stroke=\"darkred\" stroke-width=\"3\" fill=\"none\" />\n",
       "<path d=\"M128,44 L147,25 L175,25\" stroke=\"darkred\" stroke-width=\"3\" fill=\"none\" />\n",
       "<path d=\"M75,75 L103,75 L122,56\" stroke=\"darkred\" stroke-width=\"3\" fill=\"none\" />\n",
       "<path d=\"M128,56 L147,75 L175,75\" stroke=\"darkred\" stroke-width=\"3\" fill=\"none\" />\n",
       "<path d=\"M100,43 L150,43 L150,57 L100,57 Z\" stroke=\"black\" fill=\"black\" stroke-linejoin=\"miter\" />\n",
       "<text x=\"125\" y=\"86\" font-size=\"7\" text-anchor=\"middle\" dy=\"0em\"></text>\n",
       "<text x=\"125\" y=\"26\" font-size=\"7\" text-anchor=\"middle\" dy=\"0em\">theta=theta</text>\n",
       "<path d=\"M100,43 L150,43 L150,47 L100,47 Z\" stroke=\"black\" fill=\"lightgray\" stroke-linejoin=\"miter\" />\n",
       "<path d=\"M175,25 L225,25\" stroke=\"darkred\" stroke-width=\"3\" fill=\"none\" />\n",
       "<path d=\"M180,40 L189,40 L203,10 L194,10 L180,40 L189,40 Z\" stroke=\"black\" fill=\"gray\" stroke-linejoin=\"miter\" />\n",
       "<text x=\"197\" y=\"38\" font-size=\"7\" text-anchor=\"start\" dy=\"0em\">φ=phi2</text>\n",
       "<path d=\"M175,75 L225,75\" stroke=\"darkred\" stroke-width=\"3\" fill=\"none\" />\n",
       "<path d=\"M180,90 L189,90 L203,60 L194,60 L180,90 L189,90 Z\" stroke=\"black\" fill=\"gray\" stroke-linejoin=\"miter\" />\n",
       "<text x=\"197\" y=\"88\" font-size=\"7\" text-anchor=\"start\" dy=\"0em\">φ=phi3</text>\n",
       "<path d=\"M27,2 L223,2 L223,98 L27,98 Z\" stroke=\"black\" fill=\"none\" stroke-dasharray=\"1,2\" stroke-linejoin=\"miter\" />\n",
       "<text x=\"29\" y=\"105\" font-size=\"8\" text-anchor=\"start\" dy=\"0em\">REWRITE3</text>\n",
       "<path d=\"M225,25 L240,25\" stroke-width=\"3\" stroke=\"darkred\" stroke-linejoin=\"miter\" fill=\"none\" />\n",
       "<text x=\"250\" y=\"25\" font-size=\"6\" text-anchor=\"end\" dy=\"0em\">0</text>\n",
       "<path d=\"M225,75 L240,75\" stroke-width=\"3\" stroke=\"darkred\" stroke-linejoin=\"miter\" fill=\"none\" />\n",
       "<text x=\"250\" y=\"75\" font-size=\"6\" text-anchor=\"end\" dy=\"0em\">1</text>\n",
       "</svg>"
      ],
      "text/plain": [
       "<drawSvg.drawing.Drawing at 0x25833bebc70>"
      ]
     },
     "execution_count": 8,
     "metadata": {},
     "output_type": "execute_result"
    }
   ],
   "source": [
    "rewrite3=pcvl.Circuit(2, name=\"rewrite3\")//(0,phys.PS(pcvl.P(\"phi1\")))//(0,phys.BS(theta=pcvl.P(\"theta\")))//(0,phys.PS(pcvl.P(\"phi2\")))//(1,phys.PS(pcvl.P(\"phi3\")))\n",
    "rewrite3._color = \"pink\"\n",
    "pcvl.pdisplay(pcvl.Circuit(2).add(0,rewrite3,False), recursive=True)"
   ]
  },
  {
   "cell_type": "markdown",
   "id": "6c7efe31",
   "metadata": {
    "pycharm": {
     "name": "#%% md\n"
    }
   },
   "source": [
    "And the fourth rule is the 38th of the article."
   ]
  },
  {
   "cell_type": "markdown",
   "id": "4cae9637",
   "metadata": {
    "pycharm": {
     "name": "#%% md\n"
    }
   },
   "source": [
    "![](../_static/img/rewrite38.png)"
   ]
  },
  {
   "cell_type": "code",
   "execution_count": 9,
   "id": "597bc933",
   "metadata": {
    "pycharm": {
     "name": "#%%\n"
    }
   },
   "outputs": [
    {
     "data": {
      "image/svg+xml": [
       "<?xml version=\"1.0\" encoding=\"UTF-8\"?>\n",
       "<svg xmlns=\"http://www.w3.org/2000/svg\" xmlns:xlink=\"http://www.w3.org/1999/xlink\"\n",
       "     width=\"303.0\" height=\"150\" viewBox=\"-3.0 0 303.0 150\">\n",
       "<defs>\n",
       "</defs>\n",
       "<path d=\"M10,25 L25,25\" stroke-width=\"3\" stroke=\"darkred\" stroke-linejoin=\"miter\" fill=\"none\" />\n",
       "<text x=\"0\" y=\"25\" font-size=\"6\" text-anchor=\"start\" dy=\"0em\">0</text>\n",
       "<path d=\"M10,75 L25,75\" stroke-width=\"3\" stroke=\"darkred\" stroke-linejoin=\"miter\" fill=\"none\" />\n",
       "<text x=\"0\" y=\"75\" font-size=\"6\" text-anchor=\"start\" dy=\"0em\">1</text>\n",
       "<path d=\"M27,2 L273,2 L273,98 L27,98 Z\" stroke=\"none\" fill=\"orange\" stroke-linejoin=\"miter\" />\n",
       "<path d=\"M25,25 L53,25 L72,44\" stroke=\"darkred\" stroke-width=\"3\" fill=\"none\" />\n",
       "<path d=\"M78,44 L97,25 L125,25\" stroke=\"darkred\" stroke-width=\"3\" fill=\"none\" />\n",
       "<path d=\"M25,75 L53,75 L72,56\" stroke=\"darkred\" stroke-width=\"3\" fill=\"none\" />\n",
       "<path d=\"M78,56 L97,75 L125,75\" stroke=\"darkred\" stroke-width=\"3\" fill=\"none\" />\n",
       "<path d=\"M50,43 L100,43 L100,57 L50,57 Z\" stroke=\"black\" fill=\"black\" stroke-linejoin=\"miter\" />\n",
       "<text x=\"75\" y=\"86\" font-size=\"7\" text-anchor=\"middle\" dy=\"0em\"></text>\n",
       "<text x=\"75\" y=\"26\" font-size=\"7\" text-anchor=\"middle\" dy=\"0em\">theta=theta1</text>\n",
       "<path d=\"M50,43 L100,43 L100,47 L50,47 Z\" stroke=\"black\" fill=\"lightgray\" stroke-linejoin=\"miter\" />\n",
       "<path d=\"M125,25 L175,25\" stroke=\"darkred\" stroke-width=\"3\" fill=\"none\" />\n",
       "<path d=\"M130,40 L139,40 L153,10 L144,10 L130,40 L139,40 Z\" stroke=\"black\" fill=\"gray\" stroke-linejoin=\"miter\" />\n",
       "<text x=\"147\" y=\"38\" font-size=\"7\" text-anchor=\"start\" dy=\"0em\">φ=phi1</text>\n",
       "<path d=\"M125,75 L175,75\" stroke=\"darkred\" stroke-width=\"3\" fill=\"none\" />\n",
       "<path d=\"M175,25 L203,25 L222,44\" stroke=\"darkred\" stroke-width=\"3\" fill=\"none\" />\n",
       "<path d=\"M228,44 L247,25 L275,25\" stroke=\"darkred\" stroke-width=\"3\" fill=\"none\" />\n",
       "<path d=\"M175,75 L203,75 L222,56\" stroke=\"darkred\" stroke-width=\"3\" fill=\"none\" />\n",
       "<path d=\"M228,56 L247,75 L275,75\" stroke=\"darkred\" stroke-width=\"3\" fill=\"none\" />\n",
       "<path d=\"M200,43 L250,43 L250,57 L200,57 Z\" stroke=\"black\" fill=\"black\" stroke-linejoin=\"miter\" />\n",
       "<text x=\"225\" y=\"86\" font-size=\"7\" text-anchor=\"middle\" dy=\"0em\"></text>\n",
       "<text x=\"225\" y=\"26\" font-size=\"7\" text-anchor=\"middle\" dy=\"0em\">theta=theta2</text>\n",
       "<path d=\"M200,43 L250,43 L250,47 L200,47 Z\" stroke=\"black\" fill=\"lightgray\" stroke-linejoin=\"miter\" />\n",
       "<path d=\"M27,2 L273,2 L273,98 L27,98 Z\" stroke=\"black\" fill=\"none\" stroke-dasharray=\"1,2\" stroke-linejoin=\"miter\" />\n",
       "<text x=\"29\" y=\"105\" font-size=\"8\" text-anchor=\"start\" dy=\"0em\">PATTERN4</text>\n",
       "<path d=\"M275,25 L290,25\" stroke-width=\"3\" stroke=\"darkred\" stroke-linejoin=\"miter\" fill=\"none\" />\n",
       "<text x=\"300\" y=\"25\" font-size=\"6\" text-anchor=\"end\" dy=\"0em\">0</text>\n",
       "<path d=\"M275,75 L290,75\" stroke-width=\"3\" stroke=\"darkred\" stroke-linejoin=\"miter\" fill=\"none\" />\n",
       "<text x=\"300\" y=\"75\" font-size=\"6\" text-anchor=\"end\" dy=\"0em\">1</text>\n",
       "</svg>"
      ],
      "text/plain": [
       "<drawSvg.drawing.Drawing at 0x25833c10310>"
      ]
     },
     "execution_count": 9,
     "metadata": {},
     "output_type": "execute_result"
    }
   ],
   "source": [
    "pattern4=pcvl.Circuit(2, name=\"pattern4\")//(0,phys.BS(theta=pcvl.P(\"theta1\")))//(0,phys.PS(pcvl.P(\"phi1\")))//(0,phys.BS(theta=pcvl.P(\"theta2\")))\n",
    "pattern4._color = \"orange\"\n",
    "pcvl.pdisplay(pcvl.Circuit(2).add(0,pattern4,False), recursive=True)"
   ]
  },
  {
   "cell_type": "code",
   "execution_count": 10,
   "id": "1866e2c5",
   "metadata": {
    "pycharm": {
     "name": "#%%\n"
    }
   },
   "outputs": [
    {
     "data": {
      "image/svg+xml": [
       "<?xml version=\"1.0\" encoding=\"UTF-8\"?>\n",
       "<svg xmlns=\"http://www.w3.org/2000/svg\" xmlns:xlink=\"http://www.w3.org/1999/xlink\"\n",
       "     width=\"253.0\" height=\"150\" viewBox=\"-3.0 0 253.0 150\">\n",
       "<defs>\n",
       "</defs>\n",
       "<path d=\"M10,25 L25,25\" stroke-width=\"3\" stroke=\"darkred\" stroke-linejoin=\"miter\" fill=\"none\" />\n",
       "<text x=\"0\" y=\"25\" font-size=\"6\" text-anchor=\"start\" dy=\"0em\">0</text>\n",
       "<path d=\"M10,75 L25,75\" stroke-width=\"3\" stroke=\"darkred\" stroke-linejoin=\"miter\" fill=\"none\" />\n",
       "<text x=\"0\" y=\"75\" font-size=\"6\" text-anchor=\"start\" dy=\"0em\">1</text>\n",
       "<path d=\"M27,2 L223,2 L223,98 L27,98 Z\" stroke=\"none\" fill=\"orange\" stroke-linejoin=\"miter\" />\n",
       "<path d=\"M25,25 L75,25\" stroke=\"darkred\" stroke-width=\"3\" fill=\"none\" />\n",
       "<path d=\"M30,40 L39,40 L53,10 L44,10 L30,40 L39,40 Z\" stroke=\"black\" fill=\"gray\" stroke-linejoin=\"miter\" />\n",
       "<text x=\"47\" y=\"38\" font-size=\"7\" text-anchor=\"start\" dy=\"0em\">φ=beta1</text>\n",
       "<path d=\"M25,75 L75,75\" stroke=\"darkred\" stroke-width=\"3\" fill=\"none\" />\n",
       "<path d=\"M75,25 L103,25 L122,44\" stroke=\"darkred\" stroke-width=\"3\" fill=\"none\" />\n",
       "<path d=\"M128,44 L147,25 L175,25\" stroke=\"darkred\" stroke-width=\"3\" fill=\"none\" />\n",
       "<path d=\"M75,75 L103,75 L122,56\" stroke=\"darkred\" stroke-width=\"3\" fill=\"none\" />\n",
       "<path d=\"M128,56 L147,75 L175,75\" stroke=\"darkred\" stroke-width=\"3\" fill=\"none\" />\n",
       "<path d=\"M100,43 L150,43 L150,57 L100,57 Z\" stroke=\"black\" fill=\"black\" stroke-linejoin=\"miter\" />\n",
       "<text x=\"125\" y=\"86\" font-size=\"7\" text-anchor=\"middle\" dy=\"0em\"></text>\n",
       "<text x=\"125\" y=\"26\" font-size=\"7\" text-anchor=\"middle\" dy=\"0em\">theta=alpha1</text>\n",
       "<path d=\"M100,43 L150,43 L150,47 L100,47 Z\" stroke=\"black\" fill=\"lightgray\" stroke-linejoin=\"miter\" />\n",
       "<path d=\"M175,25 L225,25\" stroke=\"darkred\" stroke-width=\"3\" fill=\"none\" />\n",
       "<path d=\"M180,40 L189,40 L203,10 L194,10 L180,40 L189,40 Z\" stroke=\"black\" fill=\"gray\" stroke-linejoin=\"miter\" />\n",
       "<text x=\"197\" y=\"38\" font-size=\"7\" text-anchor=\"start\" dy=\"0em\">φ=beta2</text>\n",
       "<path d=\"M175,75 L225,75\" stroke=\"darkred\" stroke-width=\"3\" fill=\"none\" />\n",
       "<path d=\"M180,90 L189,90 L203,60 L194,60 L180,90 L189,90 Z\" stroke=\"black\" fill=\"gray\" stroke-linejoin=\"miter\" />\n",
       "<text x=\"197\" y=\"88\" font-size=\"7\" text-anchor=\"start\" dy=\"0em\">φ=beta3</text>\n",
       "<path d=\"M27,2 L223,2 L223,98 L27,98 Z\" stroke=\"black\" fill=\"none\" stroke-dasharray=\"1,2\" stroke-linejoin=\"miter\" />\n",
       "<text x=\"29\" y=\"105\" font-size=\"8\" text-anchor=\"start\" dy=\"0em\">REWRITE4</text>\n",
       "<path d=\"M225,25 L240,25\" stroke-width=\"3\" stroke=\"darkred\" stroke-linejoin=\"miter\" fill=\"none\" />\n",
       "<text x=\"250\" y=\"25\" font-size=\"6\" text-anchor=\"end\" dy=\"0em\">0</text>\n",
       "<path d=\"M225,75 L240,75\" stroke-width=\"3\" stroke=\"darkred\" stroke-linejoin=\"miter\" fill=\"none\" />\n",
       "<text x=\"250\" y=\"75\" font-size=\"6\" text-anchor=\"end\" dy=\"0em\">1</text>\n",
       "</svg>"
      ],
      "text/plain": [
       "<drawSvg.drawing.Drawing at 0x25833c101c0>"
      ]
     },
     "execution_count": 10,
     "metadata": {},
     "output_type": "execute_result"
    }
   ],
   "source": [
    "rewrite4=pcvl.Circuit(2, name=\"rewrite4\")//(0,phys.PS(pcvl.P(\"beta1\")))//(0,phys.BS(theta=pcvl.P(\"alpha1\")))//(0,phys.PS(pcvl.P(\"beta2\")))//(1,phys.PS(pcvl.P(\"beta3\")))\n",
    "rewrite4._color = \"orange\"\n",
    "pcvl.pdisplay(pcvl.Circuit(2).add(0,rewrite4,False), recursive=True)"
   ]
  },
  {
   "cell_type": "code",
   "execution_count": 11,
   "id": "deafebff",
   "metadata": {
    "pycharm": {
     "name": "#%%\n"
    }
   },
   "outputs": [
    {
     "data": {
      "image/svg+xml": [
       "<?xml version=\"1.0\" encoding=\"UTF-8\"?>\n",
       "<svg xmlns=\"http://www.w3.org/2000/svg\" xmlns:xlink=\"http://www.w3.org/1999/xlink\"\n",
       "     width=\"772.0999999999999\" height=\"175.0\" viewBox=\"-3.0 0 1103.0 250\">\n",
       "<defs>\n",
       "</defs>\n",
       "<path d=\"M10,25 L25,25\" stroke-width=\"3\" stroke=\"darkred\" stroke-linejoin=\"miter\" fill=\"none\" />\n",
       "<text x=\"0\" y=\"25\" font-size=\"6\" text-anchor=\"start\" dy=\"0em\">0</text>\n",
       "<path d=\"M10,75 L25,75\" stroke-width=\"3\" stroke=\"darkred\" stroke-linejoin=\"miter\" fill=\"none\" />\n",
       "<text x=\"0\" y=\"75\" font-size=\"6\" text-anchor=\"start\" dy=\"0em\">1</text>\n",
       "<path d=\"M10,125 L25,125\" stroke-width=\"3\" stroke=\"darkred\" stroke-linejoin=\"miter\" fill=\"none\" />\n",
       "<text x=\"0\" y=\"125\" font-size=\"6\" text-anchor=\"start\" dy=\"0em\">2</text>\n",
       "<path d=\"M10,175 L25,175\" stroke-width=\"3\" stroke=\"darkred\" stroke-linejoin=\"miter\" fill=\"none\" />\n",
       "<text x=\"0\" y=\"175\" font-size=\"6\" text-anchor=\"start\" dy=\"0em\">3</text>\n",
       "<path d=\"M25,25 L75,25\" stroke=\"darkred\" stroke-width=\"3\" fill=\"none\" />\n",
       "<path d=\"M30,40 L39,40 L53,10 L44,10 L30,40 L39,40 Z\" stroke=\"black\" fill=\"gray\" stroke-linejoin=\"miter\" />\n",
       "<text x=\"47\" y=\"38\" font-size=\"7\" text-anchor=\"start\" dy=\"0em\">φ=0.656383</text>\n",
       "<path d=\"M25,75 L75,75\" stroke=\"darkred\" stroke-width=\"3\" fill=\"none\" />\n",
       "<path d=\"M75,25 L103,25 L122,44\" stroke=\"darkred\" stroke-width=\"3\" fill=\"none\" />\n",
       "<path d=\"M128,44 L147,25 L175,25\" stroke=\"darkred\" stroke-width=\"3\" fill=\"none\" />\n",
       "<path d=\"M75,75 L103,75 L122,56\" stroke=\"darkred\" stroke-width=\"3\" fill=\"none\" />\n",
       "<path d=\"M128,56 L147,75 L175,75\" stroke=\"darkred\" stroke-width=\"3\" fill=\"none\" />\n",
       "<path d=\"M100,43 L150,43 L150,57 L100,57 Z\" stroke=\"black\" fill=\"black\" stroke-linejoin=\"miter\" />\n",
       "<text x=\"125\" y=\"86\" font-size=\"7\" text-anchor=\"middle\" dy=\"0em\"></text>\n",
       "<text x=\"125\" y=\"26\" font-size=\"7\" text-anchor=\"middle\" dy=\"0em\">theta=0.960063</text>\n",
       "<path d=\"M100,43 L150,43 L150,47 L100,47 Z\" stroke=\"black\" fill=\"lightgray\" stroke-linejoin=\"miter\" />\n",
       "<path d=\"M25,125 L75,125\" stroke=\"darkred\" stroke-width=\"3\" fill=\"none\" />\n",
       "<path d=\"M30,140 L39,140 L53,110 L44,110 L30,140 L39,140 Z\" stroke=\"black\" fill=\"gray\" stroke-linejoin=\"miter\" />\n",
       "<text x=\"47\" y=\"138\" font-size=\"7\" text-anchor=\"start\" dy=\"0em\">φ=0.221383</text>\n",
       "<path d=\"M25,175 L75,175\" stroke=\"darkred\" stroke-width=\"3\" fill=\"none\" />\n",
       "<path d=\"M75,125 L103,125 L122,144\" stroke=\"darkred\" stroke-width=\"3\" fill=\"none\" />\n",
       "<path d=\"M128,144 L147,125 L175,125\" stroke=\"darkred\" stroke-width=\"3\" fill=\"none\" />\n",
       "<path d=\"M75,175 L103,175 L122,156\" stroke=\"darkred\" stroke-width=\"3\" fill=\"none\" />\n",
       "<path d=\"M128,156 L147,175 L175,175\" stroke=\"darkred\" stroke-width=\"3\" fill=\"none\" />\n",
       "<path d=\"M100,143 L150,143 L150,157 L100,157 Z\" stroke=\"black\" fill=\"black\" stroke-linejoin=\"miter\" />\n",
       "<text x=\"125\" y=\"186\" font-size=\"7\" text-anchor=\"middle\" dy=\"0em\"></text>\n",
       "<text x=\"125\" y=\"126\" font-size=\"7\" text-anchor=\"middle\" dy=\"0em\">theta=0.255855</text>\n",
       "<path d=\"M100,143 L150,143 L150,147 L100,147 Z\" stroke=\"black\" fill=\"lightgray\" stroke-linejoin=\"miter\" />\n",
       "<path d=\"M175,75 L225,75\" stroke=\"darkred\" stroke-width=\"3\" fill=\"none\" />\n",
       "<path d=\"M180,90 L189,90 L203,60 L194,60 L180,90 L189,90 Z\" stroke=\"black\" fill=\"gray\" stroke-linejoin=\"miter\" />\n",
       "<text x=\"197\" y=\"88\" font-size=\"7\" text-anchor=\"start\" dy=\"0em\">φ=0.883535</text>\n",
       "<path d=\"M175,125 L225,125\" stroke=\"darkred\" stroke-width=\"3\" fill=\"none\" />\n",
       "<path d=\"M225,75 L253,75 L272,94\" stroke=\"darkred\" stroke-width=\"3\" fill=\"none\" />\n",
       "<path d=\"M278,94 L297,75 L325,75\" stroke=\"darkred\" stroke-width=\"3\" fill=\"none\" />\n",
       "<path d=\"M225,125 L253,125 L272,106\" stroke=\"darkred\" stroke-width=\"3\" fill=\"none\" />\n",
       "<path d=\"M278,106 L297,125 L325,125\" stroke=\"darkred\" stroke-width=\"3\" fill=\"none\" />\n",
       "<path d=\"M250,93 L300,93 L300,107 L250,107 Z\" stroke=\"black\" fill=\"black\" stroke-linejoin=\"miter\" />\n",
       "<text x=\"275\" y=\"136\" font-size=\"7\" text-anchor=\"middle\" dy=\"0em\"></text>\n",
       "<text x=\"275\" y=\"76\" font-size=\"7\" text-anchor=\"middle\" dy=\"0em\">theta=0.75736</text>\n",
       "<path d=\"M250,93 L300,93 L300,97 L250,97 Z\" stroke=\"black\" fill=\"lightgray\" stroke-linejoin=\"miter\" />\n",
       "<path d=\"M175,25 L225,25\" stroke=\"darkred\" stroke-width=\"3\" fill=\"none\" />\n",
       "<path d=\"M180,40 L189,40 L203,10 L194,10 L180,40 L189,40 Z\" stroke=\"black\" fill=\"gray\" stroke-linejoin=\"miter\" />\n",
       "<text x=\"197\" y=\"38\" font-size=\"7\" text-anchor=\"start\" dy=\"0em\">φ=0.157903</text>\n",
       "<path d=\"M225,25 L325,25\" stroke=\"darkred\" stroke-width=\"3\" fill=\"none\" />\n",
       "<path d=\"M325,25 L353,25 L372,44\" stroke=\"darkred\" stroke-width=\"3\" fill=\"none\" />\n",
       "<path d=\"M378,44 L397,25 L425,25\" stroke=\"darkred\" stroke-width=\"3\" fill=\"none\" />\n",
       "<path d=\"M325,75 L353,75 L372,56\" stroke=\"darkred\" stroke-width=\"3\" fill=\"none\" />\n",
       "<path d=\"M378,56 L397,75 L425,75\" stroke=\"darkred\" stroke-width=\"3\" fill=\"none\" />\n",
       "<path d=\"M350,43 L400,43 L400,57 L350,57 Z\" stroke=\"black\" fill=\"black\" stroke-linejoin=\"miter\" />\n",
       "<text x=\"375\" y=\"86\" font-size=\"7\" text-anchor=\"middle\" dy=\"0em\"></text>\n",
       "<text x=\"375\" y=\"26\" font-size=\"7\" text-anchor=\"middle\" dy=\"0em\">theta=0.508211</text>\n",
       "<path d=\"M350,43 L400,43 L400,47 L350,47 Z\" stroke=\"black\" fill=\"lightgray\" stroke-linejoin=\"miter\" />\n",
       "<path d=\"M325,125 L375,125\" stroke=\"darkred\" stroke-width=\"3\" fill=\"none\" />\n",
       "<path d=\"M330,140 L339,140 L353,110 L344,110 L330,140 L339,140 Z\" stroke=\"black\" fill=\"gray\" stroke-linejoin=\"miter\" />\n",
       "<text x=\"347\" y=\"138\" font-size=\"7\" text-anchor=\"start\" dy=\"0em\">φ=0.640035</text>\n",
       "<path d=\"M175,175 L375,175\" stroke=\"darkred\" stroke-width=\"3\" fill=\"none\" />\n",
       "<path d=\"M375,125 L403,125 L422,144\" stroke=\"darkred\" stroke-width=\"3\" fill=\"none\" />\n",
       "<path d=\"M428,144 L447,125 L475,125\" stroke=\"darkred\" stroke-width=\"3\" fill=\"none\" />\n",
       "<path d=\"M375,175 L403,175 L422,156\" stroke=\"darkred\" stroke-width=\"3\" fill=\"none\" />\n",
       "<path d=\"M428,156 L447,175 L475,175\" stroke=\"darkred\" stroke-width=\"3\" fill=\"none\" />\n",
       "<path d=\"M400,143 L450,143 L450,157 L400,157 Z\" stroke=\"black\" fill=\"black\" stroke-linejoin=\"miter\" />\n",
       "<text x=\"425\" y=\"186\" font-size=\"7\" text-anchor=\"middle\" dy=\"0em\"></text>\n",
       "<text x=\"425\" y=\"126\" font-size=\"7\" text-anchor=\"middle\" dy=\"0em\">theta=0.785458</text>\n",
       "<path d=\"M400,143 L450,143 L450,147 L400,147 Z\" stroke=\"black\" fill=\"lightgray\" stroke-linejoin=\"miter\" />\n",
       "<path d=\"M425,75 L475,75\" stroke=\"darkred\" stroke-width=\"3\" fill=\"none\" />\n",
       "<path d=\"M430,90 L439,90 L453,60 L444,60 L430,90 L439,90 Z\" stroke=\"black\" fill=\"gray\" stroke-linejoin=\"miter\" />\n",
       "<text x=\"447\" y=\"88\" font-size=\"7\" text-anchor=\"start\" dy=\"0em\">φ=0.714734</text>\n",
       "<path d=\"M475,75 L503,75 L522,94\" stroke=\"darkred\" stroke-width=\"3\" fill=\"none\" />\n",
       "<path d=\"M528,94 L547,75 L575,75\" stroke=\"darkred\" stroke-width=\"3\" fill=\"none\" />\n",
       "<path d=\"M475,125 L503,125 L522,106\" stroke=\"darkred\" stroke-width=\"3\" fill=\"none\" />\n",
       "<path d=\"M528,106 L547,125 L575,125\" stroke=\"darkred\" stroke-width=\"3\" fill=\"none\" />\n",
       "<path d=\"M500,93 L550,93 L550,107 L500,107 Z\" stroke=\"black\" fill=\"black\" stroke-linejoin=\"miter\" />\n",
       "<text x=\"525\" y=\"136\" font-size=\"7\" text-anchor=\"middle\" dy=\"0em\"></text>\n",
       "<text x=\"525\" y=\"76\" font-size=\"7\" text-anchor=\"middle\" dy=\"0em\">theta=0.7135</text>\n",
       "<path d=\"M500,93 L550,93 L550,97 L500,97 Z\" stroke=\"black\" fill=\"lightgray\" stroke-linejoin=\"miter\" />\n",
       "<path d=\"M425,25 L475,25\" stroke=\"darkred\" stroke-width=\"3\" fill=\"none\" />\n",
       "<path d=\"M430,40 L439,40 L453,10 L444,10 L430,40 L439,40 Z\" stroke=\"black\" fill=\"gray\" stroke-linejoin=\"miter\" />\n",
       "<text x=\"447\" y=\"38\" font-size=\"7\" text-anchor=\"start\" dy=\"0em\">φ=0.497055</text>\n",
       "<path d=\"M475,25 L575,25\" stroke=\"darkred\" stroke-width=\"3\" fill=\"none\" />\n",
       "<path d=\"M575,25 L603,25 L622,44\" stroke=\"darkred\" stroke-width=\"3\" fill=\"none\" />\n",
       "<path d=\"M628,44 L647,25 L675,25\" stroke=\"darkred\" stroke-width=\"3\" fill=\"none\" />\n",
       "<path d=\"M575,75 L603,75 L622,56\" stroke=\"darkred\" stroke-width=\"3\" fill=\"none\" />\n",
       "<path d=\"M628,56 L647,75 L675,75\" stroke=\"darkred\" stroke-width=\"3\" fill=\"none\" />\n",
       "<path d=\"M600,43 L650,43 L650,57 L600,57 Z\" stroke=\"black\" fill=\"black\" stroke-linejoin=\"miter\" />\n",
       "<text x=\"625\" y=\"86\" font-size=\"7\" text-anchor=\"middle\" dy=\"0em\"></text>\n",
       "<text x=\"625\" y=\"26\" font-size=\"7\" text-anchor=\"middle\" dy=\"0em\">theta=0.585382</text>\n",
       "<path d=\"M600,43 L650,43 L650,47 L600,47 Z\" stroke=\"black\" fill=\"lightgray\" stroke-linejoin=\"miter\" />\n",
       "<path d=\"M575,125 L625,125\" stroke=\"darkred\" stroke-width=\"3\" fill=\"none\" />\n",
       "<path d=\"M580,140 L589,140 L603,110 L594,110 L580,140 L589,140 Z\" stroke=\"black\" fill=\"gray\" stroke-linejoin=\"miter\" />\n",
       "<text x=\"597\" y=\"138\" font-size=\"7\" text-anchor=\"start\" dy=\"0em\">φ=0.774063</text>\n",
       "<path d=\"M475,175 L625,175\" stroke=\"darkred\" stroke-width=\"3\" fill=\"none\" />\n",
       "<path d=\"M625,125 L653,125 L672,144\" stroke=\"darkred\" stroke-width=\"3\" fill=\"none\" />\n",
       "<path d=\"M678,144 L697,125 L725,125\" stroke=\"darkred\" stroke-width=\"3\" fill=\"none\" />\n",
       "<path d=\"M625,175 L653,175 L672,156\" stroke=\"darkred\" stroke-width=\"3\" fill=\"none\" />\n",
       "<path d=\"M678,156 L697,175 L725,175\" stroke=\"darkred\" stroke-width=\"3\" fill=\"none\" />\n",
       "<path d=\"M650,143 L700,143 L700,157 L650,157 Z\" stroke=\"black\" fill=\"black\" stroke-linejoin=\"miter\" />\n",
       "<text x=\"675\" y=\"186\" font-size=\"7\" text-anchor=\"middle\" dy=\"0em\"></text>\n",
       "<text x=\"675\" y=\"126\" font-size=\"7\" text-anchor=\"middle\" dy=\"0em\">theta=0.463234</text>\n",
       "<path d=\"M650,143 L700,143 L700,147 L650,147 Z\" stroke=\"black\" fill=\"lightgray\" stroke-linejoin=\"miter\" />\n",
       "<path d=\"M675,75 L725,75\" stroke=\"darkred\" stroke-width=\"3\" fill=\"none\" />\n",
       "<path d=\"M680,90 L689,90 L703,60 L694,60 L680,90 L689,90 Z\" stroke=\"black\" fill=\"gray\" stroke-linejoin=\"miter\" />\n",
       "<text x=\"697\" y=\"88\" font-size=\"7\" text-anchor=\"start\" dy=\"0em\">φ=0.938596</text>\n",
       "<path d=\"M725,75 L753,75 L772,94\" stroke=\"darkred\" stroke-width=\"3\" fill=\"none\" />\n",
       "<path d=\"M778,94 L797,75 L825,75\" stroke=\"darkred\" stroke-width=\"3\" fill=\"none\" />\n",
       "<path d=\"M725,125 L753,125 L772,106\" stroke=\"darkred\" stroke-width=\"3\" fill=\"none\" />\n",
       "<path d=\"M778,106 L797,125 L825,125\" stroke=\"darkred\" stroke-width=\"3\" fill=\"none\" />\n",
       "<path d=\"M750,93 L800,93 L800,107 L750,107 Z\" stroke=\"black\" fill=\"black\" stroke-linejoin=\"miter\" />\n",
       "<text x=\"775\" y=\"136\" font-size=\"7\" text-anchor=\"middle\" dy=\"0em\"></text>\n",
       "<text x=\"775\" y=\"76\" font-size=\"7\" text-anchor=\"middle\" dy=\"0em\">theta=0.443869</text>\n",
       "<path d=\"M750,93 L800,93 L800,97 L750,97 Z\" stroke=\"black\" fill=\"lightgray\" stroke-linejoin=\"miter\" />\n",
       "<path d=\"M675,25 L725,25\" stroke=\"darkred\" stroke-width=\"3\" fill=\"none\" />\n",
       "<path d=\"M680,40 L689,40 L703,10 L694,10 L680,40 L689,40 Z\" stroke=\"black\" fill=\"gray\" stroke-linejoin=\"miter\" />\n",
       "<text x=\"697\" y=\"38\" font-size=\"7\" text-anchor=\"start\" dy=\"0em\">φ=0.004029</text>\n",
       "<path d=\"M725,25 L825,25\" stroke=\"darkred\" stroke-width=\"3\" fill=\"none\" />\n",
       "<path d=\"M825,25 L853,25 L872,44\" stroke=\"darkred\" stroke-width=\"3\" fill=\"none\" />\n",
       "<path d=\"M878,44 L897,25 L925,25\" stroke=\"darkred\" stroke-width=\"3\" fill=\"none\" />\n",
       "<path d=\"M825,75 L853,75 L872,56\" stroke=\"darkred\" stroke-width=\"3\" fill=\"none\" />\n",
       "<path d=\"M878,56 L897,75 L925,75\" stroke=\"darkred\" stroke-width=\"3\" fill=\"none\" />\n",
       "<path d=\"M850,43 L900,43 L900,57 L850,57 Z\" stroke=\"black\" fill=\"black\" stroke-linejoin=\"miter\" />\n",
       "<text x=\"875\" y=\"86\" font-size=\"7\" text-anchor=\"middle\" dy=\"0em\"></text>\n",
       "<text x=\"875\" y=\"26\" font-size=\"7\" text-anchor=\"middle\" dy=\"0em\">theta=0.733859</text>\n",
       "<path d=\"M850,43 L900,43 L900,47 L850,47 Z\" stroke=\"black\" fill=\"lightgray\" stroke-linejoin=\"miter\" />\n",
       "<path d=\"M825,125 L875,125\" stroke=\"darkred\" stroke-width=\"3\" fill=\"none\" />\n",
       "<path d=\"M830,140 L839,140 L853,110 L844,110 L830,140 L839,140 Z\" stroke=\"black\" fill=\"gray\" stroke-linejoin=\"miter\" />\n",
       "<text x=\"847\" y=\"138\" font-size=\"7\" text-anchor=\"start\" dy=\"0em\">φ=0.370191</text>\n",
       "<path d=\"M725,175 L875,175\" stroke=\"darkred\" stroke-width=\"3\" fill=\"none\" />\n",
       "<path d=\"M875,125 L903,125 L922,144\" stroke=\"darkred\" stroke-width=\"3\" fill=\"none\" />\n",
       "<path d=\"M928,144 L947,125 L975,125\" stroke=\"darkred\" stroke-width=\"3\" fill=\"none\" />\n",
       "<path d=\"M875,175 L903,175 L922,156\" stroke=\"darkred\" stroke-width=\"3\" fill=\"none\" />\n",
       "<path d=\"M928,156 L947,175 L975,175\" stroke=\"darkred\" stroke-width=\"3\" fill=\"none\" />\n",
       "<path d=\"M900,143 L950,143 L950,157 L900,157 Z\" stroke=\"black\" fill=\"black\" stroke-linejoin=\"miter\" />\n",
       "<text x=\"925\" y=\"186\" font-size=\"7\" text-anchor=\"middle\" dy=\"0em\"></text>\n",
       "<text x=\"925\" y=\"126\" font-size=\"7\" text-anchor=\"middle\" dy=\"0em\">theta=0.584864</text>\n",
       "<path d=\"M900,143 L950,143 L950,147 L900,147 Z\" stroke=\"black\" fill=\"lightgray\" stroke-linejoin=\"miter\" />\n",
       "<path d=\"M925,75 L975,75\" stroke=\"darkred\" stroke-width=\"3\" fill=\"none\" />\n",
       "<path d=\"M930,90 L939,90 L953,60 L944,60 L930,90 L939,90 Z\" stroke=\"black\" fill=\"gray\" stroke-linejoin=\"miter\" />\n",
       "<text x=\"947\" y=\"88\" font-size=\"7\" text-anchor=\"start\" dy=\"0em\">φ=0.357479</text>\n",
       "<path d=\"M975,75 L1003,75 L1022,94\" stroke=\"darkred\" stroke-width=\"3\" fill=\"none\" />\n",
       "<path d=\"M1028,94 L1047,75 L1075,75\" stroke=\"darkred\" stroke-width=\"3\" fill=\"none\" />\n",
       "<path d=\"M975,125 L1003,125 L1022,106\" stroke=\"darkred\" stroke-width=\"3\" fill=\"none\" />\n",
       "<path d=\"M1028,106 L1047,125 L1075,125\" stroke=\"darkred\" stroke-width=\"3\" fill=\"none\" />\n",
       "<path d=\"M1000,93 L1050,93 L1050,107 L1000,107 Z\" stroke=\"black\" fill=\"black\" stroke-linejoin=\"miter\" />\n",
       "<text x=\"1025\" y=\"136\" font-size=\"7\" text-anchor=\"middle\" dy=\"0em\"></text>\n",
       "<text x=\"1025\" y=\"76\" font-size=\"7\" text-anchor=\"middle\" dy=\"0em\">theta=0.248252</text>\n",
       "<path d=\"M1000,93 L1050,93 L1050,97 L1000,97 Z\" stroke=\"black\" fill=\"lightgray\" stroke-linejoin=\"miter\" />\n",
       "<path d=\"M925,25 L1075,25\" stroke=\"darkred\" stroke-width=\"3\" fill=\"none\" />\n",
       "<path d=\"M975,175 L1075,175\" stroke=\"darkred\" stroke-width=\"3\" fill=\"none\" />\n",
       "<path d=\"M1075,25 L1090,25\" stroke-width=\"3\" stroke=\"darkred\" stroke-linejoin=\"miter\" fill=\"none\" />\n",
       "<text x=\"1100\" y=\"25\" font-size=\"6\" text-anchor=\"end\" dy=\"0em\">0</text>\n",
       "<path d=\"M1075,75 L1090,75\" stroke-width=\"3\" stroke=\"darkred\" stroke-linejoin=\"miter\" fill=\"none\" />\n",
       "<text x=\"1100\" y=\"75\" font-size=\"6\" text-anchor=\"end\" dy=\"0em\">1</text>\n",
       "<path d=\"M1075,125 L1090,125\" stroke-width=\"3\" stroke=\"darkred\" stroke-linejoin=\"miter\" fill=\"none\" />\n",
       "<text x=\"1100\" y=\"125\" font-size=\"6\" text-anchor=\"end\" dy=\"0em\">2</text>\n",
       "<path d=\"M1075,175 L1090,175\" stroke-width=\"3\" stroke=\"darkred\" stroke-linejoin=\"miter\" fill=\"none\" />\n",
       "<text x=\"1100\" y=\"175\" font-size=\"6\" text-anchor=\"end\" dy=\"0em\">3</text>\n",
       "</svg>"
      ],
      "text/plain": [
       "<drawSvg.drawing.Drawing at 0x25833c363b0>"
      ]
     },
     "execution_count": 11,
     "metadata": {},
     "output_type": "execute_result"
    }
   ],
   "source": [
    "a=pcvl.Circuit.generic_interferometer(4, lambda idx:pcvl.Circuit(2)//phys.PS(phi=random.random())//phys.BS(theta=random.random()), depth=8, shape=\"rectangle\")\n",
    "pcvl.pdisplay(a, recursive=True, render_size=0.7)"
   ]
  },
  {
   "cell_type": "markdown",
   "id": "f13dd7d7",
   "metadata": {
    "pycharm": {
     "name": "#%% md\n"
    }
   },
   "source": [
    "## Normalizing Circuit"
   ]
  },
  {
   "cell_type": "code",
   "execution_count": 12,
   "id": "0f5ee748",
   "metadata": {
    "pycharm": {
     "name": "#%%\n"
    }
   },
   "outputs": [],
   "source": [
    "import drawSvg as draw\n",
    "import copy"
   ]
  },
  {
   "cell_type": "code",
   "execution_count": null,
   "id": "df109c0f",
   "metadata": {
    "pycharm": {
     "name": "#%%\n"
    }
   },
   "outputs": [
    {
     "data": {
      "image/svg+xml": [
       "<?xml version=\"1.0\" encoding=\"UTF-8\"?>\n",
       "<svg xmlns=\"http://www.w3.org/2000/svg\" xmlns:xlink=\"http://www.w3.org/1999/xlink\"\n",
       "     width=\"931.8\" height=\"150.0\" viewBox=\"-3.0 0 1553.0 250\">\n",
       "<defs>\n",
       "</defs>\n",
       "<path d=\"M10,25 L25,25\" stroke-width=\"3\" stroke=\"darkred\" stroke-linejoin=\"miter\" fill=\"none\" />\n",
       "<text x=\"0\" y=\"25\" font-size=\"6\" text-anchor=\"start\" dy=\"0em\">0</text>\n",
       "<path d=\"M10,75 L25,75\" stroke-width=\"3\" stroke=\"darkred\" stroke-linejoin=\"miter\" fill=\"none\" />\n",
       "<text x=\"0\" y=\"75\" font-size=\"6\" text-anchor=\"start\" dy=\"0em\">1</text>\n",
       "<path d=\"M10,125 L25,125\" stroke-width=\"3\" stroke=\"darkred\" stroke-linejoin=\"miter\" fill=\"none\" />\n",
       "<text x=\"0\" y=\"125\" font-size=\"6\" text-anchor=\"start\" dy=\"0em\">2</text>\n",
       "<path d=\"M10,175 L25,175\" stroke-width=\"3\" stroke=\"darkred\" stroke-linejoin=\"miter\" fill=\"none\" />\n",
       "<text x=\"0\" y=\"175\" font-size=\"6\" text-anchor=\"start\" dy=\"0em\">3</text>\n",
       "<path d=\"M25,125 L75,125\" stroke=\"darkred\" stroke-width=\"3\" fill=\"none\" />\n",
       "<path d=\"M30,140 L39,140 L53,110 L44,110 L30,140 L39,140 Z\" stroke=\"black\" fill=\"gray\" stroke-linejoin=\"miter\" />\n",
       "<text x=\"47\" y=\"138\" font-size=\"7\" text-anchor=\"start\" dy=\"0em\">φ=0.221383</text>\n",
       "<path d=\"M25,175 L75,175\" stroke=\"darkred\" stroke-width=\"3\" fill=\"none\" />\n",
       "<path d=\"M75,125 L103,125 L122,144\" stroke=\"darkred\" stroke-width=\"3\" fill=\"none\" />\n",
       "<path d=\"M128,144 L147,125 L175,125\" stroke=\"darkred\" stroke-width=\"3\" fill=\"none\" />\n",
       "<path d=\"M75,175 L103,175 L122,156\" stroke=\"darkred\" stroke-width=\"3\" fill=\"none\" />\n",
       "<path d=\"M128,156 L147,175 L175,175\" stroke=\"darkred\" stroke-width=\"3\" fill=\"none\" />\n",
       "<path d=\"M100,143 L150,143 L150,157 L100,157 Z\" stroke=\"black\" fill=\"black\" stroke-linejoin=\"miter\" />\n",
       "<text x=\"125\" y=\"186\" font-size=\"7\" text-anchor=\"middle\" dy=\"0em\"></text>\n",
       "<text x=\"125\" y=\"126\" font-size=\"7\" text-anchor=\"middle\" dy=\"0em\">theta=0.255855</text>\n",
       "<path d=\"M100,143 L150,143 L150,147 L100,147 Z\" stroke=\"black\" fill=\"lightgray\" stroke-linejoin=\"miter\" />\n",
       "<path d=\"M25,25 L75,25\" stroke=\"darkred\" stroke-width=\"3\" fill=\"none\" />\n",
       "<path d=\"M30,40 L39,40 L53,10 L44,10 L30,40 L39,40 Z\" stroke=\"black\" fill=\"gray\" stroke-linejoin=\"miter\" />\n",
       "<text x=\"47\" y=\"38\" font-size=\"7\" text-anchor=\"start\" dy=\"0em\">φ=1.075992</text>\n",
       "<path d=\"M25,75 L75,75\" stroke=\"darkred\" stroke-width=\"3\" fill=\"none\" />\n",
       "<path d=\"M30,90 L39,90 L53,60 L44,60 L30,90 L39,90 Z\" stroke=\"black\" fill=\"gray\" stroke-linejoin=\"miter\" />\n",
       "<text x=\"47\" y=\"88\" font-size=\"7\" text-anchor=\"start\" dy=\"0em\">φ=3.065282</text>\n",
       "<path d=\"M75,75 L175,75\" stroke=\"darkred\" stroke-width=\"3\" fill=\"none\" />\n",
       "<path d=\"M175,75 L203,75 L222,94\" stroke=\"darkred\" stroke-width=\"3\" fill=\"none\" />\n",
       "<path d=\"M228,94 L247,75 L275,75\" stroke=\"darkred\" stroke-width=\"3\" fill=\"none\" />\n",
       "<path d=\"M175,125 L203,125 L222,106\" stroke=\"darkred\" stroke-width=\"3\" fill=\"none\" />\n",
       "<path d=\"M228,106 L247,125 L275,125\" stroke=\"darkred\" stroke-width=\"3\" fill=\"none\" />\n",
       "<path d=\"M200,93 L250,93 L250,107 L200,107 Z\" stroke=\"black\" fill=\"black\" stroke-linejoin=\"miter\" />\n",
       "<text x=\"225\" y=\"136\" font-size=\"7\" text-anchor=\"middle\" dy=\"0em\">phi_b=3*pi/2, phi_d=pi</text>\n",
       "<text x=\"225\" y=\"76\" font-size=\"7\" text-anchor=\"middle\" dy=\"0em\">theta=2.618584</text>\n",
       "<path d=\"M200,93 L250,93 L250,97 L200,97 Z\" stroke=\"black\" fill=\"lightgray\" stroke-linejoin=\"miter\" />\n",
       "<path d=\"M75,25 L275,25\" stroke=\"darkred\" stroke-width=\"3\" fill=\"none\" />\n",
       "<path d=\"M275,25 L303,25 L322,44\" stroke=\"darkred\" stroke-width=\"3\" fill=\"none\" />\n",
       "<path d=\"M328,44 L347,25 L375,25\" stroke=\"darkred\" stroke-width=\"3\" fill=\"none\" />\n",
       "<path d=\"M275,75 L303,75 L322,56\" stroke=\"darkred\" stroke-width=\"3\" fill=\"none\" />\n",
       "<path d=\"M328,56 L347,75 L375,75\" stroke=\"darkred\" stroke-width=\"3\" fill=\"none\" />\n",
       "<path d=\"M300,43 L350,43 L350,57 L300,57 Z\" stroke=\"black\" fill=\"black\" stroke-linejoin=\"miter\" />\n",
       "<text x=\"325\" y=\"86\" font-size=\"7\" text-anchor=\"middle\" dy=\"0em\">phi_b=3*pi/2, phi_d=pi</text>\n",
       "<text x=\"325\" y=\"26\" font-size=\"7\" text-anchor=\"middle\" dy=\"0em\">theta=3.874858</text>\n",
       "<path d=\"M300,43 L350,43 L350,47 L300,47 Z\" stroke=\"black\" fill=\"lightgray\" stroke-linejoin=\"miter\" />\n",
       "<path d=\"M375,75 L425,75\" stroke=\"darkred\" stroke-width=\"3\" fill=\"none\" />\n",
       "<path d=\"M380,90 L389,90 L403,60 L394,60 L380,90 L389,90 Z\" stroke=\"black\" fill=\"gray\" stroke-linejoin=\"miter\" />\n",
       "<text x=\"397\" y=\"88\" font-size=\"7\" text-anchor=\"start\" dy=\"0em\">φ=1.080832</text>\n",
       "<path d=\"M275,125 L325,125\" stroke=\"darkred\" stroke-width=\"3\" fill=\"none\" />\n",
       "<path d=\"M280,140 L289,140 L303,110 L294,110 L280,140 L289,140 Z\" stroke=\"black\" fill=\"gray\" stroke-linejoin=\"miter\" />\n",
       "<text x=\"297\" y=\"138\" font-size=\"7\" text-anchor=\"start\" dy=\"0em\">φ=4.877961</text>\n",
       "<path d=\"M175,175 L325,175\" stroke=\"darkred\" stroke-width=\"3\" fill=\"none\" />\n",
       "<path d=\"M325,125 L353,125 L372,144\" stroke=\"darkred\" stroke-width=\"3\" fill=\"none\" />\n",
       "<path d=\"M378,144 L397,125 L425,125\" stroke=\"darkred\" stroke-width=\"3\" fill=\"none\" />\n",
       "<path d=\"M325,175 L353,175 L372,156\" stroke=\"darkred\" stroke-width=\"3\" fill=\"none\" />\n",
       "<path d=\"M378,156 L397,175 L425,175\" stroke=\"darkred\" stroke-width=\"3\" fill=\"none\" />\n",
       "<path d=\"M350,143 L400,143 L400,157 L350,157 Z\" stroke=\"black\" fill=\"black\" stroke-linejoin=\"miter\" />\n",
       "<text x=\"375\" y=\"186\" font-size=\"7\" text-anchor=\"middle\" dy=\"0em\">phi_b=3*pi/2, phi_d=pi</text>\n",
       "<text x=\"375\" y=\"126\" font-size=\"7\" text-anchor=\"middle\" dy=\"0em\">theta=3.925871</text>\n",
       "<path d=\"M350,143 L400,143 L400,147 L350,147 Z\" stroke=\"black\" fill=\"lightgray\" stroke-linejoin=\"miter\" />\n",
       "<path d=\"M425,75 L453,75 L472,94\" stroke=\"darkred\" stroke-width=\"3\" fill=\"none\" />\n",
       "<path d=\"M478,94 L497,75 L525,75\" stroke=\"darkred\" stroke-width=\"3\" fill=\"none\" />\n",
       "<path d=\"M425,125 L453,125 L472,106\" stroke=\"darkred\" stroke-width=\"3\" fill=\"none\" />\n",
       "<path d=\"M478,106 L497,125 L525,125\" stroke=\"darkred\" stroke-width=\"3\" fill=\"none\" />\n",
       "<path d=\"M450,93 L500,93 L500,107 L450,107 Z\" stroke=\"black\" fill=\"black\" stroke-linejoin=\"miter\" />\n",
       "<text x=\"475\" y=\"136\" font-size=\"7\" text-anchor=\"middle\" dy=\"0em\">phi_b=3*pi/2, phi_d=pi</text>\n",
       "<text x=\"475\" y=\"76\" font-size=\"7\" text-anchor=\"middle\" dy=\"0em\">theta=4.208777</text>\n",
       "<path d=\"M450,93 L500,93 L500,97 L450,97 Z\" stroke=\"black\" fill=\"lightgray\" stroke-linejoin=\"miter\" />\n",
       "<path d=\"M525,125 L575,125\" stroke=\"darkred\" stroke-width=\"3\" fill=\"none\" />\n",
       "<path d=\"M530,140 L539,140 L553,110 L544,110 L530,140 L539,140 Z\" stroke=\"black\" fill=\"gray\" stroke-linejoin=\"miter\" />\n",
       "<text x=\"547\" y=\"138\" font-size=\"7\" text-anchor=\"start\" dy=\"0em\">φ=4.060709</text>\n",
       "<path d=\"M425,175 L575,175\" stroke=\"darkred\" stroke-width=\"3\" fill=\"none\" />\n",
       "<path d=\"M575,125 L603,125 L622,144\" stroke=\"darkred\" stroke-width=\"3\" fill=\"none\" />\n",
       "<path d=\"M628,144 L647,125 L675,125\" stroke=\"darkred\" stroke-width=\"3\" fill=\"none\" />\n",
       "<path d=\"M575,175 L603,175 L622,156\" stroke=\"darkred\" stroke-width=\"3\" fill=\"none\" />\n",
       "<path d=\"M628,156 L647,175 L675,175\" stroke=\"darkred\" stroke-width=\"3\" fill=\"none\" />\n",
       "<path d=\"M600,143 L650,143 L650,157 L600,157 Z\" stroke=\"black\" fill=\"black\" stroke-linejoin=\"miter\" />\n",
       "<text x=\"625\" y=\"186\" font-size=\"7\" text-anchor=\"middle\" dy=\"0em\">phi_b=3*pi/2, phi_d=pi</text>\n",
       "<text x=\"625\" y=\"126\" font-size=\"7\" text-anchor=\"middle\" dy=\"0em\">theta=2.352509</text>\n",
       "<path d=\"M600,143 L650,143 L650,147 L600,147 Z\" stroke=\"black\" fill=\"lightgray\" stroke-linejoin=\"miter\" />\n",
       "<path d=\"M525,75 L575,75\" stroke=\"darkred\" stroke-width=\"3\" fill=\"none\" />\n",
       "<path d=\"M530,90 L539,90 L553,60 L544,60 L530,90 L539,90 Z\" stroke=\"black\" fill=\"gray\" stroke-linejoin=\"miter\" />\n",
       "<text x=\"547\" y=\"88\" font-size=\"7\" text-anchor=\"start\" dy=\"0em\">φ=2*pi</text>\n",
       "<path d=\"M675,125 L725,125\" stroke=\"darkred\" stroke-width=\"3\" fill=\"none\" />\n",
       "<path d=\"M680,140 L689,140 L703,110 L694,110 L680,140 L689,140 Z\" stroke=\"black\" fill=\"gray\" stroke-linejoin=\"miter\" />\n",
       "<text x=\"697\" y=\"138\" font-size=\"7\" text-anchor=\"start\" dy=\"0em\">φ=3.632978</text>\n",
       "<path d=\"M675,175 L725,175\" stroke=\"darkred\" stroke-width=\"3\" fill=\"none\" />\n",
       "<path d=\"M680,190 L689,190 L703,160 L694,160 L680,190 L689,190 Z\" stroke=\"black\" fill=\"gray\" stroke-linejoin=\"miter\" />\n",
       "<text x=\"697\" y=\"188\" font-size=\"7\" text-anchor=\"start\" dy=\"0em\">φ=2.851977</text>\n",
       "<path d=\"M725,125 L775,125\" stroke=\"darkred\" stroke-width=\"3\" fill=\"none\" />\n",
       "<path d=\"M730,140 L739,140 L753,110 L744,110 L730,140 L739,140 Z\" stroke=\"black\" fill=\"gray\" stroke-linejoin=\"miter\" />\n",
       "<text x=\"747\" y=\"138\" font-size=\"7\" text-anchor=\"start\" dy=\"0em\">φ=2.701333</text>\n",
       "<path d=\"M775,125 L825,125\" stroke=\"darkred\" stroke-width=\"3\" fill=\"none\" />\n",
       "<path d=\"M780,140 L789,140 L803,110 L794,110 L780,140 L789,140 Z\" stroke=\"black\" fill=\"gray\" stroke-linejoin=\"miter\" />\n",
       "<text x=\"797\" y=\"138\" font-size=\"7\" text-anchor=\"start\" dy=\"0em\">φ=0.317755</text>\n",
       "<path d=\"M725,175 L825,175\" stroke=\"darkred\" stroke-width=\"3\" fill=\"none\" />\n",
       "<path d=\"M825,125 L853,125 L872,144\" stroke=\"darkred\" stroke-width=\"3\" fill=\"none\" />\n",
       "<path d=\"M878,144 L897,125 L925,125\" stroke=\"darkred\" stroke-width=\"3\" fill=\"none\" />\n",
       "<path d=\"M825,175 L853,175 L872,156\" stroke=\"darkred\" stroke-width=\"3\" fill=\"none\" />\n",
       "<path d=\"M878,156 L897,175 L925,175\" stroke=\"darkred\" stroke-width=\"3\" fill=\"none\" />\n",
       "<path d=\"M850,143 L900,143 L900,157 L850,157 Z\" stroke=\"black\" fill=\"black\" stroke-linejoin=\"miter\" />\n",
       "<text x=\"875\" y=\"186\" font-size=\"7\" text-anchor=\"middle\" dy=\"0em\">phi_b=3*pi/2, phi_d=pi</text>\n",
       "<text x=\"875\" y=\"126\" font-size=\"7\" text-anchor=\"middle\" dy=\"0em\">theta=2.784603</text>\n",
       "<path d=\"M850,143 L900,143 L900,147 L850,147 Z\" stroke=\"black\" fill=\"lightgray\" stroke-linejoin=\"miter\" />\n",
       "<path d=\"M925,125 L975,125\" stroke=\"darkred\" stroke-width=\"3\" fill=\"none\" />\n",
       "<path d=\"M930,140 L939,140 L953,110 L944,110 L930,140 L939,140 Z\" stroke=\"black\" fill=\"gray\" stroke-linejoin=\"miter\" />\n",
       "<text x=\"947\" y=\"138\" font-size=\"7\" text-anchor=\"start\" dy=\"0em\">φ=2.823837</text>\n",
       "<path d=\"M925,175 L975,175\" stroke=\"darkred\" stroke-width=\"3\" fill=\"none\" />\n",
       "<path d=\"M930,190 L939,190 L953,160 L944,160 L930,190 L939,190 Z\" stroke=\"black\" fill=\"gray\" stroke-linejoin=\"miter\" />\n",
       "<text x=\"947\" y=\"188\" font-size=\"7\" text-anchor=\"start\" dy=\"0em\">φ=5.96543</text>\n",
       "<path d=\"M375,25 L425,25\" stroke=\"darkred\" stroke-width=\"3\" fill=\"none\" />\n",
       "<path d=\"M380,40 L389,40 L403,10 L394,10 L380,40 L389,40 Z\" stroke=\"black\" fill=\"gray\" stroke-linejoin=\"miter\" />\n",
       "<text x=\"397\" y=\"38\" font-size=\"7\" text-anchor=\"start\" dy=\"0em\">φ=2.840164</text>\n",
       "<path d=\"M425,25 L575,25\" stroke=\"darkred\" stroke-width=\"3\" fill=\"none\" />\n",
       "<path d=\"M575,25 L603,25 L622,44\" stroke=\"darkred\" stroke-width=\"3\" fill=\"none\" />\n",
       "<path d=\"M628,44 L647,25 L675,25\" stroke=\"darkred\" stroke-width=\"3\" fill=\"none\" />\n",
       "<path d=\"M575,75 L603,75 L622,56\" stroke=\"darkred\" stroke-width=\"3\" fill=\"none\" />\n",
       "<path d=\"M628,56 L647,75 L675,75\" stroke=\"darkred\" stroke-width=\"3\" fill=\"none\" />\n",
       "<path d=\"M600,43 L650,43 L650,57 L600,57 Z\" stroke=\"black\" fill=\"black\" stroke-linejoin=\"miter\" />\n",
       "<text x=\"625\" y=\"86\" font-size=\"7\" text-anchor=\"middle\" dy=\"0em\">phi_b=3*pi/2, phi_d=pi</text>\n",
       "<text x=\"625\" y=\"26\" font-size=\"7\" text-anchor=\"middle\" dy=\"0em\">theta=5.748782</text>\n",
       "<path d=\"M600,43 L650,43 L650,47 L600,47 Z\" stroke=\"black\" fill=\"lightgray\" stroke-linejoin=\"miter\" />\n",
       "<path d=\"M675,75 L725,75\" stroke=\"darkred\" stroke-width=\"3\" fill=\"none\" />\n",
       "<path d=\"M680,90 L689,90 L703,60 L694,60 L680,90 L689,90 Z\" stroke=\"black\" fill=\"gray\" stroke-linejoin=\"miter\" />\n",
       "<text x=\"697\" y=\"88\" font-size=\"7\" text-anchor=\"start\" dy=\"0em\">φ=1.120177</text>\n",
       "<path d=\"M725,75 L775,75\" stroke=\"darkred\" stroke-width=\"3\" fill=\"none\" />\n",
       "<path d=\"M730,90 L739,90 L753,60 L744,60 L730,90 L739,90 Z\" stroke=\"black\" fill=\"gray\" stroke-linejoin=\"miter\" />\n",
       "<text x=\"747\" y=\"88\" font-size=\"7\" text-anchor=\"start\" dy=\"0em\">φ=pi</text>\n",
       "<path d=\"M675,25 L725,25\" stroke=\"darkred\" stroke-width=\"3\" fill=\"none\" />\n",
       "<path d=\"M680,40 L689,40 L703,10 L694,10 L680,40 L689,40 Z\" stroke=\"black\" fill=\"gray\" stroke-linejoin=\"miter\" />\n",
       "<text x=\"697\" y=\"38\" font-size=\"7\" text-anchor=\"start\" dy=\"0em\">φ=1.120104</text>\n",
       "<path d=\"M775,75 L825,75\" stroke=\"darkred\" stroke-width=\"3\" fill=\"none\" />\n",
       "<path d=\"M780,90 L789,90 L803,60 L794,60 L780,90 L789,90 Z\" stroke=\"black\" fill=\"gray\" stroke-linejoin=\"miter\" />\n",
       "<text x=\"797\" y=\"88\" font-size=\"7\" text-anchor=\"start\" dy=\"0em\">φ=2.570343</text>\n",
       "<path d=\"M975,125 L1025,125\" stroke=\"darkred\" stroke-width=\"3\" fill=\"none\" />\n",
       "<path d=\"M980,140 L989,140 L1003,110 L994,110 L980,140 L989,140 Z\" stroke=\"black\" fill=\"gray\" stroke-linejoin=\"miter\" />\n",
       "<text x=\"997\" y=\"138\" font-size=\"7\" text-anchor=\"start\" dy=\"0em\">φ=1.727472</text>\n",
       "<path d=\"M1025,125 L1075,125\" stroke=\"darkred\" stroke-width=\"3\" fill=\"none\" />\n",
       "<path d=\"M1030,140 L1039,140 L1053,110 L1044,110 L1030,140 L1039,140 Z\" stroke=\"black\" fill=\"gray\" stroke-linejoin=\"miter\" />\n",
       "<text x=\"1047\" y=\"138\" font-size=\"7\" text-anchor=\"start\" dy=\"0em\">φ=3.206103</text>\n",
       "<path d=\"M975,175 L1075,175\" stroke=\"darkred\" stroke-width=\"3\" fill=\"none\" />\n",
       "<path d=\"M1075,125 L1103,125 L1122,144\" stroke=\"darkred\" stroke-width=\"3\" fill=\"none\" />\n",
       "<path d=\"M1128,144 L1147,125 L1175,125\" stroke=\"darkred\" stroke-width=\"3\" fill=\"none\" />\n",
       "<path d=\"M1075,175 L1103,175 L1122,156\" stroke=\"darkred\" stroke-width=\"3\" fill=\"none\" />\n",
       "<path d=\"M1128,156 L1147,175 L1175,175\" stroke=\"darkred\" stroke-width=\"3\" fill=\"none\" />\n",
       "<path d=\"M1100,143 L1150,143 L1150,157 L1100,157 Z\" stroke=\"black\" fill=\"black\" stroke-linejoin=\"miter\" />\n",
       "<text x=\"1125\" y=\"186\" font-size=\"7\" text-anchor=\"middle\" dy=\"0em\">phi_b=3*pi/2, phi_d=pi</text>\n",
       "<text x=\"1125\" y=\"126\" font-size=\"7\" text-anchor=\"middle\" dy=\"0em\">theta=3.405034</text>\n",
       "<path d=\"M1100,143 L1150,143 L1150,147 L1100,147 Z\" stroke=\"black\" fill=\"lightgray\" stroke-linejoin=\"miter\" />\n",
       "<path d=\"M1175,175 L1225,175\" stroke=\"darkred\" stroke-width=\"3\" fill=\"none\" />\n",
       "<path d=\"M1180,190 L1189,190 L1203,160 L1194,160 L1180,190 L1189,190 Z\" stroke=\"black\" fill=\"gray\" stroke-linejoin=\"miter\" />\n",
       "<text x=\"1197\" y=\"188\" font-size=\"7\" text-anchor=\"start\" dy=\"0em\">φ=6.218675</text>\n",
       "<path d=\"M825,75 L875,75\" stroke=\"darkred\" stroke-width=\"3\" fill=\"none\" />\n",
       "<path d=\"M830,90 L839,90 L853,60 L844,60 L830,90 L839,90 Z\" stroke=\"black\" fill=\"gray\" stroke-linejoin=\"miter\" />\n",
       "<text x=\"847\" y=\"88\" font-size=\"7\" text-anchor=\"start\" dy=\"0em\">φ=0.064511</text>\n",
       "<path d=\"M875,75 L1175,75\" stroke=\"darkred\" stroke-width=\"3\" fill=\"none\" />\n",
       "<path d=\"M1175,75 L1203,75 L1222,94\" stroke=\"darkred\" stroke-width=\"3\" fill=\"none\" />\n",
       "<path d=\"M1228,94 L1247,75 L1275,75\" stroke=\"darkred\" stroke-width=\"3\" fill=\"none\" />\n",
       "<path d=\"M1175,125 L1203,125 L1222,106\" stroke=\"darkred\" stroke-width=\"3\" fill=\"none\" />\n",
       "<path d=\"M1228,106 L1247,125 L1275,125\" stroke=\"darkred\" stroke-width=\"3\" fill=\"none\" />\n",
       "<path d=\"M1200,93 L1250,93 L1250,107 L1200,107 Z\" stroke=\"black\" fill=\"black\" stroke-linejoin=\"miter\" />\n",
       "<text x=\"1225\" y=\"136\" font-size=\"7\" text-anchor=\"middle\" dy=\"0em\">phi_b=3*pi/2, phi_d=pi</text>\n",
       "<text x=\"1225\" y=\"76\" font-size=\"7\" text-anchor=\"middle\" dy=\"0em\">theta=2.593651</text>\n",
       "<path d=\"M1200,93 L1250,93 L1250,97 L1200,97 Z\" stroke=\"black\" fill=\"lightgray\" stroke-linejoin=\"miter\" />\n",
       "<path d=\"M1275,75 L1325,75\" stroke=\"darkred\" stroke-width=\"3\" fill=\"none\" />\n",
       "<path d=\"M1280,90 L1289,90 L1303,60 L1294,60 L1280,90 L1289,90 Z\" stroke=\"black\" fill=\"gray\" stroke-linejoin=\"miter\" />\n",
       "<text x=\"1297\" y=\"88\" font-size=\"7\" text-anchor=\"start\" dy=\"0em\">φ=6.218675</text>\n",
       "<path d=\"M1275,125 L1325,125\" stroke=\"darkred\" stroke-width=\"3\" fill=\"none\" />\n",
       "<path d=\"M1280,140 L1289,140 L1303,110 L1294,110 L1280,140 L1289,140 Z\" stroke=\"black\" fill=\"gray\" stroke-linejoin=\"miter\" />\n",
       "<text x=\"1297\" y=\"138\" font-size=\"7\" text-anchor=\"start\" dy=\"0em\">φ=6.218675</text>\n",
       "<path d=\"M1325,125 L1375,125\" stroke=\"darkred\" stroke-width=\"3\" fill=\"none\" />\n",
       "<path d=\"M1330,140 L1339,140 L1353,110 L1344,110 L1330,140 L1339,140 Z\" stroke=\"black\" fill=\"gray\" stroke-linejoin=\"miter\" />\n",
       "<text x=\"1347\" y=\"138\" font-size=\"7\" text-anchor=\"start\" dy=\"0em\">φ=4.831006</text>\n",
       "<path d=\"M1225,175 L1375,175\" stroke=\"darkred\" stroke-width=\"3\" fill=\"none\" />\n",
       "<path d=\"M1375,125 L1403,125 L1422,144\" stroke=\"darkred\" stroke-width=\"3\" fill=\"none\" />\n",
       "<path d=\"M1428,144 L1447,125 L1475,125\" stroke=\"darkred\" stroke-width=\"3\" fill=\"none\" />\n",
       "<path d=\"M1375,175 L1403,175 L1422,156\" stroke=\"darkred\" stroke-width=\"3\" fill=\"none\" />\n",
       "<path d=\"M1428,156 L1447,175 L1475,175\" stroke=\"darkred\" stroke-width=\"3\" fill=\"none\" />\n",
       "<path d=\"M1400,143 L1450,143 L1450,157 L1400,157 Z\" stroke=\"black\" fill=\"black\" stroke-linejoin=\"miter\" />\n",
       "<text x=\"1425\" y=\"186\" font-size=\"7\" text-anchor=\"middle\" dy=\"0em\">phi_b=3*pi/2, phi_d=pi</text>\n",
       "<text x=\"1425\" y=\"126\" font-size=\"7\" text-anchor=\"middle\" dy=\"0em\">theta=2.625238</text>\n",
       "<path d=\"M1400,143 L1450,143 L1450,147 L1400,147 Z\" stroke=\"black\" fill=\"lightgray\" stroke-linejoin=\"miter\" />\n",
       "<path d=\"M1325,75 L1375,75\" stroke=\"darkred\" stroke-width=\"3\" fill=\"none\" />\n",
       "<path d=\"M1330,90 L1339,90 L1353,60 L1344,60 L1330,90 L1339,90 Z\" stroke=\"black\" fill=\"gray\" stroke-linejoin=\"miter\" />\n",
       "<text x=\"1347\" y=\"88\" font-size=\"7\" text-anchor=\"start\" dy=\"0em\">φ=2*pi</text>\n",
       "<path d=\"M1475,125 L1525,125\" stroke=\"darkred\" stroke-width=\"3\" fill=\"none\" />\n",
       "<path d=\"M1480,140 L1489,140 L1503,110 L1494,110 L1480,140 L1489,140 Z\" stroke=\"black\" fill=\"gray\" stroke-linejoin=\"miter\" />\n",
       "<text x=\"1497\" y=\"138\" font-size=\"7\" text-anchor=\"start\" dy=\"0em\">φ=0.366836</text>\n",
       "<path d=\"M1475,175 L1525,175\" stroke=\"darkred\" stroke-width=\"3\" fill=\"none\" />\n",
       "<path d=\"M1480,190 L1489,190 L1503,160 L1494,160 L1480,190 L1489,190 Z\" stroke=\"black\" fill=\"gray\" stroke-linejoin=\"miter\" />\n",
       "<text x=\"1497\" y=\"188\" font-size=\"7\" text-anchor=\"start\" dy=\"0em\">φ=6.152115</text>\n",
       "<path d=\"M725,25 L1525,25\" stroke=\"darkred\" stroke-width=\"3\" fill=\"none\" />\n",
       "<path d=\"M1375,75 L1525,75\" stroke=\"darkred\" stroke-width=\"3\" fill=\"none\" />\n",
       "<path d=\"M1525,25 L1540,25\" stroke-width=\"3\" stroke=\"darkred\" stroke-linejoin=\"miter\" fill=\"none\" />\n",
       "<text x=\"1550\" y=\"25\" font-size=\"6\" text-anchor=\"end\" dy=\"0em\">0</text>\n",
       "<path d=\"M1525,75 L1540,75\" stroke-width=\"3\" stroke=\"darkred\" stroke-linejoin=\"miter\" fill=\"none\" />\n",
       "<text x=\"1550\" y=\"75\" font-size=\"6\" text-anchor=\"end\" dy=\"0em\">1</text>\n",
       "<path d=\"M1525,125 L1540,125\" stroke-width=\"3\" stroke=\"darkred\" stroke-linejoin=\"miter\" fill=\"none\" />\n",
       "<text x=\"1550\" y=\"125\" font-size=\"6\" text-anchor=\"end\" dy=\"0em\">2</text>\n",
       "<path d=\"M1525,175 L1540,175\" stroke-width=\"3\" stroke=\"darkred\" stroke-linejoin=\"miter\" fill=\"none\" />\n",
       "<text x=\"1550\" y=\"175\" font-size=\"6\" text-anchor=\"end\" dy=\"0em\">3</text>\n",
       "</svg>"
      ],
      "text/plain": [
       "<drawSvg.drawing.Drawing at 0x2583692e470>"
      ]
     },
     "metadata": {},
     "output_type": "display_data"
    },
    {
     "name": "stdout",
     "output_type": "stream",
     "text": [
      "matching pattern pattern1\n",
      "matching pattern pattern\n",
      "matching ok {'phi1': 3.632978412940332, 'phi2': 2.7013333138862556}\n"
     ]
    }
   ],
   "source": [
    "reverse = []\n",
    "direct=[]\n",
    "def draw_frame(a):\n",
    "    if isinstance(a, pcvl.Circuit):\n",
    "        d = pcvl.pdisplay(a, recursive=True, render_size=0.6)\n",
    "        reverse.insert(0, d)\n",
    "        direct.append(d)\n",
    "        return d\n",
    "    return a\n",
    "\n",
    "rules = [(pattern1, rewrite1, \"lightgreen\"), (pattern2, rewrite2, \"lightblue\"),\n",
    "         (pattern3, rewrite3, \"pink\"), (pattern4, rewrite4, \"orange\")]\n",
    "\n",
    "with draw.animate_jupyter(draw_frame, delay=0.1) as anim:\n",
    "    anim.draw_frame(a)\n",
    "    while True:\n",
    "        found = False\n",
    "        for pattern, rewrite, color in rules:\n",
    "            start_pos = 0\n",
    "            while True:\n",
    "                print(\"matching pattern\", pattern._name)\n",
    "                matched = a.match(pattern, browse=True, pos=start_pos)\n",
    "                if matched is None:\n",
    "                    break\n",
    "                print(\"matching ok\", matched.v_map)\n",
    "                idx = a.isolate(list(matched.pos_map.keys()), color=color)\n",
    "                anim.draw_frame(a)\n",
    "                for k, v in matched.v_map.items():\n",
    "                    pattern[k].set_value(v)\n",
    "                v = pattern.compute_unitary(False)\n",
    "                print(\"optimizing rewrite\",rewrite._name)\n",
    "                res = optimize(rewrite, v, frobenius, sign=-1)\n",
    "                print(\"found params with distance\", res.fun)\n",
    "                subc = rewrite.copy()\n",
    "                found = True\n",
    "                a.replace(idx, subc, merge=False)\n",
    "                anim.draw_frame(a)\n",
    "                a.replace(idx, subc, merge=True)\n",
    "                pattern.reset_parameters()\n",
    "                rewrite.reset_parameters()\n",
    "                anim.draw_frame(a)\n",
    "                start_pos = idx\n",
    "        if not found:\n",
    "            break"
   ]
  },
  {
   "cell_type": "markdown",
   "source": [
    "This representation is exaclty the normal form that we wanted to obtain."
   ],
   "metadata": {
    "collapsed": false,
    "pycharm": {
     "name": "#%% md\n"
    }
   }
  }
 ],
 "metadata": {
  "kernelspec": {
   "display_name": "Python 3 (ipykernel)",
   "language": "python",
   "name": "python3"
  },
  "language_info": {
   "codemirror_mode": {
    "name": "ipython",
    "version": 3
   },
   "file_extension": ".py",
   "mimetype": "text/x-python",
   "name": "python",
   "nbconvert_exporter": "python",
   "pygments_lexer": "ipython3",
   "version": "3.10.4"
  }
 },
 "nbformat": 4,
 "nbformat_minor": 5
}