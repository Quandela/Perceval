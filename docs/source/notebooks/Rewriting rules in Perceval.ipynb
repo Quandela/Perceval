{
 "cells": [
  {
   "cell_type": "markdown",
   "id": "dd3d8d19",
   "metadata": {},
   "source": [
    "# LOv rewriting rules in Perceval\n",
    "\n",
    "The aim of this notebook is to rewrite a circuit using rewriting rules based on the article: *LOv-Calculus: A Graphical Language for Linear Optical Quantum Circuits*.\n",
    "\n",
    "We show how to use these rewriting rules to generate unique triangular normal forms."
   ]
  },
  {
   "cell_type": "code",
   "execution_count": 1,
   "id": "96bdb88a",
   "metadata": {},
   "outputs": [],
   "source": [
    "import perceval as pcvl\n",
    "from perceval.utils.algorithms.optimize import optimize\n",
    "from perceval.utils.algorithms.norm import frobenius\n",
    "import random\n",
    "\n",
    "from perceval.rendering.circuit import DisplayConfig, SymbSkin\n",
    "DisplayConfig.select_skin(SymbSkin)"
   ]
  },
  {
   "cell_type": "markdown",
   "id": "ba837e96",
   "metadata": {},
   "source": [
    "This is the first rewrite rule used in this noteobok. It is the rule 37 in the article."
   ]
  },
  {
   "cell_type": "markdown",
   "id": "09923a89",
   "metadata": {},
   "source": [
    "![rewrite37](../_static/img/rewrite37.png)"
   ]
  },
  {
   "cell_type": "code",
   "execution_count": 2,
   "id": "ede320ce",
   "metadata": {},
   "outputs": [
    {
     "data": {
      "text/plain": "<drawsvg.drawing.Drawing at 0x1507ff56990>",
      "image/svg+xml": "<?xml version=\"1.0\" encoding=\"UTF-8\"?>\n<svg xmlns=\"http://www.w3.org/2000/svg\" xmlns:xlink=\"http://www.w3.org/1999/xlink\"\n    width=\"687.5\" height=\"250.0\" viewBox=\"-28.0 -200 550 200\">\n<defs>\n</defs>\n<path d=\"M10,-25 L25,-25\" stroke-width=\"1\" stroke=\"black\" stroke-linejoin=\"miter\" fill=\"none\" />\n<path d=\"M10,-75 L25,-75\" stroke-width=\"1\" stroke=\"black\" stroke-linejoin=\"miter\" fill=\"none\" />\n<path d=\"M10,-125 L25,-125\" stroke-width=\"1\" stroke=\"black\" stroke-linejoin=\"miter\" fill=\"none\" />\n<path d=\"M27,-2 L423,-2 L423,-148 L27,-148 Z\" stroke=\"black\" fill=\"lightgreen\" stroke-dasharray=\"1,2\" stroke-linejoin=\"miter\" />\n<text x=\"29\" y=\"-155\" font-size=\"8\" text-anchor=\"start\">PATTERN1</text>\n<path d=\"M25,-25 L45,-25 M55,-25 L75,-25\" stroke-width=\"1\" stroke=\"black\" stroke-linejoin=\"miter\" fill=\"none\" />\n<path d=\"M40,-35 L60,-35 L60,-15 L40,-15 L40,-35\" stroke-width=\"1\" stroke=\"black\" stroke-linejoin=\"miter\" fill=\"lightgray\" />\n<text x=\"50\" y=\"-44\" font-size=\"7\" text-anchor=\"middle\">Φ=phi0</text>\n<path d=\"M25,-75 L75,-75\" stroke=\"black\" stroke-width=\"1\" fill=\"none\" />\n<path d=\"M87.9442,-25.0002 C101.65379999999999,-25.0002,101.5923,-50.0,115.30189999999999,-50.0 M115.3038,-50.0 C101.59219999999999,-50.0,101.65379999999999,-74.9998,87.94409999999999,-74.9998 M115.3038,-49.99999999999999 L137.1884,-49.99999999999999 M137.1884,-49.99999999999999 C150.9,-49.99999999999999,150.8384,-25.000199999999992,164.5481,-25.000199999999992 M137.1884,-49.99999999999999 C150.9,-49.99999999999999,150.8384,-74.9998,164.5481,-74.9998 M75.0,-24.999999999999993 L88.0,-24.999999999999993 M88.0019,-74.9998 L75.0,-74.9998 M162.64530000000002,-74.9998 L175.0,-74.9998 M162.1944,-24.999799999999993 L175.0,-24.999799999999993\" stroke-width=\"1\" stroke=\"black\" stroke-linejoin=\"miter\" fill=\"none\" />\n<text x=\"125\" y=\"-38\" font-size=\"7\" text-anchor=\"middle\">Θ=theta1</text>\n<path d=\"M147,-53 L157,-53 L157,-63 L147,-63 Z\" stroke=\"black\" fill=\"thistle\" stroke-linejoin=\"miter\" />\n<text x=\"152\" y=\"-60\" font-size=\"6\" text-anchor=\"middle\">Rx</text>\n<path d=\"M175,-25 L195,-25 M205,-25 L225,-25\" stroke-width=\"1\" stroke=\"black\" stroke-linejoin=\"miter\" fill=\"none\" />\n<path d=\"M190,-35 L210,-35 L210,-15 L190,-15 L190,-35\" stroke-width=\"1\" stroke=\"black\" stroke-linejoin=\"miter\" fill=\"lightgray\" />\n<text x=\"200\" y=\"-44\" font-size=\"7\" text-anchor=\"middle\">Φ=phi2</text>\n<path d=\"M175,-75 L195,-75 M205,-75 L225,-75\" stroke-width=\"1\" stroke=\"black\" stroke-linejoin=\"miter\" fill=\"none\" />\n<path d=\"M190,-85 L210,-85 L210,-65 L190,-65 L190,-85\" stroke-width=\"1\" stroke=\"black\" stroke-linejoin=\"miter\" fill=\"lightgray\" />\n<text x=\"200\" y=\"-94\" font-size=\"7\" text-anchor=\"middle\">Φ=phi1</text>\n<path d=\"M25,-125 L225,-125\" stroke=\"black\" stroke-width=\"1\" fill=\"none\" />\n<path d=\"M237.9442,-75.0002 C251.6538,-75.0002,251.5923,-100.0,265.3019,-100.0 M265.30379999999997,-100.0 C251.59219999999996,-100.0,251.65379999999996,-124.9998,237.94409999999996,-124.9998 M265.30379999999997,-100.0 L287.18839999999994,-100.0 M287.18839999999994,-100.0 C300.9,-100.0,300.8384,-75.0002,314.5481,-75.0002 M287.1884,-100.0 C300.9,-100.0,300.8384,-124.9998,314.5481,-124.9998 M224.99999999999997,-75.0 L237.99999999999997,-75.0 M238.00189999999998,-124.9998 L224.99999999999997,-124.9998 M312.64529999999996,-124.9998 L324.99999999999994,-124.9998 M312.1944,-74.9998 L325.0,-74.9998\" stroke-width=\"1\" stroke=\"black\" stroke-linejoin=\"miter\" fill=\"none\" />\n<text x=\"275\" y=\"-88\" font-size=\"7\" text-anchor=\"middle\">Θ=theta2</text>\n<path d=\"M297,-103 L307,-103 L307,-113 L297,-113 Z\" stroke=\"black\" fill=\"thistle\" stroke-linejoin=\"miter\" />\n<text x=\"302\" y=\"-110\" font-size=\"6\" text-anchor=\"middle\">Rx</text>\n<path d=\"M225,-25 L325,-25\" stroke=\"black\" stroke-width=\"1\" fill=\"none\" />\n<path d=\"M337.9442,-25.0002 C351.65380000000005,-25.0002,351.5923,-50.0,365.30190000000005,-50.0 M365.3038,-50.0 C351.59220000000005,-50.0,351.65380000000005,-74.9998,337.94410000000005,-74.9998 M365.3038,-49.99999999999999 L387.1884,-49.99999999999999 M387.1884,-49.99999999999999 C400.9,-49.99999999999999,400.8384,-25.000199999999992,414.5481,-25.000199999999992 M387.1884,-49.99999999999999 C400.9,-49.99999999999999,400.8384,-74.9998,414.5481,-74.9998 M325.0,-24.999999999999993 L338.0,-24.999999999999993 M338.0019,-74.9998 L325.0,-74.9998 M412.6453,-74.9998 L425.0,-74.9998 M412.1944,-24.999799999999993 L425.0,-24.999799999999993\" stroke-width=\"1\" stroke=\"black\" stroke-linejoin=\"miter\" fill=\"none\" />\n<text x=\"375\" y=\"-38\" font-size=\"7\" text-anchor=\"middle\">Θ=theta3</text>\n<path d=\"M397,-53 L407,-53 L407,-63 L397,-63 Z\" stroke=\"black\" fill=\"thistle\" stroke-linejoin=\"miter\" />\n<text x=\"402\" y=\"-60\" font-size=\"6\" text-anchor=\"middle\">Rx</text>\n<path d=\"M325,-125 L425,-125\" stroke=\"black\" stroke-width=\"1\" fill=\"none\" />\n<path d=\"M425,-25 L440,-25\" stroke-width=\"1\" stroke=\"black\" stroke-linejoin=\"miter\" fill=\"none\" />\n<path d=\"M425,-75 L440,-75\" stroke-width=\"1\" stroke=\"black\" stroke-linejoin=\"miter\" fill=\"none\" />\n<path d=\"M425,-125 L440,-125\" stroke-width=\"1\" stroke=\"black\" stroke-linejoin=\"miter\" fill=\"none\" />\n<text x=\"450\" y=\"-28\" font-size=\"6\" text-anchor=\"end\">0</text>\n<text x=\"450\" y=\"-78\" font-size=\"6\" text-anchor=\"end\">1</text>\n<text x=\"450\" y=\"-128\" font-size=\"6\" text-anchor=\"end\">2</text>\n<text x=\"0\" y=\"-28\" font-size=\"6\" text-anchor=\"start\">0</text>\n<text x=\"0\" y=\"-78\" font-size=\"6\" text-anchor=\"start\">1</text>\n<text x=\"0\" y=\"-128\" font-size=\"6\" text-anchor=\"start\">2</text>\n</svg>"
     },
     "execution_count": 2,
     "metadata": {},
     "output_type": "execute_result"
    }
   ],
   "source": [
    "pattern1=pcvl.Circuit(3, name=\"pattern1\")//(0,pcvl.PS(pcvl.P(\"phi0\")))//(0,pcvl.BS(theta=pcvl.P(\"theta1\")))//(0,pcvl.PS(pcvl.P(\"phi2\")))//(1,pcvl.PS(pcvl.P(\"phi1\")))//(1,pcvl.BS(theta=pcvl.P(\"theta2\")))//(0,pcvl.BS(theta=pcvl.P(\"theta3\")))\n",
    "pattern1._color = \"lightgreen\"\n",
    "pcvl.pdisplay(pcvl.Circuit(3).add(0,pattern1,False), recursive=True)"
   ]
  },
  {
   "cell_type": "code",
   "execution_count": 3,
   "id": "1e1ee73a",
   "metadata": {},
   "outputs": [
    {
     "data": {
      "text/plain": "<drawsvg.drawing.Drawing at 0x15012110b50>",
      "image/svg+xml": "<?xml version=\"1.0\" encoding=\"UTF-8\"?>\n<svg xmlns=\"http://www.w3.org/2000/svg\" xmlns:xlink=\"http://www.w3.org/1999/xlink\"\n    width=\"750.0\" height=\"250.0\" viewBox=\"-28.0 -200 600 200\">\n<defs>\n</defs>\n<path d=\"M10,-25 L25,-25\" stroke-width=\"1\" stroke=\"black\" stroke-linejoin=\"miter\" fill=\"none\" />\n<path d=\"M10,-75 L25,-75\" stroke-width=\"1\" stroke=\"black\" stroke-linejoin=\"miter\" fill=\"none\" />\n<path d=\"M10,-125 L25,-125\" stroke-width=\"1\" stroke=\"black\" stroke-linejoin=\"miter\" fill=\"none\" />\n<path d=\"M27,-2 L473,-2 L473,-148 L27,-148 Z\" stroke=\"black\" fill=\"lightgreen\" stroke-dasharray=\"1,2\" stroke-linejoin=\"miter\" />\n<text x=\"29\" y=\"-155\" font-size=\"8\" text-anchor=\"start\">REWRITE</text>\n<path d=\"M25,-25 L45,-25 M55,-25 L75,-25\" stroke-width=\"1\" stroke=\"black\" stroke-linejoin=\"miter\" fill=\"none\" />\n<path d=\"M40,-35 L60,-35 L60,-15 L40,-15 L40,-35\" stroke-width=\"1\" stroke=\"black\" stroke-linejoin=\"miter\" fill=\"lightgray\" />\n<text x=\"50\" y=\"-44\" font-size=\"7\" text-anchor=\"middle\">Φ=beta2</text>\n<path d=\"M25,-75 L45,-75 M55,-75 L75,-75\" stroke-width=\"1\" stroke=\"black\" stroke-linejoin=\"miter\" fill=\"none\" />\n<path d=\"M40,-85 L60,-85 L60,-65 L40,-65 L40,-85\" stroke-width=\"1\" stroke=\"black\" stroke-linejoin=\"miter\" fill=\"lightgray\" />\n<text x=\"50\" y=\"-94\" font-size=\"7\" text-anchor=\"middle\">Φ=beta1</text>\n<path d=\"M25,-125 L75,-125\" stroke=\"black\" stroke-width=\"1\" fill=\"none\" />\n<path d=\"M87.9442,-75.0002 C101.65379999999999,-75.0002,101.5923,-100.0,115.30189999999999,-100.0 M115.3038,-100.0 C101.59219999999999,-100.0,101.65379999999999,-124.9998,87.94409999999999,-124.9998 M115.3038,-100.0 L137.1884,-100.0 M137.1884,-100.0 C150.9,-100.0,150.8384,-75.0002,164.5481,-75.0002 M137.1884,-100.0 C150.9,-100.0,150.8384,-124.9998,164.5481,-124.9998 M75.0,-75.0 L88.0,-75.0 M88.0019,-124.9998 L75.0,-124.9998 M162.64530000000002,-124.9998 L175.0,-124.9998 M162.1944,-74.9998 L175.0,-74.9998\" stroke-width=\"1\" stroke=\"black\" stroke-linejoin=\"miter\" fill=\"none\" />\n<text x=\"125\" y=\"-88\" font-size=\"7\" text-anchor=\"middle\">Θ=alpha1</text>\n<path d=\"M147,-103 L157,-103 L157,-113 L147,-113 Z\" stroke=\"black\" fill=\"thistle\" stroke-linejoin=\"miter\" />\n<text x=\"152\" y=\"-110\" font-size=\"6\" text-anchor=\"middle\">Rx</text>\n<path d=\"M75,-25 L175,-25\" stroke=\"black\" stroke-width=\"1\" fill=\"none\" />\n<path d=\"M187.9442,-25.0002 C201.6538,-25.0002,201.5923,-50.0,215.3019,-50.0 M215.3038,-50.0 C201.5922,-50.0,201.6538,-74.9998,187.9441,-74.9998 M215.3038,-49.99999999999999 L237.1884,-49.99999999999999 M237.1884,-49.99999999999999 C250.9,-49.99999999999999,250.8384,-25.000199999999992,264.5481,-25.000199999999992 M237.18839999999997,-49.99999999999999 C250.89999999999998,-49.99999999999999,250.83839999999998,-74.9998,264.5481,-74.9998 M174.99999999999997,-24.999999999999993 L187.99999999999997,-24.999999999999993 M188.00189999999998,-74.9998 L174.99999999999997,-74.9998 M262.64529999999996,-74.9998 L274.99999999999994,-74.9998 M262.1944,-24.999799999999993 L275.0,-24.999799999999993\" stroke-width=\"1\" stroke=\"black\" stroke-linejoin=\"miter\" fill=\"none\" />\n<text x=\"225\" y=\"-38\" font-size=\"7\" text-anchor=\"middle\">Θ=alpha2</text>\n<path d=\"M247,-53 L257,-53 L257,-63 L247,-63 Z\" stroke=\"black\" fill=\"thistle\" stroke-linejoin=\"miter\" />\n<text x=\"252\" y=\"-60\" font-size=\"6\" text-anchor=\"middle\">Rx</text>\n<path d=\"M275,-75 L295,-75 M305,-75 L325,-75\" stroke-width=\"1\" stroke=\"black\" stroke-linejoin=\"miter\" fill=\"none\" />\n<path d=\"M290,-85 L310,-85 L310,-65 L290,-65 L290,-85\" stroke-width=\"1\" stroke=\"black\" stroke-linejoin=\"miter\" fill=\"lightgray\" />\n<text x=\"300\" y=\"-94\" font-size=\"7\" text-anchor=\"middle\">Φ=beta3</text>\n<path d=\"M175,-125 L325,-125\" stroke=\"black\" stroke-width=\"1\" fill=\"none\" />\n<path d=\"M337.9442,-75.0002 C351.65380000000005,-75.0002,351.5923,-100.0,365.30190000000005,-100.0 M365.3038,-100.0 C351.59220000000005,-100.0,351.65380000000005,-124.9998,337.94410000000005,-124.9998 M365.3038,-100.0 L387.1884,-100.0 M387.1884,-100.0 C400.9,-100.0,400.8384,-75.0002,414.5481,-75.0002 M387.1884,-100.0 C400.9,-100.0,400.8384,-124.9998,414.5481,-124.9998 M325.0,-75.0 L338.0,-75.0 M338.0019,-124.9998 L325.0,-124.9998 M412.6453,-124.9998 L425.0,-124.9998 M412.1944,-74.9998 L425.0,-74.9998\" stroke-width=\"1\" stroke=\"black\" stroke-linejoin=\"miter\" fill=\"none\" />\n<text x=\"375\" y=\"-88\" font-size=\"7\" text-anchor=\"middle\">Θ=alpha3</text>\n<path d=\"M397,-103 L407,-103 L407,-113 L397,-113 Z\" stroke=\"black\" fill=\"thistle\" stroke-linejoin=\"miter\" />\n<text x=\"402\" y=\"-110\" font-size=\"6\" text-anchor=\"middle\">Rx</text>\n<path d=\"M275,-25 L295,-25 M305,-25 L325,-25\" stroke-width=\"1\" stroke=\"black\" stroke-linejoin=\"miter\" fill=\"none\" />\n<path d=\"M290,-35 L310,-35 L310,-15 L290,-15 L290,-35\" stroke-width=\"1\" stroke=\"black\" stroke-linejoin=\"miter\" fill=\"lightgray\" />\n<text x=\"300\" y=\"-44\" font-size=\"7\" text-anchor=\"middle\">Φ=beta4</text>\n<path d=\"M425,-75 L445,-75 M455,-75 L475,-75\" stroke-width=\"1\" stroke=\"black\" stroke-linejoin=\"miter\" fill=\"none\" />\n<path d=\"M440,-85 L460,-85 L460,-65 L440,-65 L440,-85\" stroke-width=\"1\" stroke=\"black\" stroke-linejoin=\"miter\" fill=\"lightgray\" />\n<text x=\"450\" y=\"-94\" font-size=\"7\" text-anchor=\"middle\">Φ=beta5</text>\n<path d=\"M425,-125 L445,-125 M455,-125 L475,-125\" stroke-width=\"1\" stroke=\"black\" stroke-linejoin=\"miter\" fill=\"none\" />\n<path d=\"M440,-135 L460,-135 L460,-115 L440,-115 L440,-135\" stroke-width=\"1\" stroke=\"black\" stroke-linejoin=\"miter\" fill=\"lightgray\" />\n<text x=\"450\" y=\"-144\" font-size=\"7\" text-anchor=\"middle\">Φ=beta6</text>\n<path d=\"M325,-25 L475,-25\" stroke=\"black\" stroke-width=\"1\" fill=\"none\" />\n<path d=\"M475,-25 L490,-25\" stroke-width=\"1\" stroke=\"black\" stroke-linejoin=\"miter\" fill=\"none\" />\n<path d=\"M475,-75 L490,-75\" stroke-width=\"1\" stroke=\"black\" stroke-linejoin=\"miter\" fill=\"none\" />\n<path d=\"M475,-125 L490,-125\" stroke-width=\"1\" stroke=\"black\" stroke-linejoin=\"miter\" fill=\"none\" />\n<text x=\"500\" y=\"-28\" font-size=\"6\" text-anchor=\"end\">0</text>\n<text x=\"500\" y=\"-78\" font-size=\"6\" text-anchor=\"end\">1</text>\n<text x=\"500\" y=\"-128\" font-size=\"6\" text-anchor=\"end\">2</text>\n<text x=\"0\" y=\"-28\" font-size=\"6\" text-anchor=\"start\">0</text>\n<text x=\"0\" y=\"-78\" font-size=\"6\" text-anchor=\"start\">1</text>\n<text x=\"0\" y=\"-128\" font-size=\"6\" text-anchor=\"start\">2</text>\n</svg>"
     },
     "execution_count": 3,
     "metadata": {},
     "output_type": "execute_result"
    }
   ],
   "source": [
    "rewrite1=pcvl.Circuit(3, name=\"rewrite\")//(0,pcvl.PS(pcvl.P(\"beta2\")))//(1,pcvl.PS(pcvl.P(\"beta1\")))//(1,pcvl.BS(theta=pcvl.P(\"alpha1\")))//(0,pcvl.BS(theta=pcvl.P(\"alpha2\")))//(1,pcvl.PS(pcvl.P(\"beta3\")))//(1,pcvl.BS(theta=pcvl.P(\"alpha3\")))//(0,pcvl.PS(pcvl.P(\"beta4\")))//(1,pcvl.PS(pcvl.P(\"beta5\")))//(2,pcvl.PS(pcvl.P(\"beta6\")))\n",
    "rewrite1._color = \"lightgreen\"\n",
    "pcvl.pdisplay(pcvl.Circuit(3).add(0,rewrite1,False), recursive=True)"
   ]
  },
  {
   "cell_type": "markdown",
   "id": "d4197839",
   "metadata": {},
   "source": [
    "Let us implement now the rule number 1."
   ]
  },
  {
   "cell_type": "markdown",
   "id": "171cff3a",
   "metadata": {},
   "source": [
    "![rewrite1](../_static/img/rewrite1.png)"
   ]
  },
  {
   "cell_type": "code",
   "execution_count": 4,
   "id": "5468fdb9",
   "metadata": {},
   "outputs": [],
   "source": [
    "pattern2=pcvl.Circuit(1, name=\"pattern2\")//pcvl.PS(pcvl.P(\"phi1\"))//pcvl.PS(pcvl.P(\"phi2\"))\n",
    "rewrite2=pcvl.Circuit(1, name=\"rewrite2\")//pcvl.PS(pcvl.P(\"phi\"))"
   ]
  },
  {
   "cell_type": "code",
   "execution_count": 5,
   "id": "e428775f",
   "metadata": {},
   "outputs": [
    {
     "data": {
      "text/plain": "<drawsvg.drawing.Drawing at 0x15012105a10>",
      "image/svg+xml": "<?xml version=\"1.0\" encoding=\"UTF-8\"?>\n<svg xmlns=\"http://www.w3.org/2000/svg\" xmlns:xlink=\"http://www.w3.org/1999/xlink\"\n    width=\"312.5\" height=\"125.0\" viewBox=\"-28.0 -100 250 100\">\n<defs>\n</defs>\n<path d=\"M10,-25 L25,-25\" stroke-width=\"1\" stroke=\"black\" stroke-linejoin=\"miter\" fill=\"none\" />\n<path d=\"M27,-2 L123,-2 L123,-48 L27,-48 Z\" stroke=\"black\" fill=\"lightblue\" stroke-dasharray=\"1,2\" stroke-linejoin=\"miter\" />\n<text x=\"29\" y=\"-55\" font-size=\"8\" text-anchor=\"start\">PATTERN2</text>\n<path d=\"M25,-25 L45,-25 M55,-25 L75,-25\" stroke-width=\"1\" stroke=\"black\" stroke-linejoin=\"miter\" fill=\"none\" />\n<path d=\"M40,-35 L60,-35 L60,-15 L40,-15 L40,-35\" stroke-width=\"1\" stroke=\"black\" stroke-linejoin=\"miter\" fill=\"lightgray\" />\n<text x=\"50\" y=\"-44\" font-size=\"7\" text-anchor=\"middle\">Φ=phi1</text>\n<path d=\"M75,-25 L95,-25 M105,-25 L125,-25\" stroke-width=\"1\" stroke=\"black\" stroke-linejoin=\"miter\" fill=\"none\" />\n<path d=\"M90,-35 L110,-35 L110,-15 L90,-15 L90,-35\" stroke-width=\"1\" stroke=\"black\" stroke-linejoin=\"miter\" fill=\"lightgray\" />\n<text x=\"100\" y=\"-44\" font-size=\"7\" text-anchor=\"middle\">Φ=phi2</text>\n<path d=\"M125,-25 L140,-25\" stroke-width=\"1\" stroke=\"black\" stroke-linejoin=\"miter\" fill=\"none\" />\n<text x=\"150\" y=\"-28\" font-size=\"6\" text-anchor=\"end\">0</text>\n<text x=\"0\" y=\"-28\" font-size=\"6\" text-anchor=\"start\">0</text>\n</svg>"
     },
     "execution_count": 5,
     "metadata": {},
     "output_type": "execute_result"
    }
   ],
   "source": [
    "pcvl.pdisplay(pcvl.Circuit(1).add(0,pattern2,False), recursive=True)"
   ]
  },
  {
   "cell_type": "code",
   "execution_count": 6,
   "id": "e2bdd9f4",
   "metadata": {},
   "outputs": [
    {
     "data": {
      "text/plain": "<drawsvg.drawing.Drawing at 0x15012115890>",
      "image/svg+xml": "<?xml version=\"1.0\" encoding=\"UTF-8\"?>\n<svg xmlns=\"http://www.w3.org/2000/svg\" xmlns:xlink=\"http://www.w3.org/1999/xlink\"\n    width=\"250.0\" height=\"125.0\" viewBox=\"-28.0 -100 200 100\">\n<defs>\n</defs>\n<path d=\"M10,-25 L25,-25\" stroke-width=\"1\" stroke=\"black\" stroke-linejoin=\"miter\" fill=\"none\" />\n<path d=\"M27,-2 L73,-2 L73,-48 L27,-48 Z\" stroke=\"black\" fill=\"lightblue\" stroke-dasharray=\"1,2\" stroke-linejoin=\"miter\" />\n<text x=\"29\" y=\"-55\" font-size=\"8\" text-anchor=\"start\">REWRITE2</text>\n<path d=\"M25,-25 L45,-25 M55,-25 L75,-25\" stroke-width=\"1\" stroke=\"black\" stroke-linejoin=\"miter\" fill=\"none\" />\n<path d=\"M40,-35 L60,-35 L60,-15 L40,-15 L40,-35\" stroke-width=\"1\" stroke=\"black\" stroke-linejoin=\"miter\" fill=\"lightgray\" />\n<text x=\"50\" y=\"-44\" font-size=\"7\" text-anchor=\"middle\">Φ=phi</text>\n<path d=\"M75,-25 L90,-25\" stroke-width=\"1\" stroke=\"black\" stroke-linejoin=\"miter\" fill=\"none\" />\n<text x=\"100\" y=\"-28\" font-size=\"6\" text-anchor=\"end\">0</text>\n<text x=\"0\" y=\"-28\" font-size=\"6\" text-anchor=\"start\">0</text>\n</svg>"
     },
     "execution_count": 6,
     "metadata": {},
     "output_type": "execute_result"
    }
   ],
   "source": [
    "pcvl.pdisplay(pcvl.Circuit(1).add(0,rewrite2,False), recursive=True)"
   ]
  },
  {
   "cell_type": "markdown",
   "id": "7d547376",
   "metadata": {},
   "source": [
    "In fact, this rule has been directly implemented in Perceval, with the call of `simplify`."
   ]
  },
  {
   "cell_type": "code",
   "execution_count": 7,
   "id": "49074c57",
   "metadata": {},
   "outputs": [],
   "source": [
    "from perceval.utils.algorithms.simplification import simplify"
   ]
  },
  {
   "cell_type": "markdown",
   "id": "6ceae57c",
   "metadata": {},
   "source": [
    "The third rule used in this notebook is the following one:"
   ]
  },
  {
   "cell_type": "markdown",
   "id": "246fc6ce",
   "metadata": {},
   "source": [
    "![rewrite33](../_static/img/rewrite33.png)"
   ]
  },
  {
   "cell_type": "code",
   "execution_count": 8,
   "id": "d056ab6c",
   "metadata": {},
   "outputs": [
    {
     "data": {
      "text/plain": "<drawsvg.drawing.Drawing at 0x1501211d410>",
      "image/svg+xml": "<?xml version=\"1.0\" encoding=\"UTF-8\"?>\n<svg xmlns=\"http://www.w3.org/2000/svg\" xmlns:xlink=\"http://www.w3.org/1999/xlink\"\n    width=\"375.0\" height=\"187.5\" viewBox=\"-28.0 -150 300 150\">\n<defs>\n</defs>\n<path d=\"M10,-25 L25,-25\" stroke-width=\"1\" stroke=\"black\" stroke-linejoin=\"miter\" fill=\"none\" />\n<path d=\"M10,-75 L25,-75\" stroke-width=\"1\" stroke=\"black\" stroke-linejoin=\"miter\" fill=\"none\" />\n<path d=\"M27,-2 L173,-2 L173,-98 L27,-98 Z\" stroke=\"black\" fill=\"pink\" stroke-dasharray=\"1,2\" stroke-linejoin=\"miter\" />\n<text x=\"29\" y=\"-105\" font-size=\"8\" text-anchor=\"start\">PATTERN3</text>\n<path d=\"M25,-75 L45,-75 M55,-75 L75,-75\" stroke-width=\"1\" stroke=\"black\" stroke-linejoin=\"miter\" fill=\"none\" />\n<path d=\"M40,-85 L60,-85 L60,-65 L40,-65 L40,-85\" stroke-width=\"1\" stroke=\"black\" stroke-linejoin=\"miter\" fill=\"lightgray\" />\n<text x=\"50\" y=\"-94\" font-size=\"7\" text-anchor=\"middle\">Φ=phip</text>\n<path d=\"M25,-25 L75,-25\" stroke=\"black\" stroke-width=\"1\" fill=\"none\" />\n<path d=\"M87.9442,-25.0002 C101.65379999999999,-25.0002,101.5923,-50.0,115.30189999999999,-50.0 M115.3038,-50.0 C101.59219999999999,-50.0,101.65379999999999,-74.9998,87.94409999999999,-74.9998 M115.3038,-49.99999999999999 L137.1884,-49.99999999999999 M137.1884,-49.99999999999999 C150.9,-49.99999999999999,150.8384,-25.000199999999992,164.5481,-25.000199999999992 M137.1884,-49.99999999999999 C150.9,-49.99999999999999,150.8384,-74.9998,164.5481,-74.9998 M75.0,-24.999999999999993 L88.0,-24.999999999999993 M88.0019,-74.9998 L75.0,-74.9998 M162.64530000000002,-74.9998 L175.0,-74.9998 M162.1944,-24.999799999999993 L175.0,-24.999799999999993\" stroke-width=\"1\" stroke=\"black\" stroke-linejoin=\"miter\" fill=\"none\" />\n<text x=\"125\" y=\"-38\" font-size=\"7\" text-anchor=\"middle\">Θ=theta</text>\n<path d=\"M147,-53 L157,-53 L157,-63 L147,-63 Z\" stroke=\"black\" fill=\"thistle\" stroke-linejoin=\"miter\" />\n<text x=\"152\" y=\"-60\" font-size=\"6\" text-anchor=\"middle\">Rx</text>\n<path d=\"M175,-25 L190,-25\" stroke-width=\"1\" stroke=\"black\" stroke-linejoin=\"miter\" fill=\"none\" />\n<path d=\"M175,-75 L190,-75\" stroke-width=\"1\" stroke=\"black\" stroke-linejoin=\"miter\" fill=\"none\" />\n<text x=\"200\" y=\"-28\" font-size=\"6\" text-anchor=\"end\">0</text>\n<text x=\"200\" y=\"-78\" font-size=\"6\" text-anchor=\"end\">1</text>\n<text x=\"0\" y=\"-28\" font-size=\"6\" text-anchor=\"start\">0</text>\n<text x=\"0\" y=\"-78\" font-size=\"6\" text-anchor=\"start\">1</text>\n</svg>"
     },
     "execution_count": 8,
     "metadata": {},
     "output_type": "execute_result"
    }
   ],
   "source": [
    "pattern3=pcvl.Circuit(2, name=\"pattern3\")//(1,pcvl.PS(pcvl.P(\"phip\")))//(0,pcvl.BS(theta=pcvl.P(\"theta\")))\n",
    "pattern3._color = \"pink\"\n",
    "pcvl.pdisplay(pcvl.Circuit(2).add(0,pattern3,False), recursive=True)"
   ]
  },
  {
   "cell_type": "code",
   "execution_count": 9,
   "id": "6ef8057d",
   "metadata": {},
   "outputs": [
    {
     "data": {
      "text/plain": "<drawsvg.drawing.Drawing at 0x15012129a50>",
      "image/svg+xml": "<?xml version=\"1.0\" encoding=\"UTF-8\"?>\n<svg xmlns=\"http://www.w3.org/2000/svg\" xmlns:xlink=\"http://www.w3.org/1999/xlink\"\n    width=\"437.5\" height=\"187.5\" viewBox=\"-28.0 -150 350 150\">\n<defs>\n</defs>\n<path d=\"M10,-25 L25,-25\" stroke-width=\"1\" stroke=\"black\" stroke-linejoin=\"miter\" fill=\"none\" />\n<path d=\"M10,-75 L25,-75\" stroke-width=\"1\" stroke=\"black\" stroke-linejoin=\"miter\" fill=\"none\" />\n<path d=\"M27,-2 L223,-2 L223,-98 L27,-98 Z\" stroke=\"black\" fill=\"pink\" stroke-dasharray=\"1,2\" stroke-linejoin=\"miter\" />\n<text x=\"29\" y=\"-105\" font-size=\"8\" text-anchor=\"start\">REWRITE3</text>\n<path d=\"M25,-25 L45,-25 M55,-25 L75,-25\" stroke-width=\"1\" stroke=\"black\" stroke-linejoin=\"miter\" fill=\"none\" />\n<path d=\"M40,-35 L60,-35 L60,-15 L40,-15 L40,-35\" stroke-width=\"1\" stroke=\"black\" stroke-linejoin=\"miter\" fill=\"lightgray\" />\n<text x=\"50\" y=\"-44\" font-size=\"7\" text-anchor=\"middle\">Φ=phi1</text>\n<path d=\"M25,-75 L75,-75\" stroke=\"black\" stroke-width=\"1\" fill=\"none\" />\n<path d=\"M87.9442,-25.0002 C101.65379999999999,-25.0002,101.5923,-50.0,115.30189999999999,-50.0 M115.3038,-50.0 C101.59219999999999,-50.0,101.65379999999999,-74.9998,87.94409999999999,-74.9998 M115.3038,-49.99999999999999 L137.1884,-49.99999999999999 M137.1884,-49.99999999999999 C150.9,-49.99999999999999,150.8384,-25.000199999999992,164.5481,-25.000199999999992 M137.1884,-49.99999999999999 C150.9,-49.99999999999999,150.8384,-74.9998,164.5481,-74.9998 M75.0,-24.999999999999993 L88.0,-24.999999999999993 M88.0019,-74.9998 L75.0,-74.9998 M162.64530000000002,-74.9998 L175.0,-74.9998 M162.1944,-24.999799999999993 L175.0,-24.999799999999993\" stroke-width=\"1\" stroke=\"black\" stroke-linejoin=\"miter\" fill=\"none\" />\n<text x=\"125\" y=\"-38\" font-size=\"7\" text-anchor=\"middle\">Θ=theta</text>\n<path d=\"M147,-53 L157,-53 L157,-63 L147,-63 Z\" stroke=\"black\" fill=\"thistle\" stroke-linejoin=\"miter\" />\n<text x=\"152\" y=\"-60\" font-size=\"6\" text-anchor=\"middle\">Rx</text>\n<path d=\"M175,-25 L195,-25 M205,-25 L225,-25\" stroke-width=\"1\" stroke=\"black\" stroke-linejoin=\"miter\" fill=\"none\" />\n<path d=\"M190,-35 L210,-35 L210,-15 L190,-15 L190,-35\" stroke-width=\"1\" stroke=\"black\" stroke-linejoin=\"miter\" fill=\"lightgray\" />\n<text x=\"200\" y=\"-44\" font-size=\"7\" text-anchor=\"middle\">Φ=phi2</text>\n<path d=\"M175,-75 L195,-75 M205,-75 L225,-75\" stroke-width=\"1\" stroke=\"black\" stroke-linejoin=\"miter\" fill=\"none\" />\n<path d=\"M190,-85 L210,-85 L210,-65 L190,-65 L190,-85\" stroke-width=\"1\" stroke=\"black\" stroke-linejoin=\"miter\" fill=\"lightgray\" />\n<text x=\"200\" y=\"-94\" font-size=\"7\" text-anchor=\"middle\">Φ=phi3</text>\n<path d=\"M225,-25 L240,-25\" stroke-width=\"1\" stroke=\"black\" stroke-linejoin=\"miter\" fill=\"none\" />\n<path d=\"M225,-75 L240,-75\" stroke-width=\"1\" stroke=\"black\" stroke-linejoin=\"miter\" fill=\"none\" />\n<text x=\"250\" y=\"-28\" font-size=\"6\" text-anchor=\"end\">0</text>\n<text x=\"250\" y=\"-78\" font-size=\"6\" text-anchor=\"end\">1</text>\n<text x=\"0\" y=\"-28\" font-size=\"6\" text-anchor=\"start\">0</text>\n<text x=\"0\" y=\"-78\" font-size=\"6\" text-anchor=\"start\">1</text>\n</svg>"
     },
     "execution_count": 9,
     "metadata": {},
     "output_type": "execute_result"
    }
   ],
   "source": [
    "rewrite3=pcvl.Circuit(2, name=\"rewrite3\")//(0,pcvl.PS(pcvl.P(\"phi1\")))//(0,pcvl.BS(theta=pcvl.P(\"theta\")))//(0,pcvl.PS(pcvl.P(\"phi2\")))//(1,pcvl.PS(pcvl.P(\"phi3\")))\n",
    "rewrite3._color = \"pink\"\n",
    "pcvl.pdisplay(pcvl.Circuit(2).add(0,rewrite3,False), recursive=True)"
   ]
  },
  {
   "cell_type": "markdown",
   "id": "6c7efe31",
   "metadata": {},
   "source": [
    "And the fourth rule is the rule 38 in the article."
   ]
  },
  {
   "cell_type": "markdown",
   "id": "4cae9637",
   "metadata": {},
   "source": [
    "![rewrite38](../_static/img/rewrite38.png)"
   ]
  },
  {
   "cell_type": "code",
   "execution_count": 10,
   "id": "597bc933",
   "metadata": {},
   "outputs": [
    {
     "data": {
      "text/plain": "<drawsvg.drawing.Drawing at 0x1501212c710>",
      "image/svg+xml": "<?xml version=\"1.0\" encoding=\"UTF-8\"?>\n<svg xmlns=\"http://www.w3.org/2000/svg\" xmlns:xlink=\"http://www.w3.org/1999/xlink\"\n    width=\"500.0\" height=\"187.5\" viewBox=\"-28.0 -150 400 150\">\n<defs>\n</defs>\n<path d=\"M10,-25 L25,-25\" stroke-width=\"1\" stroke=\"black\" stroke-linejoin=\"miter\" fill=\"none\" />\n<path d=\"M10,-75 L25,-75\" stroke-width=\"1\" stroke=\"black\" stroke-linejoin=\"miter\" fill=\"none\" />\n<path d=\"M27,-2 L273,-2 L273,-98 L27,-98 Z\" stroke=\"black\" fill=\"orange\" stroke-dasharray=\"1,2\" stroke-linejoin=\"miter\" />\n<text x=\"29\" y=\"-105\" font-size=\"8\" text-anchor=\"start\">PATTERN4</text>\n<path d=\"M37.9442,-25.0002 C51.653800000000004,-25.0002,51.5923,-50.0,65.3019,-50.0 M65.3038,-50.0 C51.59219999999999,-50.0,51.6538,-74.9998,37.94409999999999,-74.9998 M65.3038,-49.99999999999999 L87.1884,-49.99999999999999 M87.1884,-49.99999999999999 C100.9,-49.99999999999999,100.83840000000001,-25.000199999999992,114.5481,-25.000199999999992 M87.1884,-49.99999999999999 C100.9,-49.99999999999999,100.83840000000001,-74.9998,114.5481,-74.9998 M25.0,-24.999999999999993 L38.0,-24.999999999999993 M38.0019,-74.9998 L25.0,-74.9998 M112.6453,-74.9998 L125.0,-74.9998 M112.1944,-24.999799999999993 L125.0,-24.999799999999993\" stroke-width=\"1\" stroke=\"black\" stroke-linejoin=\"miter\" fill=\"none\" />\n<text x=\"75\" y=\"-38\" font-size=\"7\" text-anchor=\"middle\">Θ=theta1</text>\n<path d=\"M97,-53 L107,-53 L107,-63 L97,-63 Z\" stroke=\"black\" fill=\"thistle\" stroke-linejoin=\"miter\" />\n<text x=\"102\" y=\"-60\" font-size=\"6\" text-anchor=\"middle\">Rx</text>\n<path d=\"M125,-25 L145,-25 M155,-25 L175,-25\" stroke-width=\"1\" stroke=\"black\" stroke-linejoin=\"miter\" fill=\"none\" />\n<path d=\"M140,-35 L160,-35 L160,-15 L140,-15 L140,-35\" stroke-width=\"1\" stroke=\"black\" stroke-linejoin=\"miter\" fill=\"lightgray\" />\n<text x=\"150\" y=\"-44\" font-size=\"7\" text-anchor=\"middle\">Φ=phi1</text>\n<path d=\"M125,-75 L175,-75\" stroke=\"black\" stroke-width=\"1\" fill=\"none\" />\n<path d=\"M187.9442,-25.0002 C201.6538,-25.0002,201.5923,-50.0,215.3019,-50.0 M215.3038,-50.0 C201.5922,-50.0,201.6538,-74.9998,187.9441,-74.9998 M215.3038,-49.99999999999999 L237.1884,-49.99999999999999 M237.1884,-49.99999999999999 C250.9,-49.99999999999999,250.8384,-25.000199999999992,264.5481,-25.000199999999992 M237.18839999999997,-49.99999999999999 C250.89999999999998,-49.99999999999999,250.83839999999998,-74.9998,264.5481,-74.9998 M174.99999999999997,-24.999999999999993 L187.99999999999997,-24.999999999999993 M188.00189999999998,-74.9998 L174.99999999999997,-74.9998 M262.64529999999996,-74.9998 L274.99999999999994,-74.9998 M262.1944,-24.999799999999993 L275.0,-24.999799999999993\" stroke-width=\"1\" stroke=\"black\" stroke-linejoin=\"miter\" fill=\"none\" />\n<text x=\"225\" y=\"-38\" font-size=\"7\" text-anchor=\"middle\">Θ=theta2</text>\n<path d=\"M247,-53 L257,-53 L257,-63 L247,-63 Z\" stroke=\"black\" fill=\"thistle\" stroke-linejoin=\"miter\" />\n<text x=\"252\" y=\"-60\" font-size=\"6\" text-anchor=\"middle\">Rx</text>\n<path d=\"M275,-25 L290,-25\" stroke-width=\"1\" stroke=\"black\" stroke-linejoin=\"miter\" fill=\"none\" />\n<path d=\"M275,-75 L290,-75\" stroke-width=\"1\" stroke=\"black\" stroke-linejoin=\"miter\" fill=\"none\" />\n<text x=\"300\" y=\"-28\" font-size=\"6\" text-anchor=\"end\">0</text>\n<text x=\"300\" y=\"-78\" font-size=\"6\" text-anchor=\"end\">1</text>\n<text x=\"0\" y=\"-28\" font-size=\"6\" text-anchor=\"start\">0</text>\n<text x=\"0\" y=\"-78\" font-size=\"6\" text-anchor=\"start\">1</text>\n</svg>"
     },
     "execution_count": 10,
     "metadata": {},
     "output_type": "execute_result"
    }
   ],
   "source": [
    "pattern4=pcvl.Circuit(2, name=\"pattern4\")//(0,pcvl.BS(theta=pcvl.P(\"theta1\")))//(0,pcvl.PS(pcvl.P(\"phi1\")))//(0,pcvl.BS(theta=pcvl.P(\"theta2\")))\n",
    "pattern4._color = \"orange\"\n",
    "pcvl.pdisplay(pcvl.Circuit(2).add(0,pattern4,False), recursive=True)"
   ]
  },
  {
   "cell_type": "code",
   "execution_count": 11,
   "id": "1866e2c5",
   "metadata": {},
   "outputs": [
    {
     "data": {
      "text/plain": "<drawsvg.drawing.Drawing at 0x15012134790>",
      "image/svg+xml": "<?xml version=\"1.0\" encoding=\"UTF-8\"?>\n<svg xmlns=\"http://www.w3.org/2000/svg\" xmlns:xlink=\"http://www.w3.org/1999/xlink\"\n    width=\"437.5\" height=\"187.5\" viewBox=\"-28.0 -150 350 150\">\n<defs>\n</defs>\n<path d=\"M10,-25 L25,-25\" stroke-width=\"1\" stroke=\"black\" stroke-linejoin=\"miter\" fill=\"none\" />\n<path d=\"M10,-75 L25,-75\" stroke-width=\"1\" stroke=\"black\" stroke-linejoin=\"miter\" fill=\"none\" />\n<path d=\"M27,-2 L223,-2 L223,-98 L27,-98 Z\" stroke=\"black\" fill=\"orange\" stroke-dasharray=\"1,2\" stroke-linejoin=\"miter\" />\n<text x=\"29\" y=\"-105\" font-size=\"8\" text-anchor=\"start\">REWRITE4</text>\n<path d=\"M25,-25 L45,-25 M55,-25 L75,-25\" stroke-width=\"1\" stroke=\"black\" stroke-linejoin=\"miter\" fill=\"none\" />\n<path d=\"M40,-35 L60,-35 L60,-15 L40,-15 L40,-35\" stroke-width=\"1\" stroke=\"black\" stroke-linejoin=\"miter\" fill=\"lightgray\" />\n<text x=\"50\" y=\"-44\" font-size=\"7\" text-anchor=\"middle\">Φ=beta1</text>\n<path d=\"M25,-75 L75,-75\" stroke=\"black\" stroke-width=\"1\" fill=\"none\" />\n<path d=\"M87.9442,-25.0002 C101.65379999999999,-25.0002,101.5923,-50.0,115.30189999999999,-50.0 M115.3038,-50.0 C101.59219999999999,-50.0,101.65379999999999,-74.9998,87.94409999999999,-74.9998 M115.3038,-49.99999999999999 L137.1884,-49.99999999999999 M137.1884,-49.99999999999999 C150.9,-49.99999999999999,150.8384,-25.000199999999992,164.5481,-25.000199999999992 M137.1884,-49.99999999999999 C150.9,-49.99999999999999,150.8384,-74.9998,164.5481,-74.9998 M75.0,-24.999999999999993 L88.0,-24.999999999999993 M88.0019,-74.9998 L75.0,-74.9998 M162.64530000000002,-74.9998 L175.0,-74.9998 M162.1944,-24.999799999999993 L175.0,-24.999799999999993\" stroke-width=\"1\" stroke=\"black\" stroke-linejoin=\"miter\" fill=\"none\" />\n<text x=\"125\" y=\"-38\" font-size=\"7\" text-anchor=\"middle\">Θ=alpha1</text>\n<path d=\"M147,-53 L157,-53 L157,-63 L147,-63 Z\" stroke=\"black\" fill=\"thistle\" stroke-linejoin=\"miter\" />\n<text x=\"152\" y=\"-60\" font-size=\"6\" text-anchor=\"middle\">Rx</text>\n<path d=\"M175,-25 L195,-25 M205,-25 L225,-25\" stroke-width=\"1\" stroke=\"black\" stroke-linejoin=\"miter\" fill=\"none\" />\n<path d=\"M190,-35 L210,-35 L210,-15 L190,-15 L190,-35\" stroke-width=\"1\" stroke=\"black\" stroke-linejoin=\"miter\" fill=\"lightgray\" />\n<text x=\"200\" y=\"-44\" font-size=\"7\" text-anchor=\"middle\">Φ=beta2</text>\n<path d=\"M175,-75 L195,-75 M205,-75 L225,-75\" stroke-width=\"1\" stroke=\"black\" stroke-linejoin=\"miter\" fill=\"none\" />\n<path d=\"M190,-85 L210,-85 L210,-65 L190,-65 L190,-85\" stroke-width=\"1\" stroke=\"black\" stroke-linejoin=\"miter\" fill=\"lightgray\" />\n<text x=\"200\" y=\"-94\" font-size=\"7\" text-anchor=\"middle\">Φ=beta3</text>\n<path d=\"M225,-25 L240,-25\" stroke-width=\"1\" stroke=\"black\" stroke-linejoin=\"miter\" fill=\"none\" />\n<path d=\"M225,-75 L240,-75\" stroke-width=\"1\" stroke=\"black\" stroke-linejoin=\"miter\" fill=\"none\" />\n<text x=\"250\" y=\"-28\" font-size=\"6\" text-anchor=\"end\">0</text>\n<text x=\"250\" y=\"-78\" font-size=\"6\" text-anchor=\"end\">1</text>\n<text x=\"0\" y=\"-28\" font-size=\"6\" text-anchor=\"start\">0</text>\n<text x=\"0\" y=\"-78\" font-size=\"6\" text-anchor=\"start\">1</text>\n</svg>"
     },
     "execution_count": 11,
     "metadata": {},
     "output_type": "execute_result"
    }
   ],
   "source": [
    "rewrite4=pcvl.Circuit(2, name=\"rewrite4\")//(0,pcvl.PS(pcvl.P(\"beta1\")))//(0,pcvl.BS(theta=pcvl.P(\"alpha1\")))//(0,pcvl.PS(pcvl.P(\"beta2\")))//(1,pcvl.PS(pcvl.P(\"beta3\")))\n",
    "rewrite4._color = \"orange\"\n",
    "pcvl.pdisplay(pcvl.Circuit(2).add(0,rewrite4,False), recursive=True)"
   ]
  },
  {
   "cell_type": "code",
   "execution_count": 12,
   "id": "deafebff",
   "metadata": {},
   "outputs": [
    {
     "data": {
      "text/plain": "<drawsvg.drawing.Drawing at 0x150122da4d0>",
      "image/svg+xml": "<?xml version=\"1.0\" encoding=\"UTF-8\"?>\n<svg xmlns=\"http://www.w3.org/2000/svg\" xmlns:xlink=\"http://www.w3.org/1999/xlink\"\n    width=\"1050.0\" height=\"218.75\" viewBox=\"-28.0 -250 1200 250\">\n<defs>\n</defs>\n<path d=\"M10,-25 L25,-25\" stroke-width=\"1\" stroke=\"black\" stroke-linejoin=\"miter\" fill=\"none\" />\n<path d=\"M10,-75 L25,-75\" stroke-width=\"1\" stroke=\"black\" stroke-linejoin=\"miter\" fill=\"none\" />\n<path d=\"M10,-125 L25,-125\" stroke-width=\"1\" stroke=\"black\" stroke-linejoin=\"miter\" fill=\"none\" />\n<path d=\"M10,-175 L25,-175\" stroke-width=\"1\" stroke=\"black\" stroke-linejoin=\"miter\" fill=\"none\" />\n<path d=\"M25,-25 L45,-25 M55,-25 L75,-25\" stroke-width=\"1\" stroke=\"black\" stroke-linejoin=\"miter\" fill=\"none\" />\n<path d=\"M40,-35 L60,-35 L60,-15 L40,-15 L40,-35\" stroke-width=\"1\" stroke=\"black\" stroke-linejoin=\"miter\" fill=\"lightgray\" />\n<text x=\"50\" y=\"-44\" font-size=\"7\" text-anchor=\"middle\">Φ=0.940663</text>\n<path d=\"M25,-75 L75,-75\" stroke=\"black\" stroke-width=\"1\" fill=\"none\" />\n<path d=\"M87.9442,-25.0002 C101.65379999999999,-25.0002,101.5923,-50.0,115.30189999999999,-50.0 M115.3038,-50.0 C101.59219999999999,-50.0,101.65379999999999,-74.9998,87.94409999999999,-74.9998 M115.3038,-49.99999999999999 L137.1884,-49.99999999999999 M137.1884,-49.99999999999999 C150.9,-49.99999999999999,150.8384,-25.000199999999992,164.5481,-25.000199999999992 M137.1884,-49.99999999999999 C150.9,-49.99999999999999,150.8384,-74.9998,164.5481,-74.9998 M75.0,-24.999999999999993 L88.0,-24.999999999999993 M88.0019,-74.9998 L75.0,-74.9998 M162.64530000000002,-74.9998 L175.0,-74.9998 M162.1944,-24.999799999999993 L175.0,-24.999799999999993\" stroke-width=\"1\" stroke=\"black\" stroke-linejoin=\"miter\" fill=\"none\" />\n<text x=\"125\" y=\"-38\" font-size=\"7\" text-anchor=\"middle\">Θ=0.411583</text>\n<path d=\"M147,-53 L157,-53 L157,-63 L147,-63 Z\" stroke=\"black\" fill=\"thistle\" stroke-linejoin=\"miter\" />\n<text x=\"152\" y=\"-60\" font-size=\"6\" text-anchor=\"middle\">Rx</text>\n<path d=\"M25,-125 L45,-125 M55,-125 L75,-125\" stroke-width=\"1\" stroke=\"black\" stroke-linejoin=\"miter\" fill=\"none\" />\n<path d=\"M40,-135 L60,-135 L60,-115 L40,-115 L40,-135\" stroke-width=\"1\" stroke=\"black\" stroke-linejoin=\"miter\" fill=\"lightgray\" />\n<text x=\"50\" y=\"-144\" font-size=\"7\" text-anchor=\"middle\">Φ=0.951286</text>\n<path d=\"M25,-175 L75,-175\" stroke=\"black\" stroke-width=\"1\" fill=\"none\" />\n<path d=\"M87.9442,-125.0002 C101.65379999999999,-125.0002,101.5923,-150.0,115.30189999999999,-150.0 M115.3038,-150.0 C101.59219999999999,-150.0,101.65379999999999,-174.9998,87.94409999999999,-174.9998 M115.3038,-150.0 L137.1884,-150.0 M137.1884,-150.0 C150.9,-150.0,150.8384,-125.0002,164.5481,-125.0002 M137.1884,-150.0 C150.9,-150.0,150.8384,-174.9998,164.5481,-174.9998 M75.0,-125.0 L88.0,-125.0 M88.0019,-174.9998 L75.0,-174.9998 M162.64530000000002,-174.9998 L175.0,-174.9998 M162.1944,-124.9998 L175.0,-124.9998\" stroke-width=\"1\" stroke=\"black\" stroke-linejoin=\"miter\" fill=\"none\" />\n<text x=\"125\" y=\"-138\" font-size=\"7\" text-anchor=\"middle\">Θ=0.719165</text>\n<path d=\"M147,-153 L157,-153 L157,-163 L147,-163 Z\" stroke=\"black\" fill=\"thistle\" stroke-linejoin=\"miter\" />\n<text x=\"152\" y=\"-160\" font-size=\"6\" text-anchor=\"middle\">Rx</text>\n<path d=\"M175,-75 L195,-75 M205,-75 L225,-75\" stroke-width=\"1\" stroke=\"black\" stroke-linejoin=\"miter\" fill=\"none\" />\n<path d=\"M190,-85 L210,-85 L210,-65 L190,-65 L190,-85\" stroke-width=\"1\" stroke=\"black\" stroke-linejoin=\"miter\" fill=\"lightgray\" />\n<text x=\"200\" y=\"-94\" font-size=\"7\" text-anchor=\"middle\">Φ=0.127399</text>\n<path d=\"M175,-125 L225,-125\" stroke=\"black\" stroke-width=\"1\" fill=\"none\" />\n<path d=\"M237.9442,-75.0002 C251.6538,-75.0002,251.5923,-100.0,265.3019,-100.0 M265.30379999999997,-100.0 C251.59219999999996,-100.0,251.65379999999996,-124.9998,237.94409999999996,-124.9998 M265.30379999999997,-100.0 L287.18839999999994,-100.0 M287.18839999999994,-100.0 C300.9,-100.0,300.8384,-75.0002,314.5481,-75.0002 M287.1884,-100.0 C300.9,-100.0,300.8384,-124.9998,314.5481,-124.9998 M224.99999999999997,-75.0 L237.99999999999997,-75.0 M238.00189999999998,-124.9998 L224.99999999999997,-124.9998 M312.64529999999996,-124.9998 L324.99999999999994,-124.9998 M312.1944,-74.9998 L325.0,-74.9998\" stroke-width=\"1\" stroke=\"black\" stroke-linejoin=\"miter\" fill=\"none\" />\n<text x=\"275\" y=\"-88\" font-size=\"7\" text-anchor=\"middle\">Θ=0.160358</text>\n<path d=\"M297,-103 L307,-103 L307,-113 L297,-113 Z\" stroke=\"black\" fill=\"thistle\" stroke-linejoin=\"miter\" />\n<text x=\"302\" y=\"-110\" font-size=\"6\" text-anchor=\"middle\">Rx</text>\n<path d=\"M175,-25 L195,-25 M205,-25 L225,-25\" stroke-width=\"1\" stroke=\"black\" stroke-linejoin=\"miter\" fill=\"none\" />\n<path d=\"M190,-35 L210,-35 L210,-15 L190,-15 L190,-35\" stroke-width=\"1\" stroke=\"black\" stroke-linejoin=\"miter\" fill=\"lightgray\" />\n<text x=\"200\" y=\"-44\" font-size=\"7\" text-anchor=\"middle\">Φ=0.482802</text>\n<path d=\"M225,-25 L325,-25\" stroke=\"black\" stroke-width=\"1\" fill=\"none\" />\n<path d=\"M337.9442,-25.0002 C351.65380000000005,-25.0002,351.5923,-50.0,365.30190000000005,-50.0 M365.3038,-50.0 C351.59220000000005,-50.0,351.65380000000005,-74.9998,337.94410000000005,-74.9998 M365.3038,-49.99999999999999 L387.1884,-49.99999999999999 M387.1884,-49.99999999999999 C400.9,-49.99999999999999,400.8384,-25.000199999999992,414.5481,-25.000199999999992 M387.1884,-49.99999999999999 C400.9,-49.99999999999999,400.8384,-74.9998,414.5481,-74.9998 M325.0,-24.999999999999993 L338.0,-24.999999999999993 M338.0019,-74.9998 L325.0,-74.9998 M412.6453,-74.9998 L425.0,-74.9998 M412.1944,-24.999799999999993 L425.0,-24.999799999999993\" stroke-width=\"1\" stroke=\"black\" stroke-linejoin=\"miter\" fill=\"none\" />\n<text x=\"375\" y=\"-38\" font-size=\"7\" text-anchor=\"middle\">Θ=0.207434</text>\n<path d=\"M397,-53 L407,-53 L407,-63 L397,-63 Z\" stroke=\"black\" fill=\"thistle\" stroke-linejoin=\"miter\" />\n<text x=\"402\" y=\"-60\" font-size=\"6\" text-anchor=\"middle\">Rx</text>\n<path d=\"M325,-125 L345,-125 M355,-125 L375,-125\" stroke-width=\"1\" stroke=\"black\" stroke-linejoin=\"miter\" fill=\"none\" />\n<path d=\"M340,-135 L360,-135 L360,-115 L340,-115 L340,-135\" stroke-width=\"1\" stroke=\"black\" stroke-linejoin=\"miter\" fill=\"lightgray\" />\n<text x=\"350\" y=\"-144\" font-size=\"7\" text-anchor=\"middle\">Φ=0.487888</text>\n<path d=\"M175,-175 L375,-175\" stroke=\"black\" stroke-width=\"1\" fill=\"none\" />\n<path d=\"M387.9442,-125.0002 C401.65380000000005,-125.0002,401.5923,-150.0,415.30190000000005,-150.0 M415.3038,-150.0 C401.59220000000005,-150.0,401.65380000000005,-174.9998,387.94410000000005,-174.9998 M415.3038,-150.0 L437.1884,-150.0 M437.1884,-150.0 C450.9,-150.0,450.8384,-125.0002,464.5481,-125.0002 M437.1884,-150.0 C450.9,-150.0,450.8384,-174.9998,464.5481,-174.9998 M375.0,-125.0 L388.0,-125.0 M388.0019,-174.9998 L375.0,-174.9998 M462.6453,-174.9998 L475.0,-174.9998 M462.1944,-124.9998 L475.0,-124.9998\" stroke-width=\"1\" stroke=\"black\" stroke-linejoin=\"miter\" fill=\"none\" />\n<text x=\"425\" y=\"-138\" font-size=\"7\" text-anchor=\"middle\">Θ=0.3055</text>\n<path d=\"M447,-153 L457,-153 L457,-163 L447,-163 Z\" stroke=\"black\" fill=\"thistle\" stroke-linejoin=\"miter\" />\n<text x=\"452\" y=\"-160\" font-size=\"6\" text-anchor=\"middle\">Rx</text>\n<path d=\"M425,-75 L445,-75 M455,-75 L475,-75\" stroke-width=\"1\" stroke=\"black\" stroke-linejoin=\"miter\" fill=\"none\" />\n<path d=\"M440,-85 L460,-85 L460,-65 L440,-65 L440,-85\" stroke-width=\"1\" stroke=\"black\" stroke-linejoin=\"miter\" fill=\"lightgray\" />\n<text x=\"450\" y=\"-94\" font-size=\"7\" text-anchor=\"middle\">Φ=0.831254</text>\n<path d=\"M487.9442,-75.0002 C501.65380000000005,-75.0002,501.5923,-100.0,515.3019,-100.0 M515.3038,-100.0 C501.59220000000005,-100.0,501.65380000000005,-124.9998,487.94410000000005,-124.9998 M515.3038,-100.0 L537.1884,-100.0 M537.1884,-100.0 C550.9,-100.0,550.8384,-75.0002,564.5481,-75.0002 M537.1884,-100.0 C550.9,-100.0,550.8384,-124.9998,564.5481,-124.9998 M475.0,-75.0 L488.0,-75.0 M488.0019,-124.9998 L475.0,-124.9998 M562.6453,-124.9998 L575.0,-124.9998 M562.1944,-74.9998 L575.0,-74.9998\" stroke-width=\"1\" stroke=\"black\" stroke-linejoin=\"miter\" fill=\"none\" />\n<text x=\"525\" y=\"-88\" font-size=\"7\" text-anchor=\"middle\">Θ=0.721638</text>\n<path d=\"M547,-103 L557,-103 L557,-113 L547,-113 Z\" stroke=\"black\" fill=\"thistle\" stroke-linejoin=\"miter\" />\n<text x=\"552\" y=\"-110\" font-size=\"6\" text-anchor=\"middle\">Rx</text>\n<path d=\"M425,-25 L445,-25 M455,-25 L475,-25\" stroke-width=\"1\" stroke=\"black\" stroke-linejoin=\"miter\" fill=\"none\" />\n<path d=\"M440,-35 L460,-35 L460,-15 L440,-15 L440,-35\" stroke-width=\"1\" stroke=\"black\" stroke-linejoin=\"miter\" fill=\"lightgray\" />\n<text x=\"450\" y=\"-44\" font-size=\"7\" text-anchor=\"middle\">Φ=0.712782</text>\n<path d=\"M475,-25 L575,-25\" stroke=\"black\" stroke-width=\"1\" fill=\"none\" />\n<path d=\"M587.9442,-25.0002 C601.6538,-25.0002,601.5923,-50.0,615.3019,-50.0 M615.3038,-50.0 C601.5922,-50.0,601.6538,-74.9998,587.9441,-74.9998 M615.3038,-49.99999999999999 L637.1884,-49.99999999999999 M637.1884,-49.99999999999999 C650.9,-49.99999999999999,650.8384,-25.000199999999992,664.5481,-25.000199999999992 M637.1884,-49.99999999999999 C650.9,-49.99999999999999,650.8384,-74.9998,664.5481,-74.9998 M575.0,-24.999999999999993 L588.0,-24.999999999999993 M588.0019,-74.9998 L575.0,-74.9998 M662.6453,-74.9998 L675.0,-74.9998 M662.1944,-24.999799999999993 L675.0,-24.999799999999993\" stroke-width=\"1\" stroke=\"black\" stroke-linejoin=\"miter\" fill=\"none\" />\n<text x=\"625\" y=\"-38\" font-size=\"7\" text-anchor=\"middle\">Θ=0.10561</text>\n<path d=\"M647,-53 L657,-53 L657,-63 L647,-63 Z\" stroke=\"black\" fill=\"thistle\" stroke-linejoin=\"miter\" />\n<text x=\"652\" y=\"-60\" font-size=\"6\" text-anchor=\"middle\">Rx</text>\n<path d=\"M575,-125 L595,-125 M605,-125 L625,-125\" stroke-width=\"1\" stroke=\"black\" stroke-linejoin=\"miter\" fill=\"none\" />\n<path d=\"M590,-135 L610,-135 L610,-115 L590,-115 L590,-135\" stroke-width=\"1\" stroke=\"black\" stroke-linejoin=\"miter\" fill=\"lightgray\" />\n<text x=\"600\" y=\"-144\" font-size=\"7\" text-anchor=\"middle\">Φ=0.39051</text>\n<path d=\"M475,-175 L625,-175\" stroke=\"black\" stroke-width=\"1\" fill=\"none\" />\n<path d=\"M637.9442,-125.0002 C651.6538,-125.0002,651.5923,-150.0,665.3019,-150.0 M665.3038,-150.0 C651.5922,-150.0,651.6538,-174.9998,637.9441,-174.9998 M665.3038,-150.0 L687.1884,-150.0 M687.1884,-150.0 C700.9,-150.0,700.8384,-125.0002,714.5481,-125.0002 M687.1884,-150.0 C700.9,-150.0,700.8384,-174.9998,714.5481,-174.9998 M625.0,-125.0 L638.0,-125.0 M638.0019,-174.9998 L625.0,-174.9998 M712.6453,-174.9998 L725.0,-174.9998 M712.1944,-124.9998 L725.0,-124.9998\" stroke-width=\"1\" stroke=\"black\" stroke-linejoin=\"miter\" fill=\"none\" />\n<text x=\"675\" y=\"-138\" font-size=\"7\" text-anchor=\"middle\">Θ=0.601424</text>\n<path d=\"M697,-153 L707,-153 L707,-163 L697,-163 Z\" stroke=\"black\" fill=\"thistle\" stroke-linejoin=\"miter\" />\n<text x=\"702\" y=\"-160\" font-size=\"6\" text-anchor=\"middle\">Rx</text>\n<path d=\"M675,-75 L695,-75 M705,-75 L725,-75\" stroke-width=\"1\" stroke=\"black\" stroke-linejoin=\"miter\" fill=\"none\" />\n<path d=\"M690,-85 L710,-85 L710,-65 L690,-65 L690,-85\" stroke-width=\"1\" stroke=\"black\" stroke-linejoin=\"miter\" fill=\"lightgray\" />\n<text x=\"700\" y=\"-94\" font-size=\"7\" text-anchor=\"middle\">Φ=0.26271</text>\n<path d=\"M737.9442,-75.0002 C751.6538,-75.0002,751.5923,-100.0,765.3019,-100.0 M765.3038,-100.0 C751.5922,-100.0,751.6538,-124.9998,737.9441,-124.9998 M765.3038,-100.0 L787.1884,-100.0 M787.1884,-100.0 C800.9,-100.0,800.8384,-75.0002,814.5481,-75.0002 M787.1884,-100.0 C800.9,-100.0,800.8384,-124.9998,814.5481,-124.9998 M725.0,-75.0 L738.0,-75.0 M738.0019,-124.9998 L725.0,-124.9998 M812.6453,-124.9998 L825.0,-124.9998 M812.1944,-74.9998 L825.0,-74.9998\" stroke-width=\"1\" stroke=\"black\" stroke-linejoin=\"miter\" fill=\"none\" />\n<text x=\"775\" y=\"-88\" font-size=\"7\" text-anchor=\"middle\">Θ=0.479964</text>\n<path d=\"M797,-103 L807,-103 L807,-113 L797,-113 Z\" stroke=\"black\" fill=\"thistle\" stroke-linejoin=\"miter\" />\n<text x=\"802\" y=\"-110\" font-size=\"6\" text-anchor=\"middle\">Rx</text>\n<path d=\"M675,-25 L695,-25 M705,-25 L725,-25\" stroke-width=\"1\" stroke=\"black\" stroke-linejoin=\"miter\" fill=\"none\" />\n<path d=\"M690,-35 L710,-35 L710,-15 L690,-15 L690,-35\" stroke-width=\"1\" stroke=\"black\" stroke-linejoin=\"miter\" fill=\"lightgray\" />\n<text x=\"700\" y=\"-44\" font-size=\"7\" text-anchor=\"middle\">Φ=0.725918</text>\n<path d=\"M725,-25 L825,-25\" stroke=\"black\" stroke-width=\"1\" fill=\"none\" />\n<path d=\"M837.9442,-25.0002 C851.6538,-25.0002,851.5923,-50.0,865.3019,-50.0 M865.3038,-50.0 C851.5922,-50.0,851.6538,-74.9998,837.9441,-74.9998 M865.3038,-49.99999999999999 L887.1884,-49.99999999999999 M887.1884,-49.99999999999999 C900.9,-49.99999999999999,900.8384,-25.000199999999992,914.5481,-25.000199999999992 M887.1884,-49.99999999999999 C900.9,-49.99999999999999,900.8384,-74.9998,914.5481,-74.9998 M825.0,-24.999999999999993 L838.0,-24.999999999999993 M838.0019,-74.9998 L825.0,-74.9998 M912.6453,-74.9998 L925.0,-74.9998 M912.1944,-24.999799999999993 L925.0,-24.999799999999993\" stroke-width=\"1\" stroke=\"black\" stroke-linejoin=\"miter\" fill=\"none\" />\n<text x=\"875\" y=\"-38\" font-size=\"7\" text-anchor=\"middle\">Θ=0.650718</text>\n<path d=\"M897,-53 L907,-53 L907,-63 L897,-63 Z\" stroke=\"black\" fill=\"thistle\" stroke-linejoin=\"miter\" />\n<text x=\"902\" y=\"-60\" font-size=\"6\" text-anchor=\"middle\">Rx</text>\n<path d=\"M825,-125 L845,-125 M855,-125 L875,-125\" stroke-width=\"1\" stroke=\"black\" stroke-linejoin=\"miter\" fill=\"none\" />\n<path d=\"M840,-135 L860,-135 L860,-115 L840,-115 L840,-135\" stroke-width=\"1\" stroke=\"black\" stroke-linejoin=\"miter\" fill=\"lightgray\" />\n<text x=\"850\" y=\"-144\" font-size=\"7\" text-anchor=\"middle\">Φ=0.124752</text>\n<path d=\"M725,-175 L875,-175\" stroke=\"black\" stroke-width=\"1\" fill=\"none\" />\n<path d=\"M887.9442,-125.0002 C901.6538,-125.0002,901.5923,-150.0,915.3019,-150.0 M915.3038,-150.0 C901.5922,-150.0,901.6538,-174.9998,887.9441,-174.9998 M915.3038,-150.0 L937.1884,-150.0 M937.1884,-150.0 C950.9,-150.0,950.8384,-125.0002,964.5481,-125.0002 M937.1884,-150.0 C950.9,-150.0,950.8384,-174.9998,964.5481,-174.9998 M875.0,-125.0 L888.0,-125.0 M888.0019,-174.9998 L875.0,-174.9998 M962.6453,-174.9998 L975.0,-174.9998 M962.1944,-124.9998 L975.0,-124.9998\" stroke-width=\"1\" stroke=\"black\" stroke-linejoin=\"miter\" fill=\"none\" />\n<text x=\"925\" y=\"-138\" font-size=\"7\" text-anchor=\"middle\">Θ=0.960128</text>\n<path d=\"M947,-153 L957,-153 L957,-163 L947,-163 Z\" stroke=\"black\" fill=\"thistle\" stroke-linejoin=\"miter\" />\n<text x=\"952\" y=\"-160\" font-size=\"6\" text-anchor=\"middle\">Rx</text>\n<path d=\"M925,-75 L945,-75 M955,-75 L975,-75\" stroke-width=\"1\" stroke=\"black\" stroke-linejoin=\"miter\" fill=\"none\" />\n<path d=\"M940,-85 L960,-85 L960,-65 L940,-65 L940,-85\" stroke-width=\"1\" stroke=\"black\" stroke-linejoin=\"miter\" fill=\"lightgray\" />\n<text x=\"950\" y=\"-94\" font-size=\"7\" text-anchor=\"middle\">Φ=0.588529</text>\n<path d=\"M987.9442,-75.0002 C1001.6538,-75.0002,1001.5923,-100.0,1015.3019,-100.0 M1015.3038,-100.0 C1001.5922,-100.0,1001.6538,-124.9998,987.9441,-124.9998 M1015.3038,-100.0 L1037.1884,-100.0 M1037.1884,-100.0 C1050.9,-100.0,1050.8384,-75.0002,1064.5481,-75.0002 M1037.1884,-100.0 C1050.9,-100.0,1050.8384,-124.9998,1064.5481,-124.9998 M975.0,-75.0 L988.0,-75.0 M988.0019,-124.9998 L975.0,-124.9998 M1062.6453,-124.9998 L1075.0,-124.9998 M1062.1944,-74.9998 L1075.0,-74.9998\" stroke-width=\"1\" stroke=\"black\" stroke-linejoin=\"miter\" fill=\"none\" />\n<text x=\"1025\" y=\"-88\" font-size=\"7\" text-anchor=\"middle\">Θ=0.387106</text>\n<path d=\"M1047,-103 L1057,-103 L1057,-113 L1047,-113 Z\" stroke=\"black\" fill=\"thistle\" stroke-linejoin=\"miter\" />\n<text x=\"1052\" y=\"-110\" font-size=\"6\" text-anchor=\"middle\">Rx</text>\n<path d=\"M925,-25 L1075,-25\" stroke=\"black\" stroke-width=\"1\" fill=\"none\" />\n<path d=\"M975,-175 L1075,-175\" stroke=\"black\" stroke-width=\"1\" fill=\"none\" />\n<path d=\"M1075,-25 L1090,-25\" stroke-width=\"1\" stroke=\"black\" stroke-linejoin=\"miter\" fill=\"none\" />\n<path d=\"M1075,-75 L1090,-75\" stroke-width=\"1\" stroke=\"black\" stroke-linejoin=\"miter\" fill=\"none\" />\n<path d=\"M1075,-125 L1090,-125\" stroke-width=\"1\" stroke=\"black\" stroke-linejoin=\"miter\" fill=\"none\" />\n<path d=\"M1075,-175 L1090,-175\" stroke-width=\"1\" stroke=\"black\" stroke-linejoin=\"miter\" fill=\"none\" />\n<text x=\"1100\" y=\"-28\" font-size=\"6\" text-anchor=\"end\">0</text>\n<text x=\"1100\" y=\"-78\" font-size=\"6\" text-anchor=\"end\">1</text>\n<text x=\"1100\" y=\"-128\" font-size=\"6\" text-anchor=\"end\">2</text>\n<text x=\"1100\" y=\"-178\" font-size=\"6\" text-anchor=\"end\">3</text>\n<text x=\"0\" y=\"-28\" font-size=\"6\" text-anchor=\"start\">0</text>\n<text x=\"0\" y=\"-78\" font-size=\"6\" text-anchor=\"start\">1</text>\n<text x=\"0\" y=\"-128\" font-size=\"6\" text-anchor=\"start\">2</text>\n<text x=\"0\" y=\"-178\" font-size=\"6\" text-anchor=\"start\">3</text>\n</svg>"
     },
     "execution_count": 12,
     "metadata": {},
     "output_type": "execute_result"
    }
   ],
   "source": [
    "a=pcvl.Circuit.generic_interferometer(4, lambda idx:pcvl.Circuit(2)//pcvl.PS(phi=random.random())//pcvl.BS(theta=random.random()), depth=8, shape=\"rectangle\")\n",
    "pcvl.pdisplay(a, recursive=True, render_size=0.7)"
   ]
  },
  {
   "cell_type": "markdown",
   "id": "f13dd7d7",
   "metadata": {},
   "source": [
    "## Normalizing Circuit"
   ]
  },
  {
   "cell_type": "code",
   "execution_count": 13,
   "id": "0f5ee748",
   "metadata": {},
   "outputs": [],
   "source": [
    "import drawsvg as draw"
   ]
  },
  {
   "cell_type": "code",
   "execution_count": 14,
   "id": "df109c0f",
   "metadata": {},
   "outputs": [
    {
     "data": {
      "text/plain": "<drawsvg.drawing.Drawing at 0x1501678e690>",
      "image/svg+xml": "<?xml version=\"1.0\" encoding=\"UTF-8\"?>\n<svg xmlns=\"http://www.w3.org/2000/svg\" xmlns:xlink=\"http://www.w3.org/1999/xlink\"\n    width=\"637.5\" height=\"187.5\" viewBox=\"-28.0 -250 850 250\">\n<defs>\n</defs>\n<path d=\"M10,-25 L25,-25\" stroke-width=\"1\" stroke=\"black\" stroke-linejoin=\"miter\" fill=\"none\" />\n<path d=\"M10,-75 L25,-75\" stroke-width=\"1\" stroke=\"black\" stroke-linejoin=\"miter\" fill=\"none\" />\n<path d=\"M10,-125 L25,-125\" stroke-width=\"1\" stroke=\"black\" stroke-linejoin=\"miter\" fill=\"none\" />\n<path d=\"M10,-175 L25,-175\" stroke-width=\"1\" stroke=\"black\" stroke-linejoin=\"miter\" fill=\"none\" />\n<path d=\"M25,-125 L45,-125 M55,-125 L75,-125\" stroke-width=\"1\" stroke=\"black\" stroke-linejoin=\"miter\" fill=\"none\" />\n<path d=\"M40,-135 L60,-135 L60,-115 L40,-115 L40,-135\" stroke-width=\"1\" stroke=\"black\" stroke-linejoin=\"miter\" fill=\"lightgray\" />\n<text x=\"50\" y=\"-144\" font-size=\"7\" text-anchor=\"middle\">Φ=4.418375</text>\n<path d=\"M25,-75 L45,-75 M55,-75 L75,-75\" stroke-width=\"1\" stroke=\"black\" stroke-linejoin=\"miter\" fill=\"none\" />\n<path d=\"M40,-85 L60,-85 L60,-65 L40,-65 L40,-85\" stroke-width=\"1\" stroke=\"black\" stroke-linejoin=\"miter\" fill=\"lightgray\" />\n<text x=\"50\" y=\"-94\" font-size=\"7\" text-anchor=\"middle\">Φ=4.059632</text>\n<path d=\"M25,-175 L75,-175\" stroke=\"black\" stroke-width=\"1\" fill=\"none\" />\n<path d=\"M87.9442,-125.0002 C101.65379999999999,-125.0002,101.5923,-150.0,115.30189999999999,-150.0 M115.3038,-150.0 C101.59219999999999,-150.0,101.65379999999999,-174.9998,87.94409999999999,-174.9998 M115.3038,-150.0 L137.1884,-150.0 M137.1884,-150.0 C150.9,-150.0,150.8384,-125.0002,164.5481,-125.0002 M137.1884,-150.0 C150.9,-150.0,150.8384,-174.9998,164.5481,-174.9998 M75.0,-125.0 L88.0,-125.0 M88.0019,-174.9998 L75.0,-174.9998 M162.64530000000002,-174.9998 L175.0,-174.9998 M162.1944,-124.9998 L175.0,-124.9998\" stroke-width=\"1\" stroke=\"black\" stroke-linejoin=\"miter\" fill=\"none\" />\n<text x=\"125\" y=\"-138\" font-size=\"7\" text-anchor=\"middle\">Θ=5.179118</text>\n<path d=\"M147,-153 L157,-153 L157,-163 L147,-163 Z\" stroke=\"black\" fill=\"thistle\" stroke-linejoin=\"miter\" />\n<text x=\"152\" y=\"-160\" font-size=\"6\" text-anchor=\"middle\">Rx</text>\n<path d=\"M75,-75 L175,-75\" stroke=\"black\" stroke-width=\"1\" fill=\"none\" />\n<path d=\"M187.9442,-75.0002 C201.6538,-75.0002,201.5923,-100.0,215.3019,-100.0 M215.3038,-100.0 C201.5922,-100.0,201.6538,-124.9998,187.9441,-124.9998 M215.3038,-100.0 L237.1884,-100.0 M237.1884,-100.0 C250.9,-100.0,250.8384,-75.0002,264.5481,-75.0002 M237.18839999999997,-100.0 C250.89999999999998,-100.0,250.83839999999998,-124.9998,264.5481,-124.9998 M174.99999999999997,-75.0 L187.99999999999997,-75.0 M188.00189999999998,-124.9998 L174.99999999999997,-124.9998 M262.64529999999996,-124.9998 L274.99999999999994,-124.9998 M262.1944,-74.9998 L275.0,-74.9998\" stroke-width=\"1\" stroke=\"black\" stroke-linejoin=\"miter\" fill=\"none\" />\n<text x=\"225\" y=\"-88\" font-size=\"7\" text-anchor=\"middle\">Θ=5.497341</text>\n<path d=\"M247,-103 L257,-103 L257,-113 L247,-113 Z\" stroke=\"black\" fill=\"thistle\" stroke-linejoin=\"miter\" />\n<text x=\"252\" y=\"-110\" font-size=\"6\" text-anchor=\"middle\">Rx</text>\n<path d=\"M275,-125 L295,-125 M305,-125 L325,-125\" stroke-width=\"1\" stroke=\"black\" stroke-linejoin=\"miter\" fill=\"none\" />\n<path d=\"M290,-135 L310,-135 L310,-115 L290,-115 L290,-135\" stroke-width=\"1\" stroke=\"black\" stroke-linejoin=\"miter\" fill=\"lightgray\" />\n<text x=\"300\" y=\"-144\" font-size=\"7\" text-anchor=\"middle\">Φ=4.27261</text>\n<path d=\"M25,-25 L45,-25 M55,-25 L75,-25\" stroke-width=\"1\" stroke=\"black\" stroke-linejoin=\"miter\" fill=\"none\" />\n<path d=\"M40,-35 L60,-35 L60,-15 L40,-15 L40,-35\" stroke-width=\"1\" stroke=\"black\" stroke-linejoin=\"miter\" fill=\"lightgray\" />\n<text x=\"50\" y=\"-44\" font-size=\"7\" text-anchor=\"middle\">Φ=2.300755</text>\n<path d=\"M75,-25 L275,-25\" stroke=\"black\" stroke-width=\"1\" fill=\"none\" />\n<path d=\"M287.9442,-25.0002 C301.65380000000005,-25.0002,301.5923,-50.0,315.30190000000005,-50.0 M315.3038,-50.0 C301.59220000000005,-50.0,301.65380000000005,-74.9998,287.94410000000005,-74.9998 M315.3038,-49.99999999999999 L337.1884,-49.99999999999999 M337.1884,-49.99999999999999 C350.9,-49.99999999999999,350.8384,-25.000199999999992,364.5481,-25.000199999999992 M337.1884,-49.99999999999999 C350.9,-49.99999999999999,350.8384,-74.9998,364.5481,-74.9998 M275.0,-24.999999999999993 L288.0,-24.999999999999993 M288.0019,-74.9998 L275.0,-74.9998 M362.6453,-74.9998 L375.0,-74.9998 M362.1944,-24.999799999999993 L375.0,-24.999799999999993\" stroke-width=\"1\" stroke=\"black\" stroke-linejoin=\"miter\" fill=\"none\" />\n<text x=\"325\" y=\"-38\" font-size=\"7\" text-anchor=\"middle\">Θ=7.527225</text>\n<path d=\"M347,-53 L357,-53 L357,-63 L347,-63 Z\" stroke=\"black\" fill=\"thistle\" stroke-linejoin=\"miter\" />\n<text x=\"352\" y=\"-60\" font-size=\"6\" text-anchor=\"middle\">Rx</text>\n<path d=\"M375,-25 L395,-25 M405,-25 L425,-25\" stroke-width=\"1\" stroke=\"black\" stroke-linejoin=\"miter\" fill=\"none\" />\n<path d=\"M390,-35 L410,-35 L410,-15 L390,-15 L390,-35\" stroke-width=\"1\" stroke=\"black\" stroke-linejoin=\"miter\" fill=\"lightgray\" />\n<text x=\"400\" y=\"-44\" font-size=\"7\" text-anchor=\"middle\">Φ=3.773708</text>\n<path d=\"M375,-75 L395,-75 M405,-75 L425,-75\" stroke-width=\"1\" stroke=\"black\" stroke-linejoin=\"miter\" fill=\"none\" />\n<path d=\"M390,-85 L410,-85 L410,-65 L390,-65 L390,-85\" stroke-width=\"1\" stroke=\"black\" stroke-linejoin=\"miter\" fill=\"lightgray\" />\n<text x=\"400\" y=\"-94\" font-size=\"7\" text-anchor=\"middle\">Φ=3.990926</text>\n<path d=\"M175,-175 L325,-175\" stroke=\"black\" stroke-width=\"1\" fill=\"none\" />\n<path d=\"M337.9442,-125.0002 C351.65380000000005,-125.0002,351.5923,-150.0,365.30190000000005,-150.0 M365.3038,-150.0 C351.59220000000005,-150.0,351.65380000000005,-174.9998,337.94410000000005,-174.9998 M365.3038,-150.0 L387.1884,-150.0 M387.1884,-150.0 C400.9,-150.0,400.8384,-125.0002,414.5481,-125.0002 M387.1884,-150.0 C400.9,-150.0,400.8384,-174.9998,414.5481,-174.9998 M325.0,-125.0 L338.0,-125.0 M338.0019,-174.9998 L325.0,-174.9998 M412.6453,-174.9998 L425.0,-174.9998 M412.1944,-124.9998 L425.0,-124.9998\" stroke-width=\"1\" stroke=\"black\" stroke-linejoin=\"miter\" fill=\"none\" />\n<text x=\"375\" y=\"-138\" font-size=\"7\" text-anchor=\"middle\">Θ=5.697514</text>\n<path d=\"M397,-153 L407,-153 L407,-163 L397,-163 Z\" stroke=\"black\" fill=\"thistle\" stroke-linejoin=\"miter\" />\n<text x=\"402\" y=\"-160\" font-size=\"6\" text-anchor=\"middle\">Rx</text>\n<path d=\"M437.9442,-75.0002 C451.65380000000005,-75.0002,451.5923,-100.0,465.30190000000005,-100.0 M465.3038,-100.0 C451.59220000000005,-100.0,451.65380000000005,-124.9998,437.94410000000005,-124.9998 M465.3038,-100.0 L487.1884,-100.0 M487.1884,-100.0 C500.9,-100.0,500.8384,-75.0002,514.5481,-75.0002 M487.1884,-100.0 C500.9,-100.0,500.8384,-124.9998,514.5481,-124.9998 M425.0,-75.0 L438.0,-75.0 M438.0019,-124.9998 L425.0,-124.9998 M512.6453,-124.9998 L525.0,-124.9998 M512.1944,-74.9998 L525.0,-74.9998\" stroke-width=\"1\" stroke=\"black\" stroke-linejoin=\"miter\" fill=\"none\" />\n<text x=\"475\" y=\"-88\" font-size=\"7\" text-anchor=\"middle\">Θ=5.336989</text>\n<path d=\"M497,-103 L507,-103 L507,-113 L497,-113 Z\" stroke=\"black\" fill=\"thistle\" stroke-linejoin=\"miter\" />\n<text x=\"502\" y=\"-110\" font-size=\"6\" text-anchor=\"middle\">Rx</text>\n<path d=\"M525,-75 L545,-75 M555,-75 L575,-75\" stroke-width=\"1\" stroke=\"black\" stroke-linejoin=\"miter\" fill=\"none\" />\n<path d=\"M540,-85 L560,-85 L560,-65 L540,-65 L540,-85\" stroke-width=\"1\" stroke=\"black\" stroke-linejoin=\"miter\" fill=\"lightgray\" />\n<text x=\"550\" y=\"-94\" font-size=\"7\" text-anchor=\"middle\">Φ=3.216884</text>\n<path d=\"M525,-125 L545,-125 M555,-125 L575,-125\" stroke-width=\"1\" stroke=\"black\" stroke-linejoin=\"miter\" fill=\"none\" />\n<path d=\"M540,-135 L560,-135 L560,-115 L540,-115 L540,-135\" stroke-width=\"1\" stroke=\"black\" stroke-linejoin=\"miter\" fill=\"lightgray\" />\n<text x=\"550\" y=\"-144\" font-size=\"7\" text-anchor=\"middle\">Φ=2.590276</text>\n<path d=\"M425,-175 L575,-175\" stroke=\"black\" stroke-width=\"1\" fill=\"none\" />\n<path d=\"M587.9442,-125.0002 C601.6538,-125.0002,601.5923,-150.0,615.3019,-150.0 M615.3038,-150.0 C601.5922,-150.0,601.6538,-174.9998,587.9441,-174.9998 M615.3038,-150.0 L637.1884,-150.0 M637.1884,-150.0 C650.9,-150.0,650.8384,-125.0002,664.5481,-125.0002 M637.1884,-150.0 C650.9,-150.0,650.8384,-174.9998,664.5481,-174.9998 M575.0,-125.0 L588.0,-125.0 M588.0019,-174.9998 L575.0,-174.9998 M662.6453,-174.9998 L675.0,-174.9998 M662.1944,-124.9998 L675.0,-124.9998\" stroke-width=\"1\" stroke=\"black\" stroke-linejoin=\"miter\" fill=\"none\" />\n<text x=\"625\" y=\"-138\" font-size=\"7\" text-anchor=\"middle\">Θ=11.634578</text>\n<path d=\"M647,-153 L657,-153 L657,-163 L647,-163 Z\" stroke=\"black\" fill=\"thistle\" stroke-linejoin=\"miter\" />\n<text x=\"652\" y=\"-160\" font-size=\"6\" text-anchor=\"middle\">Rx</text>\n<path d=\"M675,-125 L695,-125 M705,-125 L725,-125\" stroke-width=\"1\" stroke=\"black\" stroke-linejoin=\"miter\" fill=\"none\" />\n<path d=\"M690,-135 L710,-135 L710,-115 L690,-115 L690,-135\" stroke-width=\"1\" stroke=\"black\" stroke-linejoin=\"miter\" fill=\"lightgray\" />\n<text x=\"700\" y=\"-144\" font-size=\"7\" text-anchor=\"middle\">Φ=3.316753</text>\n<path d=\"M675,-175 L695,-175 M705,-175 L725,-175\" stroke-width=\"1\" stroke=\"black\" stroke-linejoin=\"miter\" fill=\"none\" />\n<path d=\"M690,-185 L710,-185 L710,-165 L690,-165 L690,-185\" stroke-width=\"1\" stroke=\"black\" stroke-linejoin=\"miter\" fill=\"lightgray\" />\n<text x=\"700\" y=\"-194\" font-size=\"7\" text-anchor=\"middle\">Φ=6.102501</text>\n<path d=\"M425,-25 L725,-25\" stroke=\"black\" stroke-width=\"1\" fill=\"none\" />\n<path d=\"M575,-75 L725,-75\" stroke=\"black\" stroke-width=\"1\" fill=\"none\" />\n<path d=\"M725,-25 L740,-25\" stroke-width=\"1\" stroke=\"black\" stroke-linejoin=\"miter\" fill=\"none\" />\n<path d=\"M725,-75 L740,-75\" stroke-width=\"1\" stroke=\"black\" stroke-linejoin=\"miter\" fill=\"none\" />\n<path d=\"M725,-125 L740,-125\" stroke-width=\"1\" stroke=\"black\" stroke-linejoin=\"miter\" fill=\"none\" />\n<path d=\"M725,-175 L740,-175\" stroke-width=\"1\" stroke=\"black\" stroke-linejoin=\"miter\" fill=\"none\" />\n<text x=\"750\" y=\"-28\" font-size=\"6\" text-anchor=\"end\">0</text>\n<text x=\"750\" y=\"-78\" font-size=\"6\" text-anchor=\"end\">1</text>\n<text x=\"750\" y=\"-128\" font-size=\"6\" text-anchor=\"end\">2</text>\n<text x=\"750\" y=\"-178\" font-size=\"6\" text-anchor=\"end\">3</text>\n<text x=\"0\" y=\"-28\" font-size=\"6\" text-anchor=\"start\">0</text>\n<text x=\"0\" y=\"-78\" font-size=\"6\" text-anchor=\"start\">1</text>\n<text x=\"0\" y=\"-128\" font-size=\"6\" text-anchor=\"start\">2</text>\n<text x=\"0\" y=\"-178\" font-size=\"6\" text-anchor=\"start\">3</text>\n</svg>"
     },
     "metadata": {},
     "output_type": "display_data"
    },
    {
     "name": "stdout",
     "output_type": "stream",
     "text": [
      "matching pattern pattern3\n",
      "matching pattern pattern4\n",
      "matching pattern pattern1\n",
      "matching pattern pattern3\n",
      "matching pattern pattern4\n"
     ]
    }
   ],
   "source": [
    "reverse = []\n",
    "direct=[]\n",
    "def draw_frame(a):\n",
    "    if isinstance(a, pcvl.Circuit):\n",
    "        d = pcvl.pdisplay(a, recursive=True, render_size=0.6)\n",
    "        reverse.insert(0, d)\n",
    "        direct.append(d)\n",
    "        return d\n",
    "    return a\n",
    "\n",
    "rules = [(pattern1, rewrite1, \"lightgreen\"), # (pattern2, rewrite2, \"lightblue\"),\n",
    "         (pattern3, rewrite3, \"pink\"), (pattern4, rewrite4, \"orange\")]\n",
    "\n",
    "with draw.frame_animate_jupyter(draw_frame, delay=0.1) as anim:\n",
    "    anim.draw_frame(a)\n",
    "    while True:\n",
    "        found = False\n",
    "        for pattern, rewrite, color in rules:\n",
    "            start_pos = 0\n",
    "            while True:\n",
    "                print(\"matching pattern\", pattern.name)\n",
    "                matched = a.match(pattern, browse=True, pos=start_pos)\n",
    "                if matched is None:\n",
    "                    break\n",
    "                print(\"matching ok\", matched.v_map)\n",
    "                idx = a.isolate(list(matched.pos_map.keys()), color=color)\n",
    "                anim.draw_frame(a)\n",
    "                for k, v in matched.v_map.items():\n",
    "                    pattern.param(k).set_value(v)\n",
    "                v = pattern.compute_unitary(False)\n",
    "                print(\"optimizing rewrite\",rewrite.name)\n",
    "                res = optimize(rewrite, v, frobenius, sign=-1)\n",
    "                print(\"found params with distance\", res.fun)\n",
    "                subc = rewrite.copy()\n",
    "                found = True\n",
    "                a.replace(idx, subc, merge=False)\n",
    "                anim.draw_frame(a)\n",
    "                a.replace(idx, subc, merge=True)\n",
    "                pattern.reset_parameters()\n",
    "                rewrite.reset_parameters()\n",
    "                a = simplify(a)\n",
    "                anim.draw_frame(a)\n",
    "                start_pos = idx\n",
    "        if not found:\n",
    "            break"
   ]
  },
  {
   "cell_type": "markdown",
   "id": "954dfac2",
   "metadata": {},
   "source": [
    "This representation is exactly the normal form that we wanted to obtain !"
   ]
  },
  {
   "cell_type": "markdown",
   "id": "c174aa4c",
   "metadata": {},
   "source": [
    "## Reference\n",
    "\n",
    "> A. Clément, N. Heurtel, S. Mansfield, S. Perdrix, B. Valiron. LOv-Calculus: A Graphical Language for Linear Optical Quantum Circuits, 47th International Symposium on Mathematical Foundations of Computer Science [MFCS](https://doi.org/10.4230/LIPIcs.MFCS.2022.35), 35:1--35:16 (2022)."
   ]
  }
 ],
 "metadata": {
  "kernelspec": {
   "display_name": "Python 3 (ipykernel)",
   "language": "python",
   "name": "python3"
  },
  "language_info": {
   "codemirror_mode": {
    "name": "ipython",
    "version": 3
   },
   "file_extension": ".py",
   "mimetype": "text/x-python",
   "name": "python",
   "nbconvert_exporter": "python",
   "pygments_lexer": "ipython3",
   "version": "3.9.7"
  }
 },
 "nbformat": 4,
 "nbformat_minor": 5
}
