{
 "cells": [
  {
   "cell_type": "markdown",
   "id": "dd3d8d19",
   "metadata": {
    "pycharm": {
     "name": "#%% md\n"
    }
   },
   "source": [
    "# LOv rewriting rules in Perceval\n",
    "\n",
    "The aim of this notebook is to rewrite a circuit using rewriting rules based on the article: *LOv-Calculus: A Graphical Language for Linear Optical Quantum Circuits*.\n",
    "\n",
    "We show how to use these rewriting rules to generate unique triangular normal forms."
   ]
  },
  {
   "cell_type": "code",
   "execution_count": 14,
   "id": "96bdb88a",
   "metadata": {
    "pycharm": {
     "name": "#%%\n"
    }
   },
   "outputs": [],
   "source": [
    "import perceval as pcvl\n",
    "import perceval.lib.phys as phys\n",
    "from perceval.algorithm.optimize import optimize\n",
    "from perceval.algorithm.norm import frobenius\n",
    "import random"
   ]
  },
  {
   "cell_type": "markdown",
   "id": "ba837e96",
   "metadata": {
    "pycharm": {
     "name": "#%% md\n"
    }
   },
   "source": [
    "This is the first rewrite rule used in this noteobok. It is the rule 37 in the article."
   ]
  },
  {
   "cell_type": "markdown",
   "id": "09923a89",
   "metadata": {
    "pycharm": {
     "name": "#%% md\n"
    }
   },
   "source": [
    "![](../_static/img/rewrite37.png)"
   ]
  },
  {
   "cell_type": "code",
   "execution_count": 2,
   "id": "ede320ce",
   "metadata": {
    "pycharm": {
     "name": "#%%\n"
    }
   },
   "outputs": [
    {
     "data": {
      "text/html": [
       "<svg width='456.000000' height='200.000000' viewBox='-3.000000 0.000000 453.000000 200.000000'><path d=\"M 10 25 L 25 25\" fill=\"none\" stroke=\"darkred\" stroke-width=\"3.000000\" stroke-linejoin=\"miter\"/>\n",
       "<text x=\"0.000000\" y=\"25.000000\" font-size=\"6.000000\" text-anchor=\"start\">0</text>\n",
       "<path d=\"M 10 75 L 25 75\" fill=\"none\" stroke=\"darkred\" stroke-width=\"3.000000\" stroke-linejoin=\"miter\"/>\n",
       "<text x=\"0.000000\" y=\"75.000000\" font-size=\"6.000000\" text-anchor=\"start\">1</text>\n",
       "<path d=\"M 10 125 L 25 125\" fill=\"none\" stroke=\"darkred\" stroke-width=\"3.000000\" stroke-linejoin=\"miter\"/>\n",
       "<text x=\"0.000000\" y=\"125.000000\" font-size=\"6.000000\" text-anchor=\"start\">2</text>\n",
       "<polyline points=\"27 2 423 2 423 148 27 148 27 2\" fill=\"lightgreen\" stroke=\"none\" stroke-width=\"1.000000\" stroke_linejoin=\"miter\" />\n",
       "<polyline points=\"25 25 75 25\" fill=\"transparent\"stroke=\"darkred\" stroke-width=\"3.000000\" stroke-linejoin=\"miter\" />\n",
       "<polyline points=\"30 40 39 40 53 10 44 10 30 40 39 40 30 40\" fill=\"gray\" stroke=\"black\" stroke-width=\"1.000000\" stroke_linejoin=\"miter\" />\n",
       "<text x=\"47.000000\" y=\"38.000000\" font-size=\"7.000000\" text-anchor=\"start\">Φ=phi0</text>\n",
       "<polyline points=\"25 75 75 75\" fill=\"transparent\"stroke=\"darkred\" stroke-width=\"3.000000\" stroke-linejoin=\"miter\" />\n",
       "<polyline points=\"75 25 103 25 122 44\" fill=\"transparent\"stroke=\"darkred\" stroke-width=\"3.000000\" stroke-linejoin=\"round\" />\n",
       "<polyline points=\"128 44 147 25 175 25\" fill=\"transparent\"stroke=\"darkred\" stroke-width=\"3.000000\" stroke-linejoin=\"round\" />\n",
       "<polyline points=\"75 75 103 75 122 56\" fill=\"transparent\"stroke=\"darkred\" stroke-width=\"3.000000\" stroke-linejoin=\"round\" />\n",
       "<polyline points=\"128 56 147 75 175 75\" fill=\"transparent\"stroke=\"darkred\" stroke-width=\"3.000000\" stroke-linejoin=\"round\" />\n",
       "<polyline points=\"100 43 150 43 150 57 100 57 100 43\" fill=\"black\" stroke=\"black\" stroke-width=\"1.000000\" stroke_linejoin=\"miter\" />\n",
       "<text x=\"125.000000\" y=\"86.000000\" font-size=\"7.000000\" text-anchor=\"middle\"></text>\n",
       "<text x=\"125.000000\" y=\"26.000000\" font-size=\"7.000000\" text-anchor=\"middle\">theta=theta1</text>\n",
       "<polyline points=\"100 43 150 43 150 47 100 47 100 43\" fill=\"lightgray\" stroke=\"black\" stroke-width=\"1.000000\" stroke_linejoin=\"miter\" />\n",
       "<polyline points=\"175 25 225 25\" fill=\"transparent\"stroke=\"darkred\" stroke-width=\"3.000000\" stroke-linejoin=\"miter\" />\n",
       "<polyline points=\"180 40 189 40 203 10 194 10 180 40 189 40 180 40\" fill=\"gray\" stroke=\"black\" stroke-width=\"1.000000\" stroke_linejoin=\"miter\" />\n",
       "<text x=\"197.000000\" y=\"38.000000\" font-size=\"7.000000\" text-anchor=\"start\">Φ=phi2</text>\n",
       "<polyline points=\"175 75 225 75\" fill=\"transparent\"stroke=\"darkred\" stroke-width=\"3.000000\" stroke-linejoin=\"miter\" />\n",
       "<polyline points=\"180 90 189 90 203 60 194 60 180 90 189 90 180 90\" fill=\"gray\" stroke=\"black\" stroke-width=\"1.000000\" stroke_linejoin=\"miter\" />\n",
       "<text x=\"197.000000\" y=\"88.000000\" font-size=\"7.000000\" text-anchor=\"start\">Φ=phi1</text>\n",
       "<polyline points=\"25 125 225 125\" fill=\"transparent\"stroke=\"darkred\" stroke-width=\"3.000000\" stroke-linejoin=\"miter\" />\n",
       "<polyline points=\"225 75 253 75 272 94\" fill=\"transparent\"stroke=\"darkred\" stroke-width=\"3.000000\" stroke-linejoin=\"round\" />\n",
       "<polyline points=\"278 94 297 75 325 75\" fill=\"transparent\"stroke=\"darkred\" stroke-width=\"3.000000\" stroke-linejoin=\"round\" />\n",
       "<polyline points=\"225 125 253 125 272 106\" fill=\"transparent\"stroke=\"darkred\" stroke-width=\"3.000000\" stroke-linejoin=\"round\" />\n",
       "<polyline points=\"278 106 297 125 325 125\" fill=\"transparent\"stroke=\"darkred\" stroke-width=\"3.000000\" stroke-linejoin=\"round\" />\n",
       "<polyline points=\"250 93 300 93 300 107 250 107 250 93\" fill=\"black\" stroke=\"black\" stroke-width=\"1.000000\" stroke_linejoin=\"miter\" />\n",
       "<text x=\"275.000000\" y=\"136.000000\" font-size=\"7.000000\" text-anchor=\"middle\"></text>\n",
       "<text x=\"275.000000\" y=\"76.000000\" font-size=\"7.000000\" text-anchor=\"middle\">theta=theta2</text>\n",
       "<polyline points=\"250 93 300 93 300 97 250 97 250 93\" fill=\"lightgray\" stroke=\"black\" stroke-width=\"1.000000\" stroke_linejoin=\"miter\" />\n",
       "<polyline points=\"225 25 325 25\" fill=\"transparent\"stroke=\"darkred\" stroke-width=\"3.000000\" stroke-linejoin=\"miter\" />\n",
       "<polyline points=\"325 25 353 25 372 44\" fill=\"transparent\"stroke=\"darkred\" stroke-width=\"3.000000\" stroke-linejoin=\"round\" />\n",
       "<polyline points=\"378 44 397 25 425 25\" fill=\"transparent\"stroke=\"darkred\" stroke-width=\"3.000000\" stroke-linejoin=\"round\" />\n",
       "<polyline points=\"325 75 353 75 372 56\" fill=\"transparent\"stroke=\"darkred\" stroke-width=\"3.000000\" stroke-linejoin=\"round\" />\n",
       "<polyline points=\"378 56 397 75 425 75\" fill=\"transparent\"stroke=\"darkred\" stroke-width=\"3.000000\" stroke-linejoin=\"round\" />\n",
       "<polyline points=\"350 43 400 43 400 57 350 57 350 43\" fill=\"black\" stroke=\"black\" stroke-width=\"1.000000\" stroke_linejoin=\"miter\" />\n",
       "<text x=\"375.000000\" y=\"86.000000\" font-size=\"7.000000\" text-anchor=\"middle\"></text>\n",
       "<text x=\"375.000000\" y=\"26.000000\" font-size=\"7.000000\" text-anchor=\"middle\">theta=theta3</text>\n",
       "<polyline points=\"350 43 400 43 400 47 350 47 350 43\" fill=\"lightgray\" stroke=\"black\" stroke-width=\"1.000000\" stroke_linejoin=\"miter\" />\n",
       "<polyline points=\"325 125 425 125\" fill=\"transparent\"stroke=\"darkred\" stroke-width=\"3.000000\" stroke-linejoin=\"miter\" />\n",
       "<polyline points=\"27 2 423 2 423 148 27 148 27 2\" fill=\"none\" stroke=\"black\" stroke-width=\"1.000000\" stroke_linejoin=\"miter\" stroke-dasharray='1,2'/>\n",
       "<text x=\"29.000000\" y=\"155.000000\" font-size=\"8.000000\" text-anchor=\"start\">PATTERN1</text>\n",
       "<path d=\"M 425 25 L 440 25\" fill=\"none\" stroke=\"darkred\" stroke-width=\"3.000000\" stroke-linejoin=\"miter\"/>\n",
       "<text x=\"450.000000\" y=\"25.000000\" font-size=\"6.000000\" text-anchor=\"end\">0</text>\n",
       "<path d=\"M 425 75 L 440 75\" fill=\"none\" stroke=\"darkred\" stroke-width=\"3.000000\" stroke-linejoin=\"miter\"/>\n",
       "<text x=\"450.000000\" y=\"75.000000\" font-size=\"6.000000\" text-anchor=\"end\">1</text>\n",
       "<path d=\"M 425 125 L 440 125\" fill=\"none\" stroke=\"darkred\" stroke-width=\"3.000000\" stroke-linejoin=\"miter\"/>\n",
       "<text x=\"450.000000\" y=\"125.000000\" font-size=\"6.000000\" text-anchor=\"end\">2</text></svg>"
      ],
      "text/plain": [
       "<IPython.core.display.HTML object>"
      ]
     },
     "metadata": {},
     "output_type": "display_data"
    }
   ],
   "source": [
    "pattern1=pcvl.Circuit(3, name=\"pattern1\")//(0,phys.PS(pcvl.P(\"phi0\")))//(0,phys.BS(theta=pcvl.P(\"theta1\")))//(0,phys.PS(pcvl.P(\"phi2\")))//(1,phys.PS(pcvl.P(\"phi1\")))//(1,phys.BS(theta=pcvl.P(\"theta2\")))//(0,phys.BS(theta=pcvl.P(\"theta3\")))\n",
    "pattern1._color = \"lightgreen\"\n",
    "pcvl.pdisplay(pcvl.Circuit(3).add(0,pattern1,False), recursive=True)"
   ]
  },
  {
   "cell_type": "code",
   "execution_count": 3,
   "id": "1e1ee73a",
   "metadata": {
    "pycharm": {
     "name": "#%%\n"
    }
   },
   "outputs": [
    {
     "data": {
      "text/html": [
       "<svg width='506.000000' height='200.000000' viewBox='-3.000000 0.000000 503.000000 200.000000'><path d=\"M 10 25 L 25 25\" fill=\"none\" stroke=\"darkred\" stroke-width=\"3.000000\" stroke-linejoin=\"miter\"/>\n",
       "<text x=\"0.000000\" y=\"25.000000\" font-size=\"6.000000\" text-anchor=\"start\">0</text>\n",
       "<path d=\"M 10 75 L 25 75\" fill=\"none\" stroke=\"darkred\" stroke-width=\"3.000000\" stroke-linejoin=\"miter\"/>\n",
       "<text x=\"0.000000\" y=\"75.000000\" font-size=\"6.000000\" text-anchor=\"start\">1</text>\n",
       "<path d=\"M 10 125 L 25 125\" fill=\"none\" stroke=\"darkred\" stroke-width=\"3.000000\" stroke-linejoin=\"miter\"/>\n",
       "<text x=\"0.000000\" y=\"125.000000\" font-size=\"6.000000\" text-anchor=\"start\">2</text>\n",
       "<polyline points=\"27 2 473 2 473 148 27 148 27 2\" fill=\"lightgreen\" stroke=\"none\" stroke-width=\"1.000000\" stroke_linejoin=\"miter\" />\n",
       "<polyline points=\"25 25 75 25\" fill=\"transparent\"stroke=\"darkred\" stroke-width=\"3.000000\" stroke-linejoin=\"miter\" />\n",
       "<polyline points=\"30 40 39 40 53 10 44 10 30 40 39 40 30 40\" fill=\"gray\" stroke=\"black\" stroke-width=\"1.000000\" stroke_linejoin=\"miter\" />\n",
       "<text x=\"47.000000\" y=\"38.000000\" font-size=\"7.000000\" text-anchor=\"start\">Φ=beta2</text>\n",
       "<polyline points=\"25 75 75 75\" fill=\"transparent\"stroke=\"darkred\" stroke-width=\"3.000000\" stroke-linejoin=\"miter\" />\n",
       "<polyline points=\"30 90 39 90 53 60 44 60 30 90 39 90 30 90\" fill=\"gray\" stroke=\"black\" stroke-width=\"1.000000\" stroke_linejoin=\"miter\" />\n",
       "<text x=\"47.000000\" y=\"88.000000\" font-size=\"7.000000\" text-anchor=\"start\">Φ=beta1</text>\n",
       "<polyline points=\"25 125 75 125\" fill=\"transparent\"stroke=\"darkred\" stroke-width=\"3.000000\" stroke-linejoin=\"miter\" />\n",
       "<polyline points=\"75 75 103 75 122 94\" fill=\"transparent\"stroke=\"darkred\" stroke-width=\"3.000000\" stroke-linejoin=\"round\" />\n",
       "<polyline points=\"128 94 147 75 175 75\" fill=\"transparent\"stroke=\"darkred\" stroke-width=\"3.000000\" stroke-linejoin=\"round\" />\n",
       "<polyline points=\"75 125 103 125 122 106\" fill=\"transparent\"stroke=\"darkred\" stroke-width=\"3.000000\" stroke-linejoin=\"round\" />\n",
       "<polyline points=\"128 106 147 125 175 125\" fill=\"transparent\"stroke=\"darkred\" stroke-width=\"3.000000\" stroke-linejoin=\"round\" />\n",
       "<polyline points=\"100 93 150 93 150 107 100 107 100 93\" fill=\"black\" stroke=\"black\" stroke-width=\"1.000000\" stroke_linejoin=\"miter\" />\n",
       "<text x=\"125.000000\" y=\"136.000000\" font-size=\"7.000000\" text-anchor=\"middle\"></text>\n",
       "<text x=\"125.000000\" y=\"76.000000\" font-size=\"7.000000\" text-anchor=\"middle\">theta=alpha1</text>\n",
       "<polyline points=\"100 93 150 93 150 97 100 97 100 93\" fill=\"lightgray\" stroke=\"black\" stroke-width=\"1.000000\" stroke_linejoin=\"miter\" />\n",
       "<polyline points=\"75 25 175 25\" fill=\"transparent\"stroke=\"darkred\" stroke-width=\"3.000000\" stroke-linejoin=\"miter\" />\n",
       "<polyline points=\"175 25 203 25 222 44\" fill=\"transparent\"stroke=\"darkred\" stroke-width=\"3.000000\" stroke-linejoin=\"round\" />\n",
       "<polyline points=\"228 44 247 25 275 25\" fill=\"transparent\"stroke=\"darkred\" stroke-width=\"3.000000\" stroke-linejoin=\"round\" />\n",
       "<polyline points=\"175 75 203 75 222 56\" fill=\"transparent\"stroke=\"darkred\" stroke-width=\"3.000000\" stroke-linejoin=\"round\" />\n",
       "<polyline points=\"228 56 247 75 275 75\" fill=\"transparent\"stroke=\"darkred\" stroke-width=\"3.000000\" stroke-linejoin=\"round\" />\n",
       "<polyline points=\"200 43 250 43 250 57 200 57 200 43\" fill=\"black\" stroke=\"black\" stroke-width=\"1.000000\" stroke_linejoin=\"miter\" />\n",
       "<text x=\"225.000000\" y=\"86.000000\" font-size=\"7.000000\" text-anchor=\"middle\"></text>\n",
       "<text x=\"225.000000\" y=\"26.000000\" font-size=\"7.000000\" text-anchor=\"middle\">theta=alpha2</text>\n",
       "<polyline points=\"200 43 250 43 250 47 200 47 200 43\" fill=\"lightgray\" stroke=\"black\" stroke-width=\"1.000000\" stroke_linejoin=\"miter\" />\n",
       "<polyline points=\"275 75 325 75\" fill=\"transparent\"stroke=\"darkred\" stroke-width=\"3.000000\" stroke-linejoin=\"miter\" />\n",
       "<polyline points=\"280 90 289 90 303 60 294 60 280 90 289 90 280 90\" fill=\"gray\" stroke=\"black\" stroke-width=\"1.000000\" stroke_linejoin=\"miter\" />\n",
       "<text x=\"297.000000\" y=\"88.000000\" font-size=\"7.000000\" text-anchor=\"start\">Φ=beta3</text>\n",
       "<polyline points=\"175 125 325 125\" fill=\"transparent\"stroke=\"darkred\" stroke-width=\"3.000000\" stroke-linejoin=\"miter\" />\n",
       "<polyline points=\"325 75 353 75 372 94\" fill=\"transparent\"stroke=\"darkred\" stroke-width=\"3.000000\" stroke-linejoin=\"round\" />\n",
       "<polyline points=\"378 94 397 75 425 75\" fill=\"transparent\"stroke=\"darkred\" stroke-width=\"3.000000\" stroke-linejoin=\"round\" />\n",
       "<polyline points=\"325 125 353 125 372 106\" fill=\"transparent\"stroke=\"darkred\" stroke-width=\"3.000000\" stroke-linejoin=\"round\" />\n",
       "<polyline points=\"378 106 397 125 425 125\" fill=\"transparent\"stroke=\"darkred\" stroke-width=\"3.000000\" stroke-linejoin=\"round\" />\n",
       "<polyline points=\"350 93 400 93 400 107 350 107 350 93\" fill=\"black\" stroke=\"black\" stroke-width=\"1.000000\" stroke_linejoin=\"miter\" />\n",
       "<text x=\"375.000000\" y=\"136.000000\" font-size=\"7.000000\" text-anchor=\"middle\"></text>\n",
       "<text x=\"375.000000\" y=\"76.000000\" font-size=\"7.000000\" text-anchor=\"middle\">theta=alpha3</text>\n",
       "<polyline points=\"350 93 400 93 400 97 350 97 350 93\" fill=\"lightgray\" stroke=\"black\" stroke-width=\"1.000000\" stroke_linejoin=\"miter\" />\n",
       "<polyline points=\"275 25 325 25\" fill=\"transparent\"stroke=\"darkred\" stroke-width=\"3.000000\" stroke-linejoin=\"miter\" />\n",
       "<polyline points=\"280 40 289 40 303 10 294 10 280 40 289 40 280 40\" fill=\"gray\" stroke=\"black\" stroke-width=\"1.000000\" stroke_linejoin=\"miter\" />\n",
       "<text x=\"297.000000\" y=\"38.000000\" font-size=\"7.000000\" text-anchor=\"start\">Φ=beta4</text>\n",
       "<polyline points=\"425 75 475 75\" fill=\"transparent\"stroke=\"darkred\" stroke-width=\"3.000000\" stroke-linejoin=\"miter\" />\n",
       "<polyline points=\"430 90 439 90 453 60 444 60 430 90 439 90 430 90\" fill=\"gray\" stroke=\"black\" stroke-width=\"1.000000\" stroke_linejoin=\"miter\" />\n",
       "<text x=\"447.000000\" y=\"88.000000\" font-size=\"7.000000\" text-anchor=\"start\">Φ=beta5</text>\n",
       "<polyline points=\"425 125 475 125\" fill=\"transparent\"stroke=\"darkred\" stroke-width=\"3.000000\" stroke-linejoin=\"miter\" />\n",
       "<polyline points=\"430 140 439 140 453 110 444 110 430 140 439 140 430 140\" fill=\"gray\" stroke=\"black\" stroke-width=\"1.000000\" stroke_linejoin=\"miter\" />\n",
       "<text x=\"447.000000\" y=\"138.000000\" font-size=\"7.000000\" text-anchor=\"start\">Φ=beta6</text>\n",
       "<polyline points=\"325 25 475 25\" fill=\"transparent\"stroke=\"darkred\" stroke-width=\"3.000000\" stroke-linejoin=\"miter\" />\n",
       "<polyline points=\"27 2 473 2 473 148 27 148 27 2\" fill=\"none\" stroke=\"black\" stroke-width=\"1.000000\" stroke_linejoin=\"miter\" stroke-dasharray='1,2'/>\n",
       "<text x=\"29.000000\" y=\"155.000000\" font-size=\"8.000000\" text-anchor=\"start\">REWRITE</text>\n",
       "<path d=\"M 475 25 L 490 25\" fill=\"none\" stroke=\"darkred\" stroke-width=\"3.000000\" stroke-linejoin=\"miter\"/>\n",
       "<text x=\"500.000000\" y=\"25.000000\" font-size=\"6.000000\" text-anchor=\"end\">0</text>\n",
       "<path d=\"M 475 75 L 490 75\" fill=\"none\" stroke=\"darkred\" stroke-width=\"3.000000\" stroke-linejoin=\"miter\"/>\n",
       "<text x=\"500.000000\" y=\"75.000000\" font-size=\"6.000000\" text-anchor=\"end\">1</text>\n",
       "<path d=\"M 475 125 L 490 125\" fill=\"none\" stroke=\"darkred\" stroke-width=\"3.000000\" stroke-linejoin=\"miter\"/>\n",
       "<text x=\"500.000000\" y=\"125.000000\" font-size=\"6.000000\" text-anchor=\"end\">2</text></svg>"
      ],
      "text/plain": [
       "<IPython.core.display.HTML object>"
      ]
     },
     "metadata": {},
     "output_type": "display_data"
    }
   ],
   "source": [
    "rewrite1=pcvl.Circuit(3, name=\"rewrite\")//(0,phys.PS(pcvl.P(\"beta2\")))//(1,phys.PS(pcvl.P(\"beta1\")))//(1,phys.BS(theta=pcvl.P(\"alpha1\")))//(0,phys.BS(theta=pcvl.P(\"alpha2\")))//(1,phys.PS(pcvl.P(\"beta3\")))//(1,phys.BS(theta=pcvl.P(\"alpha3\")))//(0,phys.PS(pcvl.P(\"beta4\")))//(1,phys.PS(pcvl.P(\"beta5\")))//(2,phys.PS(pcvl.P(\"beta6\")))\n",
    "rewrite1._color = \"lightgreen\"\n",
    "pcvl.pdisplay(pcvl.Circuit(3).add(0,rewrite1,False), recursive=True)"
   ]
  },
  {
   "cell_type": "markdown",
   "id": "d4197839",
   "metadata": {
    "pycharm": {
     "name": "#%% md\n"
    }
   },
   "source": [
    "Let us implement now the rule number 1."
   ]
  },
  {
   "cell_type": "markdown",
   "id": "171cff3a",
   "metadata": {
    "pycharm": {
     "name": "#%% md\n"
    }
   },
   "source": [
    "![](../_static/img/rewrite1.png)"
   ]
  },
  {
   "cell_type": "code",
   "execution_count": 4,
   "id": "5468fdb9",
   "metadata": {
    "pycharm": {
     "name": "#%%\n"
    }
   },
   "outputs": [],
   "source": [
    "pattern2=pcvl.Circuit(1, name=\"pattern\")//phys.PS(pcvl.P(\"phi1\"))//phys.PS(pcvl.P(\"phi2\"))\n",
    "rewrite2=pcvl.Circuit(1, name=\"rewrite\")//phys.PS(pcvl.P(\"phi\"))"
   ]
  },
  {
   "cell_type": "code",
   "execution_count": 5,
   "id": "e428775f",
   "metadata": {
    "pycharm": {
     "name": "#%%\n"
    }
   },
   "outputs": [
    {
     "data": {
      "text/html": [
       "<svg width='156.000000' height='100.000000' viewBox='-3.000000 0.000000 153.000000 100.000000'><path d=\"M 10 25 L 25 25\" fill=\"none\" stroke=\"darkred\" stroke-width=\"3.000000\" stroke-linejoin=\"miter\"/>\n",
       "<text x=\"0.000000\" y=\"25.000000\" font-size=\"6.000000\" text-anchor=\"start\">0</text>\n",
       "<polyline points=\"27 2 123 2 123 48 27 48 27 2\" fill=\"lightblue\" stroke=\"none\" stroke-width=\"1.000000\" stroke_linejoin=\"miter\" />\n",
       "<polyline points=\"25 25 75 25\" fill=\"transparent\"stroke=\"darkred\" stroke-width=\"3.000000\" stroke-linejoin=\"miter\" />\n",
       "<polyline points=\"30 40 39 40 53 10 44 10 30 40 39 40 30 40\" fill=\"gray\" stroke=\"black\" stroke-width=\"1.000000\" stroke_linejoin=\"miter\" />\n",
       "<text x=\"47.000000\" y=\"38.000000\" font-size=\"7.000000\" text-anchor=\"start\">Φ=phi1</text>\n",
       "<polyline points=\"75 25 125 25\" fill=\"transparent\"stroke=\"darkred\" stroke-width=\"3.000000\" stroke-linejoin=\"miter\" />\n",
       "<polyline points=\"80 40 89 40 103 10 94 10 80 40 89 40 80 40\" fill=\"gray\" stroke=\"black\" stroke-width=\"1.000000\" stroke_linejoin=\"miter\" />\n",
       "<text x=\"97.000000\" y=\"38.000000\" font-size=\"7.000000\" text-anchor=\"start\">Φ=phi2</text>\n",
       "<polyline points=\"27 2 123 2 123 48 27 48 27 2\" fill=\"none\" stroke=\"black\" stroke-width=\"1.000000\" stroke_linejoin=\"miter\" stroke-dasharray='1,2'/>\n",
       "<text x=\"29.000000\" y=\"55.000000\" font-size=\"8.000000\" text-anchor=\"start\">PATTERN</text>\n",
       "<path d=\"M 125 25 L 140 25\" fill=\"none\" stroke=\"darkred\" stroke-width=\"3.000000\" stroke-linejoin=\"miter\"/>\n",
       "<text x=\"150.000000\" y=\"25.000000\" font-size=\"6.000000\" text-anchor=\"end\">0</text></svg>"
      ],
      "text/plain": [
       "<IPython.core.display.HTML object>"
      ]
     },
     "metadata": {},
     "output_type": "display_data"
    }
   ],
   "source": [
    "pcvl.pdisplay(pcvl.Circuit(1).add(0,pattern2,False), recursive=True)"
   ]
  },
  {
   "cell_type": "code",
   "execution_count": 6,
   "id": "e2bdd9f4",
   "metadata": {
    "pycharm": {
     "name": "#%%\n"
    }
   },
   "outputs": [
    {
     "data": {
      "text/html": [
       "<svg width='106.000000' height='100.000000' viewBox='-3.000000 0.000000 103.000000 100.000000'><path d=\"M 10 25 L 25 25\" fill=\"none\" stroke=\"darkred\" stroke-width=\"3.000000\" stroke-linejoin=\"miter\"/>\n",
       "<text x=\"0.000000\" y=\"25.000000\" font-size=\"6.000000\" text-anchor=\"start\">0</text>\n",
       "<polyline points=\"27 2 73 2 73 48 27 48 27 2\" fill=\"lightblue\" stroke=\"none\" stroke-width=\"1.000000\" stroke_linejoin=\"miter\" />\n",
       "<polyline points=\"25 25 75 25\" fill=\"transparent\"stroke=\"darkred\" stroke-width=\"3.000000\" stroke-linejoin=\"miter\" />\n",
       "<polyline points=\"30 40 39 40 53 10 44 10 30 40 39 40 30 40\" fill=\"gray\" stroke=\"black\" stroke-width=\"1.000000\" stroke_linejoin=\"miter\" />\n",
       "<text x=\"47.000000\" y=\"38.000000\" font-size=\"7.000000\" text-anchor=\"start\">Φ=phi</text>\n",
       "<polyline points=\"27 2 73 2 73 48 27 48 27 2\" fill=\"none\" stroke=\"black\" stroke-width=\"1.000000\" stroke_linejoin=\"miter\" stroke-dasharray='1,2'/>\n",
       "<text x=\"29.000000\" y=\"55.000000\" font-size=\"8.000000\" text-anchor=\"start\">REWRITE</text>\n",
       "<path d=\"M 75 25 L 90 25\" fill=\"none\" stroke=\"darkred\" stroke-width=\"3.000000\" stroke-linejoin=\"miter\"/>\n",
       "<text x=\"100.000000\" y=\"25.000000\" font-size=\"6.000000\" text-anchor=\"end\">0</text></svg>"
      ],
      "text/plain": [
       "<IPython.core.display.HTML object>"
      ]
     },
     "metadata": {},
     "output_type": "display_data"
    }
   ],
   "source": [
    "pcvl.pdisplay(pcvl.Circuit(1).add(0,rewrite2,False), recursive=True)"
   ]
  },
  {
   "cell_type": "markdown",
   "id": "6ceae57c",
   "metadata": {
    "pycharm": {
     "name": "#%% md\n"
    }
   },
   "source": [
    "The third rule used in this notebook is the following one:"
   ]
  },
  {
   "cell_type": "markdown",
   "id": "246fc6ce",
   "metadata": {
    "pycharm": {
     "name": "#%% md\n"
    }
   },
   "source": [
    "![](../_static/img/rewrite33.png)"
   ]
  },
  {
   "cell_type": "code",
   "execution_count": 7,
   "id": "d056ab6c",
   "metadata": {
    "pycharm": {
     "name": "#%%\n"
    }
   },
   "outputs": [
    {
     "data": {
      "text/html": [
       "<svg width='206.000000' height='150.000000' viewBox='-3.000000 0.000000 203.000000 150.000000'><path d=\"M 10 25 L 25 25\" fill=\"none\" stroke=\"darkred\" stroke-width=\"3.000000\" stroke-linejoin=\"miter\"/>\n",
       "<text x=\"0.000000\" y=\"25.000000\" font-size=\"6.000000\" text-anchor=\"start\">0</text>\n",
       "<path d=\"M 10 75 L 25 75\" fill=\"none\" stroke=\"darkred\" stroke-width=\"3.000000\" stroke-linejoin=\"miter\"/>\n",
       "<text x=\"0.000000\" y=\"75.000000\" font-size=\"6.000000\" text-anchor=\"start\">1</text>\n",
       "<polyline points=\"27 2 173 2 173 98 27 98 27 2\" fill=\"pink\" stroke=\"none\" stroke-width=\"1.000000\" stroke_linejoin=\"miter\" />\n",
       "<polyline points=\"25 75 75 75\" fill=\"transparent\"stroke=\"darkred\" stroke-width=\"3.000000\" stroke-linejoin=\"miter\" />\n",
       "<polyline points=\"30 90 39 90 53 60 44 60 30 90 39 90 30 90\" fill=\"gray\" stroke=\"black\" stroke-width=\"1.000000\" stroke_linejoin=\"miter\" />\n",
       "<text x=\"47.000000\" y=\"88.000000\" font-size=\"7.000000\" text-anchor=\"start\">Φ=phip</text>\n",
       "<polyline points=\"25 25 75 25\" fill=\"transparent\"stroke=\"darkred\" stroke-width=\"3.000000\" stroke-linejoin=\"miter\" />\n",
       "<polyline points=\"75 25 103 25 122 44\" fill=\"transparent\"stroke=\"darkred\" stroke-width=\"3.000000\" stroke-linejoin=\"round\" />\n",
       "<polyline points=\"128 44 147 25 175 25\" fill=\"transparent\"stroke=\"darkred\" stroke-width=\"3.000000\" stroke-linejoin=\"round\" />\n",
       "<polyline points=\"75 75 103 75 122 56\" fill=\"transparent\"stroke=\"darkred\" stroke-width=\"3.000000\" stroke-linejoin=\"round\" />\n",
       "<polyline points=\"128 56 147 75 175 75\" fill=\"transparent\"stroke=\"darkred\" stroke-width=\"3.000000\" stroke-linejoin=\"round\" />\n",
       "<polyline points=\"100 43 150 43 150 57 100 57 100 43\" fill=\"black\" stroke=\"black\" stroke-width=\"1.000000\" stroke_linejoin=\"miter\" />\n",
       "<text x=\"125.000000\" y=\"86.000000\" font-size=\"7.000000\" text-anchor=\"middle\"></text>\n",
       "<text x=\"125.000000\" y=\"26.000000\" font-size=\"7.000000\" text-anchor=\"middle\">theta=theta</text>\n",
       "<polyline points=\"100 43 150 43 150 47 100 47 100 43\" fill=\"lightgray\" stroke=\"black\" stroke-width=\"1.000000\" stroke_linejoin=\"miter\" />\n",
       "<polyline points=\"27 2 173 2 173 98 27 98 27 2\" fill=\"none\" stroke=\"black\" stroke-width=\"1.000000\" stroke_linejoin=\"miter\" stroke-dasharray='1,2'/>\n",
       "<text x=\"29.000000\" y=\"105.000000\" font-size=\"8.000000\" text-anchor=\"start\">PATTERN3</text>\n",
       "<path d=\"M 175 25 L 190 25\" fill=\"none\" stroke=\"darkred\" stroke-width=\"3.000000\" stroke-linejoin=\"miter\"/>\n",
       "<text x=\"200.000000\" y=\"25.000000\" font-size=\"6.000000\" text-anchor=\"end\">0</text>\n",
       "<path d=\"M 175 75 L 190 75\" fill=\"none\" stroke=\"darkred\" stroke-width=\"3.000000\" stroke-linejoin=\"miter\"/>\n",
       "<text x=\"200.000000\" y=\"75.000000\" font-size=\"6.000000\" text-anchor=\"end\">1</text></svg>"
      ],
      "text/plain": [
       "<IPython.core.display.HTML object>"
      ]
     },
     "metadata": {},
     "output_type": "display_data"
    }
   ],
   "source": [
    "pattern3=pcvl.Circuit(2, name=\"pattern3\")//(1,phys.PS(pcvl.P(\"phip\")))//(0,phys.BS(theta=pcvl.P(\"theta\")))\n",
    "pattern3._color = \"pink\"\n",
    "pcvl.pdisplay(pcvl.Circuit(2).add(0,pattern3,False), recursive=True)"
   ]
  },
  {
   "cell_type": "code",
   "execution_count": 8,
   "id": "6ef8057d",
   "metadata": {
    "pycharm": {
     "name": "#%%\n"
    }
   },
   "outputs": [
    {
     "data": {
      "text/html": [
       "<svg width='256.000000' height='150.000000' viewBox='-3.000000 0.000000 253.000000 150.000000'><path d=\"M 10 25 L 25 25\" fill=\"none\" stroke=\"darkred\" stroke-width=\"3.000000\" stroke-linejoin=\"miter\"/>\n",
       "<text x=\"0.000000\" y=\"25.000000\" font-size=\"6.000000\" text-anchor=\"start\">0</text>\n",
       "<path d=\"M 10 75 L 25 75\" fill=\"none\" stroke=\"darkred\" stroke-width=\"3.000000\" stroke-linejoin=\"miter\"/>\n",
       "<text x=\"0.000000\" y=\"75.000000\" font-size=\"6.000000\" text-anchor=\"start\">1</text>\n",
       "<polyline points=\"27 2 223 2 223 98 27 98 27 2\" fill=\"pink\" stroke=\"none\" stroke-width=\"1.000000\" stroke_linejoin=\"miter\" />\n",
       "<polyline points=\"25 25 75 25\" fill=\"transparent\"stroke=\"darkred\" stroke-width=\"3.000000\" stroke-linejoin=\"miter\" />\n",
       "<polyline points=\"30 40 39 40 53 10 44 10 30 40 39 40 30 40\" fill=\"gray\" stroke=\"black\" stroke-width=\"1.000000\" stroke_linejoin=\"miter\" />\n",
       "<text x=\"47.000000\" y=\"38.000000\" font-size=\"7.000000\" text-anchor=\"start\">Φ=phi1</text>\n",
       "<polyline points=\"25 75 75 75\" fill=\"transparent\"stroke=\"darkred\" stroke-width=\"3.000000\" stroke-linejoin=\"miter\" />\n",
       "<polyline points=\"75 25 103 25 122 44\" fill=\"transparent\"stroke=\"darkred\" stroke-width=\"3.000000\" stroke-linejoin=\"round\" />\n",
       "<polyline points=\"128 44 147 25 175 25\" fill=\"transparent\"stroke=\"darkred\" stroke-width=\"3.000000\" stroke-linejoin=\"round\" />\n",
       "<polyline points=\"75 75 103 75 122 56\" fill=\"transparent\"stroke=\"darkred\" stroke-width=\"3.000000\" stroke-linejoin=\"round\" />\n",
       "<polyline points=\"128 56 147 75 175 75\" fill=\"transparent\"stroke=\"darkred\" stroke-width=\"3.000000\" stroke-linejoin=\"round\" />\n",
       "<polyline points=\"100 43 150 43 150 57 100 57 100 43\" fill=\"black\" stroke=\"black\" stroke-width=\"1.000000\" stroke_linejoin=\"miter\" />\n",
       "<text x=\"125.000000\" y=\"86.000000\" font-size=\"7.000000\" text-anchor=\"middle\"></text>\n",
       "<text x=\"125.000000\" y=\"26.000000\" font-size=\"7.000000\" text-anchor=\"middle\">theta=theta</text>\n",
       "<polyline points=\"100 43 150 43 150 47 100 47 100 43\" fill=\"lightgray\" stroke=\"black\" stroke-width=\"1.000000\" stroke_linejoin=\"miter\" />\n",
       "<polyline points=\"175 25 225 25\" fill=\"transparent\"stroke=\"darkred\" stroke-width=\"3.000000\" stroke-linejoin=\"miter\" />\n",
       "<polyline points=\"180 40 189 40 203 10 194 10 180 40 189 40 180 40\" fill=\"gray\" stroke=\"black\" stroke-width=\"1.000000\" stroke_linejoin=\"miter\" />\n",
       "<text x=\"197.000000\" y=\"38.000000\" font-size=\"7.000000\" text-anchor=\"start\">Φ=phi2</text>\n",
       "<polyline points=\"175 75 225 75\" fill=\"transparent\"stroke=\"darkred\" stroke-width=\"3.000000\" stroke-linejoin=\"miter\" />\n",
       "<polyline points=\"180 90 189 90 203 60 194 60 180 90 189 90 180 90\" fill=\"gray\" stroke=\"black\" stroke-width=\"1.000000\" stroke_linejoin=\"miter\" />\n",
       "<text x=\"197.000000\" y=\"88.000000\" font-size=\"7.000000\" text-anchor=\"start\">Φ=phi3</text>\n",
       "<polyline points=\"27 2 223 2 223 98 27 98 27 2\" fill=\"none\" stroke=\"black\" stroke-width=\"1.000000\" stroke_linejoin=\"miter\" stroke-dasharray='1,2'/>\n",
       "<text x=\"29.000000\" y=\"105.000000\" font-size=\"8.000000\" text-anchor=\"start\">REWRITE3</text>\n",
       "<path d=\"M 225 25 L 240 25\" fill=\"none\" stroke=\"darkred\" stroke-width=\"3.000000\" stroke-linejoin=\"miter\"/>\n",
       "<text x=\"250.000000\" y=\"25.000000\" font-size=\"6.000000\" text-anchor=\"end\">0</text>\n",
       "<path d=\"M 225 75 L 240 75\" fill=\"none\" stroke=\"darkred\" stroke-width=\"3.000000\" stroke-linejoin=\"miter\"/>\n",
       "<text x=\"250.000000\" y=\"75.000000\" font-size=\"6.000000\" text-anchor=\"end\">1</text></svg>"
      ],
      "text/plain": [
       "<IPython.core.display.HTML object>"
      ]
     },
     "metadata": {},
     "output_type": "display_data"
    }
   ],
   "source": [
    "rewrite3=pcvl.Circuit(2, name=\"rewrite3\")//(0,phys.PS(pcvl.P(\"phi1\")))//(0,phys.BS(theta=pcvl.P(\"theta\")))//(0,phys.PS(pcvl.P(\"phi2\")))//(1,phys.PS(pcvl.P(\"phi3\")))\n",
    "rewrite3._color = \"pink\"\n",
    "pcvl.pdisplay(pcvl.Circuit(2).add(0,rewrite3,False), recursive=True)"
   ]
  },
  {
   "cell_type": "markdown",
   "id": "6c7efe31",
   "metadata": {
    "pycharm": {
     "name": "#%% md\n"
    }
   },
   "source": [
    "And the fourth rule is the rule 38 in the article."
   ]
  },
  {
   "cell_type": "markdown",
   "id": "4cae9637",
   "metadata": {
    "pycharm": {
     "name": "#%% md\n"
    }
   },
   "source": [
    "![](../_static/img/rewrite38.png)"
   ]
  },
  {
   "cell_type": "code",
   "execution_count": 9,
   "id": "597bc933",
   "metadata": {
    "pycharm": {
     "name": "#%%\n"
    }
   },
   "outputs": [
    {
     "data": {
      "text/html": [
       "<svg width='306.000000' height='150.000000' viewBox='-3.000000 0.000000 303.000000 150.000000'><path d=\"M 10 25 L 25 25\" fill=\"none\" stroke=\"darkred\" stroke-width=\"3.000000\" stroke-linejoin=\"miter\"/>\n",
       "<text x=\"0.000000\" y=\"25.000000\" font-size=\"6.000000\" text-anchor=\"start\">0</text>\n",
       "<path d=\"M 10 75 L 25 75\" fill=\"none\" stroke=\"darkred\" stroke-width=\"3.000000\" stroke-linejoin=\"miter\"/>\n",
       "<text x=\"0.000000\" y=\"75.000000\" font-size=\"6.000000\" text-anchor=\"start\">1</text>\n",
       "<polyline points=\"27 2 273 2 273 98 27 98 27 2\" fill=\"orange\" stroke=\"none\" stroke-width=\"1.000000\" stroke_linejoin=\"miter\" />\n",
       "<polyline points=\"25 25 53 25 72 44\" fill=\"transparent\"stroke=\"darkred\" stroke-width=\"3.000000\" stroke-linejoin=\"round\" />\n",
       "<polyline points=\"78 44 97 25 125 25\" fill=\"transparent\"stroke=\"darkred\" stroke-width=\"3.000000\" stroke-linejoin=\"round\" />\n",
       "<polyline points=\"25 75 53 75 72 56\" fill=\"transparent\"stroke=\"darkred\" stroke-width=\"3.000000\" stroke-linejoin=\"round\" />\n",
       "<polyline points=\"78 56 97 75 125 75\" fill=\"transparent\"stroke=\"darkred\" stroke-width=\"3.000000\" stroke-linejoin=\"round\" />\n",
       "<polyline points=\"50 43 100 43 100 57 50 57 50 43\" fill=\"black\" stroke=\"black\" stroke-width=\"1.000000\" stroke_linejoin=\"miter\" />\n",
       "<text x=\"75.000000\" y=\"86.000000\" font-size=\"7.000000\" text-anchor=\"middle\"></text>\n",
       "<text x=\"75.000000\" y=\"26.000000\" font-size=\"7.000000\" text-anchor=\"middle\">theta=theta1</text>\n",
       "<polyline points=\"50 43 100 43 100 47 50 47 50 43\" fill=\"lightgray\" stroke=\"black\" stroke-width=\"1.000000\" stroke_linejoin=\"miter\" />\n",
       "<polyline points=\"125 25 175 25\" fill=\"transparent\"stroke=\"darkred\" stroke-width=\"3.000000\" stroke-linejoin=\"miter\" />\n",
       "<polyline points=\"130 40 139 40 153 10 144 10 130 40 139 40 130 40\" fill=\"gray\" stroke=\"black\" stroke-width=\"1.000000\" stroke_linejoin=\"miter\" />\n",
       "<text x=\"147.000000\" y=\"38.000000\" font-size=\"7.000000\" text-anchor=\"start\">Φ=phi1</text>\n",
       "<polyline points=\"125 75 175 75\" fill=\"transparent\"stroke=\"darkred\" stroke-width=\"3.000000\" stroke-linejoin=\"miter\" />\n",
       "<polyline points=\"175 25 203 25 222 44\" fill=\"transparent\"stroke=\"darkred\" stroke-width=\"3.000000\" stroke-linejoin=\"round\" />\n",
       "<polyline points=\"228 44 247 25 275 25\" fill=\"transparent\"stroke=\"darkred\" stroke-width=\"3.000000\" stroke-linejoin=\"round\" />\n",
       "<polyline points=\"175 75 203 75 222 56\" fill=\"transparent\"stroke=\"darkred\" stroke-width=\"3.000000\" stroke-linejoin=\"round\" />\n",
       "<polyline points=\"228 56 247 75 275 75\" fill=\"transparent\"stroke=\"darkred\" stroke-width=\"3.000000\" stroke-linejoin=\"round\" />\n",
       "<polyline points=\"200 43 250 43 250 57 200 57 200 43\" fill=\"black\" stroke=\"black\" stroke-width=\"1.000000\" stroke_linejoin=\"miter\" />\n",
       "<text x=\"225.000000\" y=\"86.000000\" font-size=\"7.000000\" text-anchor=\"middle\"></text>\n",
       "<text x=\"225.000000\" y=\"26.000000\" font-size=\"7.000000\" text-anchor=\"middle\">theta=theta2</text>\n",
       "<polyline points=\"200 43 250 43 250 47 200 47 200 43\" fill=\"lightgray\" stroke=\"black\" stroke-width=\"1.000000\" stroke_linejoin=\"miter\" />\n",
       "<polyline points=\"27 2 273 2 273 98 27 98 27 2\" fill=\"none\" stroke=\"black\" stroke-width=\"1.000000\" stroke_linejoin=\"miter\" stroke-dasharray='1,2'/>\n",
       "<text x=\"29.000000\" y=\"105.000000\" font-size=\"8.000000\" text-anchor=\"start\">PATTERN4</text>\n",
       "<path d=\"M 275 25 L 290 25\" fill=\"none\" stroke=\"darkred\" stroke-width=\"3.000000\" stroke-linejoin=\"miter\"/>\n",
       "<text x=\"300.000000\" y=\"25.000000\" font-size=\"6.000000\" text-anchor=\"end\">0</text>\n",
       "<path d=\"M 275 75 L 290 75\" fill=\"none\" stroke=\"darkred\" stroke-width=\"3.000000\" stroke-linejoin=\"miter\"/>\n",
       "<text x=\"300.000000\" y=\"75.000000\" font-size=\"6.000000\" text-anchor=\"end\">1</text></svg>"
      ],
      "text/plain": [
       "<IPython.core.display.HTML object>"
      ]
     },
     "metadata": {},
     "output_type": "display_data"
    }
   ],
   "source": [
    "pattern4=pcvl.Circuit(2, name=\"pattern4\")//(0,phys.BS(theta=pcvl.P(\"theta1\")))//(0,phys.PS(pcvl.P(\"phi1\")))//(0,phys.BS(theta=pcvl.P(\"theta2\")))\n",
    "pattern4._color = \"orange\"\n",
    "pcvl.pdisplay(pcvl.Circuit(2).add(0,pattern4,False), recursive=True)"
   ]
  },
  {
   "cell_type": "code",
   "execution_count": 10,
   "id": "1866e2c5",
   "metadata": {
    "pycharm": {
     "name": "#%%\n"
    }
   },
   "outputs": [
    {
     "data": {
      "text/html": [
       "<svg width='256.000000' height='150.000000' viewBox='-3.000000 0.000000 253.000000 150.000000'><path d=\"M 10 25 L 25 25\" fill=\"none\" stroke=\"darkred\" stroke-width=\"3.000000\" stroke-linejoin=\"miter\"/>\n",
       "<text x=\"0.000000\" y=\"25.000000\" font-size=\"6.000000\" text-anchor=\"start\">0</text>\n",
       "<path d=\"M 10 75 L 25 75\" fill=\"none\" stroke=\"darkred\" stroke-width=\"3.000000\" stroke-linejoin=\"miter\"/>\n",
       "<text x=\"0.000000\" y=\"75.000000\" font-size=\"6.000000\" text-anchor=\"start\">1</text>\n",
       "<polyline points=\"27 2 223 2 223 98 27 98 27 2\" fill=\"orange\" stroke=\"none\" stroke-width=\"1.000000\" stroke_linejoin=\"miter\" />\n",
       "<polyline points=\"25 25 75 25\" fill=\"transparent\"stroke=\"darkred\" stroke-width=\"3.000000\" stroke-linejoin=\"miter\" />\n",
       "<polyline points=\"30 40 39 40 53 10 44 10 30 40 39 40 30 40\" fill=\"gray\" stroke=\"black\" stroke-width=\"1.000000\" stroke_linejoin=\"miter\" />\n",
       "<text x=\"47.000000\" y=\"38.000000\" font-size=\"7.000000\" text-anchor=\"start\">Φ=beta1</text>\n",
       "<polyline points=\"25 75 75 75\" fill=\"transparent\"stroke=\"darkred\" stroke-width=\"3.000000\" stroke-linejoin=\"miter\" />\n",
       "<polyline points=\"75 25 103 25 122 44\" fill=\"transparent\"stroke=\"darkred\" stroke-width=\"3.000000\" stroke-linejoin=\"round\" />\n",
       "<polyline points=\"128 44 147 25 175 25\" fill=\"transparent\"stroke=\"darkred\" stroke-width=\"3.000000\" stroke-linejoin=\"round\" />\n",
       "<polyline points=\"75 75 103 75 122 56\" fill=\"transparent\"stroke=\"darkred\" stroke-width=\"3.000000\" stroke-linejoin=\"round\" />\n",
       "<polyline points=\"128 56 147 75 175 75\" fill=\"transparent\"stroke=\"darkred\" stroke-width=\"3.000000\" stroke-linejoin=\"round\" />\n",
       "<polyline points=\"100 43 150 43 150 57 100 57 100 43\" fill=\"black\" stroke=\"black\" stroke-width=\"1.000000\" stroke_linejoin=\"miter\" />\n",
       "<text x=\"125.000000\" y=\"86.000000\" font-size=\"7.000000\" text-anchor=\"middle\"></text>\n",
       "<text x=\"125.000000\" y=\"26.000000\" font-size=\"7.000000\" text-anchor=\"middle\">theta=alpha1</text>\n",
       "<polyline points=\"100 43 150 43 150 47 100 47 100 43\" fill=\"lightgray\" stroke=\"black\" stroke-width=\"1.000000\" stroke_linejoin=\"miter\" />\n",
       "<polyline points=\"175 25 225 25\" fill=\"transparent\"stroke=\"darkred\" stroke-width=\"3.000000\" stroke-linejoin=\"miter\" />\n",
       "<polyline points=\"180 40 189 40 203 10 194 10 180 40 189 40 180 40\" fill=\"gray\" stroke=\"black\" stroke-width=\"1.000000\" stroke_linejoin=\"miter\" />\n",
       "<text x=\"197.000000\" y=\"38.000000\" font-size=\"7.000000\" text-anchor=\"start\">Φ=beta2</text>\n",
       "<polyline points=\"175 75 225 75\" fill=\"transparent\"stroke=\"darkred\" stroke-width=\"3.000000\" stroke-linejoin=\"miter\" />\n",
       "<polyline points=\"180 90 189 90 203 60 194 60 180 90 189 90 180 90\" fill=\"gray\" stroke=\"black\" stroke-width=\"1.000000\" stroke_linejoin=\"miter\" />\n",
       "<text x=\"197.000000\" y=\"88.000000\" font-size=\"7.000000\" text-anchor=\"start\">Φ=beta3</text>\n",
       "<polyline points=\"27 2 223 2 223 98 27 98 27 2\" fill=\"none\" stroke=\"black\" stroke-width=\"1.000000\" stroke_linejoin=\"miter\" stroke-dasharray='1,2'/>\n",
       "<text x=\"29.000000\" y=\"105.000000\" font-size=\"8.000000\" text-anchor=\"start\">REWRITE4</text>\n",
       "<path d=\"M 225 25 L 240 25\" fill=\"none\" stroke=\"darkred\" stroke-width=\"3.000000\" stroke-linejoin=\"miter\"/>\n",
       "<text x=\"250.000000\" y=\"25.000000\" font-size=\"6.000000\" text-anchor=\"end\">0</text>\n",
       "<path d=\"M 225 75 L 240 75\" fill=\"none\" stroke=\"darkred\" stroke-width=\"3.000000\" stroke-linejoin=\"miter\"/>\n",
       "<text x=\"250.000000\" y=\"75.000000\" font-size=\"6.000000\" text-anchor=\"end\">1</text></svg>"
      ],
      "text/plain": [
       "<IPython.core.display.HTML object>"
      ]
     },
     "metadata": {},
     "output_type": "display_data"
    }
   ],
   "source": [
    "rewrite4=pcvl.Circuit(2, name=\"rewrite4\")//(0,phys.PS(pcvl.P(\"beta1\")))//(0,phys.BS(theta=pcvl.P(\"alpha1\")))//(0,phys.PS(pcvl.P(\"beta2\")))//(1,phys.PS(pcvl.P(\"beta3\")))\n",
    "rewrite4._color = \"orange\"\n",
    "pcvl.pdisplay(pcvl.Circuit(2).add(0,rewrite4,False), recursive=True)"
   ]
  },
  {
   "cell_type": "code",
   "execution_count": 11,
   "id": "deafebff",
   "metadata": {
    "pycharm": {
     "name": "#%%\n"
    }
   },
   "outputs": [
    {
     "data": {
      "text/html": [
       "<svg width='1106.000000' height='250.000000' viewBox='-3.000000 0.000000 1103.000000 250.000000'><path d=\"M 10 25 L 25 25\" fill=\"none\" stroke=\"darkred\" stroke-width=\"3.000000\" stroke-linejoin=\"miter\"/>\n",
       "<text x=\"0.000000\" y=\"25.000000\" font-size=\"6.000000\" text-anchor=\"start\">0</text>\n",
       "<path d=\"M 10 75 L 25 75\" fill=\"none\" stroke=\"darkred\" stroke-width=\"3.000000\" stroke-linejoin=\"miter\"/>\n",
       "<text x=\"0.000000\" y=\"75.000000\" font-size=\"6.000000\" text-anchor=\"start\">1</text>\n",
       "<path d=\"M 10 125 L 25 125\" fill=\"none\" stroke=\"darkred\" stroke-width=\"3.000000\" stroke-linejoin=\"miter\"/>\n",
       "<text x=\"0.000000\" y=\"125.000000\" font-size=\"6.000000\" text-anchor=\"start\">2</text>\n",
       "<path d=\"M 10 175 L 25 175\" fill=\"none\" stroke=\"darkred\" stroke-width=\"3.000000\" stroke-linejoin=\"miter\"/>\n",
       "<text x=\"0.000000\" y=\"175.000000\" font-size=\"6.000000\" text-anchor=\"start\">3</text>\n",
       "<polyline points=\"25 25 75 25\" fill=\"transparent\"stroke=\"darkred\" stroke-width=\"3.000000\" stroke-linejoin=\"miter\" />\n",
       "<polyline points=\"30 40 39 40 53 10 44 10 30 40 39 40 30 40\" fill=\"gray\" stroke=\"black\" stroke-width=\"1.000000\" stroke_linejoin=\"miter\" />\n",
       "<text x=\"47.000000\" y=\"38.000000\" font-size=\"7.000000\" text-anchor=\"start\">Φ=0.474571</text>\n",
       "<polyline points=\"25 75 75 75\" fill=\"transparent\"stroke=\"darkred\" stroke-width=\"3.000000\" stroke-linejoin=\"miter\" />\n",
       "<polyline points=\"75 25 103 25 122 44\" fill=\"transparent\"stroke=\"darkred\" stroke-width=\"3.000000\" stroke-linejoin=\"round\" />\n",
       "<polyline points=\"128 44 147 25 175 25\" fill=\"transparent\"stroke=\"darkred\" stroke-width=\"3.000000\" stroke-linejoin=\"round\" />\n",
       "<polyline points=\"75 75 103 75 122 56\" fill=\"transparent\"stroke=\"darkred\" stroke-width=\"3.000000\" stroke-linejoin=\"round\" />\n",
       "<polyline points=\"128 56 147 75 175 75\" fill=\"transparent\"stroke=\"darkred\" stroke-width=\"3.000000\" stroke-linejoin=\"round\" />\n",
       "<polyline points=\"100 43 150 43 150 57 100 57 100 43\" fill=\"black\" stroke=\"black\" stroke-width=\"1.000000\" stroke_linejoin=\"miter\" />\n",
       "<text x=\"125.000000\" y=\"86.000000\" font-size=\"7.000000\" text-anchor=\"middle\"></text>\n",
       "<text x=\"125.000000\" y=\"26.000000\" font-size=\"7.000000\" text-anchor=\"middle\">theta=0.657473</text>\n",
       "<polyline points=\"100 43 150 43 150 47 100 47 100 43\" fill=\"lightgray\" stroke=\"black\" stroke-width=\"1.000000\" stroke_linejoin=\"miter\" />\n",
       "<polyline points=\"25 125 75 125\" fill=\"transparent\"stroke=\"darkred\" stroke-width=\"3.000000\" stroke-linejoin=\"miter\" />\n",
       "<polyline points=\"30 140 39 140 53 110 44 110 30 140 39 140 30 140\" fill=\"gray\" stroke=\"black\" stroke-width=\"1.000000\" stroke_linejoin=\"miter\" />\n",
       "<text x=\"47.000000\" y=\"138.000000\" font-size=\"7.000000\" text-anchor=\"start\">Φ=0.66641</text>\n",
       "<polyline points=\"25 175 75 175\" fill=\"transparent\"stroke=\"darkred\" stroke-width=\"3.000000\" stroke-linejoin=\"miter\" />\n",
       "<polyline points=\"75 125 103 125 122 144\" fill=\"transparent\"stroke=\"darkred\" stroke-width=\"3.000000\" stroke-linejoin=\"round\" />\n",
       "<polyline points=\"128 144 147 125 175 125\" fill=\"transparent\"stroke=\"darkred\" stroke-width=\"3.000000\" stroke-linejoin=\"round\" />\n",
       "<polyline points=\"75 175 103 175 122 156\" fill=\"transparent\"stroke=\"darkred\" stroke-width=\"3.000000\" stroke-linejoin=\"round\" />\n",
       "<polyline points=\"128 156 147 175 175 175\" fill=\"transparent\"stroke=\"darkred\" stroke-width=\"3.000000\" stroke-linejoin=\"round\" />\n",
       "<polyline points=\"100 143 150 143 150 157 100 157 100 143\" fill=\"black\" stroke=\"black\" stroke-width=\"1.000000\" stroke_linejoin=\"miter\" />\n",
       "<text x=\"125.000000\" y=\"186.000000\" font-size=\"7.000000\" text-anchor=\"middle\"></text>\n",
       "<text x=\"125.000000\" y=\"126.000000\" font-size=\"7.000000\" text-anchor=\"middle\">theta=0.1426</text>\n",
       "<polyline points=\"100 143 150 143 150 147 100 147 100 143\" fill=\"lightgray\" stroke=\"black\" stroke-width=\"1.000000\" stroke_linejoin=\"miter\" />\n",
       "<polyline points=\"175 75 225 75\" fill=\"transparent\"stroke=\"darkred\" stroke-width=\"3.000000\" stroke-linejoin=\"miter\" />\n",
       "<polyline points=\"180 90 189 90 203 60 194 60 180 90 189 90 180 90\" fill=\"gray\" stroke=\"black\" stroke-width=\"1.000000\" stroke_linejoin=\"miter\" />\n",
       "<text x=\"197.000000\" y=\"88.000000\" font-size=\"7.000000\" text-anchor=\"start\">Φ=0.01086</text>\n",
       "<polyline points=\"175 125 225 125\" fill=\"transparent\"stroke=\"darkred\" stroke-width=\"3.000000\" stroke-linejoin=\"miter\" />\n",
       "<polyline points=\"225 75 253 75 272 94\" fill=\"transparent\"stroke=\"darkred\" stroke-width=\"3.000000\" stroke-linejoin=\"round\" />\n",
       "<polyline points=\"278 94 297 75 325 75\" fill=\"transparent\"stroke=\"darkred\" stroke-width=\"3.000000\" stroke-linejoin=\"round\" />\n",
       "<polyline points=\"225 125 253 125 272 106\" fill=\"transparent\"stroke=\"darkred\" stroke-width=\"3.000000\" stroke-linejoin=\"round\" />\n",
       "<polyline points=\"278 106 297 125 325 125\" fill=\"transparent\"stroke=\"darkred\" stroke-width=\"3.000000\" stroke-linejoin=\"round\" />\n",
       "<polyline points=\"250 93 300 93 300 107 250 107 250 93\" fill=\"black\" stroke=\"black\" stroke-width=\"1.000000\" stroke_linejoin=\"miter\" />\n",
       "<text x=\"275.000000\" y=\"136.000000\" font-size=\"7.000000\" text-anchor=\"middle\"></text>\n",
       "<text x=\"275.000000\" y=\"76.000000\" font-size=\"7.000000\" text-anchor=\"middle\">theta=0.374754</text>\n",
       "<polyline points=\"250 93 300 93 300 97 250 97 250 93\" fill=\"lightgray\" stroke=\"black\" stroke-width=\"1.000000\" stroke_linejoin=\"miter\" />\n",
       "<polyline points=\"175 25 225 25\" fill=\"transparent\"stroke=\"darkred\" stroke-width=\"3.000000\" stroke-linejoin=\"miter\" />\n",
       "<polyline points=\"180 40 189 40 203 10 194 10 180 40 189 40 180 40\" fill=\"gray\" stroke=\"black\" stroke-width=\"1.000000\" stroke_linejoin=\"miter\" />\n",
       "<text x=\"197.000000\" y=\"38.000000\" font-size=\"7.000000\" text-anchor=\"start\">Φ=0.274048</text>\n",
       "<polyline points=\"225 25 325 25\" fill=\"transparent\"stroke=\"darkred\" stroke-width=\"3.000000\" stroke-linejoin=\"miter\" />\n",
       "<polyline points=\"325 25 353 25 372 44\" fill=\"transparent\"stroke=\"darkred\" stroke-width=\"3.000000\" stroke-linejoin=\"round\" />\n",
       "<polyline points=\"378 44 397 25 425 25\" fill=\"transparent\"stroke=\"darkred\" stroke-width=\"3.000000\" stroke-linejoin=\"round\" />\n",
       "<polyline points=\"325 75 353 75 372 56\" fill=\"transparent\"stroke=\"darkred\" stroke-width=\"3.000000\" stroke-linejoin=\"round\" />\n",
       "<polyline points=\"378 56 397 75 425 75\" fill=\"transparent\"stroke=\"darkred\" stroke-width=\"3.000000\" stroke-linejoin=\"round\" />\n",
       "<polyline points=\"350 43 400 43 400 57 350 57 350 43\" fill=\"black\" stroke=\"black\" stroke-width=\"1.000000\" stroke_linejoin=\"miter\" />\n",
       "<text x=\"375.000000\" y=\"86.000000\" font-size=\"7.000000\" text-anchor=\"middle\"></text>\n",
       "<text x=\"375.000000\" y=\"26.000000\" font-size=\"7.000000\" text-anchor=\"middle\">theta=0.810348</text>\n",
       "<polyline points=\"350 43 400 43 400 47 350 47 350 43\" fill=\"lightgray\" stroke=\"black\" stroke-width=\"1.000000\" stroke_linejoin=\"miter\" />\n",
       "<polyline points=\"325 125 375 125\" fill=\"transparent\"stroke=\"darkred\" stroke-width=\"3.000000\" stroke-linejoin=\"miter\" />\n",
       "<polyline points=\"330 140 339 140 353 110 344 110 330 140 339 140 330 140\" fill=\"gray\" stroke=\"black\" stroke-width=\"1.000000\" stroke_linejoin=\"miter\" />\n",
       "<text x=\"347.000000\" y=\"138.000000\" font-size=\"7.000000\" text-anchor=\"start\">Φ=0.690593</text>\n",
       "<polyline points=\"175 175 375 175\" fill=\"transparent\"stroke=\"darkred\" stroke-width=\"3.000000\" stroke-linejoin=\"miter\" />\n",
       "<polyline points=\"375 125 403 125 422 144\" fill=\"transparent\"stroke=\"darkred\" stroke-width=\"3.000000\" stroke-linejoin=\"round\" />\n",
       "<polyline points=\"428 144 447 125 475 125\" fill=\"transparent\"stroke=\"darkred\" stroke-width=\"3.000000\" stroke-linejoin=\"round\" />\n",
       "<polyline points=\"375 175 403 175 422 156\" fill=\"transparent\"stroke=\"darkred\" stroke-width=\"3.000000\" stroke-linejoin=\"round\" />\n",
       "<polyline points=\"428 156 447 175 475 175\" fill=\"transparent\"stroke=\"darkred\" stroke-width=\"3.000000\" stroke-linejoin=\"round\" />\n",
       "<polyline points=\"400 143 450 143 450 157 400 157 400 143\" fill=\"black\" stroke=\"black\" stroke-width=\"1.000000\" stroke_linejoin=\"miter\" />\n",
       "<text x=\"425.000000\" y=\"186.000000\" font-size=\"7.000000\" text-anchor=\"middle\"></text>\n",
       "<text x=\"425.000000\" y=\"126.000000\" font-size=\"7.000000\" text-anchor=\"middle\">theta=0.601457</text>\n",
       "<polyline points=\"400 143 450 143 450 147 400 147 400 143\" fill=\"lightgray\" stroke=\"black\" stroke-width=\"1.000000\" stroke_linejoin=\"miter\" />\n",
       "<polyline points=\"425 75 475 75\" fill=\"transparent\"stroke=\"darkred\" stroke-width=\"3.000000\" stroke-linejoin=\"miter\" />\n",
       "<polyline points=\"430 90 439 90 453 60 444 60 430 90 439 90 430 90\" fill=\"gray\" stroke=\"black\" stroke-width=\"1.000000\" stroke_linejoin=\"miter\" />\n",
       "<text x=\"447.000000\" y=\"88.000000\" font-size=\"7.000000\" text-anchor=\"start\">Φ=0.55819</text>\n",
       "<polyline points=\"475 75 503 75 522 94\" fill=\"transparent\"stroke=\"darkred\" stroke-width=\"3.000000\" stroke-linejoin=\"round\" />\n",
       "<polyline points=\"528 94 547 75 575 75\" fill=\"transparent\"stroke=\"darkred\" stroke-width=\"3.000000\" stroke-linejoin=\"round\" />\n",
       "<polyline points=\"475 125 503 125 522 106\" fill=\"transparent\"stroke=\"darkred\" stroke-width=\"3.000000\" stroke-linejoin=\"round\" />\n",
       "<polyline points=\"528 106 547 125 575 125\" fill=\"transparent\"stroke=\"darkred\" stroke-width=\"3.000000\" stroke-linejoin=\"round\" />\n",
       "<polyline points=\"500 93 550 93 550 107 500 107 500 93\" fill=\"black\" stroke=\"black\" stroke-width=\"1.000000\" stroke_linejoin=\"miter\" />\n",
       "<text x=\"525.000000\" y=\"136.000000\" font-size=\"7.000000\" text-anchor=\"middle\"></text>\n",
       "<text x=\"525.000000\" y=\"76.000000\" font-size=\"7.000000\" text-anchor=\"middle\">theta=0.661321</text>\n",
       "<polyline points=\"500 93 550 93 550 97 500 97 500 93\" fill=\"lightgray\" stroke=\"black\" stroke-width=\"1.000000\" stroke_linejoin=\"miter\" />\n",
       "<polyline points=\"425 25 475 25\" fill=\"transparent\"stroke=\"darkred\" stroke-width=\"3.000000\" stroke-linejoin=\"miter\" />\n",
       "<polyline points=\"430 40 439 40 453 10 444 10 430 40 439 40 430 40\" fill=\"gray\" stroke=\"black\" stroke-width=\"1.000000\" stroke_linejoin=\"miter\" />\n",
       "<text x=\"447.000000\" y=\"38.000000\" font-size=\"7.000000\" text-anchor=\"start\">Φ=0.145303</text>\n",
       "<polyline points=\"475 25 575 25\" fill=\"transparent\"stroke=\"darkred\" stroke-width=\"3.000000\" stroke-linejoin=\"miter\" />\n",
       "<polyline points=\"575 25 603 25 622 44\" fill=\"transparent\"stroke=\"darkred\" stroke-width=\"3.000000\" stroke-linejoin=\"round\" />\n",
       "<polyline points=\"628 44 647 25 675 25\" fill=\"transparent\"stroke=\"darkred\" stroke-width=\"3.000000\" stroke-linejoin=\"round\" />\n",
       "<polyline points=\"575 75 603 75 622 56\" fill=\"transparent\"stroke=\"darkred\" stroke-width=\"3.000000\" stroke-linejoin=\"round\" />\n",
       "<polyline points=\"628 56 647 75 675 75\" fill=\"transparent\"stroke=\"darkred\" stroke-width=\"3.000000\" stroke-linejoin=\"round\" />\n",
       "<polyline points=\"600 43 650 43 650 57 600 57 600 43\" fill=\"black\" stroke=\"black\" stroke-width=\"1.000000\" stroke_linejoin=\"miter\" />\n",
       "<text x=\"625.000000\" y=\"86.000000\" font-size=\"7.000000\" text-anchor=\"middle\"></text>\n",
       "<text x=\"625.000000\" y=\"26.000000\" font-size=\"7.000000\" text-anchor=\"middle\">theta=0.440055</text>\n",
       "<polyline points=\"600 43 650 43 650 47 600 47 600 43\" fill=\"lightgray\" stroke=\"black\" stroke-width=\"1.000000\" stroke_linejoin=\"miter\" />\n",
       "<polyline points=\"575 125 625 125\" fill=\"transparent\"stroke=\"darkred\" stroke-width=\"3.000000\" stroke-linejoin=\"miter\" />\n",
       "<polyline points=\"580 140 589 140 603 110 594 110 580 140 589 140 580 140\" fill=\"gray\" stroke=\"black\" stroke-width=\"1.000000\" stroke_linejoin=\"miter\" />\n",
       "<text x=\"597.000000\" y=\"138.000000\" font-size=\"7.000000\" text-anchor=\"start\">Φ=0.162267</text>\n",
       "<polyline points=\"475 175 625 175\" fill=\"transparent\"stroke=\"darkred\" stroke-width=\"3.000000\" stroke-linejoin=\"miter\" />\n",
       "<polyline points=\"625 125 653 125 672 144\" fill=\"transparent\"stroke=\"darkred\" stroke-width=\"3.000000\" stroke-linejoin=\"round\" />\n",
       "<polyline points=\"678 144 697 125 725 125\" fill=\"transparent\"stroke=\"darkred\" stroke-width=\"3.000000\" stroke-linejoin=\"round\" />\n",
       "<polyline points=\"625 175 653 175 672 156\" fill=\"transparent\"stroke=\"darkred\" stroke-width=\"3.000000\" stroke-linejoin=\"round\" />\n",
       "<polyline points=\"678 156 697 175 725 175\" fill=\"transparent\"stroke=\"darkred\" stroke-width=\"3.000000\" stroke-linejoin=\"round\" />\n",
       "<polyline points=\"650 143 700 143 700 157 650 157 650 143\" fill=\"black\" stroke=\"black\" stroke-width=\"1.000000\" stroke_linejoin=\"miter\" />\n",
       "<text x=\"675.000000\" y=\"186.000000\" font-size=\"7.000000\" text-anchor=\"middle\"></text>\n",
       "<text x=\"675.000000\" y=\"126.000000\" font-size=\"7.000000\" text-anchor=\"middle\">theta=0.905973</text>\n",
       "<polyline points=\"650 143 700 143 700 147 650 147 650 143\" fill=\"lightgray\" stroke=\"black\" stroke-width=\"1.000000\" stroke_linejoin=\"miter\" />\n",
       "<polyline points=\"675 75 725 75\" fill=\"transparent\"stroke=\"darkred\" stroke-width=\"3.000000\" stroke-linejoin=\"miter\" />\n",
       "<polyline points=\"680 90 689 90 703 60 694 60 680 90 689 90 680 90\" fill=\"gray\" stroke=\"black\" stroke-width=\"1.000000\" stroke_linejoin=\"miter\" />\n",
       "<text x=\"697.000000\" y=\"88.000000\" font-size=\"7.000000\" text-anchor=\"start\">Φ=0.058824</text>\n",
       "<polyline points=\"725 75 753 75 772 94\" fill=\"transparent\"stroke=\"darkred\" stroke-width=\"3.000000\" stroke-linejoin=\"round\" />\n",
       "<polyline points=\"778 94 797 75 825 75\" fill=\"transparent\"stroke=\"darkred\" stroke-width=\"3.000000\" stroke-linejoin=\"round\" />\n",
       "<polyline points=\"725 125 753 125 772 106\" fill=\"transparent\"stroke=\"darkred\" stroke-width=\"3.000000\" stroke-linejoin=\"round\" />\n",
       "<polyline points=\"778 106 797 125 825 125\" fill=\"transparent\"stroke=\"darkred\" stroke-width=\"3.000000\" stroke-linejoin=\"round\" />\n",
       "<polyline points=\"750 93 800 93 800 107 750 107 750 93\" fill=\"black\" stroke=\"black\" stroke-width=\"1.000000\" stroke_linejoin=\"miter\" />\n",
       "<text x=\"775.000000\" y=\"136.000000\" font-size=\"7.000000\" text-anchor=\"middle\"></text>\n",
       "<text x=\"775.000000\" y=\"76.000000\" font-size=\"7.000000\" text-anchor=\"middle\">theta=0.81882</text>\n",
       "<polyline points=\"750 93 800 93 800 97 750 97 750 93\" fill=\"lightgray\" stroke=\"black\" stroke-width=\"1.000000\" stroke_linejoin=\"miter\" />\n",
       "<polyline points=\"675 25 725 25\" fill=\"transparent\"stroke=\"darkred\" stroke-width=\"3.000000\" stroke-linejoin=\"miter\" />\n",
       "<polyline points=\"680 40 689 40 703 10 694 10 680 40 689 40 680 40\" fill=\"gray\" stroke=\"black\" stroke-width=\"1.000000\" stroke_linejoin=\"miter\" />\n",
       "<text x=\"697.000000\" y=\"38.000000\" font-size=\"7.000000\" text-anchor=\"start\">Φ=0.07461</text>\n",
       "<polyline points=\"725 25 825 25\" fill=\"transparent\"stroke=\"darkred\" stroke-width=\"3.000000\" stroke-linejoin=\"miter\" />\n",
       "<polyline points=\"825 25 853 25 872 44\" fill=\"transparent\"stroke=\"darkred\" stroke-width=\"3.000000\" stroke-linejoin=\"round\" />\n",
       "<polyline points=\"878 44 897 25 925 25\" fill=\"transparent\"stroke=\"darkred\" stroke-width=\"3.000000\" stroke-linejoin=\"round\" />\n",
       "<polyline points=\"825 75 853 75 872 56\" fill=\"transparent\"stroke=\"darkred\" stroke-width=\"3.000000\" stroke-linejoin=\"round\" />\n",
       "<polyline points=\"878 56 897 75 925 75\" fill=\"transparent\"stroke=\"darkred\" stroke-width=\"3.000000\" stroke-linejoin=\"round\" />\n",
       "<polyline points=\"850 43 900 43 900 57 850 57 850 43\" fill=\"black\" stroke=\"black\" stroke-width=\"1.000000\" stroke_linejoin=\"miter\" />\n",
       "<text x=\"875.000000\" y=\"86.000000\" font-size=\"7.000000\" text-anchor=\"middle\"></text>\n",
       "<text x=\"875.000000\" y=\"26.000000\" font-size=\"7.000000\" text-anchor=\"middle\">theta=0.686946</text>\n",
       "<polyline points=\"850 43 900 43 900 47 850 47 850 43\" fill=\"lightgray\" stroke=\"black\" stroke-width=\"1.000000\" stroke_linejoin=\"miter\" />\n",
       "<polyline points=\"825 125 875 125\" fill=\"transparent\"stroke=\"darkred\" stroke-width=\"3.000000\" stroke-linejoin=\"miter\" />\n",
       "<polyline points=\"830 140 839 140 853 110 844 110 830 140 839 140 830 140\" fill=\"gray\" stroke=\"black\" stroke-width=\"1.000000\" stroke_linejoin=\"miter\" />\n",
       "<text x=\"847.000000\" y=\"138.000000\" font-size=\"7.000000\" text-anchor=\"start\">Φ=0.337</text>\n",
       "<polyline points=\"725 175 875 175\" fill=\"transparent\"stroke=\"darkred\" stroke-width=\"3.000000\" stroke-linejoin=\"miter\" />\n",
       "<polyline points=\"875 125 903 125 922 144\" fill=\"transparent\"stroke=\"darkred\" stroke-width=\"3.000000\" stroke-linejoin=\"round\" />\n",
       "<polyline points=\"928 144 947 125 975 125\" fill=\"transparent\"stroke=\"darkred\" stroke-width=\"3.000000\" stroke-linejoin=\"round\" />\n",
       "<polyline points=\"875 175 903 175 922 156\" fill=\"transparent\"stroke=\"darkred\" stroke-width=\"3.000000\" stroke-linejoin=\"round\" />\n",
       "<polyline points=\"928 156 947 175 975 175\" fill=\"transparent\"stroke=\"darkred\" stroke-width=\"3.000000\" stroke-linejoin=\"round\" />\n",
       "<polyline points=\"900 143 950 143 950 157 900 157 900 143\" fill=\"black\" stroke=\"black\" stroke-width=\"1.000000\" stroke_linejoin=\"miter\" />\n",
       "<text x=\"925.000000\" y=\"186.000000\" font-size=\"7.000000\" text-anchor=\"middle\"></text>\n",
       "<text x=\"925.000000\" y=\"126.000000\" font-size=\"7.000000\" text-anchor=\"middle\">theta=0.404614</text>\n",
       "<polyline points=\"900 143 950 143 950 147 900 147 900 143\" fill=\"lightgray\" stroke=\"black\" stroke-width=\"1.000000\" stroke_linejoin=\"miter\" />\n",
       "<polyline points=\"925 75 975 75\" fill=\"transparent\"stroke=\"darkred\" stroke-width=\"3.000000\" stroke-linejoin=\"miter\" />\n",
       "<polyline points=\"930 90 939 90 953 60 944 60 930 90 939 90 930 90\" fill=\"gray\" stroke=\"black\" stroke-width=\"1.000000\" stroke_linejoin=\"miter\" />\n",
       "<text x=\"947.000000\" y=\"88.000000\" font-size=\"7.000000\" text-anchor=\"start\">Φ=0.842403</text>\n",
       "<polyline points=\"975 75 1003 75 1022 94\" fill=\"transparent\"stroke=\"darkred\" stroke-width=\"3.000000\" stroke-linejoin=\"round\" />\n",
       "<polyline points=\"1028 94 1047 75 1075 75\" fill=\"transparent\"stroke=\"darkred\" stroke-width=\"3.000000\" stroke-linejoin=\"round\" />\n",
       "<polyline points=\"975 125 1003 125 1022 106\" fill=\"transparent\"stroke=\"darkred\" stroke-width=\"3.000000\" stroke-linejoin=\"round\" />\n",
       "<polyline points=\"1028 106 1047 125 1075 125\" fill=\"transparent\"stroke=\"darkred\" stroke-width=\"3.000000\" stroke-linejoin=\"round\" />\n",
       "<polyline points=\"1000 93 1050 93 1050 107 1000 107 1000 93\" fill=\"black\" stroke=\"black\" stroke-width=\"1.000000\" stroke_linejoin=\"miter\" />\n",
       "<text x=\"1025.000000\" y=\"136.000000\" font-size=\"7.000000\" text-anchor=\"middle\"></text>\n",
       "<text x=\"1025.000000\" y=\"76.000000\" font-size=\"7.000000\" text-anchor=\"middle\">theta=0.018604</text>\n",
       "<polyline points=\"1000 93 1050 93 1050 97 1000 97 1000 93\" fill=\"lightgray\" stroke=\"black\" stroke-width=\"1.000000\" stroke_linejoin=\"miter\" />\n",
       "<polyline points=\"925 25 1075 25\" fill=\"transparent\"stroke=\"darkred\" stroke-width=\"3.000000\" stroke-linejoin=\"miter\" />\n",
       "<polyline points=\"975 175 1075 175\" fill=\"transparent\"stroke=\"darkred\" stroke-width=\"3.000000\" stroke-linejoin=\"miter\" />\n",
       "<path d=\"M 1075 25 L 1090 25\" fill=\"none\" stroke=\"darkred\" stroke-width=\"3.000000\" stroke-linejoin=\"miter\"/>\n",
       "<text x=\"1100.000000\" y=\"25.000000\" font-size=\"6.000000\" text-anchor=\"end\">0</text>\n",
       "<path d=\"M 1075 75 L 1090 75\" fill=\"none\" stroke=\"darkred\" stroke-width=\"3.000000\" stroke-linejoin=\"miter\"/>\n",
       "<text x=\"1100.000000\" y=\"75.000000\" font-size=\"6.000000\" text-anchor=\"end\">1</text>\n",
       "<path d=\"M 1075 125 L 1090 125\" fill=\"none\" stroke=\"darkred\" stroke-width=\"3.000000\" stroke-linejoin=\"miter\"/>\n",
       "<text x=\"1100.000000\" y=\"125.000000\" font-size=\"6.000000\" text-anchor=\"end\">2</text>\n",
       "<path d=\"M 1075 175 L 1090 175\" fill=\"none\" stroke=\"darkred\" stroke-width=\"3.000000\" stroke-linejoin=\"miter\"/>\n",
       "<text x=\"1100.000000\" y=\"175.000000\" font-size=\"6.000000\" text-anchor=\"end\">3</text></svg>"
      ],
      "text/plain": [
       "<IPython.core.display.HTML object>"
      ]
     },
     "metadata": {},
     "output_type": "display_data"
    }
   ],
   "source": [
    "a=pcvl.Circuit.generic_interferometer(4, lambda idx:pcvl.Circuit(2)//phys.PS(phi=random.random())//phys.BS(theta=random.random()), depth=8, shape=\"rectangle\")\n",
    "pcvl.pdisplay(a, recursive=True, render_size=0.7)"
   ]
  },
  {
   "cell_type": "markdown",
   "id": "f13dd7d7",
   "metadata": {
    "pycharm": {
     "name": "#%% md\n"
    }
   },
   "source": [
    "## Normalizing Circuit"
   ]
  },
  {
   "cell_type": "code",
   "execution_count": 12,
   "id": "0f5ee748",
   "metadata": {
    "pycharm": {
     "name": "#%%\n"
    }
   },
   "outputs": [],
   "source": [
    "import drawSvg as draw\n",
    "import copy"
   ]
  },
  {
   "cell_type": "code",
   "execution_count": 13,
   "id": "df109c0f",
   "metadata": {
    "pycharm": {
     "name": "#%%\n"
    }
   },
   "outputs": [
    {
     "data": {
      "image/svg+xml": [
       "<?xml version=\"1.0\" encoding=\"UTF-8\"?>\n",
       "<svg xmlns=\"http://www.w3.org/2000/svg\" xmlns:xlink=\"http://www.w3.org/1999/xlink\"\n",
       "     width=\"451.8\" height=\"150.0\" viewBox=\"-3.0 0 753.0 250\">\n",
       "<defs>\n",
       "</defs>\n",
       "<path d=\"M10,25 L25,25\" stroke-width=\"3\" stroke=\"darkred\" stroke-linejoin=\"miter\" fill=\"none\" />\n",
       "<text x=\"0\" y=\"25\" font-size=\"6\" text-anchor=\"start\" dy=\"0em\">0</text>\n",
       "<path d=\"M10,75 L25,75\" stroke-width=\"3\" stroke=\"darkred\" stroke-linejoin=\"miter\" fill=\"none\" />\n",
       "<text x=\"0\" y=\"75\" font-size=\"6\" text-anchor=\"start\" dy=\"0em\">1</text>\n",
       "<path d=\"M10,125 L25,125\" stroke-width=\"3\" stroke=\"darkred\" stroke-linejoin=\"miter\" fill=\"none\" />\n",
       "<text x=\"0\" y=\"125\" font-size=\"6\" text-anchor=\"start\" dy=\"0em\">2</text>\n",
       "<path d=\"M10,175 L25,175\" stroke-width=\"3\" stroke=\"darkred\" stroke-linejoin=\"miter\" fill=\"none\" />\n",
       "<text x=\"0\" y=\"175\" font-size=\"6\" text-anchor=\"start\" dy=\"0em\">3</text>\n",
       "<path d=\"M25,125 L75,125\" stroke=\"darkred\" stroke-width=\"3\" fill=\"none\" />\n",
       "<path d=\"M30,140 L39,140 L53,110 L44,110 L30,140 L39,140 Z\" stroke=\"black\" fill=\"gray\" stroke-linejoin=\"miter\" />\n",
       "<text x=\"47\" y=\"138\" font-size=\"7\" text-anchor=\"start\" dy=\"0em\">Φ=4.120445</text>\n",
       "<path d=\"M25,175 L75,175\" stroke=\"darkred\" stroke-width=\"3\" fill=\"none\" />\n",
       "<path d=\"M75,125 L103,125 L122,144\" stroke=\"darkred\" stroke-width=\"3\" fill=\"none\" />\n",
       "<path d=\"M128,144 L147,125 L175,125\" stroke=\"darkred\" stroke-width=\"3\" fill=\"none\" />\n",
       "<path d=\"M75,175 L103,175 L122,156\" stroke=\"darkred\" stroke-width=\"3\" fill=\"none\" />\n",
       "<path d=\"M128,156 L147,175 L175,175\" stroke=\"darkred\" stroke-width=\"3\" fill=\"none\" />\n",
       "<path d=\"M100,143 L150,143 L150,157 L100,157 Z\" stroke=\"black\" fill=\"black\" stroke-linejoin=\"miter\" />\n",
       "<text x=\"125\" y=\"186\" font-size=\"7\" text-anchor=\"middle\" dy=\"0em\">phi_b=3*pi/2, phi_d=pi</text>\n",
       "<text x=\"125\" y=\"126\" font-size=\"7\" text-anchor=\"middle\" dy=\"0em\">theta=1.857703</text>\n",
       "<path d=\"M100,143 L150,143 L150,147 L100,147 Z\" stroke=\"black\" fill=\"lightgray\" stroke-linejoin=\"miter\" />\n",
       "<path d=\"M25,75 L75,75\" stroke=\"darkred\" stroke-width=\"3\" fill=\"none\" />\n",
       "<path d=\"M30,90 L39,90 L53,60 L44,60 L30,90 L39,90 Z\" stroke=\"black\" fill=\"gray\" stroke-linejoin=\"miter\" />\n",
       "<text x=\"47\" y=\"88\" font-size=\"7\" text-anchor=\"start\" dy=\"0em\">Φ=5.001399</text>\n",
       "<path d=\"M75,75 L175,75\" stroke=\"darkred\" stroke-width=\"3\" fill=\"none\" />\n",
       "<path d=\"M175,75 L203,75 L222,94\" stroke=\"darkred\" stroke-width=\"3\" fill=\"none\" />\n",
       "<path d=\"M228,94 L247,75 L275,75\" stroke=\"darkred\" stroke-width=\"3\" fill=\"none\" />\n",
       "<path d=\"M175,125 L203,125 L222,106\" stroke=\"darkred\" stroke-width=\"3\" fill=\"none\" />\n",
       "<path d=\"M228,106 L247,125 L275,125\" stroke=\"darkred\" stroke-width=\"3\" fill=\"none\" />\n",
       "<path d=\"M200,93 L250,93 L250,107 L200,107 Z\" stroke=\"black\" fill=\"black\" stroke-linejoin=\"miter\" />\n",
       "<text x=\"225\" y=\"136\" font-size=\"7\" text-anchor=\"middle\" dy=\"0em\">phi_b=3*pi/2, phi_d=pi</text>\n",
       "<text x=\"225\" y=\"76\" font-size=\"7\" text-anchor=\"middle\" dy=\"0em\">theta=1.928297</text>\n",
       "<path d=\"M200,93 L250,93 L250,97 L200,97 Z\" stroke=\"black\" fill=\"lightgray\" stroke-linejoin=\"miter\" />\n",
       "<path d=\"M25,25 L75,25\" stroke=\"darkred\" stroke-width=\"3\" fill=\"none\" />\n",
       "<path d=\"M30,40 L39,40 L53,10 L44,10 L30,40 L39,40 Z\" stroke=\"black\" fill=\"gray\" stroke-linejoin=\"miter\" />\n",
       "<text x=\"47\" y=\"38\" font-size=\"7\" text-anchor=\"start\" dy=\"0em\">Φ=3.957576</text>\n",
       "<path d=\"M75,25 L275,25\" stroke=\"darkred\" stroke-width=\"3\" fill=\"none\" />\n",
       "<path d=\"M275,25 L303,25 L322,44\" stroke=\"darkred\" stroke-width=\"3\" fill=\"none\" />\n",
       "<path d=\"M328,44 L347,25 L375,25\" stroke=\"darkred\" stroke-width=\"3\" fill=\"none\" />\n",
       "<path d=\"M275,75 L303,75 L322,56\" stroke=\"darkred\" stroke-width=\"3\" fill=\"none\" />\n",
       "<path d=\"M328,56 L347,75 L375,75\" stroke=\"darkred\" stroke-width=\"3\" fill=\"none\" />\n",
       "<path d=\"M300,43 L350,43 L350,57 L300,57 Z\" stroke=\"black\" fill=\"black\" stroke-linejoin=\"miter\" />\n",
       "<text x=\"325\" y=\"86\" font-size=\"7\" text-anchor=\"middle\" dy=\"0em\">phi_b=3*pi/2, phi_d=pi</text>\n",
       "<text x=\"325\" y=\"26\" font-size=\"7\" text-anchor=\"middle\" dy=\"0em\">theta=2.588035</text>\n",
       "<path d=\"M300,43 L350,43 L350,47 L300,47 Z\" stroke=\"black\" fill=\"lightgray\" stroke-linejoin=\"miter\" />\n",
       "<path d=\"M375,25 L425,25\" stroke=\"darkred\" stroke-width=\"3\" fill=\"none\" />\n",
       "<path d=\"M380,40 L389,40 L403,10 L394,10 L380,40 L389,40 Z\" stroke=\"black\" fill=\"gray\" stroke-linejoin=\"miter\" />\n",
       "<text x=\"397\" y=\"38\" font-size=\"7\" text-anchor=\"start\" dy=\"0em\">Φ=0.058335</text>\n",
       "<path d=\"M275,125 L325,125\" stroke=\"darkred\" stroke-width=\"3\" fill=\"none\" />\n",
       "<path d=\"M280,140 L289,140 L303,110 L294,110 L280,140 L289,140 Z\" stroke=\"black\" fill=\"gray\" stroke-linejoin=\"miter\" />\n",
       "<text x=\"297\" y=\"138\" font-size=\"7\" text-anchor=\"start\" dy=\"0em\">Φ=4.03864</text>\n",
       "<path d=\"M175,175 L325,175\" stroke=\"darkred\" stroke-width=\"3\" fill=\"none\" />\n",
       "<path d=\"M325,125 L353,125 L372,144\" stroke=\"darkred\" stroke-width=\"3\" fill=\"none\" />\n",
       "<path d=\"M378,144 L397,125 L425,125\" stroke=\"darkred\" stroke-width=\"3\" fill=\"none\" />\n",
       "<path d=\"M325,175 L353,175 L372,156\" stroke=\"darkred\" stroke-width=\"3\" fill=\"none\" />\n",
       "<path d=\"M378,156 L397,175 L425,175\" stroke=\"darkred\" stroke-width=\"3\" fill=\"none\" />\n",
       "<path d=\"M350,143 L400,143 L400,157 L350,157 Z\" stroke=\"black\" fill=\"black\" stroke-linejoin=\"miter\" />\n",
       "<text x=\"375\" y=\"186\" font-size=\"7\" text-anchor=\"middle\" dy=\"0em\">phi_b=3*pi/2, phi_d=pi</text>\n",
       "<text x=\"375\" y=\"126\" font-size=\"7\" text-anchor=\"middle\" dy=\"0em\">theta=2.662843</text>\n",
       "<path d=\"M350,143 L400,143 L400,147 L350,147 Z\" stroke=\"black\" fill=\"lightgray\" stroke-linejoin=\"miter\" />\n",
       "<path d=\"M375,75 L425,75\" stroke=\"darkred\" stroke-width=\"3\" fill=\"none\" />\n",
       "<path d=\"M380,90 L389,90 L403,60 L394,60 L380,90 L389,90 Z\" stroke=\"black\" fill=\"gray\" stroke-linejoin=\"miter\" />\n",
       "<text x=\"397\" y=\"88\" font-size=\"7\" text-anchor=\"start\" dy=\"0em\">Φ=1.477871</text>\n",
       "<path d=\"M425,75 L453,75 L472,94\" stroke=\"darkred\" stroke-width=\"3\" fill=\"none\" />\n",
       "<path d=\"M478,94 L497,75 L525,75\" stroke=\"darkred\" stroke-width=\"3\" fill=\"none\" />\n",
       "<path d=\"M425,125 L453,125 L472,106\" stroke=\"darkred\" stroke-width=\"3\" fill=\"none\" />\n",
       "<path d=\"M478,106 L497,125 L525,125\" stroke=\"darkred\" stroke-width=\"3\" fill=\"none\" />\n",
       "<path d=\"M450,93 L500,93 L500,107 L450,107 Z\" stroke=\"black\" fill=\"black\" stroke-linejoin=\"miter\" />\n",
       "<text x=\"475\" y=\"136\" font-size=\"7\" text-anchor=\"middle\" dy=\"0em\">phi_b=3*pi/2, phi_d=pi</text>\n",
       "<text x=\"475\" y=\"76\" font-size=\"7\" text-anchor=\"middle\" dy=\"0em\">theta=0.498395</text>\n",
       "<path d=\"M450,93 L500,93 L500,97 L450,97 Z\" stroke=\"black\" fill=\"lightgray\" stroke-linejoin=\"miter\" />\n",
       "<path d=\"M525,125 L575,125\" stroke=\"darkred\" stroke-width=\"3\" fill=\"none\" />\n",
       "<path d=\"M530,140 L539,140 L553,110 L544,110 L530,140 L539,140 Z\" stroke=\"black\" fill=\"gray\" stroke-linejoin=\"miter\" />\n",
       "<text x=\"547\" y=\"138\" font-size=\"7\" text-anchor=\"start\" dy=\"0em\">Φ=0.560203</text>\n",
       "<path d=\"M425,175 L575,175\" stroke=\"darkred\" stroke-width=\"3\" fill=\"none\" />\n",
       "<path d=\"M575,125 L603,125 L622,144\" stroke=\"darkred\" stroke-width=\"3\" fill=\"none\" />\n",
       "<path d=\"M628,144 L647,125 L675,125\" stroke=\"darkred\" stroke-width=\"3\" fill=\"none\" />\n",
       "<path d=\"M575,175 L603,175 L622,156\" stroke=\"darkred\" stroke-width=\"3\" fill=\"none\" />\n",
       "<path d=\"M628,156 L647,175 L675,175\" stroke=\"darkred\" stroke-width=\"3\" fill=\"none\" />\n",
       "<path d=\"M600,143 L650,143 L650,157 L600,157 Z\" stroke=\"black\" fill=\"black\" stroke-linejoin=\"miter\" />\n",
       "<text x=\"625\" y=\"186\" font-size=\"7\" text-anchor=\"middle\" dy=\"0em\">phi_b=3*pi/2, phi_d=pi</text>\n",
       "<text x=\"625\" y=\"126\" font-size=\"7\" text-anchor=\"middle\" dy=\"0em\">theta=2.242689</text>\n",
       "<path d=\"M600,143 L650,143 L650,147 L600,147 Z\" stroke=\"black\" fill=\"lightgray\" stroke-linejoin=\"miter\" />\n",
       "<path d=\"M525,75 L575,75\" stroke=\"darkred\" stroke-width=\"3\" fill=\"none\" />\n",
       "<path d=\"M530,90 L539,90 L553,60 L544,60 L530,90 L539,90 Z\" stroke=\"black\" fill=\"gray\" stroke-linejoin=\"miter\" />\n",
       "<text x=\"547\" y=\"88\" font-size=\"7\" text-anchor=\"start\" dy=\"0em\">Φ=2.772168</text>\n",
       "<path d=\"M675,125 L725,125\" stroke=\"darkred\" stroke-width=\"3\" fill=\"none\" />\n",
       "<path d=\"M680,140 L689,140 L703,110 L694,110 L680,140 L689,140 Z\" stroke=\"black\" fill=\"gray\" stroke-linejoin=\"miter\" />\n",
       "<text x=\"697\" y=\"138\" font-size=\"7\" text-anchor=\"start\" dy=\"0em\">Φ=0.336334</text>\n",
       "<path d=\"M675,175 L725,175\" stroke=\"darkred\" stroke-width=\"3\" fill=\"none\" />\n",
       "<path d=\"M680,190 L689,190 L703,160 L694,160 L680,190 L689,190 Z\" stroke=\"black\" fill=\"gray\" stroke-linejoin=\"miter\" />\n",
       "<text x=\"697\" y=\"188\" font-size=\"7\" text-anchor=\"start\" dy=\"0em\">Φ=0.813653</text>\n",
       "<path d=\"M425,25 L725,25\" stroke=\"darkred\" stroke-width=\"3\" fill=\"none\" />\n",
       "<path d=\"M575,75 L725,75\" stroke=\"darkred\" stroke-width=\"3\" fill=\"none\" />\n",
       "<path d=\"M725,25 L740,25\" stroke-width=\"3\" stroke=\"darkred\" stroke-linejoin=\"miter\" fill=\"none\" />\n",
       "<text x=\"750\" y=\"25\" font-size=\"6\" text-anchor=\"end\" dy=\"0em\">0</text>\n",
       "<path d=\"M725,75 L740,75\" stroke-width=\"3\" stroke=\"darkred\" stroke-linejoin=\"miter\" fill=\"none\" />\n",
       "<text x=\"750\" y=\"75\" font-size=\"6\" text-anchor=\"end\" dy=\"0em\">1</text>\n",
       "<path d=\"M725,125 L740,125\" stroke-width=\"3\" stroke=\"darkred\" stroke-linejoin=\"miter\" fill=\"none\" />\n",
       "<text x=\"750\" y=\"125\" font-size=\"6\" text-anchor=\"end\" dy=\"0em\">2</text>\n",
       "<path d=\"M725,175 L740,175\" stroke-width=\"3\" stroke=\"darkred\" stroke-linejoin=\"miter\" fill=\"none\" />\n",
       "<text x=\"750\" y=\"175\" font-size=\"6\" text-anchor=\"end\" dy=\"0em\">3</text>\n",
       "</svg>"
      ],
      "text/plain": [
       "<drawSvg.drawing.Drawing at 0x14b5401c0>"
      ]
     },
     "metadata": {},
     "output_type": "display_data"
    },
    {
     "name": "stdout",
     "output_type": "stream",
     "text": [
      "matching pattern pattern\n",
      "matching pattern pattern3\n",
      "matching pattern pattern4\n",
      "matching pattern pattern1\n",
      "matching pattern pattern\n",
      "matching pattern pattern3\n",
      "matching pattern pattern4\n"
     ]
    }
   ],
   "source": [
    "reverse = []\n",
    "direct=[]\n",
    "def draw_frame(a):\n",
    "    if isinstance(a, pcvl.Circuit):\n",
    "        d = pcvl.pdisplay(a, recursive=True, render_size=0.6)\n",
    "        reverse.insert(0, d)\n",
    "        direct.append(d)\n",
    "        return d\n",
    "    return a\n",
    "\n",
    "rules = [(pattern1, rewrite1, \"lightgreen\"), (pattern2, rewrite2, \"lightblue\"),\n",
    "         (pattern3, rewrite3, \"pink\"), (pattern4, rewrite4, \"orange\")]\n",
    "\n",
    "with draw.animate_jupyter(draw_frame, delay=0.1) as anim:\n",
    "    anim.draw_frame(a)\n",
    "    while True:\n",
    "        found = False\n",
    "        for pattern, rewrite, color in rules:\n",
    "            start_pos = 0\n",
    "            while True:\n",
    "                print(\"matching pattern\", pattern._name)\n",
    "                matched = a.match(pattern, browse=True, pos=start_pos)\n",
    "                if matched is None:\n",
    "                    break\n",
    "                print(\"matching ok\", matched.v_map)\n",
    "                idx = a.isolate(list(matched.pos_map.keys()), color=color)\n",
    "                anim.draw_frame(a)\n",
    "                for k, v in matched.v_map.items():\n",
    "                    pattern[k].set_value(v)\n",
    "                v = pattern.compute_unitary(False)\n",
    "                print(\"optimizing rewrite\",rewrite._name)\n",
    "                res = optimize(rewrite, v, frobenius, sign=-1)\n",
    "                print(\"found params with distance\", res.fun)\n",
    "                subc = rewrite.copy()\n",
    "                found = True\n",
    "                a.replace(idx, subc, merge=False)\n",
    "                anim.draw_frame(a)\n",
    "                a.replace(idx, subc, merge=True)\n",
    "                pattern.reset_parameters()\n",
    "                rewrite.reset_parameters()\n",
    "                anim.draw_frame(a)\n",
    "                start_pos = idx\n",
    "        if not found:\n",
    "            break"
   ]
  },
  {
   "cell_type": "markdown",
   "id": "954dfac2",
   "metadata": {
    "pycharm": {
     "name": "#%% md\n"
    }
   },
   "source": [
    "This representation is exactly the normal form that we wanted to obtain !"
   ]
  },
  {
   "cell_type": "markdown",
   "source": [
    "## Reference\n",
    "\n",
    "A. Clément, N. Heurtel, S. Mansfield, S. Perdrix, B. Valiron. LOv-Calculus: A Graphical Language for Linear Optical Quantum Circuits, [arXiv:2204.11787](https://arxiv.org/abs/2204.11787) (2022)."
   ],
   "metadata": {
    "collapsed": false,
    "pycharm": {
     "name": "#%% md\n"
    }
   }
  }
 ],
 "metadata": {
  "kernelspec": {
   "display_name": "Python 3 (ipykernel)",
   "language": "python",
   "name": "python3"
  },
  "language_info": {
   "codemirror_mode": {
    "name": "ipython",
    "version": 3
   },
   "file_extension": ".py",
   "mimetype": "text/x-python",
   "name": "python",
   "nbconvert_exporter": "python",
   "pygments_lexer": "ipython3",
   "version": "3.10.4"
  }
 },
 "nbformat": 4,
 "nbformat_minor": 5
}