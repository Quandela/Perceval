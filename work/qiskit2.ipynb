{
 "cells": [
  {
   "cell_type": "code",
   "execution_count": null,
   "id": "a54b3fc5",
   "metadata": {
    "pycharm": {
     "is_executing": true
    }
   },
   "outputs": [],
   "source": [
    "import perceval as pcvl\n",
    "import perceval.lib.phys as phys\n",
    "\n",
    "import numpy as np"
   ]
  },
  {
   "cell_type": "code",
   "execution_count": 2,
   "id": "f20df86c",
   "metadata": {},
   "outputs": [
    {
     "data": {
      "text/plain": [
       "True"
      ]
     },
     "execution_count": 2,
     "metadata": {},
     "output_type": "execute_result"
    }
   ],
   "source": [
    "pcvl.register_plugin(\"perceval_internal\", silent=True)"
   ]
  },
  {
   "cell_type": "code",
   "execution_count": 3,
   "id": "60bff03e",
   "metadata": {},
   "outputs": [],
   "source": [
    "from qiskit import QuantumCircuit"
   ]
  },
  {
   "cell_type": "code",
   "execution_count": 4,
   "id": "7f51ef89",
   "metadata": {},
   "outputs": [],
   "source": [
    "from perceval.converters import perceval_qiskit"
   ]
  },
  {
   "cell_type": "code",
   "execution_count": 5,
   "id": "3d43a371",
   "metadata": {},
   "outputs": [
    {
     "data": {
      "text/html": [
       "<pre style=\"word-wrap: normal;white-space: pre;background: #fff0;line-height: 1.1;font-family: &quot;Courier New&quot;,Courier,monospace\">     ┌───┐      ░    ┌───┐         ░                    \n",
       "q_0: ┤ H ├──■───░────┤ S ├─────────░─────────────────■──\n",
       "     └───┘┌─┴─┐ ░ ┌──┴───┴──┐      ░                 │  \n",
       "q_1: ─────┤ X ├─░─┤ Ry(π/4) ├──■───░──X──────────────┼──\n",
       "          └───┘ ░ └─────────┘┌─┴─┐ ░  │ ┌─────────┐┌─┴─┐\n",
       "q_2: ───────────░────────────┤ X ├─░──X─┤ Rz(π/4) ├┤ X ├\n",
       "                ░            └───┘ ░    └─────────┘└───┘</pre>"
      ],
      "text/plain": [
       "     ┌───┐      ░    ┌───┐         ░                    \n",
       "q_0: ┤ H ├──■───░────┤ S ├─────────░─────────────────■──\n",
       "     └───┘┌─┴─┐ ░ ┌──┴───┴──┐      ░                 │  \n",
       "q_1: ─────┤ X ├─░─┤ Ry(π/4) ├──■───░──X──────────────┼──\n",
       "          └───┘ ░ └─────────┘┌─┴─┐ ░  │ ┌─────────┐┌─┴─┐\n",
       "q_2: ───────────░────────────┤ X ├─░──X─┤ Rz(π/4) ├┤ X ├\n",
       "                ░            └───┘ ░    └─────────┘└───┘"
      ]
     },
     "execution_count": 5,
     "metadata": {},
     "output_type": "execute_result"
    }
   ],
   "source": [
    "circuit = QuantumCircuit(3)\n",
    "circuit.h(0)\n",
    "circuit.cx(0, 1)\n",
    "circuit.barrier()\n",
    "circuit.s(0)\n",
    "circuit.ry(np.pi/4, 1)\n",
    "circuit.cx(1, 2)\n",
    "circuit.barrier()\n",
    "circuit.swap(2, 1)\n",
    "circuit.rz(np.pi/4, 2)\n",
    "circuit.cx(0, 2)\n",
    "circuit.draw()"
   ]
  },
  {
   "cell_type": "code",
   "execution_count": 6,
   "id": "9b152bdd",
   "metadata": {
    "pycharm": {
     "name": "#%%\n"
    }
   },
   "outputs": [
    {
     "data": {
      "text/html": [
       "<pre style=\"word-wrap: normal;white-space: pre;background: #fff0;line-height: 1.1;font-family: &quot;Courier New&quot;,Courier,monospace\">     ┌───┐     \n",
       "q_0: ┤ H ├──■──\n",
       "     └───┘┌─┴─┐\n",
       "q_1: ─────┤ X ├\n",
       "          └───┘</pre>"
      ],
      "text/plain": [
       "     ┌───┐     \n",
       "q_0: ┤ H ├──■──\n",
       "     └───┘┌─┴─┐\n",
       "q_1: ─────┤ X ├\n",
       "          └───┘"
      ]
     },
     "execution_count": 6,
     "metadata": {},
     "output_type": "execute_result"
    }
   ],
   "source": [
    "circuit = QuantumCircuit(2)\n",
    "circuit.h(0)\n",
    "circuit.cx(0, 1)\n",
    "circuit.draw()"
   ]
  },
  {
   "cell_type": "code",
   "execution_count": 7,
   "id": "2705cac3",
   "metadata": {},
   "outputs": [
    {
     "name": "stdout",
     "output_type": "stream",
     "text": [
      "0 [2, 3, 0, 1, 6, 7, 4, 5] [2, 3, 0, 1, 6, 7, 4, 5]\n"
     ]
    },
    {
     "ename": "AttributeError",
     "evalue": "'PredefinedCircuit' object has no attribute 'm'",
     "output_type": "error",
     "traceback": [
      "\u001B[0;31m---------------------------------------------------------------------------\u001B[0m",
      "\u001B[0;31mAttributeError\u001B[0m                            Traceback (most recent call last)",
      "Input \u001B[0;32mIn [7]\u001B[0m, in \u001B[0;36m<cell line: 1>\u001B[0;34m()\u001B[0m\n\u001B[0;32m----> 1\u001B[0m pc\u001B[38;5;241m=\u001B[39m\u001B[43mperceval_qiskit\u001B[49m\u001B[38;5;241;43m.\u001B[39;49m\u001B[43mto_perceval\u001B[49m\u001B[43m(\u001B[49m\u001B[43mcircuit\u001B[49m\u001B[43m,\u001B[49m\u001B[43m \u001B[49m\u001B[43mphys\u001B[49m\u001B[43m,\u001B[49m\u001B[43m \u001B[49m\u001B[43mheralded\u001B[49m\u001B[38;5;241;43m=\u001B[39;49m\u001B[38;5;28;43;01mTrue\u001B[39;49;00m\u001B[43m)\u001B[49m\n\u001B[1;32m      2\u001B[0m pcvl\u001B[38;5;241m.\u001B[39mpdisplay(pc, recursive\u001B[38;5;241m=\u001B[39m\u001B[38;5;28;01mTrue\u001B[39;00m, render_size\u001B[38;5;241m=\u001B[39m\u001B[38;5;241m0.5\u001B[39m)\n",
      "File \u001B[0;32m~/DEV/Perceval/perceval/converters/perceval_qiskit.py:137\u001B[0m, in \u001B[0;36mto_perceval\u001B[0;34m(qc, library, heralded)\u001B[0m\n\u001B[1;32m    135\u001B[0m             \u001B[38;5;28mprint\u001B[39m(c_idx, perm, inv_perm)\n\u001B[1;32m    136\u001B[0m             pc\u001B[38;5;241m.\u001B[39madd(c_idx, library\u001B[38;5;241m.\u001B[39mPERM(perm))\n\u001B[0;32m--> 137\u001B[0m             \u001B[43mpc\u001B[49m\u001B[38;5;241;43m.\u001B[39;49m\u001B[43madd\u001B[49m\u001B[43m(\u001B[49m\u001B[43mc_idx\u001B[49m\u001B[43m,\u001B[49m\u001B[43m \u001B[49m\u001B[43mcnot_component\u001B[49m\u001B[43m,\u001B[49m\u001B[43m \u001B[49m\u001B[43mmerge\u001B[49m\u001B[38;5;241;43m=\u001B[39;49m\u001B[38;5;28;43;01mFalse\u001B[39;49;00m\u001B[43m)\u001B[49m\n\u001B[1;32m    138\u001B[0m             pc\u001B[38;5;241m.\u001B[39madd(c_idx, library\u001B[38;5;241m.\u001B[39mPERM(inv_perm))\n\u001B[1;32m    140\u001B[0m \u001B[38;5;28;01mreturn\u001B[39;00m Processor(sources, pc)\n",
      "File \u001B[0;32m~/DEV/Perceval/perceval/components/circuit.py:208\u001B[0m, in \u001B[0;36mACircuit.add\u001B[0;34m(self, port_range, component, merge)\u001B[0m\n\u001B[1;32m    198\u001B[0m \u001B[38;5;124mr\u001B[39m\u001B[38;5;124;03m\"\"\"Add a component in a circuit\u001B[39;00m\n\u001B[1;32m    199\u001B[0m \n\u001B[1;32m    200\u001B[0m \u001B[38;5;124;03m:param port_range: the port range as a tuple of consecutive ports, or the initial port where to add the\u001B[39;00m\n\u001B[0;32m   (...)\u001B[0m\n\u001B[1;32m    205\u001B[0m \u001B[38;5;124;03m:raise: ``AssertionError`` if parameters are not valid\u001B[39;00m\n\u001B[1;32m    206\u001B[0m \u001B[38;5;124;03m\"\"\"\u001B[39;00m\n\u001B[1;32m    207\u001B[0m \u001B[38;5;28;01mif\u001B[39;00m \u001B[38;5;28misinstance\u001B[39m(port_range, \u001B[38;5;28mint\u001B[39m):\n\u001B[0;32m--> 208\u001B[0m     port_range \u001B[38;5;241m=\u001B[39m \u001B[38;5;28mlist\u001B[39m([i \u001B[38;5;28;01mfor\u001B[39;00m i \u001B[38;5;129;01min\u001B[39;00m \u001B[38;5;28mrange\u001B[39m(port_range, port_range\u001B[38;5;241m+\u001B[39m\u001B[43mcomponent\u001B[49m\u001B[38;5;241;43m.\u001B[39;49m\u001B[43mm\u001B[49m)])\n\u001B[1;32m    209\u001B[0m \u001B[38;5;28;01massert\u001B[39;00m \u001B[38;5;28misinstance\u001B[39m(port_range, \u001B[38;5;28mlist\u001B[39m) \u001B[38;5;129;01mor\u001B[39;00m \u001B[38;5;28misinstance\u001B[39m(port_range, \u001B[38;5;28mtuple\u001B[39m), \u001B[38;5;124m\"\u001B[39m\u001B[38;5;124mrange (\u001B[39m\u001B[38;5;132;01m%s\u001B[39;00m\u001B[38;5;124m) must be a list\u001B[39m\u001B[38;5;124m\"\u001B[39m\n\u001B[1;32m    210\u001B[0m \u001B[38;5;28;01mif\u001B[39;00m \u001B[38;5;129;01mnot\u001B[39;00m \u001B[38;5;28misinstance\u001B[39m(\u001B[38;5;28mself\u001B[39m, Circuit):\n",
      "\u001B[0;31mAttributeError\u001B[0m: 'PredefinedCircuit' object has no attribute 'm'"
     ]
    }
   ],
   "source": [
    "pc=perceval_qiskit.to_perceval(circuit, phys, heralded=True)\n",
    "pcvl.pdisplay(pc, recursive=True, render_size=0.5)"
   ]
  },
  {
   "cell_type": "code",
   "execution_count": null,
   "id": "ecd9f058",
   "metadata": {
    "scrolled": true
   },
   "outputs": [],
   "source": [
    "u=pc.compute_unitary(use_symbolic=False)"
   ]
  },
  {
   "cell_type": "code",
   "execution_count": null,
   "id": "699972e0",
   "metadata": {},
   "outputs": [],
   "source": [
    "ub = (pcvl.Circuit(2)\n",
    "      // (0, symb.PS(phi=pcvl.Parameter(\"φ_a\")))\n",
    "      // symb.BS(theta=pcvl.Parameter(\"theta\")))\n",
    "\n",
    "pc_norm = pcvl.Circuit.decomposition(u, ub, shape=\"rectangle\")\n",
    "pcvl.pdisplay(pc_norm, compact=True, render_size=0.8)\n"
   ]
  },
  {
   "cell_type": "code",
   "execution_count": null,
   "id": "3e33ae48",
   "metadata": {},
   "outputs": [],
   "source": []
  }
 ],
 "metadata": {
  "kernelspec": {
   "display_name": "Python 3 (ipykernel)",
   "language": "python",
   "name": "python3"
  },
  "language_info": {
   "codemirror_mode": {
    "name": "ipython",
    "version": 3
   },
   "file_extension": ".py",
   "mimetype": "text/x-python",
   "name": "python",
   "nbconvert_exporter": "python",
   "pygments_lexer": "ipython3",
   "version": "3.10.4"
  }
 },
 "nbformat": 4,
 "nbformat_minor": 5
}
